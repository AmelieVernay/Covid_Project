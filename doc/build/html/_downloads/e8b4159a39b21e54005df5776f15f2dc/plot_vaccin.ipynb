{
  "cells": [
    {
      "cell_type": "code",
      "execution_count": null,
      "metadata": {
        "collapsed": false
      },
      "outputs": [],
      "source": [
        "%matplotlib inline"
      ]
    },
    {
      "cell_type": "markdown",
      "metadata": {},
      "source": [
        "\n# What about vaccines?\n"
      ]
    },
    {
      "cell_type": "markdown",
      "metadata": {},
      "source": [
        "Vaccin types\n ------------\n The commands below allow you to learn more about the evolution of\n the number of vaccin doses in stock per type, through time.\n The resulting graph is interactive:\n\t* you can pass your mouse on the lines to get more information\n \t* you can select the lines you want to keep by clicking on the legend\n\t* you can zoom on a time zone by clicking and hovering your mouse on it.\n You can then go back to default view by double-clicking anywhere.\n\n"
      ]
    },
    {
      "cell_type": "code",
      "execution_count": null,
      "metadata": {
        "collapsed": false
      },
      "outputs": [],
      "source": [
        "from vizcovidfr.line_charts import line_charts\nline_charts.vactypedoses(vaccine_type='All vaccines', color_pal='teal',\n                         color_pal2='goldenrod', color_pal3='maroon',\n                         font_size=16, font_family='Franklin Gothic Medium',\n                         font_color='black', bgcolor='bisque',\n                         template='seaborn')"
      ]
    },
    {
      "cell_type": "markdown",
      "metadata": {},
      "source": [
        "**NB** The graph might not render correctly in the gallery... \nWe are doing our best to fix this.\nYou can simply copy-paste the code block or download the source code\nto try by yourself. It should work or your side.\n\n+--------------+\n|              |\n|  |vaccines|  | \n|              |\n+--------------+\n\n\n.. |vaccines| image:: ../../../vizcovidfr_transfer_map.png\n\n\n"
      ]
    }
  ],
  "metadata": {
    "kernelspec": {
      "display_name": "Python 3",
      "language": "python",
      "name": "python3"
    },
    "language_info": {
      "codemirror_mode": {
        "name": "ipython",
        "version": 3
      },
      "file_extension": ".py",
      "mimetype": "text/x-python",
      "name": "python",
      "nbconvert_exporter": "python",
      "pygments_lexer": "ipython3",
      "version": "3.8.5"
    }
  },
  "nbformat": 4,
  "nbformat_minor": 0
}