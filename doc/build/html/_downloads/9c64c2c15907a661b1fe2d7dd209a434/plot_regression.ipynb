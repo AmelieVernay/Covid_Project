{
  "cells": [
    {
      "cell_type": "code",
      "execution_count": null,
      "metadata": {
        "collapsed": false
      },
      "outputs": [],
      "source": [
        "%matplotlib inline"
      ]
    },
    {
      "cell_type": "markdown",
      "metadata": {},
      "source": [
        "\n# Polynomial regression\n"
      ]
    },
    {
      "cell_type": "markdown",
      "metadata": {},
      "source": [
        "One way to visualize the evolution of a given epidemistic criterion\nas weel as its trend, is to use **vizcovidfr's poly_fit** function,\nwhich displays the scatter plot of the evolution of the given variable\nin the given region with a polynomial regression. The\npolynomial degree is chosen by minimizing the mean squared error.\nLet's take a look at the situation in hospital care of our overseas\nfriends, in Martinique.\n\n"
      ]
    },
    {
      "cell_type": "code",
      "execution_count": null,
      "metadata": {
        "collapsed": false
      },
      "outputs": [],
      "source": [
        "from vizcovidfr.regression import regression\nregression.poly_fit(2, 2)"
      ]
    },
    {
      "cell_type": "markdown",
      "metadata": {},
      "source": [
        "## To go further\nIf you're interested in knowing more about the goodness-of-fit\nof the above model, you can try to use the **R2** function with the\nsame parameters as before, which will give you the coefficient of\ndetermination of the model, written $R^2$.\nIn this example, it would be:\n\n"
      ]
    },
    {
      "cell_type": "code",
      "execution_count": null,
      "metadata": {
        "collapsed": false
      },
      "outputs": [],
      "source": [
        "regression.R2(2, 2)"
      ]
    }
  ],
  "metadata": {
    "kernelspec": {
      "display_name": "Python 3",
      "language": "python",
      "name": "python3"
    },
    "language_info": {
      "codemirror_mode": {
        "name": "ipython",
        "version": 3
      },
      "file_extension": ".py",
      "mimetype": "text/x-python",
      "name": "python",
      "nbconvert_exporter": "python",
      "pygments_lexer": "ipython3",
      "version": "3.8.5"
    }
  },
  "nbformat": 4,
  "nbformat_minor": 0
}