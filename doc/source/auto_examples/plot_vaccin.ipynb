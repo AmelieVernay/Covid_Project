{
  "cells": [
    {
      "cell_type": "code",
      "execution_count": null,
      "metadata": {
        "collapsed": false
      },
      "outputs": [],
      "source": [
        "%matplotlib inline"
      ]
    },
    {
      "cell_type": "markdown",
      "metadata": {},
      "source": [
        "\n# What about vaccines?\n"
      ]
    },
    {
      "cell_type": "markdown",
      "metadata": {},
      "source": [
        "## Vaccin types\nThe commands below allow you to learn more about the evolution of\nthe number of vaccin doses in stock per type, through time.\nThe resulting graph is interactive:\n  * you can pass your mouse on the lines to get more information\n  * you can select the lines you want to keep by clicking on the legend\n  * you can zoom on a time zone by clicking and hovering your mouse on it.\n    You can then go back to default view by double-clicking anywhere.\n\n"
      ]
    },
    {
      "cell_type": "code",
      "execution_count": null,
      "metadata": {
        "collapsed": false
      },
      "outputs": [],
      "source": [
        "from vizcovidfr.line_charts import line_charts\nline_charts.vactypedoses(vaccine_type='All vaccines', color_pal='teal',\n                         color_pal2='goldenrod', color_pal3='maroon',\n                         font_size=16, font_family='Franklin Gothic Medium',\n                         font_color='black', bgcolor='bisque',\n                         template='seaborn')"
      ]
    }
  ],
  "metadata": {
    "kernelspec": {
      "display_name": "Python 3",
      "language": "python",
      "name": "python3"
    },
    "language_info": {
      "codemirror_mode": {
        "name": "ipython",
        "version": 3
      },
      "file_extension": ".py",
      "mimetype": "text/x-python",
      "name": "python",
      "nbconvert_exporter": "python",
      "pygments_lexer": "ipython3",
      "version": "3.8.5"
    }
  },
  "nbformat": 4,
  "nbformat_minor": 0
}