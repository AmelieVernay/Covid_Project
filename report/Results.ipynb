{
 "metadata": {
  "language_info": {
   "codemirror_mode": {
    "name": "ipython",
    "version": 3
   },
   "file_extension": ".py",
   "mimetype": "text/x-python",
   "name": "python",
   "nbconvert_exporter": "python",
   "pygments_lexer": "ipython3",
   "version": "3.8.5"
  },
  "orig_nbformat": 2,
  "kernelspec": {
   "name": "python385jvsc74a57bd0195583c956abd420e68ba4a14586b2731d74ef14f8995274d4897293cef6d51e",
   "display_name": "Python 3.8.5 64-bit (conda)"
  }
 },
 "nbformat": 4,
 "nbformat_minor": 2,
 "cells": [
  {
   "source": [
    "# Report"
   ],
   "cell_type": "markdown",
   "metadata": {}
  },
  {
   "source": [
    "For the **vizcovidfr** package, our first goal was to provide various functions to the users which would have allowed them to visualize covid-19 data in France. \n",
    "The data we used is updated almost every day, depending on the dataset. Therefore, **vizcovidfr**'s functions enable to get information on the very last days before you use them. \n",
    "Here is one example for every single function we created, and for more information, you can take a look at our documentation!"
   ],
   "cell_type": "markdown",
   "metadata": {}
  },
  {
   "cell_type": "code",
   "execution_count": 6,
   "metadata": {},
   "outputs": [
    {
     "output_type": "stream",
     "name": "stdout",
     "text": [
      "Downloading data from https://static.data.gouv.fr/resources/donnees-hospitalieres-relatives-a-lepidemie-de-covid-19/20210424-190508/donnees-hospitalieres-classe-age-covid19-2021-04-24-19h05.csv (3.2 MB)\n",
      "\n",
      "file_sizes: 100%|██████████████████████████| 3.32M/3.32M [00:01<00:00, 2.75MB/s]\n",
      "Successfully downloaded file to C:\\Users\\quenf\\vizcovidfr\\vizcovidfr\\loads\\..\\data\\./classe_age.csv\n"
     ]
    }
   ],
   "source": [
    "# requirements\n",
    "from vizcovidfr.maps import maps\n",
    "from vizcovidfr.sparse import sparse\n",
    "from vizcovidfr.regression import regression\n",
    "from vizcovidfr.line_charts import line_charts\n",
    "from vizcovidfr.barplots import barplots\n",
    "from vizcovidfr.pie_charts import pie_chart\n",
    "from vizcovidfr.prediction import prediction\n",
    "from vizcovidfr.heatmaps import heatmap"
   ]
  },
  {
   "source": [
    "## Maps\n",
    "\n",
    "We created four functions generating maps. The results are html files, so they cannot be shown here.\n",
    "To visualize them, take a look at `vizcovidfr_files` storaged in the same directory `report`."
   ],
   "cell_type": "markdown",
   "metadata": {}
  },
  {
   "source": [
    "- *viz2Dmap*:"
   ],
   "cell_type": "markdown",
   "metadata": {}
  },
  {
   "cell_type": "code",
   "execution_count": 8,
   "metadata": {},
   "outputs": [
    {
     "output_type": "stream",
     "name": "stdout",
     "text": [
      "Downloading data from https://raw.githubusercontent.com/opencovid19-fr/data/master/dist/chiffres-cles.csv (6.5 MB)\n",
      "\n",
      "file_sizes: 100%|██████████████████████████| 6.79M/6.79M [00:01<00:00, 3.48MB/s]\n",
      "Successfully downloaded file to C:\\Users\\quenf\\vizcovidfr\\vizcovidfr\\loads\\..\\data\\chiffres-cles.csv\n",
      "C:\\Users\\quenf\\anaconda3\\lib\\site-packages\\folium\\folium.py:409: FutureWarning: The choropleth  method has been deprecated. Instead use the new Choropleth class, which has the same arguments. See the example notebook 'GeoJSON_and_choropleth' for how to do this.\n",
      "  warnings.warn(\n",
      "\n",
      "That's it! \n",
      "Covid2Dmap.html has been successfully saved in vizcovidfr_files! \n",
      "You can go ahead and open it with your favorite web browser!\n",
      "Time to execute: 47.09594 s.\n"
     ]
    }
   ],
   "source": [
    "#map visualization\n",
    "maps.viz2Dmap(file_path='')"
   ]
  },
  {
   "source": [
    "- *viz3Dmap*:"
   ],
   "cell_type": "markdown",
   "metadata": {}
  },
  {
   "cell_type": "code",
   "execution_count": 38,
   "metadata": {},
   "outputs": [
    {
     "output_type": "stream",
     "name": "stdout",
     "text": [
      "Downloading data from https://raw.githubusercontent.com/opencovid19-fr/data/master/dist/chiffres-cles.csv (6.5 MB)\n",
      "\n",
      "file_sizes: 100%|██████████████████████████| 6.77M/6.77M [00:01<00:00, 3.53MB/s]\n",
      "Successfully downloaded file to C:\\Users\\quenf\\vizcovidfr\\vizcovidfr\\loads\\..\\data\\chiffres-cles.csv\n",
      "\n",
      "That's it! \n",
      "Covid3Dmap.html has been successfully saved in vizcovidfr_files! \n",
      "You can go ahead and open it with your favorite web browser!\n",
      "Time to execute: 49.36148 s.\n"
     ]
    }
   ],
   "source": [
    "maps.viz3Dmap(file_path='')"
   ]
  },
  {
   "source": [
    "- *transfer_map*:"
   ],
   "cell_type": "markdown",
   "metadata": {}
  },
  {
   "cell_type": "code",
   "execution_count": 39,
   "metadata": {},
   "outputs": [
    {
     "output_type": "stream",
     "name": "stdout",
     "text": [
      "Downloading data from https://static.data.gouv.fr/resources/donnees-relatives-aux-transferts-de-patients-atteints-de-covid-19/20200424-183902/transferts-patients-covid19.csv (2 kB)\n",
      "\n",
      "file_sizes: 100%|███████████████████████████| 1.79k/1.79k [00:00<00:00, 358kB/s]\n",
      "Successfully downloaded file to C:\\Users\\quenf\\vizcovidfr\\vizcovidfr\\loads\\..\\data\\transfer.csv\n",
      "\n",
      "That's it! \n",
      "Covid_transfer_map.html has been successfully saved in vizcovidfr_files! \n",
      "You can go ahead and open it with your favorite web browser!\n",
      "Time to execute: 4.15731 s.\n"
     ]
    }
   ],
   "source": [
    "maps.transfer_map(file_path='').show"
   ]
  },
  {
   "source": [
    "- *vacmap*:"
   ],
   "cell_type": "markdown",
   "metadata": {}
  },
  {
   "cell_type": "code",
   "execution_count": 3,
   "metadata": {},
   "outputs": [
    {
     "output_type": "stream",
     "name": "stdout",
     "text": [
      "Downloading data from https://public.opendatasoft.com/explore/dataset/covid-19-france-vaccinations-age-sexe-dep/download/?format=csv&disjunctive.variable_label=true&refine.variable=Par+tranche+d%E2%80%99%C3%A2ge&refine.date=2021&timezone=Europe/Berlin&lang=fr&use_labels_for_header=true&csv_separator=%3B (1 byte)\n",
      "\n",
      "file_sizes: 12.0MB [01:11, 169kB/s]\n",
      "Successfully downloaded file to C:\\Users\\quenf\\vizcovidfr\\vizcovidfr\\loads\\..\\data\\./covid-19-france-vaccinations-age-dep.csv\n",
      "\n",
      "That's it! \n",
      "vacmap.html has been successfully saved in vizcovidfr_files! \n",
      "You can go ahead and open it with your favorite web browser!\n",
      "Time to execute: 80.39246 s.\n",
      "c:\\users\\quenf\\vizcovidfr\\vizcovidfr\\maps\\maps.py:719: FutureWarning:\n",
      "\n",
      "Indexing with multiple keys (implicitly converted to a tuple of keys) will be deprecated, use a list instead.\n",
      "\n"
     ]
    }
   ],
   "source": [
    "maps.vacmap(file_path='')"
   ]
  },
  {
   "source": [
    "## Line charts\n",
    "\n",
    "We made three line chart functions, two of them are specific to the vaccine storage in France (and interactive) and the last one *keytimeseries* uses many other variables of interest such as deaths and hospitalizations."
   ],
   "cell_type": "markdown",
   "metadata": {}
  },
  {
   "source": [
    "- *vactypedoses*:"
   ],
   "cell_type": "markdown",
   "metadata": {}
  },
  {
   "cell_type": "code",
   "execution_count": 7,
   "metadata": {},
   "outputs": [
    {
     "output_type": "stream",
     "name": "stdout",
     "text": [
      "Downloading data from https://static.data.gouv.fr/resources/donnees-relatives-aux-stocks-des-doses-de-vaccins-contre-la-covid-19/20210423-172029/stocks-es-national.csv (2 kB)\n",
      "\n",
      "file_sizes: 100%|███████████████████████████| 1.65k/1.65k [00:00<00:00, 281kB/s]\n",
      "Successfully downloaded file to C:\\Users\\quenf\\vizcovidfr\\vizcovidfr\\loads\\..\\data\\./stocks-es-national.csv\n",
      "Time to execute: 0.62664 s.\n"
     ]
    },
    {
     "output_type": "display_data",
     "data": {
      "application/vnd.plotly.v1+json": {
       "config": {
        "plotlyServerURL": "https://plot.ly"
       },
       "data": [
        {
         "legendgroup": "Pfizer",
         "line": {
          "color": "gold",
          "dash": "solid"
         },
         "mode": "markers+lines",
         "name": "Pfizer",
         "orientation": "v",
         "showlegend": true,
         "type": "scatter",
         "x": [
          "2021-01-22",
          "2021-01-24",
          "2021-01-31",
          "2021-02-12",
          "2021-02-17",
          "2021-02-26",
          "2021-03-08",
          "2021-03-19",
          "2021-03-26",
          "2021-03-31",
          "2021-04-02",
          "2021-04-07",
          "2021-04-13",
          "2021-04-15",
          "2021-04-20",
          "2021-04-23"
         ],
         "xaxis": "x",
         "y": [
          403615,
          459036,
          451674,
          416616,
          416616,
          635316,
          594474,
          664548,
          944430,
          752934,
          935742,
          1216596,
          962874,
          1324674,
          1070508,
          1434480
         ],
         "yaxis": "y"
        },
        {
         "legendgroup": "Moderna",
         "line": {
          "color": "purple",
          "dash": "solid"
         },
         "mode": "markers+lines",
         "name": "Moderna",
         "orientation": "v",
         "showlegend": true,
         "type": "scatter",
         "x": [
          "2021-01-22",
          "2021-01-24",
          "2021-01-31",
          "2021-02-12",
          "2021-02-17",
          "2021-02-26",
          "2021-03-08",
          "2021-03-19",
          "2021-03-26",
          "2021-03-31",
          "2021-04-02",
          "2021-04-07",
          "2021-04-13",
          "2021-04-15",
          "2021-04-20",
          "2021-04-23"
         ],
         "xaxis": "x",
         "y": [
          15630,
          13650,
          41280,
          128000,
          128000,
          62050,
          226960,
          307790,
          168340,
          215170,
          429160,
          390420,
          509850,
          582480,
          432030,
          314350
         ],
         "yaxis": "y"
        },
        {
         "legendgroup": "AstraZeneca",
         "line": {
          "color": "aquamarine",
          "dash": "solid"
         },
         "mode": "markers+lines",
         "name": "AstraZeneca",
         "orientation": "v",
         "showlegend": true,
         "type": "scatter",
         "x": [
          "2021-02-12",
          "2021-02-17",
          "2021-02-26",
          "2021-03-08",
          "2021-03-19",
          "2021-03-26",
          "2021-03-31",
          "2021-04-02",
          "2021-04-07",
          "2021-04-13",
          "2021-04-15",
          "2021-04-20",
          "2021-04-23"
         ],
         "xaxis": "x",
         "y": [
          315060,
          315060,
          227820,
          97790,
          36330,
          29800,
          30140,
          33810,
          29730,
          41590,
          57720,
          141970,
          127060
         ],
         "yaxis": "y"
        }
       ],
       "layout": {
        "hoverlabel": {
         "bgcolor": "white",
         "font": {
          "color": "cornflowerblue",
          "family": "Franklin Gothic Medium",
          "size": 15
         }
        },
        "hovermode": "x unified",
        "legend": {
         "title": {
          "text": "Vaccine type"
         },
         "tracegroupgap": 0
        },
        "template": {
         "data": {
          "bar": [
           {
            "error_x": {
             "color": "#f2f5fa"
            },
            "error_y": {
             "color": "#f2f5fa"
            },
            "marker": {
             "line": {
              "color": "rgb(17,17,17)",
              "width": 0.5
             }
            },
            "type": "bar"
           }
          ],
          "barpolar": [
           {
            "marker": {
             "line": {
              "color": "rgb(17,17,17)",
              "width": 0.5
             }
            },
            "type": "barpolar"
           }
          ],
          "carpet": [
           {
            "aaxis": {
             "endlinecolor": "#A2B1C6",
             "gridcolor": "#506784",
             "linecolor": "#506784",
             "minorgridcolor": "#506784",
             "startlinecolor": "#A2B1C6"
            },
            "baxis": {
             "endlinecolor": "#A2B1C6",
             "gridcolor": "#506784",
             "linecolor": "#506784",
             "minorgridcolor": "#506784",
             "startlinecolor": "#A2B1C6"
            },
            "type": "carpet"
           }
          ],
          "choropleth": [
           {
            "colorbar": {
             "outlinewidth": 0,
             "ticks": ""
            },
            "type": "choropleth"
           }
          ],
          "contour": [
           {
            "colorbar": {
             "outlinewidth": 0,
             "ticks": ""
            },
            "colorscale": [
             [
              0,
              "#0d0887"
             ],
             [
              0.1111111111111111,
              "#46039f"
             ],
             [
              0.2222222222222222,
              "#7201a8"
             ],
             [
              0.3333333333333333,
              "#9c179e"
             ],
             [
              0.4444444444444444,
              "#bd3786"
             ],
             [
              0.5555555555555556,
              "#d8576b"
             ],
             [
              0.6666666666666666,
              "#ed7953"
             ],
             [
              0.7777777777777778,
              "#fb9f3a"
             ],
             [
              0.8888888888888888,
              "#fdca26"
             ],
             [
              1,
              "#f0f921"
             ]
            ],
            "type": "contour"
           }
          ],
          "contourcarpet": [
           {
            "colorbar": {
             "outlinewidth": 0,
             "ticks": ""
            },
            "type": "contourcarpet"
           }
          ],
          "heatmap": [
           {
            "colorbar": {
             "outlinewidth": 0,
             "ticks": ""
            },
            "colorscale": [
             [
              0,
              "#0d0887"
             ],
             [
              0.1111111111111111,
              "#46039f"
             ],
             [
              0.2222222222222222,
              "#7201a8"
             ],
             [
              0.3333333333333333,
              "#9c179e"
             ],
             [
              0.4444444444444444,
              "#bd3786"
             ],
             [
              0.5555555555555556,
              "#d8576b"
             ],
             [
              0.6666666666666666,
              "#ed7953"
             ],
             [
              0.7777777777777778,
              "#fb9f3a"
             ],
             [
              0.8888888888888888,
              "#fdca26"
             ],
             [
              1,
              "#f0f921"
             ]
            ],
            "type": "heatmap"
           }
          ],
          "heatmapgl": [
           {
            "colorbar": {
             "outlinewidth": 0,
             "ticks": ""
            },
            "colorscale": [
             [
              0,
              "#0d0887"
             ],
             [
              0.1111111111111111,
              "#46039f"
             ],
             [
              0.2222222222222222,
              "#7201a8"
             ],
             [
              0.3333333333333333,
              "#9c179e"
             ],
             [
              0.4444444444444444,
              "#bd3786"
             ],
             [
              0.5555555555555556,
              "#d8576b"
             ],
             [
              0.6666666666666666,
              "#ed7953"
             ],
             [
              0.7777777777777778,
              "#fb9f3a"
             ],
             [
              0.8888888888888888,
              "#fdca26"
             ],
             [
              1,
              "#f0f921"
             ]
            ],
            "type": "heatmapgl"
           }
          ],
          "histogram": [
           {
            "marker": {
             "colorbar": {
              "outlinewidth": 0,
              "ticks": ""
             }
            },
            "type": "histogram"
           }
          ],
          "histogram2d": [
           {
            "colorbar": {
             "outlinewidth": 0,
             "ticks": ""
            },
            "colorscale": [
             [
              0,
              "#0d0887"
             ],
             [
              0.1111111111111111,
              "#46039f"
             ],
             [
              0.2222222222222222,
              "#7201a8"
             ],
             [
              0.3333333333333333,
              "#9c179e"
             ],
             [
              0.4444444444444444,
              "#bd3786"
             ],
             [
              0.5555555555555556,
              "#d8576b"
             ],
             [
              0.6666666666666666,
              "#ed7953"
             ],
             [
              0.7777777777777778,
              "#fb9f3a"
             ],
             [
              0.8888888888888888,
              "#fdca26"
             ],
             [
              1,
              "#f0f921"
             ]
            ],
            "type": "histogram2d"
           }
          ],
          "histogram2dcontour": [
           {
            "colorbar": {
             "outlinewidth": 0,
             "ticks": ""
            },
            "colorscale": [
             [
              0,
              "#0d0887"
             ],
             [
              0.1111111111111111,
              "#46039f"
             ],
             [
              0.2222222222222222,
              "#7201a8"
             ],
             [
              0.3333333333333333,
              "#9c179e"
             ],
             [
              0.4444444444444444,
              "#bd3786"
             ],
             [
              0.5555555555555556,
              "#d8576b"
             ],
             [
              0.6666666666666666,
              "#ed7953"
             ],
             [
              0.7777777777777778,
              "#fb9f3a"
             ],
             [
              0.8888888888888888,
              "#fdca26"
             ],
             [
              1,
              "#f0f921"
             ]
            ],
            "type": "histogram2dcontour"
           }
          ],
          "mesh3d": [
           {
            "colorbar": {
             "outlinewidth": 0,
             "ticks": ""
            },
            "type": "mesh3d"
           }
          ],
          "parcoords": [
           {
            "line": {
             "colorbar": {
              "outlinewidth": 0,
              "ticks": ""
             }
            },
            "type": "parcoords"
           }
          ],
          "pie": [
           {
            "automargin": true,
            "type": "pie"
           }
          ],
          "scatter": [
           {
            "marker": {
             "line": {
              "color": "#283442"
             }
            },
            "type": "scatter"
           }
          ],
          "scatter3d": [
           {
            "line": {
             "colorbar": {
              "outlinewidth": 0,
              "ticks": ""
             }
            },
            "marker": {
             "colorbar": {
              "outlinewidth": 0,
              "ticks": ""
             }
            },
            "type": "scatter3d"
           }
          ],
          "scattercarpet": [
           {
            "marker": {
             "colorbar": {
              "outlinewidth": 0,
              "ticks": ""
             }
            },
            "type": "scattercarpet"
           }
          ],
          "scattergeo": [
           {
            "marker": {
             "colorbar": {
              "outlinewidth": 0,
              "ticks": ""
             }
            },
            "type": "scattergeo"
           }
          ],
          "scattergl": [
           {
            "marker": {
             "line": {
              "color": "#283442"
             }
            },
            "type": "scattergl"
           }
          ],
          "scattermapbox": [
           {
            "marker": {
             "colorbar": {
              "outlinewidth": 0,
              "ticks": ""
             }
            },
            "type": "scattermapbox"
           }
          ],
          "scatterpolar": [
           {
            "marker": {
             "colorbar": {
              "outlinewidth": 0,
              "ticks": ""
             }
            },
            "type": "scatterpolar"
           }
          ],
          "scatterpolargl": [
           {
            "marker": {
             "colorbar": {
              "outlinewidth": 0,
              "ticks": ""
             }
            },
            "type": "scatterpolargl"
           }
          ],
          "scatterternary": [
           {
            "marker": {
             "colorbar": {
              "outlinewidth": 0,
              "ticks": ""
             }
            },
            "type": "scatterternary"
           }
          ],
          "surface": [
           {
            "colorbar": {
             "outlinewidth": 0,
             "ticks": ""
            },
            "colorscale": [
             [
              0,
              "#0d0887"
             ],
             [
              0.1111111111111111,
              "#46039f"
             ],
             [
              0.2222222222222222,
              "#7201a8"
             ],
             [
              0.3333333333333333,
              "#9c179e"
             ],
             [
              0.4444444444444444,
              "#bd3786"
             ],
             [
              0.5555555555555556,
              "#d8576b"
             ],
             [
              0.6666666666666666,
              "#ed7953"
             ],
             [
              0.7777777777777778,
              "#fb9f3a"
             ],
             [
              0.8888888888888888,
              "#fdca26"
             ],
             [
              1,
              "#f0f921"
             ]
            ],
            "type": "surface"
           }
          ],
          "table": [
           {
            "cells": {
             "fill": {
              "color": "#506784"
             },
             "line": {
              "color": "rgb(17,17,17)"
             }
            },
            "header": {
             "fill": {
              "color": "#2a3f5f"
             },
             "line": {
              "color": "rgb(17,17,17)"
             }
            },
            "type": "table"
           }
          ]
         },
         "layout": {
          "annotationdefaults": {
           "arrowcolor": "#f2f5fa",
           "arrowhead": 0,
           "arrowwidth": 1
          },
          "autotypenumbers": "strict",
          "coloraxis": {
           "colorbar": {
            "outlinewidth": 0,
            "ticks": ""
           }
          },
          "colorscale": {
           "diverging": [
            [
             0,
             "#8e0152"
            ],
            [
             0.1,
             "#c51b7d"
            ],
            [
             0.2,
             "#de77ae"
            ],
            [
             0.3,
             "#f1b6da"
            ],
            [
             0.4,
             "#fde0ef"
            ],
            [
             0.5,
             "#f7f7f7"
            ],
            [
             0.6,
             "#e6f5d0"
            ],
            [
             0.7,
             "#b8e186"
            ],
            [
             0.8,
             "#7fbc41"
            ],
            [
             0.9,
             "#4d9221"
            ],
            [
             1,
             "#276419"
            ]
           ],
           "sequential": [
            [
             0,
             "#0d0887"
            ],
            [
             0.1111111111111111,
             "#46039f"
            ],
            [
             0.2222222222222222,
             "#7201a8"
            ],
            [
             0.3333333333333333,
             "#9c179e"
            ],
            [
             0.4444444444444444,
             "#bd3786"
            ],
            [
             0.5555555555555556,
             "#d8576b"
            ],
            [
             0.6666666666666666,
             "#ed7953"
            ],
            [
             0.7777777777777778,
             "#fb9f3a"
            ],
            [
             0.8888888888888888,
             "#fdca26"
            ],
            [
             1,
             "#f0f921"
            ]
           ],
           "sequentialminus": [
            [
             0,
             "#0d0887"
            ],
            [
             0.1111111111111111,
             "#46039f"
            ],
            [
             0.2222222222222222,
             "#7201a8"
            ],
            [
             0.3333333333333333,
             "#9c179e"
            ],
            [
             0.4444444444444444,
             "#bd3786"
            ],
            [
             0.5555555555555556,
             "#d8576b"
            ],
            [
             0.6666666666666666,
             "#ed7953"
            ],
            [
             0.7777777777777778,
             "#fb9f3a"
            ],
            [
             0.8888888888888888,
             "#fdca26"
            ],
            [
             1,
             "#f0f921"
            ]
           ]
          },
          "colorway": [
           "#636efa",
           "#EF553B",
           "#00cc96",
           "#ab63fa",
           "#FFA15A",
           "#19d3f3",
           "#FF6692",
           "#B6E880",
           "#FF97FF",
           "#FECB52"
          ],
          "font": {
           "color": "#f2f5fa"
          },
          "geo": {
           "bgcolor": "rgb(17,17,17)",
           "lakecolor": "rgb(17,17,17)",
           "landcolor": "rgb(17,17,17)",
           "showlakes": true,
           "showland": true,
           "subunitcolor": "#506784"
          },
          "hoverlabel": {
           "align": "left"
          },
          "hovermode": "closest",
          "mapbox": {
           "style": "dark"
          },
          "paper_bgcolor": "rgb(17,17,17)",
          "plot_bgcolor": "rgb(17,17,17)",
          "polar": {
           "angularaxis": {
            "gridcolor": "#506784",
            "linecolor": "#506784",
            "ticks": ""
           },
           "bgcolor": "rgb(17,17,17)",
           "radialaxis": {
            "gridcolor": "#506784",
            "linecolor": "#506784",
            "ticks": ""
           }
          },
          "scene": {
           "xaxis": {
            "backgroundcolor": "rgb(17,17,17)",
            "gridcolor": "#506784",
            "gridwidth": 2,
            "linecolor": "#506784",
            "showbackground": true,
            "ticks": "",
            "zerolinecolor": "#C8D4E3"
           },
           "yaxis": {
            "backgroundcolor": "rgb(17,17,17)",
            "gridcolor": "#506784",
            "gridwidth": 2,
            "linecolor": "#506784",
            "showbackground": true,
            "ticks": "",
            "zerolinecolor": "#C8D4E3"
           },
           "zaxis": {
            "backgroundcolor": "rgb(17,17,17)",
            "gridcolor": "#506784",
            "gridwidth": 2,
            "linecolor": "#506784",
            "showbackground": true,
            "ticks": "",
            "zerolinecolor": "#C8D4E3"
           }
          },
          "shapedefaults": {
           "line": {
            "color": "#f2f5fa"
           }
          },
          "sliderdefaults": {
           "bgcolor": "#C8D4E3",
           "bordercolor": "rgb(17,17,17)",
           "borderwidth": 1,
           "tickwidth": 0
          },
          "ternary": {
           "aaxis": {
            "gridcolor": "#506784",
            "linecolor": "#506784",
            "ticks": ""
           },
           "baxis": {
            "gridcolor": "#506784",
            "linecolor": "#506784",
            "ticks": ""
           },
           "bgcolor": "rgb(17,17,17)",
           "caxis": {
            "gridcolor": "#506784",
            "linecolor": "#506784",
            "ticks": ""
           }
          },
          "title": {
           "x": 0.05
          },
          "updatemenudefaults": {
           "bgcolor": "#506784",
           "borderwidth": 0
          },
          "xaxis": {
           "automargin": true,
           "gridcolor": "#283442",
           "linecolor": "#506784",
           "ticks": "",
           "title": {
            "standoff": 15
           },
           "zerolinecolor": "#283442",
           "zerolinewidth": 2
          },
          "yaxis": {
           "automargin": true,
           "gridcolor": "#283442",
           "linecolor": "#506784",
           "ticks": "",
           "title": {
            "standoff": 15
           },
           "zerolinecolor": "#283442",
           "zerolinewidth": 2
          }
         }
        },
        "title": {
         "text": "Evolution of vaccine storage in France"
        },
        "xaxis": {
         "anchor": "y",
         "domain": [
          0,
          1
         ],
         "title": {
          "text": "Date"
         }
        },
        "yaxis": {
         "anchor": "x",
         "domain": [
          0,
          1
         ],
         "title": {
          "text": "Number of doses"
         }
        }
       }
      }
     },
     "metadata": {}
    }
   ],
   "source": [
    "#Line charts\n",
    "line_charts.vactypedoses(color_pal='gold', color_pal2='purple', color_pal3='aquamarine', font_size=15, font_color='cornflowerblue', bgcolor='white')"
   ]
  },
  {
   "source": [
    "- *vactypedoses*:"
   ],
   "cell_type": "markdown",
   "metadata": {}
  },
  {
   "cell_type": "code",
   "execution_count": 6,
   "metadata": {},
   "outputs": [
    {
     "output_type": "stream",
     "name": "stdout",
     "text": [
      "Downloading data from https://static.data.gouv.fr/resources/donnees-relatives-aux-stocks-des-doses-de-vaccins-contre-la-covid-19/20210423-172029/stocks-es-national.csv (2 kB)\n",
      "\n",
      "file_sizes: 100%|███████████████████████████| 1.65k/1.65k [00:00<00:00, 548kB/s]\n",
      "Successfully downloaded file to C:\\Users\\quenf\\vizcovidfr\\vizcovidfr\\loads\\..\\data\\./stocks-es-national.csv\n",
      "Time to execute: 0.71370 s.\n",
      "c:\\users\\quenf\\vizcovidfr\\vizcovidfr\\line_charts\\line_charts.py:229: FutureWarning:\n",
      "\n",
      "Indexing with multiple keys (implicitly converted to a tuple of keys) will be deprecated, use a list instead.\n",
      "\n"
     ]
    },
    {
     "output_type": "display_data",
     "data": {
      "application/vnd.plotly.v1+json": {
       "config": {
        "plotlyServerURL": "https://plot.ly"
       },
       "data": [
        {
         "legendgroup": "",
         "line": {
          "color": "#636efa",
          "dash": "solid"
         },
         "mode": "markers+lines",
         "name": "",
         "orientation": "v",
         "showlegend": false,
         "type": "scatter",
         "x": [
          "2021-01-22",
          "2021-01-24",
          "2021-01-31",
          "2021-02-12",
          "2021-02-17",
          "2021-02-26",
          "2021-03-08",
          "2021-03-19",
          "2021-03-26",
          "2021-03-31",
          "2021-04-02",
          "2021-04-07",
          "2021-04-13",
          "2021-04-15",
          "2021-04-20",
          "2021-04-23"
         ],
         "xaxis": "x",
         "y": [
          419245,
          472686,
          492954,
          859676,
          859676,
          925186,
          919224,
          1008668,
          1142570,
          998244,
          1398712,
          1636746,
          1514314,
          1964874,
          1644508,
          1875890
         ],
         "yaxis": "y"
        }
       ],
       "layout": {
        "hoverlabel": {
         "bgcolor": "darkslategrey",
         "font": {
          "color": "white",
          "family": "Franklin Gothic Medium",
          "size": 16
         }
        },
        "hovermode": "x unified",
        "legend": {
         "tracegroupgap": 0
        },
        "template": {
         "data": {
          "bar": [
           {
            "error_x": {
             "color": "#f2f5fa"
            },
            "error_y": {
             "color": "#f2f5fa"
            },
            "marker": {
             "line": {
              "color": "rgb(17,17,17)",
              "width": 0.5
             }
            },
            "type": "bar"
           }
          ],
          "barpolar": [
           {
            "marker": {
             "line": {
              "color": "rgb(17,17,17)",
              "width": 0.5
             }
            },
            "type": "barpolar"
           }
          ],
          "carpet": [
           {
            "aaxis": {
             "endlinecolor": "#A2B1C6",
             "gridcolor": "#506784",
             "linecolor": "#506784",
             "minorgridcolor": "#506784",
             "startlinecolor": "#A2B1C6"
            },
            "baxis": {
             "endlinecolor": "#A2B1C6",
             "gridcolor": "#506784",
             "linecolor": "#506784",
             "minorgridcolor": "#506784",
             "startlinecolor": "#A2B1C6"
            },
            "type": "carpet"
           }
          ],
          "choropleth": [
           {
            "colorbar": {
             "outlinewidth": 0,
             "ticks": ""
            },
            "type": "choropleth"
           }
          ],
          "contour": [
           {
            "colorbar": {
             "outlinewidth": 0,
             "ticks": ""
            },
            "colorscale": [
             [
              0,
              "#0d0887"
             ],
             [
              0.1111111111111111,
              "#46039f"
             ],
             [
              0.2222222222222222,
              "#7201a8"
             ],
             [
              0.3333333333333333,
              "#9c179e"
             ],
             [
              0.4444444444444444,
              "#bd3786"
             ],
             [
              0.5555555555555556,
              "#d8576b"
             ],
             [
              0.6666666666666666,
              "#ed7953"
             ],
             [
              0.7777777777777778,
              "#fb9f3a"
             ],
             [
              0.8888888888888888,
              "#fdca26"
             ],
             [
              1,
              "#f0f921"
             ]
            ],
            "type": "contour"
           }
          ],
          "contourcarpet": [
           {
            "colorbar": {
             "outlinewidth": 0,
             "ticks": ""
            },
            "type": "contourcarpet"
           }
          ],
          "heatmap": [
           {
            "colorbar": {
             "outlinewidth": 0,
             "ticks": ""
            },
            "colorscale": [
             [
              0,
              "#0d0887"
             ],
             [
              0.1111111111111111,
              "#46039f"
             ],
             [
              0.2222222222222222,
              "#7201a8"
             ],
             [
              0.3333333333333333,
              "#9c179e"
             ],
             [
              0.4444444444444444,
              "#bd3786"
             ],
             [
              0.5555555555555556,
              "#d8576b"
             ],
             [
              0.6666666666666666,
              "#ed7953"
             ],
             [
              0.7777777777777778,
              "#fb9f3a"
             ],
             [
              0.8888888888888888,
              "#fdca26"
             ],
             [
              1,
              "#f0f921"
             ]
            ],
            "type": "heatmap"
           }
          ],
          "heatmapgl": [
           {
            "colorbar": {
             "outlinewidth": 0,
             "ticks": ""
            },
            "colorscale": [
             [
              0,
              "#0d0887"
             ],
             [
              0.1111111111111111,
              "#46039f"
             ],
             [
              0.2222222222222222,
              "#7201a8"
             ],
             [
              0.3333333333333333,
              "#9c179e"
             ],
             [
              0.4444444444444444,
              "#bd3786"
             ],
             [
              0.5555555555555556,
              "#d8576b"
             ],
             [
              0.6666666666666666,
              "#ed7953"
             ],
             [
              0.7777777777777778,
              "#fb9f3a"
             ],
             [
              0.8888888888888888,
              "#fdca26"
             ],
             [
              1,
              "#f0f921"
             ]
            ],
            "type": "heatmapgl"
           }
          ],
          "histogram": [
           {
            "marker": {
             "colorbar": {
              "outlinewidth": 0,
              "ticks": ""
             }
            },
            "type": "histogram"
           }
          ],
          "histogram2d": [
           {
            "colorbar": {
             "outlinewidth": 0,
             "ticks": ""
            },
            "colorscale": [
             [
              0,
              "#0d0887"
             ],
             [
              0.1111111111111111,
              "#46039f"
             ],
             [
              0.2222222222222222,
              "#7201a8"
             ],
             [
              0.3333333333333333,
              "#9c179e"
             ],
             [
              0.4444444444444444,
              "#bd3786"
             ],
             [
              0.5555555555555556,
              "#d8576b"
             ],
             [
              0.6666666666666666,
              "#ed7953"
             ],
             [
              0.7777777777777778,
              "#fb9f3a"
             ],
             [
              0.8888888888888888,
              "#fdca26"
             ],
             [
              1,
              "#f0f921"
             ]
            ],
            "type": "histogram2d"
           }
          ],
          "histogram2dcontour": [
           {
            "colorbar": {
             "outlinewidth": 0,
             "ticks": ""
            },
            "colorscale": [
             [
              0,
              "#0d0887"
             ],
             [
              0.1111111111111111,
              "#46039f"
             ],
             [
              0.2222222222222222,
              "#7201a8"
             ],
             [
              0.3333333333333333,
              "#9c179e"
             ],
             [
              0.4444444444444444,
              "#bd3786"
             ],
             [
              0.5555555555555556,
              "#d8576b"
             ],
             [
              0.6666666666666666,
              "#ed7953"
             ],
             [
              0.7777777777777778,
              "#fb9f3a"
             ],
             [
              0.8888888888888888,
              "#fdca26"
             ],
             [
              1,
              "#f0f921"
             ]
            ],
            "type": "histogram2dcontour"
           }
          ],
          "mesh3d": [
           {
            "colorbar": {
             "outlinewidth": 0,
             "ticks": ""
            },
            "type": "mesh3d"
           }
          ],
          "parcoords": [
           {
            "line": {
             "colorbar": {
              "outlinewidth": 0,
              "ticks": ""
             }
            },
            "type": "parcoords"
           }
          ],
          "pie": [
           {
            "automargin": true,
            "type": "pie"
           }
          ],
          "scatter": [
           {
            "marker": {
             "line": {
              "color": "#283442"
             }
            },
            "type": "scatter"
           }
          ],
          "scatter3d": [
           {
            "line": {
             "colorbar": {
              "outlinewidth": 0,
              "ticks": ""
             }
            },
            "marker": {
             "colorbar": {
              "outlinewidth": 0,
              "ticks": ""
             }
            },
            "type": "scatter3d"
           }
          ],
          "scattercarpet": [
           {
            "marker": {
             "colorbar": {
              "outlinewidth": 0,
              "ticks": ""
             }
            },
            "type": "scattercarpet"
           }
          ],
          "scattergeo": [
           {
            "marker": {
             "colorbar": {
              "outlinewidth": 0,
              "ticks": ""
             }
            },
            "type": "scattergeo"
           }
          ],
          "scattergl": [
           {
            "marker": {
             "line": {
              "color": "#283442"
             }
            },
            "type": "scattergl"
           }
          ],
          "scattermapbox": [
           {
            "marker": {
             "colorbar": {
              "outlinewidth": 0,
              "ticks": ""
             }
            },
            "type": "scattermapbox"
           }
          ],
          "scatterpolar": [
           {
            "marker": {
             "colorbar": {
              "outlinewidth": 0,
              "ticks": ""
             }
            },
            "type": "scatterpolar"
           }
          ],
          "scatterpolargl": [
           {
            "marker": {
             "colorbar": {
              "outlinewidth": 0,
              "ticks": ""
             }
            },
            "type": "scatterpolargl"
           }
          ],
          "scatterternary": [
           {
            "marker": {
             "colorbar": {
              "outlinewidth": 0,
              "ticks": ""
             }
            },
            "type": "scatterternary"
           }
          ],
          "surface": [
           {
            "colorbar": {
             "outlinewidth": 0,
             "ticks": ""
            },
            "colorscale": [
             [
              0,
              "#0d0887"
             ],
             [
              0.1111111111111111,
              "#46039f"
             ],
             [
              0.2222222222222222,
              "#7201a8"
             ],
             [
              0.3333333333333333,
              "#9c179e"
             ],
             [
              0.4444444444444444,
              "#bd3786"
             ],
             [
              0.5555555555555556,
              "#d8576b"
             ],
             [
              0.6666666666666666,
              "#ed7953"
             ],
             [
              0.7777777777777778,
              "#fb9f3a"
             ],
             [
              0.8888888888888888,
              "#fdca26"
             ],
             [
              1,
              "#f0f921"
             ]
            ],
            "type": "surface"
           }
          ],
          "table": [
           {
            "cells": {
             "fill": {
              "color": "#506784"
             },
             "line": {
              "color": "rgb(17,17,17)"
             }
            },
            "header": {
             "fill": {
              "color": "#2a3f5f"
             },
             "line": {
              "color": "rgb(17,17,17)"
             }
            },
            "type": "table"
           }
          ]
         },
         "layout": {
          "annotationdefaults": {
           "arrowcolor": "#f2f5fa",
           "arrowhead": 0,
           "arrowwidth": 1
          },
          "autotypenumbers": "strict",
          "coloraxis": {
           "colorbar": {
            "outlinewidth": 0,
            "ticks": ""
           }
          },
          "colorscale": {
           "diverging": [
            [
             0,
             "#8e0152"
            ],
            [
             0.1,
             "#c51b7d"
            ],
            [
             0.2,
             "#de77ae"
            ],
            [
             0.3,
             "#f1b6da"
            ],
            [
             0.4,
             "#fde0ef"
            ],
            [
             0.5,
             "#f7f7f7"
            ],
            [
             0.6,
             "#e6f5d0"
            ],
            [
             0.7,
             "#b8e186"
            ],
            [
             0.8,
             "#7fbc41"
            ],
            [
             0.9,
             "#4d9221"
            ],
            [
             1,
             "#276419"
            ]
           ],
           "sequential": [
            [
             0,
             "#0d0887"
            ],
            [
             0.1111111111111111,
             "#46039f"
            ],
            [
             0.2222222222222222,
             "#7201a8"
            ],
            [
             0.3333333333333333,
             "#9c179e"
            ],
            [
             0.4444444444444444,
             "#bd3786"
            ],
            [
             0.5555555555555556,
             "#d8576b"
            ],
            [
             0.6666666666666666,
             "#ed7953"
            ],
            [
             0.7777777777777778,
             "#fb9f3a"
            ],
            [
             0.8888888888888888,
             "#fdca26"
            ],
            [
             1,
             "#f0f921"
            ]
           ],
           "sequentialminus": [
            [
             0,
             "#0d0887"
            ],
            [
             0.1111111111111111,
             "#46039f"
            ],
            [
             0.2222222222222222,
             "#7201a8"
            ],
            [
             0.3333333333333333,
             "#9c179e"
            ],
            [
             0.4444444444444444,
             "#bd3786"
            ],
            [
             0.5555555555555556,
             "#d8576b"
            ],
            [
             0.6666666666666666,
             "#ed7953"
            ],
            [
             0.7777777777777778,
             "#fb9f3a"
            ],
            [
             0.8888888888888888,
             "#fdca26"
            ],
            [
             1,
             "#f0f921"
            ]
           ]
          },
          "colorway": [
           "#636efa",
           "#EF553B",
           "#00cc96",
           "#ab63fa",
           "#FFA15A",
           "#19d3f3",
           "#FF6692",
           "#B6E880",
           "#FF97FF",
           "#FECB52"
          ],
          "font": {
           "color": "#f2f5fa"
          },
          "geo": {
           "bgcolor": "rgb(17,17,17)",
           "lakecolor": "rgb(17,17,17)",
           "landcolor": "rgb(17,17,17)",
           "showlakes": true,
           "showland": true,
           "subunitcolor": "#506784"
          },
          "hoverlabel": {
           "align": "left"
          },
          "hovermode": "closest",
          "mapbox": {
           "style": "dark"
          },
          "paper_bgcolor": "rgb(17,17,17)",
          "plot_bgcolor": "rgb(17,17,17)",
          "polar": {
           "angularaxis": {
            "gridcolor": "#506784",
            "linecolor": "#506784",
            "ticks": ""
           },
           "bgcolor": "rgb(17,17,17)",
           "radialaxis": {
            "gridcolor": "#506784",
            "linecolor": "#506784",
            "ticks": ""
           }
          },
          "scene": {
           "xaxis": {
            "backgroundcolor": "rgb(17,17,17)",
            "gridcolor": "#506784",
            "gridwidth": 2,
            "linecolor": "#506784",
            "showbackground": true,
            "ticks": "",
            "zerolinecolor": "#C8D4E3"
           },
           "yaxis": {
            "backgroundcolor": "rgb(17,17,17)",
            "gridcolor": "#506784",
            "gridwidth": 2,
            "linecolor": "#506784",
            "showbackground": true,
            "ticks": "",
            "zerolinecolor": "#C8D4E3"
           },
           "zaxis": {
            "backgroundcolor": "rgb(17,17,17)",
            "gridcolor": "#506784",
            "gridwidth": 2,
            "linecolor": "#506784",
            "showbackground": true,
            "ticks": "",
            "zerolinecolor": "#C8D4E3"
           }
          },
          "shapedefaults": {
           "line": {
            "color": "#f2f5fa"
           }
          },
          "sliderdefaults": {
           "bgcolor": "#C8D4E3",
           "bordercolor": "rgb(17,17,17)",
           "borderwidth": 1,
           "tickwidth": 0
          },
          "ternary": {
           "aaxis": {
            "gridcolor": "#506784",
            "linecolor": "#506784",
            "ticks": ""
           },
           "baxis": {
            "gridcolor": "#506784",
            "linecolor": "#506784",
            "ticks": ""
           },
           "bgcolor": "rgb(17,17,17)",
           "caxis": {
            "gridcolor": "#506784",
            "linecolor": "#506784",
            "ticks": ""
           }
          },
          "title": {
           "x": 0.05
          },
          "updatemenudefaults": {
           "bgcolor": "#506784",
           "borderwidth": 0
          },
          "xaxis": {
           "automargin": true,
           "gridcolor": "#283442",
           "linecolor": "#506784",
           "ticks": "",
           "title": {
            "standoff": 15
           },
           "zerolinecolor": "#283442",
           "zerolinewidth": 2
          },
          "yaxis": {
           "automargin": true,
           "gridcolor": "#283442",
           "linecolor": "#506784",
           "ticks": "",
           "title": {
            "standoff": 15
           },
           "zerolinecolor": "#283442",
           "zerolinewidth": 2
          }
         }
        },
        "title": {
         "text": "Evolution of vaccine dose number in storage in France"
        },
        "xaxis": {
         "anchor": "y",
         "domain": [
          0,
          1
         ],
         "title": {
          "text": "Date"
         }
        },
        "yaxis": {
         "anchor": "x",
         "domain": [
          0,
          1
         ],
         "title": {
          "text": "Number of doses with basic unit"
         }
        }
       }
      }
     },
     "metadata": {}
    }
   ],
   "source": [
    "line_charts.vacdoses()"
   ]
  },
  {
   "source": [
    "- *keytimeseries*:"
   ],
   "cell_type": "markdown",
   "metadata": {}
  },
  {
   "cell_type": "code",
   "execution_count": 13,
   "metadata": {},
   "outputs": [
    {
     "output_type": "stream",
     "name": "stdout",
     "text": [
      "Downloading data from https://raw.githubusercontent.com/opencovid19-fr/data/master/dist/chiffres-cles.csv (6.5 MB)\n",
      "\n",
      "file_sizes: 100%|██████████████████████████| 6.80M/6.80M [00:01<00:00, 3.59MB/s]\n",
      "Successfully downloaded file to C:\\Users\\quenf\\vizcovidfr\\vizcovidfr\\loads\\..\\data\\chiffres-cles.csv\n"
     ]
    },
    {
     "output_type": "display_data",
     "data": {
      "application/vnd.plotly.v1+json": {
       "config": {
        "plotlyServerURL": "https://plot.ly"
       },
       "data": [
        {
         "hovertemplate": "variable=gueris<br>date=%{x}<br>value=%{y}<extra></extra>",
         "legendgroup": "gueris",
         "line": {
          "color": "#636efa",
          "dash": "solid"
         },
         "mode": "lines",
         "name": "gueris",
         "orientation": "v",
         "showlegend": true,
         "type": "scatter",
         "x": [
          "2020-03-07T00:00:00",
          "2020-03-09T00:00:00",
          "2020-03-11T00:00:00",
          "2020-03-12T00:00:00",
          "2020-03-13T00:00:00",
          "2020-03-14T00:00:00",
          "2020-03-15T00:00:00",
          "2020-03-16T00:00:00",
          "2020-03-18T00:00:00",
          "2020-03-19T00:00:00",
          "2020-03-20T00:00:00",
          "2020-03-21T00:00:00",
          "2020-03-22T00:00:00",
          "2020-03-22T00:00:00",
          "2020-03-23T00:00:00",
          "2020-03-23T00:00:00",
          "2020-03-24T00:00:00",
          "2020-03-24T00:00:00",
          "2020-03-25T00:00:00",
          "2020-03-25T00:00:00",
          "2020-03-26T00:00:00",
          "2020-03-26T00:00:00",
          "2020-03-27T00:00:00",
          "2020-03-27T00:00:00",
          "2020-03-28T00:00:00",
          "2020-03-28T00:00:00",
          "2020-03-29T00:00:00",
          "2020-03-29T00:00:00",
          "2020-03-30T00:00:00",
          "2020-03-30T00:00:00",
          "2020-03-31T00:00:00",
          "2020-03-31T00:00:00",
          "2020-04-01T00:00:00",
          "2020-04-02T00:00:00",
          "2020-04-03T00:00:00",
          "2020-04-04T00:00:00",
          "2020-04-05T00:00:00",
          "2020-04-06T00:00:00",
          "2020-04-07T00:00:00",
          "2020-04-08T00:00:00",
          "2020-04-09T00:00:00",
          "2020-04-10T00:00:00",
          "2020-04-11T00:00:00",
          "2020-04-12T00:00:00",
          "2020-04-13T00:00:00",
          "2020-04-14T00:00:00",
          "2020-04-15T00:00:00",
          "2020-04-16T00:00:00",
          "2020-04-17T00:00:00",
          "2020-04-18T00:00:00",
          "2020-04-19T00:00:00",
          "2020-04-20T00:00:00",
          "2020-04-21T00:00:00",
          "2020-04-22T00:00:00",
          "2020-04-23T00:00:00",
          "2020-04-24T00:00:00",
          "2020-04-25T00:00:00",
          "2020-04-26T00:00:00",
          "2020-04-27T00:00:00",
          "2020-04-28T00:00:00",
          "2020-04-29T00:00:00",
          "2020-04-30T00:00:00",
          "2020-05-01T00:00:00",
          "2020-05-02T00:00:00",
          "2020-05-03T00:00:00",
          "2020-05-04T00:00:00",
          "2020-05-05T00:00:00",
          "2020-05-06T00:00:00",
          "2020-05-07T00:00:00",
          "2020-05-08T00:00:00",
          "2020-05-09T00:00:00",
          "2020-05-10T00:00:00",
          "2020-05-11T00:00:00",
          "2020-05-12T00:00:00",
          "2020-05-13T00:00:00",
          "2020-05-14T00:00:00",
          "2020-05-15T00:00:00",
          "2020-05-16T00:00:00",
          "2020-05-17T00:00:00",
          "2020-05-18T00:00:00",
          "2020-05-19T00:00:00",
          "2020-05-20T00:00:00",
          "2020-05-21T00:00:00",
          "2020-05-22T00:00:00",
          "2020-05-23T00:00:00",
          "2020-05-24T00:00:00",
          "2020-05-25T00:00:00",
          "2020-05-26T00:00:00",
          "2020-05-27T00:00:00",
          "2020-05-28T00:00:00",
          "2020-05-29T00:00:00",
          "2020-05-30T00:00:00",
          "2020-05-31T00:00:00",
          "2020-06-01T00:00:00",
          "2020-06-02T00:00:00",
          "2020-06-03T00:00:00",
          "2020-06-04T00:00:00",
          "2020-06-05T00:00:00",
          "2020-06-06T00:00:00",
          "2020-06-07T00:00:00",
          "2020-06-08T00:00:00",
          "2020-06-09T00:00:00",
          "2020-06-10T00:00:00",
          "2020-06-11T00:00:00",
          "2020-06-12T00:00:00",
          "2020-06-13T00:00:00",
          "2020-06-14T00:00:00",
          "2020-06-15T00:00:00",
          "2020-06-16T00:00:00",
          "2020-06-17T00:00:00",
          "2020-06-18T00:00:00",
          "2020-06-19T00:00:00",
          "2020-06-20T00:00:00",
          "2020-06-21T00:00:00",
          "2020-06-22T00:00:00",
          "2020-06-23T00:00:00",
          "2020-06-24T00:00:00",
          "2020-06-25T00:00:00",
          "2020-06-26T00:00:00",
          "2020-06-27T00:00:00",
          "2020-06-28T00:00:00",
          "2020-06-29T00:00:00",
          "2020-06-30T00:00:00",
          "2020-07-01T00:00:00",
          "2020-07-02T00:00:00",
          "2020-07-03T00:00:00",
          "2020-07-04T00:00:00",
          "2020-07-05T00:00:00",
          "2020-07-06T00:00:00",
          "2020-07-07T00:00:00",
          "2020-07-08T00:00:00",
          "2020-07-09T00:00:00",
          "2020-07-10T00:00:00",
          "2020-07-11T00:00:00",
          "2020-07-12T00:00:00",
          "2020-07-13T00:00:00",
          "2020-07-14T00:00:00",
          "2020-07-15T00:00:00",
          "2020-07-16T00:00:00",
          "2020-07-17T00:00:00",
          "2020-07-18T00:00:00",
          "2020-07-19T00:00:00",
          "2020-07-20T00:00:00",
          "2020-07-21T00:00:00",
          "2020-07-22T00:00:00",
          "2020-07-23T00:00:00",
          "2020-07-24T00:00:00",
          "2020-07-25T00:00:00",
          "2020-07-26T00:00:00",
          "2020-07-27T00:00:00",
          "2020-07-28T00:00:00",
          "2020-07-29T00:00:00",
          "2020-07-30T00:00:00",
          "2020-07-31T00:00:00",
          "2020-08-01T00:00:00",
          "2020-08-02T00:00:00",
          "2020-08-03T00:00:00",
          "2020-08-04T00:00:00",
          "2020-08-05T00:00:00",
          "2020-08-06T00:00:00",
          "2020-08-07T00:00:00",
          "2020-08-08T00:00:00",
          "2020-08-09T00:00:00",
          "2020-08-10T00:00:00",
          "2020-08-11T00:00:00",
          "2020-08-12T00:00:00",
          "2020-08-13T00:00:00",
          "2020-08-14T00:00:00",
          "2020-08-15T00:00:00",
          "2020-08-16T00:00:00",
          "2020-08-17T00:00:00",
          "2020-08-18T00:00:00",
          "2020-08-19T00:00:00",
          "2020-08-20T00:00:00",
          "2020-08-21T00:00:00",
          "2020-08-22T00:00:00",
          "2020-08-23T00:00:00",
          "2020-08-24T00:00:00",
          "2020-08-25T00:00:00",
          "2020-08-26T00:00:00",
          "2020-08-27T00:00:00",
          "2020-08-28T00:00:00",
          "2020-08-29T00:00:00",
          "2020-08-30T00:00:00",
          "2020-08-31T00:00:00",
          "2020-09-01T00:00:00",
          "2020-09-02T00:00:00",
          "2020-09-03T00:00:00",
          "2020-09-04T00:00:00",
          "2020-09-05T00:00:00",
          "2020-09-06T00:00:00",
          "2020-09-07T00:00:00",
          "2020-09-08T00:00:00",
          "2020-09-09T00:00:00",
          "2020-09-10T00:00:00",
          "2020-09-11T00:00:00",
          "2020-09-12T00:00:00",
          "2020-09-13T00:00:00",
          "2020-09-14T00:00:00",
          "2020-09-15T00:00:00",
          "2020-09-16T00:00:00",
          "2020-09-17T00:00:00",
          "2020-09-18T00:00:00",
          "2020-09-19T00:00:00",
          "2020-09-20T00:00:00",
          "2020-09-21T00:00:00",
          "2020-09-22T00:00:00",
          "2020-09-23T00:00:00",
          "2020-09-24T00:00:00",
          "2020-09-25T00:00:00",
          "2020-09-26T00:00:00",
          "2020-09-27T00:00:00",
          "2020-09-28T00:00:00",
          "2020-09-29T00:00:00",
          "2020-09-30T00:00:00",
          "2020-10-01T00:00:00",
          "2020-10-02T00:00:00",
          "2020-10-03T00:00:00",
          "2020-10-04T00:00:00",
          "2020-10-05T00:00:00",
          "2020-10-06T00:00:00",
          "2020-10-07T00:00:00",
          "2020-10-08T00:00:00",
          "2020-10-09T00:00:00",
          "2020-10-10T00:00:00",
          "2020-10-11T00:00:00",
          "2020-10-12T00:00:00",
          "2020-10-13T00:00:00",
          "2020-10-14T00:00:00",
          "2020-10-15T00:00:00",
          "2020-10-16T00:00:00",
          "2020-10-17T00:00:00",
          "2020-10-18T00:00:00",
          "2020-10-19T00:00:00",
          "2020-10-20T00:00:00",
          "2020-10-21T00:00:00",
          "2020-10-22T00:00:00",
          "2020-10-23T00:00:00",
          "2020-10-24T00:00:00",
          "2020-10-25T00:00:00",
          "2020-10-26T00:00:00",
          "2020-10-27T00:00:00",
          "2020-10-28T00:00:00",
          "2020-10-29T00:00:00",
          "2020-10-30T00:00:00",
          "2020-10-31T00:00:00",
          "2020-11-01T00:00:00",
          "2020-11-02T00:00:00",
          "2020-11-03T00:00:00",
          "2020-11-04T00:00:00",
          "2020-11-05T00:00:00",
          "2020-11-06T00:00:00",
          "2020-11-07T00:00:00",
          "2020-11-08T00:00:00",
          "2020-11-09T00:00:00",
          "2020-11-10T00:00:00",
          "2020-11-11T00:00:00",
          "2020-11-12T00:00:00",
          "2020-11-13T00:00:00",
          "2020-11-14T00:00:00",
          "2020-11-15T00:00:00",
          "2020-11-16T00:00:00",
          "2020-11-17T00:00:00",
          "2020-11-18T00:00:00",
          "2020-11-19T00:00:00",
          "2020-11-20T00:00:00",
          "2020-11-21T00:00:00",
          "2020-11-22T00:00:00",
          "2020-11-23T00:00:00",
          "2020-11-24T00:00:00",
          "2020-11-25T00:00:00",
          "2020-11-26T00:00:00",
          "2020-11-27T00:00:00",
          "2020-11-28T00:00:00",
          "2020-11-29T00:00:00",
          "2020-11-30T00:00:00",
          "2020-12-01T00:00:00",
          "2020-12-02T00:00:00",
          "2020-12-03T00:00:00",
          "2020-12-04T00:00:00",
          "2020-12-05T00:00:00",
          "2020-12-06T00:00:00",
          "2020-12-07T00:00:00",
          "2020-12-08T00:00:00",
          "2020-12-09T00:00:00",
          "2020-12-10T00:00:00",
          "2020-12-11T00:00:00",
          "2020-12-12T00:00:00",
          "2020-12-13T00:00:00",
          "2020-12-14T00:00:00",
          "2020-12-15T00:00:00",
          "2020-12-16T00:00:00",
          "2020-12-17T00:00:00",
          "2020-12-18T00:00:00",
          "2020-12-19T00:00:00",
          "2020-12-20T00:00:00",
          "2020-12-21T00:00:00",
          "2020-12-22T00:00:00",
          "2020-12-23T00:00:00",
          "2020-12-24T00:00:00",
          "2020-12-25T00:00:00",
          "2020-12-26T00:00:00",
          "2020-12-27T00:00:00",
          "2020-12-28T00:00:00",
          "2020-12-29T00:00:00",
          "2020-12-30T00:00:00",
          "2020-12-31T00:00:00",
          "2021-01-01T00:00:00",
          "2021-01-02T00:00:00",
          "2021-01-03T00:00:00",
          "2021-01-04T00:00:00",
          "2021-01-05T00:00:00",
          "2021-01-06T00:00:00",
          "2021-01-07T00:00:00",
          "2021-01-08T00:00:00",
          "2021-01-09T00:00:00",
          "2021-01-10T00:00:00",
          "2021-01-11T00:00:00",
          "2021-01-12T00:00:00",
          "2021-01-13T00:00:00",
          "2021-01-14T00:00:00",
          "2021-01-15T00:00:00",
          "2021-01-16T00:00:00",
          "2021-01-17T00:00:00",
          "2021-01-18T00:00:00",
          "2021-01-19T00:00:00",
          "2021-01-20T00:00:00",
          "2021-01-21T00:00:00",
          "2021-01-22T00:00:00",
          "2021-01-23T00:00:00",
          "2021-01-24T00:00:00",
          "2021-01-25T00:00:00",
          "2021-01-26T00:00:00",
          "2021-01-27T00:00:00",
          "2021-01-28T00:00:00",
          "2021-01-29T00:00:00",
          "2021-01-30T00:00:00",
          "2021-01-31T00:00:00",
          "2021-02-01T00:00:00",
          "2021-02-02T00:00:00",
          "2021-02-03T00:00:00",
          "2021-02-04T00:00:00",
          "2021-02-05T00:00:00",
          "2021-02-06T00:00:00",
          "2021-02-07T00:00:00",
          "2021-02-08T00:00:00",
          "2021-02-09T00:00:00",
          "2021-02-10T00:00:00",
          "2021-02-11T00:00:00",
          "2021-02-12T00:00:00",
          "2021-02-13T00:00:00",
          "2021-02-14T00:00:00",
          "2021-02-15T00:00:00",
          "2021-02-16T00:00:00",
          "2021-02-17T00:00:00",
          "2021-02-18T00:00:00",
          "2021-02-19T00:00:00",
          "2021-02-20T00:00:00",
          "2021-02-21T00:00:00",
          "2021-02-22T00:00:00",
          "2021-02-23T00:00:00",
          "2021-02-24T00:00:00",
          "2021-02-25T00:00:00",
          "2021-02-26T00:00:00",
          "2021-02-27T00:00:00",
          "2021-02-28T00:00:00",
          "2021-03-01T00:00:00",
          "2021-03-02T00:00:00",
          "2021-03-03T00:00:00",
          "2021-03-04T00:00:00",
          "2021-03-05T00:00:00",
          "2021-03-06T00:00:00",
          "2021-03-07T00:00:00",
          "2021-03-08T00:00:00",
          "2021-03-09T00:00:00",
          "2021-03-10T00:00:00",
          "2021-03-11T00:00:00",
          "2021-03-12T00:00:00",
          "2021-03-13T00:00:00",
          "2021-03-14T00:00:00",
          "2021-03-15T00:00:00",
          "2021-03-16T00:00:00",
          "2021-03-17T00:00:00",
          "2021-03-18T00:00:00",
          "2021-03-19T00:00:00",
          "2021-03-20T00:00:00",
          "2021-03-21T00:00:00",
          "2021-03-22T00:00:00",
          "2021-03-23T00:00:00",
          "2021-03-24T00:00:00",
          "2021-03-25T00:00:00",
          "2021-03-26T00:00:00",
          "2021-03-27T00:00:00",
          "2021-03-28T00:00:00",
          "2021-03-29T00:00:00",
          "2021-03-30T00:00:00",
          "2021-03-31T00:00:00",
          "2021-04-01T00:00:00",
          "2021-04-02T00:00:00",
          "2021-04-03T00:00:00",
          "2021-04-04T00:00:00",
          "2021-04-05T00:00:00",
          "2021-04-06T00:00:00",
          "2021-04-07T00:00:00",
          "2021-04-08T00:00:00",
          "2021-04-09T00:00:00",
          "2021-04-10T00:00:00",
          "2021-04-11T00:00:00",
          "2021-04-12T00:00:00",
          "2021-04-13T00:00:00",
          "2021-04-14T00:00:00",
          "2021-04-15T00:00:00",
          "2021-04-16T00:00:00",
          "2021-04-17T00:00:00",
          "2021-04-18T00:00:00",
          "2021-04-19T00:00:00",
          "2021-04-20T00:00:00",
          "2021-04-21T00:00:00",
          "2021-04-22T00:00:00",
          "2021-04-23T00:00:00",
          "2021-04-24T00:00:00"
         ],
         "xaxis": "x",
         "y": [
          null,
          0,
          0,
          0,
          2,
          0,
          0,
          0,
          48,
          8,
          14,
          19,
          31,
          -17,
          25,
          -14,
          44,
          -12,
          46,
          -12,
          50,
          -9,
          45,
          -13,
          58,
          -13,
          24,
          -11,
          51,
          -12,
          97,
          -4,
          78,
          73,
          60,
          52,
          48,
          46,
          111,
          79,
          88,
          106,
          84,
          16,
          26,
          47,
          94,
          72,
          57,
          93,
          11,
          41,
          55,
          43,
          63,
          85,
          32,
          9,
          16,
          41,
          50,
          20,
          -24,
          5,
          2,
          29,
          61,
          42,
          33,
          39,
          6,
          6,
          14,
          39,
          28,
          33,
          22,
          15,
          10,
          23,
          17,
          28,
          14,
          8,
          6,
          1,
          16,
          21,
          12,
          17,
          6,
          17,
          4,
          0,
          5,
          18,
          13,
          15,
          13,
          0,
          6,
          7,
          12,
          5,
          12,
          1,
          3,
          7,
          19,
          3,
          5,
          1,
          7,
          4,
          2,
          4,
          3,
          3,
          4,
          10,
          0,
          2,
          4,
          4,
          4,
          9,
          0,
          0,
          0,
          4,
          1,
          5,
          8,
          0,
          1,
          1,
          1,
          3,
          3,
          2,
          0,
          0,
          5,
          2,
          2,
          5,
          3,
          1,
          0,
          2,
          4,
          1,
          2,
          2,
          2,
          0,
          3,
          0,
          11,
          2,
          2,
          4,
          1,
          1,
          8,
          5,
          7,
          4,
          3,
          0,
          5,
          9,
          7,
          1,
          9,
          0,
          0,
          16,
          15,
          11,
          9,
          10,
          7,
          1,
          11,
          9,
          23,
          2,
          9,
          7,
          9,
          26,
          31,
          23,
          13,
          31,
          8,
          1,
          19,
          24,
          30,
          17,
          34,
          18,
          5,
          30,
          31,
          23,
          29,
          22,
          33,
          1,
          17,
          48,
          22,
          37,
          26,
          46,
          13,
          20,
          47,
          29,
          35,
          29,
          50,
          15,
          26,
          66,
          52,
          61,
          48,
          42,
          8,
          31,
          60,
          40,
          89,
          47,
          83,
          38,
          32,
          90,
          80,
          100,
          119,
          88,
          46,
          58,
          110,
          140,
          153,
          143,
          133,
          40,
          99,
          156,
          127,
          76,
          151,
          152,
          51,
          63,
          149,
          173,
          156,
          142,
          123,
          28,
          76,
          138,
          116,
          111,
          98,
          80,
          6,
          51,
          98,
          94,
          88,
          97,
          53,
          9,
          49,
          85,
          63,
          56,
          80,
          44,
          22,
          23,
          84,
          73,
          63,
          84,
          51,
          16,
          29,
          98,
          83,
          85,
          71,
          21,
          3,
          27,
          52,
          94,
          51,
          51,
          12,
          8,
          39,
          53,
          67,
          74,
          67,
          55,
          29,
          33,
          61,
          64,
          45,
          78,
          53,
          9,
          27,
          68,
          48,
          64,
          83,
          83,
          23,
          20,
          93,
          109,
          70,
          97,
          65,
          20,
          54,
          161,
          99,
          95,
          106,
          88,
          20,
          53,
          134,
          71,
          130,
          107,
          107,
          26,
          49,
          112,
          93,
          68,
          62,
          90,
          6,
          38,
          87,
          91,
          108,
          100,
          78,
          11,
          55,
          96,
          154,
          113,
          81,
          86,
          18,
          37,
          70,
          106,
          61,
          51,
          65,
          9,
          31,
          75,
          100,
          42,
          61,
          49,
          13,
          55,
          69,
          83,
          82,
          79,
          97,
          31,
          27,
          119,
          144,
          78,
          123,
          87,
          16,
          24,
          86,
          153,
          131,
          114,
          109,
          24,
          55,
          124,
          101,
          112,
          116,
          108,
          26,
          65,
          121,
          97,
          107,
          100,
          114
         ],
         "yaxis": "y"
        }
       ],
       "layout": {
        "legend": {
         "title": {
          "text": "variable"
         },
         "tracegroupgap": 0
        },
        "template": {
         "data": {
          "bar": [
           {
            "error_x": {
             "color": "#2a3f5f"
            },
            "error_y": {
             "color": "#2a3f5f"
            },
            "marker": {
             "line": {
              "color": "#E5ECF6",
              "width": 0.5
             }
            },
            "type": "bar"
           }
          ],
          "barpolar": [
           {
            "marker": {
             "line": {
              "color": "#E5ECF6",
              "width": 0.5
             }
            },
            "type": "barpolar"
           }
          ],
          "carpet": [
           {
            "aaxis": {
             "endlinecolor": "#2a3f5f",
             "gridcolor": "white",
             "linecolor": "white",
             "minorgridcolor": "white",
             "startlinecolor": "#2a3f5f"
            },
            "baxis": {
             "endlinecolor": "#2a3f5f",
             "gridcolor": "white",
             "linecolor": "white",
             "minorgridcolor": "white",
             "startlinecolor": "#2a3f5f"
            },
            "type": "carpet"
           }
          ],
          "choropleth": [
           {
            "colorbar": {
             "outlinewidth": 0,
             "ticks": ""
            },
            "type": "choropleth"
           }
          ],
          "contour": [
           {
            "colorbar": {
             "outlinewidth": 0,
             "ticks": ""
            },
            "colorscale": [
             [
              0,
              "#0d0887"
             ],
             [
              0.1111111111111111,
              "#46039f"
             ],
             [
              0.2222222222222222,
              "#7201a8"
             ],
             [
              0.3333333333333333,
              "#9c179e"
             ],
             [
              0.4444444444444444,
              "#bd3786"
             ],
             [
              0.5555555555555556,
              "#d8576b"
             ],
             [
              0.6666666666666666,
              "#ed7953"
             ],
             [
              0.7777777777777778,
              "#fb9f3a"
             ],
             [
              0.8888888888888888,
              "#fdca26"
             ],
             [
              1,
              "#f0f921"
             ]
            ],
            "type": "contour"
           }
          ],
          "contourcarpet": [
           {
            "colorbar": {
             "outlinewidth": 0,
             "ticks": ""
            },
            "type": "contourcarpet"
           }
          ],
          "heatmap": [
           {
            "colorbar": {
             "outlinewidth": 0,
             "ticks": ""
            },
            "colorscale": [
             [
              0,
              "#0d0887"
             ],
             [
              0.1111111111111111,
              "#46039f"
             ],
             [
              0.2222222222222222,
              "#7201a8"
             ],
             [
              0.3333333333333333,
              "#9c179e"
             ],
             [
              0.4444444444444444,
              "#bd3786"
             ],
             [
              0.5555555555555556,
              "#d8576b"
             ],
             [
              0.6666666666666666,
              "#ed7953"
             ],
             [
              0.7777777777777778,
              "#fb9f3a"
             ],
             [
              0.8888888888888888,
              "#fdca26"
             ],
             [
              1,
              "#f0f921"
             ]
            ],
            "type": "heatmap"
           }
          ],
          "heatmapgl": [
           {
            "colorbar": {
             "outlinewidth": 0,
             "ticks": ""
            },
            "colorscale": [
             [
              0,
              "#0d0887"
             ],
             [
              0.1111111111111111,
              "#46039f"
             ],
             [
              0.2222222222222222,
              "#7201a8"
             ],
             [
              0.3333333333333333,
              "#9c179e"
             ],
             [
              0.4444444444444444,
              "#bd3786"
             ],
             [
              0.5555555555555556,
              "#d8576b"
             ],
             [
              0.6666666666666666,
              "#ed7953"
             ],
             [
              0.7777777777777778,
              "#fb9f3a"
             ],
             [
              0.8888888888888888,
              "#fdca26"
             ],
             [
              1,
              "#f0f921"
             ]
            ],
            "type": "heatmapgl"
           }
          ],
          "histogram": [
           {
            "marker": {
             "colorbar": {
              "outlinewidth": 0,
              "ticks": ""
             }
            },
            "type": "histogram"
           }
          ],
          "histogram2d": [
           {
            "colorbar": {
             "outlinewidth": 0,
             "ticks": ""
            },
            "colorscale": [
             [
              0,
              "#0d0887"
             ],
             [
              0.1111111111111111,
              "#46039f"
             ],
             [
              0.2222222222222222,
              "#7201a8"
             ],
             [
              0.3333333333333333,
              "#9c179e"
             ],
             [
              0.4444444444444444,
              "#bd3786"
             ],
             [
              0.5555555555555556,
              "#d8576b"
             ],
             [
              0.6666666666666666,
              "#ed7953"
             ],
             [
              0.7777777777777778,
              "#fb9f3a"
             ],
             [
              0.8888888888888888,
              "#fdca26"
             ],
             [
              1,
              "#f0f921"
             ]
            ],
            "type": "histogram2d"
           }
          ],
          "histogram2dcontour": [
           {
            "colorbar": {
             "outlinewidth": 0,
             "ticks": ""
            },
            "colorscale": [
             [
              0,
              "#0d0887"
             ],
             [
              0.1111111111111111,
              "#46039f"
             ],
             [
              0.2222222222222222,
              "#7201a8"
             ],
             [
              0.3333333333333333,
              "#9c179e"
             ],
             [
              0.4444444444444444,
              "#bd3786"
             ],
             [
              0.5555555555555556,
              "#d8576b"
             ],
             [
              0.6666666666666666,
              "#ed7953"
             ],
             [
              0.7777777777777778,
              "#fb9f3a"
             ],
             [
              0.8888888888888888,
              "#fdca26"
             ],
             [
              1,
              "#f0f921"
             ]
            ],
            "type": "histogram2dcontour"
           }
          ],
          "mesh3d": [
           {
            "colorbar": {
             "outlinewidth": 0,
             "ticks": ""
            },
            "type": "mesh3d"
           }
          ],
          "parcoords": [
           {
            "line": {
             "colorbar": {
              "outlinewidth": 0,
              "ticks": ""
             }
            },
            "type": "parcoords"
           }
          ],
          "pie": [
           {
            "automargin": true,
            "type": "pie"
           }
          ],
          "scatter": [
           {
            "marker": {
             "colorbar": {
              "outlinewidth": 0,
              "ticks": ""
             }
            },
            "type": "scatter"
           }
          ],
          "scatter3d": [
           {
            "line": {
             "colorbar": {
              "outlinewidth": 0,
              "ticks": ""
             }
            },
            "marker": {
             "colorbar": {
              "outlinewidth": 0,
              "ticks": ""
             }
            },
            "type": "scatter3d"
           }
          ],
          "scattercarpet": [
           {
            "marker": {
             "colorbar": {
              "outlinewidth": 0,
              "ticks": ""
             }
            },
            "type": "scattercarpet"
           }
          ],
          "scattergeo": [
           {
            "marker": {
             "colorbar": {
              "outlinewidth": 0,
              "ticks": ""
             }
            },
            "type": "scattergeo"
           }
          ],
          "scattergl": [
           {
            "marker": {
             "colorbar": {
              "outlinewidth": 0,
              "ticks": ""
             }
            },
            "type": "scattergl"
           }
          ],
          "scattermapbox": [
           {
            "marker": {
             "colorbar": {
              "outlinewidth": 0,
              "ticks": ""
             }
            },
            "type": "scattermapbox"
           }
          ],
          "scatterpolar": [
           {
            "marker": {
             "colorbar": {
              "outlinewidth": 0,
              "ticks": ""
             }
            },
            "type": "scatterpolar"
           }
          ],
          "scatterpolargl": [
           {
            "marker": {
             "colorbar": {
              "outlinewidth": 0,
              "ticks": ""
             }
            },
            "type": "scatterpolargl"
           }
          ],
          "scatterternary": [
           {
            "marker": {
             "colorbar": {
              "outlinewidth": 0,
              "ticks": ""
             }
            },
            "type": "scatterternary"
           }
          ],
          "surface": [
           {
            "colorbar": {
             "outlinewidth": 0,
             "ticks": ""
            },
            "colorscale": [
             [
              0,
              "#0d0887"
             ],
             [
              0.1111111111111111,
              "#46039f"
             ],
             [
              0.2222222222222222,
              "#7201a8"
             ],
             [
              0.3333333333333333,
              "#9c179e"
             ],
             [
              0.4444444444444444,
              "#bd3786"
             ],
             [
              0.5555555555555556,
              "#d8576b"
             ],
             [
              0.6666666666666666,
              "#ed7953"
             ],
             [
              0.7777777777777778,
              "#fb9f3a"
             ],
             [
              0.8888888888888888,
              "#fdca26"
             ],
             [
              1,
              "#f0f921"
             ]
            ],
            "type": "surface"
           }
          ],
          "table": [
           {
            "cells": {
             "fill": {
              "color": "#EBF0F8"
             },
             "line": {
              "color": "white"
             }
            },
            "header": {
             "fill": {
              "color": "#C8D4E3"
             },
             "line": {
              "color": "white"
             }
            },
            "type": "table"
           }
          ]
         },
         "layout": {
          "annotationdefaults": {
           "arrowcolor": "#2a3f5f",
           "arrowhead": 0,
           "arrowwidth": 1
          },
          "autotypenumbers": "strict",
          "coloraxis": {
           "colorbar": {
            "outlinewidth": 0,
            "ticks": ""
           }
          },
          "colorscale": {
           "diverging": [
            [
             0,
             "#8e0152"
            ],
            [
             0.1,
             "#c51b7d"
            ],
            [
             0.2,
             "#de77ae"
            ],
            [
             0.3,
             "#f1b6da"
            ],
            [
             0.4,
             "#fde0ef"
            ],
            [
             0.5,
             "#f7f7f7"
            ],
            [
             0.6,
             "#e6f5d0"
            ],
            [
             0.7,
             "#b8e186"
            ],
            [
             0.8,
             "#7fbc41"
            ],
            [
             0.9,
             "#4d9221"
            ],
            [
             1,
             "#276419"
            ]
           ],
           "sequential": [
            [
             0,
             "#0d0887"
            ],
            [
             0.1111111111111111,
             "#46039f"
            ],
            [
             0.2222222222222222,
             "#7201a8"
            ],
            [
             0.3333333333333333,
             "#9c179e"
            ],
            [
             0.4444444444444444,
             "#bd3786"
            ],
            [
             0.5555555555555556,
             "#d8576b"
            ],
            [
             0.6666666666666666,
             "#ed7953"
            ],
            [
             0.7777777777777778,
             "#fb9f3a"
            ],
            [
             0.8888888888888888,
             "#fdca26"
            ],
            [
             1,
             "#f0f921"
            ]
           ],
           "sequentialminus": [
            [
             0,
             "#0d0887"
            ],
            [
             0.1111111111111111,
             "#46039f"
            ],
            [
             0.2222222222222222,
             "#7201a8"
            ],
            [
             0.3333333333333333,
             "#9c179e"
            ],
            [
             0.4444444444444444,
             "#bd3786"
            ],
            [
             0.5555555555555556,
             "#d8576b"
            ],
            [
             0.6666666666666666,
             "#ed7953"
            ],
            [
             0.7777777777777778,
             "#fb9f3a"
            ],
            [
             0.8888888888888888,
             "#fdca26"
            ],
            [
             1,
             "#f0f921"
            ]
           ]
          },
          "colorway": [
           "#636efa",
           "#EF553B",
           "#00cc96",
           "#ab63fa",
           "#FFA15A",
           "#19d3f3",
           "#FF6692",
           "#B6E880",
           "#FF97FF",
           "#FECB52"
          ],
          "font": {
           "color": "#2a3f5f"
          },
          "geo": {
           "bgcolor": "white",
           "lakecolor": "white",
           "landcolor": "#E5ECF6",
           "showlakes": true,
           "showland": true,
           "subunitcolor": "white"
          },
          "hoverlabel": {
           "align": "left"
          },
          "hovermode": "closest",
          "mapbox": {
           "style": "light"
          },
          "paper_bgcolor": "white",
          "plot_bgcolor": "#E5ECF6",
          "polar": {
           "angularaxis": {
            "gridcolor": "white",
            "linecolor": "white",
            "ticks": ""
           },
           "bgcolor": "#E5ECF6",
           "radialaxis": {
            "gridcolor": "white",
            "linecolor": "white",
            "ticks": ""
           }
          },
          "scene": {
           "xaxis": {
            "backgroundcolor": "#E5ECF6",
            "gridcolor": "white",
            "gridwidth": 2,
            "linecolor": "white",
            "showbackground": true,
            "ticks": "",
            "zerolinecolor": "white"
           },
           "yaxis": {
            "backgroundcolor": "#E5ECF6",
            "gridcolor": "white",
            "gridwidth": 2,
            "linecolor": "white",
            "showbackground": true,
            "ticks": "",
            "zerolinecolor": "white"
           },
           "zaxis": {
            "backgroundcolor": "#E5ECF6",
            "gridcolor": "white",
            "gridwidth": 2,
            "linecolor": "white",
            "showbackground": true,
            "ticks": "",
            "zerolinecolor": "white"
           }
          },
          "shapedefaults": {
           "line": {
            "color": "#2a3f5f"
           }
          },
          "ternary": {
           "aaxis": {
            "gridcolor": "white",
            "linecolor": "white",
            "ticks": ""
           },
           "baxis": {
            "gridcolor": "white",
            "linecolor": "white",
            "ticks": ""
           },
           "bgcolor": "#E5ECF6",
           "caxis": {
            "gridcolor": "white",
            "linecolor": "white",
            "ticks": ""
           }
          },
          "title": {
           "x": 0.05
          },
          "xaxis": {
           "automargin": true,
           "gridcolor": "white",
           "linecolor": "white",
           "ticks": "",
           "title": {
            "standoff": 15
           },
           "zerolinecolor": "white",
           "zerolinewidth": 2
          },
          "yaxis": {
           "automargin": true,
           "gridcolor": "white",
           "linecolor": "white",
           "ticks": "",
           "title": {
            "standoff": 15
           },
           "zerolinecolor": "white",
           "zerolinewidth": 2
          }
         }
        },
        "title": {
         "text": "Evolution of the number of cured patients in Occitanie"
        },
        "xaxis": {
         "anchor": "y",
         "domain": [
          0,
          1
         ],
         "title": {
          "text": "date"
         }
        },
        "yaxis": {
         "anchor": "x",
         "domain": [
          0,
          1
         ],
         "title": {
          "text": "Number"
         }
        }
       }
      }
     },
     "metadata": {}
    },
    {
     "output_type": "stream",
     "name": "stdout",
     "text": [
      "Time to execute: 4.65711 s.\n"
     ]
    }
   ],
   "source": [
    "line_charts.keytimeseries(place='Occitanie', criterion='gueris', evo=True, average=False)"
   ]
  },
  {
   "source": [
    "## Pie chart\n",
    "\n",
    "We created a pie chart function which can show death, hospitalization, intensive care and vaccination rate per region:  "
   ],
   "cell_type": "markdown",
   "metadata": {}
  },
  {
   "cell_type": "code",
   "execution_count": 6,
   "metadata": {},
   "outputs": [
    {
     "output_type": "stream",
     "name": "stdout",
     "text": [
      "Downloading data from https://raw.githubusercontent.com/opencovid19-fr/data/master/dist/chiffres-cles.csv (6.5 MB)\n",
      "\n",
      "file_sizes: 100%|██████████████████████████| 6.79M/6.79M [00:01<00:00, 3.41MB/s]\n",
      "Successfully downloaded file to C:\\Users\\quenf\\vizcovidfr\\vizcovidfr\\loads\\..\\data\\chiffres-cles.csv\n",
      "Downloading data from https://public.opendatasoft.com/explore/dataset/covid-19-france-vaccinations-age-sexe-dep/download/?format=csv&disjunctive.variable_label=true&refine.variable=Par+tranche+d%E2%80%99%C3%A2ge&refine.date=2021&timezone=Europe/Berlin&lang=fr&use_labels_for_header=true&csv_separator=%3B (1 byte)\n",
      "\n",
      "file_sizes: 12.0MB [01:06, 182kB/s]\n",
      "Successfully downloaded file to C:\\Users\\quenf\\vizcovidfr\\vizcovidfr\\loads\\..\\data\\./covid-19-france-vaccinations-age-dep.csv\n",
      "Time to execute: 71.92440 s.\n",
      "c:\\users\\quenf\\vizcovidfr\\vizcovidfr\\pie_charts\\pie_chart.py:139: FutureWarning:\n",
      "\n",
      "Indexing with multiple keys (implicitly converted to a tuple of keys) will be deprecated, use a list instead.\n",
      "\n"
     ]
    },
    {
     "output_type": "display_data",
     "data": {
      "application/vnd.plotly.v1+json": {
       "config": {
        "plotlyServerURL": "https://plot.ly"
       },
       "data": [
        {
         "domain": {
          "x": [
           0,
           1
          ],
          "y": [
           0,
           1
          ]
         },
         "hovertemplate": "Region name=%{label}<br>First vaccine doses administered till today=%{value}<extra></extra>",
         "labels": [
          "Auvergne-Rhône-Alpes",
          "Bourgogne-Franche-Comté",
          "Bretagne",
          "Centre-Val de Loire",
          "Corse",
          "Grand Est",
          "Guadeloupe",
          "Guyane",
          "Hauts-de-France",
          "La Réunion",
          "Martinique",
          "Mayotte",
          "Normandie",
          "Nouvelle-Aquitaine",
          "Occitanie",
          "Pays de la Loire",
          "Provence-Alpes-Côte d'Azur",
          "Île-de-France"
         ],
         "legendgroup": "",
         "name": "",
         "rotation": 180,
         "showlegend": true,
         "textinfo": "percent+label",
         "textposition": "inside",
         "type": "pie",
         "values": [
          1605784,
          601284,
          780038,
          534726,
          95499,
          1156139,
          15853,
          18634,
          1213253,
          63599,
          32496,
          12640,
          745856,
          1432770,
          1327680,
          757699,
          1154925,
          1993928
         ]
        }
       ],
       "layout": {
        "legend": {
         "tracegroupgap": 0
        },
        "piecolorway": [
         "rgb(3, 35, 51)",
         "rgb(13, 48, 100)",
         "rgb(53, 50, 155)",
         "rgb(93, 62, 153)",
         "rgb(126, 77, 143)",
         "rgb(158, 89, 135)",
         "rgb(193, 100, 121)",
         "rgb(225, 113, 97)",
         "rgb(246, 139, 69)",
         "rgb(251, 173, 60)",
         "rgb(246, 211, 70)",
         "rgb(231, 250, 90)"
        ],
        "template": {
         "data": {
          "bar": [
           {
            "error_x": {
             "color": "#f2f5fa"
            },
            "error_y": {
             "color": "#f2f5fa"
            },
            "marker": {
             "line": {
              "color": "rgb(17,17,17)",
              "width": 0.5
             }
            },
            "type": "bar"
           }
          ],
          "barpolar": [
           {
            "marker": {
             "line": {
              "color": "rgb(17,17,17)",
              "width": 0.5
             }
            },
            "type": "barpolar"
           }
          ],
          "carpet": [
           {
            "aaxis": {
             "endlinecolor": "#A2B1C6",
             "gridcolor": "#506784",
             "linecolor": "#506784",
             "minorgridcolor": "#506784",
             "startlinecolor": "#A2B1C6"
            },
            "baxis": {
             "endlinecolor": "#A2B1C6",
             "gridcolor": "#506784",
             "linecolor": "#506784",
             "minorgridcolor": "#506784",
             "startlinecolor": "#A2B1C6"
            },
            "type": "carpet"
           }
          ],
          "choropleth": [
           {
            "colorbar": {
             "outlinewidth": 0,
             "ticks": ""
            },
            "type": "choropleth"
           }
          ],
          "contour": [
           {
            "colorbar": {
             "outlinewidth": 0,
             "ticks": ""
            },
            "colorscale": [
             [
              0,
              "#0d0887"
             ],
             [
              0.1111111111111111,
              "#46039f"
             ],
             [
              0.2222222222222222,
              "#7201a8"
             ],
             [
              0.3333333333333333,
              "#9c179e"
             ],
             [
              0.4444444444444444,
              "#bd3786"
             ],
             [
              0.5555555555555556,
              "#d8576b"
             ],
             [
              0.6666666666666666,
              "#ed7953"
             ],
             [
              0.7777777777777778,
              "#fb9f3a"
             ],
             [
              0.8888888888888888,
              "#fdca26"
             ],
             [
              1,
              "#f0f921"
             ]
            ],
            "type": "contour"
           }
          ],
          "contourcarpet": [
           {
            "colorbar": {
             "outlinewidth": 0,
             "ticks": ""
            },
            "type": "contourcarpet"
           }
          ],
          "heatmap": [
           {
            "colorbar": {
             "outlinewidth": 0,
             "ticks": ""
            },
            "colorscale": [
             [
              0,
              "#0d0887"
             ],
             [
              0.1111111111111111,
              "#46039f"
             ],
             [
              0.2222222222222222,
              "#7201a8"
             ],
             [
              0.3333333333333333,
              "#9c179e"
             ],
             [
              0.4444444444444444,
              "#bd3786"
             ],
             [
              0.5555555555555556,
              "#d8576b"
             ],
             [
              0.6666666666666666,
              "#ed7953"
             ],
             [
              0.7777777777777778,
              "#fb9f3a"
             ],
             [
              0.8888888888888888,
              "#fdca26"
             ],
             [
              1,
              "#f0f921"
             ]
            ],
            "type": "heatmap"
           }
          ],
          "heatmapgl": [
           {
            "colorbar": {
             "outlinewidth": 0,
             "ticks": ""
            },
            "colorscale": [
             [
              0,
              "#0d0887"
             ],
             [
              0.1111111111111111,
              "#46039f"
             ],
             [
              0.2222222222222222,
              "#7201a8"
             ],
             [
              0.3333333333333333,
              "#9c179e"
             ],
             [
              0.4444444444444444,
              "#bd3786"
             ],
             [
              0.5555555555555556,
              "#d8576b"
             ],
             [
              0.6666666666666666,
              "#ed7953"
             ],
             [
              0.7777777777777778,
              "#fb9f3a"
             ],
             [
              0.8888888888888888,
              "#fdca26"
             ],
             [
              1,
              "#f0f921"
             ]
            ],
            "type": "heatmapgl"
           }
          ],
          "histogram": [
           {
            "marker": {
             "colorbar": {
              "outlinewidth": 0,
              "ticks": ""
             }
            },
            "type": "histogram"
           }
          ],
          "histogram2d": [
           {
            "colorbar": {
             "outlinewidth": 0,
             "ticks": ""
            },
            "colorscale": [
             [
              0,
              "#0d0887"
             ],
             [
              0.1111111111111111,
              "#46039f"
             ],
             [
              0.2222222222222222,
              "#7201a8"
             ],
             [
              0.3333333333333333,
              "#9c179e"
             ],
             [
              0.4444444444444444,
              "#bd3786"
             ],
             [
              0.5555555555555556,
              "#d8576b"
             ],
             [
              0.6666666666666666,
              "#ed7953"
             ],
             [
              0.7777777777777778,
              "#fb9f3a"
             ],
             [
              0.8888888888888888,
              "#fdca26"
             ],
             [
              1,
              "#f0f921"
             ]
            ],
            "type": "histogram2d"
           }
          ],
          "histogram2dcontour": [
           {
            "colorbar": {
             "outlinewidth": 0,
             "ticks": ""
            },
            "colorscale": [
             [
              0,
              "#0d0887"
             ],
             [
              0.1111111111111111,
              "#46039f"
             ],
             [
              0.2222222222222222,
              "#7201a8"
             ],
             [
              0.3333333333333333,
              "#9c179e"
             ],
             [
              0.4444444444444444,
              "#bd3786"
             ],
             [
              0.5555555555555556,
              "#d8576b"
             ],
             [
              0.6666666666666666,
              "#ed7953"
             ],
             [
              0.7777777777777778,
              "#fb9f3a"
             ],
             [
              0.8888888888888888,
              "#fdca26"
             ],
             [
              1,
              "#f0f921"
             ]
            ],
            "type": "histogram2dcontour"
           }
          ],
          "mesh3d": [
           {
            "colorbar": {
             "outlinewidth": 0,
             "ticks": ""
            },
            "type": "mesh3d"
           }
          ],
          "parcoords": [
           {
            "line": {
             "colorbar": {
              "outlinewidth": 0,
              "ticks": ""
             }
            },
            "type": "parcoords"
           }
          ],
          "pie": [
           {
            "automargin": true,
            "type": "pie"
           }
          ],
          "scatter": [
           {
            "marker": {
             "line": {
              "color": "#283442"
             }
            },
            "type": "scatter"
           }
          ],
          "scatter3d": [
           {
            "line": {
             "colorbar": {
              "outlinewidth": 0,
              "ticks": ""
             }
            },
            "marker": {
             "colorbar": {
              "outlinewidth": 0,
              "ticks": ""
             }
            },
            "type": "scatter3d"
           }
          ],
          "scattercarpet": [
           {
            "marker": {
             "colorbar": {
              "outlinewidth": 0,
              "ticks": ""
             }
            },
            "type": "scattercarpet"
           }
          ],
          "scattergeo": [
           {
            "marker": {
             "colorbar": {
              "outlinewidth": 0,
              "ticks": ""
             }
            },
            "type": "scattergeo"
           }
          ],
          "scattergl": [
           {
            "marker": {
             "line": {
              "color": "#283442"
             }
            },
            "type": "scattergl"
           }
          ],
          "scattermapbox": [
           {
            "marker": {
             "colorbar": {
              "outlinewidth": 0,
              "ticks": ""
             }
            },
            "type": "scattermapbox"
           }
          ],
          "scatterpolar": [
           {
            "marker": {
             "colorbar": {
              "outlinewidth": 0,
              "ticks": ""
             }
            },
            "type": "scatterpolar"
           }
          ],
          "scatterpolargl": [
           {
            "marker": {
             "colorbar": {
              "outlinewidth": 0,
              "ticks": ""
             }
            },
            "type": "scatterpolargl"
           }
          ],
          "scatterternary": [
           {
            "marker": {
             "colorbar": {
              "outlinewidth": 0,
              "ticks": ""
             }
            },
            "type": "scatterternary"
           }
          ],
          "surface": [
           {
            "colorbar": {
             "outlinewidth": 0,
             "ticks": ""
            },
            "colorscale": [
             [
              0,
              "#0d0887"
             ],
             [
              0.1111111111111111,
              "#46039f"
             ],
             [
              0.2222222222222222,
              "#7201a8"
             ],
             [
              0.3333333333333333,
              "#9c179e"
             ],
             [
              0.4444444444444444,
              "#bd3786"
             ],
             [
              0.5555555555555556,
              "#d8576b"
             ],
             [
              0.6666666666666666,
              "#ed7953"
             ],
             [
              0.7777777777777778,
              "#fb9f3a"
             ],
             [
              0.8888888888888888,
              "#fdca26"
             ],
             [
              1,
              "#f0f921"
             ]
            ],
            "type": "surface"
           }
          ],
          "table": [
           {
            "cells": {
             "fill": {
              "color": "#506784"
             },
             "line": {
              "color": "rgb(17,17,17)"
             }
            },
            "header": {
             "fill": {
              "color": "#2a3f5f"
             },
             "line": {
              "color": "rgb(17,17,17)"
             }
            },
            "type": "table"
           }
          ]
         },
         "layout": {
          "annotationdefaults": {
           "arrowcolor": "#f2f5fa",
           "arrowhead": 0,
           "arrowwidth": 1
          },
          "autotypenumbers": "strict",
          "coloraxis": {
           "colorbar": {
            "outlinewidth": 0,
            "ticks": ""
           }
          },
          "colorscale": {
           "diverging": [
            [
             0,
             "#8e0152"
            ],
            [
             0.1,
             "#c51b7d"
            ],
            [
             0.2,
             "#de77ae"
            ],
            [
             0.3,
             "#f1b6da"
            ],
            [
             0.4,
             "#fde0ef"
            ],
            [
             0.5,
             "#f7f7f7"
            ],
            [
             0.6,
             "#e6f5d0"
            ],
            [
             0.7,
             "#b8e186"
            ],
            [
             0.8,
             "#7fbc41"
            ],
            [
             0.9,
             "#4d9221"
            ],
            [
             1,
             "#276419"
            ]
           ],
           "sequential": [
            [
             0,
             "#0d0887"
            ],
            [
             0.1111111111111111,
             "#46039f"
            ],
            [
             0.2222222222222222,
             "#7201a8"
            ],
            [
             0.3333333333333333,
             "#9c179e"
            ],
            [
             0.4444444444444444,
             "#bd3786"
            ],
            [
             0.5555555555555556,
             "#d8576b"
            ],
            [
             0.6666666666666666,
             "#ed7953"
            ],
            [
             0.7777777777777778,
             "#fb9f3a"
            ],
            [
             0.8888888888888888,
             "#fdca26"
            ],
            [
             1,
             "#f0f921"
            ]
           ],
           "sequentialminus": [
            [
             0,
             "#0d0887"
            ],
            [
             0.1111111111111111,
             "#46039f"
            ],
            [
             0.2222222222222222,
             "#7201a8"
            ],
            [
             0.3333333333333333,
             "#9c179e"
            ],
            [
             0.4444444444444444,
             "#bd3786"
            ],
            [
             0.5555555555555556,
             "#d8576b"
            ],
            [
             0.6666666666666666,
             "#ed7953"
            ],
            [
             0.7777777777777778,
             "#fb9f3a"
            ],
            [
             0.8888888888888888,
             "#fdca26"
            ],
            [
             1,
             "#f0f921"
            ]
           ]
          },
          "colorway": [
           "#636efa",
           "#EF553B",
           "#00cc96",
           "#ab63fa",
           "#FFA15A",
           "#19d3f3",
           "#FF6692",
           "#B6E880",
           "#FF97FF",
           "#FECB52"
          ],
          "font": {
           "color": "#f2f5fa"
          },
          "geo": {
           "bgcolor": "rgb(17,17,17)",
           "lakecolor": "rgb(17,17,17)",
           "landcolor": "rgb(17,17,17)",
           "showlakes": true,
           "showland": true,
           "subunitcolor": "#506784"
          },
          "hoverlabel": {
           "align": "left"
          },
          "hovermode": "closest",
          "mapbox": {
           "style": "dark"
          },
          "paper_bgcolor": "rgb(17,17,17)",
          "plot_bgcolor": "rgb(17,17,17)",
          "polar": {
           "angularaxis": {
            "gridcolor": "#506784",
            "linecolor": "#506784",
            "ticks": ""
           },
           "bgcolor": "rgb(17,17,17)",
           "radialaxis": {
            "gridcolor": "#506784",
            "linecolor": "#506784",
            "ticks": ""
           }
          },
          "scene": {
           "xaxis": {
            "backgroundcolor": "rgb(17,17,17)",
            "gridcolor": "#506784",
            "gridwidth": 2,
            "linecolor": "#506784",
            "showbackground": true,
            "ticks": "",
            "zerolinecolor": "#C8D4E3"
           },
           "yaxis": {
            "backgroundcolor": "rgb(17,17,17)",
            "gridcolor": "#506784",
            "gridwidth": 2,
            "linecolor": "#506784",
            "showbackground": true,
            "ticks": "",
            "zerolinecolor": "#C8D4E3"
           },
           "zaxis": {
            "backgroundcolor": "rgb(17,17,17)",
            "gridcolor": "#506784",
            "gridwidth": 2,
            "linecolor": "#506784",
            "showbackground": true,
            "ticks": "",
            "zerolinecolor": "#C8D4E3"
           }
          },
          "shapedefaults": {
           "line": {
            "color": "#f2f5fa"
           }
          },
          "sliderdefaults": {
           "bgcolor": "#C8D4E3",
           "bordercolor": "rgb(17,17,17)",
           "borderwidth": 1,
           "tickwidth": 0
          },
          "ternary": {
           "aaxis": {
            "gridcolor": "#506784",
            "linecolor": "#506784",
            "ticks": ""
           },
           "baxis": {
            "gridcolor": "#506784",
            "linecolor": "#506784",
            "ticks": ""
           },
           "bgcolor": "rgb(17,17,17)",
           "caxis": {
            "gridcolor": "#506784",
            "linecolor": "#506784",
            "ticks": ""
           }
          },
          "title": {
           "x": 0.05
          },
          "updatemenudefaults": {
           "bgcolor": "#506784",
           "borderwidth": 0
          },
          "xaxis": {
           "automargin": true,
           "gridcolor": "#283442",
           "linecolor": "#506784",
           "ticks": "",
           "title": {
            "standoff": 15
           },
           "zerolinecolor": "#283442",
           "zerolinewidth": 2
          },
          "yaxis": {
           "automargin": true,
           "gridcolor": "#283442",
           "linecolor": "#506784",
           "ticks": "",
           "title": {
            "standoff": 15
           },
           "zerolinecolor": "#283442",
           "zerolinewidth": 2
          }
         }
        },
        "title": {
         "text": "First dose vaccination rate per region until today"
        }
       }
      }
     },
     "metadata": {}
    }
   ],
   "source": [
    "#Pie chart\n",
    "pie_chart.piechart(criterion='vaccination', template='plotly_dark', num_dose='1')"
   ]
  },
  {
   "source": [
    "## Bar plots\n",
    "\n",
    "We created 3 bar plots, two of them can show seven different variables of interest (and are interactive) while the last one shows the comparison between males and females according to the chosen argument."
   ],
   "cell_type": "markdown",
   "metadata": {}
  },
  {
   "source": [
    "- *bar_age*:"
   ],
   "cell_type": "markdown",
   "metadata": {}
  },
  {
   "cell_type": "code",
   "execution_count": 7,
   "metadata": {},
   "outputs": [
    {
     "output_type": "stream",
     "name": "stdout",
     "text": [
      "Downloading data from https://static.data.gouv.fr/resources/donnees-hospitalieres-relatives-a-lepidemie-de-covid-19/20210423-201250/donnees-hospitalieres-classe-age-covid19-2021-04-23-20h12.csv (3.2 MB)\n",
      "\n",
      "file_sizes: 100%|██████████████████████████| 3.31M/3.31M [00:01<00:00, 2.74MB/s]\n",
      "Successfully downloaded file to C:\\Users\\quenf\\vizcovidfr\\vizcovidfr\\loads\\..\\data\\./classe_age.csv\n"
     ]
    },
    {
     "output_type": "display_data",
     "data": {
      "application/vnd.plotly.v1+json": {
       "config": {
        "plotlyServerURL": "https://plot.ly"
       },
       "data": [
        {
         "alignmentgroup": "True",
         "hovertemplate": "Age=%{x}<br>Conventional hospitalization=%{marker.color}<extra></extra>",
         "legendgroup": "",
         "marker": {
          "color": [
           340,
           835,
           3538,
           7374,
           11522,
           22122,
           28383,
           32298,
           33687,
           15206
          ],
          "coloraxis": "coloraxis"
         },
         "name": "",
         "offsetgroup": "",
         "orientation": "v",
         "showlegend": false,
         "textposition": "auto",
         "type": "bar",
         "x": [
          "0-9",
          "10-19",
          "20-29",
          "30-39",
          "40-49",
          "50-59",
          "60-69",
          "70-79",
          "80-89",
          "+90"
         ],
         "xaxis": "x",
         "y": [
          340,
          835,
          3538,
          7374,
          11522,
          22122,
          28383,
          32298,
          33687,
          15206
         ],
         "yaxis": "y"
        }
       ],
       "layout": {
        "barmode": "relative",
        "coloraxis": {
         "colorbar": {
          "title": {
           "text": "Conventional hospitalization"
          }
         },
         "colorscale": [
          [
           0,
           "#0d0887"
          ],
          [
           0.1111111111111111,
           "#46039f"
          ],
          [
           0.2222222222222222,
           "#7201a8"
          ],
          [
           0.3333333333333333,
           "#9c179e"
          ],
          [
           0.4444444444444444,
           "#bd3786"
          ],
          [
           0.5555555555555556,
           "#d8576b"
          ],
          [
           0.6666666666666666,
           "#ed7953"
          ],
          [
           0.7777777777777778,
           "#fb9f3a"
          ],
          [
           0.8888888888888888,
           "#fdca26"
          ],
          [
           1,
           "#f0f921"
          ]
         ]
        },
        "height": 400,
        "legend": {
         "tracegroupgap": 0
        },
        "template": {
         "data": {
          "bar": [
           {
            "error_x": {
             "color": "#2a3f5f"
            },
            "error_y": {
             "color": "#2a3f5f"
            },
            "marker": {
             "line": {
              "color": "#E5ECF6",
              "width": 0.5
             }
            },
            "type": "bar"
           }
          ],
          "barpolar": [
           {
            "marker": {
             "line": {
              "color": "#E5ECF6",
              "width": 0.5
             }
            },
            "type": "barpolar"
           }
          ],
          "carpet": [
           {
            "aaxis": {
             "endlinecolor": "#2a3f5f",
             "gridcolor": "white",
             "linecolor": "white",
             "minorgridcolor": "white",
             "startlinecolor": "#2a3f5f"
            },
            "baxis": {
             "endlinecolor": "#2a3f5f",
             "gridcolor": "white",
             "linecolor": "white",
             "minorgridcolor": "white",
             "startlinecolor": "#2a3f5f"
            },
            "type": "carpet"
           }
          ],
          "choropleth": [
           {
            "colorbar": {
             "outlinewidth": 0,
             "ticks": ""
            },
            "type": "choropleth"
           }
          ],
          "contour": [
           {
            "colorbar": {
             "outlinewidth": 0,
             "ticks": ""
            },
            "colorscale": [
             [
              0,
              "#0d0887"
             ],
             [
              0.1111111111111111,
              "#46039f"
             ],
             [
              0.2222222222222222,
              "#7201a8"
             ],
             [
              0.3333333333333333,
              "#9c179e"
             ],
             [
              0.4444444444444444,
              "#bd3786"
             ],
             [
              0.5555555555555556,
              "#d8576b"
             ],
             [
              0.6666666666666666,
              "#ed7953"
             ],
             [
              0.7777777777777778,
              "#fb9f3a"
             ],
             [
              0.8888888888888888,
              "#fdca26"
             ],
             [
              1,
              "#f0f921"
             ]
            ],
            "type": "contour"
           }
          ],
          "contourcarpet": [
           {
            "colorbar": {
             "outlinewidth": 0,
             "ticks": ""
            },
            "type": "contourcarpet"
           }
          ],
          "heatmap": [
           {
            "colorbar": {
             "outlinewidth": 0,
             "ticks": ""
            },
            "colorscale": [
             [
              0,
              "#0d0887"
             ],
             [
              0.1111111111111111,
              "#46039f"
             ],
             [
              0.2222222222222222,
              "#7201a8"
             ],
             [
              0.3333333333333333,
              "#9c179e"
             ],
             [
              0.4444444444444444,
              "#bd3786"
             ],
             [
              0.5555555555555556,
              "#d8576b"
             ],
             [
              0.6666666666666666,
              "#ed7953"
             ],
             [
              0.7777777777777778,
              "#fb9f3a"
             ],
             [
              0.8888888888888888,
              "#fdca26"
             ],
             [
              1,
              "#f0f921"
             ]
            ],
            "type": "heatmap"
           }
          ],
          "heatmapgl": [
           {
            "colorbar": {
             "outlinewidth": 0,
             "ticks": ""
            },
            "colorscale": [
             [
              0,
              "#0d0887"
             ],
             [
              0.1111111111111111,
              "#46039f"
             ],
             [
              0.2222222222222222,
              "#7201a8"
             ],
             [
              0.3333333333333333,
              "#9c179e"
             ],
             [
              0.4444444444444444,
              "#bd3786"
             ],
             [
              0.5555555555555556,
              "#d8576b"
             ],
             [
              0.6666666666666666,
              "#ed7953"
             ],
             [
              0.7777777777777778,
              "#fb9f3a"
             ],
             [
              0.8888888888888888,
              "#fdca26"
             ],
             [
              1,
              "#f0f921"
             ]
            ],
            "type": "heatmapgl"
           }
          ],
          "histogram": [
           {
            "marker": {
             "colorbar": {
              "outlinewidth": 0,
              "ticks": ""
             }
            },
            "type": "histogram"
           }
          ],
          "histogram2d": [
           {
            "colorbar": {
             "outlinewidth": 0,
             "ticks": ""
            },
            "colorscale": [
             [
              0,
              "#0d0887"
             ],
             [
              0.1111111111111111,
              "#46039f"
             ],
             [
              0.2222222222222222,
              "#7201a8"
             ],
             [
              0.3333333333333333,
              "#9c179e"
             ],
             [
              0.4444444444444444,
              "#bd3786"
             ],
             [
              0.5555555555555556,
              "#d8576b"
             ],
             [
              0.6666666666666666,
              "#ed7953"
             ],
             [
              0.7777777777777778,
              "#fb9f3a"
             ],
             [
              0.8888888888888888,
              "#fdca26"
             ],
             [
              1,
              "#f0f921"
             ]
            ],
            "type": "histogram2d"
           }
          ],
          "histogram2dcontour": [
           {
            "colorbar": {
             "outlinewidth": 0,
             "ticks": ""
            },
            "colorscale": [
             [
              0,
              "#0d0887"
             ],
             [
              0.1111111111111111,
              "#46039f"
             ],
             [
              0.2222222222222222,
              "#7201a8"
             ],
             [
              0.3333333333333333,
              "#9c179e"
             ],
             [
              0.4444444444444444,
              "#bd3786"
             ],
             [
              0.5555555555555556,
              "#d8576b"
             ],
             [
              0.6666666666666666,
              "#ed7953"
             ],
             [
              0.7777777777777778,
              "#fb9f3a"
             ],
             [
              0.8888888888888888,
              "#fdca26"
             ],
             [
              1,
              "#f0f921"
             ]
            ],
            "type": "histogram2dcontour"
           }
          ],
          "mesh3d": [
           {
            "colorbar": {
             "outlinewidth": 0,
             "ticks": ""
            },
            "type": "mesh3d"
           }
          ],
          "parcoords": [
           {
            "line": {
             "colorbar": {
              "outlinewidth": 0,
              "ticks": ""
             }
            },
            "type": "parcoords"
           }
          ],
          "pie": [
           {
            "automargin": true,
            "type": "pie"
           }
          ],
          "scatter": [
           {
            "marker": {
             "colorbar": {
              "outlinewidth": 0,
              "ticks": ""
             }
            },
            "type": "scatter"
           }
          ],
          "scatter3d": [
           {
            "line": {
             "colorbar": {
              "outlinewidth": 0,
              "ticks": ""
             }
            },
            "marker": {
             "colorbar": {
              "outlinewidth": 0,
              "ticks": ""
             }
            },
            "type": "scatter3d"
           }
          ],
          "scattercarpet": [
           {
            "marker": {
             "colorbar": {
              "outlinewidth": 0,
              "ticks": ""
             }
            },
            "type": "scattercarpet"
           }
          ],
          "scattergeo": [
           {
            "marker": {
             "colorbar": {
              "outlinewidth": 0,
              "ticks": ""
             }
            },
            "type": "scattergeo"
           }
          ],
          "scattergl": [
           {
            "marker": {
             "colorbar": {
              "outlinewidth": 0,
              "ticks": ""
             }
            },
            "type": "scattergl"
           }
          ],
          "scattermapbox": [
           {
            "marker": {
             "colorbar": {
              "outlinewidth": 0,
              "ticks": ""
             }
            },
            "type": "scattermapbox"
           }
          ],
          "scatterpolar": [
           {
            "marker": {
             "colorbar": {
              "outlinewidth": 0,
              "ticks": ""
             }
            },
            "type": "scatterpolar"
           }
          ],
          "scatterpolargl": [
           {
            "marker": {
             "colorbar": {
              "outlinewidth": 0,
              "ticks": ""
             }
            },
            "type": "scatterpolargl"
           }
          ],
          "scatterternary": [
           {
            "marker": {
             "colorbar": {
              "outlinewidth": 0,
              "ticks": ""
             }
            },
            "type": "scatterternary"
           }
          ],
          "surface": [
           {
            "colorbar": {
             "outlinewidth": 0,
             "ticks": ""
            },
            "colorscale": [
             [
              0,
              "#0d0887"
             ],
             [
              0.1111111111111111,
              "#46039f"
             ],
             [
              0.2222222222222222,
              "#7201a8"
             ],
             [
              0.3333333333333333,
              "#9c179e"
             ],
             [
              0.4444444444444444,
              "#bd3786"
             ],
             [
              0.5555555555555556,
              "#d8576b"
             ],
             [
              0.6666666666666666,
              "#ed7953"
             ],
             [
              0.7777777777777778,
              "#fb9f3a"
             ],
             [
              0.8888888888888888,
              "#fdca26"
             ],
             [
              1,
              "#f0f921"
             ]
            ],
            "type": "surface"
           }
          ],
          "table": [
           {
            "cells": {
             "fill": {
              "color": "#EBF0F8"
             },
             "line": {
              "color": "white"
             }
            },
            "header": {
             "fill": {
              "color": "#C8D4E3"
             },
             "line": {
              "color": "white"
             }
            },
            "type": "table"
           }
          ]
         },
         "layout": {
          "annotationdefaults": {
           "arrowcolor": "#2a3f5f",
           "arrowhead": 0,
           "arrowwidth": 1
          },
          "autotypenumbers": "strict",
          "coloraxis": {
           "colorbar": {
            "outlinewidth": 0,
            "ticks": ""
           }
          },
          "colorscale": {
           "diverging": [
            [
             0,
             "#8e0152"
            ],
            [
             0.1,
             "#c51b7d"
            ],
            [
             0.2,
             "#de77ae"
            ],
            [
             0.3,
             "#f1b6da"
            ],
            [
             0.4,
             "#fde0ef"
            ],
            [
             0.5,
             "#f7f7f7"
            ],
            [
             0.6,
             "#e6f5d0"
            ],
            [
             0.7,
             "#b8e186"
            ],
            [
             0.8,
             "#7fbc41"
            ],
            [
             0.9,
             "#4d9221"
            ],
            [
             1,
             "#276419"
            ]
           ],
           "sequential": [
            [
             0,
             "#0d0887"
            ],
            [
             0.1111111111111111,
             "#46039f"
            ],
            [
             0.2222222222222222,
             "#7201a8"
            ],
            [
             0.3333333333333333,
             "#9c179e"
            ],
            [
             0.4444444444444444,
             "#bd3786"
            ],
            [
             0.5555555555555556,
             "#d8576b"
            ],
            [
             0.6666666666666666,
             "#ed7953"
            ],
            [
             0.7777777777777778,
             "#fb9f3a"
            ],
            [
             0.8888888888888888,
             "#fdca26"
            ],
            [
             1,
             "#f0f921"
            ]
           ],
           "sequentialminus": [
            [
             0,
             "#0d0887"
            ],
            [
             0.1111111111111111,
             "#46039f"
            ],
            [
             0.2222222222222222,
             "#7201a8"
            ],
            [
             0.3333333333333333,
             "#9c179e"
            ],
            [
             0.4444444444444444,
             "#bd3786"
            ],
            [
             0.5555555555555556,
             "#d8576b"
            ],
            [
             0.6666666666666666,
             "#ed7953"
            ],
            [
             0.7777777777777778,
             "#fb9f3a"
            ],
            [
             0.8888888888888888,
             "#fdca26"
            ],
            [
             1,
             "#f0f921"
            ]
           ]
          },
          "colorway": [
           "#636efa",
           "#EF553B",
           "#00cc96",
           "#ab63fa",
           "#FFA15A",
           "#19d3f3",
           "#FF6692",
           "#B6E880",
           "#FF97FF",
           "#FECB52"
          ],
          "font": {
           "color": "#2a3f5f"
          },
          "geo": {
           "bgcolor": "white",
           "lakecolor": "white",
           "landcolor": "#E5ECF6",
           "showlakes": true,
           "showland": true,
           "subunitcolor": "white"
          },
          "hoverlabel": {
           "align": "left"
          },
          "hovermode": "closest",
          "mapbox": {
           "style": "light"
          },
          "paper_bgcolor": "white",
          "plot_bgcolor": "#E5ECF6",
          "polar": {
           "angularaxis": {
            "gridcolor": "white",
            "linecolor": "white",
            "ticks": ""
           },
           "bgcolor": "#E5ECF6",
           "radialaxis": {
            "gridcolor": "white",
            "linecolor": "white",
            "ticks": ""
           }
          },
          "scene": {
           "xaxis": {
            "backgroundcolor": "#E5ECF6",
            "gridcolor": "white",
            "gridwidth": 2,
            "linecolor": "white",
            "showbackground": true,
            "ticks": "",
            "zerolinecolor": "white"
           },
           "yaxis": {
            "backgroundcolor": "#E5ECF6",
            "gridcolor": "white",
            "gridwidth": 2,
            "linecolor": "white",
            "showbackground": true,
            "ticks": "",
            "zerolinecolor": "white"
           },
           "zaxis": {
            "backgroundcolor": "#E5ECF6",
            "gridcolor": "white",
            "gridwidth": 2,
            "linecolor": "white",
            "showbackground": true,
            "ticks": "",
            "zerolinecolor": "white"
           }
          },
          "shapedefaults": {
           "line": {
            "color": "#2a3f5f"
           }
          },
          "ternary": {
           "aaxis": {
            "gridcolor": "white",
            "linecolor": "white",
            "ticks": ""
           },
           "baxis": {
            "gridcolor": "white",
            "linecolor": "white",
            "ticks": ""
           },
           "bgcolor": "#E5ECF6",
           "caxis": {
            "gridcolor": "white",
            "linecolor": "white",
            "ticks": ""
           }
          },
          "title": {
           "x": 0.05
          },
          "xaxis": {
           "automargin": true,
           "gridcolor": "white",
           "linecolor": "white",
           "ticks": "",
           "title": {
            "standoff": 15
           },
           "zerolinecolor": "white",
           "zerolinewidth": 2
          },
          "yaxis": {
           "automargin": true,
           "gridcolor": "white",
           "linecolor": "white",
           "ticks": "",
           "title": {
            "standoff": 15
           },
           "zerolinecolor": "white",
           "zerolinewidth": 2
          }
         }
        },
        "title": {
         "text": "Bar plot of Conventional hospitalization in Île-de-France by age group today"
        },
        "xaxis": {
         "anchor": "y",
         "domain": [
          0,
          1
         ],
         "title": {
          "text": "Age"
         }
        },
        "yaxis": {
         "anchor": "x",
         "domain": [
          0,
          1
         ],
         "title": {
          "text": "Conventional hospitalization"
         }
        }
       }
      }
     },
     "metadata": {}
    },
    {
     "output_type": "stream",
     "name": "stdout",
     "text": [
      "Time to execute: 2.15563 s.\n"
     ]
    }
   ],
   "source": [
    "#Barplots\n",
    "barplots.bar_age(3, 11, save=False)"
   ]
  },
  {
   "source": [
    "- *bar_reg*:"
   ],
   "cell_type": "markdown",
   "metadata": {}
  },
  {
   "cell_type": "code",
   "execution_count": 8,
   "metadata": {},
   "outputs": [
    {
     "output_type": "stream",
     "name": "stdout",
     "text": [
      "Downloading data from https://static.data.gouv.fr/resources/donnees-hospitalieres-relatives-a-lepidemie-de-covid-19/20210423-201250/donnees-hospitalieres-classe-age-covid19-2021-04-23-20h12.csv (3.2 MB)\n",
      "\n",
      "file_sizes: 100%|██████████████████████████| 3.31M/3.31M [00:01<00:00, 3.04MB/s]\n",
      "Successfully downloaded file to C:\\Users\\quenf\\vizcovidfr\\vizcovidfr\\loads\\..\\data\\./classe_age.csv\n"
     ]
    },
    {
     "output_type": "display_data",
     "data": {
      "application/vnd.plotly.v1+json": {
       "config": {
        "plotlyServerURL": "https://plot.ly"
       },
       "data": [
        {
         "alignmentgroup": "True",
         "hovertemplate": "Region in France=%{x}<br>Conventional hospitalization=%{marker.color}<extra></extra>",
         "legendgroup": "",
         "marker": {
          "color": [
           2090,
           2298,
           696,
           3547,
           1111,
           155305,
           20317,
           29136,
           31308,
           80410,
           61946,
           22305,
           16964,
           28303,
           34715,
           86137,
           61623,
           2064
          ],
          "coloraxis": "coloraxis"
         },
         "name": "",
         "offsetgroup": "",
         "orientation": "v",
         "showlegend": false,
         "textposition": "auto",
         "type": "bar",
         "x": [
          1,
          2,
          3,
          4,
          6,
          11,
          24,
          27,
          28,
          32,
          44,
          52,
          53,
          75,
          76,
          84,
          93,
          94
         ],
         "xaxis": "x",
         "y": [
          2090,
          2298,
          696,
          3547,
          1111,
          155305,
          20317,
          29136,
          31308,
          80410,
          61946,
          22305,
          16964,
          28303,
          34715,
          86137,
          61623,
          2064
         ],
         "yaxis": "y"
        }
       ],
       "layout": {
        "barmode": "relative",
        "coloraxis": {
         "colorbar": {
          "title": {
           "text": "Conventional hospitalization"
          }
         },
         "colorscale": [
          [
           0,
           "#0d0887"
          ],
          [
           0.1111111111111111,
           "#46039f"
          ],
          [
           0.2222222222222222,
           "#7201a8"
          ],
          [
           0.3333333333333333,
           "#9c179e"
          ],
          [
           0.4444444444444444,
           "#bd3786"
          ],
          [
           0.5555555555555556,
           "#d8576b"
          ],
          [
           0.6666666666666666,
           "#ed7953"
          ],
          [
           0.7777777777777778,
           "#fb9f3a"
          ],
          [
           0.8888888888888888,
           "#fdca26"
          ],
          [
           1,
           "#f0f921"
          ]
         ]
        },
        "height": 400,
        "legend": {
         "tracegroupgap": 0
        },
        "template": {
         "data": {
          "bar": [
           {
            "error_x": {
             "color": "#2a3f5f"
            },
            "error_y": {
             "color": "#2a3f5f"
            },
            "marker": {
             "line": {
              "color": "#E5ECF6",
              "width": 0.5
             }
            },
            "type": "bar"
           }
          ],
          "barpolar": [
           {
            "marker": {
             "line": {
              "color": "#E5ECF6",
              "width": 0.5
             }
            },
            "type": "barpolar"
           }
          ],
          "carpet": [
           {
            "aaxis": {
             "endlinecolor": "#2a3f5f",
             "gridcolor": "white",
             "linecolor": "white",
             "minorgridcolor": "white",
             "startlinecolor": "#2a3f5f"
            },
            "baxis": {
             "endlinecolor": "#2a3f5f",
             "gridcolor": "white",
             "linecolor": "white",
             "minorgridcolor": "white",
             "startlinecolor": "#2a3f5f"
            },
            "type": "carpet"
           }
          ],
          "choropleth": [
           {
            "colorbar": {
             "outlinewidth": 0,
             "ticks": ""
            },
            "type": "choropleth"
           }
          ],
          "contour": [
           {
            "colorbar": {
             "outlinewidth": 0,
             "ticks": ""
            },
            "colorscale": [
             [
              0,
              "#0d0887"
             ],
             [
              0.1111111111111111,
              "#46039f"
             ],
             [
              0.2222222222222222,
              "#7201a8"
             ],
             [
              0.3333333333333333,
              "#9c179e"
             ],
             [
              0.4444444444444444,
              "#bd3786"
             ],
             [
              0.5555555555555556,
              "#d8576b"
             ],
             [
              0.6666666666666666,
              "#ed7953"
             ],
             [
              0.7777777777777778,
              "#fb9f3a"
             ],
             [
              0.8888888888888888,
              "#fdca26"
             ],
             [
              1,
              "#f0f921"
             ]
            ],
            "type": "contour"
           }
          ],
          "contourcarpet": [
           {
            "colorbar": {
             "outlinewidth": 0,
             "ticks": ""
            },
            "type": "contourcarpet"
           }
          ],
          "heatmap": [
           {
            "colorbar": {
             "outlinewidth": 0,
             "ticks": ""
            },
            "colorscale": [
             [
              0,
              "#0d0887"
             ],
             [
              0.1111111111111111,
              "#46039f"
             ],
             [
              0.2222222222222222,
              "#7201a8"
             ],
             [
              0.3333333333333333,
              "#9c179e"
             ],
             [
              0.4444444444444444,
              "#bd3786"
             ],
             [
              0.5555555555555556,
              "#d8576b"
             ],
             [
              0.6666666666666666,
              "#ed7953"
             ],
             [
              0.7777777777777778,
              "#fb9f3a"
             ],
             [
              0.8888888888888888,
              "#fdca26"
             ],
             [
              1,
              "#f0f921"
             ]
            ],
            "type": "heatmap"
           }
          ],
          "heatmapgl": [
           {
            "colorbar": {
             "outlinewidth": 0,
             "ticks": ""
            },
            "colorscale": [
             [
              0,
              "#0d0887"
             ],
             [
              0.1111111111111111,
              "#46039f"
             ],
             [
              0.2222222222222222,
              "#7201a8"
             ],
             [
              0.3333333333333333,
              "#9c179e"
             ],
             [
              0.4444444444444444,
              "#bd3786"
             ],
             [
              0.5555555555555556,
              "#d8576b"
             ],
             [
              0.6666666666666666,
              "#ed7953"
             ],
             [
              0.7777777777777778,
              "#fb9f3a"
             ],
             [
              0.8888888888888888,
              "#fdca26"
             ],
             [
              1,
              "#f0f921"
             ]
            ],
            "type": "heatmapgl"
           }
          ],
          "histogram": [
           {
            "marker": {
             "colorbar": {
              "outlinewidth": 0,
              "ticks": ""
             }
            },
            "type": "histogram"
           }
          ],
          "histogram2d": [
           {
            "colorbar": {
             "outlinewidth": 0,
             "ticks": ""
            },
            "colorscale": [
             [
              0,
              "#0d0887"
             ],
             [
              0.1111111111111111,
              "#46039f"
             ],
             [
              0.2222222222222222,
              "#7201a8"
             ],
             [
              0.3333333333333333,
              "#9c179e"
             ],
             [
              0.4444444444444444,
              "#bd3786"
             ],
             [
              0.5555555555555556,
              "#d8576b"
             ],
             [
              0.6666666666666666,
              "#ed7953"
             ],
             [
              0.7777777777777778,
              "#fb9f3a"
             ],
             [
              0.8888888888888888,
              "#fdca26"
             ],
             [
              1,
              "#f0f921"
             ]
            ],
            "type": "histogram2d"
           }
          ],
          "histogram2dcontour": [
           {
            "colorbar": {
             "outlinewidth": 0,
             "ticks": ""
            },
            "colorscale": [
             [
              0,
              "#0d0887"
             ],
             [
              0.1111111111111111,
              "#46039f"
             ],
             [
              0.2222222222222222,
              "#7201a8"
             ],
             [
              0.3333333333333333,
              "#9c179e"
             ],
             [
              0.4444444444444444,
              "#bd3786"
             ],
             [
              0.5555555555555556,
              "#d8576b"
             ],
             [
              0.6666666666666666,
              "#ed7953"
             ],
             [
              0.7777777777777778,
              "#fb9f3a"
             ],
             [
              0.8888888888888888,
              "#fdca26"
             ],
             [
              1,
              "#f0f921"
             ]
            ],
            "type": "histogram2dcontour"
           }
          ],
          "mesh3d": [
           {
            "colorbar": {
             "outlinewidth": 0,
             "ticks": ""
            },
            "type": "mesh3d"
           }
          ],
          "parcoords": [
           {
            "line": {
             "colorbar": {
              "outlinewidth": 0,
              "ticks": ""
             }
            },
            "type": "parcoords"
           }
          ],
          "pie": [
           {
            "automargin": true,
            "type": "pie"
           }
          ],
          "scatter": [
           {
            "marker": {
             "colorbar": {
              "outlinewidth": 0,
              "ticks": ""
             }
            },
            "type": "scatter"
           }
          ],
          "scatter3d": [
           {
            "line": {
             "colorbar": {
              "outlinewidth": 0,
              "ticks": ""
             }
            },
            "marker": {
             "colorbar": {
              "outlinewidth": 0,
              "ticks": ""
             }
            },
            "type": "scatter3d"
           }
          ],
          "scattercarpet": [
           {
            "marker": {
             "colorbar": {
              "outlinewidth": 0,
              "ticks": ""
             }
            },
            "type": "scattercarpet"
           }
          ],
          "scattergeo": [
           {
            "marker": {
             "colorbar": {
              "outlinewidth": 0,
              "ticks": ""
             }
            },
            "type": "scattergeo"
           }
          ],
          "scattergl": [
           {
            "marker": {
             "colorbar": {
              "outlinewidth": 0,
              "ticks": ""
             }
            },
            "type": "scattergl"
           }
          ],
          "scattermapbox": [
           {
            "marker": {
             "colorbar": {
              "outlinewidth": 0,
              "ticks": ""
             }
            },
            "type": "scattermapbox"
           }
          ],
          "scatterpolar": [
           {
            "marker": {
             "colorbar": {
              "outlinewidth": 0,
              "ticks": ""
             }
            },
            "type": "scatterpolar"
           }
          ],
          "scatterpolargl": [
           {
            "marker": {
             "colorbar": {
              "outlinewidth": 0,
              "ticks": ""
             }
            },
            "type": "scatterpolargl"
           }
          ],
          "scatterternary": [
           {
            "marker": {
             "colorbar": {
              "outlinewidth": 0,
              "ticks": ""
             }
            },
            "type": "scatterternary"
           }
          ],
          "surface": [
           {
            "colorbar": {
             "outlinewidth": 0,
             "ticks": ""
            },
            "colorscale": [
             [
              0,
              "#0d0887"
             ],
             [
              0.1111111111111111,
              "#46039f"
             ],
             [
              0.2222222222222222,
              "#7201a8"
             ],
             [
              0.3333333333333333,
              "#9c179e"
             ],
             [
              0.4444444444444444,
              "#bd3786"
             ],
             [
              0.5555555555555556,
              "#d8576b"
             ],
             [
              0.6666666666666666,
              "#ed7953"
             ],
             [
              0.7777777777777778,
              "#fb9f3a"
             ],
             [
              0.8888888888888888,
              "#fdca26"
             ],
             [
              1,
              "#f0f921"
             ]
            ],
            "type": "surface"
           }
          ],
          "table": [
           {
            "cells": {
             "fill": {
              "color": "#EBF0F8"
             },
             "line": {
              "color": "white"
             }
            },
            "header": {
             "fill": {
              "color": "#C8D4E3"
             },
             "line": {
              "color": "white"
             }
            },
            "type": "table"
           }
          ]
         },
         "layout": {
          "annotationdefaults": {
           "arrowcolor": "#2a3f5f",
           "arrowhead": 0,
           "arrowwidth": 1
          },
          "autotypenumbers": "strict",
          "coloraxis": {
           "colorbar": {
            "outlinewidth": 0,
            "ticks": ""
           }
          },
          "colorscale": {
           "diverging": [
            [
             0,
             "#8e0152"
            ],
            [
             0.1,
             "#c51b7d"
            ],
            [
             0.2,
             "#de77ae"
            ],
            [
             0.3,
             "#f1b6da"
            ],
            [
             0.4,
             "#fde0ef"
            ],
            [
             0.5,
             "#f7f7f7"
            ],
            [
             0.6,
             "#e6f5d0"
            ],
            [
             0.7,
             "#b8e186"
            ],
            [
             0.8,
             "#7fbc41"
            ],
            [
             0.9,
             "#4d9221"
            ],
            [
             1,
             "#276419"
            ]
           ],
           "sequential": [
            [
             0,
             "#0d0887"
            ],
            [
             0.1111111111111111,
             "#46039f"
            ],
            [
             0.2222222222222222,
             "#7201a8"
            ],
            [
             0.3333333333333333,
             "#9c179e"
            ],
            [
             0.4444444444444444,
             "#bd3786"
            ],
            [
             0.5555555555555556,
             "#d8576b"
            ],
            [
             0.6666666666666666,
             "#ed7953"
            ],
            [
             0.7777777777777778,
             "#fb9f3a"
            ],
            [
             0.8888888888888888,
             "#fdca26"
            ],
            [
             1,
             "#f0f921"
            ]
           ],
           "sequentialminus": [
            [
             0,
             "#0d0887"
            ],
            [
             0.1111111111111111,
             "#46039f"
            ],
            [
             0.2222222222222222,
             "#7201a8"
            ],
            [
             0.3333333333333333,
             "#9c179e"
            ],
            [
             0.4444444444444444,
             "#bd3786"
            ],
            [
             0.5555555555555556,
             "#d8576b"
            ],
            [
             0.6666666666666666,
             "#ed7953"
            ],
            [
             0.7777777777777778,
             "#fb9f3a"
            ],
            [
             0.8888888888888888,
             "#fdca26"
            ],
            [
             1,
             "#f0f921"
            ]
           ]
          },
          "colorway": [
           "#636efa",
           "#EF553B",
           "#00cc96",
           "#ab63fa",
           "#FFA15A",
           "#19d3f3",
           "#FF6692",
           "#B6E880",
           "#FF97FF",
           "#FECB52"
          ],
          "font": {
           "color": "#2a3f5f"
          },
          "geo": {
           "bgcolor": "white",
           "lakecolor": "white",
           "landcolor": "#E5ECF6",
           "showlakes": true,
           "showland": true,
           "subunitcolor": "white"
          },
          "hoverlabel": {
           "align": "left"
          },
          "hovermode": "closest",
          "mapbox": {
           "style": "light"
          },
          "paper_bgcolor": "white",
          "plot_bgcolor": "#E5ECF6",
          "polar": {
           "angularaxis": {
            "gridcolor": "white",
            "linecolor": "white",
            "ticks": ""
           },
           "bgcolor": "#E5ECF6",
           "radialaxis": {
            "gridcolor": "white",
            "linecolor": "white",
            "ticks": ""
           }
          },
          "scene": {
           "xaxis": {
            "backgroundcolor": "#E5ECF6",
            "gridcolor": "white",
            "gridwidth": 2,
            "linecolor": "white",
            "showbackground": true,
            "ticks": "",
            "zerolinecolor": "white"
           },
           "yaxis": {
            "backgroundcolor": "#E5ECF6",
            "gridcolor": "white",
            "gridwidth": 2,
            "linecolor": "white",
            "showbackground": true,
            "ticks": "",
            "zerolinecolor": "white"
           },
           "zaxis": {
            "backgroundcolor": "#E5ECF6",
            "gridcolor": "white",
            "gridwidth": 2,
            "linecolor": "white",
            "showbackground": true,
            "ticks": "",
            "zerolinecolor": "white"
           }
          },
          "shapedefaults": {
           "line": {
            "color": "#2a3f5f"
           }
          },
          "ternary": {
           "aaxis": {
            "gridcolor": "white",
            "linecolor": "white",
            "ticks": ""
           },
           "baxis": {
            "gridcolor": "white",
            "linecolor": "white",
            "ticks": ""
           },
           "bgcolor": "#E5ECF6",
           "caxis": {
            "gridcolor": "white",
            "linecolor": "white",
            "ticks": ""
           }
          },
          "title": {
           "x": 0.05
          },
          "xaxis": {
           "automargin": true,
           "gridcolor": "white",
           "linecolor": "white",
           "ticks": "",
           "title": {
            "standoff": 15
           },
           "zerolinecolor": "white",
           "zerolinewidth": 2
          },
          "yaxis": {
           "automargin": true,
           "gridcolor": "white",
           "linecolor": "white",
           "ticks": "",
           "title": {
            "standoff": 15
           },
           "zerolinecolor": "white",
           "zerolinewidth": 2
          }
         }
        },
        "title": {
         "text": "Bar plot of Conventional hospitalization by region group today"
        },
        "xaxis": {
         "anchor": "y",
         "domain": [
          0,
          1
         ],
         "title": {
          "text": "Region in France"
         },
         "type": "category"
        },
        "yaxis": {
         "anchor": "x",
         "domain": [
          0,
          1
         ],
         "title": {
          "text": "Conventional hospitalization"
         }
        }
       }
      }
     },
     "metadata": {}
    },
    {
     "output_type": "stream",
     "name": "stdout",
     "text": [
      "Time to execute: 1.94353 s.\n"
     ]
    }
   ],
   "source": [
    "barplots.bar_reg(3)"
   ]
  },
  {
   "source": [
    "- *compareMF*:"
   ],
   "cell_type": "markdown",
   "metadata": {}
  },
  {
   "cell_type": "code",
   "execution_count": 12,
   "metadata": {},
   "outputs": [
    {
     "output_type": "stream",
     "name": "stdout",
     "text": [
      "Downloading data from https://static.data.gouv.fr/resources/taux-dincidence-de-lepidemie-de-covid-19/20210424-191026/sp-pe-tb-quot-reg-2021-04-24-19h10.csv (3.6 MB)\n",
      "\n",
      "file_sizes: 100%|██████████████████████████| 3.74M/3.74M [00:01<00:00, 3.10MB/s]\n",
      "Successfully downloaded file to C:\\Users\\quenf\\vizcovidfr\\vizcovidfr\\loads\\..\\data\\./incquotreg.csv\n",
      "Time to execute: 1.81103 s.\n"
     ]
    },
    {
     "output_type": "display_data",
     "data": {
      "text/plain": "<Figure size 432x288 with 1 Axes>",
      "image/svg+xml": "<?xml version=\"1.0\" encoding=\"utf-8\" standalone=\"no\"?>\r\n<!DOCTYPE svg PUBLIC \"-//W3C//DTD SVG 1.1//EN\"\r\n  \"http://www.w3.org/Graphics/SVG/1.1/DTD/svg11.dtd\">\r\n<!-- Created with matplotlib (https://matplotlib.org/) -->\r\n<svg height=\"277.314375pt\" version=\"1.1\" viewBox=\"0 0 396.36625 277.314375\" width=\"396.36625pt\" xmlns=\"http://www.w3.org/2000/svg\" xmlns:xlink=\"http://www.w3.org/1999/xlink\">\r\n <metadata>\r\n  <rdf:RDF xmlns:cc=\"http://creativecommons.org/ns#\" xmlns:dc=\"http://purl.org/dc/elements/1.1/\" xmlns:rdf=\"http://www.w3.org/1999/02/22-rdf-syntax-ns#\">\r\n   <cc:Work>\r\n    <dc:type rdf:resource=\"http://purl.org/dc/dcmitype/StillImage\"/>\r\n    <dc:date>2021-04-24T21:27:11.348984</dc:date>\r\n    <dc:format>image/svg+xml</dc:format>\r\n    <dc:creator>\r\n     <cc:Agent>\r\n      <dc:title>Matplotlib v3.3.2, https://matplotlib.org/</dc:title>\r\n     </cc:Agent>\r\n    </dc:creator>\r\n   </cc:Work>\r\n  </rdf:RDF>\r\n </metadata>\r\n <defs>\r\n  <style type=\"text/css\">*{stroke-linecap:butt;stroke-linejoin:round;}</style>\r\n </defs>\r\n <g id=\"figure_1\">\r\n  <g id=\"patch_1\">\r\n   <path d=\"M 0 277.314375 \r\nL 396.36625 277.314375 \r\nL 396.36625 0 \r\nL 0 0 \r\nz\r\n\" style=\"fill:none;\"/>\r\n  </g>\r\n  <g id=\"axes_1\">\r\n   <g id=\"patch_2\">\r\n    <path d=\"M 50.14375 239.758125 \r\nL 384.94375 239.758125 \r\nL 384.94375 22.318125 \r\nL 50.14375 22.318125 \r\nz\r\n\" style=\"fill:#ffffff;\"/>\r\n   </g>\r\n   <g id=\"patch_3\">\r\n    <path clip-path=\"url(#p6560043f7b)\" d=\"M 65.361932 239.758125 \r\nL 200.634659 239.758125 \r\nL 200.634659 49.74973 \r\nL 65.361932 49.74973 \r\nz\r\n\" style=\"fill:#1f77b4;\"/>\r\n   </g>\r\n   <g id=\"patch_4\">\r\n    <path clip-path=\"url(#p6560043f7b)\" d=\"M 234.452841 239.758125 \r\nL 369.725568 239.758125 \r\nL 369.725568 32.672411 \r\nL 234.452841 32.672411 \r\nz\r\n\" style=\"fill:#1f77b4;\"/>\r\n   </g>\r\n   <g id=\"matplotlib.axis_1\">\r\n    <g id=\"xtick_1\">\r\n     <g id=\"line2d_1\">\r\n      <defs>\r\n       <path d=\"M 0 0 \r\nL 0 3.5 \r\n\" id=\"m44d5aeeb9c\" style=\"stroke:#000000;stroke-width:0.8;\"/>\r\n      </defs>\r\n      <g>\r\n       <use style=\"stroke:#000000;stroke-width:0.8;\" x=\"132.998295\" xlink:href=\"#m44d5aeeb9c\" y=\"239.758125\"/>\r\n      </g>\r\n     </g>\r\n     <g id=\"text_1\">\r\n      <!-- male -->\r\n      <g transform=\"translate(120.598295 254.356562)scale(0.1 -0.1)\">\r\n       <defs>\r\n        <path d=\"M 52 44.1875 \r\nQ 55.375 50.25 60.0625 53.125 \r\nQ 64.75 56 71.09375 56 \r\nQ 79.640625 56 84.28125 50.015625 \r\nQ 88.921875 44.046875 88.921875 33.015625 \r\nL 88.921875 0 \r\nL 79.890625 0 \r\nL 79.890625 32.71875 \r\nQ 79.890625 40.578125 77.09375 44.375 \r\nQ 74.3125 48.1875 68.609375 48.1875 \r\nQ 61.625 48.1875 57.5625 43.546875 \r\nQ 53.515625 38.921875 53.515625 30.90625 \r\nL 53.515625 0 \r\nL 44.484375 0 \r\nL 44.484375 32.71875 \r\nQ 44.484375 40.625 41.703125 44.40625 \r\nQ 38.921875 48.1875 33.109375 48.1875 \r\nQ 26.21875 48.1875 22.15625 43.53125 \r\nQ 18.109375 38.875 18.109375 30.90625 \r\nL 18.109375 0 \r\nL 9.078125 0 \r\nL 9.078125 54.6875 \r\nL 18.109375 54.6875 \r\nL 18.109375 46.1875 \r\nQ 21.1875 51.21875 25.484375 53.609375 \r\nQ 29.78125 56 35.6875 56 \r\nQ 41.65625 56 45.828125 52.96875 \r\nQ 50 49.953125 52 44.1875 \r\nz\r\n\" id=\"DejaVuSans-109\"/>\r\n        <path d=\"M 34.28125 27.484375 \r\nQ 23.390625 27.484375 19.1875 25 \r\nQ 14.984375 22.515625 14.984375 16.5 \r\nQ 14.984375 11.71875 18.140625 8.90625 \r\nQ 21.296875 6.109375 26.703125 6.109375 \r\nQ 34.1875 6.109375 38.703125 11.40625 \r\nQ 43.21875 16.703125 43.21875 25.484375 \r\nL 43.21875 27.484375 \r\nz\r\nM 52.203125 31.203125 \r\nL 52.203125 0 \r\nL 43.21875 0 \r\nL 43.21875 8.296875 \r\nQ 40.140625 3.328125 35.546875 0.953125 \r\nQ 30.953125 -1.421875 24.3125 -1.421875 \r\nQ 15.921875 -1.421875 10.953125 3.296875 \r\nQ 6 8.015625 6 15.921875 \r\nQ 6 25.140625 12.171875 29.828125 \r\nQ 18.359375 34.515625 30.609375 34.515625 \r\nL 43.21875 34.515625 \r\nL 43.21875 35.40625 \r\nQ 43.21875 41.609375 39.140625 45 \r\nQ 35.0625 48.390625 27.6875 48.390625 \r\nQ 23 48.390625 18.546875 47.265625 \r\nQ 14.109375 46.140625 10.015625 43.890625 \r\nL 10.015625 52.203125 \r\nQ 14.9375 54.109375 19.578125 55.046875 \r\nQ 24.21875 56 28.609375 56 \r\nQ 40.484375 56 46.34375 49.84375 \r\nQ 52.203125 43.703125 52.203125 31.203125 \r\nz\r\n\" id=\"DejaVuSans-97\"/>\r\n        <path d=\"M 9.421875 75.984375 \r\nL 18.40625 75.984375 \r\nL 18.40625 0 \r\nL 9.421875 0 \r\nz\r\n\" id=\"DejaVuSans-108\"/>\r\n        <path d=\"M 56.203125 29.59375 \r\nL 56.203125 25.203125 \r\nL 14.890625 25.203125 \r\nQ 15.484375 15.921875 20.484375 11.0625 \r\nQ 25.484375 6.203125 34.421875 6.203125 \r\nQ 39.59375 6.203125 44.453125 7.46875 \r\nQ 49.3125 8.734375 54.109375 11.28125 \r\nL 54.109375 2.78125 \r\nQ 49.265625 0.734375 44.1875 -0.34375 \r\nQ 39.109375 -1.421875 33.890625 -1.421875 \r\nQ 20.796875 -1.421875 13.15625 6.1875 \r\nQ 5.515625 13.8125 5.515625 26.8125 \r\nQ 5.515625 40.234375 12.765625 48.109375 \r\nQ 20.015625 56 32.328125 56 \r\nQ 43.359375 56 49.78125 48.890625 \r\nQ 56.203125 41.796875 56.203125 29.59375 \r\nz\r\nM 47.21875 32.234375 \r\nQ 47.125 39.59375 43.09375 43.984375 \r\nQ 39.0625 48.390625 32.421875 48.390625 \r\nQ 24.90625 48.390625 20.390625 44.140625 \r\nQ 15.875 39.890625 15.1875 32.171875 \r\nz\r\n\" id=\"DejaVuSans-101\"/>\r\n       </defs>\r\n       <use xlink:href=\"#DejaVuSans-109\"/>\r\n       <use x=\"97.412109\" xlink:href=\"#DejaVuSans-97\"/>\r\n       <use x=\"158.691406\" xlink:href=\"#DejaVuSans-108\"/>\r\n       <use x=\"186.474609\" xlink:href=\"#DejaVuSans-101\"/>\r\n      </g>\r\n     </g>\r\n    </g>\r\n    <g id=\"xtick_2\">\r\n     <g id=\"line2d_2\">\r\n      <g>\r\n       <use style=\"stroke:#000000;stroke-width:0.8;\" x=\"302.089205\" xlink:href=\"#m44d5aeeb9c\" y=\"239.758125\"/>\r\n      </g>\r\n     </g>\r\n     <g id=\"text_2\">\r\n      <!-- female -->\r\n      <g transform=\"translate(284.852486 254.356562)scale(0.1 -0.1)\">\r\n       <defs>\r\n        <path d=\"M 37.109375 75.984375 \r\nL 37.109375 68.5 \r\nL 28.515625 68.5 \r\nQ 23.6875 68.5 21.796875 66.546875 \r\nQ 19.921875 64.59375 19.921875 59.515625 \r\nL 19.921875 54.6875 \r\nL 34.71875 54.6875 \r\nL 34.71875 47.703125 \r\nL 19.921875 47.703125 \r\nL 19.921875 0 \r\nL 10.890625 0 \r\nL 10.890625 47.703125 \r\nL 2.296875 47.703125 \r\nL 2.296875 54.6875 \r\nL 10.890625 54.6875 \r\nL 10.890625 58.5 \r\nQ 10.890625 67.625 15.140625 71.796875 \r\nQ 19.390625 75.984375 28.609375 75.984375 \r\nz\r\n\" id=\"DejaVuSans-102\"/>\r\n       </defs>\r\n       <use xlink:href=\"#DejaVuSans-102\"/>\r\n       <use x=\"35.205078\" xlink:href=\"#DejaVuSans-101\"/>\r\n       <use x=\"96.728516\" xlink:href=\"#DejaVuSans-109\"/>\r\n       <use x=\"194.140625\" xlink:href=\"#DejaVuSans-97\"/>\r\n       <use x=\"255.419922\" xlink:href=\"#DejaVuSans-108\"/>\r\n       <use x=\"283.203125\" xlink:href=\"#DejaVuSans-101\"/>\r\n      </g>\r\n     </g>\r\n    </g>\r\n    <g id=\"text_3\">\r\n     <!-- Sex -->\r\n     <g transform=\"translate(208.421094 268.034687)scale(0.1 -0.1)\">\r\n      <defs>\r\n       <path d=\"M 53.515625 70.515625 \r\nL 53.515625 60.890625 \r\nQ 47.90625 63.578125 42.921875 64.890625 \r\nQ 37.9375 66.21875 33.296875 66.21875 \r\nQ 25.25 66.21875 20.875 63.09375 \r\nQ 16.5 59.96875 16.5 54.203125 \r\nQ 16.5 49.359375 19.40625 46.890625 \r\nQ 22.3125 44.4375 30.421875 42.921875 \r\nL 36.375 41.703125 \r\nQ 47.40625 39.59375 52.65625 34.296875 \r\nQ 57.90625 29 57.90625 20.125 \r\nQ 57.90625 9.515625 50.796875 4.046875 \r\nQ 43.703125 -1.421875 29.984375 -1.421875 \r\nQ 24.8125 -1.421875 18.96875 -0.25 \r\nQ 13.140625 0.921875 6.890625 3.21875 \r\nL 6.890625 13.375 \r\nQ 12.890625 10.015625 18.65625 8.296875 \r\nQ 24.421875 6.59375 29.984375 6.59375 \r\nQ 38.421875 6.59375 43.015625 9.90625 \r\nQ 47.609375 13.234375 47.609375 19.390625 \r\nQ 47.609375 24.75 44.3125 27.78125 \r\nQ 41.015625 30.8125 33.5 32.328125 \r\nL 27.484375 33.5 \r\nQ 16.453125 35.6875 11.515625 40.375 \r\nQ 6.59375 45.0625 6.59375 53.421875 \r\nQ 6.59375 63.09375 13.40625 68.65625 \r\nQ 20.21875 74.21875 32.171875 74.21875 \r\nQ 37.3125 74.21875 42.625 73.28125 \r\nQ 47.953125 72.359375 53.515625 70.515625 \r\nz\r\n\" id=\"DejaVuSans-83\"/>\r\n       <path d=\"M 54.890625 54.6875 \r\nL 35.109375 28.078125 \r\nL 55.90625 0 \r\nL 45.3125 0 \r\nL 29.390625 21.484375 \r\nL 13.484375 0 \r\nL 2.875 0 \r\nL 24.125 28.609375 \r\nL 4.6875 54.6875 \r\nL 15.28125 54.6875 \r\nL 29.78125 35.203125 \r\nL 44.28125 54.6875 \r\nz\r\n\" id=\"DejaVuSans-120\"/>\r\n      </defs>\r\n      <use xlink:href=\"#DejaVuSans-83\"/>\r\n      <use x=\"63.476562\" xlink:href=\"#DejaVuSans-101\"/>\r\n      <use x=\"123.25\" xlink:href=\"#DejaVuSans-120\"/>\r\n     </g>\r\n    </g>\r\n   </g>\r\n   <g id=\"matplotlib.axis_2\">\r\n    <g id=\"ytick_1\">\r\n     <g id=\"line2d_3\">\r\n      <defs>\r\n       <path d=\"M 0 0 \r\nL -3.5 0 \r\n\" id=\"m09c12d98bc\" style=\"stroke:#000000;stroke-width:0.8;\"/>\r\n      </defs>\r\n      <g>\r\n       <use style=\"stroke:#000000;stroke-width:0.8;\" x=\"50.14375\" xlink:href=\"#m09c12d98bc\" y=\"239.758125\"/>\r\n      </g>\r\n     </g>\r\n     <g id=\"text_4\">\r\n      <!-- 0.0 -->\r\n      <g transform=\"translate(27.240625 243.557344)scale(0.1 -0.1)\">\r\n       <defs>\r\n        <path d=\"M 31.78125 66.40625 \r\nQ 24.171875 66.40625 20.328125 58.90625 \r\nQ 16.5 51.421875 16.5 36.375 \r\nQ 16.5 21.390625 20.328125 13.890625 \r\nQ 24.171875 6.390625 31.78125 6.390625 \r\nQ 39.453125 6.390625 43.28125 13.890625 \r\nQ 47.125 21.390625 47.125 36.375 \r\nQ 47.125 51.421875 43.28125 58.90625 \r\nQ 39.453125 66.40625 31.78125 66.40625 \r\nz\r\nM 31.78125 74.21875 \r\nQ 44.046875 74.21875 50.515625 64.515625 \r\nQ 56.984375 54.828125 56.984375 36.375 \r\nQ 56.984375 17.96875 50.515625 8.265625 \r\nQ 44.046875 -1.421875 31.78125 -1.421875 \r\nQ 19.53125 -1.421875 13.0625 8.265625 \r\nQ 6.59375 17.96875 6.59375 36.375 \r\nQ 6.59375 54.828125 13.0625 64.515625 \r\nQ 19.53125 74.21875 31.78125 74.21875 \r\nz\r\n\" id=\"DejaVuSans-48\"/>\r\n        <path d=\"M 10.6875 12.40625 \r\nL 21 12.40625 \r\nL 21 0 \r\nL 10.6875 0 \r\nz\r\n\" id=\"DejaVuSans-46\"/>\r\n       </defs>\r\n       <use xlink:href=\"#DejaVuSans-48\"/>\r\n       <use x=\"63.623047\" xlink:href=\"#DejaVuSans-46\"/>\r\n       <use x=\"95.410156\" xlink:href=\"#DejaVuSans-48\"/>\r\n      </g>\r\n     </g>\r\n    </g>\r\n    <g id=\"ytick_2\">\r\n     <g id=\"line2d_4\">\r\n      <g>\r\n       <use style=\"stroke:#000000;stroke-width:0.8;\" x=\"50.14375\" xlink:href=\"#m09c12d98bc\" y=\"212.636792\"/>\r\n      </g>\r\n     </g>\r\n     <g id=\"text_5\">\r\n      <!-- 2.5 -->\r\n      <g transform=\"translate(27.240625 216.436011)scale(0.1 -0.1)\">\r\n       <defs>\r\n        <path d=\"M 19.1875 8.296875 \r\nL 53.609375 8.296875 \r\nL 53.609375 0 \r\nL 7.328125 0 \r\nL 7.328125 8.296875 \r\nQ 12.9375 14.109375 22.625 23.890625 \r\nQ 32.328125 33.6875 34.8125 36.53125 \r\nQ 39.546875 41.84375 41.421875 45.53125 \r\nQ 43.3125 49.21875 43.3125 52.78125 \r\nQ 43.3125 58.59375 39.234375 62.25 \r\nQ 35.15625 65.921875 28.609375 65.921875 \r\nQ 23.96875 65.921875 18.8125 64.3125 \r\nQ 13.671875 62.703125 7.8125 59.421875 \r\nL 7.8125 69.390625 \r\nQ 13.765625 71.78125 18.9375 73 \r\nQ 24.125 74.21875 28.421875 74.21875 \r\nQ 39.75 74.21875 46.484375 68.546875 \r\nQ 53.21875 62.890625 53.21875 53.421875 \r\nQ 53.21875 48.921875 51.53125 44.890625 \r\nQ 49.859375 40.875 45.40625 35.40625 \r\nQ 44.1875 33.984375 37.640625 27.21875 \r\nQ 31.109375 20.453125 19.1875 8.296875 \r\nz\r\n\" id=\"DejaVuSans-50\"/>\r\n        <path d=\"M 10.796875 72.90625 \r\nL 49.515625 72.90625 \r\nL 49.515625 64.59375 \r\nL 19.828125 64.59375 \r\nL 19.828125 46.734375 \r\nQ 21.96875 47.46875 24.109375 47.828125 \r\nQ 26.265625 48.1875 28.421875 48.1875 \r\nQ 40.625 48.1875 47.75 41.5 \r\nQ 54.890625 34.8125 54.890625 23.390625 \r\nQ 54.890625 11.625 47.5625 5.09375 \r\nQ 40.234375 -1.421875 26.90625 -1.421875 \r\nQ 22.3125 -1.421875 17.546875 -0.640625 \r\nQ 12.796875 0.140625 7.71875 1.703125 \r\nL 7.71875 11.625 \r\nQ 12.109375 9.234375 16.796875 8.0625 \r\nQ 21.484375 6.890625 26.703125 6.890625 \r\nQ 35.15625 6.890625 40.078125 11.328125 \r\nQ 45.015625 15.765625 45.015625 23.390625 \r\nQ 45.015625 31 40.078125 35.4375 \r\nQ 35.15625 39.890625 26.703125 39.890625 \r\nQ 22.75 39.890625 18.8125 39.015625 \r\nQ 14.890625 38.140625 10.796875 36.28125 \r\nz\r\n\" id=\"DejaVuSans-53\"/>\r\n       </defs>\r\n       <use xlink:href=\"#DejaVuSans-50\"/>\r\n       <use x=\"63.623047\" xlink:href=\"#DejaVuSans-46\"/>\r\n       <use x=\"95.410156\" xlink:href=\"#DejaVuSans-53\"/>\r\n      </g>\r\n     </g>\r\n    </g>\r\n    <g id=\"ytick_3\">\r\n     <g id=\"line2d_5\">\r\n      <g>\r\n       <use style=\"stroke:#000000;stroke-width:0.8;\" x=\"50.14375\" xlink:href=\"#m09c12d98bc\" y=\"185.515459\"/>\r\n      </g>\r\n     </g>\r\n     <g id=\"text_6\">\r\n      <!-- 5.0 -->\r\n      <g transform=\"translate(27.240625 189.314678)scale(0.1 -0.1)\">\r\n       <use xlink:href=\"#DejaVuSans-53\"/>\r\n       <use x=\"63.623047\" xlink:href=\"#DejaVuSans-46\"/>\r\n       <use x=\"95.410156\" xlink:href=\"#DejaVuSans-48\"/>\r\n      </g>\r\n     </g>\r\n    </g>\r\n    <g id=\"ytick_4\">\r\n     <g id=\"line2d_6\">\r\n      <g>\r\n       <use style=\"stroke:#000000;stroke-width:0.8;\" x=\"50.14375\" xlink:href=\"#m09c12d98bc\" y=\"158.394127\"/>\r\n      </g>\r\n     </g>\r\n     <g id=\"text_7\">\r\n      <!-- 7.5 -->\r\n      <g transform=\"translate(27.240625 162.193345)scale(0.1 -0.1)\">\r\n       <defs>\r\n        <path d=\"M 8.203125 72.90625 \r\nL 55.078125 72.90625 \r\nL 55.078125 68.703125 \r\nL 28.609375 0 \r\nL 18.3125 0 \r\nL 43.21875 64.59375 \r\nL 8.203125 64.59375 \r\nz\r\n\" id=\"DejaVuSans-55\"/>\r\n       </defs>\r\n       <use xlink:href=\"#DejaVuSans-55\"/>\r\n       <use x=\"63.623047\" xlink:href=\"#DejaVuSans-46\"/>\r\n       <use x=\"95.410156\" xlink:href=\"#DejaVuSans-53\"/>\r\n      </g>\r\n     </g>\r\n    </g>\r\n    <g id=\"ytick_5\">\r\n     <g id=\"line2d_7\">\r\n      <g>\r\n       <use style=\"stroke:#000000;stroke-width:0.8;\" x=\"50.14375\" xlink:href=\"#m09c12d98bc\" y=\"131.272794\"/>\r\n      </g>\r\n     </g>\r\n     <g id=\"text_8\">\r\n      <!-- 10.0 -->\r\n      <g transform=\"translate(20.878125 135.072013)scale(0.1 -0.1)\">\r\n       <defs>\r\n        <path d=\"M 12.40625 8.296875 \r\nL 28.515625 8.296875 \r\nL 28.515625 63.921875 \r\nL 10.984375 60.40625 \r\nL 10.984375 69.390625 \r\nL 28.421875 72.90625 \r\nL 38.28125 72.90625 \r\nL 38.28125 8.296875 \r\nL 54.390625 8.296875 \r\nL 54.390625 0 \r\nL 12.40625 0 \r\nz\r\n\" id=\"DejaVuSans-49\"/>\r\n       </defs>\r\n       <use xlink:href=\"#DejaVuSans-49\"/>\r\n       <use x=\"63.623047\" xlink:href=\"#DejaVuSans-48\"/>\r\n       <use x=\"127.246094\" xlink:href=\"#DejaVuSans-46\"/>\r\n       <use x=\"159.033203\" xlink:href=\"#DejaVuSans-48\"/>\r\n      </g>\r\n     </g>\r\n    </g>\r\n    <g id=\"ytick_6\">\r\n     <g id=\"line2d_8\">\r\n      <g>\r\n       <use style=\"stroke:#000000;stroke-width:0.8;\" x=\"50.14375\" xlink:href=\"#m09c12d98bc\" y=\"104.151461\"/>\r\n      </g>\r\n     </g>\r\n     <g id=\"text_9\">\r\n      <!-- 12.5 -->\r\n      <g transform=\"translate(20.878125 107.95068)scale(0.1 -0.1)\">\r\n       <use xlink:href=\"#DejaVuSans-49\"/>\r\n       <use x=\"63.623047\" xlink:href=\"#DejaVuSans-50\"/>\r\n       <use x=\"127.246094\" xlink:href=\"#DejaVuSans-46\"/>\r\n       <use x=\"159.033203\" xlink:href=\"#DejaVuSans-53\"/>\r\n      </g>\r\n     </g>\r\n    </g>\r\n    <g id=\"ytick_7\">\r\n     <g id=\"line2d_9\">\r\n      <g>\r\n       <use style=\"stroke:#000000;stroke-width:0.8;\" x=\"50.14375\" xlink:href=\"#m09c12d98bc\" y=\"77.030128\"/>\r\n      </g>\r\n     </g>\r\n     <g id=\"text_10\">\r\n      <!-- 15.0 -->\r\n      <g transform=\"translate(20.878125 80.829347)scale(0.1 -0.1)\">\r\n       <use xlink:href=\"#DejaVuSans-49\"/>\r\n       <use x=\"63.623047\" xlink:href=\"#DejaVuSans-53\"/>\r\n       <use x=\"127.246094\" xlink:href=\"#DejaVuSans-46\"/>\r\n       <use x=\"159.033203\" xlink:href=\"#DejaVuSans-48\"/>\r\n      </g>\r\n     </g>\r\n    </g>\r\n    <g id=\"ytick_8\">\r\n     <g id=\"line2d_10\">\r\n      <g>\r\n       <use style=\"stroke:#000000;stroke-width:0.8;\" x=\"50.14375\" xlink:href=\"#m09c12d98bc\" y=\"49.908795\"/>\r\n      </g>\r\n     </g>\r\n     <g id=\"text_11\">\r\n      <!-- 17.5 -->\r\n      <g transform=\"translate(20.878125 53.708014)scale(0.1 -0.1)\">\r\n       <use xlink:href=\"#DejaVuSans-49\"/>\r\n       <use x=\"63.623047\" xlink:href=\"#DejaVuSans-55\"/>\r\n       <use x=\"127.246094\" xlink:href=\"#DejaVuSans-46\"/>\r\n       <use x=\"159.033203\" xlink:href=\"#DejaVuSans-53\"/>\r\n      </g>\r\n     </g>\r\n    </g>\r\n    <g id=\"ytick_9\">\r\n     <g id=\"line2d_11\">\r\n      <g>\r\n       <use style=\"stroke:#000000;stroke-width:0.8;\" x=\"50.14375\" xlink:href=\"#m09c12d98bc\" y=\"22.787463\"/>\r\n      </g>\r\n     </g>\r\n     <g id=\"text_12\">\r\n      <!-- 20.0 -->\r\n      <g transform=\"translate(20.878125 26.586681)scale(0.1 -0.1)\">\r\n       <use xlink:href=\"#DejaVuSans-50\"/>\r\n       <use x=\"63.623047\" xlink:href=\"#DejaVuSans-48\"/>\r\n       <use x=\"127.246094\" xlink:href=\"#DejaVuSans-46\"/>\r\n       <use x=\"159.033203\" xlink:href=\"#DejaVuSans-48\"/>\r\n      </g>\r\n     </g>\r\n    </g>\r\n    <g id=\"text_13\">\r\n     <!-- cumulated incidence rate -->\r\n     <g transform=\"translate(14.798438 194.935)rotate(-90)scale(0.1 -0.1)\">\r\n      <defs>\r\n       <path d=\"M 48.78125 52.59375 \r\nL 48.78125 44.1875 \r\nQ 44.96875 46.296875 41.140625 47.34375 \r\nQ 37.3125 48.390625 33.40625 48.390625 \r\nQ 24.65625 48.390625 19.8125 42.84375 \r\nQ 14.984375 37.3125 14.984375 27.296875 \r\nQ 14.984375 17.28125 19.8125 11.734375 \r\nQ 24.65625 6.203125 33.40625 6.203125 \r\nQ 37.3125 6.203125 41.140625 7.25 \r\nQ 44.96875 8.296875 48.78125 10.40625 \r\nL 48.78125 2.09375 \r\nQ 45.015625 0.34375 40.984375 -0.53125 \r\nQ 36.96875 -1.421875 32.421875 -1.421875 \r\nQ 20.0625 -1.421875 12.78125 6.34375 \r\nQ 5.515625 14.109375 5.515625 27.296875 \r\nQ 5.515625 40.671875 12.859375 48.328125 \r\nQ 20.21875 56 33.015625 56 \r\nQ 37.15625 56 41.109375 55.140625 \r\nQ 45.0625 54.296875 48.78125 52.59375 \r\nz\r\n\" id=\"DejaVuSans-99\"/>\r\n       <path d=\"M 8.5 21.578125 \r\nL 8.5 54.6875 \r\nL 17.484375 54.6875 \r\nL 17.484375 21.921875 \r\nQ 17.484375 14.15625 20.5 10.265625 \r\nQ 23.53125 6.390625 29.59375 6.390625 \r\nQ 36.859375 6.390625 41.078125 11.03125 \r\nQ 45.3125 15.671875 45.3125 23.6875 \r\nL 45.3125 54.6875 \r\nL 54.296875 54.6875 \r\nL 54.296875 0 \r\nL 45.3125 0 \r\nL 45.3125 8.40625 \r\nQ 42.046875 3.421875 37.71875 1 \r\nQ 33.40625 -1.421875 27.6875 -1.421875 \r\nQ 18.265625 -1.421875 13.375 4.4375 \r\nQ 8.5 10.296875 8.5 21.578125 \r\nz\r\nM 31.109375 56 \r\nz\r\n\" id=\"DejaVuSans-117\"/>\r\n       <path d=\"M 18.3125 70.21875 \r\nL 18.3125 54.6875 \r\nL 36.8125 54.6875 \r\nL 36.8125 47.703125 \r\nL 18.3125 47.703125 \r\nL 18.3125 18.015625 \r\nQ 18.3125 11.328125 20.140625 9.421875 \r\nQ 21.96875 7.515625 27.59375 7.515625 \r\nL 36.8125 7.515625 \r\nL 36.8125 0 \r\nL 27.59375 0 \r\nQ 17.1875 0 13.234375 3.875 \r\nQ 9.28125 7.765625 9.28125 18.015625 \r\nL 9.28125 47.703125 \r\nL 2.6875 47.703125 \r\nL 2.6875 54.6875 \r\nL 9.28125 54.6875 \r\nL 9.28125 70.21875 \r\nz\r\n\" id=\"DejaVuSans-116\"/>\r\n       <path d=\"M 45.40625 46.390625 \r\nL 45.40625 75.984375 \r\nL 54.390625 75.984375 \r\nL 54.390625 0 \r\nL 45.40625 0 \r\nL 45.40625 8.203125 \r\nQ 42.578125 3.328125 38.25 0.953125 \r\nQ 33.9375 -1.421875 27.875 -1.421875 \r\nQ 17.96875 -1.421875 11.734375 6.484375 \r\nQ 5.515625 14.40625 5.515625 27.296875 \r\nQ 5.515625 40.1875 11.734375 48.09375 \r\nQ 17.96875 56 27.875 56 \r\nQ 33.9375 56 38.25 53.625 \r\nQ 42.578125 51.265625 45.40625 46.390625 \r\nz\r\nM 14.796875 27.296875 \r\nQ 14.796875 17.390625 18.875 11.75 \r\nQ 22.953125 6.109375 30.078125 6.109375 \r\nQ 37.203125 6.109375 41.296875 11.75 \r\nQ 45.40625 17.390625 45.40625 27.296875 \r\nQ 45.40625 37.203125 41.296875 42.84375 \r\nQ 37.203125 48.484375 30.078125 48.484375 \r\nQ 22.953125 48.484375 18.875 42.84375 \r\nQ 14.796875 37.203125 14.796875 27.296875 \r\nz\r\n\" id=\"DejaVuSans-100\"/>\r\n       <path id=\"DejaVuSans-32\"/>\r\n       <path d=\"M 9.421875 54.6875 \r\nL 18.40625 54.6875 \r\nL 18.40625 0 \r\nL 9.421875 0 \r\nz\r\nM 9.421875 75.984375 \r\nL 18.40625 75.984375 \r\nL 18.40625 64.59375 \r\nL 9.421875 64.59375 \r\nz\r\n\" id=\"DejaVuSans-105\"/>\r\n       <path d=\"M 54.890625 33.015625 \r\nL 54.890625 0 \r\nL 45.90625 0 \r\nL 45.90625 32.71875 \r\nQ 45.90625 40.484375 42.875 44.328125 \r\nQ 39.84375 48.1875 33.796875 48.1875 \r\nQ 26.515625 48.1875 22.3125 43.546875 \r\nQ 18.109375 38.921875 18.109375 30.90625 \r\nL 18.109375 0 \r\nL 9.078125 0 \r\nL 9.078125 54.6875 \r\nL 18.109375 54.6875 \r\nL 18.109375 46.1875 \r\nQ 21.34375 51.125 25.703125 53.5625 \r\nQ 30.078125 56 35.796875 56 \r\nQ 45.21875 56 50.046875 50.171875 \r\nQ 54.890625 44.34375 54.890625 33.015625 \r\nz\r\n\" id=\"DejaVuSans-110\"/>\r\n       <path d=\"M 41.109375 46.296875 \r\nQ 39.59375 47.171875 37.8125 47.578125 \r\nQ 36.03125 48 33.890625 48 \r\nQ 26.265625 48 22.1875 43.046875 \r\nQ 18.109375 38.09375 18.109375 28.8125 \r\nL 18.109375 0 \r\nL 9.078125 0 \r\nL 9.078125 54.6875 \r\nL 18.109375 54.6875 \r\nL 18.109375 46.1875 \r\nQ 20.953125 51.171875 25.484375 53.578125 \r\nQ 30.03125 56 36.53125 56 \r\nQ 37.453125 56 38.578125 55.875 \r\nQ 39.703125 55.765625 41.0625 55.515625 \r\nz\r\n\" id=\"DejaVuSans-114\"/>\r\n      </defs>\r\n      <use xlink:href=\"#DejaVuSans-99\"/>\r\n      <use x=\"54.980469\" xlink:href=\"#DejaVuSans-117\"/>\r\n      <use x=\"118.359375\" xlink:href=\"#DejaVuSans-109\"/>\r\n      <use x=\"215.771484\" xlink:href=\"#DejaVuSans-117\"/>\r\n      <use x=\"279.150391\" xlink:href=\"#DejaVuSans-108\"/>\r\n      <use x=\"306.933594\" xlink:href=\"#DejaVuSans-97\"/>\r\n      <use x=\"368.212891\" xlink:href=\"#DejaVuSans-116\"/>\r\n      <use x=\"407.421875\" xlink:href=\"#DejaVuSans-101\"/>\r\n      <use x=\"468.945312\" xlink:href=\"#DejaVuSans-100\"/>\r\n      <use x=\"532.421875\" xlink:href=\"#DejaVuSans-32\"/>\r\n      <use x=\"564.208984\" xlink:href=\"#DejaVuSans-105\"/>\r\n      <use x=\"591.992188\" xlink:href=\"#DejaVuSans-110\"/>\r\n      <use x=\"655.371094\" xlink:href=\"#DejaVuSans-99\"/>\r\n      <use x=\"710.351562\" xlink:href=\"#DejaVuSans-105\"/>\r\n      <use x=\"738.134766\" xlink:href=\"#DejaVuSans-100\"/>\r\n      <use x=\"801.611328\" xlink:href=\"#DejaVuSans-101\"/>\r\n      <use x=\"863.134766\" xlink:href=\"#DejaVuSans-110\"/>\r\n      <use x=\"926.513672\" xlink:href=\"#DejaVuSans-99\"/>\r\n      <use x=\"981.494141\" xlink:href=\"#DejaVuSans-101\"/>\r\n      <use x=\"1043.017578\" xlink:href=\"#DejaVuSans-32\"/>\r\n      <use x=\"1074.804688\" xlink:href=\"#DejaVuSans-114\"/>\r\n      <use x=\"1115.917969\" xlink:href=\"#DejaVuSans-97\"/>\r\n      <use x=\"1177.197266\" xlink:href=\"#DejaVuSans-116\"/>\r\n      <use x=\"1216.40625\" xlink:href=\"#DejaVuSans-101\"/>\r\n     </g>\r\n    </g>\r\n   </g>\r\n   <g id=\"patch_5\">\r\n    <path d=\"M 50.14375 239.758125 \r\nL 50.14375 22.318125 \r\n\" style=\"fill:none;stroke:#000000;stroke-linecap:square;stroke-linejoin:miter;stroke-width:0.8;\"/>\r\n   </g>\r\n   <g id=\"patch_6\">\r\n    <path d=\"M 384.94375 239.758125 \r\nL 384.94375 22.318125 \r\n\" style=\"fill:none;stroke:#000000;stroke-linecap:square;stroke-linejoin:miter;stroke-width:0.8;\"/>\r\n   </g>\r\n   <g id=\"patch_7\">\r\n    <path d=\"M 50.14375 239.758125 \r\nL 384.94375 239.758125 \r\n\" style=\"fill:none;stroke:#000000;stroke-linecap:square;stroke-linejoin:miter;stroke-width:0.8;\"/>\r\n   </g>\r\n   <g id=\"patch_8\">\r\n    <path d=\"M 50.14375 22.318125 \r\nL 384.94375 22.318125 \r\n\" style=\"fill:none;stroke:#000000;stroke-linecap:square;stroke-linejoin:miter;stroke-width:0.8;\"/>\r\n   </g>\r\n   <g id=\"text_14\">\r\n    <!-- Sex comparison of cumulated incidence rate in Occitanie -->\r\n    <g transform=\"translate(45.92125 16.318125)scale(0.12 -0.12)\">\r\n     <defs>\r\n      <path d=\"M 30.609375 48.390625 \r\nQ 23.390625 48.390625 19.1875 42.75 \r\nQ 14.984375 37.109375 14.984375 27.296875 \r\nQ 14.984375 17.484375 19.15625 11.84375 \r\nQ 23.34375 6.203125 30.609375 6.203125 \r\nQ 37.796875 6.203125 41.984375 11.859375 \r\nQ 46.1875 17.53125 46.1875 27.296875 \r\nQ 46.1875 37.015625 41.984375 42.703125 \r\nQ 37.796875 48.390625 30.609375 48.390625 \r\nz\r\nM 30.609375 56 \r\nQ 42.328125 56 49.015625 48.375 \r\nQ 55.71875 40.765625 55.71875 27.296875 \r\nQ 55.71875 13.875 49.015625 6.21875 \r\nQ 42.328125 -1.421875 30.609375 -1.421875 \r\nQ 18.84375 -1.421875 12.171875 6.21875 \r\nQ 5.515625 13.875 5.515625 27.296875 \r\nQ 5.515625 40.765625 12.171875 48.375 \r\nQ 18.84375 56 30.609375 56 \r\nz\r\n\" id=\"DejaVuSans-111\"/>\r\n      <path d=\"M 18.109375 8.203125 \r\nL 18.109375 -20.796875 \r\nL 9.078125 -20.796875 \r\nL 9.078125 54.6875 \r\nL 18.109375 54.6875 \r\nL 18.109375 46.390625 \r\nQ 20.953125 51.265625 25.265625 53.625 \r\nQ 29.59375 56 35.59375 56 \r\nQ 45.5625 56 51.78125 48.09375 \r\nQ 58.015625 40.1875 58.015625 27.296875 \r\nQ 58.015625 14.40625 51.78125 6.484375 \r\nQ 45.5625 -1.421875 35.59375 -1.421875 \r\nQ 29.59375 -1.421875 25.265625 0.953125 \r\nQ 20.953125 3.328125 18.109375 8.203125 \r\nz\r\nM 48.6875 27.296875 \r\nQ 48.6875 37.203125 44.609375 42.84375 \r\nQ 40.53125 48.484375 33.40625 48.484375 \r\nQ 26.265625 48.484375 22.1875 42.84375 \r\nQ 18.109375 37.203125 18.109375 27.296875 \r\nQ 18.109375 17.390625 22.1875 11.75 \r\nQ 26.265625 6.109375 33.40625 6.109375 \r\nQ 40.53125 6.109375 44.609375 11.75 \r\nQ 48.6875 17.390625 48.6875 27.296875 \r\nz\r\n\" id=\"DejaVuSans-112\"/>\r\n      <path d=\"M 44.28125 53.078125 \r\nL 44.28125 44.578125 \r\nQ 40.484375 46.53125 36.375 47.5 \r\nQ 32.28125 48.484375 27.875 48.484375 \r\nQ 21.1875 48.484375 17.84375 46.4375 \r\nQ 14.5 44.390625 14.5 40.28125 \r\nQ 14.5 37.15625 16.890625 35.375 \r\nQ 19.28125 33.59375 26.515625 31.984375 \r\nL 29.59375 31.296875 \r\nQ 39.15625 29.25 43.1875 25.515625 \r\nQ 47.21875 21.78125 47.21875 15.09375 \r\nQ 47.21875 7.46875 41.1875 3.015625 \r\nQ 35.15625 -1.421875 24.609375 -1.421875 \r\nQ 20.21875 -1.421875 15.453125 -0.5625 \r\nQ 10.6875 0.296875 5.421875 2 \r\nL 5.421875 11.28125 \r\nQ 10.40625 8.6875 15.234375 7.390625 \r\nQ 20.0625 6.109375 24.8125 6.109375 \r\nQ 31.15625 6.109375 34.5625 8.28125 \r\nQ 37.984375 10.453125 37.984375 14.40625 \r\nQ 37.984375 18.0625 35.515625 20.015625 \r\nQ 33.0625 21.96875 24.703125 23.78125 \r\nL 21.578125 24.515625 \r\nQ 13.234375 26.265625 9.515625 29.90625 \r\nQ 5.8125 33.546875 5.8125 39.890625 \r\nQ 5.8125 47.609375 11.28125 51.796875 \r\nQ 16.75 56 26.8125 56 \r\nQ 31.78125 56 36.171875 55.265625 \r\nQ 40.578125 54.546875 44.28125 53.078125 \r\nz\r\n\" id=\"DejaVuSans-115\"/>\r\n      <path d=\"M 39.40625 66.21875 \r\nQ 28.65625 66.21875 22.328125 58.203125 \r\nQ 16.015625 50.203125 16.015625 36.375 \r\nQ 16.015625 22.609375 22.328125 14.59375 \r\nQ 28.65625 6.59375 39.40625 6.59375 \r\nQ 50.140625 6.59375 56.421875 14.59375 \r\nQ 62.703125 22.609375 62.703125 36.375 \r\nQ 62.703125 50.203125 56.421875 58.203125 \r\nQ 50.140625 66.21875 39.40625 66.21875 \r\nz\r\nM 39.40625 74.21875 \r\nQ 54.734375 74.21875 63.90625 63.9375 \r\nQ 73.09375 53.65625 73.09375 36.375 \r\nQ 73.09375 19.140625 63.90625 8.859375 \r\nQ 54.734375 -1.421875 39.40625 -1.421875 \r\nQ 24.03125 -1.421875 14.8125 8.828125 \r\nQ 5.609375 19.09375 5.609375 36.375 \r\nQ 5.609375 53.65625 14.8125 63.9375 \r\nQ 24.03125 74.21875 39.40625 74.21875 \r\nz\r\n\" id=\"DejaVuSans-79\"/>\r\n     </defs>\r\n     <use xlink:href=\"#DejaVuSans-83\"/>\r\n     <use x=\"63.476562\" xlink:href=\"#DejaVuSans-101\"/>\r\n     <use x=\"123.25\" xlink:href=\"#DejaVuSans-120\"/>\r\n     <use x=\"182.429688\" xlink:href=\"#DejaVuSans-32\"/>\r\n     <use x=\"214.216797\" xlink:href=\"#DejaVuSans-99\"/>\r\n     <use x=\"269.197266\" xlink:href=\"#DejaVuSans-111\"/>\r\n     <use x=\"330.378906\" xlink:href=\"#DejaVuSans-109\"/>\r\n     <use x=\"427.791016\" xlink:href=\"#DejaVuSans-112\"/>\r\n     <use x=\"491.267578\" xlink:href=\"#DejaVuSans-97\"/>\r\n     <use x=\"552.546875\" xlink:href=\"#DejaVuSans-114\"/>\r\n     <use x=\"593.660156\" xlink:href=\"#DejaVuSans-105\"/>\r\n     <use x=\"621.443359\" xlink:href=\"#DejaVuSans-115\"/>\r\n     <use x=\"673.542969\" xlink:href=\"#DejaVuSans-111\"/>\r\n     <use x=\"734.724609\" xlink:href=\"#DejaVuSans-110\"/>\r\n     <use x=\"798.103516\" xlink:href=\"#DejaVuSans-32\"/>\r\n     <use x=\"829.890625\" xlink:href=\"#DejaVuSans-111\"/>\r\n     <use x=\"891.072266\" xlink:href=\"#DejaVuSans-102\"/>\r\n     <use x=\"926.277344\" xlink:href=\"#DejaVuSans-32\"/>\r\n     <use x=\"958.064453\" xlink:href=\"#DejaVuSans-99\"/>\r\n     <use x=\"1013.044922\" xlink:href=\"#DejaVuSans-117\"/>\r\n     <use x=\"1076.423828\" xlink:href=\"#DejaVuSans-109\"/>\r\n     <use x=\"1173.835938\" xlink:href=\"#DejaVuSans-117\"/>\r\n     <use x=\"1237.214844\" xlink:href=\"#DejaVuSans-108\"/>\r\n     <use x=\"1264.998047\" xlink:href=\"#DejaVuSans-97\"/>\r\n     <use x=\"1326.277344\" xlink:href=\"#DejaVuSans-116\"/>\r\n     <use x=\"1365.486328\" xlink:href=\"#DejaVuSans-101\"/>\r\n     <use x=\"1427.009766\" xlink:href=\"#DejaVuSans-100\"/>\r\n     <use x=\"1490.486328\" xlink:href=\"#DejaVuSans-32\"/>\r\n     <use x=\"1522.273438\" xlink:href=\"#DejaVuSans-105\"/>\r\n     <use x=\"1550.056641\" xlink:href=\"#DejaVuSans-110\"/>\r\n     <use x=\"1613.435547\" xlink:href=\"#DejaVuSans-99\"/>\r\n     <use x=\"1668.416016\" xlink:href=\"#DejaVuSans-105\"/>\r\n     <use x=\"1696.199219\" xlink:href=\"#DejaVuSans-100\"/>\r\n     <use x=\"1759.675781\" xlink:href=\"#DejaVuSans-101\"/>\r\n     <use x=\"1821.199219\" xlink:href=\"#DejaVuSans-110\"/>\r\n     <use x=\"1884.578125\" xlink:href=\"#DejaVuSans-99\"/>\r\n     <use x=\"1939.558594\" xlink:href=\"#DejaVuSans-101\"/>\r\n     <use x=\"2001.082031\" xlink:href=\"#DejaVuSans-32\"/>\r\n     <use x=\"2032.869141\" xlink:href=\"#DejaVuSans-114\"/>\r\n     <use x=\"2073.982422\" xlink:href=\"#DejaVuSans-97\"/>\r\n     <use x=\"2135.261719\" xlink:href=\"#DejaVuSans-116\"/>\r\n     <use x=\"2174.470703\" xlink:href=\"#DejaVuSans-101\"/>\r\n     <use x=\"2235.994141\" xlink:href=\"#DejaVuSans-32\"/>\r\n     <use x=\"2267.78125\" xlink:href=\"#DejaVuSans-105\"/>\r\n     <use x=\"2295.564453\" xlink:href=\"#DejaVuSans-110\"/>\r\n     <use x=\"2358.943359\" xlink:href=\"#DejaVuSans-32\"/>\r\n     <use x=\"2390.730469\" xlink:href=\"#DejaVuSans-79\"/>\r\n     <use x=\"2469.441406\" xlink:href=\"#DejaVuSans-99\"/>\r\n     <use x=\"2524.421875\" xlink:href=\"#DejaVuSans-99\"/>\r\n     <use x=\"2579.402344\" xlink:href=\"#DejaVuSans-105\"/>\r\n     <use x=\"2607.185547\" xlink:href=\"#DejaVuSans-116\"/>\r\n     <use x=\"2646.394531\" xlink:href=\"#DejaVuSans-97\"/>\r\n     <use x=\"2707.673828\" xlink:href=\"#DejaVuSans-110\"/>\r\n     <use x=\"2771.052734\" xlink:href=\"#DejaVuSans-105\"/>\r\n     <use x=\"2798.835938\" xlink:href=\"#DejaVuSans-101\"/>\r\n    </g>\r\n   </g>\r\n  </g>\r\n </g>\r\n <defs>\r\n  <clipPath id=\"p6560043f7b\">\r\n   <rect height=\"217.44\" width=\"334.8\" x=\"50.14375\" y=\"22.318125\"/>\r\n  </clipPath>\r\n </defs>\r\n</svg>\r\n",
      "image/png": "[encoded data removed]"
     },
     "metadata": {
      "needs_background": "light"
     }
    }
   ],
   "source": [
    "barplots.compareMF(date=\"2021-04-12\", criterion='incidence', granularity='region', num_reg=76, cumulative=True)"
   ]
  },
  {
   "source": [
    "## Heatmaps\n",
    "\n",
    "We created three heatmaps but only one will be displayed:"
   ],
   "cell_type": "markdown",
   "metadata": {}
  },
  {
   "cell_type": "code",
   "execution_count": 27,
   "metadata": {},
   "outputs": [
    {
     "output_type": "stream",
     "name": "stdout",
     "text": [
      "Downloading data from https://static.data.gouv.fr/resources/donnees-relatives-aux-resultats-des-tests-virologiques-covid-19/20210423-200705/sp-pos-quot-reg-2021-04-23-20h07.csv (3.3 MB)\n",
      "\n",
      "file_sizes: 100%|██████████████████████████| 3.41M/3.41M [00:01<00:00, 2.84MB/s]\n",
      "Successfully downloaded file to C:\\Users\\quenf\\vizcovidfr\\vizcovidfr\\loads\\..\\data\\./posquotreg.csv\n",
      "Time to execute: 1.81196 s.\n"
     ]
    },
    {
     "output_type": "display_data",
     "data": {
      "text/plain": "<Figure size 432x288 with 2 Axes>",
      "image/svg+xml": "<?xml version=\"1.0\" encoding=\"utf-8\" standalone=\"no\"?>\r\n<!DOCTYPE svg PUBLIC \"-//W3C//DTD SVG 1.1//EN\"\r\n  \"http://www.w3.org/Graphics/SVG/1.1/DTD/svg11.dtd\">\r\n<!-- Created with matplotlib (https://matplotlib.org/) -->\r\n<svg height=\"277.314375pt\" version=\"1.1\" viewBox=\"0 0 408.37075 277.314375\" width=\"408.37075pt\" xmlns=\"http://www.w3.org/2000/svg\" xmlns:xlink=\"http://www.w3.org/1999/xlink\">\r\n <metadata>\r\n  <rdf:RDF xmlns:cc=\"http://creativecommons.org/ns#\" xmlns:dc=\"http://purl.org/dc/elements/1.1/\" xmlns:rdf=\"http://www.w3.org/1999/02/22-rdf-syntax-ns#\">\r\n   <cc:Work>\r\n    <dc:type rdf:resource=\"http://purl.org/dc/dcmitype/StillImage\"/>\r\n    <dc:date>2021-04-24T02:43:01.986038</dc:date>\r\n    <dc:format>image/svg+xml</dc:format>\r\n    <dc:creator>\r\n     <cc:Agent>\r\n      <dc:title>Matplotlib v3.3.2, https://matplotlib.org/</dc:title>\r\n     </cc:Agent>\r\n    </dc:creator>\r\n   </cc:Work>\r\n  </rdf:RDF>\r\n </metadata>\r\n <defs>\r\n  <style type=\"text/css\">*{stroke-linecap:butt;stroke-linejoin:round;}</style>\r\n </defs>\r\n <g id=\"figure_1\">\r\n  <g id=\"patch_1\">\r\n   <path d=\"M 0 277.314375 \r\nL 408.37075 277.314375 \r\nL 408.37075 0 \r\nL 0 0 \r\nz\r\n\" style=\"fill:none;\"/>\r\n  </g>\r\n  <g id=\"axes_1\">\r\n   <g id=\"patch_2\">\r\n    <path d=\"M 85.99375 239.758125 \r\nL 353.83375 239.758125 \r\nL 353.83375 22.318125 \r\nL 85.99375 22.318125 \r\nz\r\n\" style=\"fill:#ffffff;\"/>\r\n   </g>\r\n   <g id=\"QuadMesh_1\">\r\n    <path clip-path=\"url(#p80f183fefb)\" d=\"M 85.99375 22.318125 \r\nL 112.77775 22.318125 \r\nL 112.77775 29.332319 \r\nL 85.99375 29.332319 \r\nL 85.99375 22.318125 \r\n\" style=\"fill:#03051a;\"/>\r\n    <path clip-path=\"url(#p80f183fefb)\" d=\"M 112.77775 22.318125 \r\nL 139.56175 22.318125 \r\nL 139.56175 29.332319 \r\nL 112.77775 29.332319 \r\nL 112.77775 22.318125 \r\n\" style=\"fill:#0a091f;\"/>\r\n    <path clip-path=\"url(#p80f183fefb)\" d=\"M 139.56175 22.318125 \r\nL 166.34575 22.318125 \r\nL 166.34575 29.332319 \r\nL 139.56175 29.332319 \r\nL 139.56175 22.318125 \r\n\" style=\"fill:#0d0a21;\"/>\r\n    <path clip-path=\"url(#p80f183fefb)\" d=\"M 166.34575 22.318125 \r\nL 193.12975 22.318125 \r\nL 193.12975 29.332319 \r\nL 166.34575 29.332319 \r\nL 166.34575 22.318125 \r\n\" style=\"fill:#631f53;\"/>\r\n    <path clip-path=\"url(#p80f183fefb)\" d=\"M 193.12975 22.318125 \r\nL 219.91375 22.318125 \r\nL 219.91375 29.332319 \r\nL 193.12975 29.332319 \r\nL 193.12975 22.318125 \r\n\" style=\"fill:#30173a;\"/>\r\n    <path clip-path=\"url(#p80f183fefb)\" d=\"M 219.91375 22.318125 \r\nL 246.69775 22.318125 \r\nL 246.69775 29.332319 \r\nL 219.91375 29.332319 \r\nL 219.91375 22.318125 \r\n\" style=\"fill:#281535;\"/>\r\n    <path clip-path=\"url(#p80f183fefb)\" d=\"M 246.69775 22.318125 \r\nL 273.48175 22.318125 \r\nL 273.48175 29.332319 \r\nL 246.69775 29.332319 \r\nL 246.69775 22.318125 \r\n\" style=\"fill:#100b23;\"/>\r\n    <path clip-path=\"url(#p80f183fefb)\" d=\"M 273.48175 22.318125 \r\nL 300.26575 22.318125 \r\nL 300.26575 29.332319 \r\nL 273.48175 29.332319 \r\nL 273.48175 22.318125 \r\n\" style=\"fill:#03051a;\"/>\r\n    <path clip-path=\"url(#p80f183fefb)\" d=\"M 300.26575 22.318125 \r\nL 327.04975 22.318125 \r\nL 327.04975 29.332319 \r\nL 300.26575 29.332319 \r\nL 300.26575 22.318125 \r\n\" style=\"fill:#431c46;\"/>\r\n    <path clip-path=\"url(#p80f183fefb)\" d=\"M 327.04975 22.318125 \r\nL 353.83375 22.318125 \r\nL 353.83375 29.332319 \r\nL 327.04975 29.332319 \r\nL 327.04975 22.318125 \r\n\" style=\"fill:#a11a5b;\"/>\r\n    <path clip-path=\"url(#p80f183fefb)\" d=\"M 85.99375 29.332319 \r\nL 112.77775 29.332319 \r\nL 112.77775 36.346512 \r\nL 85.99375 36.346512 \r\nL 85.99375 29.332319 \r\n\" style=\"fill:#180f29;\"/>\r\n    <path clip-path=\"url(#p80f183fefb)\" d=\"M 112.77775 29.332319 \r\nL 139.56175 29.332319 \r\nL 139.56175 36.346512 \r\nL 112.77775 36.346512 \r\nL 112.77775 29.332319 \r\n\" style=\"fill:#0a091f;\"/>\r\n    <path clip-path=\"url(#p80f183fefb)\" d=\"M 139.56175 29.332319 \r\nL 166.34575 29.332319 \r\nL 166.34575 36.346512 \r\nL 139.56175 36.346512 \r\nL 139.56175 29.332319 \r\n\" style=\"fill:#421b45;\"/>\r\n    <path clip-path=\"url(#p80f183fefb)\" d=\"M 166.34575 29.332319 \r\nL 193.12975 29.332319 \r\nL 193.12975 36.346512 \r\nL 166.34575 36.346512 \r\nL 166.34575 29.332319 \r\n\" style=\"fill:#180f29;\"/>\r\n    <path clip-path=\"url(#p80f183fefb)\" d=\"M 193.12975 29.332319 \r\nL 219.91375 29.332319 \r\nL 219.91375 36.346512 \r\nL 193.12975 36.346512 \r\nL 193.12975 29.332319 \r\n\" style=\"fill:#03051a;\"/>\r\n    <path clip-path=\"url(#p80f183fefb)\" d=\"M 219.91375 29.332319 \r\nL 246.69775 29.332319 \r\nL 246.69775 36.346512 \r\nL 219.91375 36.346512 \r\nL 219.91375 29.332319 \r\n\" style=\"fill:#07071d;\"/>\r\n    <path clip-path=\"url(#p80f183fefb)\" d=\"M 246.69775 29.332319 \r\nL 273.48175 29.332319 \r\nL 273.48175 36.346512 \r\nL 246.69775 36.346512 \r\nL 246.69775 29.332319 \r\n\" style=\"fill:#180f29;\"/>\r\n    <path clip-path=\"url(#p80f183fefb)\" d=\"M 273.48175 29.332319 \r\nL 300.26575 29.332319 \r\nL 300.26575 36.346512 \r\nL 273.48175 36.346512 \r\nL 273.48175 29.332319 \r\n\" style=\"fill:#0d0a21;\"/>\r\n    <path clip-path=\"url(#p80f183fefb)\" d=\"M 300.26575 29.332319 \r\nL 327.04975 29.332319 \r\nL 327.04975 36.346512 \r\nL 300.26575 36.346512 \r\nL 300.26575 29.332319 \r\n\" style=\"fill:#170f28;\"/>\r\n    <path clip-path=\"url(#p80f183fefb)\" d=\"M 327.04975 29.332319 \r\nL 353.83375 29.332319 \r\nL 353.83375 36.346512 \r\nL 327.04975 36.346512 \r\nL 327.04975 29.332319 \r\n\" style=\"fill:#03051a;\"/>\r\n    <path clip-path=\"url(#p80f183fefb)\" d=\"M 85.99375 36.346512 \r\nL 112.77775 36.346512 \r\nL 112.77775 43.360706 \r\nL 85.99375 43.360706 \r\nL 85.99375 36.346512 \r\n\" style=\"fill:#03051a;\"/>\r\n    <path clip-path=\"url(#p80f183fefb)\" d=\"M 112.77775 36.346512 \r\nL 139.56175 36.346512 \r\nL 139.56175 43.360706 \r\nL 112.77775 43.360706 \r\nL 112.77775 36.346512 \r\n\" style=\"fill:#03051a;\"/>\r\n    <path clip-path=\"url(#p80f183fefb)\" d=\"M 139.56175 36.346512 \r\nL 166.34575 36.346512 \r\nL 166.34575 43.360706 \r\nL 139.56175 43.360706 \r\nL 139.56175 36.346512 \r\n\" style=\"fill:#34193d;\"/>\r\n    <path clip-path=\"url(#p80f183fefb)\" d=\"M 166.34575 36.346512 \r\nL 193.12975 36.346512 \r\nL 193.12975 43.360706 \r\nL 166.34575 43.360706 \r\nL 166.34575 36.346512 \r\n\" style=\"fill:#241432;\"/>\r\n    <path clip-path=\"url(#p80f183fefb)\" d=\"M 193.12975 36.346512 \r\nL 219.91375 36.346512 \r\nL 219.91375 43.360706 \r\nL 193.12975 43.360706 \r\nL 193.12975 36.346512 \r\n\" style=\"fill:#1d112c;\"/>\r\n    <path clip-path=\"url(#p80f183fefb)\" d=\"M 219.91375 36.346512 \r\nL 246.69775 36.346512 \r\nL 246.69775 43.360706 \r\nL 219.91375 43.360706 \r\nL 219.91375 36.346512 \r\n\" style=\"fill:#2e1739;\"/>\r\n    <path clip-path=\"url(#p80f183fefb)\" d=\"M 246.69775 36.346512 \r\nL 273.48175 36.346512 \r\nL 273.48175 43.360706 \r\nL 246.69775 43.360706 \r\nL 246.69775 36.346512 \r\n\" style=\"fill:#37193f;\"/>\r\n    <path clip-path=\"url(#p80f183fefb)\" d=\"M 273.48175 36.346512 \r\nL 300.26575 36.346512 \r\nL 300.26575 43.360706 \r\nL 273.48175 43.360706 \r\nL 273.48175 36.346512 \r\n\" style=\"fill:#251433;\"/>\r\n    <path clip-path=\"url(#p80f183fefb)\" d=\"M 300.26575 36.346512 \r\nL 327.04975 36.346512 \r\nL 327.04975 43.360706 \r\nL 300.26575 43.360706 \r\nL 300.26575 36.346512 \r\n\" style=\"fill:#03051a;\"/>\r\n    <path clip-path=\"url(#p80f183fefb)\" d=\"M 327.04975 36.346512 \r\nL 353.83375 36.346512 \r\nL 353.83375 43.360706 \r\nL 327.04975 43.360706 \r\nL 327.04975 36.346512 \r\n\" style=\"fill:#03051a;\"/>\r\n    <path clip-path=\"url(#p80f183fefb)\" d=\"M 85.99375 43.360706 \r\nL 112.77775 43.360706 \r\nL 112.77775 50.374899 \r\nL 85.99375 50.374899 \r\nL 85.99375 43.360706 \r\n\" style=\"fill:#03051a;\"/>\r\n    <path clip-path=\"url(#p80f183fefb)\" d=\"M 112.77775 43.360706 \r\nL 139.56175 43.360706 \r\nL 139.56175 50.374899 \r\nL 112.77775 50.374899 \r\nL 112.77775 43.360706 \r\n\" style=\"fill:#03051a;\"/>\r\n    <path clip-path=\"url(#p80f183fefb)\" d=\"M 139.56175 43.360706 \r\nL 166.34575 43.360706 \r\nL 166.34575 50.374899 \r\nL 139.56175 50.374899 \r\nL 139.56175 43.360706 \r\n\" style=\"fill:#03051a;\"/>\r\n    <path clip-path=\"url(#p80f183fefb)\" d=\"M 166.34575 43.360706 \r\nL 193.12975 43.360706 \r\nL 193.12975 50.374899 \r\nL 166.34575 50.374899 \r\nL 166.34575 43.360706 \r\n\" style=\"fill:#3d1a42;\"/>\r\n    <path clip-path=\"url(#p80f183fefb)\" d=\"M 193.12975 43.360706 \r\nL 219.91375 43.360706 \r\nL 219.91375 50.374899 \r\nL 193.12975 50.374899 \r\nL 193.12975 43.360706 \r\n\" style=\"fill:#271534;\"/>\r\n    <path clip-path=\"url(#p80f183fefb)\" d=\"M 219.91375 43.360706 \r\nL 246.69775 43.360706 \r\nL 246.69775 50.374899 \r\nL 219.91375 50.374899 \r\nL 219.91375 43.360706 \r\n\" style=\"fill:#1b112b;\"/>\r\n    <path clip-path=\"url(#p80f183fefb)\" d=\"M 246.69775 43.360706 \r\nL 273.48175 43.360706 \r\nL 273.48175 50.374899 \r\nL 246.69775 50.374899 \r\nL 246.69775 43.360706 \r\n\" style=\"fill:#180f29;\"/>\r\n    <path clip-path=\"url(#p80f183fefb)\" d=\"M 273.48175 43.360706 \r\nL 300.26575 43.360706 \r\nL 300.26575 50.374899 \r\nL 273.48175 50.374899 \r\nL 273.48175 43.360706 \r\n\" style=\"fill:#03051a;\"/>\r\n    <path clip-path=\"url(#p80f183fefb)\" d=\"M 300.26575 43.360706 \r\nL 327.04975 43.360706 \r\nL 327.04975 50.374899 \r\nL 300.26575 50.374899 \r\nL 300.26575 43.360706 \r\n\" style=\"fill:#03051a;\"/>\r\n    <path clip-path=\"url(#p80f183fefb)\" d=\"M 327.04975 43.360706 \r\nL 353.83375 43.360706 \r\nL 353.83375 50.374899 \r\nL 327.04975 50.374899 \r\nL 327.04975 43.360706 \r\n\" style=\"fill:#03051a;\"/>\r\n    <path clip-path=\"url(#p80f183fefb)\" d=\"M 85.99375 50.374899 \r\nL 112.77775 50.374899 \r\nL 112.77775 57.389093 \r\nL 85.99375 57.389093 \r\nL 85.99375 50.374899 \r\n\" style=\"fill:#0d0a21;\"/>\r\n    <path clip-path=\"url(#p80f183fefb)\" d=\"M 112.77775 50.374899 \r\nL 139.56175 50.374899 \r\nL 139.56175 57.389093 \r\nL 112.77775 57.389093 \r\nL 112.77775 50.374899 \r\n\" style=\"fill:#03051a;\"/>\r\n    <path clip-path=\"url(#p80f183fefb)\" d=\"M 139.56175 50.374899 \r\nL 166.34575 50.374899 \r\nL 166.34575 57.389093 \r\nL 139.56175 57.389093 \r\nL 139.56175 50.374899 \r\n\" style=\"fill:#1a102a;\"/>\r\n    <path clip-path=\"url(#p80f183fefb)\" d=\"M 166.34575 50.374899 \r\nL 193.12975 50.374899 \r\nL 193.12975 57.389093 \r\nL 166.34575 57.389093 \r\nL 166.34575 50.374899 \r\n\" style=\"fill:#180f29;\"/>\r\n    <path clip-path=\"url(#p80f183fefb)\" d=\"M 193.12975 50.374899 \r\nL 219.91375 50.374899 \r\nL 219.91375 57.389093 \r\nL 193.12975 57.389093 \r\nL 193.12975 50.374899 \r\n\" style=\"fill:#271534;\"/>\r\n    <path clip-path=\"url(#p80f183fefb)\" d=\"M 219.91375 50.374899 \r\nL 246.69775 50.374899 \r\nL 246.69775 57.389093 \r\nL 219.91375 57.389093 \r\nL 219.91375 50.374899 \r\n\" style=\"fill:#3c1a42;\"/>\r\n    <path clip-path=\"url(#p80f183fefb)\" d=\"M 246.69775 50.374899 \r\nL 273.48175 50.374899 \r\nL 273.48175 57.389093 \r\nL 246.69775 57.389093 \r\nL 246.69775 50.374899 \r\n\" style=\"fill:#100b23;\"/>\r\n    <path clip-path=\"url(#p80f183fefb)\" d=\"M 273.48175 50.374899 \r\nL 300.26575 50.374899 \r\nL 300.26575 57.389093 \r\nL 273.48175 57.389093 \r\nL 273.48175 50.374899 \r\n\" style=\"fill:#03051a;\"/>\r\n    <path clip-path=\"url(#p80f183fefb)\" d=\"M 300.26575 50.374899 \r\nL 327.04975 50.374899 \r\nL 327.04975 57.389093 \r\nL 300.26575 57.389093 \r\nL 300.26575 50.374899 \r\n\" style=\"fill:#03051a;\"/>\r\n    <path clip-path=\"url(#p80f183fefb)\" d=\"M 327.04975 50.374899 \r\nL 353.83375 50.374899 \r\nL 353.83375 57.389093 \r\nL 327.04975 57.389093 \r\nL 327.04975 50.374899 \r\n\" style=\"fill:#a11a5b;\"/>\r\n    <path clip-path=\"url(#p80f183fefb)\" d=\"M 85.99375 57.389093 \r\nL 112.77775 57.389093 \r\nL 112.77775 64.403286 \r\nL 85.99375 64.403286 \r\nL 85.99375 57.389093 \r\n\" style=\"fill:#03051a;\"/>\r\n    <path clip-path=\"url(#p80f183fefb)\" d=\"M 112.77775 57.389093 \r\nL 139.56175 57.389093 \r\nL 139.56175 64.403286 \r\nL 112.77775 64.403286 \r\nL 112.77775 57.389093 \r\n\" style=\"fill:#0a091f;\"/>\r\n    <path clip-path=\"url(#p80f183fefb)\" d=\"M 139.56175 57.389093 \r\nL 166.34575 57.389093 \r\nL 166.34575 64.403286 \r\nL 139.56175 64.403286 \r\nL 139.56175 57.389093 \r\n\" style=\"fill:#03051a;\"/>\r\n    <path clip-path=\"url(#p80f183fefb)\" d=\"M 166.34575 57.389093 \r\nL 193.12975 57.389093 \r\nL 193.12975 64.403286 \r\nL 166.34575 64.403286 \r\nL 166.34575 57.389093 \r\n\" style=\"fill:#241432;\"/>\r\n    <path clip-path=\"url(#p80f183fefb)\" d=\"M 193.12975 57.389093 \r\nL 219.91375 57.389093 \r\nL 219.91375 64.403286 \r\nL 193.12975 64.403286 \r\nL 193.12975 57.389093 \r\n\" style=\"fill:#0a091f;\"/>\r\n    <path clip-path=\"url(#p80f183fefb)\" d=\"M 219.91375 57.389093 \r\nL 246.69775 57.389093 \r\nL 246.69775 64.403286 \r\nL 219.91375 64.403286 \r\nL 219.91375 57.389093 \r\n\" style=\"fill:#0e0b22;\"/>\r\n    <path clip-path=\"url(#p80f183fefb)\" d=\"M 246.69775 57.389093 \r\nL 273.48175 57.389093 \r\nL 273.48175 64.403286 \r\nL 246.69775 64.403286 \r\nL 246.69775 57.389093 \r\n\" style=\"fill:#100b23;\"/>\r\n    <path clip-path=\"url(#p80f183fefb)\" d=\"M 273.48175 57.389093 \r\nL 300.26575 57.389093 \r\nL 300.26575 64.403286 \r\nL 273.48175 64.403286 \r\nL 273.48175 57.389093 \r\n\" style=\"fill:#03051a;\"/>\r\n    <path clip-path=\"url(#p80f183fefb)\" d=\"M 300.26575 57.389093 \r\nL 327.04975 57.389093 \r\nL 327.04975 64.403286 \r\nL 300.26575 64.403286 \r\nL 300.26575 57.389093 \r\n\" style=\"fill:#170f28;\"/>\r\n    <path clip-path=\"url(#p80f183fefb)\" d=\"M 327.04975 57.389093 \r\nL 353.83375 57.389093 \r\nL 353.83375 64.403286 \r\nL 327.04975 64.403286 \r\nL 327.04975 57.389093 \r\n\" style=\"fill:#03051a;\"/>\r\n    <path clip-path=\"url(#p80f183fefb)\" d=\"M 85.99375 64.403286 \r\nL 112.77775 64.403286 \r\nL 112.77775 71.41748 \r\nL 85.99375 71.41748 \r\nL 85.99375 64.403286 \r\n\" style=\"fill:#03051a;\"/>\r\n    <path clip-path=\"url(#p80f183fefb)\" d=\"M 112.77775 64.403286 \r\nL 139.56175 64.403286 \r\nL 139.56175 71.41748 \r\nL 112.77775 71.41748 \r\nL 112.77775 64.403286 \r\n\" style=\"fill:#03051a;\"/>\r\n    <path clip-path=\"url(#p80f183fefb)\" d=\"M 139.56175 64.403286 \r\nL 166.34575 64.403286 \r\nL 166.34575 71.41748 \r\nL 139.56175 71.41748 \r\nL 139.56175 64.403286 \r\n\" style=\"fill:#03051a;\"/>\r\n    <path clip-path=\"url(#p80f183fefb)\" d=\"M 166.34575 64.403286 \r\nL 193.12975 64.403286 \r\nL 193.12975 71.41748 \r\nL 166.34575 71.41748 \r\nL 166.34575 64.403286 \r\n\" style=\"fill:#0d0a21;\"/>\r\n    <path clip-path=\"url(#p80f183fefb)\" d=\"M 193.12975 64.403286 \r\nL 219.91375 64.403286 \r\nL 219.91375 71.41748 \r\nL 193.12975 71.41748 \r\nL 193.12975 64.403286 \r\n\" style=\"fill:#0a091f;\"/>\r\n    <path clip-path=\"url(#p80f183fefb)\" d=\"M 219.91375 64.403286 \r\nL 246.69775 64.403286 \r\nL 246.69775 71.41748 \r\nL 219.91375 71.41748 \r\nL 219.91375 64.403286 \r\n\" style=\"fill:#1b112b;\"/>\r\n    <path clip-path=\"url(#p80f183fefb)\" d=\"M 246.69775 64.403286 \r\nL 273.48175 64.403286 \r\nL 273.48175 71.41748 \r\nL 246.69775 71.41748 \r\nL 246.69775 64.403286 \r\n\" style=\"fill:#100b23;\"/>\r\n    <path clip-path=\"url(#p80f183fefb)\" d=\"M 273.48175 64.403286 \r\nL 300.26575 64.403286 \r\nL 300.26575 71.41748 \r\nL 273.48175 71.41748 \r\nL 273.48175 64.403286 \r\n\" style=\"fill:#03051a;\"/>\r\n    <path clip-path=\"url(#p80f183fefb)\" d=\"M 300.26575 64.403286 \r\nL 327.04975 64.403286 \r\nL 327.04975 71.41748 \r\nL 300.26575 71.41748 \r\nL 300.26575 64.403286 \r\n\" style=\"fill:#03051a;\"/>\r\n    <path clip-path=\"url(#p80f183fefb)\" d=\"M 327.04975 64.403286 \r\nL 353.83375 64.403286 \r\nL 353.83375 71.41748 \r\nL 327.04975 71.41748 \r\nL 327.04975 64.403286 \r\n\" style=\"fill:#4c1d4b;\"/>\r\n    <path clip-path=\"url(#p80f183fefb)\" d=\"M 85.99375 71.41748 \r\nL 112.77775 71.41748 \r\nL 112.77775 78.431673 \r\nL 85.99375 78.431673 \r\nL 85.99375 71.41748 \r\n\" style=\"fill:#03051a;\"/>\r\n    <path clip-path=\"url(#p80f183fefb)\" d=\"M 112.77775 71.41748 \r\nL 139.56175 71.41748 \r\nL 139.56175 78.431673 \r\nL 112.77775 78.431673 \r\nL 112.77775 71.41748 \r\n\" style=\"fill:#140e26;\"/>\r\n    <path clip-path=\"url(#p80f183fefb)\" d=\"M 139.56175 71.41748 \r\nL 166.34575 71.41748 \r\nL 166.34575 78.431673 \r\nL 139.56175 78.431673 \r\nL 139.56175 71.41748 \r\n\" style=\"fill:#421b45;\"/>\r\n    <path clip-path=\"url(#p80f183fefb)\" d=\"M 166.34575 71.41748 \r\nL 193.12975 71.41748 \r\nL 193.12975 78.431673 \r\nL 166.34575 78.431673 \r\nL 166.34575 71.41748 \r\n\" style=\"fill:#561e4f;\"/>\r\n    <path clip-path=\"url(#p80f183fefb)\" d=\"M 193.12975 71.41748 \r\nL 219.91375 71.41748 \r\nL 219.91375 78.431673 \r\nL 193.12975 78.431673 \r\nL 193.12975 71.41748 \r\n\" style=\"fill:#1d112c;\"/>\r\n    <path clip-path=\"url(#p80f183fefb)\" d=\"M 219.91375 71.41748 \r\nL 246.69775 71.41748 \r\nL 246.69775 78.431673 \r\nL 219.91375 78.431673 \r\nL 219.91375 71.41748 \r\n\" style=\"fill:#35193e;\"/>\r\n    <path clip-path=\"url(#p80f183fefb)\" d=\"M 246.69775 71.41748 \r\nL 273.48175 71.41748 \r\nL 273.48175 78.431673 \r\nL 246.69775 78.431673 \r\nL 246.69775 71.41748 \r\n\" style=\"fill:#20122e;\"/>\r\n    <path clip-path=\"url(#p80f183fefb)\" d=\"M 273.48175 71.41748 \r\nL 300.26575 71.41748 \r\nL 300.26575 78.431673 \r\nL 273.48175 78.431673 \r\nL 273.48175 71.41748 \r\n\" style=\"fill:#03051a;\"/>\r\n    <path clip-path=\"url(#p80f183fefb)\" d=\"M 300.26575 71.41748 \r\nL 327.04975 71.41748 \r\nL 327.04975 78.431673 \r\nL 300.26575 78.431673 \r\nL 300.26575 71.41748 \r\n\" style=\"fill:#170f28;\"/>\r\n    <path clip-path=\"url(#p80f183fefb)\" d=\"M 327.04975 71.41748 \r\nL 353.83375 71.41748 \r\nL 353.83375 78.431673 \r\nL 327.04975 78.431673 \r\nL 327.04975 71.41748 \r\n\" style=\"fill:#03051a;\"/>\r\n    <path clip-path=\"url(#p80f183fefb)\" d=\"M 85.99375 78.431673 \r\nL 112.77775 78.431673 \r\nL 112.77775 85.445867 \r\nL 85.99375 85.445867 \r\nL 85.99375 78.431673 \r\n\" style=\"fill:#03051a;\"/>\r\n    <path clip-path=\"url(#p80f183fefb)\" d=\"M 112.77775 78.431673 \r\nL 139.56175 78.431673 \r\nL 139.56175 85.445867 \r\nL 112.77775 85.445867 \r\nL 112.77775 78.431673 \r\n\" style=\"fill:#1d112c;\"/>\r\n    <path clip-path=\"url(#p80f183fefb)\" d=\"M 139.56175 78.431673 \r\nL 166.34575 78.431673 \r\nL 166.34575 85.445867 \r\nL 139.56175 85.445867 \r\nL 139.56175 78.431673 \r\n\" style=\"fill:#421b45;\"/>\r\n    <path clip-path=\"url(#p80f183fefb)\" d=\"M 166.34575 78.431673 \r\nL 193.12975 78.431673 \r\nL 193.12975 85.445867 \r\nL 166.34575 85.445867 \r\nL 166.34575 78.431673 \r\n\" style=\"fill:#561e4f;\"/>\r\n    <path clip-path=\"url(#p80f183fefb)\" d=\"M 193.12975 78.431673 \r\nL 219.91375 78.431673 \r\nL 219.91375 85.445867 \r\nL 193.12975 85.445867 \r\nL 193.12975 78.431673 \r\n\" style=\"fill:#30173a;\"/>\r\n    <path clip-path=\"url(#p80f183fefb)\" d=\"M 219.91375 78.431673 \r\nL 246.69775 78.431673 \r\nL 246.69775 85.445867 \r\nL 219.91375 85.445867 \r\nL 219.91375 78.431673 \r\n\" style=\"fill:#211330;\"/>\r\n    <path clip-path=\"url(#p80f183fefb)\" d=\"M 246.69775 78.431673 \r\nL 273.48175 78.431673 \r\nL 273.48175 85.445867 \r\nL 246.69775 85.445867 \r\nL 246.69775 78.431673 \r\n\" style=\"fill:#20122e;\"/>\r\n    <path clip-path=\"url(#p80f183fefb)\" d=\"M 273.48175 78.431673 \r\nL 300.26575 78.431673 \r\nL 300.26575 85.445867 \r\nL 273.48175 85.445867 \r\nL 273.48175 78.431673 \r\n\" style=\"fill:#180f29;\"/>\r\n    <path clip-path=\"url(#p80f183fefb)\" d=\"M 300.26575 78.431673 \r\nL 327.04975 78.431673 \r\nL 327.04975 85.445867 \r\nL 300.26575 85.445867 \r\nL 300.26575 78.431673 \r\n\" style=\"fill:#170f28;\"/>\r\n    <path clip-path=\"url(#p80f183fefb)\" d=\"M 327.04975 78.431673 \r\nL 353.83375 78.431673 \r\nL 353.83375 85.445867 \r\nL 327.04975 85.445867 \r\nL 327.04975 78.431673 \r\n\" style=\"fill:#03051a;\"/>\r\n    <path clip-path=\"url(#p80f183fefb)\" d=\"M 85.99375 85.445867 \r\nL 112.77775 85.445867 \r\nL 112.77775 92.46006 \r\nL 85.99375 92.46006 \r\nL 85.99375 85.445867 \r\n\" style=\"fill:#03051a;\"/>\r\n    <path clip-path=\"url(#p80f183fefb)\" d=\"M 112.77775 85.445867 \r\nL 139.56175 85.445867 \r\nL 139.56175 92.46006 \r\nL 112.77775 92.46006 \r\nL 112.77775 85.445867 \r\n\" style=\"fill:#1d112c;\"/>\r\n    <path clip-path=\"url(#p80f183fefb)\" d=\"M 139.56175 85.445867 \r\nL 166.34575 85.445867 \r\nL 166.34575 92.46006 \r\nL 139.56175 92.46006 \r\nL 139.56175 85.445867 \r\n\" style=\"fill:#5e1f52;\"/>\r\n    <path clip-path=\"url(#p80f183fefb)\" d=\"M 166.34575 85.445867 \r\nL 193.12975 85.445867 \r\nL 193.12975 92.46006 \r\nL 166.34575 92.46006 \r\nL 166.34575 85.445867 \r\n\" style=\"fill:#3d1a42;\"/>\r\n    <path clip-path=\"url(#p80f183fefb)\" d=\"M 193.12975 85.445867 \r\nL 219.91375 85.445867 \r\nL 219.91375 92.46006 \r\nL 193.12975 92.46006 \r\nL 193.12975 85.445867 \r\n\" style=\"fill:#30173a;\"/>\r\n    <path clip-path=\"url(#p80f183fefb)\" d=\"M 219.91375 85.445867 \r\nL 246.69775 85.445867 \r\nL 246.69775 92.46006 \r\nL 219.91375 92.46006 \r\nL 219.91375 85.445867 \r\n\" style=\"fill:#211330;\"/>\r\n    <path clip-path=\"url(#p80f183fefb)\" d=\"M 246.69775 85.445867 \r\nL 273.48175 85.445867 \r\nL 273.48175 92.46006 \r\nL 246.69775 92.46006 \r\nL 246.69775 85.445867 \r\n\" style=\"fill:#20122e;\"/>\r\n    <path clip-path=\"url(#p80f183fefb)\" d=\"M 273.48175 85.445867 \r\nL 300.26575 85.445867 \r\nL 300.26575 92.46006 \r\nL 273.48175 92.46006 \r\nL 273.48175 85.445867 \r\n\" style=\"fill:#0d0a21;\"/>\r\n    <path clip-path=\"url(#p80f183fefb)\" d=\"M 300.26575 85.445867 \r\nL 327.04975 85.445867 \r\nL 327.04975 92.46006 \r\nL 300.26575 92.46006 \r\nL 300.26575 85.445867 \r\n\" style=\"fill:#170f28;\"/>\r\n    <path clip-path=\"url(#p80f183fefb)\" d=\"M 327.04975 85.445867 \r\nL 353.83375 85.445867 \r\nL 353.83375 92.46006 \r\nL 327.04975 92.46006 \r\nL 327.04975 85.445867 \r\n\" style=\"fill:#03051a;\"/>\r\n    <path clip-path=\"url(#p80f183fefb)\" d=\"M 85.99375 92.46006 \r\nL 112.77775 92.46006 \r\nL 112.77775 99.474254 \r\nL 85.99375 99.474254 \r\nL 85.99375 92.46006 \r\n\" style=\"fill:#03051a;\"/>\r\n    <path clip-path=\"url(#p80f183fefb)\" d=\"M 112.77775 92.46006 \r\nL 139.56175 92.46006 \r\nL 139.56175 99.474254 \r\nL 112.77775 99.474254 \r\nL 112.77775 92.46006 \r\n\" style=\"fill:#431c46;\"/>\r\n    <path clip-path=\"url(#p80f183fefb)\" d=\"M 139.56175 92.46006 \r\nL 166.34575 92.46006 \r\nL 166.34575 99.474254 \r\nL 139.56175 99.474254 \r\nL 139.56175 92.46006 \r\n\" style=\"fill:#8b1d5b;\"/>\r\n    <path clip-path=\"url(#p80f183fefb)\" d=\"M 166.34575 92.46006 \r\nL 193.12975 92.46006 \r\nL 193.12975 99.474254 \r\nL 166.34575 99.474254 \r\nL 166.34575 92.46006 \r\n\" style=\"fill:#8c1d5b;\"/>\r\n    <path clip-path=\"url(#p80f183fefb)\" d=\"M 193.12975 92.46006 \r\nL 219.91375 92.46006 \r\nL 219.91375 99.474254 \r\nL 193.12975 99.474254 \r\nL 193.12975 92.46006 \r\n\" style=\"fill:#3a1a41;\"/>\r\n    <path clip-path=\"url(#p80f183fefb)\" d=\"M 219.91375 92.46006 \r\nL 246.69775 92.46006 \r\nL 246.69775 99.474254 \r\nL 219.91375 99.474254 \r\nL 219.91375 92.46006 \r\n\" style=\"fill:#1b112b;\"/>\r\n    <path clip-path=\"url(#p80f183fefb)\" d=\"M 246.69775 92.46006 \r\nL 273.48175 92.46006 \r\nL 273.48175 99.474254 \r\nL 246.69775 99.474254 \r\nL 246.69775 92.46006 \r\n\" style=\"fill:#180f29;\"/>\r\n    <path clip-path=\"url(#p80f183fefb)\" d=\"M 273.48175 92.46006 \r\nL 300.26575 92.46006 \r\nL 300.26575 99.474254 \r\nL 273.48175 99.474254 \r\nL 273.48175 92.46006 \r\n\" style=\"fill:#180f29;\"/>\r\n    <path clip-path=\"url(#p80f183fefb)\" d=\"M 300.26575 92.46006 \r\nL 327.04975 92.46006 \r\nL 327.04975 99.474254 \r\nL 300.26575 99.474254 \r\nL 300.26575 92.46006 \r\n\" style=\"fill:#170f28;\"/>\r\n    <path clip-path=\"url(#p80f183fefb)\" d=\"M 327.04975 92.46006 \r\nL 353.83375 92.46006 \r\nL 353.83375 99.474254 \r\nL 327.04975 99.474254 \r\nL 327.04975 92.46006 \r\n\" style=\"fill:#03051a;\"/>\r\n    <path clip-path=\"url(#p80f183fefb)\" d=\"M 85.99375 99.474254 \r\nL 112.77775 99.474254 \r\nL 112.77775 106.488448 \r\nL 85.99375 106.488448 \r\nL 85.99375 99.474254 \r\n\" style=\"fill:#03051a;\"/>\r\n    <path clip-path=\"url(#p80f183fefb)\" d=\"M 112.77775 99.474254 \r\nL 139.56175 99.474254 \r\nL 139.56175 106.488448 \r\nL 112.77775 106.488448 \r\nL 112.77775 99.474254 \r\n\" style=\"fill:#631f53;\"/>\r\n    <path clip-path=\"url(#p80f183fefb)\" d=\"M 139.56175 99.474254 \r\nL 166.34575 99.474254 \r\nL 166.34575 106.488448 \r\nL 139.56175 106.488448 \r\nL 139.56175 99.474254 \r\n\" style=\"fill:#9a1b5b;\"/>\r\n    <path clip-path=\"url(#p80f183fefb)\" d=\"M 166.34575 99.474254 \r\nL 193.12975 99.474254 \r\nL 193.12975 106.488448 \r\nL 166.34575 106.488448 \r\nL 166.34575 99.474254 \r\n\" style=\"fill:#8c1d5b;\"/>\r\n    <path clip-path=\"url(#p80f183fefb)\" d=\"M 193.12975 99.474254 \r\nL 219.91375 99.474254 \r\nL 219.91375 106.488448 \r\nL 193.12975 106.488448 \r\nL 193.12975 99.474254 \r\n\" style=\"fill:#781f59;\"/>\r\n    <path clip-path=\"url(#p80f183fefb)\" d=\"M 219.91375 99.474254 \r\nL 246.69775 99.474254 \r\nL 246.69775 106.488448 \r\nL 219.91375 106.488448 \r\nL 219.91375 99.474254 \r\n\" style=\"fill:#491d49;\"/>\r\n    <path clip-path=\"url(#p80f183fefb)\" d=\"M 246.69775 99.474254 \r\nL 273.48175 99.474254 \r\nL 273.48175 106.488448 \r\nL 246.69775 106.488448 \r\nL 246.69775 99.474254 \r\n\" style=\"fill:#271534;\"/>\r\n    <path clip-path=\"url(#p80f183fefb)\" d=\"M 273.48175 99.474254 \r\nL 300.26575 99.474254 \r\nL 300.26575 106.488448 \r\nL 273.48175 106.488448 \r\nL 273.48175 99.474254 \r\n\" style=\"fill:#251433;\"/>\r\n    <path clip-path=\"url(#p80f183fefb)\" d=\"M 300.26575 99.474254 \r\nL 327.04975 99.474254 \r\nL 327.04975 106.488448 \r\nL 300.26575 106.488448 \r\nL 300.26575 99.474254 \r\n\" style=\"fill:#03051a;\"/>\r\n    <path clip-path=\"url(#p80f183fefb)\" d=\"M 327.04975 99.474254 \r\nL 353.83375 99.474254 \r\nL 353.83375 106.488448 \r\nL 327.04975 106.488448 \r\nL 327.04975 99.474254 \r\n\" style=\"fill:#03051a;\"/>\r\n    <path clip-path=\"url(#p80f183fefb)\" d=\"M 85.99375 106.488448 \r\nL 112.77775 106.488448 \r\nL 112.77775 113.502641 \r\nL 85.99375 113.502641 \r\nL 85.99375 106.488448 \r\n\" style=\"fill:#03051a;\"/>\r\n    <path clip-path=\"url(#p80f183fefb)\" d=\"M 112.77775 106.488448 \r\nL 139.56175 106.488448 \r\nL 139.56175 113.502641 \r\nL 112.77775 113.502641 \r\nL 112.77775 106.488448 \r\n\" style=\"fill:#781f59;\"/>\r\n    <path clip-path=\"url(#p80f183fefb)\" d=\"M 139.56175 106.488448 \r\nL 166.34575 106.488448 \r\nL 166.34575 113.502641 \r\nL 139.56175 113.502641 \r\nL 139.56175 106.488448 \r\n\" style=\"fill:#6d1f56;\"/>\r\n    <path clip-path=\"url(#p80f183fefb)\" d=\"M 166.34575 106.488448 \r\nL 193.12975 106.488448 \r\nL 193.12975 113.502641 \r\nL 166.34575 113.502641 \r\nL 166.34575 106.488448 \r\n\" style=\"fill:#491d49;\"/>\r\n    <path clip-path=\"url(#p80f183fefb)\" d=\"M 193.12975 106.488448 \r\nL 219.91375 106.488448 \r\nL 219.91375 113.502641 \r\nL 193.12975 113.502641 \r\nL 193.12975 106.488448 \r\n\" style=\"fill:#631f53;\"/>\r\n    <path clip-path=\"url(#p80f183fefb)\" d=\"M 219.91375 106.488448 \r\nL 246.69775 106.488448 \r\nL 246.69775 113.502641 \r\nL 219.91375 113.502641 \r\nL 219.91375 106.488448 \r\n\" style=\"fill:#0e0b22;\"/>\r\n    <path clip-path=\"url(#p80f183fefb)\" d=\"M 246.69775 106.488448 \r\nL 273.48175 106.488448 \r\nL 273.48175 113.502641 \r\nL 246.69775 113.502641 \r\nL 246.69775 106.488448 \r\n\" style=\"fill:#08081e;\"/>\r\n    <path clip-path=\"url(#p80f183fefb)\" d=\"M 273.48175 106.488448 \r\nL 300.26575 106.488448 \r\nL 300.26575 113.502641 \r\nL 273.48175 113.502641 \r\nL 273.48175 106.488448 \r\n\" style=\"fill:#03051a;\"/>\r\n    <path clip-path=\"url(#p80f183fefb)\" d=\"M 300.26575 106.488448 \r\nL 327.04975 106.488448 \r\nL 327.04975 113.502641 \r\nL 300.26575 113.502641 \r\nL 300.26575 106.488448 \r\n\" style=\"fill:#170f28;\"/>\r\n    <path clip-path=\"url(#p80f183fefb)\" d=\"M 327.04975 106.488448 \r\nL 353.83375 106.488448 \r\nL 353.83375 113.502641 \r\nL 327.04975 113.502641 \r\nL 327.04975 106.488448 \r\n\" style=\"fill:#03051a;\"/>\r\n    <path clip-path=\"url(#p80f183fefb)\" d=\"M 85.99375 113.502641 \r\nL 112.77775 113.502641 \r\nL 112.77775 120.516835 \r\nL 85.99375 120.516835 \r\nL 85.99375 113.502641 \r\n\" style=\"fill:#03051a;\"/>\r\n    <path clip-path=\"url(#p80f183fefb)\" d=\"M 112.77775 113.502641 \r\nL 139.56175 113.502641 \r\nL 139.56175 120.516835 \r\nL 112.77775 120.516835 \r\nL 112.77775 113.502641 \r\n\" style=\"fill:#0a091f;\"/>\r\n    <path clip-path=\"url(#p80f183fefb)\" d=\"M 139.56175 113.502641 \r\nL 166.34575 113.502641 \r\nL 166.34575 120.516835 \r\nL 139.56175 120.516835 \r\nL 139.56175 113.502641 \r\n\" style=\"fill:#1a102a;\"/>\r\n    <path clip-path=\"url(#p80f183fefb)\" d=\"M 166.34575 113.502641 \r\nL 193.12975 113.502641 \r\nL 193.12975 120.516835 \r\nL 166.34575 120.516835 \r\nL 166.34575 113.502641 \r\n\" style=\"fill:#0d0a21;\"/>\r\n    <path clip-path=\"url(#p80f183fefb)\" d=\"M 193.12975 113.502641 \r\nL 219.91375 113.502641 \r\nL 219.91375 120.516835 \r\nL 193.12975 120.516835 \r\nL 193.12975 113.502641 \r\n\" style=\"fill:#140e26;\"/>\r\n    <path clip-path=\"url(#p80f183fefb)\" d=\"M 219.91375 113.502641 \r\nL 246.69775 113.502641 \r\nL 246.69775 120.516835 \r\nL 219.91375 120.516835 \r\nL 219.91375 113.502641 \r\n\" style=\"fill:#03051a;\"/>\r\n    <path clip-path=\"url(#p80f183fefb)\" d=\"M 246.69775 113.502641 \r\nL 273.48175 113.502641 \r\nL 273.48175 120.516835 \r\nL 246.69775 120.516835 \r\nL 246.69775 113.502641 \r\n\" style=\"fill:#08081e;\"/>\r\n    <path clip-path=\"url(#p80f183fefb)\" d=\"M 273.48175 113.502641 \r\nL 300.26575 113.502641 \r\nL 300.26575 120.516835 \r\nL 273.48175 120.516835 \r\nL 273.48175 113.502641 \r\n\" style=\"fill:#0d0a21;\"/>\r\n    <path clip-path=\"url(#p80f183fefb)\" d=\"M 300.26575 113.502641 \r\nL 327.04975 113.502641 \r\nL 327.04975 120.516835 \r\nL 300.26575 120.516835 \r\nL 300.26575 113.502641 \r\n\" style=\"fill:#03051a;\"/>\r\n    <path clip-path=\"url(#p80f183fefb)\" d=\"M 327.04975 113.502641 \r\nL 353.83375 113.502641 \r\nL 353.83375 120.516835 \r\nL 327.04975 120.516835 \r\nL 327.04975 113.502641 \r\n\" style=\"fill:#03051a;\"/>\r\n    <path clip-path=\"url(#p80f183fefb)\" d=\"M 85.99375 120.516835 \r\nL 112.77775 120.516835 \r\nL 112.77775 127.531028 \r\nL 85.99375 127.531028 \r\nL 85.99375 120.516835 \r\n\" style=\"fill:#03051a;\"/>\r\n    <path clip-path=\"url(#p80f183fefb)\" d=\"M 112.77775 120.516835 \r\nL 139.56175 120.516835 \r\nL 139.56175 127.531028 \r\nL 112.77775 127.531028 \r\nL 112.77775 120.516835 \r\n\" style=\"fill:#6e1f57;\"/>\r\n    <path clip-path=\"url(#p80f183fefb)\" d=\"M 139.56175 120.516835 \r\nL 166.34575 120.516835 \r\nL 166.34575 127.531028 \r\nL 139.56175 127.531028 \r\nL 139.56175 120.516835 \r\n\" style=\"fill:#f3714d;\"/>\r\n    <path clip-path=\"url(#p80f183fefb)\" d=\"M 166.34575 120.516835 \r\nL 193.12975 120.516835 \r\nL 193.12975 127.531028 \r\nL 166.34575 127.531028 \r\nL 166.34575 120.516835 \r\n\" style=\"fill:#f16445;\"/>\r\n    <path clip-path=\"url(#p80f183fefb)\" d=\"M 193.12975 120.516835 \r\nL 219.91375 120.516835 \r\nL 219.91375 127.531028 \r\nL 193.12975 127.531028 \r\nL 193.12975 120.516835 \r\n\" style=\"fill:#a6195a;\"/>\r\n    <path clip-path=\"url(#p80f183fefb)\" d=\"M 219.91375 120.516835 \r\nL 246.69775 120.516835 \r\nL 246.69775 127.531028 \r\nL 219.91375 127.531028 \r\nL 219.91375 120.516835 \r\n\" style=\"fill:#35193e;\"/>\r\n    <path clip-path=\"url(#p80f183fefb)\" d=\"M 246.69775 120.516835 \r\nL 273.48175 120.516835 \r\nL 273.48175 127.531028 \r\nL 246.69775 127.531028 \r\nL 246.69775 120.516835 \r\n\" style=\"fill:#591e50;\"/>\r\n    <path clip-path=\"url(#p80f183fefb)\" d=\"M 273.48175 120.516835 \r\nL 300.26575 120.516835 \r\nL 300.26575 127.531028 \r\nL 273.48175 127.531028 \r\nL 273.48175 120.516835 \r\n\" style=\"fill:#180f29;\"/>\r\n    <path clip-path=\"url(#p80f183fefb)\" d=\"M 300.26575 120.516835 \r\nL 327.04975 120.516835 \r\nL 327.04975 127.531028 \r\nL 300.26575 127.531028 \r\nL 300.26575 120.516835 \r\n\" style=\"fill:#2d1738;\"/>\r\n    <path clip-path=\"url(#p80f183fefb)\" d=\"M 327.04975 120.516835 \r\nL 353.83375 120.516835 \r\nL 353.83375 127.531028 \r\nL 327.04975 127.531028 \r\nL 327.04975 120.516835 \r\n\" style=\"fill:#03051a;\"/>\r\n    <path clip-path=\"url(#p80f183fefb)\" d=\"M 85.99375 127.531028 \r\nL 112.77775 127.531028 \r\nL 112.77775 134.545222 \r\nL 85.99375 134.545222 \r\nL 85.99375 127.531028 \r\n\" style=\"fill:#241432;\"/>\r\n    <path clip-path=\"url(#p80f183fefb)\" d=\"M 112.77775 127.531028 \r\nL 139.56175 127.531028 \r\nL 139.56175 134.545222 \r\nL 112.77775 134.545222 \r\nL 112.77775 127.531028 \r\n\" style=\"fill:#30173a;\"/>\r\n    <path clip-path=\"url(#p80f183fefb)\" d=\"M 139.56175 127.531028 \r\nL 166.34575 127.531028 \r\nL 166.34575 134.545222 \r\nL 139.56175 134.545222 \r\nL 139.56175 127.531028 \r\n\" style=\"fill:#aa185a;\"/>\r\n    <path clip-path=\"url(#p80f183fefb)\" d=\"M 166.34575 127.531028 \r\nL 193.12975 127.531028 \r\nL 193.12975 134.545222 \r\nL 166.34575 134.545222 \r\nL 166.34575 127.531028 \r\n\" style=\"fill:#8c1d5b;\"/>\r\n    <path clip-path=\"url(#p80f183fefb)\" d=\"M 193.12975 127.531028 \r\nL 219.91375 127.531028 \r\nL 219.91375 134.545222 \r\nL 193.12975 134.545222 \r\nL 193.12975 127.531028 \r\n\" style=\"fill:#b01759;\"/>\r\n    <path clip-path=\"url(#p80f183fefb)\" d=\"M 219.91375 127.531028 \r\nL 246.69775 127.531028 \r\nL 246.69775 134.545222 \r\nL 219.91375 134.545222 \r\nL 219.91375 127.531028 \r\n\" style=\"fill:#661f54;\"/>\r\n    <path clip-path=\"url(#p80f183fefb)\" d=\"M 246.69775 127.531028 \r\nL 273.48175 127.531028 \r\nL 273.48175 134.545222 \r\nL 246.69775 134.545222 \r\nL 246.69775 127.531028 \r\n\" style=\"fill:#20122e;\"/>\r\n    <path clip-path=\"url(#p80f183fefb)\" d=\"M 273.48175 127.531028 \r\nL 300.26575 127.531028 \r\nL 300.26575 134.545222 \r\nL 273.48175 134.545222 \r\nL 273.48175 127.531028 \r\n\" style=\"fill:#180f29;\"/>\r\n    <path clip-path=\"url(#p80f183fefb)\" d=\"M 300.26575 127.531028 \r\nL 327.04975 127.531028 \r\nL 327.04975 134.545222 \r\nL 300.26575 134.545222 \r\nL 300.26575 127.531028 \r\n\" style=\"fill:#03051a;\"/>\r\n    <path clip-path=\"url(#p80f183fefb)\" d=\"M 327.04975 127.531028 \r\nL 353.83375 127.531028 \r\nL 353.83375 134.545222 \r\nL 327.04975 134.545222 \r\nL 327.04975 127.531028 \r\n\" style=\"fill:#03051a;\"/>\r\n    <path clip-path=\"url(#p80f183fefb)\" d=\"M 85.99375 134.545222 \r\nL 112.77775 134.545222 \r\nL 112.77775 141.559415 \r\nL 85.99375 141.559415 \r\nL 85.99375 134.545222 \r\n\" style=\"fill:#180f29;\"/>\r\n    <path clip-path=\"url(#p80f183fefb)\" d=\"M 112.77775 134.545222 \r\nL 139.56175 134.545222 \r\nL 139.56175 141.559415 \r\nL 112.77775 141.559415 \r\nL 112.77775 134.545222 \r\n\" style=\"fill:#140e26;\"/>\r\n    <path clip-path=\"url(#p80f183fefb)\" d=\"M 139.56175 134.545222 \r\nL 166.34575 134.545222 \r\nL 166.34575 141.559415 \r\nL 139.56175 141.559415 \r\nL 139.56175 134.545222 \r\n\" style=\"fill:#7b1f59;\"/>\r\n    <path clip-path=\"url(#p80f183fefb)\" d=\"M 166.34575 134.545222 \r\nL 193.12975 134.545222 \r\nL 193.12975 141.559415 \r\nL 166.34575 141.559415 \r\nL 166.34575 134.545222 \r\n\" style=\"fill:#e33641;\"/>\r\n    <path clip-path=\"url(#p80f183fefb)\" d=\"M 193.12975 134.545222 \r\nL 219.91375 134.545222 \r\nL 219.91375 141.559415 \r\nL 193.12975 141.559415 \r\nL 193.12975 134.545222 \r\n\" style=\"fill:#6e1f57;\"/>\r\n    <path clip-path=\"url(#p80f183fefb)\" d=\"M 219.91375 134.545222 \r\nL 246.69775 134.545222 \r\nL 246.69775 141.559415 \r\nL 219.91375 141.559415 \r\nL 219.91375 134.545222 \r\n\" style=\"fill:#841e5a;\"/>\r\n    <path clip-path=\"url(#p80f183fefb)\" d=\"M 246.69775 134.545222 \r\nL 273.48175 134.545222 \r\nL 273.48175 141.559415 \r\nL 246.69775 141.559415 \r\nL 246.69775 134.545222 \r\n\" style=\"fill:#3f1b43;\"/>\r\n    <path clip-path=\"url(#p80f183fefb)\" d=\"M 273.48175 134.545222 \r\nL 300.26575 134.545222 \r\nL 300.26575 141.559415 \r\nL 273.48175 141.559415 \r\nL 273.48175 134.545222 \r\n\" style=\"fill:#251433;\"/>\r\n    <path clip-path=\"url(#p80f183fefb)\" d=\"M 300.26575 134.545222 \r\nL 327.04975 134.545222 \r\nL 327.04975 141.559415 \r\nL 300.26575 141.559415 \r\nL 300.26575 134.545222 \r\n\" style=\"fill:#170f28;\"/>\r\n    <path clip-path=\"url(#p80f183fefb)\" d=\"M 327.04975 134.545222 \r\nL 353.83375 134.545222 \r\nL 353.83375 141.559415 \r\nL 327.04975 141.559415 \r\nL 327.04975 134.545222 \r\n\" style=\"fill:#03051a;\"/>\r\n    <path clip-path=\"url(#p80f183fefb)\" d=\"M 85.99375 141.559415 \r\nL 112.77775 141.559415 \r\nL 112.77775 148.573609 \r\nL 85.99375 148.573609 \r\nL 85.99375 141.559415 \r\n\" style=\"fill:#0d0a21;\"/>\r\n    <path clip-path=\"url(#p80f183fefb)\" d=\"M 112.77775 141.559415 \r\nL 139.56175 141.559415 \r\nL 139.56175 148.573609 \r\nL 112.77775 148.573609 \r\nL 112.77775 141.559415 \r\n\" style=\"fill:#4e1d4b;\"/>\r\n    <path clip-path=\"url(#p80f183fefb)\" d=\"M 139.56175 141.559415 \r\nL 166.34575 141.559415 \r\nL 166.34575 148.573609 \r\nL 139.56175 148.573609 \r\nL 139.56175 141.559415 \r\n\" style=\"fill:#9a1b5b;\"/>\r\n    <path clip-path=\"url(#p80f183fefb)\" d=\"M 166.34575 141.559415 \r\nL 193.12975 141.559415 \r\nL 193.12975 148.573609 \r\nL 166.34575 148.573609 \r\nL 166.34575 141.559415 \r\n\" style=\"fill:#491d49;\"/>\r\n    <path clip-path=\"url(#p80f183fefb)\" d=\"M 193.12975 141.559415 \r\nL 219.91375 141.559415 \r\nL 219.91375 148.573609 \r\nL 193.12975 148.573609 \r\nL 193.12975 141.559415 \r\n\" style=\"fill:#6e1f57;\"/>\r\n    <path clip-path=\"url(#p80f183fefb)\" d=\"M 219.91375 141.559415 \r\nL 246.69775 141.559415 \r\nL 246.69775 148.573609 \r\nL 219.91375 148.573609 \r\nL 219.91375 141.559415 \r\n\" style=\"fill:#511e4d;\"/>\r\n    <path clip-path=\"url(#p80f183fefb)\" d=\"M 246.69775 141.559415 \r\nL 273.48175 141.559415 \r\nL 273.48175 148.573609 \r\nL 246.69775 148.573609 \r\nL 246.69775 141.559415 \r\n\" style=\"fill:#481c48;\"/>\r\n    <path clip-path=\"url(#p80f183fefb)\" d=\"M 273.48175 141.559415 \r\nL 300.26575 141.559415 \r\nL 300.26575 148.573609 \r\nL 273.48175 148.573609 \r\nL 273.48175 141.559415 \r\n\" style=\"fill:#31183b;\"/>\r\n    <path clip-path=\"url(#p80f183fefb)\" d=\"M 300.26575 141.559415 \r\nL 327.04975 141.559415 \r\nL 327.04975 148.573609 \r\nL 300.26575 148.573609 \r\nL 300.26575 141.559415 \r\n\" style=\"fill:#170f28;\"/>\r\n    <path clip-path=\"url(#p80f183fefb)\" d=\"M 327.04975 141.559415 \r\nL 353.83375 141.559415 \r\nL 353.83375 148.573609 \r\nL 327.04975 148.573609 \r\nL 327.04975 141.559415 \r\n\" style=\"fill:#03051a;\"/>\r\n    <path clip-path=\"url(#p80f183fefb)\" d=\"M 85.99375 148.573609 \r\nL 112.77775 148.573609 \r\nL 112.77775 155.587802 \r\nL 85.99375 155.587802 \r\nL 85.99375 148.573609 \r\n\" style=\"fill:#0d0a21;\"/>\r\n    <path clip-path=\"url(#p80f183fefb)\" d=\"M 112.77775 148.573609 \r\nL 139.56175 148.573609 \r\nL 139.56175 155.587802 \r\nL 112.77775 155.587802 \r\nL 112.77775 148.573609 \r\n\" style=\"fill:#781f59;\"/>\r\n    <path clip-path=\"url(#p80f183fefb)\" d=\"M 139.56175 148.573609 \r\nL 166.34575 148.573609 \r\nL 166.34575 155.587802 \r\nL 139.56175 155.587802 \r\nL 139.56175 148.573609 \r\n\" style=\"fill:#f06043;\"/>\r\n    <path clip-path=\"url(#p80f183fefb)\" d=\"M 166.34575 148.573609 \r\nL 193.12975 148.573609 \r\nL 193.12975 155.587802 \r\nL 166.34575 155.587802 \r\nL 166.34575 148.573609 \r\n\" style=\"fill:#8c1d5b;\"/>\r\n    <path clip-path=\"url(#p80f183fefb)\" d=\"M 193.12975 148.573609 \r\nL 219.91375 148.573609 \r\nL 219.91375 155.587802 \r\nL 193.12975 155.587802 \r\nL 193.12975 148.573609 \r\n\" style=\"fill:#6e1f57;\"/>\r\n    <path clip-path=\"url(#p80f183fefb)\" d=\"M 219.91375 148.573609 \r\nL 246.69775 148.573609 \r\nL 246.69775 155.587802 \r\nL 219.91375 155.587802 \r\nL 219.91375 148.573609 \r\n\" style=\"fill:#7d1f5a;\"/>\r\n    <path clip-path=\"url(#p80f183fefb)\" d=\"M 246.69775 148.573609 \r\nL 273.48175 148.573609 \r\nL 273.48175 155.587802 \r\nL 246.69775 155.587802 \r\nL 246.69775 148.573609 \r\n\" style=\"fill:#30173a;\"/>\r\n    <path clip-path=\"url(#p80f183fefb)\" d=\"M 273.48175 148.573609 \r\nL 300.26575 148.573609 \r\nL 300.26575 155.587802 \r\nL 273.48175 155.587802 \r\nL 273.48175 148.573609 \r\n\" style=\"fill:#661f54;\"/>\r\n    <path clip-path=\"url(#p80f183fefb)\" d=\"M 300.26575 148.573609 \r\nL 327.04975 148.573609 \r\nL 327.04975 155.587802 \r\nL 300.26575 155.587802 \r\nL 300.26575 148.573609 \r\n\" style=\"fill:#03051a;\"/>\r\n    <path clip-path=\"url(#p80f183fefb)\" d=\"M 327.04975 148.573609 \r\nL 353.83375 148.573609 \r\nL 353.83375 155.587802 \r\nL 327.04975 155.587802 \r\nL 327.04975 148.573609 \r\n\" style=\"fill:#03051a;\"/>\r\n    <path clip-path=\"url(#p80f183fefb)\" d=\"M 85.99375 155.587802 \r\nL 112.77775 155.587802 \r\nL 112.77775 162.601996 \r\nL 85.99375 162.601996 \r\nL 85.99375 155.587802 \r\n\" style=\"fill:#180f29;\"/>\r\n    <path clip-path=\"url(#p80f183fefb)\" d=\"M 112.77775 155.587802 \r\nL 139.56175 155.587802 \r\nL 139.56175 162.601996 \r\nL 112.77775 162.601996 \r\nL 112.77775 155.587802 \r\n\" style=\"fill:#140e26;\"/>\r\n    <path clip-path=\"url(#p80f183fefb)\" d=\"M 139.56175 155.587802 \r\nL 166.34575 155.587802 \r\nL 166.34575 162.601996 \r\nL 139.56175 162.601996 \r\nL 139.56175 155.587802 \r\n\" style=\"fill:#1a102a;\"/>\r\n    <path clip-path=\"url(#p80f183fefb)\" d=\"M 166.34575 155.587802 \r\nL 193.12975 155.587802 \r\nL 193.12975 162.601996 \r\nL 166.34575 162.601996 \r\nL 166.34575 155.587802 \r\n\" style=\"fill:#8c1d5b;\"/>\r\n    <path clip-path=\"url(#p80f183fefb)\" d=\"M 193.12975 155.587802 \r\nL 219.91375 155.587802 \r\nL 219.91375 162.601996 \r\nL 193.12975 162.601996 \r\nL 193.12975 155.587802 \r\n\" style=\"fill:#1d112c;\"/>\r\n    <path clip-path=\"url(#p80f183fefb)\" d=\"M 219.91375 155.587802 \r\nL 246.69775 155.587802 \r\nL 246.69775 162.601996 \r\nL 219.91375 162.601996 \r\nL 219.91375 155.587802 \r\n\" style=\"fill:#2e1739;\"/>\r\n    <path clip-path=\"url(#p80f183fefb)\" d=\"M 246.69775 155.587802 \r\nL 273.48175 155.587802 \r\nL 273.48175 162.601996 \r\nL 246.69775 162.601996 \r\nL 246.69775 155.587802 \r\n\" style=\"fill:#20122e;\"/>\r\n    <path clip-path=\"url(#p80f183fefb)\" d=\"M 273.48175 155.587802 \r\nL 300.26575 155.587802 \r\nL 300.26575 162.601996 \r\nL 273.48175 162.601996 \r\nL 273.48175 155.587802 \r\n\" style=\"fill:#0d0a21;\"/>\r\n    <path clip-path=\"url(#p80f183fefb)\" d=\"M 300.26575 155.587802 \r\nL 327.04975 155.587802 \r\nL 327.04975 162.601996 \r\nL 300.26575 162.601996 \r\nL 300.26575 155.587802 \r\n\" style=\"fill:#170f28;\"/>\r\n    <path clip-path=\"url(#p80f183fefb)\" d=\"M 327.04975 155.587802 \r\nL 353.83375 155.587802 \r\nL 353.83375 162.601996 \r\nL 327.04975 162.601996 \r\nL 327.04975 155.587802 \r\n\" style=\"fill:#03051a;\"/>\r\n    <path clip-path=\"url(#p80f183fefb)\" d=\"M 85.99375 162.601996 \r\nL 112.77775 162.601996 \r\nL 112.77775 169.61619 \r\nL 85.99375 169.61619 \r\nL 85.99375 162.601996 \r\n\" style=\"fill:#03051a;\"/>\r\n    <path clip-path=\"url(#p80f183fefb)\" d=\"M 112.77775 162.601996 \r\nL 139.56175 162.601996 \r\nL 139.56175 169.61619 \r\nL 112.77775 169.61619 \r\nL 112.77775 162.601996 \r\n\" style=\"fill:#03051a;\"/>\r\n    <path clip-path=\"url(#p80f183fefb)\" d=\"M 139.56175 162.601996 \r\nL 166.34575 162.601996 \r\nL 166.34575 169.61619 \r\nL 139.56175 169.61619 \r\nL 139.56175 162.601996 \r\n\" style=\"fill:#03051a;\"/>\r\n    <path clip-path=\"url(#p80f183fefb)\" d=\"M 166.34575 162.601996 \r\nL 193.12975 162.601996 \r\nL 193.12975 169.61619 \r\nL 166.34575 169.61619 \r\nL 166.34575 162.601996 \r\n\" style=\"fill:#03051a;\"/>\r\n    <path clip-path=\"url(#p80f183fefb)\" d=\"M 193.12975 162.601996 \r\nL 219.91375 162.601996 \r\nL 219.91375 169.61619 \r\nL 193.12975 169.61619 \r\nL 193.12975 162.601996 \r\n\" style=\"fill:#03051a;\"/>\r\n    <path clip-path=\"url(#p80f183fefb)\" d=\"M 219.91375 162.601996 \r\nL 246.69775 162.601996 \r\nL 246.69775 169.61619 \r\nL 219.91375 169.61619 \r\nL 219.91375 162.601996 \r\n\" style=\"fill:#03051a;\"/>\r\n    <path clip-path=\"url(#p80f183fefb)\" d=\"M 246.69775 162.601996 \r\nL 273.48175 162.601996 \r\nL 273.48175 169.61619 \r\nL 246.69775 169.61619 \r\nL 246.69775 162.601996 \r\n\" style=\"fill:#03051a;\"/>\r\n    <path clip-path=\"url(#p80f183fefb)\" d=\"M 273.48175 162.601996 \r\nL 300.26575 162.601996 \r\nL 300.26575 169.61619 \r\nL 273.48175 169.61619 \r\nL 273.48175 162.601996 \r\n\" style=\"fill:#180f29;\"/>\r\n    <path clip-path=\"url(#p80f183fefb)\" d=\"M 300.26575 162.601996 \r\nL 327.04975 162.601996 \r\nL 327.04975 169.61619 \r\nL 300.26575 169.61619 \r\nL 300.26575 162.601996 \r\n\" style=\"fill:#03051a;\"/>\r\n    <path clip-path=\"url(#p80f183fefb)\" d=\"M 327.04975 162.601996 \r\nL 353.83375 162.601996 \r\nL 353.83375 169.61619 \r\nL 327.04975 169.61619 \r\nL 327.04975 162.601996 \r\n\" style=\"fill:#03051a;\"/>\r\n    <path clip-path=\"url(#p80f183fefb)\" d=\"M 85.99375 169.61619 \r\nL 112.77775 169.61619 \r\nL 112.77775 176.630383 \r\nL 85.99375 176.630383 \r\nL 85.99375 169.61619 \r\n\" style=\"fill:#03051a;\"/>\r\n    <path clip-path=\"url(#p80f183fefb)\" d=\"M 112.77775 169.61619 \r\nL 139.56175 169.61619 \r\nL 139.56175 176.630383 \r\nL 112.77775 176.630383 \r\nL 112.77775 169.61619 \r\n\" style=\"fill:#781f59;\"/>\r\n    <path clip-path=\"url(#p80f183fefb)\" d=\"M 139.56175 169.61619 \r\nL 166.34575 169.61619 \r\nL 166.34575 176.630383 \r\nL 139.56175 176.630383 \r\nL 139.56175 169.61619 \r\n\" style=\"fill:#ed4e3e;\"/>\r\n    <path clip-path=\"url(#p80f183fefb)\" d=\"M 166.34575 169.61619 \r\nL 193.12975 169.61619 \r\nL 193.12975 176.630383 \r\nL 166.34575 176.630383 \r\nL 166.34575 169.61619 \r\n\" style=\"fill:#8c1d5b;\"/>\r\n    <path clip-path=\"url(#p80f183fefb)\" d=\"M 193.12975 169.61619 \r\nL 219.91375 169.61619 \r\nL 219.91375 176.630383 \r\nL 193.12975 176.630383 \r\nL 193.12975 169.61619 \r\n\" style=\"fill:#9a1b5b;\"/>\r\n    <path clip-path=\"url(#p80f183fefb)\" d=\"M 219.91375 169.61619 \r\nL 246.69775 169.61619 \r\nL 246.69775 176.630383 \r\nL 219.91375 176.630383 \r\nL 219.91375 169.61619 \r\n\" style=\"fill:#9c1b5b;\"/>\r\n    <path clip-path=\"url(#p80f183fefb)\" d=\"M 246.69775 169.61619 \r\nL 273.48175 169.61619 \r\nL 273.48175 176.630383 \r\nL 246.69775 176.630383 \r\nL 246.69775 169.61619 \r\n\" style=\"fill:#b21758;\"/>\r\n    <path clip-path=\"url(#p80f183fefb)\" d=\"M 273.48175 169.61619 \r\nL 300.26575 169.61619 \r\nL 300.26575 176.630383 \r\nL 273.48175 176.630383 \r\nL 273.48175 169.61619 \r\n\" style=\"fill:#31183b;\"/>\r\n    <path clip-path=\"url(#p80f183fefb)\" d=\"M 300.26575 169.61619 \r\nL 327.04975 169.61619 \r\nL 327.04975 176.630383 \r\nL 300.26575 176.630383 \r\nL 300.26575 169.61619 \r\n\" style=\"fill:#2d1738;\"/>\r\n    <path clip-path=\"url(#p80f183fefb)\" d=\"M 327.04975 169.61619 \r\nL 353.83375 169.61619 \r\nL 353.83375 176.630383 \r\nL 327.04975 176.630383 \r\nL 327.04975 169.61619 \r\n\" style=\"fill:#03051a;\"/>\r\n    <path clip-path=\"url(#p80f183fefb)\" d=\"M 85.99375 176.630383 \r\nL 112.77775 176.630383 \r\nL 112.77775 183.644577 \r\nL 85.99375 183.644577 \r\nL 85.99375 176.630383 \r\n\" style=\"fill:#180f29;\"/>\r\n    <path clip-path=\"url(#p80f183fefb)\" d=\"M 112.77775 176.630383 \r\nL 139.56175 176.630383 \r\nL 139.56175 183.644577 \r\nL 112.77775 183.644577 \r\nL 112.77775 176.630383 \r\n\" style=\"fill:#591e50;\"/>\r\n    <path clip-path=\"url(#p80f183fefb)\" d=\"M 139.56175 176.630383 \r\nL 166.34575 176.630383 \r\nL 166.34575 183.644577 \r\nL 139.56175 183.644577 \r\nL 139.56175 176.630383 \r\n\" style=\"fill:#e73d3f;\"/>\r\n    <path clip-path=\"url(#p80f183fefb)\" d=\"M 166.34575 176.630383 \r\nL 193.12975 176.630383 \r\nL 193.12975 183.644577 \r\nL 166.34575 183.644577 \r\nL 166.34575 176.630383 \r\n\" style=\"fill:#9a1b5b;\"/>\r\n    <path clip-path=\"url(#p80f183fefb)\" d=\"M 193.12975 176.630383 \r\nL 219.91375 176.630383 \r\nL 219.91375 183.644577 \r\nL 193.12975 183.644577 \r\nL 193.12975 176.630383 \r\n\" style=\"fill:#d72549;\"/>\r\n    <path clip-path=\"url(#p80f183fefb)\" d=\"M 219.91375 176.630383 \r\nL 246.69775 176.630383 \r\nL 246.69775 183.644577 \r\nL 219.91375 183.644577 \r\nL 219.91375 176.630383 \r\n\" style=\"fill:#ce1d4e;\"/>\r\n    <path clip-path=\"url(#p80f183fefb)\" d=\"M 246.69775 176.630383 \r\nL 273.48175 176.630383 \r\nL 273.48175 183.644577 \r\nL 246.69775 183.644577 \r\nL 246.69775 176.630383 \r\n\" style=\"fill:#691f55;\"/>\r\n    <path clip-path=\"url(#p80f183fefb)\" d=\"M 273.48175 176.630383 \r\nL 300.26575 176.630383 \r\nL 300.26575 183.644577 \r\nL 273.48175 183.644577 \r\nL 273.48175 176.630383 \r\n\" style=\"fill:#3f1b43;\"/>\r\n    <path clip-path=\"url(#p80f183fefb)\" d=\"M 300.26575 176.630383 \r\nL 327.04975 176.630383 \r\nL 327.04975 183.644577 \r\nL 300.26575 183.644577 \r\nL 300.26575 176.630383 \r\n\" style=\"fill:#170f28;\"/>\r\n    <path clip-path=\"url(#p80f183fefb)\" d=\"M 327.04975 176.630383 \r\nL 353.83375 176.630383 \r\nL 353.83375 183.644577 \r\nL 327.04975 183.644577 \r\nL 327.04975 176.630383 \r\n\" style=\"fill:#4c1d4b;\"/>\r\n    <path clip-path=\"url(#p80f183fefb)\" d=\"M 85.99375 183.644577 \r\nL 112.77775 183.644577 \r\nL 112.77775 190.65877 \r\nL 85.99375 190.65877 \r\nL 85.99375 183.644577 \r\n\" style=\"fill:#0d0a21;\"/>\r\n    <path clip-path=\"url(#p80f183fefb)\" d=\"M 112.77775 183.644577 \r\nL 139.56175 183.644577 \r\nL 139.56175 190.65877 \r\nL 112.77775 190.65877 \r\nL 112.77775 183.644577 \r\n\" style=\"fill:#cf1e4d;\"/>\r\n    <path clip-path=\"url(#p80f183fefb)\" d=\"M 139.56175 183.644577 \r\nL 166.34575 183.644577 \r\nL 166.34575 190.65877 \r\nL 139.56175 190.65877 \r\nL 139.56175 183.644577 \r\n\" style=\"fill:#d3214b;\"/>\r\n    <path clip-path=\"url(#p80f183fefb)\" d=\"M 166.34575 183.644577 \r\nL 193.12975 183.644577 \r\nL 193.12975 190.65877 \r\nL 166.34575 190.65877 \r\nL 166.34575 183.644577 \r\n\" style=\"fill:#b71657;\"/>\r\n    <path clip-path=\"url(#p80f183fefb)\" d=\"M 193.12975 183.644577 \r\nL 219.91375 183.644577 \r\nL 219.91375 190.65877 \r\nL 193.12975 190.65877 \r\nL 193.12975 183.644577 \r\n\" style=\"fill:#b01759;\"/>\r\n    <path clip-path=\"url(#p80f183fefb)\" d=\"M 219.91375 183.644577 \r\nL 246.69775 183.644577 \r\nL 246.69775 190.65877 \r\nL 219.91375 190.65877 \r\nL 219.91375 183.644577 \r\n\" style=\"fill:#491d49;\"/>\r\n    <path clip-path=\"url(#p80f183fefb)\" d=\"M 246.69775 183.644577 \r\nL 273.48175 183.644577 \r\nL 273.48175 190.65877 \r\nL 246.69775 190.65877 \r\nL 246.69775 183.644577 \r\n\" style=\"fill:#591e50;\"/>\r\n    <path clip-path=\"url(#p80f183fefb)\" d=\"M 273.48175 183.644577 \r\nL 300.26575 183.644577 \r\nL 300.26575 190.65877 \r\nL 273.48175 190.65877 \r\nL 273.48175 183.644577 \r\n\" style=\"fill:#731f58;\"/>\r\n    <path clip-path=\"url(#p80f183fefb)\" d=\"M 300.26575 183.644577 \r\nL 327.04975 183.644577 \r\nL 327.04975 190.65877 \r\nL 300.26575 190.65877 \r\nL 300.26575 183.644577 \r\n\" style=\"fill:#431c46;\"/>\r\n    <path clip-path=\"url(#p80f183fefb)\" d=\"M 327.04975 183.644577 \r\nL 353.83375 183.644577 \r\nL 353.83375 190.65877 \r\nL 327.04975 190.65877 \r\nL 327.04975 183.644577 \r\n\" style=\"fill:#4c1d4b;\"/>\r\n    <path clip-path=\"url(#p80f183fefb)\" d=\"M 85.99375 190.65877 \r\nL 112.77775 190.65877 \r\nL 112.77775 197.672964 \r\nL 85.99375 197.672964 \r\nL 85.99375 190.65877 \r\n\" style=\"fill:#0d0a21;\"/>\r\n    <path clip-path=\"url(#p80f183fefb)\" d=\"M 112.77775 190.65877 \r\nL 139.56175 190.65877 \r\nL 139.56175 197.672964 \r\nL 112.77775 197.672964 \r\nL 112.77775 190.65877 \r\n\" style=\"fill:#8e1d5b;\"/>\r\n    <path clip-path=\"url(#p80f183fefb)\" d=\"M 139.56175 190.65877 \r\nL 166.34575 190.65877 \r\nL 166.34575 197.672964 \r\nL 139.56175 197.672964 \r\nL 139.56175 190.65877 \r\n\" style=\"fill:#d3214b;\"/>\r\n    <path clip-path=\"url(#p80f183fefb)\" d=\"M 166.34575 190.65877 \r\nL 193.12975 190.65877 \r\nL 193.12975 197.672964 \r\nL 166.34575 197.672964 \r\nL 166.34575 190.65877 \r\n\" style=\"fill:#f7c6a6;\"/>\r\n    <path clip-path=\"url(#p80f183fefb)\" d=\"M 193.12975 190.65877 \r\nL 219.91375 190.65877 \r\nL 219.91375 197.672964 \r\nL 193.12975 197.672964 \r\nL 193.12975 190.65877 \r\n\" style=\"fill:#eb463e;\"/>\r\n    <path clip-path=\"url(#p80f183fefb)\" d=\"M 219.91375 190.65877 \r\nL 246.69775 190.65877 \r\nL 246.69775 197.672964 \r\nL 219.91375 197.672964 \r\nL 219.91375 190.65877 \r\n\" style=\"fill:#7d1f5a;\"/>\r\n    <path clip-path=\"url(#p80f183fefb)\" d=\"M 246.69775 190.65877 \r\nL 273.48175 190.65877 \r\nL 273.48175 197.672964 \r\nL 246.69775 197.672964 \r\nL 246.69775 190.65877 \r\n\" style=\"fill:#691f55;\"/>\r\n    <path clip-path=\"url(#p80f183fefb)\" d=\"M 273.48175 190.65877 \r\nL 300.26575 190.65877 \r\nL 300.26575 197.672964 \r\nL 273.48175 197.672964 \r\nL 273.48175 190.65877 \r\n\" style=\"fill:#821e5a;\"/>\r\n    <path clip-path=\"url(#p80f183fefb)\" d=\"M 300.26575 190.65877 \r\nL 327.04975 190.65877 \r\nL 327.04975 197.672964 \r\nL 300.26575 197.672964 \r\nL 300.26575 190.65877 \r\n\" style=\"fill:#2d1738;\"/>\r\n    <path clip-path=\"url(#p80f183fefb)\" d=\"M 327.04975 190.65877 \r\nL 353.83375 190.65877 \r\nL 353.83375 197.672964 \r\nL 327.04975 197.672964 \r\nL 327.04975 190.65877 \r\n\" style=\"fill:#03051a;\"/>\r\n    <path clip-path=\"url(#p80f183fefb)\" d=\"M 85.99375 197.672964 \r\nL 112.77775 197.672964 \r\nL 112.77775 204.687157 \r\nL 85.99375 204.687157 \r\nL 85.99375 197.672964 \r\n\" style=\"fill:#180f29;\"/>\r\n    <path clip-path=\"url(#p80f183fefb)\" d=\"M 112.77775 197.672964 \r\nL 139.56175 197.672964 \r\nL 139.56175 204.687157 \r\nL 112.77775 204.687157 \r\nL 112.77775 197.672964 \r\n\" style=\"fill:#781f59;\"/>\r\n    <path clip-path=\"url(#p80f183fefb)\" d=\"M 139.56175 197.672964 \r\nL 166.34575 197.672964 \r\nL 166.34575 204.687157 \r\nL 139.56175 204.687157 \r\nL 139.56175 197.672964 \r\n\" style=\"fill:#de2e44;\"/>\r\n    <path clip-path=\"url(#p80f183fefb)\" d=\"M 166.34575 197.672964 \r\nL 193.12975 197.672964 \r\nL 193.12975 204.687157 \r\nL 166.34575 204.687157 \r\nL 166.34575 197.672964 \r\n\" style=\"fill:#a8185a;\"/>\r\n    <path clip-path=\"url(#p80f183fefb)\" d=\"M 193.12975 197.672964 \r\nL 219.91375 197.672964 \r\nL 219.91375 204.687157 \r\nL 193.12975 204.687157 \r\nL 193.12975 197.672964 \r\n\" style=\"fill:#cf1e4d;\"/>\r\n    <path clip-path=\"url(#p80f183fefb)\" d=\"M 219.91375 197.672964 \r\nL 246.69775 197.672964 \r\nL 246.69775 204.687157 \r\nL 219.91375 204.687157 \r\nL 219.91375 197.672964 \r\n\" style=\"fill:#751f58;\"/>\r\n    <path clip-path=\"url(#p80f183fefb)\" d=\"M 246.69775 197.672964 \r\nL 273.48175 197.672964 \r\nL 273.48175 204.687157 \r\nL 246.69775 204.687157 \r\nL 246.69775 197.672964 \r\n\" style=\"fill:#7b1f59;\"/>\r\n    <path clip-path=\"url(#p80f183fefb)\" d=\"M 273.48175 197.672964 \r\nL 300.26575 197.672964 \r\nL 300.26575 204.687157 \r\nL 273.48175 204.687157 \r\nL 273.48175 197.672964 \r\n\" style=\"fill:#821e5a;\"/>\r\n    <path clip-path=\"url(#p80f183fefb)\" d=\"M 300.26575 197.672964 \r\nL 327.04975 197.672964 \r\nL 327.04975 204.687157 \r\nL 300.26575 204.687157 \r\nL 300.26575 197.672964 \r\n\" style=\"fill:#731f58;\"/>\r\n    <path clip-path=\"url(#p80f183fefb)\" d=\"M 327.04975 197.672964 \r\nL 353.83375 197.672964 \r\nL 353.83375 204.687157 \r\nL 327.04975 204.687157 \r\nL 327.04975 197.672964 \r\n\" style=\"fill:#4c1d4b;\"/>\r\n    <path clip-path=\"url(#p80f183fefb)\" d=\"M 85.99375 204.687157 \r\nL 112.77775 204.687157 \r\nL 112.77775 211.701351 \r\nL 85.99375 211.701351 \r\nL 85.99375 204.687157 \r\n\" style=\"fill:#03051a;\"/>\r\n    <path clip-path=\"url(#p80f183fefb)\" d=\"M 112.77775 204.687157 \r\nL 139.56175 204.687157 \r\nL 139.56175 211.701351 \r\nL 112.77775 211.701351 \r\nL 112.77775 204.687157 \r\n\" style=\"fill:#3a1a41;\"/>\r\n    <path clip-path=\"url(#p80f183fefb)\" d=\"M 139.56175 204.687157 \r\nL 166.34575 204.687157 \r\nL 166.34575 211.701351 \r\nL 139.56175 211.701351 \r\nL 139.56175 204.687157 \r\n\" style=\"fill:#6d1f56;\"/>\r\n    <path clip-path=\"url(#p80f183fefb)\" d=\"M 166.34575 204.687157 \r\nL 193.12975 204.687157 \r\nL 193.12975 211.701351 \r\nL 166.34575 211.701351 \r\nL 166.34575 204.687157 \r\n\" style=\"fill:#7f1e5a;\"/>\r\n    <path clip-path=\"url(#p80f183fefb)\" d=\"M 193.12975 204.687157 \r\nL 219.91375 204.687157 \r\nL 219.91375 211.701351 \r\nL 193.12975 211.701351 \r\nL 193.12975 204.687157 \r\n\" style=\"fill:#631f53;\"/>\r\n    <path clip-path=\"url(#p80f183fefb)\" d=\"M 219.91375 204.687157 \r\nL 246.69775 204.687157 \r\nL 246.69775 211.701351 \r\nL 219.91375 211.701351 \r\nL 219.91375 204.687157 \r\n\" style=\"fill:#431c46;\"/>\r\n    <path clip-path=\"url(#p80f183fefb)\" d=\"M 246.69775 204.687157 \r\nL 273.48175 204.687157 \r\nL 273.48175 211.701351 \r\nL 246.69775 211.701351 \r\nL 246.69775 204.687157 \r\n\" style=\"fill:#20122e;\"/>\r\n    <path clip-path=\"url(#p80f183fefb)\" d=\"M 273.48175 204.687157 \r\nL 300.26575 204.687157 \r\nL 300.26575 211.701351 \r\nL 273.48175 211.701351 \r\nL 273.48175 204.687157 \r\n\" style=\"fill:#31183b;\"/>\r\n    <path clip-path=\"url(#p80f183fefb)\" d=\"M 300.26575 204.687157 \r\nL 327.04975 204.687157 \r\nL 327.04975 211.701351 \r\nL 300.26575 211.701351 \r\nL 300.26575 204.687157 \r\n\" style=\"fill:#170f28;\"/>\r\n    <path clip-path=\"url(#p80f183fefb)\" d=\"M 327.04975 204.687157 \r\nL 353.83375 204.687157 \r\nL 353.83375 211.701351 \r\nL 327.04975 211.701351 \r\nL 327.04975 204.687157 \r\n\" style=\"fill:#4c1d4b;\"/>\r\n    <path clip-path=\"url(#p80f183fefb)\" d=\"M 85.99375 211.701351 \r\nL 112.77775 211.701351 \r\nL 112.77775 218.715544 \r\nL 85.99375 218.715544 \r\nL 85.99375 211.701351 \r\n\" style=\"fill:#03051a;\"/>\r\n    <path clip-path=\"url(#p80f183fefb)\" d=\"M 112.77775 211.701351 \r\nL 139.56175 211.701351 \r\nL 139.56175 218.715544 \r\nL 112.77775 218.715544 \r\nL 112.77775 211.701351 \r\n\" style=\"fill:#0a091f;\"/>\r\n    <path clip-path=\"url(#p80f183fefb)\" d=\"M 139.56175 211.701351 \r\nL 166.34575 211.701351 \r\nL 166.34575 218.715544 \r\nL 139.56175 218.715544 \r\nL 139.56175 211.701351 \r\n\" style=\"fill:#03051a;\"/>\r\n    <path clip-path=\"url(#p80f183fefb)\" d=\"M 166.34575 211.701351 \r\nL 193.12975 211.701351 \r\nL 193.12975 218.715544 \r\nL 166.34575 218.715544 \r\nL 166.34575 211.701351 \r\n\" style=\"fill:#03051a;\"/>\r\n    <path clip-path=\"url(#p80f183fefb)\" d=\"M 193.12975 211.701351 \r\nL 219.91375 211.701351 \r\nL 219.91375 218.715544 \r\nL 193.12975 218.715544 \r\nL 193.12975 211.701351 \r\n\" style=\"fill:#0a091f;\"/>\r\n    <path clip-path=\"url(#p80f183fefb)\" d=\"M 219.91375 211.701351 \r\nL 246.69775 211.701351 \r\nL 246.69775 218.715544 \r\nL 219.91375 218.715544 \r\nL 219.91375 211.701351 \r\n\" style=\"fill:#0e0b22;\"/>\r\n    <path clip-path=\"url(#p80f183fefb)\" d=\"M 246.69775 211.701351 \r\nL 273.48175 211.701351 \r\nL 273.48175 218.715544 \r\nL 246.69775 218.715544 \r\nL 246.69775 211.701351 \r\n\" style=\"fill:#100b23;\"/>\r\n    <path clip-path=\"url(#p80f183fefb)\" d=\"M 273.48175 211.701351 \r\nL 300.26575 211.701351 \r\nL 300.26575 218.715544 \r\nL 273.48175 218.715544 \r\nL 273.48175 211.701351 \r\n\" style=\"fill:#180f29;\"/>\r\n    <path clip-path=\"url(#p80f183fefb)\" d=\"M 300.26575 211.701351 \r\nL 327.04975 211.701351 \r\nL 327.04975 218.715544 \r\nL 300.26575 218.715544 \r\nL 300.26575 211.701351 \r\n\" style=\"fill:#170f28;\"/>\r\n    <path clip-path=\"url(#p80f183fefb)\" d=\"M 327.04975 211.701351 \r\nL 353.83375 211.701351 \r\nL 353.83375 218.715544 \r\nL 327.04975 218.715544 \r\nL 327.04975 211.701351 \r\n\" style=\"fill:#03051a;\"/>\r\n    <path clip-path=\"url(#p80f183fefb)\" d=\"M 85.99375 218.715544 \r\nL 112.77775 218.715544 \r\nL 112.77775 225.729738 \r\nL 85.99375 225.729738 \r\nL 85.99375 218.715544 \r\n\" style=\"fill:#31183b;\"/>\r\n    <path clip-path=\"url(#p80f183fefb)\" d=\"M 112.77775 218.715544 \r\nL 139.56175 218.715544 \r\nL 139.56175 225.729738 \r\nL 112.77775 225.729738 \r\nL 112.77775 218.715544 \r\n\" style=\"fill:#df2f44;\"/>\r\n    <path clip-path=\"url(#p80f183fefb)\" d=\"M 139.56175 218.715544 \r\nL 166.34575 218.715544 \r\nL 166.34575 225.729738 \r\nL 139.56175 225.729738 \r\nL 139.56175 218.715544 \r\n\" style=\"fill:#e73d3f;\"/>\r\n    <path clip-path=\"url(#p80f183fefb)\" d=\"M 166.34575 218.715544 \r\nL 193.12975 218.715544 \r\nL 193.12975 225.729738 \r\nL 166.34575 225.729738 \r\nL 166.34575 218.715544 \r\n\" style=\"fill:#f4835b;\"/>\r\n    <path clip-path=\"url(#p80f183fefb)\" d=\"M 193.12975 218.715544 \r\nL 219.91375 218.715544 \r\nL 219.91375 225.729738 \r\nL 193.12975 225.729738 \r\nL 193.12975 218.715544 \r\n\" style=\"fill:#faebdd;\"/>\r\n    <path clip-path=\"url(#p80f183fefb)\" d=\"M 219.91375 218.715544 \r\nL 246.69775 218.715544 \r\nL 246.69775 225.729738 \r\nL 219.91375 225.729738 \r\nL 219.91375 218.715544 \r\n\" style=\"fill:#ce1d4e;\"/>\r\n    <path clip-path=\"url(#p80f183fefb)\" d=\"M 246.69775 218.715544 \r\nL 273.48175 218.715544 \r\nL 273.48175 225.729738 \r\nL 246.69775 225.729738 \r\nL 246.69775 218.715544 \r\n\" style=\"fill:#7b1f59;\"/>\r\n    <path clip-path=\"url(#p80f183fefb)\" d=\"M 273.48175 218.715544 \r\nL 300.26575 218.715544 \r\nL 300.26575 225.729738 \r\nL 273.48175 225.729738 \r\nL 273.48175 218.715544 \r\n\" style=\"fill:#ad1759;\"/>\r\n    <path clip-path=\"url(#p80f183fefb)\" d=\"M 300.26575 218.715544 \r\nL 327.04975 218.715544 \r\nL 327.04975 225.729738 \r\nL 300.26575 225.729738 \r\nL 300.26575 218.715544 \r\n\" style=\"fill:#170f28;\"/>\r\n    <path clip-path=\"url(#p80f183fefb)\" d=\"M 327.04975 218.715544 \r\nL 353.83375 218.715544 \r\nL 353.83375 225.729738 \r\nL 327.04975 225.729738 \r\nL 327.04975 218.715544 \r\n\" style=\"fill:#03051a;\"/>\r\n    <path clip-path=\"url(#p80f183fefb)\" d=\"M 85.99375 225.729738 \r\nL 112.77775 225.729738 \r\nL 112.77775 232.743931 \r\nL 85.99375 232.743931 \r\nL 85.99375 225.729738 \r\n\" style=\"fill:#180f29;\"/>\r\n    <path clip-path=\"url(#p80f183fefb)\" d=\"M 112.77775 225.729738 \r\nL 139.56175 225.729738 \r\nL 139.56175 232.743931 \r\nL 112.77775 232.743931 \r\nL 112.77775 225.729738 \r\n\" style=\"fill:#591e50;\"/>\r\n    <path clip-path=\"url(#p80f183fefb)\" d=\"M 139.56175 225.729738 \r\nL 166.34575 225.729738 \r\nL 166.34575 232.743931 \r\nL 139.56175 232.743931 \r\nL 139.56175 225.729738 \r\n\" style=\"fill:#f3714d;\"/>\r\n    <path clip-path=\"url(#p80f183fefb)\" d=\"M 166.34575 225.729738 \r\nL 193.12975 225.729738 \r\nL 193.12975 232.743931 \r\nL 166.34575 232.743931 \r\nL 166.34575 225.729738 \r\n\" style=\"fill:#ea443e;\"/>\r\n    <path clip-path=\"url(#p80f183fefb)\" d=\"M 193.12975 225.729738 \r\nL 219.91375 225.729738 \r\nL 219.91375 232.743931 \r\nL 193.12975 232.743931 \r\nL 193.12975 225.729738 \r\n\" style=\"fill:#bc1656;\"/>\r\n    <path clip-path=\"url(#p80f183fefb)\" d=\"M 219.91375 225.729738 \r\nL 246.69775 225.729738 \r\nL 246.69775 232.743931 \r\nL 219.91375 232.743931 \r\nL 219.91375 225.729738 \r\n\" style=\"fill:#b21758;\"/>\r\n    <path clip-path=\"url(#p80f183fefb)\" d=\"M 246.69775 225.729738 \r\nL 273.48175 225.729738 \r\nL 273.48175 232.743931 \r\nL 246.69775 232.743931 \r\nL 246.69775 225.729738 \r\n\" style=\"fill:#e9423e;\"/>\r\n    <path clip-path=\"url(#p80f183fefb)\" d=\"M 273.48175 225.729738 \r\nL 300.26575 225.729738 \r\nL 300.26575 232.743931 \r\nL 273.48175 232.743931 \r\nL 273.48175 225.729738 \r\n\" style=\"fill:#901d5b;\"/>\r\n    <path clip-path=\"url(#p80f183fefb)\" d=\"M 300.26575 225.729738 \r\nL 327.04975 225.729738 \r\nL 327.04975 232.743931 \r\nL 300.26575 232.743931 \r\nL 300.26575 225.729738 \r\n\" style=\"fill:#5b1e51;\"/>\r\n    <path clip-path=\"url(#p80f183fefb)\" d=\"M 327.04975 225.729738 \r\nL 353.83375 225.729738 \r\nL 353.83375 232.743931 \r\nL 327.04975 232.743931 \r\nL 327.04975 225.729738 \r\n\" style=\"fill:#4c1d4b;\"/>\r\n    <path clip-path=\"url(#p80f183fefb)\" d=\"M 85.99375 232.743931 \r\nL 112.77775 232.743931 \r\nL 112.77775 239.758125 \r\nL 85.99375 239.758125 \r\nL 85.99375 232.743931 \r\n\" style=\"fill:#241432;\"/>\r\n    <path clip-path=\"url(#p80f183fefb)\" d=\"M 112.77775 232.743931 \r\nL 139.56175 232.743931 \r\nL 139.56175 239.758125 \r\nL 112.77775 239.758125 \r\nL 112.77775 232.743931 \r\n\" style=\"fill:#8e1d5b;\"/>\r\n    <path clip-path=\"url(#p80f183fefb)\" d=\"M 139.56175 232.743931 \r\nL 166.34575 232.743931 \r\nL 166.34575 239.758125 \r\nL 139.56175 239.758125 \r\nL 139.56175 232.743931 \r\n\" style=\"fill:#f6ad85;\"/>\r\n    <path clip-path=\"url(#p80f183fefb)\" d=\"M 166.34575 232.743931 \r\nL 193.12975 232.743931 \r\nL 193.12975 239.758125 \r\nL 166.34575 239.758125 \r\nL 166.34575 232.743931 \r\n\" style=\"fill:#f59067;\"/>\r\n    <path clip-path=\"url(#p80f183fefb)\" d=\"M 193.12975 232.743931 \r\nL 219.91375 232.743931 \r\nL 219.91375 239.758125 \r\nL 193.12975 239.758125 \r\nL 193.12975 232.743931 \r\n\" style=\"fill:#d72549;\"/>\r\n    <path clip-path=\"url(#p80f183fefb)\" d=\"M 219.91375 232.743931 \r\nL 246.69775 232.743931 \r\nL 246.69775 239.758125 \r\nL 219.91375 239.758125 \r\nL 219.91375 232.743931 \r\n\" style=\"fill:#ce1d4e;\"/>\r\n    <path clip-path=\"url(#p80f183fefb)\" d=\"M 246.69775 232.743931 \r\nL 273.48175 232.743931 \r\nL 273.48175 239.758125 \r\nL 246.69775 239.758125 \r\nL 246.69775 232.743931 \r\n\" style=\"fill:#d3214b;\"/>\r\n    <path clip-path=\"url(#p80f183fefb)\" d=\"M 273.48175 232.743931 \r\nL 300.26575 232.743931 \r\nL 300.26575 239.758125 \r\nL 273.48175 239.758125 \r\nL 273.48175 232.743931 \r\n\" style=\"fill:#ba1656;\"/>\r\n    <path clip-path=\"url(#p80f183fefb)\" d=\"M 300.26575 232.743931 \r\nL 327.04975 232.743931 \r\nL 327.04975 239.758125 \r\nL 300.26575 239.758125 \r\nL 300.26575 232.743931 \r\n\" style=\"fill:#8c1d5b;\"/>\r\n    <path clip-path=\"url(#p80f183fefb)\" d=\"M 327.04975 232.743931 \r\nL 353.83375 232.743931 \r\nL 353.83375 239.758125 \r\nL 327.04975 239.758125 \r\nL 327.04975 232.743931 \r\n\" style=\"fill:#4c1d4b;\"/>\r\n   </g>\r\n   <g id=\"matplotlib.axis_1\">\r\n    <g id=\"xtick_1\">\r\n     <g id=\"line2d_1\">\r\n      <defs>\r\n       <path d=\"M 0 0 \r\nL 0 3.5 \r\n\" id=\"m6110ad3bb0\" style=\"stroke:#000000;stroke-width:0.8;\"/>\r\n      </defs>\r\n      <g>\r\n       <use style=\"stroke:#000000;stroke-width:0.8;\" x=\"99.38575\" xlink:href=\"#m6110ad3bb0\" y=\"239.758125\"/>\r\n      </g>\r\n     </g>\r\n     <g id=\"text_1\">\r\n      <!-- 9 -->\r\n      <g transform=\"translate(96.2045 254.356562)scale(0.1 -0.1)\">\r\n       <defs>\r\n        <path d=\"M 10.984375 1.515625 \r\nL 10.984375 10.5 \r\nQ 14.703125 8.734375 18.5 7.8125 \r\nQ 22.3125 6.890625 25.984375 6.890625 \r\nQ 35.75 6.890625 40.890625 13.453125 \r\nQ 46.046875 20.015625 46.78125 33.40625 \r\nQ 43.953125 29.203125 39.59375 26.953125 \r\nQ 35.25 24.703125 29.984375 24.703125 \r\nQ 19.046875 24.703125 12.671875 31.3125 \r\nQ 6.296875 37.9375 6.296875 49.421875 \r\nQ 6.296875 60.640625 12.9375 67.421875 \r\nQ 19.578125 74.21875 30.609375 74.21875 \r\nQ 43.265625 74.21875 49.921875 64.515625 \r\nQ 56.59375 54.828125 56.59375 36.375 \r\nQ 56.59375 19.140625 48.40625 8.859375 \r\nQ 40.234375 -1.421875 26.421875 -1.421875 \r\nQ 22.703125 -1.421875 18.890625 -0.6875 \r\nQ 15.09375 0.046875 10.984375 1.515625 \r\nz\r\nM 30.609375 32.421875 \r\nQ 37.25 32.421875 41.125 36.953125 \r\nQ 45.015625 41.5 45.015625 49.421875 \r\nQ 45.015625 57.28125 41.125 61.84375 \r\nQ 37.25 66.40625 30.609375 66.40625 \r\nQ 23.96875 66.40625 20.09375 61.84375 \r\nQ 16.21875 57.28125 16.21875 49.421875 \r\nQ 16.21875 41.5 20.09375 36.953125 \r\nQ 23.96875 32.421875 30.609375 32.421875 \r\nz\r\n\" id=\"DejaVuSans-57\"/>\r\n       </defs>\r\n       <use xlink:href=\"#DejaVuSans-57\"/>\r\n      </g>\r\n     </g>\r\n    </g>\r\n    <g id=\"xtick_2\">\r\n     <g id=\"line2d_2\">\r\n      <g>\r\n       <use style=\"stroke:#000000;stroke-width:0.8;\" x=\"126.16975\" xlink:href=\"#m6110ad3bb0\" y=\"239.758125\"/>\r\n      </g>\r\n     </g>\r\n     <g id=\"text_2\">\r\n      <!-- 19 -->\r\n      <g transform=\"translate(119.80725 254.356562)scale(0.1 -0.1)\">\r\n       <defs>\r\n        <path d=\"M 12.40625 8.296875 \r\nL 28.515625 8.296875 \r\nL 28.515625 63.921875 \r\nL 10.984375 60.40625 \r\nL 10.984375 69.390625 \r\nL 28.421875 72.90625 \r\nL 38.28125 72.90625 \r\nL 38.28125 8.296875 \r\nL 54.390625 8.296875 \r\nL 54.390625 0 \r\nL 12.40625 0 \r\nz\r\n\" id=\"DejaVuSans-49\"/>\r\n       </defs>\r\n       <use xlink:href=\"#DejaVuSans-49\"/>\r\n       <use x=\"63.623047\" xlink:href=\"#DejaVuSans-57\"/>\r\n      </g>\r\n     </g>\r\n    </g>\r\n    <g id=\"xtick_3\">\r\n     <g id=\"line2d_3\">\r\n      <g>\r\n       <use style=\"stroke:#000000;stroke-width:0.8;\" x=\"152.95375\" xlink:href=\"#m6110ad3bb0\" y=\"239.758125\"/>\r\n      </g>\r\n     </g>\r\n     <g id=\"text_3\">\r\n      <!-- 29 -->\r\n      <g transform=\"translate(146.59125 254.356562)scale(0.1 -0.1)\">\r\n       <defs>\r\n        <path d=\"M 19.1875 8.296875 \r\nL 53.609375 8.296875 \r\nL 53.609375 0 \r\nL 7.328125 0 \r\nL 7.328125 8.296875 \r\nQ 12.9375 14.109375 22.625 23.890625 \r\nQ 32.328125 33.6875 34.8125 36.53125 \r\nQ 39.546875 41.84375 41.421875 45.53125 \r\nQ 43.3125 49.21875 43.3125 52.78125 \r\nQ 43.3125 58.59375 39.234375 62.25 \r\nQ 35.15625 65.921875 28.609375 65.921875 \r\nQ 23.96875 65.921875 18.8125 64.3125 \r\nQ 13.671875 62.703125 7.8125 59.421875 \r\nL 7.8125 69.390625 \r\nQ 13.765625 71.78125 18.9375 73 \r\nQ 24.125 74.21875 28.421875 74.21875 \r\nQ 39.75 74.21875 46.484375 68.546875 \r\nQ 53.21875 62.890625 53.21875 53.421875 \r\nQ 53.21875 48.921875 51.53125 44.890625 \r\nQ 49.859375 40.875 45.40625 35.40625 \r\nQ 44.1875 33.984375 37.640625 27.21875 \r\nQ 31.109375 20.453125 19.1875 8.296875 \r\nz\r\n\" id=\"DejaVuSans-50\"/>\r\n       </defs>\r\n       <use xlink:href=\"#DejaVuSans-50\"/>\r\n       <use x=\"63.623047\" xlink:href=\"#DejaVuSans-57\"/>\r\n      </g>\r\n     </g>\r\n    </g>\r\n    <g id=\"xtick_4\">\r\n     <g id=\"line2d_4\">\r\n      <g>\r\n       <use style=\"stroke:#000000;stroke-width:0.8;\" x=\"179.73775\" xlink:href=\"#m6110ad3bb0\" y=\"239.758125\"/>\r\n      </g>\r\n     </g>\r\n     <g id=\"text_4\">\r\n      <!-- 39 -->\r\n      <g transform=\"translate(173.37525 254.356562)scale(0.1 -0.1)\">\r\n       <defs>\r\n        <path d=\"M 40.578125 39.3125 \r\nQ 47.65625 37.796875 51.625 33 \r\nQ 55.609375 28.21875 55.609375 21.1875 \r\nQ 55.609375 10.40625 48.1875 4.484375 \r\nQ 40.765625 -1.421875 27.09375 -1.421875 \r\nQ 22.515625 -1.421875 17.65625 -0.515625 \r\nQ 12.796875 0.390625 7.625 2.203125 \r\nL 7.625 11.71875 \r\nQ 11.71875 9.328125 16.59375 8.109375 \r\nQ 21.484375 6.890625 26.8125 6.890625 \r\nQ 36.078125 6.890625 40.9375 10.546875 \r\nQ 45.796875 14.203125 45.796875 21.1875 \r\nQ 45.796875 27.640625 41.28125 31.265625 \r\nQ 36.765625 34.90625 28.71875 34.90625 \r\nL 20.21875 34.90625 \r\nL 20.21875 43.015625 \r\nL 29.109375 43.015625 \r\nQ 36.375 43.015625 40.234375 45.921875 \r\nQ 44.09375 48.828125 44.09375 54.296875 \r\nQ 44.09375 59.90625 40.109375 62.90625 \r\nQ 36.140625 65.921875 28.71875 65.921875 \r\nQ 24.65625 65.921875 20.015625 65.03125 \r\nQ 15.375 64.15625 9.8125 62.3125 \r\nL 9.8125 71.09375 \r\nQ 15.4375 72.65625 20.34375 73.4375 \r\nQ 25.25 74.21875 29.59375 74.21875 \r\nQ 40.828125 74.21875 47.359375 69.109375 \r\nQ 53.90625 64.015625 53.90625 55.328125 \r\nQ 53.90625 49.265625 50.4375 45.09375 \r\nQ 46.96875 40.921875 40.578125 39.3125 \r\nz\r\n\" id=\"DejaVuSans-51\"/>\r\n       </defs>\r\n       <use xlink:href=\"#DejaVuSans-51\"/>\r\n       <use x=\"63.623047\" xlink:href=\"#DejaVuSans-57\"/>\r\n      </g>\r\n     </g>\r\n    </g>\r\n    <g id=\"xtick_5\">\r\n     <g id=\"line2d_5\">\r\n      <g>\r\n       <use style=\"stroke:#000000;stroke-width:0.8;\" x=\"206.52175\" xlink:href=\"#m6110ad3bb0\" y=\"239.758125\"/>\r\n      </g>\r\n     </g>\r\n     <g id=\"text_5\">\r\n      <!-- 49 -->\r\n      <g transform=\"translate(200.15925 254.356562)scale(0.1 -0.1)\">\r\n       <defs>\r\n        <path d=\"M 37.796875 64.3125 \r\nL 12.890625 25.390625 \r\nL 37.796875 25.390625 \r\nz\r\nM 35.203125 72.90625 \r\nL 47.609375 72.90625 \r\nL 47.609375 25.390625 \r\nL 58.015625 25.390625 \r\nL 58.015625 17.1875 \r\nL 47.609375 17.1875 \r\nL 47.609375 0 \r\nL 37.796875 0 \r\nL 37.796875 17.1875 \r\nL 4.890625 17.1875 \r\nL 4.890625 26.703125 \r\nz\r\n\" id=\"DejaVuSans-52\"/>\r\n       </defs>\r\n       <use xlink:href=\"#DejaVuSans-52\"/>\r\n       <use x=\"63.623047\" xlink:href=\"#DejaVuSans-57\"/>\r\n      </g>\r\n     </g>\r\n    </g>\r\n    <g id=\"xtick_6\">\r\n     <g id=\"line2d_6\">\r\n      <g>\r\n       <use style=\"stroke:#000000;stroke-width:0.8;\" x=\"233.30575\" xlink:href=\"#m6110ad3bb0\" y=\"239.758125\"/>\r\n      </g>\r\n     </g>\r\n     <g id=\"text_6\">\r\n      <!-- 59 -->\r\n      <g transform=\"translate(226.94325 254.356562)scale(0.1 -0.1)\">\r\n       <defs>\r\n        <path d=\"M 10.796875 72.90625 \r\nL 49.515625 72.90625 \r\nL 49.515625 64.59375 \r\nL 19.828125 64.59375 \r\nL 19.828125 46.734375 \r\nQ 21.96875 47.46875 24.109375 47.828125 \r\nQ 26.265625 48.1875 28.421875 48.1875 \r\nQ 40.625 48.1875 47.75 41.5 \r\nQ 54.890625 34.8125 54.890625 23.390625 \r\nQ 54.890625 11.625 47.5625 5.09375 \r\nQ 40.234375 -1.421875 26.90625 -1.421875 \r\nQ 22.3125 -1.421875 17.546875 -0.640625 \r\nQ 12.796875 0.140625 7.71875 1.703125 \r\nL 7.71875 11.625 \r\nQ 12.109375 9.234375 16.796875 8.0625 \r\nQ 21.484375 6.890625 26.703125 6.890625 \r\nQ 35.15625 6.890625 40.078125 11.328125 \r\nQ 45.015625 15.765625 45.015625 23.390625 \r\nQ 45.015625 31 40.078125 35.4375 \r\nQ 35.15625 39.890625 26.703125 39.890625 \r\nQ 22.75 39.890625 18.8125 39.015625 \r\nQ 14.890625 38.140625 10.796875 36.28125 \r\nz\r\n\" id=\"DejaVuSans-53\"/>\r\n       </defs>\r\n       <use xlink:href=\"#DejaVuSans-53\"/>\r\n       <use x=\"63.623047\" xlink:href=\"#DejaVuSans-57\"/>\r\n      </g>\r\n     </g>\r\n    </g>\r\n    <g id=\"xtick_7\">\r\n     <g id=\"line2d_7\">\r\n      <g>\r\n       <use style=\"stroke:#000000;stroke-width:0.8;\" x=\"260.08975\" xlink:href=\"#m6110ad3bb0\" y=\"239.758125\"/>\r\n      </g>\r\n     </g>\r\n     <g id=\"text_7\">\r\n      <!-- 69 -->\r\n      <g transform=\"translate(253.72725 254.356562)scale(0.1 -0.1)\">\r\n       <defs>\r\n        <path d=\"M 33.015625 40.375 \r\nQ 26.375 40.375 22.484375 35.828125 \r\nQ 18.609375 31.296875 18.609375 23.390625 \r\nQ 18.609375 15.53125 22.484375 10.953125 \r\nQ 26.375 6.390625 33.015625 6.390625 \r\nQ 39.65625 6.390625 43.53125 10.953125 \r\nQ 47.40625 15.53125 47.40625 23.390625 \r\nQ 47.40625 31.296875 43.53125 35.828125 \r\nQ 39.65625 40.375 33.015625 40.375 \r\nz\r\nM 52.59375 71.296875 \r\nL 52.59375 62.3125 \r\nQ 48.875 64.0625 45.09375 64.984375 \r\nQ 41.3125 65.921875 37.59375 65.921875 \r\nQ 27.828125 65.921875 22.671875 59.328125 \r\nQ 17.53125 52.734375 16.796875 39.40625 \r\nQ 19.671875 43.65625 24.015625 45.921875 \r\nQ 28.375 48.1875 33.59375 48.1875 \r\nQ 44.578125 48.1875 50.953125 41.515625 \r\nQ 57.328125 34.859375 57.328125 23.390625 \r\nQ 57.328125 12.15625 50.6875 5.359375 \r\nQ 44.046875 -1.421875 33.015625 -1.421875 \r\nQ 20.359375 -1.421875 13.671875 8.265625 \r\nQ 6.984375 17.96875 6.984375 36.375 \r\nQ 6.984375 53.65625 15.1875 63.9375 \r\nQ 23.390625 74.21875 37.203125 74.21875 \r\nQ 40.921875 74.21875 44.703125 73.484375 \r\nQ 48.484375 72.75 52.59375 71.296875 \r\nz\r\n\" id=\"DejaVuSans-54\"/>\r\n       </defs>\r\n       <use xlink:href=\"#DejaVuSans-54\"/>\r\n       <use x=\"63.623047\" xlink:href=\"#DejaVuSans-57\"/>\r\n      </g>\r\n     </g>\r\n    </g>\r\n    <g id=\"xtick_8\">\r\n     <g id=\"line2d_8\">\r\n      <g>\r\n       <use style=\"stroke:#000000;stroke-width:0.8;\" x=\"286.87375\" xlink:href=\"#m6110ad3bb0\" y=\"239.758125\"/>\r\n      </g>\r\n     </g>\r\n     <g id=\"text_8\">\r\n      <!-- 79 -->\r\n      <g transform=\"translate(280.51125 254.356562)scale(0.1 -0.1)\">\r\n       <defs>\r\n        <path d=\"M 8.203125 72.90625 \r\nL 55.078125 72.90625 \r\nL 55.078125 68.703125 \r\nL 28.609375 0 \r\nL 18.3125 0 \r\nL 43.21875 64.59375 \r\nL 8.203125 64.59375 \r\nz\r\n\" id=\"DejaVuSans-55\"/>\r\n       </defs>\r\n       <use xlink:href=\"#DejaVuSans-55\"/>\r\n       <use x=\"63.623047\" xlink:href=\"#DejaVuSans-57\"/>\r\n      </g>\r\n     </g>\r\n    </g>\r\n    <g id=\"xtick_9\">\r\n     <g id=\"line2d_9\">\r\n      <g>\r\n       <use style=\"stroke:#000000;stroke-width:0.8;\" x=\"313.65775\" xlink:href=\"#m6110ad3bb0\" y=\"239.758125\"/>\r\n      </g>\r\n     </g>\r\n     <g id=\"text_9\">\r\n      <!-- 89 -->\r\n      <g transform=\"translate(307.29525 254.356562)scale(0.1 -0.1)\">\r\n       <defs>\r\n        <path d=\"M 31.78125 34.625 \r\nQ 24.75 34.625 20.71875 30.859375 \r\nQ 16.703125 27.09375 16.703125 20.515625 \r\nQ 16.703125 13.921875 20.71875 10.15625 \r\nQ 24.75 6.390625 31.78125 6.390625 \r\nQ 38.8125 6.390625 42.859375 10.171875 \r\nQ 46.921875 13.96875 46.921875 20.515625 \r\nQ 46.921875 27.09375 42.890625 30.859375 \r\nQ 38.875 34.625 31.78125 34.625 \r\nz\r\nM 21.921875 38.8125 \r\nQ 15.578125 40.375 12.03125 44.71875 \r\nQ 8.5 49.078125 8.5 55.328125 \r\nQ 8.5 64.0625 14.71875 69.140625 \r\nQ 20.953125 74.21875 31.78125 74.21875 \r\nQ 42.671875 74.21875 48.875 69.140625 \r\nQ 55.078125 64.0625 55.078125 55.328125 \r\nQ 55.078125 49.078125 51.53125 44.71875 \r\nQ 48 40.375 41.703125 38.8125 \r\nQ 48.828125 37.15625 52.796875 32.3125 \r\nQ 56.78125 27.484375 56.78125 20.515625 \r\nQ 56.78125 9.90625 50.3125 4.234375 \r\nQ 43.84375 -1.421875 31.78125 -1.421875 \r\nQ 19.734375 -1.421875 13.25 4.234375 \r\nQ 6.78125 9.90625 6.78125 20.515625 \r\nQ 6.78125 27.484375 10.78125 32.3125 \r\nQ 14.796875 37.15625 21.921875 38.8125 \r\nz\r\nM 18.3125 54.390625 \r\nQ 18.3125 48.734375 21.84375 45.5625 \r\nQ 25.390625 42.390625 31.78125 42.390625 \r\nQ 38.140625 42.390625 41.71875 45.5625 \r\nQ 45.3125 48.734375 45.3125 54.390625 \r\nQ 45.3125 60.0625 41.71875 63.234375 \r\nQ 38.140625 66.40625 31.78125 66.40625 \r\nQ 25.390625 66.40625 21.84375 63.234375 \r\nQ 18.3125 60.0625 18.3125 54.390625 \r\nz\r\n\" id=\"DejaVuSans-56\"/>\r\n       </defs>\r\n       <use xlink:href=\"#DejaVuSans-56\"/>\r\n       <use x=\"63.623047\" xlink:href=\"#DejaVuSans-57\"/>\r\n      </g>\r\n     </g>\r\n    </g>\r\n    <g id=\"xtick_10\">\r\n     <g id=\"line2d_10\">\r\n      <g>\r\n       <use style=\"stroke:#000000;stroke-width:0.8;\" x=\"340.44175\" xlink:href=\"#m6110ad3bb0\" y=\"239.758125\"/>\r\n      </g>\r\n     </g>\r\n     <g id=\"text_10\">\r\n      <!-- 90 -->\r\n      <g transform=\"translate(334.07925 254.356562)scale(0.1 -0.1)\">\r\n       <defs>\r\n        <path d=\"M 31.78125 66.40625 \r\nQ 24.171875 66.40625 20.328125 58.90625 \r\nQ 16.5 51.421875 16.5 36.375 \r\nQ 16.5 21.390625 20.328125 13.890625 \r\nQ 24.171875 6.390625 31.78125 6.390625 \r\nQ 39.453125 6.390625 43.28125 13.890625 \r\nQ 47.125 21.390625 47.125 36.375 \r\nQ 47.125 51.421875 43.28125 58.90625 \r\nQ 39.453125 66.40625 31.78125 66.40625 \r\nz\r\nM 31.78125 74.21875 \r\nQ 44.046875 74.21875 50.515625 64.515625 \r\nQ 56.984375 54.828125 56.984375 36.375 \r\nQ 56.984375 17.96875 50.515625 8.265625 \r\nQ 44.046875 -1.421875 31.78125 -1.421875 \r\nQ 19.53125 -1.421875 13.0625 8.265625 \r\nQ 6.59375 17.96875 6.59375 36.375 \r\nQ 6.59375 54.828125 13.0625 64.515625 \r\nQ 19.53125 74.21875 31.78125 74.21875 \r\nz\r\n\" id=\"DejaVuSans-48\"/>\r\n       </defs>\r\n       <use xlink:href=\"#DejaVuSans-57\"/>\r\n       <use x=\"63.623047\" xlink:href=\"#DejaVuSans-48\"/>\r\n      </g>\r\n     </g>\r\n    </g>\r\n    <g id=\"text_11\">\r\n     <!-- Age -->\r\n     <g transform=\"translate(210.242656 268.034687)scale(0.1 -0.1)\">\r\n      <defs>\r\n       <path d=\"M 34.1875 63.1875 \r\nL 20.796875 26.90625 \r\nL 47.609375 26.90625 \r\nz\r\nM 28.609375 72.90625 \r\nL 39.796875 72.90625 \r\nL 67.578125 0 \r\nL 57.328125 0 \r\nL 50.6875 18.703125 \r\nL 17.828125 18.703125 \r\nL 11.1875 0 \r\nL 0.78125 0 \r\nz\r\n\" id=\"DejaVuSans-65\"/>\r\n       <path d=\"M 45.40625 27.984375 \r\nQ 45.40625 37.75 41.375 43.109375 \r\nQ 37.359375 48.484375 30.078125 48.484375 \r\nQ 22.859375 48.484375 18.828125 43.109375 \r\nQ 14.796875 37.75 14.796875 27.984375 \r\nQ 14.796875 18.265625 18.828125 12.890625 \r\nQ 22.859375 7.515625 30.078125 7.515625 \r\nQ 37.359375 7.515625 41.375 12.890625 \r\nQ 45.40625 18.265625 45.40625 27.984375 \r\nz\r\nM 54.390625 6.78125 \r\nQ 54.390625 -7.171875 48.1875 -13.984375 \r\nQ 42 -20.796875 29.203125 -20.796875 \r\nQ 24.46875 -20.796875 20.265625 -20.09375 \r\nQ 16.0625 -19.390625 12.109375 -17.921875 \r\nL 12.109375 -9.1875 \r\nQ 16.0625 -11.328125 19.921875 -12.34375 \r\nQ 23.78125 -13.375 27.78125 -13.375 \r\nQ 36.625 -13.375 41.015625 -8.765625 \r\nQ 45.40625 -4.15625 45.40625 5.171875 \r\nL 45.40625 9.625 \r\nQ 42.625 4.78125 38.28125 2.390625 \r\nQ 33.9375 0 27.875 0 \r\nQ 17.828125 0 11.671875 7.65625 \r\nQ 5.515625 15.328125 5.515625 27.984375 \r\nQ 5.515625 40.671875 11.671875 48.328125 \r\nQ 17.828125 56 27.875 56 \r\nQ 33.9375 56 38.28125 53.609375 \r\nQ 42.625 51.21875 45.40625 46.390625 \r\nL 45.40625 54.6875 \r\nL 54.390625 54.6875 \r\nz\r\n\" id=\"DejaVuSans-103\"/>\r\n       <path d=\"M 56.203125 29.59375 \r\nL 56.203125 25.203125 \r\nL 14.890625 25.203125 \r\nQ 15.484375 15.921875 20.484375 11.0625 \r\nQ 25.484375 6.203125 34.421875 6.203125 \r\nQ 39.59375 6.203125 44.453125 7.46875 \r\nQ 49.3125 8.734375 54.109375 11.28125 \r\nL 54.109375 2.78125 \r\nQ 49.265625 0.734375 44.1875 -0.34375 \r\nQ 39.109375 -1.421875 33.890625 -1.421875 \r\nQ 20.796875 -1.421875 13.15625 6.1875 \r\nQ 5.515625 13.8125 5.515625 26.8125 \r\nQ 5.515625 40.234375 12.765625 48.109375 \r\nQ 20.015625 56 32.328125 56 \r\nQ 43.359375 56 49.78125 48.890625 \r\nQ 56.203125 41.796875 56.203125 29.59375 \r\nz\r\nM 47.21875 32.234375 \r\nQ 47.125 39.59375 43.09375 43.984375 \r\nQ 39.0625 48.390625 32.421875 48.390625 \r\nQ 24.90625 48.390625 20.390625 44.140625 \r\nQ 15.875 39.890625 15.1875 32.171875 \r\nz\r\n\" id=\"DejaVuSans-101\"/>\r\n      </defs>\r\n      <use xlink:href=\"#DejaVuSans-65\"/>\r\n      <use x=\"68.408203\" xlink:href=\"#DejaVuSans-103\"/>\r\n      <use x=\"131.884766\" xlink:href=\"#DejaVuSans-101\"/>\r\n     </g>\r\n    </g>\r\n   </g>\r\n   <g id=\"matplotlib.axis_2\">\r\n    <g id=\"ytick_1\">\r\n     <g id=\"line2d_11\">\r\n      <defs>\r\n       <path d=\"M 0 0 \r\nL -3.5 0 \r\n\" id=\"m8e47af1cfd\" style=\"stroke:#000000;stroke-width:0.8;\"/>\r\n      </defs>\r\n      <g>\r\n       <use style=\"stroke:#000000;stroke-width:0.8;\" x=\"85.99375\" xlink:href=\"#m8e47af1cfd\" y=\"25.825222\"/>\r\n      </g>\r\n     </g>\r\n     <g id=\"text_12\">\r\n      <!-- 2021-03-01 -->\r\n      <g transform=\"translate(20.878125 29.624441)scale(0.1 -0.1)\">\r\n       <defs>\r\n        <path d=\"M 4.890625 31.390625 \r\nL 31.203125 31.390625 \r\nL 31.203125 23.390625 \r\nL 4.890625 23.390625 \r\nz\r\n\" id=\"DejaVuSans-45\"/>\r\n       </defs>\r\n       <use xlink:href=\"#DejaVuSans-50\"/>\r\n       <use x=\"63.623047\" xlink:href=\"#DejaVuSans-48\"/>\r\n       <use x=\"127.246094\" xlink:href=\"#DejaVuSans-50\"/>\r\n       <use x=\"190.869141\" xlink:href=\"#DejaVuSans-49\"/>\r\n       <use x=\"254.492188\" xlink:href=\"#DejaVuSans-45\"/>\r\n       <use x=\"290.576172\" xlink:href=\"#DejaVuSans-48\"/>\r\n       <use x=\"354.199219\" xlink:href=\"#DejaVuSans-51\"/>\r\n       <use x=\"417.822266\" xlink:href=\"#DejaVuSans-45\"/>\r\n       <use x=\"453.90625\" xlink:href=\"#DejaVuSans-48\"/>\r\n       <use x=\"517.529297\" xlink:href=\"#DejaVuSans-49\"/>\r\n      </g>\r\n     </g>\r\n    </g>\r\n    <g id=\"ytick_2\">\r\n     <g id=\"line2d_12\">\r\n      <g>\r\n       <use style=\"stroke:#000000;stroke-width:0.8;\" x=\"85.99375\" xlink:href=\"#m8e47af1cfd\" y=\"39.853609\"/>\r\n      </g>\r\n     </g>\r\n     <g id=\"text_13\">\r\n      <!-- 2021-03-03 -->\r\n      <g transform=\"translate(20.878125 43.652828)scale(0.1 -0.1)\">\r\n       <use xlink:href=\"#DejaVuSans-50\"/>\r\n       <use x=\"63.623047\" xlink:href=\"#DejaVuSans-48\"/>\r\n       <use x=\"127.246094\" xlink:href=\"#DejaVuSans-50\"/>\r\n       <use x=\"190.869141\" xlink:href=\"#DejaVuSans-49\"/>\r\n       <use x=\"254.492188\" xlink:href=\"#DejaVuSans-45\"/>\r\n       <use x=\"290.576172\" xlink:href=\"#DejaVuSans-48\"/>\r\n       <use x=\"354.199219\" xlink:href=\"#DejaVuSans-51\"/>\r\n       <use x=\"417.822266\" xlink:href=\"#DejaVuSans-45\"/>\r\n       <use x=\"453.90625\" xlink:href=\"#DejaVuSans-48\"/>\r\n       <use x=\"517.529297\" xlink:href=\"#DejaVuSans-51\"/>\r\n      </g>\r\n     </g>\r\n    </g>\r\n    <g id=\"ytick_3\">\r\n     <g id=\"line2d_13\">\r\n      <g>\r\n       <use style=\"stroke:#000000;stroke-width:0.8;\" x=\"85.99375\" xlink:href=\"#m8e47af1cfd\" y=\"53.881996\"/>\r\n      </g>\r\n     </g>\r\n     <g id=\"text_14\">\r\n      <!-- 2021-03-05 -->\r\n      <g transform=\"translate(20.878125 57.681215)scale(0.1 -0.1)\">\r\n       <use xlink:href=\"#DejaVuSans-50\"/>\r\n       <use x=\"63.623047\" xlink:href=\"#DejaVuSans-48\"/>\r\n       <use x=\"127.246094\" xlink:href=\"#DejaVuSans-50\"/>\r\n       <use x=\"190.869141\" xlink:href=\"#DejaVuSans-49\"/>\r\n       <use x=\"254.492188\" xlink:href=\"#DejaVuSans-45\"/>\r\n       <use x=\"290.576172\" xlink:href=\"#DejaVuSans-48\"/>\r\n       <use x=\"354.199219\" xlink:href=\"#DejaVuSans-51\"/>\r\n       <use x=\"417.822266\" xlink:href=\"#DejaVuSans-45\"/>\r\n       <use x=\"453.90625\" xlink:href=\"#DejaVuSans-48\"/>\r\n       <use x=\"517.529297\" xlink:href=\"#DejaVuSans-53\"/>\r\n      </g>\r\n     </g>\r\n    </g>\r\n    <g id=\"ytick_4\">\r\n     <g id=\"line2d_14\">\r\n      <g>\r\n       <use style=\"stroke:#000000;stroke-width:0.8;\" x=\"85.99375\" xlink:href=\"#m8e47af1cfd\" y=\"67.910383\"/>\r\n      </g>\r\n     </g>\r\n     <g id=\"text_15\">\r\n      <!-- 2021-03-07 -->\r\n      <g transform=\"translate(20.878125 71.709602)scale(0.1 -0.1)\">\r\n       <use xlink:href=\"#DejaVuSans-50\"/>\r\n       <use x=\"63.623047\" xlink:href=\"#DejaVuSans-48\"/>\r\n       <use x=\"127.246094\" xlink:href=\"#DejaVuSans-50\"/>\r\n       <use x=\"190.869141\" xlink:href=\"#DejaVuSans-49\"/>\r\n       <use x=\"254.492188\" xlink:href=\"#DejaVuSans-45\"/>\r\n       <use x=\"290.576172\" xlink:href=\"#DejaVuSans-48\"/>\r\n       <use x=\"354.199219\" xlink:href=\"#DejaVuSans-51\"/>\r\n       <use x=\"417.822266\" xlink:href=\"#DejaVuSans-45\"/>\r\n       <use x=\"453.90625\" xlink:href=\"#DejaVuSans-48\"/>\r\n       <use x=\"517.529297\" xlink:href=\"#DejaVuSans-55\"/>\r\n      </g>\r\n     </g>\r\n    </g>\r\n    <g id=\"ytick_5\">\r\n     <g id=\"line2d_15\">\r\n      <g>\r\n       <use style=\"stroke:#000000;stroke-width:0.8;\" x=\"85.99375\" xlink:href=\"#m8e47af1cfd\" y=\"81.93877\"/>\r\n      </g>\r\n     </g>\r\n     <g id=\"text_16\">\r\n      <!-- 2021-03-09 -->\r\n      <g transform=\"translate(20.878125 85.737989)scale(0.1 -0.1)\">\r\n       <use xlink:href=\"#DejaVuSans-50\"/>\r\n       <use x=\"63.623047\" xlink:href=\"#DejaVuSans-48\"/>\r\n       <use x=\"127.246094\" xlink:href=\"#DejaVuSans-50\"/>\r\n       <use x=\"190.869141\" xlink:href=\"#DejaVuSans-49\"/>\r\n       <use x=\"254.492188\" xlink:href=\"#DejaVuSans-45\"/>\r\n       <use x=\"290.576172\" xlink:href=\"#DejaVuSans-48\"/>\r\n       <use x=\"354.199219\" xlink:href=\"#DejaVuSans-51\"/>\r\n       <use x=\"417.822266\" xlink:href=\"#DejaVuSans-45\"/>\r\n       <use x=\"453.90625\" xlink:href=\"#DejaVuSans-48\"/>\r\n       <use x=\"517.529297\" xlink:href=\"#DejaVuSans-57\"/>\r\n      </g>\r\n     </g>\r\n    </g>\r\n    <g id=\"ytick_6\">\r\n     <g id=\"line2d_16\">\r\n      <g>\r\n       <use style=\"stroke:#000000;stroke-width:0.8;\" x=\"85.99375\" xlink:href=\"#m8e47af1cfd\" y=\"95.967157\"/>\r\n      </g>\r\n     </g>\r\n     <g id=\"text_17\">\r\n      <!-- 2021-03-11 -->\r\n      <g transform=\"translate(20.878125 99.766376)scale(0.1 -0.1)\">\r\n       <use xlink:href=\"#DejaVuSans-50\"/>\r\n       <use x=\"63.623047\" xlink:href=\"#DejaVuSans-48\"/>\r\n       <use x=\"127.246094\" xlink:href=\"#DejaVuSans-50\"/>\r\n       <use x=\"190.869141\" xlink:href=\"#DejaVuSans-49\"/>\r\n       <use x=\"254.492188\" xlink:href=\"#DejaVuSans-45\"/>\r\n       <use x=\"290.576172\" xlink:href=\"#DejaVuSans-48\"/>\r\n       <use x=\"354.199219\" xlink:href=\"#DejaVuSans-51\"/>\r\n       <use x=\"417.822266\" xlink:href=\"#DejaVuSans-45\"/>\r\n       <use x=\"453.90625\" xlink:href=\"#DejaVuSans-49\"/>\r\n       <use x=\"517.529297\" xlink:href=\"#DejaVuSans-49\"/>\r\n      </g>\r\n     </g>\r\n    </g>\r\n    <g id=\"ytick_7\">\r\n     <g id=\"line2d_17\">\r\n      <g>\r\n       <use style=\"stroke:#000000;stroke-width:0.8;\" x=\"85.99375\" xlink:href=\"#m8e47af1cfd\" y=\"109.995544\"/>\r\n      </g>\r\n     </g>\r\n     <g id=\"text_18\">\r\n      <!-- 2021-03-13 -->\r\n      <g transform=\"translate(20.878125 113.794763)scale(0.1 -0.1)\">\r\n       <use xlink:href=\"#DejaVuSans-50\"/>\r\n       <use x=\"63.623047\" xlink:href=\"#DejaVuSans-48\"/>\r\n       <use x=\"127.246094\" xlink:href=\"#DejaVuSans-50\"/>\r\n       <use x=\"190.869141\" xlink:href=\"#DejaVuSans-49\"/>\r\n       <use x=\"254.492188\" xlink:href=\"#DejaVuSans-45\"/>\r\n       <use x=\"290.576172\" xlink:href=\"#DejaVuSans-48\"/>\r\n       <use x=\"354.199219\" xlink:href=\"#DejaVuSans-51\"/>\r\n       <use x=\"417.822266\" xlink:href=\"#DejaVuSans-45\"/>\r\n       <use x=\"453.90625\" xlink:href=\"#DejaVuSans-49\"/>\r\n       <use x=\"517.529297\" xlink:href=\"#DejaVuSans-51\"/>\r\n      </g>\r\n     </g>\r\n    </g>\r\n    <g id=\"ytick_8\">\r\n     <g id=\"line2d_18\">\r\n      <g>\r\n       <use style=\"stroke:#000000;stroke-width:0.8;\" x=\"85.99375\" xlink:href=\"#m8e47af1cfd\" y=\"124.023931\"/>\r\n      </g>\r\n     </g>\r\n     <g id=\"text_19\">\r\n      <!-- 2021-03-15 -->\r\n      <g transform=\"translate(20.878125 127.82315)scale(0.1 -0.1)\">\r\n       <use xlink:href=\"#DejaVuSans-50\"/>\r\n       <use x=\"63.623047\" xlink:href=\"#DejaVuSans-48\"/>\r\n       <use x=\"127.246094\" xlink:href=\"#DejaVuSans-50\"/>\r\n       <use x=\"190.869141\" xlink:href=\"#DejaVuSans-49\"/>\r\n       <use x=\"254.492188\" xlink:href=\"#DejaVuSans-45\"/>\r\n       <use x=\"290.576172\" xlink:href=\"#DejaVuSans-48\"/>\r\n       <use x=\"354.199219\" xlink:href=\"#DejaVuSans-51\"/>\r\n       <use x=\"417.822266\" xlink:href=\"#DejaVuSans-45\"/>\r\n       <use x=\"453.90625\" xlink:href=\"#DejaVuSans-49\"/>\r\n       <use x=\"517.529297\" xlink:href=\"#DejaVuSans-53\"/>\r\n      </g>\r\n     </g>\r\n    </g>\r\n    <g id=\"ytick_9\">\r\n     <g id=\"line2d_19\">\r\n      <g>\r\n       <use style=\"stroke:#000000;stroke-width:0.8;\" x=\"85.99375\" xlink:href=\"#m8e47af1cfd\" y=\"138.052319\"/>\r\n      </g>\r\n     </g>\r\n     <g id=\"text_20\">\r\n      <!-- 2021-03-17 -->\r\n      <g transform=\"translate(20.878125 141.851537)scale(0.1 -0.1)\">\r\n       <use xlink:href=\"#DejaVuSans-50\"/>\r\n       <use x=\"63.623047\" xlink:href=\"#DejaVuSans-48\"/>\r\n       <use x=\"127.246094\" xlink:href=\"#DejaVuSans-50\"/>\r\n       <use x=\"190.869141\" xlink:href=\"#DejaVuSans-49\"/>\r\n       <use x=\"254.492188\" xlink:href=\"#DejaVuSans-45\"/>\r\n       <use x=\"290.576172\" xlink:href=\"#DejaVuSans-48\"/>\r\n       <use x=\"354.199219\" xlink:href=\"#DejaVuSans-51\"/>\r\n       <use x=\"417.822266\" xlink:href=\"#DejaVuSans-45\"/>\r\n       <use x=\"453.90625\" xlink:href=\"#DejaVuSans-49\"/>\r\n       <use x=\"517.529297\" xlink:href=\"#DejaVuSans-55\"/>\r\n      </g>\r\n     </g>\r\n    </g>\r\n    <g id=\"ytick_10\">\r\n     <g id=\"line2d_20\">\r\n      <g>\r\n       <use style=\"stroke:#000000;stroke-width:0.8;\" x=\"85.99375\" xlink:href=\"#m8e47af1cfd\" y=\"152.080706\"/>\r\n      </g>\r\n     </g>\r\n     <g id=\"text_21\">\r\n      <!-- 2021-03-19 -->\r\n      <g transform=\"translate(20.878125 155.879924)scale(0.1 -0.1)\">\r\n       <use xlink:href=\"#DejaVuSans-50\"/>\r\n       <use x=\"63.623047\" xlink:href=\"#DejaVuSans-48\"/>\r\n       <use x=\"127.246094\" xlink:href=\"#DejaVuSans-50\"/>\r\n       <use x=\"190.869141\" xlink:href=\"#DejaVuSans-49\"/>\r\n       <use x=\"254.492188\" xlink:href=\"#DejaVuSans-45\"/>\r\n       <use x=\"290.576172\" xlink:href=\"#DejaVuSans-48\"/>\r\n       <use x=\"354.199219\" xlink:href=\"#DejaVuSans-51\"/>\r\n       <use x=\"417.822266\" xlink:href=\"#DejaVuSans-45\"/>\r\n       <use x=\"453.90625\" xlink:href=\"#DejaVuSans-49\"/>\r\n       <use x=\"517.529297\" xlink:href=\"#DejaVuSans-57\"/>\r\n      </g>\r\n     </g>\r\n    </g>\r\n    <g id=\"ytick_11\">\r\n     <g id=\"line2d_21\">\r\n      <g>\r\n       <use style=\"stroke:#000000;stroke-width:0.8;\" x=\"85.99375\" xlink:href=\"#m8e47af1cfd\" y=\"166.109093\"/>\r\n      </g>\r\n     </g>\r\n     <g id=\"text_22\">\r\n      <!-- 2021-03-21 -->\r\n      <g transform=\"translate(20.878125 169.908311)scale(0.1 -0.1)\">\r\n       <use xlink:href=\"#DejaVuSans-50\"/>\r\n       <use x=\"63.623047\" xlink:href=\"#DejaVuSans-48\"/>\r\n       <use x=\"127.246094\" xlink:href=\"#DejaVuSans-50\"/>\r\n       <use x=\"190.869141\" xlink:href=\"#DejaVuSans-49\"/>\r\n       <use x=\"254.492188\" xlink:href=\"#DejaVuSans-45\"/>\r\n       <use x=\"290.576172\" xlink:href=\"#DejaVuSans-48\"/>\r\n       <use x=\"354.199219\" xlink:href=\"#DejaVuSans-51\"/>\r\n       <use x=\"417.822266\" xlink:href=\"#DejaVuSans-45\"/>\r\n       <use x=\"453.90625\" xlink:href=\"#DejaVuSans-50\"/>\r\n       <use x=\"517.529297\" xlink:href=\"#DejaVuSans-49\"/>\r\n      </g>\r\n     </g>\r\n    </g>\r\n    <g id=\"ytick_12\">\r\n     <g id=\"line2d_22\">\r\n      <g>\r\n       <use style=\"stroke:#000000;stroke-width:0.8;\" x=\"85.99375\" xlink:href=\"#m8e47af1cfd\" y=\"180.13748\"/>\r\n      </g>\r\n     </g>\r\n     <g id=\"text_23\">\r\n      <!-- 2021-03-23 -->\r\n      <g transform=\"translate(20.878125 183.936699)scale(0.1 -0.1)\">\r\n       <use xlink:href=\"#DejaVuSans-50\"/>\r\n       <use x=\"63.623047\" xlink:href=\"#DejaVuSans-48\"/>\r\n       <use x=\"127.246094\" xlink:href=\"#DejaVuSans-50\"/>\r\n       <use x=\"190.869141\" xlink:href=\"#DejaVuSans-49\"/>\r\n       <use x=\"254.492188\" xlink:href=\"#DejaVuSans-45\"/>\r\n       <use x=\"290.576172\" xlink:href=\"#DejaVuSans-48\"/>\r\n       <use x=\"354.199219\" xlink:href=\"#DejaVuSans-51\"/>\r\n       <use x=\"417.822266\" xlink:href=\"#DejaVuSans-45\"/>\r\n       <use x=\"453.90625\" xlink:href=\"#DejaVuSans-50\"/>\r\n       <use x=\"517.529297\" xlink:href=\"#DejaVuSans-51\"/>\r\n      </g>\r\n     </g>\r\n    </g>\r\n    <g id=\"ytick_13\">\r\n     <g id=\"line2d_23\">\r\n      <g>\r\n       <use style=\"stroke:#000000;stroke-width:0.8;\" x=\"85.99375\" xlink:href=\"#m8e47af1cfd\" y=\"194.165867\"/>\r\n      </g>\r\n     </g>\r\n     <g id=\"text_24\">\r\n      <!-- 2021-03-25 -->\r\n      <g transform=\"translate(20.878125 197.965086)scale(0.1 -0.1)\">\r\n       <use xlink:href=\"#DejaVuSans-50\"/>\r\n       <use x=\"63.623047\" xlink:href=\"#DejaVuSans-48\"/>\r\n       <use x=\"127.246094\" xlink:href=\"#DejaVuSans-50\"/>\r\n       <use x=\"190.869141\" xlink:href=\"#DejaVuSans-49\"/>\r\n       <use x=\"254.492188\" xlink:href=\"#DejaVuSans-45\"/>\r\n       <use x=\"290.576172\" xlink:href=\"#DejaVuSans-48\"/>\r\n       <use x=\"354.199219\" xlink:href=\"#DejaVuSans-51\"/>\r\n       <use x=\"417.822266\" xlink:href=\"#DejaVuSans-45\"/>\r\n       <use x=\"453.90625\" xlink:href=\"#DejaVuSans-50\"/>\r\n       <use x=\"517.529297\" xlink:href=\"#DejaVuSans-53\"/>\r\n      </g>\r\n     </g>\r\n    </g>\r\n    <g id=\"ytick_14\">\r\n     <g id=\"line2d_24\">\r\n      <g>\r\n       <use style=\"stroke:#000000;stroke-width:0.8;\" x=\"85.99375\" xlink:href=\"#m8e47af1cfd\" y=\"208.194254\"/>\r\n      </g>\r\n     </g>\r\n     <g id=\"text_25\">\r\n      <!-- 2021-03-27 -->\r\n      <g transform=\"translate(20.878125 211.993473)scale(0.1 -0.1)\">\r\n       <use xlink:href=\"#DejaVuSans-50\"/>\r\n       <use x=\"63.623047\" xlink:href=\"#DejaVuSans-48\"/>\r\n       <use x=\"127.246094\" xlink:href=\"#DejaVuSans-50\"/>\r\n       <use x=\"190.869141\" xlink:href=\"#DejaVuSans-49\"/>\r\n       <use x=\"254.492188\" xlink:href=\"#DejaVuSans-45\"/>\r\n       <use x=\"290.576172\" xlink:href=\"#DejaVuSans-48\"/>\r\n       <use x=\"354.199219\" xlink:href=\"#DejaVuSans-51\"/>\r\n       <use x=\"417.822266\" xlink:href=\"#DejaVuSans-45\"/>\r\n       <use x=\"453.90625\" xlink:href=\"#DejaVuSans-50\"/>\r\n       <use x=\"517.529297\" xlink:href=\"#DejaVuSans-55\"/>\r\n      </g>\r\n     </g>\r\n    </g>\r\n    <g id=\"ytick_15\">\r\n     <g id=\"line2d_25\">\r\n      <g>\r\n       <use style=\"stroke:#000000;stroke-width:0.8;\" x=\"85.99375\" xlink:href=\"#m8e47af1cfd\" y=\"222.222641\"/>\r\n      </g>\r\n     </g>\r\n     <g id=\"text_26\">\r\n      <!-- 2021-03-29 -->\r\n      <g transform=\"translate(20.878125 226.02186)scale(0.1 -0.1)\">\r\n       <use xlink:href=\"#DejaVuSans-50\"/>\r\n       <use x=\"63.623047\" xlink:href=\"#DejaVuSans-48\"/>\r\n       <use x=\"127.246094\" xlink:href=\"#DejaVuSans-50\"/>\r\n       <use x=\"190.869141\" xlink:href=\"#DejaVuSans-49\"/>\r\n       <use x=\"254.492188\" xlink:href=\"#DejaVuSans-45\"/>\r\n       <use x=\"290.576172\" xlink:href=\"#DejaVuSans-48\"/>\r\n       <use x=\"354.199219\" xlink:href=\"#DejaVuSans-51\"/>\r\n       <use x=\"417.822266\" xlink:href=\"#DejaVuSans-45\"/>\r\n       <use x=\"453.90625\" xlink:href=\"#DejaVuSans-50\"/>\r\n       <use x=\"517.529297\" xlink:href=\"#DejaVuSans-57\"/>\r\n      </g>\r\n     </g>\r\n    </g>\r\n    <g id=\"ytick_16\">\r\n     <g id=\"line2d_26\">\r\n      <g>\r\n       <use style=\"stroke:#000000;stroke-width:0.8;\" x=\"85.99375\" xlink:href=\"#m8e47af1cfd\" y=\"236.251028\"/>\r\n      </g>\r\n     </g>\r\n     <g id=\"text_27\">\r\n      <!-- 2021-03-31 -->\r\n      <g transform=\"translate(20.878125 240.050247)scale(0.1 -0.1)\">\r\n       <use xlink:href=\"#DejaVuSans-50\"/>\r\n       <use x=\"63.623047\" xlink:href=\"#DejaVuSans-48\"/>\r\n       <use x=\"127.246094\" xlink:href=\"#DejaVuSans-50\"/>\r\n       <use x=\"190.869141\" xlink:href=\"#DejaVuSans-49\"/>\r\n       <use x=\"254.492188\" xlink:href=\"#DejaVuSans-45\"/>\r\n       <use x=\"290.576172\" xlink:href=\"#DejaVuSans-48\"/>\r\n       <use x=\"354.199219\" xlink:href=\"#DejaVuSans-51\"/>\r\n       <use x=\"417.822266\" xlink:href=\"#DejaVuSans-45\"/>\r\n       <use x=\"453.90625\" xlink:href=\"#DejaVuSans-51\"/>\r\n       <use x=\"517.529297\" xlink:href=\"#DejaVuSans-49\"/>\r\n      </g>\r\n     </g>\r\n    </g>\r\n    <g id=\"text_28\">\r\n     <!-- Time -->\r\n     <g transform=\"translate(14.798438 143.271719)rotate(-90)scale(0.1 -0.1)\">\r\n      <defs>\r\n       <path d=\"M -0.296875 72.90625 \r\nL 61.375 72.90625 \r\nL 61.375 64.59375 \r\nL 35.5 64.59375 \r\nL 35.5 0 \r\nL 25.59375 0 \r\nL 25.59375 64.59375 \r\nL -0.296875 64.59375 \r\nz\r\n\" id=\"DejaVuSans-84\"/>\r\n       <path d=\"M 9.421875 54.6875 \r\nL 18.40625 54.6875 \r\nL 18.40625 0 \r\nL 9.421875 0 \r\nz\r\nM 9.421875 75.984375 \r\nL 18.40625 75.984375 \r\nL 18.40625 64.59375 \r\nL 9.421875 64.59375 \r\nz\r\n\" id=\"DejaVuSans-105\"/>\r\n       <path d=\"M 52 44.1875 \r\nQ 55.375 50.25 60.0625 53.125 \r\nQ 64.75 56 71.09375 56 \r\nQ 79.640625 56 84.28125 50.015625 \r\nQ 88.921875 44.046875 88.921875 33.015625 \r\nL 88.921875 0 \r\nL 79.890625 0 \r\nL 79.890625 32.71875 \r\nQ 79.890625 40.578125 77.09375 44.375 \r\nQ 74.3125 48.1875 68.609375 48.1875 \r\nQ 61.625 48.1875 57.5625 43.546875 \r\nQ 53.515625 38.921875 53.515625 30.90625 \r\nL 53.515625 0 \r\nL 44.484375 0 \r\nL 44.484375 32.71875 \r\nQ 44.484375 40.625 41.703125 44.40625 \r\nQ 38.921875 48.1875 33.109375 48.1875 \r\nQ 26.21875 48.1875 22.15625 43.53125 \r\nQ 18.109375 38.875 18.109375 30.90625 \r\nL 18.109375 0 \r\nL 9.078125 0 \r\nL 9.078125 54.6875 \r\nL 18.109375 54.6875 \r\nL 18.109375 46.1875 \r\nQ 21.1875 51.21875 25.484375 53.609375 \r\nQ 29.78125 56 35.6875 56 \r\nQ 41.65625 56 45.828125 52.96875 \r\nQ 50 49.953125 52 44.1875 \r\nz\r\n\" id=\"DejaVuSans-109\"/>\r\n      </defs>\r\n      <use xlink:href=\"#DejaVuSans-84\"/>\r\n      <use x=\"57.958984\" xlink:href=\"#DejaVuSans-105\"/>\r\n      <use x=\"85.742188\" xlink:href=\"#DejaVuSans-109\"/>\r\n      <use x=\"183.154297\" xlink:href=\"#DejaVuSans-101\"/>\r\n     </g>\r\n    </g>\r\n   </g>\r\n   <g id=\"text_29\">\r\n    <!-- Incidence rate in Martinique on a daily time basis -->\r\n    <g transform=\"translate(71.575938 16.318125)scale(0.12 -0.12)\">\r\n     <defs>\r\n      <path d=\"M 9.8125 72.90625 \r\nL 19.671875 72.90625 \r\nL 19.671875 0 \r\nL 9.8125 0 \r\nz\r\n\" id=\"DejaVuSans-73\"/>\r\n      <path d=\"M 54.890625 33.015625 \r\nL 54.890625 0 \r\nL 45.90625 0 \r\nL 45.90625 32.71875 \r\nQ 45.90625 40.484375 42.875 44.328125 \r\nQ 39.84375 48.1875 33.796875 48.1875 \r\nQ 26.515625 48.1875 22.3125 43.546875 \r\nQ 18.109375 38.921875 18.109375 30.90625 \r\nL 18.109375 0 \r\nL 9.078125 0 \r\nL 9.078125 54.6875 \r\nL 18.109375 54.6875 \r\nL 18.109375 46.1875 \r\nQ 21.34375 51.125 25.703125 53.5625 \r\nQ 30.078125 56 35.796875 56 \r\nQ 45.21875 56 50.046875 50.171875 \r\nQ 54.890625 44.34375 54.890625 33.015625 \r\nz\r\n\" id=\"DejaVuSans-110\"/>\r\n      <path d=\"M 48.78125 52.59375 \r\nL 48.78125 44.1875 \r\nQ 44.96875 46.296875 41.140625 47.34375 \r\nQ 37.3125 48.390625 33.40625 48.390625 \r\nQ 24.65625 48.390625 19.8125 42.84375 \r\nQ 14.984375 37.3125 14.984375 27.296875 \r\nQ 14.984375 17.28125 19.8125 11.734375 \r\nQ 24.65625 6.203125 33.40625 6.203125 \r\nQ 37.3125 6.203125 41.140625 7.25 \r\nQ 44.96875 8.296875 48.78125 10.40625 \r\nL 48.78125 2.09375 \r\nQ 45.015625 0.34375 40.984375 -0.53125 \r\nQ 36.96875 -1.421875 32.421875 -1.421875 \r\nQ 20.0625 -1.421875 12.78125 6.34375 \r\nQ 5.515625 14.109375 5.515625 27.296875 \r\nQ 5.515625 40.671875 12.859375 48.328125 \r\nQ 20.21875 56 33.015625 56 \r\nQ 37.15625 56 41.109375 55.140625 \r\nQ 45.0625 54.296875 48.78125 52.59375 \r\nz\r\n\" id=\"DejaVuSans-99\"/>\r\n      <path d=\"M 45.40625 46.390625 \r\nL 45.40625 75.984375 \r\nL 54.390625 75.984375 \r\nL 54.390625 0 \r\nL 45.40625 0 \r\nL 45.40625 8.203125 \r\nQ 42.578125 3.328125 38.25 0.953125 \r\nQ 33.9375 -1.421875 27.875 -1.421875 \r\nQ 17.96875 -1.421875 11.734375 6.484375 \r\nQ 5.515625 14.40625 5.515625 27.296875 \r\nQ 5.515625 40.1875 11.734375 48.09375 \r\nQ 17.96875 56 27.875 56 \r\nQ 33.9375 56 38.25 53.625 \r\nQ 42.578125 51.265625 45.40625 46.390625 \r\nz\r\nM 14.796875 27.296875 \r\nQ 14.796875 17.390625 18.875 11.75 \r\nQ 22.953125 6.109375 30.078125 6.109375 \r\nQ 37.203125 6.109375 41.296875 11.75 \r\nQ 45.40625 17.390625 45.40625 27.296875 \r\nQ 45.40625 37.203125 41.296875 42.84375 \r\nQ 37.203125 48.484375 30.078125 48.484375 \r\nQ 22.953125 48.484375 18.875 42.84375 \r\nQ 14.796875 37.203125 14.796875 27.296875 \r\nz\r\n\" id=\"DejaVuSans-100\"/>\r\n      <path id=\"DejaVuSans-32\"/>\r\n      <path d=\"M 41.109375 46.296875 \r\nQ 39.59375 47.171875 37.8125 47.578125 \r\nQ 36.03125 48 33.890625 48 \r\nQ 26.265625 48 22.1875 43.046875 \r\nQ 18.109375 38.09375 18.109375 28.8125 \r\nL 18.109375 0 \r\nL 9.078125 0 \r\nL 9.078125 54.6875 \r\nL 18.109375 54.6875 \r\nL 18.109375 46.1875 \r\nQ 20.953125 51.171875 25.484375 53.578125 \r\nQ 30.03125 56 36.53125 56 \r\nQ 37.453125 56 38.578125 55.875 \r\nQ 39.703125 55.765625 41.0625 55.515625 \r\nz\r\n\" id=\"DejaVuSans-114\"/>\r\n      <path d=\"M 34.28125 27.484375 \r\nQ 23.390625 27.484375 19.1875 25 \r\nQ 14.984375 22.515625 14.984375 16.5 \r\nQ 14.984375 11.71875 18.140625 8.90625 \r\nQ 21.296875 6.109375 26.703125 6.109375 \r\nQ 34.1875 6.109375 38.703125 11.40625 \r\nQ 43.21875 16.703125 43.21875 25.484375 \r\nL 43.21875 27.484375 \r\nz\r\nM 52.203125 31.203125 \r\nL 52.203125 0 \r\nL 43.21875 0 \r\nL 43.21875 8.296875 \r\nQ 40.140625 3.328125 35.546875 0.953125 \r\nQ 30.953125 -1.421875 24.3125 -1.421875 \r\nQ 15.921875 -1.421875 10.953125 3.296875 \r\nQ 6 8.015625 6 15.921875 \r\nQ 6 25.140625 12.171875 29.828125 \r\nQ 18.359375 34.515625 30.609375 34.515625 \r\nL 43.21875 34.515625 \r\nL 43.21875 35.40625 \r\nQ 43.21875 41.609375 39.140625 45 \r\nQ 35.0625 48.390625 27.6875 48.390625 \r\nQ 23 48.390625 18.546875 47.265625 \r\nQ 14.109375 46.140625 10.015625 43.890625 \r\nL 10.015625 52.203125 \r\nQ 14.9375 54.109375 19.578125 55.046875 \r\nQ 24.21875 56 28.609375 56 \r\nQ 40.484375 56 46.34375 49.84375 \r\nQ 52.203125 43.703125 52.203125 31.203125 \r\nz\r\n\" id=\"DejaVuSans-97\"/>\r\n      <path d=\"M 18.3125 70.21875 \r\nL 18.3125 54.6875 \r\nL 36.8125 54.6875 \r\nL 36.8125 47.703125 \r\nL 18.3125 47.703125 \r\nL 18.3125 18.015625 \r\nQ 18.3125 11.328125 20.140625 9.421875 \r\nQ 21.96875 7.515625 27.59375 7.515625 \r\nL 36.8125 7.515625 \r\nL 36.8125 0 \r\nL 27.59375 0 \r\nQ 17.1875 0 13.234375 3.875 \r\nQ 9.28125 7.765625 9.28125 18.015625 \r\nL 9.28125 47.703125 \r\nL 2.6875 47.703125 \r\nL 2.6875 54.6875 \r\nL 9.28125 54.6875 \r\nL 9.28125 70.21875 \r\nz\r\n\" id=\"DejaVuSans-116\"/>\r\n      <path d=\"M 9.8125 72.90625 \r\nL 24.515625 72.90625 \r\nL 43.109375 23.296875 \r\nL 61.8125 72.90625 \r\nL 76.515625 72.90625 \r\nL 76.515625 0 \r\nL 66.890625 0 \r\nL 66.890625 64.015625 \r\nL 48.09375 14.015625 \r\nL 38.1875 14.015625 \r\nL 19.390625 64.015625 \r\nL 19.390625 0 \r\nL 9.8125 0 \r\nz\r\n\" id=\"DejaVuSans-77\"/>\r\n      <path d=\"M 14.796875 27.296875 \r\nQ 14.796875 17.390625 18.875 11.75 \r\nQ 22.953125 6.109375 30.078125 6.109375 \r\nQ 37.203125 6.109375 41.296875 11.75 \r\nQ 45.40625 17.390625 45.40625 27.296875 \r\nQ 45.40625 37.203125 41.296875 42.84375 \r\nQ 37.203125 48.484375 30.078125 48.484375 \r\nQ 22.953125 48.484375 18.875 42.84375 \r\nQ 14.796875 37.203125 14.796875 27.296875 \r\nz\r\nM 45.40625 8.203125 \r\nQ 42.578125 3.328125 38.25 0.953125 \r\nQ 33.9375 -1.421875 27.875 -1.421875 \r\nQ 17.96875 -1.421875 11.734375 6.484375 \r\nQ 5.515625 14.40625 5.515625 27.296875 \r\nQ 5.515625 40.1875 11.734375 48.09375 \r\nQ 17.96875 56 27.875 56 \r\nQ 33.9375 56 38.25 53.625 \r\nQ 42.578125 51.265625 45.40625 46.390625 \r\nL 45.40625 54.6875 \r\nL 54.390625 54.6875 \r\nL 54.390625 -20.796875 \r\nL 45.40625 -20.796875 \r\nz\r\n\" id=\"DejaVuSans-113\"/>\r\n      <path d=\"M 8.5 21.578125 \r\nL 8.5 54.6875 \r\nL 17.484375 54.6875 \r\nL 17.484375 21.921875 \r\nQ 17.484375 14.15625 20.5 10.265625 \r\nQ 23.53125 6.390625 29.59375 6.390625 \r\nQ 36.859375 6.390625 41.078125 11.03125 \r\nQ 45.3125 15.671875 45.3125 23.6875 \r\nL 45.3125 54.6875 \r\nL 54.296875 54.6875 \r\nL 54.296875 0 \r\nL 45.3125 0 \r\nL 45.3125 8.40625 \r\nQ 42.046875 3.421875 37.71875 1 \r\nQ 33.40625 -1.421875 27.6875 -1.421875 \r\nQ 18.265625 -1.421875 13.375 4.4375 \r\nQ 8.5 10.296875 8.5 21.578125 \r\nz\r\nM 31.109375 56 \r\nz\r\n\" id=\"DejaVuSans-117\"/>\r\n      <path d=\"M 30.609375 48.390625 \r\nQ 23.390625 48.390625 19.1875 42.75 \r\nQ 14.984375 37.109375 14.984375 27.296875 \r\nQ 14.984375 17.484375 19.15625 11.84375 \r\nQ 23.34375 6.203125 30.609375 6.203125 \r\nQ 37.796875 6.203125 41.984375 11.859375 \r\nQ 46.1875 17.53125 46.1875 27.296875 \r\nQ 46.1875 37.015625 41.984375 42.703125 \r\nQ 37.796875 48.390625 30.609375 48.390625 \r\nz\r\nM 30.609375 56 \r\nQ 42.328125 56 49.015625 48.375 \r\nQ 55.71875 40.765625 55.71875 27.296875 \r\nQ 55.71875 13.875 49.015625 6.21875 \r\nQ 42.328125 -1.421875 30.609375 -1.421875 \r\nQ 18.84375 -1.421875 12.171875 6.21875 \r\nQ 5.515625 13.875 5.515625 27.296875 \r\nQ 5.515625 40.765625 12.171875 48.375 \r\nQ 18.84375 56 30.609375 56 \r\nz\r\n\" id=\"DejaVuSans-111\"/>\r\n      <path d=\"M 9.421875 75.984375 \r\nL 18.40625 75.984375 \r\nL 18.40625 0 \r\nL 9.421875 0 \r\nz\r\n\" id=\"DejaVuSans-108\"/>\r\n      <path d=\"M 32.171875 -5.078125 \r\nQ 28.375 -14.84375 24.75 -17.8125 \r\nQ 21.140625 -20.796875 15.09375 -20.796875 \r\nL 7.90625 -20.796875 \r\nL 7.90625 -13.28125 \r\nL 13.1875 -13.28125 \r\nQ 16.890625 -13.28125 18.9375 -11.515625 \r\nQ 21 -9.765625 23.484375 -3.21875 \r\nL 25.09375 0.875 \r\nL 2.984375 54.6875 \r\nL 12.5 54.6875 \r\nL 29.59375 11.921875 \r\nL 46.6875 54.6875 \r\nL 56.203125 54.6875 \r\nz\r\n\" id=\"DejaVuSans-121\"/>\r\n      <path d=\"M 48.6875 27.296875 \r\nQ 48.6875 37.203125 44.609375 42.84375 \r\nQ 40.53125 48.484375 33.40625 48.484375 \r\nQ 26.265625 48.484375 22.1875 42.84375 \r\nQ 18.109375 37.203125 18.109375 27.296875 \r\nQ 18.109375 17.390625 22.1875 11.75 \r\nQ 26.265625 6.109375 33.40625 6.109375 \r\nQ 40.53125 6.109375 44.609375 11.75 \r\nQ 48.6875 17.390625 48.6875 27.296875 \r\nz\r\nM 18.109375 46.390625 \r\nQ 20.953125 51.265625 25.265625 53.625 \r\nQ 29.59375 56 35.59375 56 \r\nQ 45.5625 56 51.78125 48.09375 \r\nQ 58.015625 40.1875 58.015625 27.296875 \r\nQ 58.015625 14.40625 51.78125 6.484375 \r\nQ 45.5625 -1.421875 35.59375 -1.421875 \r\nQ 29.59375 -1.421875 25.265625 0.953125 \r\nQ 20.953125 3.328125 18.109375 8.203125 \r\nL 18.109375 0 \r\nL 9.078125 0 \r\nL 9.078125 75.984375 \r\nL 18.109375 75.984375 \r\nz\r\n\" id=\"DejaVuSans-98\"/>\r\n      <path d=\"M 44.28125 53.078125 \r\nL 44.28125 44.578125 \r\nQ 40.484375 46.53125 36.375 47.5 \r\nQ 32.28125 48.484375 27.875 48.484375 \r\nQ 21.1875 48.484375 17.84375 46.4375 \r\nQ 14.5 44.390625 14.5 40.28125 \r\nQ 14.5 37.15625 16.890625 35.375 \r\nQ 19.28125 33.59375 26.515625 31.984375 \r\nL 29.59375 31.296875 \r\nQ 39.15625 29.25 43.1875 25.515625 \r\nQ 47.21875 21.78125 47.21875 15.09375 \r\nQ 47.21875 7.46875 41.1875 3.015625 \r\nQ 35.15625 -1.421875 24.609375 -1.421875 \r\nQ 20.21875 -1.421875 15.453125 -0.5625 \r\nQ 10.6875 0.296875 5.421875 2 \r\nL 5.421875 11.28125 \r\nQ 10.40625 8.6875 15.234375 7.390625 \r\nQ 20.0625 6.109375 24.8125 6.109375 \r\nQ 31.15625 6.109375 34.5625 8.28125 \r\nQ 37.984375 10.453125 37.984375 14.40625 \r\nQ 37.984375 18.0625 35.515625 20.015625 \r\nQ 33.0625 21.96875 24.703125 23.78125 \r\nL 21.578125 24.515625 \r\nQ 13.234375 26.265625 9.515625 29.90625 \r\nQ 5.8125 33.546875 5.8125 39.890625 \r\nQ 5.8125 47.609375 11.28125 51.796875 \r\nQ 16.75 56 26.8125 56 \r\nQ 31.78125 56 36.171875 55.265625 \r\nQ 40.578125 54.546875 44.28125 53.078125 \r\nz\r\n\" id=\"DejaVuSans-115\"/>\r\n     </defs>\r\n     <use xlink:href=\"#DejaVuSans-73\"/>\r\n     <use x=\"29.492188\" xlink:href=\"#DejaVuSans-110\"/>\r\n     <use x=\"92.871094\" xlink:href=\"#DejaVuSans-99\"/>\r\n     <use x=\"147.851562\" xlink:href=\"#DejaVuSans-105\"/>\r\n     <use x=\"175.634766\" xlink:href=\"#DejaVuSans-100\"/>\r\n     <use x=\"239.111328\" xlink:href=\"#DejaVuSans-101\"/>\r\n     <use x=\"300.634766\" xlink:href=\"#DejaVuSans-110\"/>\r\n     <use x=\"364.013672\" xlink:href=\"#DejaVuSans-99\"/>\r\n     <use x=\"418.994141\" xlink:href=\"#DejaVuSans-101\"/>\r\n     <use x=\"480.517578\" xlink:href=\"#DejaVuSans-32\"/>\r\n     <use x=\"512.304688\" xlink:href=\"#DejaVuSans-114\"/>\r\n     <use x=\"553.417969\" xlink:href=\"#DejaVuSans-97\"/>\r\n     <use x=\"614.697266\" xlink:href=\"#DejaVuSans-116\"/>\r\n     <use x=\"653.90625\" xlink:href=\"#DejaVuSans-101\"/>\r\n     <use x=\"715.429688\" xlink:href=\"#DejaVuSans-32\"/>\r\n     <use x=\"747.216797\" xlink:href=\"#DejaVuSans-105\"/>\r\n     <use x=\"775\" xlink:href=\"#DejaVuSans-110\"/>\r\n     <use x=\"838.378906\" xlink:href=\"#DejaVuSans-32\"/>\r\n     <use x=\"870.166016\" xlink:href=\"#DejaVuSans-77\"/>\r\n     <use x=\"956.445312\" xlink:href=\"#DejaVuSans-97\"/>\r\n     <use x=\"1017.724609\" xlink:href=\"#DejaVuSans-114\"/>\r\n     <use x=\"1058.837891\" xlink:href=\"#DejaVuSans-116\"/>\r\n     <use x=\"1098.046875\" xlink:href=\"#DejaVuSans-105\"/>\r\n     <use x=\"1125.830078\" xlink:href=\"#DejaVuSans-110\"/>\r\n     <use x=\"1189.208984\" xlink:href=\"#DejaVuSans-105\"/>\r\n     <use x=\"1216.992188\" xlink:href=\"#DejaVuSans-113\"/>\r\n     <use x=\"1280.46875\" xlink:href=\"#DejaVuSans-117\"/>\r\n     <use x=\"1343.847656\" xlink:href=\"#DejaVuSans-101\"/>\r\n     <use x=\"1405.371094\" xlink:href=\"#DejaVuSans-32\"/>\r\n     <use x=\"1437.158203\" xlink:href=\"#DejaVuSans-111\"/>\r\n     <use x=\"1498.339844\" xlink:href=\"#DejaVuSans-110\"/>\r\n     <use x=\"1561.71875\" xlink:href=\"#DejaVuSans-32\"/>\r\n     <use x=\"1593.505859\" xlink:href=\"#DejaVuSans-97\"/>\r\n     <use x=\"1654.785156\" xlink:href=\"#DejaVuSans-32\"/>\r\n     <use x=\"1686.572266\" xlink:href=\"#DejaVuSans-100\"/>\r\n     <use x=\"1750.048828\" xlink:href=\"#DejaVuSans-97\"/>\r\n     <use x=\"1811.328125\" xlink:href=\"#DejaVuSans-105\"/>\r\n     <use x=\"1839.111328\" xlink:href=\"#DejaVuSans-108\"/>\r\n     <use x=\"1866.894531\" xlink:href=\"#DejaVuSans-121\"/>\r\n     <use x=\"1926.074219\" xlink:href=\"#DejaVuSans-32\"/>\r\n     <use x=\"1957.861328\" xlink:href=\"#DejaVuSans-116\"/>\r\n     <use x=\"1997.070312\" xlink:href=\"#DejaVuSans-105\"/>\r\n     <use x=\"2024.853516\" xlink:href=\"#DejaVuSans-109\"/>\r\n     <use x=\"2122.265625\" xlink:href=\"#DejaVuSans-101\"/>\r\n     <use x=\"2183.789062\" xlink:href=\"#DejaVuSans-32\"/>\r\n     <use x=\"2215.576172\" xlink:href=\"#DejaVuSans-98\"/>\r\n     <use x=\"2279.052734\" xlink:href=\"#DejaVuSans-97\"/>\r\n     <use x=\"2340.332031\" xlink:href=\"#DejaVuSans-115\"/>\r\n     <use x=\"2392.431641\" xlink:href=\"#DejaVuSans-105\"/>\r\n     <use x=\"2420.214844\" xlink:href=\"#DejaVuSans-115\"/>\r\n    </g>\r\n   </g>\r\n  </g>\r\n  <g id=\"axes_2\">\r\n   <g id=\"patch_3\">\r\n    <path clip-path=\"url(#p507c923704)\" d=\"M 370.57375 239.758125 \r\nL 370.57375 238.90875 \r\nL 370.57375 23.1675 \r\nL 370.57375 22.318125 \r\nL 381.44575 22.318125 \r\nL 381.44575 23.1675 \r\nL 381.44575 238.90875 \r\nL 381.44575 239.758125 \r\nz\r\n\" style=\"fill:#ffffff;stroke:#ffffff;stroke-linejoin:miter;stroke-width:0.01;\"/>\r\n   </g>\r\n   <image height=\"217\" id=\"image128b3c4925\" transform=\"scale(1 -1)translate(0 -217)\" width=\"10\" x=\"371\" xlink:href=\"data:image/png;base64,\r\niVBORw0KGgoAAAANSUhEUgAAAAoAAADZCAYAAAAZmKE8AAABUElEQVR4nNXZwQ3DMAxDUct2l+j+e7YrPAEMhPRMkPqS7ARp3c/3t+B3q0p06+7aJmw4orBW3FGFR6nz0Vup8zCDNTYcEcap82s25+iLOzlChVlji+swJOvMepDaF5dkj8yao5/YcIzOwzQmM7i48e2JO+bbcwcPlwqZ+sQdB2E2vQr3qFkYP4UsHKTW6Dz10ejGCFX4CmpTOkz+XN8f1tjoY5q62NEM1z1xx0aNKsSOe/Qpjo4vBTuq8OD6uGOjRtI9Eb3x8rk12B48NI3oPLW3h3QNxwZMOpodV3zW+2q0U7/AEW/IW3jbe/RSR49+ACYt5K8KHo2v7E80nIX6/VFfaG5tdczX6O1Rx5Mf4Qva49QcPUZdfAq9j3Gh3z28uPbUHK3Rowep55aCYfI1xh2r9BTeN1DHrxSdtfdxcMPPZyqa/21+4u5R6jfA4Ib/AW+JLSNtCdoGAAAAAElFTkSuQmCC\" y=\"-22\"/>\r\n   <g id=\"matplotlib.axis_3\"/>\r\n   <g id=\"matplotlib.axis_4\">\r\n    <g id=\"ytick_17\">\r\n     <g id=\"line2d_27\">\r\n      <defs>\r\n       <path d=\"M 0 0 \r\nL 3.5 0 \r\n\" id=\"m041869965e\" style=\"stroke:#000000;stroke-width:0.8;\"/>\r\n      </defs>\r\n      <g>\r\n       <use style=\"stroke:#000000;stroke-width:0.8;\" x=\"381.44575\" xlink:href=\"#m041869965e\" y=\"239.758125\"/>\r\n      </g>\r\n     </g>\r\n     <g id=\"text_30\">\r\n      <!-- 0 -->\r\n      <g transform=\"translate(388.44575 243.557344)scale(0.1 -0.1)\">\r\n       <use xlink:href=\"#DejaVuSans-48\"/>\r\n      </g>\r\n     </g>\r\n    </g>\r\n    <g id=\"ytick_18\">\r\n     <g id=\"line2d_28\">\r\n      <g>\r\n       <use style=\"stroke:#000000;stroke-width:0.8;\" x=\"381.44575\" xlink:href=\"#m041869965e\" y=\"191.846615\"/>\r\n      </g>\r\n     </g>\r\n     <g id=\"text_31\">\r\n      <!-- 20 -->\r\n      <g transform=\"translate(388.44575 195.645834)scale(0.1 -0.1)\">\r\n       <use xlink:href=\"#DejaVuSans-50\"/>\r\n       <use x=\"63.623047\" xlink:href=\"#DejaVuSans-48\"/>\r\n      </g>\r\n     </g>\r\n    </g>\r\n    <g id=\"ytick_19\">\r\n     <g id=\"line2d_29\">\r\n      <g>\r\n       <use style=\"stroke:#000000;stroke-width:0.8;\" x=\"381.44575\" xlink:href=\"#m041869965e\" y=\"143.935105\"/>\r\n      </g>\r\n     </g>\r\n     <g id=\"text_32\">\r\n      <!-- 40 -->\r\n      <g transform=\"translate(388.44575 147.734323)scale(0.1 -0.1)\">\r\n       <use xlink:href=\"#DejaVuSans-52\"/>\r\n       <use x=\"63.623047\" xlink:href=\"#DejaVuSans-48\"/>\r\n      </g>\r\n     </g>\r\n    </g>\r\n    <g id=\"ytick_20\">\r\n     <g id=\"line2d_30\">\r\n      <g>\r\n       <use style=\"stroke:#000000;stroke-width:0.8;\" x=\"381.44575\" xlink:href=\"#m041869965e\" y=\"96.023595\"/>\r\n      </g>\r\n     </g>\r\n     <g id=\"text_33\">\r\n      <!-- 60 -->\r\n      <g transform=\"translate(388.44575 99.822813)scale(0.1 -0.1)\">\r\n       <use xlink:href=\"#DejaVuSans-54\"/>\r\n       <use x=\"63.623047\" xlink:href=\"#DejaVuSans-48\"/>\r\n      </g>\r\n     </g>\r\n    </g>\r\n    <g id=\"ytick_21\">\r\n     <g id=\"line2d_31\">\r\n      <g>\r\n       <use style=\"stroke:#000000;stroke-width:0.8;\" x=\"381.44575\" xlink:href=\"#m041869965e\" y=\"48.112084\"/>\r\n      </g>\r\n     </g>\r\n     <g id=\"text_34\">\r\n      <!-- 80 -->\r\n      <g transform=\"translate(388.44575 51.911303)scale(0.1 -0.1)\">\r\n       <use xlink:href=\"#DejaVuSans-56\"/>\r\n       <use x=\"63.623047\" xlink:href=\"#DejaVuSans-48\"/>\r\n      </g>\r\n     </g>\r\n    </g>\r\n   </g>\r\n   <g id=\"patch_4\">\r\n    <path d=\"M 370.57375 239.758125 \r\nL 370.57375 238.90875 \r\nL 370.57375 23.1675 \r\nL 370.57375 22.318125 \r\nL 381.44575 22.318125 \r\nL 381.44575 23.1675 \r\nL 381.44575 238.90875 \r\nL 381.44575 239.758125 \r\nz\r\n\" style=\"fill:none;\"/>\r\n   </g>\r\n  </g>\r\n </g>\r\n <defs>\r\n  <clipPath id=\"p80f183fefb\">\r\n   <rect height=\"217.44\" width=\"267.84\" x=\"85.99375\" y=\"22.318125\"/>\r\n  </clipPath>\r\n  <clipPath id=\"p507c923704\">\r\n   <rect height=\"217.44\" width=\"10.872\" x=\"370.57375\" y=\"22.318125\"/>\r\n  </clipPath>\r\n </defs>\r\n</svg>\r\n",
      "image/png": "[encoded data removed]"
     },
     "metadata": {
      "needs_background": "light"
     }
    }
   ],
   "source": [
    "heatmap.heatmap_age(start='2021-03', granularity='region', num_reg=2)"
   ]
  },
  {
   "source": [
    "We were eager to add some prediction to **vizcovidfr** package, so we decided to make a polynomial regression and a prediction of many variables, per region. \n",
    "\n",
    "## Polynomial Regression \n",
    "\n",
    "First, we had to make a regression. To do so, we used a polynomial regression. "
   ],
   "cell_type": "markdown",
   "metadata": {}
  },
  {
   "cell_type": "code",
   "execution_count": 4,
   "metadata": {},
   "outputs": [
    {
     "output_type": "stream",
     "name": "stdout",
     "text": [
      "Downloading data from https://static.data.gouv.fr/resources/donnees-hospitalieres-relatives-a-lepidemie-de-covid-19/20210423-201250/donnees-hospitalieres-classe-age-covid19-2021-04-23-20h12.csv (3.2 MB)\n",
      "\n",
      "file_sizes: 100%|██████████████████████████| 3.31M/3.31M [00:01<00:00, 2.75MB/s]\n",
      "Successfully downloaded file to C:\\Users\\quenf\\vizcovidfr\\vizcovidfr\\loads\\..\\data\\./classe_age.csv\n",
      "Time to execute: 2.06387 s.\n"
     ]
    },
    {
     "output_type": "display_data",
     "data": {
      "application/vnd.plotly.v1+json": {
       "config": {
        "plotlyServerURL": "https://plot.ly"
       },
       "data": [
        {
         "hovertemplate": "Date=%{x}<br>Hospitalization=%{y}<extra></extra>",
         "legendgroup": "",
         "marker": {
          "color": "#636efa",
          "opacity": 0.65,
          "symbol": "circle"
         },
         "mode": "markers",
         "name": "",
         "orientation": "v",
         "showlegend": false,
         "type": "scatter",
         "x": [
          "2020-03-18T00:00:00",
          "2020-03-19T00:00:00",
          "2020-03-20T00:00:00",
          "2020-03-21T00:00:00",
          "2020-03-22T00:00:00",
          "2020-03-23T00:00:00",
          "2020-03-24T00:00:00",
          "2020-03-25T00:00:00",
          "2020-03-26T00:00:00",
          "2020-03-27T00:00:00",
          "2020-03-28T00:00:00",
          "2020-03-29T00:00:00",
          "2020-03-30T00:00:00",
          "2020-03-31T00:00:00",
          "2020-04-01T00:00:00",
          "2020-04-02T00:00:00",
          "2020-04-03T00:00:00",
          "2020-04-04T00:00:00",
          "2020-04-05T00:00:00",
          "2020-04-06T00:00:00",
          "2020-04-07T00:00:00",
          "2020-04-08T00:00:00",
          "2020-04-09T00:00:00",
          "2020-04-10T00:00:00",
          "2020-04-11T00:00:00",
          "2020-04-12T00:00:00",
          "2020-04-13T00:00:00",
          "2020-04-14T00:00:00",
          "2020-04-15T00:00:00",
          "2020-04-16T00:00:00",
          "2020-04-17T00:00:00",
          "2020-04-18T00:00:00",
          "2020-04-19T00:00:00",
          "2020-04-20T00:00:00",
          "2020-04-21T00:00:00",
          "2020-04-22T00:00:00",
          "2020-04-23T00:00:00",
          "2020-04-24T00:00:00",
          "2020-04-25T00:00:00",
          "2020-04-26T00:00:00",
          "2020-04-27T00:00:00",
          "2020-04-28T00:00:00",
          "2020-04-29T00:00:00",
          "2020-04-30T00:00:00",
          "2020-05-01T00:00:00",
          "2020-05-02T00:00:00",
          "2020-05-03T00:00:00",
          "2020-05-04T00:00:00",
          "2020-05-05T00:00:00",
          "2020-05-06T00:00:00",
          "2020-05-07T00:00:00",
          "2020-05-08T00:00:00",
          "2020-05-09T00:00:00",
          "2020-05-10T00:00:00",
          "2020-05-11T00:00:00",
          "2020-05-12T00:00:00",
          "2020-05-13T00:00:00",
          "2020-05-14T00:00:00",
          "2020-05-15T00:00:00",
          "2020-05-16T00:00:00",
          "2020-05-17T00:00:00",
          "2020-05-18T00:00:00",
          "2020-05-19T00:00:00",
          "2020-05-20T00:00:00",
          "2020-05-21T00:00:00",
          "2020-05-22T00:00:00",
          "2020-05-23T00:00:00",
          "2020-05-24T00:00:00",
          "2020-05-25T00:00:00",
          "2020-05-26T00:00:00",
          "2020-05-27T00:00:00",
          "2020-05-28T00:00:00",
          "2020-05-29T00:00:00",
          "2020-05-30T00:00:00",
          "2020-05-31T00:00:00",
          "2020-06-01T00:00:00",
          "2020-06-02T00:00:00",
          "2020-06-03T00:00:00",
          "2020-06-04T00:00:00",
          "2020-06-05T00:00:00",
          "2020-06-06T00:00:00",
          "2020-06-07T00:00:00",
          "2020-06-08T00:00:00",
          "2020-06-09T00:00:00",
          "2020-06-10T00:00:00",
          "2020-06-11T00:00:00",
          "2020-06-12T00:00:00",
          "2020-06-13T00:00:00",
          "2020-06-14T00:00:00",
          "2020-06-15T00:00:00",
          "2020-06-16T00:00:00",
          "2020-06-17T00:00:00",
          "2020-06-18T00:00:00",
          "2020-06-19T00:00:00",
          "2020-06-20T00:00:00",
          "2020-06-21T00:00:00",
          "2020-06-22T00:00:00",
          "2020-06-23T00:00:00",
          "2020-06-24T00:00:00",
          "2020-06-25T00:00:00",
          "2020-06-26T00:00:00",
          "2020-06-27T00:00:00",
          "2020-06-28T00:00:00",
          "2020-06-29T00:00:00",
          "2020-06-30T00:00:00",
          "2020-07-01T00:00:00",
          "2020-07-02T00:00:00",
          "2020-07-03T00:00:00",
          "2020-07-04T00:00:00",
          "2020-07-05T00:00:00",
          "2020-07-06T00:00:00",
          "2020-07-07T00:00:00",
          "2020-07-08T00:00:00",
          "2020-07-09T00:00:00",
          "2020-07-10T00:00:00",
          "2020-07-11T00:00:00",
          "2020-07-12T00:00:00",
          "2020-07-13T00:00:00",
          "2020-07-14T00:00:00",
          "2020-07-15T00:00:00",
          "2020-07-16T00:00:00",
          "2020-07-17T00:00:00",
          "2020-07-18T00:00:00",
          "2020-07-19T00:00:00",
          "2020-07-20T00:00:00",
          "2020-07-21T00:00:00",
          "2020-07-22T00:00:00",
          "2020-07-23T00:00:00",
          "2020-07-24T00:00:00",
          "2020-07-25T00:00:00",
          "2020-07-26T00:00:00",
          "2020-07-27T00:00:00",
          "2020-07-28T00:00:00",
          "2020-07-29T00:00:00",
          "2020-07-30T00:00:00",
          "2020-07-31T00:00:00",
          "2020-08-01T00:00:00",
          "2020-08-02T00:00:00",
          "2020-08-03T00:00:00",
          "2020-08-04T00:00:00",
          "2020-08-05T00:00:00",
          "2020-08-06T00:00:00",
          "2020-08-07T00:00:00",
          "2020-08-08T00:00:00",
          "2020-08-09T00:00:00",
          "2020-08-10T00:00:00",
          "2020-08-11T00:00:00",
          "2020-08-12T00:00:00",
          "2020-08-13T00:00:00",
          "2020-08-14T00:00:00",
          "2020-08-15T00:00:00",
          "2020-08-16T00:00:00",
          "2020-08-17T00:00:00",
          "2020-08-18T00:00:00",
          "2020-08-19T00:00:00",
          "2020-08-20T00:00:00",
          "2020-08-21T00:00:00",
          "2020-08-22T00:00:00",
          "2020-08-23T00:00:00",
          "2020-08-24T00:00:00",
          "2020-08-25T00:00:00",
          "2020-08-26T00:00:00",
          "2020-08-27T00:00:00",
          "2020-08-28T00:00:00",
          "2020-08-29T00:00:00",
          "2020-08-30T00:00:00",
          "2020-08-31T00:00:00",
          "2020-09-01T00:00:00",
          "2020-09-02T00:00:00",
          "2020-09-03T00:00:00",
          "2020-09-04T00:00:00",
          "2020-09-05T00:00:00",
          "2020-09-06T00:00:00",
          "2020-09-07T00:00:00",
          "2020-09-08T00:00:00",
          "2020-09-09T00:00:00",
          "2020-09-10T00:00:00",
          "2020-09-11T00:00:00",
          "2020-09-12T00:00:00",
          "2020-09-13T00:00:00",
          "2020-09-14T00:00:00",
          "2020-09-15T00:00:00",
          "2020-09-16T00:00:00",
          "2020-09-17T00:00:00",
          "2020-09-18T00:00:00",
          "2020-09-19T00:00:00",
          "2020-09-20T00:00:00",
          "2020-09-21T00:00:00",
          "2020-09-22T00:00:00",
          "2020-09-23T00:00:00",
          "2020-09-24T00:00:00",
          "2020-09-25T00:00:00",
          "2020-09-26T00:00:00",
          "2020-09-27T00:00:00",
          "2020-09-28T00:00:00",
          "2020-09-29T00:00:00",
          "2020-09-30T00:00:00",
          "2020-10-01T00:00:00",
          "2020-10-02T00:00:00",
          "2020-10-03T00:00:00",
          "2020-10-04T00:00:00",
          "2020-10-05T00:00:00",
          "2020-10-06T00:00:00",
          "2020-10-07T00:00:00",
          "2020-10-08T00:00:00",
          "2020-10-09T00:00:00",
          "2020-10-10T00:00:00",
          "2020-10-11T00:00:00",
          "2020-10-12T00:00:00",
          "2020-10-13T00:00:00",
          "2020-10-14T00:00:00",
          "2020-10-15T00:00:00",
          "2020-10-16T00:00:00",
          "2020-10-17T00:00:00",
          "2020-10-18T00:00:00",
          "2020-10-19T00:00:00",
          "2020-10-20T00:00:00",
          "2020-10-21T00:00:00",
          "2020-10-22T00:00:00",
          "2020-10-23T00:00:00",
          "2020-10-24T00:00:00",
          "2020-10-25T00:00:00",
          "2020-10-26T00:00:00",
          "2020-10-27T00:00:00",
          "2020-10-28T00:00:00",
          "2020-10-29T00:00:00",
          "2020-10-30T00:00:00",
          "2020-10-31T00:00:00",
          "2020-11-01T00:00:00",
          "2020-11-02T00:00:00",
          "2020-11-03T00:00:00",
          "2020-11-04T00:00:00",
          "2020-11-05T00:00:00",
          "2020-11-06T00:00:00",
          "2020-11-07T00:00:00",
          "2020-11-08T00:00:00",
          "2020-11-09T00:00:00",
          "2020-11-10T00:00:00",
          "2020-11-11T00:00:00",
          "2020-11-12T00:00:00",
          "2020-11-13T00:00:00",
          "2020-11-14T00:00:00",
          "2020-11-15T00:00:00",
          "2020-11-16T00:00:00",
          "2020-11-17T00:00:00",
          "2020-11-18T00:00:00",
          "2020-11-19T00:00:00",
          "2020-11-20T00:00:00",
          "2020-11-21T00:00:00",
          "2020-11-22T00:00:00",
          "2020-11-23T00:00:00",
          "2020-11-24T00:00:00",
          "2020-11-25T00:00:00",
          "2020-11-26T00:00:00",
          "2020-11-27T00:00:00",
          "2020-11-28T00:00:00",
          "2020-11-29T00:00:00",
          "2020-11-30T00:00:00",
          "2020-12-01T00:00:00",
          "2020-12-02T00:00:00",
          "2020-12-03T00:00:00",
          "2020-12-04T00:00:00",
          "2020-12-05T00:00:00",
          "2020-12-06T00:00:00",
          "2020-12-07T00:00:00",
          "2020-12-08T00:00:00",
          "2020-12-09T00:00:00",
          "2020-12-10T00:00:00",
          "2020-12-11T00:00:00",
          "2020-12-12T00:00:00",
          "2020-12-13T00:00:00",
          "2020-12-14T00:00:00",
          "2020-12-15T00:00:00",
          "2020-12-16T00:00:00",
          "2020-12-17T00:00:00",
          "2020-12-18T00:00:00",
          "2020-12-19T00:00:00",
          "2020-12-20T00:00:00",
          "2020-12-21T00:00:00",
          "2020-12-22T00:00:00",
          "2020-12-23T00:00:00",
          "2020-12-24T00:00:00",
          "2020-12-25T00:00:00",
          "2020-12-26T00:00:00",
          "2020-12-27T00:00:00",
          "2020-12-28T00:00:00",
          "2020-12-29T00:00:00",
          "2020-12-30T00:00:00",
          "2020-12-31T00:00:00",
          "2021-01-01T00:00:00",
          "2021-01-02T00:00:00",
          "2021-01-03T00:00:00",
          "2021-01-04T00:00:00",
          "2021-01-05T00:00:00",
          "2021-01-06T00:00:00",
          "2021-01-07T00:00:00",
          "2021-01-08T00:00:00",
          "2021-01-09T00:00:00",
          "2021-01-10T00:00:00",
          "2021-01-11T00:00:00",
          "2021-01-12T00:00:00",
          "2021-01-13T00:00:00",
          "2021-01-14T00:00:00",
          "2021-01-15T00:00:00",
          "2021-01-16T00:00:00",
          "2021-01-17T00:00:00",
          "2021-01-18T00:00:00",
          "2021-01-19T00:00:00",
          "2021-01-20T00:00:00",
          "2021-01-21T00:00:00",
          "2021-01-22T00:00:00",
          "2021-01-23T00:00:00",
          "2021-01-24T00:00:00",
          "2021-01-25T00:00:00",
          "2021-01-26T00:00:00",
          "2021-01-27T00:00:00",
          "2021-01-28T00:00:00",
          "2021-01-29T00:00:00",
          "2021-01-30T00:00:00",
          "2021-01-31T00:00:00",
          "2021-02-01T00:00:00",
          "2021-02-02T00:00:00",
          "2021-02-03T00:00:00",
          "2021-02-04T00:00:00",
          "2021-02-05T00:00:00",
          "2021-02-06T00:00:00",
          "2021-02-07T00:00:00",
          "2021-02-08T00:00:00",
          "2021-02-09T00:00:00",
          "2021-02-10T00:00:00",
          "2021-02-11T00:00:00",
          "2021-02-12T00:00:00",
          "2021-02-13T00:00:00",
          "2021-02-14T00:00:00",
          "2021-02-15T00:00:00",
          "2021-02-16T00:00:00",
          "2021-02-17T00:00:00",
          "2021-02-18T00:00:00",
          "2021-02-19T00:00:00",
          "2021-02-20T00:00:00",
          "2021-02-21T00:00:00",
          "2021-02-22T00:00:00",
          "2021-02-23T00:00:00",
          "2021-02-24T00:00:00",
          "2021-02-25T00:00:00",
          "2021-02-26T00:00:00",
          "2021-02-27T00:00:00",
          "2021-02-28T00:00:00",
          "2021-03-01T00:00:00",
          "2021-03-02T00:00:00",
          "2021-03-03T00:00:00",
          "2021-03-04T00:00:00",
          "2021-03-05T00:00:00",
          "2021-03-06T00:00:00",
          "2021-03-07T00:00:00",
          "2021-03-08T00:00:00",
          "2021-03-09T00:00:00",
          "2021-03-10T00:00:00",
          "2021-03-11T00:00:00",
          "2021-03-12T00:00:00",
          "2021-03-13T00:00:00",
          "2021-03-14T00:00:00",
          "2021-03-15T00:00:00",
          "2021-03-16T00:00:00",
          "2021-03-17T00:00:00",
          "2021-03-18T00:00:00",
          "2021-03-19T00:00:00",
          "2021-03-20T00:00:00",
          "2021-03-21T00:00:00",
          "2021-03-22T00:00:00",
          "2021-03-23T00:00:00",
          "2021-03-24T00:00:00",
          "2021-03-25T00:00:00",
          "2021-03-26T00:00:00",
          "2021-03-27T00:00:00",
          "2021-03-28T00:00:00",
          "2021-03-29T00:00:00",
          "2021-03-30T00:00:00",
          "2021-03-31T00:00:00",
          "2021-04-01T00:00:00",
          "2021-04-02T00:00:00",
          "2021-04-03T00:00:00",
          "2021-04-04T00:00:00",
          "2021-04-05T00:00:00",
          "2021-04-06T00:00:00",
          "2021-04-07T00:00:00",
          "2021-04-08T00:00:00",
          "2021-04-09T00:00:00",
          "2021-04-10T00:00:00",
          "2021-04-11T00:00:00",
          "2021-04-12T00:00:00",
          "2021-04-13T00:00:00",
          "2021-04-14T00:00:00",
          "2021-04-15T00:00:00",
          "2021-04-16T00:00:00",
          "2021-04-17T00:00:00",
          "2021-04-18T00:00:00",
          "2021-04-19T00:00:00",
          "2021-04-20T00:00:00",
          "2021-04-21T00:00:00",
          "2021-04-22T00:00:00",
          "2021-04-23T00:00:00"
         ],
         "xaxis": "x",
         "y": [
          189,
          288,
          365,
          407,
          519,
          661,
          764,
          936,
          1102,
          1235,
          1410,
          1592,
          1708,
          1748,
          1852,
          1952,
          2014,
          1994,
          2048,
          2093,
          2062,
          2000,
          1983,
          1914,
          1836,
          1908,
          1948,
          1924,
          1826,
          1740,
          1731,
          1720,
          1754,
          1786,
          1754,
          1714,
          1608,
          1484,
          1448,
          1456,
          1460,
          1383,
          1328,
          1270,
          1219,
          1206,
          1220,
          1144,
          1072,
          998,
          932,
          880,
          876,
          880,
          868,
          814,
          812,
          752,
          708,
          698,
          696,
          654,
          628,
          596,
          584,
          594,
          582,
          585,
          565,
          548,
          540,
          506,
          500,
          486,
          474,
          476,
          480,
          444,
          414,
          371,
          350,
          350,
          344,
          336,
          308,
          300,
          276,
          278,
          276,
          262,
          226,
          220,
          208,
          206,
          198,
          200,
          200,
          194,
          184,
          180,
          170,
          154,
          160,
          154,
          146,
          138,
          132,
          118,
          118,
          118,
          118,
          116,
          114,
          106,
          94,
          96,
          94,
          98,
          98,
          94,
          90,
          84,
          88,
          88,
          86,
          84,
          90,
          84,
          82,
          84,
          86,
          94,
          90,
          96,
          100,
          104,
          104,
          104,
          106,
          110,
          98,
          98,
          96,
          96,
          96,
          106,
          110,
          108,
          114,
          116,
          136,
          136,
          130,
          146,
          172,
          181,
          194,
          200,
          202,
          212,
          216,
          230,
          250,
          276,
          280,
          282,
          300,
          318,
          322,
          346,
          346,
          348,
          342,
          372,
          392,
          401,
          426,
          430,
          444,
          462,
          544,
          544,
          564,
          586,
          600,
          598,
          602,
          634,
          629,
          634,
          680,
          698,
          706,
          723,
          770,
          785,
          837,
          851,
          886,
          880,
          914,
          950,
          978,
          986,
          1044,
          1112,
          1144,
          1168,
          1244,
          1262,
          1319,
          1326,
          1422,
          1450,
          1584,
          1696,
          1729,
          1887,
          1912,
          2053,
          2081,
          2252,
          2386,
          2605,
          2742,
          2932,
          2962,
          3068,
          3206,
          3337,
          3465,
          3761,
          3858,
          3924,
          3949,
          4029,
          4161,
          4212,
          4271,
          4383,
          4408,
          4334,
          4384,
          4424,
          4374,
          4280,
          4174,
          4049,
          3974,
          3987,
          3926,
          3757,
          3645,
          3538,
          3444,
          3344,
          3354,
          3378,
          3332,
          3222,
          3136,
          3078,
          3008,
          3015,
          2986,
          2924,
          2924,
          2878,
          2795,
          2799,
          2810,
          2849,
          2767,
          2729,
          2673,
          2621,
          2593,
          2595,
          2627,
          2574,
          2550,
          2456,
          2402,
          2374,
          2391,
          2412,
          2408,
          2348,
          2392,
          2356,
          2420,
          2465,
          2488,
          2513,
          2452,
          2467,
          2480,
          2440,
          2488,
          2604,
          2652,
          2685,
          2747,
          2777,
          2762,
          2812,
          2969,
          3021,
          3107,
          3114,
          3223,
          3195,
          3241,
          3340,
          3407,
          3418,
          3479,
          3577,
          3595,
          3642,
          3715,
          3673,
          3732,
          3702,
          3705,
          3684,
          3726,
          3806,
          3729,
          3769,
          3684,
          3602,
          3556,
          3568,
          3516,
          3409,
          3344,
          3315,
          3293,
          3226,
          3247,
          3325,
          3315,
          3232,
          3166,
          3120,
          3081,
          3130,
          3135,
          3065,
          2905,
          2816,
          2736,
          2651,
          2666,
          2686,
          2678,
          2624,
          2610,
          2614,
          2563,
          2616,
          2722,
          2718,
          2672,
          2696,
          2676,
          2691,
          2747,
          2851,
          2911,
          2961,
          2982,
          3088,
          3062,
          3107,
          3249,
          3287,
          3252,
          3260,
          3290,
          3328,
          3414,
          3499,
          3678,
          3687,
          3647,
          3627,
          3525,
          3603,
          3744,
          3686,
          3703,
          3739,
          3708,
          3696,
          3731,
          3764,
          3698,
          3743,
          3742,
          3777
         ],
         "yaxis": "y"
        }
       ],
       "layout": {
        "legend": {
         "tracegroupgap": 0
        },
        "template": {
         "data": {
          "bar": [
           {
            "error_x": {
             "color": "#2a3f5f"
            },
            "error_y": {
             "color": "#2a3f5f"
            },
            "marker": {
             "line": {
              "color": "#E5ECF6",
              "width": 0.5
             }
            },
            "type": "bar"
           }
          ],
          "barpolar": [
           {
            "marker": {
             "line": {
              "color": "#E5ECF6",
              "width": 0.5
             }
            },
            "type": "barpolar"
           }
          ],
          "carpet": [
           {
            "aaxis": {
             "endlinecolor": "#2a3f5f",
             "gridcolor": "white",
             "linecolor": "white",
             "minorgridcolor": "white",
             "startlinecolor": "#2a3f5f"
            },
            "baxis": {
             "endlinecolor": "#2a3f5f",
             "gridcolor": "white",
             "linecolor": "white",
             "minorgridcolor": "white",
             "startlinecolor": "#2a3f5f"
            },
            "type": "carpet"
           }
          ],
          "choropleth": [
           {
            "colorbar": {
             "outlinewidth": 0,
             "ticks": ""
            },
            "type": "choropleth"
           }
          ],
          "contour": [
           {
            "colorbar": {
             "outlinewidth": 0,
             "ticks": ""
            },
            "colorscale": [
             [
              0,
              "#0d0887"
             ],
             [
              0.1111111111111111,
              "#46039f"
             ],
             [
              0.2222222222222222,
              "#7201a8"
             ],
             [
              0.3333333333333333,
              "#9c179e"
             ],
             [
              0.4444444444444444,
              "#bd3786"
             ],
             [
              0.5555555555555556,
              "#d8576b"
             ],
             [
              0.6666666666666666,
              "#ed7953"
             ],
             [
              0.7777777777777778,
              "#fb9f3a"
             ],
             [
              0.8888888888888888,
              "#fdca26"
             ],
             [
              1,
              "#f0f921"
             ]
            ],
            "type": "contour"
           }
          ],
          "contourcarpet": [
           {
            "colorbar": {
             "outlinewidth": 0,
             "ticks": ""
            },
            "type": "contourcarpet"
           }
          ],
          "heatmap": [
           {
            "colorbar": {
             "outlinewidth": 0,
             "ticks": ""
            },
            "colorscale": [
             [
              0,
              "#0d0887"
             ],
             [
              0.1111111111111111,
              "#46039f"
             ],
             [
              0.2222222222222222,
              "#7201a8"
             ],
             [
              0.3333333333333333,
              "#9c179e"
             ],
             [
              0.4444444444444444,
              "#bd3786"
             ],
             [
              0.5555555555555556,
              "#d8576b"
             ],
             [
              0.6666666666666666,
              "#ed7953"
             ],
             [
              0.7777777777777778,
              "#fb9f3a"
             ],
             [
              0.8888888888888888,
              "#fdca26"
             ],
             [
              1,
              "#f0f921"
             ]
            ],
            "type": "heatmap"
           }
          ],
          "heatmapgl": [
           {
            "colorbar": {
             "outlinewidth": 0,
             "ticks": ""
            },
            "colorscale": [
             [
              0,
              "#0d0887"
             ],
             [
              0.1111111111111111,
              "#46039f"
             ],
             [
              0.2222222222222222,
              "#7201a8"
             ],
             [
              0.3333333333333333,
              "#9c179e"
             ],
             [
              0.4444444444444444,
              "#bd3786"
             ],
             [
              0.5555555555555556,
              "#d8576b"
             ],
             [
              0.6666666666666666,
              "#ed7953"
             ],
             [
              0.7777777777777778,
              "#fb9f3a"
             ],
             [
              0.8888888888888888,
              "#fdca26"
             ],
             [
              1,
              "#f0f921"
             ]
            ],
            "type": "heatmapgl"
           }
          ],
          "histogram": [
           {
            "marker": {
             "colorbar": {
              "outlinewidth": 0,
              "ticks": ""
             }
            },
            "type": "histogram"
           }
          ],
          "histogram2d": [
           {
            "colorbar": {
             "outlinewidth": 0,
             "ticks": ""
            },
            "colorscale": [
             [
              0,
              "#0d0887"
             ],
             [
              0.1111111111111111,
              "#46039f"
             ],
             [
              0.2222222222222222,
              "#7201a8"
             ],
             [
              0.3333333333333333,
              "#9c179e"
             ],
             [
              0.4444444444444444,
              "#bd3786"
             ],
             [
              0.5555555555555556,
              "#d8576b"
             ],
             [
              0.6666666666666666,
              "#ed7953"
             ],
             [
              0.7777777777777778,
              "#fb9f3a"
             ],
             [
              0.8888888888888888,
              "#fdca26"
             ],
             [
              1,
              "#f0f921"
             ]
            ],
            "type": "histogram2d"
           }
          ],
          "histogram2dcontour": [
           {
            "colorbar": {
             "outlinewidth": 0,
             "ticks": ""
            },
            "colorscale": [
             [
              0,
              "#0d0887"
             ],
             [
              0.1111111111111111,
              "#46039f"
             ],
             [
              0.2222222222222222,
              "#7201a8"
             ],
             [
              0.3333333333333333,
              "#9c179e"
             ],
             [
              0.4444444444444444,
              "#bd3786"
             ],
             [
              0.5555555555555556,
              "#d8576b"
             ],
             [
              0.6666666666666666,
              "#ed7953"
             ],
             [
              0.7777777777777778,
              "#fb9f3a"
             ],
             [
              0.8888888888888888,
              "#fdca26"
             ],
             [
              1,
              "#f0f921"
             ]
            ],
            "type": "histogram2dcontour"
           }
          ],
          "mesh3d": [
           {
            "colorbar": {
             "outlinewidth": 0,
             "ticks": ""
            },
            "type": "mesh3d"
           }
          ],
          "parcoords": [
           {
            "line": {
             "colorbar": {
              "outlinewidth": 0,
              "ticks": ""
             }
            },
            "type": "parcoords"
           }
          ],
          "pie": [
           {
            "automargin": true,
            "type": "pie"
           }
          ],
          "scatter": [
           {
            "marker": {
             "colorbar": {
              "outlinewidth": 0,
              "ticks": ""
             }
            },
            "type": "scatter"
           }
          ],
          "scatter3d": [
           {
            "line": {
             "colorbar": {
              "outlinewidth": 0,
              "ticks": ""
             }
            },
            "marker": {
             "colorbar": {
              "outlinewidth": 0,
              "ticks": ""
             }
            },
            "type": "scatter3d"
           }
          ],
          "scattercarpet": [
           {
            "marker": {
             "colorbar": {
              "outlinewidth": 0,
              "ticks": ""
             }
            },
            "type": "scattercarpet"
           }
          ],
          "scattergeo": [
           {
            "marker": {
             "colorbar": {
              "outlinewidth": 0,
              "ticks": ""
             }
            },
            "type": "scattergeo"
           }
          ],
          "scattergl": [
           {
            "marker": {
             "colorbar": {
              "outlinewidth": 0,
              "ticks": ""
             }
            },
            "type": "scattergl"
           }
          ],
          "scattermapbox": [
           {
            "marker": {
             "colorbar": {
              "outlinewidth": 0,
              "ticks": ""
             }
            },
            "type": "scattermapbox"
           }
          ],
          "scatterpolar": [
           {
            "marker": {
             "colorbar": {
              "outlinewidth": 0,
              "ticks": ""
             }
            },
            "type": "scatterpolar"
           }
          ],
          "scatterpolargl": [
           {
            "marker": {
             "colorbar": {
              "outlinewidth": 0,
              "ticks": ""
             }
            },
            "type": "scatterpolargl"
           }
          ],
          "scatterternary": [
           {
            "marker": {
             "colorbar": {
              "outlinewidth": 0,
              "ticks": ""
             }
            },
            "type": "scatterternary"
           }
          ],
          "surface": [
           {
            "colorbar": {
             "outlinewidth": 0,
             "ticks": ""
            },
            "colorscale": [
             [
              0,
              "#0d0887"
             ],
             [
              0.1111111111111111,
              "#46039f"
             ],
             [
              0.2222222222222222,
              "#7201a8"
             ],
             [
              0.3333333333333333,
              "#9c179e"
             ],
             [
              0.4444444444444444,
              "#bd3786"
             ],
             [
              0.5555555555555556,
              "#d8576b"
             ],
             [
              0.6666666666666666,
              "#ed7953"
             ],
             [
              0.7777777777777778,
              "#fb9f3a"
             ],
             [
              0.8888888888888888,
              "#fdca26"
             ],
             [
              1,
              "#f0f921"
             ]
            ],
            "type": "surface"
           }
          ],
          "table": [
           {
            "cells": {
             "fill": {
              "color": "#EBF0F8"
             },
             "line": {
              "color": "white"
             }
            },
            "header": {
             "fill": {
              "color": "#C8D4E3"
             },
             "line": {
              "color": "white"
             }
            },
            "type": "table"
           }
          ]
         },
         "layout": {
          "annotationdefaults": {
           "arrowcolor": "#2a3f5f",
           "arrowhead": 0,
           "arrowwidth": 1
          },
          "autotypenumbers": "strict",
          "coloraxis": {
           "colorbar": {
            "outlinewidth": 0,
            "ticks": ""
           }
          },
          "colorscale": {
           "diverging": [
            [
             0,
             "#8e0152"
            ],
            [
             0.1,
             "#c51b7d"
            ],
            [
             0.2,
             "#de77ae"
            ],
            [
             0.3,
             "#f1b6da"
            ],
            [
             0.4,
             "#fde0ef"
            ],
            [
             0.5,
             "#f7f7f7"
            ],
            [
             0.6,
             "#e6f5d0"
            ],
            [
             0.7,
             "#b8e186"
            ],
            [
             0.8,
             "#7fbc41"
            ],
            [
             0.9,
             "#4d9221"
            ],
            [
             1,
             "#276419"
            ]
           ],
           "sequential": [
            [
             0,
             "#0d0887"
            ],
            [
             0.1111111111111111,
             "#46039f"
            ],
            [
             0.2222222222222222,
             "#7201a8"
            ],
            [
             0.3333333333333333,
             "#9c179e"
            ],
            [
             0.4444444444444444,
             "#bd3786"
            ],
            [
             0.5555555555555556,
             "#d8576b"
            ],
            [
             0.6666666666666666,
             "#ed7953"
            ],
            [
             0.7777777777777778,
             "#fb9f3a"
            ],
            [
             0.8888888888888888,
             "#fdca26"
            ],
            [
             1,
             "#f0f921"
            ]
           ],
           "sequentialminus": [
            [
             0,
             "#0d0887"
            ],
            [
             0.1111111111111111,
             "#46039f"
            ],
            [
             0.2222222222222222,
             "#7201a8"
            ],
            [
             0.3333333333333333,
             "#9c179e"
            ],
            [
             0.4444444444444444,
             "#bd3786"
            ],
            [
             0.5555555555555556,
             "#d8576b"
            ],
            [
             0.6666666666666666,
             "#ed7953"
            ],
            [
             0.7777777777777778,
             "#fb9f3a"
            ],
            [
             0.8888888888888888,
             "#fdca26"
            ],
            [
             1,
             "#f0f921"
            ]
           ]
          },
          "colorway": [
           "#636efa",
           "#EF553B",
           "#00cc96",
           "#ab63fa",
           "#FFA15A",
           "#19d3f3",
           "#FF6692",
           "#B6E880",
           "#FF97FF",
           "#FECB52"
          ],
          "font": {
           "color": "#2a3f5f"
          },
          "geo": {
           "bgcolor": "white",
           "lakecolor": "white",
           "landcolor": "#E5ECF6",
           "showlakes": true,
           "showland": true,
           "subunitcolor": "white"
          },
          "hoverlabel": {
           "align": "left"
          },
          "hovermode": "closest",
          "mapbox": {
           "style": "light"
          },
          "paper_bgcolor": "white",
          "plot_bgcolor": "#E5ECF6",
          "polar": {
           "angularaxis": {
            "gridcolor": "white",
            "linecolor": "white",
            "ticks": ""
           },
           "bgcolor": "#E5ECF6",
           "radialaxis": {
            "gridcolor": "white",
            "linecolor": "white",
            "ticks": ""
           }
          },
          "scene": {
           "xaxis": {
            "backgroundcolor": "#E5ECF6",
            "gridcolor": "white",
            "gridwidth": 2,
            "linecolor": "white",
            "showbackground": true,
            "ticks": "",
            "zerolinecolor": "white"
           },
           "yaxis": {
            "backgroundcolor": "#E5ECF6",
            "gridcolor": "white",
            "gridwidth": 2,
            "linecolor": "white",
            "showbackground": true,
            "ticks": "",
            "zerolinecolor": "white"
           },
           "zaxis": {
            "backgroundcolor": "#E5ECF6",
            "gridcolor": "white",
            "gridwidth": 2,
            "linecolor": "white",
            "showbackground": true,
            "ticks": "",
            "zerolinecolor": "white"
           }
          },
          "shapedefaults": {
           "line": {
            "color": "#2a3f5f"
           }
          },
          "ternary": {
           "aaxis": {
            "gridcolor": "white",
            "linecolor": "white",
            "ticks": ""
           },
           "baxis": {
            "gridcolor": "white",
            "linecolor": "white",
            "ticks": ""
           },
           "bgcolor": "#E5ECF6",
           "caxis": {
            "gridcolor": "white",
            "linecolor": "white",
            "ticks": ""
           }
          },
          "title": {
           "x": 0.05
          },
          "xaxis": {
           "automargin": true,
           "gridcolor": "white",
           "linecolor": "white",
           "ticks": "",
           "title": {
            "standoff": 15
           },
           "zerolinecolor": "white",
           "zerolinewidth": 2
          },
          "yaxis": {
           "automargin": true,
           "gridcolor": "white",
           "linecolor": "white",
           "ticks": "",
           "title": {
            "standoff": 15
           },
           "zerolinecolor": "white",
           "zerolinewidth": 2
          }
         }
        },
        "title": {
         "text": "Scatter plot of the evolution of Hospitalization in Occitanie"
        },
        "xaxis": {
         "anchor": "y",
         "domain": [
          0,
          1
         ],
         "title": {
          "text": "Date"
         }
        },
        "yaxis": {
         "anchor": "x",
         "domain": [
          0,
          1
         ],
         "title": {
          "text": "Hospitalization"
         }
        }
       }
      }
     },
     "metadata": {}
    }
   ],
   "source": [
    "#Regression\n",
    "regression.scatter_reg(1, 76, save = False)"
   ]
  },
  {
   "cell_type": "code",
   "execution_count": 5,
   "metadata": {},
   "outputs": [
    {
     "output_type": "stream",
     "name": "stdout",
     "text": [
      "Downloading data from https://static.data.gouv.fr/resources/donnees-hospitalieres-relatives-a-lepidemie-de-covid-19/20210423-201250/donnees-hospitalieres-classe-age-covid19-2021-04-23-20h12.csv (3.2 MB)\n",
      "\n",
      "file_sizes: 100%|██████████████████████████| 3.31M/3.31M [00:01<00:00, 2.71MB/s]\n",
      "Successfully downloaded file to C:\\Users\\quenf\\vizcovidfr\\vizcovidfr\\loads\\..\\data\\./classe_age.csv\n",
      "c:\\users\\quenf\\vizcovidfr\\vizcovidfr\\regression\\regression.py:307: FutureWarning:\n",
      "\n",
      "Support for multi-dimensional indexing (e.g. `obj[:, None]`) is deprecated and will be removed in a future version.  Convert to a numpy array before indexing instead.\n",
      "\n",
      "Time to execute: 2.26700 s.\n"
     ]
    },
    {
     "output_type": "display_data",
     "data": {
      "text/plain": "<Figure size 432x288 with 1 Axes>",
      "image/svg+xml": "<?xml version=\"1.0\" encoding=\"utf-8\" standalone=\"no\"?>\r\n<!DOCTYPE svg PUBLIC \"-//W3C//DTD SVG 1.1//EN\"\r\n  \"http://www.w3.org/Graphics/SVG/1.1/DTD/svg11.dtd\">\r\n<!-- Created with matplotlib (https://matplotlib.org/) -->\r\n<svg height=\"277.318125pt\" version=\"1.1\" viewBox=\"0 0 407.646094 277.318125\" width=\"407.646094pt\" xmlns=\"http://www.w3.org/2000/svg\" xmlns:xlink=\"http://www.w3.org/1999/xlink\">\r\n <metadata>\r\n  <rdf:RDF xmlns:cc=\"http://creativecommons.org/ns#\" xmlns:dc=\"http://purl.org/dc/elements/1.1/\" xmlns:rdf=\"http://www.w3.org/1999/02/22-rdf-syntax-ns#\">\r\n   <cc:Work>\r\n    <dc:type rdf:resource=\"http://purl.org/dc/dcmitype/StillImage\"/>\r\n    <dc:date>2021-04-24T03:30:33.125549</dc:date>\r\n    <dc:format>image/svg+xml</dc:format>\r\n    <dc:creator>\r\n     <cc:Agent>\r\n      <dc:title>Matplotlib v3.3.2, https://matplotlib.org/</dc:title>\r\n     </cc:Agent>\r\n    </dc:creator>\r\n   </cc:Work>\r\n  </rdf:RDF>\r\n </metadata>\r\n <defs>\r\n  <style type=\"text/css\">*{stroke-linecap:butt;stroke-linejoin:round;}</style>\r\n </defs>\r\n <g id=\"figure_1\">\r\n  <g id=\"patch_1\">\r\n   <path d=\"M 0 277.318125 \r\nL 407.646094 277.318125 \r\nL 407.646094 0 \r\nL 0 0 \r\nz\r\n\" style=\"fill:none;\"/>\r\n  </g>\r\n  <g id=\"axes_1\">\r\n   <g id=\"patch_2\">\r\n    <path d=\"M 41.823047 253.44 \r\nL 376.623047 253.44 \r\nL 376.623047 36 \r\nL 41.823047 36 \r\nz\r\n\" style=\"fill:#ffffff;\"/>\r\n   </g>\r\n   <g id=\"PathCollection_1\">\r\n    <defs>\r\n     <path d=\"M 0 3 \r\nC 0.795609 3 1.55874 2.683901 2.12132 2.12132 \r\nC 2.683901 1.55874 3 0.795609 3 0 \r\nC 3 -0.795609 2.683901 -1.55874 2.12132 -2.12132 \r\nC 1.55874 -2.683901 0.795609 -3 0 -3 \r\nC -0.795609 -3 -1.55874 -2.683901 -2.12132 -2.12132 \r\nC -2.683901 -1.55874 -3 -0.795609 -3 0 \r\nC -3 0.795609 -2.683901 1.55874 -2.12132 2.12132 \r\nC -1.55874 2.683901 -0.795609 3 0 3 \r\nz\r\n\" id=\"m5e6e37c582\" style=\"stroke:#1f77b4;\"/>\r\n    </defs>\r\n    <g clip-path=\"url(#p8c801be048)\">\r\n     <use style=\"fill:#1f77b4;stroke:#1f77b4;\" x=\"57.041229\" xlink:href=\"#m5e6e37c582\" y=\"226.830933\"/>\r\n     <use style=\"fill:#1f77b4;stroke:#1f77b4;\" x=\"57.80024\" xlink:href=\"#m5e6e37c582\" y=\"222.600996\"/>\r\n     <use style=\"fill:#1f77b4;stroke:#1f77b4;\" x=\"58.559252\" xlink:href=\"#m5e6e37c582\" y=\"219.311045\"/>\r\n     <use style=\"fill:#1f77b4;stroke:#1f77b4;\" x=\"59.318263\" xlink:href=\"#m5e6e37c582\" y=\"217.516527\"/>\r\n     <use style=\"fill:#1f77b4;stroke:#1f77b4;\" x=\"60.077275\" xlink:href=\"#m5e6e37c582\" y=\"212.731143\"/>\r\n     <use style=\"fill:#1f77b4;stroke:#1f77b4;\" x=\"60.836287\" xlink:href=\"#m5e6e37c582\" y=\"206.663961\"/>\r\n     <use style=\"fill:#1f77b4;stroke:#1f77b4;\" x=\"61.595298\" xlink:href=\"#m5e6e37c582\" y=\"202.263118\"/>\r\n     <use style=\"fill:#1f77b4;stroke:#1f77b4;\" x=\"62.35431\" xlink:href=\"#m5e6e37c582\" y=\"194.914137\"/>\r\n     <use style=\"fill:#1f77b4;stroke:#1f77b4;\" x=\"63.113321\" xlink:href=\"#m5e6e37c582\" y=\"187.821516\"/>\r\n     <use style=\"fill:#1f77b4;stroke:#1f77b4;\" x=\"63.872333\" xlink:href=\"#m5e6e37c582\" y=\"182.138873\"/>\r\n     <use style=\"fill:#1f77b4;stroke:#1f77b4;\" x=\"64.631344\" xlink:href=\"#m5e6e37c582\" y=\"174.661712\"/>\r\n     <use style=\"fill:#1f77b4;stroke:#1f77b4;\" x=\"65.390356\" xlink:href=\"#m5e6e37c582\" y=\"166.885465\"/>\r\n     <use style=\"fill:#1f77b4;stroke:#1f77b4;\" x=\"66.149367\" xlink:href=\"#m5e6e37c582\" y=\"161.929175\"/>\r\n     <use style=\"fill:#1f77b4;stroke:#1f77b4;\" x=\"66.908379\" xlink:href=\"#m5e6e37c582\" y=\"160.22011\"/>\r\n     <use style=\"fill:#1f77b4;stroke:#1f77b4;\" x=\"67.667391\" xlink:href=\"#m5e6e37c582\" y=\"155.77654\"/>\r\n     <use style=\"fill:#1f77b4;stroke:#1f77b4;\" x=\"68.426402\" xlink:href=\"#m5e6e37c582\" y=\"151.503876\"/>\r\n     <use style=\"fill:#1f77b4;stroke:#1f77b4;\" x=\"69.185414\" xlink:href=\"#m5e6e37c582\" y=\"148.854825\"/>\r\n     <use style=\"fill:#1f77b4;stroke:#1f77b4;\" x=\"69.944425\" xlink:href=\"#m5e6e37c582\" y=\"149.709358\"/>\r\n     <use style=\"fill:#1f77b4;stroke:#1f77b4;\" x=\"70.703437\" xlink:href=\"#m5e6e37c582\" y=\"147.40212\"/>\r\n     <use style=\"fill:#1f77b4;stroke:#1f77b4;\" x=\"71.462448\" xlink:href=\"#m5e6e37c582\" y=\"145.479421\"/>\r\n     <use style=\"fill:#1f77b4;stroke:#1f77b4;\" x=\"72.22146\" xlink:href=\"#m5e6e37c582\" y=\"146.803947\"/>\r\n     <use style=\"fill:#1f77b4;stroke:#1f77b4;\" x=\"72.980471\" xlink:href=\"#m5e6e37c582\" y=\"149.452998\"/>\r\n     <use style=\"fill:#1f77b4;stroke:#1f77b4;\" x=\"73.739483\" xlink:href=\"#m5e6e37c582\" y=\"150.179351\"/>\r\n     <use style=\"fill:#1f77b4;stroke:#1f77b4;\" x=\"74.498495\" xlink:href=\"#m5e6e37c582\" y=\"153.127489\"/>\r\n     <use style=\"fill:#1f77b4;stroke:#1f77b4;\" x=\"75.257506\" xlink:href=\"#m5e6e37c582\" y=\"156.460166\"/>\r\n     <use style=\"fill:#1f77b4;stroke:#1f77b4;\" x=\"76.016518\" xlink:href=\"#m5e6e37c582\" y=\"153.383848\"/>\r\n     <use style=\"fill:#1f77b4;stroke:#1f77b4;\" x=\"76.775529\" xlink:href=\"#m5e6e37c582\" y=\"151.674783\"/>\r\n     <use style=\"fill:#1f77b4;stroke:#1f77b4;\" x=\"77.534541\" xlink:href=\"#m5e6e37c582\" y=\"152.700222\"/>\r\n     <use style=\"fill:#1f77b4;stroke:#1f77b4;\" x=\"78.293552\" xlink:href=\"#m5e6e37c582\" y=\"156.887432\"/>\r\n     <use style=\"fill:#1f77b4;stroke:#1f77b4;\" x=\"79.052564\" xlink:href=\"#m5e6e37c582\" y=\"160.561923\"/>\r\n     <use style=\"fill:#1f77b4;stroke:#1f77b4;\" x=\"79.811576\" xlink:href=\"#m5e6e37c582\" y=\"160.946463\"/>\r\n     <use style=\"fill:#1f77b4;stroke:#1f77b4;\" x=\"80.570587\" xlink:href=\"#m5e6e37c582\" y=\"161.416456\"/>\r\n     <use style=\"fill:#1f77b4;stroke:#1f77b4;\" x=\"81.329599\" xlink:href=\"#m5e6e37c582\" y=\"159.96375\"/>\r\n     <use style=\"fill:#1f77b4;stroke:#1f77b4;\" x=\"82.08861\" xlink:href=\"#m5e6e37c582\" y=\"158.596498\"/>\r\n     <use style=\"fill:#1f77b4;stroke:#1f77b4;\" x=\"82.847622\" xlink:href=\"#m5e6e37c582\" y=\"159.96375\"/>\r\n     <use style=\"fill:#1f77b4;stroke:#1f77b4;\" x=\"83.606633\" xlink:href=\"#m5e6e37c582\" y=\"161.672815\"/>\r\n     <use style=\"fill:#1f77b4;stroke:#1f77b4;\" x=\"84.365645\" xlink:href=\"#m5e6e37c582\" y=\"166.201839\"/>\r\n     <use style=\"fill:#1f77b4;stroke:#1f77b4;\" x=\"85.124656\" xlink:href=\"#m5e6e37c582\" y=\"171.499941\"/>\r\n     <use style=\"fill:#1f77b4;stroke:#1f77b4;\" x=\"85.883668\" xlink:href=\"#m5e6e37c582\" y=\"173.0381\"/>\r\n     <use style=\"fill:#1f77b4;stroke:#1f77b4;\" x=\"86.64268\" xlink:href=\"#m5e6e37c582\" y=\"172.696287\"/>\r\n     <use style=\"fill:#1f77b4;stroke:#1f77b4;\" x=\"87.401691\" xlink:href=\"#m5e6e37c582\" y=\"172.525381\"/>\r\n     <use style=\"fill:#1f77b4;stroke:#1f77b4;\" x=\"88.160703\" xlink:href=\"#m5e6e37c582\" y=\"175.815331\"/>\r\n     <use style=\"fill:#1f77b4;stroke:#1f77b4;\" x=\"88.919714\" xlink:href=\"#m5e6e37c582\" y=\"178.165296\"/>\r\n     <use style=\"fill:#1f77b4;stroke:#1f77b4;\" x=\"89.678726\" xlink:href=\"#m5e6e37c582\" y=\"180.643441\"/>\r\n     <use style=\"fill:#1f77b4;stroke:#1f77b4;\" x=\"90.437737\" xlink:href=\"#m5e6e37c582\" y=\"182.822499\"/>\r\n     <use style=\"fill:#1f77b4;stroke:#1f77b4;\" x=\"91.196749\" xlink:href=\"#m5e6e37c582\" y=\"183.377946\"/>\r\n     <use style=\"fill:#1f77b4;stroke:#1f77b4;\" x=\"91.955761\" xlink:href=\"#m5e6e37c582\" y=\"182.779773\"/>\r\n     <use style=\"fill:#1f77b4;stroke:#1f77b4;\" x=\"92.714772\" xlink:href=\"#m5e6e37c582\" y=\"186.026997\"/>\r\n     <use style=\"fill:#1f77b4;stroke:#1f77b4;\" x=\"93.473784\" xlink:href=\"#m5e6e37c582\" y=\"189.103315\"/>\r\n     <use style=\"fill:#1f77b4;stroke:#1f77b4;\" x=\"94.232795\" xlink:href=\"#m5e6e37c582\" y=\"192.265086\"/>\r\n     <use style=\"fill:#1f77b4;stroke:#1f77b4;\" x=\"94.991807\" xlink:href=\"#m5e6e37c582\" y=\"195.085043\"/>\r\n     <use style=\"fill:#1f77b4;stroke:#1f77b4;\" x=\"95.750818\" xlink:href=\"#m5e6e37c582\" y=\"197.306828\"/>\r\n     <use style=\"fill:#1f77b4;stroke:#1f77b4;\" x=\"96.50983\" xlink:href=\"#m5e6e37c582\" y=\"197.477735\"/>\r\n     <use style=\"fill:#1f77b4;stroke:#1f77b4;\" x=\"97.268841\" xlink:href=\"#m5e6e37c582\" y=\"197.306828\"/>\r\n     <use style=\"fill:#1f77b4;stroke:#1f77b4;\" x=\"98.027853\" xlink:href=\"#m5e6e37c582\" y=\"197.819548\"/>\r\n     <use style=\"fill:#1f77b4;stroke:#1f77b4;\" x=\"98.786865\" xlink:href=\"#m5e6e37c582\" y=\"200.126786\"/>\r\n     <use style=\"fill:#1f77b4;stroke:#1f77b4;\" x=\"99.545876\" xlink:href=\"#m5e6e37c582\" y=\"200.21224\"/>\r\n     <use style=\"fill:#1f77b4;stroke:#1f77b4;\" x=\"100.304888\" xlink:href=\"#m5e6e37c582\" y=\"202.775838\"/>\r\n     <use style=\"fill:#1f77b4;stroke:#1f77b4;\" x=\"101.063899\" xlink:href=\"#m5e6e37c582\" y=\"204.65581\"/>\r\n     <use style=\"fill:#1f77b4;stroke:#1f77b4;\" x=\"101.822911\" xlink:href=\"#m5e6e37c582\" y=\"205.083076\"/>\r\n     <use style=\"fill:#1f77b4;stroke:#1f77b4;\" x=\"102.581922\" xlink:href=\"#m5e6e37c582\" y=\"205.168529\"/>\r\n     <use style=\"fill:#1f77b4;stroke:#1f77b4;\" x=\"103.340934\" xlink:href=\"#m5e6e37c582\" y=\"206.963048\"/>\r\n     <use style=\"fill:#1f77b4;stroke:#1f77b4;\" x=\"104.099946\" xlink:href=\"#m5e6e37c582\" y=\"208.07394\"/>\r\n     <use style=\"fill:#1f77b4;stroke:#1f77b4;\" x=\"104.858957\" xlink:href=\"#m5e6e37c582\" y=\"209.441193\"/>\r\n     <use style=\"fill:#1f77b4;stroke:#1f77b4;\" x=\"105.617969\" xlink:href=\"#m5e6e37c582\" y=\"209.953912\"/>\r\n     <use style=\"fill:#1f77b4;stroke:#1f77b4;\" x=\"106.37698\" xlink:href=\"#m5e6e37c582\" y=\"209.526646\"/>\r\n     <use style=\"fill:#1f77b4;stroke:#1f77b4;\" x=\"107.135992\" xlink:href=\"#m5e6e37c582\" y=\"210.039366\"/>\r\n     <use style=\"fill:#1f77b4;stroke:#1f77b4;\" x=\"107.895003\" xlink:href=\"#m5e6e37c582\" y=\"209.911186\"/>\r\n     <use style=\"fill:#1f77b4;stroke:#1f77b4;\" x=\"108.654015\" xlink:href=\"#m5e6e37c582\" y=\"210.765718\"/>\r\n     <use style=\"fill:#1f77b4;stroke:#1f77b4;\" x=\"109.413026\" xlink:href=\"#m5e6e37c582\" y=\"211.492071\"/>\r\n     <use style=\"fill:#1f77b4;stroke:#1f77b4;\" x=\"110.172038\" xlink:href=\"#m5e6e37c582\" y=\"211.833884\"/>\r\n     <use style=\"fill:#1f77b4;stroke:#1f77b4;\" x=\"110.93105\" xlink:href=\"#m5e6e37c582\" y=\"213.28659\"/>\r\n     <use style=\"fill:#1f77b4;stroke:#1f77b4;\" x=\"111.690061\" xlink:href=\"#m5e6e37c582\" y=\"213.54295\"/>\r\n     <use style=\"fill:#1f77b4;stroke:#1f77b4;\" x=\"112.449073\" xlink:href=\"#m5e6e37c582\" y=\"214.141122\"/>\r\n     <use style=\"fill:#1f77b4;stroke:#1f77b4;\" x=\"113.208084\" xlink:href=\"#m5e6e37c582\" y=\"214.653842\"/>\r\n     <use style=\"fill:#1f77b4;stroke:#1f77b4;\" x=\"113.967096\" xlink:href=\"#m5e6e37c582\" y=\"214.568389\"/>\r\n     <use style=\"fill:#1f77b4;stroke:#1f77b4;\" x=\"114.726107\" xlink:href=\"#m5e6e37c582\" y=\"214.397482\"/>\r\n     <use style=\"fill:#1f77b4;stroke:#1f77b4;\" x=\"115.485119\" xlink:href=\"#m5e6e37c582\" y=\"215.935641\"/>\r\n     <use style=\"fill:#1f77b4;stroke:#1f77b4;\" x=\"116.244131\" xlink:href=\"#m5e6e37c582\" y=\"217.21744\"/>\r\n     <use style=\"fill:#1f77b4;stroke:#1f77b4;\" x=\"117.003142\" xlink:href=\"#m5e6e37c582\" y=\"219.054685\"/>\r\n     <use style=\"fill:#1f77b4;stroke:#1f77b4;\" x=\"117.762154\" xlink:href=\"#m5e6e37c582\" y=\"219.951945\"/>\r\n     <use style=\"fill:#1f77b4;stroke:#1f77b4;\" x=\"118.521165\" xlink:href=\"#m5e6e37c582\" y=\"219.951945\"/>\r\n     <use style=\"fill:#1f77b4;stroke:#1f77b4;\" x=\"119.280177\" xlink:href=\"#m5e6e37c582\" y=\"220.208304\"/>\r\n     <use style=\"fill:#1f77b4;stroke:#1f77b4;\" x=\"120.039188\" xlink:href=\"#m5e6e37c582\" y=\"220.550118\"/>\r\n     <use style=\"fill:#1f77b4;stroke:#1f77b4;\" x=\"120.7982\" xlink:href=\"#m5e6e37c582\" y=\"221.746463\"/>\r\n     <use style=\"fill:#1f77b4;stroke:#1f77b4;\" x=\"121.557211\" xlink:href=\"#m5e6e37c582\" y=\"222.088276\"/>\r\n     <use style=\"fill:#1f77b4;stroke:#1f77b4;\" x=\"122.316223\" xlink:href=\"#m5e6e37c582\" y=\"223.113716\"/>\r\n     <use style=\"fill:#1f77b4;stroke:#1f77b4;\" x=\"123.075235\" xlink:href=\"#m5e6e37c582\" y=\"223.028262\"/>\r\n     <use style=\"fill:#1f77b4;stroke:#1f77b4;\" x=\"123.834246\" xlink:href=\"#m5e6e37c582\" y=\"223.113716\"/>\r\n     <use style=\"fill:#1f77b4;stroke:#1f77b4;\" x=\"124.593258\" xlink:href=\"#m5e6e37c582\" y=\"223.711888\"/>\r\n     <use style=\"fill:#1f77b4;stroke:#1f77b4;\" x=\"125.352269\" xlink:href=\"#m5e6e37c582\" y=\"225.250047\"/>\r\n     <use style=\"fill:#1f77b4;stroke:#1f77b4;\" x=\"126.111281\" xlink:href=\"#m5e6e37c582\" y=\"225.506407\"/>\r\n     <use style=\"fill:#1f77b4;stroke:#1f77b4;\" x=\"126.870292\" xlink:href=\"#m5e6e37c582\" y=\"226.019127\"/>\r\n     <use style=\"fill:#1f77b4;stroke:#1f77b4;\" x=\"127.629304\" xlink:href=\"#m5e6e37c582\" y=\"226.10458\"/>\r\n     <use style=\"fill:#1f77b4;stroke:#1f77b4;\" x=\"128.388316\" xlink:href=\"#m5e6e37c582\" y=\"226.446393\"/>\r\n     <use style=\"fill:#1f77b4;stroke:#1f77b4;\" x=\"129.147327\" xlink:href=\"#m5e6e37c582\" y=\"226.36094\"/>\r\n     <use style=\"fill:#1f77b4;stroke:#1f77b4;\" x=\"129.906339\" xlink:href=\"#m5e6e37c582\" y=\"226.36094\"/>\r\n     <use style=\"fill:#1f77b4;stroke:#1f77b4;\" x=\"130.66535\" xlink:href=\"#m5e6e37c582\" y=\"226.6173\"/>\r\n     <use style=\"fill:#1f77b4;stroke:#1f77b4;\" x=\"131.424362\" xlink:href=\"#m5e6e37c582\" y=\"227.044566\"/>\r\n     <use style=\"fill:#1f77b4;stroke:#1f77b4;\" x=\"132.183373\" xlink:href=\"#m5e6e37c582\" y=\"227.215473\"/>\r\n     <use style=\"fill:#1f77b4;stroke:#1f77b4;\" x=\"132.942385\" xlink:href=\"#m5e6e37c582\" y=\"227.642739\"/>\r\n     <use style=\"fill:#1f77b4;stroke:#1f77b4;\" x=\"133.701396\" xlink:href=\"#m5e6e37c582\" y=\"228.326365\"/>\r\n     <use style=\"fill:#1f77b4;stroke:#1f77b4;\" x=\"134.460408\" xlink:href=\"#m5e6e37c582\" y=\"228.070005\"/>\r\n     <use style=\"fill:#1f77b4;stroke:#1f77b4;\" x=\"135.21942\" xlink:href=\"#m5e6e37c582\" y=\"228.326365\"/>\r\n     <use style=\"fill:#1f77b4;stroke:#1f77b4;\" x=\"135.978431\" xlink:href=\"#m5e6e37c582\" y=\"228.668178\"/>\r\n     <use style=\"fill:#1f77b4;stroke:#1f77b4;\" x=\"136.737443\" xlink:href=\"#m5e6e37c582\" y=\"229.009991\"/>\r\n     <use style=\"fill:#1f77b4;stroke:#1f77b4;\" x=\"137.496454\" xlink:href=\"#m5e6e37c582\" y=\"229.266351\"/>\r\n     <use style=\"fill:#1f77b4;stroke:#1f77b4;\" x=\"138.255466\" xlink:href=\"#m5e6e37c582\" y=\"229.864524\"/>\r\n     <use style=\"fill:#1f77b4;stroke:#1f77b4;\" x=\"139.014477\" xlink:href=\"#m5e6e37c582\" y=\"229.864524\"/>\r\n     <use style=\"fill:#1f77b4;stroke:#1f77b4;\" x=\"139.773489\" xlink:href=\"#m5e6e37c582\" y=\"229.864524\"/>\r\n     <use style=\"fill:#1f77b4;stroke:#1f77b4;\" x=\"140.532501\" xlink:href=\"#m5e6e37c582\" y=\"229.864524\"/>\r\n     <use style=\"fill:#1f77b4;stroke:#1f77b4;\" x=\"141.291512\" xlink:href=\"#m5e6e37c582\" y=\"229.949977\"/>\r\n     <use style=\"fill:#1f77b4;stroke:#1f77b4;\" x=\"142.050524\" xlink:href=\"#m5e6e37c582\" y=\"230.03543\"/>\r\n     <use style=\"fill:#1f77b4;stroke:#1f77b4;\" x=\"142.809535\" xlink:href=\"#m5e6e37c582\" y=\"230.377243\"/>\r\n     <use style=\"fill:#1f77b4;stroke:#1f77b4;\" x=\"143.568547\" xlink:href=\"#m5e6e37c582\" y=\"230.889963\"/>\r\n     <use style=\"fill:#1f77b4;stroke:#1f77b4;\" x=\"144.327558\" xlink:href=\"#m5e6e37c582\" y=\"230.80451\"/>\r\n     <use style=\"fill:#1f77b4;stroke:#1f77b4;\" x=\"145.08657\" xlink:href=\"#m5e6e37c582\" y=\"230.889963\"/>\r\n     <use style=\"fill:#1f77b4;stroke:#1f77b4;\" x=\"145.845581\" xlink:href=\"#m5e6e37c582\" y=\"230.719057\"/>\r\n     <use style=\"fill:#1f77b4;stroke:#1f77b4;\" x=\"146.604593\" xlink:href=\"#m5e6e37c582\" y=\"230.719057\"/>\r\n     <use style=\"fill:#1f77b4;stroke:#1f77b4;\" x=\"147.363605\" xlink:href=\"#m5e6e37c582\" y=\"230.889963\"/>\r\n     <use style=\"fill:#1f77b4;stroke:#1f77b4;\" x=\"148.122616\" xlink:href=\"#m5e6e37c582\" y=\"231.06087\"/>\r\n     <use style=\"fill:#1f77b4;stroke:#1f77b4;\" x=\"148.881628\" xlink:href=\"#m5e6e37c582\" y=\"231.317229\"/>\r\n     <use style=\"fill:#1f77b4;stroke:#1f77b4;\" x=\"149.640639\" xlink:href=\"#m5e6e37c582\" y=\"231.146323\"/>\r\n     <use style=\"fill:#1f77b4;stroke:#1f77b4;\" x=\"150.399651\" xlink:href=\"#m5e6e37c582\" y=\"231.146323\"/>\r\n     <use style=\"fill:#1f77b4;stroke:#1f77b4;\" x=\"151.158662\" xlink:href=\"#m5e6e37c582\" y=\"231.231776\"/>\r\n     <use style=\"fill:#1f77b4;stroke:#1f77b4;\" x=\"151.917674\" xlink:href=\"#m5e6e37c582\" y=\"231.317229\"/>\r\n     <use style=\"fill:#1f77b4;stroke:#1f77b4;\" x=\"152.676686\" xlink:href=\"#m5e6e37c582\" y=\"231.06087\"/>\r\n     <use style=\"fill:#1f77b4;stroke:#1f77b4;\" x=\"153.435697\" xlink:href=\"#m5e6e37c582\" y=\"231.317229\"/>\r\n     <use style=\"fill:#1f77b4;stroke:#1f77b4;\" x=\"154.194709\" xlink:href=\"#m5e6e37c582\" y=\"231.402683\"/>\r\n     <use style=\"fill:#1f77b4;stroke:#1f77b4;\" x=\"154.95372\" xlink:href=\"#m5e6e37c582\" y=\"231.317229\"/>\r\n     <use style=\"fill:#1f77b4;stroke:#1f77b4;\" x=\"155.712732\" xlink:href=\"#m5e6e37c582\" y=\"231.231776\"/>\r\n     <use style=\"fill:#1f77b4;stroke:#1f77b4;\" x=\"156.471743\" xlink:href=\"#m5e6e37c582\" y=\"230.889963\"/>\r\n     <use style=\"fill:#1f77b4;stroke:#1f77b4;\" x=\"157.230755\" xlink:href=\"#m5e6e37c582\" y=\"231.06087\"/>\r\n     <use style=\"fill:#1f77b4;stroke:#1f77b4;\" x=\"157.989766\" xlink:href=\"#m5e6e37c582\" y=\"230.80451\"/>\r\n     <use style=\"fill:#1f77b4;stroke:#1f77b4;\" x=\"158.748778\" xlink:href=\"#m5e6e37c582\" y=\"230.633603\"/>\r\n     <use style=\"fill:#1f77b4;stroke:#1f77b4;\" x=\"159.50779\" xlink:href=\"#m5e6e37c582\" y=\"230.462697\"/>\r\n     <use style=\"fill:#1f77b4;stroke:#1f77b4;\" x=\"160.266801\" xlink:href=\"#m5e6e37c582\" y=\"230.462697\"/>\r\n     <use style=\"fill:#1f77b4;stroke:#1f77b4;\" x=\"161.025813\" xlink:href=\"#m5e6e37c582\" y=\"230.462697\"/>\r\n     <use style=\"fill:#1f77b4;stroke:#1f77b4;\" x=\"161.784824\" xlink:href=\"#m5e6e37c582\" y=\"230.377243\"/>\r\n     <use style=\"fill:#1f77b4;stroke:#1f77b4;\" x=\"162.543836\" xlink:href=\"#m5e6e37c582\" y=\"230.206337\"/>\r\n     <use style=\"fill:#1f77b4;stroke:#1f77b4;\" x=\"163.302847\" xlink:href=\"#m5e6e37c582\" y=\"230.719057\"/>\r\n     <use style=\"fill:#1f77b4;stroke:#1f77b4;\" x=\"164.061859\" xlink:href=\"#m5e6e37c582\" y=\"230.719057\"/>\r\n     <use style=\"fill:#1f77b4;stroke:#1f77b4;\" x=\"164.82087\" xlink:href=\"#m5e6e37c582\" y=\"230.80451\"/>\r\n     <use style=\"fill:#1f77b4;stroke:#1f77b4;\" x=\"165.579882\" xlink:href=\"#m5e6e37c582\" y=\"230.80451\"/>\r\n     <use style=\"fill:#1f77b4;stroke:#1f77b4;\" x=\"166.338894\" xlink:href=\"#m5e6e37c582\" y=\"230.80451\"/>\r\n     <use style=\"fill:#1f77b4;stroke:#1f77b4;\" x=\"167.097905\" xlink:href=\"#m5e6e37c582\" y=\"230.377243\"/>\r\n     <use style=\"fill:#1f77b4;stroke:#1f77b4;\" x=\"167.856917\" xlink:href=\"#m5e6e37c582\" y=\"230.206337\"/>\r\n     <use style=\"fill:#1f77b4;stroke:#1f77b4;\" x=\"168.615928\" xlink:href=\"#m5e6e37c582\" y=\"230.29179\"/>\r\n     <use style=\"fill:#1f77b4;stroke:#1f77b4;\" x=\"169.37494\" xlink:href=\"#m5e6e37c582\" y=\"230.03543\"/>\r\n     <use style=\"fill:#1f77b4;stroke:#1f77b4;\" x=\"170.133951\" xlink:href=\"#m5e6e37c582\" y=\"229.949977\"/>\r\n     <use style=\"fill:#1f77b4;stroke:#1f77b4;\" x=\"170.892963\" xlink:href=\"#m5e6e37c582\" y=\"229.095444\"/>\r\n     <use style=\"fill:#1f77b4;stroke:#1f77b4;\" x=\"171.651975\" xlink:href=\"#m5e6e37c582\" y=\"229.095444\"/>\r\n     <use style=\"fill:#1f77b4;stroke:#1f77b4;\" x=\"172.410986\" xlink:href=\"#m5e6e37c582\" y=\"229.351804\"/>\r\n     <use style=\"fill:#1f77b4;stroke:#1f77b4;\" x=\"173.169998\" xlink:href=\"#m5e6e37c582\" y=\"228.668178\"/>\r\n     <use style=\"fill:#1f77b4;stroke:#1f77b4;\" x=\"173.929009\" xlink:href=\"#m5e6e37c582\" y=\"227.557286\"/>\r\n     <use style=\"fill:#1f77b4;stroke:#1f77b4;\" x=\"174.688021\" xlink:href=\"#m5e6e37c582\" y=\"227.172746\"/>\r\n     <use style=\"fill:#1f77b4;stroke:#1f77b4;\" x=\"175.447032\" xlink:href=\"#m5e6e37c582\" y=\"226.6173\"/>\r\n     <use style=\"fill:#1f77b4;stroke:#1f77b4;\" x=\"176.206044\" xlink:href=\"#m5e6e37c582\" y=\"226.36094\"/>\r\n     <use style=\"fill:#1f77b4;stroke:#1f77b4;\" x=\"176.965055\" xlink:href=\"#m5e6e37c582\" y=\"226.275487\"/>\r\n     <use style=\"fill:#1f77b4;stroke:#1f77b4;\" x=\"177.724067\" xlink:href=\"#m5e6e37c582\" y=\"225.84822\"/>\r\n     <use style=\"fill:#1f77b4;stroke:#1f77b4;\" x=\"178.483079\" xlink:href=\"#m5e6e37c582\" y=\"225.677314\"/>\r\n     <use style=\"fill:#1f77b4;stroke:#1f77b4;\" x=\"179.24209\" xlink:href=\"#m5e6e37c582\" y=\"225.079141\"/>\r\n     <use style=\"fill:#1f77b4;stroke:#1f77b4;\" x=\"180.001102\" xlink:href=\"#m5e6e37c582\" y=\"224.224608\"/>\r\n     <use style=\"fill:#1f77b4;stroke:#1f77b4;\" x=\"180.760113\" xlink:href=\"#m5e6e37c582\" y=\"223.113716\"/>\r\n     <use style=\"fill:#1f77b4;stroke:#1f77b4;\" x=\"181.519125\" xlink:href=\"#m5e6e37c582\" y=\"222.942809\"/>\r\n     <use style=\"fill:#1f77b4;stroke:#1f77b4;\" x=\"182.278136\" xlink:href=\"#m5e6e37c582\" y=\"222.857356\"/>\r\n     <use style=\"fill:#1f77b4;stroke:#1f77b4;\" x=\"183.037148\" xlink:href=\"#m5e6e37c582\" y=\"222.088276\"/>\r\n     <use style=\"fill:#1f77b4;stroke:#1f77b4;\" x=\"183.79616\" xlink:href=\"#m5e6e37c582\" y=\"221.319197\"/>\r\n     <use style=\"fill:#1f77b4;stroke:#1f77b4;\" x=\"184.555171\" xlink:href=\"#m5e6e37c582\" y=\"221.14829\"/>\r\n     <use style=\"fill:#1f77b4;stroke:#1f77b4;\" x=\"185.314183\" xlink:href=\"#m5e6e37c582\" y=\"220.122851\"/>\r\n     <use style=\"fill:#1f77b4;stroke:#1f77b4;\" x=\"186.073194\" xlink:href=\"#m5e6e37c582\" y=\"220.122851\"/>\r\n     <use style=\"fill:#1f77b4;stroke:#1f77b4;\" x=\"186.832206\" xlink:href=\"#m5e6e37c582\" y=\"220.037398\"/>\r\n     <use style=\"fill:#1f77b4;stroke:#1f77b4;\" x=\"187.591217\" xlink:href=\"#m5e6e37c582\" y=\"220.293758\"/>\r\n     <use style=\"fill:#1f77b4;stroke:#1f77b4;\" x=\"188.350229\" xlink:href=\"#m5e6e37c582\" y=\"219.011959\"/>\r\n     <use style=\"fill:#1f77b4;stroke:#1f77b4;\" x=\"189.10924\" xlink:href=\"#m5e6e37c582\" y=\"218.157426\"/>\r\n     <use style=\"fill:#1f77b4;stroke:#1f77b4;\" x=\"189.868252\" xlink:href=\"#m5e6e37c582\" y=\"217.772886\"/>\r\n     <use style=\"fill:#1f77b4;stroke:#1f77b4;\" x=\"190.627264\" xlink:href=\"#m5e6e37c582\" y=\"216.70472\"/>\r\n     <use style=\"fill:#1f77b4;stroke:#1f77b4;\" x=\"191.386275\" xlink:href=\"#m5e6e37c582\" y=\"216.533814\"/>\r\n     <use style=\"fill:#1f77b4;stroke:#1f77b4;\" x=\"192.145287\" xlink:href=\"#m5e6e37c582\" y=\"215.935641\"/>\r\n     <use style=\"fill:#1f77b4;stroke:#1f77b4;\" x=\"192.904298\" xlink:href=\"#m5e6e37c582\" y=\"215.166562\"/>\r\n     <use style=\"fill:#1f77b4;stroke:#1f77b4;\" x=\"193.66331\" xlink:href=\"#m5e6e37c582\" y=\"211.662978\"/>\r\n     <use style=\"fill:#1f77b4;stroke:#1f77b4;\" x=\"194.422321\" xlink:href=\"#m5e6e37c582\" y=\"211.662978\"/>\r\n     <use style=\"fill:#1f77b4;stroke:#1f77b4;\" x=\"195.181333\" xlink:href=\"#m5e6e37c582\" y=\"210.808445\"/>\r\n     <use style=\"fill:#1f77b4;stroke:#1f77b4;\" x=\"195.940345\" xlink:href=\"#m5e6e37c582\" y=\"209.868459\"/>\r\n     <use style=\"fill:#1f77b4;stroke:#1f77b4;\" x=\"196.699356\" xlink:href=\"#m5e6e37c582\" y=\"209.270286\"/>\r\n     <use style=\"fill:#1f77b4;stroke:#1f77b4;\" x=\"197.458368\" xlink:href=\"#m5e6e37c582\" y=\"209.355739\"/>\r\n     <use style=\"fill:#1f77b4;stroke:#1f77b4;\" x=\"198.217379\" xlink:href=\"#m5e6e37c582\" y=\"209.184833\"/>\r\n     <use style=\"fill:#1f77b4;stroke:#1f77b4;\" x=\"198.976391\" xlink:href=\"#m5e6e37c582\" y=\"207.817581\"/>\r\n     <use style=\"fill:#1f77b4;stroke:#1f77b4;\" x=\"199.735402\" xlink:href=\"#m5e6e37c582\" y=\"208.031214\"/>\r\n     <use style=\"fill:#1f77b4;stroke:#1f77b4;\" x=\"200.494414\" xlink:href=\"#m5e6e37c582\" y=\"207.817581\"/>\r\n     <use style=\"fill:#1f77b4;stroke:#1f77b4;\" x=\"201.253425\" xlink:href=\"#m5e6e37c582\" y=\"205.852155\"/>\r\n     <use style=\"fill:#1f77b4;stroke:#1f77b4;\" x=\"202.012437\" xlink:href=\"#m5e6e37c582\" y=\"205.083076\"/>\r\n     <use style=\"fill:#1f77b4;stroke:#1f77b4;\" x=\"202.771449\" xlink:href=\"#m5e6e37c582\" y=\"204.741263\"/>\r\n     <use style=\"fill:#1f77b4;stroke:#1f77b4;\" x=\"203.53046\" xlink:href=\"#m5e6e37c582\" y=\"204.01491\"/>\r\n     <use style=\"fill:#1f77b4;stroke:#1f77b4;\" x=\"204.289472\" xlink:href=\"#m5e6e37c582\" y=\"202.006758\"/>\r\n     <use style=\"fill:#1f77b4;stroke:#1f77b4;\" x=\"205.048483\" xlink:href=\"#m5e6e37c582\" y=\"201.365859\"/>\r\n     <use style=\"fill:#1f77b4;stroke:#1f77b4;\" x=\"205.807495\" xlink:href=\"#m5e6e37c582\" y=\"199.144074\"/>\r\n     <use style=\"fill:#1f77b4;stroke:#1f77b4;\" x=\"206.566506\" xlink:href=\"#m5e6e37c582\" y=\"198.545901\"/>\r\n     <use style=\"fill:#1f77b4;stroke:#1f77b4;\" x=\"207.325518\" xlink:href=\"#m5e6e37c582\" y=\"197.050469\"/>\r\n     <use style=\"fill:#1f77b4;stroke:#1f77b4;\" x=\"208.08453\" xlink:href=\"#m5e6e37c582\" y=\"197.306828\"/>\r\n     <use style=\"fill:#1f77b4;stroke:#1f77b4;\" x=\"208.843541\" xlink:href=\"#m5e6e37c582\" y=\"195.854123\"/>\r\n     <use style=\"fill:#1f77b4;stroke:#1f77b4;\" x=\"209.602553\" xlink:href=\"#m5e6e37c582\" y=\"194.315964\"/>\r\n     <use style=\"fill:#1f77b4;stroke:#1f77b4;\" x=\"210.361564\" xlink:href=\"#m5e6e37c582\" y=\"193.119618\"/>\r\n     <use style=\"fill:#1f77b4;stroke:#1f77b4;\" x=\"211.120576\" xlink:href=\"#m5e6e37c582\" y=\"192.777805\"/>\r\n     <use style=\"fill:#1f77b4;stroke:#1f77b4;\" x=\"211.879587\" xlink:href=\"#m5e6e37c582\" y=\"190.29966\"/>\r\n     <use style=\"fill:#1f77b4;stroke:#1f77b4;\" x=\"212.638599\" xlink:href=\"#m5e6e37c582\" y=\"187.394249\"/>\r\n     <use style=\"fill:#1f77b4;stroke:#1f77b4;\" x=\"213.39761\" xlink:href=\"#m5e6e37c582\" y=\"186.026997\"/>\r\n     <use style=\"fill:#1f77b4;stroke:#1f77b4;\" x=\"214.156622\" xlink:href=\"#m5e6e37c582\" y=\"185.001558\"/>\r\n     <use style=\"fill:#1f77b4;stroke:#1f77b4;\" x=\"214.915634\" xlink:href=\"#m5e6e37c582\" y=\"181.754334\"/>\r\n     <use style=\"fill:#1f77b4;stroke:#1f77b4;\" x=\"215.674645\" xlink:href=\"#m5e6e37c582\" y=\"180.985254\"/>\r\n     <use style=\"fill:#1f77b4;stroke:#1f77b4;\" x=\"216.433657\" xlink:href=\"#m5e6e37c582\" y=\"178.549836\"/>\r\n     <use style=\"fill:#1f77b4;stroke:#1f77b4;\" x=\"217.192668\" xlink:href=\"#m5e6e37c582\" y=\"178.25075\"/>\r\n     <use style=\"fill:#1f77b4;stroke:#1f77b4;\" x=\"217.95168\" xlink:href=\"#m5e6e37c582\" y=\"174.148993\"/>\r\n     <use style=\"fill:#1f77b4;stroke:#1f77b4;\" x=\"218.710691\" xlink:href=\"#m5e6e37c582\" y=\"172.952647\"/>\r\n     <use style=\"fill:#1f77b4;stroke:#1f77b4;\" x=\"219.469703\" xlink:href=\"#m5e6e37c582\" y=\"167.227278\"/>\r\n     <use style=\"fill:#1f77b4;stroke:#1f77b4;\" x=\"220.228715\" xlink:href=\"#m5e6e37c582\" y=\"162.441895\"/>\r\n     <use style=\"fill:#1f77b4;stroke:#1f77b4;\" x=\"220.987726\" xlink:href=\"#m5e6e37c582\" y=\"161.031916\"/>\r\n     <use style=\"fill:#1f77b4;stroke:#1f77b4;\" x=\"221.746738\" xlink:href=\"#m5e6e37c582\" y=\"154.281108\"/>\r\n     <use style=\"fill:#1f77b4;stroke:#1f77b4;\" x=\"222.505749\" xlink:href=\"#m5e6e37c582\" y=\"153.212942\"/>\r\n     <use style=\"fill:#1f77b4;stroke:#1f77b4;\" x=\"223.264761\" xlink:href=\"#m5e6e37c582\" y=\"147.188486\"/>\r\n     <use style=\"fill:#1f77b4;stroke:#1f77b4;\" x=\"224.023772\" xlink:href=\"#m5e6e37c582\" y=\"145.992141\"/>\r\n     <use style=\"fill:#1f77b4;stroke:#1f77b4;\" x=\"224.782784\" xlink:href=\"#m5e6e37c582\" y=\"138.685886\"/>\r\n     <use style=\"fill:#1f77b4;stroke:#1f77b4;\" x=\"225.541795\" xlink:href=\"#m5e6e37c582\" y=\"132.960517\"/>\r\n     <use style=\"fill:#1f77b4;stroke:#1f77b4;\" x=\"226.300807\" xlink:href=\"#m5e6e37c582\" y=\"123.603384\"/>\r\n     <use style=\"fill:#1f77b4;stroke:#1f77b4;\" x=\"227.059819\" xlink:href=\"#m5e6e37c582\" y=\"117.749835\"/>\r\n     <use style=\"fill:#1f77b4;stroke:#1f77b4;\" x=\"227.81883\" xlink:href=\"#m5e6e37c582\" y=\"109.631775\"/>\r\n     <use style=\"fill:#1f77b4;stroke:#1f77b4;\" x=\"228.577842\" xlink:href=\"#m5e6e37c582\" y=\"108.349976\"/>\r\n     <use style=\"fill:#1f77b4;stroke:#1f77b4;\" x=\"229.336853\" xlink:href=\"#m5e6e37c582\" y=\"103.820953\"/>\r\n     <use style=\"fill:#1f77b4;stroke:#1f77b4;\" x=\"230.095865\" xlink:href=\"#m5e6e37c582\" y=\"97.924677\"/>\r\n     <use style=\"fill:#1f77b4;stroke:#1f77b4;\" x=\"230.854876\" xlink:href=\"#m5e6e37c582\" y=\"92.327488\"/>\r\n     <use style=\"fill:#1f77b4;stroke:#1f77b4;\" x=\"231.613888\" xlink:href=\"#m5e6e37c582\" y=\"86.858479\"/>\r\n     <use style=\"fill:#1f77b4;stroke:#1f77b4;\" x=\"232.3729\" xlink:href=\"#m5e6e37c582\" y=\"74.211395\"/>\r\n     <use style=\"fill:#1f77b4;stroke:#1f77b4;\" x=\"233.131911\" xlink:href=\"#m5e6e37c582\" y=\"70.066911\"/>\r\n     <use style=\"fill:#1f77b4;stroke:#1f77b4;\" x=\"233.890923\" xlink:href=\"#m5e6e37c582\" y=\"67.246954\"/>\r\n     <use style=\"fill:#1f77b4;stroke:#1f77b4;\" x=\"234.649934\" xlink:href=\"#m5e6e37c582\" y=\"66.178788\"/>\r\n     <use style=\"fill:#1f77b4;stroke:#1f77b4;\" x=\"235.408946\" xlink:href=\"#m5e6e37c582\" y=\"62.760657\"/>\r\n     <use style=\"fill:#1f77b4;stroke:#1f77b4;\" x=\"236.167957\" xlink:href=\"#m5e6e37c582\" y=\"57.120741\"/>\r\n     <use style=\"fill:#1f77b4;stroke:#1f77b4;\" x=\"236.926969\" xlink:href=\"#m5e6e37c582\" y=\"54.941683\"/>\r\n     <use style=\"fill:#1f77b4;stroke:#1f77b4;\" x=\"237.68598\" xlink:href=\"#m5e6e37c582\" y=\"52.420811\"/>\r\n     <use style=\"fill:#1f77b4;stroke:#1f77b4;\" x=\"238.444992\" xlink:href=\"#m5e6e37c582\" y=\"47.635428\"/>\r\n     <use style=\"fill:#1f77b4;stroke:#1f77b4;\" x=\"239.204004\" xlink:href=\"#m5e6e37c582\" y=\"46.567263\"/>\r\n     <use style=\"fill:#1f77b4;stroke:#1f77b4;\" x=\"239.963015\" xlink:href=\"#m5e6e37c582\" y=\"49.729033\"/>\r\n     <use style=\"fill:#1f77b4;stroke:#1f77b4;\" x=\"240.722027\" xlink:href=\"#m5e6e37c582\" y=\"47.592702\"/>\r\n     <use style=\"fill:#1f77b4;stroke:#1f77b4;\" x=\"241.481038\" xlink:href=\"#m5e6e37c582\" y=\"45.883636\"/>\r\n     <use style=\"fill:#1f77b4;stroke:#1f77b4;\" x=\"242.24005\" xlink:href=\"#m5e6e37c582\" y=\"48.019968\"/>\r\n     <use style=\"fill:#1f77b4;stroke:#1f77b4;\" x=\"242.999061\" xlink:href=\"#m5e6e37c582\" y=\"52.036272\"/>\r\n     <use style=\"fill:#1f77b4;stroke:#1f77b4;\" x=\"243.758073\" xlink:href=\"#m5e6e37c582\" y=\"56.565295\"/>\r\n     <use style=\"fill:#1f77b4;stroke:#1f77b4;\" x=\"244.517085\" xlink:href=\"#m5e6e37c582\" y=\"61.906124\"/>\r\n     <use style=\"fill:#1f77b4;stroke:#1f77b4;\" x=\"245.276096\" xlink:href=\"#m5e6e37c582\" y=\"65.110622\"/>\r\n     <use style=\"fill:#1f77b4;stroke:#1f77b4;\" x=\"246.035108\" xlink:href=\"#m5e6e37c582\" y=\"64.555176\"/>\r\n     <use style=\"fill:#1f77b4;stroke:#1f77b4;\" x=\"246.794119\" xlink:href=\"#m5e6e37c582\" y=\"67.1615\"/>\r\n     <use style=\"fill:#1f77b4;stroke:#1f77b4;\" x=\"247.553131\" xlink:href=\"#m5e6e37c582\" y=\"74.382301\"/>\r\n     <use style=\"fill:#1f77b4;stroke:#1f77b4;\" x=\"248.312142\" xlink:href=\"#m5e6e37c582\" y=\"79.167685\"/>\r\n     <use style=\"fill:#1f77b4;stroke:#1f77b4;\" x=\"249.071154\" xlink:href=\"#m5e6e37c582\" y=\"83.739434\"/>\r\n     <use style=\"fill:#1f77b4;stroke:#1f77b4;\" x=\"249.830165\" xlink:href=\"#m5e6e37c582\" y=\"87.755738\"/>\r\n     <use style=\"fill:#1f77b4;stroke:#1f77b4;\" x=\"250.589177\" xlink:href=\"#m5e6e37c582\" y=\"92.028401\"/>\r\n     <use style=\"fill:#1f77b4;stroke:#1f77b4;\" x=\"251.348189\" xlink:href=\"#m5e6e37c582\" y=\"91.601135\"/>\r\n     <use style=\"fill:#1f77b4;stroke:#1f77b4;\" x=\"252.1072\" xlink:href=\"#m5e6e37c582\" y=\"90.575696\"/>\r\n     <use style=\"fill:#1f77b4;stroke:#1f77b4;\" x=\"252.866212\" xlink:href=\"#m5e6e37c582\" y=\"92.541121\"/>\r\n     <use style=\"fill:#1f77b4;stroke:#1f77b4;\" x=\"253.625223\" xlink:href=\"#m5e6e37c582\" y=\"97.241051\"/>\r\n     <use style=\"fill:#1f77b4;stroke:#1f77b4;\" x=\"254.384235\" xlink:href=\"#m5e6e37c582\" y=\"100.915541\"/>\r\n     <use style=\"fill:#1f77b4;stroke:#1f77b4;\" x=\"255.143246\" xlink:href=\"#m5e6e37c582\" y=\"103.393686\"/>\r\n     <use style=\"fill:#1f77b4;stroke:#1f77b4;\" x=\"255.902258\" xlink:href=\"#m5e6e37c582\" y=\"106.384551\"/>\r\n     <use style=\"fill:#1f77b4;stroke:#1f77b4;\" x=\"256.66127\" xlink:href=\"#m5e6e37c582\" y=\"106.085464\"/>\r\n     <use style=\"fill:#1f77b4;stroke:#1f77b4;\" x=\"257.420281\" xlink:href=\"#m5e6e37c582\" y=\"107.324537\"/>\r\n     <use style=\"fill:#1f77b4;stroke:#1f77b4;\" x=\"258.179293\" xlink:href=\"#m5e6e37c582\" y=\"109.973588\"/>\r\n     <use style=\"fill:#1f77b4;stroke:#1f77b4;\" x=\"258.938304\" xlink:href=\"#m5e6e37c582\" y=\"109.973588\"/>\r\n     <use style=\"fill:#1f77b4;stroke:#1f77b4;\" x=\"259.697316\" xlink:href=\"#m5e6e37c582\" y=\"111.939013\"/>\r\n     <use style=\"fill:#1f77b4;stroke:#1f77b4;\" x=\"260.456327\" xlink:href=\"#m5e6e37c582\" y=\"115.485324\"/>\r\n     <use style=\"fill:#1f77b4;stroke:#1f77b4;\" x=\"261.215339\" xlink:href=\"#m5e6e37c582\" y=\"115.314417\"/>\r\n     <use style=\"fill:#1f77b4;stroke:#1f77b4;\" x=\"261.97435\" xlink:href=\"#m5e6e37c582\" y=\"114.844424\"/>\r\n     <use style=\"fill:#1f77b4;stroke:#1f77b4;\" x=\"262.733362\" xlink:href=\"#m5e6e37c582\" y=\"113.178085\"/>\r\n     <use style=\"fill:#1f77b4;stroke:#1f77b4;\" x=\"263.492374\" xlink:href=\"#m5e6e37c582\" y=\"116.681669\"/>\r\n     <use style=\"fill:#1f77b4;stroke:#1f77b4;\" x=\"264.251385\" xlink:href=\"#m5e6e37c582\" y=\"118.305282\"/>\r\n     <use style=\"fill:#1f77b4;stroke:#1f77b4;\" x=\"265.010397\" xlink:href=\"#m5e6e37c582\" y=\"120.697973\"/>\r\n     <use style=\"fill:#1f77b4;stroke:#1f77b4;\" x=\"265.769408\" xlink:href=\"#m5e6e37c582\" y=\"122.919758\"/>\r\n     <use style=\"fill:#1f77b4;stroke:#1f77b4;\" x=\"266.52842\" xlink:href=\"#m5e6e37c582\" y=\"124.116104\"/>\r\n     <use style=\"fill:#1f77b4;stroke:#1f77b4;\" x=\"267.287431\" xlink:href=\"#m5e6e37c582\" y=\"124.030651\"/>\r\n     <use style=\"fill:#1f77b4;stroke:#1f77b4;\" x=\"268.046443\" xlink:href=\"#m5e6e37c582\" y=\"122.663398\"/>\r\n     <use style=\"fill:#1f77b4;stroke:#1f77b4;\" x=\"268.805454\" xlink:href=\"#m5e6e37c582\" y=\"124.92791\"/>\r\n     <use style=\"fill:#1f77b4;stroke:#1f77b4;\" x=\"269.564466\" xlink:href=\"#m5e6e37c582\" y=\"125.953349\"/>\r\n     <use style=\"fill:#1f77b4;stroke:#1f77b4;\" x=\"270.323478\" xlink:href=\"#m5e6e37c582\" y=\"129.969653\"/>\r\n     <use style=\"fill:#1f77b4;stroke:#1f77b4;\" x=\"271.082489\" xlink:href=\"#m5e6e37c582\" y=\"132.276891\"/>\r\n     <use style=\"fill:#1f77b4;stroke:#1f77b4;\" x=\"271.841501\" xlink:href=\"#m5e6e37c582\" y=\"133.473237\"/>\r\n     <use style=\"fill:#1f77b4;stroke:#1f77b4;\" x=\"272.600512\" xlink:href=\"#m5e6e37c582\" y=\"132.746884\"/>\r\n     <use style=\"fill:#1f77b4;stroke:#1f77b4;\" x=\"273.359524\" xlink:href=\"#m5e6e37c582\" y=\"131.849625\"/>\r\n     <use style=\"fill:#1f77b4;stroke:#1f77b4;\" x=\"274.118535\" xlink:href=\"#m5e6e37c582\" y=\"132.020531\"/>\r\n     <use style=\"fill:#1f77b4;stroke:#1f77b4;\" x=\"274.877547\" xlink:href=\"#m5e6e37c582\" y=\"134.584129\"/>\r\n     <use style=\"fill:#1f77b4;stroke:#1f77b4;\" x=\"275.636559\" xlink:href=\"#m5e6e37c582\" y=\"132.704157\"/>\r\n     <use style=\"fill:#1f77b4;stroke:#1f77b4;\" x=\"276.39557\" xlink:href=\"#m5e6e37c582\" y=\"134.242316\"/>\r\n     <use style=\"fill:#1f77b4;stroke:#1f77b4;\" x=\"277.154582\" xlink:href=\"#m5e6e37c582\" y=\"131.507812\"/>\r\n     <use style=\"fill:#1f77b4;stroke:#1f77b4;\" x=\"277.913593\" xlink:href=\"#m5e6e37c582\" y=\"129.585113\"/>\r\n     <use style=\"fill:#1f77b4;stroke:#1f77b4;\" x=\"278.672605\" xlink:href=\"#m5e6e37c582\" y=\"128.6024\"/>\r\n     <use style=\"fill:#1f77b4;stroke:#1f77b4;\" x=\"279.431616\" xlink:href=\"#m5e6e37c582\" y=\"127.534235\"/>\r\n     <use style=\"fill:#1f77b4;stroke:#1f77b4;\" x=\"280.190628\" xlink:href=\"#m5e6e37c582\" y=\"130.140559\"/>\r\n     <use style=\"fill:#1f77b4;stroke:#1f77b4;\" x=\"280.949639\" xlink:href=\"#m5e6e37c582\" y=\"129.49966\"/>\r\n     <use style=\"fill:#1f77b4;stroke:#1f77b4;\" x=\"281.708651\" xlink:href=\"#m5e6e37c582\" y=\"128.944214\"/>\r\n     <use style=\"fill:#1f77b4;stroke:#1f77b4;\" x=\"282.467663\" xlink:href=\"#m5e6e37c582\" y=\"130.653279\"/>\r\n     <use style=\"fill:#1f77b4;stroke:#1f77b4;\" x=\"283.226674\" xlink:href=\"#m5e6e37c582\" y=\"128.6024\"/>\r\n     <use style=\"fill:#1f77b4;stroke:#1f77b4;\" x=\"283.985686\" xlink:href=\"#m5e6e37c582\" y=\"123.646111\"/>\r\n     <use style=\"fill:#1f77b4;stroke:#1f77b4;\" x=\"284.744697\" xlink:href=\"#m5e6e37c582\" y=\"121.595232\"/>\r\n     <use style=\"fill:#1f77b4;stroke:#1f77b4;\" x=\"285.503709\" xlink:href=\"#m5e6e37c582\" y=\"120.185253\"/>\r\n     <use style=\"fill:#1f77b4;stroke:#1f77b4;\" x=\"286.26272\" xlink:href=\"#m5e6e37c582\" y=\"117.536202\"/>\r\n     <use style=\"fill:#1f77b4;stroke:#1f77b4;\" x=\"287.021732\" xlink:href=\"#m5e6e37c582\" y=\"116.254403\"/>\r\n     <use style=\"fill:#1f77b4;stroke:#1f77b4;\" x=\"287.780744\" xlink:href=\"#m5e6e37c582\" y=\"116.895303\"/>\r\n     <use style=\"fill:#1f77b4;stroke:#1f77b4;\" x=\"288.539755\" xlink:href=\"#m5e6e37c582\" y=\"114.758971\"/>\r\n     <use style=\"fill:#1f77b4;stroke:#1f77b4;\" x=\"289.298767\" xlink:href=\"#m5e6e37c582\" y=\"108.050889\"/>\r\n     <use style=\"fill:#1f77b4;stroke:#1f77b4;\" x=\"290.057778\" xlink:href=\"#m5e6e37c582\" y=\"105.829104\"/>\r\n     <use style=\"fill:#1f77b4;stroke:#1f77b4;\" x=\"290.81679\" xlink:href=\"#m5e6e37c582\" y=\"102.154614\"/>\r\n     <use style=\"fill:#1f77b4;stroke:#1f77b4;\" x=\"291.575801\" xlink:href=\"#m5e6e37c582\" y=\"101.855527\"/>\r\n     <use style=\"fill:#1f77b4;stroke:#1f77b4;\" x=\"292.334813\" xlink:href=\"#m5e6e37c582\" y=\"97.198324\"/>\r\n     <use style=\"fill:#1f77b4;stroke:#1f77b4;\" x=\"293.093824\" xlink:href=\"#m5e6e37c582\" y=\"98.39467\"/>\r\n     <use style=\"fill:#1f77b4;stroke:#1f77b4;\" x=\"293.852836\" xlink:href=\"#m5e6e37c582\" y=\"96.429245\"/>\r\n     <use style=\"fill:#1f77b4;stroke:#1f77b4;\" x=\"294.611848\" xlink:href=\"#m5e6e37c582\" y=\"92.199308\"/>\r\n     <use style=\"fill:#1f77b4;stroke:#1f77b4;\" x=\"295.370859\" xlink:href=\"#m5e6e37c582\" y=\"89.336623\"/>\r\n     <use style=\"fill:#1f77b4;stroke:#1f77b4;\" x=\"296.129871\" xlink:href=\"#m5e6e37c582\" y=\"88.866631\"/>\r\n     <use style=\"fill:#1f77b4;stroke:#1f77b4;\" x=\"296.888882\" xlink:href=\"#m5e6e37c582\" y=\"86.260306\"/>\r\n     <use style=\"fill:#1f77b4;stroke:#1f77b4;\" x=\"297.647894\" xlink:href=\"#m5e6e37c582\" y=\"82.073096\"/>\r\n     <use style=\"fill:#1f77b4;stroke:#1f77b4;\" x=\"298.406905\" xlink:href=\"#m5e6e37c582\" y=\"81.304016\"/>\r\n     <use style=\"fill:#1f77b4;stroke:#1f77b4;\" x=\"299.165917\" xlink:href=\"#m5e6e37c582\" y=\"79.295864\"/>\r\n     <use style=\"fill:#1f77b4;stroke:#1f77b4;\" x=\"299.924929\" xlink:href=\"#m5e6e37c582\" y=\"76.17682\"/>\r\n     <use style=\"fill:#1f77b4;stroke:#1f77b4;\" x=\"300.68394\" xlink:href=\"#m5e6e37c582\" y=\"77.971339\"/>\r\n     <use style=\"fill:#1f77b4;stroke:#1f77b4;\" x=\"301.442952\" xlink:href=\"#m5e6e37c582\" y=\"75.450467\"/>\r\n     <use style=\"fill:#1f77b4;stroke:#1f77b4;\" x=\"302.201963\" xlink:href=\"#m5e6e37c582\" y=\"76.732266\"/>\r\n     <use style=\"fill:#1f77b4;stroke:#1f77b4;\" x=\"302.960975\" xlink:href=\"#m5e6e37c582\" y=\"76.604086\"/>\r\n     <use style=\"fill:#1f77b4;stroke:#1f77b4;\" x=\"303.719986\" xlink:href=\"#m5e6e37c582\" y=\"77.501346\"/>\r\n     <use style=\"fill:#1f77b4;stroke:#1f77b4;\" x=\"304.478998\" xlink:href=\"#m5e6e37c582\" y=\"75.706827\"/>\r\n     <use style=\"fill:#1f77b4;stroke:#1f77b4;\" x=\"305.238009\" xlink:href=\"#m5e6e37c582\" y=\"72.288696\"/>\r\n     <use style=\"fill:#1f77b4;stroke:#1f77b4;\" x=\"305.997021\" xlink:href=\"#m5e6e37c582\" y=\"75.578647\"/>\r\n     <use style=\"fill:#1f77b4;stroke:#1f77b4;\" x=\"306.756033\" xlink:href=\"#m5e6e37c582\" y=\"73.869582\"/>\r\n     <use style=\"fill:#1f77b4;stroke:#1f77b4;\" x=\"307.515044\" xlink:href=\"#m5e6e37c582\" y=\"77.501346\"/>\r\n     <use style=\"fill:#1f77b4;stroke:#1f77b4;\" x=\"308.274056\" xlink:href=\"#m5e6e37c582\" y=\"81.00493\"/>\r\n     <use style=\"fill:#1f77b4;stroke:#1f77b4;\" x=\"309.033067\" xlink:href=\"#m5e6e37c582\" y=\"82.970355\"/>\r\n     <use style=\"fill:#1f77b4;stroke:#1f77b4;\" x=\"309.792079\" xlink:href=\"#m5e6e37c582\" y=\"82.457635\"/>\r\n     <use style=\"fill:#1f77b4;stroke:#1f77b4;\" x=\"310.55109\" xlink:href=\"#m5e6e37c582\" y=\"84.67942\"/>\r\n     <use style=\"fill:#1f77b4;stroke:#1f77b4;\" x=\"311.310102\" xlink:href=\"#m5e6e37c582\" y=\"89.25117\"/>\r\n     <use style=\"fill:#1f77b4;stroke:#1f77b4;\" x=\"312.069114\" xlink:href=\"#m5e6e37c582\" y=\"92.028401\"/>\r\n     <use style=\"fill:#1f77b4;stroke:#1f77b4;\" x=\"312.828125\" xlink:href=\"#m5e6e37c582\" y=\"93.267474\"/>\r\n     <use style=\"fill:#1f77b4;stroke:#1f77b4;\" x=\"313.587137\" xlink:href=\"#m5e6e37c582\" y=\"94.20746\"/>\r\n     <use style=\"fill:#1f77b4;stroke:#1f77b4;\" x=\"314.346148\" xlink:href=\"#m5e6e37c582\" y=\"97.070144\"/>\r\n     <use style=\"fill:#1f77b4;stroke:#1f77b4;\" x=\"315.10516\" xlink:href=\"#m5e6e37c582\" y=\"96.172885\"/>\r\n     <use style=\"fill:#1f77b4;stroke:#1f77b4;\" x=\"315.864171\" xlink:href=\"#m5e6e37c582\" y=\"92.840208\"/>\r\n     <use style=\"fill:#1f77b4;stroke:#1f77b4;\" x=\"316.623183\" xlink:href=\"#m5e6e37c582\" y=\"93.267474\"/>\r\n     <use style=\"fill:#1f77b4;stroke:#1f77b4;\" x=\"317.382194\" xlink:href=\"#m5e6e37c582\" y=\"96.813784\"/>\r\n     <use style=\"fill:#1f77b4;stroke:#1f77b4;\" x=\"318.141206\" xlink:href=\"#m5e6e37c582\" y=\"99.633742\"/>\r\n     <use style=\"fill:#1f77b4;stroke:#1f77b4;\" x=\"318.900218\" xlink:href=\"#m5e6e37c582\" y=\"101.599168\"/>\r\n     <use style=\"fill:#1f77b4;stroke:#1f77b4;\" x=\"319.659229\" xlink:href=\"#m5e6e37c582\" y=\"103.265506\"/>\r\n     <use style=\"fill:#1f77b4;stroke:#1f77b4;\" x=\"320.418241\" xlink:href=\"#m5e6e37c582\" y=\"101.171901\"/>\r\n     <use style=\"fill:#1f77b4;stroke:#1f77b4;\" x=\"321.177252\" xlink:href=\"#m5e6e37c582\" y=\"100.958268\"/>\r\n     <use style=\"fill:#1f77b4;stroke:#1f77b4;\" x=\"321.936264\" xlink:href=\"#m5e6e37c582\" y=\"103.949132\"/>\r\n     <use style=\"fill:#1f77b4;stroke:#1f77b4;\" x=\"322.695275\" xlink:href=\"#m5e6e37c582\" y=\"110.785394\"/>\r\n     <use style=\"fill:#1f77b4;stroke:#1f77b4;\" x=\"323.454287\" xlink:href=\"#m5e6e37c582\" y=\"114.588064\"/>\r\n     <use style=\"fill:#1f77b4;stroke:#1f77b4;\" x=\"324.213299\" xlink:href=\"#m5e6e37c582\" y=\"118.006195\"/>\r\n     <use style=\"fill:#1f77b4;stroke:#1f77b4;\" x=\"324.97231\" xlink:href=\"#m5e6e37c582\" y=\"121.637959\"/>\r\n     <use style=\"fill:#1f77b4;stroke:#1f77b4;\" x=\"325.731322\" xlink:href=\"#m5e6e37c582\" y=\"120.99706\"/>\r\n     <use style=\"fill:#1f77b4;stroke:#1f77b4;\" x=\"326.490333\" xlink:href=\"#m5e6e37c582\" y=\"120.142527\"/>\r\n     <use style=\"fill:#1f77b4;stroke:#1f77b4;\" x=\"327.249345\" xlink:href=\"#m5e6e37c582\" y=\"120.48434\"/>\r\n     <use style=\"fill:#1f77b4;stroke:#1f77b4;\" x=\"328.008356\" xlink:href=\"#m5e6e37c582\" y=\"122.791578\"/>\r\n     <use style=\"fill:#1f77b4;stroke:#1f77b4;\" x=\"328.767368\" xlink:href=\"#m5e6e37c582\" y=\"123.389751\"/>\r\n     <use style=\"fill:#1f77b4;stroke:#1f77b4;\" x=\"329.526379\" xlink:href=\"#m5e6e37c582\" y=\"123.218845\"/>\r\n     <use style=\"fill:#1f77b4;stroke:#1f77b4;\" x=\"330.285391\" xlink:href=\"#m5e6e37c582\" y=\"125.397903\"/>\r\n     <use style=\"fill:#1f77b4;stroke:#1f77b4;\" x=\"331.044403\" xlink:href=\"#m5e6e37c582\" y=\"123.133391\"/>\r\n     <use style=\"fill:#1f77b4;stroke:#1f77b4;\" x=\"331.803414\" xlink:href=\"#m5e6e37c582\" y=\"118.604368\"/>\r\n     <use style=\"fill:#1f77b4;stroke:#1f77b4;\" x=\"332.562426\" xlink:href=\"#m5e6e37c582\" y=\"118.775275\"/>\r\n     <use style=\"fill:#1f77b4;stroke:#1f77b4;\" x=\"333.321437\" xlink:href=\"#m5e6e37c582\" y=\"120.7407\"/>\r\n     <use style=\"fill:#1f77b4;stroke:#1f77b4;\" x=\"334.080449\" xlink:href=\"#m5e6e37c582\" y=\"119.715261\"/>\r\n     <use style=\"fill:#1f77b4;stroke:#1f77b4;\" x=\"334.83946\" xlink:href=\"#m5e6e37c582\" y=\"120.569793\"/>\r\n     <use style=\"fill:#1f77b4;stroke:#1f77b4;\" x=\"335.598472\" xlink:href=\"#m5e6e37c582\" y=\"119.928894\"/>\r\n     <use style=\"fill:#1f77b4;stroke:#1f77b4;\" x=\"336.357484\" xlink:href=\"#m5e6e37c582\" y=\"117.536202\"/>\r\n     <use style=\"fill:#1f77b4;stroke:#1f77b4;\" x=\"337.116495\" xlink:href=\"#m5e6e37c582\" y=\"113.092632\"/>\r\n     <use style=\"fill:#1f77b4;stroke:#1f77b4;\" x=\"337.875507\" xlink:href=\"#m5e6e37c582\" y=\"110.529034\"/>\r\n     <use style=\"fill:#1f77b4;stroke:#1f77b4;\" x=\"338.634518\" xlink:href=\"#m5e6e37c582\" y=\"108.392702\"/>\r\n     <use style=\"fill:#1f77b4;stroke:#1f77b4;\" x=\"339.39353\" xlink:href=\"#m5e6e37c582\" y=\"107.495443\"/>\r\n     <use style=\"fill:#1f77b4;stroke:#1f77b4;\" x=\"340.152541\" xlink:href=\"#m5e6e37c582\" y=\"102.96642\"/>\r\n     <use style=\"fill:#1f77b4;stroke:#1f77b4;\" x=\"340.911553\" xlink:href=\"#m5e6e37c582\" y=\"104.077312\"/>\r\n     <use style=\"fill:#1f77b4;stroke:#1f77b4;\" x=\"341.670564\" xlink:href=\"#m5e6e37c582\" y=\"102.154614\"/>\r\n     <use style=\"fill:#1f77b4;stroke:#1f77b4;\" x=\"342.429576\" xlink:href=\"#m5e6e37c582\" y=\"96.087432\"/>\r\n     <use style=\"fill:#1f77b4;stroke:#1f77b4;\" x=\"343.188588\" xlink:href=\"#m5e6e37c582\" y=\"94.46382\"/>\r\n     <use style=\"fill:#1f77b4;stroke:#1f77b4;\" x=\"343.947599\" xlink:href=\"#m5e6e37c582\" y=\"95.959252\"/>\r\n     <use style=\"fill:#1f77b4;stroke:#1f77b4;\" x=\"344.706611\" xlink:href=\"#m5e6e37c582\" y=\"95.617439\"/>\r\n     <use style=\"fill:#1f77b4;stroke:#1f77b4;\" x=\"345.465622\" xlink:href=\"#m5e6e37c582\" y=\"94.33564\"/>\r\n     <use style=\"fill:#1f77b4;stroke:#1f77b4;\" x=\"346.224634\" xlink:href=\"#m5e6e37c582\" y=\"92.712028\"/>\r\n     <use style=\"fill:#1f77b4;stroke:#1f77b4;\" x=\"346.983645\" xlink:href=\"#m5e6e37c582\" y=\"89.037537\"/>\r\n     <use style=\"fill:#1f77b4;stroke:#1f77b4;\" x=\"347.742657\" xlink:href=\"#m5e6e37c582\" y=\"85.405773\"/>\r\n     <use style=\"fill:#1f77b4;stroke:#1f77b4;\" x=\"348.501669\" xlink:href=\"#m5e6e37c582\" y=\"77.757706\"/>\r\n     <use style=\"fill:#1f77b4;stroke:#1f77b4;\" x=\"349.26068\" xlink:href=\"#m5e6e37c582\" y=\"77.373166\"/>\r\n     <use style=\"fill:#1f77b4;stroke:#1f77b4;\" x=\"350.019692\" xlink:href=\"#m5e6e37c582\" y=\"79.082231\"/>\r\n     <use style=\"fill:#1f77b4;stroke:#1f77b4;\" x=\"350.778703\" xlink:href=\"#m5e6e37c582\" y=\"79.936764\"/>\r\n     <use style=\"fill:#1f77b4;stroke:#1f77b4;\" x=\"351.537715\" xlink:href=\"#m5e6e37c582\" y=\"84.294881\"/>\r\n     <use style=\"fill:#1f77b4;stroke:#1f77b4;\" x=\"352.296726\" xlink:href=\"#m5e6e37c582\" y=\"80.962203\"/>\r\n     <use style=\"fill:#1f77b4;stroke:#1f77b4;\" x=\"353.055738\" xlink:href=\"#m5e6e37c582\" y=\"74.937748\"/>\r\n     <use style=\"fill:#1f77b4;stroke:#1f77b4;\" x=\"353.814749\" xlink:href=\"#m5e6e37c582\" y=\"77.415893\"/>\r\n     <use style=\"fill:#1f77b4;stroke:#1f77b4;\" x=\"354.573761\" xlink:href=\"#m5e6e37c582\" y=\"76.68954\"/>\r\n     <use style=\"fill:#1f77b4;stroke:#1f77b4;\" x=\"355.332773\" xlink:href=\"#m5e6e37c582\" y=\"75.151381\"/>\r\n     <use style=\"fill:#1f77b4;stroke:#1f77b4;\" x=\"356.091784\" xlink:href=\"#m5e6e37c582\" y=\"76.475907\"/>\r\n     <use style=\"fill:#1f77b4;stroke:#1f77b4;\" x=\"356.850796\" xlink:href=\"#m5e6e37c582\" y=\"76.988626\"/>\r\n     <use style=\"fill:#1f77b4;stroke:#1f77b4;\" x=\"357.609807\" xlink:href=\"#m5e6e37c582\" y=\"75.493194\"/>\r\n     <use style=\"fill:#1f77b4;stroke:#1f77b4;\" x=\"358.368819\" xlink:href=\"#m5e6e37c582\" y=\"74.083215\"/>\r\n     <use style=\"fill:#1f77b4;stroke:#1f77b4;\" x=\"359.12783\" xlink:href=\"#m5e6e37c582\" y=\"76.903173\"/>\r\n     <use style=\"fill:#1f77b4;stroke:#1f77b4;\" x=\"359.886842\" xlink:href=\"#m5e6e37c582\" y=\"74.980474\"/>\r\n     <use style=\"fill:#1f77b4;stroke:#1f77b4;\" x=\"360.645853\" xlink:href=\"#m5e6e37c582\" y=\"75.023201\"/>\r\n     <use style=\"fill:#1f77b4;stroke:#1f77b4;\" x=\"361.404865\" xlink:href=\"#m5e6e37c582\" y=\"73.527769\"/>\r\n    </g>\r\n   </g>\r\n   <g id=\"matplotlib.axis_1\">\r\n    <g id=\"xtick_1\">\r\n     <g id=\"line2d_1\">\r\n      <defs>\r\n       <path d=\"M 0 0 \r\nL 0 3.5 \r\n\" id=\"m16898bb9f8\" style=\"stroke:#000000;stroke-width:0.8;\"/>\r\n      </defs>\r\n      <g>\r\n       <use style=\"stroke:#000000;stroke-width:0.8;\" x=\"44.138032\" xlink:href=\"#m16898bb9f8\" y=\"253.44\"/>\r\n      </g>\r\n     </g>\r\n     <g id=\"text_1\">\r\n      <!-- 2020-03 -->\r\n      <g transform=\"translate(23.246626 268.038437)scale(0.1 -0.1)\">\r\n       <defs>\r\n        <path d=\"M 19.1875 8.296875 \r\nL 53.609375 8.296875 \r\nL 53.609375 0 \r\nL 7.328125 0 \r\nL 7.328125 8.296875 \r\nQ 12.9375 14.109375 22.625 23.890625 \r\nQ 32.328125 33.6875 34.8125 36.53125 \r\nQ 39.546875 41.84375 41.421875 45.53125 \r\nQ 43.3125 49.21875 43.3125 52.78125 \r\nQ 43.3125 58.59375 39.234375 62.25 \r\nQ 35.15625 65.921875 28.609375 65.921875 \r\nQ 23.96875 65.921875 18.8125 64.3125 \r\nQ 13.671875 62.703125 7.8125 59.421875 \r\nL 7.8125 69.390625 \r\nQ 13.765625 71.78125 18.9375 73 \r\nQ 24.125 74.21875 28.421875 74.21875 \r\nQ 39.75 74.21875 46.484375 68.546875 \r\nQ 53.21875 62.890625 53.21875 53.421875 \r\nQ 53.21875 48.921875 51.53125 44.890625 \r\nQ 49.859375 40.875 45.40625 35.40625 \r\nQ 44.1875 33.984375 37.640625 27.21875 \r\nQ 31.109375 20.453125 19.1875 8.296875 \r\nz\r\n\" id=\"DejaVuSans-50\"/>\r\n        <path d=\"M 31.78125 66.40625 \r\nQ 24.171875 66.40625 20.328125 58.90625 \r\nQ 16.5 51.421875 16.5 36.375 \r\nQ 16.5 21.390625 20.328125 13.890625 \r\nQ 24.171875 6.390625 31.78125 6.390625 \r\nQ 39.453125 6.390625 43.28125 13.890625 \r\nQ 47.125 21.390625 47.125 36.375 \r\nQ 47.125 51.421875 43.28125 58.90625 \r\nQ 39.453125 66.40625 31.78125 66.40625 \r\nz\r\nM 31.78125 74.21875 \r\nQ 44.046875 74.21875 50.515625 64.515625 \r\nQ 56.984375 54.828125 56.984375 36.375 \r\nQ 56.984375 17.96875 50.515625 8.265625 \r\nQ 44.046875 -1.421875 31.78125 -1.421875 \r\nQ 19.53125 -1.421875 13.0625 8.265625 \r\nQ 6.59375 17.96875 6.59375 36.375 \r\nQ 6.59375 54.828125 13.0625 64.515625 \r\nQ 19.53125 74.21875 31.78125 74.21875 \r\nz\r\n\" id=\"DejaVuSans-48\"/>\r\n        <path d=\"M 4.890625 31.390625 \r\nL 31.203125 31.390625 \r\nL 31.203125 23.390625 \r\nL 4.890625 23.390625 \r\nz\r\n\" id=\"DejaVuSans-45\"/>\r\n        <path d=\"M 40.578125 39.3125 \r\nQ 47.65625 37.796875 51.625 33 \r\nQ 55.609375 28.21875 55.609375 21.1875 \r\nQ 55.609375 10.40625 48.1875 4.484375 \r\nQ 40.765625 -1.421875 27.09375 -1.421875 \r\nQ 22.515625 -1.421875 17.65625 -0.515625 \r\nQ 12.796875 0.390625 7.625 2.203125 \r\nL 7.625 11.71875 \r\nQ 11.71875 9.328125 16.59375 8.109375 \r\nQ 21.484375 6.890625 26.8125 6.890625 \r\nQ 36.078125 6.890625 40.9375 10.546875 \r\nQ 45.796875 14.203125 45.796875 21.1875 \r\nQ 45.796875 27.640625 41.28125 31.265625 \r\nQ 36.765625 34.90625 28.71875 34.90625 \r\nL 20.21875 34.90625 \r\nL 20.21875 43.015625 \r\nL 29.109375 43.015625 \r\nQ 36.375 43.015625 40.234375 45.921875 \r\nQ 44.09375 48.828125 44.09375 54.296875 \r\nQ 44.09375 59.90625 40.109375 62.90625 \r\nQ 36.140625 65.921875 28.71875 65.921875 \r\nQ 24.65625 65.921875 20.015625 65.03125 \r\nQ 15.375 64.15625 9.8125 62.3125 \r\nL 9.8125 71.09375 \r\nQ 15.4375 72.65625 20.34375 73.4375 \r\nQ 25.25 74.21875 29.59375 74.21875 \r\nQ 40.828125 74.21875 47.359375 69.109375 \r\nQ 53.90625 64.015625 53.90625 55.328125 \r\nQ 53.90625 49.265625 50.4375 45.09375 \r\nQ 46.96875 40.921875 40.578125 39.3125 \r\nz\r\n\" id=\"DejaVuSans-51\"/>\r\n       </defs>\r\n       <use xlink:href=\"#DejaVuSans-50\"/>\r\n       <use x=\"63.623047\" xlink:href=\"#DejaVuSans-48\"/>\r\n       <use x=\"127.246094\" xlink:href=\"#DejaVuSans-50\"/>\r\n       <use x=\"190.869141\" xlink:href=\"#DejaVuSans-48\"/>\r\n       <use x=\"254.492188\" xlink:href=\"#DejaVuSans-45\"/>\r\n       <use x=\"290.576172\" xlink:href=\"#DejaVuSans-48\"/>\r\n       <use x=\"354.199219\" xlink:href=\"#DejaVuSans-51\"/>\r\n      </g>\r\n     </g>\r\n    </g>\r\n    <g id=\"xtick_2\">\r\n     <g id=\"line2d_2\">\r\n      <g>\r\n       <use style=\"stroke:#000000;stroke-width:0.8;\" x=\"90.437737\" xlink:href=\"#m16898bb9f8\" y=\"253.44\"/>\r\n      </g>\r\n     </g>\r\n     <g id=\"text_2\">\r\n      <!-- 2020-05 -->\r\n      <g transform=\"translate(69.546331 268.038437)scale(0.1 -0.1)\">\r\n       <defs>\r\n        <path d=\"M 10.796875 72.90625 \r\nL 49.515625 72.90625 \r\nL 49.515625 64.59375 \r\nL 19.828125 64.59375 \r\nL 19.828125 46.734375 \r\nQ 21.96875 47.46875 24.109375 47.828125 \r\nQ 26.265625 48.1875 28.421875 48.1875 \r\nQ 40.625 48.1875 47.75 41.5 \r\nQ 54.890625 34.8125 54.890625 23.390625 \r\nQ 54.890625 11.625 47.5625 5.09375 \r\nQ 40.234375 -1.421875 26.90625 -1.421875 \r\nQ 22.3125 -1.421875 17.546875 -0.640625 \r\nQ 12.796875 0.140625 7.71875 1.703125 \r\nL 7.71875 11.625 \r\nQ 12.109375 9.234375 16.796875 8.0625 \r\nQ 21.484375 6.890625 26.703125 6.890625 \r\nQ 35.15625 6.890625 40.078125 11.328125 \r\nQ 45.015625 15.765625 45.015625 23.390625 \r\nQ 45.015625 31 40.078125 35.4375 \r\nQ 35.15625 39.890625 26.703125 39.890625 \r\nQ 22.75 39.890625 18.8125 39.015625 \r\nQ 14.890625 38.140625 10.796875 36.28125 \r\nz\r\n\" id=\"DejaVuSans-53\"/>\r\n       </defs>\r\n       <use xlink:href=\"#DejaVuSans-50\"/>\r\n       <use x=\"63.623047\" xlink:href=\"#DejaVuSans-48\"/>\r\n       <use x=\"127.246094\" xlink:href=\"#DejaVuSans-50\"/>\r\n       <use x=\"190.869141\" xlink:href=\"#DejaVuSans-48\"/>\r\n       <use x=\"254.492188\" xlink:href=\"#DejaVuSans-45\"/>\r\n       <use x=\"290.576172\" xlink:href=\"#DejaVuSans-48\"/>\r\n       <use x=\"354.199219\" xlink:href=\"#DejaVuSans-53\"/>\r\n      </g>\r\n     </g>\r\n    </g>\r\n    <g id=\"xtick_3\">\r\n     <g id=\"line2d_3\">\r\n      <g>\r\n       <use style=\"stroke:#000000;stroke-width:0.8;\" x=\"136.737443\" xlink:href=\"#m16898bb9f8\" y=\"253.44\"/>\r\n      </g>\r\n     </g>\r\n     <g id=\"text_3\">\r\n      <!-- 2020-07 -->\r\n      <g transform=\"translate(115.846036 268.038437)scale(0.1 -0.1)\">\r\n       <defs>\r\n        <path d=\"M 8.203125 72.90625 \r\nL 55.078125 72.90625 \r\nL 55.078125 68.703125 \r\nL 28.609375 0 \r\nL 18.3125 0 \r\nL 43.21875 64.59375 \r\nL 8.203125 64.59375 \r\nz\r\n\" id=\"DejaVuSans-55\"/>\r\n       </defs>\r\n       <use xlink:href=\"#DejaVuSans-50\"/>\r\n       <use x=\"63.623047\" xlink:href=\"#DejaVuSans-48\"/>\r\n       <use x=\"127.246094\" xlink:href=\"#DejaVuSans-50\"/>\r\n       <use x=\"190.869141\" xlink:href=\"#DejaVuSans-48\"/>\r\n       <use x=\"254.492188\" xlink:href=\"#DejaVuSans-45\"/>\r\n       <use x=\"290.576172\" xlink:href=\"#DejaVuSans-48\"/>\r\n       <use x=\"354.199219\" xlink:href=\"#DejaVuSans-55\"/>\r\n      </g>\r\n     </g>\r\n    </g>\r\n    <g id=\"xtick_4\">\r\n     <g id=\"line2d_4\">\r\n      <g>\r\n       <use style=\"stroke:#000000;stroke-width:0.8;\" x=\"183.79616\" xlink:href=\"#m16898bb9f8\" y=\"253.44\"/>\r\n      </g>\r\n     </g>\r\n     <g id=\"text_4\">\r\n      <!-- 2020-09 -->\r\n      <g transform=\"translate(162.904753 268.038437)scale(0.1 -0.1)\">\r\n       <defs>\r\n        <path d=\"M 10.984375 1.515625 \r\nL 10.984375 10.5 \r\nQ 14.703125 8.734375 18.5 7.8125 \r\nQ 22.3125 6.890625 25.984375 6.890625 \r\nQ 35.75 6.890625 40.890625 13.453125 \r\nQ 46.046875 20.015625 46.78125 33.40625 \r\nQ 43.953125 29.203125 39.59375 26.953125 \r\nQ 35.25 24.703125 29.984375 24.703125 \r\nQ 19.046875 24.703125 12.671875 31.3125 \r\nQ 6.296875 37.9375 6.296875 49.421875 \r\nQ 6.296875 60.640625 12.9375 67.421875 \r\nQ 19.578125 74.21875 30.609375 74.21875 \r\nQ 43.265625 74.21875 49.921875 64.515625 \r\nQ 56.59375 54.828125 56.59375 36.375 \r\nQ 56.59375 19.140625 48.40625 8.859375 \r\nQ 40.234375 -1.421875 26.421875 -1.421875 \r\nQ 22.703125 -1.421875 18.890625 -0.6875 \r\nQ 15.09375 0.046875 10.984375 1.515625 \r\nz\r\nM 30.609375 32.421875 \r\nQ 37.25 32.421875 41.125 36.953125 \r\nQ 45.015625 41.5 45.015625 49.421875 \r\nQ 45.015625 57.28125 41.125 61.84375 \r\nQ 37.25 66.40625 30.609375 66.40625 \r\nQ 23.96875 66.40625 20.09375 61.84375 \r\nQ 16.21875 57.28125 16.21875 49.421875 \r\nQ 16.21875 41.5 20.09375 36.953125 \r\nQ 23.96875 32.421875 30.609375 32.421875 \r\nz\r\n\" id=\"DejaVuSans-57\"/>\r\n       </defs>\r\n       <use xlink:href=\"#DejaVuSans-50\"/>\r\n       <use x=\"63.623047\" xlink:href=\"#DejaVuSans-48\"/>\r\n       <use x=\"127.246094\" xlink:href=\"#DejaVuSans-50\"/>\r\n       <use x=\"190.869141\" xlink:href=\"#DejaVuSans-48\"/>\r\n       <use x=\"254.492188\" xlink:href=\"#DejaVuSans-45\"/>\r\n       <use x=\"290.576172\" xlink:href=\"#DejaVuSans-48\"/>\r\n       <use x=\"354.199219\" xlink:href=\"#DejaVuSans-57\"/>\r\n      </g>\r\n     </g>\r\n    </g>\r\n    <g id=\"xtick_5\">\r\n     <g id=\"line2d_5\">\r\n      <g>\r\n       <use style=\"stroke:#000000;stroke-width:0.8;\" x=\"230.095865\" xlink:href=\"#m16898bb9f8\" y=\"253.44\"/>\r\n      </g>\r\n     </g>\r\n     <g id=\"text_5\">\r\n      <!-- 2020-11 -->\r\n      <g transform=\"translate(209.204459 268.038437)scale(0.1 -0.1)\">\r\n       <defs>\r\n        <path d=\"M 12.40625 8.296875 \r\nL 28.515625 8.296875 \r\nL 28.515625 63.921875 \r\nL 10.984375 60.40625 \r\nL 10.984375 69.390625 \r\nL 28.421875 72.90625 \r\nL 38.28125 72.90625 \r\nL 38.28125 8.296875 \r\nL 54.390625 8.296875 \r\nL 54.390625 0 \r\nL 12.40625 0 \r\nz\r\n\" id=\"DejaVuSans-49\"/>\r\n       </defs>\r\n       <use xlink:href=\"#DejaVuSans-50\"/>\r\n       <use x=\"63.623047\" xlink:href=\"#DejaVuSans-48\"/>\r\n       <use x=\"127.246094\" xlink:href=\"#DejaVuSans-50\"/>\r\n       <use x=\"190.869141\" xlink:href=\"#DejaVuSans-48\"/>\r\n       <use x=\"254.492188\" xlink:href=\"#DejaVuSans-45\"/>\r\n       <use x=\"290.576172\" xlink:href=\"#DejaVuSans-49\"/>\r\n       <use x=\"354.199219\" xlink:href=\"#DejaVuSans-49\"/>\r\n      </g>\r\n     </g>\r\n    </g>\r\n    <g id=\"xtick_6\">\r\n     <g id=\"line2d_6\">\r\n      <g>\r\n       <use style=\"stroke:#000000;stroke-width:0.8;\" x=\"276.39557\" xlink:href=\"#m16898bb9f8\" y=\"253.44\"/>\r\n      </g>\r\n     </g>\r\n     <g id=\"text_6\">\r\n      <!-- 2021-01 -->\r\n      <g transform=\"translate(255.504164 268.038437)scale(0.1 -0.1)\">\r\n       <use xlink:href=\"#DejaVuSans-50\"/>\r\n       <use x=\"63.623047\" xlink:href=\"#DejaVuSans-48\"/>\r\n       <use x=\"127.246094\" xlink:href=\"#DejaVuSans-50\"/>\r\n       <use x=\"190.869141\" xlink:href=\"#DejaVuSans-49\"/>\r\n       <use x=\"254.492188\" xlink:href=\"#DejaVuSans-45\"/>\r\n       <use x=\"290.576172\" xlink:href=\"#DejaVuSans-48\"/>\r\n       <use x=\"354.199219\" xlink:href=\"#DejaVuSans-49\"/>\r\n      </g>\r\n     </g>\r\n    </g>\r\n    <g id=\"xtick_7\">\r\n     <g id=\"line2d_7\">\r\n      <g>\r\n       <use style=\"stroke:#000000;stroke-width:0.8;\" x=\"321.177252\" xlink:href=\"#m16898bb9f8\" y=\"253.44\"/>\r\n      </g>\r\n     </g>\r\n     <g id=\"text_7\">\r\n      <!-- 2021-03 -->\r\n      <g transform=\"translate(300.285846 268.038437)scale(0.1 -0.1)\">\r\n       <use xlink:href=\"#DejaVuSans-50\"/>\r\n       <use x=\"63.623047\" xlink:href=\"#DejaVuSans-48\"/>\r\n       <use x=\"127.246094\" xlink:href=\"#DejaVuSans-50\"/>\r\n       <use x=\"190.869141\" xlink:href=\"#DejaVuSans-49\"/>\r\n       <use x=\"254.492188\" xlink:href=\"#DejaVuSans-45\"/>\r\n       <use x=\"290.576172\" xlink:href=\"#DejaVuSans-48\"/>\r\n       <use x=\"354.199219\" xlink:href=\"#DejaVuSans-51\"/>\r\n      </g>\r\n     </g>\r\n    </g>\r\n    <g id=\"xtick_8\">\r\n     <g id=\"line2d_8\">\r\n      <g>\r\n       <use style=\"stroke:#000000;stroke-width:0.8;\" x=\"367.476958\" xlink:href=\"#m16898bb9f8\" y=\"253.44\"/>\r\n      </g>\r\n     </g>\r\n     <g id=\"text_8\">\r\n      <!-- 2021-05 -->\r\n      <g transform=\"translate(346.585551 268.038437)scale(0.1 -0.1)\">\r\n       <use xlink:href=\"#DejaVuSans-50\"/>\r\n       <use x=\"63.623047\" xlink:href=\"#DejaVuSans-48\"/>\r\n       <use x=\"127.246094\" xlink:href=\"#DejaVuSans-50\"/>\r\n       <use x=\"190.869141\" xlink:href=\"#DejaVuSans-49\"/>\r\n       <use x=\"254.492188\" xlink:href=\"#DejaVuSans-45\"/>\r\n       <use x=\"290.576172\" xlink:href=\"#DejaVuSans-48\"/>\r\n       <use x=\"354.199219\" xlink:href=\"#DejaVuSans-53\"/>\r\n      </g>\r\n     </g>\r\n    </g>\r\n   </g>\r\n   <g id=\"matplotlib.axis_2\">\r\n    <g id=\"ytick_1\">\r\n     <g id=\"line2d_9\">\r\n      <defs>\r\n       <path d=\"M 0 0 \r\nL -3.5 0 \r\n\" id=\"mb24fa50a08\" style=\"stroke:#000000;stroke-width:0.8;\"/>\r\n      </defs>\r\n      <g>\r\n       <use style=\"stroke:#000000;stroke-width:0.8;\" x=\"41.823047\" xlink:href=\"#mb24fa50a08\" y=\"234.906267\"/>\r\n      </g>\r\n     </g>\r\n     <g id=\"text_9\">\r\n      <!-- 0 -->\r\n      <g transform=\"translate(28.460547 238.705485)scale(0.1 -0.1)\">\r\n       <use xlink:href=\"#DejaVuSans-48\"/>\r\n      </g>\r\n     </g>\r\n    </g>\r\n    <g id=\"ytick_2\">\r\n     <g id=\"line2d_10\">\r\n      <g>\r\n       <use style=\"stroke:#000000;stroke-width:0.8;\" x=\"41.823047\" xlink:href=\"#mb24fa50a08\" y=\"192.179632\"/>\r\n      </g>\r\n     </g>\r\n     <g id=\"text_10\">\r\n      <!-- 1000 -->\r\n      <g transform=\"translate(9.373047 195.978851)scale(0.1 -0.1)\">\r\n       <use xlink:href=\"#DejaVuSans-49\"/>\r\n       <use x=\"63.623047\" xlink:href=\"#DejaVuSans-48\"/>\r\n       <use x=\"127.246094\" xlink:href=\"#DejaVuSans-48\"/>\r\n       <use x=\"190.869141\" xlink:href=\"#DejaVuSans-48\"/>\r\n      </g>\r\n     </g>\r\n    </g>\r\n    <g id=\"ytick_3\">\r\n     <g id=\"line2d_11\">\r\n      <g>\r\n       <use style=\"stroke:#000000;stroke-width:0.8;\" x=\"41.823047\" xlink:href=\"#mb24fa50a08\" y=\"149.452998\"/>\r\n      </g>\r\n     </g>\r\n     <g id=\"text_11\">\r\n      <!-- 2000 -->\r\n      <g transform=\"translate(9.373047 153.252217)scale(0.1 -0.1)\">\r\n       <use xlink:href=\"#DejaVuSans-50\"/>\r\n       <use x=\"63.623047\" xlink:href=\"#DejaVuSans-48\"/>\r\n       <use x=\"127.246094\" xlink:href=\"#DejaVuSans-48\"/>\r\n       <use x=\"190.869141\" xlink:href=\"#DejaVuSans-48\"/>\r\n      </g>\r\n     </g>\r\n    </g>\r\n    <g id=\"ytick_4\">\r\n     <g id=\"line2d_12\">\r\n      <g>\r\n       <use style=\"stroke:#000000;stroke-width:0.8;\" x=\"41.823047\" xlink:href=\"#mb24fa50a08\" y=\"106.726364\"/>\r\n      </g>\r\n     </g>\r\n     <g id=\"text_12\">\r\n      <!-- 3000 -->\r\n      <g transform=\"translate(9.373047 110.525582)scale(0.1 -0.1)\">\r\n       <use xlink:href=\"#DejaVuSans-51\"/>\r\n       <use x=\"63.623047\" xlink:href=\"#DejaVuSans-48\"/>\r\n       <use x=\"127.246094\" xlink:href=\"#DejaVuSans-48\"/>\r\n       <use x=\"190.869141\" xlink:href=\"#DejaVuSans-48\"/>\r\n      </g>\r\n     </g>\r\n    </g>\r\n    <g id=\"ytick_5\">\r\n     <g id=\"line2d_13\">\r\n      <g>\r\n       <use style=\"stroke:#000000;stroke-width:0.8;\" x=\"41.823047\" xlink:href=\"#mb24fa50a08\" y=\"63.999729\"/>\r\n      </g>\r\n     </g>\r\n     <g id=\"text_13\">\r\n      <!-- 4000 -->\r\n      <g transform=\"translate(9.373047 67.798948)scale(0.1 -0.1)\">\r\n       <defs>\r\n        <path d=\"M 37.796875 64.3125 \r\nL 12.890625 25.390625 \r\nL 37.796875 25.390625 \r\nz\r\nM 35.203125 72.90625 \r\nL 47.609375 72.90625 \r\nL 47.609375 25.390625 \r\nL 58.015625 25.390625 \r\nL 58.015625 17.1875 \r\nL 47.609375 17.1875 \r\nL 47.609375 0 \r\nL 37.796875 0 \r\nL 37.796875 17.1875 \r\nL 4.890625 17.1875 \r\nL 4.890625 26.703125 \r\nz\r\n\" id=\"DejaVuSans-52\"/>\r\n       </defs>\r\n       <use xlink:href=\"#DejaVuSans-52\"/>\r\n       <use x=\"63.623047\" xlink:href=\"#DejaVuSans-48\"/>\r\n       <use x=\"127.246094\" xlink:href=\"#DejaVuSans-48\"/>\r\n       <use x=\"190.869141\" xlink:href=\"#DejaVuSans-48\"/>\r\n      </g>\r\n     </g>\r\n    </g>\r\n   </g>\r\n   <g id=\"line2d_14\">\r\n    <path clip-path=\"url(#p8c801be048)\" d=\"M 57.041229 210.591379 \r\nL 58.559252 203.165531 \r\nL 60.077275 196.510997 \r\nL 61.595298 190.588027 \r\nL 63.113321 185.358045 \r\nL 64.631344 180.783632 \r\nL 66.149367 176.828502 \r\nL 67.667391 173.457488 \r\nL 69.185414 170.636519 \r\nL 70.703437 168.332602 \r\nL 72.22146 166.513807 \r\nL 73.739483 165.149241 \r\nL 75.257506 164.209037 \r\nL 76.775529 163.664331 \r\nL 78.293552 163.487246 \r\nL 79.811576 163.650873 \r\nL 81.329599 164.129254 \r\nL 82.847622 164.897362 \r\nL 84.365645 165.931087 \r\nL 85.883668 167.207215 \r\nL 87.401691 168.703413 \r\nL 89.678726 171.313607 \r\nL 91.955761 174.301939 \r\nL 94.991807 178.763251 \r\nL 98.027853 183.639732 \r\nL 102.581922 191.451267 \r\nL 114.726107 212.632537 \r\nL 118.521165 218.710944 \r\nL 121.557211 223.226886 \r\nL 124.593258 227.37717 \r\nL 127.629304 231.117315 \r\nL 129.906339 233.630778 \r\nL 132.183373 235.879681 \r\nL 134.460408 237.853239 \r\nL 136.737443 239.542722 \r\nL 139.014477 240.941356 \r\nL 141.291512 242.044226 \r\nL 143.568547 242.848188 \r\nL 145.845581 243.351769 \r\nL 148.122616 243.555082 \r\nL 150.399651 243.459736 \r\nL 152.676686 243.068748 \r\nL 154.95372 242.386457 \r\nL 157.230755 241.418439 \r\nL 159.50779 240.171428 \r\nL 161.784824 238.653231 \r\nL 164.061859 236.872649 \r\nL 166.338894 234.839404 \r\nL 168.615928 232.564055 \r\nL 171.651975 229.173331 \r\nL 174.688021 225.401153 \r\nL 177.724067 221.278149 \r\nL 181.519125 215.680271 \r\nL 185.314183 209.650449 \r\nL 189.868252 201.94059 \r\nL 195.181333 192.444867 \r\nL 202.012437 179.741844 \r\nL 215.674645 154.191842 \r\nL 220.987726 144.721433 \r\nL 225.541795 137.002489 \r\nL 230.095865 129.74618 \r\nL 233.890923 124.110371 \r\nL 237.68598 118.891614 \r\nL 240.722027 115.040441 \r\nL 243.758073 111.493632 \r\nL 246.794119 108.263765 \r\nL 249.830165 105.360811 \r\nL 252.866212 102.792063 \r\nL 255.902258 100.562059 \r\nL 258.938304 98.672528 \r\nL 261.97435 97.122334 \r\nL 264.251385 96.180058 \r\nL 266.52842 95.423656 \r\nL 268.805454 94.849403 \r\nL 271.082489 94.452631 \r\nL 273.359524 94.227728 \r\nL 276.39557 94.183739 \r\nL 279.431616 94.415372 \r\nL 282.467663 94.901488 \r\nL 285.503709 95.61799 \r\nL 288.539755 96.537845 \r\nL 292.334813 97.927754 \r\nL 296.888882 99.861437 \r\nL 304.478998 103.397814 \r\nL 310.55109 106.125815 \r\nL 314.346148 107.601759 \r\nL 317.382194 108.574301 \r\nL 320.418241 109.303405 \r\nL 322.695275 109.656868 \r\nL 324.97231 109.817633 \r\nL 327.249345 109.76084 \r\nL 329.526379 109.461115 \r\nL 331.803414 108.892608 \r\nL 334.080449 108.029031 \r\nL 336.357484 106.843701 \r\nL 338.634518 105.309581 \r\nL 340.911553 103.399325 \r\nL 343.188588 101.085325 \r\nL 345.465622 98.339755 \r\nL 347.742657 95.134624 \r\nL 350.019692 91.441824 \r\nL 352.296726 87.233183 \r\nL 354.573761 82.480518 \r\nL 356.850796 77.155694 \r\nL 359.12783 71.230674 \r\nL 361.404865 64.677584 \r\nL 361.404865 64.677584 \r\n\" style=\"fill:none;stroke:#ff0000;stroke-linecap:square;stroke-width:1.5;\"/>\r\n   </g>\r\n   <g id=\"patch_3\">\r\n    <path d=\"M 41.823047 253.44 \r\nL 41.823047 36 \r\n\" style=\"fill:none;stroke:#000000;stroke-linecap:square;stroke-linejoin:miter;stroke-width:0.8;\"/>\r\n   </g>\r\n   <g id=\"patch_4\">\r\n    <path d=\"M 376.623047 253.44 \r\nL 376.623047 36 \r\n\" style=\"fill:none;stroke:#000000;stroke-linecap:square;stroke-linejoin:miter;stroke-width:0.8;\"/>\r\n   </g>\r\n   <g id=\"patch_5\">\r\n    <path d=\"M 41.823047 253.44 \r\nL 376.623047 253.44 \r\n\" style=\"fill:none;stroke:#000000;stroke-linecap:square;stroke-linejoin:miter;stroke-width:0.8;\"/>\r\n   </g>\r\n   <g id=\"patch_6\">\r\n    <path d=\"M 41.823047 36 \r\nL 376.623047 36 \r\n\" style=\"fill:none;stroke:#000000;stroke-linecap:square;stroke-linejoin:miter;stroke-width:0.8;\"/>\r\n   </g>\r\n   <g id=\"text_14\">\r\n    <!-- Degree of polynomial regression : 6 -->\r\n    <g transform=\"translate(119.833203 30)scale(0.1 -0.1)\">\r\n     <defs>\r\n      <path d=\"M 19.671875 64.796875 \r\nL 19.671875 8.109375 \r\nL 31.59375 8.109375 \r\nQ 46.6875 8.109375 53.6875 14.9375 \r\nQ 60.6875 21.78125 60.6875 36.53125 \r\nQ 60.6875 51.171875 53.6875 57.984375 \r\nQ 46.6875 64.796875 31.59375 64.796875 \r\nz\r\nM 9.8125 72.90625 \r\nL 30.078125 72.90625 \r\nQ 51.265625 72.90625 61.171875 64.09375 \r\nQ 71.09375 55.28125 71.09375 36.53125 \r\nQ 71.09375 17.671875 61.125 8.828125 \r\nQ 51.171875 0 30.078125 0 \r\nL 9.8125 0 \r\nz\r\n\" id=\"DejaVuSans-68\"/>\r\n      <path d=\"M 56.203125 29.59375 \r\nL 56.203125 25.203125 \r\nL 14.890625 25.203125 \r\nQ 15.484375 15.921875 20.484375 11.0625 \r\nQ 25.484375 6.203125 34.421875 6.203125 \r\nQ 39.59375 6.203125 44.453125 7.46875 \r\nQ 49.3125 8.734375 54.109375 11.28125 \r\nL 54.109375 2.78125 \r\nQ 49.265625 0.734375 44.1875 -0.34375 \r\nQ 39.109375 -1.421875 33.890625 -1.421875 \r\nQ 20.796875 -1.421875 13.15625 6.1875 \r\nQ 5.515625 13.8125 5.515625 26.8125 \r\nQ 5.515625 40.234375 12.765625 48.109375 \r\nQ 20.015625 56 32.328125 56 \r\nQ 43.359375 56 49.78125 48.890625 \r\nQ 56.203125 41.796875 56.203125 29.59375 \r\nz\r\nM 47.21875 32.234375 \r\nQ 47.125 39.59375 43.09375 43.984375 \r\nQ 39.0625 48.390625 32.421875 48.390625 \r\nQ 24.90625 48.390625 20.390625 44.140625 \r\nQ 15.875 39.890625 15.1875 32.171875 \r\nz\r\n\" id=\"DejaVuSans-101\"/>\r\n      <path d=\"M 45.40625 27.984375 \r\nQ 45.40625 37.75 41.375 43.109375 \r\nQ 37.359375 48.484375 30.078125 48.484375 \r\nQ 22.859375 48.484375 18.828125 43.109375 \r\nQ 14.796875 37.75 14.796875 27.984375 \r\nQ 14.796875 18.265625 18.828125 12.890625 \r\nQ 22.859375 7.515625 30.078125 7.515625 \r\nQ 37.359375 7.515625 41.375 12.890625 \r\nQ 45.40625 18.265625 45.40625 27.984375 \r\nz\r\nM 54.390625 6.78125 \r\nQ 54.390625 -7.171875 48.1875 -13.984375 \r\nQ 42 -20.796875 29.203125 -20.796875 \r\nQ 24.46875 -20.796875 20.265625 -20.09375 \r\nQ 16.0625 -19.390625 12.109375 -17.921875 \r\nL 12.109375 -9.1875 \r\nQ 16.0625 -11.328125 19.921875 -12.34375 \r\nQ 23.78125 -13.375 27.78125 -13.375 \r\nQ 36.625 -13.375 41.015625 -8.765625 \r\nQ 45.40625 -4.15625 45.40625 5.171875 \r\nL 45.40625 9.625 \r\nQ 42.625 4.78125 38.28125 2.390625 \r\nQ 33.9375 0 27.875 0 \r\nQ 17.828125 0 11.671875 7.65625 \r\nQ 5.515625 15.328125 5.515625 27.984375 \r\nQ 5.515625 40.671875 11.671875 48.328125 \r\nQ 17.828125 56 27.875 56 \r\nQ 33.9375 56 38.28125 53.609375 \r\nQ 42.625 51.21875 45.40625 46.390625 \r\nL 45.40625 54.6875 \r\nL 54.390625 54.6875 \r\nz\r\n\" id=\"DejaVuSans-103\"/>\r\n      <path d=\"M 41.109375 46.296875 \r\nQ 39.59375 47.171875 37.8125 47.578125 \r\nQ 36.03125 48 33.890625 48 \r\nQ 26.265625 48 22.1875 43.046875 \r\nQ 18.109375 38.09375 18.109375 28.8125 \r\nL 18.109375 0 \r\nL 9.078125 0 \r\nL 9.078125 54.6875 \r\nL 18.109375 54.6875 \r\nL 18.109375 46.1875 \r\nQ 20.953125 51.171875 25.484375 53.578125 \r\nQ 30.03125 56 36.53125 56 \r\nQ 37.453125 56 38.578125 55.875 \r\nQ 39.703125 55.765625 41.0625 55.515625 \r\nz\r\n\" id=\"DejaVuSans-114\"/>\r\n      <path id=\"DejaVuSans-32\"/>\r\n      <path d=\"M 30.609375 48.390625 \r\nQ 23.390625 48.390625 19.1875 42.75 \r\nQ 14.984375 37.109375 14.984375 27.296875 \r\nQ 14.984375 17.484375 19.15625 11.84375 \r\nQ 23.34375 6.203125 30.609375 6.203125 \r\nQ 37.796875 6.203125 41.984375 11.859375 \r\nQ 46.1875 17.53125 46.1875 27.296875 \r\nQ 46.1875 37.015625 41.984375 42.703125 \r\nQ 37.796875 48.390625 30.609375 48.390625 \r\nz\r\nM 30.609375 56 \r\nQ 42.328125 56 49.015625 48.375 \r\nQ 55.71875 40.765625 55.71875 27.296875 \r\nQ 55.71875 13.875 49.015625 6.21875 \r\nQ 42.328125 -1.421875 30.609375 -1.421875 \r\nQ 18.84375 -1.421875 12.171875 6.21875 \r\nQ 5.515625 13.875 5.515625 27.296875 \r\nQ 5.515625 40.765625 12.171875 48.375 \r\nQ 18.84375 56 30.609375 56 \r\nz\r\n\" id=\"DejaVuSans-111\"/>\r\n      <path d=\"M 37.109375 75.984375 \r\nL 37.109375 68.5 \r\nL 28.515625 68.5 \r\nQ 23.6875 68.5 21.796875 66.546875 \r\nQ 19.921875 64.59375 19.921875 59.515625 \r\nL 19.921875 54.6875 \r\nL 34.71875 54.6875 \r\nL 34.71875 47.703125 \r\nL 19.921875 47.703125 \r\nL 19.921875 0 \r\nL 10.890625 0 \r\nL 10.890625 47.703125 \r\nL 2.296875 47.703125 \r\nL 2.296875 54.6875 \r\nL 10.890625 54.6875 \r\nL 10.890625 58.5 \r\nQ 10.890625 67.625 15.140625 71.796875 \r\nQ 19.390625 75.984375 28.609375 75.984375 \r\nz\r\n\" id=\"DejaVuSans-102\"/>\r\n      <path d=\"M 18.109375 8.203125 \r\nL 18.109375 -20.796875 \r\nL 9.078125 -20.796875 \r\nL 9.078125 54.6875 \r\nL 18.109375 54.6875 \r\nL 18.109375 46.390625 \r\nQ 20.953125 51.265625 25.265625 53.625 \r\nQ 29.59375 56 35.59375 56 \r\nQ 45.5625 56 51.78125 48.09375 \r\nQ 58.015625 40.1875 58.015625 27.296875 \r\nQ 58.015625 14.40625 51.78125 6.484375 \r\nQ 45.5625 -1.421875 35.59375 -1.421875 \r\nQ 29.59375 -1.421875 25.265625 0.953125 \r\nQ 20.953125 3.328125 18.109375 8.203125 \r\nz\r\nM 48.6875 27.296875 \r\nQ 48.6875 37.203125 44.609375 42.84375 \r\nQ 40.53125 48.484375 33.40625 48.484375 \r\nQ 26.265625 48.484375 22.1875 42.84375 \r\nQ 18.109375 37.203125 18.109375 27.296875 \r\nQ 18.109375 17.390625 22.1875 11.75 \r\nQ 26.265625 6.109375 33.40625 6.109375 \r\nQ 40.53125 6.109375 44.609375 11.75 \r\nQ 48.6875 17.390625 48.6875 27.296875 \r\nz\r\n\" id=\"DejaVuSans-112\"/>\r\n      <path d=\"M 9.421875 75.984375 \r\nL 18.40625 75.984375 \r\nL 18.40625 0 \r\nL 9.421875 0 \r\nz\r\n\" id=\"DejaVuSans-108\"/>\r\n      <path d=\"M 32.171875 -5.078125 \r\nQ 28.375 -14.84375 24.75 -17.8125 \r\nQ 21.140625 -20.796875 15.09375 -20.796875 \r\nL 7.90625 -20.796875 \r\nL 7.90625 -13.28125 \r\nL 13.1875 -13.28125 \r\nQ 16.890625 -13.28125 18.9375 -11.515625 \r\nQ 21 -9.765625 23.484375 -3.21875 \r\nL 25.09375 0.875 \r\nL 2.984375 54.6875 \r\nL 12.5 54.6875 \r\nL 29.59375 11.921875 \r\nL 46.6875 54.6875 \r\nL 56.203125 54.6875 \r\nz\r\n\" id=\"DejaVuSans-121\"/>\r\n      <path d=\"M 54.890625 33.015625 \r\nL 54.890625 0 \r\nL 45.90625 0 \r\nL 45.90625 32.71875 \r\nQ 45.90625 40.484375 42.875 44.328125 \r\nQ 39.84375 48.1875 33.796875 48.1875 \r\nQ 26.515625 48.1875 22.3125 43.546875 \r\nQ 18.109375 38.921875 18.109375 30.90625 \r\nL 18.109375 0 \r\nL 9.078125 0 \r\nL 9.078125 54.6875 \r\nL 18.109375 54.6875 \r\nL 18.109375 46.1875 \r\nQ 21.34375 51.125 25.703125 53.5625 \r\nQ 30.078125 56 35.796875 56 \r\nQ 45.21875 56 50.046875 50.171875 \r\nQ 54.890625 44.34375 54.890625 33.015625 \r\nz\r\n\" id=\"DejaVuSans-110\"/>\r\n      <path d=\"M 52 44.1875 \r\nQ 55.375 50.25 60.0625 53.125 \r\nQ 64.75 56 71.09375 56 \r\nQ 79.640625 56 84.28125 50.015625 \r\nQ 88.921875 44.046875 88.921875 33.015625 \r\nL 88.921875 0 \r\nL 79.890625 0 \r\nL 79.890625 32.71875 \r\nQ 79.890625 40.578125 77.09375 44.375 \r\nQ 74.3125 48.1875 68.609375 48.1875 \r\nQ 61.625 48.1875 57.5625 43.546875 \r\nQ 53.515625 38.921875 53.515625 30.90625 \r\nL 53.515625 0 \r\nL 44.484375 0 \r\nL 44.484375 32.71875 \r\nQ 44.484375 40.625 41.703125 44.40625 \r\nQ 38.921875 48.1875 33.109375 48.1875 \r\nQ 26.21875 48.1875 22.15625 43.53125 \r\nQ 18.109375 38.875 18.109375 30.90625 \r\nL 18.109375 0 \r\nL 9.078125 0 \r\nL 9.078125 54.6875 \r\nL 18.109375 54.6875 \r\nL 18.109375 46.1875 \r\nQ 21.1875 51.21875 25.484375 53.609375 \r\nQ 29.78125 56 35.6875 56 \r\nQ 41.65625 56 45.828125 52.96875 \r\nQ 50 49.953125 52 44.1875 \r\nz\r\n\" id=\"DejaVuSans-109\"/>\r\n      <path d=\"M 9.421875 54.6875 \r\nL 18.40625 54.6875 \r\nL 18.40625 0 \r\nL 9.421875 0 \r\nz\r\nM 9.421875 75.984375 \r\nL 18.40625 75.984375 \r\nL 18.40625 64.59375 \r\nL 9.421875 64.59375 \r\nz\r\n\" id=\"DejaVuSans-105\"/>\r\n      <path d=\"M 34.28125 27.484375 \r\nQ 23.390625 27.484375 19.1875 25 \r\nQ 14.984375 22.515625 14.984375 16.5 \r\nQ 14.984375 11.71875 18.140625 8.90625 \r\nQ 21.296875 6.109375 26.703125 6.109375 \r\nQ 34.1875 6.109375 38.703125 11.40625 \r\nQ 43.21875 16.703125 43.21875 25.484375 \r\nL 43.21875 27.484375 \r\nz\r\nM 52.203125 31.203125 \r\nL 52.203125 0 \r\nL 43.21875 0 \r\nL 43.21875 8.296875 \r\nQ 40.140625 3.328125 35.546875 0.953125 \r\nQ 30.953125 -1.421875 24.3125 -1.421875 \r\nQ 15.921875 -1.421875 10.953125 3.296875 \r\nQ 6 8.015625 6 15.921875 \r\nQ 6 25.140625 12.171875 29.828125 \r\nQ 18.359375 34.515625 30.609375 34.515625 \r\nL 43.21875 34.515625 \r\nL 43.21875 35.40625 \r\nQ 43.21875 41.609375 39.140625 45 \r\nQ 35.0625 48.390625 27.6875 48.390625 \r\nQ 23 48.390625 18.546875 47.265625 \r\nQ 14.109375 46.140625 10.015625 43.890625 \r\nL 10.015625 52.203125 \r\nQ 14.9375 54.109375 19.578125 55.046875 \r\nQ 24.21875 56 28.609375 56 \r\nQ 40.484375 56 46.34375 49.84375 \r\nQ 52.203125 43.703125 52.203125 31.203125 \r\nz\r\n\" id=\"DejaVuSans-97\"/>\r\n      <path d=\"M 44.28125 53.078125 \r\nL 44.28125 44.578125 \r\nQ 40.484375 46.53125 36.375 47.5 \r\nQ 32.28125 48.484375 27.875 48.484375 \r\nQ 21.1875 48.484375 17.84375 46.4375 \r\nQ 14.5 44.390625 14.5 40.28125 \r\nQ 14.5 37.15625 16.890625 35.375 \r\nQ 19.28125 33.59375 26.515625 31.984375 \r\nL 29.59375 31.296875 \r\nQ 39.15625 29.25 43.1875 25.515625 \r\nQ 47.21875 21.78125 47.21875 15.09375 \r\nQ 47.21875 7.46875 41.1875 3.015625 \r\nQ 35.15625 -1.421875 24.609375 -1.421875 \r\nQ 20.21875 -1.421875 15.453125 -0.5625 \r\nQ 10.6875 0.296875 5.421875 2 \r\nL 5.421875 11.28125 \r\nQ 10.40625 8.6875 15.234375 7.390625 \r\nQ 20.0625 6.109375 24.8125 6.109375 \r\nQ 31.15625 6.109375 34.5625 8.28125 \r\nQ 37.984375 10.453125 37.984375 14.40625 \r\nQ 37.984375 18.0625 35.515625 20.015625 \r\nQ 33.0625 21.96875 24.703125 23.78125 \r\nL 21.578125 24.515625 \r\nQ 13.234375 26.265625 9.515625 29.90625 \r\nQ 5.8125 33.546875 5.8125 39.890625 \r\nQ 5.8125 47.609375 11.28125 51.796875 \r\nQ 16.75 56 26.8125 56 \r\nQ 31.78125 56 36.171875 55.265625 \r\nQ 40.578125 54.546875 44.28125 53.078125 \r\nz\r\n\" id=\"DejaVuSans-115\"/>\r\n      <path d=\"M 11.71875 12.40625 \r\nL 22.015625 12.40625 \r\nL 22.015625 0 \r\nL 11.71875 0 \r\nz\r\nM 11.71875 51.703125 \r\nL 22.015625 51.703125 \r\nL 22.015625 39.3125 \r\nL 11.71875 39.3125 \r\nz\r\n\" id=\"DejaVuSans-58\"/>\r\n      <path d=\"M 33.015625 40.375 \r\nQ 26.375 40.375 22.484375 35.828125 \r\nQ 18.609375 31.296875 18.609375 23.390625 \r\nQ 18.609375 15.53125 22.484375 10.953125 \r\nQ 26.375 6.390625 33.015625 6.390625 \r\nQ 39.65625 6.390625 43.53125 10.953125 \r\nQ 47.40625 15.53125 47.40625 23.390625 \r\nQ 47.40625 31.296875 43.53125 35.828125 \r\nQ 39.65625 40.375 33.015625 40.375 \r\nz\r\nM 52.59375 71.296875 \r\nL 52.59375 62.3125 \r\nQ 48.875 64.0625 45.09375 64.984375 \r\nQ 41.3125 65.921875 37.59375 65.921875 \r\nQ 27.828125 65.921875 22.671875 59.328125 \r\nQ 17.53125 52.734375 16.796875 39.40625 \r\nQ 19.671875 43.65625 24.015625 45.921875 \r\nQ 28.375 48.1875 33.59375 48.1875 \r\nQ 44.578125 48.1875 50.953125 41.515625 \r\nQ 57.328125 34.859375 57.328125 23.390625 \r\nQ 57.328125 12.15625 50.6875 5.359375 \r\nQ 44.046875 -1.421875 33.015625 -1.421875 \r\nQ 20.359375 -1.421875 13.671875 8.265625 \r\nQ 6.984375 17.96875 6.984375 36.375 \r\nQ 6.984375 53.65625 15.1875 63.9375 \r\nQ 23.390625 74.21875 37.203125 74.21875 \r\nQ 40.921875 74.21875 44.703125 73.484375 \r\nQ 48.484375 72.75 52.59375 71.296875 \r\nz\r\n\" id=\"DejaVuSans-54\"/>\r\n     </defs>\r\n     <use xlink:href=\"#DejaVuSans-68\"/>\r\n     <use x=\"77.001953\" xlink:href=\"#DejaVuSans-101\"/>\r\n     <use x=\"138.525391\" xlink:href=\"#DejaVuSans-103\"/>\r\n     <use x=\"202.001953\" xlink:href=\"#DejaVuSans-114\"/>\r\n     <use x=\"240.865234\" xlink:href=\"#DejaVuSans-101\"/>\r\n     <use x=\"302.388672\" xlink:href=\"#DejaVuSans-101\"/>\r\n     <use x=\"363.912109\" xlink:href=\"#DejaVuSans-32\"/>\r\n     <use x=\"395.699219\" xlink:href=\"#DejaVuSans-111\"/>\r\n     <use x=\"456.880859\" xlink:href=\"#DejaVuSans-102\"/>\r\n     <use x=\"492.085938\" xlink:href=\"#DejaVuSans-32\"/>\r\n     <use x=\"523.873047\" xlink:href=\"#DejaVuSans-112\"/>\r\n     <use x=\"587.349609\" xlink:href=\"#DejaVuSans-111\"/>\r\n     <use x=\"648.53125\" xlink:href=\"#DejaVuSans-108\"/>\r\n     <use x=\"676.314453\" xlink:href=\"#DejaVuSans-121\"/>\r\n     <use x=\"735.494141\" xlink:href=\"#DejaVuSans-110\"/>\r\n     <use x=\"798.873047\" xlink:href=\"#DejaVuSans-111\"/>\r\n     <use x=\"860.054688\" xlink:href=\"#DejaVuSans-109\"/>\r\n     <use x=\"957.466797\" xlink:href=\"#DejaVuSans-105\"/>\r\n     <use x=\"985.25\" xlink:href=\"#DejaVuSans-97\"/>\r\n     <use x=\"1046.529297\" xlink:href=\"#DejaVuSans-108\"/>\r\n     <use x=\"1074.3125\" xlink:href=\"#DejaVuSans-32\"/>\r\n     <use x=\"1106.099609\" xlink:href=\"#DejaVuSans-114\"/>\r\n     <use x=\"1144.962891\" xlink:href=\"#DejaVuSans-101\"/>\r\n     <use x=\"1206.486328\" xlink:href=\"#DejaVuSans-103\"/>\r\n     <use x=\"1269.962891\" xlink:href=\"#DejaVuSans-114\"/>\r\n     <use x=\"1308.826172\" xlink:href=\"#DejaVuSans-101\"/>\r\n     <use x=\"1370.349609\" xlink:href=\"#DejaVuSans-115\"/>\r\n     <use x=\"1422.449219\" xlink:href=\"#DejaVuSans-115\"/>\r\n     <use x=\"1474.548828\" xlink:href=\"#DejaVuSans-105\"/>\r\n     <use x=\"1502.332031\" xlink:href=\"#DejaVuSans-111\"/>\r\n     <use x=\"1563.513672\" xlink:href=\"#DejaVuSans-110\"/>\r\n     <use x=\"1626.892578\" xlink:href=\"#DejaVuSans-32\"/>\r\n     <use x=\"1658.679688\" xlink:href=\"#DejaVuSans-58\"/>\r\n     <use x=\"1692.371094\" xlink:href=\"#DejaVuSans-32\"/>\r\n     <use x=\"1724.158203\" xlink:href=\"#DejaVuSans-54\"/>\r\n    </g>\r\n   </g>\r\n   <g id=\"legend_1\">\r\n    <g id=\"patch_7\">\r\n     <path d=\"M 48.823047 73.35625 \r\nL 166.712109 73.35625 \r\nQ 168.712109 73.35625 168.712109 71.35625 \r\nL 168.712109 43 \r\nQ 168.712109 41 166.712109 41 \r\nL 48.823047 41 \r\nQ 46.823047 41 46.823047 43 \r\nL 46.823047 71.35625 \r\nQ 46.823047 73.35625 48.823047 73.35625 \r\nz\r\n\" style=\"fill:#ffffff;opacity:0.8;stroke:#cccccc;stroke-linejoin:miter;\"/>\r\n    </g>\r\n    <g id=\"line2d_15\">\r\n     <path d=\"M 50.823047 49.098437 \r\nL 70.823047 49.098437 \r\n\" style=\"fill:none;stroke:#0000ff;stroke-linecap:square;stroke-width:1.5;\"/>\r\n    </g>\r\n    <g id=\"line2d_16\">\r\n     <defs>\r\n      <path d=\"M 0 3.75 \r\nC 0.994512 3.75 1.948425 3.354876 2.65165 2.65165 \r\nC 3.354876 1.948425 3.75 0.994512 3.75 0 \r\nC 3.75 -0.994512 3.354876 -1.948425 2.65165 -2.65165 \r\nC 1.948425 -3.354876 0.994512 -3.75 0 -3.75 \r\nC -0.994512 -3.75 -1.948425 -3.354876 -2.65165 -2.65165 \r\nC -3.354876 -1.948425 -3.75 -0.994512 -3.75 0 \r\nC -3.75 0.994512 -3.354876 1.948425 -2.65165 2.65165 \r\nC -1.948425 3.354876 -0.994512 3.75 0 3.75 \r\nz\r\n\" id=\"m682e2cdbef\" style=\"stroke:#0000ff;\"/>\r\n     </defs>\r\n     <g>\r\n      <use style=\"fill:#0000ff;stroke:#0000ff;\" x=\"60.823047\" xlink:href=\"#m682e2cdbef\" y=\"49.098437\"/>\r\n     </g>\r\n    </g>\r\n    <g id=\"text_15\">\r\n     <!-- Hospitalization -->\r\n     <g transform=\"translate(78.823047 52.598437)scale(0.1 -0.1)\">\r\n      <defs>\r\n       <path d=\"M 9.8125 72.90625 \r\nL 19.671875 72.90625 \r\nL 19.671875 43.015625 \r\nL 55.515625 43.015625 \r\nL 55.515625 72.90625 \r\nL 65.375 72.90625 \r\nL 65.375 0 \r\nL 55.515625 0 \r\nL 55.515625 34.71875 \r\nL 19.671875 34.71875 \r\nL 19.671875 0 \r\nL 9.8125 0 \r\nz\r\n\" id=\"DejaVuSans-72\"/>\r\n       <path d=\"M 18.3125 70.21875 \r\nL 18.3125 54.6875 \r\nL 36.8125 54.6875 \r\nL 36.8125 47.703125 \r\nL 18.3125 47.703125 \r\nL 18.3125 18.015625 \r\nQ 18.3125 11.328125 20.140625 9.421875 \r\nQ 21.96875 7.515625 27.59375 7.515625 \r\nL 36.8125 7.515625 \r\nL 36.8125 0 \r\nL 27.59375 0 \r\nQ 17.1875 0 13.234375 3.875 \r\nQ 9.28125 7.765625 9.28125 18.015625 \r\nL 9.28125 47.703125 \r\nL 2.6875 47.703125 \r\nL 2.6875 54.6875 \r\nL 9.28125 54.6875 \r\nL 9.28125 70.21875 \r\nz\r\n\" id=\"DejaVuSans-116\"/>\r\n       <path d=\"M 5.515625 54.6875 \r\nL 48.1875 54.6875 \r\nL 48.1875 46.484375 \r\nL 14.40625 7.171875 \r\nL 48.1875 7.171875 \r\nL 48.1875 0 \r\nL 4.296875 0 \r\nL 4.296875 8.203125 \r\nL 38.09375 47.515625 \r\nL 5.515625 47.515625 \r\nz\r\n\" id=\"DejaVuSans-122\"/>\r\n      </defs>\r\n      <use xlink:href=\"#DejaVuSans-72\"/>\r\n      <use x=\"75.195312\" xlink:href=\"#DejaVuSans-111\"/>\r\n      <use x=\"136.376953\" xlink:href=\"#DejaVuSans-115\"/>\r\n      <use x=\"188.476562\" xlink:href=\"#DejaVuSans-112\"/>\r\n      <use x=\"251.953125\" xlink:href=\"#DejaVuSans-105\"/>\r\n      <use x=\"279.736328\" xlink:href=\"#DejaVuSans-116\"/>\r\n      <use x=\"318.945312\" xlink:href=\"#DejaVuSans-97\"/>\r\n      <use x=\"380.224609\" xlink:href=\"#DejaVuSans-108\"/>\r\n      <use x=\"408.007812\" xlink:href=\"#DejaVuSans-105\"/>\r\n      <use x=\"435.791016\" xlink:href=\"#DejaVuSans-122\"/>\r\n      <use x=\"488.28125\" xlink:href=\"#DejaVuSans-97\"/>\r\n      <use x=\"549.560547\" xlink:href=\"#DejaVuSans-116\"/>\r\n      <use x=\"588.769531\" xlink:href=\"#DejaVuSans-105\"/>\r\n      <use x=\"616.552734\" xlink:href=\"#DejaVuSans-111\"/>\r\n      <use x=\"677.734375\" xlink:href=\"#DejaVuSans-110\"/>\r\n     </g>\r\n    </g>\r\n    <g id=\"line2d_17\">\r\n     <path d=\"M 50.823047 63.776562 \r\nL 70.823047 63.776562 \r\n\" style=\"fill:none;stroke:#ff0000;stroke-linecap:square;stroke-width:1.5;\"/>\r\n    </g>\r\n    <g id=\"line2d_18\"/>\r\n    <g id=\"text_16\">\r\n     <!-- Regression curve -->\r\n     <g transform=\"translate(78.823047 67.276562)scale(0.1 -0.1)\">\r\n      <defs>\r\n       <path d=\"M 44.390625 34.1875 \r\nQ 47.5625 33.109375 50.5625 29.59375 \r\nQ 53.5625 26.078125 56.59375 19.921875 \r\nL 66.609375 0 \r\nL 56 0 \r\nL 46.6875 18.703125 \r\nQ 43.0625 26.03125 39.671875 28.421875 \r\nQ 36.28125 30.8125 30.421875 30.8125 \r\nL 19.671875 30.8125 \r\nL 19.671875 0 \r\nL 9.8125 0 \r\nL 9.8125 72.90625 \r\nL 32.078125 72.90625 \r\nQ 44.578125 72.90625 50.734375 67.671875 \r\nQ 56.890625 62.453125 56.890625 51.90625 \r\nQ 56.890625 45.015625 53.6875 40.46875 \r\nQ 50.484375 35.9375 44.390625 34.1875 \r\nz\r\nM 19.671875 64.796875 \r\nL 19.671875 38.921875 \r\nL 32.078125 38.921875 \r\nQ 39.203125 38.921875 42.84375 42.21875 \r\nQ 46.484375 45.515625 46.484375 51.90625 \r\nQ 46.484375 58.296875 42.84375 61.546875 \r\nQ 39.203125 64.796875 32.078125 64.796875 \r\nz\r\n\" id=\"DejaVuSans-82\"/>\r\n       <path d=\"M 48.78125 52.59375 \r\nL 48.78125 44.1875 \r\nQ 44.96875 46.296875 41.140625 47.34375 \r\nQ 37.3125 48.390625 33.40625 48.390625 \r\nQ 24.65625 48.390625 19.8125 42.84375 \r\nQ 14.984375 37.3125 14.984375 27.296875 \r\nQ 14.984375 17.28125 19.8125 11.734375 \r\nQ 24.65625 6.203125 33.40625 6.203125 \r\nQ 37.3125 6.203125 41.140625 7.25 \r\nQ 44.96875 8.296875 48.78125 10.40625 \r\nL 48.78125 2.09375 \r\nQ 45.015625 0.34375 40.984375 -0.53125 \r\nQ 36.96875 -1.421875 32.421875 -1.421875 \r\nQ 20.0625 -1.421875 12.78125 6.34375 \r\nQ 5.515625 14.109375 5.515625 27.296875 \r\nQ 5.515625 40.671875 12.859375 48.328125 \r\nQ 20.21875 56 33.015625 56 \r\nQ 37.15625 56 41.109375 55.140625 \r\nQ 45.0625 54.296875 48.78125 52.59375 \r\nz\r\n\" id=\"DejaVuSans-99\"/>\r\n       <path d=\"M 8.5 21.578125 \r\nL 8.5 54.6875 \r\nL 17.484375 54.6875 \r\nL 17.484375 21.921875 \r\nQ 17.484375 14.15625 20.5 10.265625 \r\nQ 23.53125 6.390625 29.59375 6.390625 \r\nQ 36.859375 6.390625 41.078125 11.03125 \r\nQ 45.3125 15.671875 45.3125 23.6875 \r\nL 45.3125 54.6875 \r\nL 54.296875 54.6875 \r\nL 54.296875 0 \r\nL 45.3125 0 \r\nL 45.3125 8.40625 \r\nQ 42.046875 3.421875 37.71875 1 \r\nQ 33.40625 -1.421875 27.6875 -1.421875 \r\nQ 18.265625 -1.421875 13.375 4.4375 \r\nQ 8.5 10.296875 8.5 21.578125 \r\nz\r\nM 31.109375 56 \r\nz\r\n\" id=\"DejaVuSans-117\"/>\r\n       <path d=\"M 2.984375 54.6875 \r\nL 12.5 54.6875 \r\nL 29.59375 8.796875 \r\nL 46.6875 54.6875 \r\nL 56.203125 54.6875 \r\nL 35.6875 0 \r\nL 23.484375 0 \r\nz\r\n\" id=\"DejaVuSans-118\"/>\r\n      </defs>\r\n      <use xlink:href=\"#DejaVuSans-82\"/>\r\n      <use x=\"64.982422\" xlink:href=\"#DejaVuSans-101\"/>\r\n      <use x=\"126.505859\" xlink:href=\"#DejaVuSans-103\"/>\r\n      <use x=\"189.982422\" xlink:href=\"#DejaVuSans-114\"/>\r\n      <use x=\"228.845703\" xlink:href=\"#DejaVuSans-101\"/>\r\n      <use x=\"290.369141\" xlink:href=\"#DejaVuSans-115\"/>\r\n      <use x=\"342.46875\" xlink:href=\"#DejaVuSans-115\"/>\r\n      <use x=\"394.568359\" xlink:href=\"#DejaVuSans-105\"/>\r\n      <use x=\"422.351562\" xlink:href=\"#DejaVuSans-111\"/>\r\n      <use x=\"483.533203\" xlink:href=\"#DejaVuSans-110\"/>\r\n      <use x=\"546.912109\" xlink:href=\"#DejaVuSans-32\"/>\r\n      <use x=\"578.699219\" xlink:href=\"#DejaVuSans-99\"/>\r\n      <use x=\"633.679688\" xlink:href=\"#DejaVuSans-117\"/>\r\n      <use x=\"697.058594\" xlink:href=\"#DejaVuSans-114\"/>\r\n      <use x=\"738.171875\" xlink:href=\"#DejaVuSans-118\"/>\r\n      <use x=\"797.351562\" xlink:href=\"#DejaVuSans-101\"/>\r\n     </g>\r\n    </g>\r\n   </g>\r\n  </g>\r\n  <g id=\"text_17\">\r\n   <!-- Polynomial regression of Hospitalization in Occitanie -->\r\n   <g transform=\"translate(7.2 18.597656)scale(0.15 -0.15)\">\r\n    <defs>\r\n     <path d=\"M 19.671875 64.796875 \r\nL 19.671875 37.40625 \r\nL 32.078125 37.40625 \r\nQ 38.96875 37.40625 42.71875 40.96875 \r\nQ 46.484375 44.53125 46.484375 51.125 \r\nQ 46.484375 57.671875 42.71875 61.234375 \r\nQ 38.96875 64.796875 32.078125 64.796875 \r\nz\r\nM 9.8125 72.90625 \r\nL 32.078125 72.90625 \r\nQ 44.34375 72.90625 50.609375 67.359375 \r\nQ 56.890625 61.8125 56.890625 51.125 \r\nQ 56.890625 40.328125 50.609375 34.8125 \r\nQ 44.34375 29.296875 32.078125 29.296875 \r\nL 19.671875 29.296875 \r\nL 19.671875 0 \r\nL 9.8125 0 \r\nz\r\n\" id=\"DejaVuSans-80\"/>\r\n     <path d=\"M 39.40625 66.21875 \r\nQ 28.65625 66.21875 22.328125 58.203125 \r\nQ 16.015625 50.203125 16.015625 36.375 \r\nQ 16.015625 22.609375 22.328125 14.59375 \r\nQ 28.65625 6.59375 39.40625 6.59375 \r\nQ 50.140625 6.59375 56.421875 14.59375 \r\nQ 62.703125 22.609375 62.703125 36.375 \r\nQ 62.703125 50.203125 56.421875 58.203125 \r\nQ 50.140625 66.21875 39.40625 66.21875 \r\nz\r\nM 39.40625 74.21875 \r\nQ 54.734375 74.21875 63.90625 63.9375 \r\nQ 73.09375 53.65625 73.09375 36.375 \r\nQ 73.09375 19.140625 63.90625 8.859375 \r\nQ 54.734375 -1.421875 39.40625 -1.421875 \r\nQ 24.03125 -1.421875 14.8125 8.828125 \r\nQ 5.609375 19.09375 5.609375 36.375 \r\nQ 5.609375 53.65625 14.8125 63.9375 \r\nQ 24.03125 74.21875 39.40625 74.21875 \r\nz\r\n\" id=\"DejaVuSans-79\"/>\r\n    </defs>\r\n    <use xlink:href=\"#DejaVuSans-80\"/>\r\n    <use x=\"56.677734\" xlink:href=\"#DejaVuSans-111\"/>\r\n    <use x=\"117.859375\" xlink:href=\"#DejaVuSans-108\"/>\r\n    <use x=\"145.642578\" xlink:href=\"#DejaVuSans-121\"/>\r\n    <use x=\"204.822266\" xlink:href=\"#DejaVuSans-110\"/>\r\n    <use x=\"268.201172\" xlink:href=\"#DejaVuSans-111\"/>\r\n    <use x=\"329.382812\" xlink:href=\"#DejaVuSans-109\"/>\r\n    <use x=\"426.794922\" xlink:href=\"#DejaVuSans-105\"/>\r\n    <use x=\"454.578125\" xlink:href=\"#DejaVuSans-97\"/>\r\n    <use x=\"515.857422\" xlink:href=\"#DejaVuSans-108\"/>\r\n    <use x=\"543.640625\" xlink:href=\"#DejaVuSans-32\"/>\r\n    <use x=\"575.427734\" xlink:href=\"#DejaVuSans-114\"/>\r\n    <use x=\"614.291016\" xlink:href=\"#DejaVuSans-101\"/>\r\n    <use x=\"675.814453\" xlink:href=\"#DejaVuSans-103\"/>\r\n    <use x=\"739.291016\" xlink:href=\"#DejaVuSans-114\"/>\r\n    <use x=\"778.154297\" xlink:href=\"#DejaVuSans-101\"/>\r\n    <use x=\"839.677734\" xlink:href=\"#DejaVuSans-115\"/>\r\n    <use x=\"891.777344\" xlink:href=\"#DejaVuSans-115\"/>\r\n    <use x=\"943.876953\" xlink:href=\"#DejaVuSans-105\"/>\r\n    <use x=\"971.660156\" xlink:href=\"#DejaVuSans-111\"/>\r\n    <use x=\"1032.841797\" xlink:href=\"#DejaVuSans-110\"/>\r\n    <use x=\"1096.220703\" xlink:href=\"#DejaVuSans-32\"/>\r\n    <use x=\"1128.007812\" xlink:href=\"#DejaVuSans-111\"/>\r\n    <use x=\"1189.189453\" xlink:href=\"#DejaVuSans-102\"/>\r\n    <use x=\"1224.394531\" xlink:href=\"#DejaVuSans-32\"/>\r\n    <use x=\"1256.181641\" xlink:href=\"#DejaVuSans-72\"/>\r\n    <use x=\"1331.376953\" xlink:href=\"#DejaVuSans-111\"/>\r\n    <use x=\"1392.558594\" xlink:href=\"#DejaVuSans-115\"/>\r\n    <use x=\"1444.658203\" xlink:href=\"#DejaVuSans-112\"/>\r\n    <use x=\"1508.134766\" xlink:href=\"#DejaVuSans-105\"/>\r\n    <use x=\"1535.917969\" xlink:href=\"#DejaVuSans-116\"/>\r\n    <use x=\"1575.126953\" xlink:href=\"#DejaVuSans-97\"/>\r\n    <use x=\"1636.40625\" xlink:href=\"#DejaVuSans-108\"/>\r\n    <use x=\"1664.189453\" xlink:href=\"#DejaVuSans-105\"/>\r\n    <use x=\"1691.972656\" xlink:href=\"#DejaVuSans-122\"/>\r\n    <use x=\"1744.462891\" xlink:href=\"#DejaVuSans-97\"/>\r\n    <use x=\"1805.742188\" xlink:href=\"#DejaVuSans-116\"/>\r\n    <use x=\"1844.951172\" xlink:href=\"#DejaVuSans-105\"/>\r\n    <use x=\"1872.734375\" xlink:href=\"#DejaVuSans-111\"/>\r\n    <use x=\"1933.916016\" xlink:href=\"#DejaVuSans-110\"/>\r\n    <use x=\"1997.294922\" xlink:href=\"#DejaVuSans-32\"/>\r\n    <use x=\"2029.082031\" xlink:href=\"#DejaVuSans-105\"/>\r\n    <use x=\"2056.865234\" xlink:href=\"#DejaVuSans-110\"/>\r\n    <use x=\"2120.244141\" xlink:href=\"#DejaVuSans-32\"/>\r\n    <use x=\"2152.03125\" xlink:href=\"#DejaVuSans-79\"/>\r\n    <use x=\"2230.742188\" xlink:href=\"#DejaVuSans-99\"/>\r\n    <use x=\"2285.722656\" xlink:href=\"#DejaVuSans-99\"/>\r\n    <use x=\"2340.703125\" xlink:href=\"#DejaVuSans-105\"/>\r\n    <use x=\"2368.486328\" xlink:href=\"#DejaVuSans-116\"/>\r\n    <use x=\"2407.695312\" xlink:href=\"#DejaVuSans-97\"/>\r\n    <use x=\"2468.974609\" xlink:href=\"#DejaVuSans-110\"/>\r\n    <use x=\"2532.353516\" xlink:href=\"#DejaVuSans-105\"/>\r\n    <use x=\"2560.136719\" xlink:href=\"#DejaVuSans-101\"/>\r\n   </g>\r\n  </g>\r\n </g>\r\n <defs>\r\n  <clipPath id=\"p8c801be048\">\r\n   <rect height=\"217.44\" width=\"334.8\" x=\"41.823047\" y=\"36\"/>\r\n  </clipPath>\r\n </defs>\r\n</svg>\r\n",
      "image/png": "[encoded data removed]"
     },
     "metadata": {
      "needs_background": "light"
     }
    }
   ],
   "source": [
    "regression.poly_fit(1, 76, save=False)"
   ]
  },
  {
   "cell_type": "code",
   "execution_count": 6,
   "metadata": {},
   "outputs": [
    {
     "output_type": "stream",
     "name": "stdout",
     "text": [
      "Downloading data from https://static.data.gouv.fr/resources/donnees-hospitalieres-relatives-a-lepidemie-de-covid-19/20210423-201250/donnees-hospitalieres-classe-age-covid19-2021-04-23-20h12.csv (3.2 MB)\n",
      "\n",
      "file_sizes: 100%|██████████████████████████| 3.31M/3.31M [00:01<00:00, 2.60MB/s]\n",
      "Successfully downloaded file to C:\\Users\\quenf\\vizcovidfr\\vizcovidfr\\loads\\..\\data\\./classe_age.csv\n",
      "c:\\users\\quenf\\vizcovidfr\\vizcovidfr\\regression\\regression.py:471: FutureWarning:\n",
      "\n",
      "Support for multi-dimensional indexing (e.g. `obj[:, None]`) is deprecated and will be removed in a future version.  Convert to a numpy array before indexing instead.\n",
      "\n",
      "Time to execute: 2.40302 s.\n"
     ]
    },
    {
     "output_type": "execute_result",
     "data": {
      "text/plain": [
       "'R2 of polynomial regression of Hospitalization in Occitanie is : 0.8714244754837173.'"
      ]
     },
     "metadata": {},
     "execution_count": 6
    }
   ],
   "source": [
    "regression.R2(1, 76)"
   ]
  },
  {
   "source": [
    "That polynomial regression allowed us to make a prediction which works well in a foreseeable future. \n",
    "\n",
    "## Prediction"
   ],
   "cell_type": "markdown",
   "metadata": {}
  },
  {
   "cell_type": "code",
   "execution_count": 14,
   "metadata": {},
   "outputs": [
    {
     "output_type": "stream",
     "name": "stdout",
     "text": [
      "Downloading data from https://static.data.gouv.fr/resources/donnees-hospitalieres-relatives-a-lepidemie-de-covid-19/20210424-190508/donnees-hospitalieres-classe-age-covid19-2021-04-24-19h05.csv (3.2 MB)\n",
      "\n",
      "file_sizes: 100%|██████████████████████████| 3.32M/3.32M [00:01<00:00, 2.55MB/s]\n",
      "Successfully downloaded file to C:\\Users\\quenf\\vizcovidfr\\vizcovidfr\\loads\\..\\data\\./classe_age.csv\n",
      "c:\\users\\quenf\\vizcovidfr\\vizcovidfr\\prediction\\prediction.py:152: FutureWarning:\n",
      "\n",
      "Support for multi-dimensional indexing (e.g. `obj[:, None]`) is deprecated and will be removed in a future version.  Convert to a numpy array before indexing instead.\n",
      "\n",
      "Time to execute: 2.18217 s.\n"
     ]
    },
    {
     "output_type": "display_data",
     "data": {
      "text/plain": "<Figure size 432x288 with 1 Axes>",
      "image/svg+xml": "<?xml version=\"1.0\" encoding=\"utf-8\" standalone=\"no\"?>\r\n<!DOCTYPE svg PUBLIC \"-//W3C//DTD SVG 1.1//EN\"\r\n  \"http://www.w3.org/Graphics/SVG/1.1/DTD/svg11.dtd\">\r\n<!-- Created with matplotlib (https://matplotlib.org/) -->\r\n<svg height=\"277.073625pt\" version=\"1.1\" viewBox=\"0 0 388.069214 277.073625\" width=\"388.069214pt\" xmlns=\"http://www.w3.org/2000/svg\" xmlns:xlink=\"http://www.w3.org/1999/xlink\">\r\n <metadata>\r\n  <rdf:RDF xmlns:cc=\"http://creativecommons.org/ns#\" xmlns:dc=\"http://purl.org/dc/elements/1.1/\" xmlns:rdf=\"http://www.w3.org/1999/02/22-rdf-syntax-ns#\">\r\n   <cc:Work>\r\n    <dc:type rdf:resource=\"http://purl.org/dc/dcmitype/StillImage\"/>\r\n    <dc:date>2021-04-24T22:00:29.325943</dc:date>\r\n    <dc:format>image/svg+xml</dc:format>\r\n    <dc:creator>\r\n     <cc:Agent>\r\n      <dc:title>Matplotlib v3.3.2, https://matplotlib.org/</dc:title>\r\n     </cc:Agent>\r\n    </dc:creator>\r\n   </cc:Work>\r\n  </rdf:RDF>\r\n </metadata>\r\n <defs>\r\n  <style type=\"text/css\">*{stroke-linecap:butt;stroke-linejoin:round;}</style>\r\n </defs>\r\n <g id=\"figure_1\">\r\n  <g id=\"patch_1\">\r\n   <path d=\"M -0 277.073625 \r\nL 388.069214 277.073625 \r\nL 388.069214 0 \r\nL -0 0 \r\nz\r\n\" style=\"fill:none;\"/>\r\n  </g>\r\n  <g id=\"axes_1\">\r\n   <g id=\"patch_2\">\r\n    <path d=\"M 39.65 253.1955 \r\nL 374.45 253.1955 \r\nL 374.45 35.7555 \r\nL 39.65 35.7555 \r\nz\r\n\" style=\"fill:#ffffff;\"/>\r\n   </g>\r\n   <g id=\"PathCollection_1\">\r\n    <defs>\r\n     <path d=\"M 0 3 \r\nC 0.795609 3 1.55874 2.683901 2.12132 2.12132 \r\nC 2.683901 1.55874 3 0.795609 3 0 \r\nC 3 -0.795609 2.683901 -1.55874 2.12132 -2.12132 \r\nC 1.55874 -2.683901 0.795609 -3 0 -3 \r\nC -0.795609 -3 -1.55874 -2.683901 -2.12132 -2.12132 \r\nC -2.683901 -1.55874 -3 -0.795609 -3 0 \r\nC -3 0.795609 -2.683901 1.55874 -2.12132 2.12132 \r\nC -1.55874 2.683901 -0.795609 3 0 3 \r\nz\r\n\" id=\"m940c6729ef\" style=\"stroke:#1f77b4;\"/>\r\n    </defs>\r\n    <g clip-path=\"url(#p3141f32b33)\">\r\n     <use style=\"fill:#1f77b4;stroke:#1f77b4;\" x=\"54.868182\" xlink:href=\"#m940c6729ef\" y=\"226.32835\"/>\r\n     <use style=\"fill:#1f77b4;stroke:#1f77b4;\" x=\"55.614171\" xlink:href=\"#m940c6729ef\" y=\"222.104447\"/>\r\n     <use style=\"fill:#1f77b4;stroke:#1f77b4;\" x=\"56.36016\" xlink:href=\"#m940c6729ef\" y=\"218.819188\"/>\r\n     <use style=\"fill:#1f77b4;stroke:#1f77b4;\" x=\"57.10615\" xlink:href=\"#m940c6729ef\" y=\"217.027229\"/>\r\n     <use style=\"fill:#1f77b4;stroke:#1f77b4;\" x=\"57.852139\" xlink:href=\"#m940c6729ef\" y=\"212.248671\"/>\r\n     <use style=\"fill:#1f77b4;stroke:#1f77b4;\" x=\"58.598128\" xlink:href=\"#m940c6729ef\" y=\"206.190143\"/>\r\n     <use style=\"fill:#1f77b4;stroke:#1f77b4;\" x=\"59.344118\" xlink:href=\"#m940c6729ef\" y=\"201.795576\"/>\r\n     <use style=\"fill:#1f77b4;stroke:#1f77b4;\" x=\"60.090107\" xlink:href=\"#m940c6729ef\" y=\"194.457077\"/>\r\n     <use style=\"fill:#1f77b4;stroke:#1f77b4;\" x=\"60.836096\" xlink:href=\"#m940c6729ef\" y=\"187.374572\"/>\r\n     <use style=\"fill:#1f77b4;stroke:#1f77b4;\" x=\"61.582086\" xlink:href=\"#m940c6729ef\" y=\"181.700034\"/>\r\n     <use style=\"fill:#1f77b4;stroke:#1f77b4;\" x=\"62.328075\" xlink:href=\"#m940c6729ef\" y=\"174.233538\"/>\r\n     <use style=\"fill:#1f77b4;stroke:#1f77b4;\" x=\"63.074064\" xlink:href=\"#m940c6729ef\" y=\"166.468382\"/>\r\n     <use style=\"fill:#1f77b4;stroke:#1f77b4;\" x=\"63.820053\" xlink:href=\"#m940c6729ef\" y=\"161.519161\"/>\r\n     <use style=\"fill:#1f77b4;stroke:#1f77b4;\" x=\"64.566043\" xlink:href=\"#m940c6729ef\" y=\"159.812533\"/>\r\n     <use style=\"fill:#1f77b4;stroke:#1f77b4;\" x=\"65.312032\" xlink:href=\"#m940c6729ef\" y=\"155.375301\"/>\r\n     <use style=\"fill:#1f77b4;stroke:#1f77b4;\" x=\"66.058021\" xlink:href=\"#m940c6729ef\" y=\"151.108732\"/>\r\n     <use style=\"fill:#1f77b4;stroke:#1f77b4;\" x=\"66.804011\" xlink:href=\"#m940c6729ef\" y=\"148.463459\"/>\r\n     <use style=\"fill:#1f77b4;stroke:#1f77b4;\" x=\"67.55\" xlink:href=\"#m940c6729ef\" y=\"149.316773\"/>\r\n     <use style=\"fill:#1f77b4;stroke:#1f77b4;\" x=\"68.295989\" xlink:href=\"#m940c6729ef\" y=\"147.012825\"/>\r\n     <use style=\"fill:#1f77b4;stroke:#1f77b4;\" x=\"69.041979\" xlink:href=\"#m940c6729ef\" y=\"145.092869\"/>\r\n     <use style=\"fill:#1f77b4;stroke:#1f77b4;\" x=\"69.787968\" xlink:href=\"#m940c6729ef\" y=\"146.415505\"/>\r\n     <use style=\"fill:#1f77b4;stroke:#1f77b4;\" x=\"70.533957\" xlink:href=\"#m940c6729ef\" y=\"149.060779\"/>\r\n     <use style=\"fill:#1f77b4;stroke:#1f77b4;\" x=\"71.279947\" xlink:href=\"#m940c6729ef\" y=\"149.786095\"/>\r\n     <use style=\"fill:#1f77b4;stroke:#1f77b4;\" x=\"72.025936\" xlink:href=\"#m940c6729ef\" y=\"152.730028\"/>\r\n     <use style=\"fill:#1f77b4;stroke:#1f77b4;\" x=\"72.771925\" xlink:href=\"#m940c6729ef\" y=\"156.057952\"/>\r\n     <use style=\"fill:#1f77b4;stroke:#1f77b4;\" x=\"73.517914\" xlink:href=\"#m940c6729ef\" y=\"152.986022\"/>\r\n     <use style=\"fill:#1f77b4;stroke:#1f77b4;\" x=\"74.263904\" xlink:href=\"#m940c6729ef\" y=\"151.279395\"/>\r\n     <use style=\"fill:#1f77b4;stroke:#1f77b4;\" x=\"75.009893\" xlink:href=\"#m940c6729ef\" y=\"152.303371\"/>\r\n     <use style=\"fill:#1f77b4;stroke:#1f77b4;\" x=\"75.755882\" xlink:href=\"#m940c6729ef\" y=\"156.484609\"/>\r\n     <use style=\"fill:#1f77b4;stroke:#1f77b4;\" x=\"76.501872\" xlink:href=\"#m940c6729ef\" y=\"160.153859\"/>\r\n     <use style=\"fill:#1f77b4;stroke:#1f77b4;\" x=\"77.247861\" xlink:href=\"#m940c6729ef\" y=\"160.53785\"/>\r\n     <use style=\"fill:#1f77b4;stroke:#1f77b4;\" x=\"77.99385\" xlink:href=\"#m940c6729ef\" y=\"161.007173\"/>\r\n     <use style=\"fill:#1f77b4;stroke:#1f77b4;\" x=\"78.73984\" xlink:href=\"#m940c6729ef\" y=\"159.556539\"/>\r\n     <use style=\"fill:#1f77b4;stroke:#1f77b4;\" x=\"79.485829\" xlink:href=\"#m940c6729ef\" y=\"158.191237\"/>\r\n     <use style=\"fill:#1f77b4;stroke:#1f77b4;\" x=\"80.231818\" xlink:href=\"#m940c6729ef\" y=\"159.556539\"/>\r\n     <use style=\"fill:#1f77b4;stroke:#1f77b4;\" x=\"80.977807\" xlink:href=\"#m940c6729ef\" y=\"161.263167\"/>\r\n     <use style=\"fill:#1f77b4;stroke:#1f77b4;\" x=\"81.723797\" xlink:href=\"#m940c6729ef\" y=\"165.785731\"/>\r\n     <use style=\"fill:#1f77b4;stroke:#1f77b4;\" x=\"82.469786\" xlink:href=\"#m940c6729ef\" y=\"171.076277\"/>\r\n     <use style=\"fill:#1f77b4;stroke:#1f77b4;\" x=\"83.215775\" xlink:href=\"#m940c6729ef\" y=\"172.612242\"/>\r\n     <use style=\"fill:#1f77b4;stroke:#1f77b4;\" x=\"83.961765\" xlink:href=\"#m940c6729ef\" y=\"172.270916\"/>\r\n     <use style=\"fill:#1f77b4;stroke:#1f77b4;\" x=\"84.707754\" xlink:href=\"#m940c6729ef\" y=\"172.100253\"/>\r\n     <use style=\"fill:#1f77b4;stroke:#1f77b4;\" x=\"85.453743\" xlink:href=\"#m940c6729ef\" y=\"175.385512\"/>\r\n     <use style=\"fill:#1f77b4;stroke:#1f77b4;\" x=\"86.199733\" xlink:href=\"#m940c6729ef\" y=\"177.732125\"/>\r\n     <use style=\"fill:#1f77b4;stroke:#1f77b4;\" x=\"86.945722\" xlink:href=\"#m940c6729ef\" y=\"180.206735\"/>\r\n     <use style=\"fill:#1f77b4;stroke:#1f77b4;\" x=\"87.691711\" xlink:href=\"#m940c6729ef\" y=\"182.382685\"/>\r\n     <use style=\"fill:#1f77b4;stroke:#1f77b4;\" x=\"88.437701\" xlink:href=\"#m940c6729ef\" y=\"182.93734\"/>\r\n     <use style=\"fill:#1f77b4;stroke:#1f77b4;\" x=\"89.18369\" xlink:href=\"#m940c6729ef\" y=\"182.34002\"/>\r\n     <use style=\"fill:#1f77b4;stroke:#1f77b4;\" x=\"89.929679\" xlink:href=\"#m940c6729ef\" y=\"185.582613\"/>\r\n     <use style=\"fill:#1f77b4;stroke:#1f77b4;\" x=\"90.675668\" xlink:href=\"#m940c6729ef\" y=\"188.654542\"/>\r\n     <use style=\"fill:#1f77b4;stroke:#1f77b4;\" x=\"91.421658\" xlink:href=\"#m940c6729ef\" y=\"191.811804\"/>\r\n     <use style=\"fill:#1f77b4;stroke:#1f77b4;\" x=\"92.167647\" xlink:href=\"#m940c6729ef\" y=\"194.62774\"/>\r\n     <use style=\"fill:#1f77b4;stroke:#1f77b4;\" x=\"92.913636\" xlink:href=\"#m940c6729ef\" y=\"196.846356\"/>\r\n     <use style=\"fill:#1f77b4;stroke:#1f77b4;\" x=\"93.659626\" xlink:href=\"#m940c6729ef\" y=\"197.017019\"/>\r\n     <use style=\"fill:#1f77b4;stroke:#1f77b4;\" x=\"94.405615\" xlink:href=\"#m940c6729ef\" y=\"196.846356\"/>\r\n     <use style=\"fill:#1f77b4;stroke:#1f77b4;\" x=\"95.151604\" xlink:href=\"#m940c6729ef\" y=\"197.358344\"/>\r\n     <use style=\"fill:#1f77b4;stroke:#1f77b4;\" x=\"95.897594\" xlink:href=\"#m940c6729ef\" y=\"199.662292\"/>\r\n     <use style=\"fill:#1f77b4;stroke:#1f77b4;\" x=\"96.643583\" xlink:href=\"#m940c6729ef\" y=\"199.747623\"/>\r\n     <use style=\"fill:#1f77b4;stroke:#1f77b4;\" x=\"97.389572\" xlink:href=\"#m940c6729ef\" y=\"202.307565\"/>\r\n     <use style=\"fill:#1f77b4;stroke:#1f77b4;\" x=\"98.135561\" xlink:href=\"#m940c6729ef\" y=\"204.184855\"/>\r\n     <use style=\"fill:#1f77b4;stroke:#1f77b4;\" x=\"98.881551\" xlink:href=\"#m940c6729ef\" y=\"204.611512\"/>\r\n     <use style=\"fill:#1f77b4;stroke:#1f77b4;\" x=\"99.62754\" xlink:href=\"#m940c6729ef\" y=\"204.696843\"/>\r\n     <use style=\"fill:#1f77b4;stroke:#1f77b4;\" x=\"100.373529\" xlink:href=\"#m940c6729ef\" y=\"206.488803\"/>\r\n     <use style=\"fill:#1f77b4;stroke:#1f77b4;\" x=\"101.119519\" xlink:href=\"#m940c6729ef\" y=\"207.598111\"/>\r\n     <use style=\"fill:#1f77b4;stroke:#1f77b4;\" x=\"101.865508\" xlink:href=\"#m940c6729ef\" y=\"208.963413\"/>\r\n     <use style=\"fill:#1f77b4;stroke:#1f77b4;\" x=\"102.611497\" xlink:href=\"#m940c6729ef\" y=\"209.475401\"/>\r\n     <use style=\"fill:#1f77b4;stroke:#1f77b4;\" x=\"103.357487\" xlink:href=\"#m940c6729ef\" y=\"209.048744\"/>\r\n     <use style=\"fill:#1f77b4;stroke:#1f77b4;\" x=\"104.103476\" xlink:href=\"#m940c6729ef\" y=\"209.560733\"/>\r\n     <use style=\"fill:#1f77b4;stroke:#1f77b4;\" x=\"104.849465\" xlink:href=\"#m940c6729ef\" y=\"209.432735\"/>\r\n     <use style=\"fill:#1f77b4;stroke:#1f77b4;\" x=\"105.595455\" xlink:href=\"#m940c6729ef\" y=\"210.286049\"/>\r\n     <use style=\"fill:#1f77b4;stroke:#1f77b4;\" x=\"106.341444\" xlink:href=\"#m940c6729ef\" y=\"211.011366\"/>\r\n     <use style=\"fill:#1f77b4;stroke:#1f77b4;\" x=\"107.087433\" xlink:href=\"#m940c6729ef\" y=\"211.352692\"/>\r\n     <use style=\"fill:#1f77b4;stroke:#1f77b4;\" x=\"107.833422\" xlink:href=\"#m940c6729ef\" y=\"212.803325\"/>\r\n     <use style=\"fill:#1f77b4;stroke:#1f77b4;\" x=\"108.579412\" xlink:href=\"#m940c6729ef\" y=\"213.059319\"/>\r\n     <use style=\"fill:#1f77b4;stroke:#1f77b4;\" x=\"109.325401\" xlink:href=\"#m940c6729ef\" y=\"213.656639\"/>\r\n     <use style=\"fill:#1f77b4;stroke:#1f77b4;\" x=\"110.07139\" xlink:href=\"#m940c6729ef\" y=\"214.168627\"/>\r\n     <use style=\"fill:#1f77b4;stroke:#1f77b4;\" x=\"110.81738\" xlink:href=\"#m940c6729ef\" y=\"214.083296\"/>\r\n     <use style=\"fill:#1f77b4;stroke:#1f77b4;\" x=\"111.563369\" xlink:href=\"#m940c6729ef\" y=\"213.912633\"/>\r\n     <use style=\"fill:#1f77b4;stroke:#1f77b4;\" x=\"112.309358\" xlink:href=\"#m940c6729ef\" y=\"215.448598\"/>\r\n     <use style=\"fill:#1f77b4;stroke:#1f77b4;\" x=\"113.055348\" xlink:href=\"#m940c6729ef\" y=\"216.728569\"/>\r\n     <use style=\"fill:#1f77b4;stroke:#1f77b4;\" x=\"113.801337\" xlink:href=\"#m940c6729ef\" y=\"218.563194\"/>\r\n     <use style=\"fill:#1f77b4;stroke:#1f77b4;\" x=\"114.547326\" xlink:href=\"#m940c6729ef\" y=\"219.459174\"/>\r\n     <use style=\"fill:#1f77b4;stroke:#1f77b4;\" x=\"115.293316\" xlink:href=\"#m940c6729ef\" y=\"219.459174\"/>\r\n     <use style=\"fill:#1f77b4;stroke:#1f77b4;\" x=\"116.039305\" xlink:href=\"#m940c6729ef\" y=\"219.715168\"/>\r\n     <use style=\"fill:#1f77b4;stroke:#1f77b4;\" x=\"116.785294\" xlink:href=\"#m940c6729ef\" y=\"220.056493\"/>\r\n     <use style=\"fill:#1f77b4;stroke:#1f77b4;\" x=\"117.531283\" xlink:href=\"#m940c6729ef\" y=\"221.251133\"/>\r\n     <use style=\"fill:#1f77b4;stroke:#1f77b4;\" x=\"118.277273\" xlink:href=\"#m940c6729ef\" y=\"221.592458\"/>\r\n     <use style=\"fill:#1f77b4;stroke:#1f77b4;\" x=\"119.023262\" xlink:href=\"#m940c6729ef\" y=\"222.616435\"/>\r\n     <use style=\"fill:#1f77b4;stroke:#1f77b4;\" x=\"119.769251\" xlink:href=\"#m940c6729ef\" y=\"222.531103\"/>\r\n     <use style=\"fill:#1f77b4;stroke:#1f77b4;\" x=\"120.515241\" xlink:href=\"#m940c6729ef\" y=\"222.616435\"/>\r\n     <use style=\"fill:#1f77b4;stroke:#1f77b4;\" x=\"121.26123\" xlink:href=\"#m940c6729ef\" y=\"223.213755\"/>\r\n     <use style=\"fill:#1f77b4;stroke:#1f77b4;\" x=\"122.007219\" xlink:href=\"#m940c6729ef\" y=\"224.74972\"/>\r\n     <use style=\"fill:#1f77b4;stroke:#1f77b4;\" x=\"122.753209\" xlink:href=\"#m940c6729ef\" y=\"225.005714\"/>\r\n     <use style=\"fill:#1f77b4;stroke:#1f77b4;\" x=\"123.499198\" xlink:href=\"#m940c6729ef\" y=\"225.517702\"/>\r\n     <use style=\"fill:#1f77b4;stroke:#1f77b4;\" x=\"124.245187\" xlink:href=\"#m940c6729ef\" y=\"225.603033\"/>\r\n     <use style=\"fill:#1f77b4;stroke:#1f77b4;\" x=\"124.991176\" xlink:href=\"#m940c6729ef\" y=\"225.944359\"/>\r\n     <use style=\"fill:#1f77b4;stroke:#1f77b4;\" x=\"125.737166\" xlink:href=\"#m940c6729ef\" y=\"225.859028\"/>\r\n     <use style=\"fill:#1f77b4;stroke:#1f77b4;\" x=\"126.483155\" xlink:href=\"#m940c6729ef\" y=\"225.859028\"/>\r\n     <use style=\"fill:#1f77b4;stroke:#1f77b4;\" x=\"127.229144\" xlink:href=\"#m940c6729ef\" y=\"226.115022\"/>\r\n     <use style=\"fill:#1f77b4;stroke:#1f77b4;\" x=\"127.975134\" xlink:href=\"#m940c6729ef\" y=\"226.541679\"/>\r\n     <use style=\"fill:#1f77b4;stroke:#1f77b4;\" x=\"128.721123\" xlink:href=\"#m940c6729ef\" y=\"226.712341\"/>\r\n     <use style=\"fill:#1f77b4;stroke:#1f77b4;\" x=\"129.467112\" xlink:href=\"#m940c6729ef\" y=\"227.138998\"/>\r\n     <use style=\"fill:#1f77b4;stroke:#1f77b4;\" x=\"130.213102\" xlink:href=\"#m940c6729ef\" y=\"227.82165\"/>\r\n     <use style=\"fill:#1f77b4;stroke:#1f77b4;\" x=\"130.959091\" xlink:href=\"#m940c6729ef\" y=\"227.565655\"/>\r\n     <use style=\"fill:#1f77b4;stroke:#1f77b4;\" x=\"131.70508\" xlink:href=\"#m940c6729ef\" y=\"227.82165\"/>\r\n     <use style=\"fill:#1f77b4;stroke:#1f77b4;\" x=\"132.45107\" xlink:href=\"#m940c6729ef\" y=\"228.162975\"/>\r\n     <use style=\"fill:#1f77b4;stroke:#1f77b4;\" x=\"133.197059\" xlink:href=\"#m940c6729ef\" y=\"228.504301\"/>\r\n     <use style=\"fill:#1f77b4;stroke:#1f77b4;\" x=\"133.943048\" xlink:href=\"#m940c6729ef\" y=\"228.760295\"/>\r\n     <use style=\"fill:#1f77b4;stroke:#1f77b4;\" x=\"134.689037\" xlink:href=\"#m940c6729ef\" y=\"229.357615\"/>\r\n     <use style=\"fill:#1f77b4;stroke:#1f77b4;\" x=\"135.435027\" xlink:href=\"#m940c6729ef\" y=\"229.357615\"/>\r\n     <use style=\"fill:#1f77b4;stroke:#1f77b4;\" x=\"136.181016\" xlink:href=\"#m940c6729ef\" y=\"229.357615\"/>\r\n     <use style=\"fill:#1f77b4;stroke:#1f77b4;\" x=\"136.927005\" xlink:href=\"#m940c6729ef\" y=\"229.357615\"/>\r\n     <use style=\"fill:#1f77b4;stroke:#1f77b4;\" x=\"137.672995\" xlink:href=\"#m940c6729ef\" y=\"229.442946\"/>\r\n     <use style=\"fill:#1f77b4;stroke:#1f77b4;\" x=\"138.418984\" xlink:href=\"#m940c6729ef\" y=\"229.528277\"/>\r\n     <use style=\"fill:#1f77b4;stroke:#1f77b4;\" x=\"139.164973\" xlink:href=\"#m940c6729ef\" y=\"229.869603\"/>\r\n     <use style=\"fill:#1f77b4;stroke:#1f77b4;\" x=\"139.910963\" xlink:href=\"#m940c6729ef\" y=\"230.381591\"/>\r\n     <use style=\"fill:#1f77b4;stroke:#1f77b4;\" x=\"140.656952\" xlink:href=\"#m940c6729ef\" y=\"230.29626\"/>\r\n     <use style=\"fill:#1f77b4;stroke:#1f77b4;\" x=\"141.402941\" xlink:href=\"#m940c6729ef\" y=\"230.381591\"/>\r\n     <use style=\"fill:#1f77b4;stroke:#1f77b4;\" x=\"142.14893\" xlink:href=\"#m940c6729ef\" y=\"230.210928\"/>\r\n     <use style=\"fill:#1f77b4;stroke:#1f77b4;\" x=\"142.89492\" xlink:href=\"#m940c6729ef\" y=\"230.210928\"/>\r\n     <use style=\"fill:#1f77b4;stroke:#1f77b4;\" x=\"143.640909\" xlink:href=\"#m940c6729ef\" y=\"230.381591\"/>\r\n     <use style=\"fill:#1f77b4;stroke:#1f77b4;\" x=\"144.386898\" xlink:href=\"#m940c6729ef\" y=\"230.552254\"/>\r\n     <use style=\"fill:#1f77b4;stroke:#1f77b4;\" x=\"145.132888\" xlink:href=\"#m940c6729ef\" y=\"230.808248\"/>\r\n     <use style=\"fill:#1f77b4;stroke:#1f77b4;\" x=\"145.878877\" xlink:href=\"#m940c6729ef\" y=\"230.637585\"/>\r\n     <use style=\"fill:#1f77b4;stroke:#1f77b4;\" x=\"146.624866\" xlink:href=\"#m940c6729ef\" y=\"230.637585\"/>\r\n     <use style=\"fill:#1f77b4;stroke:#1f77b4;\" x=\"147.370856\" xlink:href=\"#m940c6729ef\" y=\"230.722917\"/>\r\n     <use style=\"fill:#1f77b4;stroke:#1f77b4;\" x=\"148.116845\" xlink:href=\"#m940c6729ef\" y=\"230.808248\"/>\r\n     <use style=\"fill:#1f77b4;stroke:#1f77b4;\" x=\"148.862834\" xlink:href=\"#m940c6729ef\" y=\"230.552254\"/>\r\n     <use style=\"fill:#1f77b4;stroke:#1f77b4;\" x=\"149.608824\" xlink:href=\"#m940c6729ef\" y=\"230.808248\"/>\r\n     <use style=\"fill:#1f77b4;stroke:#1f77b4;\" x=\"150.354813\" xlink:href=\"#m940c6729ef\" y=\"230.89358\"/>\r\n     <use style=\"fill:#1f77b4;stroke:#1f77b4;\" x=\"151.100802\" xlink:href=\"#m940c6729ef\" y=\"230.808248\"/>\r\n     <use style=\"fill:#1f77b4;stroke:#1f77b4;\" x=\"151.846791\" xlink:href=\"#m940c6729ef\" y=\"230.722917\"/>\r\n     <use style=\"fill:#1f77b4;stroke:#1f77b4;\" x=\"152.592781\" xlink:href=\"#m940c6729ef\" y=\"230.381591\"/>\r\n     <use style=\"fill:#1f77b4;stroke:#1f77b4;\" x=\"153.33877\" xlink:href=\"#m940c6729ef\" y=\"230.552254\"/>\r\n     <use style=\"fill:#1f77b4;stroke:#1f77b4;\" x=\"154.084759\" xlink:href=\"#m940c6729ef\" y=\"230.29626\"/>\r\n     <use style=\"fill:#1f77b4;stroke:#1f77b4;\" x=\"154.830749\" xlink:href=\"#m940c6729ef\" y=\"230.125597\"/>\r\n     <use style=\"fill:#1f77b4;stroke:#1f77b4;\" x=\"155.576738\" xlink:href=\"#m940c6729ef\" y=\"229.954934\"/>\r\n     <use style=\"fill:#1f77b4;stroke:#1f77b4;\" x=\"156.322727\" xlink:href=\"#m940c6729ef\" y=\"229.954934\"/>\r\n     <use style=\"fill:#1f77b4;stroke:#1f77b4;\" x=\"157.068717\" xlink:href=\"#m940c6729ef\" y=\"229.954934\"/>\r\n     <use style=\"fill:#1f77b4;stroke:#1f77b4;\" x=\"157.814706\" xlink:href=\"#m940c6729ef\" y=\"229.869603\"/>\r\n     <use style=\"fill:#1f77b4;stroke:#1f77b4;\" x=\"158.560695\" xlink:href=\"#m940c6729ef\" y=\"229.69894\"/>\r\n     <use style=\"fill:#1f77b4;stroke:#1f77b4;\" x=\"159.306684\" xlink:href=\"#m940c6729ef\" y=\"230.210928\"/>\r\n     <use style=\"fill:#1f77b4;stroke:#1f77b4;\" x=\"160.052674\" xlink:href=\"#m940c6729ef\" y=\"230.210928\"/>\r\n     <use style=\"fill:#1f77b4;stroke:#1f77b4;\" x=\"160.798663\" xlink:href=\"#m940c6729ef\" y=\"230.29626\"/>\r\n     <use style=\"fill:#1f77b4;stroke:#1f77b4;\" x=\"161.544652\" xlink:href=\"#m940c6729ef\" y=\"230.29626\"/>\r\n     <use style=\"fill:#1f77b4;stroke:#1f77b4;\" x=\"162.290642\" xlink:href=\"#m940c6729ef\" y=\"230.29626\"/>\r\n     <use style=\"fill:#1f77b4;stroke:#1f77b4;\" x=\"163.036631\" xlink:href=\"#m940c6729ef\" y=\"229.869603\"/>\r\n     <use style=\"fill:#1f77b4;stroke:#1f77b4;\" x=\"163.78262\" xlink:href=\"#m940c6729ef\" y=\"229.69894\"/>\r\n     <use style=\"fill:#1f77b4;stroke:#1f77b4;\" x=\"164.52861\" xlink:href=\"#m940c6729ef\" y=\"229.784271\"/>\r\n     <use style=\"fill:#1f77b4;stroke:#1f77b4;\" x=\"165.274599\" xlink:href=\"#m940c6729ef\" y=\"229.528277\"/>\r\n     <use style=\"fill:#1f77b4;stroke:#1f77b4;\" x=\"166.020588\" xlink:href=\"#m940c6729ef\" y=\"229.442946\"/>\r\n     <use style=\"fill:#1f77b4;stroke:#1f77b4;\" x=\"166.766578\" xlink:href=\"#m940c6729ef\" y=\"228.589632\"/>\r\n     <use style=\"fill:#1f77b4;stroke:#1f77b4;\" x=\"167.512567\" xlink:href=\"#m940c6729ef\" y=\"228.589632\"/>\r\n     <use style=\"fill:#1f77b4;stroke:#1f77b4;\" x=\"168.258556\" xlink:href=\"#m940c6729ef\" y=\"228.845626\"/>\r\n     <use style=\"fill:#1f77b4;stroke:#1f77b4;\" x=\"169.004545\" xlink:href=\"#m940c6729ef\" y=\"228.162975\"/>\r\n     <use style=\"fill:#1f77b4;stroke:#1f77b4;\" x=\"169.750535\" xlink:href=\"#m940c6729ef\" y=\"227.053667\"/>\r\n     <use style=\"fill:#1f77b4;stroke:#1f77b4;\" x=\"170.496524\" xlink:href=\"#m940c6729ef\" y=\"226.669676\"/>\r\n     <use style=\"fill:#1f77b4;stroke:#1f77b4;\" x=\"171.242513\" xlink:href=\"#m940c6729ef\" y=\"226.115022\"/>\r\n     <use style=\"fill:#1f77b4;stroke:#1f77b4;\" x=\"171.988503\" xlink:href=\"#m940c6729ef\" y=\"225.859028\"/>\r\n     <use style=\"fill:#1f77b4;stroke:#1f77b4;\" x=\"172.734492\" xlink:href=\"#m940c6729ef\" y=\"225.773696\"/>\r\n     <use style=\"fill:#1f77b4;stroke:#1f77b4;\" x=\"173.480481\" xlink:href=\"#m940c6729ef\" y=\"225.347039\"/>\r\n     <use style=\"fill:#1f77b4;stroke:#1f77b4;\" x=\"174.226471\" xlink:href=\"#m940c6729ef\" y=\"225.176377\"/>\r\n     <use style=\"fill:#1f77b4;stroke:#1f77b4;\" x=\"174.97246\" xlink:href=\"#m940c6729ef\" y=\"224.579057\"/>\r\n     <use style=\"fill:#1f77b4;stroke:#1f77b4;\" x=\"175.718449\" xlink:href=\"#m940c6729ef\" y=\"223.725743\"/>\r\n     <use style=\"fill:#1f77b4;stroke:#1f77b4;\" x=\"176.464439\" xlink:href=\"#m940c6729ef\" y=\"222.616435\"/>\r\n     <use style=\"fill:#1f77b4;stroke:#1f77b4;\" x=\"177.210428\" xlink:href=\"#m940c6729ef\" y=\"222.445772\"/>\r\n     <use style=\"fill:#1f77b4;stroke:#1f77b4;\" x=\"177.956417\" xlink:href=\"#m940c6729ef\" y=\"222.360441\"/>\r\n     <use style=\"fill:#1f77b4;stroke:#1f77b4;\" x=\"178.702406\" xlink:href=\"#m940c6729ef\" y=\"221.592458\"/>\r\n     <use style=\"fill:#1f77b4;stroke:#1f77b4;\" x=\"179.448396\" xlink:href=\"#m940c6729ef\" y=\"220.824476\"/>\r\n     <use style=\"fill:#1f77b4;stroke:#1f77b4;\" x=\"180.194385\" xlink:href=\"#m940c6729ef\" y=\"220.653813\"/>\r\n     <use style=\"fill:#1f77b4;stroke:#1f77b4;\" x=\"180.940374\" xlink:href=\"#m940c6729ef\" y=\"219.629836\"/>\r\n     <use style=\"fill:#1f77b4;stroke:#1f77b4;\" x=\"181.686364\" xlink:href=\"#m940c6729ef\" y=\"219.629836\"/>\r\n     <use style=\"fill:#1f77b4;stroke:#1f77b4;\" x=\"182.432353\" xlink:href=\"#m940c6729ef\" y=\"219.544505\"/>\r\n     <use style=\"fill:#1f77b4;stroke:#1f77b4;\" x=\"183.178342\" xlink:href=\"#m940c6729ef\" y=\"219.800499\"/>\r\n     <use style=\"fill:#1f77b4;stroke:#1f77b4;\" x=\"183.924332\" xlink:href=\"#m940c6729ef\" y=\"218.520528\"/>\r\n     <use style=\"fill:#1f77b4;stroke:#1f77b4;\" x=\"184.670321\" xlink:href=\"#m940c6729ef\" y=\"217.667214\"/>\r\n     <use style=\"fill:#1f77b4;stroke:#1f77b4;\" x=\"185.41631\" xlink:href=\"#m940c6729ef\" y=\"217.283223\"/>\r\n     <use style=\"fill:#1f77b4;stroke:#1f77b4;\" x=\"186.162299\" xlink:href=\"#m940c6729ef\" y=\"216.216581\"/>\r\n     <use style=\"fill:#1f77b4;stroke:#1f77b4;\" x=\"186.908289\" xlink:href=\"#m940c6729ef\" y=\"216.045918\"/>\r\n     <use style=\"fill:#1f77b4;stroke:#1f77b4;\" x=\"187.654278\" xlink:href=\"#m940c6729ef\" y=\"215.448598\"/>\r\n     <use style=\"fill:#1f77b4;stroke:#1f77b4;\" x=\"188.400267\" xlink:href=\"#m940c6729ef\" y=\"214.680616\"/>\r\n     <use style=\"fill:#1f77b4;stroke:#1f77b4;\" x=\"189.146257\" xlink:href=\"#m940c6729ef\" y=\"211.182029\"/>\r\n     <use style=\"fill:#1f77b4;stroke:#1f77b4;\" x=\"189.892246\" xlink:href=\"#m940c6729ef\" y=\"211.182029\"/>\r\n     <use style=\"fill:#1f77b4;stroke:#1f77b4;\" x=\"190.638235\" xlink:href=\"#m940c6729ef\" y=\"210.328715\"/>\r\n     <use style=\"fill:#1f77b4;stroke:#1f77b4;\" x=\"191.384225\" xlink:href=\"#m940c6729ef\" y=\"209.39007\"/>\r\n     <use style=\"fill:#1f77b4;stroke:#1f77b4;\" x=\"192.130214\" xlink:href=\"#m940c6729ef\" y=\"208.79275\"/>\r\n     <use style=\"fill:#1f77b4;stroke:#1f77b4;\" x=\"192.876203\" xlink:href=\"#m940c6729ef\" y=\"208.878081\"/>\r\n     <use style=\"fill:#1f77b4;stroke:#1f77b4;\" x=\"193.622193\" xlink:href=\"#m940c6729ef\" y=\"208.707419\"/>\r\n     <use style=\"fill:#1f77b4;stroke:#1f77b4;\" x=\"194.368182\" xlink:href=\"#m940c6729ef\" y=\"207.342116\"/>\r\n     <use style=\"fill:#1f77b4;stroke:#1f77b4;\" x=\"195.114171\" xlink:href=\"#m940c6729ef\" y=\"207.555445\"/>\r\n     <use style=\"fill:#1f77b4;stroke:#1f77b4;\" x=\"195.86016\" xlink:href=\"#m940c6729ef\" y=\"207.342116\"/>\r\n     <use style=\"fill:#1f77b4;stroke:#1f77b4;\" x=\"196.60615\" xlink:href=\"#m940c6729ef\" y=\"205.379495\"/>\r\n     <use style=\"fill:#1f77b4;stroke:#1f77b4;\" x=\"197.352139\" xlink:href=\"#m940c6729ef\" y=\"204.611512\"/>\r\n     <use style=\"fill:#1f77b4;stroke:#1f77b4;\" x=\"198.098128\" xlink:href=\"#m940c6729ef\" y=\"204.270186\"/>\r\n     <use style=\"fill:#1f77b4;stroke:#1f77b4;\" x=\"198.844118\" xlink:href=\"#m940c6729ef\" y=\"203.54487\"/>\r\n     <use style=\"fill:#1f77b4;stroke:#1f77b4;\" x=\"199.590107\" xlink:href=\"#m940c6729ef\" y=\"201.539582\"/>\r\n     <use style=\"fill:#1f77b4;stroke:#1f77b4;\" x=\"200.336096\" xlink:href=\"#m940c6729ef\" y=\"200.899597\"/>\r\n     <use style=\"fill:#1f77b4;stroke:#1f77b4;\" x=\"201.082086\" xlink:href=\"#m940c6729ef\" y=\"198.680981\"/>\r\n     <use style=\"fill:#1f77b4;stroke:#1f77b4;\" x=\"201.828075\" xlink:href=\"#m940c6729ef\" y=\"198.083661\"/>\r\n     <use style=\"fill:#1f77b4;stroke:#1f77b4;\" x=\"202.574064\" xlink:href=\"#m940c6729ef\" y=\"196.590362\"/>\r\n     <use style=\"fill:#1f77b4;stroke:#1f77b4;\" x=\"203.320053\" xlink:href=\"#m940c6729ef\" y=\"196.846356\"/>\r\n     <use style=\"fill:#1f77b4;stroke:#1f77b4;\" x=\"204.066043\" xlink:href=\"#m940c6729ef\" y=\"195.395722\"/>\r\n     <use style=\"fill:#1f77b4;stroke:#1f77b4;\" x=\"204.812032\" xlink:href=\"#m940c6729ef\" y=\"193.859757\"/>\r\n     <use style=\"fill:#1f77b4;stroke:#1f77b4;\" x=\"205.558021\" xlink:href=\"#m940c6729ef\" y=\"192.665118\"/>\r\n     <use style=\"fill:#1f77b4;stroke:#1f77b4;\" x=\"206.304011\" xlink:href=\"#m940c6729ef\" y=\"192.323792\"/>\r\n     <use style=\"fill:#1f77b4;stroke:#1f77b4;\" x=\"207.05\" xlink:href=\"#m940c6729ef\" y=\"189.849182\"/>\r\n     <use style=\"fill:#1f77b4;stroke:#1f77b4;\" x=\"207.795989\" xlink:href=\"#m940c6729ef\" y=\"186.947915\"/>\r\n     <use style=\"fill:#1f77b4;stroke:#1f77b4;\" x=\"208.541979\" xlink:href=\"#m940c6729ef\" y=\"185.582613\"/>\r\n     <use style=\"fill:#1f77b4;stroke:#1f77b4;\" x=\"209.287968\" xlink:href=\"#m940c6729ef\" y=\"184.558636\"/>\r\n     <use style=\"fill:#1f77b4;stroke:#1f77b4;\" x=\"210.033957\" xlink:href=\"#m940c6729ef\" y=\"181.316043\"/>\r\n     <use style=\"fill:#1f77b4;stroke:#1f77b4;\" x=\"210.779947\" xlink:href=\"#m940c6729ef\" y=\"180.548061\"/>\r\n     <use style=\"fill:#1f77b4;stroke:#1f77b4;\" x=\"211.525936\" xlink:href=\"#m940c6729ef\" y=\"178.116116\"/>\r\n     <use style=\"fill:#1f77b4;stroke:#1f77b4;\" x=\"212.271925\" xlink:href=\"#m940c6729ef\" y=\"177.817456\"/>\r\n     <use style=\"fill:#1f77b4;stroke:#1f77b4;\" x=\"213.017914\" xlink:href=\"#m940c6729ef\" y=\"173.72155\"/>\r\n     <use style=\"fill:#1f77b4;stroke:#1f77b4;\" x=\"213.763904\" xlink:href=\"#m940c6729ef\" y=\"172.52691\"/>\r\n     <use style=\"fill:#1f77b4;stroke:#1f77b4;\" x=\"214.509893\" xlink:href=\"#m940c6729ef\" y=\"166.809707\"/>\r\n     <use style=\"fill:#1f77b4;stroke:#1f77b4;\" x=\"215.255882\" xlink:href=\"#m940c6729ef\" y=\"162.031149\"/>\r\n     <use style=\"fill:#1f77b4;stroke:#1f77b4;\" x=\"216.001872\" xlink:href=\"#m940c6729ef\" y=\"160.623182\"/>\r\n     <use style=\"fill:#1f77b4;stroke:#1f77b4;\" x=\"216.747861\" xlink:href=\"#m940c6729ef\" y=\"153.882002\"/>\r\n     <use style=\"fill:#1f77b4;stroke:#1f77b4;\" x=\"217.49385\" xlink:href=\"#m940c6729ef\" y=\"152.81536\"/>\r\n     <use style=\"fill:#1f77b4;stroke:#1f77b4;\" x=\"218.23984\" xlink:href=\"#m940c6729ef\" y=\"146.799497\"/>\r\n     <use style=\"fill:#1f77b4;stroke:#1f77b4;\" x=\"218.985829\" xlink:href=\"#m940c6729ef\" y=\"145.604857\"/>\r\n     <use style=\"fill:#1f77b4;stroke:#1f77b4;\" x=\"219.731818\" xlink:href=\"#m940c6729ef\" y=\"138.309024\"/>\r\n     <use style=\"fill:#1f77b4;stroke:#1f77b4;\" x=\"220.477807\" xlink:href=\"#m940c6729ef\" y=\"132.591821\"/>\r\n     <use style=\"fill:#1f77b4;stroke:#1f77b4;\" x=\"221.223797\" xlink:href=\"#m940c6729ef\" y=\"123.248034\"/>\r\n     <use style=\"fill:#1f77b4;stroke:#1f77b4;\" x=\"221.969786\" xlink:href=\"#m940c6729ef\" y=\"117.402834\"/>\r\n     <use style=\"fill:#1f77b4;stroke:#1f77b4;\" x=\"222.715775\" xlink:href=\"#m940c6729ef\" y=\"109.296352\"/>\r\n     <use style=\"fill:#1f77b4;stroke:#1f77b4;\" x=\"223.461765\" xlink:href=\"#m940c6729ef\" y=\"108.016381\"/>\r\n     <use style=\"fill:#1f77b4;stroke:#1f77b4;\" x=\"224.207754\" xlink:href=\"#m940c6729ef\" y=\"103.493817\"/>\r\n     <use style=\"fill:#1f77b4;stroke:#1f77b4;\" x=\"224.953743\" xlink:href=\"#m940c6729ef\" y=\"97.605952\"/>\r\n     <use style=\"fill:#1f77b4;stroke:#1f77b4;\" x=\"225.699733\" xlink:href=\"#m940c6729ef\" y=\"92.016746\"/>\r\n     <use style=\"fill:#1f77b4;stroke:#1f77b4;\" x=\"226.445722\" xlink:href=\"#m940c6729ef\" y=\"86.555537\"/>\r\n     <use style=\"fill:#1f77b4;stroke:#1f77b4;\" x=\"227.191711\" xlink:href=\"#m940c6729ef\" y=\"73.926491\"/>\r\n     <use style=\"fill:#1f77b4;stroke:#1f77b4;\" x=\"227.937701\" xlink:href=\"#m940c6729ef\" y=\"69.787919\"/>\r\n     <use style=\"fill:#1f77b4;stroke:#1f77b4;\" x=\"228.68369\" xlink:href=\"#m940c6729ef\" y=\"66.971983\"/>\r\n     <use style=\"fill:#1f77b4;stroke:#1f77b4;\" x=\"229.429679\" xlink:href=\"#m940c6729ef\" y=\"65.905341\"/>\r\n     <use style=\"fill:#1f77b4;stroke:#1f77b4;\" x=\"230.175668\" xlink:href=\"#m940c6729ef\" y=\"62.492085\"/>\r\n     <use style=\"fill:#1f77b4;stroke:#1f77b4;\" x=\"230.921658\" xlink:href=\"#m940c6729ef\" y=\"56.860214\"/>\r\n     <use style=\"fill:#1f77b4;stroke:#1f77b4;\" x=\"231.667647\" xlink:href=\"#m940c6729ef\" y=\"54.684263\"/>\r\n     <use style=\"fill:#1f77b4;stroke:#1f77b4;\" x=\"232.413636\" xlink:href=\"#m940c6729ef\" y=\"52.166988\"/>\r\n     <use style=\"fill:#1f77b4;stroke:#1f77b4;\" x=\"233.159626\" xlink:href=\"#m940c6729ef\" y=\"47.38843\"/>\r\n     <use style=\"fill:#1f77b4;stroke:#1f77b4;\" x=\"233.905615\" xlink:href=\"#m940c6729ef\" y=\"46.321787\"/>\r\n     <use style=\"fill:#1f77b4;stroke:#1f77b4;\" x=\"234.651604\" xlink:href=\"#m940c6729ef\" y=\"49.479049\"/>\r\n     <use style=\"fill:#1f77b4;stroke:#1f77b4;\" x=\"235.397594\" xlink:href=\"#m940c6729ef\" y=\"47.345764\"/>\r\n     <use style=\"fill:#1f77b4;stroke:#1f77b4;\" x=\"236.143583\" xlink:href=\"#m940c6729ef\" y=\"45.639136\"/>\r\n     <use style=\"fill:#1f77b4;stroke:#1f77b4;\" x=\"236.889572\" xlink:href=\"#m940c6729ef\" y=\"47.772421\"/>\r\n     <use style=\"fill:#1f77b4;stroke:#1f77b4;\" x=\"237.635561\" xlink:href=\"#m940c6729ef\" y=\"51.782996\"/>\r\n     <use style=\"fill:#1f77b4;stroke:#1f77b4;\" x=\"238.381551\" xlink:href=\"#m940c6729ef\" y=\"56.30556\"/>\r\n     <use style=\"fill:#1f77b4;stroke:#1f77b4;\" x=\"239.12754\" xlink:href=\"#m940c6729ef\" y=\"61.638772\"/>\r\n     <use style=\"fill:#1f77b4;stroke:#1f77b4;\" x=\"239.873529\" xlink:href=\"#m940c6729ef\" y=\"64.838699\"/>\r\n     <use style=\"fill:#1f77b4;stroke:#1f77b4;\" x=\"240.619519\" xlink:href=\"#m940c6729ef\" y=\"64.284045\"/>\r\n     <use style=\"fill:#1f77b4;stroke:#1f77b4;\" x=\"241.365508\" xlink:href=\"#m940c6729ef\" y=\"66.886652\"/>\r\n     <use style=\"fill:#1f77b4;stroke:#1f77b4;\" x=\"242.111497\" xlink:href=\"#m940c6729ef\" y=\"74.097154\"/>\r\n     <use style=\"fill:#1f77b4;stroke:#1f77b4;\" x=\"242.857487\" xlink:href=\"#m940c6729ef\" y=\"78.875712\"/>\r\n     <use style=\"fill:#1f77b4;stroke:#1f77b4;\" x=\"243.603476\" xlink:href=\"#m940c6729ef\" y=\"83.440941\"/>\r\n     <use style=\"fill:#1f77b4;stroke:#1f77b4;\" x=\"244.349465\" xlink:href=\"#m940c6729ef\" y=\"87.451516\"/>\r\n     <use style=\"fill:#1f77b4;stroke:#1f77b4;\" x=\"245.095455\" xlink:href=\"#m940c6729ef\" y=\"91.718086\"/>\r\n     <use style=\"fill:#1f77b4;stroke:#1f77b4;\" x=\"245.841444\" xlink:href=\"#m940c6729ef\" y=\"91.291429\"/>\r\n     <use style=\"fill:#1f77b4;stroke:#1f77b4;\" x=\"246.587433\" xlink:href=\"#m940c6729ef\" y=\"90.267452\"/>\r\n     <use style=\"fill:#1f77b4;stroke:#1f77b4;\" x=\"247.333422\" xlink:href=\"#m940c6729ef\" y=\"92.230074\"/>\r\n     <use style=\"fill:#1f77b4;stroke:#1f77b4;\" x=\"248.079412\" xlink:href=\"#m940c6729ef\" y=\"96.9233\"/>\r\n     <use style=\"fill:#1f77b4;stroke:#1f77b4;\" x=\"248.825401\" xlink:href=\"#m940c6729ef\" y=\"100.59255\"/>\r\n     <use style=\"fill:#1f77b4;stroke:#1f77b4;\" x=\"249.57139\" xlink:href=\"#m940c6729ef\" y=\"103.06716\"/>\r\n     <use style=\"fill:#1f77b4;stroke:#1f77b4;\" x=\"250.31738\" xlink:href=\"#m940c6729ef\" y=\"106.053759\"/>\r\n     <use style=\"fill:#1f77b4;stroke:#1f77b4;\" x=\"251.063369\" xlink:href=\"#m940c6729ef\" y=\"105.755099\"/>\r\n     <use style=\"fill:#1f77b4;stroke:#1f77b4;\" x=\"251.809358\" xlink:href=\"#m940c6729ef\" y=\"106.992404\"/>\r\n     <use style=\"fill:#1f77b4;stroke:#1f77b4;\" x=\"252.555348\" xlink:href=\"#m940c6729ef\" y=\"109.637677\"/>\r\n     <use style=\"fill:#1f77b4;stroke:#1f77b4;\" x=\"253.301337\" xlink:href=\"#m940c6729ef\" y=\"109.637677\"/>\r\n     <use style=\"fill:#1f77b4;stroke:#1f77b4;\" x=\"254.047326\" xlink:href=\"#m940c6729ef\" y=\"111.600299\"/>\r\n     <use style=\"fill:#1f77b4;stroke:#1f77b4;\" x=\"254.793316\" xlink:href=\"#m940c6729ef\" y=\"115.141552\"/>\r\n     <use style=\"fill:#1f77b4;stroke:#1f77b4;\" x=\"255.539305\" xlink:href=\"#m940c6729ef\" y=\"114.970889\"/>\r\n     <use style=\"fill:#1f77b4;stroke:#1f77b4;\" x=\"256.285294\" xlink:href=\"#m940c6729ef\" y=\"114.501566\"/>\r\n     <use style=\"fill:#1f77b4;stroke:#1f77b4;\" x=\"257.031283\" xlink:href=\"#m940c6729ef\" y=\"112.837604\"/>\r\n     <use style=\"fill:#1f77b4;stroke:#1f77b4;\" x=\"257.777273\" xlink:href=\"#m940c6729ef\" y=\"116.336191\"/>\r\n     <use style=\"fill:#1f77b4;stroke:#1f77b4;\" x=\"258.523262\" xlink:href=\"#m940c6729ef\" y=\"117.957488\"/>\r\n     <use style=\"fill:#1f77b4;stroke:#1f77b4;\" x=\"259.269251\" xlink:href=\"#m940c6729ef\" y=\"120.346766\"/>\r\n     <use style=\"fill:#1f77b4;stroke:#1f77b4;\" x=\"260.015241\" xlink:href=\"#m940c6729ef\" y=\"122.565383\"/>\r\n     <use style=\"fill:#1f77b4;stroke:#1f77b4;\" x=\"260.76123\" xlink:href=\"#m940c6729ef\" y=\"123.760022\"/>\r\n     <use style=\"fill:#1f77b4;stroke:#1f77b4;\" x=\"261.507219\" xlink:href=\"#m940c6729ef\" y=\"123.674691\"/>\r\n     <use style=\"fill:#1f77b4;stroke:#1f77b4;\" x=\"262.253209\" xlink:href=\"#m940c6729ef\" y=\"122.309388\"/>\r\n     <use style=\"fill:#1f77b4;stroke:#1f77b4;\" x=\"262.999198\" xlink:href=\"#m940c6729ef\" y=\"124.57067\"/>\r\n     <use style=\"fill:#1f77b4;stroke:#1f77b4;\" x=\"263.745187\" xlink:href=\"#m940c6729ef\" y=\"125.594647\"/>\r\n     <use style=\"fill:#1f77b4;stroke:#1f77b4;\" x=\"264.491176\" xlink:href=\"#m940c6729ef\" y=\"129.605222\"/>\r\n     <use style=\"fill:#1f77b4;stroke:#1f77b4;\" x=\"265.237166\" xlink:href=\"#m940c6729ef\" y=\"131.90917\"/>\r\n     <use style=\"fill:#1f77b4;stroke:#1f77b4;\" x=\"265.983155\" xlink:href=\"#m940c6729ef\" y=\"133.103809\"/>\r\n     <use style=\"fill:#1f77b4;stroke:#1f77b4;\" x=\"266.729144\" xlink:href=\"#m940c6729ef\" y=\"132.378492\"/>\r\n     <use style=\"fill:#1f77b4;stroke:#1f77b4;\" x=\"267.475134\" xlink:href=\"#m940c6729ef\" y=\"131.482513\"/>\r\n     <use style=\"fill:#1f77b4;stroke:#1f77b4;\" x=\"268.221123\" xlink:href=\"#m940c6729ef\" y=\"131.653175\"/>\r\n     <use style=\"fill:#1f77b4;stroke:#1f77b4;\" x=\"268.967112\" xlink:href=\"#m940c6729ef\" y=\"134.213117\"/>\r\n     <use style=\"fill:#1f77b4;stroke:#1f77b4;\" x=\"269.713102\" xlink:href=\"#m940c6729ef\" y=\"132.335826\"/>\r\n     <use style=\"fill:#1f77b4;stroke:#1f77b4;\" x=\"270.459091\" xlink:href=\"#m940c6729ef\" y=\"133.871791\"/>\r\n     <use style=\"fill:#1f77b4;stroke:#1f77b4;\" x=\"271.20508\" xlink:href=\"#m940c6729ef\" y=\"131.141187\"/>\r\n     <use style=\"fill:#1f77b4;stroke:#1f77b4;\" x=\"271.95107\" xlink:href=\"#m940c6729ef\" y=\"129.221231\"/>\r\n     <use style=\"fill:#1f77b4;stroke:#1f77b4;\" x=\"272.697059\" xlink:href=\"#m940c6729ef\" y=\"128.23992\"/>\r\n     <use style=\"fill:#1f77b4;stroke:#1f77b4;\" x=\"273.443048\" xlink:href=\"#m940c6729ef\" y=\"127.173278\"/>\r\n     <use style=\"fill:#1f77b4;stroke:#1f77b4;\" x=\"274.189037\" xlink:href=\"#m940c6729ef\" y=\"129.775885\"/>\r\n     <use style=\"fill:#1f77b4;stroke:#1f77b4;\" x=\"274.935027\" xlink:href=\"#m940c6729ef\" y=\"129.135899\"/>\r\n     <use style=\"fill:#1f77b4;stroke:#1f77b4;\" x=\"275.681016\" xlink:href=\"#m940c6729ef\" y=\"128.581245\"/>\r\n     <use style=\"fill:#1f77b4;stroke:#1f77b4;\" x=\"276.427005\" xlink:href=\"#m940c6729ef\" y=\"130.287873\"/>\r\n     <use style=\"fill:#1f77b4;stroke:#1f77b4;\" x=\"277.172995\" xlink:href=\"#m940c6729ef\" y=\"128.23992\"/>\r\n     <use style=\"fill:#1f77b4;stroke:#1f77b4;\" x=\"277.918984\" xlink:href=\"#m940c6729ef\" y=\"123.290699\"/>\r\n     <use style=\"fill:#1f77b4;stroke:#1f77b4;\" x=\"278.664973\" xlink:href=\"#m940c6729ef\" y=\"121.242746\"/>\r\n     <use style=\"fill:#1f77b4;stroke:#1f77b4;\" x=\"279.410963\" xlink:href=\"#m940c6729ef\" y=\"119.834778\"/>\r\n     <use style=\"fill:#1f77b4;stroke:#1f77b4;\" x=\"280.156952\" xlink:href=\"#m940c6729ef\" y=\"117.189505\"/>\r\n     <use style=\"fill:#1f77b4;stroke:#1f77b4;\" x=\"280.902941\" xlink:href=\"#m940c6729ef\" y=\"115.909534\"/>\r\n     <use style=\"fill:#1f77b4;stroke:#1f77b4;\" x=\"281.64893\" xlink:href=\"#m940c6729ef\" y=\"116.54952\"/>\r\n     <use style=\"fill:#1f77b4;stroke:#1f77b4;\" x=\"282.39492\" xlink:href=\"#m940c6729ef\" y=\"114.416235\"/>\r\n     <use style=\"fill:#1f77b4;stroke:#1f77b4;\" x=\"283.140909\" xlink:href=\"#m940c6729ef\" y=\"107.717721\"/>\r\n     <use style=\"fill:#1f77b4;stroke:#1f77b4;\" x=\"283.886898\" xlink:href=\"#m940c6729ef\" y=\"105.499105\"/>\r\n     <use style=\"fill:#1f77b4;stroke:#1f77b4;\" x=\"284.632888\" xlink:href=\"#m940c6729ef\" y=\"101.829855\"/>\r\n     <use style=\"fill:#1f77b4;stroke:#1f77b4;\" x=\"285.378877\" xlink:href=\"#m940c6729ef\" y=\"101.531195\"/>\r\n     <use style=\"fill:#1f77b4;stroke:#1f77b4;\" x=\"286.124866\" xlink:href=\"#m940c6729ef\" y=\"96.880635\"/>\r\n     <use style=\"fill:#1f77b4;stroke:#1f77b4;\" x=\"286.870856\" xlink:href=\"#m940c6729ef\" y=\"98.075274\"/>\r\n     <use style=\"fill:#1f77b4;stroke:#1f77b4;\" x=\"287.616845\" xlink:href=\"#m940c6729ef\" y=\"96.112652\"/>\r\n     <use style=\"fill:#1f77b4;stroke:#1f77b4;\" x=\"288.362834\" xlink:href=\"#m940c6729ef\" y=\"91.888749\"/>\r\n     <use style=\"fill:#1f77b4;stroke:#1f77b4;\" x=\"289.108824\" xlink:href=\"#m940c6729ef\" y=\"89.030147\"/>\r\n     <use style=\"fill:#1f77b4;stroke:#1f77b4;\" x=\"289.854813\" xlink:href=\"#m940c6729ef\" y=\"88.560824\"/>\r\n     <use style=\"fill:#1f77b4;stroke:#1f77b4;\" x=\"290.600802\" xlink:href=\"#m940c6729ef\" y=\"85.958217\"/>\r\n     <use style=\"fill:#1f77b4;stroke:#1f77b4;\" x=\"291.346791\" xlink:href=\"#m940c6729ef\" y=\"81.776979\"/>\r\n     <use style=\"fill:#1f77b4;stroke:#1f77b4;\" x=\"292.092781\" xlink:href=\"#m940c6729ef\" y=\"81.008997\"/>\r\n     <use style=\"fill:#1f77b4;stroke:#1f77b4;\" x=\"292.83877\" xlink:href=\"#m940c6729ef\" y=\"79.003709\"/>\r\n     <use style=\"fill:#1f77b4;stroke:#1f77b4;\" x=\"293.584759\" xlink:href=\"#m940c6729ef\" y=\"75.889113\"/>\r\n     <use style=\"fill:#1f77b4;stroke:#1f77b4;\" x=\"294.330749\" xlink:href=\"#m940c6729ef\" y=\"77.681073\"/>\r\n     <use style=\"fill:#1f77b4;stroke:#1f77b4;\" x=\"295.076738\" xlink:href=\"#m940c6729ef\" y=\"75.163797\"/>\r\n     <use style=\"fill:#1f77b4;stroke:#1f77b4;\" x=\"295.822727\" xlink:href=\"#m940c6729ef\" y=\"76.443767\"/>\r\n     <use style=\"fill:#1f77b4;stroke:#1f77b4;\" x=\"296.568717\" xlink:href=\"#m940c6729ef\" y=\"76.31577\"/>\r\n     <use style=\"fill:#1f77b4;stroke:#1f77b4;\" x=\"297.314706\" xlink:href=\"#m940c6729ef\" y=\"77.21175\"/>\r\n     <use style=\"fill:#1f77b4;stroke:#1f77b4;\" x=\"298.060695\" xlink:href=\"#m940c6729ef\" y=\"75.419791\"/>\r\n     <use style=\"fill:#1f77b4;stroke:#1f77b4;\" x=\"298.806684\" xlink:href=\"#m940c6729ef\" y=\"72.006535\"/>\r\n     <use style=\"fill:#1f77b4;stroke:#1f77b4;\" x=\"299.552674\" xlink:href=\"#m940c6729ef\" y=\"75.291794\"/>\r\n     <use style=\"fill:#1f77b4;stroke:#1f77b4;\" x=\"300.298663\" xlink:href=\"#m940c6729ef\" y=\"73.585166\"/>\r\n     <use style=\"fill:#1f77b4;stroke:#1f77b4;\" x=\"301.044652\" xlink:href=\"#m940c6729ef\" y=\"77.21175\"/>\r\n     <use style=\"fill:#1f77b4;stroke:#1f77b4;\" x=\"301.790642\" xlink:href=\"#m940c6729ef\" y=\"80.710337\"/>\r\n     <use style=\"fill:#1f77b4;stroke:#1f77b4;\" x=\"302.536631\" xlink:href=\"#m940c6729ef\" y=\"82.672959\"/>\r\n     <use style=\"fill:#1f77b4;stroke:#1f77b4;\" x=\"303.28262\" xlink:href=\"#m940c6729ef\" y=\"82.16097\"/>\r\n     <use style=\"fill:#1f77b4;stroke:#1f77b4;\" x=\"304.02861\" xlink:href=\"#m940c6729ef\" y=\"84.379586\"/>\r\n     <use style=\"fill:#1f77b4;stroke:#1f77b4;\" x=\"304.774599\" xlink:href=\"#m940c6729ef\" y=\"88.944816\"/>\r\n     <use style=\"fill:#1f77b4;stroke:#1f77b4;\" x=\"305.520588\" xlink:href=\"#m940c6729ef\" y=\"91.718086\"/>\r\n     <use style=\"fill:#1f77b4;stroke:#1f77b4;\" x=\"306.266578\" xlink:href=\"#m940c6729ef\" y=\"92.955391\"/>\r\n     <use style=\"fill:#1f77b4;stroke:#1f77b4;\" x=\"307.012567\" xlink:href=\"#m940c6729ef\" y=\"93.894036\"/>\r\n     <use style=\"fill:#1f77b4;stroke:#1f77b4;\" x=\"307.758556\" xlink:href=\"#m940c6729ef\" y=\"96.752638\"/>\r\n     <use style=\"fill:#1f77b4;stroke:#1f77b4;\" x=\"308.504545\" xlink:href=\"#m940c6729ef\" y=\"95.856658\"/>\r\n     <use style=\"fill:#1f77b4;stroke:#1f77b4;\" x=\"309.250535\" xlink:href=\"#m940c6729ef\" y=\"92.528734\"/>\r\n     <use style=\"fill:#1f77b4;stroke:#1f77b4;\" x=\"309.996524\" xlink:href=\"#m940c6729ef\" y=\"92.955391\"/>\r\n     <use style=\"fill:#1f77b4;stroke:#1f77b4;\" x=\"310.742513\" xlink:href=\"#m940c6729ef\" y=\"96.496644\"/>\r\n     <use style=\"fill:#1f77b4;stroke:#1f77b4;\" x=\"311.488503\" xlink:href=\"#m940c6729ef\" y=\"99.312579\"/>\r\n     <use style=\"fill:#1f77b4;stroke:#1f77b4;\" x=\"312.234492\" xlink:href=\"#m940c6729ef\" y=\"101.275201\"/>\r\n     <use style=\"fill:#1f77b4;stroke:#1f77b4;\" x=\"312.980481\" xlink:href=\"#m940c6729ef\" y=\"102.939163\"/>\r\n     <use style=\"fill:#1f77b4;stroke:#1f77b4;\" x=\"313.726471\" xlink:href=\"#m940c6729ef\" y=\"100.848544\"/>\r\n     <use style=\"fill:#1f77b4;stroke:#1f77b4;\" x=\"314.47246\" xlink:href=\"#m940c6729ef\" y=\"100.635216\"/>\r\n     <use style=\"fill:#1f77b4;stroke:#1f77b4;\" x=\"315.218449\" xlink:href=\"#m940c6729ef\" y=\"103.621814\"/>\r\n     <use style=\"fill:#1f77b4;stroke:#1f77b4;\" x=\"315.964439\" xlink:href=\"#m940c6729ef\" y=\"110.448325\"/>\r\n     <use style=\"fill:#1f77b4;stroke:#1f77b4;\" x=\"316.710428\" xlink:href=\"#m940c6729ef\" y=\"114.245572\"/>\r\n     <use style=\"fill:#1f77b4;stroke:#1f77b4;\" x=\"317.456417\" xlink:href=\"#m940c6729ef\" y=\"117.658828\"/>\r\n     <use style=\"fill:#1f77b4;stroke:#1f77b4;\" x=\"318.202406\" xlink:href=\"#m940c6729ef\" y=\"121.285412\"/>\r\n     <use style=\"fill:#1f77b4;stroke:#1f77b4;\" x=\"318.948396\" xlink:href=\"#m940c6729ef\" y=\"120.645426\"/>\r\n     <use style=\"fill:#1f77b4;stroke:#1f77b4;\" x=\"319.694385\" xlink:href=\"#m940c6729ef\" y=\"119.792112\"/>\r\n     <use style=\"fill:#1f77b4;stroke:#1f77b4;\" x=\"320.440374\" xlink:href=\"#m940c6729ef\" y=\"120.133438\"/>\r\n     <use style=\"fill:#1f77b4;stroke:#1f77b4;\" x=\"321.186364\" xlink:href=\"#m940c6729ef\" y=\"122.437385\"/>\r\n     <use style=\"fill:#1f77b4;stroke:#1f77b4;\" x=\"321.932353\" xlink:href=\"#m940c6729ef\" y=\"123.034705\"/>\r\n     <use style=\"fill:#1f77b4;stroke:#1f77b4;\" x=\"322.678342\" xlink:href=\"#m940c6729ef\" y=\"122.864042\"/>\r\n     <use style=\"fill:#1f77b4;stroke:#1f77b4;\" x=\"323.424332\" xlink:href=\"#m940c6729ef\" y=\"125.039993\"/>\r\n     <use style=\"fill:#1f77b4;stroke:#1f77b4;\" x=\"324.170321\" xlink:href=\"#m940c6729ef\" y=\"122.778711\"/>\r\n     <use style=\"fill:#1f77b4;stroke:#1f77b4;\" x=\"324.91631\" xlink:href=\"#m940c6729ef\" y=\"118.256147\"/>\r\n     <use style=\"fill:#1f77b4;stroke:#1f77b4;\" x=\"325.662299\" xlink:href=\"#m940c6729ef\" y=\"118.42681\"/>\r\n     <use style=\"fill:#1f77b4;stroke:#1f77b4;\" x=\"326.408289\" xlink:href=\"#m940c6729ef\" y=\"120.389432\"/>\r\n     <use style=\"fill:#1f77b4;stroke:#1f77b4;\" x=\"327.154278\" xlink:href=\"#m940c6729ef\" y=\"119.365456\"/>\r\n     <use style=\"fill:#1f77b4;stroke:#1f77b4;\" x=\"327.900267\" xlink:href=\"#m940c6729ef\" y=\"120.218769\"/>\r\n     <use style=\"fill:#1f77b4;stroke:#1f77b4;\" x=\"328.646257\" xlink:href=\"#m940c6729ef\" y=\"119.578784\"/>\r\n     <use style=\"fill:#1f77b4;stroke:#1f77b4;\" x=\"329.392246\" xlink:href=\"#m940c6729ef\" y=\"117.189505\"/>\r\n     <use style=\"fill:#1f77b4;stroke:#1f77b4;\" x=\"330.138235\" xlink:href=\"#m940c6729ef\" y=\"112.752273\"/>\r\n     <use style=\"fill:#1f77b4;stroke:#1f77b4;\" x=\"330.884225\" xlink:href=\"#m940c6729ef\" y=\"110.192331\"/>\r\n     <use style=\"fill:#1f77b4;stroke:#1f77b4;\" x=\"331.630214\" xlink:href=\"#m940c6729ef\" y=\"108.059047\"/>\r\n     <use style=\"fill:#1f77b4;stroke:#1f77b4;\" x=\"332.376203\" xlink:href=\"#m940c6729ef\" y=\"107.163067\"/>\r\n     <use style=\"fill:#1f77b4;stroke:#1f77b4;\" x=\"333.122193\" xlink:href=\"#m940c6729ef\" y=\"102.640503\"/>\r\n     <use style=\"fill:#1f77b4;stroke:#1f77b4;\" x=\"333.868182\" xlink:href=\"#m940c6729ef\" y=\"103.749812\"/>\r\n     <use style=\"fill:#1f77b4;stroke:#1f77b4;\" x=\"334.614171\" xlink:href=\"#m940c6729ef\" y=\"101.829855\"/>\r\n     <use style=\"fill:#1f77b4;stroke:#1f77b4;\" x=\"335.36016\" xlink:href=\"#m940c6729ef\" y=\"95.771327\"/>\r\n     <use style=\"fill:#1f77b4;stroke:#1f77b4;\" x=\"336.10615\" xlink:href=\"#m940c6729ef\" y=\"94.15003\"/>\r\n     <use style=\"fill:#1f77b4;stroke:#1f77b4;\" x=\"336.852139\" xlink:href=\"#m940c6729ef\" y=\"95.64333\"/>\r\n     <use style=\"fill:#1f77b4;stroke:#1f77b4;\" x=\"337.598128\" xlink:href=\"#m940c6729ef\" y=\"95.302004\"/>\r\n     <use style=\"fill:#1f77b4;stroke:#1f77b4;\" x=\"338.344118\" xlink:href=\"#m940c6729ef\" y=\"94.022033\"/>\r\n     <use style=\"fill:#1f77b4;stroke:#1f77b4;\" x=\"339.090107\" xlink:href=\"#m940c6729ef\" y=\"92.400737\"/>\r\n     <use style=\"fill:#1f77b4;stroke:#1f77b4;\" x=\"339.836096\" xlink:href=\"#m940c6729ef\" y=\"88.731487\"/>\r\n     <use style=\"fill:#1f77b4;stroke:#1f77b4;\" x=\"340.582086\" xlink:href=\"#m940c6729ef\" y=\"85.104903\"/>\r\n     <use style=\"fill:#1f77b4;stroke:#1f77b4;\" x=\"341.328075\" xlink:href=\"#m940c6729ef\" y=\"77.467744\"/>\r\n     <use style=\"fill:#1f77b4;stroke:#1f77b4;\" x=\"342.074064\" xlink:href=\"#m940c6729ef\" y=\"77.083753\"/>\r\n     <use style=\"fill:#1f77b4;stroke:#1f77b4;\" x=\"342.820053\" xlink:href=\"#m940c6729ef\" y=\"78.790381\"/>\r\n     <use style=\"fill:#1f77b4;stroke:#1f77b4;\" x=\"343.566043\" xlink:href=\"#m940c6729ef\" y=\"79.643694\"/>\r\n     <use style=\"fill:#1f77b4;stroke:#1f77b4;\" x=\"344.312032\" xlink:href=\"#m940c6729ef\" y=\"83.995595\"/>\r\n     <use style=\"fill:#1f77b4;stroke:#1f77b4;\" x=\"345.058021\" xlink:href=\"#m940c6729ef\" y=\"80.667671\"/>\r\n     <use style=\"fill:#1f77b4;stroke:#1f77b4;\" x=\"345.804011\" xlink:href=\"#m940c6729ef\" y=\"74.651808\"/>\r\n     <use style=\"fill:#1f77b4;stroke:#1f77b4;\" x=\"346.55\" xlink:href=\"#m940c6729ef\" y=\"77.126419\"/>\r\n     <use style=\"fill:#1f77b4;stroke:#1f77b4;\" x=\"347.295989\" xlink:href=\"#m940c6729ef\" y=\"76.401102\"/>\r\n     <use style=\"fill:#1f77b4;stroke:#1f77b4;\" x=\"348.041979\" xlink:href=\"#m940c6729ef\" y=\"74.865137\"/>\r\n     <use style=\"fill:#1f77b4;stroke:#1f77b4;\" x=\"348.787968\" xlink:href=\"#m940c6729ef\" y=\"76.187773\"/>\r\n     <use style=\"fill:#1f77b4;stroke:#1f77b4;\" x=\"349.533957\" xlink:href=\"#m940c6729ef\" y=\"76.699762\"/>\r\n     <use style=\"fill:#1f77b4;stroke:#1f77b4;\" x=\"350.279947\" xlink:href=\"#m940c6729ef\" y=\"75.206462\"/>\r\n     <use style=\"fill:#1f77b4;stroke:#1f77b4;\" x=\"351.025936\" xlink:href=\"#m940c6729ef\" y=\"73.798494\"/>\r\n     <use style=\"fill:#1f77b4;stroke:#1f77b4;\" x=\"351.771925\" xlink:href=\"#m940c6729ef\" y=\"76.61443\"/>\r\n     <use style=\"fill:#1f77b4;stroke:#1f77b4;\" x=\"352.517914\" xlink:href=\"#m940c6729ef\" y=\"74.694474\"/>\r\n     <use style=\"fill:#1f77b4;stroke:#1f77b4;\" x=\"353.263904\" xlink:href=\"#m940c6729ef\" y=\"74.73714\"/>\r\n     <use style=\"fill:#1f77b4;stroke:#1f77b4;\" x=\"354.009893\" xlink:href=\"#m940c6729ef\" y=\"73.24384\"/>\r\n     <use style=\"fill:#1f77b4;stroke:#1f77b4;\" x=\"354.755882\" xlink:href=\"#m940c6729ef\" y=\"76.401102\"/>\r\n    </g>\r\n   </g>\r\n   <g id=\"matplotlib.axis_1\">\r\n    <g id=\"xtick_1\">\r\n     <g id=\"line2d_1\">\r\n      <defs>\r\n       <path d=\"M 0 0 \r\nL 0 3.5 \r\n\" id=\"meb3d8b9e37\" style=\"stroke:#000000;stroke-width:0.8;\"/>\r\n      </defs>\r\n      <g>\r\n       <use style=\"stroke:#000000;stroke-width:0.8;\" x=\"42.186364\" xlink:href=\"#meb3d8b9e37\" y=\"253.1955\"/>\r\n      </g>\r\n     </g>\r\n     <g id=\"text_1\">\r\n      <!-- 2020-03 -->\r\n      <g transform=\"translate(21.294957 267.793937)scale(0.1 -0.1)\">\r\n       <defs>\r\n        <path d=\"M 19.1875 8.296875 \r\nL 53.609375 8.296875 \r\nL 53.609375 0 \r\nL 7.328125 0 \r\nL 7.328125 8.296875 \r\nQ 12.9375 14.109375 22.625 23.890625 \r\nQ 32.328125 33.6875 34.8125 36.53125 \r\nQ 39.546875 41.84375 41.421875 45.53125 \r\nQ 43.3125 49.21875 43.3125 52.78125 \r\nQ 43.3125 58.59375 39.234375 62.25 \r\nQ 35.15625 65.921875 28.609375 65.921875 \r\nQ 23.96875 65.921875 18.8125 64.3125 \r\nQ 13.671875 62.703125 7.8125 59.421875 \r\nL 7.8125 69.390625 \r\nQ 13.765625 71.78125 18.9375 73 \r\nQ 24.125 74.21875 28.421875 74.21875 \r\nQ 39.75 74.21875 46.484375 68.546875 \r\nQ 53.21875 62.890625 53.21875 53.421875 \r\nQ 53.21875 48.921875 51.53125 44.890625 \r\nQ 49.859375 40.875 45.40625 35.40625 \r\nQ 44.1875 33.984375 37.640625 27.21875 \r\nQ 31.109375 20.453125 19.1875 8.296875 \r\nz\r\n\" id=\"DejaVuSans-50\"/>\r\n        <path d=\"M 31.78125 66.40625 \r\nQ 24.171875 66.40625 20.328125 58.90625 \r\nQ 16.5 51.421875 16.5 36.375 \r\nQ 16.5 21.390625 20.328125 13.890625 \r\nQ 24.171875 6.390625 31.78125 6.390625 \r\nQ 39.453125 6.390625 43.28125 13.890625 \r\nQ 47.125 21.390625 47.125 36.375 \r\nQ 47.125 51.421875 43.28125 58.90625 \r\nQ 39.453125 66.40625 31.78125 66.40625 \r\nz\r\nM 31.78125 74.21875 \r\nQ 44.046875 74.21875 50.515625 64.515625 \r\nQ 56.984375 54.828125 56.984375 36.375 \r\nQ 56.984375 17.96875 50.515625 8.265625 \r\nQ 44.046875 -1.421875 31.78125 -1.421875 \r\nQ 19.53125 -1.421875 13.0625 8.265625 \r\nQ 6.59375 17.96875 6.59375 36.375 \r\nQ 6.59375 54.828125 13.0625 64.515625 \r\nQ 19.53125 74.21875 31.78125 74.21875 \r\nz\r\n\" id=\"DejaVuSans-48\"/>\r\n        <path d=\"M 4.890625 31.390625 \r\nL 31.203125 31.390625 \r\nL 31.203125 23.390625 \r\nL 4.890625 23.390625 \r\nz\r\n\" id=\"DejaVuSans-45\"/>\r\n        <path d=\"M 40.578125 39.3125 \r\nQ 47.65625 37.796875 51.625 33 \r\nQ 55.609375 28.21875 55.609375 21.1875 \r\nQ 55.609375 10.40625 48.1875 4.484375 \r\nQ 40.765625 -1.421875 27.09375 -1.421875 \r\nQ 22.515625 -1.421875 17.65625 -0.515625 \r\nQ 12.796875 0.390625 7.625 2.203125 \r\nL 7.625 11.71875 \r\nQ 11.71875 9.328125 16.59375 8.109375 \r\nQ 21.484375 6.890625 26.8125 6.890625 \r\nQ 36.078125 6.890625 40.9375 10.546875 \r\nQ 45.796875 14.203125 45.796875 21.1875 \r\nQ 45.796875 27.640625 41.28125 31.265625 \r\nQ 36.765625 34.90625 28.71875 34.90625 \r\nL 20.21875 34.90625 \r\nL 20.21875 43.015625 \r\nL 29.109375 43.015625 \r\nQ 36.375 43.015625 40.234375 45.921875 \r\nQ 44.09375 48.828125 44.09375 54.296875 \r\nQ 44.09375 59.90625 40.109375 62.90625 \r\nQ 36.140625 65.921875 28.71875 65.921875 \r\nQ 24.65625 65.921875 20.015625 65.03125 \r\nQ 15.375 64.15625 9.8125 62.3125 \r\nL 9.8125 71.09375 \r\nQ 15.4375 72.65625 20.34375 73.4375 \r\nQ 25.25 74.21875 29.59375 74.21875 \r\nQ 40.828125 74.21875 47.359375 69.109375 \r\nQ 53.90625 64.015625 53.90625 55.328125 \r\nQ 53.90625 49.265625 50.4375 45.09375 \r\nQ 46.96875 40.921875 40.578125 39.3125 \r\nz\r\n\" id=\"DejaVuSans-51\"/>\r\n       </defs>\r\n       <use xlink:href=\"#DejaVuSans-50\"/>\r\n       <use x=\"63.623047\" xlink:href=\"#DejaVuSans-48\"/>\r\n       <use x=\"127.246094\" xlink:href=\"#DejaVuSans-50\"/>\r\n       <use x=\"190.869141\" xlink:href=\"#DejaVuSans-48\"/>\r\n       <use x=\"254.492188\" xlink:href=\"#DejaVuSans-45\"/>\r\n       <use x=\"290.576172\" xlink:href=\"#DejaVuSans-48\"/>\r\n       <use x=\"354.199219\" xlink:href=\"#DejaVuSans-51\"/>\r\n      </g>\r\n     </g>\r\n    </g>\r\n    <g id=\"xtick_2\">\r\n     <g id=\"line2d_2\">\r\n      <g>\r\n       <use style=\"stroke:#000000;stroke-width:0.8;\" x=\"87.691711\" xlink:href=\"#meb3d8b9e37\" y=\"253.1955\"/>\r\n      </g>\r\n     </g>\r\n     <g id=\"text_2\">\r\n      <!-- 2020-05 -->\r\n      <g transform=\"translate(66.800305 267.793937)scale(0.1 -0.1)\">\r\n       <defs>\r\n        <path d=\"M 10.796875 72.90625 \r\nL 49.515625 72.90625 \r\nL 49.515625 64.59375 \r\nL 19.828125 64.59375 \r\nL 19.828125 46.734375 \r\nQ 21.96875 47.46875 24.109375 47.828125 \r\nQ 26.265625 48.1875 28.421875 48.1875 \r\nQ 40.625 48.1875 47.75 41.5 \r\nQ 54.890625 34.8125 54.890625 23.390625 \r\nQ 54.890625 11.625 47.5625 5.09375 \r\nQ 40.234375 -1.421875 26.90625 -1.421875 \r\nQ 22.3125 -1.421875 17.546875 -0.640625 \r\nQ 12.796875 0.140625 7.71875 1.703125 \r\nL 7.71875 11.625 \r\nQ 12.109375 9.234375 16.796875 8.0625 \r\nQ 21.484375 6.890625 26.703125 6.890625 \r\nQ 35.15625 6.890625 40.078125 11.328125 \r\nQ 45.015625 15.765625 45.015625 23.390625 \r\nQ 45.015625 31 40.078125 35.4375 \r\nQ 35.15625 39.890625 26.703125 39.890625 \r\nQ 22.75 39.890625 18.8125 39.015625 \r\nQ 14.890625 38.140625 10.796875 36.28125 \r\nz\r\n\" id=\"DejaVuSans-53\"/>\r\n       </defs>\r\n       <use xlink:href=\"#DejaVuSans-50\"/>\r\n       <use x=\"63.623047\" xlink:href=\"#DejaVuSans-48\"/>\r\n       <use x=\"127.246094\" xlink:href=\"#DejaVuSans-50\"/>\r\n       <use x=\"190.869141\" xlink:href=\"#DejaVuSans-48\"/>\r\n       <use x=\"254.492188\" xlink:href=\"#DejaVuSans-45\"/>\r\n       <use x=\"290.576172\" xlink:href=\"#DejaVuSans-48\"/>\r\n       <use x=\"354.199219\" xlink:href=\"#DejaVuSans-53\"/>\r\n      </g>\r\n     </g>\r\n    </g>\r\n    <g id=\"xtick_3\">\r\n     <g id=\"line2d_3\">\r\n      <g>\r\n       <use style=\"stroke:#000000;stroke-width:0.8;\" x=\"133.197059\" xlink:href=\"#meb3d8b9e37\" y=\"253.1955\"/>\r\n      </g>\r\n     </g>\r\n     <g id=\"text_3\">\r\n      <!-- 2020-07 -->\r\n      <g transform=\"translate(112.305653 267.793937)scale(0.1 -0.1)\">\r\n       <defs>\r\n        <path d=\"M 8.203125 72.90625 \r\nL 55.078125 72.90625 \r\nL 55.078125 68.703125 \r\nL 28.609375 0 \r\nL 18.3125 0 \r\nL 43.21875 64.59375 \r\nL 8.203125 64.59375 \r\nz\r\n\" id=\"DejaVuSans-55\"/>\r\n       </defs>\r\n       <use xlink:href=\"#DejaVuSans-50\"/>\r\n       <use x=\"63.623047\" xlink:href=\"#DejaVuSans-48\"/>\r\n       <use x=\"127.246094\" xlink:href=\"#DejaVuSans-50\"/>\r\n       <use x=\"190.869141\" xlink:href=\"#DejaVuSans-48\"/>\r\n       <use x=\"254.492188\" xlink:href=\"#DejaVuSans-45\"/>\r\n       <use x=\"290.576172\" xlink:href=\"#DejaVuSans-48\"/>\r\n       <use x=\"354.199219\" xlink:href=\"#DejaVuSans-55\"/>\r\n      </g>\r\n     </g>\r\n    </g>\r\n    <g id=\"xtick_4\">\r\n     <g id=\"line2d_4\">\r\n      <g>\r\n       <use style=\"stroke:#000000;stroke-width:0.8;\" x=\"179.448396\" xlink:href=\"#meb3d8b9e37\" y=\"253.1955\"/>\r\n      </g>\r\n     </g>\r\n     <g id=\"text_4\">\r\n      <!-- 2020-09 -->\r\n      <g transform=\"translate(158.556989 267.793937)scale(0.1 -0.1)\">\r\n       <defs>\r\n        <path d=\"M 10.984375 1.515625 \r\nL 10.984375 10.5 \r\nQ 14.703125 8.734375 18.5 7.8125 \r\nQ 22.3125 6.890625 25.984375 6.890625 \r\nQ 35.75 6.890625 40.890625 13.453125 \r\nQ 46.046875 20.015625 46.78125 33.40625 \r\nQ 43.953125 29.203125 39.59375 26.953125 \r\nQ 35.25 24.703125 29.984375 24.703125 \r\nQ 19.046875 24.703125 12.671875 31.3125 \r\nQ 6.296875 37.9375 6.296875 49.421875 \r\nQ 6.296875 60.640625 12.9375 67.421875 \r\nQ 19.578125 74.21875 30.609375 74.21875 \r\nQ 43.265625 74.21875 49.921875 64.515625 \r\nQ 56.59375 54.828125 56.59375 36.375 \r\nQ 56.59375 19.140625 48.40625 8.859375 \r\nQ 40.234375 -1.421875 26.421875 -1.421875 \r\nQ 22.703125 -1.421875 18.890625 -0.6875 \r\nQ 15.09375 0.046875 10.984375 1.515625 \r\nz\r\nM 30.609375 32.421875 \r\nQ 37.25 32.421875 41.125 36.953125 \r\nQ 45.015625 41.5 45.015625 49.421875 \r\nQ 45.015625 57.28125 41.125 61.84375 \r\nQ 37.25 66.40625 30.609375 66.40625 \r\nQ 23.96875 66.40625 20.09375 61.84375 \r\nQ 16.21875 57.28125 16.21875 49.421875 \r\nQ 16.21875 41.5 20.09375 36.953125 \r\nQ 23.96875 32.421875 30.609375 32.421875 \r\nz\r\n\" id=\"DejaVuSans-57\"/>\r\n       </defs>\r\n       <use xlink:href=\"#DejaVuSans-50\"/>\r\n       <use x=\"63.623047\" xlink:href=\"#DejaVuSans-48\"/>\r\n       <use x=\"127.246094\" xlink:href=\"#DejaVuSans-50\"/>\r\n       <use x=\"190.869141\" xlink:href=\"#DejaVuSans-48\"/>\r\n       <use x=\"254.492188\" xlink:href=\"#DejaVuSans-45\"/>\r\n       <use x=\"290.576172\" xlink:href=\"#DejaVuSans-48\"/>\r\n       <use x=\"354.199219\" xlink:href=\"#DejaVuSans-57\"/>\r\n      </g>\r\n     </g>\r\n    </g>\r\n    <g id=\"xtick_5\">\r\n     <g id=\"line2d_5\">\r\n      <g>\r\n       <use style=\"stroke:#000000;stroke-width:0.8;\" x=\"224.953743\" xlink:href=\"#meb3d8b9e37\" y=\"253.1955\"/>\r\n      </g>\r\n     </g>\r\n     <g id=\"text_5\">\r\n      <!-- 2020-11 -->\r\n      <g transform=\"translate(204.062337 267.793937)scale(0.1 -0.1)\">\r\n       <defs>\r\n        <path d=\"M 12.40625 8.296875 \r\nL 28.515625 8.296875 \r\nL 28.515625 63.921875 \r\nL 10.984375 60.40625 \r\nL 10.984375 69.390625 \r\nL 28.421875 72.90625 \r\nL 38.28125 72.90625 \r\nL 38.28125 8.296875 \r\nL 54.390625 8.296875 \r\nL 54.390625 0 \r\nL 12.40625 0 \r\nz\r\n\" id=\"DejaVuSans-49\"/>\r\n       </defs>\r\n       <use xlink:href=\"#DejaVuSans-50\"/>\r\n       <use x=\"63.623047\" xlink:href=\"#DejaVuSans-48\"/>\r\n       <use x=\"127.246094\" xlink:href=\"#DejaVuSans-50\"/>\r\n       <use x=\"190.869141\" xlink:href=\"#DejaVuSans-48\"/>\r\n       <use x=\"254.492188\" xlink:href=\"#DejaVuSans-45\"/>\r\n       <use x=\"290.576172\" xlink:href=\"#DejaVuSans-49\"/>\r\n       <use x=\"354.199219\" xlink:href=\"#DejaVuSans-49\"/>\r\n      </g>\r\n     </g>\r\n    </g>\r\n    <g id=\"xtick_6\">\r\n     <g id=\"line2d_6\">\r\n      <g>\r\n       <use style=\"stroke:#000000;stroke-width:0.8;\" x=\"270.459091\" xlink:href=\"#meb3d8b9e37\" y=\"253.1955\"/>\r\n      </g>\r\n     </g>\r\n     <g id=\"text_6\">\r\n      <!-- 2021-01 -->\r\n      <g transform=\"translate(249.567685 267.793937)scale(0.1 -0.1)\">\r\n       <use xlink:href=\"#DejaVuSans-50\"/>\r\n       <use x=\"63.623047\" xlink:href=\"#DejaVuSans-48\"/>\r\n       <use x=\"127.246094\" xlink:href=\"#DejaVuSans-50\"/>\r\n       <use x=\"190.869141\" xlink:href=\"#DejaVuSans-49\"/>\r\n       <use x=\"254.492188\" xlink:href=\"#DejaVuSans-45\"/>\r\n       <use x=\"290.576172\" xlink:href=\"#DejaVuSans-48\"/>\r\n       <use x=\"354.199219\" xlink:href=\"#DejaVuSans-49\"/>\r\n      </g>\r\n     </g>\r\n    </g>\r\n    <g id=\"xtick_7\">\r\n     <g id=\"line2d_7\">\r\n      <g>\r\n       <use style=\"stroke:#000000;stroke-width:0.8;\" x=\"314.47246\" xlink:href=\"#meb3d8b9e37\" y=\"253.1955\"/>\r\n      </g>\r\n     </g>\r\n     <g id=\"text_7\">\r\n      <!-- 2021-03 -->\r\n      <g transform=\"translate(293.581054 267.793937)scale(0.1 -0.1)\">\r\n       <use xlink:href=\"#DejaVuSans-50\"/>\r\n       <use x=\"63.623047\" xlink:href=\"#DejaVuSans-48\"/>\r\n       <use x=\"127.246094\" xlink:href=\"#DejaVuSans-50\"/>\r\n       <use x=\"190.869141\" xlink:href=\"#DejaVuSans-49\"/>\r\n       <use x=\"254.492188\" xlink:href=\"#DejaVuSans-45\"/>\r\n       <use x=\"290.576172\" xlink:href=\"#DejaVuSans-48\"/>\r\n       <use x=\"354.199219\" xlink:href=\"#DejaVuSans-51\"/>\r\n      </g>\r\n     </g>\r\n    </g>\r\n    <g id=\"xtick_8\">\r\n     <g id=\"line2d_8\">\r\n      <g>\r\n       <use style=\"stroke:#000000;stroke-width:0.8;\" x=\"359.977807\" xlink:href=\"#meb3d8b9e37\" y=\"253.1955\"/>\r\n      </g>\r\n     </g>\r\n     <g id=\"text_8\">\r\n      <!-- 2021-05 -->\r\n      <g transform=\"translate(339.086401 267.793937)scale(0.1 -0.1)\">\r\n       <use xlink:href=\"#DejaVuSans-50\"/>\r\n       <use x=\"63.623047\" xlink:href=\"#DejaVuSans-48\"/>\r\n       <use x=\"127.246094\" xlink:href=\"#DejaVuSans-50\"/>\r\n       <use x=\"190.869141\" xlink:href=\"#DejaVuSans-49\"/>\r\n       <use x=\"254.492188\" xlink:href=\"#DejaVuSans-45\"/>\r\n       <use x=\"290.576172\" xlink:href=\"#DejaVuSans-48\"/>\r\n       <use x=\"354.199219\" xlink:href=\"#DejaVuSans-53\"/>\r\n      </g>\r\n     </g>\r\n    </g>\r\n   </g>\r\n   <g id=\"matplotlib.axis_2\">\r\n    <g id=\"ytick_1\">\r\n     <g id=\"line2d_9\">\r\n      <defs>\r\n       <path d=\"M 0 0 \r\nL -3.5 0 \r\n\" id=\"ma49d16e0c0\" style=\"stroke:#000000;stroke-width:0.8;\"/>\r\n      </defs>\r\n      <g>\r\n       <use style=\"stroke:#000000;stroke-width:0.8;\" x=\"39.65\" xlink:href=\"#ma49d16e0c0\" y=\"234.392166\"/>\r\n      </g>\r\n     </g>\r\n     <g id=\"text_9\">\r\n      <!-- 0 -->\r\n      <g transform=\"translate(26.2875 238.191385)scale(0.1 -0.1)\">\r\n       <use xlink:href=\"#DejaVuSans-48\"/>\r\n      </g>\r\n     </g>\r\n    </g>\r\n    <g id=\"ytick_2\">\r\n     <g id=\"line2d_10\">\r\n      <g>\r\n       <use style=\"stroke:#000000;stroke-width:0.8;\" x=\"39.65\" xlink:href=\"#ma49d16e0c0\" y=\"191.726472\"/>\r\n      </g>\r\n     </g>\r\n     <g id=\"text_10\">\r\n      <!-- 1000 -->\r\n      <g transform=\"translate(7.2 195.525691)scale(0.1 -0.1)\">\r\n       <use xlink:href=\"#DejaVuSans-49\"/>\r\n       <use x=\"63.623047\" xlink:href=\"#DejaVuSans-48\"/>\r\n       <use x=\"127.246094\" xlink:href=\"#DejaVuSans-48\"/>\r\n       <use x=\"190.869141\" xlink:href=\"#DejaVuSans-48\"/>\r\n      </g>\r\n     </g>\r\n    </g>\r\n    <g id=\"ytick_3\">\r\n     <g id=\"line2d_11\">\r\n      <g>\r\n       <use style=\"stroke:#000000;stroke-width:0.8;\" x=\"39.65\" xlink:href=\"#ma49d16e0c0\" y=\"149.060779\"/>\r\n      </g>\r\n     </g>\r\n     <g id=\"text_11\">\r\n      <!-- 2000 -->\r\n      <g transform=\"translate(7.2 152.859997)scale(0.1 -0.1)\">\r\n       <use xlink:href=\"#DejaVuSans-50\"/>\r\n       <use x=\"63.623047\" xlink:href=\"#DejaVuSans-48\"/>\r\n       <use x=\"127.246094\" xlink:href=\"#DejaVuSans-48\"/>\r\n       <use x=\"190.869141\" xlink:href=\"#DejaVuSans-48\"/>\r\n      </g>\r\n     </g>\r\n    </g>\r\n    <g id=\"ytick_4\">\r\n     <g id=\"line2d_12\">\r\n      <g>\r\n       <use style=\"stroke:#000000;stroke-width:0.8;\" x=\"39.65\" xlink:href=\"#ma49d16e0c0\" y=\"106.395085\"/>\r\n      </g>\r\n     </g>\r\n     <g id=\"text_12\">\r\n      <!-- 3000 -->\r\n      <g transform=\"translate(7.2 110.194303)scale(0.1 -0.1)\">\r\n       <use xlink:href=\"#DejaVuSans-51\"/>\r\n       <use x=\"63.623047\" xlink:href=\"#DejaVuSans-48\"/>\r\n       <use x=\"127.246094\" xlink:href=\"#DejaVuSans-48\"/>\r\n       <use x=\"190.869141\" xlink:href=\"#DejaVuSans-48\"/>\r\n      </g>\r\n     </g>\r\n    </g>\r\n    <g id=\"ytick_5\">\r\n     <g id=\"line2d_13\">\r\n      <g>\r\n       <use style=\"stroke:#000000;stroke-width:0.8;\" x=\"39.65\" xlink:href=\"#ma49d16e0c0\" y=\"63.729391\"/>\r\n      </g>\r\n     </g>\r\n     <g id=\"text_13\">\r\n      <!-- 4000 -->\r\n      <g transform=\"translate(7.2 67.528609)scale(0.1 -0.1)\">\r\n       <defs>\r\n        <path d=\"M 37.796875 64.3125 \r\nL 12.890625 25.390625 \r\nL 37.796875 25.390625 \r\nz\r\nM 35.203125 72.90625 \r\nL 47.609375 72.90625 \r\nL 47.609375 25.390625 \r\nL 58.015625 25.390625 \r\nL 58.015625 17.1875 \r\nL 47.609375 17.1875 \r\nL 47.609375 0 \r\nL 37.796875 0 \r\nL 37.796875 17.1875 \r\nL 4.890625 17.1875 \r\nL 4.890625 26.703125 \r\nz\r\n\" id=\"DejaVuSans-52\"/>\r\n       </defs>\r\n       <use xlink:href=\"#DejaVuSans-52\"/>\r\n       <use x=\"63.623047\" xlink:href=\"#DejaVuSans-48\"/>\r\n       <use x=\"127.246094\" xlink:href=\"#DejaVuSans-48\"/>\r\n       <use x=\"190.869141\" xlink:href=\"#DejaVuSans-48\"/>\r\n      </g>\r\n     </g>\r\n    </g>\r\n   </g>\r\n   <g id=\"line2d_14\">\r\n    <path clip-path=\"url(#p3141f32b33)\" d=\"M 54.868182 210.340089 \r\nL 56.36016 202.851628 \r\nL 57.852139 196.14132 \r\nL 59.344118 190.168975 \r\nL 60.836096 184.895599 \r\nL 62.328075 180.283367 \r\nL 63.820053 176.29561 \r\nL 65.312032 172.896791 \r\nL 66.804011 170.052486 \r\nL 68.295989 167.729367 \r\nL 69.787968 165.895182 \r\nL 71.279947 164.518733 \r\nL 72.771925 163.569863 \r\nL 74.263904 163.019431 \r\nL 75.755882 162.839298 \r\nL 77.247861 163.002305 \r\nL 78.73984 163.482259 \r\nL 80.231818 164.25391 \r\nL 81.723797 165.292937 \r\nL 83.215775 166.575927 \r\nL 84.707754 168.080362 \r\nL 86.945722 170.705104 \r\nL 89.18369 173.710133 \r\nL 92.167647 178.196204 \r\nL 95.151604 183.099354 \r\nL 99.62754 190.952559 \r\nL 111.563369 212.239602 \r\nL 115.293316 218.346357 \r\nL 118.277273 222.882804 \r\nL 121.26123 227.051555 \r\nL 124.245187 230.8081 \r\nL 126.483155 233.332525 \r\nL 128.721123 235.591272 \r\nL 130.959091 237.573603 \r\nL 133.197059 239.270844 \r\nL 135.435027 240.676288 \r\nL 137.672995 241.785098 \r\nL 139.910963 242.594212 \r\nL 142.14893 243.102248 \r\nL 144.386898 243.309414 \r\nL 146.624866 243.217419 \r\nL 148.862834 242.829379 \r\nL 151.100802 242.149735 \r\nL 153.33877 241.184168 \r\nL 155.576738 239.93951 \r\nL 157.814706 238.423669 \r\nL 160.052674 236.645541 \r\nL 162.290642 234.61494 \r\nL 164.52861 232.342513 \r\nL 167.512567 228.956257 \r\nL 170.496524 225.189362 \r\nL 173.480481 221.072609 \r\nL 177.210428 215.484099 \r\nL 180.940374 209.465548 \r\nL 185.41631 201.77189 \r\nL 190.638235 192.298817 \r\nL 198.098128 178.2049 \r\nL 210.779947 154.163647 \r\nL 216.001872 144.727354 \r\nL 220.477807 137.036731 \r\nL 224.953743 129.806724 \r\nL 228.68369 124.190426 \r\nL 232.413636 118.988214 \r\nL 236.143583 114.234101 \r\nL 239.12754 110.772531 \r\nL 242.111497 107.627396 \r\nL 245.095455 104.80763 \r\nL 248.079412 102.319478 \r\nL 251.063369 100.166441 \r\nL 254.047326 98.349215 \r\nL 257.031283 96.865655 \r\nL 259.269251 95.96904 \r\nL 261.507219 95.254156 \r\nL 263.745187 94.716889 \r\nL 266.729144 94.267989 \r\nL 269.713102 94.111292 \r\nL 272.697059 94.229381 \r\nL 275.681016 94.601933 \r\nL 278.664973 95.205746 \r\nL 281.64893 96.014771 \r\nL 285.378877 97.27041 \r\nL 289.854813 99.052345 \r\nL 296.568717 102.03318 \r\nL 303.28262 104.970277 \r\nL 307.012567 106.394067 \r\nL 309.996524 107.343886 \r\nL 312.980481 108.069741 \r\nL 315.964439 108.518228 \r\nL 318.202406 108.639511 \r\nL 320.440374 108.550053 \r\nL 322.678342 108.225639 \r\nL 324.91631 107.641662 \r\nL 327.154278 106.773164 \r\nL 329.392246 105.594886 \r\nL 331.630214 104.081309 \r\nL 333.868182 102.206705 \r\nL 336.10615 99.945182 \r\nL 338.344118 97.270743 \r\nL 340.582086 94.157329 \r\nL 342.820053 90.578881 \r\nL 345.058021 86.509393 \r\nL 347.295989 81.922969 \r\nL 349.533957 76.793884 \r\nL 351.771925 71.096641 \r\nL 354.009893 64.806041 \r\nL 356.247861 57.897241 \r\nL 358.485829 50.34582 \r\nL 359.231818 47.681724 \r\nL 359.231818 47.681724 \r\n\" style=\"fill:none;stroke:#000000;stroke-linecap:square;stroke-width:1.5;\"/>\r\n   </g>\r\n   <g id=\"patch_3\">\r\n    <path d=\"M 39.65 253.1955 \r\nL 39.65 35.7555 \r\n\" style=\"fill:none;stroke:#000000;stroke-linecap:square;stroke-linejoin:miter;stroke-width:0.8;\"/>\r\n   </g>\r\n   <g id=\"patch_4\">\r\n    <path d=\"M 374.45 253.1955 \r\nL 374.45 35.7555 \r\n\" style=\"fill:none;stroke:#000000;stroke-linecap:square;stroke-linejoin:miter;stroke-width:0.8;\"/>\r\n   </g>\r\n   <g id=\"patch_5\">\r\n    <path d=\"M 39.65 253.1955 \r\nL 374.45 253.1955 \r\n\" style=\"fill:none;stroke:#000000;stroke-linecap:square;stroke-linejoin:miter;stroke-width:0.8;\"/>\r\n   </g>\r\n   <g id=\"patch_6\">\r\n    <path d=\"M 39.65 35.7555 \r\nL 374.45 35.7555 \r\n\" style=\"fill:none;stroke:#000000;stroke-linecap:square;stroke-linejoin:miter;stroke-width:0.8;\"/>\r\n   </g>\r\n   <g id=\"text_14\">\r\n    <!-- Prediction curve of Deaths in Occitanie -->\r\n    <g transform=\"translate(90.2 16.318125)scale(0.12 -0.12)\">\r\n     <defs>\r\n      <path d=\"M 19.671875 64.796875 \r\nL 19.671875 37.40625 \r\nL 32.078125 37.40625 \r\nQ 38.96875 37.40625 42.71875 40.96875 \r\nQ 46.484375 44.53125 46.484375 51.125 \r\nQ 46.484375 57.671875 42.71875 61.234375 \r\nQ 38.96875 64.796875 32.078125 64.796875 \r\nz\r\nM 9.8125 72.90625 \r\nL 32.078125 72.90625 \r\nQ 44.34375 72.90625 50.609375 67.359375 \r\nQ 56.890625 61.8125 56.890625 51.125 \r\nQ 56.890625 40.328125 50.609375 34.8125 \r\nQ 44.34375 29.296875 32.078125 29.296875 \r\nL 19.671875 29.296875 \r\nL 19.671875 0 \r\nL 9.8125 0 \r\nz\r\n\" id=\"DejaVuSans-80\"/>\r\n      <path d=\"M 41.109375 46.296875 \r\nQ 39.59375 47.171875 37.8125 47.578125 \r\nQ 36.03125 48 33.890625 48 \r\nQ 26.265625 48 22.1875 43.046875 \r\nQ 18.109375 38.09375 18.109375 28.8125 \r\nL 18.109375 0 \r\nL 9.078125 0 \r\nL 9.078125 54.6875 \r\nL 18.109375 54.6875 \r\nL 18.109375 46.1875 \r\nQ 20.953125 51.171875 25.484375 53.578125 \r\nQ 30.03125 56 36.53125 56 \r\nQ 37.453125 56 38.578125 55.875 \r\nQ 39.703125 55.765625 41.0625 55.515625 \r\nz\r\n\" id=\"DejaVuSans-114\"/>\r\n      <path d=\"M 56.203125 29.59375 \r\nL 56.203125 25.203125 \r\nL 14.890625 25.203125 \r\nQ 15.484375 15.921875 20.484375 11.0625 \r\nQ 25.484375 6.203125 34.421875 6.203125 \r\nQ 39.59375 6.203125 44.453125 7.46875 \r\nQ 49.3125 8.734375 54.109375 11.28125 \r\nL 54.109375 2.78125 \r\nQ 49.265625 0.734375 44.1875 -0.34375 \r\nQ 39.109375 -1.421875 33.890625 -1.421875 \r\nQ 20.796875 -1.421875 13.15625 6.1875 \r\nQ 5.515625 13.8125 5.515625 26.8125 \r\nQ 5.515625 40.234375 12.765625 48.109375 \r\nQ 20.015625 56 32.328125 56 \r\nQ 43.359375 56 49.78125 48.890625 \r\nQ 56.203125 41.796875 56.203125 29.59375 \r\nz\r\nM 47.21875 32.234375 \r\nQ 47.125 39.59375 43.09375 43.984375 \r\nQ 39.0625 48.390625 32.421875 48.390625 \r\nQ 24.90625 48.390625 20.390625 44.140625 \r\nQ 15.875 39.890625 15.1875 32.171875 \r\nz\r\n\" id=\"DejaVuSans-101\"/>\r\n      <path d=\"M 45.40625 46.390625 \r\nL 45.40625 75.984375 \r\nL 54.390625 75.984375 \r\nL 54.390625 0 \r\nL 45.40625 0 \r\nL 45.40625 8.203125 \r\nQ 42.578125 3.328125 38.25 0.953125 \r\nQ 33.9375 -1.421875 27.875 -1.421875 \r\nQ 17.96875 -1.421875 11.734375 6.484375 \r\nQ 5.515625 14.40625 5.515625 27.296875 \r\nQ 5.515625 40.1875 11.734375 48.09375 \r\nQ 17.96875 56 27.875 56 \r\nQ 33.9375 56 38.25 53.625 \r\nQ 42.578125 51.265625 45.40625 46.390625 \r\nz\r\nM 14.796875 27.296875 \r\nQ 14.796875 17.390625 18.875 11.75 \r\nQ 22.953125 6.109375 30.078125 6.109375 \r\nQ 37.203125 6.109375 41.296875 11.75 \r\nQ 45.40625 17.390625 45.40625 27.296875 \r\nQ 45.40625 37.203125 41.296875 42.84375 \r\nQ 37.203125 48.484375 30.078125 48.484375 \r\nQ 22.953125 48.484375 18.875 42.84375 \r\nQ 14.796875 37.203125 14.796875 27.296875 \r\nz\r\n\" id=\"DejaVuSans-100\"/>\r\n      <path d=\"M 9.421875 54.6875 \r\nL 18.40625 54.6875 \r\nL 18.40625 0 \r\nL 9.421875 0 \r\nz\r\nM 9.421875 75.984375 \r\nL 18.40625 75.984375 \r\nL 18.40625 64.59375 \r\nL 9.421875 64.59375 \r\nz\r\n\" id=\"DejaVuSans-105\"/>\r\n      <path d=\"M 48.78125 52.59375 \r\nL 48.78125 44.1875 \r\nQ 44.96875 46.296875 41.140625 47.34375 \r\nQ 37.3125 48.390625 33.40625 48.390625 \r\nQ 24.65625 48.390625 19.8125 42.84375 \r\nQ 14.984375 37.3125 14.984375 27.296875 \r\nQ 14.984375 17.28125 19.8125 11.734375 \r\nQ 24.65625 6.203125 33.40625 6.203125 \r\nQ 37.3125 6.203125 41.140625 7.25 \r\nQ 44.96875 8.296875 48.78125 10.40625 \r\nL 48.78125 2.09375 \r\nQ 45.015625 0.34375 40.984375 -0.53125 \r\nQ 36.96875 -1.421875 32.421875 -1.421875 \r\nQ 20.0625 -1.421875 12.78125 6.34375 \r\nQ 5.515625 14.109375 5.515625 27.296875 \r\nQ 5.515625 40.671875 12.859375 48.328125 \r\nQ 20.21875 56 33.015625 56 \r\nQ 37.15625 56 41.109375 55.140625 \r\nQ 45.0625 54.296875 48.78125 52.59375 \r\nz\r\n\" id=\"DejaVuSans-99\"/>\r\n      <path d=\"M 18.3125 70.21875 \r\nL 18.3125 54.6875 \r\nL 36.8125 54.6875 \r\nL 36.8125 47.703125 \r\nL 18.3125 47.703125 \r\nL 18.3125 18.015625 \r\nQ 18.3125 11.328125 20.140625 9.421875 \r\nQ 21.96875 7.515625 27.59375 7.515625 \r\nL 36.8125 7.515625 \r\nL 36.8125 0 \r\nL 27.59375 0 \r\nQ 17.1875 0 13.234375 3.875 \r\nQ 9.28125 7.765625 9.28125 18.015625 \r\nL 9.28125 47.703125 \r\nL 2.6875 47.703125 \r\nL 2.6875 54.6875 \r\nL 9.28125 54.6875 \r\nL 9.28125 70.21875 \r\nz\r\n\" id=\"DejaVuSans-116\"/>\r\n      <path d=\"M 30.609375 48.390625 \r\nQ 23.390625 48.390625 19.1875 42.75 \r\nQ 14.984375 37.109375 14.984375 27.296875 \r\nQ 14.984375 17.484375 19.15625 11.84375 \r\nQ 23.34375 6.203125 30.609375 6.203125 \r\nQ 37.796875 6.203125 41.984375 11.859375 \r\nQ 46.1875 17.53125 46.1875 27.296875 \r\nQ 46.1875 37.015625 41.984375 42.703125 \r\nQ 37.796875 48.390625 30.609375 48.390625 \r\nz\r\nM 30.609375 56 \r\nQ 42.328125 56 49.015625 48.375 \r\nQ 55.71875 40.765625 55.71875 27.296875 \r\nQ 55.71875 13.875 49.015625 6.21875 \r\nQ 42.328125 -1.421875 30.609375 -1.421875 \r\nQ 18.84375 -1.421875 12.171875 6.21875 \r\nQ 5.515625 13.875 5.515625 27.296875 \r\nQ 5.515625 40.765625 12.171875 48.375 \r\nQ 18.84375 56 30.609375 56 \r\nz\r\n\" id=\"DejaVuSans-111\"/>\r\n      <path d=\"M 54.890625 33.015625 \r\nL 54.890625 0 \r\nL 45.90625 0 \r\nL 45.90625 32.71875 \r\nQ 45.90625 40.484375 42.875 44.328125 \r\nQ 39.84375 48.1875 33.796875 48.1875 \r\nQ 26.515625 48.1875 22.3125 43.546875 \r\nQ 18.109375 38.921875 18.109375 30.90625 \r\nL 18.109375 0 \r\nL 9.078125 0 \r\nL 9.078125 54.6875 \r\nL 18.109375 54.6875 \r\nL 18.109375 46.1875 \r\nQ 21.34375 51.125 25.703125 53.5625 \r\nQ 30.078125 56 35.796875 56 \r\nQ 45.21875 56 50.046875 50.171875 \r\nQ 54.890625 44.34375 54.890625 33.015625 \r\nz\r\n\" id=\"DejaVuSans-110\"/>\r\n      <path id=\"DejaVuSans-32\"/>\r\n      <path d=\"M 8.5 21.578125 \r\nL 8.5 54.6875 \r\nL 17.484375 54.6875 \r\nL 17.484375 21.921875 \r\nQ 17.484375 14.15625 20.5 10.265625 \r\nQ 23.53125 6.390625 29.59375 6.390625 \r\nQ 36.859375 6.390625 41.078125 11.03125 \r\nQ 45.3125 15.671875 45.3125 23.6875 \r\nL 45.3125 54.6875 \r\nL 54.296875 54.6875 \r\nL 54.296875 0 \r\nL 45.3125 0 \r\nL 45.3125 8.40625 \r\nQ 42.046875 3.421875 37.71875 1 \r\nQ 33.40625 -1.421875 27.6875 -1.421875 \r\nQ 18.265625 -1.421875 13.375 4.4375 \r\nQ 8.5 10.296875 8.5 21.578125 \r\nz\r\nM 31.109375 56 \r\nz\r\n\" id=\"DejaVuSans-117\"/>\r\n      <path d=\"M 2.984375 54.6875 \r\nL 12.5 54.6875 \r\nL 29.59375 8.796875 \r\nL 46.6875 54.6875 \r\nL 56.203125 54.6875 \r\nL 35.6875 0 \r\nL 23.484375 0 \r\nz\r\n\" id=\"DejaVuSans-118\"/>\r\n      <path d=\"M 37.109375 75.984375 \r\nL 37.109375 68.5 \r\nL 28.515625 68.5 \r\nQ 23.6875 68.5 21.796875 66.546875 \r\nQ 19.921875 64.59375 19.921875 59.515625 \r\nL 19.921875 54.6875 \r\nL 34.71875 54.6875 \r\nL 34.71875 47.703125 \r\nL 19.921875 47.703125 \r\nL 19.921875 0 \r\nL 10.890625 0 \r\nL 10.890625 47.703125 \r\nL 2.296875 47.703125 \r\nL 2.296875 54.6875 \r\nL 10.890625 54.6875 \r\nL 10.890625 58.5 \r\nQ 10.890625 67.625 15.140625 71.796875 \r\nQ 19.390625 75.984375 28.609375 75.984375 \r\nz\r\n\" id=\"DejaVuSans-102\"/>\r\n      <path d=\"M 19.671875 64.796875 \r\nL 19.671875 8.109375 \r\nL 31.59375 8.109375 \r\nQ 46.6875 8.109375 53.6875 14.9375 \r\nQ 60.6875 21.78125 60.6875 36.53125 \r\nQ 60.6875 51.171875 53.6875 57.984375 \r\nQ 46.6875 64.796875 31.59375 64.796875 \r\nz\r\nM 9.8125 72.90625 \r\nL 30.078125 72.90625 \r\nQ 51.265625 72.90625 61.171875 64.09375 \r\nQ 71.09375 55.28125 71.09375 36.53125 \r\nQ 71.09375 17.671875 61.125 8.828125 \r\nQ 51.171875 0 30.078125 0 \r\nL 9.8125 0 \r\nz\r\n\" id=\"DejaVuSans-68\"/>\r\n      <path d=\"M 34.28125 27.484375 \r\nQ 23.390625 27.484375 19.1875 25 \r\nQ 14.984375 22.515625 14.984375 16.5 \r\nQ 14.984375 11.71875 18.140625 8.90625 \r\nQ 21.296875 6.109375 26.703125 6.109375 \r\nQ 34.1875 6.109375 38.703125 11.40625 \r\nQ 43.21875 16.703125 43.21875 25.484375 \r\nL 43.21875 27.484375 \r\nz\r\nM 52.203125 31.203125 \r\nL 52.203125 0 \r\nL 43.21875 0 \r\nL 43.21875 8.296875 \r\nQ 40.140625 3.328125 35.546875 0.953125 \r\nQ 30.953125 -1.421875 24.3125 -1.421875 \r\nQ 15.921875 -1.421875 10.953125 3.296875 \r\nQ 6 8.015625 6 15.921875 \r\nQ 6 25.140625 12.171875 29.828125 \r\nQ 18.359375 34.515625 30.609375 34.515625 \r\nL 43.21875 34.515625 \r\nL 43.21875 35.40625 \r\nQ 43.21875 41.609375 39.140625 45 \r\nQ 35.0625 48.390625 27.6875 48.390625 \r\nQ 23 48.390625 18.546875 47.265625 \r\nQ 14.109375 46.140625 10.015625 43.890625 \r\nL 10.015625 52.203125 \r\nQ 14.9375 54.109375 19.578125 55.046875 \r\nQ 24.21875 56 28.609375 56 \r\nQ 40.484375 56 46.34375 49.84375 \r\nQ 52.203125 43.703125 52.203125 31.203125 \r\nz\r\n\" id=\"DejaVuSans-97\"/>\r\n      <path d=\"M 54.890625 33.015625 \r\nL 54.890625 0 \r\nL 45.90625 0 \r\nL 45.90625 32.71875 \r\nQ 45.90625 40.484375 42.875 44.328125 \r\nQ 39.84375 48.1875 33.796875 48.1875 \r\nQ 26.515625 48.1875 22.3125 43.546875 \r\nQ 18.109375 38.921875 18.109375 30.90625 \r\nL 18.109375 0 \r\nL 9.078125 0 \r\nL 9.078125 75.984375 \r\nL 18.109375 75.984375 \r\nL 18.109375 46.1875 \r\nQ 21.34375 51.125 25.703125 53.5625 \r\nQ 30.078125 56 35.796875 56 \r\nQ 45.21875 56 50.046875 50.171875 \r\nQ 54.890625 44.34375 54.890625 33.015625 \r\nz\r\n\" id=\"DejaVuSans-104\"/>\r\n      <path d=\"M 44.28125 53.078125 \r\nL 44.28125 44.578125 \r\nQ 40.484375 46.53125 36.375 47.5 \r\nQ 32.28125 48.484375 27.875 48.484375 \r\nQ 21.1875 48.484375 17.84375 46.4375 \r\nQ 14.5 44.390625 14.5 40.28125 \r\nQ 14.5 37.15625 16.890625 35.375 \r\nQ 19.28125 33.59375 26.515625 31.984375 \r\nL 29.59375 31.296875 \r\nQ 39.15625 29.25 43.1875 25.515625 \r\nQ 47.21875 21.78125 47.21875 15.09375 \r\nQ 47.21875 7.46875 41.1875 3.015625 \r\nQ 35.15625 -1.421875 24.609375 -1.421875 \r\nQ 20.21875 -1.421875 15.453125 -0.5625 \r\nQ 10.6875 0.296875 5.421875 2 \r\nL 5.421875 11.28125 \r\nQ 10.40625 8.6875 15.234375 7.390625 \r\nQ 20.0625 6.109375 24.8125 6.109375 \r\nQ 31.15625 6.109375 34.5625 8.28125 \r\nQ 37.984375 10.453125 37.984375 14.40625 \r\nQ 37.984375 18.0625 35.515625 20.015625 \r\nQ 33.0625 21.96875 24.703125 23.78125 \r\nL 21.578125 24.515625 \r\nQ 13.234375 26.265625 9.515625 29.90625 \r\nQ 5.8125 33.546875 5.8125 39.890625 \r\nQ 5.8125 47.609375 11.28125 51.796875 \r\nQ 16.75 56 26.8125 56 \r\nQ 31.78125 56 36.171875 55.265625 \r\nQ 40.578125 54.546875 44.28125 53.078125 \r\nz\r\n\" id=\"DejaVuSans-115\"/>\r\n      <path d=\"M 39.40625 66.21875 \r\nQ 28.65625 66.21875 22.328125 58.203125 \r\nQ 16.015625 50.203125 16.015625 36.375 \r\nQ 16.015625 22.609375 22.328125 14.59375 \r\nQ 28.65625 6.59375 39.40625 6.59375 \r\nQ 50.140625 6.59375 56.421875 14.59375 \r\nQ 62.703125 22.609375 62.703125 36.375 \r\nQ 62.703125 50.203125 56.421875 58.203125 \r\nQ 50.140625 66.21875 39.40625 66.21875 \r\nz\r\nM 39.40625 74.21875 \r\nQ 54.734375 74.21875 63.90625 63.9375 \r\nQ 73.09375 53.65625 73.09375 36.375 \r\nQ 73.09375 19.140625 63.90625 8.859375 \r\nQ 54.734375 -1.421875 39.40625 -1.421875 \r\nQ 24.03125 -1.421875 14.8125 8.828125 \r\nQ 5.609375 19.09375 5.609375 36.375 \r\nQ 5.609375 53.65625 14.8125 63.9375 \r\nQ 24.03125 74.21875 39.40625 74.21875 \r\nz\r\n\" id=\"DejaVuSans-79\"/>\r\n     </defs>\r\n     <use xlink:href=\"#DejaVuSans-80\"/>\r\n     <use x=\"58.552734\" xlink:href=\"#DejaVuSans-114\"/>\r\n     <use x=\"97.416016\" xlink:href=\"#DejaVuSans-101\"/>\r\n     <use x=\"158.939453\" xlink:href=\"#DejaVuSans-100\"/>\r\n     <use x=\"222.416016\" xlink:href=\"#DejaVuSans-105\"/>\r\n     <use x=\"250.199219\" xlink:href=\"#DejaVuSans-99\"/>\r\n     <use x=\"305.179688\" xlink:href=\"#DejaVuSans-116\"/>\r\n     <use x=\"344.388672\" xlink:href=\"#DejaVuSans-105\"/>\r\n     <use x=\"372.171875\" xlink:href=\"#DejaVuSans-111\"/>\r\n     <use x=\"433.353516\" xlink:href=\"#DejaVuSans-110\"/>\r\n     <use x=\"496.732422\" xlink:href=\"#DejaVuSans-32\"/>\r\n     <use x=\"528.519531\" xlink:href=\"#DejaVuSans-99\"/>\r\n     <use x=\"583.5\" xlink:href=\"#DejaVuSans-117\"/>\r\n     <use x=\"646.878906\" xlink:href=\"#DejaVuSans-114\"/>\r\n     <use x=\"687.992188\" xlink:href=\"#DejaVuSans-118\"/>\r\n     <use x=\"747.171875\" xlink:href=\"#DejaVuSans-101\"/>\r\n     <use x=\"808.695312\" xlink:href=\"#DejaVuSans-32\"/>\r\n     <use x=\"840.482422\" xlink:href=\"#DejaVuSans-111\"/>\r\n     <use x=\"901.664062\" xlink:href=\"#DejaVuSans-102\"/>\r\n     <use x=\"936.869141\" xlink:href=\"#DejaVuSans-32\"/>\r\n     <use x=\"968.65625\" xlink:href=\"#DejaVuSans-68\"/>\r\n     <use x=\"1045.658203\" xlink:href=\"#DejaVuSans-101\"/>\r\n     <use x=\"1107.181641\" xlink:href=\"#DejaVuSans-97\"/>\r\n     <use x=\"1168.460938\" xlink:href=\"#DejaVuSans-116\"/>\r\n     <use x=\"1207.669922\" xlink:href=\"#DejaVuSans-104\"/>\r\n     <use x=\"1271.048828\" xlink:href=\"#DejaVuSans-115\"/>\r\n     <use x=\"1323.148438\" xlink:href=\"#DejaVuSans-32\"/>\r\n     <use x=\"1354.935547\" xlink:href=\"#DejaVuSans-105\"/>\r\n     <use x=\"1382.71875\" xlink:href=\"#DejaVuSans-110\"/>\r\n     <use x=\"1446.097656\" xlink:href=\"#DejaVuSans-32\"/>\r\n     <use x=\"1477.884766\" xlink:href=\"#DejaVuSans-79\"/>\r\n     <use x=\"1556.595703\" xlink:href=\"#DejaVuSans-99\"/>\r\n     <use x=\"1611.576172\" xlink:href=\"#DejaVuSans-99\"/>\r\n     <use x=\"1666.556641\" xlink:href=\"#DejaVuSans-105\"/>\r\n     <use x=\"1694.339844\" xlink:href=\"#DejaVuSans-116\"/>\r\n     <use x=\"1733.548828\" xlink:href=\"#DejaVuSans-97\"/>\r\n     <use x=\"1794.828125\" xlink:href=\"#DejaVuSans-110\"/>\r\n     <use x=\"1858.207031\" xlink:href=\"#DejaVuSans-105\"/>\r\n     <use x=\"1885.990234\" xlink:href=\"#DejaVuSans-101\"/>\r\n    </g>\r\n    <!--  until 2021-04-30 -->\r\n    <g transform=\"translate(155.075938 29.7555)scale(0.12 -0.12)\">\r\n     <defs>\r\n      <path d=\"M 9.421875 75.984375 \r\nL 18.40625 75.984375 \r\nL 18.40625 0 \r\nL 9.421875 0 \r\nz\r\n\" id=\"DejaVuSans-108\"/>\r\n     </defs>\r\n     <use xlink:href=\"#DejaVuSans-32\"/>\r\n     <use x=\"31.787109\" xlink:href=\"#DejaVuSans-117\"/>\r\n     <use x=\"95.166016\" xlink:href=\"#DejaVuSans-110\"/>\r\n     <use x=\"158.544922\" xlink:href=\"#DejaVuSans-116\"/>\r\n     <use x=\"197.753906\" xlink:href=\"#DejaVuSans-105\"/>\r\n     <use x=\"225.537109\" xlink:href=\"#DejaVuSans-108\"/>\r\n     <use x=\"253.320312\" xlink:href=\"#DejaVuSans-32\"/>\r\n     <use x=\"285.107422\" xlink:href=\"#DejaVuSans-50\"/>\r\n     <use x=\"348.730469\" xlink:href=\"#DejaVuSans-48\"/>\r\n     <use x=\"412.353516\" xlink:href=\"#DejaVuSans-50\"/>\r\n     <use x=\"475.976562\" xlink:href=\"#DejaVuSans-49\"/>\r\n     <use x=\"539.599609\" xlink:href=\"#DejaVuSans-45\"/>\r\n     <use x=\"575.683594\" xlink:href=\"#DejaVuSans-48\"/>\r\n     <use x=\"639.306641\" xlink:href=\"#DejaVuSans-52\"/>\r\n     <use x=\"702.929688\" xlink:href=\"#DejaVuSans-45\"/>\r\n     <use x=\"739.013672\" xlink:href=\"#DejaVuSans-51\"/>\r\n     <use x=\"802.636719\" xlink:href=\"#DejaVuSans-48\"/>\r\n    </g>\r\n   </g>\r\n  </g>\r\n </g>\r\n <defs>\r\n  <clipPath id=\"p3141f32b33\">\r\n   <rect height=\"217.44\" width=\"334.8\" x=\"39.65\" y=\"35.7555\"/>\r\n  </clipPath>\r\n </defs>\r\n</svg>\r\n",
      "image/png": "[encoded data removed]"
     },
     "metadata": {
      "needs_background": "light"
     }
    }
   ],
   "source": [
    "#Prediction\n",
    "prediction.predict_curve(7, 76, '2021-04-30')"
   ]
  },
  {
   "cell_type": "code",
   "execution_count": 15,
   "metadata": {},
   "outputs": [
    {
     "output_type": "stream",
     "name": "stdout",
     "text": [
      "Downloading data from https://static.data.gouv.fr/resources/donnees-hospitalieres-relatives-a-lepidemie-de-covid-19/20210424-190508/donnees-hospitalieres-classe-age-covid19-2021-04-24-19h05.csv (3.2 MB)\n",
      "\n",
      "file_sizes: 100%|██████████████████████████| 3.32M/3.32M [00:01<00:00, 2.73MB/s]\n",
      "Successfully downloaded file to C:\\Users\\quenf\\vizcovidfr\\vizcovidfr\\loads\\..\\data\\./classe_age.csv\n",
      "c:\\users\\quenf\\vizcovidfr\\vizcovidfr\\prediction\\prediction.py:314: FutureWarning:\n",
      "\n",
      "Support for multi-dimensional indexing (e.g. `obj[:, None]`) is deprecated and will be removed in a future version.  Convert to a numpy array before indexing instead.\n",
      "\n",
      "Time to execute: 1.96513 s.\n"
     ]
    },
    {
     "output_type": "execute_result",
     "data": {
      "text/plain": [
       "'According to the model, the cumulative number of Deaths in Occitanie on 2021-04-30 should be 4440.'"
      ]
     },
     "metadata": {},
     "execution_count": 15
    }
   ],
   "source": [
    "prediction.predict_value(7, 76, '2021-04-30')"
   ]
  },
  {
   "source": [
    "## Sparse matrix\n",
    "\n",
    "We also created a sparse matrix, using the patient transfer flow due to covid-19. "
   ],
   "cell_type": "markdown",
   "metadata": {}
  },
  {
   "cell_type": "code",
   "execution_count": 9,
   "metadata": {},
   "outputs": [
    {
     "output_type": "stream",
     "name": "stdout",
     "text": [
      "Downloading data from https://static.data.gouv.fr/resources/donnees-relatives-aux-transferts-de-patients-atteints-de-covid-19/20200424-183902/transferts-patients-covid19.csv (2 kB)\n",
      "\n",
      "file_sizes: 100%|███████████████████████████| 1.79k/1.79k [00:00<00:00, 358kB/s]\n",
      "Successfully downloaded file to C:\\Users\\quenf\\vizcovidfr\\vizcovidfr\\loads\\..\\data\\transfer.csv\n"
     ]
    },
    {
     "output_type": "display_data",
     "data": {
      "text/plain": "<Figure size 936x648 with 1 Axes>",
      "image/svg+xml": "<?xml version=\"1.0\" encoding=\"utf-8\" standalone=\"no\"?>\r\n<!DOCTYPE svg PUBLIC \"-//W3C//DTD SVG 1.1//EN\"\r\n  \"http://www.w3.org/Graphics/SVG/1.1/DTD/svg11.dtd\">\r\n<!-- Created with matplotlib (https://matplotlib.org/) -->\r\n<svg height=\"529.517344pt\" version=\"1.1\" viewBox=\"0 0 739.8 529.517344\" width=\"739.8pt\" xmlns=\"http://www.w3.org/2000/svg\" xmlns:xlink=\"http://www.w3.org/1999/xlink\">\r\n <metadata>\r\n  <rdf:RDF xmlns:cc=\"http://creativecommons.org/ns#\" xmlns:dc=\"http://purl.org/dc/elements/1.1/\" xmlns:rdf=\"http://www.w3.org/1999/02/22-rdf-syntax-ns#\">\r\n   <cc:Work>\r\n    <dc:type rdf:resource=\"http://purl.org/dc/dcmitype/StillImage\"/>\r\n    <dc:date>2021-04-24T20:50:07.119916</dc:date>\r\n    <dc:format>image/svg+xml</dc:format>\r\n    <dc:creator>\r\n     <cc:Agent>\r\n      <dc:title>Matplotlib v3.3.2, https://matplotlib.org/</dc:title>\r\n     </cc:Agent>\r\n    </dc:creator>\r\n   </cc:Work>\r\n  </rdf:RDF>\r\n </metadata>\r\n <defs>\r\n  <style type=\"text/css\">*{stroke-linecap:butt;stroke-linejoin:round;}</style>\r\n </defs>\r\n <g id=\"figure_1\">\r\n  <g id=\"patch_1\">\r\n   <path d=\"M 0 529.517344 \r\nL 739.8 529.517344 \r\nL 739.8 0 \r\nL 0 0 \r\nz\r\n\" style=\"fill:none;\"/>\r\n  </g>\r\n  <g id=\"axes_1\">\r\n   <g id=\"patch_2\">\r\n    <path clip-path=\"url(#p57a925e780)\" d=\"M 335.447039 291.107372 \r\nQ 446.783416 372.259259 557.216295 452.752595 \r\n\" style=\"fill:none;stroke:#cc9016;stroke-linecap:round;stroke-opacity:0.6;\"/>\r\n    <path clip-path=\"url(#p57a925e780)\" d=\"M 555.161889 448.780263 \r\nL 557.216295 452.752595 \r\nL 552.805786 452.01272 \r\nL 555.161889 448.780263 \r\nz\r\n\" style=\"fill:#cc9016;fill-opacity:0.6;stroke:#cc9016;stroke-linecap:round;stroke-opacity:0.6;\"/>\r\n   </g>\r\n   <g id=\"patch_3\">\r\n    <path clip-path=\"url(#p57a925e780)\" d=\"M 325.574038 277.841661 \r\nQ 291.366676 180.769415 257.530902 84.751646 \r\n\" style=\"fill:none;stroke:#cc9016;stroke-linecap:round;stroke-opacity:0.6;\"/>\r\n    <path clip-path=\"url(#p57a925e780)\" d=\"M 256.97403 89.188975 \r\nL 257.530902 84.751646 \r\nL 260.746642 87.859541 \r\nL 256.97403 89.188975 \r\nz\r\n\" style=\"fill:#cc9016;fill-opacity:0.6;stroke:#cc9016;stroke-linecap:round;stroke-opacity:0.6;\"/>\r\n   </g>\r\n   <g id=\"patch_4\">\r\n    <path clip-path=\"url(#p57a925e780)\" d=\"M 319.792793 285.802046 \r\nQ 199.299608 282.924907 79.924139 280.074457 \r\n\" style=\"fill:none;stroke:#cc9016;stroke-linecap:round;stroke-opacity:0.6;\"/>\r\n    <path clip-path=\"url(#p57a925e780)\" d=\"M 83.875256 282.169372 \r\nL 79.924139 280.074457 \r\nL 83.970741 278.170511 \r\nL 83.875256 282.169372 \r\nz\r\n\" style=\"fill:#cc9016;fill-opacity:0.6;stroke:#cc9016;stroke-linecap:round;stroke-opacity:0.6;\"/>\r\n   </g>\r\n   <g id=\"patch_5\">\r\n    <path clip-path=\"url(#p57a925e780)\" d=\"M 337.076301 286.820264 \r\nQ 499.051954 302.060517 659.91449 317.196037 \r\n\" style=\"fill:none;stroke:#cc9016;stroke-linecap:round;stroke-opacity:0.6;\"/>\r\n    <path clip-path=\"url(#p57a925e780)\" d=\"M 656.119431 314.830127 \r\nL 659.91449 317.196037 \r\nL 655.744727 318.812538 \r\nL 656.119431 314.830127 \r\nz\r\n\" style=\"fill:#cc9016;fill-opacity:0.6;stroke:#cc9016;stroke-linecap:round;stroke-opacity:0.6;\"/>\r\n   </g>\r\n   <g id=\"patch_6\">\r\n    <path clip-path=\"url(#p57a925e780)\" d=\"M 320.716907 289.910068 \r\nQ 221.458031 339.971645 123.197411 389.529749 \r\n\" style=\"fill:none;stroke:#cc9016;stroke-linecap:round;stroke-opacity:0.6;\"/>\r\n    <path clip-path=\"url(#p57a925e780)\" d=\"M 127.66952 389.5142 \r\nL 123.197411 389.529749 \r\nL 125.868237 385.942732 \r\nL 127.66952 389.5142 \r\nz\r\n\" style=\"fill:#cc9016;fill-opacity:0.6;stroke:#cc9016;stroke-linecap:round;stroke-opacity:0.6;\"/>\r\n   </g>\r\n   <g id=\"patch_7\">\r\n    <path clip-path=\"url(#p57a925e780)\" d=\"M 321.064638 281.486106 \r\nQ 230.327604 225.935401 140.544098 170.968462 \r\n\" style=\"fill:none;stroke:#cc9016;stroke-linecap:round;stroke-opacity:0.6;\"/>\r\n    <path clip-path=\"url(#p57a925e780)\" d=\"M 142.911274 174.762731 \r\nL 140.544098 170.968462 \r\nL 144.999819 171.351283 \r\nL 142.911274 174.762731 \r\nz\r\n\" style=\"fill:#cc9016;fill-opacity:0.6;stroke:#cc9016;stroke-linecap:round;stroke-opacity:0.6;\"/>\r\n   </g>\r\n   <g id=\"patch_8\">\r\n    <path clip-path=\"url(#p57a925e780)\" d=\"M 514.588244 412.267127 \r\nQ 536.659672 432.466919 557.906335 451.911886 \r\n\" style=\"fill:none;stroke:#cc9016;stroke-linecap:round;stroke-opacity:0.6;\"/>\r\n    <path clip-path=\"url(#p57a925e780)\" d=\"M 556.305839 447.735953 \r\nL 557.906335 451.911886 \r\nL 553.605291 450.686723 \r\nL 556.305839 447.735953 \r\nz\r\n\" style=\"fill:#cc9016;fill-opacity:0.6;stroke:#cc9016;stroke-linecap:round;stroke-opacity:0.6;\"/>\r\n   </g>\r\n   <g id=\"patch_9\">\r\n    <path clip-path=\"url(#p57a925e780)\" d=\"M 377.103198 238.592361 \r\nQ 405.550948 168.706373 433.577177 99.855913 \r\n\" style=\"fill:none;stroke:#cc9016;stroke-linecap:round;stroke-opacity:0.6;\"/>\r\n    <path clip-path=\"url(#p57a925e780)\" d=\"M 430.216686 102.806692 \r\nL 433.577177 99.855913 \r\nL 433.921505 104.314774 \r\nL 430.216686 102.806692 \r\nz\r\n\" style=\"fill:#cc9016;fill-opacity:0.6;stroke:#cc9016;stroke-linecap:round;stroke-opacity:0.6;\"/>\r\n   </g>\r\n   <g id=\"patch_10\">\r\n    <path clip-path=\"url(#p57a925e780)\" d=\"M 365.233534 247.55342 \r\nQ 221.993015 263.226474 79.863897 278.777921 \r\n\" style=\"fill:none;stroke:#cc9016;stroke-linecap:round;stroke-opacity:0.6;\"/>\r\n    <path clip-path=\"url(#p57a925e780)\" d=\"M 84.057702 280.330981 \r\nL 79.863897 278.777921 \r\nL 83.622628 276.354713 \r\nL 84.057702 280.330981 \r\nz\r\n\" style=\"fill:#cc9016;fill-opacity:0.6;stroke:#cc9016;stroke-linecap:round;stroke-opacity:0.6;\"/>\r\n   </g>\r\n   <g id=\"patch_11\">\r\n    <path clip-path=\"url(#p57a925e780)\" d=\"M 382.256936 248.646585 \r\nQ 521.746804 282.362381 660.149933 315.815503 \r\n\" style=\"fill:none;stroke:#cc9016;stroke-linecap:round;stroke-opacity:0.6;\"/>\r\n    <path clip-path=\"url(#p57a925e780)\" d=\"M 656.73178 312.931715 \r\nL 660.149933 315.815503 \r\nL 655.792011 316.819752 \r\nL 656.73178 312.931715 \r\nz\r\n\" style=\"fill:#cc9016;fill-opacity:0.6;stroke:#cc9016;stroke-linecap:round;stroke-opacity:0.6;\"/>\r\n   </g>\r\n   <g id=\"patch_12\">\r\n    <path clip-path=\"url(#p57a925e780)\" d=\"M 381.528053 242.619855 \r\nQ 487.38921 187.660436 592.25809 133.216173 \r\n\" style=\"fill:none;stroke:#cc9016;stroke-linecap:round;stroke-opacity:0.6;\"/>\r\n    <path clip-path=\"url(#p57a925e780)\" d=\"M 587.786471 133.284211 \r\nL 592.25809 133.216173 \r\nL 589.629549 136.83429 \r\nL 587.786471 133.284211 \r\nz\r\n\" style=\"fill:#cc9016;fill-opacity:0.6;stroke:#cc9016;stroke-linecap:round;stroke-opacity:0.6;\"/>\r\n   </g>\r\n   <g id=\"patch_13\">\r\n    <path clip-path=\"url(#p57a925e780)\" d=\"M 369.683456 254.210583 \r\nQ 310.062816 363.237062 250.978601 471.282598 \r\n\" style=\"fill:none;stroke:#cc9016;stroke-linecap:round;stroke-opacity:0.6;\"/>\r\n    <path clip-path=\"url(#p57a925e780)\" d=\"M 254.652534 468.732655 \r\nL 250.978601 471.282598 \r\nL 251.143006 466.813485 \r\nL 254.652534 468.732655 \r\nz\r\n\" style=\"fill:#cc9016;fill-opacity:0.6;stroke:#cc9016;stroke-linecap:round;stroke-opacity:0.6;\"/>\r\n   </g>\r\n   <g id=\"patch_14\">\r\n    <path clip-path=\"url(#p57a925e780)\" d=\"M 368.878539 239.513983 \r\nQ 314.060666 161.072341 259.883229 83.547128 \r\n\" style=\"fill:none;stroke:#cc9016;stroke-linecap:round;stroke-opacity:0.6;\"/>\r\n    <path clip-path=\"url(#p57a925e780)\" d=\"M 260.535157 87.971491 \r\nL 259.883229 83.547128 \r\nL 263.813876 85.680203 \r\nL 260.535157 87.971491 \r\nz\r\n\" style=\"fill:#cc9016;fill-opacity:0.6;stroke:#cc9016;stroke-linecap:round;stroke-opacity:0.6;\"/>\r\n   </g>\r\n   <g id=\"patch_15\">\r\n    <path clip-path=\"url(#p57a925e780)\" d=\"M 321.152569 441.014316 \r\nQ 287.56366 458.443776 254.967135 475.358283 \r\n\" style=\"fill:none;stroke:#cc9016;stroke-linecap:round;stroke-opacity:0.6;\"/>\r\n    <path clip-path=\"url(#p57a925e780)\" d=\"M 259.438767 475.29116 \r\nL 254.967135 475.358283 \r\nL 257.596417 471.740703 \r\nL 259.438767 475.29116 \r\nz\r\n\" style=\"fill:#cc9016;fill-opacity:0.6;stroke:#cc9016;stroke-linecap:round;stroke-opacity:0.6;\"/>\r\n   </g>\r\n   <g id=\"patch_16\">\r\n    <path clip-path=\"url(#p57a925e780)\" d=\"M 337.466512 437.81038 \r\nQ 446.979815 447.769155 555.379678 457.626677 \r\n\" style=\"fill:none;stroke:#cc9016;stroke-linecap:round;stroke-opacity:0.6;\"/>\r\n    <path clip-path=\"url(#p57a925e780)\" d=\"M 551.577241 455.272644 \r\nL 555.379678 457.626677 \r\nL 551.214989 459.256207 \r\nL 551.577241 455.272644 \r\nz\r\n\" style=\"fill:#cc9016;fill-opacity:0.6;stroke:#cc9016;stroke-linecap:round;stroke-opacity:0.6;\"/>\r\n   </g>\r\n   <g id=\"patch_17\">\r\n    <path clip-path=\"url(#p57a925e780)\" d=\"M 320.350537 435.319495 \r\nQ 221.654388 415.479795 124.054346 395.860433 \r\n\" style=\"fill:none;stroke:#cc9016;stroke-linecap:round;stroke-opacity:0.6;\"/>\r\n    <path clip-path=\"url(#p57a925e780)\" d=\"M 127.581748 398.609512 \r\nL 124.054346 395.860433 \r\nL 128.37005 394.687959 \r\nL 127.581748 398.609512 \r\nz\r\n\" style=\"fill:#cc9016;fill-opacity:0.6;stroke:#cc9016;stroke-linecap:round;stroke-opacity:0.6;\"/>\r\n   </g>\r\n   <g id=\"patch_18\">\r\n    <path clip-path=\"url(#p57a925e780)\" d=\"M 335.447039 291.107372 \r\nQ 446.783416 372.259259 557.577694 453.016015 \r\n\" style=\"fill:none;stroke:#cc9016;stroke-linecap:round;stroke-opacity:0.6;stroke-width:0.6;\"/>\r\n    <path clip-path=\"url(#p57a925e780)\" d=\"M 554.085205 446.263051 \r\nL 557.577694 453.016015 \r\nL 550.07983 451.758228 \r\n\" style=\"fill:none;stroke:#cc9016;stroke-linecap:round;stroke-opacity:0.6;stroke-width:0.6;\"/>\r\n   </g>\r\n   <g id=\"patch_19\">\r\n    <path clip-path=\"url(#p57a925e780)\" d=\"M 325.574038 277.841661 \r\nQ 291.366676 180.769415 258.051125 86.227914 \r\n\" style=\"fill:none;stroke:#cc9016;stroke-linecap:round;stroke-opacity:0.6;stroke-width:2.4;\"/>\r\n    <path clip-path=\"url(#p57a925e780)\" d=\"M 257.104442 93.771374 \r\nL 258.051125 86.227914 \r\nL 263.517884 91.511337 \r\n\" style=\"fill:none;stroke:#cc9016;stroke-linecap:round;stroke-opacity:0.6;stroke-width:2.4;\"/>\r\n   </g>\r\n   <g id=\"patch_20\">\r\n    <path clip-path=\"url(#p57a925e780)\" d=\"M 319.792793 285.802046 \r\nQ 199.299608 282.924907 79.477053 280.063781 \r\n\" style=\"fill:none;stroke:#cc9016;stroke-linecap:round;stroke-opacity:0.6;stroke-width:0.6;\"/>\r\n    <path clip-path=\"url(#p57a925e780)\" d=\"M 86.193953 283.625137 \r\nL 79.477053 280.063781 \r\nL 86.356277 276.827074 \r\n\" style=\"fill:none;stroke:#cc9016;stroke-linecap:round;stroke-opacity:0.6;stroke-width:0.6;\"/>\r\n   </g>\r\n   <g id=\"patch_21\">\r\n    <path clip-path=\"url(#p57a925e780)\" d=\"M 337.076301 286.820264 \r\nQ 499.051954 302.060517 658.801372 317.091304 \r\n\" style=\"fill:none;stroke:#cc9016;stroke-linecap:round;stroke-opacity:0.6;stroke-width:2;\"/>\r\n    <path clip-path=\"url(#p57a925e780)\" d=\"M 652.349772 313.069257 \r\nL 658.801372 317.091304 \r\nL 651.712775 319.839356 \r\n\" style=\"fill:none;stroke:#cc9016;stroke-linecap:round;stroke-opacity:0.6;stroke-width:2;\"/>\r\n   </g>\r\n   <g id=\"patch_22\">\r\n    <path clip-path=\"url(#p57a925e780)\" d=\"M 320.716907 289.910068 \r\nQ 221.458031 339.971645 139.369151 381.373473 \r\n\" style=\"fill:none;stroke:#cc9016;stroke-linecap:round;stroke-opacity:0.6;stroke-width:17.2;\"/>\r\n    <path clip-path=\"url(#p57a925e780)\" d=\"M 146.971736 381.34704 \r\nL 139.369151 381.373473 \r\nL 143.909555 375.275545 \r\n\" style=\"fill:none;stroke:#cc9016;stroke-linecap:round;stroke-opacity:0.6;stroke-width:17.2;\"/>\r\n   </g>\r\n   <g id=\"patch_23\">\r\n    <path clip-path=\"url(#p57a925e780)\" d=\"M 321.064638 281.486106 \r\nQ 230.327604 225.935401 140.734804 171.085215 \r\n\" style=\"fill:none;stroke:#cc9016;stroke-linecap:round;stroke-opacity:0.6;stroke-width:1.2;\"/>\r\n    <path clip-path=\"url(#p57a925e780)\" d=\"M 144.759003 177.535473 \r\nL 140.734804 171.085215 \r\nL 148.30953 171.736011 \r\n\" style=\"fill:none;stroke:#cc9016;stroke-linecap:round;stroke-opacity:0.6;stroke-width:1.2;\"/>\r\n   </g>\r\n   <g id=\"patch_24\">\r\n    <path clip-path=\"url(#p57a925e780)\" d=\"M 514.588244 412.267127 \r\nQ 536.659672 432.466919 557.741382 451.760921 \r\n\" style=\"fill:none;stroke:#cc9016;stroke-linecap:round;stroke-opacity:0.6;stroke-width:1.2;\"/>\r\n    <path clip-path=\"url(#p57a925e780)\" d=\"M 555.020539 444.661835 \r\nL 557.741382 451.760921 \r\nL 550.429608 449.678144 \r\n\" style=\"fill:none;stroke:#cc9016;stroke-linecap:round;stroke-opacity:0.6;stroke-width:1.2;\"/>\r\n   </g>\r\n   <g id=\"patch_25\">\r\n    <path clip-path=\"url(#p57a925e780)\" d=\"M 377.103198 238.592361 \r\nQ 405.550948 168.706373 433.535025 99.959466 \r\n\" style=\"fill:none;stroke:#cc9016;stroke-linecap:round;stroke-opacity:0.6;stroke-width:1.1;\"/>\r\n    <path clip-path=\"url(#p57a925e780)\" d=\"M 427.822189 104.97579 \r\nL 433.535025 99.959466 \r\nL 434.120383 107.539529 \r\n\" style=\"fill:none;stroke:#cc9016;stroke-linecap:round;stroke-opacity:0.6;stroke-width:1.1;\"/>\r\n   </g>\r\n   <g id=\"patch_26\">\r\n    <path clip-path=\"url(#p57a925e780)\" d=\"M 365.233534 247.55342 \r\nQ 221.993015 263.226474 83.309239 278.40094 \r\n\" style=\"fill:none;stroke:#cc9016;stroke-linecap:round;stroke-opacity:0.6;stroke-width:4.1;\"/>\r\n    <path clip-path=\"url(#p57a925e780)\" d=\"M 90.438709 281.041142 \r\nL 83.309239 278.40094 \r\nL 89.699082 274.281485 \r\n\" style=\"fill:none;stroke:#cc9016;stroke-linecap:round;stroke-opacity:0.6;stroke-width:4.1;\"/>\r\n   </g>\r\n   <g id=\"patch_27\">\r\n    <path clip-path=\"url(#p57a925e780)\" d=\"M 382.256936 248.646585 \r\nQ 521.746804 282.362381 656.128997 314.843611 \r\n\" style=\"fill:none;stroke:#cc9016;stroke-linecap:round;stroke-opacity:0.6;stroke-width:4.7;\"/>\r\n    <path clip-path=\"url(#p57a925e780)\" d=\"M 650.318137 309.941172 \r\nL 656.128997 314.843611 \r\nL 648.72053 316.550835 \r\n\" style=\"fill:none;stroke:#cc9016;stroke-linecap:round;stroke-opacity:0.6;stroke-width:4.7;\"/>\r\n   </g>\r\n   <g id=\"patch_28\">\r\n    <path clip-path=\"url(#p57a925e780)\" d=\"M 381.528053 242.619855 \r\nQ 487.38921 187.660436 588.884346 134.967703 \r\n\" style=\"fill:none;stroke:#cc9016;stroke-linecap:round;stroke-opacity:0.6;stroke-width:4.4;\"/>\r\n    <path clip-path=\"url(#p57a925e780)\" d=\"M 581.282595 135.083367 \r\nL 588.884346 134.967703 \r\nL 584.415827 141.118502 \r\n\" style=\"fill:none;stroke:#cc9016;stroke-linecap:round;stroke-opacity:0.6;stroke-width:4.4;\"/>\r\n   </g>\r\n   <g id=\"patch_29\">\r\n    <path clip-path=\"url(#p57a925e780)\" d=\"M 369.683456 254.210583 \r\nQ 310.062816 363.237062 251.515025 470.301655 \r\n\" style=\"fill:none;stroke:#cc9016;stroke-linecap:round;stroke-opacity:0.6;stroke-width:2;\"/>\r\n    <path clip-path=\"url(#p57a925e780)\" d=\"M 257.760712 465.966752 \r\nL 251.515025 470.301655 \r\nL 251.794514 462.704163 \r\n\" style=\"fill:none;stroke:#cc9016;stroke-linecap:round;stroke-opacity:0.6;stroke-width:2;\"/>\r\n   </g>\r\n   <g id=\"patch_30\">\r\n    <path clip-path=\"url(#p57a925e780)\" d=\"M 368.878539 239.513983 \r\nQ 314.060666 161.072341 262.124749 86.754633 \r\n\" style=\"fill:none;stroke:#cc9016;stroke-linecap:round;stroke-opacity:0.6;stroke-width:4.5;\"/>\r\n    <path clip-path=\"url(#p57a925e780)\" d=\"M 263.233028 94.27605 \r\nL 262.124749 86.754633 \r\nL 268.80685 90.38086 \r\n\" style=\"fill:none;stroke:#cc9016;stroke-linecap:round;stroke-opacity:0.6;stroke-width:4.5;\"/>\r\n   </g>\r\n   <g id=\"patch_31\">\r\n    <path clip-path=\"url(#p57a925e780)\" d=\"M 321.152569 441.014316 \r\nQ 287.56366 458.443776 258.043522 473.761929 \r\n\" style=\"fill:none;stroke:#cc9016;stroke-linecap:round;stroke-opacity:0.6;stroke-width:4.1;\"/>\r\n    <path clip-path=\"url(#p57a925e780)\" d=\"M 265.645297 473.647822 \r\nL 258.043522 473.761929 \r\nL 262.513301 467.612045 \r\n\" style=\"fill:none;stroke:#cc9016;stroke-linecap:round;stroke-opacity:0.6;stroke-width:4.1;\"/>\r\n   </g>\r\n   <g id=\"patch_32\">\r\n    <path clip-path=\"url(#p57a925e780)\" d=\"M 337.466512 437.81038 \r\nQ 446.979815 447.769155 555.379678 457.626677 \r\n\" style=\"fill:none;stroke:#cc9016;stroke-linecap:round;stroke-opacity:0.6;\"/>\r\n    <path clip-path=\"url(#p57a925e780)\" d=\"M 548.915535 453.624821 \r\nL 555.379678 457.626677 \r\nL 548.299706 460.396878 \r\n\" style=\"fill:none;stroke:#cc9016;stroke-linecap:round;stroke-opacity:0.6;\"/>\r\n   </g>\r\n   <g id=\"patch_33\">\r\n    <path clip-path=\"url(#p57a925e780)\" d=\"M 320.350537 435.319495 \r\nQ 221.654388 415.479795 123.506292 395.750264 \r\n\" style=\"fill:none;stroke:#cc9016;stroke-linecap:round;stroke-opacity:0.6;stroke-width:0.5;\"/>\r\n    <path clip-path=\"url(#p57a925e780)\" d=\"M 129.502875 400.423699 \r\nL 123.506292 395.750264 \r\nL 130.84299 393.757058 \r\n\" style=\"fill:none;stroke:#cc9016;stroke-linecap:round;stroke-opacity:0.6;stroke-width:0.5;\"/>\r\n   </g>\r\n   <g id=\"text_1\">\r\n    <g id=\"patch_34\">\r\n     <path clip-path=\"url(#p57a925e780)\" d=\"M 439.596955 376.721563 \r\nL 444.738582 380.46924 \r\nQ 447.162925 382.236317 448.930002 379.811974 \r\nL 454.630668 371.990944 \r\nQ 456.397745 369.566601 453.973402 367.799523 \r\nL 448.831775 364.051847 \r\nQ 446.407432 362.28477 444.640355 364.709112 \r\nL 438.93969 372.530143 \r\nQ 437.172613 374.954486 439.596955 376.721563 \r\nz\r\n\" style=\"fill:#ffffff;stroke:#ffffff;stroke-linejoin:miter;\"/>\r\n    </g>\r\n    <g clip-path=\"url(#p57a925e780)\">\r\n     <!-- 6 -->\r\n     <g transform=\"translate(442.589022 372.616595)rotate(-323.912095)scale(0.1 -0.1)\">\r\n      <defs>\r\n       <path d=\"M 33.015625 40.375 \r\nQ 26.375 40.375 22.484375 35.828125 \r\nQ 18.609375 31.296875 18.609375 23.390625 \r\nQ 18.609375 15.53125 22.484375 10.953125 \r\nQ 26.375 6.390625 33.015625 6.390625 \r\nQ 39.65625 6.390625 43.53125 10.953125 \r\nQ 47.40625 15.53125 47.40625 23.390625 \r\nQ 47.40625 31.296875 43.53125 35.828125 \r\nQ 39.65625 40.375 33.015625 40.375 \r\nz\r\nM 52.59375 71.296875 \r\nL 52.59375 62.3125 \r\nQ 48.875 64.0625 45.09375 64.984375 \r\nQ 41.3125 65.921875 37.59375 65.921875 \r\nQ 27.828125 65.921875 22.671875 59.328125 \r\nQ 17.53125 52.734375 16.796875 39.40625 \r\nQ 19.671875 43.65625 24.015625 45.921875 \r\nQ 28.375 48.1875 33.59375 48.1875 \r\nQ 44.578125 48.1875 50.953125 41.515625 \r\nQ 57.328125 34.859375 57.328125 23.390625 \r\nQ 57.328125 12.15625 50.6875 5.359375 \r\nQ 44.046875 -1.421875 33.015625 -1.421875 \r\nQ 20.359375 -1.421875 13.671875 8.265625 \r\nQ 6.984375 17.96875 6.984375 36.375 \r\nQ 6.984375 53.65625 15.1875 63.9375 \r\nQ 23.390625 74.21875 37.203125 74.21875 \r\nQ 40.921875 74.21875 44.703125 73.484375 \r\nQ 48.484375 72.75 52.59375 71.296875 \r\nz\r\n\" id=\"DejaVuSans-54\"/>\r\n      </defs>\r\n      <use xlink:href=\"#DejaVuSans-54\"/>\r\n     </g>\r\n    </g>\r\n   </g>\r\n   <g id=\"text_2\">\r\n    <g id=\"patch_35\">\r\n     <path clip-path=\"url(#p57a925e780)\" d=\"M 281.858968 177.375 \r\nL 286.088229 189.376624 \r\nQ 287.085305 192.206083 289.914764 191.209008 \r\nL 299.042718 187.992401 \r\nQ 301.872178 186.995326 300.875102 184.165867 \r\nL 296.645841 172.164243 \r\nQ 295.648766 169.334783 292.819306 170.331859 \r\nL 283.691352 173.548465 \r\nQ 280.861893 174.545541 281.858968 177.375 \r\nz\r\n\" style=\"fill:#ffffff;stroke:#ffffff;stroke-linejoin:miter;\"/>\r\n    </g>\r\n    <g clip-path=\"url(#p57a925e780)\">\r\n     <!-- 24 -->\r\n     <g transform=\"translate(286.649891 175.686723)rotate(-289.411986)scale(0.1 -0.1)\">\r\n      <defs>\r\n       <path d=\"M 19.1875 8.296875 \r\nL 53.609375 8.296875 \r\nL 53.609375 0 \r\nL 7.328125 0 \r\nL 7.328125 8.296875 \r\nQ 12.9375 14.109375 22.625 23.890625 \r\nQ 32.328125 33.6875 34.8125 36.53125 \r\nQ 39.546875 41.84375 41.421875 45.53125 \r\nQ 43.3125 49.21875 43.3125 52.78125 \r\nQ 43.3125 58.59375 39.234375 62.25 \r\nQ 35.15625 65.921875 28.609375 65.921875 \r\nQ 23.96875 65.921875 18.8125 64.3125 \r\nQ 13.671875 62.703125 7.8125 59.421875 \r\nL 7.8125 69.390625 \r\nQ 13.765625 71.78125 18.9375 73 \r\nQ 24.125 74.21875 28.421875 74.21875 \r\nQ 39.75 74.21875 46.484375 68.546875 \r\nQ 53.21875 62.890625 53.21875 53.421875 \r\nQ 53.21875 48.921875 51.53125 44.890625 \r\nQ 49.859375 40.875 45.40625 35.40625 \r\nQ 44.1875 33.984375 37.640625 27.21875 \r\nQ 31.109375 20.453125 19.1875 8.296875 \r\nz\r\n\" id=\"DejaVuSans-50\"/>\r\n       <path d=\"M 37.796875 64.3125 \r\nL 12.890625 25.390625 \r\nL 37.796875 25.390625 \r\nz\r\nM 35.203125 72.90625 \r\nL 47.609375 72.90625 \r\nL 47.609375 25.390625 \r\nL 58.015625 25.390625 \r\nL 58.015625 17.1875 \r\nL 47.609375 17.1875 \r\nL 47.609375 0 \r\nL 37.796875 0 \r\nL 37.796875 17.1875 \r\nL 4.890625 17.1875 \r\nL 4.890625 26.703125 \r\nz\r\n\" id=\"DejaVuSans-52\"/>\r\n      </defs>\r\n      <use xlink:href=\"#DejaVuSans-50\"/>\r\n      <use x=\"63.623047\" xlink:href=\"#DejaVuSans-52\"/>\r\n     </g>\r\n    </g>\r\n   </g>\r\n   <g id=\"text_3\">\r\n    <g id=\"patch_36\">\r\n     <path clip-path=\"url(#p57a925e780)\" d=\"M 195.932529 290.685805 \r\nL 202.293216 290.837685 \r\nQ 205.292361 290.909299 205.363975 287.910154 \r\nL 205.595003 278.234787 \r\nQ 205.666617 275.235641 202.667472 275.164028 \r\nL 196.306785 275.012147 \r\nQ 193.30764 274.940534 193.236026 277.939679 \r\nL 193.004997 287.615046 \r\nQ 192.933384 290.614191 195.932529 290.685805 \r\nz\r\n\" style=\"fill:#ffffff;stroke:#ffffff;stroke-linejoin:miter;\"/>\r\n    </g>\r\n    <g clip-path=\"url(#p57a925e780)\">\r\n     <!-- 6 -->\r\n     <g transform=\"translate(196.053787 285.607565)rotate(-358.63215)scale(0.1 -0.1)\">\r\n      <use xlink:href=\"#DejaVuSans-54\"/>\r\n     </g>\r\n    </g>\r\n   </g>\r\n   <g id=\"text_4\">\r\n    <g id=\"patch_37\">\r\n     <path clip-path=\"url(#p57a925e780)\" d=\"M 491.983212 309.269106 \r\nL 504.652257 310.461133 \r\nQ 507.639065 310.742161 507.920093 307.755353 \r\nL 508.826701 298.119786 \r\nQ 509.107729 295.132977 506.120921 294.851949 \r\nL 493.451876 293.659922 \r\nQ 490.465068 293.378894 490.18404 296.365702 \r\nL 489.277432 306.001269 \r\nQ 488.996404 308.988078 491.983212 309.269106 \r\nz\r\n\" style=\"fill:#ffffff;stroke:#ffffff;stroke-linejoin:miter;\"/>\r\n    </g>\r\n    <g clip-path=\"url(#p57a925e780)\">\r\n     <!-- 20 -->\r\n     <g transform=\"translate(492.459057 304.211755)rotate(-354.624878)scale(0.1 -0.1)\">\r\n      <defs>\r\n       <path d=\"M 31.78125 66.40625 \r\nQ 24.171875 66.40625 20.328125 58.90625 \r\nQ 16.5 51.421875 16.5 36.375 \r\nQ 16.5 21.390625 20.328125 13.890625 \r\nQ 24.171875 6.390625 31.78125 6.390625 \r\nQ 39.453125 6.390625 43.28125 13.890625 \r\nQ 47.125 21.390625 47.125 36.375 \r\nQ 47.125 51.421875 43.28125 58.90625 \r\nQ 39.453125 66.40625 31.78125 66.40625 \r\nz\r\nM 31.78125 74.21875 \r\nQ 44.046875 74.21875 50.515625 64.515625 \r\nQ 56.984375 54.828125 56.984375 36.375 \r\nQ 56.984375 17.96875 50.515625 8.265625 \r\nQ 44.046875 -1.421875 31.78125 -1.421875 \r\nQ 19.53125 -1.421875 13.0625 8.265625 \r\nQ 6.59375 17.96875 6.59375 36.375 \r\nQ 6.59375 54.828125 13.0625 64.515625 \r\nQ 19.53125 74.21875 31.78125 74.21875 \r\nz\r\n\" id=\"DejaVuSans-48\"/>\r\n      </defs>\r\n      <use xlink:href=\"#DejaVuSans-50\"/>\r\n      <use x=\"63.623047\" xlink:href=\"#DejaVuSans-48\"/>\r\n     </g>\r\n    </g>\r\n   </g>\r\n   <g id=\"text_5\">\r\n    <g id=\"patch_38\">\r\n     <path clip-path=\"url(#p57a925e780)\" d=\"M 216.468157 351.267961 \r\nL 233.510754 342.672465 \r\nQ 236.189354 341.321503 234.838392 338.642902 \r\nL 230.480132 330.001625 \r\nQ 229.12917 327.323024 226.45057 328.673986 \r\nL 209.407973 337.269482 \r\nQ 206.729372 338.620444 208.080334 341.299045 \r\nL 212.438594 349.940322 \r\nQ 213.789556 352.618923 216.468157 351.267961 \r\nz\r\n\" style=\"fill:#ffffff;stroke:#ffffff;stroke-linejoin:miter;\"/>\r\n    </g>\r\n    <g clip-path=\"url(#p57a925e780)\">\r\n     <!-- 172 -->\r\n     <g transform=\"translate(214.180668 346.732476)rotate(-26.76426)scale(0.1 -0.1)\">\r\n      <defs>\r\n       <path d=\"M 12.40625 8.296875 \r\nL 28.515625 8.296875 \r\nL 28.515625 63.921875 \r\nL 10.984375 60.40625 \r\nL 10.984375 69.390625 \r\nL 28.421875 72.90625 \r\nL 38.28125 72.90625 \r\nL 38.28125 8.296875 \r\nL 54.390625 8.296875 \r\nL 54.390625 0 \r\nL 12.40625 0 \r\nz\r\n\" id=\"DejaVuSans-49\"/>\r\n       <path d=\"M 8.203125 72.90625 \r\nL 55.078125 72.90625 \r\nL 55.078125 68.703125 \r\nL 28.609375 0 \r\nL 18.3125 0 \r\nL 43.21875 64.59375 \r\nL 8.203125 64.59375 \r\nz\r\n\" id=\"DejaVuSans-55\"/>\r\n      </defs>\r\n      <use xlink:href=\"#DejaVuSans-49\"/>\r\n      <use x=\"63.623047\" xlink:href=\"#DejaVuSans-55\"/>\r\n      <use x=\"127.246094\" xlink:href=\"#DejaVuSans-50\"/>\r\n     </g>\r\n    </g>\r\n   </g>\r\n   <g id=\"text_6\">\r\n    <g id=\"patch_39\">\r\n     <path clip-path=\"url(#p57a925e780)\" d=\"M 220.808929 229.299389 \r\nL 231.661599 235.943572 \r\nQ 234.220186 237.509981 235.786594 234.951395 \r\nL 240.839894 226.697289 \r\nQ 242.406302 224.138702 239.847716 222.572294 \r\nL 228.995046 215.92811 \r\nQ 226.436459 214.361702 224.870051 216.920288 \r\nL 219.816751 225.174394 \r\nQ 218.250343 227.73298 220.808929 229.299389 \r\nz\r\n\" style=\"fill:#ffffff;stroke:#ffffff;stroke-linejoin:miter;\"/>\r\n    </g>\r\n    <g clip-path=\"url(#p57a925e780)\">\r\n     <!-- 12 -->\r\n     <g transform=\"translate(223.461218 224.967116)rotate(-328.524346)scale(0.1 -0.1)\">\r\n      <use xlink:href=\"#DejaVuSans-49\"/>\r\n      <use x=\"63.623047\" xlink:href=\"#DejaVuSans-50\"/>\r\n     </g>\r\n    </g>\r\n   </g>\r\n   <g id=\"text_7\">\r\n    <g id=\"patch_40\">\r\n     <path clip-path=\"url(#p57a925e780)\" d=\"M 526.672871 433.953453 \r\nL 536.060008 442.544569 \r\nQ 538.273085 444.56998 540.298496 442.356903 \r\nL 546.832555 435.217423 \r\nQ 548.857965 433.004345 546.644888 430.978934 \r\nL 537.257751 422.387818 \r\nQ 535.044674 420.362407 533.019263 422.575485 \r\nL 526.485204 429.714965 \r\nQ 524.459793 431.928042 526.672871 433.953453 \r\nz\r\n\" style=\"fill:#ffffff;stroke:#ffffff;stroke-linejoin:miter;\"/>\r\n    </g>\r\n    <g clip-path=\"url(#p57a925e780)\">\r\n     <!-- 12 -->\r\n     <g transform=\"translate(530.102355 430.206205)rotate(-317.53522)scale(0.1 -0.1)\">\r\n      <use xlink:href=\"#DejaVuSans-49\"/>\r\n      <use x=\"63.623047\" xlink:href=\"#DejaVuSans-50\"/>\r\n     </g>\r\n    </g>\r\n   </g>\r\n   <g id=\"text_8\">\r\n    <g id=\"patch_41\">\r\n     <path clip-path=\"url(#p57a925e780)\" d=\"M 410.413643 177.552607 \r\nL 415.211228 165.766649 \r\nQ 416.342289 162.988034 413.563674 161.856973 \r\nL 404.599747 158.208122 \r\nQ 401.821132 157.07706 400.690071 159.855675 \r\nL 395.892486 171.641633 \r\nQ 394.761424 174.420248 397.540039 175.551309 \r\nL 406.503966 179.20016 \r\nQ 409.282581 180.331222 410.413643 177.552607 \r\nz\r\n\" style=\"fill:#ffffff;stroke:#ffffff;stroke-linejoin:miter;\"/>\r\n    </g>\r\n    <g clip-path=\"url(#p57a925e780)\">\r\n     <!-- 11 -->\r\n     <g transform=\"translate(405.708811 175.637461)rotate(-67.850756)scale(0.1 -0.1)\">\r\n      <use xlink:href=\"#DejaVuSans-49\"/>\r\n      <use x=\"63.623047\" xlink:href=\"#DejaVuSans-49\"/>\r\n     </g>\r\n    </g>\r\n   </g>\r\n   <g id=\"text_9\">\r\n    <g id=\"patch_42\">\r\n     <path clip-path=\"url(#p57a925e780)\" d=\"M 216.521253 271.711031 \r\nL 229.170756 270.32695 \r\nQ 232.152958 270.000645 231.826652 267.018443 \r\nL 230.773976 257.397738 \r\nQ 230.44767 254.415536 227.465469 254.741842 \r\nL 214.815965 256.125922 \r\nQ 211.833764 256.452228 212.16007 259.434429 \r\nL 213.212746 269.055135 \r\nQ 213.539051 272.037336 216.521253 271.711031 \r\nz\r\n\" style=\"fill:#ffffff;stroke:#ffffff;stroke-linejoin:miter;\"/>\r\n    </g>\r\n    <g clip-path=\"url(#p57a925e780)\">\r\n     <!-- 41 -->\r\n     <g transform=\"translate(215.968742 266.66148)rotate(-6.244334)scale(0.1 -0.1)\">\r\n      <use xlink:href=\"#DejaVuSans-52\"/>\r\n      <use x=\"63.623047\" xlink:href=\"#DejaVuSans-49\"/>\r\n     </g>\r\n    </g>\r\n   </g>\r\n   <g id=\"text_10\">\r\n    <g id=\"patch_43\">\r\n     <path clip-path=\"url(#p57a925e780)\" d=\"M 513.71929 288.486869 \r\nL 526.088109 291.47651 \r\nQ 529.004137 292.181337 529.708964 289.265309 \r\nL 531.982765 279.858081 \r\nQ 532.687592 276.942053 529.771564 276.237226 \r\nL 517.402745 273.247586 \r\nQ 514.486717 272.542759 513.78189 275.458787 \r\nL 511.508089 284.866014 \r\nQ 510.803263 287.782042 513.71929 288.486869 \r\nz\r\n\" style=\"fill:#ffffff;stroke:#ffffff;stroke-linejoin:miter;\"/>\r\n    </g>\r\n    <g clip-path=\"url(#p57a925e780)\">\r\n     <!-- 47 -->\r\n     <g transform=\"translate(514.912724 283.549366)rotate(-346.41178)scale(0.1 -0.1)\">\r\n      <use xlink:href=\"#DejaVuSans-52\"/>\r\n      <use x=\"63.623047\" xlink:href=\"#DejaVuSans-55\"/>\r\n     </g>\r\n    </g>\r\n   </g>\r\n   <g id=\"text_11\">\r\n    <g id=\"patch_44\">\r\n     <path clip-path=\"url(#p57a925e780)\" d=\"M 485.351407 197.55094 \r\nL 496.645098 191.68765 \r\nQ 499.307657 190.305342 497.925349 187.642782 \r\nL 493.465966 179.053254 \r\nQ 492.083658 176.390694 489.421098 177.773002 \r\nL 478.127407 183.636292 \r\nQ 475.464847 185.0186 476.847155 187.68116 \r\nL 481.306539 196.270689 \r\nQ 482.688847 198.933249 485.351407 197.55094 \r\nz\r\n\" style=\"fill:#ffffff;stroke:#ffffff;stroke-linejoin:miter;\"/>\r\n    </g>\r\n    <g clip-path=\"url(#p57a925e780)\">\r\n     <!-- 44 -->\r\n     <g transform=\"translate(483.010842 193.042617)rotate(-27.436764)scale(0.1 -0.1)\">\r\n      <use xlink:href=\"#DejaVuSans-52\"/>\r\n      <use x=\"63.623047\" xlink:href=\"#DejaVuSans-52\"/>\r\n     </g>\r\n    </g>\r\n   </g>\r\n   <g id=\"text_12\">\r\n    <g id=\"patch_45\">\r\n     <path clip-path=\"url(#p57a925e780)\" d=\"M 313.887891 372.580709 \r\nL 319.993249 361.416022 \r\nQ 321.432627 358.783876 318.800481 357.344499 \r\nL 310.309068 352.701008 \r\nQ 307.676921 351.261631 306.237544 353.893777 \r\nL 300.132186 365.058463 \r\nQ 298.692808 367.690609 301.324954 369.129987 \r\nL 309.816367 373.773478 \r\nQ 312.448514 375.212855 313.887891 372.580709 \r\nz\r\n\" style=\"fill:#ffffff;stroke:#ffffff;stroke-linejoin:miter;\"/>\r\n    </g>\r\n    <g clip-path=\"url(#p57a925e780)\">\r\n     <!-- 20 -->\r\n     <g transform=\"translate(309.431064 370.143513)rotate(-61.328154)scale(0.1 -0.1)\">\r\n      <use xlink:href=\"#DejaVuSans-50\"/>\r\n      <use x=\"63.623047\" xlink:href=\"#DejaVuSans-48\"/>\r\n     </g>\r\n    </g>\r\n   </g>\r\n   <g id=\"text_13\">\r\n    <g id=\"patch_46\">\r\n     <path clip-path=\"url(#p57a925e780)\" d=\"M 303.990295 160.347129 \r\nL 311.279455 170.777554 \r\nQ 312.997921 173.236593 315.45696 171.518127 \r\nL 323.389924 165.974284 \r\nQ 325.848963 164.255818 324.130497 161.796778 \r\nL 316.841336 151.366353 \r\nQ 315.12287 148.907314 312.663831 150.62578 \r\nL 304.730868 156.169623 \r\nQ 302.271828 157.888089 303.990295 160.347129 \r\nz\r\n\" style=\"fill:#ffffff;stroke:#ffffff;stroke-linejoin:miter;\"/>\r\n    </g>\r\n    <g clip-path=\"url(#p57a925e780)\">\r\n     <!-- 45 -->\r\n     <g transform=\"translate(308.154012 157.437372)rotate(-304.94725)scale(0.1 -0.1)\">\r\n      <defs>\r\n       <path d=\"M 10.796875 72.90625 \r\nL 49.515625 72.90625 \r\nL 49.515625 64.59375 \r\nL 19.828125 64.59375 \r\nL 19.828125 46.734375 \r\nQ 21.96875 47.46875 24.109375 47.828125 \r\nQ 26.265625 48.1875 28.421875 48.1875 \r\nQ 40.625 48.1875 47.75 41.5 \r\nQ 54.890625 34.8125 54.890625 23.390625 \r\nQ 54.890625 11.625 47.5625 5.09375 \r\nQ 40.234375 -1.421875 26.90625 -1.421875 \r\nQ 22.3125 -1.421875 17.546875 -0.640625 \r\nQ 12.796875 0.140625 7.71875 1.703125 \r\nL 7.71875 11.625 \r\nQ 12.109375 9.234375 16.796875 8.0625 \r\nQ 21.484375 6.890625 26.703125 6.890625 \r\nQ 35.15625 6.890625 40.078125 11.328125 \r\nQ 45.015625 15.765625 45.015625 23.390625 \r\nQ 45.015625 31 40.078125 35.4375 \r\nQ 35.15625 39.890625 26.703125 39.890625 \r\nQ 22.75 39.890625 18.8125 39.015625 \r\nQ 14.890625 38.140625 10.796875 36.28125 \r\nz\r\n\" id=\"DejaVuSans-53\"/>\r\n      </defs>\r\n      <use xlink:href=\"#DejaVuSans-52\"/>\r\n      <use x=\"63.623047\" xlink:href=\"#DejaVuSans-53\"/>\r\n     </g>\r\n    </g>\r\n   </g>\r\n   <g id=\"text_14\">\r\n    <g id=\"patch_47\">\r\n     <path clip-path=\"url(#p57a925e780)\" d=\"M 285.525924 468.332777 \r\nL 296.820815 462.4718 \r\nQ 299.483658 461.090037 298.101895 458.427194 \r\nL 293.64427 449.836752 \r\nQ 292.262507 447.17391 289.599664 448.555673 \r\nL 278.304773 454.416651 \r\nQ 275.64193 455.798414 277.023693 458.461256 \r\nL 281.481318 467.051698 \r\nQ 282.863081 469.71454 285.525924 468.332777 \r\nz\r\n\" style=\"fill:#ffffff;stroke:#ffffff;stroke-linejoin:miter;\"/>\r\n    </g>\r\n    <g clip-path=\"url(#p57a925e780)\">\r\n     <!-- 41 -->\r\n     <g transform=\"translate(283.186283 463.823975)rotate(-27.425034)scale(0.1 -0.1)\">\r\n      <use xlink:href=\"#DejaVuSans-52\"/>\r\n      <use x=\"63.623047\" xlink:href=\"#DejaVuSans-49\"/>\r\n     </g>\r\n    </g>\r\n   </g>\r\n   <g id=\"text_15\">\r\n    <g id=\"patch_48\">\r\n     <path clip-path=\"url(#p57a925e780)\" d=\"M 439.932332 454.999689 \r\nL 452.605042 456.152103 \r\nQ 455.592714 456.423791 455.864403 453.436119 \r\nL 456.740883 443.797764 \r\nQ 457.012572 440.810092 454.0249 440.538403 \r\nL 441.35219 439.385989 \r\nQ 438.364518 439.1143 438.092829 442.101972 \r\nL 437.216349 451.740327 \r\nQ 436.94466 454.728 439.932332 454.999689 \r\nz\r\n\" style=\"fill:#ffffff;stroke:#ffffff;stroke-linejoin:miter;\"/>\r\n    </g>\r\n    <g clip-path=\"url(#p57a925e780)\">\r\n     <!-- 10 -->\r\n     <g transform=\"translate(440.392364 449.940875)rotate(-354.804004)scale(0.1 -0.1)\">\r\n      <use xlink:href=\"#DejaVuSans-49\"/>\r\n      <use x=\"63.623047\" xlink:href=\"#DejaVuSans-48\"/>\r\n     </g>\r\n    </g>\r\n   </g>\r\n   <g id=\"text_16\">\r\n    <g id=\"patch_49\">\r\n     <path clip-path=\"url(#p57a925e780)\" d=\"M 216.989052 422.537854 \r\nL 223.226772 423.791748 \r\nQ 226.167937 424.382975 226.759164 421.44181 \r\nL 228.666487 411.95349 \r\nQ 229.257714 409.012325 226.316549 408.421098 \r\nL 220.078828 407.167204 \r\nQ 217.137664 406.575977 216.546437 409.517142 \r\nL 214.639114 419.005462 \r\nQ 214.047887 421.946627 216.989052 422.537854 \r\nz\r\n\" style=\"fill:#ffffff;stroke:#ffffff;stroke-linejoin:miter;\"/>\r\n    </g>\r\n    <g clip-path=\"url(#p57a925e780)\">\r\n     <!-- 5 -->\r\n     <g transform=\"translate(217.990134 417.557788)rotate(-348.633996)scale(0.1 -0.1)\">\r\n      <use xlink:href=\"#DejaVuSans-53\"/>\r\n     </g>\r\n    </g>\r\n   </g>\r\n   <g id=\"PathCollection_1\">\r\n    <defs>\r\n     <path d=\"M 0 8.660254 \r\nC 2.296726 8.660254 4.499694 7.747755 6.123724 6.123724 \r\nC 7.747755 4.499694 8.660254 2.296726 8.660254 0 \r\nC 8.660254 -2.296726 7.747755 -4.499694 6.123724 -6.123724 \r\nC 4.499694 -7.747755 2.296726 -8.660254 0 -8.660254 \r\nC -2.296726 -8.660254 -4.499694 -7.747755 -6.123724 -6.123724 \r\nC -7.747755 -4.499694 -8.660254 -2.296726 -8.660254 0 \r\nC -8.660254 2.296726 -7.747755 4.499694 -6.123724 6.123724 \r\nC -4.499694 7.747755 -2.296726 8.660254 0 8.660254 \r\nz\r\n\" id=\"m981bf40f38\" style=\"stroke:#d51e39;stroke-opacity:0.6;\"/>\r\n    </defs>\r\n    <g clip-path=\"url(#p57a925e780)\">\r\n     <use style=\"fill:#d51e39;fill-opacity:0.6;stroke:#d51e39;stroke-opacity:0.6;\" x=\"328.452067\" xlink:href=\"#m981bf40f38\" y=\"286.008812\"/>\r\n     <use style=\"fill:#d51e39;fill-opacity:0.6;stroke:#d51e39;stroke-opacity:0.6;\" x=\"565.118291\" xlink:href=\"#m981bf40f38\" y=\"458.512275\"/>\r\n     <use style=\"fill:#d51e39;fill-opacity:0.6;stroke:#d51e39;stroke-opacity:0.6;\" x=\"254.282003\" xlink:href=\"#m981bf40f38\" y=\"75.532054\"/>\r\n     <use style=\"fill:#d51e39;fill-opacity:0.6;stroke:#d51e39;stroke-opacity:0.6;\" x=\"508.199468\" xlink:href=\"#m981bf40f38\" y=\"406.420113\"/>\r\n     <use style=\"fill:#d51e39;fill-opacity:0.6;stroke:#d51e39;stroke-opacity:0.6;\" x=\"70.147934\" xlink:href=\"#m981bf40f38\" y=\"279.84102\"/>\r\n     <use style=\"fill:#d51e39;fill-opacity:0.6;stroke:#d51e39;stroke-opacity:0.6;\" x=\"669.652066\" xlink:href=\"#m981bf40f38\" y=\"318.112243\"/>\r\n     <use style=\"fill:#d51e39;fill-opacity:0.6;stroke:#d51e39;stroke-opacity:0.6;\" x=\"373.838788\" xlink:href=\"#m981bf40f38\" y=\"246.611852\"/>\r\n     <use style=\"fill:#d51e39;fill-opacity:0.6;stroke:#d51e39;stroke-opacity:0.6;\" x=\"437.264926\" xlink:href=\"#m981bf40f38\" y=\"90.79643\"/>\r\n     <use style=\"fill:#d51e39;fill-opacity:0.6;stroke:#d51e39;stroke-opacity:0.6;\" x=\"328.838941\" xlink:href=\"#m981bf40f38\" y=\"437.025817\"/>\r\n     <use style=\"fill:#d51e39;fill-opacity:0.6;stroke:#d51e39;stroke-opacity:0.6;\" x=\"246.286647\" xlink:href=\"#m981bf40f38\" y=\"479.862633\"/>\r\n     <use style=\"fill:#d51e39;fill-opacity:0.6;stroke:#d51e39;stroke-opacity:0.6;\" x=\"114.46666\" xlink:href=\"#m981bf40f38\" y=\"393.933135\"/>\r\n     <use style=\"fill:#d51e39;fill-opacity:0.6;stroke:#d51e39;stroke-opacity:0.6;\" x=\"132.204578\" xlink:href=\"#m981bf40f38\" y=\"165.862871\"/>\r\n     <use style=\"fill:#d51e39;fill-opacity:0.6;stroke:#d51e39;stroke-opacity:0.6;\" x=\"600.933717\" xlink:href=\"#m981bf40f38\" y=\"128.71209\"/>\r\n    </g>\r\n   </g>\r\n   <g id=\"text_17\">\r\n    <g clip-path=\"url(#p57a925e780)\">\r\n     <!-- Grand Est -->\r\n     <g transform=\"translate(301.337067 289.044125)scale(0.11 -0.11)\">\r\n      <defs>\r\n       <path d=\"M 59.515625 10.40625 \r\nL 59.515625 29.984375 \r\nL 43.40625 29.984375 \r\nL 43.40625 38.09375 \r\nL 69.28125 38.09375 \r\nL 69.28125 6.78125 \r\nQ 63.578125 2.734375 56.6875 0.65625 \r\nQ 49.8125 -1.421875 42 -1.421875 \r\nQ 24.90625 -1.421875 15.25 8.5625 \r\nQ 5.609375 18.5625 5.609375 36.375 \r\nQ 5.609375 54.25 15.25 64.234375 \r\nQ 24.90625 74.21875 42 74.21875 \r\nQ 49.125 74.21875 55.546875 72.453125 \r\nQ 61.96875 70.703125 67.390625 67.28125 \r\nL 67.390625 56.78125 \r\nQ 61.921875 61.421875 55.765625 63.765625 \r\nQ 49.609375 66.109375 42.828125 66.109375 \r\nQ 29.4375 66.109375 22.71875 58.640625 \r\nQ 16.015625 51.171875 16.015625 36.375 \r\nQ 16.015625 21.625 22.71875 14.15625 \r\nQ 29.4375 6.6875 42.828125 6.6875 \r\nQ 48.046875 6.6875 52.140625 7.59375 \r\nQ 56.25 8.5 59.515625 10.40625 \r\nz\r\n\" id=\"DejaVuSans-71\"/>\r\n       <path d=\"M 41.109375 46.296875 \r\nQ 39.59375 47.171875 37.8125 47.578125 \r\nQ 36.03125 48 33.890625 48 \r\nQ 26.265625 48 22.1875 43.046875 \r\nQ 18.109375 38.09375 18.109375 28.8125 \r\nL 18.109375 0 \r\nL 9.078125 0 \r\nL 9.078125 54.6875 \r\nL 18.109375 54.6875 \r\nL 18.109375 46.1875 \r\nQ 20.953125 51.171875 25.484375 53.578125 \r\nQ 30.03125 56 36.53125 56 \r\nQ 37.453125 56 38.578125 55.875 \r\nQ 39.703125 55.765625 41.0625 55.515625 \r\nz\r\n\" id=\"DejaVuSans-114\"/>\r\n       <path d=\"M 34.28125 27.484375 \r\nQ 23.390625 27.484375 19.1875 25 \r\nQ 14.984375 22.515625 14.984375 16.5 \r\nQ 14.984375 11.71875 18.140625 8.90625 \r\nQ 21.296875 6.109375 26.703125 6.109375 \r\nQ 34.1875 6.109375 38.703125 11.40625 \r\nQ 43.21875 16.703125 43.21875 25.484375 \r\nL 43.21875 27.484375 \r\nz\r\nM 52.203125 31.203125 \r\nL 52.203125 0 \r\nL 43.21875 0 \r\nL 43.21875 8.296875 \r\nQ 40.140625 3.328125 35.546875 0.953125 \r\nQ 30.953125 -1.421875 24.3125 -1.421875 \r\nQ 15.921875 -1.421875 10.953125 3.296875 \r\nQ 6 8.015625 6 15.921875 \r\nQ 6 25.140625 12.171875 29.828125 \r\nQ 18.359375 34.515625 30.609375 34.515625 \r\nL 43.21875 34.515625 \r\nL 43.21875 35.40625 \r\nQ 43.21875 41.609375 39.140625 45 \r\nQ 35.0625 48.390625 27.6875 48.390625 \r\nQ 23 48.390625 18.546875 47.265625 \r\nQ 14.109375 46.140625 10.015625 43.890625 \r\nL 10.015625 52.203125 \r\nQ 14.9375 54.109375 19.578125 55.046875 \r\nQ 24.21875 56 28.609375 56 \r\nQ 40.484375 56 46.34375 49.84375 \r\nQ 52.203125 43.703125 52.203125 31.203125 \r\nz\r\n\" id=\"DejaVuSans-97\"/>\r\n       <path d=\"M 54.890625 33.015625 \r\nL 54.890625 0 \r\nL 45.90625 0 \r\nL 45.90625 32.71875 \r\nQ 45.90625 40.484375 42.875 44.328125 \r\nQ 39.84375 48.1875 33.796875 48.1875 \r\nQ 26.515625 48.1875 22.3125 43.546875 \r\nQ 18.109375 38.921875 18.109375 30.90625 \r\nL 18.109375 0 \r\nL 9.078125 0 \r\nL 9.078125 54.6875 \r\nL 18.109375 54.6875 \r\nL 18.109375 46.1875 \r\nQ 21.34375 51.125 25.703125 53.5625 \r\nQ 30.078125 56 35.796875 56 \r\nQ 45.21875 56 50.046875 50.171875 \r\nQ 54.890625 44.34375 54.890625 33.015625 \r\nz\r\n\" id=\"DejaVuSans-110\"/>\r\n       <path d=\"M 45.40625 46.390625 \r\nL 45.40625 75.984375 \r\nL 54.390625 75.984375 \r\nL 54.390625 0 \r\nL 45.40625 0 \r\nL 45.40625 8.203125 \r\nQ 42.578125 3.328125 38.25 0.953125 \r\nQ 33.9375 -1.421875 27.875 -1.421875 \r\nQ 17.96875 -1.421875 11.734375 6.484375 \r\nQ 5.515625 14.40625 5.515625 27.296875 \r\nQ 5.515625 40.1875 11.734375 48.09375 \r\nQ 17.96875 56 27.875 56 \r\nQ 33.9375 56 38.25 53.625 \r\nQ 42.578125 51.265625 45.40625 46.390625 \r\nz\r\nM 14.796875 27.296875 \r\nQ 14.796875 17.390625 18.875 11.75 \r\nQ 22.953125 6.109375 30.078125 6.109375 \r\nQ 37.203125 6.109375 41.296875 11.75 \r\nQ 45.40625 17.390625 45.40625 27.296875 \r\nQ 45.40625 37.203125 41.296875 42.84375 \r\nQ 37.203125 48.484375 30.078125 48.484375 \r\nQ 22.953125 48.484375 18.875 42.84375 \r\nQ 14.796875 37.203125 14.796875 27.296875 \r\nz\r\n\" id=\"DejaVuSans-100\"/>\r\n       <path id=\"DejaVuSans-32\"/>\r\n       <path d=\"M 9.8125 72.90625 \r\nL 55.90625 72.90625 \r\nL 55.90625 64.59375 \r\nL 19.671875 64.59375 \r\nL 19.671875 43.015625 \r\nL 54.390625 43.015625 \r\nL 54.390625 34.71875 \r\nL 19.671875 34.71875 \r\nL 19.671875 8.296875 \r\nL 56.78125 8.296875 \r\nL 56.78125 0 \r\nL 9.8125 0 \r\nz\r\n\" id=\"DejaVuSans-69\"/>\r\n       <path d=\"M 44.28125 53.078125 \r\nL 44.28125 44.578125 \r\nQ 40.484375 46.53125 36.375 47.5 \r\nQ 32.28125 48.484375 27.875 48.484375 \r\nQ 21.1875 48.484375 17.84375 46.4375 \r\nQ 14.5 44.390625 14.5 40.28125 \r\nQ 14.5 37.15625 16.890625 35.375 \r\nQ 19.28125 33.59375 26.515625 31.984375 \r\nL 29.59375 31.296875 \r\nQ 39.15625 29.25 43.1875 25.515625 \r\nQ 47.21875 21.78125 47.21875 15.09375 \r\nQ 47.21875 7.46875 41.1875 3.015625 \r\nQ 35.15625 -1.421875 24.609375 -1.421875 \r\nQ 20.21875 -1.421875 15.453125 -0.5625 \r\nQ 10.6875 0.296875 5.421875 2 \r\nL 5.421875 11.28125 \r\nQ 10.40625 8.6875 15.234375 7.390625 \r\nQ 20.0625 6.109375 24.8125 6.109375 \r\nQ 31.15625 6.109375 34.5625 8.28125 \r\nQ 37.984375 10.453125 37.984375 14.40625 \r\nQ 37.984375 18.0625 35.515625 20.015625 \r\nQ 33.0625 21.96875 24.703125 23.78125 \r\nL 21.578125 24.515625 \r\nQ 13.234375 26.265625 9.515625 29.90625 \r\nQ 5.8125 33.546875 5.8125 39.890625 \r\nQ 5.8125 47.609375 11.28125 51.796875 \r\nQ 16.75 56 26.8125 56 \r\nQ 31.78125 56 36.171875 55.265625 \r\nQ 40.578125 54.546875 44.28125 53.078125 \r\nz\r\n\" id=\"DejaVuSans-115\"/>\r\n       <path d=\"M 18.3125 70.21875 \r\nL 18.3125 54.6875 \r\nL 36.8125 54.6875 \r\nL 36.8125 47.703125 \r\nL 18.3125 47.703125 \r\nL 18.3125 18.015625 \r\nQ 18.3125 11.328125 20.140625 9.421875 \r\nQ 21.96875 7.515625 27.59375 7.515625 \r\nL 36.8125 7.515625 \r\nL 36.8125 0 \r\nL 27.59375 0 \r\nQ 17.1875 0 13.234375 3.875 \r\nQ 9.28125 7.765625 9.28125 18.015625 \r\nL 9.28125 47.703125 \r\nL 2.6875 47.703125 \r\nL 2.6875 54.6875 \r\nL 9.28125 54.6875 \r\nL 9.28125 70.21875 \r\nz\r\n\" id=\"DejaVuSans-116\"/>\r\n      </defs>\r\n      <use xlink:href=\"#DejaVuSans-71\"/>\r\n      <use x=\"77.490234\" xlink:href=\"#DejaVuSans-114\"/>\r\n      <use x=\"118.603516\" xlink:href=\"#DejaVuSans-97\"/>\r\n      <use x=\"179.882812\" xlink:href=\"#DejaVuSans-110\"/>\r\n      <use x=\"243.261719\" xlink:href=\"#DejaVuSans-100\"/>\r\n      <use x=\"306.738281\" xlink:href=\"#DejaVuSans-32\"/>\r\n      <use x=\"338.525391\" xlink:href=\"#DejaVuSans-69\"/>\r\n      <use x=\"401.708984\" xlink:href=\"#DejaVuSans-115\"/>\r\n      <use x=\"453.808594\" xlink:href=\"#DejaVuSans-116\"/>\r\n     </g>\r\n    </g>\r\n   </g>\r\n   <g id=\"text_18\">\r\n    <g clip-path=\"url(#p57a925e780)\">\r\n     <!-- Provence-Alpes-Côte-d'Azur -->\r\n     <g transform=\"translate(488.856494 461.767587)scale(0.11 -0.11)\">\r\n      <defs>\r\n       <path d=\"M 19.671875 64.796875 \r\nL 19.671875 37.40625 \r\nL 32.078125 37.40625 \r\nQ 38.96875 37.40625 42.71875 40.96875 \r\nQ 46.484375 44.53125 46.484375 51.125 \r\nQ 46.484375 57.671875 42.71875 61.234375 \r\nQ 38.96875 64.796875 32.078125 64.796875 \r\nz\r\nM 9.8125 72.90625 \r\nL 32.078125 72.90625 \r\nQ 44.34375 72.90625 50.609375 67.359375 \r\nQ 56.890625 61.8125 56.890625 51.125 \r\nQ 56.890625 40.328125 50.609375 34.8125 \r\nQ 44.34375 29.296875 32.078125 29.296875 \r\nL 19.671875 29.296875 \r\nL 19.671875 0 \r\nL 9.8125 0 \r\nz\r\n\" id=\"DejaVuSans-80\"/>\r\n       <path d=\"M 30.609375 48.390625 \r\nQ 23.390625 48.390625 19.1875 42.75 \r\nQ 14.984375 37.109375 14.984375 27.296875 \r\nQ 14.984375 17.484375 19.15625 11.84375 \r\nQ 23.34375 6.203125 30.609375 6.203125 \r\nQ 37.796875 6.203125 41.984375 11.859375 \r\nQ 46.1875 17.53125 46.1875 27.296875 \r\nQ 46.1875 37.015625 41.984375 42.703125 \r\nQ 37.796875 48.390625 30.609375 48.390625 \r\nz\r\nM 30.609375 56 \r\nQ 42.328125 56 49.015625 48.375 \r\nQ 55.71875 40.765625 55.71875 27.296875 \r\nQ 55.71875 13.875 49.015625 6.21875 \r\nQ 42.328125 -1.421875 30.609375 -1.421875 \r\nQ 18.84375 -1.421875 12.171875 6.21875 \r\nQ 5.515625 13.875 5.515625 27.296875 \r\nQ 5.515625 40.765625 12.171875 48.375 \r\nQ 18.84375 56 30.609375 56 \r\nz\r\n\" id=\"DejaVuSans-111\"/>\r\n       <path d=\"M 2.984375 54.6875 \r\nL 12.5 54.6875 \r\nL 29.59375 8.796875 \r\nL 46.6875 54.6875 \r\nL 56.203125 54.6875 \r\nL 35.6875 0 \r\nL 23.484375 0 \r\nz\r\n\" id=\"DejaVuSans-118\"/>\r\n       <path d=\"M 56.203125 29.59375 \r\nL 56.203125 25.203125 \r\nL 14.890625 25.203125 \r\nQ 15.484375 15.921875 20.484375 11.0625 \r\nQ 25.484375 6.203125 34.421875 6.203125 \r\nQ 39.59375 6.203125 44.453125 7.46875 \r\nQ 49.3125 8.734375 54.109375 11.28125 \r\nL 54.109375 2.78125 \r\nQ 49.265625 0.734375 44.1875 -0.34375 \r\nQ 39.109375 -1.421875 33.890625 -1.421875 \r\nQ 20.796875 -1.421875 13.15625 6.1875 \r\nQ 5.515625 13.8125 5.515625 26.8125 \r\nQ 5.515625 40.234375 12.765625 48.109375 \r\nQ 20.015625 56 32.328125 56 \r\nQ 43.359375 56 49.78125 48.890625 \r\nQ 56.203125 41.796875 56.203125 29.59375 \r\nz\r\nM 47.21875 32.234375 \r\nQ 47.125 39.59375 43.09375 43.984375 \r\nQ 39.0625 48.390625 32.421875 48.390625 \r\nQ 24.90625 48.390625 20.390625 44.140625 \r\nQ 15.875 39.890625 15.1875 32.171875 \r\nz\r\n\" id=\"DejaVuSans-101\"/>\r\n       <path d=\"M 48.78125 52.59375 \r\nL 48.78125 44.1875 \r\nQ 44.96875 46.296875 41.140625 47.34375 \r\nQ 37.3125 48.390625 33.40625 48.390625 \r\nQ 24.65625 48.390625 19.8125 42.84375 \r\nQ 14.984375 37.3125 14.984375 27.296875 \r\nQ 14.984375 17.28125 19.8125 11.734375 \r\nQ 24.65625 6.203125 33.40625 6.203125 \r\nQ 37.3125 6.203125 41.140625 7.25 \r\nQ 44.96875 8.296875 48.78125 10.40625 \r\nL 48.78125 2.09375 \r\nQ 45.015625 0.34375 40.984375 -0.53125 \r\nQ 36.96875 -1.421875 32.421875 -1.421875 \r\nQ 20.0625 -1.421875 12.78125 6.34375 \r\nQ 5.515625 14.109375 5.515625 27.296875 \r\nQ 5.515625 40.671875 12.859375 48.328125 \r\nQ 20.21875 56 33.015625 56 \r\nQ 37.15625 56 41.109375 55.140625 \r\nQ 45.0625 54.296875 48.78125 52.59375 \r\nz\r\n\" id=\"DejaVuSans-99\"/>\r\n       <path d=\"M 4.890625 31.390625 \r\nL 31.203125 31.390625 \r\nL 31.203125 23.390625 \r\nL 4.890625 23.390625 \r\nz\r\n\" id=\"DejaVuSans-45\"/>\r\n       <path d=\"M 34.1875 63.1875 \r\nL 20.796875 26.90625 \r\nL 47.609375 26.90625 \r\nz\r\nM 28.609375 72.90625 \r\nL 39.796875 72.90625 \r\nL 67.578125 0 \r\nL 57.328125 0 \r\nL 50.6875 18.703125 \r\nL 17.828125 18.703125 \r\nL 11.1875 0 \r\nL 0.78125 0 \r\nz\r\n\" id=\"DejaVuSans-65\"/>\r\n       <path d=\"M 9.421875 75.984375 \r\nL 18.40625 75.984375 \r\nL 18.40625 0 \r\nL 9.421875 0 \r\nz\r\n\" id=\"DejaVuSans-108\"/>\r\n       <path d=\"M 18.109375 8.203125 \r\nL 18.109375 -20.796875 \r\nL 9.078125 -20.796875 \r\nL 9.078125 54.6875 \r\nL 18.109375 54.6875 \r\nL 18.109375 46.390625 \r\nQ 20.953125 51.265625 25.265625 53.625 \r\nQ 29.59375 56 35.59375 56 \r\nQ 45.5625 56 51.78125 48.09375 \r\nQ 58.015625 40.1875 58.015625 27.296875 \r\nQ 58.015625 14.40625 51.78125 6.484375 \r\nQ 45.5625 -1.421875 35.59375 -1.421875 \r\nQ 29.59375 -1.421875 25.265625 0.953125 \r\nQ 20.953125 3.328125 18.109375 8.203125 \r\nz\r\nM 48.6875 27.296875 \r\nQ 48.6875 37.203125 44.609375 42.84375 \r\nQ 40.53125 48.484375 33.40625 48.484375 \r\nQ 26.265625 48.484375 22.1875 42.84375 \r\nQ 18.109375 37.203125 18.109375 27.296875 \r\nQ 18.109375 17.390625 22.1875 11.75 \r\nQ 26.265625 6.109375 33.40625 6.109375 \r\nQ 40.53125 6.109375 44.609375 11.75 \r\nQ 48.6875 17.390625 48.6875 27.296875 \r\nz\r\n\" id=\"DejaVuSans-112\"/>\r\n       <path d=\"M 64.40625 67.28125 \r\nL 64.40625 56.890625 \r\nQ 59.421875 61.53125 53.78125 63.8125 \r\nQ 48.140625 66.109375 41.796875 66.109375 \r\nQ 29.296875 66.109375 22.65625 58.46875 \r\nQ 16.015625 50.828125 16.015625 36.375 \r\nQ 16.015625 21.96875 22.65625 14.328125 \r\nQ 29.296875 6.6875 41.796875 6.6875 \r\nQ 48.140625 6.6875 53.78125 8.984375 \r\nQ 59.421875 11.28125 64.40625 15.921875 \r\nL 64.40625 5.609375 \r\nQ 59.234375 2.09375 53.4375 0.328125 \r\nQ 47.65625 -1.421875 41.21875 -1.421875 \r\nQ 24.65625 -1.421875 15.125 8.703125 \r\nQ 5.609375 18.84375 5.609375 36.375 \r\nQ 5.609375 53.953125 15.125 64.078125 \r\nQ 24.65625 74.21875 41.21875 74.21875 \r\nQ 47.75 74.21875 53.53125 72.484375 \r\nQ 59.328125 70.75 64.40625 67.28125 \r\nz\r\n\" id=\"DejaVuSans-67\"/>\r\n       <path d=\"M 30.609375 48.390625 \r\nQ 23.390625 48.390625 19.1875 42.75 \r\nQ 14.984375 37.109375 14.984375 27.296875 \r\nQ 14.984375 17.484375 19.15625 11.84375 \r\nQ 23.34375 6.203125 30.609375 6.203125 \r\nQ 37.796875 6.203125 41.984375 11.859375 \r\nQ 46.1875 17.53125 46.1875 27.296875 \r\nQ 46.1875 37.015625 41.984375 42.703125 \r\nQ 37.796875 48.390625 30.609375 48.390625 \r\nz\r\nM 30.609375 56 \r\nQ 42.328125 56 49.015625 48.375 \r\nQ 55.71875 40.765625 55.71875 27.296875 \r\nQ 55.71875 13.875 49.015625 6.21875 \r\nQ 42.328125 -1.421875 30.609375 -1.421875 \r\nQ 18.84375 -1.421875 12.171875 6.21875 \r\nQ 5.515625 13.875 5.515625 27.296875 \r\nQ 5.515625 40.765625 12.171875 48.375 \r\nQ 18.84375 56 30.609375 56 \r\nz\r\nM 27 79.984375 \r\nL 34.234375 79.984375 \r\nL 46.1875 61.625 \r\nL 39.40625 61.625 \r\nL 30.609375 73.578125 \r\nL 21.828125 61.625 \r\nL 15.046875 61.625 \r\nz\r\n\" id=\"DejaVuSans-244\"/>\r\n       <path d=\"M 17.921875 72.90625 \r\nL 17.921875 45.796875 \r\nL 9.625 45.796875 \r\nL 9.625 72.90625 \r\nz\r\n\" id=\"DejaVuSans-39\"/>\r\n       <path d=\"M 5.515625 54.6875 \r\nL 48.1875 54.6875 \r\nL 48.1875 46.484375 \r\nL 14.40625 7.171875 \r\nL 48.1875 7.171875 \r\nL 48.1875 0 \r\nL 4.296875 0 \r\nL 4.296875 8.203125 \r\nL 38.09375 47.515625 \r\nL 5.515625 47.515625 \r\nz\r\n\" id=\"DejaVuSans-122\"/>\r\n       <path d=\"M 8.5 21.578125 \r\nL 8.5 54.6875 \r\nL 17.484375 54.6875 \r\nL 17.484375 21.921875 \r\nQ 17.484375 14.15625 20.5 10.265625 \r\nQ 23.53125 6.390625 29.59375 6.390625 \r\nQ 36.859375 6.390625 41.078125 11.03125 \r\nQ 45.3125 15.671875 45.3125 23.6875 \r\nL 45.3125 54.6875 \r\nL 54.296875 54.6875 \r\nL 54.296875 0 \r\nL 45.3125 0 \r\nL 45.3125 8.40625 \r\nQ 42.046875 3.421875 37.71875 1 \r\nQ 33.40625 -1.421875 27.6875 -1.421875 \r\nQ 18.265625 -1.421875 13.375 4.4375 \r\nQ 8.5 10.296875 8.5 21.578125 \r\nz\r\nM 31.109375 56 \r\nz\r\n\" id=\"DejaVuSans-117\"/>\r\n      </defs>\r\n      <use xlink:href=\"#DejaVuSans-80\"/>\r\n      <use x=\"58.552734\" xlink:href=\"#DejaVuSans-114\"/>\r\n      <use x=\"97.416016\" xlink:href=\"#DejaVuSans-111\"/>\r\n      <use x=\"158.597656\" xlink:href=\"#DejaVuSans-118\"/>\r\n      <use x=\"217.777344\" xlink:href=\"#DejaVuSans-101\"/>\r\n      <use x=\"279.300781\" xlink:href=\"#DejaVuSans-110\"/>\r\n      <use x=\"342.679688\" xlink:href=\"#DejaVuSans-99\"/>\r\n      <use x=\"397.660156\" xlink:href=\"#DejaVuSans-101\"/>\r\n      <use x=\"459.183594\" xlink:href=\"#DejaVuSans-45\"/>\r\n      <use x=\"493.017578\" xlink:href=\"#DejaVuSans-65\"/>\r\n      <use x=\"561.425781\" xlink:href=\"#DejaVuSans-108\"/>\r\n      <use x=\"589.208984\" xlink:href=\"#DejaVuSans-112\"/>\r\n      <use x=\"652.685547\" xlink:href=\"#DejaVuSans-101\"/>\r\n      <use x=\"714.208984\" xlink:href=\"#DejaVuSans-115\"/>\r\n      <use x=\"766.308594\" xlink:href=\"#DejaVuSans-45\"/>\r\n      <use x=\"802.392578\" xlink:href=\"#DejaVuSans-67\"/>\r\n      <use x=\"872.216797\" xlink:href=\"#DejaVuSans-244\"/>\r\n      <use x=\"933.398438\" xlink:href=\"#DejaVuSans-116\"/>\r\n      <use x=\"972.607422\" xlink:href=\"#DejaVuSans-101\"/>\r\n      <use x=\"1034.130859\" xlink:href=\"#DejaVuSans-45\"/>\r\n      <use x=\"1070.214844\" xlink:href=\"#DejaVuSans-100\"/>\r\n      <use x=\"1133.691406\" xlink:href=\"#DejaVuSans-39\"/>\r\n      <use x=\"1161.181641\" xlink:href=\"#DejaVuSans-65\"/>\r\n      <use x=\"1229.589844\" xlink:href=\"#DejaVuSans-122\"/>\r\n      <use x=\"1282.080078\" xlink:href=\"#DejaVuSans-117\"/>\r\n      <use x=\"1345.458984\" xlink:href=\"#DejaVuSans-114\"/>\r\n     </g>\r\n    </g>\r\n   </g>\r\n   <g id=\"text_19\">\r\n    <g clip-path=\"url(#p57a925e780)\">\r\n     <!-- Nouvelle-Aquitaine -->\r\n     <g transform=\"translate(202.280363 78.567367)scale(0.11 -0.11)\">\r\n      <defs>\r\n       <path d=\"M 9.8125 72.90625 \r\nL 23.09375 72.90625 \r\nL 55.421875 11.921875 \r\nL 55.421875 72.90625 \r\nL 64.984375 72.90625 \r\nL 64.984375 0 \r\nL 51.703125 0 \r\nL 19.390625 60.984375 \r\nL 19.390625 0 \r\nL 9.8125 0 \r\nz\r\n\" id=\"DejaVuSans-78\"/>\r\n       <path d=\"M 14.796875 27.296875 \r\nQ 14.796875 17.390625 18.875 11.75 \r\nQ 22.953125 6.109375 30.078125 6.109375 \r\nQ 37.203125 6.109375 41.296875 11.75 \r\nQ 45.40625 17.390625 45.40625 27.296875 \r\nQ 45.40625 37.203125 41.296875 42.84375 \r\nQ 37.203125 48.484375 30.078125 48.484375 \r\nQ 22.953125 48.484375 18.875 42.84375 \r\nQ 14.796875 37.203125 14.796875 27.296875 \r\nz\r\nM 45.40625 8.203125 \r\nQ 42.578125 3.328125 38.25 0.953125 \r\nQ 33.9375 -1.421875 27.875 -1.421875 \r\nQ 17.96875 -1.421875 11.734375 6.484375 \r\nQ 5.515625 14.40625 5.515625 27.296875 \r\nQ 5.515625 40.1875 11.734375 48.09375 \r\nQ 17.96875 56 27.875 56 \r\nQ 33.9375 56 38.25 53.625 \r\nQ 42.578125 51.265625 45.40625 46.390625 \r\nL 45.40625 54.6875 \r\nL 54.390625 54.6875 \r\nL 54.390625 -20.796875 \r\nL 45.40625 -20.796875 \r\nz\r\n\" id=\"DejaVuSans-113\"/>\r\n       <path d=\"M 9.421875 54.6875 \r\nL 18.40625 54.6875 \r\nL 18.40625 0 \r\nL 9.421875 0 \r\nz\r\nM 9.421875 75.984375 \r\nL 18.40625 75.984375 \r\nL 18.40625 64.59375 \r\nL 9.421875 64.59375 \r\nz\r\n\" id=\"DejaVuSans-105\"/>\r\n      </defs>\r\n      <use xlink:href=\"#DejaVuSans-78\"/>\r\n      <use x=\"74.804688\" xlink:href=\"#DejaVuSans-111\"/>\r\n      <use x=\"135.986328\" xlink:href=\"#DejaVuSans-117\"/>\r\n      <use x=\"199.365234\" xlink:href=\"#DejaVuSans-118\"/>\r\n      <use x=\"258.544922\" xlink:href=\"#DejaVuSans-101\"/>\r\n      <use x=\"320.068359\" xlink:href=\"#DejaVuSans-108\"/>\r\n      <use x=\"347.851562\" xlink:href=\"#DejaVuSans-108\"/>\r\n      <use x=\"375.634766\" xlink:href=\"#DejaVuSans-101\"/>\r\n      <use x=\"437.158203\" xlink:href=\"#DejaVuSans-45\"/>\r\n      <use x=\"470.992188\" xlink:href=\"#DejaVuSans-65\"/>\r\n      <use x=\"537.650391\" xlink:href=\"#DejaVuSans-113\"/>\r\n      <use x=\"601.126953\" xlink:href=\"#DejaVuSans-117\"/>\r\n      <use x=\"664.505859\" xlink:href=\"#DejaVuSans-105\"/>\r\n      <use x=\"692.289062\" xlink:href=\"#DejaVuSans-116\"/>\r\n      <use x=\"731.498047\" xlink:href=\"#DejaVuSans-97\"/>\r\n      <use x=\"792.777344\" xlink:href=\"#DejaVuSans-105\"/>\r\n      <use x=\"820.560547\" xlink:href=\"#DejaVuSans-110\"/>\r\n      <use x=\"883.939453\" xlink:href=\"#DejaVuSans-101\"/>\r\n     </g>\r\n    </g>\r\n   </g>\r\n   <g id=\"text_20\">\r\n    <g clip-path=\"url(#p57a925e780)\">\r\n     <!-- Corse -->\r\n     <g transform=\"translate(492.483218 409.455425)scale(0.11 -0.11)\">\r\n      <use xlink:href=\"#DejaVuSans-67\"/>\r\n      <use x=\"69.824219\" xlink:href=\"#DejaVuSans-111\"/>\r\n      <use x=\"131.005859\" xlink:href=\"#DejaVuSans-114\"/>\r\n      <use x=\"172.119141\" xlink:href=\"#DejaVuSans-115\"/>\r\n      <use x=\"224.21875\" xlink:href=\"#DejaVuSans-101\"/>\r\n     </g>\r\n    </g>\r\n   </g>\r\n   <g id=\"text_21\">\r\n    <g clip-path=\"url(#p57a925e780)\">\r\n     <!-- Bretagne -->\r\n     <g transform=\"translate(44.964809 282.876333)scale(0.11 -0.11)\">\r\n      <defs>\r\n       <path d=\"M 19.671875 34.8125 \r\nL 19.671875 8.109375 \r\nL 35.5 8.109375 \r\nQ 43.453125 8.109375 47.28125 11.40625 \r\nQ 51.125 14.703125 51.125 21.484375 \r\nQ 51.125 28.328125 47.28125 31.5625 \r\nQ 43.453125 34.8125 35.5 34.8125 \r\nz\r\nM 19.671875 64.796875 \r\nL 19.671875 42.828125 \r\nL 34.28125 42.828125 \r\nQ 41.5 42.828125 45.03125 45.53125 \r\nQ 48.578125 48.25 48.578125 53.8125 \r\nQ 48.578125 59.328125 45.03125 62.0625 \r\nQ 41.5 64.796875 34.28125 64.796875 \r\nz\r\nM 9.8125 72.90625 \r\nL 35.015625 72.90625 \r\nQ 46.296875 72.90625 52.390625 68.21875 \r\nQ 58.5 63.53125 58.5 54.890625 \r\nQ 58.5 48.1875 55.375 44.234375 \r\nQ 52.25 40.28125 46.1875 39.3125 \r\nQ 53.46875 37.75 57.5 32.78125 \r\nQ 61.53125 27.828125 61.53125 20.40625 \r\nQ 61.53125 10.640625 54.890625 5.3125 \r\nQ 48.25 0 35.984375 0 \r\nL 9.8125 0 \r\nz\r\n\" id=\"DejaVuSans-66\"/>\r\n       <path d=\"M 45.40625 27.984375 \r\nQ 45.40625 37.75 41.375 43.109375 \r\nQ 37.359375 48.484375 30.078125 48.484375 \r\nQ 22.859375 48.484375 18.828125 43.109375 \r\nQ 14.796875 37.75 14.796875 27.984375 \r\nQ 14.796875 18.265625 18.828125 12.890625 \r\nQ 22.859375 7.515625 30.078125 7.515625 \r\nQ 37.359375 7.515625 41.375 12.890625 \r\nQ 45.40625 18.265625 45.40625 27.984375 \r\nz\r\nM 54.390625 6.78125 \r\nQ 54.390625 -7.171875 48.1875 -13.984375 \r\nQ 42 -20.796875 29.203125 -20.796875 \r\nQ 24.46875 -20.796875 20.265625 -20.09375 \r\nQ 16.0625 -19.390625 12.109375 -17.921875 \r\nL 12.109375 -9.1875 \r\nQ 16.0625 -11.328125 19.921875 -12.34375 \r\nQ 23.78125 -13.375 27.78125 -13.375 \r\nQ 36.625 -13.375 41.015625 -8.765625 \r\nQ 45.40625 -4.15625 45.40625 5.171875 \r\nL 45.40625 9.625 \r\nQ 42.625 4.78125 38.28125 2.390625 \r\nQ 33.9375 0 27.875 0 \r\nQ 17.828125 0 11.671875 7.65625 \r\nQ 5.515625 15.328125 5.515625 27.984375 \r\nQ 5.515625 40.671875 11.671875 48.328125 \r\nQ 17.828125 56 27.875 56 \r\nQ 33.9375 56 38.28125 53.609375 \r\nQ 42.625 51.21875 45.40625 46.390625 \r\nL 45.40625 54.6875 \r\nL 54.390625 54.6875 \r\nz\r\n\" id=\"DejaVuSans-103\"/>\r\n      </defs>\r\n      <use xlink:href=\"#DejaVuSans-66\"/>\r\n      <use x=\"68.603516\" xlink:href=\"#DejaVuSans-114\"/>\r\n      <use x=\"107.466797\" xlink:href=\"#DejaVuSans-101\"/>\r\n      <use x=\"168.990234\" xlink:href=\"#DejaVuSans-116\"/>\r\n      <use x=\"208.199219\" xlink:href=\"#DejaVuSans-97\"/>\r\n      <use x=\"269.478516\" xlink:href=\"#DejaVuSans-103\"/>\r\n      <use x=\"332.955078\" xlink:href=\"#DejaVuSans-110\"/>\r\n      <use x=\"396.333984\" xlink:href=\"#DejaVuSans-101\"/>\r\n     </g>\r\n    </g>\r\n   </g>\r\n   <g id=\"text_22\">\r\n    <g clip-path=\"url(#p57a925e780)\">\r\n     <!-- Pays-de-la-Loire -->\r\n     <g transform=\"translate(625.982066 321.147555)scale(0.11 -0.11)\">\r\n      <defs>\r\n       <path d=\"M 32.171875 -5.078125 \r\nQ 28.375 -14.84375 24.75 -17.8125 \r\nQ 21.140625 -20.796875 15.09375 -20.796875 \r\nL 7.90625 -20.796875 \r\nL 7.90625 -13.28125 \r\nL 13.1875 -13.28125 \r\nQ 16.890625 -13.28125 18.9375 -11.515625 \r\nQ 21 -9.765625 23.484375 -3.21875 \r\nL 25.09375 0.875 \r\nL 2.984375 54.6875 \r\nL 12.5 54.6875 \r\nL 29.59375 11.921875 \r\nL 46.6875 54.6875 \r\nL 56.203125 54.6875 \r\nz\r\n\" id=\"DejaVuSans-121\"/>\r\n       <path d=\"M 9.8125 72.90625 \r\nL 19.671875 72.90625 \r\nL 19.671875 8.296875 \r\nL 55.171875 8.296875 \r\nL 55.171875 0 \r\nL 9.8125 0 \r\nz\r\n\" id=\"DejaVuSans-76\"/>\r\n      </defs>\r\n      <use xlink:href=\"#DejaVuSans-80\"/>\r\n      <use x=\"55.802734\" xlink:href=\"#DejaVuSans-97\"/>\r\n      <use x=\"117.082031\" xlink:href=\"#DejaVuSans-121\"/>\r\n      <use x=\"176.261719\" xlink:href=\"#DejaVuSans-115\"/>\r\n      <use x=\"228.361328\" xlink:href=\"#DejaVuSans-45\"/>\r\n      <use x=\"264.445312\" xlink:href=\"#DejaVuSans-100\"/>\r\n      <use x=\"327.921875\" xlink:href=\"#DejaVuSans-101\"/>\r\n      <use x=\"389.445312\" xlink:href=\"#DejaVuSans-45\"/>\r\n      <use x=\"425.529297\" xlink:href=\"#DejaVuSans-108\"/>\r\n      <use x=\"453.3125\" xlink:href=\"#DejaVuSans-97\"/>\r\n      <use x=\"514.591797\" xlink:href=\"#DejaVuSans-45\"/>\r\n      <use x=\"550.675781\" xlink:href=\"#DejaVuSans-76\"/>\r\n      <use x=\"604.638672\" xlink:href=\"#DejaVuSans-111\"/>\r\n      <use x=\"665.820312\" xlink:href=\"#DejaVuSans-105\"/>\r\n      <use x=\"693.603516\" xlink:href=\"#DejaVuSans-114\"/>\r\n      <use x=\"732.466797\" xlink:href=\"#DejaVuSans-101\"/>\r\n     </g>\r\n    </g>\r\n   </g>\r\n   <g id=\"text_23\">\r\n    <g clip-path=\"url(#p57a925e780)\">\r\n     <!-- Île-de-France -->\r\n     <g transform=\"translate(338.169569 249.647165)scale(0.11 -0.11)\">\r\n      <defs>\r\n       <path d=\"M 9.8125 72.90625 \r\nL 19.671875 72.90625 \r\nL 19.671875 0 \r\nL 9.8125 0 \r\nz\r\nM 10.203125 92.828125 \r\nL 19.390625 92.828125 \r\nL 29.6875 79.84375 \r\nL 22.90625 79.84375 \r\nL 14.796875 88.53125 \r\nL 6.6875 79.84375 \r\nL -0.09375 79.84375 \r\nz\r\n\" id=\"DejaVuSans-206\"/>\r\n       <path d=\"M 9.8125 72.90625 \r\nL 51.703125 72.90625 \r\nL 51.703125 64.59375 \r\nL 19.671875 64.59375 \r\nL 19.671875 43.109375 \r\nL 48.578125 43.109375 \r\nL 48.578125 34.8125 \r\nL 19.671875 34.8125 \r\nL 19.671875 0 \r\nL 9.8125 0 \r\nz\r\n\" id=\"DejaVuSans-70\"/>\r\n      </defs>\r\n      <use xlink:href=\"#DejaVuSans-206\"/>\r\n      <use x=\"29.492188\" xlink:href=\"#DejaVuSans-108\"/>\r\n      <use x=\"57.275391\" xlink:href=\"#DejaVuSans-101\"/>\r\n      <use x=\"118.798828\" xlink:href=\"#DejaVuSans-45\"/>\r\n      <use x=\"154.882812\" xlink:href=\"#DejaVuSans-100\"/>\r\n      <use x=\"218.359375\" xlink:href=\"#DejaVuSans-101\"/>\r\n      <use x=\"279.882812\" xlink:href=\"#DejaVuSans-45\"/>\r\n      <use x=\"315.966797\" xlink:href=\"#DejaVuSans-70\"/>\r\n      <use x=\"366.236328\" xlink:href=\"#DejaVuSans-114\"/>\r\n      <use x=\"407.349609\" xlink:href=\"#DejaVuSans-97\"/>\r\n      <use x=\"468.628906\" xlink:href=\"#DejaVuSans-110\"/>\r\n      <use x=\"532.007812\" xlink:href=\"#DejaVuSans-99\"/>\r\n      <use x=\"586.988281\" xlink:href=\"#DejaVuSans-101\"/>\r\n     </g>\r\n    </g>\r\n   </g>\r\n   <g id=\"text_24\">\r\n    <g clip-path=\"url(#p57a925e780)\">\r\n     <!-- Centre-Val de Loire -->\r\n     <g transform=\"translate(385.226332 93.831742)scale(0.11 -0.11)\">\r\n      <defs>\r\n       <path d=\"M 28.609375 0 \r\nL 0.78125 72.90625 \r\nL 11.078125 72.90625 \r\nL 34.1875 11.53125 \r\nL 57.328125 72.90625 \r\nL 67.578125 72.90625 \r\nL 39.796875 0 \r\nz\r\n\" id=\"DejaVuSans-86\"/>\r\n      </defs>\r\n      <use xlink:href=\"#DejaVuSans-67\"/>\r\n      <use x=\"69.824219\" xlink:href=\"#DejaVuSans-101\"/>\r\n      <use x=\"131.347656\" xlink:href=\"#DejaVuSans-110\"/>\r\n      <use x=\"194.726562\" xlink:href=\"#DejaVuSans-116\"/>\r\n      <use x=\"233.935547\" xlink:href=\"#DejaVuSans-114\"/>\r\n      <use x=\"272.798828\" xlink:href=\"#DejaVuSans-101\"/>\r\n      <use x=\"334.322266\" xlink:href=\"#DejaVuSans-45\"/>\r\n      <use x=\"364.53125\" xlink:href=\"#DejaVuSans-86\"/>\r\n      <use x=\"425.189453\" xlink:href=\"#DejaVuSans-97\"/>\r\n      <use x=\"486.46875\" xlink:href=\"#DejaVuSans-108\"/>\r\n      <use x=\"514.251953\" xlink:href=\"#DejaVuSans-32\"/>\r\n      <use x=\"546.039062\" xlink:href=\"#DejaVuSans-100\"/>\r\n      <use x=\"609.515625\" xlink:href=\"#DejaVuSans-101\"/>\r\n      <use x=\"671.039062\" xlink:href=\"#DejaVuSans-32\"/>\r\n      <use x=\"702.826172\" xlink:href=\"#DejaVuSans-76\"/>\r\n      <use x=\"756.789062\" xlink:href=\"#DejaVuSans-111\"/>\r\n      <use x=\"817.970703\" xlink:href=\"#DejaVuSans-105\"/>\r\n      <use x=\"845.753906\" xlink:href=\"#DejaVuSans-114\"/>\r\n      <use x=\"884.617188\" xlink:href=\"#DejaVuSans-101\"/>\r\n     </g>\r\n    </g>\r\n   </g>\r\n   <g id=\"text_25\">\r\n    <g clip-path=\"url(#p57a925e780)\">\r\n     <!-- Bourgogne-Franche-Comté -->\r\n     <g transform=\"translate(254.983394 440.28113)scale(0.11 -0.11)\">\r\n      <defs>\r\n       <path d=\"M 54.890625 33.015625 \r\nL 54.890625 0 \r\nL 45.90625 0 \r\nL 45.90625 32.71875 \r\nQ 45.90625 40.484375 42.875 44.328125 \r\nQ 39.84375 48.1875 33.796875 48.1875 \r\nQ 26.515625 48.1875 22.3125 43.546875 \r\nQ 18.109375 38.921875 18.109375 30.90625 \r\nL 18.109375 0 \r\nL 9.078125 0 \r\nL 9.078125 75.984375 \r\nL 18.109375 75.984375 \r\nL 18.109375 46.1875 \r\nQ 21.34375 51.125 25.703125 53.5625 \r\nQ 30.078125 56 35.796875 56 \r\nQ 45.21875 56 50.046875 50.171875 \r\nQ 54.890625 44.34375 54.890625 33.015625 \r\nz\r\n\" id=\"DejaVuSans-104\"/>\r\n       <path d=\"M 52 44.1875 \r\nQ 55.375 50.25 60.0625 53.125 \r\nQ 64.75 56 71.09375 56 \r\nQ 79.640625 56 84.28125 50.015625 \r\nQ 88.921875 44.046875 88.921875 33.015625 \r\nL 88.921875 0 \r\nL 79.890625 0 \r\nL 79.890625 32.71875 \r\nQ 79.890625 40.578125 77.09375 44.375 \r\nQ 74.3125 48.1875 68.609375 48.1875 \r\nQ 61.625 48.1875 57.5625 43.546875 \r\nQ 53.515625 38.921875 53.515625 30.90625 \r\nL 53.515625 0 \r\nL 44.484375 0 \r\nL 44.484375 32.71875 \r\nQ 44.484375 40.625 41.703125 44.40625 \r\nQ 38.921875 48.1875 33.109375 48.1875 \r\nQ 26.21875 48.1875 22.15625 43.53125 \r\nQ 18.109375 38.875 18.109375 30.90625 \r\nL 18.109375 0 \r\nL 9.078125 0 \r\nL 9.078125 54.6875 \r\nL 18.109375 54.6875 \r\nL 18.109375 46.1875 \r\nQ 21.1875 51.21875 25.484375 53.609375 \r\nQ 29.78125 56 35.6875 56 \r\nQ 41.65625 56 45.828125 52.96875 \r\nQ 50 49.953125 52 44.1875 \r\nz\r\n\" id=\"DejaVuSans-109\"/>\r\n       <path d=\"M 56.203125 29.59375 \r\nL 56.203125 25.203125 \r\nL 14.890625 25.203125 \r\nQ 15.484375 15.921875 20.484375 11.0625 \r\nQ 25.484375 6.203125 34.421875 6.203125 \r\nQ 39.59375 6.203125 44.453125 7.46875 \r\nQ 49.3125 8.734375 54.109375 11.28125 \r\nL 54.109375 2.78125 \r\nQ 49.265625 0.734375 44.1875 -0.34375 \r\nQ 39.109375 -1.421875 33.890625 -1.421875 \r\nQ 20.796875 -1.421875 13.15625 6.1875 \r\nQ 5.515625 13.8125 5.515625 26.8125 \r\nQ 5.515625 40.234375 12.765625 48.109375 \r\nQ 20.015625 56 32.328125 56 \r\nQ 43.359375 56 49.78125 48.890625 \r\nQ 56.203125 41.796875 56.203125 29.59375 \r\nz\r\nM 47.21875 32.234375 \r\nQ 47.125 39.59375 43.09375 43.984375 \r\nQ 39.0625 48.390625 32.421875 48.390625 \r\nQ 24.90625 48.390625 20.390625 44.140625 \r\nQ 15.875 39.890625 15.1875 32.171875 \r\nz\r\nM 38.578125 79.984375 \r\nL 48.296875 79.984375 \r\nL 32.375 61.625 \r\nL 24.90625 61.625 \r\nz\r\n\" id=\"DejaVuSans-233\"/>\r\n      </defs>\r\n      <use xlink:href=\"#DejaVuSans-66\"/>\r\n      <use x=\"68.603516\" xlink:href=\"#DejaVuSans-111\"/>\r\n      <use x=\"129.785156\" xlink:href=\"#DejaVuSans-117\"/>\r\n      <use x=\"193.164062\" xlink:href=\"#DejaVuSans-114\"/>\r\n      <use x=\"232.527344\" xlink:href=\"#DejaVuSans-103\"/>\r\n      <use x=\"296.003906\" xlink:href=\"#DejaVuSans-111\"/>\r\n      <use x=\"357.185547\" xlink:href=\"#DejaVuSans-103\"/>\r\n      <use x=\"420.662109\" xlink:href=\"#DejaVuSans-110\"/>\r\n      <use x=\"484.041016\" xlink:href=\"#DejaVuSans-101\"/>\r\n      <use x=\"545.564453\" xlink:href=\"#DejaVuSans-45\"/>\r\n      <use x=\"581.648438\" xlink:href=\"#DejaVuSans-70\"/>\r\n      <use x=\"631.917969\" xlink:href=\"#DejaVuSans-114\"/>\r\n      <use x=\"673.03125\" xlink:href=\"#DejaVuSans-97\"/>\r\n      <use x=\"734.310547\" xlink:href=\"#DejaVuSans-110\"/>\r\n      <use x=\"797.689453\" xlink:href=\"#DejaVuSans-99\"/>\r\n      <use x=\"852.669922\" xlink:href=\"#DejaVuSans-104\"/>\r\n      <use x=\"916.048828\" xlink:href=\"#DejaVuSans-101\"/>\r\n      <use x=\"977.572266\" xlink:href=\"#DejaVuSans-45\"/>\r\n      <use x=\"1013.65625\" xlink:href=\"#DejaVuSans-67\"/>\r\n      <use x=\"1083.480469\" xlink:href=\"#DejaVuSans-111\"/>\r\n      <use x=\"1144.662109\" xlink:href=\"#DejaVuSans-109\"/>\r\n      <use x=\"1242.074219\" xlink:href=\"#DejaVuSans-116\"/>\r\n      <use x=\"1281.283203\" xlink:href=\"#DejaVuSans-233\"/>\r\n     </g>\r\n    </g>\r\n   </g>\r\n   <g id=\"text_26\">\r\n    <g clip-path=\"url(#p57a925e780)\">\r\n     <!-- Auvergne-Rhône-Alpes -->\r\n     <g transform=\"translate(183.454303 483.117946)scale(0.11 -0.11)\">\r\n      <defs>\r\n       <path d=\"M 44.390625 34.1875 \r\nQ 47.5625 33.109375 50.5625 29.59375 \r\nQ 53.5625 26.078125 56.59375 19.921875 \r\nL 66.609375 0 \r\nL 56 0 \r\nL 46.6875 18.703125 \r\nQ 43.0625 26.03125 39.671875 28.421875 \r\nQ 36.28125 30.8125 30.421875 30.8125 \r\nL 19.671875 30.8125 \r\nL 19.671875 0 \r\nL 9.8125 0 \r\nL 9.8125 72.90625 \r\nL 32.078125 72.90625 \r\nQ 44.578125 72.90625 50.734375 67.671875 \r\nQ 56.890625 62.453125 56.890625 51.90625 \r\nQ 56.890625 45.015625 53.6875 40.46875 \r\nQ 50.484375 35.9375 44.390625 34.1875 \r\nz\r\nM 19.671875 64.796875 \r\nL 19.671875 38.921875 \r\nL 32.078125 38.921875 \r\nQ 39.203125 38.921875 42.84375 42.21875 \r\nQ 46.484375 45.515625 46.484375 51.90625 \r\nQ 46.484375 58.296875 42.84375 61.546875 \r\nQ 39.203125 64.796875 32.078125 64.796875 \r\nz\r\n\" id=\"DejaVuSans-82\"/>\r\n      </defs>\r\n      <use xlink:href=\"#DejaVuSans-65\"/>\r\n      <use x=\"68.408203\" xlink:href=\"#DejaVuSans-117\"/>\r\n      <use x=\"131.787109\" xlink:href=\"#DejaVuSans-118\"/>\r\n      <use x=\"190.966797\" xlink:href=\"#DejaVuSans-101\"/>\r\n      <use x=\"252.490234\" xlink:href=\"#DejaVuSans-114\"/>\r\n      <use x=\"291.853516\" xlink:href=\"#DejaVuSans-103\"/>\r\n      <use x=\"355.330078\" xlink:href=\"#DejaVuSans-110\"/>\r\n      <use x=\"418.708984\" xlink:href=\"#DejaVuSans-101\"/>\r\n      <use x=\"480.232422\" xlink:href=\"#DejaVuSans-45\"/>\r\n      <use x=\"516.316406\" xlink:href=\"#DejaVuSans-82\"/>\r\n      <use x=\"585.798828\" xlink:href=\"#DejaVuSans-104\"/>\r\n      <use x=\"649.177734\" xlink:href=\"#DejaVuSans-244\"/>\r\n      <use x=\"710.359375\" xlink:href=\"#DejaVuSans-110\"/>\r\n      <use x=\"773.738281\" xlink:href=\"#DejaVuSans-101\"/>\r\n      <use x=\"835.261719\" xlink:href=\"#DejaVuSans-45\"/>\r\n      <use x=\"869.095703\" xlink:href=\"#DejaVuSans-65\"/>\r\n      <use x=\"937.503906\" xlink:href=\"#DejaVuSans-108\"/>\r\n      <use x=\"965.287109\" xlink:href=\"#DejaVuSans-112\"/>\r\n      <use x=\"1028.763672\" xlink:href=\"#DejaVuSans-101\"/>\r\n      <use x=\"1090.287109\" xlink:href=\"#DejaVuSans-115\"/>\r\n     </g>\r\n    </g>\r\n   </g>\r\n   <g id=\"text_27\">\r\n    <g clip-path=\"url(#p57a925e780)\">\r\n     <!-- outside France -->\r\n     <g transform=\"translate(74.152519 396.968448)scale(0.11 -0.11)\">\r\n      <use xlink:href=\"#DejaVuSans-111\"/>\r\n      <use x=\"61.181641\" xlink:href=\"#DejaVuSans-117\"/>\r\n      <use x=\"124.560547\" xlink:href=\"#DejaVuSans-116\"/>\r\n      <use x=\"163.769531\" xlink:href=\"#DejaVuSans-115\"/>\r\n      <use x=\"215.869141\" xlink:href=\"#DejaVuSans-105\"/>\r\n      <use x=\"243.652344\" xlink:href=\"#DejaVuSans-100\"/>\r\n      <use x=\"307.128906\" xlink:href=\"#DejaVuSans-101\"/>\r\n      <use x=\"368.652344\" xlink:href=\"#DejaVuSans-32\"/>\r\n      <use x=\"400.439453\" xlink:href=\"#DejaVuSans-70\"/>\r\n      <use x=\"450.708984\" xlink:href=\"#DejaVuSans-114\"/>\r\n      <use x=\"491.822266\" xlink:href=\"#DejaVuSans-97\"/>\r\n      <use x=\"553.101562\" xlink:href=\"#DejaVuSans-110\"/>\r\n      <use x=\"616.480469\" xlink:href=\"#DejaVuSans-99\"/>\r\n      <use x=\"671.460938\" xlink:href=\"#DejaVuSans-101\"/>\r\n     </g>\r\n    </g>\r\n   </g>\r\n   <g id=\"text_28\">\r\n    <g clip-path=\"url(#p57a925e780)\">\r\n     <!-- Occitanie -->\r\n     <g transform=\"translate(106.374344 168.898183)scale(0.11 -0.11)\">\r\n      <defs>\r\n       <path d=\"M 39.40625 66.21875 \r\nQ 28.65625 66.21875 22.328125 58.203125 \r\nQ 16.015625 50.203125 16.015625 36.375 \r\nQ 16.015625 22.609375 22.328125 14.59375 \r\nQ 28.65625 6.59375 39.40625 6.59375 \r\nQ 50.140625 6.59375 56.421875 14.59375 \r\nQ 62.703125 22.609375 62.703125 36.375 \r\nQ 62.703125 50.203125 56.421875 58.203125 \r\nQ 50.140625 66.21875 39.40625 66.21875 \r\nz\r\nM 39.40625 74.21875 \r\nQ 54.734375 74.21875 63.90625 63.9375 \r\nQ 73.09375 53.65625 73.09375 36.375 \r\nQ 73.09375 19.140625 63.90625 8.859375 \r\nQ 54.734375 -1.421875 39.40625 -1.421875 \r\nQ 24.03125 -1.421875 14.8125 8.828125 \r\nQ 5.609375 19.09375 5.609375 36.375 \r\nQ 5.609375 53.65625 14.8125 63.9375 \r\nQ 24.03125 74.21875 39.40625 74.21875 \r\nz\r\n\" id=\"DejaVuSans-79\"/>\r\n      </defs>\r\n      <use xlink:href=\"#DejaVuSans-79\"/>\r\n      <use x=\"78.710938\" xlink:href=\"#DejaVuSans-99\"/>\r\n      <use x=\"133.691406\" xlink:href=\"#DejaVuSans-99\"/>\r\n      <use x=\"188.671875\" xlink:href=\"#DejaVuSans-105\"/>\r\n      <use x=\"216.455078\" xlink:href=\"#DejaVuSans-116\"/>\r\n      <use x=\"255.664062\" xlink:href=\"#DejaVuSans-97\"/>\r\n      <use x=\"316.943359\" xlink:href=\"#DejaVuSans-110\"/>\r\n      <use x=\"380.322266\" xlink:href=\"#DejaVuSans-105\"/>\r\n      <use x=\"408.105469\" xlink:href=\"#DejaVuSans-101\"/>\r\n     </g>\r\n    </g>\r\n   </g>\r\n   <g id=\"text_29\">\r\n    <g clip-path=\"url(#p57a925e780)\">\r\n     <!-- Normandie -->\r\n     <g transform=\"translate(570.671685 131.747403)scale(0.11 -0.11)\">\r\n      <use xlink:href=\"#DejaVuSans-78\"/>\r\n      <use x=\"74.804688\" xlink:href=\"#DejaVuSans-111\"/>\r\n      <use x=\"135.986328\" xlink:href=\"#DejaVuSans-114\"/>\r\n      <use x=\"175.349609\" xlink:href=\"#DejaVuSans-109\"/>\r\n      <use x=\"272.761719\" xlink:href=\"#DejaVuSans-97\"/>\r\n      <use x=\"334.041016\" xlink:href=\"#DejaVuSans-110\"/>\r\n      <use x=\"397.419922\" xlink:href=\"#DejaVuSans-100\"/>\r\n      <use x=\"460.896484\" xlink:href=\"#DejaVuSans-105\"/>\r\n      <use x=\"488.679688\" xlink:href=\"#DejaVuSans-101\"/>\r\n     </g>\r\n    </g>\r\n   </g>\r\n  </g>\r\n  <g id=\"text_30\">\r\n   <!-- Directed graph of patient transfers -->\r\n   <g transform=\"translate(210.003828 20.117344)scale(0.17 -0.17)\">\r\n    <defs>\r\n     <path d=\"M 19.671875 64.796875 \r\nL 19.671875 8.109375 \r\nL 31.59375 8.109375 \r\nQ 46.6875 8.109375 53.6875 14.9375 \r\nQ 60.6875 21.78125 60.6875 36.53125 \r\nQ 60.6875 51.171875 53.6875 57.984375 \r\nQ 46.6875 64.796875 31.59375 64.796875 \r\nz\r\nM 9.8125 72.90625 \r\nL 30.078125 72.90625 \r\nQ 51.265625 72.90625 61.171875 64.09375 \r\nQ 71.09375 55.28125 71.09375 36.53125 \r\nQ 71.09375 17.671875 61.125 8.828125 \r\nQ 51.171875 0 30.078125 0 \r\nL 9.8125 0 \r\nz\r\n\" id=\"DejaVuSans-68\"/>\r\n     <path d=\"M 37.109375 75.984375 \r\nL 37.109375 68.5 \r\nL 28.515625 68.5 \r\nQ 23.6875 68.5 21.796875 66.546875 \r\nQ 19.921875 64.59375 19.921875 59.515625 \r\nL 19.921875 54.6875 \r\nL 34.71875 54.6875 \r\nL 34.71875 47.703125 \r\nL 19.921875 47.703125 \r\nL 19.921875 0 \r\nL 10.890625 0 \r\nL 10.890625 47.703125 \r\nL 2.296875 47.703125 \r\nL 2.296875 54.6875 \r\nL 10.890625 54.6875 \r\nL 10.890625 58.5 \r\nQ 10.890625 67.625 15.140625 71.796875 \r\nQ 19.390625 75.984375 28.609375 75.984375 \r\nz\r\n\" id=\"DejaVuSans-102\"/>\r\n    </defs>\r\n    <use xlink:href=\"#DejaVuSans-68\"/>\r\n    <use x=\"77.001953\" xlink:href=\"#DejaVuSans-105\"/>\r\n    <use x=\"104.785156\" xlink:href=\"#DejaVuSans-114\"/>\r\n    <use x=\"143.648438\" xlink:href=\"#DejaVuSans-101\"/>\r\n    <use x=\"205.171875\" xlink:href=\"#DejaVuSans-99\"/>\r\n    <use x=\"260.152344\" xlink:href=\"#DejaVuSans-116\"/>\r\n    <use x=\"299.361328\" xlink:href=\"#DejaVuSans-101\"/>\r\n    <use x=\"360.884766\" xlink:href=\"#DejaVuSans-100\"/>\r\n    <use x=\"424.361328\" xlink:href=\"#DejaVuSans-32\"/>\r\n    <use x=\"456.148438\" xlink:href=\"#DejaVuSans-103\"/>\r\n    <use x=\"519.625\" xlink:href=\"#DejaVuSans-114\"/>\r\n    <use x=\"560.738281\" xlink:href=\"#DejaVuSans-97\"/>\r\n    <use x=\"622.017578\" xlink:href=\"#DejaVuSans-112\"/>\r\n    <use x=\"685.494141\" xlink:href=\"#DejaVuSans-104\"/>\r\n    <use x=\"748.873047\" xlink:href=\"#DejaVuSans-32\"/>\r\n    <use x=\"780.660156\" xlink:href=\"#DejaVuSans-111\"/>\r\n    <use x=\"841.841797\" xlink:href=\"#DejaVuSans-102\"/>\r\n    <use x=\"877.046875\" xlink:href=\"#DejaVuSans-32\"/>\r\n    <use x=\"908.833984\" xlink:href=\"#DejaVuSans-112\"/>\r\n    <use x=\"972.310547\" xlink:href=\"#DejaVuSans-97\"/>\r\n    <use x=\"1033.589844\" xlink:href=\"#DejaVuSans-116\"/>\r\n    <use x=\"1072.798828\" xlink:href=\"#DejaVuSans-105\"/>\r\n    <use x=\"1100.582031\" xlink:href=\"#DejaVuSans-101\"/>\r\n    <use x=\"1162.105469\" xlink:href=\"#DejaVuSans-110\"/>\r\n    <use x=\"1225.484375\" xlink:href=\"#DejaVuSans-116\"/>\r\n    <use x=\"1264.693359\" xlink:href=\"#DejaVuSans-32\"/>\r\n    <use x=\"1296.480469\" xlink:href=\"#DejaVuSans-116\"/>\r\n    <use x=\"1335.689453\" xlink:href=\"#DejaVuSans-114\"/>\r\n    <use x=\"1376.802734\" xlink:href=\"#DejaVuSans-97\"/>\r\n    <use x=\"1438.082031\" xlink:href=\"#DejaVuSans-110\"/>\r\n    <use x=\"1501.460938\" xlink:href=\"#DejaVuSans-115\"/>\r\n    <use x=\"1553.560547\" xlink:href=\"#DejaVuSans-102\"/>\r\n    <use x=\"1588.765625\" xlink:href=\"#DejaVuSans-101\"/>\r\n    <use x=\"1650.289062\" xlink:href=\"#DejaVuSans-114\"/>\r\n    <use x=\"1691.402344\" xlink:href=\"#DejaVuSans-115\"/>\r\n   </g>\r\n  </g>\r\n </g>\r\n <defs>\r\n  <clipPath id=\"p57a925e780\">\r\n   <rect height=\"489.24\" width=\"725.4\" x=\"7.2\" y=\"33.077344\"/>\r\n  </clipPath>\r\n </defs>\r\n</svg>\r\n",
      "image/png": "[encoded data removed]"
     },
     "metadata": {}
    },
    {
     "output_type": "execute_result",
     "data": {
      "text/plain": [
       "<networkx.classes.digraph.DiGraph at 0x2a0e7265e20>"
      ]
     },
     "metadata": {},
     "execution_count": 9
    },
    {
     "output_type": "stream",
     "name": "stdout",
     "text": [
      "Time to execute: 0.80336 s.\n"
     ]
    }
   ],
   "source": [
    "sparse.sparse_graph(directed=True) # directed graph"
   ]
  },
  {
   "cell_type": "code",
   "execution_count": 10,
   "metadata": {},
   "outputs": [
    {
     "output_type": "stream",
     "name": "stdout",
     "text": [
      "Downloading data from https://static.data.gouv.fr/resources/donnees-relatives-aux-transferts-de-patients-atteints-de-covid-19/20200424-183902/transferts-patients-covid19.csv (2 kB)\n",
      "\n",
      "file_sizes: 100%|███████████████████████████| 1.79k/1.79k [00:00<00:00, 224kB/s]\n",
      "Successfully downloaded file to C:\\Users\\quenf\\vizcovidfr\\vizcovidfr\\loads\\..\\data\\transfer.csv\n",
      "Time to execute: 0.66962 s.\n"
     ]
    },
    {
     "output_type": "display_data",
     "data": {
      "text/plain": "<Figure size 936x648 with 1 Axes>",
      "image/svg+xml": "<?xml version=\"1.0\" encoding=\"utf-8\" standalone=\"no\"?>\r\n<!DOCTYPE svg PUBLIC \"-//W3C//DTD SVG 1.1//EN\"\r\n  \"http://www.w3.org/Graphics/SVG/1.1/DTD/svg11.dtd\">\r\n<!-- Created with matplotlib (https://matplotlib.org/) -->\r\n<svg height=\"529.517344pt\" version=\"1.1\" viewBox=\"0 0 739.8 529.517344\" width=\"739.8pt\" xmlns=\"http://www.w3.org/2000/svg\" xmlns:xlink=\"http://www.w3.org/1999/xlink\">\r\n <metadata>\r\n  <rdf:RDF xmlns:cc=\"http://creativecommons.org/ns#\" xmlns:dc=\"http://purl.org/dc/elements/1.1/\" xmlns:rdf=\"http://www.w3.org/1999/02/22-rdf-syntax-ns#\">\r\n   <cc:Work>\r\n    <dc:type rdf:resource=\"http://purl.org/dc/dcmitype/StillImage\"/>\r\n    <dc:date>2021-04-24T20:54:17.920533</dc:date>\r\n    <dc:format>image/svg+xml</dc:format>\r\n    <dc:creator>\r\n     <cc:Agent>\r\n      <dc:title>Matplotlib v3.3.2, https://matplotlib.org/</dc:title>\r\n     </cc:Agent>\r\n    </dc:creator>\r\n   </cc:Work>\r\n  </rdf:RDF>\r\n </metadata>\r\n <defs>\r\n  <style type=\"text/css\">*{stroke-linecap:butt;stroke-linejoin:round;}</style>\r\n </defs>\r\n <g id=\"figure_1\">\r\n  <g id=\"patch_1\">\r\n   <path d=\"M 0 529.517344 \r\nL 739.8 529.517344 \r\nL 739.8 0 \r\nL 0 0 \r\nz\r\n\" style=\"fill:none;\"/>\r\n  </g>\r\n  <g id=\"axes_1\">\r\n   <g id=\"LineCollection_1\">\r\n    <path clip-path=\"url(#p342c6b1659)\" d=\"M 312.872754 189.792509 \r\nL 553.487123 138.280585 \r\n\" style=\"fill:none;stroke:#cc9016;stroke-opacity:0.6;\"/>\r\n    <path clip-path=\"url(#p342c6b1659)\" d=\"M 312.872754 189.792509 \r\nL 136.998088 254.9708 \r\n\" style=\"fill:none;stroke:#cc9016;stroke-opacity:0.6;\"/>\r\n    <path clip-path=\"url(#p342c6b1659)\" d=\"M 312.872754 189.792509 \r\nL 298.629187 296.775384 \r\n\" style=\"fill:none;stroke:#cc9016;stroke-opacity:0.6;\"/>\r\n    <path clip-path=\"url(#p342c6b1659)\" d=\"M 312.872754 189.792509 \r\nL 198.450717 285.756845 \r\n\" style=\"fill:none;stroke:#cc9016;stroke-opacity:0.6;\"/>\r\n    <path clip-path=\"url(#p342c6b1659)\" d=\"M 312.872754 189.792509 \r\nL 477.012694 193.47325 \r\n\" style=\"fill:none;stroke:#cc9016;stroke-opacity:0.6;\"/>\r\n    <path clip-path=\"url(#p342c6b1659)\" d=\"M 312.872754 189.792509 \r\nL 226.862957 78.014135 \r\n\" style=\"fill:none;stroke:#cc9016;stroke-opacity:0.6;\"/>\r\n    <path clip-path=\"url(#p342c6b1659)\" d=\"M 553.487123 138.280585 \r\nL 699.627273 55.315526 \r\n\" style=\"fill:none;stroke:#cc9016;stroke-opacity:0.6;\"/>\r\n    <path clip-path=\"url(#p342c6b1659)\" d=\"M 553.487123 138.280585 \r\nL 566.788934 254.173648 \r\n\" style=\"fill:none;stroke:#cc9016;stroke-opacity:0.6;\"/>\r\n    <path clip-path=\"url(#p342c6b1659)\" d=\"M 136.998088 254.9708 \r\nL 209.471052 377.925662 \r\n\" style=\"fill:none;stroke:#cc9016;stroke-opacity:0.6;\"/>\r\n    <path clip-path=\"url(#p342c6b1659)\" d=\"M 298.629187 296.775384 \r\nL 209.471052 377.925662 \r\n\" style=\"fill:none;stroke:#cc9016;stroke-opacity:0.6;\"/>\r\n    <path clip-path=\"url(#p342c6b1659)\" d=\"M 198.450717 285.756845 \r\nL 209.471052 377.925662 \r\n\" style=\"fill:none;stroke:#cc9016;stroke-opacity:0.6;\"/>\r\n    <path clip-path=\"url(#p342c6b1659)\" d=\"M 209.471052 377.925662 \r\nL 194.967421 500.079162 \r\n\" style=\"fill:none;stroke:#cc9016;stroke-opacity:0.6;\"/>\r\n    <path clip-path=\"url(#p342c6b1659)\" d=\"M 209.471052 377.925662 \r\nL 40.172727 449.799373 \r\n\" style=\"fill:none;stroke:#cc9016;stroke-opacity:0.6;\"/>\r\n    <path clip-path=\"url(#p342c6b1659)\" d=\"M 209.471052 377.925662 \r\nL 443.13509 359.379686 \r\n\" style=\"fill:none;stroke:#cc9016;stroke-opacity:0.6;\"/>\r\n    <path clip-path=\"url(#p342c6b1659)\" d=\"M 566.788934 254.173648 \r\nL 443.13509 359.379686 \r\n\" style=\"fill:none;stroke:#cc9016;stroke-opacity:0.6;\"/>\r\n    <path clip-path=\"url(#p342c6b1659)\" d=\"M 566.788934 254.173648 \r\nL 477.012694 193.47325 \r\n\" style=\"fill:none;stroke:#cc9016;stroke-opacity:0.6;\"/>\r\n   </g>\r\n   <g id=\"LineCollection_2\">\r\n    <path clip-path=\"url(#p342c6b1659)\" d=\"M 312.872754 189.792509 \r\nL 553.487123 138.280585 \r\n\" style=\"fill:none;stroke:#cc9016;stroke-opacity:0.6;stroke-width:0.6;\"/>\r\n    <path clip-path=\"url(#p342c6b1659)\" d=\"M 312.872754 189.792509 \r\nL 136.998088 254.9708 \r\n\" style=\"fill:none;stroke:#cc9016;stroke-opacity:0.6;stroke-width:2.4;\"/>\r\n    <path clip-path=\"url(#p342c6b1659)\" d=\"M 312.872754 189.792509 \r\nL 298.629187 296.775384 \r\n\" style=\"fill:none;stroke:#cc9016;stroke-opacity:0.6;stroke-width:0.6;\"/>\r\n    <path clip-path=\"url(#p342c6b1659)\" d=\"M 312.872754 189.792509 \r\nL 198.450717 285.756845 \r\n\" style=\"fill:none;stroke:#cc9016;stroke-opacity:0.6;stroke-width:2;\"/>\r\n    <path clip-path=\"url(#p342c6b1659)\" d=\"M 312.872754 189.792509 \r\nL 477.012694 193.47325 \r\n\" style=\"fill:none;stroke:#cc9016;stroke-opacity:0.6;stroke-width:17.2;\"/>\r\n    <path clip-path=\"url(#p342c6b1659)\" d=\"M 312.872754 189.792509 \r\nL 226.862957 78.014135 \r\n\" style=\"fill:none;stroke:#cc9016;stroke-opacity:0.6;stroke-width:1.2;\"/>\r\n    <path clip-path=\"url(#p342c6b1659)\" d=\"M 553.487123 138.280585 \r\nL 699.627273 55.315526 \r\n\" style=\"fill:none;stroke:#cc9016;stroke-opacity:0.6;stroke-width:1.2;\"/>\r\n    <path clip-path=\"url(#p342c6b1659)\" d=\"M 553.487123 138.280585 \r\nL 566.788934 254.173648 \r\n\" style=\"fill:none;stroke:#cc9016;stroke-opacity:0.6;\"/>\r\n    <path clip-path=\"url(#p342c6b1659)\" d=\"M 136.998088 254.9708 \r\nL 209.471052 377.925662 \r\n\" style=\"fill:none;stroke:#cc9016;stroke-opacity:0.6;stroke-width:4.5;\"/>\r\n    <path clip-path=\"url(#p342c6b1659)\" d=\"M 298.629187 296.775384 \r\nL 209.471052 377.925662 \r\n\" style=\"fill:none;stroke:#cc9016;stroke-opacity:0.6;stroke-width:4.1;\"/>\r\n    <path clip-path=\"url(#p342c6b1659)\" d=\"M 198.450717 285.756845 \r\nL 209.471052 377.925662 \r\n\" style=\"fill:none;stroke:#cc9016;stroke-opacity:0.6;stroke-width:4.7;\"/>\r\n    <path clip-path=\"url(#p342c6b1659)\" d=\"M 209.471052 377.925662 \r\nL 194.967421 500.079162 \r\n\" style=\"fill:none;stroke:#cc9016;stroke-opacity:0.6;stroke-width:1.1;\"/>\r\n    <path clip-path=\"url(#p342c6b1659)\" d=\"M 209.471052 377.925662 \r\nL 40.172727 449.799373 \r\n\" style=\"fill:none;stroke:#cc9016;stroke-opacity:0.6;stroke-width:4.4;\"/>\r\n    <path clip-path=\"url(#p342c6b1659)\" d=\"M 209.471052 377.925662 \r\nL 443.13509 359.379686 \r\n\" style=\"fill:none;stroke:#cc9016;stroke-opacity:0.6;stroke-width:2;\"/>\r\n    <path clip-path=\"url(#p342c6b1659)\" d=\"M 566.788934 254.173648 \r\nL 443.13509 359.379686 \r\n\" style=\"fill:none;stroke:#cc9016;stroke-opacity:0.6;stroke-width:4.1;\"/>\r\n    <path clip-path=\"url(#p342c6b1659)\" d=\"M 566.788934 254.173648 \r\nL 477.012694 193.47325 \r\n\" style=\"fill:none;stroke:#cc9016;stroke-opacity:0.6;stroke-width:0.5;\"/>\r\n   </g>\r\n   <g id=\"text_1\">\r\n    <g id=\"patch_2\">\r\n     <path clip-path=\"url(#p342c6b1659)\" d=\"M 431.710217 172.367884 \r\nL 437.931741 171.035949 \r\nQ 440.865269 170.407925 440.237244 167.474397 \r\nL 438.211212 158.010714 \r\nQ 437.583187 155.077186 434.64966 155.70521 \r\nL 428.428136 157.037145 \r\nQ 425.494608 157.665169 426.122633 160.598697 \r\nL 428.148665 170.06238 \r\nQ 428.776689 172.995908 431.710217 172.367884 \r\nz\r\n\" style=\"fill:#ffffff;stroke:#ffffff;stroke-linejoin:miter;\"/>\r\n    </g>\r\n    <g clip-path=\"url(#p342c6b1659)\">\r\n     <!-- 6 -->\r\n     <g transform=\"translate(430.646828 167.400749)rotate(-12.083761)scale(0.1 -0.1)\">\r\n      <defs>\r\n       <path d=\"M 33.015625 40.375 \r\nQ 26.375 40.375 22.484375 35.828125 \r\nQ 18.609375 31.296875 18.609375 23.390625 \r\nQ 18.609375 15.53125 22.484375 10.953125 \r\nQ 26.375 6.390625 33.015625 6.390625 \r\nQ 39.65625 6.390625 43.53125 10.953125 \r\nQ 47.40625 15.53125 47.40625 23.390625 \r\nQ 47.40625 31.296875 43.53125 35.828125 \r\nQ 39.65625 40.375 33.015625 40.375 \r\nz\r\nM 52.59375 71.296875 \r\nL 52.59375 62.3125 \r\nQ 48.875 64.0625 45.09375 64.984375 \r\nQ 41.3125 65.921875 37.59375 65.921875 \r\nQ 27.828125 65.921875 22.671875 59.328125 \r\nQ 17.53125 52.734375 16.796875 39.40625 \r\nQ 19.671875 43.65625 24.015625 45.921875 \r\nQ 28.375 48.1875 33.59375 48.1875 \r\nQ 44.578125 48.1875 50.953125 41.515625 \r\nQ 57.328125 34.859375 57.328125 23.390625 \r\nQ 57.328125 12.15625 50.6875 5.359375 \r\nQ 44.046875 -1.421875 33.015625 -1.421875 \r\nQ 20.359375 -1.421875 13.671875 8.265625 \r\nQ 6.984375 17.96875 6.984375 36.375 \r\nQ 6.984375 53.65625 15.1875 63.9375 \r\nQ 23.390625 74.21875 37.203125 74.21875 \r\nQ 40.921875 74.21875 44.703125 73.484375 \r\nQ 48.484375 72.75 52.59375 71.296875 \r\nz\r\n\" id=\"DejaVuSans-54\"/>\r\n      </defs>\r\n      <use xlink:href=\"#DejaVuSans-54\"/>\r\n     </g>\r\n    </g>\r\n   </g>\r\n   <g id=\"text_2\">\r\n    <g id=\"patch_3\">\r\n     <path clip-path=\"url(#p342c6b1659)\" d=\"M 221.693503 231.943154 \r\nL 233.625483 227.521221 \r\nQ 236.438523 226.478722 235.396024 223.665682 \r\nL 232.032879 214.590697 \r\nQ 230.99038 211.777656 228.177339 212.820155 \r\nL 216.24536 217.242088 \r\nQ 213.43232 218.284587 214.474819 221.097628 \r\nL 217.837964 230.172613 \r\nQ 218.880463 232.985653 221.693503 231.943154 \r\nz\r\n\" style=\"fill:#ffffff;stroke:#ffffff;stroke-linejoin:miter;\"/>\r\n    </g>\r\n    <g clip-path=\"url(#p342c6b1659)\">\r\n     <!-- 24 -->\r\n     <g transform=\"translate(219.928314 227.180032)rotate(-20.334459)scale(0.1 -0.1)\">\r\n      <defs>\r\n       <path d=\"M 19.1875 8.296875 \r\nL 53.609375 8.296875 \r\nL 53.609375 0 \r\nL 7.328125 0 \r\nL 7.328125 8.296875 \r\nQ 12.9375 14.109375 22.625 23.890625 \r\nQ 32.328125 33.6875 34.8125 36.53125 \r\nQ 39.546875 41.84375 41.421875 45.53125 \r\nQ 43.3125 49.21875 43.3125 52.78125 \r\nQ 43.3125 58.59375 39.234375 62.25 \r\nQ 35.15625 65.921875 28.609375 65.921875 \r\nQ 23.96875 65.921875 18.8125 64.3125 \r\nQ 13.671875 62.703125 7.8125 59.421875 \r\nL 7.8125 69.390625 \r\nQ 13.765625 71.78125 18.9375 73 \r\nQ 24.125 74.21875 28.421875 74.21875 \r\nQ 39.75 74.21875 46.484375 68.546875 \r\nQ 53.21875 62.890625 53.21875 53.421875 \r\nQ 53.21875 48.921875 51.53125 44.890625 \r\nQ 49.859375 40.875 45.40625 35.40625 \r\nQ 44.1875 33.984375 37.640625 27.21875 \r\nQ 31.109375 20.453125 19.1875 8.296875 \r\nz\r\n\" id=\"DejaVuSans-50\"/>\r\n       <path d=\"M 37.796875 64.3125 \r\nL 12.890625 25.390625 \r\nL 37.796875 25.390625 \r\nz\r\nM 35.203125 72.90625 \r\nL 47.609375 72.90625 \r\nL 47.609375 25.390625 \r\nL 58.015625 25.390625 \r\nL 58.015625 17.1875 \r\nL 47.609375 17.1875 \r\nL 47.609375 0 \r\nL 37.796875 0 \r\nL 37.796875 17.1875 \r\nL 4.890625 17.1875 \r\nL 4.890625 26.703125 \r\nz\r\n\" id=\"DejaVuSans-52\"/>\r\n      </defs>\r\n      <use xlink:href=\"#DejaVuSans-50\"/>\r\n      <use x=\"63.623047\" xlink:href=\"#DejaVuSans-52\"/>\r\n     </g>\r\n    </g>\r\n   </g>\r\n   <g id=\"text_3\">\r\n    <g id=\"patch_4\">\r\n     <path clip-path=\"url(#p342c6b1659)\" d=\"M 313.101623 247.471925 \r\nL 313.941309 241.165077 \r\nQ 314.337232 238.191317 311.363472 237.795395 \r\nL 301.77 236.518132 \r\nQ 298.796241 236.122209 298.400318 239.095968 \r\nL 297.560632 245.402817 \r\nQ 297.16471 248.376576 300.138469 248.772499 \r\nL 309.731941 250.049762 \r\nQ 312.7057 250.445684 313.101623 247.471925 \r\nz\r\n\" style=\"fill:#ffffff;stroke:#ffffff;stroke-linejoin:miter;\"/>\r\n    </g>\r\n    <g clip-path=\"url(#p342c6b1659)\">\r\n     <!-- 6 -->\r\n     <g transform=\"translate(308.066367 246.801537)rotate(-82.41631)scale(0.1 -0.1)\">\r\n      <use xlink:href=\"#DejaVuSans-54\"/>\r\n     </g>\r\n    </g>\r\n   </g>\r\n   <g id=\"text_4\">\r\n    <g id=\"patch_5\">\r\n     <path clip-path=\"url(#p342c6b1659)\" d=\"M 255.824188 247.869523 \r\nL 265.574082 239.692409 \r\nQ 267.872682 237.764602 265.944875 235.466002 \r\nL 259.725689 228.050624 \r\nQ 257.797882 225.752024 255.499283 227.679831 \r\nL 245.749389 235.856945 \r\nQ 243.450789 237.784752 245.378596 240.083352 \r\nL 251.597782 247.49873 \r\nQ 253.525588 249.79733 255.824188 247.869523 \r\nz\r\n\" style=\"fill:#ffffff;stroke:#ffffff;stroke-linejoin:miter;\"/>\r\n    </g>\r\n    <g clip-path=\"url(#p342c6b1659)\">\r\n     <!-- 20 -->\r\n     <g transform=\"translate(252.559969 243.977467)rotate(-39.986141)scale(0.1 -0.1)\">\r\n      <defs>\r\n       <path d=\"M 31.78125 66.40625 \r\nQ 24.171875 66.40625 20.328125 58.90625 \r\nQ 16.5 51.421875 16.5 36.375 \r\nQ 16.5 21.390625 20.328125 13.890625 \r\nQ 24.171875 6.390625 31.78125 6.390625 \r\nQ 39.453125 6.390625 43.28125 13.890625 \r\nQ 47.125 21.390625 47.125 36.375 \r\nQ 47.125 51.421875 43.28125 58.90625 \r\nQ 39.453125 66.40625 31.78125 66.40625 \r\nz\r\nM 31.78125 74.21875 \r\nQ 44.046875 74.21875 50.515625 64.515625 \r\nQ 56.984375 54.828125 56.984375 36.375 \r\nQ 56.984375 17.96875 50.515625 8.265625 \r\nQ 44.046875 -1.421875 31.78125 -1.421875 \r\nQ 19.53125 -1.421875 13.0625 8.265625 \r\nQ 6.59375 17.96875 6.59375 36.375 \r\nQ 6.59375 54.828125 13.0625 64.515625 \r\nQ 19.53125 74.21875 31.78125 74.21875 \r\nz\r\n\" id=\"DejaVuSans-48\"/>\r\n      </defs>\r\n      <use xlink:href=\"#DejaVuSans-50\"/>\r\n      <use x=\"63.623047\" xlink:href=\"#DejaVuSans-48\"/>\r\n     </g>\r\n    </g>\r\n   </g>\r\n   <g id=\"text_5\">\r\n    <g id=\"patch_6\">\r\n     <path clip-path=\"url(#p342c6b1659)\" d=\"M 385.225631 199.256013 \r\nL 404.308333 199.683931 \r\nQ 407.307579 199.751187 407.374836 196.751941 \r\nL 407.591807 187.076249 \r\nQ 407.659064 184.077003 404.659818 184.009746 \r\nL 385.577115 183.581828 \r\nQ 382.577869 183.514572 382.510613 186.513818 \r\nL 382.293641 196.18951 \r\nQ 382.226385 199.188756 385.225631 199.256013 \r\nz\r\n\" style=\"fill:#ffffff;stroke:#ffffff;stroke-linejoin:miter;\"/>\r\n    </g>\r\n    <g clip-path=\"url(#p342c6b1659)\">\r\n     <!-- 172 -->\r\n     <g transform=\"translate(385.339511 194.177602)rotate(-358.715392)scale(0.1 -0.1)\">\r\n      <defs>\r\n       <path d=\"M 12.40625 8.296875 \r\nL 28.515625 8.296875 \r\nL 28.515625 63.921875 \r\nL 10.984375 60.40625 \r\nL 10.984375 69.390625 \r\nL 28.421875 72.90625 \r\nL 38.28125 72.90625 \r\nL 38.28125 8.296875 \r\nL 54.390625 8.296875 \r\nL 54.390625 0 \r\nL 12.40625 0 \r\nz\r\n\" id=\"DejaVuSans-49\"/>\r\n       <path d=\"M 8.203125 72.90625 \r\nL 55.078125 72.90625 \r\nL 55.078125 68.703125 \r\nL 28.609375 0 \r\nL 18.3125 0 \r\nL 43.21875 64.59375 \r\nL 8.203125 64.59375 \r\nz\r\n\" id=\"DejaVuSans-55\"/>\r\n      </defs>\r\n      <use xlink:href=\"#DejaVuSans-49\"/>\r\n      <use x=\"63.623047\" xlink:href=\"#DejaVuSans-55\"/>\r\n      <use x=\"127.246094\" xlink:href=\"#DejaVuSans-50\"/>\r\n     </g>\r\n    </g>\r\n   </g>\r\n   <g id=\"text_6\">\r\n    <g id=\"patch_7\">\r\n     <path clip-path=\"url(#p342c6b1659)\" d=\"M 259.775103 133.641312 \r\nL 267.535171 143.7263 \r\nQ 269.364656 146.1039 271.742256 144.274414 \r\nL 279.412494 138.372418 \r\nQ 281.790094 136.542933 279.960609 134.165332 \r\nL 272.200541 124.080345 \r\nQ 270.371055 121.702744 267.993455 123.53223 \r\nL 260.323218 129.434226 \r\nQ 257.945618 131.263712 259.775103 133.641312 \r\nz\r\n\" style=\"fill:#ffffff;stroke:#ffffff;stroke-linejoin:miter;\"/>\r\n    </g>\r\n    <g clip-path=\"url(#p342c6b1659)\">\r\n     <!-- 12 -->\r\n     <g transform=\"translate(263.800925 130.543574)rotate(-307.577103)scale(0.1 -0.1)\">\r\n      <use xlink:href=\"#DejaVuSans-49\"/>\r\n      <use x=\"63.623047\" xlink:href=\"#DejaVuSans-50\"/>\r\n     </g>\r\n    </g>\r\n   </g>\r\n   <g id=\"text_7\">\r\n    <g id=\"patch_8\">\r\n     <path clip-path=\"url(#p342c6b1659)\" d=\"M 624.89429 106.75632 \r\nL 635.960372 100.474007 \r\nQ 638.569271 98.992912 637.088176 96.384013 \r\nL 632.3101 87.967594 \r\nQ 630.829005 85.358695 628.220106 86.83979 \r\nL 617.154024 93.122103 \r\nQ 614.545124 94.603198 616.026219 97.212098 \r\nL 620.804295 105.628516 \r\nQ 622.28539 108.237416 624.89429 106.75632 \r\nz\r\n\" style=\"fill:#ffffff;stroke:#ffffff;stroke-linejoin:miter;\"/>\r\n    </g>\r\n    <g clip-path=\"url(#p342c6b1659)\">\r\n     <!-- 12 -->\r\n     <g transform=\"translate(622.386456 102.338856)rotate(-29.583962)scale(0.1 -0.1)\">\r\n      <use xlink:href=\"#DejaVuSans-49\"/>\r\n      <use x=\"63.623047\" xlink:href=\"#DejaVuSans-50\"/>\r\n     </g>\r\n    </g>\r\n   </g>\r\n   <g id=\"text_8\">\r\n    <g id=\"patch_9\">\r\n     <path clip-path=\"url(#p342c6b1659)\" d=\"M 551.624593 190.799988 \r\nL 553.075599 203.44199 \r\nQ 553.417683 206.422422 556.398115 206.080339 \r\nL 566.013115 204.976762 \r\nQ 568.993548 204.634678 568.651464 201.654245 \r\nL 567.200458 189.012243 \r\nQ 566.858374 186.031811 563.877941 186.373895 \r\nL 554.262942 187.477472 \r\nQ 551.282509 187.819556 551.624593 190.799988 \r\nz\r\n\" style=\"fill:#ffffff;stroke:#ffffff;stroke-linejoin:miter;\"/>\r\n    </g>\r\n    <g clip-path=\"url(#p342c6b1659)\">\r\n     <!-- 10 -->\r\n     <g transform=\"translate(556.671148 190.220762)rotate(-276.547563)scale(0.1 -0.1)\">\r\n      <use xlink:href=\"#DejaVuSans-49\"/>\r\n      <use x=\"63.623047\" xlink:href=\"#DejaVuSans-48\"/>\r\n     </g>\r\n    </g>\r\n   </g>\r\n   <g id=\"text_9\">\r\n    <g id=\"patch_10\">\r\n     <path clip-path=\"url(#p342c6b1659)\" d=\"M 163.250566 314.947574 \r\nL 169.712103 325.909972 \r\nQ 171.235452 328.494427 173.819907 326.971078 \r\nL 182.157468 322.056692 \r\nQ 184.741923 320.533343 183.218574 317.948888 \r\nL 176.757037 306.986491 \r\nQ 175.233688 304.402035 172.649233 305.925384 \r\nL 164.311673 310.83977 \r\nQ 161.727217 312.363119 163.250566 314.947574 \r\nz\r\n\" style=\"fill:#ffffff;stroke:#ffffff;stroke-linejoin:miter;\"/>\r\n    </g>\r\n    <g clip-path=\"url(#p342c6b1659)\">\r\n     <!-- 45 -->\r\n     <g transform=\"translate(167.626641 312.368196)rotate(-300.516262)scale(0.1 -0.1)\">\r\n      <defs>\r\n       <path d=\"M 10.796875 72.90625 \r\nL 49.515625 72.90625 \r\nL 49.515625 64.59375 \r\nL 19.828125 64.59375 \r\nL 19.828125 46.734375 \r\nQ 21.96875 47.46875 24.109375 47.828125 \r\nQ 26.265625 48.1875 28.421875 48.1875 \r\nQ 40.625 48.1875 47.75 41.5 \r\nQ 54.890625 34.8125 54.890625 23.390625 \r\nQ 54.890625 11.625 47.5625 5.09375 \r\nQ 40.234375 -1.421875 26.90625 -1.421875 \r\nQ 22.3125 -1.421875 17.546875 -0.640625 \r\nQ 12.796875 0.140625 7.71875 1.703125 \r\nL 7.71875 11.625 \r\nQ 12.109375 9.234375 16.796875 8.0625 \r\nQ 21.484375 6.890625 26.703125 6.890625 \r\nQ 35.15625 6.890625 40.078125 11.328125 \r\nQ 45.015625 15.765625 45.015625 23.390625 \r\nQ 45.015625 31 40.078125 35.4375 \r\nQ 35.15625 39.890625 26.703125 39.890625 \r\nQ 22.75 39.890625 18.8125 39.015625 \r\nQ 14.890625 38.140625 10.796875 36.28125 \r\nz\r\n\" id=\"DejaVuSans-53\"/>\r\n      </defs>\r\n      <use xlink:href=\"#DejaVuSans-52\"/>\r\n      <use x=\"63.623047\" xlink:href=\"#DejaVuSans-53\"/>\r\n     </g>\r\n    </g>\r\n   </g>\r\n   <g id=\"text_10\">\r\n    <g id=\"patch_11\">\r\n     <path clip-path=\"url(#p342c6b1659)\" d=\"M 254.621402 347.4305 \r\nL 264.03202 338.86511 \r\nQ 266.250633 336.845765 264.231287 334.627152 \r\nL 257.716795 327.469813 \r\nQ 255.697449 325.2512 253.478836 327.270546 \r\nL 244.068219 335.835936 \r\nQ 241.849606 337.855281 243.868951 340.073894 \r\nL 250.383444 347.231233 \r\nQ 252.402789 349.449846 254.621402 347.4305 \r\nz\r\n\" style=\"fill:#ffffff;stroke:#ffffff;stroke-linejoin:miter;\"/>\r\n    </g>\r\n    <g clip-path=\"url(#p342c6b1659)\">\r\n     <!-- 41 -->\r\n     <g transform=\"translate(251.202188 343.67388)rotate(-42.30795)scale(0.1 -0.1)\">\r\n      <use xlink:href=\"#DejaVuSans-52\"/>\r\n      <use x=\"63.623047\" xlink:href=\"#DejaVuSans-49\"/>\r\n     </g>\r\n    </g>\r\n   </g>\r\n   <g id=\"text_11\">\r\n    <g id=\"patch_12\">\r\n     <path clip-path=\"url(#p342c6b1659)\" d=\"M 195.421899 326.454415 \r\nL 196.932626 339.089419 \r\nQ 197.28879 342.068202 200.267573 341.712038 \r\nL 209.877251 340.563039 \r\nQ 212.856033 340.206875 212.49987 337.228092 \r\nL 210.989142 324.593088 \r\nQ 210.632978 321.614305 207.654196 321.970469 \r\nL 198.044518 323.119468 \r\nQ 195.065735 323.475632 195.421899 326.454415 \r\nz\r\n\" style=\"fill:#ffffff;stroke:#ffffff;stroke-linejoin:miter;\"/>\r\n    </g>\r\n    <g clip-path=\"url(#p342c6b1659)\">\r\n     <!-- 47 -->\r\n     <g transform=\"translate(200.465661 325.851348)rotate(-276.818307)scale(0.1 -0.1)\">\r\n      <use xlink:href=\"#DejaVuSans-52\"/>\r\n      <use x=\"63.623047\" xlink:href=\"#DejaVuSans-55\"/>\r\n     </g>\r\n    </g>\r\n   </g>\r\n   <g id=\"text_12\">\r\n    <g id=\"patch_13\">\r\n     <path clip-path=\"url(#p342c6b1659)\" d=\"M 209.253452 446.244795 \r\nL 210.753789 433.608553 \r\nQ 211.107503 430.629478 208.128428 430.275764 \r\nL 198.517809 429.134668 \r\nQ 195.538734 428.780954 195.18502 431.760029 \r\nL 193.684683 444.396271 \r\nQ 193.330969 447.375346 196.310044 447.72906 \r\nL 205.920663 448.870156 \r\nQ 208.899738 449.22387 209.253452 446.244795 \r\nz\r\n\" style=\"fill:#ffffff;stroke:#ffffff;stroke-linejoin:miter;\"/>\r\n    </g>\r\n    <g clip-path=\"url(#p342c6b1659)\">\r\n     <!-- 11 -->\r\n     <g transform=\"translate(204.209196 445.645876)rotate(-83.22881)scale(0.1 -0.1)\">\r\n      <use xlink:href=\"#DejaVuSans-49\"/>\r\n      <use x=\"63.623047\" xlink:href=\"#DejaVuSans-49\"/>\r\n     </g>\r\n    </g>\r\n   </g>\r\n   <g id=\"text_13\">\r\n    <g id=\"patch_14\">\r\n     <path clip-path=\"url(#p342c6b1659)\" d=\"M 122.028669 423.564591 \r\nL 133.741824 418.591902 \r\nQ 136.503275 417.419559 135.330932 414.658108 \r\nL 131.548904 405.749552 \r\nQ 130.376561 402.988101 127.61511 404.160444 \r\nL 115.901955 409.133133 \r\nQ 113.140504 410.305476 114.312847 413.066927 \r\nL 118.094875 421.975483 \r\nQ 119.267218 424.736934 122.028669 423.564591 \r\nz\r\n\" style=\"fill:#ffffff;stroke:#ffffff;stroke-linejoin:miter;\"/>\r\n    </g>\r\n    <g clip-path=\"url(#p342c6b1659)\">\r\n     <!-- 44 -->\r\n     <g transform=\"translate(120.043624 418.888822)rotate(-23.003107)scale(0.1 -0.1)\">\r\n      <use xlink:href=\"#DejaVuSans-52\"/>\r\n      <use x=\"63.623047\" xlink:href=\"#DejaVuSans-52\"/>\r\n     </g>\r\n    </g>\r\n   </g>\r\n   <g id=\"text_14\">\r\n    <g id=\"patch_15\">\r\n     <path clip-path=\"url(#p342c6b1659)\" d=\"M 320.580755 376.970571 \r\nL 333.265862 375.963751 \r\nQ 336.256457 375.726387 336.019093 372.735792 \r\nL 335.253345 363.088008 \r\nQ 335.015981 360.097413 332.025386 360.334777 \r\nL 319.340279 361.341598 \r\nQ 316.349684 361.578962 316.587049 364.569557 \r\nL 317.352796 374.217341 \r\nQ 317.59016 377.207936 320.580755 376.970571 \r\nz\r\n\" style=\"fill:#ffffff;stroke:#ffffff;stroke-linejoin:miter;\"/>\r\n    </g>\r\n    <g clip-path=\"url(#p342c6b1659)\">\r\n     <!-- 20 -->\r\n     <g transform=\"translate(320.178843 371.906809)rotate(-4.538068)scale(0.1 -0.1)\">\r\n      <use xlink:href=\"#DejaVuSans-50\"/>\r\n      <use x=\"63.623047\" xlink:href=\"#DejaVuSans-48\"/>\r\n     </g>\r\n    </g>\r\n   </g>\r\n   <g id=\"text_15\">\r\n    <g id=\"patch_16\">\r\n     <path clip-path=\"url(#p342c6b1659)\" d=\"M 505.195879 316.870111 \r\nL 514.887678 308.624224 \r\nQ 517.172581 306.680203 515.228561 304.395299 \r\nL 508.957069 297.024106 \r\nQ 507.013048 294.739203 504.728145 296.683223 \r\nL 495.036346 304.929111 \r\nQ 492.751443 306.873132 494.695463 309.158035 \r\nL 500.966955 316.529229 \r\nQ 502.910976 318.814132 505.195879 316.870111 \r\nz\r\n\" style=\"fill:#ffffff;stroke:#ffffff;stroke-linejoin:miter;\"/>\r\n    </g>\r\n    <g clip-path=\"url(#p342c6b1659)\">\r\n     <!-- 41 -->\r\n     <g transform=\"translate(501.904207 313.001246)rotate(-40.391499)scale(0.1 -0.1)\">\r\n      <use xlink:href=\"#DejaVuSans-52\"/>\r\n      <use x=\"63.623047\" xlink:href=\"#DejaVuSans-49\"/>\r\n     </g>\r\n    </g>\r\n   </g>\r\n   <g id=\"text_16\">\r\n    <g id=\"patch_17\">\r\n     <path clip-path=\"url(#p342c6b1659)\" d=\"M 514.874639 228.535573 \r\nL 520.145425 232.099309 \r\nQ 522.630668 233.779656 524.311016 231.294413 \r\nL 529.731886 223.276915 \r\nQ 531.412233 220.791672 528.92699 219.111325 \r\nL 523.656203 215.547589 \r\nQ 521.17096 213.867242 519.490613 216.352485 \r\nL 514.069743 224.369983 \r\nQ 512.389396 226.855226 514.874639 228.535573 \r\nz\r\n\" style=\"fill:#ffffff;stroke:#ffffff;stroke-linejoin:miter;\"/>\r\n    </g>\r\n    <g clip-path=\"url(#p342c6b1659)\">\r\n     <!-- 5 -->\r\n     <g transform=\"translate(517.719852 224.327487)rotate(-325.936199)scale(0.1 -0.1)\">\r\n      <use xlink:href=\"#DejaVuSans-53\"/>\r\n     </g>\r\n    </g>\r\n   </g>\r\n   <g id=\"PathCollection_1\">\r\n    <defs>\r\n     <path d=\"M 0 8.660254 \r\nC 2.296726 8.660254 4.499694 7.747755 6.123724 6.123724 \r\nC 7.747755 4.499694 8.660254 2.296726 8.660254 0 \r\nC 8.660254 -2.296726 7.747755 -4.499694 6.123724 -6.123724 \r\nC 4.499694 -7.747755 2.296726 -8.660254 0 -8.660254 \r\nC -2.296726 -8.660254 -4.499694 -7.747755 -6.123724 -6.123724 \r\nC -7.747755 -4.499694 -8.660254 -2.296726 -8.660254 0 \r\nC -8.660254 2.296726 -7.747755 4.499694 -6.123724 6.123724 \r\nC -4.499694 7.747755 -2.296726 8.660254 0 8.660254 \r\nz\r\n\" id=\"m2cb70a9d88\" style=\"stroke:#d51e39;stroke-opacity:0.6;\"/>\r\n    </defs>\r\n    <g clip-path=\"url(#p342c6b1659)\">\r\n     <use style=\"fill:#d51e39;fill-opacity:0.6;stroke:#d51e39;stroke-opacity:0.6;\" x=\"312.872754\" xlink:href=\"#m2cb70a9d88\" y=\"189.792509\"/>\r\n     <use style=\"fill:#d51e39;fill-opacity:0.6;stroke:#d51e39;stroke-opacity:0.6;\" x=\"553.487123\" xlink:href=\"#m2cb70a9d88\" y=\"138.280585\"/>\r\n     <use style=\"fill:#d51e39;fill-opacity:0.6;stroke:#d51e39;stroke-opacity:0.6;\" x=\"136.998088\" xlink:href=\"#m2cb70a9d88\" y=\"254.9708\"/>\r\n     <use style=\"fill:#d51e39;fill-opacity:0.6;stroke:#d51e39;stroke-opacity:0.6;\" x=\"699.627273\" xlink:href=\"#m2cb70a9d88\" y=\"55.315526\"/>\r\n     <use style=\"fill:#d51e39;fill-opacity:0.6;stroke:#d51e39;stroke-opacity:0.6;\" x=\"298.629187\" xlink:href=\"#m2cb70a9d88\" y=\"296.775384\"/>\r\n     <use style=\"fill:#d51e39;fill-opacity:0.6;stroke:#d51e39;stroke-opacity:0.6;\" x=\"198.450717\" xlink:href=\"#m2cb70a9d88\" y=\"285.756845\"/>\r\n     <use style=\"fill:#d51e39;fill-opacity:0.6;stroke:#d51e39;stroke-opacity:0.6;\" x=\"209.471052\" xlink:href=\"#m2cb70a9d88\" y=\"377.925662\"/>\r\n     <use style=\"fill:#d51e39;fill-opacity:0.6;stroke:#d51e39;stroke-opacity:0.6;\" x=\"194.967421\" xlink:href=\"#m2cb70a9d88\" y=\"500.079162\"/>\r\n     <use style=\"fill:#d51e39;fill-opacity:0.6;stroke:#d51e39;stroke-opacity:0.6;\" x=\"566.788934\" xlink:href=\"#m2cb70a9d88\" y=\"254.173648\"/>\r\n     <use style=\"fill:#d51e39;fill-opacity:0.6;stroke:#d51e39;stroke-opacity:0.6;\" x=\"443.13509\" xlink:href=\"#m2cb70a9d88\" y=\"359.379686\"/>\r\n     <use style=\"fill:#d51e39;fill-opacity:0.6;stroke:#d51e39;stroke-opacity:0.6;\" x=\"477.012694\" xlink:href=\"#m2cb70a9d88\" y=\"193.47325\"/>\r\n     <use style=\"fill:#d51e39;fill-opacity:0.6;stroke:#d51e39;stroke-opacity:0.6;\" x=\"226.862957\" xlink:href=\"#m2cb70a9d88\" y=\"78.014135\"/>\r\n     <use style=\"fill:#d51e39;fill-opacity:0.6;stroke:#d51e39;stroke-opacity:0.6;\" x=\"40.172727\" xlink:href=\"#m2cb70a9d88\" y=\"449.799373\"/>\r\n    </g>\r\n   </g>\r\n   <g id=\"text_17\">\r\n    <g clip-path=\"url(#p342c6b1659)\">\r\n     <!-- Grand Est -->\r\n     <g transform=\"translate(285.757754 192.827822)scale(0.11 -0.11)\">\r\n      <defs>\r\n       <path d=\"M 59.515625 10.40625 \r\nL 59.515625 29.984375 \r\nL 43.40625 29.984375 \r\nL 43.40625 38.09375 \r\nL 69.28125 38.09375 \r\nL 69.28125 6.78125 \r\nQ 63.578125 2.734375 56.6875 0.65625 \r\nQ 49.8125 -1.421875 42 -1.421875 \r\nQ 24.90625 -1.421875 15.25 8.5625 \r\nQ 5.609375 18.5625 5.609375 36.375 \r\nQ 5.609375 54.25 15.25 64.234375 \r\nQ 24.90625 74.21875 42 74.21875 \r\nQ 49.125 74.21875 55.546875 72.453125 \r\nQ 61.96875 70.703125 67.390625 67.28125 \r\nL 67.390625 56.78125 \r\nQ 61.921875 61.421875 55.765625 63.765625 \r\nQ 49.609375 66.109375 42.828125 66.109375 \r\nQ 29.4375 66.109375 22.71875 58.640625 \r\nQ 16.015625 51.171875 16.015625 36.375 \r\nQ 16.015625 21.625 22.71875 14.15625 \r\nQ 29.4375 6.6875 42.828125 6.6875 \r\nQ 48.046875 6.6875 52.140625 7.59375 \r\nQ 56.25 8.5 59.515625 10.40625 \r\nz\r\n\" id=\"DejaVuSans-71\"/>\r\n       <path d=\"M 41.109375 46.296875 \r\nQ 39.59375 47.171875 37.8125 47.578125 \r\nQ 36.03125 48 33.890625 48 \r\nQ 26.265625 48 22.1875 43.046875 \r\nQ 18.109375 38.09375 18.109375 28.8125 \r\nL 18.109375 0 \r\nL 9.078125 0 \r\nL 9.078125 54.6875 \r\nL 18.109375 54.6875 \r\nL 18.109375 46.1875 \r\nQ 20.953125 51.171875 25.484375 53.578125 \r\nQ 30.03125 56 36.53125 56 \r\nQ 37.453125 56 38.578125 55.875 \r\nQ 39.703125 55.765625 41.0625 55.515625 \r\nz\r\n\" id=\"DejaVuSans-114\"/>\r\n       <path d=\"M 34.28125 27.484375 \r\nQ 23.390625 27.484375 19.1875 25 \r\nQ 14.984375 22.515625 14.984375 16.5 \r\nQ 14.984375 11.71875 18.140625 8.90625 \r\nQ 21.296875 6.109375 26.703125 6.109375 \r\nQ 34.1875 6.109375 38.703125 11.40625 \r\nQ 43.21875 16.703125 43.21875 25.484375 \r\nL 43.21875 27.484375 \r\nz\r\nM 52.203125 31.203125 \r\nL 52.203125 0 \r\nL 43.21875 0 \r\nL 43.21875 8.296875 \r\nQ 40.140625 3.328125 35.546875 0.953125 \r\nQ 30.953125 -1.421875 24.3125 -1.421875 \r\nQ 15.921875 -1.421875 10.953125 3.296875 \r\nQ 6 8.015625 6 15.921875 \r\nQ 6 25.140625 12.171875 29.828125 \r\nQ 18.359375 34.515625 30.609375 34.515625 \r\nL 43.21875 34.515625 \r\nL 43.21875 35.40625 \r\nQ 43.21875 41.609375 39.140625 45 \r\nQ 35.0625 48.390625 27.6875 48.390625 \r\nQ 23 48.390625 18.546875 47.265625 \r\nQ 14.109375 46.140625 10.015625 43.890625 \r\nL 10.015625 52.203125 \r\nQ 14.9375 54.109375 19.578125 55.046875 \r\nQ 24.21875 56 28.609375 56 \r\nQ 40.484375 56 46.34375 49.84375 \r\nQ 52.203125 43.703125 52.203125 31.203125 \r\nz\r\n\" id=\"DejaVuSans-97\"/>\r\n       <path d=\"M 54.890625 33.015625 \r\nL 54.890625 0 \r\nL 45.90625 0 \r\nL 45.90625 32.71875 \r\nQ 45.90625 40.484375 42.875 44.328125 \r\nQ 39.84375 48.1875 33.796875 48.1875 \r\nQ 26.515625 48.1875 22.3125 43.546875 \r\nQ 18.109375 38.921875 18.109375 30.90625 \r\nL 18.109375 0 \r\nL 9.078125 0 \r\nL 9.078125 54.6875 \r\nL 18.109375 54.6875 \r\nL 18.109375 46.1875 \r\nQ 21.34375 51.125 25.703125 53.5625 \r\nQ 30.078125 56 35.796875 56 \r\nQ 45.21875 56 50.046875 50.171875 \r\nQ 54.890625 44.34375 54.890625 33.015625 \r\nz\r\n\" id=\"DejaVuSans-110\"/>\r\n       <path d=\"M 45.40625 46.390625 \r\nL 45.40625 75.984375 \r\nL 54.390625 75.984375 \r\nL 54.390625 0 \r\nL 45.40625 0 \r\nL 45.40625 8.203125 \r\nQ 42.578125 3.328125 38.25 0.953125 \r\nQ 33.9375 -1.421875 27.875 -1.421875 \r\nQ 17.96875 -1.421875 11.734375 6.484375 \r\nQ 5.515625 14.40625 5.515625 27.296875 \r\nQ 5.515625 40.1875 11.734375 48.09375 \r\nQ 17.96875 56 27.875 56 \r\nQ 33.9375 56 38.25 53.625 \r\nQ 42.578125 51.265625 45.40625 46.390625 \r\nz\r\nM 14.796875 27.296875 \r\nQ 14.796875 17.390625 18.875 11.75 \r\nQ 22.953125 6.109375 30.078125 6.109375 \r\nQ 37.203125 6.109375 41.296875 11.75 \r\nQ 45.40625 17.390625 45.40625 27.296875 \r\nQ 45.40625 37.203125 41.296875 42.84375 \r\nQ 37.203125 48.484375 30.078125 48.484375 \r\nQ 22.953125 48.484375 18.875 42.84375 \r\nQ 14.796875 37.203125 14.796875 27.296875 \r\nz\r\n\" id=\"DejaVuSans-100\"/>\r\n       <path id=\"DejaVuSans-32\"/>\r\n       <path d=\"M 9.8125 72.90625 \r\nL 55.90625 72.90625 \r\nL 55.90625 64.59375 \r\nL 19.671875 64.59375 \r\nL 19.671875 43.015625 \r\nL 54.390625 43.015625 \r\nL 54.390625 34.71875 \r\nL 19.671875 34.71875 \r\nL 19.671875 8.296875 \r\nL 56.78125 8.296875 \r\nL 56.78125 0 \r\nL 9.8125 0 \r\nz\r\n\" id=\"DejaVuSans-69\"/>\r\n       <path d=\"M 44.28125 53.078125 \r\nL 44.28125 44.578125 \r\nQ 40.484375 46.53125 36.375 47.5 \r\nQ 32.28125 48.484375 27.875 48.484375 \r\nQ 21.1875 48.484375 17.84375 46.4375 \r\nQ 14.5 44.390625 14.5 40.28125 \r\nQ 14.5 37.15625 16.890625 35.375 \r\nQ 19.28125 33.59375 26.515625 31.984375 \r\nL 29.59375 31.296875 \r\nQ 39.15625 29.25 43.1875 25.515625 \r\nQ 47.21875 21.78125 47.21875 15.09375 \r\nQ 47.21875 7.46875 41.1875 3.015625 \r\nQ 35.15625 -1.421875 24.609375 -1.421875 \r\nQ 20.21875 -1.421875 15.453125 -0.5625 \r\nQ 10.6875 0.296875 5.421875 2 \r\nL 5.421875 11.28125 \r\nQ 10.40625 8.6875 15.234375 7.390625 \r\nQ 20.0625 6.109375 24.8125 6.109375 \r\nQ 31.15625 6.109375 34.5625 8.28125 \r\nQ 37.984375 10.453125 37.984375 14.40625 \r\nQ 37.984375 18.0625 35.515625 20.015625 \r\nQ 33.0625 21.96875 24.703125 23.78125 \r\nL 21.578125 24.515625 \r\nQ 13.234375 26.265625 9.515625 29.90625 \r\nQ 5.8125 33.546875 5.8125 39.890625 \r\nQ 5.8125 47.609375 11.28125 51.796875 \r\nQ 16.75 56 26.8125 56 \r\nQ 31.78125 56 36.171875 55.265625 \r\nQ 40.578125 54.546875 44.28125 53.078125 \r\nz\r\n\" id=\"DejaVuSans-115\"/>\r\n       <path d=\"M 18.3125 70.21875 \r\nL 18.3125 54.6875 \r\nL 36.8125 54.6875 \r\nL 36.8125 47.703125 \r\nL 18.3125 47.703125 \r\nL 18.3125 18.015625 \r\nQ 18.3125 11.328125 20.140625 9.421875 \r\nQ 21.96875 7.515625 27.59375 7.515625 \r\nL 36.8125 7.515625 \r\nL 36.8125 0 \r\nL 27.59375 0 \r\nQ 17.1875 0 13.234375 3.875 \r\nQ 9.28125 7.765625 9.28125 18.015625 \r\nL 9.28125 47.703125 \r\nL 2.6875 47.703125 \r\nL 2.6875 54.6875 \r\nL 9.28125 54.6875 \r\nL 9.28125 70.21875 \r\nz\r\n\" id=\"DejaVuSans-116\"/>\r\n      </defs>\r\n      <use xlink:href=\"#DejaVuSans-71\"/>\r\n      <use x=\"77.490234\" xlink:href=\"#DejaVuSans-114\"/>\r\n      <use x=\"118.603516\" xlink:href=\"#DejaVuSans-97\"/>\r\n      <use x=\"179.882812\" xlink:href=\"#DejaVuSans-110\"/>\r\n      <use x=\"243.261719\" xlink:href=\"#DejaVuSans-100\"/>\r\n      <use x=\"306.738281\" xlink:href=\"#DejaVuSans-32\"/>\r\n      <use x=\"338.525391\" xlink:href=\"#DejaVuSans-69\"/>\r\n      <use x=\"401.708984\" xlink:href=\"#DejaVuSans-115\"/>\r\n      <use x=\"453.808594\" xlink:href=\"#DejaVuSans-116\"/>\r\n     </g>\r\n    </g>\r\n   </g>\r\n   <g id=\"text_18\">\r\n    <g clip-path=\"url(#p342c6b1659)\">\r\n     <!-- Provence-Alpes-Côte-d'Azur -->\r\n     <g transform=\"translate(477.225326 141.535897)scale(0.11 -0.11)\">\r\n      <defs>\r\n       <path d=\"M 19.671875 64.796875 \r\nL 19.671875 37.40625 \r\nL 32.078125 37.40625 \r\nQ 38.96875 37.40625 42.71875 40.96875 \r\nQ 46.484375 44.53125 46.484375 51.125 \r\nQ 46.484375 57.671875 42.71875 61.234375 \r\nQ 38.96875 64.796875 32.078125 64.796875 \r\nz\r\nM 9.8125 72.90625 \r\nL 32.078125 72.90625 \r\nQ 44.34375 72.90625 50.609375 67.359375 \r\nQ 56.890625 61.8125 56.890625 51.125 \r\nQ 56.890625 40.328125 50.609375 34.8125 \r\nQ 44.34375 29.296875 32.078125 29.296875 \r\nL 19.671875 29.296875 \r\nL 19.671875 0 \r\nL 9.8125 0 \r\nz\r\n\" id=\"DejaVuSans-80\"/>\r\n       <path d=\"M 30.609375 48.390625 \r\nQ 23.390625 48.390625 19.1875 42.75 \r\nQ 14.984375 37.109375 14.984375 27.296875 \r\nQ 14.984375 17.484375 19.15625 11.84375 \r\nQ 23.34375 6.203125 30.609375 6.203125 \r\nQ 37.796875 6.203125 41.984375 11.859375 \r\nQ 46.1875 17.53125 46.1875 27.296875 \r\nQ 46.1875 37.015625 41.984375 42.703125 \r\nQ 37.796875 48.390625 30.609375 48.390625 \r\nz\r\nM 30.609375 56 \r\nQ 42.328125 56 49.015625 48.375 \r\nQ 55.71875 40.765625 55.71875 27.296875 \r\nQ 55.71875 13.875 49.015625 6.21875 \r\nQ 42.328125 -1.421875 30.609375 -1.421875 \r\nQ 18.84375 -1.421875 12.171875 6.21875 \r\nQ 5.515625 13.875 5.515625 27.296875 \r\nQ 5.515625 40.765625 12.171875 48.375 \r\nQ 18.84375 56 30.609375 56 \r\nz\r\n\" id=\"DejaVuSans-111\"/>\r\n       <path d=\"M 2.984375 54.6875 \r\nL 12.5 54.6875 \r\nL 29.59375 8.796875 \r\nL 46.6875 54.6875 \r\nL 56.203125 54.6875 \r\nL 35.6875 0 \r\nL 23.484375 0 \r\nz\r\n\" id=\"DejaVuSans-118\"/>\r\n       <path d=\"M 56.203125 29.59375 \r\nL 56.203125 25.203125 \r\nL 14.890625 25.203125 \r\nQ 15.484375 15.921875 20.484375 11.0625 \r\nQ 25.484375 6.203125 34.421875 6.203125 \r\nQ 39.59375 6.203125 44.453125 7.46875 \r\nQ 49.3125 8.734375 54.109375 11.28125 \r\nL 54.109375 2.78125 \r\nQ 49.265625 0.734375 44.1875 -0.34375 \r\nQ 39.109375 -1.421875 33.890625 -1.421875 \r\nQ 20.796875 -1.421875 13.15625 6.1875 \r\nQ 5.515625 13.8125 5.515625 26.8125 \r\nQ 5.515625 40.234375 12.765625 48.109375 \r\nQ 20.015625 56 32.328125 56 \r\nQ 43.359375 56 49.78125 48.890625 \r\nQ 56.203125 41.796875 56.203125 29.59375 \r\nz\r\nM 47.21875 32.234375 \r\nQ 47.125 39.59375 43.09375 43.984375 \r\nQ 39.0625 48.390625 32.421875 48.390625 \r\nQ 24.90625 48.390625 20.390625 44.140625 \r\nQ 15.875 39.890625 15.1875 32.171875 \r\nz\r\n\" id=\"DejaVuSans-101\"/>\r\n       <path d=\"M 48.78125 52.59375 \r\nL 48.78125 44.1875 \r\nQ 44.96875 46.296875 41.140625 47.34375 \r\nQ 37.3125 48.390625 33.40625 48.390625 \r\nQ 24.65625 48.390625 19.8125 42.84375 \r\nQ 14.984375 37.3125 14.984375 27.296875 \r\nQ 14.984375 17.28125 19.8125 11.734375 \r\nQ 24.65625 6.203125 33.40625 6.203125 \r\nQ 37.3125 6.203125 41.140625 7.25 \r\nQ 44.96875 8.296875 48.78125 10.40625 \r\nL 48.78125 2.09375 \r\nQ 45.015625 0.34375 40.984375 -0.53125 \r\nQ 36.96875 -1.421875 32.421875 -1.421875 \r\nQ 20.0625 -1.421875 12.78125 6.34375 \r\nQ 5.515625 14.109375 5.515625 27.296875 \r\nQ 5.515625 40.671875 12.859375 48.328125 \r\nQ 20.21875 56 33.015625 56 \r\nQ 37.15625 56 41.109375 55.140625 \r\nQ 45.0625 54.296875 48.78125 52.59375 \r\nz\r\n\" id=\"DejaVuSans-99\"/>\r\n       <path d=\"M 4.890625 31.390625 \r\nL 31.203125 31.390625 \r\nL 31.203125 23.390625 \r\nL 4.890625 23.390625 \r\nz\r\n\" id=\"DejaVuSans-45\"/>\r\n       <path d=\"M 34.1875 63.1875 \r\nL 20.796875 26.90625 \r\nL 47.609375 26.90625 \r\nz\r\nM 28.609375 72.90625 \r\nL 39.796875 72.90625 \r\nL 67.578125 0 \r\nL 57.328125 0 \r\nL 50.6875 18.703125 \r\nL 17.828125 18.703125 \r\nL 11.1875 0 \r\nL 0.78125 0 \r\nz\r\n\" id=\"DejaVuSans-65\"/>\r\n       <path d=\"M 9.421875 75.984375 \r\nL 18.40625 75.984375 \r\nL 18.40625 0 \r\nL 9.421875 0 \r\nz\r\n\" id=\"DejaVuSans-108\"/>\r\n       <path d=\"M 18.109375 8.203125 \r\nL 18.109375 -20.796875 \r\nL 9.078125 -20.796875 \r\nL 9.078125 54.6875 \r\nL 18.109375 54.6875 \r\nL 18.109375 46.390625 \r\nQ 20.953125 51.265625 25.265625 53.625 \r\nQ 29.59375 56 35.59375 56 \r\nQ 45.5625 56 51.78125 48.09375 \r\nQ 58.015625 40.1875 58.015625 27.296875 \r\nQ 58.015625 14.40625 51.78125 6.484375 \r\nQ 45.5625 -1.421875 35.59375 -1.421875 \r\nQ 29.59375 -1.421875 25.265625 0.953125 \r\nQ 20.953125 3.328125 18.109375 8.203125 \r\nz\r\nM 48.6875 27.296875 \r\nQ 48.6875 37.203125 44.609375 42.84375 \r\nQ 40.53125 48.484375 33.40625 48.484375 \r\nQ 26.265625 48.484375 22.1875 42.84375 \r\nQ 18.109375 37.203125 18.109375 27.296875 \r\nQ 18.109375 17.390625 22.1875 11.75 \r\nQ 26.265625 6.109375 33.40625 6.109375 \r\nQ 40.53125 6.109375 44.609375 11.75 \r\nQ 48.6875 17.390625 48.6875 27.296875 \r\nz\r\n\" id=\"DejaVuSans-112\"/>\r\n       <path d=\"M 64.40625 67.28125 \r\nL 64.40625 56.890625 \r\nQ 59.421875 61.53125 53.78125 63.8125 \r\nQ 48.140625 66.109375 41.796875 66.109375 \r\nQ 29.296875 66.109375 22.65625 58.46875 \r\nQ 16.015625 50.828125 16.015625 36.375 \r\nQ 16.015625 21.96875 22.65625 14.328125 \r\nQ 29.296875 6.6875 41.796875 6.6875 \r\nQ 48.140625 6.6875 53.78125 8.984375 \r\nQ 59.421875 11.28125 64.40625 15.921875 \r\nL 64.40625 5.609375 \r\nQ 59.234375 2.09375 53.4375 0.328125 \r\nQ 47.65625 -1.421875 41.21875 -1.421875 \r\nQ 24.65625 -1.421875 15.125 8.703125 \r\nQ 5.609375 18.84375 5.609375 36.375 \r\nQ 5.609375 53.953125 15.125 64.078125 \r\nQ 24.65625 74.21875 41.21875 74.21875 \r\nQ 47.75 74.21875 53.53125 72.484375 \r\nQ 59.328125 70.75 64.40625 67.28125 \r\nz\r\n\" id=\"DejaVuSans-67\"/>\r\n       <path d=\"M 30.609375 48.390625 \r\nQ 23.390625 48.390625 19.1875 42.75 \r\nQ 14.984375 37.109375 14.984375 27.296875 \r\nQ 14.984375 17.484375 19.15625 11.84375 \r\nQ 23.34375 6.203125 30.609375 6.203125 \r\nQ 37.796875 6.203125 41.984375 11.859375 \r\nQ 46.1875 17.53125 46.1875 27.296875 \r\nQ 46.1875 37.015625 41.984375 42.703125 \r\nQ 37.796875 48.390625 30.609375 48.390625 \r\nz\r\nM 30.609375 56 \r\nQ 42.328125 56 49.015625 48.375 \r\nQ 55.71875 40.765625 55.71875 27.296875 \r\nQ 55.71875 13.875 49.015625 6.21875 \r\nQ 42.328125 -1.421875 30.609375 -1.421875 \r\nQ 18.84375 -1.421875 12.171875 6.21875 \r\nQ 5.515625 13.875 5.515625 27.296875 \r\nQ 5.515625 40.765625 12.171875 48.375 \r\nQ 18.84375 56 30.609375 56 \r\nz\r\nM 27 79.984375 \r\nL 34.234375 79.984375 \r\nL 46.1875 61.625 \r\nL 39.40625 61.625 \r\nL 30.609375 73.578125 \r\nL 21.828125 61.625 \r\nL 15.046875 61.625 \r\nz\r\n\" id=\"DejaVuSans-244\"/>\r\n       <path d=\"M 17.921875 72.90625 \r\nL 17.921875 45.796875 \r\nL 9.625 45.796875 \r\nL 9.625 72.90625 \r\nz\r\n\" id=\"DejaVuSans-39\"/>\r\n       <path d=\"M 5.515625 54.6875 \r\nL 48.1875 54.6875 \r\nL 48.1875 46.484375 \r\nL 14.40625 7.171875 \r\nL 48.1875 7.171875 \r\nL 48.1875 0 \r\nL 4.296875 0 \r\nL 4.296875 8.203125 \r\nL 38.09375 47.515625 \r\nL 5.515625 47.515625 \r\nz\r\n\" id=\"DejaVuSans-122\"/>\r\n       <path d=\"M 8.5 21.578125 \r\nL 8.5 54.6875 \r\nL 17.484375 54.6875 \r\nL 17.484375 21.921875 \r\nQ 17.484375 14.15625 20.5 10.265625 \r\nQ 23.53125 6.390625 29.59375 6.390625 \r\nQ 36.859375 6.390625 41.078125 11.03125 \r\nQ 45.3125 15.671875 45.3125 23.6875 \r\nL 45.3125 54.6875 \r\nL 54.296875 54.6875 \r\nL 54.296875 0 \r\nL 45.3125 0 \r\nL 45.3125 8.40625 \r\nQ 42.046875 3.421875 37.71875 1 \r\nQ 33.40625 -1.421875 27.6875 -1.421875 \r\nQ 18.265625 -1.421875 13.375 4.4375 \r\nQ 8.5 10.296875 8.5 21.578125 \r\nz\r\nM 31.109375 56 \r\nz\r\n\" id=\"DejaVuSans-117\"/>\r\n      </defs>\r\n      <use xlink:href=\"#DejaVuSans-80\"/>\r\n      <use x=\"58.552734\" xlink:href=\"#DejaVuSans-114\"/>\r\n      <use x=\"97.416016\" xlink:href=\"#DejaVuSans-111\"/>\r\n      <use x=\"158.597656\" xlink:href=\"#DejaVuSans-118\"/>\r\n      <use x=\"217.777344\" xlink:href=\"#DejaVuSans-101\"/>\r\n      <use x=\"279.300781\" xlink:href=\"#DejaVuSans-110\"/>\r\n      <use x=\"342.679688\" xlink:href=\"#DejaVuSans-99\"/>\r\n      <use x=\"397.660156\" xlink:href=\"#DejaVuSans-101\"/>\r\n      <use x=\"459.183594\" xlink:href=\"#DejaVuSans-45\"/>\r\n      <use x=\"493.017578\" xlink:href=\"#DejaVuSans-65\"/>\r\n      <use x=\"561.425781\" xlink:href=\"#DejaVuSans-108\"/>\r\n      <use x=\"589.208984\" xlink:href=\"#DejaVuSans-112\"/>\r\n      <use x=\"652.685547\" xlink:href=\"#DejaVuSans-101\"/>\r\n      <use x=\"714.208984\" xlink:href=\"#DejaVuSans-115\"/>\r\n      <use x=\"766.308594\" xlink:href=\"#DejaVuSans-45\"/>\r\n      <use x=\"802.392578\" xlink:href=\"#DejaVuSans-67\"/>\r\n      <use x=\"872.216797\" xlink:href=\"#DejaVuSans-244\"/>\r\n      <use x=\"933.398438\" xlink:href=\"#DejaVuSans-116\"/>\r\n      <use x=\"972.607422\" xlink:href=\"#DejaVuSans-101\"/>\r\n      <use x=\"1034.130859\" xlink:href=\"#DejaVuSans-45\"/>\r\n      <use x=\"1070.214844\" xlink:href=\"#DejaVuSans-100\"/>\r\n      <use x=\"1133.691406\" xlink:href=\"#DejaVuSans-39\"/>\r\n      <use x=\"1161.181641\" xlink:href=\"#DejaVuSans-65\"/>\r\n      <use x=\"1229.589844\" xlink:href=\"#DejaVuSans-122\"/>\r\n      <use x=\"1282.080078\" xlink:href=\"#DejaVuSans-117\"/>\r\n      <use x=\"1345.458984\" xlink:href=\"#DejaVuSans-114\"/>\r\n     </g>\r\n    </g>\r\n   </g>\r\n   <g id=\"text_19\">\r\n    <g clip-path=\"url(#p342c6b1659)\">\r\n     <!-- Nouvelle-Aquitaine -->\r\n     <g transform=\"translate(84.996448 258.006113)scale(0.11 -0.11)\">\r\n      <defs>\r\n       <path d=\"M 9.8125 72.90625 \r\nL 23.09375 72.90625 \r\nL 55.421875 11.921875 \r\nL 55.421875 72.90625 \r\nL 64.984375 72.90625 \r\nL 64.984375 0 \r\nL 51.703125 0 \r\nL 19.390625 60.984375 \r\nL 19.390625 0 \r\nL 9.8125 0 \r\nz\r\n\" id=\"DejaVuSans-78\"/>\r\n       <path d=\"M 14.796875 27.296875 \r\nQ 14.796875 17.390625 18.875 11.75 \r\nQ 22.953125 6.109375 30.078125 6.109375 \r\nQ 37.203125 6.109375 41.296875 11.75 \r\nQ 45.40625 17.390625 45.40625 27.296875 \r\nQ 45.40625 37.203125 41.296875 42.84375 \r\nQ 37.203125 48.484375 30.078125 48.484375 \r\nQ 22.953125 48.484375 18.875 42.84375 \r\nQ 14.796875 37.203125 14.796875 27.296875 \r\nz\r\nM 45.40625 8.203125 \r\nQ 42.578125 3.328125 38.25 0.953125 \r\nQ 33.9375 -1.421875 27.875 -1.421875 \r\nQ 17.96875 -1.421875 11.734375 6.484375 \r\nQ 5.515625 14.40625 5.515625 27.296875 \r\nQ 5.515625 40.1875 11.734375 48.09375 \r\nQ 17.96875 56 27.875 56 \r\nQ 33.9375 56 38.25 53.625 \r\nQ 42.578125 51.265625 45.40625 46.390625 \r\nL 45.40625 54.6875 \r\nL 54.390625 54.6875 \r\nL 54.390625 -20.796875 \r\nL 45.40625 -20.796875 \r\nz\r\n\" id=\"DejaVuSans-113\"/>\r\n       <path d=\"M 9.421875 54.6875 \r\nL 18.40625 54.6875 \r\nL 18.40625 0 \r\nL 9.421875 0 \r\nz\r\nM 9.421875 75.984375 \r\nL 18.40625 75.984375 \r\nL 18.40625 64.59375 \r\nL 9.421875 64.59375 \r\nz\r\n\" id=\"DejaVuSans-105\"/>\r\n      </defs>\r\n      <use xlink:href=\"#DejaVuSans-78\"/>\r\n      <use x=\"74.804688\" xlink:href=\"#DejaVuSans-111\"/>\r\n      <use x=\"135.986328\" xlink:href=\"#DejaVuSans-117\"/>\r\n      <use x=\"199.365234\" xlink:href=\"#DejaVuSans-118\"/>\r\n      <use x=\"258.544922\" xlink:href=\"#DejaVuSans-101\"/>\r\n      <use x=\"320.068359\" xlink:href=\"#DejaVuSans-108\"/>\r\n      <use x=\"347.851562\" xlink:href=\"#DejaVuSans-108\"/>\r\n      <use x=\"375.634766\" xlink:href=\"#DejaVuSans-101\"/>\r\n      <use x=\"437.158203\" xlink:href=\"#DejaVuSans-45\"/>\r\n      <use x=\"470.992188\" xlink:href=\"#DejaVuSans-65\"/>\r\n      <use x=\"537.650391\" xlink:href=\"#DejaVuSans-113\"/>\r\n      <use x=\"601.126953\" xlink:href=\"#DejaVuSans-117\"/>\r\n      <use x=\"664.505859\" xlink:href=\"#DejaVuSans-105\"/>\r\n      <use x=\"692.289062\" xlink:href=\"#DejaVuSans-116\"/>\r\n      <use x=\"731.498047\" xlink:href=\"#DejaVuSans-97\"/>\r\n      <use x=\"792.777344\" xlink:href=\"#DejaVuSans-105\"/>\r\n      <use x=\"820.560547\" xlink:href=\"#DejaVuSans-110\"/>\r\n      <use x=\"883.939453\" xlink:href=\"#DejaVuSans-101\"/>\r\n     </g>\r\n    </g>\r\n   </g>\r\n   <g id=\"text_20\">\r\n    <g clip-path=\"url(#p342c6b1659)\">\r\n     <!-- Corse -->\r\n     <g transform=\"translate(683.911023 58.350838)scale(0.11 -0.11)\">\r\n      <use xlink:href=\"#DejaVuSans-67\"/>\r\n      <use x=\"69.824219\" xlink:href=\"#DejaVuSans-111\"/>\r\n      <use x=\"131.005859\" xlink:href=\"#DejaVuSans-114\"/>\r\n      <use x=\"172.119141\" xlink:href=\"#DejaVuSans-115\"/>\r\n      <use x=\"224.21875\" xlink:href=\"#DejaVuSans-101\"/>\r\n     </g>\r\n    </g>\r\n   </g>\r\n   <g id=\"text_21\">\r\n    <g clip-path=\"url(#p342c6b1659)\">\r\n     <!-- Bretagne -->\r\n     <g transform=\"translate(273.446062 299.810696)scale(0.11 -0.11)\">\r\n      <defs>\r\n       <path d=\"M 19.671875 34.8125 \r\nL 19.671875 8.109375 \r\nL 35.5 8.109375 \r\nQ 43.453125 8.109375 47.28125 11.40625 \r\nQ 51.125 14.703125 51.125 21.484375 \r\nQ 51.125 28.328125 47.28125 31.5625 \r\nQ 43.453125 34.8125 35.5 34.8125 \r\nz\r\nM 19.671875 64.796875 \r\nL 19.671875 42.828125 \r\nL 34.28125 42.828125 \r\nQ 41.5 42.828125 45.03125 45.53125 \r\nQ 48.578125 48.25 48.578125 53.8125 \r\nQ 48.578125 59.328125 45.03125 62.0625 \r\nQ 41.5 64.796875 34.28125 64.796875 \r\nz\r\nM 9.8125 72.90625 \r\nL 35.015625 72.90625 \r\nQ 46.296875 72.90625 52.390625 68.21875 \r\nQ 58.5 63.53125 58.5 54.890625 \r\nQ 58.5 48.1875 55.375 44.234375 \r\nQ 52.25 40.28125 46.1875 39.3125 \r\nQ 53.46875 37.75 57.5 32.78125 \r\nQ 61.53125 27.828125 61.53125 20.40625 \r\nQ 61.53125 10.640625 54.890625 5.3125 \r\nQ 48.25 0 35.984375 0 \r\nL 9.8125 0 \r\nz\r\n\" id=\"DejaVuSans-66\"/>\r\n       <path d=\"M 45.40625 27.984375 \r\nQ 45.40625 37.75 41.375 43.109375 \r\nQ 37.359375 48.484375 30.078125 48.484375 \r\nQ 22.859375 48.484375 18.828125 43.109375 \r\nQ 14.796875 37.75 14.796875 27.984375 \r\nQ 14.796875 18.265625 18.828125 12.890625 \r\nQ 22.859375 7.515625 30.078125 7.515625 \r\nQ 37.359375 7.515625 41.375 12.890625 \r\nQ 45.40625 18.265625 45.40625 27.984375 \r\nz\r\nM 54.390625 6.78125 \r\nQ 54.390625 -7.171875 48.1875 -13.984375 \r\nQ 42 -20.796875 29.203125 -20.796875 \r\nQ 24.46875 -20.796875 20.265625 -20.09375 \r\nQ 16.0625 -19.390625 12.109375 -17.921875 \r\nL 12.109375 -9.1875 \r\nQ 16.0625 -11.328125 19.921875 -12.34375 \r\nQ 23.78125 -13.375 27.78125 -13.375 \r\nQ 36.625 -13.375 41.015625 -8.765625 \r\nQ 45.40625 -4.15625 45.40625 5.171875 \r\nL 45.40625 9.625 \r\nQ 42.625 4.78125 38.28125 2.390625 \r\nQ 33.9375 0 27.875 0 \r\nQ 17.828125 0 11.671875 7.65625 \r\nQ 5.515625 15.328125 5.515625 27.984375 \r\nQ 5.515625 40.671875 11.671875 48.328125 \r\nQ 17.828125 56 27.875 56 \r\nQ 33.9375 56 38.28125 53.609375 \r\nQ 42.625 51.21875 45.40625 46.390625 \r\nL 45.40625 54.6875 \r\nL 54.390625 54.6875 \r\nz\r\n\" id=\"DejaVuSans-103\"/>\r\n      </defs>\r\n      <use xlink:href=\"#DejaVuSans-66\"/>\r\n      <use x=\"68.603516\" xlink:href=\"#DejaVuSans-114\"/>\r\n      <use x=\"107.466797\" xlink:href=\"#DejaVuSans-101\"/>\r\n      <use x=\"168.990234\" xlink:href=\"#DejaVuSans-116\"/>\r\n      <use x=\"208.199219\" xlink:href=\"#DejaVuSans-97\"/>\r\n      <use x=\"269.478516\" xlink:href=\"#DejaVuSans-103\"/>\r\n      <use x=\"332.955078\" xlink:href=\"#DejaVuSans-110\"/>\r\n      <use x=\"396.333984\" xlink:href=\"#DejaVuSans-101\"/>\r\n     </g>\r\n    </g>\r\n   </g>\r\n   <g id=\"text_22\">\r\n    <g clip-path=\"url(#p342c6b1659)\">\r\n     <!-- Pays-de-la-Loire -->\r\n     <g transform=\"translate(154.780717 288.792157)scale(0.11 -0.11)\">\r\n      <defs>\r\n       <path d=\"M 32.171875 -5.078125 \r\nQ 28.375 -14.84375 24.75 -17.8125 \r\nQ 21.140625 -20.796875 15.09375 -20.796875 \r\nL 7.90625 -20.796875 \r\nL 7.90625 -13.28125 \r\nL 13.1875 -13.28125 \r\nQ 16.890625 -13.28125 18.9375 -11.515625 \r\nQ 21 -9.765625 23.484375 -3.21875 \r\nL 25.09375 0.875 \r\nL 2.984375 54.6875 \r\nL 12.5 54.6875 \r\nL 29.59375 11.921875 \r\nL 46.6875 54.6875 \r\nL 56.203125 54.6875 \r\nz\r\n\" id=\"DejaVuSans-121\"/>\r\n       <path d=\"M 9.8125 72.90625 \r\nL 19.671875 72.90625 \r\nL 19.671875 8.296875 \r\nL 55.171875 8.296875 \r\nL 55.171875 0 \r\nL 9.8125 0 \r\nz\r\n\" id=\"DejaVuSans-76\"/>\r\n      </defs>\r\n      <use xlink:href=\"#DejaVuSans-80\"/>\r\n      <use x=\"55.802734\" xlink:href=\"#DejaVuSans-97\"/>\r\n      <use x=\"117.082031\" xlink:href=\"#DejaVuSans-121\"/>\r\n      <use x=\"176.261719\" xlink:href=\"#DejaVuSans-115\"/>\r\n      <use x=\"228.361328\" xlink:href=\"#DejaVuSans-45\"/>\r\n      <use x=\"264.445312\" xlink:href=\"#DejaVuSans-100\"/>\r\n      <use x=\"327.921875\" xlink:href=\"#DejaVuSans-101\"/>\r\n      <use x=\"389.445312\" xlink:href=\"#DejaVuSans-45\"/>\r\n      <use x=\"425.529297\" xlink:href=\"#DejaVuSans-108\"/>\r\n      <use x=\"453.3125\" xlink:href=\"#DejaVuSans-97\"/>\r\n      <use x=\"514.591797\" xlink:href=\"#DejaVuSans-45\"/>\r\n      <use x=\"550.675781\" xlink:href=\"#DejaVuSans-76\"/>\r\n      <use x=\"604.638672\" xlink:href=\"#DejaVuSans-111\"/>\r\n      <use x=\"665.820312\" xlink:href=\"#DejaVuSans-105\"/>\r\n      <use x=\"693.603516\" xlink:href=\"#DejaVuSans-114\"/>\r\n      <use x=\"732.466797\" xlink:href=\"#DejaVuSans-101\"/>\r\n     </g>\r\n    </g>\r\n   </g>\r\n   <g id=\"text_23\">\r\n    <g clip-path=\"url(#p342c6b1659)\">\r\n     <!-- Île-de-France -->\r\n     <g transform=\"translate(173.801833 380.960975)scale(0.11 -0.11)\">\r\n      <defs>\r\n       <path d=\"M 9.8125 72.90625 \r\nL 19.671875 72.90625 \r\nL 19.671875 0 \r\nL 9.8125 0 \r\nz\r\nM 10.203125 92.828125 \r\nL 19.390625 92.828125 \r\nL 29.6875 79.84375 \r\nL 22.90625 79.84375 \r\nL 14.796875 88.53125 \r\nL 6.6875 79.84375 \r\nL -0.09375 79.84375 \r\nz\r\n\" id=\"DejaVuSans-206\"/>\r\n       <path d=\"M 9.8125 72.90625 \r\nL 51.703125 72.90625 \r\nL 51.703125 64.59375 \r\nL 19.671875 64.59375 \r\nL 19.671875 43.109375 \r\nL 48.578125 43.109375 \r\nL 48.578125 34.8125 \r\nL 19.671875 34.8125 \r\nL 19.671875 0 \r\nL 9.8125 0 \r\nz\r\n\" id=\"DejaVuSans-70\"/>\r\n      </defs>\r\n      <use xlink:href=\"#DejaVuSans-206\"/>\r\n      <use x=\"29.492188\" xlink:href=\"#DejaVuSans-108\"/>\r\n      <use x=\"57.275391\" xlink:href=\"#DejaVuSans-101\"/>\r\n      <use x=\"118.798828\" xlink:href=\"#DejaVuSans-45\"/>\r\n      <use x=\"154.882812\" xlink:href=\"#DejaVuSans-100\"/>\r\n      <use x=\"218.359375\" xlink:href=\"#DejaVuSans-101\"/>\r\n      <use x=\"279.882812\" xlink:href=\"#DejaVuSans-45\"/>\r\n      <use x=\"315.966797\" xlink:href=\"#DejaVuSans-70\"/>\r\n      <use x=\"366.236328\" xlink:href=\"#DejaVuSans-114\"/>\r\n      <use x=\"407.349609\" xlink:href=\"#DejaVuSans-97\"/>\r\n      <use x=\"468.628906\" xlink:href=\"#DejaVuSans-110\"/>\r\n      <use x=\"532.007812\" xlink:href=\"#DejaVuSans-99\"/>\r\n      <use x=\"586.988281\" xlink:href=\"#DejaVuSans-101\"/>\r\n     </g>\r\n    </g>\r\n   </g>\r\n   <g id=\"text_24\">\r\n    <g clip-path=\"url(#p342c6b1659)\">\r\n     <!-- Centre-Val de Loire -->\r\n     <g transform=\"translate(142.928827 503.114474)scale(0.11 -0.11)\">\r\n      <defs>\r\n       <path d=\"M 28.609375 0 \r\nL 0.78125 72.90625 \r\nL 11.078125 72.90625 \r\nL 34.1875 11.53125 \r\nL 57.328125 72.90625 \r\nL 67.578125 72.90625 \r\nL 39.796875 0 \r\nz\r\n\" id=\"DejaVuSans-86\"/>\r\n      </defs>\r\n      <use xlink:href=\"#DejaVuSans-67\"/>\r\n      <use x=\"69.824219\" xlink:href=\"#DejaVuSans-101\"/>\r\n      <use x=\"131.347656\" xlink:href=\"#DejaVuSans-110\"/>\r\n      <use x=\"194.726562\" xlink:href=\"#DejaVuSans-116\"/>\r\n      <use x=\"233.935547\" xlink:href=\"#DejaVuSans-114\"/>\r\n      <use x=\"272.798828\" xlink:href=\"#DejaVuSans-101\"/>\r\n      <use x=\"334.322266\" xlink:href=\"#DejaVuSans-45\"/>\r\n      <use x=\"364.53125\" xlink:href=\"#DejaVuSans-86\"/>\r\n      <use x=\"425.189453\" xlink:href=\"#DejaVuSans-97\"/>\r\n      <use x=\"486.46875\" xlink:href=\"#DejaVuSans-108\"/>\r\n      <use x=\"514.251953\" xlink:href=\"#DejaVuSans-32\"/>\r\n      <use x=\"546.039062\" xlink:href=\"#DejaVuSans-100\"/>\r\n      <use x=\"609.515625\" xlink:href=\"#DejaVuSans-101\"/>\r\n      <use x=\"671.039062\" xlink:href=\"#DejaVuSans-32\"/>\r\n      <use x=\"702.826172\" xlink:href=\"#DejaVuSans-76\"/>\r\n      <use x=\"756.789062\" xlink:href=\"#DejaVuSans-111\"/>\r\n      <use x=\"817.970703\" xlink:href=\"#DejaVuSans-105\"/>\r\n      <use x=\"845.753906\" xlink:href=\"#DejaVuSans-114\"/>\r\n      <use x=\"884.617188\" xlink:href=\"#DejaVuSans-101\"/>\r\n     </g>\r\n    </g>\r\n   </g>\r\n   <g id=\"text_25\">\r\n    <g clip-path=\"url(#p342c6b1659)\">\r\n     <!-- Bourgogne-Franche-Comté -->\r\n     <g transform=\"translate(492.933387 257.428961)scale(0.11 -0.11)\">\r\n      <defs>\r\n       <path d=\"M 54.890625 33.015625 \r\nL 54.890625 0 \r\nL 45.90625 0 \r\nL 45.90625 32.71875 \r\nQ 45.90625 40.484375 42.875 44.328125 \r\nQ 39.84375 48.1875 33.796875 48.1875 \r\nQ 26.515625 48.1875 22.3125 43.546875 \r\nQ 18.109375 38.921875 18.109375 30.90625 \r\nL 18.109375 0 \r\nL 9.078125 0 \r\nL 9.078125 75.984375 \r\nL 18.109375 75.984375 \r\nL 18.109375 46.1875 \r\nQ 21.34375 51.125 25.703125 53.5625 \r\nQ 30.078125 56 35.796875 56 \r\nQ 45.21875 56 50.046875 50.171875 \r\nQ 54.890625 44.34375 54.890625 33.015625 \r\nz\r\n\" id=\"DejaVuSans-104\"/>\r\n       <path d=\"M 52 44.1875 \r\nQ 55.375 50.25 60.0625 53.125 \r\nQ 64.75 56 71.09375 56 \r\nQ 79.640625 56 84.28125 50.015625 \r\nQ 88.921875 44.046875 88.921875 33.015625 \r\nL 88.921875 0 \r\nL 79.890625 0 \r\nL 79.890625 32.71875 \r\nQ 79.890625 40.578125 77.09375 44.375 \r\nQ 74.3125 48.1875 68.609375 48.1875 \r\nQ 61.625 48.1875 57.5625 43.546875 \r\nQ 53.515625 38.921875 53.515625 30.90625 \r\nL 53.515625 0 \r\nL 44.484375 0 \r\nL 44.484375 32.71875 \r\nQ 44.484375 40.625 41.703125 44.40625 \r\nQ 38.921875 48.1875 33.109375 48.1875 \r\nQ 26.21875 48.1875 22.15625 43.53125 \r\nQ 18.109375 38.875 18.109375 30.90625 \r\nL 18.109375 0 \r\nL 9.078125 0 \r\nL 9.078125 54.6875 \r\nL 18.109375 54.6875 \r\nL 18.109375 46.1875 \r\nQ 21.1875 51.21875 25.484375 53.609375 \r\nQ 29.78125 56 35.6875 56 \r\nQ 41.65625 56 45.828125 52.96875 \r\nQ 50 49.953125 52 44.1875 \r\nz\r\n\" id=\"DejaVuSans-109\"/>\r\n       <path d=\"M 56.203125 29.59375 \r\nL 56.203125 25.203125 \r\nL 14.890625 25.203125 \r\nQ 15.484375 15.921875 20.484375 11.0625 \r\nQ 25.484375 6.203125 34.421875 6.203125 \r\nQ 39.59375 6.203125 44.453125 7.46875 \r\nQ 49.3125 8.734375 54.109375 11.28125 \r\nL 54.109375 2.78125 \r\nQ 49.265625 0.734375 44.1875 -0.34375 \r\nQ 39.109375 -1.421875 33.890625 -1.421875 \r\nQ 20.796875 -1.421875 13.15625 6.1875 \r\nQ 5.515625 13.8125 5.515625 26.8125 \r\nQ 5.515625 40.234375 12.765625 48.109375 \r\nQ 20.015625 56 32.328125 56 \r\nQ 43.359375 56 49.78125 48.890625 \r\nQ 56.203125 41.796875 56.203125 29.59375 \r\nz\r\nM 47.21875 32.234375 \r\nQ 47.125 39.59375 43.09375 43.984375 \r\nQ 39.0625 48.390625 32.421875 48.390625 \r\nQ 24.90625 48.390625 20.390625 44.140625 \r\nQ 15.875 39.890625 15.1875 32.171875 \r\nz\r\nM 38.578125 79.984375 \r\nL 48.296875 79.984375 \r\nL 32.375 61.625 \r\nL 24.90625 61.625 \r\nz\r\n\" id=\"DejaVuSans-233\"/>\r\n      </defs>\r\n      <use xlink:href=\"#DejaVuSans-66\"/>\r\n      <use x=\"68.603516\" xlink:href=\"#DejaVuSans-111\"/>\r\n      <use x=\"129.785156\" xlink:href=\"#DejaVuSans-117\"/>\r\n      <use x=\"193.164062\" xlink:href=\"#DejaVuSans-114\"/>\r\n      <use x=\"232.527344\" xlink:href=\"#DejaVuSans-103\"/>\r\n      <use x=\"296.003906\" xlink:href=\"#DejaVuSans-111\"/>\r\n      <use x=\"357.185547\" xlink:href=\"#DejaVuSans-103\"/>\r\n      <use x=\"420.662109\" xlink:href=\"#DejaVuSans-110\"/>\r\n      <use x=\"484.041016\" xlink:href=\"#DejaVuSans-101\"/>\r\n      <use x=\"545.564453\" xlink:href=\"#DejaVuSans-45\"/>\r\n      <use x=\"581.648438\" xlink:href=\"#DejaVuSans-70\"/>\r\n      <use x=\"631.917969\" xlink:href=\"#DejaVuSans-114\"/>\r\n      <use x=\"673.03125\" xlink:href=\"#DejaVuSans-97\"/>\r\n      <use x=\"734.310547\" xlink:href=\"#DejaVuSans-110\"/>\r\n      <use x=\"797.689453\" xlink:href=\"#DejaVuSans-99\"/>\r\n      <use x=\"852.669922\" xlink:href=\"#DejaVuSans-104\"/>\r\n      <use x=\"916.048828\" xlink:href=\"#DejaVuSans-101\"/>\r\n      <use x=\"977.572266\" xlink:href=\"#DejaVuSans-45\"/>\r\n      <use x=\"1013.65625\" xlink:href=\"#DejaVuSans-67\"/>\r\n      <use x=\"1083.480469\" xlink:href=\"#DejaVuSans-111\"/>\r\n      <use x=\"1144.662109\" xlink:href=\"#DejaVuSans-109\"/>\r\n      <use x=\"1242.074219\" xlink:href=\"#DejaVuSans-116\"/>\r\n      <use x=\"1281.283203\" xlink:href=\"#DejaVuSans-233\"/>\r\n     </g>\r\n    </g>\r\n   </g>\r\n   <g id=\"text_26\">\r\n    <g clip-path=\"url(#p342c6b1659)\">\r\n     <!-- Auvergne-Rhône-Alpes -->\r\n     <g transform=\"translate(380.302746 362.634999)scale(0.11 -0.11)\">\r\n      <defs>\r\n       <path d=\"M 44.390625 34.1875 \r\nQ 47.5625 33.109375 50.5625 29.59375 \r\nQ 53.5625 26.078125 56.59375 19.921875 \r\nL 66.609375 0 \r\nL 56 0 \r\nL 46.6875 18.703125 \r\nQ 43.0625 26.03125 39.671875 28.421875 \r\nQ 36.28125 30.8125 30.421875 30.8125 \r\nL 19.671875 30.8125 \r\nL 19.671875 0 \r\nL 9.8125 0 \r\nL 9.8125 72.90625 \r\nL 32.078125 72.90625 \r\nQ 44.578125 72.90625 50.734375 67.671875 \r\nQ 56.890625 62.453125 56.890625 51.90625 \r\nQ 56.890625 45.015625 53.6875 40.46875 \r\nQ 50.484375 35.9375 44.390625 34.1875 \r\nz\r\nM 19.671875 64.796875 \r\nL 19.671875 38.921875 \r\nL 32.078125 38.921875 \r\nQ 39.203125 38.921875 42.84375 42.21875 \r\nQ 46.484375 45.515625 46.484375 51.90625 \r\nQ 46.484375 58.296875 42.84375 61.546875 \r\nQ 39.203125 64.796875 32.078125 64.796875 \r\nz\r\n\" id=\"DejaVuSans-82\"/>\r\n      </defs>\r\n      <use xlink:href=\"#DejaVuSans-65\"/>\r\n      <use x=\"68.408203\" xlink:href=\"#DejaVuSans-117\"/>\r\n      <use x=\"131.787109\" xlink:href=\"#DejaVuSans-118\"/>\r\n      <use x=\"190.966797\" xlink:href=\"#DejaVuSans-101\"/>\r\n      <use x=\"252.490234\" xlink:href=\"#DejaVuSans-114\"/>\r\n      <use x=\"291.853516\" xlink:href=\"#DejaVuSans-103\"/>\r\n      <use x=\"355.330078\" xlink:href=\"#DejaVuSans-110\"/>\r\n      <use x=\"418.708984\" xlink:href=\"#DejaVuSans-101\"/>\r\n      <use x=\"480.232422\" xlink:href=\"#DejaVuSans-45\"/>\r\n      <use x=\"516.316406\" xlink:href=\"#DejaVuSans-82\"/>\r\n      <use x=\"585.798828\" xlink:href=\"#DejaVuSans-104\"/>\r\n      <use x=\"649.177734\" xlink:href=\"#DejaVuSans-244\"/>\r\n      <use x=\"710.359375\" xlink:href=\"#DejaVuSans-110\"/>\r\n      <use x=\"773.738281\" xlink:href=\"#DejaVuSans-101\"/>\r\n      <use x=\"835.261719\" xlink:href=\"#DejaVuSans-45\"/>\r\n      <use x=\"869.095703\" xlink:href=\"#DejaVuSans-65\"/>\r\n      <use x=\"937.503906\" xlink:href=\"#DejaVuSans-108\"/>\r\n      <use x=\"965.287109\" xlink:href=\"#DejaVuSans-112\"/>\r\n      <use x=\"1028.763672\" xlink:href=\"#DejaVuSans-101\"/>\r\n      <use x=\"1090.287109\" xlink:href=\"#DejaVuSans-115\"/>\r\n     </g>\r\n    </g>\r\n   </g>\r\n   <g id=\"text_27\">\r\n    <g clip-path=\"url(#p342c6b1659)\">\r\n     <!-- outside France -->\r\n     <g transform=\"translate(436.698553 196.508562)scale(0.11 -0.11)\">\r\n      <use xlink:href=\"#DejaVuSans-111\"/>\r\n      <use x=\"61.181641\" xlink:href=\"#DejaVuSans-117\"/>\r\n      <use x=\"124.560547\" xlink:href=\"#DejaVuSans-116\"/>\r\n      <use x=\"163.769531\" xlink:href=\"#DejaVuSans-115\"/>\r\n      <use x=\"215.869141\" xlink:href=\"#DejaVuSans-105\"/>\r\n      <use x=\"243.652344\" xlink:href=\"#DejaVuSans-100\"/>\r\n      <use x=\"307.128906\" xlink:href=\"#DejaVuSans-101\"/>\r\n      <use x=\"368.652344\" xlink:href=\"#DejaVuSans-32\"/>\r\n      <use x=\"400.439453\" xlink:href=\"#DejaVuSans-70\"/>\r\n      <use x=\"450.708984\" xlink:href=\"#DejaVuSans-114\"/>\r\n      <use x=\"491.822266\" xlink:href=\"#DejaVuSans-97\"/>\r\n      <use x=\"553.101562\" xlink:href=\"#DejaVuSans-110\"/>\r\n      <use x=\"616.480469\" xlink:href=\"#DejaVuSans-99\"/>\r\n      <use x=\"671.460938\" xlink:href=\"#DejaVuSans-101\"/>\r\n     </g>\r\n    </g>\r\n   </g>\r\n   <g id=\"text_28\">\r\n    <g clip-path=\"url(#p342c6b1659)\">\r\n     <!-- Occitanie -->\r\n     <g transform=\"translate(201.032723 81.049447)scale(0.11 -0.11)\">\r\n      <defs>\r\n       <path d=\"M 39.40625 66.21875 \r\nQ 28.65625 66.21875 22.328125 58.203125 \r\nQ 16.015625 50.203125 16.015625 36.375 \r\nQ 16.015625 22.609375 22.328125 14.59375 \r\nQ 28.65625 6.59375 39.40625 6.59375 \r\nQ 50.140625 6.59375 56.421875 14.59375 \r\nQ 62.703125 22.609375 62.703125 36.375 \r\nQ 62.703125 50.203125 56.421875 58.203125 \r\nQ 50.140625 66.21875 39.40625 66.21875 \r\nz\r\nM 39.40625 74.21875 \r\nQ 54.734375 74.21875 63.90625 63.9375 \r\nQ 73.09375 53.65625 73.09375 36.375 \r\nQ 73.09375 19.140625 63.90625 8.859375 \r\nQ 54.734375 -1.421875 39.40625 -1.421875 \r\nQ 24.03125 -1.421875 14.8125 8.828125 \r\nQ 5.609375 19.09375 5.609375 36.375 \r\nQ 5.609375 53.65625 14.8125 63.9375 \r\nQ 24.03125 74.21875 39.40625 74.21875 \r\nz\r\n\" id=\"DejaVuSans-79\"/>\r\n      </defs>\r\n      <use xlink:href=\"#DejaVuSans-79\"/>\r\n      <use x=\"78.710938\" xlink:href=\"#DejaVuSans-99\"/>\r\n      <use x=\"133.691406\" xlink:href=\"#DejaVuSans-99\"/>\r\n      <use x=\"188.671875\" xlink:href=\"#DejaVuSans-105\"/>\r\n      <use x=\"216.455078\" xlink:href=\"#DejaVuSans-116\"/>\r\n      <use x=\"255.664062\" xlink:href=\"#DejaVuSans-97\"/>\r\n      <use x=\"316.943359\" xlink:href=\"#DejaVuSans-110\"/>\r\n      <use x=\"380.322266\" xlink:href=\"#DejaVuSans-105\"/>\r\n      <use x=\"408.105469\" xlink:href=\"#DejaVuSans-101\"/>\r\n     </g>\r\n    </g>\r\n   </g>\r\n   <g id=\"text_29\">\r\n    <g clip-path=\"url(#p342c6b1659)\">\r\n     <!-- Normandie -->\r\n     <g transform=\"translate(9.910696 452.834685)scale(0.11 -0.11)\">\r\n      <use xlink:href=\"#DejaVuSans-78\"/>\r\n      <use x=\"74.804688\" xlink:href=\"#DejaVuSans-111\"/>\r\n      <use x=\"135.986328\" xlink:href=\"#DejaVuSans-114\"/>\r\n      <use x=\"175.349609\" xlink:href=\"#DejaVuSans-109\"/>\r\n      <use x=\"272.761719\" xlink:href=\"#DejaVuSans-97\"/>\r\n      <use x=\"334.041016\" xlink:href=\"#DejaVuSans-110\"/>\r\n      <use x=\"397.419922\" xlink:href=\"#DejaVuSans-100\"/>\r\n      <use x=\"460.896484\" xlink:href=\"#DejaVuSans-105\"/>\r\n      <use x=\"488.679688\" xlink:href=\"#DejaVuSans-101\"/>\r\n     </g>\r\n    </g>\r\n   </g>\r\n  </g>\r\n  <g id=\"text_30\">\r\n   <!-- Undirected graph of patient transfers -->\r\n   <g transform=\"translate(199.544844 20.117344)scale(0.17 -0.17)\">\r\n    <defs>\r\n     <path d=\"M 8.6875 72.90625 \r\nL 18.609375 72.90625 \r\nL 18.609375 28.609375 \r\nQ 18.609375 16.890625 22.84375 11.734375 \r\nQ 27.09375 6.59375 36.625 6.59375 \r\nQ 46.09375 6.59375 50.34375 11.734375 \r\nQ 54.59375 16.890625 54.59375 28.609375 \r\nL 54.59375 72.90625 \r\nL 64.5 72.90625 \r\nL 64.5 27.390625 \r\nQ 64.5 13.140625 57.4375 5.859375 \r\nQ 50.390625 -1.421875 36.625 -1.421875 \r\nQ 22.796875 -1.421875 15.734375 5.859375 \r\nQ 8.6875 13.140625 8.6875 27.390625 \r\nz\r\n\" id=\"DejaVuSans-85\"/>\r\n     <path d=\"M 37.109375 75.984375 \r\nL 37.109375 68.5 \r\nL 28.515625 68.5 \r\nQ 23.6875 68.5 21.796875 66.546875 \r\nQ 19.921875 64.59375 19.921875 59.515625 \r\nL 19.921875 54.6875 \r\nL 34.71875 54.6875 \r\nL 34.71875 47.703125 \r\nL 19.921875 47.703125 \r\nL 19.921875 0 \r\nL 10.890625 0 \r\nL 10.890625 47.703125 \r\nL 2.296875 47.703125 \r\nL 2.296875 54.6875 \r\nL 10.890625 54.6875 \r\nL 10.890625 58.5 \r\nQ 10.890625 67.625 15.140625 71.796875 \r\nQ 19.390625 75.984375 28.609375 75.984375 \r\nz\r\n\" id=\"DejaVuSans-102\"/>\r\n    </defs>\r\n    <use xlink:href=\"#DejaVuSans-85\"/>\r\n    <use x=\"73.193359\" xlink:href=\"#DejaVuSans-110\"/>\r\n    <use x=\"136.572266\" xlink:href=\"#DejaVuSans-100\"/>\r\n    <use x=\"200.048828\" xlink:href=\"#DejaVuSans-105\"/>\r\n    <use x=\"227.832031\" xlink:href=\"#DejaVuSans-114\"/>\r\n    <use x=\"266.695312\" xlink:href=\"#DejaVuSans-101\"/>\r\n    <use x=\"328.21875\" xlink:href=\"#DejaVuSans-99\"/>\r\n    <use x=\"383.199219\" xlink:href=\"#DejaVuSans-116\"/>\r\n    <use x=\"422.408203\" xlink:href=\"#DejaVuSans-101\"/>\r\n    <use x=\"483.931641\" xlink:href=\"#DejaVuSans-100\"/>\r\n    <use x=\"547.408203\" xlink:href=\"#DejaVuSans-32\"/>\r\n    <use x=\"579.195312\" xlink:href=\"#DejaVuSans-103\"/>\r\n    <use x=\"642.671875\" xlink:href=\"#DejaVuSans-114\"/>\r\n    <use x=\"683.785156\" xlink:href=\"#DejaVuSans-97\"/>\r\n    <use x=\"745.064453\" xlink:href=\"#DejaVuSans-112\"/>\r\n    <use x=\"808.541016\" xlink:href=\"#DejaVuSans-104\"/>\r\n    <use x=\"871.919922\" xlink:href=\"#DejaVuSans-32\"/>\r\n    <use x=\"903.707031\" xlink:href=\"#DejaVuSans-111\"/>\r\n    <use x=\"964.888672\" xlink:href=\"#DejaVuSans-102\"/>\r\n    <use x=\"1000.09375\" xlink:href=\"#DejaVuSans-32\"/>\r\n    <use x=\"1031.880859\" xlink:href=\"#DejaVuSans-112\"/>\r\n    <use x=\"1095.357422\" xlink:href=\"#DejaVuSans-97\"/>\r\n    <use x=\"1156.636719\" xlink:href=\"#DejaVuSans-116\"/>\r\n    <use x=\"1195.845703\" xlink:href=\"#DejaVuSans-105\"/>\r\n    <use x=\"1223.628906\" xlink:href=\"#DejaVuSans-101\"/>\r\n    <use x=\"1285.152344\" xlink:href=\"#DejaVuSans-110\"/>\r\n    <use x=\"1348.53125\" xlink:href=\"#DejaVuSans-116\"/>\r\n    <use x=\"1387.740234\" xlink:href=\"#DejaVuSans-32\"/>\r\n    <use x=\"1419.527344\" xlink:href=\"#DejaVuSans-116\"/>\r\n    <use x=\"1458.736328\" xlink:href=\"#DejaVuSans-114\"/>\r\n    <use x=\"1499.849609\" xlink:href=\"#DejaVuSans-97\"/>\r\n    <use x=\"1561.128906\" xlink:href=\"#DejaVuSans-110\"/>\r\n    <use x=\"1624.507812\" xlink:href=\"#DejaVuSans-115\"/>\r\n    <use x=\"1676.607422\" xlink:href=\"#DejaVuSans-102\"/>\r\n    <use x=\"1711.8125\" xlink:href=\"#DejaVuSans-101\"/>\r\n    <use x=\"1773.335938\" xlink:href=\"#DejaVuSans-114\"/>\r\n    <use x=\"1814.449219\" xlink:href=\"#DejaVuSans-115\"/>\r\n   </g>\r\n  </g>\r\n </g>\r\n <defs>\r\n  <clipPath id=\"p342c6b1659\">\r\n   <rect height=\"489.24\" width=\"725.4\" x=\"7.2\" y=\"33.077344\"/>\r\n  </clipPath>\r\n </defs>\r\n</svg>\r\n",
      "image/png": "[encoded data removed]"
     },
     "metadata": {}
    },
    {
     "output_type": "display_data",
     "data": {
      "text/plain": "<Figure size 792x792 with 1 Axes>",
      "image/svg+xml": "<?xml version=\"1.0\" encoding=\"utf-8\" standalone=\"no\"?>\r\n<!DOCTYPE svg PUBLIC \"-//W3C//DTD SVG 1.1//EN\"\r\n  \"http://www.w3.org/Graphics/SVG/1.1/DTD/svg11.dtd\">\r\n<!-- Created with matplotlib (https://matplotlib.org/) -->\r\n<svg height=\"692.137344pt\" version=\"1.1\" viewBox=\"0 0 632.085 692.137344\" width=\"632.085pt\" xmlns=\"http://www.w3.org/2000/svg\" xmlns:xlink=\"http://www.w3.org/1999/xlink\">\r\n <metadata>\r\n  <rdf:RDF xmlns:cc=\"http://creativecommons.org/ns#\" xmlns:dc=\"http://purl.org/dc/elements/1.1/\" xmlns:rdf=\"http://www.w3.org/1999/02/22-rdf-syntax-ns#\">\r\n   <cc:Work>\r\n    <dc:type rdf:resource=\"http://purl.org/dc/dcmitype/StillImage\"/>\r\n    <dc:date>2021-04-24T20:54:18.805780</dc:date>\r\n    <dc:format>image/svg+xml</dc:format>\r\n    <dc:creator>\r\n     <cc:Agent>\r\n      <dc:title>Matplotlib v3.3.2, https://matplotlib.org/</dc:title>\r\n     </cc:Agent>\r\n    </dc:creator>\r\n   </cc:Work>\r\n  </rdf:RDF>\r\n </metadata>\r\n <defs>\r\n  <style type=\"text/css\">*{stroke-linecap:butt;stroke-linejoin:round;}</style>\r\n </defs>\r\n <g id=\"figure_1\">\r\n  <g id=\"patch_1\">\r\n   <path d=\"M 0 692.137344 \r\nL 632.085 692.137344 \r\nL 632.085 -0 \r\nL 0 -0 \r\nz\r\n\" style=\"fill:none;\"/>\r\n  </g>\r\n  <g id=\"axes_1\">\r\n   <g id=\"patch_2\">\r\n    <path d=\"M 26.925 681.437344 \r\nL 624.885 681.437344 \r\nL 624.885 83.477344 \r\nL 26.925 83.477344 \r\nz\r\n\" style=\"fill:#ffffff;\"/>\r\n   </g>\r\n   <g id=\"matplotlib.axis_1\">\r\n    <g id=\"xtick_1\">\r\n     <g id=\"line2d_1\">\r\n      <defs>\r\n       <path d=\"M 0 0 \r\nL 0 3.5 \r\n\" id=\"m1f8bd025aa\" style=\"stroke:#000000;stroke-width:0.8;\"/>\r\n      </defs>\r\n      <g>\r\n       <use style=\"stroke:#000000;stroke-width:0.8;\" x=\"49.923462\" xlink:href=\"#m1f8bd025aa\" y=\"681.437344\"/>\r\n      </g>\r\n     </g>\r\n     <g id=\"line2d_2\">\r\n      <defs>\r\n       <path d=\"M 0 0 \r\nL 0 -3.5 \r\n\" id=\"m873f91b10f\" style=\"stroke:#000000;stroke-width:0.8;\"/>\r\n      </defs>\r\n      <g>\r\n       <use style=\"stroke:#000000;stroke-width:0.8;\" x=\"49.923462\" xlink:href=\"#m873f91b10f\" y=\"83.477344\"/>\r\n      </g>\r\n     </g>\r\n     <g id=\"text_1\">\r\n      <!-- 0 -->\r\n      <g transform=\"translate(46.742212 74.397656)scale(0.1 -0.1)\">\r\n       <defs>\r\n        <path d=\"M 31.78125 66.40625 \r\nQ 24.171875 66.40625 20.328125 58.90625 \r\nQ 16.5 51.421875 16.5 36.375 \r\nQ 16.5 21.390625 20.328125 13.890625 \r\nQ 24.171875 6.390625 31.78125 6.390625 \r\nQ 39.453125 6.390625 43.28125 13.890625 \r\nQ 47.125 21.390625 47.125 36.375 \r\nQ 47.125 51.421875 43.28125 58.90625 \r\nQ 39.453125 66.40625 31.78125 66.40625 \r\nz\r\nM 31.78125 74.21875 \r\nQ 44.046875 74.21875 50.515625 64.515625 \r\nQ 56.984375 54.828125 56.984375 36.375 \r\nQ 56.984375 17.96875 50.515625 8.265625 \r\nQ 44.046875 -1.421875 31.78125 -1.421875 \r\nQ 19.53125 -1.421875 13.0625 8.265625 \r\nQ 6.59375 17.96875 6.59375 36.375 \r\nQ 6.59375 54.828125 13.0625 64.515625 \r\nQ 19.53125 74.21875 31.78125 74.21875 \r\nz\r\n\" id=\"DejaVuSans-48\"/>\r\n       </defs>\r\n       <use xlink:href=\"#DejaVuSans-48\"/>\r\n      </g>\r\n     </g>\r\n    </g>\r\n    <g id=\"xtick_2\">\r\n     <g id=\"line2d_3\">\r\n      <g>\r\n       <use style=\"stroke:#000000;stroke-width:0.8;\" x=\"141.917308\" xlink:href=\"#m1f8bd025aa\" y=\"681.437344\"/>\r\n      </g>\r\n     </g>\r\n     <g id=\"line2d_4\">\r\n      <g>\r\n       <use style=\"stroke:#000000;stroke-width:0.8;\" x=\"141.917308\" xlink:href=\"#m873f91b10f\" y=\"83.477344\"/>\r\n      </g>\r\n     </g>\r\n     <g id=\"text_2\">\r\n      <!-- 2 -->\r\n      <g transform=\"translate(138.736058 74.397656)scale(0.1 -0.1)\">\r\n       <defs>\r\n        <path d=\"M 19.1875 8.296875 \r\nL 53.609375 8.296875 \r\nL 53.609375 0 \r\nL 7.328125 0 \r\nL 7.328125 8.296875 \r\nQ 12.9375 14.109375 22.625 23.890625 \r\nQ 32.328125 33.6875 34.8125 36.53125 \r\nQ 39.546875 41.84375 41.421875 45.53125 \r\nQ 43.3125 49.21875 43.3125 52.78125 \r\nQ 43.3125 58.59375 39.234375 62.25 \r\nQ 35.15625 65.921875 28.609375 65.921875 \r\nQ 23.96875 65.921875 18.8125 64.3125 \r\nQ 13.671875 62.703125 7.8125 59.421875 \r\nL 7.8125 69.390625 \r\nQ 13.765625 71.78125 18.9375 73 \r\nQ 24.125 74.21875 28.421875 74.21875 \r\nQ 39.75 74.21875 46.484375 68.546875 \r\nQ 53.21875 62.890625 53.21875 53.421875 \r\nQ 53.21875 48.921875 51.53125 44.890625 \r\nQ 49.859375 40.875 45.40625 35.40625 \r\nQ 44.1875 33.984375 37.640625 27.21875 \r\nQ 31.109375 20.453125 19.1875 8.296875 \r\nz\r\n\" id=\"DejaVuSans-50\"/>\r\n       </defs>\r\n       <use xlink:href=\"#DejaVuSans-50\"/>\r\n      </g>\r\n     </g>\r\n    </g>\r\n    <g id=\"xtick_3\">\r\n     <g id=\"line2d_5\">\r\n      <g>\r\n       <use style=\"stroke:#000000;stroke-width:0.8;\" x=\"233.911154\" xlink:href=\"#m1f8bd025aa\" y=\"681.437344\"/>\r\n      </g>\r\n     </g>\r\n     <g id=\"line2d_6\">\r\n      <g>\r\n       <use style=\"stroke:#000000;stroke-width:0.8;\" x=\"233.911154\" xlink:href=\"#m873f91b10f\" y=\"83.477344\"/>\r\n      </g>\r\n     </g>\r\n     <g id=\"text_3\">\r\n      <!-- 4 -->\r\n      <g transform=\"translate(230.729904 74.397656)scale(0.1 -0.1)\">\r\n       <defs>\r\n        <path d=\"M 37.796875 64.3125 \r\nL 12.890625 25.390625 \r\nL 37.796875 25.390625 \r\nz\r\nM 35.203125 72.90625 \r\nL 47.609375 72.90625 \r\nL 47.609375 25.390625 \r\nL 58.015625 25.390625 \r\nL 58.015625 17.1875 \r\nL 47.609375 17.1875 \r\nL 47.609375 0 \r\nL 37.796875 0 \r\nL 37.796875 17.1875 \r\nL 4.890625 17.1875 \r\nL 4.890625 26.703125 \r\nz\r\n\" id=\"DejaVuSans-52\"/>\r\n       </defs>\r\n       <use xlink:href=\"#DejaVuSans-52\"/>\r\n      </g>\r\n     </g>\r\n    </g>\r\n    <g id=\"xtick_4\">\r\n     <g id=\"line2d_7\">\r\n      <g>\r\n       <use style=\"stroke:#000000;stroke-width:0.8;\" x=\"325.905\" xlink:href=\"#m1f8bd025aa\" y=\"681.437344\"/>\r\n      </g>\r\n     </g>\r\n     <g id=\"line2d_8\">\r\n      <g>\r\n       <use style=\"stroke:#000000;stroke-width:0.8;\" x=\"325.905\" xlink:href=\"#m873f91b10f\" y=\"83.477344\"/>\r\n      </g>\r\n     </g>\r\n     <g id=\"text_4\">\r\n      <!-- 6 -->\r\n      <g transform=\"translate(322.72375 74.397656)scale(0.1 -0.1)\">\r\n       <defs>\r\n        <path d=\"M 33.015625 40.375 \r\nQ 26.375 40.375 22.484375 35.828125 \r\nQ 18.609375 31.296875 18.609375 23.390625 \r\nQ 18.609375 15.53125 22.484375 10.953125 \r\nQ 26.375 6.390625 33.015625 6.390625 \r\nQ 39.65625 6.390625 43.53125 10.953125 \r\nQ 47.40625 15.53125 47.40625 23.390625 \r\nQ 47.40625 31.296875 43.53125 35.828125 \r\nQ 39.65625 40.375 33.015625 40.375 \r\nz\r\nM 52.59375 71.296875 \r\nL 52.59375 62.3125 \r\nQ 48.875 64.0625 45.09375 64.984375 \r\nQ 41.3125 65.921875 37.59375 65.921875 \r\nQ 27.828125 65.921875 22.671875 59.328125 \r\nQ 17.53125 52.734375 16.796875 39.40625 \r\nQ 19.671875 43.65625 24.015625 45.921875 \r\nQ 28.375 48.1875 33.59375 48.1875 \r\nQ 44.578125 48.1875 50.953125 41.515625 \r\nQ 57.328125 34.859375 57.328125 23.390625 \r\nQ 57.328125 12.15625 50.6875 5.359375 \r\nQ 44.046875 -1.421875 33.015625 -1.421875 \r\nQ 20.359375 -1.421875 13.671875 8.265625 \r\nQ 6.984375 17.96875 6.984375 36.375 \r\nQ 6.984375 53.65625 15.1875 63.9375 \r\nQ 23.390625 74.21875 37.203125 74.21875 \r\nQ 40.921875 74.21875 44.703125 73.484375 \r\nQ 48.484375 72.75 52.59375 71.296875 \r\nz\r\n\" id=\"DejaVuSans-54\"/>\r\n       </defs>\r\n       <use xlink:href=\"#DejaVuSans-54\"/>\r\n      </g>\r\n     </g>\r\n    </g>\r\n    <g id=\"xtick_5\">\r\n     <g id=\"line2d_9\">\r\n      <g>\r\n       <use style=\"stroke:#000000;stroke-width:0.8;\" x=\"417.898846\" xlink:href=\"#m1f8bd025aa\" y=\"681.437344\"/>\r\n      </g>\r\n     </g>\r\n     <g id=\"line2d_10\">\r\n      <g>\r\n       <use style=\"stroke:#000000;stroke-width:0.8;\" x=\"417.898846\" xlink:href=\"#m873f91b10f\" y=\"83.477344\"/>\r\n      </g>\r\n     </g>\r\n     <g id=\"text_5\">\r\n      <!-- 8 -->\r\n      <g transform=\"translate(414.717596 74.397656)scale(0.1 -0.1)\">\r\n       <defs>\r\n        <path d=\"M 31.78125 34.625 \r\nQ 24.75 34.625 20.71875 30.859375 \r\nQ 16.703125 27.09375 16.703125 20.515625 \r\nQ 16.703125 13.921875 20.71875 10.15625 \r\nQ 24.75 6.390625 31.78125 6.390625 \r\nQ 38.8125 6.390625 42.859375 10.171875 \r\nQ 46.921875 13.96875 46.921875 20.515625 \r\nQ 46.921875 27.09375 42.890625 30.859375 \r\nQ 38.875 34.625 31.78125 34.625 \r\nz\r\nM 21.921875 38.8125 \r\nQ 15.578125 40.375 12.03125 44.71875 \r\nQ 8.5 49.078125 8.5 55.328125 \r\nQ 8.5 64.0625 14.71875 69.140625 \r\nQ 20.953125 74.21875 31.78125 74.21875 \r\nQ 42.671875 74.21875 48.875 69.140625 \r\nQ 55.078125 64.0625 55.078125 55.328125 \r\nQ 55.078125 49.078125 51.53125 44.71875 \r\nQ 48 40.375 41.703125 38.8125 \r\nQ 48.828125 37.15625 52.796875 32.3125 \r\nQ 56.78125 27.484375 56.78125 20.515625 \r\nQ 56.78125 9.90625 50.3125 4.234375 \r\nQ 43.84375 -1.421875 31.78125 -1.421875 \r\nQ 19.734375 -1.421875 13.25 4.234375 \r\nQ 6.78125 9.90625 6.78125 20.515625 \r\nQ 6.78125 27.484375 10.78125 32.3125 \r\nQ 14.796875 37.15625 21.921875 38.8125 \r\nz\r\nM 18.3125 54.390625 \r\nQ 18.3125 48.734375 21.84375 45.5625 \r\nQ 25.390625 42.390625 31.78125 42.390625 \r\nQ 38.140625 42.390625 41.71875 45.5625 \r\nQ 45.3125 48.734375 45.3125 54.390625 \r\nQ 45.3125 60.0625 41.71875 63.234375 \r\nQ 38.140625 66.40625 31.78125 66.40625 \r\nQ 25.390625 66.40625 21.84375 63.234375 \r\nQ 18.3125 60.0625 18.3125 54.390625 \r\nz\r\n\" id=\"DejaVuSans-56\"/>\r\n       </defs>\r\n       <use xlink:href=\"#DejaVuSans-56\"/>\r\n      </g>\r\n     </g>\r\n    </g>\r\n    <g id=\"xtick_6\">\r\n     <g id=\"line2d_11\">\r\n      <g>\r\n       <use style=\"stroke:#000000;stroke-width:0.8;\" x=\"509.892692\" xlink:href=\"#m1f8bd025aa\" y=\"681.437344\"/>\r\n      </g>\r\n     </g>\r\n     <g id=\"line2d_12\">\r\n      <g>\r\n       <use style=\"stroke:#000000;stroke-width:0.8;\" x=\"509.892692\" xlink:href=\"#m873f91b10f\" y=\"83.477344\"/>\r\n      </g>\r\n     </g>\r\n     <g id=\"text_6\">\r\n      <!-- 10 -->\r\n      <g transform=\"translate(503.530192 74.397656)scale(0.1 -0.1)\">\r\n       <defs>\r\n        <path d=\"M 12.40625 8.296875 \r\nL 28.515625 8.296875 \r\nL 28.515625 63.921875 \r\nL 10.984375 60.40625 \r\nL 10.984375 69.390625 \r\nL 28.421875 72.90625 \r\nL 38.28125 72.90625 \r\nL 38.28125 8.296875 \r\nL 54.390625 8.296875 \r\nL 54.390625 0 \r\nL 12.40625 0 \r\nz\r\n\" id=\"DejaVuSans-49\"/>\r\n       </defs>\r\n       <use xlink:href=\"#DejaVuSans-49\"/>\r\n       <use x=\"63.623047\" xlink:href=\"#DejaVuSans-48\"/>\r\n      </g>\r\n     </g>\r\n    </g>\r\n    <g id=\"xtick_7\">\r\n     <g id=\"line2d_13\">\r\n      <g>\r\n       <use style=\"stroke:#000000;stroke-width:0.8;\" x=\"601.886538\" xlink:href=\"#m1f8bd025aa\" y=\"681.437344\"/>\r\n      </g>\r\n     </g>\r\n     <g id=\"line2d_14\">\r\n      <g>\r\n       <use style=\"stroke:#000000;stroke-width:0.8;\" x=\"601.886538\" xlink:href=\"#m873f91b10f\" y=\"83.477344\"/>\r\n      </g>\r\n     </g>\r\n     <g id=\"text_7\">\r\n      <!-- 12 -->\r\n      <g transform=\"translate(595.524038 74.397656)scale(0.1 -0.1)\">\r\n       <use xlink:href=\"#DejaVuSans-49\"/>\r\n       <use x=\"63.623047\" xlink:href=\"#DejaVuSans-50\"/>\r\n      </g>\r\n     </g>\r\n    </g>\r\n   </g>\r\n   <g id=\"matplotlib.axis_2\">\r\n    <g id=\"ytick_1\">\r\n     <g id=\"line2d_15\">\r\n      <defs>\r\n       <path d=\"M 0 0 \r\nL -3.5 0 \r\n\" id=\"m2ab13ac276\" style=\"stroke:#000000;stroke-width:0.8;\"/>\r\n      </defs>\r\n      <g>\r\n       <use style=\"stroke:#000000;stroke-width:0.8;\" x=\"26.925\" xlink:href=\"#m2ab13ac276\" y=\"106.475805\"/>\r\n      </g>\r\n     </g>\r\n     <g id=\"text_8\">\r\n      <!-- 0 -->\r\n      <g transform=\"translate(13.5625 110.275024)scale(0.1 -0.1)\">\r\n       <use xlink:href=\"#DejaVuSans-48\"/>\r\n      </g>\r\n     </g>\r\n    </g>\r\n    <g id=\"ytick_2\">\r\n     <g id=\"line2d_16\">\r\n      <g>\r\n       <use style=\"stroke:#000000;stroke-width:0.8;\" x=\"26.925\" xlink:href=\"#m2ab13ac276\" y=\"198.469651\"/>\r\n      </g>\r\n     </g>\r\n     <g id=\"text_9\">\r\n      <!-- 2 -->\r\n      <g transform=\"translate(13.5625 202.26887)scale(0.1 -0.1)\">\r\n       <use xlink:href=\"#DejaVuSans-50\"/>\r\n      </g>\r\n     </g>\r\n    </g>\r\n    <g id=\"ytick_3\">\r\n     <g id=\"line2d_17\">\r\n      <g>\r\n       <use style=\"stroke:#000000;stroke-width:0.8;\" x=\"26.925\" xlink:href=\"#m2ab13ac276\" y=\"290.463498\"/>\r\n      </g>\r\n     </g>\r\n     <g id=\"text_10\">\r\n      <!-- 4 -->\r\n      <g transform=\"translate(13.5625 294.262716)scale(0.1 -0.1)\">\r\n       <use xlink:href=\"#DejaVuSans-52\"/>\r\n      </g>\r\n     </g>\r\n    </g>\r\n    <g id=\"ytick_4\">\r\n     <g id=\"line2d_18\">\r\n      <g>\r\n       <use style=\"stroke:#000000;stroke-width:0.8;\" x=\"26.925\" xlink:href=\"#m2ab13ac276\" y=\"382.457344\"/>\r\n      </g>\r\n     </g>\r\n     <g id=\"text_11\">\r\n      <!-- 6 -->\r\n      <g transform=\"translate(13.5625 386.256562)scale(0.1 -0.1)\">\r\n       <use xlink:href=\"#DejaVuSans-54\"/>\r\n      </g>\r\n     </g>\r\n    </g>\r\n    <g id=\"ytick_5\">\r\n     <g id=\"line2d_19\">\r\n      <g>\r\n       <use style=\"stroke:#000000;stroke-width:0.8;\" x=\"26.925\" xlink:href=\"#m2ab13ac276\" y=\"474.45119\"/>\r\n      </g>\r\n     </g>\r\n     <g id=\"text_12\">\r\n      <!-- 8 -->\r\n      <g transform=\"translate(13.5625 478.250409)scale(0.1 -0.1)\">\r\n       <use xlink:href=\"#DejaVuSans-56\"/>\r\n      </g>\r\n     </g>\r\n    </g>\r\n    <g id=\"ytick_6\">\r\n     <g id=\"line2d_20\">\r\n      <g>\r\n       <use style=\"stroke:#000000;stroke-width:0.8;\" x=\"26.925\" xlink:href=\"#m2ab13ac276\" y=\"566.445036\"/>\r\n      </g>\r\n     </g>\r\n     <g id=\"text_13\">\r\n      <!-- 10 -->\r\n      <g transform=\"translate(7.2 570.244255)scale(0.1 -0.1)\">\r\n       <use xlink:href=\"#DejaVuSans-49\"/>\r\n       <use x=\"63.623047\" xlink:href=\"#DejaVuSans-48\"/>\r\n      </g>\r\n     </g>\r\n    </g>\r\n    <g id=\"ytick_7\">\r\n     <g id=\"line2d_21\">\r\n      <g>\r\n       <use style=\"stroke:#000000;stroke-width:0.8;\" x=\"26.925\" xlink:href=\"#m2ab13ac276\" y=\"658.438882\"/>\r\n      </g>\r\n     </g>\r\n     <g id=\"text_14\">\r\n      <!-- 12 -->\r\n      <g transform=\"translate(7.2 662.238101)scale(0.1 -0.1)\">\r\n       <use xlink:href=\"#DejaVuSans-49\"/>\r\n       <use x=\"63.623047\" xlink:href=\"#DejaVuSans-50\"/>\r\n      </g>\r\n     </g>\r\n    </g>\r\n   </g>\r\n   <g id=\"line2d_22\">\r\n    <defs>\r\n     <path d=\"M -5 5 \r\nL 5 5 \r\nL 5 -5 \r\nL -5 -5 \r\nz\r\n\" id=\"ma009b4efce\" style=\"stroke:#971b85;stroke-linejoin:miter;stroke-opacity:0.6;\"/>\r\n    </defs>\r\n    <g clip-path=\"url(#p0adfd3c3e4)\">\r\n     <use style=\"fill:#971b85;fill-opacity:0.6;stroke:#971b85;stroke-linejoin:miter;stroke-opacity:0.6;\" x=\"95.920385\" xlink:href=\"#ma009b4efce\" y=\"106.475805\"/>\r\n     <use style=\"fill:#971b85;fill-opacity:0.6;stroke:#971b85;stroke-linejoin:miter;stroke-opacity:0.6;\" x=\"141.917308\" xlink:href=\"#ma009b4efce\" y=\"106.475805\"/>\r\n     <use style=\"fill:#971b85;fill-opacity:0.6;stroke:#971b85;stroke-linejoin:miter;stroke-opacity:0.6;\" x=\"233.911154\" xlink:href=\"#ma009b4efce\" y=\"106.475805\"/>\r\n     <use style=\"fill:#971b85;fill-opacity:0.6;stroke:#971b85;stroke-linejoin:miter;stroke-opacity:0.6;\" x=\"279.908077\" xlink:href=\"#ma009b4efce\" y=\"106.475805\"/>\r\n     <use style=\"fill:#971b85;fill-opacity:0.6;stroke:#971b85;stroke-linejoin:miter;stroke-opacity:0.6;\" x=\"509.892692\" xlink:href=\"#ma009b4efce\" y=\"106.475805\"/>\r\n     <use style=\"fill:#971b85;fill-opacity:0.6;stroke:#971b85;stroke-linejoin:miter;stroke-opacity:0.6;\" x=\"555.889615\" xlink:href=\"#ma009b4efce\" y=\"106.475805\"/>\r\n     <use style=\"fill:#971b85;fill-opacity:0.6;stroke:#971b85;stroke-linejoin:miter;stroke-opacity:0.6;\" x=\"49.923462\" xlink:href=\"#ma009b4efce\" y=\"152.472728\"/>\r\n     <use style=\"fill:#971b85;fill-opacity:0.6;stroke:#971b85;stroke-linejoin:miter;stroke-opacity:0.6;\" x=\"187.914231\" xlink:href=\"#ma009b4efce\" y=\"152.472728\"/>\r\n     <use style=\"fill:#971b85;fill-opacity:0.6;stroke:#971b85;stroke-linejoin:miter;stroke-opacity:0.6;\" x=\"417.898846\" xlink:href=\"#ma009b4efce\" y=\"152.472728\"/>\r\n     <use style=\"fill:#971b85;fill-opacity:0.6;stroke:#971b85;stroke-linejoin:miter;stroke-opacity:0.6;\" x=\"49.923462\" xlink:href=\"#ma009b4efce\" y=\"198.469651\"/>\r\n     <use style=\"fill:#971b85;fill-opacity:0.6;stroke:#971b85;stroke-linejoin:miter;stroke-opacity:0.6;\" x=\"325.905\" xlink:href=\"#ma009b4efce\" y=\"198.469651\"/>\r\n     <use style=\"fill:#971b85;fill-opacity:0.6;stroke:#971b85;stroke-linejoin:miter;stroke-opacity:0.6;\" x=\"95.920385\" xlink:href=\"#ma009b4efce\" y=\"244.466575\"/>\r\n     <use style=\"fill:#971b85;fill-opacity:0.6;stroke:#971b85;stroke-linejoin:miter;stroke-opacity:0.6;\" x=\"49.923462\" xlink:href=\"#ma009b4efce\" y=\"290.463498\"/>\r\n     <use style=\"fill:#971b85;fill-opacity:0.6;stroke:#971b85;stroke-linejoin:miter;stroke-opacity:0.6;\" x=\"325.905\" xlink:href=\"#ma009b4efce\" y=\"290.463498\"/>\r\n     <use style=\"fill:#971b85;fill-opacity:0.6;stroke:#971b85;stroke-linejoin:miter;stroke-opacity:0.6;\" x=\"49.923462\" xlink:href=\"#ma009b4efce\" y=\"336.460421\"/>\r\n     <use style=\"fill:#971b85;fill-opacity:0.6;stroke:#971b85;stroke-linejoin:miter;stroke-opacity:0.6;\" x=\"325.905\" xlink:href=\"#ma009b4efce\" y=\"336.460421\"/>\r\n     <use style=\"fill:#971b85;fill-opacity:0.6;stroke:#971b85;stroke-linejoin:miter;stroke-opacity:0.6;\" x=\"141.917308\" xlink:href=\"#ma009b4efce\" y=\"382.457344\"/>\r\n     <use style=\"fill:#971b85;fill-opacity:0.6;stroke:#971b85;stroke-linejoin:miter;stroke-opacity:0.6;\" x=\"233.911154\" xlink:href=\"#ma009b4efce\" y=\"382.457344\"/>\r\n     <use style=\"fill:#971b85;fill-opacity:0.6;stroke:#971b85;stroke-linejoin:miter;stroke-opacity:0.6;\" x=\"279.908077\" xlink:href=\"#ma009b4efce\" y=\"382.457344\"/>\r\n     <use style=\"fill:#971b85;fill-opacity:0.6;stroke:#971b85;stroke-linejoin:miter;stroke-opacity:0.6;\" x=\"371.901923\" xlink:href=\"#ma009b4efce\" y=\"382.457344\"/>\r\n     <use style=\"fill:#971b85;fill-opacity:0.6;stroke:#971b85;stroke-linejoin:miter;stroke-opacity:0.6;\" x=\"463.895769\" xlink:href=\"#ma009b4efce\" y=\"382.457344\"/>\r\n     <use style=\"fill:#971b85;fill-opacity:0.6;stroke:#971b85;stroke-linejoin:miter;stroke-opacity:0.6;\" x=\"601.886538\" xlink:href=\"#ma009b4efce\" y=\"382.457344\"/>\r\n     <use style=\"fill:#971b85;fill-opacity:0.6;stroke:#971b85;stroke-linejoin:miter;stroke-opacity:0.6;\" x=\"325.905\" xlink:href=\"#ma009b4efce\" y=\"428.454267\"/>\r\n     <use style=\"fill:#971b85;fill-opacity:0.6;stroke:#971b85;stroke-linejoin:miter;stroke-opacity:0.6;\" x=\"95.920385\" xlink:href=\"#ma009b4efce\" y=\"474.45119\"/>\r\n     <use style=\"fill:#971b85;fill-opacity:0.6;stroke:#971b85;stroke-linejoin:miter;stroke-opacity:0.6;\" x=\"463.895769\" xlink:href=\"#ma009b4efce\" y=\"474.45119\"/>\r\n     <use style=\"fill:#971b85;fill-opacity:0.6;stroke:#971b85;stroke-linejoin:miter;stroke-opacity:0.6;\" x=\"509.892692\" xlink:href=\"#ma009b4efce\" y=\"474.45119\"/>\r\n     <use style=\"fill:#971b85;fill-opacity:0.6;stroke:#971b85;stroke-linejoin:miter;stroke-opacity:0.6;\" x=\"325.905\" xlink:href=\"#ma009b4efce\" y=\"520.448113\"/>\r\n     <use style=\"fill:#971b85;fill-opacity:0.6;stroke:#971b85;stroke-linejoin:miter;stroke-opacity:0.6;\" x=\"417.898846\" xlink:href=\"#ma009b4efce\" y=\"520.448113\"/>\r\n     <use style=\"fill:#971b85;fill-opacity:0.6;stroke:#971b85;stroke-linejoin:miter;stroke-opacity:0.6;\" x=\"49.923462\" xlink:href=\"#ma009b4efce\" y=\"566.445036\"/>\r\n     <use style=\"fill:#971b85;fill-opacity:0.6;stroke:#971b85;stroke-linejoin:miter;stroke-opacity:0.6;\" x=\"417.898846\" xlink:href=\"#ma009b4efce\" y=\"566.445036\"/>\r\n     <use style=\"fill:#971b85;fill-opacity:0.6;stroke:#971b85;stroke-linejoin:miter;stroke-opacity:0.6;\" x=\"49.923462\" xlink:href=\"#ma009b4efce\" y=\"612.441959\"/>\r\n     <use style=\"fill:#971b85;fill-opacity:0.6;stroke:#971b85;stroke-linejoin:miter;stroke-opacity:0.6;\" x=\"325.905\" xlink:href=\"#ma009b4efce\" y=\"658.438882\"/>\r\n    </g>\r\n   </g>\r\n   <g id=\"patch_3\">\r\n    <path d=\"M 26.925 681.437344 \r\nL 26.925 83.477344 \r\n\" style=\"fill:none;stroke:#000000;stroke-linecap:square;stroke-linejoin:miter;stroke-width:0.8;\"/>\r\n   </g>\r\n   <g id=\"patch_4\">\r\n    <path d=\"M 624.885 681.437344 \r\nL 624.885 83.477344 \r\n\" style=\"fill:none;stroke:#000000;stroke-linecap:square;stroke-linejoin:miter;stroke-width:0.8;\"/>\r\n   </g>\r\n   <g id=\"patch_5\">\r\n    <path d=\"M 26.925 681.437344 \r\nL 624.885 681.437344 \r\n\" style=\"fill:none;stroke:#000000;stroke-linecap:square;stroke-linejoin:miter;stroke-width:0.8;\"/>\r\n   </g>\r\n   <g id=\"patch_6\">\r\n    <path d=\"M 26.925 83.477344 \r\nL 624.885 83.477344 \r\n\" style=\"fill:none;stroke:#000000;stroke-linecap:square;stroke-linejoin:miter;stroke-width:0.8;\"/>\r\n   </g>\r\n  </g>\r\n  <g id=\"text_15\">\r\n   <!-- Here is the adjacency matrix of the transfer graph -->\r\n   <g transform=\"translate(102.029453 20.117344)scale(0.17 -0.17)\">\r\n    <defs>\r\n     <path d=\"M 9.8125 72.90625 \r\nL 19.671875 72.90625 \r\nL 19.671875 43.015625 \r\nL 55.515625 43.015625 \r\nL 55.515625 72.90625 \r\nL 65.375 72.90625 \r\nL 65.375 0 \r\nL 55.515625 0 \r\nL 55.515625 34.71875 \r\nL 19.671875 34.71875 \r\nL 19.671875 0 \r\nL 9.8125 0 \r\nz\r\n\" id=\"DejaVuSans-72\"/>\r\n     <path d=\"M 56.203125 29.59375 \r\nL 56.203125 25.203125 \r\nL 14.890625 25.203125 \r\nQ 15.484375 15.921875 20.484375 11.0625 \r\nQ 25.484375 6.203125 34.421875 6.203125 \r\nQ 39.59375 6.203125 44.453125 7.46875 \r\nQ 49.3125 8.734375 54.109375 11.28125 \r\nL 54.109375 2.78125 \r\nQ 49.265625 0.734375 44.1875 -0.34375 \r\nQ 39.109375 -1.421875 33.890625 -1.421875 \r\nQ 20.796875 -1.421875 13.15625 6.1875 \r\nQ 5.515625 13.8125 5.515625 26.8125 \r\nQ 5.515625 40.234375 12.765625 48.109375 \r\nQ 20.015625 56 32.328125 56 \r\nQ 43.359375 56 49.78125 48.890625 \r\nQ 56.203125 41.796875 56.203125 29.59375 \r\nz\r\nM 47.21875 32.234375 \r\nQ 47.125 39.59375 43.09375 43.984375 \r\nQ 39.0625 48.390625 32.421875 48.390625 \r\nQ 24.90625 48.390625 20.390625 44.140625 \r\nQ 15.875 39.890625 15.1875 32.171875 \r\nz\r\n\" id=\"DejaVuSans-101\"/>\r\n     <path d=\"M 41.109375 46.296875 \r\nQ 39.59375 47.171875 37.8125 47.578125 \r\nQ 36.03125 48 33.890625 48 \r\nQ 26.265625 48 22.1875 43.046875 \r\nQ 18.109375 38.09375 18.109375 28.8125 \r\nL 18.109375 0 \r\nL 9.078125 0 \r\nL 9.078125 54.6875 \r\nL 18.109375 54.6875 \r\nL 18.109375 46.1875 \r\nQ 20.953125 51.171875 25.484375 53.578125 \r\nQ 30.03125 56 36.53125 56 \r\nQ 37.453125 56 38.578125 55.875 \r\nQ 39.703125 55.765625 41.0625 55.515625 \r\nz\r\n\" id=\"DejaVuSans-114\"/>\r\n     <path id=\"DejaVuSans-32\"/>\r\n     <path d=\"M 9.421875 54.6875 \r\nL 18.40625 54.6875 \r\nL 18.40625 0 \r\nL 9.421875 0 \r\nz\r\nM 9.421875 75.984375 \r\nL 18.40625 75.984375 \r\nL 18.40625 64.59375 \r\nL 9.421875 64.59375 \r\nz\r\n\" id=\"DejaVuSans-105\"/>\r\n     <path d=\"M 44.28125 53.078125 \r\nL 44.28125 44.578125 \r\nQ 40.484375 46.53125 36.375 47.5 \r\nQ 32.28125 48.484375 27.875 48.484375 \r\nQ 21.1875 48.484375 17.84375 46.4375 \r\nQ 14.5 44.390625 14.5 40.28125 \r\nQ 14.5 37.15625 16.890625 35.375 \r\nQ 19.28125 33.59375 26.515625 31.984375 \r\nL 29.59375 31.296875 \r\nQ 39.15625 29.25 43.1875 25.515625 \r\nQ 47.21875 21.78125 47.21875 15.09375 \r\nQ 47.21875 7.46875 41.1875 3.015625 \r\nQ 35.15625 -1.421875 24.609375 -1.421875 \r\nQ 20.21875 -1.421875 15.453125 -0.5625 \r\nQ 10.6875 0.296875 5.421875 2 \r\nL 5.421875 11.28125 \r\nQ 10.40625 8.6875 15.234375 7.390625 \r\nQ 20.0625 6.109375 24.8125 6.109375 \r\nQ 31.15625 6.109375 34.5625 8.28125 \r\nQ 37.984375 10.453125 37.984375 14.40625 \r\nQ 37.984375 18.0625 35.515625 20.015625 \r\nQ 33.0625 21.96875 24.703125 23.78125 \r\nL 21.578125 24.515625 \r\nQ 13.234375 26.265625 9.515625 29.90625 \r\nQ 5.8125 33.546875 5.8125 39.890625 \r\nQ 5.8125 47.609375 11.28125 51.796875 \r\nQ 16.75 56 26.8125 56 \r\nQ 31.78125 56 36.171875 55.265625 \r\nQ 40.578125 54.546875 44.28125 53.078125 \r\nz\r\n\" id=\"DejaVuSans-115\"/>\r\n     <path d=\"M 18.3125 70.21875 \r\nL 18.3125 54.6875 \r\nL 36.8125 54.6875 \r\nL 36.8125 47.703125 \r\nL 18.3125 47.703125 \r\nL 18.3125 18.015625 \r\nQ 18.3125 11.328125 20.140625 9.421875 \r\nQ 21.96875 7.515625 27.59375 7.515625 \r\nL 36.8125 7.515625 \r\nL 36.8125 0 \r\nL 27.59375 0 \r\nQ 17.1875 0 13.234375 3.875 \r\nQ 9.28125 7.765625 9.28125 18.015625 \r\nL 9.28125 47.703125 \r\nL 2.6875 47.703125 \r\nL 2.6875 54.6875 \r\nL 9.28125 54.6875 \r\nL 9.28125 70.21875 \r\nz\r\n\" id=\"DejaVuSans-116\"/>\r\n     <path d=\"M 54.890625 33.015625 \r\nL 54.890625 0 \r\nL 45.90625 0 \r\nL 45.90625 32.71875 \r\nQ 45.90625 40.484375 42.875 44.328125 \r\nQ 39.84375 48.1875 33.796875 48.1875 \r\nQ 26.515625 48.1875 22.3125 43.546875 \r\nQ 18.109375 38.921875 18.109375 30.90625 \r\nL 18.109375 0 \r\nL 9.078125 0 \r\nL 9.078125 75.984375 \r\nL 18.109375 75.984375 \r\nL 18.109375 46.1875 \r\nQ 21.34375 51.125 25.703125 53.5625 \r\nQ 30.078125 56 35.796875 56 \r\nQ 45.21875 56 50.046875 50.171875 \r\nQ 54.890625 44.34375 54.890625 33.015625 \r\nz\r\n\" id=\"DejaVuSans-104\"/>\r\n     <path d=\"M 34.28125 27.484375 \r\nQ 23.390625 27.484375 19.1875 25 \r\nQ 14.984375 22.515625 14.984375 16.5 \r\nQ 14.984375 11.71875 18.140625 8.90625 \r\nQ 21.296875 6.109375 26.703125 6.109375 \r\nQ 34.1875 6.109375 38.703125 11.40625 \r\nQ 43.21875 16.703125 43.21875 25.484375 \r\nL 43.21875 27.484375 \r\nz\r\nM 52.203125 31.203125 \r\nL 52.203125 0 \r\nL 43.21875 0 \r\nL 43.21875 8.296875 \r\nQ 40.140625 3.328125 35.546875 0.953125 \r\nQ 30.953125 -1.421875 24.3125 -1.421875 \r\nQ 15.921875 -1.421875 10.953125 3.296875 \r\nQ 6 8.015625 6 15.921875 \r\nQ 6 25.140625 12.171875 29.828125 \r\nQ 18.359375 34.515625 30.609375 34.515625 \r\nL 43.21875 34.515625 \r\nL 43.21875 35.40625 \r\nQ 43.21875 41.609375 39.140625 45 \r\nQ 35.0625 48.390625 27.6875 48.390625 \r\nQ 23 48.390625 18.546875 47.265625 \r\nQ 14.109375 46.140625 10.015625 43.890625 \r\nL 10.015625 52.203125 \r\nQ 14.9375 54.109375 19.578125 55.046875 \r\nQ 24.21875 56 28.609375 56 \r\nQ 40.484375 56 46.34375 49.84375 \r\nQ 52.203125 43.703125 52.203125 31.203125 \r\nz\r\n\" id=\"DejaVuSans-97\"/>\r\n     <path d=\"M 45.40625 46.390625 \r\nL 45.40625 75.984375 \r\nL 54.390625 75.984375 \r\nL 54.390625 0 \r\nL 45.40625 0 \r\nL 45.40625 8.203125 \r\nQ 42.578125 3.328125 38.25 0.953125 \r\nQ 33.9375 -1.421875 27.875 -1.421875 \r\nQ 17.96875 -1.421875 11.734375 6.484375 \r\nQ 5.515625 14.40625 5.515625 27.296875 \r\nQ 5.515625 40.1875 11.734375 48.09375 \r\nQ 17.96875 56 27.875 56 \r\nQ 33.9375 56 38.25 53.625 \r\nQ 42.578125 51.265625 45.40625 46.390625 \r\nz\r\nM 14.796875 27.296875 \r\nQ 14.796875 17.390625 18.875 11.75 \r\nQ 22.953125 6.109375 30.078125 6.109375 \r\nQ 37.203125 6.109375 41.296875 11.75 \r\nQ 45.40625 17.390625 45.40625 27.296875 \r\nQ 45.40625 37.203125 41.296875 42.84375 \r\nQ 37.203125 48.484375 30.078125 48.484375 \r\nQ 22.953125 48.484375 18.875 42.84375 \r\nQ 14.796875 37.203125 14.796875 27.296875 \r\nz\r\n\" id=\"DejaVuSans-100\"/>\r\n     <path d=\"M 9.421875 54.6875 \r\nL 18.40625 54.6875 \r\nL 18.40625 -0.984375 \r\nQ 18.40625 -11.421875 14.421875 -16.109375 \r\nQ 10.453125 -20.796875 1.609375 -20.796875 \r\nL -1.8125 -20.796875 \r\nL -1.8125 -13.1875 \r\nL 0.59375 -13.1875 \r\nQ 5.71875 -13.1875 7.5625 -10.8125 \r\nQ 9.421875 -8.453125 9.421875 -0.984375 \r\nz\r\nM 9.421875 75.984375 \r\nL 18.40625 75.984375 \r\nL 18.40625 64.59375 \r\nL 9.421875 64.59375 \r\nz\r\n\" id=\"DejaVuSans-106\"/>\r\n     <path d=\"M 48.78125 52.59375 \r\nL 48.78125 44.1875 \r\nQ 44.96875 46.296875 41.140625 47.34375 \r\nQ 37.3125 48.390625 33.40625 48.390625 \r\nQ 24.65625 48.390625 19.8125 42.84375 \r\nQ 14.984375 37.3125 14.984375 27.296875 \r\nQ 14.984375 17.28125 19.8125 11.734375 \r\nQ 24.65625 6.203125 33.40625 6.203125 \r\nQ 37.3125 6.203125 41.140625 7.25 \r\nQ 44.96875 8.296875 48.78125 10.40625 \r\nL 48.78125 2.09375 \r\nQ 45.015625 0.34375 40.984375 -0.53125 \r\nQ 36.96875 -1.421875 32.421875 -1.421875 \r\nQ 20.0625 -1.421875 12.78125 6.34375 \r\nQ 5.515625 14.109375 5.515625 27.296875 \r\nQ 5.515625 40.671875 12.859375 48.328125 \r\nQ 20.21875 56 33.015625 56 \r\nQ 37.15625 56 41.109375 55.140625 \r\nQ 45.0625 54.296875 48.78125 52.59375 \r\nz\r\n\" id=\"DejaVuSans-99\"/>\r\n     <path d=\"M 54.890625 33.015625 \r\nL 54.890625 0 \r\nL 45.90625 0 \r\nL 45.90625 32.71875 \r\nQ 45.90625 40.484375 42.875 44.328125 \r\nQ 39.84375 48.1875 33.796875 48.1875 \r\nQ 26.515625 48.1875 22.3125 43.546875 \r\nQ 18.109375 38.921875 18.109375 30.90625 \r\nL 18.109375 0 \r\nL 9.078125 0 \r\nL 9.078125 54.6875 \r\nL 18.109375 54.6875 \r\nL 18.109375 46.1875 \r\nQ 21.34375 51.125 25.703125 53.5625 \r\nQ 30.078125 56 35.796875 56 \r\nQ 45.21875 56 50.046875 50.171875 \r\nQ 54.890625 44.34375 54.890625 33.015625 \r\nz\r\n\" id=\"DejaVuSans-110\"/>\r\n     <path d=\"M 32.171875 -5.078125 \r\nQ 28.375 -14.84375 24.75 -17.8125 \r\nQ 21.140625 -20.796875 15.09375 -20.796875 \r\nL 7.90625 -20.796875 \r\nL 7.90625 -13.28125 \r\nL 13.1875 -13.28125 \r\nQ 16.890625 -13.28125 18.9375 -11.515625 \r\nQ 21 -9.765625 23.484375 -3.21875 \r\nL 25.09375 0.875 \r\nL 2.984375 54.6875 \r\nL 12.5 54.6875 \r\nL 29.59375 11.921875 \r\nL 46.6875 54.6875 \r\nL 56.203125 54.6875 \r\nz\r\n\" id=\"DejaVuSans-121\"/>\r\n     <path d=\"M 52 44.1875 \r\nQ 55.375 50.25 60.0625 53.125 \r\nQ 64.75 56 71.09375 56 \r\nQ 79.640625 56 84.28125 50.015625 \r\nQ 88.921875 44.046875 88.921875 33.015625 \r\nL 88.921875 0 \r\nL 79.890625 0 \r\nL 79.890625 32.71875 \r\nQ 79.890625 40.578125 77.09375 44.375 \r\nQ 74.3125 48.1875 68.609375 48.1875 \r\nQ 61.625 48.1875 57.5625 43.546875 \r\nQ 53.515625 38.921875 53.515625 30.90625 \r\nL 53.515625 0 \r\nL 44.484375 0 \r\nL 44.484375 32.71875 \r\nQ 44.484375 40.625 41.703125 44.40625 \r\nQ 38.921875 48.1875 33.109375 48.1875 \r\nQ 26.21875 48.1875 22.15625 43.53125 \r\nQ 18.109375 38.875 18.109375 30.90625 \r\nL 18.109375 0 \r\nL 9.078125 0 \r\nL 9.078125 54.6875 \r\nL 18.109375 54.6875 \r\nL 18.109375 46.1875 \r\nQ 21.1875 51.21875 25.484375 53.609375 \r\nQ 29.78125 56 35.6875 56 \r\nQ 41.65625 56 45.828125 52.96875 \r\nQ 50 49.953125 52 44.1875 \r\nz\r\n\" id=\"DejaVuSans-109\"/>\r\n     <path d=\"M 54.890625 54.6875 \r\nL 35.109375 28.078125 \r\nL 55.90625 0 \r\nL 45.3125 0 \r\nL 29.390625 21.484375 \r\nL 13.484375 0 \r\nL 2.875 0 \r\nL 24.125 28.609375 \r\nL 4.6875 54.6875 \r\nL 15.28125 54.6875 \r\nL 29.78125 35.203125 \r\nL 44.28125 54.6875 \r\nz\r\n\" id=\"DejaVuSans-120\"/>\r\n     <path d=\"M 30.609375 48.390625 \r\nQ 23.390625 48.390625 19.1875 42.75 \r\nQ 14.984375 37.109375 14.984375 27.296875 \r\nQ 14.984375 17.484375 19.15625 11.84375 \r\nQ 23.34375 6.203125 30.609375 6.203125 \r\nQ 37.796875 6.203125 41.984375 11.859375 \r\nQ 46.1875 17.53125 46.1875 27.296875 \r\nQ 46.1875 37.015625 41.984375 42.703125 \r\nQ 37.796875 48.390625 30.609375 48.390625 \r\nz\r\nM 30.609375 56 \r\nQ 42.328125 56 49.015625 48.375 \r\nQ 55.71875 40.765625 55.71875 27.296875 \r\nQ 55.71875 13.875 49.015625 6.21875 \r\nQ 42.328125 -1.421875 30.609375 -1.421875 \r\nQ 18.84375 -1.421875 12.171875 6.21875 \r\nQ 5.515625 13.875 5.515625 27.296875 \r\nQ 5.515625 40.765625 12.171875 48.375 \r\nQ 18.84375 56 30.609375 56 \r\nz\r\n\" id=\"DejaVuSans-111\"/>\r\n     <path d=\"M 37.109375 75.984375 \r\nL 37.109375 68.5 \r\nL 28.515625 68.5 \r\nQ 23.6875 68.5 21.796875 66.546875 \r\nQ 19.921875 64.59375 19.921875 59.515625 \r\nL 19.921875 54.6875 \r\nL 34.71875 54.6875 \r\nL 34.71875 47.703125 \r\nL 19.921875 47.703125 \r\nL 19.921875 0 \r\nL 10.890625 0 \r\nL 10.890625 47.703125 \r\nL 2.296875 47.703125 \r\nL 2.296875 54.6875 \r\nL 10.890625 54.6875 \r\nL 10.890625 58.5 \r\nQ 10.890625 67.625 15.140625 71.796875 \r\nQ 19.390625 75.984375 28.609375 75.984375 \r\nz\r\n\" id=\"DejaVuSans-102\"/>\r\n     <path d=\"M 45.40625 27.984375 \r\nQ 45.40625 37.75 41.375 43.109375 \r\nQ 37.359375 48.484375 30.078125 48.484375 \r\nQ 22.859375 48.484375 18.828125 43.109375 \r\nQ 14.796875 37.75 14.796875 27.984375 \r\nQ 14.796875 18.265625 18.828125 12.890625 \r\nQ 22.859375 7.515625 30.078125 7.515625 \r\nQ 37.359375 7.515625 41.375 12.890625 \r\nQ 45.40625 18.265625 45.40625 27.984375 \r\nz\r\nM 54.390625 6.78125 \r\nQ 54.390625 -7.171875 48.1875 -13.984375 \r\nQ 42 -20.796875 29.203125 -20.796875 \r\nQ 24.46875 -20.796875 20.265625 -20.09375 \r\nQ 16.0625 -19.390625 12.109375 -17.921875 \r\nL 12.109375 -9.1875 \r\nQ 16.0625 -11.328125 19.921875 -12.34375 \r\nQ 23.78125 -13.375 27.78125 -13.375 \r\nQ 36.625 -13.375 41.015625 -8.765625 \r\nQ 45.40625 -4.15625 45.40625 5.171875 \r\nL 45.40625 9.625 \r\nQ 42.625 4.78125 38.28125 2.390625 \r\nQ 33.9375 0 27.875 0 \r\nQ 17.828125 0 11.671875 7.65625 \r\nQ 5.515625 15.328125 5.515625 27.984375 \r\nQ 5.515625 40.671875 11.671875 48.328125 \r\nQ 17.828125 56 27.875 56 \r\nQ 33.9375 56 38.28125 53.609375 \r\nQ 42.625 51.21875 45.40625 46.390625 \r\nL 45.40625 54.6875 \r\nL 54.390625 54.6875 \r\nz\r\n\" id=\"DejaVuSans-103\"/>\r\n     <path d=\"M 18.109375 8.203125 \r\nL 18.109375 -20.796875 \r\nL 9.078125 -20.796875 \r\nL 9.078125 54.6875 \r\nL 18.109375 54.6875 \r\nL 18.109375 46.390625 \r\nQ 20.953125 51.265625 25.265625 53.625 \r\nQ 29.59375 56 35.59375 56 \r\nQ 45.5625 56 51.78125 48.09375 \r\nQ 58.015625 40.1875 58.015625 27.296875 \r\nQ 58.015625 14.40625 51.78125 6.484375 \r\nQ 45.5625 -1.421875 35.59375 -1.421875 \r\nQ 29.59375 -1.421875 25.265625 0.953125 \r\nQ 20.953125 3.328125 18.109375 8.203125 \r\nz\r\nM 48.6875 27.296875 \r\nQ 48.6875 37.203125 44.609375 42.84375 \r\nQ 40.53125 48.484375 33.40625 48.484375 \r\nQ 26.265625 48.484375 22.1875 42.84375 \r\nQ 18.109375 37.203125 18.109375 27.296875 \r\nQ 18.109375 17.390625 22.1875 11.75 \r\nQ 26.265625 6.109375 33.40625 6.109375 \r\nQ 40.53125 6.109375 44.609375 11.75 \r\nQ 48.6875 17.390625 48.6875 27.296875 \r\nz\r\n\" id=\"DejaVuSans-112\"/>\r\n    </defs>\r\n    <use xlink:href=\"#DejaVuSans-72\"/>\r\n    <use x=\"75.195312\" xlink:href=\"#DejaVuSans-101\"/>\r\n    <use x=\"136.71875\" xlink:href=\"#DejaVuSans-114\"/>\r\n    <use x=\"175.582031\" xlink:href=\"#DejaVuSans-101\"/>\r\n    <use x=\"237.105469\" xlink:href=\"#DejaVuSans-32\"/>\r\n    <use x=\"268.892578\" xlink:href=\"#DejaVuSans-105\"/>\r\n    <use x=\"296.675781\" xlink:href=\"#DejaVuSans-115\"/>\r\n    <use x=\"348.775391\" xlink:href=\"#DejaVuSans-32\"/>\r\n    <use x=\"380.5625\" xlink:href=\"#DejaVuSans-116\"/>\r\n    <use x=\"419.771484\" xlink:href=\"#DejaVuSans-104\"/>\r\n    <use x=\"483.150391\" xlink:href=\"#DejaVuSans-101\"/>\r\n    <use x=\"544.673828\" xlink:href=\"#DejaVuSans-32\"/>\r\n    <use x=\"576.460938\" xlink:href=\"#DejaVuSans-97\"/>\r\n    <use x=\"637.740234\" xlink:href=\"#DejaVuSans-100\"/>\r\n    <use x=\"701.216797\" xlink:href=\"#DejaVuSans-106\"/>\r\n    <use x=\"729\" xlink:href=\"#DejaVuSans-97\"/>\r\n    <use x=\"790.279297\" xlink:href=\"#DejaVuSans-99\"/>\r\n    <use x=\"845.259766\" xlink:href=\"#DejaVuSans-101\"/>\r\n    <use x=\"906.783203\" xlink:href=\"#DejaVuSans-110\"/>\r\n    <use x=\"970.162109\" xlink:href=\"#DejaVuSans-99\"/>\r\n    <use x=\"1025.142578\" xlink:href=\"#DejaVuSans-121\"/>\r\n    <use x=\"1084.322266\" xlink:href=\"#DejaVuSans-32\"/>\r\n    <use x=\"1116.109375\" xlink:href=\"#DejaVuSans-109\"/>\r\n    <use x=\"1213.521484\" xlink:href=\"#DejaVuSans-97\"/>\r\n    <use x=\"1274.800781\" xlink:href=\"#DejaVuSans-116\"/>\r\n    <use x=\"1314.009766\" xlink:href=\"#DejaVuSans-114\"/>\r\n    <use x=\"1355.123047\" xlink:href=\"#DejaVuSans-105\"/>\r\n    <use x=\"1382.90625\" xlink:href=\"#DejaVuSans-120\"/>\r\n    <use x=\"1442.085938\" xlink:href=\"#DejaVuSans-32\"/>\r\n    <use x=\"1473.873047\" xlink:href=\"#DejaVuSans-111\"/>\r\n    <use x=\"1535.054688\" xlink:href=\"#DejaVuSans-102\"/>\r\n    <use x=\"1570.259766\" xlink:href=\"#DejaVuSans-32\"/>\r\n    <use x=\"1602.046875\" xlink:href=\"#DejaVuSans-116\"/>\r\n    <use x=\"1641.255859\" xlink:href=\"#DejaVuSans-104\"/>\r\n    <use x=\"1704.634766\" xlink:href=\"#DejaVuSans-101\"/>\r\n    <use x=\"1766.158203\" xlink:href=\"#DejaVuSans-32\"/>\r\n    <use x=\"1797.945312\" xlink:href=\"#DejaVuSans-116\"/>\r\n    <use x=\"1837.154297\" xlink:href=\"#DejaVuSans-114\"/>\r\n    <use x=\"1878.267578\" xlink:href=\"#DejaVuSans-97\"/>\r\n    <use x=\"1939.546875\" xlink:href=\"#DejaVuSans-110\"/>\r\n    <use x=\"2002.925781\" xlink:href=\"#DejaVuSans-115\"/>\r\n    <use x=\"2055.025391\" xlink:href=\"#DejaVuSans-102\"/>\r\n    <use x=\"2090.230469\" xlink:href=\"#DejaVuSans-101\"/>\r\n    <use x=\"2151.753906\" xlink:href=\"#DejaVuSans-114\"/>\r\n    <use x=\"2192.867188\" xlink:href=\"#DejaVuSans-32\"/>\r\n    <use x=\"2224.654297\" xlink:href=\"#DejaVuSans-103\"/>\r\n    <use x=\"2288.130859\" xlink:href=\"#DejaVuSans-114\"/>\r\n    <use x=\"2329.244141\" xlink:href=\"#DejaVuSans-97\"/>\r\n    <use x=\"2390.523438\" xlink:href=\"#DejaVuSans-112\"/>\r\n    <use x=\"2454\" xlink:href=\"#DejaVuSans-104\"/>\r\n   </g>\r\n  </g>\r\n  <g id=\"text_16\">\r\n   <!-- This is a sparse matrix -->\r\n   <g transform=\"translate(236.892969 35.957344)scale(0.14 -0.14)\">\r\n    <defs>\r\n     <path d=\"M -0.296875 72.90625 \r\nL 61.375 72.90625 \r\nL 61.375 64.59375 \r\nL 35.5 64.59375 \r\nL 35.5 0 \r\nL 25.59375 0 \r\nL 25.59375 64.59375 \r\nL -0.296875 64.59375 \r\nz\r\n\" id=\"DejaVuSans-84\"/>\r\n    </defs>\r\n    <use xlink:href=\"#DejaVuSans-84\"/>\r\n    <use x=\"61.083984\" xlink:href=\"#DejaVuSans-104\"/>\r\n    <use x=\"124.462891\" xlink:href=\"#DejaVuSans-105\"/>\r\n    <use x=\"152.246094\" xlink:href=\"#DejaVuSans-115\"/>\r\n    <use x=\"204.345703\" xlink:href=\"#DejaVuSans-32\"/>\r\n    <use x=\"236.132812\" xlink:href=\"#DejaVuSans-105\"/>\r\n    <use x=\"263.916016\" xlink:href=\"#DejaVuSans-115\"/>\r\n    <use x=\"316.015625\" xlink:href=\"#DejaVuSans-32\"/>\r\n    <use x=\"347.802734\" xlink:href=\"#DejaVuSans-97\"/>\r\n    <use x=\"409.082031\" xlink:href=\"#DejaVuSans-32\"/>\r\n    <use x=\"440.869141\" xlink:href=\"#DejaVuSans-115\"/>\r\n    <use x=\"492.96875\" xlink:href=\"#DejaVuSans-112\"/>\r\n    <use x=\"556.445312\" xlink:href=\"#DejaVuSans-97\"/>\r\n    <use x=\"617.724609\" xlink:href=\"#DejaVuSans-114\"/>\r\n    <use x=\"658.837891\" xlink:href=\"#DejaVuSans-115\"/>\r\n    <use x=\"710.9375\" xlink:href=\"#DejaVuSans-101\"/>\r\n    <use x=\"772.460938\" xlink:href=\"#DejaVuSans-32\"/>\r\n    <use x=\"804.248047\" xlink:href=\"#DejaVuSans-109\"/>\r\n    <use x=\"901.660156\" xlink:href=\"#DejaVuSans-97\"/>\r\n    <use x=\"962.939453\" xlink:href=\"#DejaVuSans-116\"/>\r\n    <use x=\"1002.148438\" xlink:href=\"#DejaVuSans-114\"/>\r\n    <use x=\"1043.261719\" xlink:href=\"#DejaVuSans-105\"/>\r\n    <use x=\"1071.044922\" xlink:href=\"#DejaVuSans-120\"/>\r\n   </g>\r\n  </g>\r\n  <g id=\"text_17\">\r\n   <!-- percentage of occupation: 9.4675 -->\r\n   <g transform=\"translate(222.755938 51.797344)scale(0.11 -0.11)\">\r\n    <defs>\r\n     <path d=\"M 8.5 21.578125 \r\nL 8.5 54.6875 \r\nL 17.484375 54.6875 \r\nL 17.484375 21.921875 \r\nQ 17.484375 14.15625 20.5 10.265625 \r\nQ 23.53125 6.390625 29.59375 6.390625 \r\nQ 36.859375 6.390625 41.078125 11.03125 \r\nQ 45.3125 15.671875 45.3125 23.6875 \r\nL 45.3125 54.6875 \r\nL 54.296875 54.6875 \r\nL 54.296875 0 \r\nL 45.3125 0 \r\nL 45.3125 8.40625 \r\nQ 42.046875 3.421875 37.71875 1 \r\nQ 33.40625 -1.421875 27.6875 -1.421875 \r\nQ 18.265625 -1.421875 13.375 4.4375 \r\nQ 8.5 10.296875 8.5 21.578125 \r\nz\r\nM 31.109375 56 \r\nz\r\n\" id=\"DejaVuSans-117\"/>\r\n     <path d=\"M 11.71875 12.40625 \r\nL 22.015625 12.40625 \r\nL 22.015625 0 \r\nL 11.71875 0 \r\nz\r\nM 11.71875 51.703125 \r\nL 22.015625 51.703125 \r\nL 22.015625 39.3125 \r\nL 11.71875 39.3125 \r\nz\r\n\" id=\"DejaVuSans-58\"/>\r\n     <path d=\"M 10.984375 1.515625 \r\nL 10.984375 10.5 \r\nQ 14.703125 8.734375 18.5 7.8125 \r\nQ 22.3125 6.890625 25.984375 6.890625 \r\nQ 35.75 6.890625 40.890625 13.453125 \r\nQ 46.046875 20.015625 46.78125 33.40625 \r\nQ 43.953125 29.203125 39.59375 26.953125 \r\nQ 35.25 24.703125 29.984375 24.703125 \r\nQ 19.046875 24.703125 12.671875 31.3125 \r\nQ 6.296875 37.9375 6.296875 49.421875 \r\nQ 6.296875 60.640625 12.9375 67.421875 \r\nQ 19.578125 74.21875 30.609375 74.21875 \r\nQ 43.265625 74.21875 49.921875 64.515625 \r\nQ 56.59375 54.828125 56.59375 36.375 \r\nQ 56.59375 19.140625 48.40625 8.859375 \r\nQ 40.234375 -1.421875 26.421875 -1.421875 \r\nQ 22.703125 -1.421875 18.890625 -0.6875 \r\nQ 15.09375 0.046875 10.984375 1.515625 \r\nz\r\nM 30.609375 32.421875 \r\nQ 37.25 32.421875 41.125 36.953125 \r\nQ 45.015625 41.5 45.015625 49.421875 \r\nQ 45.015625 57.28125 41.125 61.84375 \r\nQ 37.25 66.40625 30.609375 66.40625 \r\nQ 23.96875 66.40625 20.09375 61.84375 \r\nQ 16.21875 57.28125 16.21875 49.421875 \r\nQ 16.21875 41.5 20.09375 36.953125 \r\nQ 23.96875 32.421875 30.609375 32.421875 \r\nz\r\n\" id=\"DejaVuSans-57\"/>\r\n     <path d=\"M 10.6875 12.40625 \r\nL 21 12.40625 \r\nL 21 0 \r\nL 10.6875 0 \r\nz\r\n\" id=\"DejaVuSans-46\"/>\r\n     <path d=\"M 8.203125 72.90625 \r\nL 55.078125 72.90625 \r\nL 55.078125 68.703125 \r\nL 28.609375 0 \r\nL 18.3125 0 \r\nL 43.21875 64.59375 \r\nL 8.203125 64.59375 \r\nz\r\n\" id=\"DejaVuSans-55\"/>\r\n     <path d=\"M 10.796875 72.90625 \r\nL 49.515625 72.90625 \r\nL 49.515625 64.59375 \r\nL 19.828125 64.59375 \r\nL 19.828125 46.734375 \r\nQ 21.96875 47.46875 24.109375 47.828125 \r\nQ 26.265625 48.1875 28.421875 48.1875 \r\nQ 40.625 48.1875 47.75 41.5 \r\nQ 54.890625 34.8125 54.890625 23.390625 \r\nQ 54.890625 11.625 47.5625 5.09375 \r\nQ 40.234375 -1.421875 26.90625 -1.421875 \r\nQ 22.3125 -1.421875 17.546875 -0.640625 \r\nQ 12.796875 0.140625 7.71875 1.703125 \r\nL 7.71875 11.625 \r\nQ 12.109375 9.234375 16.796875 8.0625 \r\nQ 21.484375 6.890625 26.703125 6.890625 \r\nQ 35.15625 6.890625 40.078125 11.328125 \r\nQ 45.015625 15.765625 45.015625 23.390625 \r\nQ 45.015625 31 40.078125 35.4375 \r\nQ 35.15625 39.890625 26.703125 39.890625 \r\nQ 22.75 39.890625 18.8125 39.015625 \r\nQ 14.890625 38.140625 10.796875 36.28125 \r\nz\r\n\" id=\"DejaVuSans-53\"/>\r\n    </defs>\r\n    <use xlink:href=\"#DejaVuSans-112\"/>\r\n    <use x=\"63.476562\" xlink:href=\"#DejaVuSans-101\"/>\r\n    <use x=\"125\" xlink:href=\"#DejaVuSans-114\"/>\r\n    <use x=\"163.863281\" xlink:href=\"#DejaVuSans-99\"/>\r\n    <use x=\"218.84375\" xlink:href=\"#DejaVuSans-101\"/>\r\n    <use x=\"280.367188\" xlink:href=\"#DejaVuSans-110\"/>\r\n    <use x=\"343.746094\" xlink:href=\"#DejaVuSans-116\"/>\r\n    <use x=\"382.955078\" xlink:href=\"#DejaVuSans-97\"/>\r\n    <use x=\"444.234375\" xlink:href=\"#DejaVuSans-103\"/>\r\n    <use x=\"507.710938\" xlink:href=\"#DejaVuSans-101\"/>\r\n    <use x=\"569.234375\" xlink:href=\"#DejaVuSans-32\"/>\r\n    <use x=\"601.021484\" xlink:href=\"#DejaVuSans-111\"/>\r\n    <use x=\"662.203125\" xlink:href=\"#DejaVuSans-102\"/>\r\n    <use x=\"697.408203\" xlink:href=\"#DejaVuSans-32\"/>\r\n    <use x=\"729.195312\" xlink:href=\"#DejaVuSans-111\"/>\r\n    <use x=\"790.376953\" xlink:href=\"#DejaVuSans-99\"/>\r\n    <use x=\"845.357422\" xlink:href=\"#DejaVuSans-99\"/>\r\n    <use x=\"900.337891\" xlink:href=\"#DejaVuSans-117\"/>\r\n    <use x=\"963.716797\" xlink:href=\"#DejaVuSans-112\"/>\r\n    <use x=\"1027.193359\" xlink:href=\"#DejaVuSans-97\"/>\r\n    <use x=\"1088.472656\" xlink:href=\"#DejaVuSans-116\"/>\r\n    <use x=\"1127.681641\" xlink:href=\"#DejaVuSans-105\"/>\r\n    <use x=\"1155.464844\" xlink:href=\"#DejaVuSans-111\"/>\r\n    <use x=\"1216.646484\" xlink:href=\"#DejaVuSans-110\"/>\r\n    <use x=\"1280.025391\" xlink:href=\"#DejaVuSans-58\"/>\r\n    <use x=\"1313.716797\" xlink:href=\"#DejaVuSans-32\"/>\r\n    <use x=\"1345.503906\" xlink:href=\"#DejaVuSans-57\"/>\r\n    <use x=\"1409.126953\" xlink:href=\"#DejaVuSans-46\"/>\r\n    <use x=\"1440.914062\" xlink:href=\"#DejaVuSans-52\"/>\r\n    <use x=\"1504.537109\" xlink:href=\"#DejaVuSans-54\"/>\r\n    <use x=\"1568.160156\" xlink:href=\"#DejaVuSans-55\"/>\r\n    <use x=\"1631.783203\" xlink:href=\"#DejaVuSans-53\"/>\r\n   </g>\r\n  </g>\r\n </g>\r\n <defs>\r\n  <clipPath id=\"p0adfd3c3e4\">\r\n   <rect height=\"597.96\" width=\"597.96\" x=\"26.925\" y=\"83.477344\"/>\r\n  </clipPath>\r\n </defs>\r\n</svg>\r\n",
      "image/png": "[encoded data removed]"
     },
     "metadata": {
      "needs_background": "light"
     }
    },
    {
     "output_type": "stream",
     "name": "stdout",
     "text": [
      "Time to execute: 0.70563 s.\n"
     ]
    },
    {
     "output_type": "execute_result",
     "data": {
      "text/plain": [
       "<13x13 sparse matrix of type '<class 'numpy.intc'>'\n",
       "\twith 32 stored elements in Compressed Sparse Row format>"
      ]
     },
     "metadata": {},
     "execution_count": 10
    }
   ],
   "source": [
    "sparse.sparse_matrix()"
   ]
  },
  {
   "source": [
    "You can now enjoy **vizcovidfr** package, read the documentation for thorough information!\n",
    "Have fun!"
   ],
   "cell_type": "markdown",
   "metadata": {}
  }
 ]
}