{
 "metadata": {
  "language_info": {
   "codemirror_mode": {
    "name": "ipython",
    "version": 3
   },
   "file_extension": ".py",
   "mimetype": "text/x-python",
   "name": "python",
   "nbconvert_exporter": "python",
   "pygments_lexer": "ipython3",
   "version": "3.8.5"
  },
  "orig_nbformat": 2,
  "kernelspec": {
   "name": "python385jvsc74a57bd0195583c956abd420e68ba4a14586b2731d74ef14f8995274d4897293cef6d51e",
   "display_name": "Python 3.8.5 64-bit (conda)"
  }
 },
 "nbformat": 4,
 "nbformat_minor": 2,
 "cells": [
  {
   "cell_type": "code",
   "execution_count": 1,
   "metadata": {},
   "outputs": [
    {
     "output_type": "stream",
     "name": "stdout",
     "text": [
      "Downloading data from https://static.data.gouv.fr/resources/donnees-hospitalieres-relatives-a-lepidemie-de-covid-19/20210422-180701/donnees-hospitalieres-classe-age-covid19-2021-04-22-18h07.csv (3.1 MB)\n",
      "\n",
      "file_sizes: 100%|██████████████████████████| 3.30M/3.30M [00:01<00:00, 3.02MB/s]\n",
      "Successfully downloaded file to C:\\Users\\quenf\\vizcovidfr\\vizcovidfr\\loads\\..\\data\\./classe_age.csv\n",
      "Downloading data from https://static.data.gouv.fr/resources/donnees-hospitalieres-relatives-a-lepidemie-de-covid-19/20210422-180701/donnees-hospitalieres-classe-age-covid19-2021-04-22-18h07.csv (3.1 MB)\n",
      "\n",
      "file_sizes: 100%|██████████████████████████| 3.30M/3.30M [00:01<00:00, 2.53MB/s]\n",
      "Successfully downloaded file to C:\\Users\\quenf\\vizcovidfr\\vizcovidfr\\loads\\..\\data\\./classe_age.csv\n",
      "Downloading data from https://static.data.gouv.fr/resources/donnees-hospitalieres-relatives-a-lepidemie-de-covid-19/20210422-180701/donnees-hospitalieres-classe-age-covid19-2021-04-22-18h07.csv (3.1 MB)\n",
      "\n",
      "file_sizes: 100%|██████████████████████████| 3.30M/3.30M [00:01<00:00, 2.81MB/s]\n",
      "Successfully downloaded file to C:\\Users\\quenf\\vizcovidfr\\vizcovidfr\\loads\\..\\data\\./classe_age.csv\n",
      "Downloading data from https://static.data.gouv.fr/resources/donnees-hospitalieres-relatives-a-lepidemie-de-covid-19/20210422-180701/donnees-hospitalieres-classe-age-covid19-2021-04-22-18h07.csv (3.1 MB)\n",
      "\n",
      "file_sizes: 100%|██████████████████████████| 3.30M/3.30M [00:01<00:00, 2.64MB/s]\n",
      "Successfully downloaded file to C:\\Users\\quenf\\vizcovidfr\\vizcovidfr\\loads\\..\\data\\./classe_age.csv\n"
     ]
    }
   ],
   "source": [
    "#requirements\n",
    "from vizcovidfr.maps import maps\n",
    "from vizcovidfr.sparse import sparse\n",
    "from vizcovidfr.regression import regression\n",
    "from vizcovidfr.line_charts import line_charts\n",
    "from vizcovidfr.barplots import barplots_cl_age,barplots\n",
    "from vizcovidfr.pie_charts import pie_chart\n",
    "from vizcovidfr.prediction import prediction\n",
    "from vizcovidfr.heatmaps import heatmap"
   ]
  },
  {
   "cell_type": "code",
   "execution_count": 8,
   "metadata": {},
   "outputs": [
    {
     "output_type": "stream",
     "name": "stdout",
     "text": [
      "Downloading data from https://raw.githubusercontent.com/opencovid19-fr/data/master/dist/chiffres-cles.csv (6.5 MB)\n",
      "\n",
      "file_sizes: 100%|██████████████████████████| 6.77M/6.77M [00:01<00:00, 3.55MB/s]\n",
      "Successfully downloaded file to C:\\Users\\quenf\\vizcovidfr\\vizcovidfr\\loads\\..\\data\\chiffres-cles.csv\n",
      "\n",
      "That's it! \n",
      "Covid2Dmap.html has been successfully saved in vizcovidfr_files! \n",
      "You can go ahead and open it with your favorite web browser!\n",
      "Time to execute: 51.51236 s.\n"
     ]
    }
   ],
   "source": [
    "#map visualization\n",
    "maps.viz2Dmap(file_path='')"
   ]
  },
  {
   "cell_type": "code",
   "execution_count": 38,
   "metadata": {},
   "outputs": [
    {
     "output_type": "stream",
     "name": "stdout",
     "text": [
      "Downloading data from https://raw.githubusercontent.com/opencovid19-fr/data/master/dist/chiffres-cles.csv (6.5 MB)\n",
      "\n",
      "file_sizes: 100%|██████████████████████████| 6.77M/6.77M [00:01<00:00, 3.53MB/s]\n",
      "Successfully downloaded file to C:\\Users\\quenf\\vizcovidfr\\vizcovidfr\\loads\\..\\data\\chiffres-cles.csv\n",
      "\n",
      "That's it! \n",
      "Covid3Dmap.html has been successfully saved in vizcovidfr_files! \n",
      "You can go ahead and open it with your favorite web browser!\n",
      "Time to execute: 49.36148 s.\n"
     ]
    }
   ],
   "source": [
    "maps.viz3Dmap(file_path='')"
   ]
  },
  {
   "cell_type": "code",
   "execution_count": 39,
   "metadata": {},
   "outputs": [
    {
     "output_type": "stream",
     "name": "stdout",
     "text": [
      "Downloading data from https://static.data.gouv.fr/resources/donnees-relatives-aux-transferts-de-patients-atteints-de-covid-19/20200424-183902/transferts-patients-covid19.csv (2 kB)\n",
      "\n",
      "file_sizes: 100%|███████████████████████████| 1.79k/1.79k [00:00<00:00, 358kB/s]\n",
      "Successfully downloaded file to C:\\Users\\quenf\\vizcovidfr\\vizcovidfr\\loads\\..\\data\\transfer.csv\n",
      "\n",
      "That's it! \n",
      "Covid_transfer_map.html has been successfully saved in vizcovidfr_files! \n",
      "You can go ahead and open it with your favorite web browser!\n",
      "Time to execute: 4.15731 s.\n"
     ]
    }
   ],
   "source": [
    "maps.transfer_map(file_path='')#Corse is missing"
   ]
  },
  {
   "cell_type": "code",
   "execution_count": 10,
   "metadata": {},
   "outputs": [
    {
     "output_type": "stream",
     "name": "stdout",
     "text": [
      "Downloading data from https://public.opendatasoft.com/explore/dataset/covid-19-france-vaccinations-age-sexe-dep/download/?format=csv&disjunctive.variable_label=true&refine.date=2021&refine.variable=Par+tranche+d%E2%80%99%C3%A2ge&timezone=Europe/Berlin&lang=fr&use_labels_for_header=true&csv_separator=%3B (1 byte)\n",
      "\n",
      "file_sizes: 11.9MB [01:06, 179kB/s]\n",
      "Successfully downloaded file to C:\\Users\\quenf\\vizcovidfr\\vizcovidfr\\loads\\..\\data\\./covid-19-france-vaccinations-age-dep.csv\n",
      "\n",
      "That's it! \n",
      "vacmap.html has been successfully saved in vizcovidfr_files! \n",
      "You can go ahead and open it with your favorite web browser!\n",
      "Time to execute: 82.33993 s.\n"
     ]
    }
   ],
   "source": [
    "maps.vacmap(file_path='')"
   ]
  },
  {
   "cell_type": "code",
   "execution_count": 11,
   "metadata": {},
   "outputs": [
    {
     "output_type": "stream",
     "name": "stdout",
     "text": [
      "Downloading data from https://static.data.gouv.fr/resources/donnees-relatives-aux-transferts-de-patients-atteints-de-covid-19/20200424-183902/transferts-patients-covid19.csv (2 kB)\n",
      "\n",
      "file_sizes: 100%|███████████████████████████| 1.79k/1.79k [00:00<00:00, 447kB/s]\n",
      "Successfully downloaded file to C:\\Users\\quenf\\vizcovidfr\\vizcovidfr\\loads\\..\\data\\transfer.csv\n"
     ]
    },
    {
     "output_type": "display_data",
     "data": {
      "text/plain": "<Figure size 936x648 with 1 Axes>",
      "image/svg+xml": "<?xml version=\"1.0\" encoding=\"utf-8\" standalone=\"no\"?>\r\n<!DOCTYPE svg PUBLIC \"-//W3C//DTD SVG 1.1//EN\"\r\n  \"http://www.w3.org/Graphics/SVG/1.1/DTD/svg11.dtd\">\r\n<!-- Created with matplotlib (https://matplotlib.org/) -->\r\n<svg height=\"529.517344pt\" version=\"1.1\" viewBox=\"0 0 739.8 529.517344\" width=\"739.8pt\" xmlns=\"http://www.w3.org/2000/svg\" xmlns:xlink=\"http://www.w3.org/1999/xlink\">\r\n <metadata>\r\n  <rdf:RDF xmlns:cc=\"http://creativecommons.org/ns#\" xmlns:dc=\"http://purl.org/dc/elements/1.1/\" xmlns:rdf=\"http://www.w3.org/1999/02/22-rdf-syntax-ns#\">\r\n   <cc:Work>\r\n    <dc:type rdf:resource=\"http://purl.org/dc/dcmitype/StillImage\"/>\r\n    <dc:date>2021-04-23T00:59:43.804205</dc:date>\r\n    <dc:format>image/svg+xml</dc:format>\r\n    <dc:creator>\r\n     <cc:Agent>\r\n      <dc:title>Matplotlib v3.3.2, https://matplotlib.org/</dc:title>\r\n     </cc:Agent>\r\n    </dc:creator>\r\n   </cc:Work>\r\n  </rdf:RDF>\r\n </metadata>\r\n <defs>\r\n  <style type=\"text/css\">*{stroke-linecap:butt;stroke-linejoin:round;}</style>\r\n </defs>\r\n <g id=\"figure_1\">\r\n  <g id=\"patch_1\">\r\n   <path d=\"M 0 529.517344 \r\nL 739.8 529.517344 \r\nL 739.8 0 \r\nL 0 0 \r\nz\r\n\" style=\"fill:none;\"/>\r\n  </g>\r\n  <g id=\"axes_1\">\r\n   <g id=\"LineCollection_1\">\r\n    <path clip-path=\"url(#pb66237bae3)\" d=\"M 312.872754 189.792509 \r\nL 553.487123 138.280585 \r\n\" style=\"fill:none;stroke:#cc9016;stroke-opacity:0.6;\"/>\r\n    <path clip-path=\"url(#pb66237bae3)\" d=\"M 312.872754 189.792509 \r\nL 136.998088 254.9708 \r\n\" style=\"fill:none;stroke:#cc9016;stroke-opacity:0.6;\"/>\r\n    <path clip-path=\"url(#pb66237bae3)\" d=\"M 312.872754 189.792509 \r\nL 298.629187 296.775384 \r\n\" style=\"fill:none;stroke:#cc9016;stroke-opacity:0.6;\"/>\r\n    <path clip-path=\"url(#pb66237bae3)\" d=\"M 312.872754 189.792509 \r\nL 198.450717 285.756845 \r\n\" style=\"fill:none;stroke:#cc9016;stroke-opacity:0.6;\"/>\r\n    <path clip-path=\"url(#pb66237bae3)\" d=\"M 312.872754 189.792509 \r\nL 477.012694 193.47325 \r\n\" style=\"fill:none;stroke:#cc9016;stroke-opacity:0.6;\"/>\r\n    <path clip-path=\"url(#pb66237bae3)\" d=\"M 312.872754 189.792509 \r\nL 226.862957 78.014135 \r\n\" style=\"fill:none;stroke:#cc9016;stroke-opacity:0.6;\"/>\r\n    <path clip-path=\"url(#pb66237bae3)\" d=\"M 553.487123 138.280585 \r\nL 699.627273 55.315526 \r\n\" style=\"fill:none;stroke:#cc9016;stroke-opacity:0.6;\"/>\r\n    <path clip-path=\"url(#pb66237bae3)\" d=\"M 553.487123 138.280585 \r\nL 566.788934 254.173648 \r\n\" style=\"fill:none;stroke:#cc9016;stroke-opacity:0.6;\"/>\r\n    <path clip-path=\"url(#pb66237bae3)\" d=\"M 136.998088 254.9708 \r\nL 209.471052 377.925662 \r\n\" style=\"fill:none;stroke:#cc9016;stroke-opacity:0.6;\"/>\r\n    <path clip-path=\"url(#pb66237bae3)\" d=\"M 298.629187 296.775384 \r\nL 209.471052 377.925662 \r\n\" style=\"fill:none;stroke:#cc9016;stroke-opacity:0.6;\"/>\r\n    <path clip-path=\"url(#pb66237bae3)\" d=\"M 198.450717 285.756845 \r\nL 209.471052 377.925662 \r\n\" style=\"fill:none;stroke:#cc9016;stroke-opacity:0.6;\"/>\r\n    <path clip-path=\"url(#pb66237bae3)\" d=\"M 209.471052 377.925662 \r\nL 194.967421 500.079162 \r\n\" style=\"fill:none;stroke:#cc9016;stroke-opacity:0.6;\"/>\r\n    <path clip-path=\"url(#pb66237bae3)\" d=\"M 209.471052 377.925662 \r\nL 40.172727 449.799373 \r\n\" style=\"fill:none;stroke:#cc9016;stroke-opacity:0.6;\"/>\r\n    <path clip-path=\"url(#pb66237bae3)\" d=\"M 209.471052 377.925662 \r\nL 443.13509 359.379686 \r\n\" style=\"fill:none;stroke:#cc9016;stroke-opacity:0.6;\"/>\r\n    <path clip-path=\"url(#pb66237bae3)\" d=\"M 566.788934 254.173648 \r\nL 443.13509 359.379686 \r\n\" style=\"fill:none;stroke:#cc9016;stroke-opacity:0.6;\"/>\r\n    <path clip-path=\"url(#pb66237bae3)\" d=\"M 566.788934 254.173648 \r\nL 477.012694 193.47325 \r\n\" style=\"fill:none;stroke:#cc9016;stroke-opacity:0.6;\"/>\r\n   </g>\r\n   <g id=\"LineCollection_2\">\r\n    <path clip-path=\"url(#pb66237bae3)\" d=\"M 312.872754 189.792509 \r\nL 553.487123 138.280585 \r\n\" style=\"fill:none;stroke:#cc9016;stroke-opacity:0.6;stroke-width:0.6;\"/>\r\n    <path clip-path=\"url(#pb66237bae3)\" d=\"M 312.872754 189.792509 \r\nL 136.998088 254.9708 \r\n\" style=\"fill:none;stroke:#cc9016;stroke-opacity:0.6;stroke-width:2.4;\"/>\r\n    <path clip-path=\"url(#pb66237bae3)\" d=\"M 312.872754 189.792509 \r\nL 298.629187 296.775384 \r\n\" style=\"fill:none;stroke:#cc9016;stroke-opacity:0.6;stroke-width:0.6;\"/>\r\n    <path clip-path=\"url(#pb66237bae3)\" d=\"M 312.872754 189.792509 \r\nL 198.450717 285.756845 \r\n\" style=\"fill:none;stroke:#cc9016;stroke-opacity:0.6;stroke-width:2;\"/>\r\n    <path clip-path=\"url(#pb66237bae3)\" d=\"M 312.872754 189.792509 \r\nL 477.012694 193.47325 \r\n\" style=\"fill:none;stroke:#cc9016;stroke-opacity:0.6;stroke-width:17.2;\"/>\r\n    <path clip-path=\"url(#pb66237bae3)\" d=\"M 312.872754 189.792509 \r\nL 226.862957 78.014135 \r\n\" style=\"fill:none;stroke:#cc9016;stroke-opacity:0.6;stroke-width:1.2;\"/>\r\n    <path clip-path=\"url(#pb66237bae3)\" d=\"M 553.487123 138.280585 \r\nL 699.627273 55.315526 \r\n\" style=\"fill:none;stroke:#cc9016;stroke-opacity:0.6;stroke-width:1.2;\"/>\r\n    <path clip-path=\"url(#pb66237bae3)\" d=\"M 553.487123 138.280585 \r\nL 566.788934 254.173648 \r\n\" style=\"fill:none;stroke:#cc9016;stroke-opacity:0.6;\"/>\r\n    <path clip-path=\"url(#pb66237bae3)\" d=\"M 136.998088 254.9708 \r\nL 209.471052 377.925662 \r\n\" style=\"fill:none;stroke:#cc9016;stroke-opacity:0.6;stroke-width:4.5;\"/>\r\n    <path clip-path=\"url(#pb66237bae3)\" d=\"M 298.629187 296.775384 \r\nL 209.471052 377.925662 \r\n\" style=\"fill:none;stroke:#cc9016;stroke-opacity:0.6;stroke-width:4.1;\"/>\r\n    <path clip-path=\"url(#pb66237bae3)\" d=\"M 198.450717 285.756845 \r\nL 209.471052 377.925662 \r\n\" style=\"fill:none;stroke:#cc9016;stroke-opacity:0.6;stroke-width:4.7;\"/>\r\n    <path clip-path=\"url(#pb66237bae3)\" d=\"M 209.471052 377.925662 \r\nL 194.967421 500.079162 \r\n\" style=\"fill:none;stroke:#cc9016;stroke-opacity:0.6;stroke-width:1.1;\"/>\r\n    <path clip-path=\"url(#pb66237bae3)\" d=\"M 209.471052 377.925662 \r\nL 40.172727 449.799373 \r\n\" style=\"fill:none;stroke:#cc9016;stroke-opacity:0.6;stroke-width:4.4;\"/>\r\n    <path clip-path=\"url(#pb66237bae3)\" d=\"M 209.471052 377.925662 \r\nL 443.13509 359.379686 \r\n\" style=\"fill:none;stroke:#cc9016;stroke-opacity:0.6;stroke-width:2;\"/>\r\n    <path clip-path=\"url(#pb66237bae3)\" d=\"M 566.788934 254.173648 \r\nL 443.13509 359.379686 \r\n\" style=\"fill:none;stroke:#cc9016;stroke-opacity:0.6;stroke-width:4.1;\"/>\r\n    <path clip-path=\"url(#pb66237bae3)\" d=\"M 566.788934 254.173648 \r\nL 477.012694 193.47325 \r\n\" style=\"fill:none;stroke:#cc9016;stroke-opacity:0.6;stroke-width:0.5;\"/>\r\n   </g>\r\n   <g id=\"text_1\">\r\n    <g id=\"patch_2\">\r\n     <path clip-path=\"url(#pb66237bae3)\" d=\"M 431.710217 172.367884 \r\nL 437.931741 171.035949 \r\nQ 440.865269 170.407925 440.237244 167.474397 \r\nL 438.211212 158.010714 \r\nQ 437.583187 155.077186 434.64966 155.70521 \r\nL 428.428136 157.037145 \r\nQ 425.494608 157.665169 426.122633 160.598697 \r\nL 428.148665 170.06238 \r\nQ 428.776689 172.995908 431.710217 172.367884 \r\nz\r\n\" style=\"fill:#ffffff;stroke:#ffffff;stroke-linejoin:miter;\"/>\r\n    </g>\r\n    <g clip-path=\"url(#pb66237bae3)\">\r\n     <!-- 6 -->\r\n     <g transform=\"translate(430.646828 167.400749)rotate(-12.083761)scale(0.1 -0.1)\">\r\n      <defs>\r\n       <path d=\"M 33.015625 40.375 \r\nQ 26.375 40.375 22.484375 35.828125 \r\nQ 18.609375 31.296875 18.609375 23.390625 \r\nQ 18.609375 15.53125 22.484375 10.953125 \r\nQ 26.375 6.390625 33.015625 6.390625 \r\nQ 39.65625 6.390625 43.53125 10.953125 \r\nQ 47.40625 15.53125 47.40625 23.390625 \r\nQ 47.40625 31.296875 43.53125 35.828125 \r\nQ 39.65625 40.375 33.015625 40.375 \r\nz\r\nM 52.59375 71.296875 \r\nL 52.59375 62.3125 \r\nQ 48.875 64.0625 45.09375 64.984375 \r\nQ 41.3125 65.921875 37.59375 65.921875 \r\nQ 27.828125 65.921875 22.671875 59.328125 \r\nQ 17.53125 52.734375 16.796875 39.40625 \r\nQ 19.671875 43.65625 24.015625 45.921875 \r\nQ 28.375 48.1875 33.59375 48.1875 \r\nQ 44.578125 48.1875 50.953125 41.515625 \r\nQ 57.328125 34.859375 57.328125 23.390625 \r\nQ 57.328125 12.15625 50.6875 5.359375 \r\nQ 44.046875 -1.421875 33.015625 -1.421875 \r\nQ 20.359375 -1.421875 13.671875 8.265625 \r\nQ 6.984375 17.96875 6.984375 36.375 \r\nQ 6.984375 53.65625 15.1875 63.9375 \r\nQ 23.390625 74.21875 37.203125 74.21875 \r\nQ 40.921875 74.21875 44.703125 73.484375 \r\nQ 48.484375 72.75 52.59375 71.296875 \r\nz\r\n\" id=\"DejaVuSans-54\"/>\r\n      </defs>\r\n      <use xlink:href=\"#DejaVuSans-54\"/>\r\n     </g>\r\n    </g>\r\n   </g>\r\n   <g id=\"text_2\">\r\n    <g id=\"patch_3\">\r\n     <path clip-path=\"url(#pb66237bae3)\" d=\"M 221.693503 231.943154 \r\nL 233.625483 227.521221 \r\nQ 236.438523 226.478722 235.396024 223.665682 \r\nL 232.032879 214.590697 \r\nQ 230.99038 211.777656 228.177339 212.820155 \r\nL 216.24536 217.242088 \r\nQ 213.43232 218.284587 214.474819 221.097628 \r\nL 217.837964 230.172613 \r\nQ 218.880463 232.985653 221.693503 231.943154 \r\nz\r\n\" style=\"fill:#ffffff;stroke:#ffffff;stroke-linejoin:miter;\"/>\r\n    </g>\r\n    <g clip-path=\"url(#pb66237bae3)\">\r\n     <!-- 24 -->\r\n     <g transform=\"translate(219.928314 227.180032)rotate(-20.334459)scale(0.1 -0.1)\">\r\n      <defs>\r\n       <path d=\"M 19.1875 8.296875 \r\nL 53.609375 8.296875 \r\nL 53.609375 0 \r\nL 7.328125 0 \r\nL 7.328125 8.296875 \r\nQ 12.9375 14.109375 22.625 23.890625 \r\nQ 32.328125 33.6875 34.8125 36.53125 \r\nQ 39.546875 41.84375 41.421875 45.53125 \r\nQ 43.3125 49.21875 43.3125 52.78125 \r\nQ 43.3125 58.59375 39.234375 62.25 \r\nQ 35.15625 65.921875 28.609375 65.921875 \r\nQ 23.96875 65.921875 18.8125 64.3125 \r\nQ 13.671875 62.703125 7.8125 59.421875 \r\nL 7.8125 69.390625 \r\nQ 13.765625 71.78125 18.9375 73 \r\nQ 24.125 74.21875 28.421875 74.21875 \r\nQ 39.75 74.21875 46.484375 68.546875 \r\nQ 53.21875 62.890625 53.21875 53.421875 \r\nQ 53.21875 48.921875 51.53125 44.890625 \r\nQ 49.859375 40.875 45.40625 35.40625 \r\nQ 44.1875 33.984375 37.640625 27.21875 \r\nQ 31.109375 20.453125 19.1875 8.296875 \r\nz\r\n\" id=\"DejaVuSans-50\"/>\r\n       <path d=\"M 37.796875 64.3125 \r\nL 12.890625 25.390625 \r\nL 37.796875 25.390625 \r\nz\r\nM 35.203125 72.90625 \r\nL 47.609375 72.90625 \r\nL 47.609375 25.390625 \r\nL 58.015625 25.390625 \r\nL 58.015625 17.1875 \r\nL 47.609375 17.1875 \r\nL 47.609375 0 \r\nL 37.796875 0 \r\nL 37.796875 17.1875 \r\nL 4.890625 17.1875 \r\nL 4.890625 26.703125 \r\nz\r\n\" id=\"DejaVuSans-52\"/>\r\n      </defs>\r\n      <use xlink:href=\"#DejaVuSans-50\"/>\r\n      <use x=\"63.623047\" xlink:href=\"#DejaVuSans-52\"/>\r\n     </g>\r\n    </g>\r\n   </g>\r\n   <g id=\"text_3\">\r\n    <g id=\"patch_4\">\r\n     <path clip-path=\"url(#pb66237bae3)\" d=\"M 313.101623 247.471925 \r\nL 313.941309 241.165077 \r\nQ 314.337232 238.191317 311.363472 237.795395 \r\nL 301.77 236.518132 \r\nQ 298.796241 236.122209 298.400318 239.095968 \r\nL 297.560632 245.402817 \r\nQ 297.16471 248.376576 300.138469 248.772499 \r\nL 309.731941 250.049762 \r\nQ 312.7057 250.445684 313.101623 247.471925 \r\nz\r\n\" style=\"fill:#ffffff;stroke:#ffffff;stroke-linejoin:miter;\"/>\r\n    </g>\r\n    <g clip-path=\"url(#pb66237bae3)\">\r\n     <!-- 6 -->\r\n     <g transform=\"translate(308.066367 246.801537)rotate(-82.41631)scale(0.1 -0.1)\">\r\n      <use xlink:href=\"#DejaVuSans-54\"/>\r\n     </g>\r\n    </g>\r\n   </g>\r\n   <g id=\"text_4\">\r\n    <g id=\"patch_5\">\r\n     <path clip-path=\"url(#pb66237bae3)\" d=\"M 255.824188 247.869523 \r\nL 265.574082 239.692409 \r\nQ 267.872682 237.764602 265.944875 235.466002 \r\nL 259.725689 228.050624 \r\nQ 257.797882 225.752024 255.499283 227.679831 \r\nL 245.749389 235.856945 \r\nQ 243.450789 237.784752 245.378596 240.083352 \r\nL 251.597782 247.49873 \r\nQ 253.525588 249.79733 255.824188 247.869523 \r\nz\r\n\" style=\"fill:#ffffff;stroke:#ffffff;stroke-linejoin:miter;\"/>\r\n    </g>\r\n    <g clip-path=\"url(#pb66237bae3)\">\r\n     <!-- 20 -->\r\n     <g transform=\"translate(252.559969 243.977467)rotate(-39.986141)scale(0.1 -0.1)\">\r\n      <defs>\r\n       <path d=\"M 31.78125 66.40625 \r\nQ 24.171875 66.40625 20.328125 58.90625 \r\nQ 16.5 51.421875 16.5 36.375 \r\nQ 16.5 21.390625 20.328125 13.890625 \r\nQ 24.171875 6.390625 31.78125 6.390625 \r\nQ 39.453125 6.390625 43.28125 13.890625 \r\nQ 47.125 21.390625 47.125 36.375 \r\nQ 47.125 51.421875 43.28125 58.90625 \r\nQ 39.453125 66.40625 31.78125 66.40625 \r\nz\r\nM 31.78125 74.21875 \r\nQ 44.046875 74.21875 50.515625 64.515625 \r\nQ 56.984375 54.828125 56.984375 36.375 \r\nQ 56.984375 17.96875 50.515625 8.265625 \r\nQ 44.046875 -1.421875 31.78125 -1.421875 \r\nQ 19.53125 -1.421875 13.0625 8.265625 \r\nQ 6.59375 17.96875 6.59375 36.375 \r\nQ 6.59375 54.828125 13.0625 64.515625 \r\nQ 19.53125 74.21875 31.78125 74.21875 \r\nz\r\n\" id=\"DejaVuSans-48\"/>\r\n      </defs>\r\n      <use xlink:href=\"#DejaVuSans-50\"/>\r\n      <use x=\"63.623047\" xlink:href=\"#DejaVuSans-48\"/>\r\n     </g>\r\n    </g>\r\n   </g>\r\n   <g id=\"text_5\">\r\n    <g id=\"patch_6\">\r\n     <path clip-path=\"url(#pb66237bae3)\" d=\"M 385.225631 199.256013 \r\nL 404.308333 199.683931 \r\nQ 407.307579 199.751187 407.374836 196.751941 \r\nL 407.591807 187.076249 \r\nQ 407.659064 184.077003 404.659818 184.009746 \r\nL 385.577115 183.581828 \r\nQ 382.577869 183.514572 382.510613 186.513818 \r\nL 382.293641 196.18951 \r\nQ 382.226385 199.188756 385.225631 199.256013 \r\nz\r\n\" style=\"fill:#ffffff;stroke:#ffffff;stroke-linejoin:miter;\"/>\r\n    </g>\r\n    <g clip-path=\"url(#pb66237bae3)\">\r\n     <!-- 172 -->\r\n     <g transform=\"translate(385.339511 194.177602)rotate(-358.715392)scale(0.1 -0.1)\">\r\n      <defs>\r\n       <path d=\"M 12.40625 8.296875 \r\nL 28.515625 8.296875 \r\nL 28.515625 63.921875 \r\nL 10.984375 60.40625 \r\nL 10.984375 69.390625 \r\nL 28.421875 72.90625 \r\nL 38.28125 72.90625 \r\nL 38.28125 8.296875 \r\nL 54.390625 8.296875 \r\nL 54.390625 0 \r\nL 12.40625 0 \r\nz\r\n\" id=\"DejaVuSans-49\"/>\r\n       <path d=\"M 8.203125 72.90625 \r\nL 55.078125 72.90625 \r\nL 55.078125 68.703125 \r\nL 28.609375 0 \r\nL 18.3125 0 \r\nL 43.21875 64.59375 \r\nL 8.203125 64.59375 \r\nz\r\n\" id=\"DejaVuSans-55\"/>\r\n      </defs>\r\n      <use xlink:href=\"#DejaVuSans-49\"/>\r\n      <use x=\"63.623047\" xlink:href=\"#DejaVuSans-55\"/>\r\n      <use x=\"127.246094\" xlink:href=\"#DejaVuSans-50\"/>\r\n     </g>\r\n    </g>\r\n   </g>\r\n   <g id=\"text_6\">\r\n    <g id=\"patch_7\">\r\n     <path clip-path=\"url(#pb66237bae3)\" d=\"M 259.775103 133.641312 \r\nL 267.535171 143.7263 \r\nQ 269.364656 146.1039 271.742256 144.274414 \r\nL 279.412494 138.372418 \r\nQ 281.790094 136.542933 279.960609 134.165332 \r\nL 272.200541 124.080345 \r\nQ 270.371055 121.702744 267.993455 123.53223 \r\nL 260.323218 129.434226 \r\nQ 257.945618 131.263712 259.775103 133.641312 \r\nz\r\n\" style=\"fill:#ffffff;stroke:#ffffff;stroke-linejoin:miter;\"/>\r\n    </g>\r\n    <g clip-path=\"url(#pb66237bae3)\">\r\n     <!-- 12 -->\r\n     <g transform=\"translate(263.800925 130.543574)rotate(-307.577103)scale(0.1 -0.1)\">\r\n      <use xlink:href=\"#DejaVuSans-49\"/>\r\n      <use x=\"63.623047\" xlink:href=\"#DejaVuSans-50\"/>\r\n     </g>\r\n    </g>\r\n   </g>\r\n   <g id=\"text_7\">\r\n    <g id=\"patch_8\">\r\n     <path clip-path=\"url(#pb66237bae3)\" d=\"M 624.89429 106.75632 \r\nL 635.960372 100.474007 \r\nQ 638.569271 98.992912 637.088176 96.384013 \r\nL 632.3101 87.967594 \r\nQ 630.829005 85.358695 628.220106 86.83979 \r\nL 617.154024 93.122103 \r\nQ 614.545124 94.603198 616.026219 97.212098 \r\nL 620.804295 105.628516 \r\nQ 622.28539 108.237416 624.89429 106.75632 \r\nz\r\n\" style=\"fill:#ffffff;stroke:#ffffff;stroke-linejoin:miter;\"/>\r\n    </g>\r\n    <g clip-path=\"url(#pb66237bae3)\">\r\n     <!-- 12 -->\r\n     <g transform=\"translate(622.386456 102.338856)rotate(-29.583962)scale(0.1 -0.1)\">\r\n      <use xlink:href=\"#DejaVuSans-49\"/>\r\n      <use x=\"63.623047\" xlink:href=\"#DejaVuSans-50\"/>\r\n     </g>\r\n    </g>\r\n   </g>\r\n   <g id=\"text_8\">\r\n    <g id=\"patch_9\">\r\n     <path clip-path=\"url(#pb66237bae3)\" d=\"M 551.624593 190.799988 \r\nL 553.075599 203.44199 \r\nQ 553.417683 206.422422 556.398115 206.080339 \r\nL 566.013115 204.976762 \r\nQ 568.993548 204.634678 568.651464 201.654245 \r\nL 567.200458 189.012243 \r\nQ 566.858374 186.031811 563.877941 186.373895 \r\nL 554.262942 187.477472 \r\nQ 551.282509 187.819556 551.624593 190.799988 \r\nz\r\n\" style=\"fill:#ffffff;stroke:#ffffff;stroke-linejoin:miter;\"/>\r\n    </g>\r\n    <g clip-path=\"url(#pb66237bae3)\">\r\n     <!-- 10 -->\r\n     <g transform=\"translate(556.671148 190.220762)rotate(-276.547563)scale(0.1 -0.1)\">\r\n      <use xlink:href=\"#DejaVuSans-49\"/>\r\n      <use x=\"63.623047\" xlink:href=\"#DejaVuSans-48\"/>\r\n     </g>\r\n    </g>\r\n   </g>\r\n   <g id=\"text_9\">\r\n    <g id=\"patch_10\">\r\n     <path clip-path=\"url(#pb66237bae3)\" d=\"M 163.250566 314.947574 \r\nL 169.712103 325.909972 \r\nQ 171.235452 328.494427 173.819907 326.971078 \r\nL 182.157468 322.056692 \r\nQ 184.741923 320.533343 183.218574 317.948888 \r\nL 176.757037 306.986491 \r\nQ 175.233688 304.402035 172.649233 305.925384 \r\nL 164.311673 310.83977 \r\nQ 161.727217 312.363119 163.250566 314.947574 \r\nz\r\n\" style=\"fill:#ffffff;stroke:#ffffff;stroke-linejoin:miter;\"/>\r\n    </g>\r\n    <g clip-path=\"url(#pb66237bae3)\">\r\n     <!-- 45 -->\r\n     <g transform=\"translate(167.626641 312.368196)rotate(-300.516262)scale(0.1 -0.1)\">\r\n      <defs>\r\n       <path d=\"M 10.796875 72.90625 \r\nL 49.515625 72.90625 \r\nL 49.515625 64.59375 \r\nL 19.828125 64.59375 \r\nL 19.828125 46.734375 \r\nQ 21.96875 47.46875 24.109375 47.828125 \r\nQ 26.265625 48.1875 28.421875 48.1875 \r\nQ 40.625 48.1875 47.75 41.5 \r\nQ 54.890625 34.8125 54.890625 23.390625 \r\nQ 54.890625 11.625 47.5625 5.09375 \r\nQ 40.234375 -1.421875 26.90625 -1.421875 \r\nQ 22.3125 -1.421875 17.546875 -0.640625 \r\nQ 12.796875 0.140625 7.71875 1.703125 \r\nL 7.71875 11.625 \r\nQ 12.109375 9.234375 16.796875 8.0625 \r\nQ 21.484375 6.890625 26.703125 6.890625 \r\nQ 35.15625 6.890625 40.078125 11.328125 \r\nQ 45.015625 15.765625 45.015625 23.390625 \r\nQ 45.015625 31 40.078125 35.4375 \r\nQ 35.15625 39.890625 26.703125 39.890625 \r\nQ 22.75 39.890625 18.8125 39.015625 \r\nQ 14.890625 38.140625 10.796875 36.28125 \r\nz\r\n\" id=\"DejaVuSans-53\"/>\r\n      </defs>\r\n      <use xlink:href=\"#DejaVuSans-52\"/>\r\n      <use x=\"63.623047\" xlink:href=\"#DejaVuSans-53\"/>\r\n     </g>\r\n    </g>\r\n   </g>\r\n   <g id=\"text_10\">\r\n    <g id=\"patch_11\">\r\n     <path clip-path=\"url(#pb66237bae3)\" d=\"M 254.621402 347.4305 \r\nL 264.03202 338.86511 \r\nQ 266.250633 336.845765 264.231287 334.627152 \r\nL 257.716795 327.469813 \r\nQ 255.697449 325.2512 253.478836 327.270546 \r\nL 244.068219 335.835936 \r\nQ 241.849606 337.855281 243.868951 340.073894 \r\nL 250.383444 347.231233 \r\nQ 252.402789 349.449846 254.621402 347.4305 \r\nz\r\n\" style=\"fill:#ffffff;stroke:#ffffff;stroke-linejoin:miter;\"/>\r\n    </g>\r\n    <g clip-path=\"url(#pb66237bae3)\">\r\n     <!-- 41 -->\r\n     <g transform=\"translate(251.202188 343.67388)rotate(-42.30795)scale(0.1 -0.1)\">\r\n      <use xlink:href=\"#DejaVuSans-52\"/>\r\n      <use x=\"63.623047\" xlink:href=\"#DejaVuSans-49\"/>\r\n     </g>\r\n    </g>\r\n   </g>\r\n   <g id=\"text_11\">\r\n    <g id=\"patch_12\">\r\n     <path clip-path=\"url(#pb66237bae3)\" d=\"M 195.421899 326.454415 \r\nL 196.932626 339.089419 \r\nQ 197.28879 342.068202 200.267573 341.712038 \r\nL 209.877251 340.563039 \r\nQ 212.856033 340.206875 212.49987 337.228092 \r\nL 210.989142 324.593088 \r\nQ 210.632978 321.614305 207.654196 321.970469 \r\nL 198.044518 323.119468 \r\nQ 195.065735 323.475632 195.421899 326.454415 \r\nz\r\n\" style=\"fill:#ffffff;stroke:#ffffff;stroke-linejoin:miter;\"/>\r\n    </g>\r\n    <g clip-path=\"url(#pb66237bae3)\">\r\n     <!-- 47 -->\r\n     <g transform=\"translate(200.465661 325.851348)rotate(-276.818307)scale(0.1 -0.1)\">\r\n      <use xlink:href=\"#DejaVuSans-52\"/>\r\n      <use x=\"63.623047\" xlink:href=\"#DejaVuSans-55\"/>\r\n     </g>\r\n    </g>\r\n   </g>\r\n   <g id=\"text_12\">\r\n    <g id=\"patch_13\">\r\n     <path clip-path=\"url(#pb66237bae3)\" d=\"M 209.253452 446.244795 \r\nL 210.753789 433.608553 \r\nQ 211.107503 430.629478 208.128428 430.275764 \r\nL 198.517809 429.134668 \r\nQ 195.538734 428.780954 195.18502 431.760029 \r\nL 193.684683 444.396271 \r\nQ 193.330969 447.375346 196.310044 447.72906 \r\nL 205.920663 448.870156 \r\nQ 208.899738 449.22387 209.253452 446.244795 \r\nz\r\n\" style=\"fill:#ffffff;stroke:#ffffff;stroke-linejoin:miter;\"/>\r\n    </g>\r\n    <g clip-path=\"url(#pb66237bae3)\">\r\n     <!-- 11 -->\r\n     <g transform=\"translate(204.209196 445.645876)rotate(-83.22881)scale(0.1 -0.1)\">\r\n      <use xlink:href=\"#DejaVuSans-49\"/>\r\n      <use x=\"63.623047\" xlink:href=\"#DejaVuSans-49\"/>\r\n     </g>\r\n    </g>\r\n   </g>\r\n   <g id=\"text_13\">\r\n    <g id=\"patch_14\">\r\n     <path clip-path=\"url(#pb66237bae3)\" d=\"M 122.028669 423.564591 \r\nL 133.741824 418.591902 \r\nQ 136.503275 417.419559 135.330932 414.658108 \r\nL 131.548904 405.749552 \r\nQ 130.376561 402.988101 127.61511 404.160444 \r\nL 115.901955 409.133133 \r\nQ 113.140504 410.305476 114.312847 413.066927 \r\nL 118.094875 421.975483 \r\nQ 119.267218 424.736934 122.028669 423.564591 \r\nz\r\n\" style=\"fill:#ffffff;stroke:#ffffff;stroke-linejoin:miter;\"/>\r\n    </g>\r\n    <g clip-path=\"url(#pb66237bae3)\">\r\n     <!-- 44 -->\r\n     <g transform=\"translate(120.043624 418.888822)rotate(-23.003107)scale(0.1 -0.1)\">\r\n      <use xlink:href=\"#DejaVuSans-52\"/>\r\n      <use x=\"63.623047\" xlink:href=\"#DejaVuSans-52\"/>\r\n     </g>\r\n    </g>\r\n   </g>\r\n   <g id=\"text_14\">\r\n    <g id=\"patch_15\">\r\n     <path clip-path=\"url(#pb66237bae3)\" d=\"M 320.580755 376.970571 \r\nL 333.265862 375.963751 \r\nQ 336.256457 375.726387 336.019093 372.735792 \r\nL 335.253345 363.088008 \r\nQ 335.015981 360.097413 332.025386 360.334777 \r\nL 319.340279 361.341598 \r\nQ 316.349684 361.578962 316.587049 364.569557 \r\nL 317.352796 374.217341 \r\nQ 317.59016 377.207936 320.580755 376.970571 \r\nz\r\n\" style=\"fill:#ffffff;stroke:#ffffff;stroke-linejoin:miter;\"/>\r\n    </g>\r\n    <g clip-path=\"url(#pb66237bae3)\">\r\n     <!-- 20 -->\r\n     <g transform=\"translate(320.178843 371.906809)rotate(-4.538068)scale(0.1 -0.1)\">\r\n      <use xlink:href=\"#DejaVuSans-50\"/>\r\n      <use x=\"63.623047\" xlink:href=\"#DejaVuSans-48\"/>\r\n     </g>\r\n    </g>\r\n   </g>\r\n   <g id=\"text_15\">\r\n    <g id=\"patch_16\">\r\n     <path clip-path=\"url(#pb66237bae3)\" d=\"M 505.195879 316.870111 \r\nL 514.887678 308.624224 \r\nQ 517.172581 306.680203 515.228561 304.395299 \r\nL 508.957069 297.024106 \r\nQ 507.013048 294.739203 504.728145 296.683223 \r\nL 495.036346 304.929111 \r\nQ 492.751443 306.873132 494.695463 309.158035 \r\nL 500.966955 316.529229 \r\nQ 502.910976 318.814132 505.195879 316.870111 \r\nz\r\n\" style=\"fill:#ffffff;stroke:#ffffff;stroke-linejoin:miter;\"/>\r\n    </g>\r\n    <g clip-path=\"url(#pb66237bae3)\">\r\n     <!-- 41 -->\r\n     <g transform=\"translate(501.904207 313.001246)rotate(-40.391499)scale(0.1 -0.1)\">\r\n      <use xlink:href=\"#DejaVuSans-52\"/>\r\n      <use x=\"63.623047\" xlink:href=\"#DejaVuSans-49\"/>\r\n     </g>\r\n    </g>\r\n   </g>\r\n   <g id=\"text_16\">\r\n    <g id=\"patch_17\">\r\n     <path clip-path=\"url(#pb66237bae3)\" d=\"M 514.874639 228.535573 \r\nL 520.145425 232.099309 \r\nQ 522.630668 233.779656 524.311016 231.294413 \r\nL 529.731886 223.276915 \r\nQ 531.412233 220.791672 528.92699 219.111325 \r\nL 523.656203 215.547589 \r\nQ 521.17096 213.867242 519.490613 216.352485 \r\nL 514.069743 224.369983 \r\nQ 512.389396 226.855226 514.874639 228.535573 \r\nz\r\n\" style=\"fill:#ffffff;stroke:#ffffff;stroke-linejoin:miter;\"/>\r\n    </g>\r\n    <g clip-path=\"url(#pb66237bae3)\">\r\n     <!-- 5 -->\r\n     <g transform=\"translate(517.719852 224.327487)rotate(-325.936199)scale(0.1 -0.1)\">\r\n      <use xlink:href=\"#DejaVuSans-53\"/>\r\n     </g>\r\n    </g>\r\n   </g>\r\n   <g id=\"PathCollection_1\">\r\n    <defs>\r\n     <path d=\"M 0 8.660254 \r\nC 2.296726 8.660254 4.499694 7.747755 6.123724 6.123724 \r\nC 7.747755 4.499694 8.660254 2.296726 8.660254 0 \r\nC 8.660254 -2.296726 7.747755 -4.499694 6.123724 -6.123724 \r\nC 4.499694 -7.747755 2.296726 -8.660254 0 -8.660254 \r\nC -2.296726 -8.660254 -4.499694 -7.747755 -6.123724 -6.123724 \r\nC -7.747755 -4.499694 -8.660254 -2.296726 -8.660254 0 \r\nC -8.660254 2.296726 -7.747755 4.499694 -6.123724 6.123724 \r\nC -4.499694 7.747755 -2.296726 8.660254 0 8.660254 \r\nz\r\n\" id=\"mcda08b3364\" style=\"stroke:#d51e39;stroke-opacity:0.6;\"/>\r\n    </defs>\r\n    <g clip-path=\"url(#pb66237bae3)\">\r\n     <use style=\"fill:#d51e39;fill-opacity:0.6;stroke:#d51e39;stroke-opacity:0.6;\" x=\"312.872754\" xlink:href=\"#mcda08b3364\" y=\"189.792509\"/>\r\n     <use style=\"fill:#d51e39;fill-opacity:0.6;stroke:#d51e39;stroke-opacity:0.6;\" x=\"553.487123\" xlink:href=\"#mcda08b3364\" y=\"138.280585\"/>\r\n     <use style=\"fill:#d51e39;fill-opacity:0.6;stroke:#d51e39;stroke-opacity:0.6;\" x=\"136.998088\" xlink:href=\"#mcda08b3364\" y=\"254.9708\"/>\r\n     <use style=\"fill:#d51e39;fill-opacity:0.6;stroke:#d51e39;stroke-opacity:0.6;\" x=\"699.627273\" xlink:href=\"#mcda08b3364\" y=\"55.315526\"/>\r\n     <use style=\"fill:#d51e39;fill-opacity:0.6;stroke:#d51e39;stroke-opacity:0.6;\" x=\"298.629187\" xlink:href=\"#mcda08b3364\" y=\"296.775384\"/>\r\n     <use style=\"fill:#d51e39;fill-opacity:0.6;stroke:#d51e39;stroke-opacity:0.6;\" x=\"198.450717\" xlink:href=\"#mcda08b3364\" y=\"285.756845\"/>\r\n     <use style=\"fill:#d51e39;fill-opacity:0.6;stroke:#d51e39;stroke-opacity:0.6;\" x=\"209.471052\" xlink:href=\"#mcda08b3364\" y=\"377.925662\"/>\r\n     <use style=\"fill:#d51e39;fill-opacity:0.6;stroke:#d51e39;stroke-opacity:0.6;\" x=\"194.967421\" xlink:href=\"#mcda08b3364\" y=\"500.079162\"/>\r\n     <use style=\"fill:#d51e39;fill-opacity:0.6;stroke:#d51e39;stroke-opacity:0.6;\" x=\"566.788934\" xlink:href=\"#mcda08b3364\" y=\"254.173648\"/>\r\n     <use style=\"fill:#d51e39;fill-opacity:0.6;stroke:#d51e39;stroke-opacity:0.6;\" x=\"443.13509\" xlink:href=\"#mcda08b3364\" y=\"359.379686\"/>\r\n     <use style=\"fill:#d51e39;fill-opacity:0.6;stroke:#d51e39;stroke-opacity:0.6;\" x=\"477.012694\" xlink:href=\"#mcda08b3364\" y=\"193.47325\"/>\r\n     <use style=\"fill:#d51e39;fill-opacity:0.6;stroke:#d51e39;stroke-opacity:0.6;\" x=\"226.862957\" xlink:href=\"#mcda08b3364\" y=\"78.014135\"/>\r\n     <use style=\"fill:#d51e39;fill-opacity:0.6;stroke:#d51e39;stroke-opacity:0.6;\" x=\"40.172727\" xlink:href=\"#mcda08b3364\" y=\"449.799373\"/>\r\n    </g>\r\n   </g>\r\n   <g id=\"text_17\">\r\n    <g clip-path=\"url(#pb66237bae3)\">\r\n     <!-- Grand Est -->\r\n     <g transform=\"translate(285.757754 192.827822)scale(0.11 -0.11)\">\r\n      <defs>\r\n       <path d=\"M 59.515625 10.40625 \r\nL 59.515625 29.984375 \r\nL 43.40625 29.984375 \r\nL 43.40625 38.09375 \r\nL 69.28125 38.09375 \r\nL 69.28125 6.78125 \r\nQ 63.578125 2.734375 56.6875 0.65625 \r\nQ 49.8125 -1.421875 42 -1.421875 \r\nQ 24.90625 -1.421875 15.25 8.5625 \r\nQ 5.609375 18.5625 5.609375 36.375 \r\nQ 5.609375 54.25 15.25 64.234375 \r\nQ 24.90625 74.21875 42 74.21875 \r\nQ 49.125 74.21875 55.546875 72.453125 \r\nQ 61.96875 70.703125 67.390625 67.28125 \r\nL 67.390625 56.78125 \r\nQ 61.921875 61.421875 55.765625 63.765625 \r\nQ 49.609375 66.109375 42.828125 66.109375 \r\nQ 29.4375 66.109375 22.71875 58.640625 \r\nQ 16.015625 51.171875 16.015625 36.375 \r\nQ 16.015625 21.625 22.71875 14.15625 \r\nQ 29.4375 6.6875 42.828125 6.6875 \r\nQ 48.046875 6.6875 52.140625 7.59375 \r\nQ 56.25 8.5 59.515625 10.40625 \r\nz\r\n\" id=\"DejaVuSans-71\"/>\r\n       <path d=\"M 41.109375 46.296875 \r\nQ 39.59375 47.171875 37.8125 47.578125 \r\nQ 36.03125 48 33.890625 48 \r\nQ 26.265625 48 22.1875 43.046875 \r\nQ 18.109375 38.09375 18.109375 28.8125 \r\nL 18.109375 0 \r\nL 9.078125 0 \r\nL 9.078125 54.6875 \r\nL 18.109375 54.6875 \r\nL 18.109375 46.1875 \r\nQ 20.953125 51.171875 25.484375 53.578125 \r\nQ 30.03125 56 36.53125 56 \r\nQ 37.453125 56 38.578125 55.875 \r\nQ 39.703125 55.765625 41.0625 55.515625 \r\nz\r\n\" id=\"DejaVuSans-114\"/>\r\n       <path d=\"M 34.28125 27.484375 \r\nQ 23.390625 27.484375 19.1875 25 \r\nQ 14.984375 22.515625 14.984375 16.5 \r\nQ 14.984375 11.71875 18.140625 8.90625 \r\nQ 21.296875 6.109375 26.703125 6.109375 \r\nQ 34.1875 6.109375 38.703125 11.40625 \r\nQ 43.21875 16.703125 43.21875 25.484375 \r\nL 43.21875 27.484375 \r\nz\r\nM 52.203125 31.203125 \r\nL 52.203125 0 \r\nL 43.21875 0 \r\nL 43.21875 8.296875 \r\nQ 40.140625 3.328125 35.546875 0.953125 \r\nQ 30.953125 -1.421875 24.3125 -1.421875 \r\nQ 15.921875 -1.421875 10.953125 3.296875 \r\nQ 6 8.015625 6 15.921875 \r\nQ 6 25.140625 12.171875 29.828125 \r\nQ 18.359375 34.515625 30.609375 34.515625 \r\nL 43.21875 34.515625 \r\nL 43.21875 35.40625 \r\nQ 43.21875 41.609375 39.140625 45 \r\nQ 35.0625 48.390625 27.6875 48.390625 \r\nQ 23 48.390625 18.546875 47.265625 \r\nQ 14.109375 46.140625 10.015625 43.890625 \r\nL 10.015625 52.203125 \r\nQ 14.9375 54.109375 19.578125 55.046875 \r\nQ 24.21875 56 28.609375 56 \r\nQ 40.484375 56 46.34375 49.84375 \r\nQ 52.203125 43.703125 52.203125 31.203125 \r\nz\r\n\" id=\"DejaVuSans-97\"/>\r\n       <path d=\"M 54.890625 33.015625 \r\nL 54.890625 0 \r\nL 45.90625 0 \r\nL 45.90625 32.71875 \r\nQ 45.90625 40.484375 42.875 44.328125 \r\nQ 39.84375 48.1875 33.796875 48.1875 \r\nQ 26.515625 48.1875 22.3125 43.546875 \r\nQ 18.109375 38.921875 18.109375 30.90625 \r\nL 18.109375 0 \r\nL 9.078125 0 \r\nL 9.078125 54.6875 \r\nL 18.109375 54.6875 \r\nL 18.109375 46.1875 \r\nQ 21.34375 51.125 25.703125 53.5625 \r\nQ 30.078125 56 35.796875 56 \r\nQ 45.21875 56 50.046875 50.171875 \r\nQ 54.890625 44.34375 54.890625 33.015625 \r\nz\r\n\" id=\"DejaVuSans-110\"/>\r\n       <path d=\"M 45.40625 46.390625 \r\nL 45.40625 75.984375 \r\nL 54.390625 75.984375 \r\nL 54.390625 0 \r\nL 45.40625 0 \r\nL 45.40625 8.203125 \r\nQ 42.578125 3.328125 38.25 0.953125 \r\nQ 33.9375 -1.421875 27.875 -1.421875 \r\nQ 17.96875 -1.421875 11.734375 6.484375 \r\nQ 5.515625 14.40625 5.515625 27.296875 \r\nQ 5.515625 40.1875 11.734375 48.09375 \r\nQ 17.96875 56 27.875 56 \r\nQ 33.9375 56 38.25 53.625 \r\nQ 42.578125 51.265625 45.40625 46.390625 \r\nz\r\nM 14.796875 27.296875 \r\nQ 14.796875 17.390625 18.875 11.75 \r\nQ 22.953125 6.109375 30.078125 6.109375 \r\nQ 37.203125 6.109375 41.296875 11.75 \r\nQ 45.40625 17.390625 45.40625 27.296875 \r\nQ 45.40625 37.203125 41.296875 42.84375 \r\nQ 37.203125 48.484375 30.078125 48.484375 \r\nQ 22.953125 48.484375 18.875 42.84375 \r\nQ 14.796875 37.203125 14.796875 27.296875 \r\nz\r\n\" id=\"DejaVuSans-100\"/>\r\n       <path id=\"DejaVuSans-32\"/>\r\n       <path d=\"M 9.8125 72.90625 \r\nL 55.90625 72.90625 \r\nL 55.90625 64.59375 \r\nL 19.671875 64.59375 \r\nL 19.671875 43.015625 \r\nL 54.390625 43.015625 \r\nL 54.390625 34.71875 \r\nL 19.671875 34.71875 \r\nL 19.671875 8.296875 \r\nL 56.78125 8.296875 \r\nL 56.78125 0 \r\nL 9.8125 0 \r\nz\r\n\" id=\"DejaVuSans-69\"/>\r\n       <path d=\"M 44.28125 53.078125 \r\nL 44.28125 44.578125 \r\nQ 40.484375 46.53125 36.375 47.5 \r\nQ 32.28125 48.484375 27.875 48.484375 \r\nQ 21.1875 48.484375 17.84375 46.4375 \r\nQ 14.5 44.390625 14.5 40.28125 \r\nQ 14.5 37.15625 16.890625 35.375 \r\nQ 19.28125 33.59375 26.515625 31.984375 \r\nL 29.59375 31.296875 \r\nQ 39.15625 29.25 43.1875 25.515625 \r\nQ 47.21875 21.78125 47.21875 15.09375 \r\nQ 47.21875 7.46875 41.1875 3.015625 \r\nQ 35.15625 -1.421875 24.609375 -1.421875 \r\nQ 20.21875 -1.421875 15.453125 -0.5625 \r\nQ 10.6875 0.296875 5.421875 2 \r\nL 5.421875 11.28125 \r\nQ 10.40625 8.6875 15.234375 7.390625 \r\nQ 20.0625 6.109375 24.8125 6.109375 \r\nQ 31.15625 6.109375 34.5625 8.28125 \r\nQ 37.984375 10.453125 37.984375 14.40625 \r\nQ 37.984375 18.0625 35.515625 20.015625 \r\nQ 33.0625 21.96875 24.703125 23.78125 \r\nL 21.578125 24.515625 \r\nQ 13.234375 26.265625 9.515625 29.90625 \r\nQ 5.8125 33.546875 5.8125 39.890625 \r\nQ 5.8125 47.609375 11.28125 51.796875 \r\nQ 16.75 56 26.8125 56 \r\nQ 31.78125 56 36.171875 55.265625 \r\nQ 40.578125 54.546875 44.28125 53.078125 \r\nz\r\n\" id=\"DejaVuSans-115\"/>\r\n       <path d=\"M 18.3125 70.21875 \r\nL 18.3125 54.6875 \r\nL 36.8125 54.6875 \r\nL 36.8125 47.703125 \r\nL 18.3125 47.703125 \r\nL 18.3125 18.015625 \r\nQ 18.3125 11.328125 20.140625 9.421875 \r\nQ 21.96875 7.515625 27.59375 7.515625 \r\nL 36.8125 7.515625 \r\nL 36.8125 0 \r\nL 27.59375 0 \r\nQ 17.1875 0 13.234375 3.875 \r\nQ 9.28125 7.765625 9.28125 18.015625 \r\nL 9.28125 47.703125 \r\nL 2.6875 47.703125 \r\nL 2.6875 54.6875 \r\nL 9.28125 54.6875 \r\nL 9.28125 70.21875 \r\nz\r\n\" id=\"DejaVuSans-116\"/>\r\n      </defs>\r\n      <use xlink:href=\"#DejaVuSans-71\"/>\r\n      <use x=\"77.490234\" xlink:href=\"#DejaVuSans-114\"/>\r\n      <use x=\"118.603516\" xlink:href=\"#DejaVuSans-97\"/>\r\n      <use x=\"179.882812\" xlink:href=\"#DejaVuSans-110\"/>\r\n      <use x=\"243.261719\" xlink:href=\"#DejaVuSans-100\"/>\r\n      <use x=\"306.738281\" xlink:href=\"#DejaVuSans-32\"/>\r\n      <use x=\"338.525391\" xlink:href=\"#DejaVuSans-69\"/>\r\n      <use x=\"401.708984\" xlink:href=\"#DejaVuSans-115\"/>\r\n      <use x=\"453.808594\" xlink:href=\"#DejaVuSans-116\"/>\r\n     </g>\r\n    </g>\r\n   </g>\r\n   <g id=\"text_18\">\r\n    <g clip-path=\"url(#pb66237bae3)\">\r\n     <!-- Provence-Alpes-Côte-d'Azur -->\r\n     <g transform=\"translate(477.225326 141.535897)scale(0.11 -0.11)\">\r\n      <defs>\r\n       <path d=\"M 19.671875 64.796875 \r\nL 19.671875 37.40625 \r\nL 32.078125 37.40625 \r\nQ 38.96875 37.40625 42.71875 40.96875 \r\nQ 46.484375 44.53125 46.484375 51.125 \r\nQ 46.484375 57.671875 42.71875 61.234375 \r\nQ 38.96875 64.796875 32.078125 64.796875 \r\nz\r\nM 9.8125 72.90625 \r\nL 32.078125 72.90625 \r\nQ 44.34375 72.90625 50.609375 67.359375 \r\nQ 56.890625 61.8125 56.890625 51.125 \r\nQ 56.890625 40.328125 50.609375 34.8125 \r\nQ 44.34375 29.296875 32.078125 29.296875 \r\nL 19.671875 29.296875 \r\nL 19.671875 0 \r\nL 9.8125 0 \r\nz\r\n\" id=\"DejaVuSans-80\"/>\r\n       <path d=\"M 30.609375 48.390625 \r\nQ 23.390625 48.390625 19.1875 42.75 \r\nQ 14.984375 37.109375 14.984375 27.296875 \r\nQ 14.984375 17.484375 19.15625 11.84375 \r\nQ 23.34375 6.203125 30.609375 6.203125 \r\nQ 37.796875 6.203125 41.984375 11.859375 \r\nQ 46.1875 17.53125 46.1875 27.296875 \r\nQ 46.1875 37.015625 41.984375 42.703125 \r\nQ 37.796875 48.390625 30.609375 48.390625 \r\nz\r\nM 30.609375 56 \r\nQ 42.328125 56 49.015625 48.375 \r\nQ 55.71875 40.765625 55.71875 27.296875 \r\nQ 55.71875 13.875 49.015625 6.21875 \r\nQ 42.328125 -1.421875 30.609375 -1.421875 \r\nQ 18.84375 -1.421875 12.171875 6.21875 \r\nQ 5.515625 13.875 5.515625 27.296875 \r\nQ 5.515625 40.765625 12.171875 48.375 \r\nQ 18.84375 56 30.609375 56 \r\nz\r\n\" id=\"DejaVuSans-111\"/>\r\n       <path d=\"M 2.984375 54.6875 \r\nL 12.5 54.6875 \r\nL 29.59375 8.796875 \r\nL 46.6875 54.6875 \r\nL 56.203125 54.6875 \r\nL 35.6875 0 \r\nL 23.484375 0 \r\nz\r\n\" id=\"DejaVuSans-118\"/>\r\n       <path d=\"M 56.203125 29.59375 \r\nL 56.203125 25.203125 \r\nL 14.890625 25.203125 \r\nQ 15.484375 15.921875 20.484375 11.0625 \r\nQ 25.484375 6.203125 34.421875 6.203125 \r\nQ 39.59375 6.203125 44.453125 7.46875 \r\nQ 49.3125 8.734375 54.109375 11.28125 \r\nL 54.109375 2.78125 \r\nQ 49.265625 0.734375 44.1875 -0.34375 \r\nQ 39.109375 -1.421875 33.890625 -1.421875 \r\nQ 20.796875 -1.421875 13.15625 6.1875 \r\nQ 5.515625 13.8125 5.515625 26.8125 \r\nQ 5.515625 40.234375 12.765625 48.109375 \r\nQ 20.015625 56 32.328125 56 \r\nQ 43.359375 56 49.78125 48.890625 \r\nQ 56.203125 41.796875 56.203125 29.59375 \r\nz\r\nM 47.21875 32.234375 \r\nQ 47.125 39.59375 43.09375 43.984375 \r\nQ 39.0625 48.390625 32.421875 48.390625 \r\nQ 24.90625 48.390625 20.390625 44.140625 \r\nQ 15.875 39.890625 15.1875 32.171875 \r\nz\r\n\" id=\"DejaVuSans-101\"/>\r\n       <path d=\"M 48.78125 52.59375 \r\nL 48.78125 44.1875 \r\nQ 44.96875 46.296875 41.140625 47.34375 \r\nQ 37.3125 48.390625 33.40625 48.390625 \r\nQ 24.65625 48.390625 19.8125 42.84375 \r\nQ 14.984375 37.3125 14.984375 27.296875 \r\nQ 14.984375 17.28125 19.8125 11.734375 \r\nQ 24.65625 6.203125 33.40625 6.203125 \r\nQ 37.3125 6.203125 41.140625 7.25 \r\nQ 44.96875 8.296875 48.78125 10.40625 \r\nL 48.78125 2.09375 \r\nQ 45.015625 0.34375 40.984375 -0.53125 \r\nQ 36.96875 -1.421875 32.421875 -1.421875 \r\nQ 20.0625 -1.421875 12.78125 6.34375 \r\nQ 5.515625 14.109375 5.515625 27.296875 \r\nQ 5.515625 40.671875 12.859375 48.328125 \r\nQ 20.21875 56 33.015625 56 \r\nQ 37.15625 56 41.109375 55.140625 \r\nQ 45.0625 54.296875 48.78125 52.59375 \r\nz\r\n\" id=\"DejaVuSans-99\"/>\r\n       <path d=\"M 4.890625 31.390625 \r\nL 31.203125 31.390625 \r\nL 31.203125 23.390625 \r\nL 4.890625 23.390625 \r\nz\r\n\" id=\"DejaVuSans-45\"/>\r\n       <path d=\"M 34.1875 63.1875 \r\nL 20.796875 26.90625 \r\nL 47.609375 26.90625 \r\nz\r\nM 28.609375 72.90625 \r\nL 39.796875 72.90625 \r\nL 67.578125 0 \r\nL 57.328125 0 \r\nL 50.6875 18.703125 \r\nL 17.828125 18.703125 \r\nL 11.1875 0 \r\nL 0.78125 0 \r\nz\r\n\" id=\"DejaVuSans-65\"/>\r\n       <path d=\"M 9.421875 75.984375 \r\nL 18.40625 75.984375 \r\nL 18.40625 0 \r\nL 9.421875 0 \r\nz\r\n\" id=\"DejaVuSans-108\"/>\r\n       <path d=\"M 18.109375 8.203125 \r\nL 18.109375 -20.796875 \r\nL 9.078125 -20.796875 \r\nL 9.078125 54.6875 \r\nL 18.109375 54.6875 \r\nL 18.109375 46.390625 \r\nQ 20.953125 51.265625 25.265625 53.625 \r\nQ 29.59375 56 35.59375 56 \r\nQ 45.5625 56 51.78125 48.09375 \r\nQ 58.015625 40.1875 58.015625 27.296875 \r\nQ 58.015625 14.40625 51.78125 6.484375 \r\nQ 45.5625 -1.421875 35.59375 -1.421875 \r\nQ 29.59375 -1.421875 25.265625 0.953125 \r\nQ 20.953125 3.328125 18.109375 8.203125 \r\nz\r\nM 48.6875 27.296875 \r\nQ 48.6875 37.203125 44.609375 42.84375 \r\nQ 40.53125 48.484375 33.40625 48.484375 \r\nQ 26.265625 48.484375 22.1875 42.84375 \r\nQ 18.109375 37.203125 18.109375 27.296875 \r\nQ 18.109375 17.390625 22.1875 11.75 \r\nQ 26.265625 6.109375 33.40625 6.109375 \r\nQ 40.53125 6.109375 44.609375 11.75 \r\nQ 48.6875 17.390625 48.6875 27.296875 \r\nz\r\n\" id=\"DejaVuSans-112\"/>\r\n       <path d=\"M 64.40625 67.28125 \r\nL 64.40625 56.890625 \r\nQ 59.421875 61.53125 53.78125 63.8125 \r\nQ 48.140625 66.109375 41.796875 66.109375 \r\nQ 29.296875 66.109375 22.65625 58.46875 \r\nQ 16.015625 50.828125 16.015625 36.375 \r\nQ 16.015625 21.96875 22.65625 14.328125 \r\nQ 29.296875 6.6875 41.796875 6.6875 \r\nQ 48.140625 6.6875 53.78125 8.984375 \r\nQ 59.421875 11.28125 64.40625 15.921875 \r\nL 64.40625 5.609375 \r\nQ 59.234375 2.09375 53.4375 0.328125 \r\nQ 47.65625 -1.421875 41.21875 -1.421875 \r\nQ 24.65625 -1.421875 15.125 8.703125 \r\nQ 5.609375 18.84375 5.609375 36.375 \r\nQ 5.609375 53.953125 15.125 64.078125 \r\nQ 24.65625 74.21875 41.21875 74.21875 \r\nQ 47.75 74.21875 53.53125 72.484375 \r\nQ 59.328125 70.75 64.40625 67.28125 \r\nz\r\n\" id=\"DejaVuSans-67\"/>\r\n       <path d=\"M 30.609375 48.390625 \r\nQ 23.390625 48.390625 19.1875 42.75 \r\nQ 14.984375 37.109375 14.984375 27.296875 \r\nQ 14.984375 17.484375 19.15625 11.84375 \r\nQ 23.34375 6.203125 30.609375 6.203125 \r\nQ 37.796875 6.203125 41.984375 11.859375 \r\nQ 46.1875 17.53125 46.1875 27.296875 \r\nQ 46.1875 37.015625 41.984375 42.703125 \r\nQ 37.796875 48.390625 30.609375 48.390625 \r\nz\r\nM 30.609375 56 \r\nQ 42.328125 56 49.015625 48.375 \r\nQ 55.71875 40.765625 55.71875 27.296875 \r\nQ 55.71875 13.875 49.015625 6.21875 \r\nQ 42.328125 -1.421875 30.609375 -1.421875 \r\nQ 18.84375 -1.421875 12.171875 6.21875 \r\nQ 5.515625 13.875 5.515625 27.296875 \r\nQ 5.515625 40.765625 12.171875 48.375 \r\nQ 18.84375 56 30.609375 56 \r\nz\r\nM 27 79.984375 \r\nL 34.234375 79.984375 \r\nL 46.1875 61.625 \r\nL 39.40625 61.625 \r\nL 30.609375 73.578125 \r\nL 21.828125 61.625 \r\nL 15.046875 61.625 \r\nz\r\n\" id=\"DejaVuSans-244\"/>\r\n       <path d=\"M 17.921875 72.90625 \r\nL 17.921875 45.796875 \r\nL 9.625 45.796875 \r\nL 9.625 72.90625 \r\nz\r\n\" id=\"DejaVuSans-39\"/>\r\n       <path d=\"M 5.515625 54.6875 \r\nL 48.1875 54.6875 \r\nL 48.1875 46.484375 \r\nL 14.40625 7.171875 \r\nL 48.1875 7.171875 \r\nL 48.1875 0 \r\nL 4.296875 0 \r\nL 4.296875 8.203125 \r\nL 38.09375 47.515625 \r\nL 5.515625 47.515625 \r\nz\r\n\" id=\"DejaVuSans-122\"/>\r\n       <path d=\"M 8.5 21.578125 \r\nL 8.5 54.6875 \r\nL 17.484375 54.6875 \r\nL 17.484375 21.921875 \r\nQ 17.484375 14.15625 20.5 10.265625 \r\nQ 23.53125 6.390625 29.59375 6.390625 \r\nQ 36.859375 6.390625 41.078125 11.03125 \r\nQ 45.3125 15.671875 45.3125 23.6875 \r\nL 45.3125 54.6875 \r\nL 54.296875 54.6875 \r\nL 54.296875 0 \r\nL 45.3125 0 \r\nL 45.3125 8.40625 \r\nQ 42.046875 3.421875 37.71875 1 \r\nQ 33.40625 -1.421875 27.6875 -1.421875 \r\nQ 18.265625 -1.421875 13.375 4.4375 \r\nQ 8.5 10.296875 8.5 21.578125 \r\nz\r\nM 31.109375 56 \r\nz\r\n\" id=\"DejaVuSans-117\"/>\r\n      </defs>\r\n      <use xlink:href=\"#DejaVuSans-80\"/>\r\n      <use x=\"58.552734\" xlink:href=\"#DejaVuSans-114\"/>\r\n      <use x=\"97.416016\" xlink:href=\"#DejaVuSans-111\"/>\r\n      <use x=\"158.597656\" xlink:href=\"#DejaVuSans-118\"/>\r\n      <use x=\"217.777344\" xlink:href=\"#DejaVuSans-101\"/>\r\n      <use x=\"279.300781\" xlink:href=\"#DejaVuSans-110\"/>\r\n      <use x=\"342.679688\" xlink:href=\"#DejaVuSans-99\"/>\r\n      <use x=\"397.660156\" xlink:href=\"#DejaVuSans-101\"/>\r\n      <use x=\"459.183594\" xlink:href=\"#DejaVuSans-45\"/>\r\n      <use x=\"493.017578\" xlink:href=\"#DejaVuSans-65\"/>\r\n      <use x=\"561.425781\" xlink:href=\"#DejaVuSans-108\"/>\r\n      <use x=\"589.208984\" xlink:href=\"#DejaVuSans-112\"/>\r\n      <use x=\"652.685547\" xlink:href=\"#DejaVuSans-101\"/>\r\n      <use x=\"714.208984\" xlink:href=\"#DejaVuSans-115\"/>\r\n      <use x=\"766.308594\" xlink:href=\"#DejaVuSans-45\"/>\r\n      <use x=\"802.392578\" xlink:href=\"#DejaVuSans-67\"/>\r\n      <use x=\"872.216797\" xlink:href=\"#DejaVuSans-244\"/>\r\n      <use x=\"933.398438\" xlink:href=\"#DejaVuSans-116\"/>\r\n      <use x=\"972.607422\" xlink:href=\"#DejaVuSans-101\"/>\r\n      <use x=\"1034.130859\" xlink:href=\"#DejaVuSans-45\"/>\r\n      <use x=\"1070.214844\" xlink:href=\"#DejaVuSans-100\"/>\r\n      <use x=\"1133.691406\" xlink:href=\"#DejaVuSans-39\"/>\r\n      <use x=\"1161.181641\" xlink:href=\"#DejaVuSans-65\"/>\r\n      <use x=\"1229.589844\" xlink:href=\"#DejaVuSans-122\"/>\r\n      <use x=\"1282.080078\" xlink:href=\"#DejaVuSans-117\"/>\r\n      <use x=\"1345.458984\" xlink:href=\"#DejaVuSans-114\"/>\r\n     </g>\r\n    </g>\r\n   </g>\r\n   <g id=\"text_19\">\r\n    <g clip-path=\"url(#pb66237bae3)\">\r\n     <!-- Nouvelle-Aquitaine -->\r\n     <g transform=\"translate(84.996448 258.006113)scale(0.11 -0.11)\">\r\n      <defs>\r\n       <path d=\"M 9.8125 72.90625 \r\nL 23.09375 72.90625 \r\nL 55.421875 11.921875 \r\nL 55.421875 72.90625 \r\nL 64.984375 72.90625 \r\nL 64.984375 0 \r\nL 51.703125 0 \r\nL 19.390625 60.984375 \r\nL 19.390625 0 \r\nL 9.8125 0 \r\nz\r\n\" id=\"DejaVuSans-78\"/>\r\n       <path d=\"M 14.796875 27.296875 \r\nQ 14.796875 17.390625 18.875 11.75 \r\nQ 22.953125 6.109375 30.078125 6.109375 \r\nQ 37.203125 6.109375 41.296875 11.75 \r\nQ 45.40625 17.390625 45.40625 27.296875 \r\nQ 45.40625 37.203125 41.296875 42.84375 \r\nQ 37.203125 48.484375 30.078125 48.484375 \r\nQ 22.953125 48.484375 18.875 42.84375 \r\nQ 14.796875 37.203125 14.796875 27.296875 \r\nz\r\nM 45.40625 8.203125 \r\nQ 42.578125 3.328125 38.25 0.953125 \r\nQ 33.9375 -1.421875 27.875 -1.421875 \r\nQ 17.96875 -1.421875 11.734375 6.484375 \r\nQ 5.515625 14.40625 5.515625 27.296875 \r\nQ 5.515625 40.1875 11.734375 48.09375 \r\nQ 17.96875 56 27.875 56 \r\nQ 33.9375 56 38.25 53.625 \r\nQ 42.578125 51.265625 45.40625 46.390625 \r\nL 45.40625 54.6875 \r\nL 54.390625 54.6875 \r\nL 54.390625 -20.796875 \r\nL 45.40625 -20.796875 \r\nz\r\n\" id=\"DejaVuSans-113\"/>\r\n       <path d=\"M 9.421875 54.6875 \r\nL 18.40625 54.6875 \r\nL 18.40625 0 \r\nL 9.421875 0 \r\nz\r\nM 9.421875 75.984375 \r\nL 18.40625 75.984375 \r\nL 18.40625 64.59375 \r\nL 9.421875 64.59375 \r\nz\r\n\" id=\"DejaVuSans-105\"/>\r\n      </defs>\r\n      <use xlink:href=\"#DejaVuSans-78\"/>\r\n      <use x=\"74.804688\" xlink:href=\"#DejaVuSans-111\"/>\r\n      <use x=\"135.986328\" xlink:href=\"#DejaVuSans-117\"/>\r\n      <use x=\"199.365234\" xlink:href=\"#DejaVuSans-118\"/>\r\n      <use x=\"258.544922\" xlink:href=\"#DejaVuSans-101\"/>\r\n      <use x=\"320.068359\" xlink:href=\"#DejaVuSans-108\"/>\r\n      <use x=\"347.851562\" xlink:href=\"#DejaVuSans-108\"/>\r\n      <use x=\"375.634766\" xlink:href=\"#DejaVuSans-101\"/>\r\n      <use x=\"437.158203\" xlink:href=\"#DejaVuSans-45\"/>\r\n      <use x=\"470.992188\" xlink:href=\"#DejaVuSans-65\"/>\r\n      <use x=\"537.650391\" xlink:href=\"#DejaVuSans-113\"/>\r\n      <use x=\"601.126953\" xlink:href=\"#DejaVuSans-117\"/>\r\n      <use x=\"664.505859\" xlink:href=\"#DejaVuSans-105\"/>\r\n      <use x=\"692.289062\" xlink:href=\"#DejaVuSans-116\"/>\r\n      <use x=\"731.498047\" xlink:href=\"#DejaVuSans-97\"/>\r\n      <use x=\"792.777344\" xlink:href=\"#DejaVuSans-105\"/>\r\n      <use x=\"820.560547\" xlink:href=\"#DejaVuSans-110\"/>\r\n      <use x=\"883.939453\" xlink:href=\"#DejaVuSans-101\"/>\r\n     </g>\r\n    </g>\r\n   </g>\r\n   <g id=\"text_20\">\r\n    <g clip-path=\"url(#pb66237bae3)\">\r\n     <!-- Corse -->\r\n     <g transform=\"translate(683.911023 58.350838)scale(0.11 -0.11)\">\r\n      <use xlink:href=\"#DejaVuSans-67\"/>\r\n      <use x=\"69.824219\" xlink:href=\"#DejaVuSans-111\"/>\r\n      <use x=\"131.005859\" xlink:href=\"#DejaVuSans-114\"/>\r\n      <use x=\"172.119141\" xlink:href=\"#DejaVuSans-115\"/>\r\n      <use x=\"224.21875\" xlink:href=\"#DejaVuSans-101\"/>\r\n     </g>\r\n    </g>\r\n   </g>\r\n   <g id=\"text_21\">\r\n    <g clip-path=\"url(#pb66237bae3)\">\r\n     <!-- Bretagne -->\r\n     <g transform=\"translate(273.446062 299.810696)scale(0.11 -0.11)\">\r\n      <defs>\r\n       <path d=\"M 19.671875 34.8125 \r\nL 19.671875 8.109375 \r\nL 35.5 8.109375 \r\nQ 43.453125 8.109375 47.28125 11.40625 \r\nQ 51.125 14.703125 51.125 21.484375 \r\nQ 51.125 28.328125 47.28125 31.5625 \r\nQ 43.453125 34.8125 35.5 34.8125 \r\nz\r\nM 19.671875 64.796875 \r\nL 19.671875 42.828125 \r\nL 34.28125 42.828125 \r\nQ 41.5 42.828125 45.03125 45.53125 \r\nQ 48.578125 48.25 48.578125 53.8125 \r\nQ 48.578125 59.328125 45.03125 62.0625 \r\nQ 41.5 64.796875 34.28125 64.796875 \r\nz\r\nM 9.8125 72.90625 \r\nL 35.015625 72.90625 \r\nQ 46.296875 72.90625 52.390625 68.21875 \r\nQ 58.5 63.53125 58.5 54.890625 \r\nQ 58.5 48.1875 55.375 44.234375 \r\nQ 52.25 40.28125 46.1875 39.3125 \r\nQ 53.46875 37.75 57.5 32.78125 \r\nQ 61.53125 27.828125 61.53125 20.40625 \r\nQ 61.53125 10.640625 54.890625 5.3125 \r\nQ 48.25 0 35.984375 0 \r\nL 9.8125 0 \r\nz\r\n\" id=\"DejaVuSans-66\"/>\r\n       <path d=\"M 45.40625 27.984375 \r\nQ 45.40625 37.75 41.375 43.109375 \r\nQ 37.359375 48.484375 30.078125 48.484375 \r\nQ 22.859375 48.484375 18.828125 43.109375 \r\nQ 14.796875 37.75 14.796875 27.984375 \r\nQ 14.796875 18.265625 18.828125 12.890625 \r\nQ 22.859375 7.515625 30.078125 7.515625 \r\nQ 37.359375 7.515625 41.375 12.890625 \r\nQ 45.40625 18.265625 45.40625 27.984375 \r\nz\r\nM 54.390625 6.78125 \r\nQ 54.390625 -7.171875 48.1875 -13.984375 \r\nQ 42 -20.796875 29.203125 -20.796875 \r\nQ 24.46875 -20.796875 20.265625 -20.09375 \r\nQ 16.0625 -19.390625 12.109375 -17.921875 \r\nL 12.109375 -9.1875 \r\nQ 16.0625 -11.328125 19.921875 -12.34375 \r\nQ 23.78125 -13.375 27.78125 -13.375 \r\nQ 36.625 -13.375 41.015625 -8.765625 \r\nQ 45.40625 -4.15625 45.40625 5.171875 \r\nL 45.40625 9.625 \r\nQ 42.625 4.78125 38.28125 2.390625 \r\nQ 33.9375 0 27.875 0 \r\nQ 17.828125 0 11.671875 7.65625 \r\nQ 5.515625 15.328125 5.515625 27.984375 \r\nQ 5.515625 40.671875 11.671875 48.328125 \r\nQ 17.828125 56 27.875 56 \r\nQ 33.9375 56 38.28125 53.609375 \r\nQ 42.625 51.21875 45.40625 46.390625 \r\nL 45.40625 54.6875 \r\nL 54.390625 54.6875 \r\nz\r\n\" id=\"DejaVuSans-103\"/>\r\n      </defs>\r\n      <use xlink:href=\"#DejaVuSans-66\"/>\r\n      <use x=\"68.603516\" xlink:href=\"#DejaVuSans-114\"/>\r\n      <use x=\"107.466797\" xlink:href=\"#DejaVuSans-101\"/>\r\n      <use x=\"168.990234\" xlink:href=\"#DejaVuSans-116\"/>\r\n      <use x=\"208.199219\" xlink:href=\"#DejaVuSans-97\"/>\r\n      <use x=\"269.478516\" xlink:href=\"#DejaVuSans-103\"/>\r\n      <use x=\"332.955078\" xlink:href=\"#DejaVuSans-110\"/>\r\n      <use x=\"396.333984\" xlink:href=\"#DejaVuSans-101\"/>\r\n     </g>\r\n    </g>\r\n   </g>\r\n   <g id=\"text_22\">\r\n    <g clip-path=\"url(#pb66237bae3)\">\r\n     <!-- Pays-de-la-Loire -->\r\n     <g transform=\"translate(154.780717 288.792157)scale(0.11 -0.11)\">\r\n      <defs>\r\n       <path d=\"M 32.171875 -5.078125 \r\nQ 28.375 -14.84375 24.75 -17.8125 \r\nQ 21.140625 -20.796875 15.09375 -20.796875 \r\nL 7.90625 -20.796875 \r\nL 7.90625 -13.28125 \r\nL 13.1875 -13.28125 \r\nQ 16.890625 -13.28125 18.9375 -11.515625 \r\nQ 21 -9.765625 23.484375 -3.21875 \r\nL 25.09375 0.875 \r\nL 2.984375 54.6875 \r\nL 12.5 54.6875 \r\nL 29.59375 11.921875 \r\nL 46.6875 54.6875 \r\nL 56.203125 54.6875 \r\nz\r\n\" id=\"DejaVuSans-121\"/>\r\n       <path d=\"M 9.8125 72.90625 \r\nL 19.671875 72.90625 \r\nL 19.671875 8.296875 \r\nL 55.171875 8.296875 \r\nL 55.171875 0 \r\nL 9.8125 0 \r\nz\r\n\" id=\"DejaVuSans-76\"/>\r\n      </defs>\r\n      <use xlink:href=\"#DejaVuSans-80\"/>\r\n      <use x=\"55.802734\" xlink:href=\"#DejaVuSans-97\"/>\r\n      <use x=\"117.082031\" xlink:href=\"#DejaVuSans-121\"/>\r\n      <use x=\"176.261719\" xlink:href=\"#DejaVuSans-115\"/>\r\n      <use x=\"228.361328\" xlink:href=\"#DejaVuSans-45\"/>\r\n      <use x=\"264.445312\" xlink:href=\"#DejaVuSans-100\"/>\r\n      <use x=\"327.921875\" xlink:href=\"#DejaVuSans-101\"/>\r\n      <use x=\"389.445312\" xlink:href=\"#DejaVuSans-45\"/>\r\n      <use x=\"425.529297\" xlink:href=\"#DejaVuSans-108\"/>\r\n      <use x=\"453.3125\" xlink:href=\"#DejaVuSans-97\"/>\r\n      <use x=\"514.591797\" xlink:href=\"#DejaVuSans-45\"/>\r\n      <use x=\"550.675781\" xlink:href=\"#DejaVuSans-76\"/>\r\n      <use x=\"604.638672\" xlink:href=\"#DejaVuSans-111\"/>\r\n      <use x=\"665.820312\" xlink:href=\"#DejaVuSans-105\"/>\r\n      <use x=\"693.603516\" xlink:href=\"#DejaVuSans-114\"/>\r\n      <use x=\"732.466797\" xlink:href=\"#DejaVuSans-101\"/>\r\n     </g>\r\n    </g>\r\n   </g>\r\n   <g id=\"text_23\">\r\n    <g clip-path=\"url(#pb66237bae3)\">\r\n     <!-- Île-de-France -->\r\n     <g transform=\"translate(173.801833 380.960975)scale(0.11 -0.11)\">\r\n      <defs>\r\n       <path d=\"M 9.8125 72.90625 \r\nL 19.671875 72.90625 \r\nL 19.671875 0 \r\nL 9.8125 0 \r\nz\r\nM 10.203125 92.828125 \r\nL 19.390625 92.828125 \r\nL 29.6875 79.84375 \r\nL 22.90625 79.84375 \r\nL 14.796875 88.53125 \r\nL 6.6875 79.84375 \r\nL -0.09375 79.84375 \r\nz\r\n\" id=\"DejaVuSans-206\"/>\r\n       <path d=\"M 9.8125 72.90625 \r\nL 51.703125 72.90625 \r\nL 51.703125 64.59375 \r\nL 19.671875 64.59375 \r\nL 19.671875 43.109375 \r\nL 48.578125 43.109375 \r\nL 48.578125 34.8125 \r\nL 19.671875 34.8125 \r\nL 19.671875 0 \r\nL 9.8125 0 \r\nz\r\n\" id=\"DejaVuSans-70\"/>\r\n      </defs>\r\n      <use xlink:href=\"#DejaVuSans-206\"/>\r\n      <use x=\"29.492188\" xlink:href=\"#DejaVuSans-108\"/>\r\n      <use x=\"57.275391\" xlink:href=\"#DejaVuSans-101\"/>\r\n      <use x=\"118.798828\" xlink:href=\"#DejaVuSans-45\"/>\r\n      <use x=\"154.882812\" xlink:href=\"#DejaVuSans-100\"/>\r\n      <use x=\"218.359375\" xlink:href=\"#DejaVuSans-101\"/>\r\n      <use x=\"279.882812\" xlink:href=\"#DejaVuSans-45\"/>\r\n      <use x=\"315.966797\" xlink:href=\"#DejaVuSans-70\"/>\r\n      <use x=\"366.236328\" xlink:href=\"#DejaVuSans-114\"/>\r\n      <use x=\"407.349609\" xlink:href=\"#DejaVuSans-97\"/>\r\n      <use x=\"468.628906\" xlink:href=\"#DejaVuSans-110\"/>\r\n      <use x=\"532.007812\" xlink:href=\"#DejaVuSans-99\"/>\r\n      <use x=\"586.988281\" xlink:href=\"#DejaVuSans-101\"/>\r\n     </g>\r\n    </g>\r\n   </g>\r\n   <g id=\"text_24\">\r\n    <g clip-path=\"url(#pb66237bae3)\">\r\n     <!-- Centre-Val de Loire -->\r\n     <g transform=\"translate(142.928827 503.114474)scale(0.11 -0.11)\">\r\n      <defs>\r\n       <path d=\"M 28.609375 0 \r\nL 0.78125 72.90625 \r\nL 11.078125 72.90625 \r\nL 34.1875 11.53125 \r\nL 57.328125 72.90625 \r\nL 67.578125 72.90625 \r\nL 39.796875 0 \r\nz\r\n\" id=\"DejaVuSans-86\"/>\r\n      </defs>\r\n      <use xlink:href=\"#DejaVuSans-67\"/>\r\n      <use x=\"69.824219\" xlink:href=\"#DejaVuSans-101\"/>\r\n      <use x=\"131.347656\" xlink:href=\"#DejaVuSans-110\"/>\r\n      <use x=\"194.726562\" xlink:href=\"#DejaVuSans-116\"/>\r\n      <use x=\"233.935547\" xlink:href=\"#DejaVuSans-114\"/>\r\n      <use x=\"272.798828\" xlink:href=\"#DejaVuSans-101\"/>\r\n      <use x=\"334.322266\" xlink:href=\"#DejaVuSans-45\"/>\r\n      <use x=\"364.53125\" xlink:href=\"#DejaVuSans-86\"/>\r\n      <use x=\"425.189453\" xlink:href=\"#DejaVuSans-97\"/>\r\n      <use x=\"486.46875\" xlink:href=\"#DejaVuSans-108\"/>\r\n      <use x=\"514.251953\" xlink:href=\"#DejaVuSans-32\"/>\r\n      <use x=\"546.039062\" xlink:href=\"#DejaVuSans-100\"/>\r\n      <use x=\"609.515625\" xlink:href=\"#DejaVuSans-101\"/>\r\n      <use x=\"671.039062\" xlink:href=\"#DejaVuSans-32\"/>\r\n      <use x=\"702.826172\" xlink:href=\"#DejaVuSans-76\"/>\r\n      <use x=\"756.789062\" xlink:href=\"#DejaVuSans-111\"/>\r\n      <use x=\"817.970703\" xlink:href=\"#DejaVuSans-105\"/>\r\n      <use x=\"845.753906\" xlink:href=\"#DejaVuSans-114\"/>\r\n      <use x=\"884.617188\" xlink:href=\"#DejaVuSans-101\"/>\r\n     </g>\r\n    </g>\r\n   </g>\r\n   <g id=\"text_25\">\r\n    <g clip-path=\"url(#pb66237bae3)\">\r\n     <!-- Bourgogne-Franche-Comté -->\r\n     <g transform=\"translate(492.933387 257.428961)scale(0.11 -0.11)\">\r\n      <defs>\r\n       <path d=\"M 54.890625 33.015625 \r\nL 54.890625 0 \r\nL 45.90625 0 \r\nL 45.90625 32.71875 \r\nQ 45.90625 40.484375 42.875 44.328125 \r\nQ 39.84375 48.1875 33.796875 48.1875 \r\nQ 26.515625 48.1875 22.3125 43.546875 \r\nQ 18.109375 38.921875 18.109375 30.90625 \r\nL 18.109375 0 \r\nL 9.078125 0 \r\nL 9.078125 75.984375 \r\nL 18.109375 75.984375 \r\nL 18.109375 46.1875 \r\nQ 21.34375 51.125 25.703125 53.5625 \r\nQ 30.078125 56 35.796875 56 \r\nQ 45.21875 56 50.046875 50.171875 \r\nQ 54.890625 44.34375 54.890625 33.015625 \r\nz\r\n\" id=\"DejaVuSans-104\"/>\r\n       <path d=\"M 52 44.1875 \r\nQ 55.375 50.25 60.0625 53.125 \r\nQ 64.75 56 71.09375 56 \r\nQ 79.640625 56 84.28125 50.015625 \r\nQ 88.921875 44.046875 88.921875 33.015625 \r\nL 88.921875 0 \r\nL 79.890625 0 \r\nL 79.890625 32.71875 \r\nQ 79.890625 40.578125 77.09375 44.375 \r\nQ 74.3125 48.1875 68.609375 48.1875 \r\nQ 61.625 48.1875 57.5625 43.546875 \r\nQ 53.515625 38.921875 53.515625 30.90625 \r\nL 53.515625 0 \r\nL 44.484375 0 \r\nL 44.484375 32.71875 \r\nQ 44.484375 40.625 41.703125 44.40625 \r\nQ 38.921875 48.1875 33.109375 48.1875 \r\nQ 26.21875 48.1875 22.15625 43.53125 \r\nQ 18.109375 38.875 18.109375 30.90625 \r\nL 18.109375 0 \r\nL 9.078125 0 \r\nL 9.078125 54.6875 \r\nL 18.109375 54.6875 \r\nL 18.109375 46.1875 \r\nQ 21.1875 51.21875 25.484375 53.609375 \r\nQ 29.78125 56 35.6875 56 \r\nQ 41.65625 56 45.828125 52.96875 \r\nQ 50 49.953125 52 44.1875 \r\nz\r\n\" id=\"DejaVuSans-109\"/>\r\n       <path d=\"M 56.203125 29.59375 \r\nL 56.203125 25.203125 \r\nL 14.890625 25.203125 \r\nQ 15.484375 15.921875 20.484375 11.0625 \r\nQ 25.484375 6.203125 34.421875 6.203125 \r\nQ 39.59375 6.203125 44.453125 7.46875 \r\nQ 49.3125 8.734375 54.109375 11.28125 \r\nL 54.109375 2.78125 \r\nQ 49.265625 0.734375 44.1875 -0.34375 \r\nQ 39.109375 -1.421875 33.890625 -1.421875 \r\nQ 20.796875 -1.421875 13.15625 6.1875 \r\nQ 5.515625 13.8125 5.515625 26.8125 \r\nQ 5.515625 40.234375 12.765625 48.109375 \r\nQ 20.015625 56 32.328125 56 \r\nQ 43.359375 56 49.78125 48.890625 \r\nQ 56.203125 41.796875 56.203125 29.59375 \r\nz\r\nM 47.21875 32.234375 \r\nQ 47.125 39.59375 43.09375 43.984375 \r\nQ 39.0625 48.390625 32.421875 48.390625 \r\nQ 24.90625 48.390625 20.390625 44.140625 \r\nQ 15.875 39.890625 15.1875 32.171875 \r\nz\r\nM 38.578125 79.984375 \r\nL 48.296875 79.984375 \r\nL 32.375 61.625 \r\nL 24.90625 61.625 \r\nz\r\n\" id=\"DejaVuSans-233\"/>\r\n      </defs>\r\n      <use xlink:href=\"#DejaVuSans-66\"/>\r\n      <use x=\"68.603516\" xlink:href=\"#DejaVuSans-111\"/>\r\n      <use x=\"129.785156\" xlink:href=\"#DejaVuSans-117\"/>\r\n      <use x=\"193.164062\" xlink:href=\"#DejaVuSans-114\"/>\r\n      <use x=\"232.527344\" xlink:href=\"#DejaVuSans-103\"/>\r\n      <use x=\"296.003906\" xlink:href=\"#DejaVuSans-111\"/>\r\n      <use x=\"357.185547\" xlink:href=\"#DejaVuSans-103\"/>\r\n      <use x=\"420.662109\" xlink:href=\"#DejaVuSans-110\"/>\r\n      <use x=\"484.041016\" xlink:href=\"#DejaVuSans-101\"/>\r\n      <use x=\"545.564453\" xlink:href=\"#DejaVuSans-45\"/>\r\n      <use x=\"581.648438\" xlink:href=\"#DejaVuSans-70\"/>\r\n      <use x=\"631.917969\" xlink:href=\"#DejaVuSans-114\"/>\r\n      <use x=\"673.03125\" xlink:href=\"#DejaVuSans-97\"/>\r\n      <use x=\"734.310547\" xlink:href=\"#DejaVuSans-110\"/>\r\n      <use x=\"797.689453\" xlink:href=\"#DejaVuSans-99\"/>\r\n      <use x=\"852.669922\" xlink:href=\"#DejaVuSans-104\"/>\r\n      <use x=\"916.048828\" xlink:href=\"#DejaVuSans-101\"/>\r\n      <use x=\"977.572266\" xlink:href=\"#DejaVuSans-45\"/>\r\n      <use x=\"1013.65625\" xlink:href=\"#DejaVuSans-67\"/>\r\n      <use x=\"1083.480469\" xlink:href=\"#DejaVuSans-111\"/>\r\n      <use x=\"1144.662109\" xlink:href=\"#DejaVuSans-109\"/>\r\n      <use x=\"1242.074219\" xlink:href=\"#DejaVuSans-116\"/>\r\n      <use x=\"1281.283203\" xlink:href=\"#DejaVuSans-233\"/>\r\n     </g>\r\n    </g>\r\n   </g>\r\n   <g id=\"text_26\">\r\n    <g clip-path=\"url(#pb66237bae3)\">\r\n     <!-- Auvergne-Rhône-Alpes -->\r\n     <g transform=\"translate(380.302746 362.634999)scale(0.11 -0.11)\">\r\n      <defs>\r\n       <path d=\"M 44.390625 34.1875 \r\nQ 47.5625 33.109375 50.5625 29.59375 \r\nQ 53.5625 26.078125 56.59375 19.921875 \r\nL 66.609375 0 \r\nL 56 0 \r\nL 46.6875 18.703125 \r\nQ 43.0625 26.03125 39.671875 28.421875 \r\nQ 36.28125 30.8125 30.421875 30.8125 \r\nL 19.671875 30.8125 \r\nL 19.671875 0 \r\nL 9.8125 0 \r\nL 9.8125 72.90625 \r\nL 32.078125 72.90625 \r\nQ 44.578125 72.90625 50.734375 67.671875 \r\nQ 56.890625 62.453125 56.890625 51.90625 \r\nQ 56.890625 45.015625 53.6875 40.46875 \r\nQ 50.484375 35.9375 44.390625 34.1875 \r\nz\r\nM 19.671875 64.796875 \r\nL 19.671875 38.921875 \r\nL 32.078125 38.921875 \r\nQ 39.203125 38.921875 42.84375 42.21875 \r\nQ 46.484375 45.515625 46.484375 51.90625 \r\nQ 46.484375 58.296875 42.84375 61.546875 \r\nQ 39.203125 64.796875 32.078125 64.796875 \r\nz\r\n\" id=\"DejaVuSans-82\"/>\r\n      </defs>\r\n      <use xlink:href=\"#DejaVuSans-65\"/>\r\n      <use x=\"68.408203\" xlink:href=\"#DejaVuSans-117\"/>\r\n      <use x=\"131.787109\" xlink:href=\"#DejaVuSans-118\"/>\r\n      <use x=\"190.966797\" xlink:href=\"#DejaVuSans-101\"/>\r\n      <use x=\"252.490234\" xlink:href=\"#DejaVuSans-114\"/>\r\n      <use x=\"291.853516\" xlink:href=\"#DejaVuSans-103\"/>\r\n      <use x=\"355.330078\" xlink:href=\"#DejaVuSans-110\"/>\r\n      <use x=\"418.708984\" xlink:href=\"#DejaVuSans-101\"/>\r\n      <use x=\"480.232422\" xlink:href=\"#DejaVuSans-45\"/>\r\n      <use x=\"516.316406\" xlink:href=\"#DejaVuSans-82\"/>\r\n      <use x=\"585.798828\" xlink:href=\"#DejaVuSans-104\"/>\r\n      <use x=\"649.177734\" xlink:href=\"#DejaVuSans-244\"/>\r\n      <use x=\"710.359375\" xlink:href=\"#DejaVuSans-110\"/>\r\n      <use x=\"773.738281\" xlink:href=\"#DejaVuSans-101\"/>\r\n      <use x=\"835.261719\" xlink:href=\"#DejaVuSans-45\"/>\r\n      <use x=\"869.095703\" xlink:href=\"#DejaVuSans-65\"/>\r\n      <use x=\"937.503906\" xlink:href=\"#DejaVuSans-108\"/>\r\n      <use x=\"965.287109\" xlink:href=\"#DejaVuSans-112\"/>\r\n      <use x=\"1028.763672\" xlink:href=\"#DejaVuSans-101\"/>\r\n      <use x=\"1090.287109\" xlink:href=\"#DejaVuSans-115\"/>\r\n     </g>\r\n    </g>\r\n   </g>\r\n   <g id=\"text_27\">\r\n    <g clip-path=\"url(#pb66237bae3)\">\r\n     <!-- outside France -->\r\n     <g transform=\"translate(436.698553 196.508562)scale(0.11 -0.11)\">\r\n      <use xlink:href=\"#DejaVuSans-111\"/>\r\n      <use x=\"61.181641\" xlink:href=\"#DejaVuSans-117\"/>\r\n      <use x=\"124.560547\" xlink:href=\"#DejaVuSans-116\"/>\r\n      <use x=\"163.769531\" xlink:href=\"#DejaVuSans-115\"/>\r\n      <use x=\"215.869141\" xlink:href=\"#DejaVuSans-105\"/>\r\n      <use x=\"243.652344\" xlink:href=\"#DejaVuSans-100\"/>\r\n      <use x=\"307.128906\" xlink:href=\"#DejaVuSans-101\"/>\r\n      <use x=\"368.652344\" xlink:href=\"#DejaVuSans-32\"/>\r\n      <use x=\"400.439453\" xlink:href=\"#DejaVuSans-70\"/>\r\n      <use x=\"450.708984\" xlink:href=\"#DejaVuSans-114\"/>\r\n      <use x=\"491.822266\" xlink:href=\"#DejaVuSans-97\"/>\r\n      <use x=\"553.101562\" xlink:href=\"#DejaVuSans-110\"/>\r\n      <use x=\"616.480469\" xlink:href=\"#DejaVuSans-99\"/>\r\n      <use x=\"671.460938\" xlink:href=\"#DejaVuSans-101\"/>\r\n     </g>\r\n    </g>\r\n   </g>\r\n   <g id=\"text_28\">\r\n    <g clip-path=\"url(#pb66237bae3)\">\r\n     <!-- Occitanie -->\r\n     <g transform=\"translate(201.032723 81.049447)scale(0.11 -0.11)\">\r\n      <defs>\r\n       <path d=\"M 39.40625 66.21875 \r\nQ 28.65625 66.21875 22.328125 58.203125 \r\nQ 16.015625 50.203125 16.015625 36.375 \r\nQ 16.015625 22.609375 22.328125 14.59375 \r\nQ 28.65625 6.59375 39.40625 6.59375 \r\nQ 50.140625 6.59375 56.421875 14.59375 \r\nQ 62.703125 22.609375 62.703125 36.375 \r\nQ 62.703125 50.203125 56.421875 58.203125 \r\nQ 50.140625 66.21875 39.40625 66.21875 \r\nz\r\nM 39.40625 74.21875 \r\nQ 54.734375 74.21875 63.90625 63.9375 \r\nQ 73.09375 53.65625 73.09375 36.375 \r\nQ 73.09375 19.140625 63.90625 8.859375 \r\nQ 54.734375 -1.421875 39.40625 -1.421875 \r\nQ 24.03125 -1.421875 14.8125 8.828125 \r\nQ 5.609375 19.09375 5.609375 36.375 \r\nQ 5.609375 53.65625 14.8125 63.9375 \r\nQ 24.03125 74.21875 39.40625 74.21875 \r\nz\r\n\" id=\"DejaVuSans-79\"/>\r\n      </defs>\r\n      <use xlink:href=\"#DejaVuSans-79\"/>\r\n      <use x=\"78.710938\" xlink:href=\"#DejaVuSans-99\"/>\r\n      <use x=\"133.691406\" xlink:href=\"#DejaVuSans-99\"/>\r\n      <use x=\"188.671875\" xlink:href=\"#DejaVuSans-105\"/>\r\n      <use x=\"216.455078\" xlink:href=\"#DejaVuSans-116\"/>\r\n      <use x=\"255.664062\" xlink:href=\"#DejaVuSans-97\"/>\r\n      <use x=\"316.943359\" xlink:href=\"#DejaVuSans-110\"/>\r\n      <use x=\"380.322266\" xlink:href=\"#DejaVuSans-105\"/>\r\n      <use x=\"408.105469\" xlink:href=\"#DejaVuSans-101\"/>\r\n     </g>\r\n    </g>\r\n   </g>\r\n   <g id=\"text_29\">\r\n    <g clip-path=\"url(#pb66237bae3)\">\r\n     <!-- Normandie -->\r\n     <g transform=\"translate(9.910696 452.834685)scale(0.11 -0.11)\">\r\n      <use xlink:href=\"#DejaVuSans-78\"/>\r\n      <use x=\"74.804688\" xlink:href=\"#DejaVuSans-111\"/>\r\n      <use x=\"135.986328\" xlink:href=\"#DejaVuSans-114\"/>\r\n      <use x=\"175.349609\" xlink:href=\"#DejaVuSans-109\"/>\r\n      <use x=\"272.761719\" xlink:href=\"#DejaVuSans-97\"/>\r\n      <use x=\"334.041016\" xlink:href=\"#DejaVuSans-110\"/>\r\n      <use x=\"397.419922\" xlink:href=\"#DejaVuSans-100\"/>\r\n      <use x=\"460.896484\" xlink:href=\"#DejaVuSans-105\"/>\r\n      <use x=\"488.679688\" xlink:href=\"#DejaVuSans-101\"/>\r\n     </g>\r\n    </g>\r\n   </g>\r\n  </g>\r\n  <g id=\"text_30\">\r\n   <!-- Undirected graph of patient transfers -->\r\n   <g transform=\"translate(199.544844 20.117344)scale(0.17 -0.17)\">\r\n    <defs>\r\n     <path d=\"M 8.6875 72.90625 \r\nL 18.609375 72.90625 \r\nL 18.609375 28.609375 \r\nQ 18.609375 16.890625 22.84375 11.734375 \r\nQ 27.09375 6.59375 36.625 6.59375 \r\nQ 46.09375 6.59375 50.34375 11.734375 \r\nQ 54.59375 16.890625 54.59375 28.609375 \r\nL 54.59375 72.90625 \r\nL 64.5 72.90625 \r\nL 64.5 27.390625 \r\nQ 64.5 13.140625 57.4375 5.859375 \r\nQ 50.390625 -1.421875 36.625 -1.421875 \r\nQ 22.796875 -1.421875 15.734375 5.859375 \r\nQ 8.6875 13.140625 8.6875 27.390625 \r\nz\r\n\" id=\"DejaVuSans-85\"/>\r\n     <path d=\"M 37.109375 75.984375 \r\nL 37.109375 68.5 \r\nL 28.515625 68.5 \r\nQ 23.6875 68.5 21.796875 66.546875 \r\nQ 19.921875 64.59375 19.921875 59.515625 \r\nL 19.921875 54.6875 \r\nL 34.71875 54.6875 \r\nL 34.71875 47.703125 \r\nL 19.921875 47.703125 \r\nL 19.921875 0 \r\nL 10.890625 0 \r\nL 10.890625 47.703125 \r\nL 2.296875 47.703125 \r\nL 2.296875 54.6875 \r\nL 10.890625 54.6875 \r\nL 10.890625 58.5 \r\nQ 10.890625 67.625 15.140625 71.796875 \r\nQ 19.390625 75.984375 28.609375 75.984375 \r\nz\r\n\" id=\"DejaVuSans-102\"/>\r\n    </defs>\r\n    <use xlink:href=\"#DejaVuSans-85\"/>\r\n    <use x=\"73.193359\" xlink:href=\"#DejaVuSans-110\"/>\r\n    <use x=\"136.572266\" xlink:href=\"#DejaVuSans-100\"/>\r\n    <use x=\"200.048828\" xlink:href=\"#DejaVuSans-105\"/>\r\n    <use x=\"227.832031\" xlink:href=\"#DejaVuSans-114\"/>\r\n    <use x=\"266.695312\" xlink:href=\"#DejaVuSans-101\"/>\r\n    <use x=\"328.21875\" xlink:href=\"#DejaVuSans-99\"/>\r\n    <use x=\"383.199219\" xlink:href=\"#DejaVuSans-116\"/>\r\n    <use x=\"422.408203\" xlink:href=\"#DejaVuSans-101\"/>\r\n    <use x=\"483.931641\" xlink:href=\"#DejaVuSans-100\"/>\r\n    <use x=\"547.408203\" xlink:href=\"#DejaVuSans-32\"/>\r\n    <use x=\"579.195312\" xlink:href=\"#DejaVuSans-103\"/>\r\n    <use x=\"642.671875\" xlink:href=\"#DejaVuSans-114\"/>\r\n    <use x=\"683.785156\" xlink:href=\"#DejaVuSans-97\"/>\r\n    <use x=\"745.064453\" xlink:href=\"#DejaVuSans-112\"/>\r\n    <use x=\"808.541016\" xlink:href=\"#DejaVuSans-104\"/>\r\n    <use x=\"871.919922\" xlink:href=\"#DejaVuSans-32\"/>\r\n    <use x=\"903.707031\" xlink:href=\"#DejaVuSans-111\"/>\r\n    <use x=\"964.888672\" xlink:href=\"#DejaVuSans-102\"/>\r\n    <use x=\"1000.09375\" xlink:href=\"#DejaVuSans-32\"/>\r\n    <use x=\"1031.880859\" xlink:href=\"#DejaVuSans-112\"/>\r\n    <use x=\"1095.357422\" xlink:href=\"#DejaVuSans-97\"/>\r\n    <use x=\"1156.636719\" xlink:href=\"#DejaVuSans-116\"/>\r\n    <use x=\"1195.845703\" xlink:href=\"#DejaVuSans-105\"/>\r\n    <use x=\"1223.628906\" xlink:href=\"#DejaVuSans-101\"/>\r\n    <use x=\"1285.152344\" xlink:href=\"#DejaVuSans-110\"/>\r\n    <use x=\"1348.53125\" xlink:href=\"#DejaVuSans-116\"/>\r\n    <use x=\"1387.740234\" xlink:href=\"#DejaVuSans-32\"/>\r\n    <use x=\"1419.527344\" xlink:href=\"#DejaVuSans-116\"/>\r\n    <use x=\"1458.736328\" xlink:href=\"#DejaVuSans-114\"/>\r\n    <use x=\"1499.849609\" xlink:href=\"#DejaVuSans-97\"/>\r\n    <use x=\"1561.128906\" xlink:href=\"#DejaVuSans-110\"/>\r\n    <use x=\"1624.507812\" xlink:href=\"#DejaVuSans-115\"/>\r\n    <use x=\"1676.607422\" xlink:href=\"#DejaVuSans-102\"/>\r\n    <use x=\"1711.8125\" xlink:href=\"#DejaVuSans-101\"/>\r\n    <use x=\"1773.335938\" xlink:href=\"#DejaVuSans-114\"/>\r\n    <use x=\"1814.449219\" xlink:href=\"#DejaVuSans-115\"/>\r\n   </g>\r\n  </g>\r\n </g>\r\n <defs>\r\n  <clipPath id=\"pb66237bae3\">\r\n   <rect height=\"489.24\" width=\"725.4\" x=\"7.2\" y=\"33.077344\"/>\r\n  </clipPath>\r\n </defs>\r\n</svg>\r\n",
      "image/png": "[encoded data removed]"
     },
     "metadata": {}
    },
    {
     "output_type": "execute_result",
     "data": {
      "text/plain": [
       "<networkx.classes.graph.Graph at 0x1ec7b2cb850>"
      ]
     },
     "metadata": {},
     "execution_count": 11
    },
    {
     "output_type": "stream",
     "name": "stdout",
     "text": [
      "Time to execute: 0.65267 s.\n"
     ]
    }
   ],
   "source": [
    "#sparse matrix \n",
    "sparse.sparse_graph()"
   ]
  },
  {
   "cell_type": "code",
   "execution_count": 12,
   "metadata": {},
   "outputs": [
    {
     "output_type": "stream",
     "name": "stdout",
     "text": [
      "Downloading data from https://static.data.gouv.fr/resources/donnees-relatives-aux-transferts-de-patients-atteints-de-covid-19/20200424-183902/transferts-patients-covid19.csv (2 kB)\n",
      "\n",
      "file_sizes: 100%|███████████████████████████| 1.79k/1.79k [00:00<00:00, 298kB/s]\n",
      "Successfully downloaded file to C:\\Users\\quenf\\vizcovidfr\\vizcovidfr\\loads\\..\\data\\transfer.csv\n",
      "Time to execute: 0.64613 s.\n"
     ]
    },
    {
     "output_type": "display_data",
     "data": {
      "text/plain": "<Figure size 936x648 with 1 Axes>",
      "image/svg+xml": "<?xml version=\"1.0\" encoding=\"utf-8\" standalone=\"no\"?>\r\n<!DOCTYPE svg PUBLIC \"-//W3C//DTD SVG 1.1//EN\"\r\n  \"http://www.w3.org/Graphics/SVG/1.1/DTD/svg11.dtd\">\r\n<!-- Created with matplotlib (https://matplotlib.org/) -->\r\n<svg height=\"529.517344pt\" version=\"1.1\" viewBox=\"0 0 739.8 529.517344\" width=\"739.8pt\" xmlns=\"http://www.w3.org/2000/svg\" xmlns:xlink=\"http://www.w3.org/1999/xlink\">\r\n <metadata>\r\n  <rdf:RDF xmlns:cc=\"http://creativecommons.org/ns#\" xmlns:dc=\"http://purl.org/dc/elements/1.1/\" xmlns:rdf=\"http://www.w3.org/1999/02/22-rdf-syntax-ns#\">\r\n   <cc:Work>\r\n    <dc:type rdf:resource=\"http://purl.org/dc/dcmitype/StillImage\"/>\r\n    <dc:date>2021-04-23T01:00:06.628830</dc:date>\r\n    <dc:format>image/svg+xml</dc:format>\r\n    <dc:creator>\r\n     <cc:Agent>\r\n      <dc:title>Matplotlib v3.3.2, https://matplotlib.org/</dc:title>\r\n     </cc:Agent>\r\n    </dc:creator>\r\n   </cc:Work>\r\n  </rdf:RDF>\r\n </metadata>\r\n <defs>\r\n  <style type=\"text/css\">*{stroke-linecap:butt;stroke-linejoin:round;}</style>\r\n </defs>\r\n <g id=\"figure_1\">\r\n  <g id=\"patch_1\">\r\n   <path d=\"M 0 529.517344 \r\nL 739.8 529.517344 \r\nL 739.8 0 \r\nL 0 0 \r\nz\r\n\" style=\"fill:none;\"/>\r\n  </g>\r\n  <g id=\"axes_1\">\r\n   <g id=\"LineCollection_1\">\r\n    <path clip-path=\"url(#p7dfc11b90c)\" d=\"M 312.872754 189.792509 \r\nL 553.487123 138.280585 \r\n\" style=\"fill:none;stroke:#cc9016;stroke-opacity:0.6;\"/>\r\n    <path clip-path=\"url(#p7dfc11b90c)\" d=\"M 312.872754 189.792509 \r\nL 136.998088 254.9708 \r\n\" style=\"fill:none;stroke:#cc9016;stroke-opacity:0.6;\"/>\r\n    <path clip-path=\"url(#p7dfc11b90c)\" d=\"M 312.872754 189.792509 \r\nL 298.629187 296.775384 \r\n\" style=\"fill:none;stroke:#cc9016;stroke-opacity:0.6;\"/>\r\n    <path clip-path=\"url(#p7dfc11b90c)\" d=\"M 312.872754 189.792509 \r\nL 198.450717 285.756845 \r\n\" style=\"fill:none;stroke:#cc9016;stroke-opacity:0.6;\"/>\r\n    <path clip-path=\"url(#p7dfc11b90c)\" d=\"M 312.872754 189.792509 \r\nL 477.012694 193.47325 \r\n\" style=\"fill:none;stroke:#cc9016;stroke-opacity:0.6;\"/>\r\n    <path clip-path=\"url(#p7dfc11b90c)\" d=\"M 312.872754 189.792509 \r\nL 226.862957 78.014135 \r\n\" style=\"fill:none;stroke:#cc9016;stroke-opacity:0.6;\"/>\r\n    <path clip-path=\"url(#p7dfc11b90c)\" d=\"M 553.487123 138.280585 \r\nL 699.627273 55.315526 \r\n\" style=\"fill:none;stroke:#cc9016;stroke-opacity:0.6;\"/>\r\n    <path clip-path=\"url(#p7dfc11b90c)\" d=\"M 553.487123 138.280585 \r\nL 566.788934 254.173648 \r\n\" style=\"fill:none;stroke:#cc9016;stroke-opacity:0.6;\"/>\r\n    <path clip-path=\"url(#p7dfc11b90c)\" d=\"M 136.998088 254.9708 \r\nL 209.471052 377.925662 \r\n\" style=\"fill:none;stroke:#cc9016;stroke-opacity:0.6;\"/>\r\n    <path clip-path=\"url(#p7dfc11b90c)\" d=\"M 298.629187 296.775384 \r\nL 209.471052 377.925662 \r\n\" style=\"fill:none;stroke:#cc9016;stroke-opacity:0.6;\"/>\r\n    <path clip-path=\"url(#p7dfc11b90c)\" d=\"M 198.450717 285.756845 \r\nL 209.471052 377.925662 \r\n\" style=\"fill:none;stroke:#cc9016;stroke-opacity:0.6;\"/>\r\n    <path clip-path=\"url(#p7dfc11b90c)\" d=\"M 209.471052 377.925662 \r\nL 194.967421 500.079162 \r\n\" style=\"fill:none;stroke:#cc9016;stroke-opacity:0.6;\"/>\r\n    <path clip-path=\"url(#p7dfc11b90c)\" d=\"M 209.471052 377.925662 \r\nL 40.172727 449.799373 \r\n\" style=\"fill:none;stroke:#cc9016;stroke-opacity:0.6;\"/>\r\n    <path clip-path=\"url(#p7dfc11b90c)\" d=\"M 209.471052 377.925662 \r\nL 443.13509 359.379686 \r\n\" style=\"fill:none;stroke:#cc9016;stroke-opacity:0.6;\"/>\r\n    <path clip-path=\"url(#p7dfc11b90c)\" d=\"M 566.788934 254.173648 \r\nL 443.13509 359.379686 \r\n\" style=\"fill:none;stroke:#cc9016;stroke-opacity:0.6;\"/>\r\n    <path clip-path=\"url(#p7dfc11b90c)\" d=\"M 566.788934 254.173648 \r\nL 477.012694 193.47325 \r\n\" style=\"fill:none;stroke:#cc9016;stroke-opacity:0.6;\"/>\r\n   </g>\r\n   <g id=\"LineCollection_2\">\r\n    <path clip-path=\"url(#p7dfc11b90c)\" d=\"M 312.872754 189.792509 \r\nL 553.487123 138.280585 \r\n\" style=\"fill:none;stroke:#cc9016;stroke-opacity:0.6;stroke-width:0.6;\"/>\r\n    <path clip-path=\"url(#p7dfc11b90c)\" d=\"M 312.872754 189.792509 \r\nL 136.998088 254.9708 \r\n\" style=\"fill:none;stroke:#cc9016;stroke-opacity:0.6;stroke-width:2.4;\"/>\r\n    <path clip-path=\"url(#p7dfc11b90c)\" d=\"M 312.872754 189.792509 \r\nL 298.629187 296.775384 \r\n\" style=\"fill:none;stroke:#cc9016;stroke-opacity:0.6;stroke-width:0.6;\"/>\r\n    <path clip-path=\"url(#p7dfc11b90c)\" d=\"M 312.872754 189.792509 \r\nL 198.450717 285.756845 \r\n\" style=\"fill:none;stroke:#cc9016;stroke-opacity:0.6;stroke-width:2;\"/>\r\n    <path clip-path=\"url(#p7dfc11b90c)\" d=\"M 312.872754 189.792509 \r\nL 477.012694 193.47325 \r\n\" style=\"fill:none;stroke:#cc9016;stroke-opacity:0.6;stroke-width:17.2;\"/>\r\n    <path clip-path=\"url(#p7dfc11b90c)\" d=\"M 312.872754 189.792509 \r\nL 226.862957 78.014135 \r\n\" style=\"fill:none;stroke:#cc9016;stroke-opacity:0.6;stroke-width:1.2;\"/>\r\n    <path clip-path=\"url(#p7dfc11b90c)\" d=\"M 553.487123 138.280585 \r\nL 699.627273 55.315526 \r\n\" style=\"fill:none;stroke:#cc9016;stroke-opacity:0.6;stroke-width:1.2;\"/>\r\n    <path clip-path=\"url(#p7dfc11b90c)\" d=\"M 553.487123 138.280585 \r\nL 566.788934 254.173648 \r\n\" style=\"fill:none;stroke:#cc9016;stroke-opacity:0.6;\"/>\r\n    <path clip-path=\"url(#p7dfc11b90c)\" d=\"M 136.998088 254.9708 \r\nL 209.471052 377.925662 \r\n\" style=\"fill:none;stroke:#cc9016;stroke-opacity:0.6;stroke-width:4.5;\"/>\r\n    <path clip-path=\"url(#p7dfc11b90c)\" d=\"M 298.629187 296.775384 \r\nL 209.471052 377.925662 \r\n\" style=\"fill:none;stroke:#cc9016;stroke-opacity:0.6;stroke-width:4.1;\"/>\r\n    <path clip-path=\"url(#p7dfc11b90c)\" d=\"M 198.450717 285.756845 \r\nL 209.471052 377.925662 \r\n\" style=\"fill:none;stroke:#cc9016;stroke-opacity:0.6;stroke-width:4.7;\"/>\r\n    <path clip-path=\"url(#p7dfc11b90c)\" d=\"M 209.471052 377.925662 \r\nL 194.967421 500.079162 \r\n\" style=\"fill:none;stroke:#cc9016;stroke-opacity:0.6;stroke-width:1.1;\"/>\r\n    <path clip-path=\"url(#p7dfc11b90c)\" d=\"M 209.471052 377.925662 \r\nL 40.172727 449.799373 \r\n\" style=\"fill:none;stroke:#cc9016;stroke-opacity:0.6;stroke-width:4.4;\"/>\r\n    <path clip-path=\"url(#p7dfc11b90c)\" d=\"M 209.471052 377.925662 \r\nL 443.13509 359.379686 \r\n\" style=\"fill:none;stroke:#cc9016;stroke-opacity:0.6;stroke-width:2;\"/>\r\n    <path clip-path=\"url(#p7dfc11b90c)\" d=\"M 566.788934 254.173648 \r\nL 443.13509 359.379686 \r\n\" style=\"fill:none;stroke:#cc9016;stroke-opacity:0.6;stroke-width:4.1;\"/>\r\n    <path clip-path=\"url(#p7dfc11b90c)\" d=\"M 566.788934 254.173648 \r\nL 477.012694 193.47325 \r\n\" style=\"fill:none;stroke:#cc9016;stroke-opacity:0.6;stroke-width:0.5;\"/>\r\n   </g>\r\n   <g id=\"text_1\">\r\n    <g id=\"patch_2\">\r\n     <path clip-path=\"url(#p7dfc11b90c)\" d=\"M 431.710217 172.367884 \r\nL 437.931741 171.035949 \r\nQ 440.865269 170.407925 440.237244 167.474397 \r\nL 438.211212 158.010714 \r\nQ 437.583187 155.077186 434.64966 155.70521 \r\nL 428.428136 157.037145 \r\nQ 425.494608 157.665169 426.122633 160.598697 \r\nL 428.148665 170.06238 \r\nQ 428.776689 172.995908 431.710217 172.367884 \r\nz\r\n\" style=\"fill:#ffffff;stroke:#ffffff;stroke-linejoin:miter;\"/>\r\n    </g>\r\n    <g clip-path=\"url(#p7dfc11b90c)\">\r\n     <!-- 6 -->\r\n     <g transform=\"translate(430.646828 167.400749)rotate(-12.083761)scale(0.1 -0.1)\">\r\n      <defs>\r\n       <path d=\"M 33.015625 40.375 \r\nQ 26.375 40.375 22.484375 35.828125 \r\nQ 18.609375 31.296875 18.609375 23.390625 \r\nQ 18.609375 15.53125 22.484375 10.953125 \r\nQ 26.375 6.390625 33.015625 6.390625 \r\nQ 39.65625 6.390625 43.53125 10.953125 \r\nQ 47.40625 15.53125 47.40625 23.390625 \r\nQ 47.40625 31.296875 43.53125 35.828125 \r\nQ 39.65625 40.375 33.015625 40.375 \r\nz\r\nM 52.59375 71.296875 \r\nL 52.59375 62.3125 \r\nQ 48.875 64.0625 45.09375 64.984375 \r\nQ 41.3125 65.921875 37.59375 65.921875 \r\nQ 27.828125 65.921875 22.671875 59.328125 \r\nQ 17.53125 52.734375 16.796875 39.40625 \r\nQ 19.671875 43.65625 24.015625 45.921875 \r\nQ 28.375 48.1875 33.59375 48.1875 \r\nQ 44.578125 48.1875 50.953125 41.515625 \r\nQ 57.328125 34.859375 57.328125 23.390625 \r\nQ 57.328125 12.15625 50.6875 5.359375 \r\nQ 44.046875 -1.421875 33.015625 -1.421875 \r\nQ 20.359375 -1.421875 13.671875 8.265625 \r\nQ 6.984375 17.96875 6.984375 36.375 \r\nQ 6.984375 53.65625 15.1875 63.9375 \r\nQ 23.390625 74.21875 37.203125 74.21875 \r\nQ 40.921875 74.21875 44.703125 73.484375 \r\nQ 48.484375 72.75 52.59375 71.296875 \r\nz\r\n\" id=\"DejaVuSans-54\"/>\r\n      </defs>\r\n      <use xlink:href=\"#DejaVuSans-54\"/>\r\n     </g>\r\n    </g>\r\n   </g>\r\n   <g id=\"text_2\">\r\n    <g id=\"patch_3\">\r\n     <path clip-path=\"url(#p7dfc11b90c)\" d=\"M 221.693503 231.943154 \r\nL 233.625483 227.521221 \r\nQ 236.438523 226.478722 235.396024 223.665682 \r\nL 232.032879 214.590697 \r\nQ 230.99038 211.777656 228.177339 212.820155 \r\nL 216.24536 217.242088 \r\nQ 213.43232 218.284587 214.474819 221.097628 \r\nL 217.837964 230.172613 \r\nQ 218.880463 232.985653 221.693503 231.943154 \r\nz\r\n\" style=\"fill:#ffffff;stroke:#ffffff;stroke-linejoin:miter;\"/>\r\n    </g>\r\n    <g clip-path=\"url(#p7dfc11b90c)\">\r\n     <!-- 24 -->\r\n     <g transform=\"translate(219.928314 227.180032)rotate(-20.334459)scale(0.1 -0.1)\">\r\n      <defs>\r\n       <path d=\"M 19.1875 8.296875 \r\nL 53.609375 8.296875 \r\nL 53.609375 0 \r\nL 7.328125 0 \r\nL 7.328125 8.296875 \r\nQ 12.9375 14.109375 22.625 23.890625 \r\nQ 32.328125 33.6875 34.8125 36.53125 \r\nQ 39.546875 41.84375 41.421875 45.53125 \r\nQ 43.3125 49.21875 43.3125 52.78125 \r\nQ 43.3125 58.59375 39.234375 62.25 \r\nQ 35.15625 65.921875 28.609375 65.921875 \r\nQ 23.96875 65.921875 18.8125 64.3125 \r\nQ 13.671875 62.703125 7.8125 59.421875 \r\nL 7.8125 69.390625 \r\nQ 13.765625 71.78125 18.9375 73 \r\nQ 24.125 74.21875 28.421875 74.21875 \r\nQ 39.75 74.21875 46.484375 68.546875 \r\nQ 53.21875 62.890625 53.21875 53.421875 \r\nQ 53.21875 48.921875 51.53125 44.890625 \r\nQ 49.859375 40.875 45.40625 35.40625 \r\nQ 44.1875 33.984375 37.640625 27.21875 \r\nQ 31.109375 20.453125 19.1875 8.296875 \r\nz\r\n\" id=\"DejaVuSans-50\"/>\r\n       <path d=\"M 37.796875 64.3125 \r\nL 12.890625 25.390625 \r\nL 37.796875 25.390625 \r\nz\r\nM 35.203125 72.90625 \r\nL 47.609375 72.90625 \r\nL 47.609375 25.390625 \r\nL 58.015625 25.390625 \r\nL 58.015625 17.1875 \r\nL 47.609375 17.1875 \r\nL 47.609375 0 \r\nL 37.796875 0 \r\nL 37.796875 17.1875 \r\nL 4.890625 17.1875 \r\nL 4.890625 26.703125 \r\nz\r\n\" id=\"DejaVuSans-52\"/>\r\n      </defs>\r\n      <use xlink:href=\"#DejaVuSans-50\"/>\r\n      <use x=\"63.623047\" xlink:href=\"#DejaVuSans-52\"/>\r\n     </g>\r\n    </g>\r\n   </g>\r\n   <g id=\"text_3\">\r\n    <g id=\"patch_4\">\r\n     <path clip-path=\"url(#p7dfc11b90c)\" d=\"M 313.101623 247.471925 \r\nL 313.941309 241.165077 \r\nQ 314.337232 238.191317 311.363472 237.795395 \r\nL 301.77 236.518132 \r\nQ 298.796241 236.122209 298.400318 239.095968 \r\nL 297.560632 245.402817 \r\nQ 297.16471 248.376576 300.138469 248.772499 \r\nL 309.731941 250.049762 \r\nQ 312.7057 250.445684 313.101623 247.471925 \r\nz\r\n\" style=\"fill:#ffffff;stroke:#ffffff;stroke-linejoin:miter;\"/>\r\n    </g>\r\n    <g clip-path=\"url(#p7dfc11b90c)\">\r\n     <!-- 6 -->\r\n     <g transform=\"translate(308.066367 246.801537)rotate(-82.41631)scale(0.1 -0.1)\">\r\n      <use xlink:href=\"#DejaVuSans-54\"/>\r\n     </g>\r\n    </g>\r\n   </g>\r\n   <g id=\"text_4\">\r\n    <g id=\"patch_5\">\r\n     <path clip-path=\"url(#p7dfc11b90c)\" d=\"M 255.824188 247.869523 \r\nL 265.574082 239.692409 \r\nQ 267.872682 237.764602 265.944875 235.466002 \r\nL 259.725689 228.050624 \r\nQ 257.797882 225.752024 255.499283 227.679831 \r\nL 245.749389 235.856945 \r\nQ 243.450789 237.784752 245.378596 240.083352 \r\nL 251.597782 247.49873 \r\nQ 253.525588 249.79733 255.824188 247.869523 \r\nz\r\n\" style=\"fill:#ffffff;stroke:#ffffff;stroke-linejoin:miter;\"/>\r\n    </g>\r\n    <g clip-path=\"url(#p7dfc11b90c)\">\r\n     <!-- 20 -->\r\n     <g transform=\"translate(252.559969 243.977467)rotate(-39.986141)scale(0.1 -0.1)\">\r\n      <defs>\r\n       <path d=\"M 31.78125 66.40625 \r\nQ 24.171875 66.40625 20.328125 58.90625 \r\nQ 16.5 51.421875 16.5 36.375 \r\nQ 16.5 21.390625 20.328125 13.890625 \r\nQ 24.171875 6.390625 31.78125 6.390625 \r\nQ 39.453125 6.390625 43.28125 13.890625 \r\nQ 47.125 21.390625 47.125 36.375 \r\nQ 47.125 51.421875 43.28125 58.90625 \r\nQ 39.453125 66.40625 31.78125 66.40625 \r\nz\r\nM 31.78125 74.21875 \r\nQ 44.046875 74.21875 50.515625 64.515625 \r\nQ 56.984375 54.828125 56.984375 36.375 \r\nQ 56.984375 17.96875 50.515625 8.265625 \r\nQ 44.046875 -1.421875 31.78125 -1.421875 \r\nQ 19.53125 -1.421875 13.0625 8.265625 \r\nQ 6.59375 17.96875 6.59375 36.375 \r\nQ 6.59375 54.828125 13.0625 64.515625 \r\nQ 19.53125 74.21875 31.78125 74.21875 \r\nz\r\n\" id=\"DejaVuSans-48\"/>\r\n      </defs>\r\n      <use xlink:href=\"#DejaVuSans-50\"/>\r\n      <use x=\"63.623047\" xlink:href=\"#DejaVuSans-48\"/>\r\n     </g>\r\n    </g>\r\n   </g>\r\n   <g id=\"text_5\">\r\n    <g id=\"patch_6\">\r\n     <path clip-path=\"url(#p7dfc11b90c)\" d=\"M 385.225631 199.256013 \r\nL 404.308333 199.683931 \r\nQ 407.307579 199.751187 407.374836 196.751941 \r\nL 407.591807 187.076249 \r\nQ 407.659064 184.077003 404.659818 184.009746 \r\nL 385.577115 183.581828 \r\nQ 382.577869 183.514572 382.510613 186.513818 \r\nL 382.293641 196.18951 \r\nQ 382.226385 199.188756 385.225631 199.256013 \r\nz\r\n\" style=\"fill:#ffffff;stroke:#ffffff;stroke-linejoin:miter;\"/>\r\n    </g>\r\n    <g clip-path=\"url(#p7dfc11b90c)\">\r\n     <!-- 172 -->\r\n     <g transform=\"translate(385.339511 194.177602)rotate(-358.715392)scale(0.1 -0.1)\">\r\n      <defs>\r\n       <path d=\"M 12.40625 8.296875 \r\nL 28.515625 8.296875 \r\nL 28.515625 63.921875 \r\nL 10.984375 60.40625 \r\nL 10.984375 69.390625 \r\nL 28.421875 72.90625 \r\nL 38.28125 72.90625 \r\nL 38.28125 8.296875 \r\nL 54.390625 8.296875 \r\nL 54.390625 0 \r\nL 12.40625 0 \r\nz\r\n\" id=\"DejaVuSans-49\"/>\r\n       <path d=\"M 8.203125 72.90625 \r\nL 55.078125 72.90625 \r\nL 55.078125 68.703125 \r\nL 28.609375 0 \r\nL 18.3125 0 \r\nL 43.21875 64.59375 \r\nL 8.203125 64.59375 \r\nz\r\n\" id=\"DejaVuSans-55\"/>\r\n      </defs>\r\n      <use xlink:href=\"#DejaVuSans-49\"/>\r\n      <use x=\"63.623047\" xlink:href=\"#DejaVuSans-55\"/>\r\n      <use x=\"127.246094\" xlink:href=\"#DejaVuSans-50\"/>\r\n     </g>\r\n    </g>\r\n   </g>\r\n   <g id=\"text_6\">\r\n    <g id=\"patch_7\">\r\n     <path clip-path=\"url(#p7dfc11b90c)\" d=\"M 259.775103 133.641312 \r\nL 267.535171 143.7263 \r\nQ 269.364656 146.1039 271.742256 144.274414 \r\nL 279.412494 138.372418 \r\nQ 281.790094 136.542933 279.960609 134.165332 \r\nL 272.200541 124.080345 \r\nQ 270.371055 121.702744 267.993455 123.53223 \r\nL 260.323218 129.434226 \r\nQ 257.945618 131.263712 259.775103 133.641312 \r\nz\r\n\" style=\"fill:#ffffff;stroke:#ffffff;stroke-linejoin:miter;\"/>\r\n    </g>\r\n    <g clip-path=\"url(#p7dfc11b90c)\">\r\n     <!-- 12 -->\r\n     <g transform=\"translate(263.800925 130.543574)rotate(-307.577103)scale(0.1 -0.1)\">\r\n      <use xlink:href=\"#DejaVuSans-49\"/>\r\n      <use x=\"63.623047\" xlink:href=\"#DejaVuSans-50\"/>\r\n     </g>\r\n    </g>\r\n   </g>\r\n   <g id=\"text_7\">\r\n    <g id=\"patch_8\">\r\n     <path clip-path=\"url(#p7dfc11b90c)\" d=\"M 624.89429 106.75632 \r\nL 635.960372 100.474007 \r\nQ 638.569271 98.992912 637.088176 96.384013 \r\nL 632.3101 87.967594 \r\nQ 630.829005 85.358695 628.220106 86.83979 \r\nL 617.154024 93.122103 \r\nQ 614.545124 94.603198 616.026219 97.212098 \r\nL 620.804295 105.628516 \r\nQ 622.28539 108.237416 624.89429 106.75632 \r\nz\r\n\" style=\"fill:#ffffff;stroke:#ffffff;stroke-linejoin:miter;\"/>\r\n    </g>\r\n    <g clip-path=\"url(#p7dfc11b90c)\">\r\n     <!-- 12 -->\r\n     <g transform=\"translate(622.386456 102.338856)rotate(-29.583962)scale(0.1 -0.1)\">\r\n      <use xlink:href=\"#DejaVuSans-49\"/>\r\n      <use x=\"63.623047\" xlink:href=\"#DejaVuSans-50\"/>\r\n     </g>\r\n    </g>\r\n   </g>\r\n   <g id=\"text_8\">\r\n    <g id=\"patch_9\">\r\n     <path clip-path=\"url(#p7dfc11b90c)\" d=\"M 551.624593 190.799988 \r\nL 553.075599 203.44199 \r\nQ 553.417683 206.422422 556.398115 206.080339 \r\nL 566.013115 204.976762 \r\nQ 568.993548 204.634678 568.651464 201.654245 \r\nL 567.200458 189.012243 \r\nQ 566.858374 186.031811 563.877941 186.373895 \r\nL 554.262942 187.477472 \r\nQ 551.282509 187.819556 551.624593 190.799988 \r\nz\r\n\" style=\"fill:#ffffff;stroke:#ffffff;stroke-linejoin:miter;\"/>\r\n    </g>\r\n    <g clip-path=\"url(#p7dfc11b90c)\">\r\n     <!-- 10 -->\r\n     <g transform=\"translate(556.671148 190.220762)rotate(-276.547563)scale(0.1 -0.1)\">\r\n      <use xlink:href=\"#DejaVuSans-49\"/>\r\n      <use x=\"63.623047\" xlink:href=\"#DejaVuSans-48\"/>\r\n     </g>\r\n    </g>\r\n   </g>\r\n   <g id=\"text_9\">\r\n    <g id=\"patch_10\">\r\n     <path clip-path=\"url(#p7dfc11b90c)\" d=\"M 163.250566 314.947574 \r\nL 169.712103 325.909972 \r\nQ 171.235452 328.494427 173.819907 326.971078 \r\nL 182.157468 322.056692 \r\nQ 184.741923 320.533343 183.218574 317.948888 \r\nL 176.757037 306.986491 \r\nQ 175.233688 304.402035 172.649233 305.925384 \r\nL 164.311673 310.83977 \r\nQ 161.727217 312.363119 163.250566 314.947574 \r\nz\r\n\" style=\"fill:#ffffff;stroke:#ffffff;stroke-linejoin:miter;\"/>\r\n    </g>\r\n    <g clip-path=\"url(#p7dfc11b90c)\">\r\n     <!-- 45 -->\r\n     <g transform=\"translate(167.626641 312.368196)rotate(-300.516262)scale(0.1 -0.1)\">\r\n      <defs>\r\n       <path d=\"M 10.796875 72.90625 \r\nL 49.515625 72.90625 \r\nL 49.515625 64.59375 \r\nL 19.828125 64.59375 \r\nL 19.828125 46.734375 \r\nQ 21.96875 47.46875 24.109375 47.828125 \r\nQ 26.265625 48.1875 28.421875 48.1875 \r\nQ 40.625 48.1875 47.75 41.5 \r\nQ 54.890625 34.8125 54.890625 23.390625 \r\nQ 54.890625 11.625 47.5625 5.09375 \r\nQ 40.234375 -1.421875 26.90625 -1.421875 \r\nQ 22.3125 -1.421875 17.546875 -0.640625 \r\nQ 12.796875 0.140625 7.71875 1.703125 \r\nL 7.71875 11.625 \r\nQ 12.109375 9.234375 16.796875 8.0625 \r\nQ 21.484375 6.890625 26.703125 6.890625 \r\nQ 35.15625 6.890625 40.078125 11.328125 \r\nQ 45.015625 15.765625 45.015625 23.390625 \r\nQ 45.015625 31 40.078125 35.4375 \r\nQ 35.15625 39.890625 26.703125 39.890625 \r\nQ 22.75 39.890625 18.8125 39.015625 \r\nQ 14.890625 38.140625 10.796875 36.28125 \r\nz\r\n\" id=\"DejaVuSans-53\"/>\r\n      </defs>\r\n      <use xlink:href=\"#DejaVuSans-52\"/>\r\n      <use x=\"63.623047\" xlink:href=\"#DejaVuSans-53\"/>\r\n     </g>\r\n    </g>\r\n   </g>\r\n   <g id=\"text_10\">\r\n    <g id=\"patch_11\">\r\n     <path clip-path=\"url(#p7dfc11b90c)\" d=\"M 254.621402 347.4305 \r\nL 264.03202 338.86511 \r\nQ 266.250633 336.845765 264.231287 334.627152 \r\nL 257.716795 327.469813 \r\nQ 255.697449 325.2512 253.478836 327.270546 \r\nL 244.068219 335.835936 \r\nQ 241.849606 337.855281 243.868951 340.073894 \r\nL 250.383444 347.231233 \r\nQ 252.402789 349.449846 254.621402 347.4305 \r\nz\r\n\" style=\"fill:#ffffff;stroke:#ffffff;stroke-linejoin:miter;\"/>\r\n    </g>\r\n    <g clip-path=\"url(#p7dfc11b90c)\">\r\n     <!-- 41 -->\r\n     <g transform=\"translate(251.202188 343.67388)rotate(-42.30795)scale(0.1 -0.1)\">\r\n      <use xlink:href=\"#DejaVuSans-52\"/>\r\n      <use x=\"63.623047\" xlink:href=\"#DejaVuSans-49\"/>\r\n     </g>\r\n    </g>\r\n   </g>\r\n   <g id=\"text_11\">\r\n    <g id=\"patch_12\">\r\n     <path clip-path=\"url(#p7dfc11b90c)\" d=\"M 195.421899 326.454415 \r\nL 196.932626 339.089419 \r\nQ 197.28879 342.068202 200.267573 341.712038 \r\nL 209.877251 340.563039 \r\nQ 212.856033 340.206875 212.49987 337.228092 \r\nL 210.989142 324.593088 \r\nQ 210.632978 321.614305 207.654196 321.970469 \r\nL 198.044518 323.119468 \r\nQ 195.065735 323.475632 195.421899 326.454415 \r\nz\r\n\" style=\"fill:#ffffff;stroke:#ffffff;stroke-linejoin:miter;\"/>\r\n    </g>\r\n    <g clip-path=\"url(#p7dfc11b90c)\">\r\n     <!-- 47 -->\r\n     <g transform=\"translate(200.465661 325.851348)rotate(-276.818307)scale(0.1 -0.1)\">\r\n      <use xlink:href=\"#DejaVuSans-52\"/>\r\n      <use x=\"63.623047\" xlink:href=\"#DejaVuSans-55\"/>\r\n     </g>\r\n    </g>\r\n   </g>\r\n   <g id=\"text_12\">\r\n    <g id=\"patch_13\">\r\n     <path clip-path=\"url(#p7dfc11b90c)\" d=\"M 209.253452 446.244795 \r\nL 210.753789 433.608553 \r\nQ 211.107503 430.629478 208.128428 430.275764 \r\nL 198.517809 429.134668 \r\nQ 195.538734 428.780954 195.18502 431.760029 \r\nL 193.684683 444.396271 \r\nQ 193.330969 447.375346 196.310044 447.72906 \r\nL 205.920663 448.870156 \r\nQ 208.899738 449.22387 209.253452 446.244795 \r\nz\r\n\" style=\"fill:#ffffff;stroke:#ffffff;stroke-linejoin:miter;\"/>\r\n    </g>\r\n    <g clip-path=\"url(#p7dfc11b90c)\">\r\n     <!-- 11 -->\r\n     <g transform=\"translate(204.209196 445.645876)rotate(-83.22881)scale(0.1 -0.1)\">\r\n      <use xlink:href=\"#DejaVuSans-49\"/>\r\n      <use x=\"63.623047\" xlink:href=\"#DejaVuSans-49\"/>\r\n     </g>\r\n    </g>\r\n   </g>\r\n   <g id=\"text_13\">\r\n    <g id=\"patch_14\">\r\n     <path clip-path=\"url(#p7dfc11b90c)\" d=\"M 122.028669 423.564591 \r\nL 133.741824 418.591902 \r\nQ 136.503275 417.419559 135.330932 414.658108 \r\nL 131.548904 405.749552 \r\nQ 130.376561 402.988101 127.61511 404.160444 \r\nL 115.901955 409.133133 \r\nQ 113.140504 410.305476 114.312847 413.066927 \r\nL 118.094875 421.975483 \r\nQ 119.267218 424.736934 122.028669 423.564591 \r\nz\r\n\" style=\"fill:#ffffff;stroke:#ffffff;stroke-linejoin:miter;\"/>\r\n    </g>\r\n    <g clip-path=\"url(#p7dfc11b90c)\">\r\n     <!-- 44 -->\r\n     <g transform=\"translate(120.043624 418.888822)rotate(-23.003107)scale(0.1 -0.1)\">\r\n      <use xlink:href=\"#DejaVuSans-52\"/>\r\n      <use x=\"63.623047\" xlink:href=\"#DejaVuSans-52\"/>\r\n     </g>\r\n    </g>\r\n   </g>\r\n   <g id=\"text_14\">\r\n    <g id=\"patch_15\">\r\n     <path clip-path=\"url(#p7dfc11b90c)\" d=\"M 320.580755 376.970571 \r\nL 333.265862 375.963751 \r\nQ 336.256457 375.726387 336.019093 372.735792 \r\nL 335.253345 363.088008 \r\nQ 335.015981 360.097413 332.025386 360.334777 \r\nL 319.340279 361.341598 \r\nQ 316.349684 361.578962 316.587049 364.569557 \r\nL 317.352796 374.217341 \r\nQ 317.59016 377.207936 320.580755 376.970571 \r\nz\r\n\" style=\"fill:#ffffff;stroke:#ffffff;stroke-linejoin:miter;\"/>\r\n    </g>\r\n    <g clip-path=\"url(#p7dfc11b90c)\">\r\n     <!-- 20 -->\r\n     <g transform=\"translate(320.178843 371.906809)rotate(-4.538068)scale(0.1 -0.1)\">\r\n      <use xlink:href=\"#DejaVuSans-50\"/>\r\n      <use x=\"63.623047\" xlink:href=\"#DejaVuSans-48\"/>\r\n     </g>\r\n    </g>\r\n   </g>\r\n   <g id=\"text_15\">\r\n    <g id=\"patch_16\">\r\n     <path clip-path=\"url(#p7dfc11b90c)\" d=\"M 505.195879 316.870111 \r\nL 514.887678 308.624224 \r\nQ 517.172581 306.680203 515.228561 304.395299 \r\nL 508.957069 297.024106 \r\nQ 507.013048 294.739203 504.728145 296.683223 \r\nL 495.036346 304.929111 \r\nQ 492.751443 306.873132 494.695463 309.158035 \r\nL 500.966955 316.529229 \r\nQ 502.910976 318.814132 505.195879 316.870111 \r\nz\r\n\" style=\"fill:#ffffff;stroke:#ffffff;stroke-linejoin:miter;\"/>\r\n    </g>\r\n    <g clip-path=\"url(#p7dfc11b90c)\">\r\n     <!-- 41 -->\r\n     <g transform=\"translate(501.904207 313.001246)rotate(-40.391499)scale(0.1 -0.1)\">\r\n      <use xlink:href=\"#DejaVuSans-52\"/>\r\n      <use x=\"63.623047\" xlink:href=\"#DejaVuSans-49\"/>\r\n     </g>\r\n    </g>\r\n   </g>\r\n   <g id=\"text_16\">\r\n    <g id=\"patch_17\">\r\n     <path clip-path=\"url(#p7dfc11b90c)\" d=\"M 514.874639 228.535573 \r\nL 520.145425 232.099309 \r\nQ 522.630668 233.779656 524.311016 231.294413 \r\nL 529.731886 223.276915 \r\nQ 531.412233 220.791672 528.92699 219.111325 \r\nL 523.656203 215.547589 \r\nQ 521.17096 213.867242 519.490613 216.352485 \r\nL 514.069743 224.369983 \r\nQ 512.389396 226.855226 514.874639 228.535573 \r\nz\r\n\" style=\"fill:#ffffff;stroke:#ffffff;stroke-linejoin:miter;\"/>\r\n    </g>\r\n    <g clip-path=\"url(#p7dfc11b90c)\">\r\n     <!-- 5 -->\r\n     <g transform=\"translate(517.719852 224.327487)rotate(-325.936199)scale(0.1 -0.1)\">\r\n      <use xlink:href=\"#DejaVuSans-53\"/>\r\n     </g>\r\n    </g>\r\n   </g>\r\n   <g id=\"PathCollection_1\">\r\n    <defs>\r\n     <path d=\"M 0 8.660254 \r\nC 2.296726 8.660254 4.499694 7.747755 6.123724 6.123724 \r\nC 7.747755 4.499694 8.660254 2.296726 8.660254 0 \r\nC 8.660254 -2.296726 7.747755 -4.499694 6.123724 -6.123724 \r\nC 4.499694 -7.747755 2.296726 -8.660254 0 -8.660254 \r\nC -2.296726 -8.660254 -4.499694 -7.747755 -6.123724 -6.123724 \r\nC -7.747755 -4.499694 -8.660254 -2.296726 -8.660254 0 \r\nC -8.660254 2.296726 -7.747755 4.499694 -6.123724 6.123724 \r\nC -4.499694 7.747755 -2.296726 8.660254 0 8.660254 \r\nz\r\n\" id=\"m60b0e8fa49\" style=\"stroke:#d51e39;stroke-opacity:0.6;\"/>\r\n    </defs>\r\n    <g clip-path=\"url(#p7dfc11b90c)\">\r\n     <use style=\"fill:#d51e39;fill-opacity:0.6;stroke:#d51e39;stroke-opacity:0.6;\" x=\"312.872754\" xlink:href=\"#m60b0e8fa49\" y=\"189.792509\"/>\r\n     <use style=\"fill:#d51e39;fill-opacity:0.6;stroke:#d51e39;stroke-opacity:0.6;\" x=\"553.487123\" xlink:href=\"#m60b0e8fa49\" y=\"138.280585\"/>\r\n     <use style=\"fill:#d51e39;fill-opacity:0.6;stroke:#d51e39;stroke-opacity:0.6;\" x=\"136.998088\" xlink:href=\"#m60b0e8fa49\" y=\"254.9708\"/>\r\n     <use style=\"fill:#d51e39;fill-opacity:0.6;stroke:#d51e39;stroke-opacity:0.6;\" x=\"699.627273\" xlink:href=\"#m60b0e8fa49\" y=\"55.315526\"/>\r\n     <use style=\"fill:#d51e39;fill-opacity:0.6;stroke:#d51e39;stroke-opacity:0.6;\" x=\"298.629187\" xlink:href=\"#m60b0e8fa49\" y=\"296.775384\"/>\r\n     <use style=\"fill:#d51e39;fill-opacity:0.6;stroke:#d51e39;stroke-opacity:0.6;\" x=\"198.450717\" xlink:href=\"#m60b0e8fa49\" y=\"285.756845\"/>\r\n     <use style=\"fill:#d51e39;fill-opacity:0.6;stroke:#d51e39;stroke-opacity:0.6;\" x=\"209.471052\" xlink:href=\"#m60b0e8fa49\" y=\"377.925662\"/>\r\n     <use style=\"fill:#d51e39;fill-opacity:0.6;stroke:#d51e39;stroke-opacity:0.6;\" x=\"194.967421\" xlink:href=\"#m60b0e8fa49\" y=\"500.079162\"/>\r\n     <use style=\"fill:#d51e39;fill-opacity:0.6;stroke:#d51e39;stroke-opacity:0.6;\" x=\"566.788934\" xlink:href=\"#m60b0e8fa49\" y=\"254.173648\"/>\r\n     <use style=\"fill:#d51e39;fill-opacity:0.6;stroke:#d51e39;stroke-opacity:0.6;\" x=\"443.13509\" xlink:href=\"#m60b0e8fa49\" y=\"359.379686\"/>\r\n     <use style=\"fill:#d51e39;fill-opacity:0.6;stroke:#d51e39;stroke-opacity:0.6;\" x=\"477.012694\" xlink:href=\"#m60b0e8fa49\" y=\"193.47325\"/>\r\n     <use style=\"fill:#d51e39;fill-opacity:0.6;stroke:#d51e39;stroke-opacity:0.6;\" x=\"226.862957\" xlink:href=\"#m60b0e8fa49\" y=\"78.014135\"/>\r\n     <use style=\"fill:#d51e39;fill-opacity:0.6;stroke:#d51e39;stroke-opacity:0.6;\" x=\"40.172727\" xlink:href=\"#m60b0e8fa49\" y=\"449.799373\"/>\r\n    </g>\r\n   </g>\r\n   <g id=\"text_17\">\r\n    <g clip-path=\"url(#p7dfc11b90c)\">\r\n     <!-- Grand Est -->\r\n     <g transform=\"translate(285.757754 192.827822)scale(0.11 -0.11)\">\r\n      <defs>\r\n       <path d=\"M 59.515625 10.40625 \r\nL 59.515625 29.984375 \r\nL 43.40625 29.984375 \r\nL 43.40625 38.09375 \r\nL 69.28125 38.09375 \r\nL 69.28125 6.78125 \r\nQ 63.578125 2.734375 56.6875 0.65625 \r\nQ 49.8125 -1.421875 42 -1.421875 \r\nQ 24.90625 -1.421875 15.25 8.5625 \r\nQ 5.609375 18.5625 5.609375 36.375 \r\nQ 5.609375 54.25 15.25 64.234375 \r\nQ 24.90625 74.21875 42 74.21875 \r\nQ 49.125 74.21875 55.546875 72.453125 \r\nQ 61.96875 70.703125 67.390625 67.28125 \r\nL 67.390625 56.78125 \r\nQ 61.921875 61.421875 55.765625 63.765625 \r\nQ 49.609375 66.109375 42.828125 66.109375 \r\nQ 29.4375 66.109375 22.71875 58.640625 \r\nQ 16.015625 51.171875 16.015625 36.375 \r\nQ 16.015625 21.625 22.71875 14.15625 \r\nQ 29.4375 6.6875 42.828125 6.6875 \r\nQ 48.046875 6.6875 52.140625 7.59375 \r\nQ 56.25 8.5 59.515625 10.40625 \r\nz\r\n\" id=\"DejaVuSans-71\"/>\r\n       <path d=\"M 41.109375 46.296875 \r\nQ 39.59375 47.171875 37.8125 47.578125 \r\nQ 36.03125 48 33.890625 48 \r\nQ 26.265625 48 22.1875 43.046875 \r\nQ 18.109375 38.09375 18.109375 28.8125 \r\nL 18.109375 0 \r\nL 9.078125 0 \r\nL 9.078125 54.6875 \r\nL 18.109375 54.6875 \r\nL 18.109375 46.1875 \r\nQ 20.953125 51.171875 25.484375 53.578125 \r\nQ 30.03125 56 36.53125 56 \r\nQ 37.453125 56 38.578125 55.875 \r\nQ 39.703125 55.765625 41.0625 55.515625 \r\nz\r\n\" id=\"DejaVuSans-114\"/>\r\n       <path d=\"M 34.28125 27.484375 \r\nQ 23.390625 27.484375 19.1875 25 \r\nQ 14.984375 22.515625 14.984375 16.5 \r\nQ 14.984375 11.71875 18.140625 8.90625 \r\nQ 21.296875 6.109375 26.703125 6.109375 \r\nQ 34.1875 6.109375 38.703125 11.40625 \r\nQ 43.21875 16.703125 43.21875 25.484375 \r\nL 43.21875 27.484375 \r\nz\r\nM 52.203125 31.203125 \r\nL 52.203125 0 \r\nL 43.21875 0 \r\nL 43.21875 8.296875 \r\nQ 40.140625 3.328125 35.546875 0.953125 \r\nQ 30.953125 -1.421875 24.3125 -1.421875 \r\nQ 15.921875 -1.421875 10.953125 3.296875 \r\nQ 6 8.015625 6 15.921875 \r\nQ 6 25.140625 12.171875 29.828125 \r\nQ 18.359375 34.515625 30.609375 34.515625 \r\nL 43.21875 34.515625 \r\nL 43.21875 35.40625 \r\nQ 43.21875 41.609375 39.140625 45 \r\nQ 35.0625 48.390625 27.6875 48.390625 \r\nQ 23 48.390625 18.546875 47.265625 \r\nQ 14.109375 46.140625 10.015625 43.890625 \r\nL 10.015625 52.203125 \r\nQ 14.9375 54.109375 19.578125 55.046875 \r\nQ 24.21875 56 28.609375 56 \r\nQ 40.484375 56 46.34375 49.84375 \r\nQ 52.203125 43.703125 52.203125 31.203125 \r\nz\r\n\" id=\"DejaVuSans-97\"/>\r\n       <path d=\"M 54.890625 33.015625 \r\nL 54.890625 0 \r\nL 45.90625 0 \r\nL 45.90625 32.71875 \r\nQ 45.90625 40.484375 42.875 44.328125 \r\nQ 39.84375 48.1875 33.796875 48.1875 \r\nQ 26.515625 48.1875 22.3125 43.546875 \r\nQ 18.109375 38.921875 18.109375 30.90625 \r\nL 18.109375 0 \r\nL 9.078125 0 \r\nL 9.078125 54.6875 \r\nL 18.109375 54.6875 \r\nL 18.109375 46.1875 \r\nQ 21.34375 51.125 25.703125 53.5625 \r\nQ 30.078125 56 35.796875 56 \r\nQ 45.21875 56 50.046875 50.171875 \r\nQ 54.890625 44.34375 54.890625 33.015625 \r\nz\r\n\" id=\"DejaVuSans-110\"/>\r\n       <path d=\"M 45.40625 46.390625 \r\nL 45.40625 75.984375 \r\nL 54.390625 75.984375 \r\nL 54.390625 0 \r\nL 45.40625 0 \r\nL 45.40625 8.203125 \r\nQ 42.578125 3.328125 38.25 0.953125 \r\nQ 33.9375 -1.421875 27.875 -1.421875 \r\nQ 17.96875 -1.421875 11.734375 6.484375 \r\nQ 5.515625 14.40625 5.515625 27.296875 \r\nQ 5.515625 40.1875 11.734375 48.09375 \r\nQ 17.96875 56 27.875 56 \r\nQ 33.9375 56 38.25 53.625 \r\nQ 42.578125 51.265625 45.40625 46.390625 \r\nz\r\nM 14.796875 27.296875 \r\nQ 14.796875 17.390625 18.875 11.75 \r\nQ 22.953125 6.109375 30.078125 6.109375 \r\nQ 37.203125 6.109375 41.296875 11.75 \r\nQ 45.40625 17.390625 45.40625 27.296875 \r\nQ 45.40625 37.203125 41.296875 42.84375 \r\nQ 37.203125 48.484375 30.078125 48.484375 \r\nQ 22.953125 48.484375 18.875 42.84375 \r\nQ 14.796875 37.203125 14.796875 27.296875 \r\nz\r\n\" id=\"DejaVuSans-100\"/>\r\n       <path id=\"DejaVuSans-32\"/>\r\n       <path d=\"M 9.8125 72.90625 \r\nL 55.90625 72.90625 \r\nL 55.90625 64.59375 \r\nL 19.671875 64.59375 \r\nL 19.671875 43.015625 \r\nL 54.390625 43.015625 \r\nL 54.390625 34.71875 \r\nL 19.671875 34.71875 \r\nL 19.671875 8.296875 \r\nL 56.78125 8.296875 \r\nL 56.78125 0 \r\nL 9.8125 0 \r\nz\r\n\" id=\"DejaVuSans-69\"/>\r\n       <path d=\"M 44.28125 53.078125 \r\nL 44.28125 44.578125 \r\nQ 40.484375 46.53125 36.375 47.5 \r\nQ 32.28125 48.484375 27.875 48.484375 \r\nQ 21.1875 48.484375 17.84375 46.4375 \r\nQ 14.5 44.390625 14.5 40.28125 \r\nQ 14.5 37.15625 16.890625 35.375 \r\nQ 19.28125 33.59375 26.515625 31.984375 \r\nL 29.59375 31.296875 \r\nQ 39.15625 29.25 43.1875 25.515625 \r\nQ 47.21875 21.78125 47.21875 15.09375 \r\nQ 47.21875 7.46875 41.1875 3.015625 \r\nQ 35.15625 -1.421875 24.609375 -1.421875 \r\nQ 20.21875 -1.421875 15.453125 -0.5625 \r\nQ 10.6875 0.296875 5.421875 2 \r\nL 5.421875 11.28125 \r\nQ 10.40625 8.6875 15.234375 7.390625 \r\nQ 20.0625 6.109375 24.8125 6.109375 \r\nQ 31.15625 6.109375 34.5625 8.28125 \r\nQ 37.984375 10.453125 37.984375 14.40625 \r\nQ 37.984375 18.0625 35.515625 20.015625 \r\nQ 33.0625 21.96875 24.703125 23.78125 \r\nL 21.578125 24.515625 \r\nQ 13.234375 26.265625 9.515625 29.90625 \r\nQ 5.8125 33.546875 5.8125 39.890625 \r\nQ 5.8125 47.609375 11.28125 51.796875 \r\nQ 16.75 56 26.8125 56 \r\nQ 31.78125 56 36.171875 55.265625 \r\nQ 40.578125 54.546875 44.28125 53.078125 \r\nz\r\n\" id=\"DejaVuSans-115\"/>\r\n       <path d=\"M 18.3125 70.21875 \r\nL 18.3125 54.6875 \r\nL 36.8125 54.6875 \r\nL 36.8125 47.703125 \r\nL 18.3125 47.703125 \r\nL 18.3125 18.015625 \r\nQ 18.3125 11.328125 20.140625 9.421875 \r\nQ 21.96875 7.515625 27.59375 7.515625 \r\nL 36.8125 7.515625 \r\nL 36.8125 0 \r\nL 27.59375 0 \r\nQ 17.1875 0 13.234375 3.875 \r\nQ 9.28125 7.765625 9.28125 18.015625 \r\nL 9.28125 47.703125 \r\nL 2.6875 47.703125 \r\nL 2.6875 54.6875 \r\nL 9.28125 54.6875 \r\nL 9.28125 70.21875 \r\nz\r\n\" id=\"DejaVuSans-116\"/>\r\n      </defs>\r\n      <use xlink:href=\"#DejaVuSans-71\"/>\r\n      <use x=\"77.490234\" xlink:href=\"#DejaVuSans-114\"/>\r\n      <use x=\"118.603516\" xlink:href=\"#DejaVuSans-97\"/>\r\n      <use x=\"179.882812\" xlink:href=\"#DejaVuSans-110\"/>\r\n      <use x=\"243.261719\" xlink:href=\"#DejaVuSans-100\"/>\r\n      <use x=\"306.738281\" xlink:href=\"#DejaVuSans-32\"/>\r\n      <use x=\"338.525391\" xlink:href=\"#DejaVuSans-69\"/>\r\n      <use x=\"401.708984\" xlink:href=\"#DejaVuSans-115\"/>\r\n      <use x=\"453.808594\" xlink:href=\"#DejaVuSans-116\"/>\r\n     </g>\r\n    </g>\r\n   </g>\r\n   <g id=\"text_18\">\r\n    <g clip-path=\"url(#p7dfc11b90c)\">\r\n     <!-- Provence-Alpes-Côte-d'Azur -->\r\n     <g transform=\"translate(477.225326 141.535897)scale(0.11 -0.11)\">\r\n      <defs>\r\n       <path d=\"M 19.671875 64.796875 \r\nL 19.671875 37.40625 \r\nL 32.078125 37.40625 \r\nQ 38.96875 37.40625 42.71875 40.96875 \r\nQ 46.484375 44.53125 46.484375 51.125 \r\nQ 46.484375 57.671875 42.71875 61.234375 \r\nQ 38.96875 64.796875 32.078125 64.796875 \r\nz\r\nM 9.8125 72.90625 \r\nL 32.078125 72.90625 \r\nQ 44.34375 72.90625 50.609375 67.359375 \r\nQ 56.890625 61.8125 56.890625 51.125 \r\nQ 56.890625 40.328125 50.609375 34.8125 \r\nQ 44.34375 29.296875 32.078125 29.296875 \r\nL 19.671875 29.296875 \r\nL 19.671875 0 \r\nL 9.8125 0 \r\nz\r\n\" id=\"DejaVuSans-80\"/>\r\n       <path d=\"M 30.609375 48.390625 \r\nQ 23.390625 48.390625 19.1875 42.75 \r\nQ 14.984375 37.109375 14.984375 27.296875 \r\nQ 14.984375 17.484375 19.15625 11.84375 \r\nQ 23.34375 6.203125 30.609375 6.203125 \r\nQ 37.796875 6.203125 41.984375 11.859375 \r\nQ 46.1875 17.53125 46.1875 27.296875 \r\nQ 46.1875 37.015625 41.984375 42.703125 \r\nQ 37.796875 48.390625 30.609375 48.390625 \r\nz\r\nM 30.609375 56 \r\nQ 42.328125 56 49.015625 48.375 \r\nQ 55.71875 40.765625 55.71875 27.296875 \r\nQ 55.71875 13.875 49.015625 6.21875 \r\nQ 42.328125 -1.421875 30.609375 -1.421875 \r\nQ 18.84375 -1.421875 12.171875 6.21875 \r\nQ 5.515625 13.875 5.515625 27.296875 \r\nQ 5.515625 40.765625 12.171875 48.375 \r\nQ 18.84375 56 30.609375 56 \r\nz\r\n\" id=\"DejaVuSans-111\"/>\r\n       <path d=\"M 2.984375 54.6875 \r\nL 12.5 54.6875 \r\nL 29.59375 8.796875 \r\nL 46.6875 54.6875 \r\nL 56.203125 54.6875 \r\nL 35.6875 0 \r\nL 23.484375 0 \r\nz\r\n\" id=\"DejaVuSans-118\"/>\r\n       <path d=\"M 56.203125 29.59375 \r\nL 56.203125 25.203125 \r\nL 14.890625 25.203125 \r\nQ 15.484375 15.921875 20.484375 11.0625 \r\nQ 25.484375 6.203125 34.421875 6.203125 \r\nQ 39.59375 6.203125 44.453125 7.46875 \r\nQ 49.3125 8.734375 54.109375 11.28125 \r\nL 54.109375 2.78125 \r\nQ 49.265625 0.734375 44.1875 -0.34375 \r\nQ 39.109375 -1.421875 33.890625 -1.421875 \r\nQ 20.796875 -1.421875 13.15625 6.1875 \r\nQ 5.515625 13.8125 5.515625 26.8125 \r\nQ 5.515625 40.234375 12.765625 48.109375 \r\nQ 20.015625 56 32.328125 56 \r\nQ 43.359375 56 49.78125 48.890625 \r\nQ 56.203125 41.796875 56.203125 29.59375 \r\nz\r\nM 47.21875 32.234375 \r\nQ 47.125 39.59375 43.09375 43.984375 \r\nQ 39.0625 48.390625 32.421875 48.390625 \r\nQ 24.90625 48.390625 20.390625 44.140625 \r\nQ 15.875 39.890625 15.1875 32.171875 \r\nz\r\n\" id=\"DejaVuSans-101\"/>\r\n       <path d=\"M 48.78125 52.59375 \r\nL 48.78125 44.1875 \r\nQ 44.96875 46.296875 41.140625 47.34375 \r\nQ 37.3125 48.390625 33.40625 48.390625 \r\nQ 24.65625 48.390625 19.8125 42.84375 \r\nQ 14.984375 37.3125 14.984375 27.296875 \r\nQ 14.984375 17.28125 19.8125 11.734375 \r\nQ 24.65625 6.203125 33.40625 6.203125 \r\nQ 37.3125 6.203125 41.140625 7.25 \r\nQ 44.96875 8.296875 48.78125 10.40625 \r\nL 48.78125 2.09375 \r\nQ 45.015625 0.34375 40.984375 -0.53125 \r\nQ 36.96875 -1.421875 32.421875 -1.421875 \r\nQ 20.0625 -1.421875 12.78125 6.34375 \r\nQ 5.515625 14.109375 5.515625 27.296875 \r\nQ 5.515625 40.671875 12.859375 48.328125 \r\nQ 20.21875 56 33.015625 56 \r\nQ 37.15625 56 41.109375 55.140625 \r\nQ 45.0625 54.296875 48.78125 52.59375 \r\nz\r\n\" id=\"DejaVuSans-99\"/>\r\n       <path d=\"M 4.890625 31.390625 \r\nL 31.203125 31.390625 \r\nL 31.203125 23.390625 \r\nL 4.890625 23.390625 \r\nz\r\n\" id=\"DejaVuSans-45\"/>\r\n       <path d=\"M 34.1875 63.1875 \r\nL 20.796875 26.90625 \r\nL 47.609375 26.90625 \r\nz\r\nM 28.609375 72.90625 \r\nL 39.796875 72.90625 \r\nL 67.578125 0 \r\nL 57.328125 0 \r\nL 50.6875 18.703125 \r\nL 17.828125 18.703125 \r\nL 11.1875 0 \r\nL 0.78125 0 \r\nz\r\n\" id=\"DejaVuSans-65\"/>\r\n       <path d=\"M 9.421875 75.984375 \r\nL 18.40625 75.984375 \r\nL 18.40625 0 \r\nL 9.421875 0 \r\nz\r\n\" id=\"DejaVuSans-108\"/>\r\n       <path d=\"M 18.109375 8.203125 \r\nL 18.109375 -20.796875 \r\nL 9.078125 -20.796875 \r\nL 9.078125 54.6875 \r\nL 18.109375 54.6875 \r\nL 18.109375 46.390625 \r\nQ 20.953125 51.265625 25.265625 53.625 \r\nQ 29.59375 56 35.59375 56 \r\nQ 45.5625 56 51.78125 48.09375 \r\nQ 58.015625 40.1875 58.015625 27.296875 \r\nQ 58.015625 14.40625 51.78125 6.484375 \r\nQ 45.5625 -1.421875 35.59375 -1.421875 \r\nQ 29.59375 -1.421875 25.265625 0.953125 \r\nQ 20.953125 3.328125 18.109375 8.203125 \r\nz\r\nM 48.6875 27.296875 \r\nQ 48.6875 37.203125 44.609375 42.84375 \r\nQ 40.53125 48.484375 33.40625 48.484375 \r\nQ 26.265625 48.484375 22.1875 42.84375 \r\nQ 18.109375 37.203125 18.109375 27.296875 \r\nQ 18.109375 17.390625 22.1875 11.75 \r\nQ 26.265625 6.109375 33.40625 6.109375 \r\nQ 40.53125 6.109375 44.609375 11.75 \r\nQ 48.6875 17.390625 48.6875 27.296875 \r\nz\r\n\" id=\"DejaVuSans-112\"/>\r\n       <path d=\"M 64.40625 67.28125 \r\nL 64.40625 56.890625 \r\nQ 59.421875 61.53125 53.78125 63.8125 \r\nQ 48.140625 66.109375 41.796875 66.109375 \r\nQ 29.296875 66.109375 22.65625 58.46875 \r\nQ 16.015625 50.828125 16.015625 36.375 \r\nQ 16.015625 21.96875 22.65625 14.328125 \r\nQ 29.296875 6.6875 41.796875 6.6875 \r\nQ 48.140625 6.6875 53.78125 8.984375 \r\nQ 59.421875 11.28125 64.40625 15.921875 \r\nL 64.40625 5.609375 \r\nQ 59.234375 2.09375 53.4375 0.328125 \r\nQ 47.65625 -1.421875 41.21875 -1.421875 \r\nQ 24.65625 -1.421875 15.125 8.703125 \r\nQ 5.609375 18.84375 5.609375 36.375 \r\nQ 5.609375 53.953125 15.125 64.078125 \r\nQ 24.65625 74.21875 41.21875 74.21875 \r\nQ 47.75 74.21875 53.53125 72.484375 \r\nQ 59.328125 70.75 64.40625 67.28125 \r\nz\r\n\" id=\"DejaVuSans-67\"/>\r\n       <path d=\"M 30.609375 48.390625 \r\nQ 23.390625 48.390625 19.1875 42.75 \r\nQ 14.984375 37.109375 14.984375 27.296875 \r\nQ 14.984375 17.484375 19.15625 11.84375 \r\nQ 23.34375 6.203125 30.609375 6.203125 \r\nQ 37.796875 6.203125 41.984375 11.859375 \r\nQ 46.1875 17.53125 46.1875 27.296875 \r\nQ 46.1875 37.015625 41.984375 42.703125 \r\nQ 37.796875 48.390625 30.609375 48.390625 \r\nz\r\nM 30.609375 56 \r\nQ 42.328125 56 49.015625 48.375 \r\nQ 55.71875 40.765625 55.71875 27.296875 \r\nQ 55.71875 13.875 49.015625 6.21875 \r\nQ 42.328125 -1.421875 30.609375 -1.421875 \r\nQ 18.84375 -1.421875 12.171875 6.21875 \r\nQ 5.515625 13.875 5.515625 27.296875 \r\nQ 5.515625 40.765625 12.171875 48.375 \r\nQ 18.84375 56 30.609375 56 \r\nz\r\nM 27 79.984375 \r\nL 34.234375 79.984375 \r\nL 46.1875 61.625 \r\nL 39.40625 61.625 \r\nL 30.609375 73.578125 \r\nL 21.828125 61.625 \r\nL 15.046875 61.625 \r\nz\r\n\" id=\"DejaVuSans-244\"/>\r\n       <path d=\"M 17.921875 72.90625 \r\nL 17.921875 45.796875 \r\nL 9.625 45.796875 \r\nL 9.625 72.90625 \r\nz\r\n\" id=\"DejaVuSans-39\"/>\r\n       <path d=\"M 5.515625 54.6875 \r\nL 48.1875 54.6875 \r\nL 48.1875 46.484375 \r\nL 14.40625 7.171875 \r\nL 48.1875 7.171875 \r\nL 48.1875 0 \r\nL 4.296875 0 \r\nL 4.296875 8.203125 \r\nL 38.09375 47.515625 \r\nL 5.515625 47.515625 \r\nz\r\n\" id=\"DejaVuSans-122\"/>\r\n       <path d=\"M 8.5 21.578125 \r\nL 8.5 54.6875 \r\nL 17.484375 54.6875 \r\nL 17.484375 21.921875 \r\nQ 17.484375 14.15625 20.5 10.265625 \r\nQ 23.53125 6.390625 29.59375 6.390625 \r\nQ 36.859375 6.390625 41.078125 11.03125 \r\nQ 45.3125 15.671875 45.3125 23.6875 \r\nL 45.3125 54.6875 \r\nL 54.296875 54.6875 \r\nL 54.296875 0 \r\nL 45.3125 0 \r\nL 45.3125 8.40625 \r\nQ 42.046875 3.421875 37.71875 1 \r\nQ 33.40625 -1.421875 27.6875 -1.421875 \r\nQ 18.265625 -1.421875 13.375 4.4375 \r\nQ 8.5 10.296875 8.5 21.578125 \r\nz\r\nM 31.109375 56 \r\nz\r\n\" id=\"DejaVuSans-117\"/>\r\n      </defs>\r\n      <use xlink:href=\"#DejaVuSans-80\"/>\r\n      <use x=\"58.552734\" xlink:href=\"#DejaVuSans-114\"/>\r\n      <use x=\"97.416016\" xlink:href=\"#DejaVuSans-111\"/>\r\n      <use x=\"158.597656\" xlink:href=\"#DejaVuSans-118\"/>\r\n      <use x=\"217.777344\" xlink:href=\"#DejaVuSans-101\"/>\r\n      <use x=\"279.300781\" xlink:href=\"#DejaVuSans-110\"/>\r\n      <use x=\"342.679688\" xlink:href=\"#DejaVuSans-99\"/>\r\n      <use x=\"397.660156\" xlink:href=\"#DejaVuSans-101\"/>\r\n      <use x=\"459.183594\" xlink:href=\"#DejaVuSans-45\"/>\r\n      <use x=\"493.017578\" xlink:href=\"#DejaVuSans-65\"/>\r\n      <use x=\"561.425781\" xlink:href=\"#DejaVuSans-108\"/>\r\n      <use x=\"589.208984\" xlink:href=\"#DejaVuSans-112\"/>\r\n      <use x=\"652.685547\" xlink:href=\"#DejaVuSans-101\"/>\r\n      <use x=\"714.208984\" xlink:href=\"#DejaVuSans-115\"/>\r\n      <use x=\"766.308594\" xlink:href=\"#DejaVuSans-45\"/>\r\n      <use x=\"802.392578\" xlink:href=\"#DejaVuSans-67\"/>\r\n      <use x=\"872.216797\" xlink:href=\"#DejaVuSans-244\"/>\r\n      <use x=\"933.398438\" xlink:href=\"#DejaVuSans-116\"/>\r\n      <use x=\"972.607422\" xlink:href=\"#DejaVuSans-101\"/>\r\n      <use x=\"1034.130859\" xlink:href=\"#DejaVuSans-45\"/>\r\n      <use x=\"1070.214844\" xlink:href=\"#DejaVuSans-100\"/>\r\n      <use x=\"1133.691406\" xlink:href=\"#DejaVuSans-39\"/>\r\n      <use x=\"1161.181641\" xlink:href=\"#DejaVuSans-65\"/>\r\n      <use x=\"1229.589844\" xlink:href=\"#DejaVuSans-122\"/>\r\n      <use x=\"1282.080078\" xlink:href=\"#DejaVuSans-117\"/>\r\n      <use x=\"1345.458984\" xlink:href=\"#DejaVuSans-114\"/>\r\n     </g>\r\n    </g>\r\n   </g>\r\n   <g id=\"text_19\">\r\n    <g clip-path=\"url(#p7dfc11b90c)\">\r\n     <!-- Nouvelle-Aquitaine -->\r\n     <g transform=\"translate(84.996448 258.006113)scale(0.11 -0.11)\">\r\n      <defs>\r\n       <path d=\"M 9.8125 72.90625 \r\nL 23.09375 72.90625 \r\nL 55.421875 11.921875 \r\nL 55.421875 72.90625 \r\nL 64.984375 72.90625 \r\nL 64.984375 0 \r\nL 51.703125 0 \r\nL 19.390625 60.984375 \r\nL 19.390625 0 \r\nL 9.8125 0 \r\nz\r\n\" id=\"DejaVuSans-78\"/>\r\n       <path d=\"M 14.796875 27.296875 \r\nQ 14.796875 17.390625 18.875 11.75 \r\nQ 22.953125 6.109375 30.078125 6.109375 \r\nQ 37.203125 6.109375 41.296875 11.75 \r\nQ 45.40625 17.390625 45.40625 27.296875 \r\nQ 45.40625 37.203125 41.296875 42.84375 \r\nQ 37.203125 48.484375 30.078125 48.484375 \r\nQ 22.953125 48.484375 18.875 42.84375 \r\nQ 14.796875 37.203125 14.796875 27.296875 \r\nz\r\nM 45.40625 8.203125 \r\nQ 42.578125 3.328125 38.25 0.953125 \r\nQ 33.9375 -1.421875 27.875 -1.421875 \r\nQ 17.96875 -1.421875 11.734375 6.484375 \r\nQ 5.515625 14.40625 5.515625 27.296875 \r\nQ 5.515625 40.1875 11.734375 48.09375 \r\nQ 17.96875 56 27.875 56 \r\nQ 33.9375 56 38.25 53.625 \r\nQ 42.578125 51.265625 45.40625 46.390625 \r\nL 45.40625 54.6875 \r\nL 54.390625 54.6875 \r\nL 54.390625 -20.796875 \r\nL 45.40625 -20.796875 \r\nz\r\n\" id=\"DejaVuSans-113\"/>\r\n       <path d=\"M 9.421875 54.6875 \r\nL 18.40625 54.6875 \r\nL 18.40625 0 \r\nL 9.421875 0 \r\nz\r\nM 9.421875 75.984375 \r\nL 18.40625 75.984375 \r\nL 18.40625 64.59375 \r\nL 9.421875 64.59375 \r\nz\r\n\" id=\"DejaVuSans-105\"/>\r\n      </defs>\r\n      <use xlink:href=\"#DejaVuSans-78\"/>\r\n      <use x=\"74.804688\" xlink:href=\"#DejaVuSans-111\"/>\r\n      <use x=\"135.986328\" xlink:href=\"#DejaVuSans-117\"/>\r\n      <use x=\"199.365234\" xlink:href=\"#DejaVuSans-118\"/>\r\n      <use x=\"258.544922\" xlink:href=\"#DejaVuSans-101\"/>\r\n      <use x=\"320.068359\" xlink:href=\"#DejaVuSans-108\"/>\r\n      <use x=\"347.851562\" xlink:href=\"#DejaVuSans-108\"/>\r\n      <use x=\"375.634766\" xlink:href=\"#DejaVuSans-101\"/>\r\n      <use x=\"437.158203\" xlink:href=\"#DejaVuSans-45\"/>\r\n      <use x=\"470.992188\" xlink:href=\"#DejaVuSans-65\"/>\r\n      <use x=\"537.650391\" xlink:href=\"#DejaVuSans-113\"/>\r\n      <use x=\"601.126953\" xlink:href=\"#DejaVuSans-117\"/>\r\n      <use x=\"664.505859\" xlink:href=\"#DejaVuSans-105\"/>\r\n      <use x=\"692.289062\" xlink:href=\"#DejaVuSans-116\"/>\r\n      <use x=\"731.498047\" xlink:href=\"#DejaVuSans-97\"/>\r\n      <use x=\"792.777344\" xlink:href=\"#DejaVuSans-105\"/>\r\n      <use x=\"820.560547\" xlink:href=\"#DejaVuSans-110\"/>\r\n      <use x=\"883.939453\" xlink:href=\"#DejaVuSans-101\"/>\r\n     </g>\r\n    </g>\r\n   </g>\r\n   <g id=\"text_20\">\r\n    <g clip-path=\"url(#p7dfc11b90c)\">\r\n     <!-- Corse -->\r\n     <g transform=\"translate(683.911023 58.350838)scale(0.11 -0.11)\">\r\n      <use xlink:href=\"#DejaVuSans-67\"/>\r\n      <use x=\"69.824219\" xlink:href=\"#DejaVuSans-111\"/>\r\n      <use x=\"131.005859\" xlink:href=\"#DejaVuSans-114\"/>\r\n      <use x=\"172.119141\" xlink:href=\"#DejaVuSans-115\"/>\r\n      <use x=\"224.21875\" xlink:href=\"#DejaVuSans-101\"/>\r\n     </g>\r\n    </g>\r\n   </g>\r\n   <g id=\"text_21\">\r\n    <g clip-path=\"url(#p7dfc11b90c)\">\r\n     <!-- Bretagne -->\r\n     <g transform=\"translate(273.446062 299.810696)scale(0.11 -0.11)\">\r\n      <defs>\r\n       <path d=\"M 19.671875 34.8125 \r\nL 19.671875 8.109375 \r\nL 35.5 8.109375 \r\nQ 43.453125 8.109375 47.28125 11.40625 \r\nQ 51.125 14.703125 51.125 21.484375 \r\nQ 51.125 28.328125 47.28125 31.5625 \r\nQ 43.453125 34.8125 35.5 34.8125 \r\nz\r\nM 19.671875 64.796875 \r\nL 19.671875 42.828125 \r\nL 34.28125 42.828125 \r\nQ 41.5 42.828125 45.03125 45.53125 \r\nQ 48.578125 48.25 48.578125 53.8125 \r\nQ 48.578125 59.328125 45.03125 62.0625 \r\nQ 41.5 64.796875 34.28125 64.796875 \r\nz\r\nM 9.8125 72.90625 \r\nL 35.015625 72.90625 \r\nQ 46.296875 72.90625 52.390625 68.21875 \r\nQ 58.5 63.53125 58.5 54.890625 \r\nQ 58.5 48.1875 55.375 44.234375 \r\nQ 52.25 40.28125 46.1875 39.3125 \r\nQ 53.46875 37.75 57.5 32.78125 \r\nQ 61.53125 27.828125 61.53125 20.40625 \r\nQ 61.53125 10.640625 54.890625 5.3125 \r\nQ 48.25 0 35.984375 0 \r\nL 9.8125 0 \r\nz\r\n\" id=\"DejaVuSans-66\"/>\r\n       <path d=\"M 45.40625 27.984375 \r\nQ 45.40625 37.75 41.375 43.109375 \r\nQ 37.359375 48.484375 30.078125 48.484375 \r\nQ 22.859375 48.484375 18.828125 43.109375 \r\nQ 14.796875 37.75 14.796875 27.984375 \r\nQ 14.796875 18.265625 18.828125 12.890625 \r\nQ 22.859375 7.515625 30.078125 7.515625 \r\nQ 37.359375 7.515625 41.375 12.890625 \r\nQ 45.40625 18.265625 45.40625 27.984375 \r\nz\r\nM 54.390625 6.78125 \r\nQ 54.390625 -7.171875 48.1875 -13.984375 \r\nQ 42 -20.796875 29.203125 -20.796875 \r\nQ 24.46875 -20.796875 20.265625 -20.09375 \r\nQ 16.0625 -19.390625 12.109375 -17.921875 \r\nL 12.109375 -9.1875 \r\nQ 16.0625 -11.328125 19.921875 -12.34375 \r\nQ 23.78125 -13.375 27.78125 -13.375 \r\nQ 36.625 -13.375 41.015625 -8.765625 \r\nQ 45.40625 -4.15625 45.40625 5.171875 \r\nL 45.40625 9.625 \r\nQ 42.625 4.78125 38.28125 2.390625 \r\nQ 33.9375 0 27.875 0 \r\nQ 17.828125 0 11.671875 7.65625 \r\nQ 5.515625 15.328125 5.515625 27.984375 \r\nQ 5.515625 40.671875 11.671875 48.328125 \r\nQ 17.828125 56 27.875 56 \r\nQ 33.9375 56 38.28125 53.609375 \r\nQ 42.625 51.21875 45.40625 46.390625 \r\nL 45.40625 54.6875 \r\nL 54.390625 54.6875 \r\nz\r\n\" id=\"DejaVuSans-103\"/>\r\n      </defs>\r\n      <use xlink:href=\"#DejaVuSans-66\"/>\r\n      <use x=\"68.603516\" xlink:href=\"#DejaVuSans-114\"/>\r\n      <use x=\"107.466797\" xlink:href=\"#DejaVuSans-101\"/>\r\n      <use x=\"168.990234\" xlink:href=\"#DejaVuSans-116\"/>\r\n      <use x=\"208.199219\" xlink:href=\"#DejaVuSans-97\"/>\r\n      <use x=\"269.478516\" xlink:href=\"#DejaVuSans-103\"/>\r\n      <use x=\"332.955078\" xlink:href=\"#DejaVuSans-110\"/>\r\n      <use x=\"396.333984\" xlink:href=\"#DejaVuSans-101\"/>\r\n     </g>\r\n    </g>\r\n   </g>\r\n   <g id=\"text_22\">\r\n    <g clip-path=\"url(#p7dfc11b90c)\">\r\n     <!-- Pays-de-la-Loire -->\r\n     <g transform=\"translate(154.780717 288.792157)scale(0.11 -0.11)\">\r\n      <defs>\r\n       <path d=\"M 32.171875 -5.078125 \r\nQ 28.375 -14.84375 24.75 -17.8125 \r\nQ 21.140625 -20.796875 15.09375 -20.796875 \r\nL 7.90625 -20.796875 \r\nL 7.90625 -13.28125 \r\nL 13.1875 -13.28125 \r\nQ 16.890625 -13.28125 18.9375 -11.515625 \r\nQ 21 -9.765625 23.484375 -3.21875 \r\nL 25.09375 0.875 \r\nL 2.984375 54.6875 \r\nL 12.5 54.6875 \r\nL 29.59375 11.921875 \r\nL 46.6875 54.6875 \r\nL 56.203125 54.6875 \r\nz\r\n\" id=\"DejaVuSans-121\"/>\r\n       <path d=\"M 9.8125 72.90625 \r\nL 19.671875 72.90625 \r\nL 19.671875 8.296875 \r\nL 55.171875 8.296875 \r\nL 55.171875 0 \r\nL 9.8125 0 \r\nz\r\n\" id=\"DejaVuSans-76\"/>\r\n      </defs>\r\n      <use xlink:href=\"#DejaVuSans-80\"/>\r\n      <use x=\"55.802734\" xlink:href=\"#DejaVuSans-97\"/>\r\n      <use x=\"117.082031\" xlink:href=\"#DejaVuSans-121\"/>\r\n      <use x=\"176.261719\" xlink:href=\"#DejaVuSans-115\"/>\r\n      <use x=\"228.361328\" xlink:href=\"#DejaVuSans-45\"/>\r\n      <use x=\"264.445312\" xlink:href=\"#DejaVuSans-100\"/>\r\n      <use x=\"327.921875\" xlink:href=\"#DejaVuSans-101\"/>\r\n      <use x=\"389.445312\" xlink:href=\"#DejaVuSans-45\"/>\r\n      <use x=\"425.529297\" xlink:href=\"#DejaVuSans-108\"/>\r\n      <use x=\"453.3125\" xlink:href=\"#DejaVuSans-97\"/>\r\n      <use x=\"514.591797\" xlink:href=\"#DejaVuSans-45\"/>\r\n      <use x=\"550.675781\" xlink:href=\"#DejaVuSans-76\"/>\r\n      <use x=\"604.638672\" xlink:href=\"#DejaVuSans-111\"/>\r\n      <use x=\"665.820312\" xlink:href=\"#DejaVuSans-105\"/>\r\n      <use x=\"693.603516\" xlink:href=\"#DejaVuSans-114\"/>\r\n      <use x=\"732.466797\" xlink:href=\"#DejaVuSans-101\"/>\r\n     </g>\r\n    </g>\r\n   </g>\r\n   <g id=\"text_23\">\r\n    <g clip-path=\"url(#p7dfc11b90c)\">\r\n     <!-- Île-de-France -->\r\n     <g transform=\"translate(173.801833 380.960975)scale(0.11 -0.11)\">\r\n      <defs>\r\n       <path d=\"M 9.8125 72.90625 \r\nL 19.671875 72.90625 \r\nL 19.671875 0 \r\nL 9.8125 0 \r\nz\r\nM 10.203125 92.828125 \r\nL 19.390625 92.828125 \r\nL 29.6875 79.84375 \r\nL 22.90625 79.84375 \r\nL 14.796875 88.53125 \r\nL 6.6875 79.84375 \r\nL -0.09375 79.84375 \r\nz\r\n\" id=\"DejaVuSans-206\"/>\r\n       <path d=\"M 9.8125 72.90625 \r\nL 51.703125 72.90625 \r\nL 51.703125 64.59375 \r\nL 19.671875 64.59375 \r\nL 19.671875 43.109375 \r\nL 48.578125 43.109375 \r\nL 48.578125 34.8125 \r\nL 19.671875 34.8125 \r\nL 19.671875 0 \r\nL 9.8125 0 \r\nz\r\n\" id=\"DejaVuSans-70\"/>\r\n      </defs>\r\n      <use xlink:href=\"#DejaVuSans-206\"/>\r\n      <use x=\"29.492188\" xlink:href=\"#DejaVuSans-108\"/>\r\n      <use x=\"57.275391\" xlink:href=\"#DejaVuSans-101\"/>\r\n      <use x=\"118.798828\" xlink:href=\"#DejaVuSans-45\"/>\r\n      <use x=\"154.882812\" xlink:href=\"#DejaVuSans-100\"/>\r\n      <use x=\"218.359375\" xlink:href=\"#DejaVuSans-101\"/>\r\n      <use x=\"279.882812\" xlink:href=\"#DejaVuSans-45\"/>\r\n      <use x=\"315.966797\" xlink:href=\"#DejaVuSans-70\"/>\r\n      <use x=\"366.236328\" xlink:href=\"#DejaVuSans-114\"/>\r\n      <use x=\"407.349609\" xlink:href=\"#DejaVuSans-97\"/>\r\n      <use x=\"468.628906\" xlink:href=\"#DejaVuSans-110\"/>\r\n      <use x=\"532.007812\" xlink:href=\"#DejaVuSans-99\"/>\r\n      <use x=\"586.988281\" xlink:href=\"#DejaVuSans-101\"/>\r\n     </g>\r\n    </g>\r\n   </g>\r\n   <g id=\"text_24\">\r\n    <g clip-path=\"url(#p7dfc11b90c)\">\r\n     <!-- Centre-Val de Loire -->\r\n     <g transform=\"translate(142.928827 503.114474)scale(0.11 -0.11)\">\r\n      <defs>\r\n       <path d=\"M 28.609375 0 \r\nL 0.78125 72.90625 \r\nL 11.078125 72.90625 \r\nL 34.1875 11.53125 \r\nL 57.328125 72.90625 \r\nL 67.578125 72.90625 \r\nL 39.796875 0 \r\nz\r\n\" id=\"DejaVuSans-86\"/>\r\n      </defs>\r\n      <use xlink:href=\"#DejaVuSans-67\"/>\r\n      <use x=\"69.824219\" xlink:href=\"#DejaVuSans-101\"/>\r\n      <use x=\"131.347656\" xlink:href=\"#DejaVuSans-110\"/>\r\n      <use x=\"194.726562\" xlink:href=\"#DejaVuSans-116\"/>\r\n      <use x=\"233.935547\" xlink:href=\"#DejaVuSans-114\"/>\r\n      <use x=\"272.798828\" xlink:href=\"#DejaVuSans-101\"/>\r\n      <use x=\"334.322266\" xlink:href=\"#DejaVuSans-45\"/>\r\n      <use x=\"364.53125\" xlink:href=\"#DejaVuSans-86\"/>\r\n      <use x=\"425.189453\" xlink:href=\"#DejaVuSans-97\"/>\r\n      <use x=\"486.46875\" xlink:href=\"#DejaVuSans-108\"/>\r\n      <use x=\"514.251953\" xlink:href=\"#DejaVuSans-32\"/>\r\n      <use x=\"546.039062\" xlink:href=\"#DejaVuSans-100\"/>\r\n      <use x=\"609.515625\" xlink:href=\"#DejaVuSans-101\"/>\r\n      <use x=\"671.039062\" xlink:href=\"#DejaVuSans-32\"/>\r\n      <use x=\"702.826172\" xlink:href=\"#DejaVuSans-76\"/>\r\n      <use x=\"756.789062\" xlink:href=\"#DejaVuSans-111\"/>\r\n      <use x=\"817.970703\" xlink:href=\"#DejaVuSans-105\"/>\r\n      <use x=\"845.753906\" xlink:href=\"#DejaVuSans-114\"/>\r\n      <use x=\"884.617188\" xlink:href=\"#DejaVuSans-101\"/>\r\n     </g>\r\n    </g>\r\n   </g>\r\n   <g id=\"text_25\">\r\n    <g clip-path=\"url(#p7dfc11b90c)\">\r\n     <!-- Bourgogne-Franche-Comté -->\r\n     <g transform=\"translate(492.933387 257.428961)scale(0.11 -0.11)\">\r\n      <defs>\r\n       <path d=\"M 54.890625 33.015625 \r\nL 54.890625 0 \r\nL 45.90625 0 \r\nL 45.90625 32.71875 \r\nQ 45.90625 40.484375 42.875 44.328125 \r\nQ 39.84375 48.1875 33.796875 48.1875 \r\nQ 26.515625 48.1875 22.3125 43.546875 \r\nQ 18.109375 38.921875 18.109375 30.90625 \r\nL 18.109375 0 \r\nL 9.078125 0 \r\nL 9.078125 75.984375 \r\nL 18.109375 75.984375 \r\nL 18.109375 46.1875 \r\nQ 21.34375 51.125 25.703125 53.5625 \r\nQ 30.078125 56 35.796875 56 \r\nQ 45.21875 56 50.046875 50.171875 \r\nQ 54.890625 44.34375 54.890625 33.015625 \r\nz\r\n\" id=\"DejaVuSans-104\"/>\r\n       <path d=\"M 52 44.1875 \r\nQ 55.375 50.25 60.0625 53.125 \r\nQ 64.75 56 71.09375 56 \r\nQ 79.640625 56 84.28125 50.015625 \r\nQ 88.921875 44.046875 88.921875 33.015625 \r\nL 88.921875 0 \r\nL 79.890625 0 \r\nL 79.890625 32.71875 \r\nQ 79.890625 40.578125 77.09375 44.375 \r\nQ 74.3125 48.1875 68.609375 48.1875 \r\nQ 61.625 48.1875 57.5625 43.546875 \r\nQ 53.515625 38.921875 53.515625 30.90625 \r\nL 53.515625 0 \r\nL 44.484375 0 \r\nL 44.484375 32.71875 \r\nQ 44.484375 40.625 41.703125 44.40625 \r\nQ 38.921875 48.1875 33.109375 48.1875 \r\nQ 26.21875 48.1875 22.15625 43.53125 \r\nQ 18.109375 38.875 18.109375 30.90625 \r\nL 18.109375 0 \r\nL 9.078125 0 \r\nL 9.078125 54.6875 \r\nL 18.109375 54.6875 \r\nL 18.109375 46.1875 \r\nQ 21.1875 51.21875 25.484375 53.609375 \r\nQ 29.78125 56 35.6875 56 \r\nQ 41.65625 56 45.828125 52.96875 \r\nQ 50 49.953125 52 44.1875 \r\nz\r\n\" id=\"DejaVuSans-109\"/>\r\n       <path d=\"M 56.203125 29.59375 \r\nL 56.203125 25.203125 \r\nL 14.890625 25.203125 \r\nQ 15.484375 15.921875 20.484375 11.0625 \r\nQ 25.484375 6.203125 34.421875 6.203125 \r\nQ 39.59375 6.203125 44.453125 7.46875 \r\nQ 49.3125 8.734375 54.109375 11.28125 \r\nL 54.109375 2.78125 \r\nQ 49.265625 0.734375 44.1875 -0.34375 \r\nQ 39.109375 -1.421875 33.890625 -1.421875 \r\nQ 20.796875 -1.421875 13.15625 6.1875 \r\nQ 5.515625 13.8125 5.515625 26.8125 \r\nQ 5.515625 40.234375 12.765625 48.109375 \r\nQ 20.015625 56 32.328125 56 \r\nQ 43.359375 56 49.78125 48.890625 \r\nQ 56.203125 41.796875 56.203125 29.59375 \r\nz\r\nM 47.21875 32.234375 \r\nQ 47.125 39.59375 43.09375 43.984375 \r\nQ 39.0625 48.390625 32.421875 48.390625 \r\nQ 24.90625 48.390625 20.390625 44.140625 \r\nQ 15.875 39.890625 15.1875 32.171875 \r\nz\r\nM 38.578125 79.984375 \r\nL 48.296875 79.984375 \r\nL 32.375 61.625 \r\nL 24.90625 61.625 \r\nz\r\n\" id=\"DejaVuSans-233\"/>\r\n      </defs>\r\n      <use xlink:href=\"#DejaVuSans-66\"/>\r\n      <use x=\"68.603516\" xlink:href=\"#DejaVuSans-111\"/>\r\n      <use x=\"129.785156\" xlink:href=\"#DejaVuSans-117\"/>\r\n      <use x=\"193.164062\" xlink:href=\"#DejaVuSans-114\"/>\r\n      <use x=\"232.527344\" xlink:href=\"#DejaVuSans-103\"/>\r\n      <use x=\"296.003906\" xlink:href=\"#DejaVuSans-111\"/>\r\n      <use x=\"357.185547\" xlink:href=\"#DejaVuSans-103\"/>\r\n      <use x=\"420.662109\" xlink:href=\"#DejaVuSans-110\"/>\r\n      <use x=\"484.041016\" xlink:href=\"#DejaVuSans-101\"/>\r\n      <use x=\"545.564453\" xlink:href=\"#DejaVuSans-45\"/>\r\n      <use x=\"581.648438\" xlink:href=\"#DejaVuSans-70\"/>\r\n      <use x=\"631.917969\" xlink:href=\"#DejaVuSans-114\"/>\r\n      <use x=\"673.03125\" xlink:href=\"#DejaVuSans-97\"/>\r\n      <use x=\"734.310547\" xlink:href=\"#DejaVuSans-110\"/>\r\n      <use x=\"797.689453\" xlink:href=\"#DejaVuSans-99\"/>\r\n      <use x=\"852.669922\" xlink:href=\"#DejaVuSans-104\"/>\r\n      <use x=\"916.048828\" xlink:href=\"#DejaVuSans-101\"/>\r\n      <use x=\"977.572266\" xlink:href=\"#DejaVuSans-45\"/>\r\n      <use x=\"1013.65625\" xlink:href=\"#DejaVuSans-67\"/>\r\n      <use x=\"1083.480469\" xlink:href=\"#DejaVuSans-111\"/>\r\n      <use x=\"1144.662109\" xlink:href=\"#DejaVuSans-109\"/>\r\n      <use x=\"1242.074219\" xlink:href=\"#DejaVuSans-116\"/>\r\n      <use x=\"1281.283203\" xlink:href=\"#DejaVuSans-233\"/>\r\n     </g>\r\n    </g>\r\n   </g>\r\n   <g id=\"text_26\">\r\n    <g clip-path=\"url(#p7dfc11b90c)\">\r\n     <!-- Auvergne-Rhône-Alpes -->\r\n     <g transform=\"translate(380.302746 362.634999)scale(0.11 -0.11)\">\r\n      <defs>\r\n       <path d=\"M 44.390625 34.1875 \r\nQ 47.5625 33.109375 50.5625 29.59375 \r\nQ 53.5625 26.078125 56.59375 19.921875 \r\nL 66.609375 0 \r\nL 56 0 \r\nL 46.6875 18.703125 \r\nQ 43.0625 26.03125 39.671875 28.421875 \r\nQ 36.28125 30.8125 30.421875 30.8125 \r\nL 19.671875 30.8125 \r\nL 19.671875 0 \r\nL 9.8125 0 \r\nL 9.8125 72.90625 \r\nL 32.078125 72.90625 \r\nQ 44.578125 72.90625 50.734375 67.671875 \r\nQ 56.890625 62.453125 56.890625 51.90625 \r\nQ 56.890625 45.015625 53.6875 40.46875 \r\nQ 50.484375 35.9375 44.390625 34.1875 \r\nz\r\nM 19.671875 64.796875 \r\nL 19.671875 38.921875 \r\nL 32.078125 38.921875 \r\nQ 39.203125 38.921875 42.84375 42.21875 \r\nQ 46.484375 45.515625 46.484375 51.90625 \r\nQ 46.484375 58.296875 42.84375 61.546875 \r\nQ 39.203125 64.796875 32.078125 64.796875 \r\nz\r\n\" id=\"DejaVuSans-82\"/>\r\n      </defs>\r\n      <use xlink:href=\"#DejaVuSans-65\"/>\r\n      <use x=\"68.408203\" xlink:href=\"#DejaVuSans-117\"/>\r\n      <use x=\"131.787109\" xlink:href=\"#DejaVuSans-118\"/>\r\n      <use x=\"190.966797\" xlink:href=\"#DejaVuSans-101\"/>\r\n      <use x=\"252.490234\" xlink:href=\"#DejaVuSans-114\"/>\r\n      <use x=\"291.853516\" xlink:href=\"#DejaVuSans-103\"/>\r\n      <use x=\"355.330078\" xlink:href=\"#DejaVuSans-110\"/>\r\n      <use x=\"418.708984\" xlink:href=\"#DejaVuSans-101\"/>\r\n      <use x=\"480.232422\" xlink:href=\"#DejaVuSans-45\"/>\r\n      <use x=\"516.316406\" xlink:href=\"#DejaVuSans-82\"/>\r\n      <use x=\"585.798828\" xlink:href=\"#DejaVuSans-104\"/>\r\n      <use x=\"649.177734\" xlink:href=\"#DejaVuSans-244\"/>\r\n      <use x=\"710.359375\" xlink:href=\"#DejaVuSans-110\"/>\r\n      <use x=\"773.738281\" xlink:href=\"#DejaVuSans-101\"/>\r\n      <use x=\"835.261719\" xlink:href=\"#DejaVuSans-45\"/>\r\n      <use x=\"869.095703\" xlink:href=\"#DejaVuSans-65\"/>\r\n      <use x=\"937.503906\" xlink:href=\"#DejaVuSans-108\"/>\r\n      <use x=\"965.287109\" xlink:href=\"#DejaVuSans-112\"/>\r\n      <use x=\"1028.763672\" xlink:href=\"#DejaVuSans-101\"/>\r\n      <use x=\"1090.287109\" xlink:href=\"#DejaVuSans-115\"/>\r\n     </g>\r\n    </g>\r\n   </g>\r\n   <g id=\"text_27\">\r\n    <g clip-path=\"url(#p7dfc11b90c)\">\r\n     <!-- outside France -->\r\n     <g transform=\"translate(436.698553 196.508562)scale(0.11 -0.11)\">\r\n      <use xlink:href=\"#DejaVuSans-111\"/>\r\n      <use x=\"61.181641\" xlink:href=\"#DejaVuSans-117\"/>\r\n      <use x=\"124.560547\" xlink:href=\"#DejaVuSans-116\"/>\r\n      <use x=\"163.769531\" xlink:href=\"#DejaVuSans-115\"/>\r\n      <use x=\"215.869141\" xlink:href=\"#DejaVuSans-105\"/>\r\n      <use x=\"243.652344\" xlink:href=\"#DejaVuSans-100\"/>\r\n      <use x=\"307.128906\" xlink:href=\"#DejaVuSans-101\"/>\r\n      <use x=\"368.652344\" xlink:href=\"#DejaVuSans-32\"/>\r\n      <use x=\"400.439453\" xlink:href=\"#DejaVuSans-70\"/>\r\n      <use x=\"450.708984\" xlink:href=\"#DejaVuSans-114\"/>\r\n      <use x=\"491.822266\" xlink:href=\"#DejaVuSans-97\"/>\r\n      <use x=\"553.101562\" xlink:href=\"#DejaVuSans-110\"/>\r\n      <use x=\"616.480469\" xlink:href=\"#DejaVuSans-99\"/>\r\n      <use x=\"671.460938\" xlink:href=\"#DejaVuSans-101\"/>\r\n     </g>\r\n    </g>\r\n   </g>\r\n   <g id=\"text_28\">\r\n    <g clip-path=\"url(#p7dfc11b90c)\">\r\n     <!-- Occitanie -->\r\n     <g transform=\"translate(201.032723 81.049447)scale(0.11 -0.11)\">\r\n      <defs>\r\n       <path d=\"M 39.40625 66.21875 \r\nQ 28.65625 66.21875 22.328125 58.203125 \r\nQ 16.015625 50.203125 16.015625 36.375 \r\nQ 16.015625 22.609375 22.328125 14.59375 \r\nQ 28.65625 6.59375 39.40625 6.59375 \r\nQ 50.140625 6.59375 56.421875 14.59375 \r\nQ 62.703125 22.609375 62.703125 36.375 \r\nQ 62.703125 50.203125 56.421875 58.203125 \r\nQ 50.140625 66.21875 39.40625 66.21875 \r\nz\r\nM 39.40625 74.21875 \r\nQ 54.734375 74.21875 63.90625 63.9375 \r\nQ 73.09375 53.65625 73.09375 36.375 \r\nQ 73.09375 19.140625 63.90625 8.859375 \r\nQ 54.734375 -1.421875 39.40625 -1.421875 \r\nQ 24.03125 -1.421875 14.8125 8.828125 \r\nQ 5.609375 19.09375 5.609375 36.375 \r\nQ 5.609375 53.65625 14.8125 63.9375 \r\nQ 24.03125 74.21875 39.40625 74.21875 \r\nz\r\n\" id=\"DejaVuSans-79\"/>\r\n      </defs>\r\n      <use xlink:href=\"#DejaVuSans-79\"/>\r\n      <use x=\"78.710938\" xlink:href=\"#DejaVuSans-99\"/>\r\n      <use x=\"133.691406\" xlink:href=\"#DejaVuSans-99\"/>\r\n      <use x=\"188.671875\" xlink:href=\"#DejaVuSans-105\"/>\r\n      <use x=\"216.455078\" xlink:href=\"#DejaVuSans-116\"/>\r\n      <use x=\"255.664062\" xlink:href=\"#DejaVuSans-97\"/>\r\n      <use x=\"316.943359\" xlink:href=\"#DejaVuSans-110\"/>\r\n      <use x=\"380.322266\" xlink:href=\"#DejaVuSans-105\"/>\r\n      <use x=\"408.105469\" xlink:href=\"#DejaVuSans-101\"/>\r\n     </g>\r\n    </g>\r\n   </g>\r\n   <g id=\"text_29\">\r\n    <g clip-path=\"url(#p7dfc11b90c)\">\r\n     <!-- Normandie -->\r\n     <g transform=\"translate(9.910696 452.834685)scale(0.11 -0.11)\">\r\n      <use xlink:href=\"#DejaVuSans-78\"/>\r\n      <use x=\"74.804688\" xlink:href=\"#DejaVuSans-111\"/>\r\n      <use x=\"135.986328\" xlink:href=\"#DejaVuSans-114\"/>\r\n      <use x=\"175.349609\" xlink:href=\"#DejaVuSans-109\"/>\r\n      <use x=\"272.761719\" xlink:href=\"#DejaVuSans-97\"/>\r\n      <use x=\"334.041016\" xlink:href=\"#DejaVuSans-110\"/>\r\n      <use x=\"397.419922\" xlink:href=\"#DejaVuSans-100\"/>\r\n      <use x=\"460.896484\" xlink:href=\"#DejaVuSans-105\"/>\r\n      <use x=\"488.679688\" xlink:href=\"#DejaVuSans-101\"/>\r\n     </g>\r\n    </g>\r\n   </g>\r\n  </g>\r\n  <g id=\"text_30\">\r\n   <!-- Undirected graph of patient transfers -->\r\n   <g transform=\"translate(199.544844 20.117344)scale(0.17 -0.17)\">\r\n    <defs>\r\n     <path d=\"M 8.6875 72.90625 \r\nL 18.609375 72.90625 \r\nL 18.609375 28.609375 \r\nQ 18.609375 16.890625 22.84375 11.734375 \r\nQ 27.09375 6.59375 36.625 6.59375 \r\nQ 46.09375 6.59375 50.34375 11.734375 \r\nQ 54.59375 16.890625 54.59375 28.609375 \r\nL 54.59375 72.90625 \r\nL 64.5 72.90625 \r\nL 64.5 27.390625 \r\nQ 64.5 13.140625 57.4375 5.859375 \r\nQ 50.390625 -1.421875 36.625 -1.421875 \r\nQ 22.796875 -1.421875 15.734375 5.859375 \r\nQ 8.6875 13.140625 8.6875 27.390625 \r\nz\r\n\" id=\"DejaVuSans-85\"/>\r\n     <path d=\"M 37.109375 75.984375 \r\nL 37.109375 68.5 \r\nL 28.515625 68.5 \r\nQ 23.6875 68.5 21.796875 66.546875 \r\nQ 19.921875 64.59375 19.921875 59.515625 \r\nL 19.921875 54.6875 \r\nL 34.71875 54.6875 \r\nL 34.71875 47.703125 \r\nL 19.921875 47.703125 \r\nL 19.921875 0 \r\nL 10.890625 0 \r\nL 10.890625 47.703125 \r\nL 2.296875 47.703125 \r\nL 2.296875 54.6875 \r\nL 10.890625 54.6875 \r\nL 10.890625 58.5 \r\nQ 10.890625 67.625 15.140625 71.796875 \r\nQ 19.390625 75.984375 28.609375 75.984375 \r\nz\r\n\" id=\"DejaVuSans-102\"/>\r\n    </defs>\r\n    <use xlink:href=\"#DejaVuSans-85\"/>\r\n    <use x=\"73.193359\" xlink:href=\"#DejaVuSans-110\"/>\r\n    <use x=\"136.572266\" xlink:href=\"#DejaVuSans-100\"/>\r\n    <use x=\"200.048828\" xlink:href=\"#DejaVuSans-105\"/>\r\n    <use x=\"227.832031\" xlink:href=\"#DejaVuSans-114\"/>\r\n    <use x=\"266.695312\" xlink:href=\"#DejaVuSans-101\"/>\r\n    <use x=\"328.21875\" xlink:href=\"#DejaVuSans-99\"/>\r\n    <use x=\"383.199219\" xlink:href=\"#DejaVuSans-116\"/>\r\n    <use x=\"422.408203\" xlink:href=\"#DejaVuSans-101\"/>\r\n    <use x=\"483.931641\" xlink:href=\"#DejaVuSans-100\"/>\r\n    <use x=\"547.408203\" xlink:href=\"#DejaVuSans-32\"/>\r\n    <use x=\"579.195312\" xlink:href=\"#DejaVuSans-103\"/>\r\n    <use x=\"642.671875\" xlink:href=\"#DejaVuSans-114\"/>\r\n    <use x=\"683.785156\" xlink:href=\"#DejaVuSans-97\"/>\r\n    <use x=\"745.064453\" xlink:href=\"#DejaVuSans-112\"/>\r\n    <use x=\"808.541016\" xlink:href=\"#DejaVuSans-104\"/>\r\n    <use x=\"871.919922\" xlink:href=\"#DejaVuSans-32\"/>\r\n    <use x=\"903.707031\" xlink:href=\"#DejaVuSans-111\"/>\r\n    <use x=\"964.888672\" xlink:href=\"#DejaVuSans-102\"/>\r\n    <use x=\"1000.09375\" xlink:href=\"#DejaVuSans-32\"/>\r\n    <use x=\"1031.880859\" xlink:href=\"#DejaVuSans-112\"/>\r\n    <use x=\"1095.357422\" xlink:href=\"#DejaVuSans-97\"/>\r\n    <use x=\"1156.636719\" xlink:href=\"#DejaVuSans-116\"/>\r\n    <use x=\"1195.845703\" xlink:href=\"#DejaVuSans-105\"/>\r\n    <use x=\"1223.628906\" xlink:href=\"#DejaVuSans-101\"/>\r\n    <use x=\"1285.152344\" xlink:href=\"#DejaVuSans-110\"/>\r\n    <use x=\"1348.53125\" xlink:href=\"#DejaVuSans-116\"/>\r\n    <use x=\"1387.740234\" xlink:href=\"#DejaVuSans-32\"/>\r\n    <use x=\"1419.527344\" xlink:href=\"#DejaVuSans-116\"/>\r\n    <use x=\"1458.736328\" xlink:href=\"#DejaVuSans-114\"/>\r\n    <use x=\"1499.849609\" xlink:href=\"#DejaVuSans-97\"/>\r\n    <use x=\"1561.128906\" xlink:href=\"#DejaVuSans-110\"/>\r\n    <use x=\"1624.507812\" xlink:href=\"#DejaVuSans-115\"/>\r\n    <use x=\"1676.607422\" xlink:href=\"#DejaVuSans-102\"/>\r\n    <use x=\"1711.8125\" xlink:href=\"#DejaVuSans-101\"/>\r\n    <use x=\"1773.335938\" xlink:href=\"#DejaVuSans-114\"/>\r\n    <use x=\"1814.449219\" xlink:href=\"#DejaVuSans-115\"/>\r\n   </g>\r\n  </g>\r\n </g>\r\n <defs>\r\n  <clipPath id=\"p7dfc11b90c\">\r\n   <rect height=\"489.24\" width=\"725.4\" x=\"7.2\" y=\"33.077344\"/>\r\n  </clipPath>\r\n </defs>\r\n</svg>\r\n",
      "image/png": "[encoded data removed]"
     },
     "metadata": {}
    },
    {
     "output_type": "display_data",
     "data": {
      "text/plain": "<Figure size 792x792 with 1 Axes>",
      "image/svg+xml": "<?xml version=\"1.0\" encoding=\"utf-8\" standalone=\"no\"?>\r\n<!DOCTYPE svg PUBLIC \"-//W3C//DTD SVG 1.1//EN\"\r\n  \"http://www.w3.org/Graphics/SVG/1.1/DTD/svg11.dtd\">\r\n<!-- Created with matplotlib (https://matplotlib.org/) -->\r\n<svg height=\"692.137344pt\" version=\"1.1\" viewBox=\"0 0 632.085 692.137344\" width=\"632.085pt\" xmlns=\"http://www.w3.org/2000/svg\" xmlns:xlink=\"http://www.w3.org/1999/xlink\">\r\n <metadata>\r\n  <rdf:RDF xmlns:cc=\"http://creativecommons.org/ns#\" xmlns:dc=\"http://purl.org/dc/elements/1.1/\" xmlns:rdf=\"http://www.w3.org/1999/02/22-rdf-syntax-ns#\">\r\n   <cc:Work>\r\n    <dc:type rdf:resource=\"http://purl.org/dc/dcmitype/StillImage\"/>\r\n    <dc:date>2021-04-23T01:00:07.569453</dc:date>\r\n    <dc:format>image/svg+xml</dc:format>\r\n    <dc:creator>\r\n     <cc:Agent>\r\n      <dc:title>Matplotlib v3.3.2, https://matplotlib.org/</dc:title>\r\n     </cc:Agent>\r\n    </dc:creator>\r\n   </cc:Work>\r\n  </rdf:RDF>\r\n </metadata>\r\n <defs>\r\n  <style type=\"text/css\">*{stroke-linecap:butt;stroke-linejoin:round;}</style>\r\n </defs>\r\n <g id=\"figure_1\">\r\n  <g id=\"patch_1\">\r\n   <path d=\"M 0 692.137344 \r\nL 632.085 692.137344 \r\nL 632.085 -0 \r\nL 0 -0 \r\nz\r\n\" style=\"fill:none;\"/>\r\n  </g>\r\n  <g id=\"axes_1\">\r\n   <g id=\"patch_2\">\r\n    <path d=\"M 26.925 681.437344 \r\nL 624.885 681.437344 \r\nL 624.885 83.477344 \r\nL 26.925 83.477344 \r\nz\r\n\" style=\"fill:#ffffff;\"/>\r\n   </g>\r\n   <g id=\"matplotlib.axis_1\">\r\n    <g id=\"xtick_1\">\r\n     <g id=\"line2d_1\">\r\n      <defs>\r\n       <path d=\"M 0 0 \r\nL 0 3.5 \r\n\" id=\"m78739a476c\" style=\"stroke:#000000;stroke-width:0.8;\"/>\r\n      </defs>\r\n      <g>\r\n       <use style=\"stroke:#000000;stroke-width:0.8;\" x=\"49.923462\" xlink:href=\"#m78739a476c\" y=\"681.437344\"/>\r\n      </g>\r\n     </g>\r\n     <g id=\"line2d_2\">\r\n      <defs>\r\n       <path d=\"M 0 0 \r\nL 0 -3.5 \r\n\" id=\"ma52b2cdd11\" style=\"stroke:#000000;stroke-width:0.8;\"/>\r\n      </defs>\r\n      <g>\r\n       <use style=\"stroke:#000000;stroke-width:0.8;\" x=\"49.923462\" xlink:href=\"#ma52b2cdd11\" y=\"83.477344\"/>\r\n      </g>\r\n     </g>\r\n     <g id=\"text_1\">\r\n      <!-- 0 -->\r\n      <g transform=\"translate(46.742212 74.397656)scale(0.1 -0.1)\">\r\n       <defs>\r\n        <path d=\"M 31.78125 66.40625 \r\nQ 24.171875 66.40625 20.328125 58.90625 \r\nQ 16.5 51.421875 16.5 36.375 \r\nQ 16.5 21.390625 20.328125 13.890625 \r\nQ 24.171875 6.390625 31.78125 6.390625 \r\nQ 39.453125 6.390625 43.28125 13.890625 \r\nQ 47.125 21.390625 47.125 36.375 \r\nQ 47.125 51.421875 43.28125 58.90625 \r\nQ 39.453125 66.40625 31.78125 66.40625 \r\nz\r\nM 31.78125 74.21875 \r\nQ 44.046875 74.21875 50.515625 64.515625 \r\nQ 56.984375 54.828125 56.984375 36.375 \r\nQ 56.984375 17.96875 50.515625 8.265625 \r\nQ 44.046875 -1.421875 31.78125 -1.421875 \r\nQ 19.53125 -1.421875 13.0625 8.265625 \r\nQ 6.59375 17.96875 6.59375 36.375 \r\nQ 6.59375 54.828125 13.0625 64.515625 \r\nQ 19.53125 74.21875 31.78125 74.21875 \r\nz\r\n\" id=\"DejaVuSans-48\"/>\r\n       </defs>\r\n       <use xlink:href=\"#DejaVuSans-48\"/>\r\n      </g>\r\n     </g>\r\n    </g>\r\n    <g id=\"xtick_2\">\r\n     <g id=\"line2d_3\">\r\n      <g>\r\n       <use style=\"stroke:#000000;stroke-width:0.8;\" x=\"141.917308\" xlink:href=\"#m78739a476c\" y=\"681.437344\"/>\r\n      </g>\r\n     </g>\r\n     <g id=\"line2d_4\">\r\n      <g>\r\n       <use style=\"stroke:#000000;stroke-width:0.8;\" x=\"141.917308\" xlink:href=\"#ma52b2cdd11\" y=\"83.477344\"/>\r\n      </g>\r\n     </g>\r\n     <g id=\"text_2\">\r\n      <!-- 2 -->\r\n      <g transform=\"translate(138.736058 74.397656)scale(0.1 -0.1)\">\r\n       <defs>\r\n        <path d=\"M 19.1875 8.296875 \r\nL 53.609375 8.296875 \r\nL 53.609375 0 \r\nL 7.328125 0 \r\nL 7.328125 8.296875 \r\nQ 12.9375 14.109375 22.625 23.890625 \r\nQ 32.328125 33.6875 34.8125 36.53125 \r\nQ 39.546875 41.84375 41.421875 45.53125 \r\nQ 43.3125 49.21875 43.3125 52.78125 \r\nQ 43.3125 58.59375 39.234375 62.25 \r\nQ 35.15625 65.921875 28.609375 65.921875 \r\nQ 23.96875 65.921875 18.8125 64.3125 \r\nQ 13.671875 62.703125 7.8125 59.421875 \r\nL 7.8125 69.390625 \r\nQ 13.765625 71.78125 18.9375 73 \r\nQ 24.125 74.21875 28.421875 74.21875 \r\nQ 39.75 74.21875 46.484375 68.546875 \r\nQ 53.21875 62.890625 53.21875 53.421875 \r\nQ 53.21875 48.921875 51.53125 44.890625 \r\nQ 49.859375 40.875 45.40625 35.40625 \r\nQ 44.1875 33.984375 37.640625 27.21875 \r\nQ 31.109375 20.453125 19.1875 8.296875 \r\nz\r\n\" id=\"DejaVuSans-50\"/>\r\n       </defs>\r\n       <use xlink:href=\"#DejaVuSans-50\"/>\r\n      </g>\r\n     </g>\r\n    </g>\r\n    <g id=\"xtick_3\">\r\n     <g id=\"line2d_5\">\r\n      <g>\r\n       <use style=\"stroke:#000000;stroke-width:0.8;\" x=\"233.911154\" xlink:href=\"#m78739a476c\" y=\"681.437344\"/>\r\n      </g>\r\n     </g>\r\n     <g id=\"line2d_6\">\r\n      <g>\r\n       <use style=\"stroke:#000000;stroke-width:0.8;\" x=\"233.911154\" xlink:href=\"#ma52b2cdd11\" y=\"83.477344\"/>\r\n      </g>\r\n     </g>\r\n     <g id=\"text_3\">\r\n      <!-- 4 -->\r\n      <g transform=\"translate(230.729904 74.397656)scale(0.1 -0.1)\">\r\n       <defs>\r\n        <path d=\"M 37.796875 64.3125 \r\nL 12.890625 25.390625 \r\nL 37.796875 25.390625 \r\nz\r\nM 35.203125 72.90625 \r\nL 47.609375 72.90625 \r\nL 47.609375 25.390625 \r\nL 58.015625 25.390625 \r\nL 58.015625 17.1875 \r\nL 47.609375 17.1875 \r\nL 47.609375 0 \r\nL 37.796875 0 \r\nL 37.796875 17.1875 \r\nL 4.890625 17.1875 \r\nL 4.890625 26.703125 \r\nz\r\n\" id=\"DejaVuSans-52\"/>\r\n       </defs>\r\n       <use xlink:href=\"#DejaVuSans-52\"/>\r\n      </g>\r\n     </g>\r\n    </g>\r\n    <g id=\"xtick_4\">\r\n     <g id=\"line2d_7\">\r\n      <g>\r\n       <use style=\"stroke:#000000;stroke-width:0.8;\" x=\"325.905\" xlink:href=\"#m78739a476c\" y=\"681.437344\"/>\r\n      </g>\r\n     </g>\r\n     <g id=\"line2d_8\">\r\n      <g>\r\n       <use style=\"stroke:#000000;stroke-width:0.8;\" x=\"325.905\" xlink:href=\"#ma52b2cdd11\" y=\"83.477344\"/>\r\n      </g>\r\n     </g>\r\n     <g id=\"text_4\">\r\n      <!-- 6 -->\r\n      <g transform=\"translate(322.72375 74.397656)scale(0.1 -0.1)\">\r\n       <defs>\r\n        <path d=\"M 33.015625 40.375 \r\nQ 26.375 40.375 22.484375 35.828125 \r\nQ 18.609375 31.296875 18.609375 23.390625 \r\nQ 18.609375 15.53125 22.484375 10.953125 \r\nQ 26.375 6.390625 33.015625 6.390625 \r\nQ 39.65625 6.390625 43.53125 10.953125 \r\nQ 47.40625 15.53125 47.40625 23.390625 \r\nQ 47.40625 31.296875 43.53125 35.828125 \r\nQ 39.65625 40.375 33.015625 40.375 \r\nz\r\nM 52.59375 71.296875 \r\nL 52.59375 62.3125 \r\nQ 48.875 64.0625 45.09375 64.984375 \r\nQ 41.3125 65.921875 37.59375 65.921875 \r\nQ 27.828125 65.921875 22.671875 59.328125 \r\nQ 17.53125 52.734375 16.796875 39.40625 \r\nQ 19.671875 43.65625 24.015625 45.921875 \r\nQ 28.375 48.1875 33.59375 48.1875 \r\nQ 44.578125 48.1875 50.953125 41.515625 \r\nQ 57.328125 34.859375 57.328125 23.390625 \r\nQ 57.328125 12.15625 50.6875 5.359375 \r\nQ 44.046875 -1.421875 33.015625 -1.421875 \r\nQ 20.359375 -1.421875 13.671875 8.265625 \r\nQ 6.984375 17.96875 6.984375 36.375 \r\nQ 6.984375 53.65625 15.1875 63.9375 \r\nQ 23.390625 74.21875 37.203125 74.21875 \r\nQ 40.921875 74.21875 44.703125 73.484375 \r\nQ 48.484375 72.75 52.59375 71.296875 \r\nz\r\n\" id=\"DejaVuSans-54\"/>\r\n       </defs>\r\n       <use xlink:href=\"#DejaVuSans-54\"/>\r\n      </g>\r\n     </g>\r\n    </g>\r\n    <g id=\"xtick_5\">\r\n     <g id=\"line2d_9\">\r\n      <g>\r\n       <use style=\"stroke:#000000;stroke-width:0.8;\" x=\"417.898846\" xlink:href=\"#m78739a476c\" y=\"681.437344\"/>\r\n      </g>\r\n     </g>\r\n     <g id=\"line2d_10\">\r\n      <g>\r\n       <use style=\"stroke:#000000;stroke-width:0.8;\" x=\"417.898846\" xlink:href=\"#ma52b2cdd11\" y=\"83.477344\"/>\r\n      </g>\r\n     </g>\r\n     <g id=\"text_5\">\r\n      <!-- 8 -->\r\n      <g transform=\"translate(414.717596 74.397656)scale(0.1 -0.1)\">\r\n       <defs>\r\n        <path d=\"M 31.78125 34.625 \r\nQ 24.75 34.625 20.71875 30.859375 \r\nQ 16.703125 27.09375 16.703125 20.515625 \r\nQ 16.703125 13.921875 20.71875 10.15625 \r\nQ 24.75 6.390625 31.78125 6.390625 \r\nQ 38.8125 6.390625 42.859375 10.171875 \r\nQ 46.921875 13.96875 46.921875 20.515625 \r\nQ 46.921875 27.09375 42.890625 30.859375 \r\nQ 38.875 34.625 31.78125 34.625 \r\nz\r\nM 21.921875 38.8125 \r\nQ 15.578125 40.375 12.03125 44.71875 \r\nQ 8.5 49.078125 8.5 55.328125 \r\nQ 8.5 64.0625 14.71875 69.140625 \r\nQ 20.953125 74.21875 31.78125 74.21875 \r\nQ 42.671875 74.21875 48.875 69.140625 \r\nQ 55.078125 64.0625 55.078125 55.328125 \r\nQ 55.078125 49.078125 51.53125 44.71875 \r\nQ 48 40.375 41.703125 38.8125 \r\nQ 48.828125 37.15625 52.796875 32.3125 \r\nQ 56.78125 27.484375 56.78125 20.515625 \r\nQ 56.78125 9.90625 50.3125 4.234375 \r\nQ 43.84375 -1.421875 31.78125 -1.421875 \r\nQ 19.734375 -1.421875 13.25 4.234375 \r\nQ 6.78125 9.90625 6.78125 20.515625 \r\nQ 6.78125 27.484375 10.78125 32.3125 \r\nQ 14.796875 37.15625 21.921875 38.8125 \r\nz\r\nM 18.3125 54.390625 \r\nQ 18.3125 48.734375 21.84375 45.5625 \r\nQ 25.390625 42.390625 31.78125 42.390625 \r\nQ 38.140625 42.390625 41.71875 45.5625 \r\nQ 45.3125 48.734375 45.3125 54.390625 \r\nQ 45.3125 60.0625 41.71875 63.234375 \r\nQ 38.140625 66.40625 31.78125 66.40625 \r\nQ 25.390625 66.40625 21.84375 63.234375 \r\nQ 18.3125 60.0625 18.3125 54.390625 \r\nz\r\n\" id=\"DejaVuSans-56\"/>\r\n       </defs>\r\n       <use xlink:href=\"#DejaVuSans-56\"/>\r\n      </g>\r\n     </g>\r\n    </g>\r\n    <g id=\"xtick_6\">\r\n     <g id=\"line2d_11\">\r\n      <g>\r\n       <use style=\"stroke:#000000;stroke-width:0.8;\" x=\"509.892692\" xlink:href=\"#m78739a476c\" y=\"681.437344\"/>\r\n      </g>\r\n     </g>\r\n     <g id=\"line2d_12\">\r\n      <g>\r\n       <use style=\"stroke:#000000;stroke-width:0.8;\" x=\"509.892692\" xlink:href=\"#ma52b2cdd11\" y=\"83.477344\"/>\r\n      </g>\r\n     </g>\r\n     <g id=\"text_6\">\r\n      <!-- 10 -->\r\n      <g transform=\"translate(503.530192 74.397656)scale(0.1 -0.1)\">\r\n       <defs>\r\n        <path d=\"M 12.40625 8.296875 \r\nL 28.515625 8.296875 \r\nL 28.515625 63.921875 \r\nL 10.984375 60.40625 \r\nL 10.984375 69.390625 \r\nL 28.421875 72.90625 \r\nL 38.28125 72.90625 \r\nL 38.28125 8.296875 \r\nL 54.390625 8.296875 \r\nL 54.390625 0 \r\nL 12.40625 0 \r\nz\r\n\" id=\"DejaVuSans-49\"/>\r\n       </defs>\r\n       <use xlink:href=\"#DejaVuSans-49\"/>\r\n       <use x=\"63.623047\" xlink:href=\"#DejaVuSans-48\"/>\r\n      </g>\r\n     </g>\r\n    </g>\r\n    <g id=\"xtick_7\">\r\n     <g id=\"line2d_13\">\r\n      <g>\r\n       <use style=\"stroke:#000000;stroke-width:0.8;\" x=\"601.886538\" xlink:href=\"#m78739a476c\" y=\"681.437344\"/>\r\n      </g>\r\n     </g>\r\n     <g id=\"line2d_14\">\r\n      <g>\r\n       <use style=\"stroke:#000000;stroke-width:0.8;\" x=\"601.886538\" xlink:href=\"#ma52b2cdd11\" y=\"83.477344\"/>\r\n      </g>\r\n     </g>\r\n     <g id=\"text_7\">\r\n      <!-- 12 -->\r\n      <g transform=\"translate(595.524038 74.397656)scale(0.1 -0.1)\">\r\n       <use xlink:href=\"#DejaVuSans-49\"/>\r\n       <use x=\"63.623047\" xlink:href=\"#DejaVuSans-50\"/>\r\n      </g>\r\n     </g>\r\n    </g>\r\n   </g>\r\n   <g id=\"matplotlib.axis_2\">\r\n    <g id=\"ytick_1\">\r\n     <g id=\"line2d_15\">\r\n      <defs>\r\n       <path d=\"M 0 0 \r\nL -3.5 0 \r\n\" id=\"mc50ebf2bd5\" style=\"stroke:#000000;stroke-width:0.8;\"/>\r\n      </defs>\r\n      <g>\r\n       <use style=\"stroke:#000000;stroke-width:0.8;\" x=\"26.925\" xlink:href=\"#mc50ebf2bd5\" y=\"106.475805\"/>\r\n      </g>\r\n     </g>\r\n     <g id=\"text_8\">\r\n      <!-- 0 -->\r\n      <g transform=\"translate(13.5625 110.275024)scale(0.1 -0.1)\">\r\n       <use xlink:href=\"#DejaVuSans-48\"/>\r\n      </g>\r\n     </g>\r\n    </g>\r\n    <g id=\"ytick_2\">\r\n     <g id=\"line2d_16\">\r\n      <g>\r\n       <use style=\"stroke:#000000;stroke-width:0.8;\" x=\"26.925\" xlink:href=\"#mc50ebf2bd5\" y=\"198.469651\"/>\r\n      </g>\r\n     </g>\r\n     <g id=\"text_9\">\r\n      <!-- 2 -->\r\n      <g transform=\"translate(13.5625 202.26887)scale(0.1 -0.1)\">\r\n       <use xlink:href=\"#DejaVuSans-50\"/>\r\n      </g>\r\n     </g>\r\n    </g>\r\n    <g id=\"ytick_3\">\r\n     <g id=\"line2d_17\">\r\n      <g>\r\n       <use style=\"stroke:#000000;stroke-width:0.8;\" x=\"26.925\" xlink:href=\"#mc50ebf2bd5\" y=\"290.463498\"/>\r\n      </g>\r\n     </g>\r\n     <g id=\"text_10\">\r\n      <!-- 4 -->\r\n      <g transform=\"translate(13.5625 294.262716)scale(0.1 -0.1)\">\r\n       <use xlink:href=\"#DejaVuSans-52\"/>\r\n      </g>\r\n     </g>\r\n    </g>\r\n    <g id=\"ytick_4\">\r\n     <g id=\"line2d_18\">\r\n      <g>\r\n       <use style=\"stroke:#000000;stroke-width:0.8;\" x=\"26.925\" xlink:href=\"#mc50ebf2bd5\" y=\"382.457344\"/>\r\n      </g>\r\n     </g>\r\n     <g id=\"text_11\">\r\n      <!-- 6 -->\r\n      <g transform=\"translate(13.5625 386.256562)scale(0.1 -0.1)\">\r\n       <use xlink:href=\"#DejaVuSans-54\"/>\r\n      </g>\r\n     </g>\r\n    </g>\r\n    <g id=\"ytick_5\">\r\n     <g id=\"line2d_19\">\r\n      <g>\r\n       <use style=\"stroke:#000000;stroke-width:0.8;\" x=\"26.925\" xlink:href=\"#mc50ebf2bd5\" y=\"474.45119\"/>\r\n      </g>\r\n     </g>\r\n     <g id=\"text_12\">\r\n      <!-- 8 -->\r\n      <g transform=\"translate(13.5625 478.250409)scale(0.1 -0.1)\">\r\n       <use xlink:href=\"#DejaVuSans-56\"/>\r\n      </g>\r\n     </g>\r\n    </g>\r\n    <g id=\"ytick_6\">\r\n     <g id=\"line2d_20\">\r\n      <g>\r\n       <use style=\"stroke:#000000;stroke-width:0.8;\" x=\"26.925\" xlink:href=\"#mc50ebf2bd5\" y=\"566.445036\"/>\r\n      </g>\r\n     </g>\r\n     <g id=\"text_13\">\r\n      <!-- 10 -->\r\n      <g transform=\"translate(7.2 570.244255)scale(0.1 -0.1)\">\r\n       <use xlink:href=\"#DejaVuSans-49\"/>\r\n       <use x=\"63.623047\" xlink:href=\"#DejaVuSans-48\"/>\r\n      </g>\r\n     </g>\r\n    </g>\r\n    <g id=\"ytick_7\">\r\n     <g id=\"line2d_21\">\r\n      <g>\r\n       <use style=\"stroke:#000000;stroke-width:0.8;\" x=\"26.925\" xlink:href=\"#mc50ebf2bd5\" y=\"658.438882\"/>\r\n      </g>\r\n     </g>\r\n     <g id=\"text_14\">\r\n      <!-- 12 -->\r\n      <g transform=\"translate(7.2 662.238101)scale(0.1 -0.1)\">\r\n       <use xlink:href=\"#DejaVuSans-49\"/>\r\n       <use x=\"63.623047\" xlink:href=\"#DejaVuSans-50\"/>\r\n      </g>\r\n     </g>\r\n    </g>\r\n   </g>\r\n   <g id=\"line2d_22\">\r\n    <defs>\r\n     <path d=\"M -5 5 \r\nL 5 5 \r\nL 5 -5 \r\nL -5 -5 \r\nz\r\n\" id=\"mbb38c50a95\" style=\"stroke:#971b85;stroke-linejoin:miter;stroke-opacity:0.6;\"/>\r\n    </defs>\r\n    <g clip-path=\"url(#p50e701e57e)\">\r\n     <use style=\"fill:#971b85;fill-opacity:0.6;stroke:#971b85;stroke-linejoin:miter;stroke-opacity:0.6;\" x=\"95.920385\" xlink:href=\"#mbb38c50a95\" y=\"106.475805\"/>\r\n     <use style=\"fill:#971b85;fill-opacity:0.6;stroke:#971b85;stroke-linejoin:miter;stroke-opacity:0.6;\" x=\"141.917308\" xlink:href=\"#mbb38c50a95\" y=\"106.475805\"/>\r\n     <use style=\"fill:#971b85;fill-opacity:0.6;stroke:#971b85;stroke-linejoin:miter;stroke-opacity:0.6;\" x=\"233.911154\" xlink:href=\"#mbb38c50a95\" y=\"106.475805\"/>\r\n     <use style=\"fill:#971b85;fill-opacity:0.6;stroke:#971b85;stroke-linejoin:miter;stroke-opacity:0.6;\" x=\"279.908077\" xlink:href=\"#mbb38c50a95\" y=\"106.475805\"/>\r\n     <use style=\"fill:#971b85;fill-opacity:0.6;stroke:#971b85;stroke-linejoin:miter;stroke-opacity:0.6;\" x=\"509.892692\" xlink:href=\"#mbb38c50a95\" y=\"106.475805\"/>\r\n     <use style=\"fill:#971b85;fill-opacity:0.6;stroke:#971b85;stroke-linejoin:miter;stroke-opacity:0.6;\" x=\"555.889615\" xlink:href=\"#mbb38c50a95\" y=\"106.475805\"/>\r\n     <use style=\"fill:#971b85;fill-opacity:0.6;stroke:#971b85;stroke-linejoin:miter;stroke-opacity:0.6;\" x=\"49.923462\" xlink:href=\"#mbb38c50a95\" y=\"152.472728\"/>\r\n     <use style=\"fill:#971b85;fill-opacity:0.6;stroke:#971b85;stroke-linejoin:miter;stroke-opacity:0.6;\" x=\"187.914231\" xlink:href=\"#mbb38c50a95\" y=\"152.472728\"/>\r\n     <use style=\"fill:#971b85;fill-opacity:0.6;stroke:#971b85;stroke-linejoin:miter;stroke-opacity:0.6;\" x=\"417.898846\" xlink:href=\"#mbb38c50a95\" y=\"152.472728\"/>\r\n     <use style=\"fill:#971b85;fill-opacity:0.6;stroke:#971b85;stroke-linejoin:miter;stroke-opacity:0.6;\" x=\"49.923462\" xlink:href=\"#mbb38c50a95\" y=\"198.469651\"/>\r\n     <use style=\"fill:#971b85;fill-opacity:0.6;stroke:#971b85;stroke-linejoin:miter;stroke-opacity:0.6;\" x=\"325.905\" xlink:href=\"#mbb38c50a95\" y=\"198.469651\"/>\r\n     <use style=\"fill:#971b85;fill-opacity:0.6;stroke:#971b85;stroke-linejoin:miter;stroke-opacity:0.6;\" x=\"95.920385\" xlink:href=\"#mbb38c50a95\" y=\"244.466575\"/>\r\n     <use style=\"fill:#971b85;fill-opacity:0.6;stroke:#971b85;stroke-linejoin:miter;stroke-opacity:0.6;\" x=\"49.923462\" xlink:href=\"#mbb38c50a95\" y=\"290.463498\"/>\r\n     <use style=\"fill:#971b85;fill-opacity:0.6;stroke:#971b85;stroke-linejoin:miter;stroke-opacity:0.6;\" x=\"325.905\" xlink:href=\"#mbb38c50a95\" y=\"290.463498\"/>\r\n     <use style=\"fill:#971b85;fill-opacity:0.6;stroke:#971b85;stroke-linejoin:miter;stroke-opacity:0.6;\" x=\"49.923462\" xlink:href=\"#mbb38c50a95\" y=\"336.460421\"/>\r\n     <use style=\"fill:#971b85;fill-opacity:0.6;stroke:#971b85;stroke-linejoin:miter;stroke-opacity:0.6;\" x=\"325.905\" xlink:href=\"#mbb38c50a95\" y=\"336.460421\"/>\r\n     <use style=\"fill:#971b85;fill-opacity:0.6;stroke:#971b85;stroke-linejoin:miter;stroke-opacity:0.6;\" x=\"141.917308\" xlink:href=\"#mbb38c50a95\" y=\"382.457344\"/>\r\n     <use style=\"fill:#971b85;fill-opacity:0.6;stroke:#971b85;stroke-linejoin:miter;stroke-opacity:0.6;\" x=\"233.911154\" xlink:href=\"#mbb38c50a95\" y=\"382.457344\"/>\r\n     <use style=\"fill:#971b85;fill-opacity:0.6;stroke:#971b85;stroke-linejoin:miter;stroke-opacity:0.6;\" x=\"279.908077\" xlink:href=\"#mbb38c50a95\" y=\"382.457344\"/>\r\n     <use style=\"fill:#971b85;fill-opacity:0.6;stroke:#971b85;stroke-linejoin:miter;stroke-opacity:0.6;\" x=\"371.901923\" xlink:href=\"#mbb38c50a95\" y=\"382.457344\"/>\r\n     <use style=\"fill:#971b85;fill-opacity:0.6;stroke:#971b85;stroke-linejoin:miter;stroke-opacity:0.6;\" x=\"463.895769\" xlink:href=\"#mbb38c50a95\" y=\"382.457344\"/>\r\n     <use style=\"fill:#971b85;fill-opacity:0.6;stroke:#971b85;stroke-linejoin:miter;stroke-opacity:0.6;\" x=\"601.886538\" xlink:href=\"#mbb38c50a95\" y=\"382.457344\"/>\r\n     <use style=\"fill:#971b85;fill-opacity:0.6;stroke:#971b85;stroke-linejoin:miter;stroke-opacity:0.6;\" x=\"325.905\" xlink:href=\"#mbb38c50a95\" y=\"428.454267\"/>\r\n     <use style=\"fill:#971b85;fill-opacity:0.6;stroke:#971b85;stroke-linejoin:miter;stroke-opacity:0.6;\" x=\"95.920385\" xlink:href=\"#mbb38c50a95\" y=\"474.45119\"/>\r\n     <use style=\"fill:#971b85;fill-opacity:0.6;stroke:#971b85;stroke-linejoin:miter;stroke-opacity:0.6;\" x=\"463.895769\" xlink:href=\"#mbb38c50a95\" y=\"474.45119\"/>\r\n     <use style=\"fill:#971b85;fill-opacity:0.6;stroke:#971b85;stroke-linejoin:miter;stroke-opacity:0.6;\" x=\"509.892692\" xlink:href=\"#mbb38c50a95\" y=\"474.45119\"/>\r\n     <use style=\"fill:#971b85;fill-opacity:0.6;stroke:#971b85;stroke-linejoin:miter;stroke-opacity:0.6;\" x=\"325.905\" xlink:href=\"#mbb38c50a95\" y=\"520.448113\"/>\r\n     <use style=\"fill:#971b85;fill-opacity:0.6;stroke:#971b85;stroke-linejoin:miter;stroke-opacity:0.6;\" x=\"417.898846\" xlink:href=\"#mbb38c50a95\" y=\"520.448113\"/>\r\n     <use style=\"fill:#971b85;fill-opacity:0.6;stroke:#971b85;stroke-linejoin:miter;stroke-opacity:0.6;\" x=\"49.923462\" xlink:href=\"#mbb38c50a95\" y=\"566.445036\"/>\r\n     <use style=\"fill:#971b85;fill-opacity:0.6;stroke:#971b85;stroke-linejoin:miter;stroke-opacity:0.6;\" x=\"417.898846\" xlink:href=\"#mbb38c50a95\" y=\"566.445036\"/>\r\n     <use style=\"fill:#971b85;fill-opacity:0.6;stroke:#971b85;stroke-linejoin:miter;stroke-opacity:0.6;\" x=\"49.923462\" xlink:href=\"#mbb38c50a95\" y=\"612.441959\"/>\r\n     <use style=\"fill:#971b85;fill-opacity:0.6;stroke:#971b85;stroke-linejoin:miter;stroke-opacity:0.6;\" x=\"325.905\" xlink:href=\"#mbb38c50a95\" y=\"658.438882\"/>\r\n    </g>\r\n   </g>\r\n   <g id=\"patch_3\">\r\n    <path d=\"M 26.925 681.437344 \r\nL 26.925 83.477344 \r\n\" style=\"fill:none;stroke:#000000;stroke-linecap:square;stroke-linejoin:miter;stroke-width:0.8;\"/>\r\n   </g>\r\n   <g id=\"patch_4\">\r\n    <path d=\"M 624.885 681.437344 \r\nL 624.885 83.477344 \r\n\" style=\"fill:none;stroke:#000000;stroke-linecap:square;stroke-linejoin:miter;stroke-width:0.8;\"/>\r\n   </g>\r\n   <g id=\"patch_5\">\r\n    <path d=\"M 26.925 681.437344 \r\nL 624.885 681.437344 \r\n\" style=\"fill:none;stroke:#000000;stroke-linecap:square;stroke-linejoin:miter;stroke-width:0.8;\"/>\r\n   </g>\r\n   <g id=\"patch_6\">\r\n    <path d=\"M 26.925 83.477344 \r\nL 624.885 83.477344 \r\n\" style=\"fill:none;stroke:#000000;stroke-linecap:square;stroke-linejoin:miter;stroke-width:0.8;\"/>\r\n   </g>\r\n  </g>\r\n  <g id=\"text_15\">\r\n   <!-- Here is the adjacency matrix of the transfer graph -->\r\n   <g transform=\"translate(102.029453 20.117344)scale(0.17 -0.17)\">\r\n    <defs>\r\n     <path d=\"M 9.8125 72.90625 \r\nL 19.671875 72.90625 \r\nL 19.671875 43.015625 \r\nL 55.515625 43.015625 \r\nL 55.515625 72.90625 \r\nL 65.375 72.90625 \r\nL 65.375 0 \r\nL 55.515625 0 \r\nL 55.515625 34.71875 \r\nL 19.671875 34.71875 \r\nL 19.671875 0 \r\nL 9.8125 0 \r\nz\r\n\" id=\"DejaVuSans-72\"/>\r\n     <path d=\"M 56.203125 29.59375 \r\nL 56.203125 25.203125 \r\nL 14.890625 25.203125 \r\nQ 15.484375 15.921875 20.484375 11.0625 \r\nQ 25.484375 6.203125 34.421875 6.203125 \r\nQ 39.59375 6.203125 44.453125 7.46875 \r\nQ 49.3125 8.734375 54.109375 11.28125 \r\nL 54.109375 2.78125 \r\nQ 49.265625 0.734375 44.1875 -0.34375 \r\nQ 39.109375 -1.421875 33.890625 -1.421875 \r\nQ 20.796875 -1.421875 13.15625 6.1875 \r\nQ 5.515625 13.8125 5.515625 26.8125 \r\nQ 5.515625 40.234375 12.765625 48.109375 \r\nQ 20.015625 56 32.328125 56 \r\nQ 43.359375 56 49.78125 48.890625 \r\nQ 56.203125 41.796875 56.203125 29.59375 \r\nz\r\nM 47.21875 32.234375 \r\nQ 47.125 39.59375 43.09375 43.984375 \r\nQ 39.0625 48.390625 32.421875 48.390625 \r\nQ 24.90625 48.390625 20.390625 44.140625 \r\nQ 15.875 39.890625 15.1875 32.171875 \r\nz\r\n\" id=\"DejaVuSans-101\"/>\r\n     <path d=\"M 41.109375 46.296875 \r\nQ 39.59375 47.171875 37.8125 47.578125 \r\nQ 36.03125 48 33.890625 48 \r\nQ 26.265625 48 22.1875 43.046875 \r\nQ 18.109375 38.09375 18.109375 28.8125 \r\nL 18.109375 0 \r\nL 9.078125 0 \r\nL 9.078125 54.6875 \r\nL 18.109375 54.6875 \r\nL 18.109375 46.1875 \r\nQ 20.953125 51.171875 25.484375 53.578125 \r\nQ 30.03125 56 36.53125 56 \r\nQ 37.453125 56 38.578125 55.875 \r\nQ 39.703125 55.765625 41.0625 55.515625 \r\nz\r\n\" id=\"DejaVuSans-114\"/>\r\n     <path id=\"DejaVuSans-32\"/>\r\n     <path d=\"M 9.421875 54.6875 \r\nL 18.40625 54.6875 \r\nL 18.40625 0 \r\nL 9.421875 0 \r\nz\r\nM 9.421875 75.984375 \r\nL 18.40625 75.984375 \r\nL 18.40625 64.59375 \r\nL 9.421875 64.59375 \r\nz\r\n\" id=\"DejaVuSans-105\"/>\r\n     <path d=\"M 44.28125 53.078125 \r\nL 44.28125 44.578125 \r\nQ 40.484375 46.53125 36.375 47.5 \r\nQ 32.28125 48.484375 27.875 48.484375 \r\nQ 21.1875 48.484375 17.84375 46.4375 \r\nQ 14.5 44.390625 14.5 40.28125 \r\nQ 14.5 37.15625 16.890625 35.375 \r\nQ 19.28125 33.59375 26.515625 31.984375 \r\nL 29.59375 31.296875 \r\nQ 39.15625 29.25 43.1875 25.515625 \r\nQ 47.21875 21.78125 47.21875 15.09375 \r\nQ 47.21875 7.46875 41.1875 3.015625 \r\nQ 35.15625 -1.421875 24.609375 -1.421875 \r\nQ 20.21875 -1.421875 15.453125 -0.5625 \r\nQ 10.6875 0.296875 5.421875 2 \r\nL 5.421875 11.28125 \r\nQ 10.40625 8.6875 15.234375 7.390625 \r\nQ 20.0625 6.109375 24.8125 6.109375 \r\nQ 31.15625 6.109375 34.5625 8.28125 \r\nQ 37.984375 10.453125 37.984375 14.40625 \r\nQ 37.984375 18.0625 35.515625 20.015625 \r\nQ 33.0625 21.96875 24.703125 23.78125 \r\nL 21.578125 24.515625 \r\nQ 13.234375 26.265625 9.515625 29.90625 \r\nQ 5.8125 33.546875 5.8125 39.890625 \r\nQ 5.8125 47.609375 11.28125 51.796875 \r\nQ 16.75 56 26.8125 56 \r\nQ 31.78125 56 36.171875 55.265625 \r\nQ 40.578125 54.546875 44.28125 53.078125 \r\nz\r\n\" id=\"DejaVuSans-115\"/>\r\n     <path d=\"M 18.3125 70.21875 \r\nL 18.3125 54.6875 \r\nL 36.8125 54.6875 \r\nL 36.8125 47.703125 \r\nL 18.3125 47.703125 \r\nL 18.3125 18.015625 \r\nQ 18.3125 11.328125 20.140625 9.421875 \r\nQ 21.96875 7.515625 27.59375 7.515625 \r\nL 36.8125 7.515625 \r\nL 36.8125 0 \r\nL 27.59375 0 \r\nQ 17.1875 0 13.234375 3.875 \r\nQ 9.28125 7.765625 9.28125 18.015625 \r\nL 9.28125 47.703125 \r\nL 2.6875 47.703125 \r\nL 2.6875 54.6875 \r\nL 9.28125 54.6875 \r\nL 9.28125 70.21875 \r\nz\r\n\" id=\"DejaVuSans-116\"/>\r\n     <path d=\"M 54.890625 33.015625 \r\nL 54.890625 0 \r\nL 45.90625 0 \r\nL 45.90625 32.71875 \r\nQ 45.90625 40.484375 42.875 44.328125 \r\nQ 39.84375 48.1875 33.796875 48.1875 \r\nQ 26.515625 48.1875 22.3125 43.546875 \r\nQ 18.109375 38.921875 18.109375 30.90625 \r\nL 18.109375 0 \r\nL 9.078125 0 \r\nL 9.078125 75.984375 \r\nL 18.109375 75.984375 \r\nL 18.109375 46.1875 \r\nQ 21.34375 51.125 25.703125 53.5625 \r\nQ 30.078125 56 35.796875 56 \r\nQ 45.21875 56 50.046875 50.171875 \r\nQ 54.890625 44.34375 54.890625 33.015625 \r\nz\r\n\" id=\"DejaVuSans-104\"/>\r\n     <path d=\"M 34.28125 27.484375 \r\nQ 23.390625 27.484375 19.1875 25 \r\nQ 14.984375 22.515625 14.984375 16.5 \r\nQ 14.984375 11.71875 18.140625 8.90625 \r\nQ 21.296875 6.109375 26.703125 6.109375 \r\nQ 34.1875 6.109375 38.703125 11.40625 \r\nQ 43.21875 16.703125 43.21875 25.484375 \r\nL 43.21875 27.484375 \r\nz\r\nM 52.203125 31.203125 \r\nL 52.203125 0 \r\nL 43.21875 0 \r\nL 43.21875 8.296875 \r\nQ 40.140625 3.328125 35.546875 0.953125 \r\nQ 30.953125 -1.421875 24.3125 -1.421875 \r\nQ 15.921875 -1.421875 10.953125 3.296875 \r\nQ 6 8.015625 6 15.921875 \r\nQ 6 25.140625 12.171875 29.828125 \r\nQ 18.359375 34.515625 30.609375 34.515625 \r\nL 43.21875 34.515625 \r\nL 43.21875 35.40625 \r\nQ 43.21875 41.609375 39.140625 45 \r\nQ 35.0625 48.390625 27.6875 48.390625 \r\nQ 23 48.390625 18.546875 47.265625 \r\nQ 14.109375 46.140625 10.015625 43.890625 \r\nL 10.015625 52.203125 \r\nQ 14.9375 54.109375 19.578125 55.046875 \r\nQ 24.21875 56 28.609375 56 \r\nQ 40.484375 56 46.34375 49.84375 \r\nQ 52.203125 43.703125 52.203125 31.203125 \r\nz\r\n\" id=\"DejaVuSans-97\"/>\r\n     <path d=\"M 45.40625 46.390625 \r\nL 45.40625 75.984375 \r\nL 54.390625 75.984375 \r\nL 54.390625 0 \r\nL 45.40625 0 \r\nL 45.40625 8.203125 \r\nQ 42.578125 3.328125 38.25 0.953125 \r\nQ 33.9375 -1.421875 27.875 -1.421875 \r\nQ 17.96875 -1.421875 11.734375 6.484375 \r\nQ 5.515625 14.40625 5.515625 27.296875 \r\nQ 5.515625 40.1875 11.734375 48.09375 \r\nQ 17.96875 56 27.875 56 \r\nQ 33.9375 56 38.25 53.625 \r\nQ 42.578125 51.265625 45.40625 46.390625 \r\nz\r\nM 14.796875 27.296875 \r\nQ 14.796875 17.390625 18.875 11.75 \r\nQ 22.953125 6.109375 30.078125 6.109375 \r\nQ 37.203125 6.109375 41.296875 11.75 \r\nQ 45.40625 17.390625 45.40625 27.296875 \r\nQ 45.40625 37.203125 41.296875 42.84375 \r\nQ 37.203125 48.484375 30.078125 48.484375 \r\nQ 22.953125 48.484375 18.875 42.84375 \r\nQ 14.796875 37.203125 14.796875 27.296875 \r\nz\r\n\" id=\"DejaVuSans-100\"/>\r\n     <path d=\"M 9.421875 54.6875 \r\nL 18.40625 54.6875 \r\nL 18.40625 -0.984375 \r\nQ 18.40625 -11.421875 14.421875 -16.109375 \r\nQ 10.453125 -20.796875 1.609375 -20.796875 \r\nL -1.8125 -20.796875 \r\nL -1.8125 -13.1875 \r\nL 0.59375 -13.1875 \r\nQ 5.71875 -13.1875 7.5625 -10.8125 \r\nQ 9.421875 -8.453125 9.421875 -0.984375 \r\nz\r\nM 9.421875 75.984375 \r\nL 18.40625 75.984375 \r\nL 18.40625 64.59375 \r\nL 9.421875 64.59375 \r\nz\r\n\" id=\"DejaVuSans-106\"/>\r\n     <path d=\"M 48.78125 52.59375 \r\nL 48.78125 44.1875 \r\nQ 44.96875 46.296875 41.140625 47.34375 \r\nQ 37.3125 48.390625 33.40625 48.390625 \r\nQ 24.65625 48.390625 19.8125 42.84375 \r\nQ 14.984375 37.3125 14.984375 27.296875 \r\nQ 14.984375 17.28125 19.8125 11.734375 \r\nQ 24.65625 6.203125 33.40625 6.203125 \r\nQ 37.3125 6.203125 41.140625 7.25 \r\nQ 44.96875 8.296875 48.78125 10.40625 \r\nL 48.78125 2.09375 \r\nQ 45.015625 0.34375 40.984375 -0.53125 \r\nQ 36.96875 -1.421875 32.421875 -1.421875 \r\nQ 20.0625 -1.421875 12.78125 6.34375 \r\nQ 5.515625 14.109375 5.515625 27.296875 \r\nQ 5.515625 40.671875 12.859375 48.328125 \r\nQ 20.21875 56 33.015625 56 \r\nQ 37.15625 56 41.109375 55.140625 \r\nQ 45.0625 54.296875 48.78125 52.59375 \r\nz\r\n\" id=\"DejaVuSans-99\"/>\r\n     <path d=\"M 54.890625 33.015625 \r\nL 54.890625 0 \r\nL 45.90625 0 \r\nL 45.90625 32.71875 \r\nQ 45.90625 40.484375 42.875 44.328125 \r\nQ 39.84375 48.1875 33.796875 48.1875 \r\nQ 26.515625 48.1875 22.3125 43.546875 \r\nQ 18.109375 38.921875 18.109375 30.90625 \r\nL 18.109375 0 \r\nL 9.078125 0 \r\nL 9.078125 54.6875 \r\nL 18.109375 54.6875 \r\nL 18.109375 46.1875 \r\nQ 21.34375 51.125 25.703125 53.5625 \r\nQ 30.078125 56 35.796875 56 \r\nQ 45.21875 56 50.046875 50.171875 \r\nQ 54.890625 44.34375 54.890625 33.015625 \r\nz\r\n\" id=\"DejaVuSans-110\"/>\r\n     <path d=\"M 32.171875 -5.078125 \r\nQ 28.375 -14.84375 24.75 -17.8125 \r\nQ 21.140625 -20.796875 15.09375 -20.796875 \r\nL 7.90625 -20.796875 \r\nL 7.90625 -13.28125 \r\nL 13.1875 -13.28125 \r\nQ 16.890625 -13.28125 18.9375 -11.515625 \r\nQ 21 -9.765625 23.484375 -3.21875 \r\nL 25.09375 0.875 \r\nL 2.984375 54.6875 \r\nL 12.5 54.6875 \r\nL 29.59375 11.921875 \r\nL 46.6875 54.6875 \r\nL 56.203125 54.6875 \r\nz\r\n\" id=\"DejaVuSans-121\"/>\r\n     <path d=\"M 52 44.1875 \r\nQ 55.375 50.25 60.0625 53.125 \r\nQ 64.75 56 71.09375 56 \r\nQ 79.640625 56 84.28125 50.015625 \r\nQ 88.921875 44.046875 88.921875 33.015625 \r\nL 88.921875 0 \r\nL 79.890625 0 \r\nL 79.890625 32.71875 \r\nQ 79.890625 40.578125 77.09375 44.375 \r\nQ 74.3125 48.1875 68.609375 48.1875 \r\nQ 61.625 48.1875 57.5625 43.546875 \r\nQ 53.515625 38.921875 53.515625 30.90625 \r\nL 53.515625 0 \r\nL 44.484375 0 \r\nL 44.484375 32.71875 \r\nQ 44.484375 40.625 41.703125 44.40625 \r\nQ 38.921875 48.1875 33.109375 48.1875 \r\nQ 26.21875 48.1875 22.15625 43.53125 \r\nQ 18.109375 38.875 18.109375 30.90625 \r\nL 18.109375 0 \r\nL 9.078125 0 \r\nL 9.078125 54.6875 \r\nL 18.109375 54.6875 \r\nL 18.109375 46.1875 \r\nQ 21.1875 51.21875 25.484375 53.609375 \r\nQ 29.78125 56 35.6875 56 \r\nQ 41.65625 56 45.828125 52.96875 \r\nQ 50 49.953125 52 44.1875 \r\nz\r\n\" id=\"DejaVuSans-109\"/>\r\n     <path d=\"M 54.890625 54.6875 \r\nL 35.109375 28.078125 \r\nL 55.90625 0 \r\nL 45.3125 0 \r\nL 29.390625 21.484375 \r\nL 13.484375 0 \r\nL 2.875 0 \r\nL 24.125 28.609375 \r\nL 4.6875 54.6875 \r\nL 15.28125 54.6875 \r\nL 29.78125 35.203125 \r\nL 44.28125 54.6875 \r\nz\r\n\" id=\"DejaVuSans-120\"/>\r\n     <path d=\"M 30.609375 48.390625 \r\nQ 23.390625 48.390625 19.1875 42.75 \r\nQ 14.984375 37.109375 14.984375 27.296875 \r\nQ 14.984375 17.484375 19.15625 11.84375 \r\nQ 23.34375 6.203125 30.609375 6.203125 \r\nQ 37.796875 6.203125 41.984375 11.859375 \r\nQ 46.1875 17.53125 46.1875 27.296875 \r\nQ 46.1875 37.015625 41.984375 42.703125 \r\nQ 37.796875 48.390625 30.609375 48.390625 \r\nz\r\nM 30.609375 56 \r\nQ 42.328125 56 49.015625 48.375 \r\nQ 55.71875 40.765625 55.71875 27.296875 \r\nQ 55.71875 13.875 49.015625 6.21875 \r\nQ 42.328125 -1.421875 30.609375 -1.421875 \r\nQ 18.84375 -1.421875 12.171875 6.21875 \r\nQ 5.515625 13.875 5.515625 27.296875 \r\nQ 5.515625 40.765625 12.171875 48.375 \r\nQ 18.84375 56 30.609375 56 \r\nz\r\n\" id=\"DejaVuSans-111\"/>\r\n     <path d=\"M 37.109375 75.984375 \r\nL 37.109375 68.5 \r\nL 28.515625 68.5 \r\nQ 23.6875 68.5 21.796875 66.546875 \r\nQ 19.921875 64.59375 19.921875 59.515625 \r\nL 19.921875 54.6875 \r\nL 34.71875 54.6875 \r\nL 34.71875 47.703125 \r\nL 19.921875 47.703125 \r\nL 19.921875 0 \r\nL 10.890625 0 \r\nL 10.890625 47.703125 \r\nL 2.296875 47.703125 \r\nL 2.296875 54.6875 \r\nL 10.890625 54.6875 \r\nL 10.890625 58.5 \r\nQ 10.890625 67.625 15.140625 71.796875 \r\nQ 19.390625 75.984375 28.609375 75.984375 \r\nz\r\n\" id=\"DejaVuSans-102\"/>\r\n     <path d=\"M 45.40625 27.984375 \r\nQ 45.40625 37.75 41.375 43.109375 \r\nQ 37.359375 48.484375 30.078125 48.484375 \r\nQ 22.859375 48.484375 18.828125 43.109375 \r\nQ 14.796875 37.75 14.796875 27.984375 \r\nQ 14.796875 18.265625 18.828125 12.890625 \r\nQ 22.859375 7.515625 30.078125 7.515625 \r\nQ 37.359375 7.515625 41.375 12.890625 \r\nQ 45.40625 18.265625 45.40625 27.984375 \r\nz\r\nM 54.390625 6.78125 \r\nQ 54.390625 -7.171875 48.1875 -13.984375 \r\nQ 42 -20.796875 29.203125 -20.796875 \r\nQ 24.46875 -20.796875 20.265625 -20.09375 \r\nQ 16.0625 -19.390625 12.109375 -17.921875 \r\nL 12.109375 -9.1875 \r\nQ 16.0625 -11.328125 19.921875 -12.34375 \r\nQ 23.78125 -13.375 27.78125 -13.375 \r\nQ 36.625 -13.375 41.015625 -8.765625 \r\nQ 45.40625 -4.15625 45.40625 5.171875 \r\nL 45.40625 9.625 \r\nQ 42.625 4.78125 38.28125 2.390625 \r\nQ 33.9375 0 27.875 0 \r\nQ 17.828125 0 11.671875 7.65625 \r\nQ 5.515625 15.328125 5.515625 27.984375 \r\nQ 5.515625 40.671875 11.671875 48.328125 \r\nQ 17.828125 56 27.875 56 \r\nQ 33.9375 56 38.28125 53.609375 \r\nQ 42.625 51.21875 45.40625 46.390625 \r\nL 45.40625 54.6875 \r\nL 54.390625 54.6875 \r\nz\r\n\" id=\"DejaVuSans-103\"/>\r\n     <path d=\"M 18.109375 8.203125 \r\nL 18.109375 -20.796875 \r\nL 9.078125 -20.796875 \r\nL 9.078125 54.6875 \r\nL 18.109375 54.6875 \r\nL 18.109375 46.390625 \r\nQ 20.953125 51.265625 25.265625 53.625 \r\nQ 29.59375 56 35.59375 56 \r\nQ 45.5625 56 51.78125 48.09375 \r\nQ 58.015625 40.1875 58.015625 27.296875 \r\nQ 58.015625 14.40625 51.78125 6.484375 \r\nQ 45.5625 -1.421875 35.59375 -1.421875 \r\nQ 29.59375 -1.421875 25.265625 0.953125 \r\nQ 20.953125 3.328125 18.109375 8.203125 \r\nz\r\nM 48.6875 27.296875 \r\nQ 48.6875 37.203125 44.609375 42.84375 \r\nQ 40.53125 48.484375 33.40625 48.484375 \r\nQ 26.265625 48.484375 22.1875 42.84375 \r\nQ 18.109375 37.203125 18.109375 27.296875 \r\nQ 18.109375 17.390625 22.1875 11.75 \r\nQ 26.265625 6.109375 33.40625 6.109375 \r\nQ 40.53125 6.109375 44.609375 11.75 \r\nQ 48.6875 17.390625 48.6875 27.296875 \r\nz\r\n\" id=\"DejaVuSans-112\"/>\r\n    </defs>\r\n    <use xlink:href=\"#DejaVuSans-72\"/>\r\n    <use x=\"75.195312\" xlink:href=\"#DejaVuSans-101\"/>\r\n    <use x=\"136.71875\" xlink:href=\"#DejaVuSans-114\"/>\r\n    <use x=\"175.582031\" xlink:href=\"#DejaVuSans-101\"/>\r\n    <use x=\"237.105469\" xlink:href=\"#DejaVuSans-32\"/>\r\n    <use x=\"268.892578\" xlink:href=\"#DejaVuSans-105\"/>\r\n    <use x=\"296.675781\" xlink:href=\"#DejaVuSans-115\"/>\r\n    <use x=\"348.775391\" xlink:href=\"#DejaVuSans-32\"/>\r\n    <use x=\"380.5625\" xlink:href=\"#DejaVuSans-116\"/>\r\n    <use x=\"419.771484\" xlink:href=\"#DejaVuSans-104\"/>\r\n    <use x=\"483.150391\" xlink:href=\"#DejaVuSans-101\"/>\r\n    <use x=\"544.673828\" xlink:href=\"#DejaVuSans-32\"/>\r\n    <use x=\"576.460938\" xlink:href=\"#DejaVuSans-97\"/>\r\n    <use x=\"637.740234\" xlink:href=\"#DejaVuSans-100\"/>\r\n    <use x=\"701.216797\" xlink:href=\"#DejaVuSans-106\"/>\r\n    <use x=\"729\" xlink:href=\"#DejaVuSans-97\"/>\r\n    <use x=\"790.279297\" xlink:href=\"#DejaVuSans-99\"/>\r\n    <use x=\"845.259766\" xlink:href=\"#DejaVuSans-101\"/>\r\n    <use x=\"906.783203\" xlink:href=\"#DejaVuSans-110\"/>\r\n    <use x=\"970.162109\" xlink:href=\"#DejaVuSans-99\"/>\r\n    <use x=\"1025.142578\" xlink:href=\"#DejaVuSans-121\"/>\r\n    <use x=\"1084.322266\" xlink:href=\"#DejaVuSans-32\"/>\r\n    <use x=\"1116.109375\" xlink:href=\"#DejaVuSans-109\"/>\r\n    <use x=\"1213.521484\" xlink:href=\"#DejaVuSans-97\"/>\r\n    <use x=\"1274.800781\" xlink:href=\"#DejaVuSans-116\"/>\r\n    <use x=\"1314.009766\" xlink:href=\"#DejaVuSans-114\"/>\r\n    <use x=\"1355.123047\" xlink:href=\"#DejaVuSans-105\"/>\r\n    <use x=\"1382.90625\" xlink:href=\"#DejaVuSans-120\"/>\r\n    <use x=\"1442.085938\" xlink:href=\"#DejaVuSans-32\"/>\r\n    <use x=\"1473.873047\" xlink:href=\"#DejaVuSans-111\"/>\r\n    <use x=\"1535.054688\" xlink:href=\"#DejaVuSans-102\"/>\r\n    <use x=\"1570.259766\" xlink:href=\"#DejaVuSans-32\"/>\r\n    <use x=\"1602.046875\" xlink:href=\"#DejaVuSans-116\"/>\r\n    <use x=\"1641.255859\" xlink:href=\"#DejaVuSans-104\"/>\r\n    <use x=\"1704.634766\" xlink:href=\"#DejaVuSans-101\"/>\r\n    <use x=\"1766.158203\" xlink:href=\"#DejaVuSans-32\"/>\r\n    <use x=\"1797.945312\" xlink:href=\"#DejaVuSans-116\"/>\r\n    <use x=\"1837.154297\" xlink:href=\"#DejaVuSans-114\"/>\r\n    <use x=\"1878.267578\" xlink:href=\"#DejaVuSans-97\"/>\r\n    <use x=\"1939.546875\" xlink:href=\"#DejaVuSans-110\"/>\r\n    <use x=\"2002.925781\" xlink:href=\"#DejaVuSans-115\"/>\r\n    <use x=\"2055.025391\" xlink:href=\"#DejaVuSans-102\"/>\r\n    <use x=\"2090.230469\" xlink:href=\"#DejaVuSans-101\"/>\r\n    <use x=\"2151.753906\" xlink:href=\"#DejaVuSans-114\"/>\r\n    <use x=\"2192.867188\" xlink:href=\"#DejaVuSans-32\"/>\r\n    <use x=\"2224.654297\" xlink:href=\"#DejaVuSans-103\"/>\r\n    <use x=\"2288.130859\" xlink:href=\"#DejaVuSans-114\"/>\r\n    <use x=\"2329.244141\" xlink:href=\"#DejaVuSans-97\"/>\r\n    <use x=\"2390.523438\" xlink:href=\"#DejaVuSans-112\"/>\r\n    <use x=\"2454\" xlink:href=\"#DejaVuSans-104\"/>\r\n   </g>\r\n  </g>\r\n  <g id=\"text_16\">\r\n   <!-- This is a sparse matrix -->\r\n   <g transform=\"translate(236.892969 35.957344)scale(0.14 -0.14)\">\r\n    <defs>\r\n     <path d=\"M -0.296875 72.90625 \r\nL 61.375 72.90625 \r\nL 61.375 64.59375 \r\nL 35.5 64.59375 \r\nL 35.5 0 \r\nL 25.59375 0 \r\nL 25.59375 64.59375 \r\nL -0.296875 64.59375 \r\nz\r\n\" id=\"DejaVuSans-84\"/>\r\n    </defs>\r\n    <use xlink:href=\"#DejaVuSans-84\"/>\r\n    <use x=\"61.083984\" xlink:href=\"#DejaVuSans-104\"/>\r\n    <use x=\"124.462891\" xlink:href=\"#DejaVuSans-105\"/>\r\n    <use x=\"152.246094\" xlink:href=\"#DejaVuSans-115\"/>\r\n    <use x=\"204.345703\" xlink:href=\"#DejaVuSans-32\"/>\r\n    <use x=\"236.132812\" xlink:href=\"#DejaVuSans-105\"/>\r\n    <use x=\"263.916016\" xlink:href=\"#DejaVuSans-115\"/>\r\n    <use x=\"316.015625\" xlink:href=\"#DejaVuSans-32\"/>\r\n    <use x=\"347.802734\" xlink:href=\"#DejaVuSans-97\"/>\r\n    <use x=\"409.082031\" xlink:href=\"#DejaVuSans-32\"/>\r\n    <use x=\"440.869141\" xlink:href=\"#DejaVuSans-115\"/>\r\n    <use x=\"492.96875\" xlink:href=\"#DejaVuSans-112\"/>\r\n    <use x=\"556.445312\" xlink:href=\"#DejaVuSans-97\"/>\r\n    <use x=\"617.724609\" xlink:href=\"#DejaVuSans-114\"/>\r\n    <use x=\"658.837891\" xlink:href=\"#DejaVuSans-115\"/>\r\n    <use x=\"710.9375\" xlink:href=\"#DejaVuSans-101\"/>\r\n    <use x=\"772.460938\" xlink:href=\"#DejaVuSans-32\"/>\r\n    <use x=\"804.248047\" xlink:href=\"#DejaVuSans-109\"/>\r\n    <use x=\"901.660156\" xlink:href=\"#DejaVuSans-97\"/>\r\n    <use x=\"962.939453\" xlink:href=\"#DejaVuSans-116\"/>\r\n    <use x=\"1002.148438\" xlink:href=\"#DejaVuSans-114\"/>\r\n    <use x=\"1043.261719\" xlink:href=\"#DejaVuSans-105\"/>\r\n    <use x=\"1071.044922\" xlink:href=\"#DejaVuSans-120\"/>\r\n   </g>\r\n  </g>\r\n  <g id=\"text_17\">\r\n   <!-- percentage of occupation: 9.4675 -->\r\n   <g transform=\"translate(222.755938 51.797344)scale(0.11 -0.11)\">\r\n    <defs>\r\n     <path d=\"M 8.5 21.578125 \r\nL 8.5 54.6875 \r\nL 17.484375 54.6875 \r\nL 17.484375 21.921875 \r\nQ 17.484375 14.15625 20.5 10.265625 \r\nQ 23.53125 6.390625 29.59375 6.390625 \r\nQ 36.859375 6.390625 41.078125 11.03125 \r\nQ 45.3125 15.671875 45.3125 23.6875 \r\nL 45.3125 54.6875 \r\nL 54.296875 54.6875 \r\nL 54.296875 0 \r\nL 45.3125 0 \r\nL 45.3125 8.40625 \r\nQ 42.046875 3.421875 37.71875 1 \r\nQ 33.40625 -1.421875 27.6875 -1.421875 \r\nQ 18.265625 -1.421875 13.375 4.4375 \r\nQ 8.5 10.296875 8.5 21.578125 \r\nz\r\nM 31.109375 56 \r\nz\r\n\" id=\"DejaVuSans-117\"/>\r\n     <path d=\"M 11.71875 12.40625 \r\nL 22.015625 12.40625 \r\nL 22.015625 0 \r\nL 11.71875 0 \r\nz\r\nM 11.71875 51.703125 \r\nL 22.015625 51.703125 \r\nL 22.015625 39.3125 \r\nL 11.71875 39.3125 \r\nz\r\n\" id=\"DejaVuSans-58\"/>\r\n     <path d=\"M 10.984375 1.515625 \r\nL 10.984375 10.5 \r\nQ 14.703125 8.734375 18.5 7.8125 \r\nQ 22.3125 6.890625 25.984375 6.890625 \r\nQ 35.75 6.890625 40.890625 13.453125 \r\nQ 46.046875 20.015625 46.78125 33.40625 \r\nQ 43.953125 29.203125 39.59375 26.953125 \r\nQ 35.25 24.703125 29.984375 24.703125 \r\nQ 19.046875 24.703125 12.671875 31.3125 \r\nQ 6.296875 37.9375 6.296875 49.421875 \r\nQ 6.296875 60.640625 12.9375 67.421875 \r\nQ 19.578125 74.21875 30.609375 74.21875 \r\nQ 43.265625 74.21875 49.921875 64.515625 \r\nQ 56.59375 54.828125 56.59375 36.375 \r\nQ 56.59375 19.140625 48.40625 8.859375 \r\nQ 40.234375 -1.421875 26.421875 -1.421875 \r\nQ 22.703125 -1.421875 18.890625 -0.6875 \r\nQ 15.09375 0.046875 10.984375 1.515625 \r\nz\r\nM 30.609375 32.421875 \r\nQ 37.25 32.421875 41.125 36.953125 \r\nQ 45.015625 41.5 45.015625 49.421875 \r\nQ 45.015625 57.28125 41.125 61.84375 \r\nQ 37.25 66.40625 30.609375 66.40625 \r\nQ 23.96875 66.40625 20.09375 61.84375 \r\nQ 16.21875 57.28125 16.21875 49.421875 \r\nQ 16.21875 41.5 20.09375 36.953125 \r\nQ 23.96875 32.421875 30.609375 32.421875 \r\nz\r\n\" id=\"DejaVuSans-57\"/>\r\n     <path d=\"M 10.6875 12.40625 \r\nL 21 12.40625 \r\nL 21 0 \r\nL 10.6875 0 \r\nz\r\n\" id=\"DejaVuSans-46\"/>\r\n     <path d=\"M 8.203125 72.90625 \r\nL 55.078125 72.90625 \r\nL 55.078125 68.703125 \r\nL 28.609375 0 \r\nL 18.3125 0 \r\nL 43.21875 64.59375 \r\nL 8.203125 64.59375 \r\nz\r\n\" id=\"DejaVuSans-55\"/>\r\n     <path d=\"M 10.796875 72.90625 \r\nL 49.515625 72.90625 \r\nL 49.515625 64.59375 \r\nL 19.828125 64.59375 \r\nL 19.828125 46.734375 \r\nQ 21.96875 47.46875 24.109375 47.828125 \r\nQ 26.265625 48.1875 28.421875 48.1875 \r\nQ 40.625 48.1875 47.75 41.5 \r\nQ 54.890625 34.8125 54.890625 23.390625 \r\nQ 54.890625 11.625 47.5625 5.09375 \r\nQ 40.234375 -1.421875 26.90625 -1.421875 \r\nQ 22.3125 -1.421875 17.546875 -0.640625 \r\nQ 12.796875 0.140625 7.71875 1.703125 \r\nL 7.71875 11.625 \r\nQ 12.109375 9.234375 16.796875 8.0625 \r\nQ 21.484375 6.890625 26.703125 6.890625 \r\nQ 35.15625 6.890625 40.078125 11.328125 \r\nQ 45.015625 15.765625 45.015625 23.390625 \r\nQ 45.015625 31 40.078125 35.4375 \r\nQ 35.15625 39.890625 26.703125 39.890625 \r\nQ 22.75 39.890625 18.8125 39.015625 \r\nQ 14.890625 38.140625 10.796875 36.28125 \r\nz\r\n\" id=\"DejaVuSans-53\"/>\r\n    </defs>\r\n    <use xlink:href=\"#DejaVuSans-112\"/>\r\n    <use x=\"63.476562\" xlink:href=\"#DejaVuSans-101\"/>\r\n    <use x=\"125\" xlink:href=\"#DejaVuSans-114\"/>\r\n    <use x=\"163.863281\" xlink:href=\"#DejaVuSans-99\"/>\r\n    <use x=\"218.84375\" xlink:href=\"#DejaVuSans-101\"/>\r\n    <use x=\"280.367188\" xlink:href=\"#DejaVuSans-110\"/>\r\n    <use x=\"343.746094\" xlink:href=\"#DejaVuSans-116\"/>\r\n    <use x=\"382.955078\" xlink:href=\"#DejaVuSans-97\"/>\r\n    <use x=\"444.234375\" xlink:href=\"#DejaVuSans-103\"/>\r\n    <use x=\"507.710938\" xlink:href=\"#DejaVuSans-101\"/>\r\n    <use x=\"569.234375\" xlink:href=\"#DejaVuSans-32\"/>\r\n    <use x=\"601.021484\" xlink:href=\"#DejaVuSans-111\"/>\r\n    <use x=\"662.203125\" xlink:href=\"#DejaVuSans-102\"/>\r\n    <use x=\"697.408203\" xlink:href=\"#DejaVuSans-32\"/>\r\n    <use x=\"729.195312\" xlink:href=\"#DejaVuSans-111\"/>\r\n    <use x=\"790.376953\" xlink:href=\"#DejaVuSans-99\"/>\r\n    <use x=\"845.357422\" xlink:href=\"#DejaVuSans-99\"/>\r\n    <use x=\"900.337891\" xlink:href=\"#DejaVuSans-117\"/>\r\n    <use x=\"963.716797\" xlink:href=\"#DejaVuSans-112\"/>\r\n    <use x=\"1027.193359\" xlink:href=\"#DejaVuSans-97\"/>\r\n    <use x=\"1088.472656\" xlink:href=\"#DejaVuSans-116\"/>\r\n    <use x=\"1127.681641\" xlink:href=\"#DejaVuSans-105\"/>\r\n    <use x=\"1155.464844\" xlink:href=\"#DejaVuSans-111\"/>\r\n    <use x=\"1216.646484\" xlink:href=\"#DejaVuSans-110\"/>\r\n    <use x=\"1280.025391\" xlink:href=\"#DejaVuSans-58\"/>\r\n    <use x=\"1313.716797\" xlink:href=\"#DejaVuSans-32\"/>\r\n    <use x=\"1345.503906\" xlink:href=\"#DejaVuSans-57\"/>\r\n    <use x=\"1409.126953\" xlink:href=\"#DejaVuSans-46\"/>\r\n    <use x=\"1440.914062\" xlink:href=\"#DejaVuSans-52\"/>\r\n    <use x=\"1504.537109\" xlink:href=\"#DejaVuSans-54\"/>\r\n    <use x=\"1568.160156\" xlink:href=\"#DejaVuSans-55\"/>\r\n    <use x=\"1631.783203\" xlink:href=\"#DejaVuSans-53\"/>\r\n   </g>\r\n  </g>\r\n </g>\r\n <defs>\r\n  <clipPath id=\"p50e701e57e\">\r\n   <rect height=\"597.96\" width=\"597.96\" x=\"26.925\" y=\"83.477344\"/>\r\n  </clipPath>\r\n </defs>\r\n</svg>\r\n",
      "image/png": "[encoded data removed]"
     },
     "metadata": {
      "needs_background": "light"
     }
    },
    {
     "output_type": "stream",
     "name": "stdout",
     "text": [
      "Time to execute: 0.70516 s.\n"
     ]
    },
    {
     "output_type": "execute_result",
     "data": {
      "text/plain": [
       "<13x13 sparse matrix of type '<class 'numpy.intc'>'\n",
       "\twith 32 stored elements in Compressed Sparse Row format>"
      ]
     },
     "metadata": {},
     "execution_count": 12
    }
   ],
   "source": [
    "sparse.sparse_matrix()"
   ]
  },
  {
   "cell_type": "code",
   "execution_count": 20,
   "metadata": {},
   "outputs": [
    {
     "output_type": "stream",
     "name": "stdout",
     "text": [
      "Time to execute: 0.08503 s.\n"
     ]
    },
    {
     "output_type": "display_data",
     "data": {
      "application/vnd.plotly.v1+json": {
       "config": {
        "plotlyServerURL": "https://plot.ly"
       },
       "data": [
        {
         "hovertemplate": "Date=%{x}<br>Deaths=%{y}<extra></extra>",
         "legendgroup": "",
         "marker": {
          "color": "#636efa",
          "opacity": 0.65,
          "symbol": "circle"
         },
         "mode": "markers",
         "name": "",
         "orientation": "v",
         "showlegend": false,
         "type": "scatter",
         "x": [
          "2020-03-18T00:00:00",
          "2020-03-19T00:00:00",
          "2020-03-20T00:00:00",
          "2020-03-21T00:00:00",
          "2020-03-22T00:00:00",
          "2020-03-23T00:00:00",
          "2020-03-24T00:00:00",
          "2020-03-25T00:00:00",
          "2020-03-26T00:00:00",
          "2020-03-27T00:00:00",
          "2020-03-28T00:00:00",
          "2020-03-29T00:00:00",
          "2020-03-30T00:00:00",
          "2020-03-31T00:00:00",
          "2020-04-01T00:00:00",
          "2020-04-02T00:00:00",
          "2020-04-03T00:00:00",
          "2020-04-04T00:00:00",
          "2020-04-05T00:00:00",
          "2020-04-06T00:00:00",
          "2020-04-07T00:00:00",
          "2020-04-08T00:00:00",
          "2020-04-09T00:00:00",
          "2020-04-10T00:00:00",
          "2020-04-11T00:00:00",
          "2020-04-12T00:00:00",
          "2020-04-13T00:00:00",
          "2020-04-14T00:00:00",
          "2020-04-15T00:00:00",
          "2020-04-16T00:00:00",
          "2020-04-17T00:00:00",
          "2020-04-18T00:00:00",
          "2020-04-19T00:00:00",
          "2020-04-20T00:00:00",
          "2020-04-21T00:00:00",
          "2020-04-22T00:00:00",
          "2020-04-23T00:00:00",
          "2020-04-24T00:00:00",
          "2020-04-25T00:00:00",
          "2020-04-26T00:00:00",
          "2020-04-27T00:00:00",
          "2020-04-28T00:00:00",
          "2020-04-29T00:00:00",
          "2020-04-30T00:00:00",
          "2020-05-01T00:00:00",
          "2020-05-02T00:00:00",
          "2020-05-03T00:00:00",
          "2020-05-04T00:00:00",
          "2020-05-05T00:00:00",
          "2020-05-06T00:00:00",
          "2020-05-07T00:00:00",
          "2020-05-08T00:00:00",
          "2020-05-09T00:00:00",
          "2020-05-10T00:00:00",
          "2020-05-11T00:00:00",
          "2020-05-12T00:00:00",
          "2020-05-13T00:00:00",
          "2020-05-14T00:00:00",
          "2020-05-15T00:00:00",
          "2020-05-16T00:00:00",
          "2020-05-17T00:00:00",
          "2020-05-18T00:00:00",
          "2020-05-19T00:00:00",
          "2020-05-20T00:00:00",
          "2020-05-21T00:00:00",
          "2020-05-22T00:00:00",
          "2020-05-23T00:00:00",
          "2020-05-24T00:00:00",
          "2020-05-25T00:00:00",
          "2020-05-26T00:00:00",
          "2020-05-27T00:00:00",
          "2020-05-28T00:00:00",
          "2020-05-29T00:00:00",
          "2020-05-30T00:00:00",
          "2020-05-31T00:00:00",
          "2020-06-01T00:00:00",
          "2020-06-02T00:00:00",
          "2020-06-03T00:00:00",
          "2020-06-04T00:00:00",
          "2020-06-05T00:00:00",
          "2020-06-06T00:00:00",
          "2020-06-07T00:00:00",
          "2020-06-08T00:00:00",
          "2020-06-09T00:00:00",
          "2020-06-10T00:00:00",
          "2020-06-11T00:00:00",
          "2020-06-12T00:00:00",
          "2020-06-13T00:00:00",
          "2020-06-14T00:00:00",
          "2020-06-15T00:00:00",
          "2020-06-16T00:00:00",
          "2020-06-17T00:00:00",
          "2020-06-18T00:00:00",
          "2020-06-19T00:00:00",
          "2020-06-20T00:00:00",
          "2020-06-21T00:00:00",
          "2020-06-22T00:00:00",
          "2020-06-23T00:00:00",
          "2020-06-24T00:00:00",
          "2020-06-25T00:00:00",
          "2020-06-26T00:00:00",
          "2020-06-27T00:00:00",
          "2020-06-28T00:00:00",
          "2020-06-29T00:00:00",
          "2020-06-30T00:00:00",
          "2020-07-01T00:00:00",
          "2020-07-02T00:00:00",
          "2020-07-03T00:00:00",
          "2020-07-04T00:00:00",
          "2020-07-05T00:00:00",
          "2020-07-06T00:00:00",
          "2020-07-07T00:00:00",
          "2020-07-08T00:00:00",
          "2020-07-09T00:00:00",
          "2020-07-10T00:00:00",
          "2020-07-11T00:00:00",
          "2020-07-12T00:00:00",
          "2020-07-13T00:00:00",
          "2020-07-14T00:00:00",
          "2020-07-15T00:00:00",
          "2020-07-16T00:00:00",
          "2020-07-17T00:00:00",
          "2020-07-18T00:00:00",
          "2020-07-19T00:00:00",
          "2020-07-20T00:00:00",
          "2020-07-21T00:00:00",
          "2020-07-22T00:00:00",
          "2020-07-23T00:00:00",
          "2020-07-24T00:00:00",
          "2020-07-25T00:00:00",
          "2020-07-26T00:00:00",
          "2020-07-27T00:00:00",
          "2020-07-28T00:00:00",
          "2020-07-29T00:00:00",
          "2020-07-30T00:00:00",
          "2020-07-31T00:00:00",
          "2020-08-01T00:00:00",
          "2020-08-02T00:00:00",
          "2020-08-03T00:00:00",
          "2020-08-04T00:00:00",
          "2020-08-05T00:00:00",
          "2020-08-06T00:00:00",
          "2020-08-07T00:00:00",
          "2020-08-08T00:00:00",
          "2020-08-09T00:00:00",
          "2020-08-10T00:00:00",
          "2020-08-11T00:00:00",
          "2020-08-12T00:00:00",
          "2020-08-13T00:00:00",
          "2020-08-14T00:00:00",
          "2020-08-15T00:00:00",
          "2020-08-16T00:00:00",
          "2020-08-17T00:00:00",
          "2020-08-18T00:00:00",
          "2020-08-19T00:00:00",
          "2020-08-20T00:00:00",
          "2020-08-21T00:00:00",
          "2020-08-22T00:00:00",
          "2020-08-23T00:00:00",
          "2020-08-24T00:00:00",
          "2020-08-25T00:00:00",
          "2020-08-26T00:00:00",
          "2020-08-27T00:00:00",
          "2020-08-28T00:00:00",
          "2020-08-29T00:00:00",
          "2020-08-30T00:00:00",
          "2020-08-31T00:00:00",
          "2020-09-01T00:00:00",
          "2020-09-02T00:00:00",
          "2020-09-03T00:00:00",
          "2020-09-04T00:00:00",
          "2020-09-05T00:00:00",
          "2020-09-06T00:00:00",
          "2020-09-07T00:00:00",
          "2020-09-08T00:00:00",
          "2020-09-09T00:00:00",
          "2020-09-10T00:00:00",
          "2020-09-11T00:00:00",
          "2020-09-12T00:00:00",
          "2020-09-13T00:00:00",
          "2020-09-14T00:00:00",
          "2020-09-15T00:00:00",
          "2020-09-16T00:00:00",
          "2020-09-17T00:00:00",
          "2020-09-18T00:00:00",
          "2020-09-19T00:00:00",
          "2020-09-20T00:00:00",
          "2020-09-21T00:00:00",
          "2020-09-22T00:00:00",
          "2020-09-23T00:00:00",
          "2020-09-24T00:00:00",
          "2020-09-25T00:00:00",
          "2020-09-26T00:00:00",
          "2020-09-27T00:00:00",
          "2020-09-28T00:00:00",
          "2020-09-29T00:00:00",
          "2020-09-30T00:00:00",
          "2020-10-01T00:00:00",
          "2020-10-02T00:00:00",
          "2020-10-03T00:00:00",
          "2020-10-04T00:00:00",
          "2020-10-05T00:00:00",
          "2020-10-06T00:00:00",
          "2020-10-07T00:00:00",
          "2020-10-08T00:00:00",
          "2020-10-09T00:00:00",
          "2020-10-10T00:00:00",
          "2020-10-11T00:00:00",
          "2020-10-12T00:00:00",
          "2020-10-13T00:00:00",
          "2020-10-14T00:00:00",
          "2020-10-15T00:00:00",
          "2020-10-16T00:00:00",
          "2020-10-17T00:00:00",
          "2020-10-18T00:00:00",
          "2020-10-19T00:00:00",
          "2020-10-20T00:00:00",
          "2020-10-21T00:00:00",
          "2020-10-22T00:00:00",
          "2020-10-23T00:00:00",
          "2020-10-24T00:00:00",
          "2020-10-25T00:00:00",
          "2020-10-26T00:00:00",
          "2020-10-27T00:00:00",
          "2020-10-28T00:00:00",
          "2020-10-29T00:00:00",
          "2020-10-30T00:00:00",
          "2020-10-31T00:00:00",
          "2020-11-01T00:00:00",
          "2020-11-02T00:00:00",
          "2020-11-03T00:00:00",
          "2020-11-04T00:00:00",
          "2020-11-05T00:00:00",
          "2020-11-06T00:00:00",
          "2020-11-07T00:00:00",
          "2020-11-08T00:00:00",
          "2020-11-09T00:00:00",
          "2020-11-10T00:00:00",
          "2020-11-11T00:00:00",
          "2020-11-12T00:00:00",
          "2020-11-13T00:00:00",
          "2020-11-14T00:00:00",
          "2020-11-15T00:00:00",
          "2020-11-16T00:00:00",
          "2020-11-17T00:00:00",
          "2020-11-18T00:00:00",
          "2020-11-19T00:00:00",
          "2020-11-20T00:00:00",
          "2020-11-21T00:00:00",
          "2020-11-22T00:00:00",
          "2020-11-23T00:00:00",
          "2020-11-24T00:00:00",
          "2020-11-25T00:00:00",
          "2020-11-26T00:00:00",
          "2020-11-27T00:00:00",
          "2020-11-28T00:00:00",
          "2020-11-29T00:00:00",
          "2020-11-30T00:00:00",
          "2020-12-01T00:00:00",
          "2020-12-02T00:00:00",
          "2020-12-03T00:00:00",
          "2020-12-04T00:00:00",
          "2020-12-05T00:00:00",
          "2020-12-06T00:00:00",
          "2020-12-07T00:00:00",
          "2020-12-08T00:00:00",
          "2020-12-09T00:00:00",
          "2020-12-10T00:00:00",
          "2020-12-11T00:00:00",
          "2020-12-12T00:00:00",
          "2020-12-13T00:00:00",
          "2020-12-14T00:00:00",
          "2020-12-15T00:00:00",
          "2020-12-16T00:00:00",
          "2020-12-17T00:00:00",
          "2020-12-18T00:00:00",
          "2020-12-19T00:00:00",
          "2020-12-20T00:00:00",
          "2020-12-21T00:00:00",
          "2020-12-22T00:00:00",
          "2020-12-23T00:00:00",
          "2020-12-24T00:00:00",
          "2020-12-25T00:00:00",
          "2020-12-26T00:00:00",
          "2020-12-27T00:00:00",
          "2020-12-28T00:00:00",
          "2020-12-29T00:00:00",
          "2020-12-30T00:00:00",
          "2020-12-31T00:00:00",
          "2021-01-01T00:00:00",
          "2021-01-02T00:00:00",
          "2021-01-03T00:00:00",
          "2021-01-04T00:00:00",
          "2021-01-05T00:00:00",
          "2021-01-06T00:00:00",
          "2021-01-07T00:00:00",
          "2021-01-08T00:00:00",
          "2021-01-09T00:00:00",
          "2021-01-10T00:00:00",
          "2021-01-11T00:00:00",
          "2021-01-12T00:00:00",
          "2021-01-13T00:00:00",
          "2021-01-14T00:00:00",
          "2021-01-15T00:00:00",
          "2021-01-16T00:00:00",
          "2021-01-17T00:00:00",
          "2021-01-18T00:00:00",
          "2021-01-19T00:00:00",
          "2021-01-20T00:00:00",
          "2021-01-21T00:00:00",
          "2021-01-22T00:00:00",
          "2021-01-23T00:00:00",
          "2021-01-24T00:00:00",
          "2021-01-25T00:00:00",
          "2021-01-26T00:00:00",
          "2021-01-27T00:00:00",
          "2021-01-28T00:00:00",
          "2021-01-29T00:00:00",
          "2021-01-30T00:00:00",
          "2021-01-31T00:00:00",
          "2021-02-01T00:00:00",
          "2021-02-02T00:00:00",
          "2021-02-03T00:00:00",
          "2021-02-04T00:00:00",
          "2021-02-05T00:00:00",
          "2021-02-06T00:00:00",
          "2021-02-07T00:00:00",
          "2021-02-08T00:00:00",
          "2021-02-09T00:00:00",
          "2021-02-10T00:00:00",
          "2021-02-11T00:00:00",
          "2021-02-12T00:00:00",
          "2021-02-13T00:00:00",
          "2021-02-14T00:00:00",
          "2021-02-15T00:00:00",
          "2021-02-16T00:00:00",
          "2021-02-17T00:00:00",
          "2021-02-18T00:00:00",
          "2021-02-19T00:00:00",
          "2021-02-20T00:00:00",
          "2021-02-21T00:00:00",
          "2021-02-22T00:00:00",
          "2021-02-23T00:00:00",
          "2021-02-24T00:00:00",
          "2021-02-25T00:00:00",
          "2021-02-26T00:00:00",
          "2021-02-27T00:00:00",
          "2021-02-28T00:00:00",
          "2021-03-01T00:00:00",
          "2021-03-02T00:00:00",
          "2021-03-03T00:00:00",
          "2021-03-04T00:00:00",
          "2021-03-05T00:00:00",
          "2021-03-06T00:00:00",
          "2021-03-07T00:00:00",
          "2021-03-08T00:00:00",
          "2021-03-09T00:00:00",
          "2021-03-10T00:00:00",
          "2021-03-11T00:00:00",
          "2021-03-12T00:00:00",
          "2021-03-13T00:00:00",
          "2021-03-14T00:00:00",
          "2021-03-15T00:00:00",
          "2021-03-16T00:00:00",
          "2021-03-17T00:00:00",
          "2021-03-18T00:00:00",
          "2021-03-19T00:00:00",
          "2021-03-20T00:00:00",
          "2021-03-21T00:00:00",
          "2021-03-22T00:00:00",
          "2021-03-23T00:00:00",
          "2021-03-24T00:00:00",
          "2021-03-25T00:00:00",
          "2021-03-26T00:00:00",
          "2021-03-27T00:00:00",
          "2021-03-28T00:00:00",
          "2021-03-29T00:00:00",
          "2021-03-30T00:00:00",
          "2021-03-31T00:00:00",
          "2021-04-01T00:00:00",
          "2021-04-02T00:00:00",
          "2021-04-03T00:00:00",
          "2021-04-04T00:00:00",
          "2021-04-05T00:00:00",
          "2021-04-06T00:00:00",
          "2021-04-07T00:00:00",
          "2021-04-08T00:00:00",
          "2021-04-09T00:00:00",
          "2021-04-10T00:00:00",
          "2021-04-11T00:00:00",
          "2021-04-12T00:00:00",
          "2021-04-13T00:00:00",
          "2021-04-14T00:00:00",
          "2021-04-15T00:00:00",
          "2021-04-16T00:00:00",
          "2021-04-17T00:00:00",
          "2021-04-18T00:00:00",
          "2021-04-19T00:00:00",
          "2021-04-20T00:00:00",
          "2021-04-21T00:00:00",
          "2021-04-22T00:00:00"
         ],
         "xaxis": "x",
         "y": [
          12,
          34,
          42,
          52,
          56,
          64,
          78,
          92,
          108,
          122,
          136,
          152,
          164,
          182,
          216,
          238,
          262,
          296,
          316,
          344,
          360,
          390,
          406,
          444,
          466,
          478,
          496,
          532,
          556,
          562,
          580,
          584,
          590,
          624,
          644,
          656,
          683,
          712,
          722,
          724,
          746,
          766,
          780,
          802,
          788,
          818,
          820,
          848,
          872,
          882,
          896,
          900,
          904,
          906,
          908,
          918,
          920,
          930,
          934,
          938,
          940,
          944,
          942,
          954,
          956,
          962,
          964,
          966,
          972,
          976,
          976,
          982,
          984,
          984,
          990,
          992,
          994,
          998,
          998,
          1002,
          1004,
          1004,
          1004,
          1006,
          1006,
          1008,
          1012,
          1012,
          1012,
          1016,
          1016,
          1016,
          1016,
          1016,
          1016,
          1016,
          1016,
          1016,
          1020,
          1022,
          1022,
          1024,
          1024,
          1024,
          1024,
          1024,
          1024,
          1024,
          1024,
          1024,
          1024,
          1024,
          1024,
          1024,
          1026,
          1026,
          1026,
          1026,
          1026,
          1026,
          1026,
          1026,
          1026,
          1026,
          1026,
          1026,
          1026,
          1026,
          1026,
          1026,
          1026,
          1026,
          1026,
          1028,
          1028,
          1028,
          1028,
          1028,
          1030,
          1030,
          1030,
          1030,
          1030,
          1030,
          1030,
          1030,
          1032,
          1032,
          1032,
          1032,
          1032,
          1032,
          1036,
          1036,
          1038,
          1040,
          1040,
          1040,
          1040,
          1042,
          1042,
          1042,
          1046,
          1048,
          1050,
          1050,
          1058,
          1060,
          1060,
          1060,
          1066,
          1068,
          1068,
          1070,
          1072,
          1074,
          1076,
          1086,
          1088,
          1088,
          1092,
          1100,
          1104,
          1112,
          1116,
          1122,
          1122,
          1134,
          1144,
          1150,
          1160,
          1162,
          1164,
          1166,
          1178,
          1184,
          1194,
          1200,
          1208,
          1212,
          1218,
          1234,
          1238,
          1244,
          1252,
          1258,
          1262,
          1276,
          1284,
          1306,
          1328,
          1346,
          1372,
          1392,
          1418,
          1444,
          1472,
          1498,
          1540,
          1556,
          1578,
          1594,
          1648,
          1684,
          1744,
          1794,
          1848,
          1890,
          1914,
          1968,
          2028,
          2078,
          2146,
          2214,
          2252,
          2296,
          2368,
          2404,
          2464,
          2493,
          2567,
          2615,
          2679,
          2745,
          2799,
          2857,
          2921,
          2959,
          2999,
          3023,
          3099,
          3155,
          3187,
          3223,
          3261,
          3295,
          3333,
          3389,
          3423,
          3455,
          3497,
          3529,
          3559,
          3583,
          3629,
          3671,
          3701,
          3715,
          3747,
          3767,
          3779,
          3815,
          3825,
          3861,
          3885,
          3925,
          3935,
          3955,
          3991,
          4029,
          4049,
          4069,
          4091,
          4117,
          4137,
          4181,
          4205,
          4227,
          4265,
          4279,
          4289,
          4307,
          4347,
          4363,
          4401,
          4439,
          4477,
          4499,
          4515,
          4539,
          4569,
          4595,
          4633,
          4669,
          4687,
          4703,
          4735,
          4765,
          4797,
          4841,
          4861,
          4901,
          4915,
          4963,
          5021,
          5081,
          5123,
          5183,
          5205,
          5233,
          5290,
          5362,
          5413,
          5491,
          5537,
          5562,
          5578,
          5624,
          5710,
          5762,
          5822,
          5869,
          5907,
          5925,
          6009,
          6057,
          6117,
          6139,
          6167,
          6207,
          6217,
          6253,
          6281,
          6319,
          6345,
          6372,
          6400,
          6412,
          6432,
          6472,
          6532,
          6566,
          6598,
          6614,
          6622,
          6660,
          6674,
          6696,
          6714,
          6738,
          6760,
          6770,
          6792,
          6828,
          6850,
          6858,
          6892,
          6908,
          6922,
          6958,
          6982,
          7004,
          7034,
          7054,
          7066,
          7070,
          7106,
          7142,
          7178,
          7226,
          7274,
          7298,
          7324,
          7342,
          7382,
          7444,
          7508,
          7564,
          7616,
          7648,
          7682,
          7740,
          7782,
          7810,
          7838,
          7864,
          7880,
          7932,
          7974,
          8012,
          8048
         ],
         "yaxis": "y"
        }
       ],
       "layout": {
        "legend": {
         "tracegroupgap": 0
        },
        "template": {
         "data": {
          "bar": [
           {
            "error_x": {
             "color": "#2a3f5f"
            },
            "error_y": {
             "color": "#2a3f5f"
            },
            "marker": {
             "line": {
              "color": "#E5ECF6",
              "width": 0.5
             }
            },
            "type": "bar"
           }
          ],
          "barpolar": [
           {
            "marker": {
             "line": {
              "color": "#E5ECF6",
              "width": 0.5
             }
            },
            "type": "barpolar"
           }
          ],
          "carpet": [
           {
            "aaxis": {
             "endlinecolor": "#2a3f5f",
             "gridcolor": "white",
             "linecolor": "white",
             "minorgridcolor": "white",
             "startlinecolor": "#2a3f5f"
            },
            "baxis": {
             "endlinecolor": "#2a3f5f",
             "gridcolor": "white",
             "linecolor": "white",
             "minorgridcolor": "white",
             "startlinecolor": "#2a3f5f"
            },
            "type": "carpet"
           }
          ],
          "choropleth": [
           {
            "colorbar": {
             "outlinewidth": 0,
             "ticks": ""
            },
            "type": "choropleth"
           }
          ],
          "contour": [
           {
            "colorbar": {
             "outlinewidth": 0,
             "ticks": ""
            },
            "colorscale": [
             [
              0,
              "#0d0887"
             ],
             [
              0.1111111111111111,
              "#46039f"
             ],
             [
              0.2222222222222222,
              "#7201a8"
             ],
             [
              0.3333333333333333,
              "#9c179e"
             ],
             [
              0.4444444444444444,
              "#bd3786"
             ],
             [
              0.5555555555555556,
              "#d8576b"
             ],
             [
              0.6666666666666666,
              "#ed7953"
             ],
             [
              0.7777777777777778,
              "#fb9f3a"
             ],
             [
              0.8888888888888888,
              "#fdca26"
             ],
             [
              1,
              "#f0f921"
             ]
            ],
            "type": "contour"
           }
          ],
          "contourcarpet": [
           {
            "colorbar": {
             "outlinewidth": 0,
             "ticks": ""
            },
            "type": "contourcarpet"
           }
          ],
          "heatmap": [
           {
            "colorbar": {
             "outlinewidth": 0,
             "ticks": ""
            },
            "colorscale": [
             [
              0,
              "#0d0887"
             ],
             [
              0.1111111111111111,
              "#46039f"
             ],
             [
              0.2222222222222222,
              "#7201a8"
             ],
             [
              0.3333333333333333,
              "#9c179e"
             ],
             [
              0.4444444444444444,
              "#bd3786"
             ],
             [
              0.5555555555555556,
              "#d8576b"
             ],
             [
              0.6666666666666666,
              "#ed7953"
             ],
             [
              0.7777777777777778,
              "#fb9f3a"
             ],
             [
              0.8888888888888888,
              "#fdca26"
             ],
             [
              1,
              "#f0f921"
             ]
            ],
            "type": "heatmap"
           }
          ],
          "heatmapgl": [
           {
            "colorbar": {
             "outlinewidth": 0,
             "ticks": ""
            },
            "colorscale": [
             [
              0,
              "#0d0887"
             ],
             [
              0.1111111111111111,
              "#46039f"
             ],
             [
              0.2222222222222222,
              "#7201a8"
             ],
             [
              0.3333333333333333,
              "#9c179e"
             ],
             [
              0.4444444444444444,
              "#bd3786"
             ],
             [
              0.5555555555555556,
              "#d8576b"
             ],
             [
              0.6666666666666666,
              "#ed7953"
             ],
             [
              0.7777777777777778,
              "#fb9f3a"
             ],
             [
              0.8888888888888888,
              "#fdca26"
             ],
             [
              1,
              "#f0f921"
             ]
            ],
            "type": "heatmapgl"
           }
          ],
          "histogram": [
           {
            "marker": {
             "colorbar": {
              "outlinewidth": 0,
              "ticks": ""
             }
            },
            "type": "histogram"
           }
          ],
          "histogram2d": [
           {
            "colorbar": {
             "outlinewidth": 0,
             "ticks": ""
            },
            "colorscale": [
             [
              0,
              "#0d0887"
             ],
             [
              0.1111111111111111,
              "#46039f"
             ],
             [
              0.2222222222222222,
              "#7201a8"
             ],
             [
              0.3333333333333333,
              "#9c179e"
             ],
             [
              0.4444444444444444,
              "#bd3786"
             ],
             [
              0.5555555555555556,
              "#d8576b"
             ],
             [
              0.6666666666666666,
              "#ed7953"
             ],
             [
              0.7777777777777778,
              "#fb9f3a"
             ],
             [
              0.8888888888888888,
              "#fdca26"
             ],
             [
              1,
              "#f0f921"
             ]
            ],
            "type": "histogram2d"
           }
          ],
          "histogram2dcontour": [
           {
            "colorbar": {
             "outlinewidth": 0,
             "ticks": ""
            },
            "colorscale": [
             [
              0,
              "#0d0887"
             ],
             [
              0.1111111111111111,
              "#46039f"
             ],
             [
              0.2222222222222222,
              "#7201a8"
             ],
             [
              0.3333333333333333,
              "#9c179e"
             ],
             [
              0.4444444444444444,
              "#bd3786"
             ],
             [
              0.5555555555555556,
              "#d8576b"
             ],
             [
              0.6666666666666666,
              "#ed7953"
             ],
             [
              0.7777777777777778,
              "#fb9f3a"
             ],
             [
              0.8888888888888888,
              "#fdca26"
             ],
             [
              1,
              "#f0f921"
             ]
            ],
            "type": "histogram2dcontour"
           }
          ],
          "mesh3d": [
           {
            "colorbar": {
             "outlinewidth": 0,
             "ticks": ""
            },
            "type": "mesh3d"
           }
          ],
          "parcoords": [
           {
            "line": {
             "colorbar": {
              "outlinewidth": 0,
              "ticks": ""
             }
            },
            "type": "parcoords"
           }
          ],
          "pie": [
           {
            "automargin": true,
            "type": "pie"
           }
          ],
          "scatter": [
           {
            "marker": {
             "colorbar": {
              "outlinewidth": 0,
              "ticks": ""
             }
            },
            "type": "scatter"
           }
          ],
          "scatter3d": [
           {
            "line": {
             "colorbar": {
              "outlinewidth": 0,
              "ticks": ""
             }
            },
            "marker": {
             "colorbar": {
              "outlinewidth": 0,
              "ticks": ""
             }
            },
            "type": "scatter3d"
           }
          ],
          "scattercarpet": [
           {
            "marker": {
             "colorbar": {
              "outlinewidth": 0,
              "ticks": ""
             }
            },
            "type": "scattercarpet"
           }
          ],
          "scattergeo": [
           {
            "marker": {
             "colorbar": {
              "outlinewidth": 0,
              "ticks": ""
             }
            },
            "type": "scattergeo"
           }
          ],
          "scattergl": [
           {
            "marker": {
             "colorbar": {
              "outlinewidth": 0,
              "ticks": ""
             }
            },
            "type": "scattergl"
           }
          ],
          "scattermapbox": [
           {
            "marker": {
             "colorbar": {
              "outlinewidth": 0,
              "ticks": ""
             }
            },
            "type": "scattermapbox"
           }
          ],
          "scatterpolar": [
           {
            "marker": {
             "colorbar": {
              "outlinewidth": 0,
              "ticks": ""
             }
            },
            "type": "scatterpolar"
           }
          ],
          "scatterpolargl": [
           {
            "marker": {
             "colorbar": {
              "outlinewidth": 0,
              "ticks": ""
             }
            },
            "type": "scatterpolargl"
           }
          ],
          "scatterternary": [
           {
            "marker": {
             "colorbar": {
              "outlinewidth": 0,
              "ticks": ""
             }
            },
            "type": "scatterternary"
           }
          ],
          "surface": [
           {
            "colorbar": {
             "outlinewidth": 0,
             "ticks": ""
            },
            "colorscale": [
             [
              0,
              "#0d0887"
             ],
             [
              0.1111111111111111,
              "#46039f"
             ],
             [
              0.2222222222222222,
              "#7201a8"
             ],
             [
              0.3333333333333333,
              "#9c179e"
             ],
             [
              0.4444444444444444,
              "#bd3786"
             ],
             [
              0.5555555555555556,
              "#d8576b"
             ],
             [
              0.6666666666666666,
              "#ed7953"
             ],
             [
              0.7777777777777778,
              "#fb9f3a"
             ],
             [
              0.8888888888888888,
              "#fdca26"
             ],
             [
              1,
              "#f0f921"
             ]
            ],
            "type": "surface"
           }
          ],
          "table": [
           {
            "cells": {
             "fill": {
              "color": "#EBF0F8"
             },
             "line": {
              "color": "white"
             }
            },
            "header": {
             "fill": {
              "color": "#C8D4E3"
             },
             "line": {
              "color": "white"
             }
            },
            "type": "table"
           }
          ]
         },
         "layout": {
          "annotationdefaults": {
           "arrowcolor": "#2a3f5f",
           "arrowhead": 0,
           "arrowwidth": 1
          },
          "autotypenumbers": "strict",
          "coloraxis": {
           "colorbar": {
            "outlinewidth": 0,
            "ticks": ""
           }
          },
          "colorscale": {
           "diverging": [
            [
             0,
             "#8e0152"
            ],
            [
             0.1,
             "#c51b7d"
            ],
            [
             0.2,
             "#de77ae"
            ],
            [
             0.3,
             "#f1b6da"
            ],
            [
             0.4,
             "#fde0ef"
            ],
            [
             0.5,
             "#f7f7f7"
            ],
            [
             0.6,
             "#e6f5d0"
            ],
            [
             0.7,
             "#b8e186"
            ],
            [
             0.8,
             "#7fbc41"
            ],
            [
             0.9,
             "#4d9221"
            ],
            [
             1,
             "#276419"
            ]
           ],
           "sequential": [
            [
             0,
             "#0d0887"
            ],
            [
             0.1111111111111111,
             "#46039f"
            ],
            [
             0.2222222222222222,
             "#7201a8"
            ],
            [
             0.3333333333333333,
             "#9c179e"
            ],
            [
             0.4444444444444444,
             "#bd3786"
            ],
            [
             0.5555555555555556,
             "#d8576b"
            ],
            [
             0.6666666666666666,
             "#ed7953"
            ],
            [
             0.7777777777777778,
             "#fb9f3a"
            ],
            [
             0.8888888888888888,
             "#fdca26"
            ],
            [
             1,
             "#f0f921"
            ]
           ],
           "sequentialminus": [
            [
             0,
             "#0d0887"
            ],
            [
             0.1111111111111111,
             "#46039f"
            ],
            [
             0.2222222222222222,
             "#7201a8"
            ],
            [
             0.3333333333333333,
             "#9c179e"
            ],
            [
             0.4444444444444444,
             "#bd3786"
            ],
            [
             0.5555555555555556,
             "#d8576b"
            ],
            [
             0.6666666666666666,
             "#ed7953"
            ],
            [
             0.7777777777777778,
             "#fb9f3a"
            ],
            [
             0.8888888888888888,
             "#fdca26"
            ],
            [
             1,
             "#f0f921"
            ]
           ]
          },
          "colorway": [
           "#636efa",
           "#EF553B",
           "#00cc96",
           "#ab63fa",
           "#FFA15A",
           "#19d3f3",
           "#FF6692",
           "#B6E880",
           "#FF97FF",
           "#FECB52"
          ],
          "font": {
           "color": "#2a3f5f"
          },
          "geo": {
           "bgcolor": "white",
           "lakecolor": "white",
           "landcolor": "#E5ECF6",
           "showlakes": true,
           "showland": true,
           "subunitcolor": "white"
          },
          "hoverlabel": {
           "align": "left"
          },
          "hovermode": "closest",
          "mapbox": {
           "style": "light"
          },
          "paper_bgcolor": "white",
          "plot_bgcolor": "#E5ECF6",
          "polar": {
           "angularaxis": {
            "gridcolor": "white",
            "linecolor": "white",
            "ticks": ""
           },
           "bgcolor": "#E5ECF6",
           "radialaxis": {
            "gridcolor": "white",
            "linecolor": "white",
            "ticks": ""
           }
          },
          "scene": {
           "xaxis": {
            "backgroundcolor": "#E5ECF6",
            "gridcolor": "white",
            "gridwidth": 2,
            "linecolor": "white",
            "showbackground": true,
            "ticks": "",
            "zerolinecolor": "white"
           },
           "yaxis": {
            "backgroundcolor": "#E5ECF6",
            "gridcolor": "white",
            "gridwidth": 2,
            "linecolor": "white",
            "showbackground": true,
            "ticks": "",
            "zerolinecolor": "white"
           },
           "zaxis": {
            "backgroundcolor": "#E5ECF6",
            "gridcolor": "white",
            "gridwidth": 2,
            "linecolor": "white",
            "showbackground": true,
            "ticks": "",
            "zerolinecolor": "white"
           }
          },
          "shapedefaults": {
           "line": {
            "color": "#2a3f5f"
           }
          },
          "ternary": {
           "aaxis": {
            "gridcolor": "white",
            "linecolor": "white",
            "ticks": ""
           },
           "baxis": {
            "gridcolor": "white",
            "linecolor": "white",
            "ticks": ""
           },
           "bgcolor": "#E5ECF6",
           "caxis": {
            "gridcolor": "white",
            "linecolor": "white",
            "ticks": ""
           }
          },
          "title": {
           "x": 0.05
          },
          "xaxis": {
           "automargin": true,
           "gridcolor": "white",
           "linecolor": "white",
           "ticks": "",
           "title": {
            "standoff": 15
           },
           "zerolinecolor": "white",
           "zerolinewidth": 2
          },
          "yaxis": {
           "automargin": true,
           "gridcolor": "white",
           "linecolor": "white",
           "ticks": "",
           "title": {
            "standoff": 15
           },
           "zerolinecolor": "white",
           "zerolinewidth": 2
          }
         }
        },
        "title": {
         "text": "Scatter plot of the evolution of Deaths in Occitanie"
        },
        "xaxis": {
         "anchor": "y",
         "domain": [
          0,
          1
         ],
         "title": {
          "text": "Date"
         }
        },
        "yaxis": {
         "anchor": "x",
         "domain": [
          0,
          1
         ],
         "title": {
          "text": "Deaths"
         }
        }
       }
      }
     },
     "metadata": {}
    }
   ],
   "source": [
    "#Regression\r\n",
    "regression.scatter_reg(7, 76, save = False)"
   ]
  },
  {
   "cell_type": "code",
   "execution_count": 21,
   "metadata": {},
   "outputs": [
    {
     "output_type": "stream",
     "name": "stderr",
     "text": [
      "c:\\users\\quenf\\vizcovidfr\\vizcovidfr\\regression\\regression.py:271: FutureWarning:\n",
      "\n",
      "Support for multi-dimensional indexing (e.g. `obj[:, None]`) is deprecated and will be removed in a future version.  Convert to a numpy array before indexing instead.\n",
      "\n",
      "Time to execute: 0.48504 s.\n"
     ]
    },
    {
     "output_type": "display_data",
     "data": {
      "text/plain": "<Figure size 432x288 with 1 Axes>",
      "image/svg+xml": "<?xml version=\"1.0\" encoding=\"utf-8\" standalone=\"no\"?>\r\n<!DOCTYPE svg PUBLIC \"-//W3C//DTD SVG 1.1//EN\"\r\n  \"http://www.w3.org/Graphics/SVG/1.1/DTD/svg11.dtd\">\r\n<!-- Created with matplotlib (https://matplotlib.org/) -->\r\n<svg height=\"277.318125pt\" version=\"1.1\" viewBox=\"0 0 394.171406 277.318125\" width=\"394.171406pt\" xmlns=\"http://www.w3.org/2000/svg\" xmlns:xlink=\"http://www.w3.org/1999/xlink\">\r\n <metadata>\r\n  <rdf:RDF xmlns:cc=\"http://creativecommons.org/ns#\" xmlns:dc=\"http://purl.org/dc/elements/1.1/\" xmlns:rdf=\"http://www.w3.org/1999/02/22-rdf-syntax-ns#\">\r\n   <cc:Work>\r\n    <dc:type rdf:resource=\"http://purl.org/dc/dcmitype/StillImage\"/>\r\n    <dc:date>2021-04-23T01:08:28.895519</dc:date>\r\n    <dc:format>image/svg+xml</dc:format>\r\n    <dc:creator>\r\n     <cc:Agent>\r\n      <dc:title>Matplotlib v3.3.2, https://matplotlib.org/</dc:title>\r\n     </cc:Agent>\r\n    </dc:creator>\r\n   </cc:Work>\r\n  </rdf:RDF>\r\n </metadata>\r\n <defs>\r\n  <style type=\"text/css\">*{stroke-linecap:butt;stroke-linejoin:round;}</style>\r\n </defs>\r\n <g id=\"figure_1\">\r\n  <g id=\"patch_1\">\r\n   <path d=\"M -0 277.318125 \r\nL 394.171406 277.318125 \r\nL 394.171406 0 \r\nL -0 0 \r\nz\r\n\" style=\"fill:none;\"/>\r\n  </g>\r\n  <g id=\"axes_1\">\r\n   <g id=\"patch_2\">\r\n    <path d=\"M 39.65 253.44 \r\nL 374.45 253.44 \r\nL 374.45 36 \r\nL 39.65 36 \r\nz\r\n\" style=\"fill:#ffffff;\"/>\r\n   </g>\r\n   <g id=\"PathCollection_1\">\r\n    <defs>\r\n     <path d=\"M 0 3 \r\nC 0.795609 3 1.55874 2.683901 2.12132 2.12132 \r\nC 2.683901 1.55874 3 0.795609 3 0 \r\nC 3 -0.795609 2.683901 -1.55874 2.12132 -2.12132 \r\nC 1.55874 -2.683901 0.795609 -3 0 -3 \r\nC -0.795609 -3 -1.55874 -2.683901 -2.12132 -2.12132 \r\nC -2.683901 -1.55874 -3 -0.795609 -3 0 \r\nC -3 0.795609 -2.683901 1.55874 -2.12132 2.12132 \r\nC -1.55874 2.683901 -0.795609 3 0 3 \r\nz\r\n\" id=\"m5cba5b339a\" style=\"stroke:#1f77b4;\"/>\r\n    </defs>\r\n    <g clip-path=\"url(#peedf1e9b8a)\">\r\n     <use style=\"fill:#1f77b4;stroke:#1f77b4;\" x=\"54.868182\" xlink:href=\"#m5cba5b339a\" y=\"243.473607\"/>\r\n     <use style=\"fill:#1f77b4;stroke:#1f77b4;\" x=\"55.629091\" xlink:href=\"#m5cba5b339a\" y=\"242.937278\"/>\r\n     <use style=\"fill:#1f77b4;stroke:#1f77b4;\" x=\"56.39\" xlink:href=\"#m5cba5b339a\" y=\"242.742249\"/>\r\n     <use style=\"fill:#1f77b4;stroke:#1f77b4;\" x=\"57.150909\" xlink:href=\"#m5cba5b339a\" y=\"242.498463\"/>\r\n     <use style=\"fill:#1f77b4;stroke:#1f77b4;\" x=\"57.911818\" xlink:href=\"#m5cba5b339a\" y=\"242.400949\"/>\r\n     <use style=\"fill:#1f77b4;stroke:#1f77b4;\" x=\"58.672727\" xlink:href=\"#m5cba5b339a\" y=\"242.20592\"/>\r\n     <use style=\"fill:#1f77b4;stroke:#1f77b4;\" x=\"59.433636\" xlink:href=\"#m5cba5b339a\" y=\"241.864619\"/>\r\n     <use style=\"fill:#1f77b4;stroke:#1f77b4;\" x=\"60.194545\" xlink:href=\"#m5cba5b339a\" y=\"241.523319\"/>\r\n     <use style=\"fill:#1f77b4;stroke:#1f77b4;\" x=\"60.955455\" xlink:href=\"#m5cba5b339a\" y=\"241.133261\"/>\r\n     <use style=\"fill:#1f77b4;stroke:#1f77b4;\" x=\"61.716364\" xlink:href=\"#m5cba5b339a\" y=\"240.791961\"/>\r\n     <use style=\"fill:#1f77b4;stroke:#1f77b4;\" x=\"62.477273\" xlink:href=\"#m5cba5b339a\" y=\"240.450661\"/>\r\n     <use style=\"fill:#1f77b4;stroke:#1f77b4;\" x=\"63.238182\" xlink:href=\"#m5cba5b339a\" y=\"240.060603\"/>\r\n     <use style=\"fill:#1f77b4;stroke:#1f77b4;\" x=\"63.999091\" xlink:href=\"#m5cba5b339a\" y=\"239.76806\"/>\r\n     <use style=\"fill:#1f77b4;stroke:#1f77b4;\" x=\"64.76\" xlink:href=\"#m5cba5b339a\" y=\"239.329245\"/>\r\n     <use style=\"fill:#1f77b4;stroke:#1f77b4;\" x=\"65.520909\" xlink:href=\"#m5cba5b339a\" y=\"238.500373\"/>\r\n     <use style=\"fill:#1f77b4;stroke:#1f77b4;\" x=\"66.281818\" xlink:href=\"#m5cba5b339a\" y=\"237.964044\"/>\r\n     <use style=\"fill:#1f77b4;stroke:#1f77b4;\" x=\"67.042727\" xlink:href=\"#m5cba5b339a\" y=\"237.378957\"/>\r\n     <use style=\"fill:#1f77b4;stroke:#1f77b4;\" x=\"67.803636\" xlink:href=\"#m5cba5b339a\" y=\"236.550085\"/>\r\n     <use style=\"fill:#1f77b4;stroke:#1f77b4;\" x=\"68.564545\" xlink:href=\"#m5cba5b339a\" y=\"236.062513\"/>\r\n     <use style=\"fill:#1f77b4;stroke:#1f77b4;\" x=\"69.325455\" xlink:href=\"#m5cba5b339a\" y=\"235.379912\"/>\r\n     <use style=\"fill:#1f77b4;stroke:#1f77b4;\" x=\"70.086364\" xlink:href=\"#m5cba5b339a\" y=\"234.989854\"/>\r\n     <use style=\"fill:#1f77b4;stroke:#1f77b4;\" x=\"70.847273\" xlink:href=\"#m5cba5b339a\" y=\"234.258496\"/>\r\n     <use style=\"fill:#1f77b4;stroke:#1f77b4;\" x=\"71.608182\" xlink:href=\"#m5cba5b339a\" y=\"233.868439\"/>\r\n     <use style=\"fill:#1f77b4;stroke:#1f77b4;\" x=\"72.369091\" xlink:href=\"#m5cba5b339a\" y=\"232.942052\"/>\r\n     <use style=\"fill:#1f77b4;stroke:#1f77b4;\" x=\"73.13\" xlink:href=\"#m5cba5b339a\" y=\"232.405723\"/>\r\n     <use style=\"fill:#1f77b4;stroke:#1f77b4;\" x=\"73.890909\" xlink:href=\"#m5cba5b339a\" y=\"232.11318\"/>\r\n     <use style=\"fill:#1f77b4;stroke:#1f77b4;\" x=\"74.651818\" xlink:href=\"#m5cba5b339a\" y=\"231.674365\"/>\r\n     <use style=\"fill:#1f77b4;stroke:#1f77b4;\" x=\"75.412727\" xlink:href=\"#m5cba5b339a\" y=\"230.796735\"/>\r\n     <use style=\"fill:#1f77b4;stroke:#1f77b4;\" x=\"76.173636\" xlink:href=\"#m5cba5b339a\" y=\"230.211649\"/>\r\n     <use style=\"fill:#1f77b4;stroke:#1f77b4;\" x=\"76.934545\" xlink:href=\"#m5cba5b339a\" y=\"230.065377\"/>\r\n     <use style=\"fill:#1f77b4;stroke:#1f77b4;\" x=\"77.695455\" xlink:href=\"#m5cba5b339a\" y=\"229.626563\"/>\r\n     <use style=\"fill:#1f77b4;stroke:#1f77b4;\" x=\"78.456364\" xlink:href=\"#m5cba5b339a\" y=\"229.529048\"/>\r\n     <use style=\"fill:#1f77b4;stroke:#1f77b4;\" x=\"79.217273\" xlink:href=\"#m5cba5b339a\" y=\"229.382777\"/>\r\n     <use style=\"fill:#1f77b4;stroke:#1f77b4;\" x=\"79.978182\" xlink:href=\"#m5cba5b339a\" y=\"228.553904\"/>\r\n     <use style=\"fill:#1f77b4;stroke:#1f77b4;\" x=\"80.739091\" xlink:href=\"#m5cba5b339a\" y=\"228.066332\"/>\r\n     <use style=\"fill:#1f77b4;stroke:#1f77b4;\" x=\"81.5\" xlink:href=\"#m5cba5b339a\" y=\"227.773789\"/>\r\n     <use style=\"fill:#1f77b4;stroke:#1f77b4;\" x=\"82.260909\" xlink:href=\"#m5cba5b339a\" y=\"227.115567\"/>\r\n     <use style=\"fill:#1f77b4;stroke:#1f77b4;\" x=\"83.021818\" xlink:href=\"#m5cba5b339a\" y=\"226.408588\"/>\r\n     <use style=\"fill:#1f77b4;stroke:#1f77b4;\" x=\"83.782727\" xlink:href=\"#m5cba5b339a\" y=\"226.164802\"/>\r\n     <use style=\"fill:#1f77b4;stroke:#1f77b4;\" x=\"84.543636\" xlink:href=\"#m5cba5b339a\" y=\"226.116044\"/>\r\n     <use style=\"fill:#1f77b4;stroke:#1f77b4;\" x=\"85.304545\" xlink:href=\"#m5cba5b339a\" y=\"225.579715\"/>\r\n     <use style=\"fill:#1f77b4;stroke:#1f77b4;\" x=\"86.065455\" xlink:href=\"#m5cba5b339a\" y=\"225.092143\"/>\r\n     <use style=\"fill:#1f77b4;stroke:#1f77b4;\" x=\"86.826364\" xlink:href=\"#m5cba5b339a\" y=\"224.750843\"/>\r\n     <use style=\"fill:#1f77b4;stroke:#1f77b4;\" x=\"87.587273\" xlink:href=\"#m5cba5b339a\" y=\"224.214514\"/>\r\n     <use style=\"fill:#1f77b4;stroke:#1f77b4;\" x=\"88.348182\" xlink:href=\"#m5cba5b339a\" y=\"224.555814\"/>\r\n     <use style=\"fill:#1f77b4;stroke:#1f77b4;\" x=\"89.109091\" xlink:href=\"#m5cba5b339a\" y=\"223.824456\"/>\r\n     <use style=\"fill:#1f77b4;stroke:#1f77b4;\" x=\"89.87\" xlink:href=\"#m5cba5b339a\" y=\"223.775699\"/>\r\n     <use style=\"fill:#1f77b4;stroke:#1f77b4;\" x=\"90.630909\" xlink:href=\"#m5cba5b339a\" y=\"223.093098\"/>\r\n     <use style=\"fill:#1f77b4;stroke:#1f77b4;\" x=\"91.391818\" xlink:href=\"#m5cba5b339a\" y=\"222.508012\"/>\r\n     <use style=\"fill:#1f77b4;stroke:#1f77b4;\" x=\"92.152727\" xlink:href=\"#m5cba5b339a\" y=\"222.264226\"/>\r\n     <use style=\"fill:#1f77b4;stroke:#1f77b4;\" x=\"92.913636\" xlink:href=\"#m5cba5b339a\" y=\"221.922925\"/>\r\n     <use style=\"fill:#1f77b4;stroke:#1f77b4;\" x=\"93.674545\" xlink:href=\"#m5cba5b339a\" y=\"221.825411\"/>\r\n     <use style=\"fill:#1f77b4;stroke:#1f77b4;\" x=\"94.435455\" xlink:href=\"#m5cba5b339a\" y=\"221.727896\"/>\r\n     <use style=\"fill:#1f77b4;stroke:#1f77b4;\" x=\"95.196364\" xlink:href=\"#m5cba5b339a\" y=\"221.679139\"/>\r\n     <use style=\"fill:#1f77b4;stroke:#1f77b4;\" x=\"95.957273\" xlink:href=\"#m5cba5b339a\" y=\"221.630382\"/>\r\n     <use style=\"fill:#1f77b4;stroke:#1f77b4;\" x=\"96.718182\" xlink:href=\"#m5cba5b339a\" y=\"221.386596\"/>\r\n     <use style=\"fill:#1f77b4;stroke:#1f77b4;\" x=\"97.479091\" xlink:href=\"#m5cba5b339a\" y=\"221.337839\"/>\r\n     <use style=\"fill:#1f77b4;stroke:#1f77b4;\" x=\"98.24\" xlink:href=\"#m5cba5b339a\" y=\"221.094053\"/>\r\n     <use style=\"fill:#1f77b4;stroke:#1f77b4;\" x=\"99.000909\" xlink:href=\"#m5cba5b339a\" y=\"220.996538\"/>\r\n     <use style=\"fill:#1f77b4;stroke:#1f77b4;\" x=\"99.761818\" xlink:href=\"#m5cba5b339a\" y=\"220.899024\"/>\r\n     <use style=\"fill:#1f77b4;stroke:#1f77b4;\" x=\"100.522727\" xlink:href=\"#m5cba5b339a\" y=\"220.850267\"/>\r\n     <use style=\"fill:#1f77b4;stroke:#1f77b4;\" x=\"101.283636\" xlink:href=\"#m5cba5b339a\" y=\"220.752752\"/>\r\n     <use style=\"fill:#1f77b4;stroke:#1f77b4;\" x=\"102.044545\" xlink:href=\"#m5cba5b339a\" y=\"220.80151\"/>\r\n     <use style=\"fill:#1f77b4;stroke:#1f77b4;\" x=\"102.805455\" xlink:href=\"#m5cba5b339a\" y=\"220.508966\"/>\r\n     <use style=\"fill:#1f77b4;stroke:#1f77b4;\" x=\"103.566364\" xlink:href=\"#m5cba5b339a\" y=\"220.460209\"/>\r\n     <use style=\"fill:#1f77b4;stroke:#1f77b4;\" x=\"104.327273\" xlink:href=\"#m5cba5b339a\" y=\"220.313938\"/>\r\n     <use style=\"fill:#1f77b4;stroke:#1f77b4;\" x=\"105.088182\" xlink:href=\"#m5cba5b339a\" y=\"220.26518\"/>\r\n     <use style=\"fill:#1f77b4;stroke:#1f77b4;\" x=\"105.849091\" xlink:href=\"#m5cba5b339a\" y=\"220.216423\"/>\r\n     <use style=\"fill:#1f77b4;stroke:#1f77b4;\" x=\"106.61\" xlink:href=\"#m5cba5b339a\" y=\"220.070152\"/>\r\n     <use style=\"fill:#1f77b4;stroke:#1f77b4;\" x=\"107.370909\" xlink:href=\"#m5cba5b339a\" y=\"219.972637\"/>\r\n     <use style=\"fill:#1f77b4;stroke:#1f77b4;\" x=\"108.131818\" xlink:href=\"#m5cba5b339a\" y=\"219.972637\"/>\r\n     <use style=\"fill:#1f77b4;stroke:#1f77b4;\" x=\"108.892727\" xlink:href=\"#m5cba5b339a\" y=\"219.826366\"/>\r\n     <use style=\"fill:#1f77b4;stroke:#1f77b4;\" x=\"109.653636\" xlink:href=\"#m5cba5b339a\" y=\"219.777609\"/>\r\n     <use style=\"fill:#1f77b4;stroke:#1f77b4;\" x=\"110.414545\" xlink:href=\"#m5cba5b339a\" y=\"219.777609\"/>\r\n     <use style=\"fill:#1f77b4;stroke:#1f77b4;\" x=\"111.175455\" xlink:href=\"#m5cba5b339a\" y=\"219.631337\"/>\r\n     <use style=\"fill:#1f77b4;stroke:#1f77b4;\" x=\"111.936364\" xlink:href=\"#m5cba5b339a\" y=\"219.58258\"/>\r\n     <use style=\"fill:#1f77b4;stroke:#1f77b4;\" x=\"112.697273\" xlink:href=\"#m5cba5b339a\" y=\"219.533823\"/>\r\n     <use style=\"fill:#1f77b4;stroke:#1f77b4;\" x=\"113.458182\" xlink:href=\"#m5cba5b339a\" y=\"219.436308\"/>\r\n     <use style=\"fill:#1f77b4;stroke:#1f77b4;\" x=\"114.219091\" xlink:href=\"#m5cba5b339a\" y=\"219.436308\"/>\r\n     <use style=\"fill:#1f77b4;stroke:#1f77b4;\" x=\"114.98\" xlink:href=\"#m5cba5b339a\" y=\"219.338794\"/>\r\n     <use style=\"fill:#1f77b4;stroke:#1f77b4;\" x=\"115.740909\" xlink:href=\"#m5cba5b339a\" y=\"219.290037\"/>\r\n     <use style=\"fill:#1f77b4;stroke:#1f77b4;\" x=\"116.501818\" xlink:href=\"#m5cba5b339a\" y=\"219.290037\"/>\r\n     <use style=\"fill:#1f77b4;stroke:#1f77b4;\" x=\"117.262727\" xlink:href=\"#m5cba5b339a\" y=\"219.290037\"/>\r\n     <use style=\"fill:#1f77b4;stroke:#1f77b4;\" x=\"118.023636\" xlink:href=\"#m5cba5b339a\" y=\"219.241279\"/>\r\n     <use style=\"fill:#1f77b4;stroke:#1f77b4;\" x=\"118.784545\" xlink:href=\"#m5cba5b339a\" y=\"219.241279\"/>\r\n     <use style=\"fill:#1f77b4;stroke:#1f77b4;\" x=\"119.545455\" xlink:href=\"#m5cba5b339a\" y=\"219.192522\"/>\r\n     <use style=\"fill:#1f77b4;stroke:#1f77b4;\" x=\"120.306364\" xlink:href=\"#m5cba5b339a\" y=\"219.095008\"/>\r\n     <use style=\"fill:#1f77b4;stroke:#1f77b4;\" x=\"121.067273\" xlink:href=\"#m5cba5b339a\" y=\"219.095008\"/>\r\n     <use style=\"fill:#1f77b4;stroke:#1f77b4;\" x=\"121.828182\" xlink:href=\"#m5cba5b339a\" y=\"219.095008\"/>\r\n     <use style=\"fill:#1f77b4;stroke:#1f77b4;\" x=\"122.589091\" xlink:href=\"#m5cba5b339a\" y=\"218.997493\"/>\r\n     <use style=\"fill:#1f77b4;stroke:#1f77b4;\" x=\"123.35\" xlink:href=\"#m5cba5b339a\" y=\"218.997493\"/>\r\n     <use style=\"fill:#1f77b4;stroke:#1f77b4;\" x=\"124.110909\" xlink:href=\"#m5cba5b339a\" y=\"218.997493\"/>\r\n     <use style=\"fill:#1f77b4;stroke:#1f77b4;\" x=\"124.871818\" xlink:href=\"#m5cba5b339a\" y=\"218.997493\"/>\r\n     <use style=\"fill:#1f77b4;stroke:#1f77b4;\" x=\"125.632727\" xlink:href=\"#m5cba5b339a\" y=\"218.997493\"/>\r\n     <use style=\"fill:#1f77b4;stroke:#1f77b4;\" x=\"126.393636\" xlink:href=\"#m5cba5b339a\" y=\"218.997493\"/>\r\n     <use style=\"fill:#1f77b4;stroke:#1f77b4;\" x=\"127.154545\" xlink:href=\"#m5cba5b339a\" y=\"218.997493\"/>\r\n     <use style=\"fill:#1f77b4;stroke:#1f77b4;\" x=\"127.915455\" xlink:href=\"#m5cba5b339a\" y=\"218.997493\"/>\r\n     <use style=\"fill:#1f77b4;stroke:#1f77b4;\" x=\"128.676364\" xlink:href=\"#m5cba5b339a\" y=\"218.997493\"/>\r\n     <use style=\"fill:#1f77b4;stroke:#1f77b4;\" x=\"129.437273\" xlink:href=\"#m5cba5b339a\" y=\"218.899979\"/>\r\n     <use style=\"fill:#1f77b4;stroke:#1f77b4;\" x=\"130.198182\" xlink:href=\"#m5cba5b339a\" y=\"218.851222\"/>\r\n     <use style=\"fill:#1f77b4;stroke:#1f77b4;\" x=\"130.959091\" xlink:href=\"#m5cba5b339a\" y=\"218.851222\"/>\r\n     <use style=\"fill:#1f77b4;stroke:#1f77b4;\" x=\"131.72\" xlink:href=\"#m5cba5b339a\" y=\"218.802465\"/>\r\n     <use style=\"fill:#1f77b4;stroke:#1f77b4;\" x=\"132.480909\" xlink:href=\"#m5cba5b339a\" y=\"218.802465\"/>\r\n     <use style=\"fill:#1f77b4;stroke:#1f77b4;\" x=\"133.241818\" xlink:href=\"#m5cba5b339a\" y=\"218.802465\"/>\r\n     <use style=\"fill:#1f77b4;stroke:#1f77b4;\" x=\"134.002727\" xlink:href=\"#m5cba5b339a\" y=\"218.802465\"/>\r\n     <use style=\"fill:#1f77b4;stroke:#1f77b4;\" x=\"134.763636\" xlink:href=\"#m5cba5b339a\" y=\"218.802465\"/>\r\n     <use style=\"fill:#1f77b4;stroke:#1f77b4;\" x=\"135.524545\" xlink:href=\"#m5cba5b339a\" y=\"218.802465\"/>\r\n     <use style=\"fill:#1f77b4;stroke:#1f77b4;\" x=\"136.285455\" xlink:href=\"#m5cba5b339a\" y=\"218.802465\"/>\r\n     <use style=\"fill:#1f77b4;stroke:#1f77b4;\" x=\"137.046364\" xlink:href=\"#m5cba5b339a\" y=\"218.802465\"/>\r\n     <use style=\"fill:#1f77b4;stroke:#1f77b4;\" x=\"137.807273\" xlink:href=\"#m5cba5b339a\" y=\"218.802465\"/>\r\n     <use style=\"fill:#1f77b4;stroke:#1f77b4;\" x=\"138.568182\" xlink:href=\"#m5cba5b339a\" y=\"218.802465\"/>\r\n     <use style=\"fill:#1f77b4;stroke:#1f77b4;\" x=\"139.329091\" xlink:href=\"#m5cba5b339a\" y=\"218.802465\"/>\r\n     <use style=\"fill:#1f77b4;stroke:#1f77b4;\" x=\"140.09\" xlink:href=\"#m5cba5b339a\" y=\"218.802465\"/>\r\n     <use style=\"fill:#1f77b4;stroke:#1f77b4;\" x=\"140.850909\" xlink:href=\"#m5cba5b339a\" y=\"218.802465\"/>\r\n     <use style=\"fill:#1f77b4;stroke:#1f77b4;\" x=\"141.611818\" xlink:href=\"#m5cba5b339a\" y=\"218.753707\"/>\r\n     <use style=\"fill:#1f77b4;stroke:#1f77b4;\" x=\"142.372727\" xlink:href=\"#m5cba5b339a\" y=\"218.753707\"/>\r\n     <use style=\"fill:#1f77b4;stroke:#1f77b4;\" x=\"143.133636\" xlink:href=\"#m5cba5b339a\" y=\"218.753707\"/>\r\n     <use style=\"fill:#1f77b4;stroke:#1f77b4;\" x=\"143.894545\" xlink:href=\"#m5cba5b339a\" y=\"218.753707\"/>\r\n     <use style=\"fill:#1f77b4;stroke:#1f77b4;\" x=\"144.655455\" xlink:href=\"#m5cba5b339a\" y=\"218.753707\"/>\r\n     <use style=\"fill:#1f77b4;stroke:#1f77b4;\" x=\"145.416364\" xlink:href=\"#m5cba5b339a\" y=\"218.753707\"/>\r\n     <use style=\"fill:#1f77b4;stroke:#1f77b4;\" x=\"146.177273\" xlink:href=\"#m5cba5b339a\" y=\"218.753707\"/>\r\n     <use style=\"fill:#1f77b4;stroke:#1f77b4;\" x=\"146.938182\" xlink:href=\"#m5cba5b339a\" y=\"218.753707\"/>\r\n     <use style=\"fill:#1f77b4;stroke:#1f77b4;\" x=\"147.699091\" xlink:href=\"#m5cba5b339a\" y=\"218.753707\"/>\r\n     <use style=\"fill:#1f77b4;stroke:#1f77b4;\" x=\"148.46\" xlink:href=\"#m5cba5b339a\" y=\"218.753707\"/>\r\n     <use style=\"fill:#1f77b4;stroke:#1f77b4;\" x=\"149.220909\" xlink:href=\"#m5cba5b339a\" y=\"218.753707\"/>\r\n     <use style=\"fill:#1f77b4;stroke:#1f77b4;\" x=\"149.981818\" xlink:href=\"#m5cba5b339a\" y=\"218.753707\"/>\r\n     <use style=\"fill:#1f77b4;stroke:#1f77b4;\" x=\"150.742727\" xlink:href=\"#m5cba5b339a\" y=\"218.753707\"/>\r\n     <use style=\"fill:#1f77b4;stroke:#1f77b4;\" x=\"151.503636\" xlink:href=\"#m5cba5b339a\" y=\"218.753707\"/>\r\n     <use style=\"fill:#1f77b4;stroke:#1f77b4;\" x=\"152.264545\" xlink:href=\"#m5cba5b339a\" y=\"218.753707\"/>\r\n     <use style=\"fill:#1f77b4;stroke:#1f77b4;\" x=\"153.025455\" xlink:href=\"#m5cba5b339a\" y=\"218.753707\"/>\r\n     <use style=\"fill:#1f77b4;stroke:#1f77b4;\" x=\"153.786364\" xlink:href=\"#m5cba5b339a\" y=\"218.753707\"/>\r\n     <use style=\"fill:#1f77b4;stroke:#1f77b4;\" x=\"154.547273\" xlink:href=\"#m5cba5b339a\" y=\"218.753707\"/>\r\n     <use style=\"fill:#1f77b4;stroke:#1f77b4;\" x=\"155.308182\" xlink:href=\"#m5cba5b339a\" y=\"218.753707\"/>\r\n     <use style=\"fill:#1f77b4;stroke:#1f77b4;\" x=\"156.069091\" xlink:href=\"#m5cba5b339a\" y=\"218.70495\"/>\r\n     <use style=\"fill:#1f77b4;stroke:#1f77b4;\" x=\"156.83\" xlink:href=\"#m5cba5b339a\" y=\"218.70495\"/>\r\n     <use style=\"fill:#1f77b4;stroke:#1f77b4;\" x=\"157.590909\" xlink:href=\"#m5cba5b339a\" y=\"218.70495\"/>\r\n     <use style=\"fill:#1f77b4;stroke:#1f77b4;\" x=\"158.351818\" xlink:href=\"#m5cba5b339a\" y=\"218.70495\"/>\r\n     <use style=\"fill:#1f77b4;stroke:#1f77b4;\" x=\"159.112727\" xlink:href=\"#m5cba5b339a\" y=\"218.70495\"/>\r\n     <use style=\"fill:#1f77b4;stroke:#1f77b4;\" x=\"159.873636\" xlink:href=\"#m5cba5b339a\" y=\"218.656193\"/>\r\n     <use style=\"fill:#1f77b4;stroke:#1f77b4;\" x=\"160.634545\" xlink:href=\"#m5cba5b339a\" y=\"218.656193\"/>\r\n     <use style=\"fill:#1f77b4;stroke:#1f77b4;\" x=\"161.395455\" xlink:href=\"#m5cba5b339a\" y=\"218.656193\"/>\r\n     <use style=\"fill:#1f77b4;stroke:#1f77b4;\" x=\"162.156364\" xlink:href=\"#m5cba5b339a\" y=\"218.656193\"/>\r\n     <use style=\"fill:#1f77b4;stroke:#1f77b4;\" x=\"162.917273\" xlink:href=\"#m5cba5b339a\" y=\"218.656193\"/>\r\n     <use style=\"fill:#1f77b4;stroke:#1f77b4;\" x=\"163.678182\" xlink:href=\"#m5cba5b339a\" y=\"218.656193\"/>\r\n     <use style=\"fill:#1f77b4;stroke:#1f77b4;\" x=\"164.439091\" xlink:href=\"#m5cba5b339a\" y=\"218.656193\"/>\r\n     <use style=\"fill:#1f77b4;stroke:#1f77b4;\" x=\"165.2\" xlink:href=\"#m5cba5b339a\" y=\"218.656193\"/>\r\n     <use style=\"fill:#1f77b4;stroke:#1f77b4;\" x=\"165.960909\" xlink:href=\"#m5cba5b339a\" y=\"218.607436\"/>\r\n     <use style=\"fill:#1f77b4;stroke:#1f77b4;\" x=\"166.721818\" xlink:href=\"#m5cba5b339a\" y=\"218.607436\"/>\r\n     <use style=\"fill:#1f77b4;stroke:#1f77b4;\" x=\"167.482727\" xlink:href=\"#m5cba5b339a\" y=\"218.607436\"/>\r\n     <use style=\"fill:#1f77b4;stroke:#1f77b4;\" x=\"168.243636\" xlink:href=\"#m5cba5b339a\" y=\"218.607436\"/>\r\n     <use style=\"fill:#1f77b4;stroke:#1f77b4;\" x=\"169.004545\" xlink:href=\"#m5cba5b339a\" y=\"218.607436\"/>\r\n     <use style=\"fill:#1f77b4;stroke:#1f77b4;\" x=\"169.765455\" xlink:href=\"#m5cba5b339a\" y=\"218.607436\"/>\r\n     <use style=\"fill:#1f77b4;stroke:#1f77b4;\" x=\"170.526364\" xlink:href=\"#m5cba5b339a\" y=\"218.509921\"/>\r\n     <use style=\"fill:#1f77b4;stroke:#1f77b4;\" x=\"171.287273\" xlink:href=\"#m5cba5b339a\" y=\"218.509921\"/>\r\n     <use style=\"fill:#1f77b4;stroke:#1f77b4;\" x=\"172.048182\" xlink:href=\"#m5cba5b339a\" y=\"218.461164\"/>\r\n     <use style=\"fill:#1f77b4;stroke:#1f77b4;\" x=\"172.809091\" xlink:href=\"#m5cba5b339a\" y=\"218.412407\"/>\r\n     <use style=\"fill:#1f77b4;stroke:#1f77b4;\" x=\"173.57\" xlink:href=\"#m5cba5b339a\" y=\"218.412407\"/>\r\n     <use style=\"fill:#1f77b4;stroke:#1f77b4;\" x=\"174.330909\" xlink:href=\"#m5cba5b339a\" y=\"218.412407\"/>\r\n     <use style=\"fill:#1f77b4;stroke:#1f77b4;\" x=\"175.091818\" xlink:href=\"#m5cba5b339a\" y=\"218.412407\"/>\r\n     <use style=\"fill:#1f77b4;stroke:#1f77b4;\" x=\"175.852727\" xlink:href=\"#m5cba5b339a\" y=\"218.36365\"/>\r\n     <use style=\"fill:#1f77b4;stroke:#1f77b4;\" x=\"176.613636\" xlink:href=\"#m5cba5b339a\" y=\"218.36365\"/>\r\n     <use style=\"fill:#1f77b4;stroke:#1f77b4;\" x=\"177.374545\" xlink:href=\"#m5cba5b339a\" y=\"218.36365\"/>\r\n     <use style=\"fill:#1f77b4;stroke:#1f77b4;\" x=\"178.135455\" xlink:href=\"#m5cba5b339a\" y=\"218.266135\"/>\r\n     <use style=\"fill:#1f77b4;stroke:#1f77b4;\" x=\"178.896364\" xlink:href=\"#m5cba5b339a\" y=\"218.217378\"/>\r\n     <use style=\"fill:#1f77b4;stroke:#1f77b4;\" x=\"179.657273\" xlink:href=\"#m5cba5b339a\" y=\"218.168621\"/>\r\n     <use style=\"fill:#1f77b4;stroke:#1f77b4;\" x=\"180.418182\" xlink:href=\"#m5cba5b339a\" y=\"218.168621\"/>\r\n     <use style=\"fill:#1f77b4;stroke:#1f77b4;\" x=\"181.179091\" xlink:href=\"#m5cba5b339a\" y=\"217.973592\"/>\r\n     <use style=\"fill:#1f77b4;stroke:#1f77b4;\" x=\"181.94\" xlink:href=\"#m5cba5b339a\" y=\"217.924835\"/>\r\n     <use style=\"fill:#1f77b4;stroke:#1f77b4;\" x=\"182.700909\" xlink:href=\"#m5cba5b339a\" y=\"217.924835\"/>\r\n     <use style=\"fill:#1f77b4;stroke:#1f77b4;\" x=\"183.461818\" xlink:href=\"#m5cba5b339a\" y=\"217.924835\"/>\r\n     <use style=\"fill:#1f77b4;stroke:#1f77b4;\" x=\"184.222727\" xlink:href=\"#m5cba5b339a\" y=\"217.778563\"/>\r\n     <use style=\"fill:#1f77b4;stroke:#1f77b4;\" x=\"184.983636\" xlink:href=\"#m5cba5b339a\" y=\"217.729806\"/>\r\n     <use style=\"fill:#1f77b4;stroke:#1f77b4;\" x=\"185.744545\" xlink:href=\"#m5cba5b339a\" y=\"217.729806\"/>\r\n     <use style=\"fill:#1f77b4;stroke:#1f77b4;\" x=\"186.505455\" xlink:href=\"#m5cba5b339a\" y=\"217.681049\"/>\r\n     <use style=\"fill:#1f77b4;stroke:#1f77b4;\" x=\"187.266364\" xlink:href=\"#m5cba5b339a\" y=\"217.632292\"/>\r\n     <use style=\"fill:#1f77b4;stroke:#1f77b4;\" x=\"188.027273\" xlink:href=\"#m5cba5b339a\" y=\"217.583535\"/>\r\n     <use style=\"fill:#1f77b4;stroke:#1f77b4;\" x=\"188.788182\" xlink:href=\"#m5cba5b339a\" y=\"217.534777\"/>\r\n     <use style=\"fill:#1f77b4;stroke:#1f77b4;\" x=\"189.549091\" xlink:href=\"#m5cba5b339a\" y=\"217.290991\"/>\r\n     <use style=\"fill:#1f77b4;stroke:#1f77b4;\" x=\"190.31\" xlink:href=\"#m5cba5b339a\" y=\"217.242234\"/>\r\n     <use style=\"fill:#1f77b4;stroke:#1f77b4;\" x=\"191.070909\" xlink:href=\"#m5cba5b339a\" y=\"217.242234\"/>\r\n     <use style=\"fill:#1f77b4;stroke:#1f77b4;\" x=\"191.831818\" xlink:href=\"#m5cba5b339a\" y=\"217.14472\"/>\r\n     <use style=\"fill:#1f77b4;stroke:#1f77b4;\" x=\"192.592727\" xlink:href=\"#m5cba5b339a\" y=\"216.949691\"/>\r\n     <use style=\"fill:#1f77b4;stroke:#1f77b4;\" x=\"193.353636\" xlink:href=\"#m5cba5b339a\" y=\"216.852177\"/>\r\n     <use style=\"fill:#1f77b4;stroke:#1f77b4;\" x=\"194.114545\" xlink:href=\"#m5cba5b339a\" y=\"216.657148\"/>\r\n     <use style=\"fill:#1f77b4;stroke:#1f77b4;\" x=\"194.875455\" xlink:href=\"#m5cba5b339a\" y=\"216.559633\"/>\r\n     <use style=\"fill:#1f77b4;stroke:#1f77b4;\" x=\"195.636364\" xlink:href=\"#m5cba5b339a\" y=\"216.413362\"/>\r\n     <use style=\"fill:#1f77b4;stroke:#1f77b4;\" x=\"196.397273\" xlink:href=\"#m5cba5b339a\" y=\"216.413362\"/>\r\n     <use style=\"fill:#1f77b4;stroke:#1f77b4;\" x=\"197.158182\" xlink:href=\"#m5cba5b339a\" y=\"216.120819\"/>\r\n     <use style=\"fill:#1f77b4;stroke:#1f77b4;\" x=\"197.919091\" xlink:href=\"#m5cba5b339a\" y=\"215.877033\"/>\r\n     <use style=\"fill:#1f77b4;stroke:#1f77b4;\" x=\"198.68\" xlink:href=\"#m5cba5b339a\" y=\"215.730761\"/>\r\n     <use style=\"fill:#1f77b4;stroke:#1f77b4;\" x=\"199.440909\" xlink:href=\"#m5cba5b339a\" y=\"215.486975\"/>\r\n     <use style=\"fill:#1f77b4;stroke:#1f77b4;\" x=\"200.201818\" xlink:href=\"#m5cba5b339a\" y=\"215.438218\"/>\r\n     <use style=\"fill:#1f77b4;stroke:#1f77b4;\" x=\"200.962727\" xlink:href=\"#m5cba5b339a\" y=\"215.389461\"/>\r\n     <use style=\"fill:#1f77b4;stroke:#1f77b4;\" x=\"201.723636\" xlink:href=\"#m5cba5b339a\" y=\"215.340703\"/>\r\n     <use style=\"fill:#1f77b4;stroke:#1f77b4;\" x=\"202.484545\" xlink:href=\"#m5cba5b339a\" y=\"215.04816\"/>\r\n     <use style=\"fill:#1f77b4;stroke:#1f77b4;\" x=\"203.245455\" xlink:href=\"#m5cba5b339a\" y=\"214.901889\"/>\r\n     <use style=\"fill:#1f77b4;stroke:#1f77b4;\" x=\"204.006364\" xlink:href=\"#m5cba5b339a\" y=\"214.658103\"/>\r\n     <use style=\"fill:#1f77b4;stroke:#1f77b4;\" x=\"204.767273\" xlink:href=\"#m5cba5b339a\" y=\"214.511831\"/>\r\n     <use style=\"fill:#1f77b4;stroke:#1f77b4;\" x=\"205.528182\" xlink:href=\"#m5cba5b339a\" y=\"214.316802\"/>\r\n     <use style=\"fill:#1f77b4;stroke:#1f77b4;\" x=\"206.289091\" xlink:href=\"#m5cba5b339a\" y=\"214.219288\"/>\r\n     <use style=\"fill:#1f77b4;stroke:#1f77b4;\" x=\"207.05\" xlink:href=\"#m5cba5b339a\" y=\"214.073016\"/>\r\n     <use style=\"fill:#1f77b4;stroke:#1f77b4;\" x=\"207.810909\" xlink:href=\"#m5cba5b339a\" y=\"213.682959\"/>\r\n     <use style=\"fill:#1f77b4;stroke:#1f77b4;\" x=\"208.571818\" xlink:href=\"#m5cba5b339a\" y=\"213.585444\"/>\r\n     <use style=\"fill:#1f77b4;stroke:#1f77b4;\" x=\"209.332727\" xlink:href=\"#m5cba5b339a\" y=\"213.439173\"/>\r\n     <use style=\"fill:#1f77b4;stroke:#1f77b4;\" x=\"210.093636\" xlink:href=\"#m5cba5b339a\" y=\"213.244144\"/>\r\n     <use style=\"fill:#1f77b4;stroke:#1f77b4;\" x=\"210.854545\" xlink:href=\"#m5cba5b339a\" y=\"213.097872\"/>\r\n     <use style=\"fill:#1f77b4;stroke:#1f77b4;\" x=\"211.615455\" xlink:href=\"#m5cba5b339a\" y=\"213.000358\"/>\r\n     <use style=\"fill:#1f77b4;stroke:#1f77b4;\" x=\"212.376364\" xlink:href=\"#m5cba5b339a\" y=\"212.659058\"/>\r\n     <use style=\"fill:#1f77b4;stroke:#1f77b4;\" x=\"213.137273\" xlink:href=\"#m5cba5b339a\" y=\"212.464029\"/>\r\n     <use style=\"fill:#1f77b4;stroke:#1f77b4;\" x=\"213.898182\" xlink:href=\"#m5cba5b339a\" y=\"211.9277\"/>\r\n     <use style=\"fill:#1f77b4;stroke:#1f77b4;\" x=\"214.659091\" xlink:href=\"#m5cba5b339a\" y=\"211.39137\"/>\r\n     <use style=\"fill:#1f77b4;stroke:#1f77b4;\" x=\"215.42\" xlink:href=\"#m5cba5b339a\" y=\"210.952556\"/>\r\n     <use style=\"fill:#1f77b4;stroke:#1f77b4;\" x=\"216.180909\" xlink:href=\"#m5cba5b339a\" y=\"210.318712\"/>\r\n     <use style=\"fill:#1f77b4;stroke:#1f77b4;\" x=\"216.941818\" xlink:href=\"#m5cba5b339a\" y=\"209.83114\"/>\r\n     <use style=\"fill:#1f77b4;stroke:#1f77b4;\" x=\"217.702727\" xlink:href=\"#m5cba5b339a\" y=\"209.197296\"/>\r\n     <use style=\"fill:#1f77b4;stroke:#1f77b4;\" x=\"218.463636\" xlink:href=\"#m5cba5b339a\" y=\"208.563453\"/>\r\n     <use style=\"fill:#1f77b4;stroke:#1f77b4;\" x=\"219.224545\" xlink:href=\"#m5cba5b339a\" y=\"207.880852\"/>\r\n     <use style=\"fill:#1f77b4;stroke:#1f77b4;\" x=\"219.985455\" xlink:href=\"#m5cba5b339a\" y=\"207.247008\"/>\r\n     <use style=\"fill:#1f77b4;stroke:#1f77b4;\" x=\"220.746364\" xlink:href=\"#m5cba5b339a\" y=\"206.223107\"/>\r\n     <use style=\"fill:#1f77b4;stroke:#1f77b4;\" x=\"221.507273\" xlink:href=\"#m5cba5b339a\" y=\"205.83305\"/>\r\n     <use style=\"fill:#1f77b4;stroke:#1f77b4;\" x=\"222.268182\" xlink:href=\"#m5cba5b339a\" y=\"205.296721\"/>\r\n     <use style=\"fill:#1f77b4;stroke:#1f77b4;\" x=\"223.029091\" xlink:href=\"#m5cba5b339a\" y=\"204.906663\"/>\r\n     <use style=\"fill:#1f77b4;stroke:#1f77b4;\" x=\"223.79\" xlink:href=\"#m5cba5b339a\" y=\"203.590219\"/>\r\n     <use style=\"fill:#1f77b4;stroke:#1f77b4;\" x=\"224.550909\" xlink:href=\"#m5cba5b339a\" y=\"202.712589\"/>\r\n     <use style=\"fill:#1f77b4;stroke:#1f77b4;\" x=\"225.311818\" xlink:href=\"#m5cba5b339a\" y=\"201.249873\"/>\r\n     <use style=\"fill:#1f77b4;stroke:#1f77b4;\" x=\"226.072727\" xlink:href=\"#m5cba5b339a\" y=\"200.030943\"/>\r\n     <use style=\"fill:#1f77b4;stroke:#1f77b4;\" x=\"226.833636\" xlink:href=\"#m5cba5b339a\" y=\"198.714499\"/>\r\n     <use style=\"fill:#1f77b4;stroke:#1f77b4;\" x=\"227.594545\" xlink:href=\"#m5cba5b339a\" y=\"197.690598\"/>\r\n     <use style=\"fill:#1f77b4;stroke:#1f77b4;\" x=\"228.355455\" xlink:href=\"#m5cba5b339a\" y=\"197.105511\"/>\r\n     <use style=\"fill:#1f77b4;stroke:#1f77b4;\" x=\"229.116364\" xlink:href=\"#m5cba5b339a\" y=\"195.789067\"/>\r\n     <use style=\"fill:#1f77b4;stroke:#1f77b4;\" x=\"229.877273\" xlink:href=\"#m5cba5b339a\" y=\"194.326351\"/>\r\n     <use style=\"fill:#1f77b4;stroke:#1f77b4;\" x=\"230.638182\" xlink:href=\"#m5cba5b339a\" y=\"193.107421\"/>\r\n     <use style=\"fill:#1f77b4;stroke:#1f77b4;\" x=\"231.399091\" xlink:href=\"#m5cba5b339a\" y=\"191.449676\"/>\r\n     <use style=\"fill:#1f77b4;stroke:#1f77b4;\" x=\"232.16\" xlink:href=\"#m5cba5b339a\" y=\"189.791931\"/>\r\n     <use style=\"fill:#1f77b4;stroke:#1f77b4;\" x=\"232.920909\" xlink:href=\"#m5cba5b339a\" y=\"188.865545\"/>\r\n     <use style=\"fill:#1f77b4;stroke:#1f77b4;\" x=\"233.681818\" xlink:href=\"#m5cba5b339a\" y=\"187.792886\"/>\r\n     <use style=\"fill:#1f77b4;stroke:#1f77b4;\" x=\"234.442727\" xlink:href=\"#m5cba5b339a\" y=\"186.037627\"/>\r\n     <use style=\"fill:#1f77b4;stroke:#1f77b4;\" x=\"235.203636\" xlink:href=\"#m5cba5b339a\" y=\"185.159998\"/>\r\n     <use style=\"fill:#1f77b4;stroke:#1f77b4;\" x=\"235.964545\" xlink:href=\"#m5cba5b339a\" y=\"183.697282\"/>\r\n     <use style=\"fill:#1f77b4;stroke:#1f77b4;\" x=\"236.725455\" xlink:href=\"#m5cba5b339a\" y=\"182.990302\"/>\r\n     <use style=\"fill:#1f77b4;stroke:#1f77b4;\" x=\"237.486364\" xlink:href=\"#m5cba5b339a\" y=\"181.186286\"/>\r\n     <use style=\"fill:#1f77b4;stroke:#1f77b4;\" x=\"238.247273\" xlink:href=\"#m5cba5b339a\" y=\"180.016113\"/>\r\n     <use style=\"fill:#1f77b4;stroke:#1f77b4;\" x=\"239.008182\" xlink:href=\"#m5cba5b339a\" y=\"178.455883\"/>\r\n     <use style=\"fill:#1f77b4;stroke:#1f77b4;\" x=\"239.769091\" xlink:href=\"#m5cba5b339a\" y=\"176.846895\"/>\r\n     <use style=\"fill:#1f77b4;stroke:#1f77b4;\" x=\"240.53\" xlink:href=\"#m5cba5b339a\" y=\"175.530451\"/>\r\n     <use style=\"fill:#1f77b4;stroke:#1f77b4;\" x=\"241.290909\" xlink:href=\"#m5cba5b339a\" y=\"174.116492\"/>\r\n     <use style=\"fill:#1f77b4;stroke:#1f77b4;\" x=\"242.051818\" xlink:href=\"#m5cba5b339a\" y=\"172.556262\"/>\r\n     <use style=\"fill:#1f77b4;stroke:#1f77b4;\" x=\"242.812727\" xlink:href=\"#m5cba5b339a\" y=\"171.629875\"/>\r\n     <use style=\"fill:#1f77b4;stroke:#1f77b4;\" x=\"243.573636\" xlink:href=\"#m5cba5b339a\" y=\"170.654731\"/>\r\n     <use style=\"fill:#1f77b4;stroke:#1f77b4;\" x=\"244.334545\" xlink:href=\"#m5cba5b339a\" y=\"170.069645\"/>\r\n     <use style=\"fill:#1f77b4;stroke:#1f77b4;\" x=\"245.095455\" xlink:href=\"#m5cba5b339a\" y=\"168.216871\"/>\r\n     <use style=\"fill:#1f77b4;stroke:#1f77b4;\" x=\"245.856364\" xlink:href=\"#m5cba5b339a\" y=\"166.851669\"/>\r\n     <use style=\"fill:#1f77b4;stroke:#1f77b4;\" x=\"246.617273\" xlink:href=\"#m5cba5b339a\" y=\"166.071554\"/>\r\n     <use style=\"fill:#1f77b4;stroke:#1f77b4;\" x=\"247.378182\" xlink:href=\"#m5cba5b339a\" y=\"165.193925\"/>\r\n     <use style=\"fill:#1f77b4;stroke:#1f77b4;\" x=\"248.139091\" xlink:href=\"#m5cba5b339a\" y=\"164.267538\"/>\r\n     <use style=\"fill:#1f77b4;stroke:#1f77b4;\" x=\"248.9\" xlink:href=\"#m5cba5b339a\" y=\"163.438666\"/>\r\n     <use style=\"fill:#1f77b4;stroke:#1f77b4;\" x=\"249.660909\" xlink:href=\"#m5cba5b339a\" y=\"162.512279\"/>\r\n     <use style=\"fill:#1f77b4;stroke:#1f77b4;\" x=\"250.421818\" xlink:href=\"#m5cba5b339a\" y=\"161.147077\"/>\r\n     <use style=\"fill:#1f77b4;stroke:#1f77b4;\" x=\"251.182727\" xlink:href=\"#m5cba5b339a\" y=\"160.318205\"/>\r\n     <use style=\"fill:#1f77b4;stroke:#1f77b4;\" x=\"251.943636\" xlink:href=\"#m5cba5b339a\" y=\"159.53809\"/>\r\n     <use style=\"fill:#1f77b4;stroke:#1f77b4;\" x=\"252.704545\" xlink:href=\"#m5cba5b339a\" y=\"158.514188\"/>\r\n     <use style=\"fill:#1f77b4;stroke:#1f77b4;\" x=\"253.465455\" xlink:href=\"#m5cba5b339a\" y=\"157.734073\"/>\r\n     <use style=\"fill:#1f77b4;stroke:#1f77b4;\" x=\"254.226364\" xlink:href=\"#m5cba5b339a\" y=\"157.002715\"/>\r\n     <use style=\"fill:#1f77b4;stroke:#1f77b4;\" x=\"254.987273\" xlink:href=\"#m5cba5b339a\" y=\"156.417629\"/>\r\n     <use style=\"fill:#1f77b4;stroke:#1f77b4;\" x=\"255.748182\" xlink:href=\"#m5cba5b339a\" y=\"155.296213\"/>\r\n     <use style=\"fill:#1f77b4;stroke:#1f77b4;\" x=\"256.509091\" xlink:href=\"#m5cba5b339a\" y=\"154.272312\"/>\r\n     <use style=\"fill:#1f77b4;stroke:#1f77b4;\" x=\"257.27\" xlink:href=\"#m5cba5b339a\" y=\"153.540954\"/>\r\n     <use style=\"fill:#1f77b4;stroke:#1f77b4;\" x=\"258.030909\" xlink:href=\"#m5cba5b339a\" y=\"153.199654\"/>\r\n     <use style=\"fill:#1f77b4;stroke:#1f77b4;\" x=\"258.791818\" xlink:href=\"#m5cba5b339a\" y=\"152.419539\"/>\r\n     <use style=\"fill:#1f77b4;stroke:#1f77b4;\" x=\"259.552727\" xlink:href=\"#m5cba5b339a\" y=\"151.931967\"/>\r\n     <use style=\"fill:#1f77b4;stroke:#1f77b4;\" x=\"260.313636\" xlink:href=\"#m5cba5b339a\" y=\"151.639423\"/>\r\n     <use style=\"fill:#1f77b4;stroke:#1f77b4;\" x=\"261.074545\" xlink:href=\"#m5cba5b339a\" y=\"150.761794\"/>\r\n     <use style=\"fill:#1f77b4;stroke:#1f77b4;\" x=\"261.835455\" xlink:href=\"#m5cba5b339a\" y=\"150.518008\"/>\r\n     <use style=\"fill:#1f77b4;stroke:#1f77b4;\" x=\"262.596364\" xlink:href=\"#m5cba5b339a\" y=\"149.640378\"/>\r\n     <use style=\"fill:#1f77b4;stroke:#1f77b4;\" x=\"263.357273\" xlink:href=\"#m5cba5b339a\" y=\"149.055292\"/>\r\n     <use style=\"fill:#1f77b4;stroke:#1f77b4;\" x=\"264.118182\" xlink:href=\"#m5cba5b339a\" y=\"148.080148\"/>\r\n     <use style=\"fill:#1f77b4;stroke:#1f77b4;\" x=\"264.879091\" xlink:href=\"#m5cba5b339a\" y=\"147.836362\"/>\r\n     <use style=\"fill:#1f77b4;stroke:#1f77b4;\" x=\"265.64\" xlink:href=\"#m5cba5b339a\" y=\"147.34879\"/>\r\n     <use style=\"fill:#1f77b4;stroke:#1f77b4;\" x=\"266.400909\" xlink:href=\"#m5cba5b339a\" y=\"146.47116\"/>\r\n     <use style=\"fill:#1f77b4;stroke:#1f77b4;\" x=\"267.161818\" xlink:href=\"#m5cba5b339a\" y=\"145.544774\"/>\r\n     <use style=\"fill:#1f77b4;stroke:#1f77b4;\" x=\"267.922727\" xlink:href=\"#m5cba5b339a\" y=\"145.057202\"/>\r\n     <use style=\"fill:#1f77b4;stroke:#1f77b4;\" x=\"268.683636\" xlink:href=\"#m5cba5b339a\" y=\"144.56963\"/>\r\n     <use style=\"fill:#1f77b4;stroke:#1f77b4;\" x=\"269.444545\" xlink:href=\"#m5cba5b339a\" y=\"144.033301\"/>\r\n     <use style=\"fill:#1f77b4;stroke:#1f77b4;\" x=\"270.205455\" xlink:href=\"#m5cba5b339a\" y=\"143.399457\"/>\r\n     <use style=\"fill:#1f77b4;stroke:#1f77b4;\" x=\"270.966364\" xlink:href=\"#m5cba5b339a\" y=\"142.911885\"/>\r\n     <use style=\"fill:#1f77b4;stroke:#1f77b4;\" x=\"271.727273\" xlink:href=\"#m5cba5b339a\" y=\"141.839227\"/>\r\n     <use style=\"fill:#1f77b4;stroke:#1f77b4;\" x=\"272.488182\" xlink:href=\"#m5cba5b339a\" y=\"141.25414\"/>\r\n     <use style=\"fill:#1f77b4;stroke:#1f77b4;\" x=\"273.249091\" xlink:href=\"#m5cba5b339a\" y=\"140.717811\"/>\r\n     <use style=\"fill:#1f77b4;stroke:#1f77b4;\" x=\"274.01\" xlink:href=\"#m5cba5b339a\" y=\"139.791424\"/>\r\n     <use style=\"fill:#1f77b4;stroke:#1f77b4;\" x=\"274.770909\" xlink:href=\"#m5cba5b339a\" y=\"139.450124\"/>\r\n     <use style=\"fill:#1f77b4;stroke:#1f77b4;\" x=\"275.531818\" xlink:href=\"#m5cba5b339a\" y=\"139.206338\"/>\r\n     <use style=\"fill:#1f77b4;stroke:#1f77b4;\" x=\"276.292727\" xlink:href=\"#m5cba5b339a\" y=\"138.767523\"/>\r\n     <use style=\"fill:#1f77b4;stroke:#1f77b4;\" x=\"277.053636\" xlink:href=\"#m5cba5b339a\" y=\"137.792379\"/>\r\n     <use style=\"fill:#1f77b4;stroke:#1f77b4;\" x=\"277.814545\" xlink:href=\"#m5cba5b339a\" y=\"137.402322\"/>\r\n     <use style=\"fill:#1f77b4;stroke:#1f77b4;\" x=\"278.575455\" xlink:href=\"#m5cba5b339a\" y=\"136.475935\"/>\r\n     <use style=\"fill:#1f77b4;stroke:#1f77b4;\" x=\"279.336364\" xlink:href=\"#m5cba5b339a\" y=\"135.549548\"/>\r\n     <use style=\"fill:#1f77b4;stroke:#1f77b4;\" x=\"280.097273\" xlink:href=\"#m5cba5b339a\" y=\"134.623161\"/>\r\n     <use style=\"fill:#1f77b4;stroke:#1f77b4;\" x=\"280.858182\" xlink:href=\"#m5cba5b339a\" y=\"134.086832\"/>\r\n     <use style=\"fill:#1f77b4;stroke:#1f77b4;\" x=\"281.619091\" xlink:href=\"#m5cba5b339a\" y=\"133.696774\"/>\r\n     <use style=\"fill:#1f77b4;stroke:#1f77b4;\" x=\"282.38\" xlink:href=\"#m5cba5b339a\" y=\"133.111688\"/>\r\n     <use style=\"fill:#1f77b4;stroke:#1f77b4;\" x=\"283.140909\" xlink:href=\"#m5cba5b339a\" y=\"132.38033\"/>\r\n     <use style=\"fill:#1f77b4;stroke:#1f77b4;\" x=\"283.901818\" xlink:href=\"#m5cba5b339a\" y=\"131.746486\"/>\r\n     <use style=\"fill:#1f77b4;stroke:#1f77b4;\" x=\"284.662727\" xlink:href=\"#m5cba5b339a\" y=\"130.8201\"/>\r\n     <use style=\"fill:#1f77b4;stroke:#1f77b4;\" x=\"285.423636\" xlink:href=\"#m5cba5b339a\" y=\"129.94247\"/>\r\n     <use style=\"fill:#1f77b4;stroke:#1f77b4;\" x=\"286.184545\" xlink:href=\"#m5cba5b339a\" y=\"129.503655\"/>\r\n     <use style=\"fill:#1f77b4;stroke:#1f77b4;\" x=\"286.945455\" xlink:href=\"#m5cba5b339a\" y=\"129.113598\"/>\r\n     <use style=\"fill:#1f77b4;stroke:#1f77b4;\" x=\"287.706364\" xlink:href=\"#m5cba5b339a\" y=\"128.333483\"/>\r\n     <use style=\"fill:#1f77b4;stroke:#1f77b4;\" x=\"288.467273\" xlink:href=\"#m5cba5b339a\" y=\"127.602125\"/>\r\n     <use style=\"fill:#1f77b4;stroke:#1f77b4;\" x=\"289.228182\" xlink:href=\"#m5cba5b339a\" y=\"126.822009\"/>\r\n     <use style=\"fill:#1f77b4;stroke:#1f77b4;\" x=\"289.989091\" xlink:href=\"#m5cba5b339a\" y=\"125.749351\"/>\r\n     <use style=\"fill:#1f77b4;stroke:#1f77b4;\" x=\"290.75\" xlink:href=\"#m5cba5b339a\" y=\"125.261779\"/>\r\n     <use style=\"fill:#1f77b4;stroke:#1f77b4;\" x=\"291.510909\" xlink:href=\"#m5cba5b339a\" y=\"124.286635\"/>\r\n     <use style=\"fill:#1f77b4;stroke:#1f77b4;\" x=\"292.271818\" xlink:href=\"#m5cba5b339a\" y=\"123.945335\"/>\r\n     <use style=\"fill:#1f77b4;stroke:#1f77b4;\" x=\"293.032727\" xlink:href=\"#m5cba5b339a\" y=\"122.775162\"/>\r\n     <use style=\"fill:#1f77b4;stroke:#1f77b4;\" x=\"293.793636\" xlink:href=\"#m5cba5b339a\" y=\"121.361203\"/>\r\n     <use style=\"fill:#1f77b4;stroke:#1f77b4;\" x=\"294.554545\" xlink:href=\"#m5cba5b339a\" y=\"119.898487\"/>\r\n     <use style=\"fill:#1f77b4;stroke:#1f77b4;\" x=\"295.315455\" xlink:href=\"#m5cba5b339a\" y=\"118.874586\"/>\r\n     <use style=\"fill:#1f77b4;stroke:#1f77b4;\" x=\"296.076364\" xlink:href=\"#m5cba5b339a\" y=\"117.41187\"/>\r\n     <use style=\"fill:#1f77b4;stroke:#1f77b4;\" x=\"296.837273\" xlink:href=\"#m5cba5b339a\" y=\"116.875541\"/>\r\n     <use style=\"fill:#1f77b4;stroke:#1f77b4;\" x=\"297.598182\" xlink:href=\"#m5cba5b339a\" y=\"116.19294\"/>\r\n     <use style=\"fill:#1f77b4;stroke:#1f77b4;\" x=\"298.359091\" xlink:href=\"#m5cba5b339a\" y=\"114.80336\"/>\r\n     <use style=\"fill:#1f77b4;stroke:#1f77b4;\" x=\"299.12\" xlink:href=\"#m5cba5b339a\" y=\"113.048101\"/>\r\n     <use style=\"fill:#1f77b4;stroke:#1f77b4;\" x=\"299.880909\" xlink:href=\"#m5cba5b339a\" y=\"111.804792\"/>\r\n     <use style=\"fill:#1f77b4;stroke:#1f77b4;\" x=\"300.641818\" xlink:href=\"#m5cba5b339a\" y=\"109.903262\"/>\r\n     <use style=\"fill:#1f77b4;stroke:#1f77b4;\" x=\"301.402727\" xlink:href=\"#m5cba5b339a\" y=\"108.781846\"/>\r\n     <use style=\"fill:#1f77b4;stroke:#1f77b4;\" x=\"302.163636\" xlink:href=\"#m5cba5b339a\" y=\"108.172381\"/>\r\n     <use style=\"fill:#1f77b4;stroke:#1f77b4;\" x=\"302.924545\" xlink:href=\"#m5cba5b339a\" y=\"107.782323\"/>\r\n     <use style=\"fill:#1f77b4;stroke:#1f77b4;\" x=\"303.685455\" xlink:href=\"#m5cba5b339a\" y=\"106.660908\"/>\r\n     <use style=\"fill:#1f77b4;stroke:#1f77b4;\" x=\"304.446364\" xlink:href=\"#m5cba5b339a\" y=\"104.564348\"/>\r\n     <use style=\"fill:#1f77b4;stroke:#1f77b4;\" x=\"305.207273\" xlink:href=\"#m5cba5b339a\" y=\"103.296661\"/>\r\n     <use style=\"fill:#1f77b4;stroke:#1f77b4;\" x=\"305.968182\" xlink:href=\"#m5cba5b339a\" y=\"101.833945\"/>\r\n     <use style=\"fill:#1f77b4;stroke:#1f77b4;\" x=\"306.729091\" xlink:href=\"#m5cba5b339a\" y=\"100.688151\"/>\r\n     <use style=\"fill:#1f77b4;stroke:#1f77b4;\" x=\"307.49\" xlink:href=\"#m5cba5b339a\" y=\"99.761764\"/>\r\n     <use style=\"fill:#1f77b4;stroke:#1f77b4;\" x=\"308.250909\" xlink:href=\"#m5cba5b339a\" y=\"99.322949\"/>\r\n     <use style=\"fill:#1f77b4;stroke:#1f77b4;\" x=\"309.011818\" xlink:href=\"#m5cba5b339a\" y=\"97.275147\"/>\r\n     <use style=\"fill:#1f77b4;stroke:#1f77b4;\" x=\"309.772727\" xlink:href=\"#m5cba5b339a\" y=\"96.104974\"/>\r\n     <use style=\"fill:#1f77b4;stroke:#1f77b4;\" x=\"310.533636\" xlink:href=\"#m5cba5b339a\" y=\"94.642258\"/>\r\n     <use style=\"fill:#1f77b4;stroke:#1f77b4;\" x=\"311.294545\" xlink:href=\"#m5cba5b339a\" y=\"94.105929\"/>\r\n     <use style=\"fill:#1f77b4;stroke:#1f77b4;\" x=\"312.055455\" xlink:href=\"#m5cba5b339a\" y=\"93.423328\"/>\r\n     <use style=\"fill:#1f77b4;stroke:#1f77b4;\" x=\"312.816364\" xlink:href=\"#m5cba5b339a\" y=\"92.448184\"/>\r\n     <use style=\"fill:#1f77b4;stroke:#1f77b4;\" x=\"313.577273\" xlink:href=\"#m5cba5b339a\" y=\"92.204398\"/>\r\n     <use style=\"fill:#1f77b4;stroke:#1f77b4;\" x=\"314.338182\" xlink:href=\"#m5cba5b339a\" y=\"91.326769\"/>\r\n     <use style=\"fill:#1f77b4;stroke:#1f77b4;\" x=\"315.099091\" xlink:href=\"#m5cba5b339a\" y=\"90.644168\"/>\r\n     <use style=\"fill:#1f77b4;stroke:#1f77b4;\" x=\"315.86\" xlink:href=\"#m5cba5b339a\" y=\"89.717781\"/>\r\n     <use style=\"fill:#1f77b4;stroke:#1f77b4;\" x=\"316.620909\" xlink:href=\"#m5cba5b339a\" y=\"89.083938\"/>\r\n     <use style=\"fill:#1f77b4;stroke:#1f77b4;\" x=\"317.381818\" xlink:href=\"#m5cba5b339a\" y=\"88.425716\"/>\r\n     <use style=\"fill:#1f77b4;stroke:#1f77b4;\" x=\"318.142727\" xlink:href=\"#m5cba5b339a\" y=\"87.743115\"/>\r\n     <use style=\"fill:#1f77b4;stroke:#1f77b4;\" x=\"318.903636\" xlink:href=\"#m5cba5b339a\" y=\"87.450572\"/>\r\n     <use style=\"fill:#1f77b4;stroke:#1f77b4;\" x=\"319.664545\" xlink:href=\"#m5cba5b339a\" y=\"86.963\"/>\r\n     <use style=\"fill:#1f77b4;stroke:#1f77b4;\" x=\"320.425455\" xlink:href=\"#m5cba5b339a\" y=\"85.987856\"/>\r\n     <use style=\"fill:#1f77b4;stroke:#1f77b4;\" x=\"321.186364\" xlink:href=\"#m5cba5b339a\" y=\"84.52514\"/>\r\n     <use style=\"fill:#1f77b4;stroke:#1f77b4;\" x=\"321.947273\" xlink:href=\"#m5cba5b339a\" y=\"83.696267\"/>\r\n     <use style=\"fill:#1f77b4;stroke:#1f77b4;\" x=\"322.708182\" xlink:href=\"#m5cba5b339a\" y=\"82.916152\"/>\r\n     <use style=\"fill:#1f77b4;stroke:#1f77b4;\" x=\"323.469091\" xlink:href=\"#m5cba5b339a\" y=\"82.526095\"/>\r\n     <use style=\"fill:#1f77b4;stroke:#1f77b4;\" x=\"324.23\" xlink:href=\"#m5cba5b339a\" y=\"82.331066\"/>\r\n     <use style=\"fill:#1f77b4;stroke:#1f77b4;\" x=\"324.990909\" xlink:href=\"#m5cba5b339a\" y=\"81.404679\"/>\r\n     <use style=\"fill:#1f77b4;stroke:#1f77b4;\" x=\"325.751818\" xlink:href=\"#m5cba5b339a\" y=\"81.063379\"/>\r\n     <use style=\"fill:#1f77b4;stroke:#1f77b4;\" x=\"326.512727\" xlink:href=\"#m5cba5b339a\" y=\"80.527049\"/>\r\n     <use style=\"fill:#1f77b4;stroke:#1f77b4;\" x=\"327.273636\" xlink:href=\"#m5cba5b339a\" y=\"80.088235\"/>\r\n     <use style=\"fill:#1f77b4;stroke:#1f77b4;\" x=\"328.034545\" xlink:href=\"#m5cba5b339a\" y=\"79.503148\"/>\r\n     <use style=\"fill:#1f77b4;stroke:#1f77b4;\" x=\"328.795455\" xlink:href=\"#m5cba5b339a\" y=\"78.966819\"/>\r\n     <use style=\"fill:#1f77b4;stroke:#1f77b4;\" x=\"329.556364\" xlink:href=\"#m5cba5b339a\" y=\"78.723033\"/>\r\n     <use style=\"fill:#1f77b4;stroke:#1f77b4;\" x=\"330.317273\" xlink:href=\"#m5cba5b339a\" y=\"78.186704\"/>\r\n     <use style=\"fill:#1f77b4;stroke:#1f77b4;\" x=\"331.078182\" xlink:href=\"#m5cba5b339a\" y=\"77.309074\"/>\r\n     <use style=\"fill:#1f77b4;stroke:#1f77b4;\" x=\"331.839091\" xlink:href=\"#m5cba5b339a\" y=\"76.772745\"/>\r\n     <use style=\"fill:#1f77b4;stroke:#1f77b4;\" x=\"332.6\" xlink:href=\"#m5cba5b339a\" y=\"76.577716\"/>\r\n     <use style=\"fill:#1f77b4;stroke:#1f77b4;\" x=\"333.360909\" xlink:href=\"#m5cba5b339a\" y=\"75.748844\"/>\r\n     <use style=\"fill:#1f77b4;stroke:#1f77b4;\" x=\"334.121818\" xlink:href=\"#m5cba5b339a\" y=\"75.358786\"/>\r\n     <use style=\"fill:#1f77b4;stroke:#1f77b4;\" x=\"334.882727\" xlink:href=\"#m5cba5b339a\" y=\"75.017486\"/>\r\n     <use style=\"fill:#1f77b4;stroke:#1f77b4;\" x=\"335.643636\" xlink:href=\"#m5cba5b339a\" y=\"74.139856\"/>\r\n     <use style=\"fill:#1f77b4;stroke:#1f77b4;\" x=\"336.404545\" xlink:href=\"#m5cba5b339a\" y=\"73.55477\"/>\r\n     <use style=\"fill:#1f77b4;stroke:#1f77b4;\" x=\"337.165455\" xlink:href=\"#m5cba5b339a\" y=\"73.018441\"/>\r\n     <use style=\"fill:#1f77b4;stroke:#1f77b4;\" x=\"337.926364\" xlink:href=\"#m5cba5b339a\" y=\"72.287083\"/>\r\n     <use style=\"fill:#1f77b4;stroke:#1f77b4;\" x=\"338.687273\" xlink:href=\"#m5cba5b339a\" y=\"71.799511\"/>\r\n     <use style=\"fill:#1f77b4;stroke:#1f77b4;\" x=\"339.448182\" xlink:href=\"#m5cba5b339a\" y=\"71.506968\"/>\r\n     <use style=\"fill:#1f77b4;stroke:#1f77b4;\" x=\"340.209091\" xlink:href=\"#m5cba5b339a\" y=\"71.409453\"/>\r\n     <use style=\"fill:#1f77b4;stroke:#1f77b4;\" x=\"340.97\" xlink:href=\"#m5cba5b339a\" y=\"70.531824\"/>\r\n     <use style=\"fill:#1f77b4;stroke:#1f77b4;\" x=\"341.730909\" xlink:href=\"#m5cba5b339a\" y=\"69.654194\"/>\r\n     <use style=\"fill:#1f77b4;stroke:#1f77b4;\" x=\"342.491818\" xlink:href=\"#m5cba5b339a\" y=\"68.776565\"/>\r\n     <use style=\"fill:#1f77b4;stroke:#1f77b4;\" x=\"343.252727\" xlink:href=\"#m5cba5b339a\" y=\"67.606392\"/>\r\n     <use style=\"fill:#1f77b4;stroke:#1f77b4;\" x=\"344.013636\" xlink:href=\"#m5cba5b339a\" y=\"66.436219\"/>\r\n     <use style=\"fill:#1f77b4;stroke:#1f77b4;\" x=\"344.774545\" xlink:href=\"#m5cba5b339a\" y=\"65.851133\"/>\r\n     <use style=\"fill:#1f77b4;stroke:#1f77b4;\" x=\"345.535455\" xlink:href=\"#m5cba5b339a\" y=\"65.217289\"/>\r\n     <use style=\"fill:#1f77b4;stroke:#1f77b4;\" x=\"346.296364\" xlink:href=\"#m5cba5b339a\" y=\"64.778474\"/>\r\n     <use style=\"fill:#1f77b4;stroke:#1f77b4;\" x=\"347.057273\" xlink:href=\"#m5cba5b339a\" y=\"63.80333\"/>\r\n     <use style=\"fill:#1f77b4;stroke:#1f77b4;\" x=\"347.818182\" xlink:href=\"#m5cba5b339a\" y=\"62.291857\"/>\r\n     <use style=\"fill:#1f77b4;stroke:#1f77b4;\" x=\"348.579091\" xlink:href=\"#m5cba5b339a\" y=\"60.731627\"/>\r\n     <use style=\"fill:#1f77b4;stroke:#1f77b4;\" x=\"349.34\" xlink:href=\"#m5cba5b339a\" y=\"59.366425\"/>\r\n     <use style=\"fill:#1f77b4;stroke:#1f77b4;\" x=\"350.100909\" xlink:href=\"#m5cba5b339a\" y=\"58.098738\"/>\r\n     <use style=\"fill:#1f77b4;stroke:#1f77b4;\" x=\"350.861818\" xlink:href=\"#m5cba5b339a\" y=\"57.318623\"/>\r\n     <use style=\"fill:#1f77b4;stroke:#1f77b4;\" x=\"351.622727\" xlink:href=\"#m5cba5b339a\" y=\"56.48975\"/>\r\n     <use style=\"fill:#1f77b4;stroke:#1f77b4;\" x=\"352.383636\" xlink:href=\"#m5cba5b339a\" y=\"55.075792\"/>\r\n     <use style=\"fill:#1f77b4;stroke:#1f77b4;\" x=\"353.144545\" xlink:href=\"#m5cba5b339a\" y=\"54.051891\"/>\r\n     <use style=\"fill:#1f77b4;stroke:#1f77b4;\" x=\"353.905455\" xlink:href=\"#m5cba5b339a\" y=\"53.36929\"/>\r\n     <use style=\"fill:#1f77b4;stroke:#1f77b4;\" x=\"354.666364\" xlink:href=\"#m5cba5b339a\" y=\"52.686689\"/>\r\n     <use style=\"fill:#1f77b4;stroke:#1f77b4;\" x=\"355.427273\" xlink:href=\"#m5cba5b339a\" y=\"52.052845\"/>\r\n     <use style=\"fill:#1f77b4;stroke:#1f77b4;\" x=\"356.188182\" xlink:href=\"#m5cba5b339a\" y=\"51.662788\"/>\r\n     <use style=\"fill:#1f77b4;stroke:#1f77b4;\" x=\"356.949091\" xlink:href=\"#m5cba5b339a\" y=\"50.395101\"/>\r\n     <use style=\"fill:#1f77b4;stroke:#1f77b4;\" x=\"357.71\" xlink:href=\"#m5cba5b339a\" y=\"49.371199\"/>\r\n     <use style=\"fill:#1f77b4;stroke:#1f77b4;\" x=\"358.470909\" xlink:href=\"#m5cba5b339a\" y=\"48.444813\"/>\r\n     <use style=\"fill:#1f77b4;stroke:#1f77b4;\" x=\"359.231818\" xlink:href=\"#m5cba5b339a\" y=\"47.567183\"/>\r\n    </g>\r\n   </g>\r\n   <g id=\"matplotlib.axis_1\">\r\n    <g id=\"xtick_1\">\r\n     <g id=\"line2d_1\">\r\n      <defs>\r\n       <path d=\"M 0 0 \r\nL 0 3.5 \r\n\" id=\"m2d94016417\" style=\"stroke:#000000;stroke-width:0.8;\"/>\r\n      </defs>\r\n      <g>\r\n       <use style=\"stroke:#000000;stroke-width:0.8;\" x=\"41.932727\" xlink:href=\"#m2d94016417\" y=\"253.44\"/>\r\n      </g>\r\n     </g>\r\n     <g id=\"text_1\">\r\n      <!-- 2020-03 -->\r\n      <g transform=\"translate(21.041321 268.038437)scale(0.1 -0.1)\">\r\n       <defs>\r\n        <path d=\"M 19.1875 8.296875 \r\nL 53.609375 8.296875 \r\nL 53.609375 0 \r\nL 7.328125 0 \r\nL 7.328125 8.296875 \r\nQ 12.9375 14.109375 22.625 23.890625 \r\nQ 32.328125 33.6875 34.8125 36.53125 \r\nQ 39.546875 41.84375 41.421875 45.53125 \r\nQ 43.3125 49.21875 43.3125 52.78125 \r\nQ 43.3125 58.59375 39.234375 62.25 \r\nQ 35.15625 65.921875 28.609375 65.921875 \r\nQ 23.96875 65.921875 18.8125 64.3125 \r\nQ 13.671875 62.703125 7.8125 59.421875 \r\nL 7.8125 69.390625 \r\nQ 13.765625 71.78125 18.9375 73 \r\nQ 24.125 74.21875 28.421875 74.21875 \r\nQ 39.75 74.21875 46.484375 68.546875 \r\nQ 53.21875 62.890625 53.21875 53.421875 \r\nQ 53.21875 48.921875 51.53125 44.890625 \r\nQ 49.859375 40.875 45.40625 35.40625 \r\nQ 44.1875 33.984375 37.640625 27.21875 \r\nQ 31.109375 20.453125 19.1875 8.296875 \r\nz\r\n\" id=\"DejaVuSans-50\"/>\r\n        <path d=\"M 31.78125 66.40625 \r\nQ 24.171875 66.40625 20.328125 58.90625 \r\nQ 16.5 51.421875 16.5 36.375 \r\nQ 16.5 21.390625 20.328125 13.890625 \r\nQ 24.171875 6.390625 31.78125 6.390625 \r\nQ 39.453125 6.390625 43.28125 13.890625 \r\nQ 47.125 21.390625 47.125 36.375 \r\nQ 47.125 51.421875 43.28125 58.90625 \r\nQ 39.453125 66.40625 31.78125 66.40625 \r\nz\r\nM 31.78125 74.21875 \r\nQ 44.046875 74.21875 50.515625 64.515625 \r\nQ 56.984375 54.828125 56.984375 36.375 \r\nQ 56.984375 17.96875 50.515625 8.265625 \r\nQ 44.046875 -1.421875 31.78125 -1.421875 \r\nQ 19.53125 -1.421875 13.0625 8.265625 \r\nQ 6.59375 17.96875 6.59375 36.375 \r\nQ 6.59375 54.828125 13.0625 64.515625 \r\nQ 19.53125 74.21875 31.78125 74.21875 \r\nz\r\n\" id=\"DejaVuSans-48\"/>\r\n        <path d=\"M 4.890625 31.390625 \r\nL 31.203125 31.390625 \r\nL 31.203125 23.390625 \r\nL 4.890625 23.390625 \r\nz\r\n\" id=\"DejaVuSans-45\"/>\r\n        <path d=\"M 40.578125 39.3125 \r\nQ 47.65625 37.796875 51.625 33 \r\nQ 55.609375 28.21875 55.609375 21.1875 \r\nQ 55.609375 10.40625 48.1875 4.484375 \r\nQ 40.765625 -1.421875 27.09375 -1.421875 \r\nQ 22.515625 -1.421875 17.65625 -0.515625 \r\nQ 12.796875 0.390625 7.625 2.203125 \r\nL 7.625 11.71875 \r\nQ 11.71875 9.328125 16.59375 8.109375 \r\nQ 21.484375 6.890625 26.8125 6.890625 \r\nQ 36.078125 6.890625 40.9375 10.546875 \r\nQ 45.796875 14.203125 45.796875 21.1875 \r\nQ 45.796875 27.640625 41.28125 31.265625 \r\nQ 36.765625 34.90625 28.71875 34.90625 \r\nL 20.21875 34.90625 \r\nL 20.21875 43.015625 \r\nL 29.109375 43.015625 \r\nQ 36.375 43.015625 40.234375 45.921875 \r\nQ 44.09375 48.828125 44.09375 54.296875 \r\nQ 44.09375 59.90625 40.109375 62.90625 \r\nQ 36.140625 65.921875 28.71875 65.921875 \r\nQ 24.65625 65.921875 20.015625 65.03125 \r\nQ 15.375 64.15625 9.8125 62.3125 \r\nL 9.8125 71.09375 \r\nQ 15.4375 72.65625 20.34375 73.4375 \r\nQ 25.25 74.21875 29.59375 74.21875 \r\nQ 40.828125 74.21875 47.359375 69.109375 \r\nQ 53.90625 64.015625 53.90625 55.328125 \r\nQ 53.90625 49.265625 50.4375 45.09375 \r\nQ 46.96875 40.921875 40.578125 39.3125 \r\nz\r\n\" id=\"DejaVuSans-51\"/>\r\n       </defs>\r\n       <use xlink:href=\"#DejaVuSans-50\"/>\r\n       <use x=\"63.623047\" xlink:href=\"#DejaVuSans-48\"/>\r\n       <use x=\"127.246094\" xlink:href=\"#DejaVuSans-50\"/>\r\n       <use x=\"190.869141\" xlink:href=\"#DejaVuSans-48\"/>\r\n       <use x=\"254.492188\" xlink:href=\"#DejaVuSans-45\"/>\r\n       <use x=\"290.576172\" xlink:href=\"#DejaVuSans-48\"/>\r\n       <use x=\"354.199219\" xlink:href=\"#DejaVuSans-51\"/>\r\n      </g>\r\n     </g>\r\n    </g>\r\n    <g id=\"xtick_2\">\r\n     <g id=\"line2d_2\">\r\n      <g>\r\n       <use style=\"stroke:#000000;stroke-width:0.8;\" x=\"88.348182\" xlink:href=\"#m2d94016417\" y=\"253.44\"/>\r\n      </g>\r\n     </g>\r\n     <g id=\"text_2\">\r\n      <!-- 2020-05 -->\r\n      <g transform=\"translate(67.456776 268.038437)scale(0.1 -0.1)\">\r\n       <defs>\r\n        <path d=\"M 10.796875 72.90625 \r\nL 49.515625 72.90625 \r\nL 49.515625 64.59375 \r\nL 19.828125 64.59375 \r\nL 19.828125 46.734375 \r\nQ 21.96875 47.46875 24.109375 47.828125 \r\nQ 26.265625 48.1875 28.421875 48.1875 \r\nQ 40.625 48.1875 47.75 41.5 \r\nQ 54.890625 34.8125 54.890625 23.390625 \r\nQ 54.890625 11.625 47.5625 5.09375 \r\nQ 40.234375 -1.421875 26.90625 -1.421875 \r\nQ 22.3125 -1.421875 17.546875 -0.640625 \r\nQ 12.796875 0.140625 7.71875 1.703125 \r\nL 7.71875 11.625 \r\nQ 12.109375 9.234375 16.796875 8.0625 \r\nQ 21.484375 6.890625 26.703125 6.890625 \r\nQ 35.15625 6.890625 40.078125 11.328125 \r\nQ 45.015625 15.765625 45.015625 23.390625 \r\nQ 45.015625 31 40.078125 35.4375 \r\nQ 35.15625 39.890625 26.703125 39.890625 \r\nQ 22.75 39.890625 18.8125 39.015625 \r\nQ 14.890625 38.140625 10.796875 36.28125 \r\nz\r\n\" id=\"DejaVuSans-53\"/>\r\n       </defs>\r\n       <use xlink:href=\"#DejaVuSans-50\"/>\r\n       <use x=\"63.623047\" xlink:href=\"#DejaVuSans-48\"/>\r\n       <use x=\"127.246094\" xlink:href=\"#DejaVuSans-50\"/>\r\n       <use x=\"190.869141\" xlink:href=\"#DejaVuSans-48\"/>\r\n       <use x=\"254.492188\" xlink:href=\"#DejaVuSans-45\"/>\r\n       <use x=\"290.576172\" xlink:href=\"#DejaVuSans-48\"/>\r\n       <use x=\"354.199219\" xlink:href=\"#DejaVuSans-53\"/>\r\n      </g>\r\n     </g>\r\n    </g>\r\n    <g id=\"xtick_3\">\r\n     <g id=\"line2d_3\">\r\n      <g>\r\n       <use style=\"stroke:#000000;stroke-width:0.8;\" x=\"134.763636\" xlink:href=\"#m2d94016417\" y=\"253.44\"/>\r\n      </g>\r\n     </g>\r\n     <g id=\"text_3\">\r\n      <!-- 2020-07 -->\r\n      <g transform=\"translate(113.87223 268.038437)scale(0.1 -0.1)\">\r\n       <defs>\r\n        <path d=\"M 8.203125 72.90625 \r\nL 55.078125 72.90625 \r\nL 55.078125 68.703125 \r\nL 28.609375 0 \r\nL 18.3125 0 \r\nL 43.21875 64.59375 \r\nL 8.203125 64.59375 \r\nz\r\n\" id=\"DejaVuSans-55\"/>\r\n       </defs>\r\n       <use xlink:href=\"#DejaVuSans-50\"/>\r\n       <use x=\"63.623047\" xlink:href=\"#DejaVuSans-48\"/>\r\n       <use x=\"127.246094\" xlink:href=\"#DejaVuSans-50\"/>\r\n       <use x=\"190.869141\" xlink:href=\"#DejaVuSans-48\"/>\r\n       <use x=\"254.492188\" xlink:href=\"#DejaVuSans-45\"/>\r\n       <use x=\"290.576172\" xlink:href=\"#DejaVuSans-48\"/>\r\n       <use x=\"354.199219\" xlink:href=\"#DejaVuSans-55\"/>\r\n      </g>\r\n     </g>\r\n    </g>\r\n    <g id=\"xtick_4\">\r\n     <g id=\"line2d_4\">\r\n      <g>\r\n       <use style=\"stroke:#000000;stroke-width:0.8;\" x=\"181.94\" xlink:href=\"#m2d94016417\" y=\"253.44\"/>\r\n      </g>\r\n     </g>\r\n     <g id=\"text_4\">\r\n      <!-- 2020-09 -->\r\n      <g transform=\"translate(161.048594 268.038437)scale(0.1 -0.1)\">\r\n       <defs>\r\n        <path d=\"M 10.984375 1.515625 \r\nL 10.984375 10.5 \r\nQ 14.703125 8.734375 18.5 7.8125 \r\nQ 22.3125 6.890625 25.984375 6.890625 \r\nQ 35.75 6.890625 40.890625 13.453125 \r\nQ 46.046875 20.015625 46.78125 33.40625 \r\nQ 43.953125 29.203125 39.59375 26.953125 \r\nQ 35.25 24.703125 29.984375 24.703125 \r\nQ 19.046875 24.703125 12.671875 31.3125 \r\nQ 6.296875 37.9375 6.296875 49.421875 \r\nQ 6.296875 60.640625 12.9375 67.421875 \r\nQ 19.578125 74.21875 30.609375 74.21875 \r\nQ 43.265625 74.21875 49.921875 64.515625 \r\nQ 56.59375 54.828125 56.59375 36.375 \r\nQ 56.59375 19.140625 48.40625 8.859375 \r\nQ 40.234375 -1.421875 26.421875 -1.421875 \r\nQ 22.703125 -1.421875 18.890625 -0.6875 \r\nQ 15.09375 0.046875 10.984375 1.515625 \r\nz\r\nM 30.609375 32.421875 \r\nQ 37.25 32.421875 41.125 36.953125 \r\nQ 45.015625 41.5 45.015625 49.421875 \r\nQ 45.015625 57.28125 41.125 61.84375 \r\nQ 37.25 66.40625 30.609375 66.40625 \r\nQ 23.96875 66.40625 20.09375 61.84375 \r\nQ 16.21875 57.28125 16.21875 49.421875 \r\nQ 16.21875 41.5 20.09375 36.953125 \r\nQ 23.96875 32.421875 30.609375 32.421875 \r\nz\r\n\" id=\"DejaVuSans-57\"/>\r\n       </defs>\r\n       <use xlink:href=\"#DejaVuSans-50\"/>\r\n       <use x=\"63.623047\" xlink:href=\"#DejaVuSans-48\"/>\r\n       <use x=\"127.246094\" xlink:href=\"#DejaVuSans-50\"/>\r\n       <use x=\"190.869141\" xlink:href=\"#DejaVuSans-48\"/>\r\n       <use x=\"254.492188\" xlink:href=\"#DejaVuSans-45\"/>\r\n       <use x=\"290.576172\" xlink:href=\"#DejaVuSans-48\"/>\r\n       <use x=\"354.199219\" xlink:href=\"#DejaVuSans-57\"/>\r\n      </g>\r\n     </g>\r\n    </g>\r\n    <g id=\"xtick_5\">\r\n     <g id=\"line2d_5\">\r\n      <g>\r\n       <use style=\"stroke:#000000;stroke-width:0.8;\" x=\"228.355455\" xlink:href=\"#m2d94016417\" y=\"253.44\"/>\r\n      </g>\r\n     </g>\r\n     <g id=\"text_5\">\r\n      <!-- 2020-11 -->\r\n      <g transform=\"translate(207.464048 268.038437)scale(0.1 -0.1)\">\r\n       <defs>\r\n        <path d=\"M 12.40625 8.296875 \r\nL 28.515625 8.296875 \r\nL 28.515625 63.921875 \r\nL 10.984375 60.40625 \r\nL 10.984375 69.390625 \r\nL 28.421875 72.90625 \r\nL 38.28125 72.90625 \r\nL 38.28125 8.296875 \r\nL 54.390625 8.296875 \r\nL 54.390625 0 \r\nL 12.40625 0 \r\nz\r\n\" id=\"DejaVuSans-49\"/>\r\n       </defs>\r\n       <use xlink:href=\"#DejaVuSans-50\"/>\r\n       <use x=\"63.623047\" xlink:href=\"#DejaVuSans-48\"/>\r\n       <use x=\"127.246094\" xlink:href=\"#DejaVuSans-50\"/>\r\n       <use x=\"190.869141\" xlink:href=\"#DejaVuSans-48\"/>\r\n       <use x=\"254.492188\" xlink:href=\"#DejaVuSans-45\"/>\r\n       <use x=\"290.576172\" xlink:href=\"#DejaVuSans-49\"/>\r\n       <use x=\"354.199219\" xlink:href=\"#DejaVuSans-49\"/>\r\n      </g>\r\n     </g>\r\n    </g>\r\n    <g id=\"xtick_6\">\r\n     <g id=\"line2d_6\">\r\n      <g>\r\n       <use style=\"stroke:#000000;stroke-width:0.8;\" x=\"274.770909\" xlink:href=\"#m2d94016417\" y=\"253.44\"/>\r\n      </g>\r\n     </g>\r\n     <g id=\"text_6\">\r\n      <!-- 2021-01 -->\r\n      <g transform=\"translate(253.879503 268.038437)scale(0.1 -0.1)\">\r\n       <use xlink:href=\"#DejaVuSans-50\"/>\r\n       <use x=\"63.623047\" xlink:href=\"#DejaVuSans-48\"/>\r\n       <use x=\"127.246094\" xlink:href=\"#DejaVuSans-50\"/>\r\n       <use x=\"190.869141\" xlink:href=\"#DejaVuSans-49\"/>\r\n       <use x=\"254.492188\" xlink:href=\"#DejaVuSans-45\"/>\r\n       <use x=\"290.576172\" xlink:href=\"#DejaVuSans-48\"/>\r\n       <use x=\"354.199219\" xlink:href=\"#DejaVuSans-49\"/>\r\n      </g>\r\n     </g>\r\n    </g>\r\n    <g id=\"xtick_7\">\r\n     <g id=\"line2d_7\">\r\n      <g>\r\n       <use style=\"stroke:#000000;stroke-width:0.8;\" x=\"319.664545\" xlink:href=\"#m2d94016417\" y=\"253.44\"/>\r\n      </g>\r\n     </g>\r\n     <g id=\"text_7\">\r\n      <!-- 2021-03 -->\r\n      <g transform=\"translate(298.773139 268.038437)scale(0.1 -0.1)\">\r\n       <use xlink:href=\"#DejaVuSans-50\"/>\r\n       <use x=\"63.623047\" xlink:href=\"#DejaVuSans-48\"/>\r\n       <use x=\"127.246094\" xlink:href=\"#DejaVuSans-50\"/>\r\n       <use x=\"190.869141\" xlink:href=\"#DejaVuSans-49\"/>\r\n       <use x=\"254.492188\" xlink:href=\"#DejaVuSans-45\"/>\r\n       <use x=\"290.576172\" xlink:href=\"#DejaVuSans-48\"/>\r\n       <use x=\"354.199219\" xlink:href=\"#DejaVuSans-51\"/>\r\n      </g>\r\n     </g>\r\n    </g>\r\n    <g id=\"xtick_8\">\r\n     <g id=\"line2d_8\">\r\n      <g>\r\n       <use style=\"stroke:#000000;stroke-width:0.8;\" x=\"366.08\" xlink:href=\"#m2d94016417\" y=\"253.44\"/>\r\n      </g>\r\n     </g>\r\n     <g id=\"text_8\">\r\n      <!-- 2021-05 -->\r\n      <g transform=\"translate(345.188594 268.038437)scale(0.1 -0.1)\">\r\n       <use xlink:href=\"#DejaVuSans-50\"/>\r\n       <use x=\"63.623047\" xlink:href=\"#DejaVuSans-48\"/>\r\n       <use x=\"127.246094\" xlink:href=\"#DejaVuSans-50\"/>\r\n       <use x=\"190.869141\" xlink:href=\"#DejaVuSans-49\"/>\r\n       <use x=\"254.492188\" xlink:href=\"#DejaVuSans-45\"/>\r\n       <use x=\"290.576172\" xlink:href=\"#DejaVuSans-48\"/>\r\n       <use x=\"354.199219\" xlink:href=\"#DejaVuSans-53\"/>\r\n      </g>\r\n     </g>\r\n    </g>\r\n   </g>\r\n   <g id=\"matplotlib.axis_2\">\r\n    <g id=\"ytick_1\">\r\n     <g id=\"line2d_9\">\r\n      <defs>\r\n       <path d=\"M 0 0 \r\nL -3.5 0 \r\n\" id=\"m27ddeb66a7\" style=\"stroke:#000000;stroke-width:0.8;\"/>\r\n      </defs>\r\n      <g>\r\n       <use style=\"stroke:#000000;stroke-width:0.8;\" x=\"39.65\" xlink:href=\"#m27ddeb66a7\" y=\"243.76615\"/>\r\n      </g>\r\n     </g>\r\n     <g id=\"text_9\">\r\n      <!-- 0 -->\r\n      <g transform=\"translate(26.2875 247.565369)scale(0.1 -0.1)\">\r\n       <use xlink:href=\"#DejaVuSans-48\"/>\r\n      </g>\r\n     </g>\r\n    </g>\r\n    <g id=\"ytick_2\">\r\n     <g id=\"line2d_10\">\r\n      <g>\r\n       <use style=\"stroke:#000000;stroke-width:0.8;\" x=\"39.65\" xlink:href=\"#m27ddeb66a7\" y=\"219.387551\"/>\r\n      </g>\r\n     </g>\r\n     <g id=\"text_10\">\r\n      <!-- 1000 -->\r\n      <g transform=\"translate(7.2 223.18677)scale(0.1 -0.1)\">\r\n       <use xlink:href=\"#DejaVuSans-49\"/>\r\n       <use x=\"63.623047\" xlink:href=\"#DejaVuSans-48\"/>\r\n       <use x=\"127.246094\" xlink:href=\"#DejaVuSans-48\"/>\r\n       <use x=\"190.869141\" xlink:href=\"#DejaVuSans-48\"/>\r\n      </g>\r\n     </g>\r\n    </g>\r\n    <g id=\"ytick_3\">\r\n     <g id=\"line2d_11\">\r\n      <g>\r\n       <use style=\"stroke:#000000;stroke-width:0.8;\" x=\"39.65\" xlink:href=\"#m27ddeb66a7\" y=\"195.008952\"/>\r\n      </g>\r\n     </g>\r\n     <g id=\"text_11\">\r\n      <!-- 2000 -->\r\n      <g transform=\"translate(7.2 198.80817)scale(0.1 -0.1)\">\r\n       <use xlink:href=\"#DejaVuSans-50\"/>\r\n       <use x=\"63.623047\" xlink:href=\"#DejaVuSans-48\"/>\r\n       <use x=\"127.246094\" xlink:href=\"#DejaVuSans-48\"/>\r\n       <use x=\"190.869141\" xlink:href=\"#DejaVuSans-48\"/>\r\n      </g>\r\n     </g>\r\n    </g>\r\n    <g id=\"ytick_4\">\r\n     <g id=\"line2d_12\">\r\n      <g>\r\n       <use style=\"stroke:#000000;stroke-width:0.8;\" x=\"39.65\" xlink:href=\"#m27ddeb66a7\" y=\"170.630352\"/>\r\n      </g>\r\n     </g>\r\n     <g id=\"text_12\">\r\n      <!-- 3000 -->\r\n      <g transform=\"translate(7.2 174.429571)scale(0.1 -0.1)\">\r\n       <use xlink:href=\"#DejaVuSans-51\"/>\r\n       <use x=\"63.623047\" xlink:href=\"#DejaVuSans-48\"/>\r\n       <use x=\"127.246094\" xlink:href=\"#DejaVuSans-48\"/>\r\n       <use x=\"190.869141\" xlink:href=\"#DejaVuSans-48\"/>\r\n      </g>\r\n     </g>\r\n    </g>\r\n    <g id=\"ytick_5\">\r\n     <g id=\"line2d_13\">\r\n      <g>\r\n       <use style=\"stroke:#000000;stroke-width:0.8;\" x=\"39.65\" xlink:href=\"#m27ddeb66a7\" y=\"146.251753\"/>\r\n      </g>\r\n     </g>\r\n     <g id=\"text_13\">\r\n      <!-- 4000 -->\r\n      <g transform=\"translate(7.2 150.050972)scale(0.1 -0.1)\">\r\n       <defs>\r\n        <path d=\"M 37.796875 64.3125 \r\nL 12.890625 25.390625 \r\nL 37.796875 25.390625 \r\nz\r\nM 35.203125 72.90625 \r\nL 47.609375 72.90625 \r\nL 47.609375 25.390625 \r\nL 58.015625 25.390625 \r\nL 58.015625 17.1875 \r\nL 47.609375 17.1875 \r\nL 47.609375 0 \r\nL 37.796875 0 \r\nL 37.796875 17.1875 \r\nL 4.890625 17.1875 \r\nL 4.890625 26.703125 \r\nz\r\n\" id=\"DejaVuSans-52\"/>\r\n       </defs>\r\n       <use xlink:href=\"#DejaVuSans-52\"/>\r\n       <use x=\"63.623047\" xlink:href=\"#DejaVuSans-48\"/>\r\n       <use x=\"127.246094\" xlink:href=\"#DejaVuSans-48\"/>\r\n       <use x=\"190.869141\" xlink:href=\"#DejaVuSans-48\"/>\r\n      </g>\r\n     </g>\r\n    </g>\r\n    <g id=\"ytick_6\">\r\n     <g id=\"line2d_14\">\r\n      <g>\r\n       <use style=\"stroke:#000000;stroke-width:0.8;\" x=\"39.65\" xlink:href=\"#m27ddeb66a7\" y=\"121.873154\"/>\r\n      </g>\r\n     </g>\r\n     <g id=\"text_14\">\r\n      <!-- 5000 -->\r\n      <g transform=\"translate(7.2 125.672373)scale(0.1 -0.1)\">\r\n       <use xlink:href=\"#DejaVuSans-53\"/>\r\n       <use x=\"63.623047\" xlink:href=\"#DejaVuSans-48\"/>\r\n       <use x=\"127.246094\" xlink:href=\"#DejaVuSans-48\"/>\r\n       <use x=\"190.869141\" xlink:href=\"#DejaVuSans-48\"/>\r\n      </g>\r\n     </g>\r\n    </g>\r\n    <g id=\"ytick_7\">\r\n     <g id=\"line2d_15\">\r\n      <g>\r\n       <use style=\"stroke:#000000;stroke-width:0.8;\" x=\"39.65\" xlink:href=\"#m27ddeb66a7\" y=\"97.494554\"/>\r\n      </g>\r\n     </g>\r\n     <g id=\"text_15\">\r\n      <!-- 6000 -->\r\n      <g transform=\"translate(7.2 101.293773)scale(0.1 -0.1)\">\r\n       <defs>\r\n        <path d=\"M 33.015625 40.375 \r\nQ 26.375 40.375 22.484375 35.828125 \r\nQ 18.609375 31.296875 18.609375 23.390625 \r\nQ 18.609375 15.53125 22.484375 10.953125 \r\nQ 26.375 6.390625 33.015625 6.390625 \r\nQ 39.65625 6.390625 43.53125 10.953125 \r\nQ 47.40625 15.53125 47.40625 23.390625 \r\nQ 47.40625 31.296875 43.53125 35.828125 \r\nQ 39.65625 40.375 33.015625 40.375 \r\nz\r\nM 52.59375 71.296875 \r\nL 52.59375 62.3125 \r\nQ 48.875 64.0625 45.09375 64.984375 \r\nQ 41.3125 65.921875 37.59375 65.921875 \r\nQ 27.828125 65.921875 22.671875 59.328125 \r\nQ 17.53125 52.734375 16.796875 39.40625 \r\nQ 19.671875 43.65625 24.015625 45.921875 \r\nQ 28.375 48.1875 33.59375 48.1875 \r\nQ 44.578125 48.1875 50.953125 41.515625 \r\nQ 57.328125 34.859375 57.328125 23.390625 \r\nQ 57.328125 12.15625 50.6875 5.359375 \r\nQ 44.046875 -1.421875 33.015625 -1.421875 \r\nQ 20.359375 -1.421875 13.671875 8.265625 \r\nQ 6.984375 17.96875 6.984375 36.375 \r\nQ 6.984375 53.65625 15.1875 63.9375 \r\nQ 23.390625 74.21875 37.203125 74.21875 \r\nQ 40.921875 74.21875 44.703125 73.484375 \r\nQ 48.484375 72.75 52.59375 71.296875 \r\nz\r\n\" id=\"DejaVuSans-54\"/>\r\n       </defs>\r\n       <use xlink:href=\"#DejaVuSans-54\"/>\r\n       <use x=\"63.623047\" xlink:href=\"#DejaVuSans-48\"/>\r\n       <use x=\"127.246094\" xlink:href=\"#DejaVuSans-48\"/>\r\n       <use x=\"190.869141\" xlink:href=\"#DejaVuSans-48\"/>\r\n      </g>\r\n     </g>\r\n    </g>\r\n    <g id=\"ytick_8\">\r\n     <g id=\"line2d_16\">\r\n      <g>\r\n       <use style=\"stroke:#000000;stroke-width:0.8;\" x=\"39.65\" xlink:href=\"#m27ddeb66a7\" y=\"73.115955\"/>\r\n      </g>\r\n     </g>\r\n     <g id=\"text_16\">\r\n      <!-- 7000 -->\r\n      <g transform=\"translate(7.2 76.915174)scale(0.1 -0.1)\">\r\n       <use xlink:href=\"#DejaVuSans-55\"/>\r\n       <use x=\"63.623047\" xlink:href=\"#DejaVuSans-48\"/>\r\n       <use x=\"127.246094\" xlink:href=\"#DejaVuSans-48\"/>\r\n       <use x=\"190.869141\" xlink:href=\"#DejaVuSans-48\"/>\r\n      </g>\r\n     </g>\r\n    </g>\r\n    <g id=\"ytick_9\">\r\n     <g id=\"line2d_17\">\r\n      <g>\r\n       <use style=\"stroke:#000000;stroke-width:0.8;\" x=\"39.65\" xlink:href=\"#m27ddeb66a7\" y=\"48.737356\"/>\r\n      </g>\r\n     </g>\r\n     <g id=\"text_17\">\r\n      <!-- 8000 -->\r\n      <g transform=\"translate(7.2 52.536575)scale(0.1 -0.1)\">\r\n       <defs>\r\n        <path d=\"M 31.78125 34.625 \r\nQ 24.75 34.625 20.71875 30.859375 \r\nQ 16.703125 27.09375 16.703125 20.515625 \r\nQ 16.703125 13.921875 20.71875 10.15625 \r\nQ 24.75 6.390625 31.78125 6.390625 \r\nQ 38.8125 6.390625 42.859375 10.171875 \r\nQ 46.921875 13.96875 46.921875 20.515625 \r\nQ 46.921875 27.09375 42.890625 30.859375 \r\nQ 38.875 34.625 31.78125 34.625 \r\nz\r\nM 21.921875 38.8125 \r\nQ 15.578125 40.375 12.03125 44.71875 \r\nQ 8.5 49.078125 8.5 55.328125 \r\nQ 8.5 64.0625 14.71875 69.140625 \r\nQ 20.953125 74.21875 31.78125 74.21875 \r\nQ 42.671875 74.21875 48.875 69.140625 \r\nQ 55.078125 64.0625 55.078125 55.328125 \r\nQ 55.078125 49.078125 51.53125 44.71875 \r\nQ 48 40.375 41.703125 38.8125 \r\nQ 48.828125 37.15625 52.796875 32.3125 \r\nQ 56.78125 27.484375 56.78125 20.515625 \r\nQ 56.78125 9.90625 50.3125 4.234375 \r\nQ 43.84375 -1.421875 31.78125 -1.421875 \r\nQ 19.734375 -1.421875 13.25 4.234375 \r\nQ 6.78125 9.90625 6.78125 20.515625 \r\nQ 6.78125 27.484375 10.78125 32.3125 \r\nQ 14.796875 37.15625 21.921875 38.8125 \r\nz\r\nM 18.3125 54.390625 \r\nQ 18.3125 48.734375 21.84375 45.5625 \r\nQ 25.390625 42.390625 31.78125 42.390625 \r\nQ 38.140625 42.390625 41.71875 45.5625 \r\nQ 45.3125 48.734375 45.3125 54.390625 \r\nQ 45.3125 60.0625 41.71875 63.234375 \r\nQ 38.140625 66.40625 31.78125 66.40625 \r\nQ 25.390625 66.40625 21.84375 63.234375 \r\nQ 18.3125 60.0625 18.3125 54.390625 \r\nz\r\n\" id=\"DejaVuSans-56\"/>\r\n       </defs>\r\n       <use xlink:href=\"#DejaVuSans-56\"/>\r\n       <use x=\"63.623047\" xlink:href=\"#DejaVuSans-48\"/>\r\n       <use x=\"127.246094\" xlink:href=\"#DejaVuSans-48\"/>\r\n       <use x=\"190.869141\" xlink:href=\"#DejaVuSans-48\"/>\r\n      </g>\r\n     </g>\r\n    </g>\r\n   </g>\r\n   <g id=\"line2d_18\">\r\n    <path clip-path=\"url(#peedf1e9b8a)\" d=\"M 54.868182 243.556364 \r\nL 58.672727 241.749873 \r\nL 63.238182 239.271742 \r\nL 70.086364 235.232659 \r\nL 79.217273 229.86867 \r\nL 84.543636 227.004903 \r\nL 89.109091 224.798463 \r\nL 93.674545 222.863518 \r\nL 97.479091 221.476854 \r\nL 101.283636 220.303768 \r\nL 105.088182 219.346093 \r\nL 108.892727 218.600594 \r\nL 112.697273 218.059519 \r\nL 117.262727 217.663312 \r\nL 121.828182 217.517675 \r\nL 126.393636 217.589923 \r\nL 131.72 217.899396 \r\nL 138.568182 218.551627 \r\nL 159.873636 220.819447 \r\nL 165.2 221.065845 \r\nL 169.765455 221.070305 \r\nL 174.330909 220.844505 \r\nL 178.135455 220.456031 \r\nL 181.94 219.866796 \r\nL 185.744545 219.061461 \r\nL 189.549091 218.026871 \r\nL 193.353636 216.752166 \r\nL 197.158182 215.228855 \r\nL 200.962727 213.450881 \r\nL 204.767273 211.41466 \r\nL 208.571818 209.119097 \r\nL 212.376364 206.565583 \r\nL 216.180909 203.757971 \r\nL 219.985455 200.702527 \r\nL 224.550909 196.721139 \r\nL 229.116364 192.414537 \r\nL 233.681818 187.80626 \r\nL 239.008182 182.085656 \r\nL 244.334545 176.04211 \r\nL 250.421818 168.811388 \r\nL 258.030909 159.420083 \r\nL 286.945455 123.312327 \r\nL 293.793636 115.340032 \r\nL 299.880909 108.591469 \r\nL 305.968182 102.183733 \r\nL 312.055455 96.107713 \r\nL 318.903636 89.610723 \r\nL 329.556364 79.891906 \r\nL 337.165455 72.808682 \r\nL 341.730909 68.276522 \r\nL 345.535455 64.219095 \r\nL 349.34 59.807868 \r\nL 352.383636 55.953435 \r\nL 355.427273 51.744608 \r\nL 358.470909 47.115095 \r\nL 359.231818 45.883636 \r\nL 359.231818 45.883636 \r\n\" style=\"fill:none;stroke:#ff0000;stroke-linecap:square;stroke-width:1.5;\"/>\r\n   </g>\r\n   <g id=\"patch_3\">\r\n    <path d=\"M 39.65 253.44 \r\nL 39.65 36 \r\n\" style=\"fill:none;stroke:#000000;stroke-linecap:square;stroke-linejoin:miter;stroke-width:0.8;\"/>\r\n   </g>\r\n   <g id=\"patch_4\">\r\n    <path d=\"M 374.45 253.44 \r\nL 374.45 36 \r\n\" style=\"fill:none;stroke:#000000;stroke-linecap:square;stroke-linejoin:miter;stroke-width:0.8;\"/>\r\n   </g>\r\n   <g id=\"patch_5\">\r\n    <path d=\"M 39.65 253.44 \r\nL 374.45 253.44 \r\n\" style=\"fill:none;stroke:#000000;stroke-linecap:square;stroke-linejoin:miter;stroke-width:0.8;\"/>\r\n   </g>\r\n   <g id=\"patch_6\">\r\n    <path d=\"M 39.65 36 \r\nL 374.45 36 \r\n\" style=\"fill:none;stroke:#000000;stroke-linecap:square;stroke-linejoin:miter;stroke-width:0.8;\"/>\r\n   </g>\r\n   <g id=\"text_18\">\r\n    <!-- Degree of polynomial regression : 6 -->\r\n    <g transform=\"translate(117.660156 30)scale(0.1 -0.1)\">\r\n     <defs>\r\n      <path d=\"M 19.671875 64.796875 \r\nL 19.671875 8.109375 \r\nL 31.59375 8.109375 \r\nQ 46.6875 8.109375 53.6875 14.9375 \r\nQ 60.6875 21.78125 60.6875 36.53125 \r\nQ 60.6875 51.171875 53.6875 57.984375 \r\nQ 46.6875 64.796875 31.59375 64.796875 \r\nz\r\nM 9.8125 72.90625 \r\nL 30.078125 72.90625 \r\nQ 51.265625 72.90625 61.171875 64.09375 \r\nQ 71.09375 55.28125 71.09375 36.53125 \r\nQ 71.09375 17.671875 61.125 8.828125 \r\nQ 51.171875 0 30.078125 0 \r\nL 9.8125 0 \r\nz\r\n\" id=\"DejaVuSans-68\"/>\r\n      <path d=\"M 56.203125 29.59375 \r\nL 56.203125 25.203125 \r\nL 14.890625 25.203125 \r\nQ 15.484375 15.921875 20.484375 11.0625 \r\nQ 25.484375 6.203125 34.421875 6.203125 \r\nQ 39.59375 6.203125 44.453125 7.46875 \r\nQ 49.3125 8.734375 54.109375 11.28125 \r\nL 54.109375 2.78125 \r\nQ 49.265625 0.734375 44.1875 -0.34375 \r\nQ 39.109375 -1.421875 33.890625 -1.421875 \r\nQ 20.796875 -1.421875 13.15625 6.1875 \r\nQ 5.515625 13.8125 5.515625 26.8125 \r\nQ 5.515625 40.234375 12.765625 48.109375 \r\nQ 20.015625 56 32.328125 56 \r\nQ 43.359375 56 49.78125 48.890625 \r\nQ 56.203125 41.796875 56.203125 29.59375 \r\nz\r\nM 47.21875 32.234375 \r\nQ 47.125 39.59375 43.09375 43.984375 \r\nQ 39.0625 48.390625 32.421875 48.390625 \r\nQ 24.90625 48.390625 20.390625 44.140625 \r\nQ 15.875 39.890625 15.1875 32.171875 \r\nz\r\n\" id=\"DejaVuSans-101\"/>\r\n      <path d=\"M 45.40625 27.984375 \r\nQ 45.40625 37.75 41.375 43.109375 \r\nQ 37.359375 48.484375 30.078125 48.484375 \r\nQ 22.859375 48.484375 18.828125 43.109375 \r\nQ 14.796875 37.75 14.796875 27.984375 \r\nQ 14.796875 18.265625 18.828125 12.890625 \r\nQ 22.859375 7.515625 30.078125 7.515625 \r\nQ 37.359375 7.515625 41.375 12.890625 \r\nQ 45.40625 18.265625 45.40625 27.984375 \r\nz\r\nM 54.390625 6.78125 \r\nQ 54.390625 -7.171875 48.1875 -13.984375 \r\nQ 42 -20.796875 29.203125 -20.796875 \r\nQ 24.46875 -20.796875 20.265625 -20.09375 \r\nQ 16.0625 -19.390625 12.109375 -17.921875 \r\nL 12.109375 -9.1875 \r\nQ 16.0625 -11.328125 19.921875 -12.34375 \r\nQ 23.78125 -13.375 27.78125 -13.375 \r\nQ 36.625 -13.375 41.015625 -8.765625 \r\nQ 45.40625 -4.15625 45.40625 5.171875 \r\nL 45.40625 9.625 \r\nQ 42.625 4.78125 38.28125 2.390625 \r\nQ 33.9375 0 27.875 0 \r\nQ 17.828125 0 11.671875 7.65625 \r\nQ 5.515625 15.328125 5.515625 27.984375 \r\nQ 5.515625 40.671875 11.671875 48.328125 \r\nQ 17.828125 56 27.875 56 \r\nQ 33.9375 56 38.28125 53.609375 \r\nQ 42.625 51.21875 45.40625 46.390625 \r\nL 45.40625 54.6875 \r\nL 54.390625 54.6875 \r\nz\r\n\" id=\"DejaVuSans-103\"/>\r\n      <path d=\"M 41.109375 46.296875 \r\nQ 39.59375 47.171875 37.8125 47.578125 \r\nQ 36.03125 48 33.890625 48 \r\nQ 26.265625 48 22.1875 43.046875 \r\nQ 18.109375 38.09375 18.109375 28.8125 \r\nL 18.109375 0 \r\nL 9.078125 0 \r\nL 9.078125 54.6875 \r\nL 18.109375 54.6875 \r\nL 18.109375 46.1875 \r\nQ 20.953125 51.171875 25.484375 53.578125 \r\nQ 30.03125 56 36.53125 56 \r\nQ 37.453125 56 38.578125 55.875 \r\nQ 39.703125 55.765625 41.0625 55.515625 \r\nz\r\n\" id=\"DejaVuSans-114\"/>\r\n      <path id=\"DejaVuSans-32\"/>\r\n      <path d=\"M 30.609375 48.390625 \r\nQ 23.390625 48.390625 19.1875 42.75 \r\nQ 14.984375 37.109375 14.984375 27.296875 \r\nQ 14.984375 17.484375 19.15625 11.84375 \r\nQ 23.34375 6.203125 30.609375 6.203125 \r\nQ 37.796875 6.203125 41.984375 11.859375 \r\nQ 46.1875 17.53125 46.1875 27.296875 \r\nQ 46.1875 37.015625 41.984375 42.703125 \r\nQ 37.796875 48.390625 30.609375 48.390625 \r\nz\r\nM 30.609375 56 \r\nQ 42.328125 56 49.015625 48.375 \r\nQ 55.71875 40.765625 55.71875 27.296875 \r\nQ 55.71875 13.875 49.015625 6.21875 \r\nQ 42.328125 -1.421875 30.609375 -1.421875 \r\nQ 18.84375 -1.421875 12.171875 6.21875 \r\nQ 5.515625 13.875 5.515625 27.296875 \r\nQ 5.515625 40.765625 12.171875 48.375 \r\nQ 18.84375 56 30.609375 56 \r\nz\r\n\" id=\"DejaVuSans-111\"/>\r\n      <path d=\"M 37.109375 75.984375 \r\nL 37.109375 68.5 \r\nL 28.515625 68.5 \r\nQ 23.6875 68.5 21.796875 66.546875 \r\nQ 19.921875 64.59375 19.921875 59.515625 \r\nL 19.921875 54.6875 \r\nL 34.71875 54.6875 \r\nL 34.71875 47.703125 \r\nL 19.921875 47.703125 \r\nL 19.921875 0 \r\nL 10.890625 0 \r\nL 10.890625 47.703125 \r\nL 2.296875 47.703125 \r\nL 2.296875 54.6875 \r\nL 10.890625 54.6875 \r\nL 10.890625 58.5 \r\nQ 10.890625 67.625 15.140625 71.796875 \r\nQ 19.390625 75.984375 28.609375 75.984375 \r\nz\r\n\" id=\"DejaVuSans-102\"/>\r\n      <path d=\"M 18.109375 8.203125 \r\nL 18.109375 -20.796875 \r\nL 9.078125 -20.796875 \r\nL 9.078125 54.6875 \r\nL 18.109375 54.6875 \r\nL 18.109375 46.390625 \r\nQ 20.953125 51.265625 25.265625 53.625 \r\nQ 29.59375 56 35.59375 56 \r\nQ 45.5625 56 51.78125 48.09375 \r\nQ 58.015625 40.1875 58.015625 27.296875 \r\nQ 58.015625 14.40625 51.78125 6.484375 \r\nQ 45.5625 -1.421875 35.59375 -1.421875 \r\nQ 29.59375 -1.421875 25.265625 0.953125 \r\nQ 20.953125 3.328125 18.109375 8.203125 \r\nz\r\nM 48.6875 27.296875 \r\nQ 48.6875 37.203125 44.609375 42.84375 \r\nQ 40.53125 48.484375 33.40625 48.484375 \r\nQ 26.265625 48.484375 22.1875 42.84375 \r\nQ 18.109375 37.203125 18.109375 27.296875 \r\nQ 18.109375 17.390625 22.1875 11.75 \r\nQ 26.265625 6.109375 33.40625 6.109375 \r\nQ 40.53125 6.109375 44.609375 11.75 \r\nQ 48.6875 17.390625 48.6875 27.296875 \r\nz\r\n\" id=\"DejaVuSans-112\"/>\r\n      <path d=\"M 9.421875 75.984375 \r\nL 18.40625 75.984375 \r\nL 18.40625 0 \r\nL 9.421875 0 \r\nz\r\n\" id=\"DejaVuSans-108\"/>\r\n      <path d=\"M 32.171875 -5.078125 \r\nQ 28.375 -14.84375 24.75 -17.8125 \r\nQ 21.140625 -20.796875 15.09375 -20.796875 \r\nL 7.90625 -20.796875 \r\nL 7.90625 -13.28125 \r\nL 13.1875 -13.28125 \r\nQ 16.890625 -13.28125 18.9375 -11.515625 \r\nQ 21 -9.765625 23.484375 -3.21875 \r\nL 25.09375 0.875 \r\nL 2.984375 54.6875 \r\nL 12.5 54.6875 \r\nL 29.59375 11.921875 \r\nL 46.6875 54.6875 \r\nL 56.203125 54.6875 \r\nz\r\n\" id=\"DejaVuSans-121\"/>\r\n      <path d=\"M 54.890625 33.015625 \r\nL 54.890625 0 \r\nL 45.90625 0 \r\nL 45.90625 32.71875 \r\nQ 45.90625 40.484375 42.875 44.328125 \r\nQ 39.84375 48.1875 33.796875 48.1875 \r\nQ 26.515625 48.1875 22.3125 43.546875 \r\nQ 18.109375 38.921875 18.109375 30.90625 \r\nL 18.109375 0 \r\nL 9.078125 0 \r\nL 9.078125 54.6875 \r\nL 18.109375 54.6875 \r\nL 18.109375 46.1875 \r\nQ 21.34375 51.125 25.703125 53.5625 \r\nQ 30.078125 56 35.796875 56 \r\nQ 45.21875 56 50.046875 50.171875 \r\nQ 54.890625 44.34375 54.890625 33.015625 \r\nz\r\n\" id=\"DejaVuSans-110\"/>\r\n      <path d=\"M 52 44.1875 \r\nQ 55.375 50.25 60.0625 53.125 \r\nQ 64.75 56 71.09375 56 \r\nQ 79.640625 56 84.28125 50.015625 \r\nQ 88.921875 44.046875 88.921875 33.015625 \r\nL 88.921875 0 \r\nL 79.890625 0 \r\nL 79.890625 32.71875 \r\nQ 79.890625 40.578125 77.09375 44.375 \r\nQ 74.3125 48.1875 68.609375 48.1875 \r\nQ 61.625 48.1875 57.5625 43.546875 \r\nQ 53.515625 38.921875 53.515625 30.90625 \r\nL 53.515625 0 \r\nL 44.484375 0 \r\nL 44.484375 32.71875 \r\nQ 44.484375 40.625 41.703125 44.40625 \r\nQ 38.921875 48.1875 33.109375 48.1875 \r\nQ 26.21875 48.1875 22.15625 43.53125 \r\nQ 18.109375 38.875 18.109375 30.90625 \r\nL 18.109375 0 \r\nL 9.078125 0 \r\nL 9.078125 54.6875 \r\nL 18.109375 54.6875 \r\nL 18.109375 46.1875 \r\nQ 21.1875 51.21875 25.484375 53.609375 \r\nQ 29.78125 56 35.6875 56 \r\nQ 41.65625 56 45.828125 52.96875 \r\nQ 50 49.953125 52 44.1875 \r\nz\r\n\" id=\"DejaVuSans-109\"/>\r\n      <path d=\"M 9.421875 54.6875 \r\nL 18.40625 54.6875 \r\nL 18.40625 0 \r\nL 9.421875 0 \r\nz\r\nM 9.421875 75.984375 \r\nL 18.40625 75.984375 \r\nL 18.40625 64.59375 \r\nL 9.421875 64.59375 \r\nz\r\n\" id=\"DejaVuSans-105\"/>\r\n      <path d=\"M 34.28125 27.484375 \r\nQ 23.390625 27.484375 19.1875 25 \r\nQ 14.984375 22.515625 14.984375 16.5 \r\nQ 14.984375 11.71875 18.140625 8.90625 \r\nQ 21.296875 6.109375 26.703125 6.109375 \r\nQ 34.1875 6.109375 38.703125 11.40625 \r\nQ 43.21875 16.703125 43.21875 25.484375 \r\nL 43.21875 27.484375 \r\nz\r\nM 52.203125 31.203125 \r\nL 52.203125 0 \r\nL 43.21875 0 \r\nL 43.21875 8.296875 \r\nQ 40.140625 3.328125 35.546875 0.953125 \r\nQ 30.953125 -1.421875 24.3125 -1.421875 \r\nQ 15.921875 -1.421875 10.953125 3.296875 \r\nQ 6 8.015625 6 15.921875 \r\nQ 6 25.140625 12.171875 29.828125 \r\nQ 18.359375 34.515625 30.609375 34.515625 \r\nL 43.21875 34.515625 \r\nL 43.21875 35.40625 \r\nQ 43.21875 41.609375 39.140625 45 \r\nQ 35.0625 48.390625 27.6875 48.390625 \r\nQ 23 48.390625 18.546875 47.265625 \r\nQ 14.109375 46.140625 10.015625 43.890625 \r\nL 10.015625 52.203125 \r\nQ 14.9375 54.109375 19.578125 55.046875 \r\nQ 24.21875 56 28.609375 56 \r\nQ 40.484375 56 46.34375 49.84375 \r\nQ 52.203125 43.703125 52.203125 31.203125 \r\nz\r\n\" id=\"DejaVuSans-97\"/>\r\n      <path d=\"M 44.28125 53.078125 \r\nL 44.28125 44.578125 \r\nQ 40.484375 46.53125 36.375 47.5 \r\nQ 32.28125 48.484375 27.875 48.484375 \r\nQ 21.1875 48.484375 17.84375 46.4375 \r\nQ 14.5 44.390625 14.5 40.28125 \r\nQ 14.5 37.15625 16.890625 35.375 \r\nQ 19.28125 33.59375 26.515625 31.984375 \r\nL 29.59375 31.296875 \r\nQ 39.15625 29.25 43.1875 25.515625 \r\nQ 47.21875 21.78125 47.21875 15.09375 \r\nQ 47.21875 7.46875 41.1875 3.015625 \r\nQ 35.15625 -1.421875 24.609375 -1.421875 \r\nQ 20.21875 -1.421875 15.453125 -0.5625 \r\nQ 10.6875 0.296875 5.421875 2 \r\nL 5.421875 11.28125 \r\nQ 10.40625 8.6875 15.234375 7.390625 \r\nQ 20.0625 6.109375 24.8125 6.109375 \r\nQ 31.15625 6.109375 34.5625 8.28125 \r\nQ 37.984375 10.453125 37.984375 14.40625 \r\nQ 37.984375 18.0625 35.515625 20.015625 \r\nQ 33.0625 21.96875 24.703125 23.78125 \r\nL 21.578125 24.515625 \r\nQ 13.234375 26.265625 9.515625 29.90625 \r\nQ 5.8125 33.546875 5.8125 39.890625 \r\nQ 5.8125 47.609375 11.28125 51.796875 \r\nQ 16.75 56 26.8125 56 \r\nQ 31.78125 56 36.171875 55.265625 \r\nQ 40.578125 54.546875 44.28125 53.078125 \r\nz\r\n\" id=\"DejaVuSans-115\"/>\r\n      <path d=\"M 11.71875 12.40625 \r\nL 22.015625 12.40625 \r\nL 22.015625 0 \r\nL 11.71875 0 \r\nz\r\nM 11.71875 51.703125 \r\nL 22.015625 51.703125 \r\nL 22.015625 39.3125 \r\nL 11.71875 39.3125 \r\nz\r\n\" id=\"DejaVuSans-58\"/>\r\n     </defs>\r\n     <use xlink:href=\"#DejaVuSans-68\"/>\r\n     <use x=\"77.001953\" xlink:href=\"#DejaVuSans-101\"/>\r\n     <use x=\"138.525391\" xlink:href=\"#DejaVuSans-103\"/>\r\n     <use x=\"202.001953\" xlink:href=\"#DejaVuSans-114\"/>\r\n     <use x=\"240.865234\" xlink:href=\"#DejaVuSans-101\"/>\r\n     <use x=\"302.388672\" xlink:href=\"#DejaVuSans-101\"/>\r\n     <use x=\"363.912109\" xlink:href=\"#DejaVuSans-32\"/>\r\n     <use x=\"395.699219\" xlink:href=\"#DejaVuSans-111\"/>\r\n     <use x=\"456.880859\" xlink:href=\"#DejaVuSans-102\"/>\r\n     <use x=\"492.085938\" xlink:href=\"#DejaVuSans-32\"/>\r\n     <use x=\"523.873047\" xlink:href=\"#DejaVuSans-112\"/>\r\n     <use x=\"587.349609\" xlink:href=\"#DejaVuSans-111\"/>\r\n     <use x=\"648.53125\" xlink:href=\"#DejaVuSans-108\"/>\r\n     <use x=\"676.314453\" xlink:href=\"#DejaVuSans-121\"/>\r\n     <use x=\"735.494141\" xlink:href=\"#DejaVuSans-110\"/>\r\n     <use x=\"798.873047\" xlink:href=\"#DejaVuSans-111\"/>\r\n     <use x=\"860.054688\" xlink:href=\"#DejaVuSans-109\"/>\r\n     <use x=\"957.466797\" xlink:href=\"#DejaVuSans-105\"/>\r\n     <use x=\"985.25\" xlink:href=\"#DejaVuSans-97\"/>\r\n     <use x=\"1046.529297\" xlink:href=\"#DejaVuSans-108\"/>\r\n     <use x=\"1074.3125\" xlink:href=\"#DejaVuSans-32\"/>\r\n     <use x=\"1106.099609\" xlink:href=\"#DejaVuSans-114\"/>\r\n     <use x=\"1144.962891\" xlink:href=\"#DejaVuSans-101\"/>\r\n     <use x=\"1206.486328\" xlink:href=\"#DejaVuSans-103\"/>\r\n     <use x=\"1269.962891\" xlink:href=\"#DejaVuSans-114\"/>\r\n     <use x=\"1308.826172\" xlink:href=\"#DejaVuSans-101\"/>\r\n     <use x=\"1370.349609\" xlink:href=\"#DejaVuSans-115\"/>\r\n     <use x=\"1422.449219\" xlink:href=\"#DejaVuSans-115\"/>\r\n     <use x=\"1474.548828\" xlink:href=\"#DejaVuSans-105\"/>\r\n     <use x=\"1502.332031\" xlink:href=\"#DejaVuSans-111\"/>\r\n     <use x=\"1563.513672\" xlink:href=\"#DejaVuSans-110\"/>\r\n     <use x=\"1626.892578\" xlink:href=\"#DejaVuSans-32\"/>\r\n     <use x=\"1658.679688\" xlink:href=\"#DejaVuSans-58\"/>\r\n     <use x=\"1692.371094\" xlink:href=\"#DejaVuSans-32\"/>\r\n     <use x=\"1724.158203\" xlink:href=\"#DejaVuSans-54\"/>\r\n    </g>\r\n   </g>\r\n   <g id=\"legend_1\">\r\n    <g id=\"patch_7\">\r\n     <path d=\"M 46.65 73.35625 \r\nL 164.539063 73.35625 \r\nQ 166.539063 73.35625 166.539063 71.35625 \r\nL 166.539063 43 \r\nQ 166.539063 41 164.539063 41 \r\nL 46.65 41 \r\nQ 44.65 41 44.65 43 \r\nL 44.65 71.35625 \r\nQ 44.65 73.35625 46.65 73.35625 \r\nz\r\n\" style=\"fill:#ffffff;opacity:0.8;stroke:#cccccc;stroke-linejoin:miter;\"/>\r\n    </g>\r\n    <g id=\"line2d_19\">\r\n     <path d=\"M 48.65 49.098437 \r\nL 68.65 49.098437 \r\n\" style=\"fill:none;stroke:#0000ff;stroke-linecap:square;stroke-width:1.5;\"/>\r\n    </g>\r\n    <g id=\"line2d_20\">\r\n     <defs>\r\n      <path d=\"M 0 3.75 \r\nC 0.994512 3.75 1.948425 3.354876 2.65165 2.65165 \r\nC 3.354876 1.948425 3.75 0.994512 3.75 0 \r\nC 3.75 -0.994512 3.354876 -1.948425 2.65165 -2.65165 \r\nC 1.948425 -3.354876 0.994512 -3.75 0 -3.75 \r\nC -0.994512 -3.75 -1.948425 -3.354876 -2.65165 -2.65165 \r\nC -3.354876 -1.948425 -3.75 -0.994512 -3.75 0 \r\nC -3.75 0.994512 -3.354876 1.948425 -2.65165 2.65165 \r\nC -1.948425 3.354876 -0.994512 3.75 0 3.75 \r\nz\r\n\" id=\"mbd68c51564\" style=\"stroke:#0000ff;\"/>\r\n     </defs>\r\n     <g>\r\n      <use style=\"fill:#0000ff;stroke:#0000ff;\" x=\"58.65\" xlink:href=\"#mbd68c51564\" y=\"49.098437\"/>\r\n     </g>\r\n    </g>\r\n    <g id=\"text_19\">\r\n     <!-- Deaths -->\r\n     <g transform=\"translate(76.65 52.598437)scale(0.1 -0.1)\">\r\n      <defs>\r\n       <path d=\"M 18.3125 70.21875 \r\nL 18.3125 54.6875 \r\nL 36.8125 54.6875 \r\nL 36.8125 47.703125 \r\nL 18.3125 47.703125 \r\nL 18.3125 18.015625 \r\nQ 18.3125 11.328125 20.140625 9.421875 \r\nQ 21.96875 7.515625 27.59375 7.515625 \r\nL 36.8125 7.515625 \r\nL 36.8125 0 \r\nL 27.59375 0 \r\nQ 17.1875 0 13.234375 3.875 \r\nQ 9.28125 7.765625 9.28125 18.015625 \r\nL 9.28125 47.703125 \r\nL 2.6875 47.703125 \r\nL 2.6875 54.6875 \r\nL 9.28125 54.6875 \r\nL 9.28125 70.21875 \r\nz\r\n\" id=\"DejaVuSans-116\"/>\r\n       <path d=\"M 54.890625 33.015625 \r\nL 54.890625 0 \r\nL 45.90625 0 \r\nL 45.90625 32.71875 \r\nQ 45.90625 40.484375 42.875 44.328125 \r\nQ 39.84375 48.1875 33.796875 48.1875 \r\nQ 26.515625 48.1875 22.3125 43.546875 \r\nQ 18.109375 38.921875 18.109375 30.90625 \r\nL 18.109375 0 \r\nL 9.078125 0 \r\nL 9.078125 75.984375 \r\nL 18.109375 75.984375 \r\nL 18.109375 46.1875 \r\nQ 21.34375 51.125 25.703125 53.5625 \r\nQ 30.078125 56 35.796875 56 \r\nQ 45.21875 56 50.046875 50.171875 \r\nQ 54.890625 44.34375 54.890625 33.015625 \r\nz\r\n\" id=\"DejaVuSans-104\"/>\r\n      </defs>\r\n      <use xlink:href=\"#DejaVuSans-68\"/>\r\n      <use x=\"77.001953\" xlink:href=\"#DejaVuSans-101\"/>\r\n      <use x=\"138.525391\" xlink:href=\"#DejaVuSans-97\"/>\r\n      <use x=\"199.804688\" xlink:href=\"#DejaVuSans-116\"/>\r\n      <use x=\"239.013672\" xlink:href=\"#DejaVuSans-104\"/>\r\n      <use x=\"302.392578\" xlink:href=\"#DejaVuSans-115\"/>\r\n     </g>\r\n    </g>\r\n    <g id=\"line2d_21\">\r\n     <path d=\"M 48.65 63.776562 \r\nL 68.65 63.776562 \r\n\" style=\"fill:none;stroke:#ff0000;stroke-linecap:square;stroke-width:1.5;\"/>\r\n    </g>\r\n    <g id=\"line2d_22\"/>\r\n    <g id=\"text_20\">\r\n     <!-- Regression curve -->\r\n     <g transform=\"translate(76.65 67.276562)scale(0.1 -0.1)\">\r\n      <defs>\r\n       <path d=\"M 44.390625 34.1875 \r\nQ 47.5625 33.109375 50.5625 29.59375 \r\nQ 53.5625 26.078125 56.59375 19.921875 \r\nL 66.609375 0 \r\nL 56 0 \r\nL 46.6875 18.703125 \r\nQ 43.0625 26.03125 39.671875 28.421875 \r\nQ 36.28125 30.8125 30.421875 30.8125 \r\nL 19.671875 30.8125 \r\nL 19.671875 0 \r\nL 9.8125 0 \r\nL 9.8125 72.90625 \r\nL 32.078125 72.90625 \r\nQ 44.578125 72.90625 50.734375 67.671875 \r\nQ 56.890625 62.453125 56.890625 51.90625 \r\nQ 56.890625 45.015625 53.6875 40.46875 \r\nQ 50.484375 35.9375 44.390625 34.1875 \r\nz\r\nM 19.671875 64.796875 \r\nL 19.671875 38.921875 \r\nL 32.078125 38.921875 \r\nQ 39.203125 38.921875 42.84375 42.21875 \r\nQ 46.484375 45.515625 46.484375 51.90625 \r\nQ 46.484375 58.296875 42.84375 61.546875 \r\nQ 39.203125 64.796875 32.078125 64.796875 \r\nz\r\n\" id=\"DejaVuSans-82\"/>\r\n       <path d=\"M 48.78125 52.59375 \r\nL 48.78125 44.1875 \r\nQ 44.96875 46.296875 41.140625 47.34375 \r\nQ 37.3125 48.390625 33.40625 48.390625 \r\nQ 24.65625 48.390625 19.8125 42.84375 \r\nQ 14.984375 37.3125 14.984375 27.296875 \r\nQ 14.984375 17.28125 19.8125 11.734375 \r\nQ 24.65625 6.203125 33.40625 6.203125 \r\nQ 37.3125 6.203125 41.140625 7.25 \r\nQ 44.96875 8.296875 48.78125 10.40625 \r\nL 48.78125 2.09375 \r\nQ 45.015625 0.34375 40.984375 -0.53125 \r\nQ 36.96875 -1.421875 32.421875 -1.421875 \r\nQ 20.0625 -1.421875 12.78125 6.34375 \r\nQ 5.515625 14.109375 5.515625 27.296875 \r\nQ 5.515625 40.671875 12.859375 48.328125 \r\nQ 20.21875 56 33.015625 56 \r\nQ 37.15625 56 41.109375 55.140625 \r\nQ 45.0625 54.296875 48.78125 52.59375 \r\nz\r\n\" id=\"DejaVuSans-99\"/>\r\n       <path d=\"M 8.5 21.578125 \r\nL 8.5 54.6875 \r\nL 17.484375 54.6875 \r\nL 17.484375 21.921875 \r\nQ 17.484375 14.15625 20.5 10.265625 \r\nQ 23.53125 6.390625 29.59375 6.390625 \r\nQ 36.859375 6.390625 41.078125 11.03125 \r\nQ 45.3125 15.671875 45.3125 23.6875 \r\nL 45.3125 54.6875 \r\nL 54.296875 54.6875 \r\nL 54.296875 0 \r\nL 45.3125 0 \r\nL 45.3125 8.40625 \r\nQ 42.046875 3.421875 37.71875 1 \r\nQ 33.40625 -1.421875 27.6875 -1.421875 \r\nQ 18.265625 -1.421875 13.375 4.4375 \r\nQ 8.5 10.296875 8.5 21.578125 \r\nz\r\nM 31.109375 56 \r\nz\r\n\" id=\"DejaVuSans-117\"/>\r\n       <path d=\"M 2.984375 54.6875 \r\nL 12.5 54.6875 \r\nL 29.59375 8.796875 \r\nL 46.6875 54.6875 \r\nL 56.203125 54.6875 \r\nL 35.6875 0 \r\nL 23.484375 0 \r\nz\r\n\" id=\"DejaVuSans-118\"/>\r\n      </defs>\r\n      <use xlink:href=\"#DejaVuSans-82\"/>\r\n      <use x=\"64.982422\" xlink:href=\"#DejaVuSans-101\"/>\r\n      <use x=\"126.505859\" xlink:href=\"#DejaVuSans-103\"/>\r\n      <use x=\"189.982422\" xlink:href=\"#DejaVuSans-114\"/>\r\n      <use x=\"228.845703\" xlink:href=\"#DejaVuSans-101\"/>\r\n      <use x=\"290.369141\" xlink:href=\"#DejaVuSans-115\"/>\r\n      <use x=\"342.46875\" xlink:href=\"#DejaVuSans-115\"/>\r\n      <use x=\"394.568359\" xlink:href=\"#DejaVuSans-105\"/>\r\n      <use x=\"422.351562\" xlink:href=\"#DejaVuSans-111\"/>\r\n      <use x=\"483.533203\" xlink:href=\"#DejaVuSans-110\"/>\r\n      <use x=\"546.912109\" xlink:href=\"#DejaVuSans-32\"/>\r\n      <use x=\"578.699219\" xlink:href=\"#DejaVuSans-99\"/>\r\n      <use x=\"633.679688\" xlink:href=\"#DejaVuSans-117\"/>\r\n      <use x=\"697.058594\" xlink:href=\"#DejaVuSans-114\"/>\r\n      <use x=\"738.171875\" xlink:href=\"#DejaVuSans-118\"/>\r\n      <use x=\"797.351562\" xlink:href=\"#DejaVuSans-101\"/>\r\n     </g>\r\n    </g>\r\n   </g>\r\n  </g>\r\n  <g id=\"text_21\">\r\n   <!-- Polynomial regression of Deaths in Occitanie -->\r\n   <g transform=\"translate(34.023828 18.597656)scale(0.15 -0.15)\">\r\n    <defs>\r\n     <path d=\"M 19.671875 64.796875 \r\nL 19.671875 37.40625 \r\nL 32.078125 37.40625 \r\nQ 38.96875 37.40625 42.71875 40.96875 \r\nQ 46.484375 44.53125 46.484375 51.125 \r\nQ 46.484375 57.671875 42.71875 61.234375 \r\nQ 38.96875 64.796875 32.078125 64.796875 \r\nz\r\nM 9.8125 72.90625 \r\nL 32.078125 72.90625 \r\nQ 44.34375 72.90625 50.609375 67.359375 \r\nQ 56.890625 61.8125 56.890625 51.125 \r\nQ 56.890625 40.328125 50.609375 34.8125 \r\nQ 44.34375 29.296875 32.078125 29.296875 \r\nL 19.671875 29.296875 \r\nL 19.671875 0 \r\nL 9.8125 0 \r\nz\r\n\" id=\"DejaVuSans-80\"/>\r\n     <path d=\"M 39.40625 66.21875 \r\nQ 28.65625 66.21875 22.328125 58.203125 \r\nQ 16.015625 50.203125 16.015625 36.375 \r\nQ 16.015625 22.609375 22.328125 14.59375 \r\nQ 28.65625 6.59375 39.40625 6.59375 \r\nQ 50.140625 6.59375 56.421875 14.59375 \r\nQ 62.703125 22.609375 62.703125 36.375 \r\nQ 62.703125 50.203125 56.421875 58.203125 \r\nQ 50.140625 66.21875 39.40625 66.21875 \r\nz\r\nM 39.40625 74.21875 \r\nQ 54.734375 74.21875 63.90625 63.9375 \r\nQ 73.09375 53.65625 73.09375 36.375 \r\nQ 73.09375 19.140625 63.90625 8.859375 \r\nQ 54.734375 -1.421875 39.40625 -1.421875 \r\nQ 24.03125 -1.421875 14.8125 8.828125 \r\nQ 5.609375 19.09375 5.609375 36.375 \r\nQ 5.609375 53.65625 14.8125 63.9375 \r\nQ 24.03125 74.21875 39.40625 74.21875 \r\nz\r\n\" id=\"DejaVuSans-79\"/>\r\n    </defs>\r\n    <use xlink:href=\"#DejaVuSans-80\"/>\r\n    <use x=\"56.677734\" xlink:href=\"#DejaVuSans-111\"/>\r\n    <use x=\"117.859375\" xlink:href=\"#DejaVuSans-108\"/>\r\n    <use x=\"145.642578\" xlink:href=\"#DejaVuSans-121\"/>\r\n    <use x=\"204.822266\" xlink:href=\"#DejaVuSans-110\"/>\r\n    <use x=\"268.201172\" xlink:href=\"#DejaVuSans-111\"/>\r\n    <use x=\"329.382812\" xlink:href=\"#DejaVuSans-109\"/>\r\n    <use x=\"426.794922\" xlink:href=\"#DejaVuSans-105\"/>\r\n    <use x=\"454.578125\" xlink:href=\"#DejaVuSans-97\"/>\r\n    <use x=\"515.857422\" xlink:href=\"#DejaVuSans-108\"/>\r\n    <use x=\"543.640625\" xlink:href=\"#DejaVuSans-32\"/>\r\n    <use x=\"575.427734\" xlink:href=\"#DejaVuSans-114\"/>\r\n    <use x=\"614.291016\" xlink:href=\"#DejaVuSans-101\"/>\r\n    <use x=\"675.814453\" xlink:href=\"#DejaVuSans-103\"/>\r\n    <use x=\"739.291016\" xlink:href=\"#DejaVuSans-114\"/>\r\n    <use x=\"778.154297\" xlink:href=\"#DejaVuSans-101\"/>\r\n    <use x=\"839.677734\" xlink:href=\"#DejaVuSans-115\"/>\r\n    <use x=\"891.777344\" xlink:href=\"#DejaVuSans-115\"/>\r\n    <use x=\"943.876953\" xlink:href=\"#DejaVuSans-105\"/>\r\n    <use x=\"971.660156\" xlink:href=\"#DejaVuSans-111\"/>\r\n    <use x=\"1032.841797\" xlink:href=\"#DejaVuSans-110\"/>\r\n    <use x=\"1096.220703\" xlink:href=\"#DejaVuSans-32\"/>\r\n    <use x=\"1128.007812\" xlink:href=\"#DejaVuSans-111\"/>\r\n    <use x=\"1189.189453\" xlink:href=\"#DejaVuSans-102\"/>\r\n    <use x=\"1224.394531\" xlink:href=\"#DejaVuSans-32\"/>\r\n    <use x=\"1256.181641\" xlink:href=\"#DejaVuSans-68\"/>\r\n    <use x=\"1333.183594\" xlink:href=\"#DejaVuSans-101\"/>\r\n    <use x=\"1394.707031\" xlink:href=\"#DejaVuSans-97\"/>\r\n    <use x=\"1455.986328\" xlink:href=\"#DejaVuSans-116\"/>\r\n    <use x=\"1495.195312\" xlink:href=\"#DejaVuSans-104\"/>\r\n    <use x=\"1558.574219\" xlink:href=\"#DejaVuSans-115\"/>\r\n    <use x=\"1610.673828\" xlink:href=\"#DejaVuSans-32\"/>\r\n    <use x=\"1642.460938\" xlink:href=\"#DejaVuSans-105\"/>\r\n    <use x=\"1670.244141\" xlink:href=\"#DejaVuSans-110\"/>\r\n    <use x=\"1733.623047\" xlink:href=\"#DejaVuSans-32\"/>\r\n    <use x=\"1765.410156\" xlink:href=\"#DejaVuSans-79\"/>\r\n    <use x=\"1844.121094\" xlink:href=\"#DejaVuSans-99\"/>\r\n    <use x=\"1899.101562\" xlink:href=\"#DejaVuSans-99\"/>\r\n    <use x=\"1954.082031\" xlink:href=\"#DejaVuSans-105\"/>\r\n    <use x=\"1981.865234\" xlink:href=\"#DejaVuSans-116\"/>\r\n    <use x=\"2021.074219\" xlink:href=\"#DejaVuSans-97\"/>\r\n    <use x=\"2082.353516\" xlink:href=\"#DejaVuSans-110\"/>\r\n    <use x=\"2145.732422\" xlink:href=\"#DejaVuSans-105\"/>\r\n    <use x=\"2173.515625\" xlink:href=\"#DejaVuSans-101\"/>\r\n   </g>\r\n  </g>\r\n </g>\r\n <defs>\r\n  <clipPath id=\"peedf1e9b8a\">\r\n   <rect height=\"217.44\" width=\"334.8\" x=\"39.65\" y=\"36\"/>\r\n  </clipPath>\r\n </defs>\r\n</svg>\r\n",
      "image/png": "[encoded data removed]"
     },
     "metadata": {
      "needs_background": "light"
     }
    }
   ],
   "source": [
    "regression.poly_fit(7, 76, save=False)"
   ]
  },
  {
   "cell_type": "code",
   "execution_count": 22,
   "metadata": {},
   "outputs": [
    {
     "output_type": "stream",
     "name": "stderr",
     "text": [
      "c:\\users\\quenf\\vizcovidfr\\vizcovidfr\\regression\\regression.py:410: FutureWarning:\n",
      "\n",
      "Support for multi-dimensional indexing (e.g. `obj[:, None]`) is deprecated and will be removed in a future version.  Convert to a numpy array before indexing instead.\n",
      "\n",
      "Time to execute: 0.44787 s.\n"
     ]
    },
    {
     "output_type": "execute_result",
     "data": {
      "text/plain": [
       "'R2 of polynomial regression of Hospitalization in Occitanie is : 0.870930476239446.'"
      ]
     },
     "metadata": {},
     "execution_count": 22
    }
   ],
   "source": [
    "regression.R2(1, 76)"
   ]
  },
  {
   "cell_type": "code",
   "execution_count": 40,
   "metadata": {},
   "outputs": [
    {
     "output_type": "display_data",
     "data": {
      "application/vnd.plotly.v1+json": {
       "config": {
        "plotlyServerURL": "https://plot.ly"
       },
       "data": [
        {
         "alignmentgroup": "True",
         "hovertemplate": "Age=%{x}<br>Deaths=%{marker.color}<extra></extra>",
         "legendgroup": "",
         "marker": {
          "color": [
           0,
           0,
           3,
           4,
           23,
           77,
           366,
           848,
           1626,
           1076
          ],
          "coloraxis": "coloraxis"
         },
         "name": "",
         "offsetgroup": "",
         "orientation": "v",
         "showlegend": false,
         "textposition": "auto",
         "type": "bar",
         "x": [
          "0-9",
          "10-19",
          "20-29",
          "30-39",
          "40-49",
          "50-59",
          "60-69",
          "70-79",
          "80-89",
          "+90"
         ],
         "xaxis": "x",
         "y": [
          0,
          0,
          3,
          4,
          23,
          77,
          366,
          848,
          1626,
          1076
         ],
         "yaxis": "y"
        }
       ],
       "layout": {
        "barmode": "relative",
        "coloraxis": {
         "colorbar": {
          "title": {
           "text": "Deaths"
          }
         },
         "colorscale": [
          [
           0,
           "#0d0887"
          ],
          [
           0.1111111111111111,
           "#46039f"
          ],
          [
           0.2222222222222222,
           "#7201a8"
          ],
          [
           0.3333333333333333,
           "#9c179e"
          ],
          [
           0.4444444444444444,
           "#bd3786"
          ],
          [
           0.5555555555555556,
           "#d8576b"
          ],
          [
           0.6666666666666666,
           "#ed7953"
          ],
          [
           0.7777777777777778,
           "#fb9f3a"
          ],
          [
           0.8888888888888888,
           "#fdca26"
          ],
          [
           1,
           "#f0f921"
          ]
         ]
        },
        "height": 400,
        "legend": {
         "tracegroupgap": 0
        },
        "template": {
         "data": {
          "bar": [
           {
            "error_x": {
             "color": "#2a3f5f"
            },
            "error_y": {
             "color": "#2a3f5f"
            },
            "marker": {
             "line": {
              "color": "#E5ECF6",
              "width": 0.5
             }
            },
            "type": "bar"
           }
          ],
          "barpolar": [
           {
            "marker": {
             "line": {
              "color": "#E5ECF6",
              "width": 0.5
             }
            },
            "type": "barpolar"
           }
          ],
          "carpet": [
           {
            "aaxis": {
             "endlinecolor": "#2a3f5f",
             "gridcolor": "white",
             "linecolor": "white",
             "minorgridcolor": "white",
             "startlinecolor": "#2a3f5f"
            },
            "baxis": {
             "endlinecolor": "#2a3f5f",
             "gridcolor": "white",
             "linecolor": "white",
             "minorgridcolor": "white",
             "startlinecolor": "#2a3f5f"
            },
            "type": "carpet"
           }
          ],
          "choropleth": [
           {
            "colorbar": {
             "outlinewidth": 0,
             "ticks": ""
            },
            "type": "choropleth"
           }
          ],
          "contour": [
           {
            "colorbar": {
             "outlinewidth": 0,
             "ticks": ""
            },
            "colorscale": [
             [
              0,
              "#0d0887"
             ],
             [
              0.1111111111111111,
              "#46039f"
             ],
             [
              0.2222222222222222,
              "#7201a8"
             ],
             [
              0.3333333333333333,
              "#9c179e"
             ],
             [
              0.4444444444444444,
              "#bd3786"
             ],
             [
              0.5555555555555556,
              "#d8576b"
             ],
             [
              0.6666666666666666,
              "#ed7953"
             ],
             [
              0.7777777777777778,
              "#fb9f3a"
             ],
             [
              0.8888888888888888,
              "#fdca26"
             ],
             [
              1,
              "#f0f921"
             ]
            ],
            "type": "contour"
           }
          ],
          "contourcarpet": [
           {
            "colorbar": {
             "outlinewidth": 0,
             "ticks": ""
            },
            "type": "contourcarpet"
           }
          ],
          "heatmap": [
           {
            "colorbar": {
             "outlinewidth": 0,
             "ticks": ""
            },
            "colorscale": [
             [
              0,
              "#0d0887"
             ],
             [
              0.1111111111111111,
              "#46039f"
             ],
             [
              0.2222222222222222,
              "#7201a8"
             ],
             [
              0.3333333333333333,
              "#9c179e"
             ],
             [
              0.4444444444444444,
              "#bd3786"
             ],
             [
              0.5555555555555556,
              "#d8576b"
             ],
             [
              0.6666666666666666,
              "#ed7953"
             ],
             [
              0.7777777777777778,
              "#fb9f3a"
             ],
             [
              0.8888888888888888,
              "#fdca26"
             ],
             [
              1,
              "#f0f921"
             ]
            ],
            "type": "heatmap"
           }
          ],
          "heatmapgl": [
           {
            "colorbar": {
             "outlinewidth": 0,
             "ticks": ""
            },
            "colorscale": [
             [
              0,
              "#0d0887"
             ],
             [
              0.1111111111111111,
              "#46039f"
             ],
             [
              0.2222222222222222,
              "#7201a8"
             ],
             [
              0.3333333333333333,
              "#9c179e"
             ],
             [
              0.4444444444444444,
              "#bd3786"
             ],
             [
              0.5555555555555556,
              "#d8576b"
             ],
             [
              0.6666666666666666,
              "#ed7953"
             ],
             [
              0.7777777777777778,
              "#fb9f3a"
             ],
             [
              0.8888888888888888,
              "#fdca26"
             ],
             [
              1,
              "#f0f921"
             ]
            ],
            "type": "heatmapgl"
           }
          ],
          "histogram": [
           {
            "marker": {
             "colorbar": {
              "outlinewidth": 0,
              "ticks": ""
             }
            },
            "type": "histogram"
           }
          ],
          "histogram2d": [
           {
            "colorbar": {
             "outlinewidth": 0,
             "ticks": ""
            },
            "colorscale": [
             [
              0,
              "#0d0887"
             ],
             [
              0.1111111111111111,
              "#46039f"
             ],
             [
              0.2222222222222222,
              "#7201a8"
             ],
             [
              0.3333333333333333,
              "#9c179e"
             ],
             [
              0.4444444444444444,
              "#bd3786"
             ],
             [
              0.5555555555555556,
              "#d8576b"
             ],
             [
              0.6666666666666666,
              "#ed7953"
             ],
             [
              0.7777777777777778,
              "#fb9f3a"
             ],
             [
              0.8888888888888888,
              "#fdca26"
             ],
             [
              1,
              "#f0f921"
             ]
            ],
            "type": "histogram2d"
           }
          ],
          "histogram2dcontour": [
           {
            "colorbar": {
             "outlinewidth": 0,
             "ticks": ""
            },
            "colorscale": [
             [
              0,
              "#0d0887"
             ],
             [
              0.1111111111111111,
              "#46039f"
             ],
             [
              0.2222222222222222,
              "#7201a8"
             ],
             [
              0.3333333333333333,
              "#9c179e"
             ],
             [
              0.4444444444444444,
              "#bd3786"
             ],
             [
              0.5555555555555556,
              "#d8576b"
             ],
             [
              0.6666666666666666,
              "#ed7953"
             ],
             [
              0.7777777777777778,
              "#fb9f3a"
             ],
             [
              0.8888888888888888,
              "#fdca26"
             ],
             [
              1,
              "#f0f921"
             ]
            ],
            "type": "histogram2dcontour"
           }
          ],
          "mesh3d": [
           {
            "colorbar": {
             "outlinewidth": 0,
             "ticks": ""
            },
            "type": "mesh3d"
           }
          ],
          "parcoords": [
           {
            "line": {
             "colorbar": {
              "outlinewidth": 0,
              "ticks": ""
             }
            },
            "type": "parcoords"
           }
          ],
          "pie": [
           {
            "automargin": true,
            "type": "pie"
           }
          ],
          "scatter": [
           {
            "marker": {
             "colorbar": {
              "outlinewidth": 0,
              "ticks": ""
             }
            },
            "type": "scatter"
           }
          ],
          "scatter3d": [
           {
            "line": {
             "colorbar": {
              "outlinewidth": 0,
              "ticks": ""
             }
            },
            "marker": {
             "colorbar": {
              "outlinewidth": 0,
              "ticks": ""
             }
            },
            "type": "scatter3d"
           }
          ],
          "scattercarpet": [
           {
            "marker": {
             "colorbar": {
              "outlinewidth": 0,
              "ticks": ""
             }
            },
            "type": "scattercarpet"
           }
          ],
          "scattergeo": [
           {
            "marker": {
             "colorbar": {
              "outlinewidth": 0,
              "ticks": ""
             }
            },
            "type": "scattergeo"
           }
          ],
          "scattergl": [
           {
            "marker": {
             "colorbar": {
              "outlinewidth": 0,
              "ticks": ""
             }
            },
            "type": "scattergl"
           }
          ],
          "scattermapbox": [
           {
            "marker": {
             "colorbar": {
              "outlinewidth": 0,
              "ticks": ""
             }
            },
            "type": "scattermapbox"
           }
          ],
          "scatterpolar": [
           {
            "marker": {
             "colorbar": {
              "outlinewidth": 0,
              "ticks": ""
             }
            },
            "type": "scatterpolar"
           }
          ],
          "scatterpolargl": [
           {
            "marker": {
             "colorbar": {
              "outlinewidth": 0,
              "ticks": ""
             }
            },
            "type": "scatterpolargl"
           }
          ],
          "scatterternary": [
           {
            "marker": {
             "colorbar": {
              "outlinewidth": 0,
              "ticks": ""
             }
            },
            "type": "scatterternary"
           }
          ],
          "surface": [
           {
            "colorbar": {
             "outlinewidth": 0,
             "ticks": ""
            },
            "colorscale": [
             [
              0,
              "#0d0887"
             ],
             [
              0.1111111111111111,
              "#46039f"
             ],
             [
              0.2222222222222222,
              "#7201a8"
             ],
             [
              0.3333333333333333,
              "#9c179e"
             ],
             [
              0.4444444444444444,
              "#bd3786"
             ],
             [
              0.5555555555555556,
              "#d8576b"
             ],
             [
              0.6666666666666666,
              "#ed7953"
             ],
             [
              0.7777777777777778,
              "#fb9f3a"
             ],
             [
              0.8888888888888888,
              "#fdca26"
             ],
             [
              1,
              "#f0f921"
             ]
            ],
            "type": "surface"
           }
          ],
          "table": [
           {
            "cells": {
             "fill": {
              "color": "#EBF0F8"
             },
             "line": {
              "color": "white"
             }
            },
            "header": {
             "fill": {
              "color": "#C8D4E3"
             },
             "line": {
              "color": "white"
             }
            },
            "type": "table"
           }
          ]
         },
         "layout": {
          "annotationdefaults": {
           "arrowcolor": "#2a3f5f",
           "arrowhead": 0,
           "arrowwidth": 1
          },
          "autotypenumbers": "strict",
          "coloraxis": {
           "colorbar": {
            "outlinewidth": 0,
            "ticks": ""
           }
          },
          "colorscale": {
           "diverging": [
            [
             0,
             "#8e0152"
            ],
            [
             0.1,
             "#c51b7d"
            ],
            [
             0.2,
             "#de77ae"
            ],
            [
             0.3,
             "#f1b6da"
            ],
            [
             0.4,
             "#fde0ef"
            ],
            [
             0.5,
             "#f7f7f7"
            ],
            [
             0.6,
             "#e6f5d0"
            ],
            [
             0.7,
             "#b8e186"
            ],
            [
             0.8,
             "#7fbc41"
            ],
            [
             0.9,
             "#4d9221"
            ],
            [
             1,
             "#276419"
            ]
           ],
           "sequential": [
            [
             0,
             "#0d0887"
            ],
            [
             0.1111111111111111,
             "#46039f"
            ],
            [
             0.2222222222222222,
             "#7201a8"
            ],
            [
             0.3333333333333333,
             "#9c179e"
            ],
            [
             0.4444444444444444,
             "#bd3786"
            ],
            [
             0.5555555555555556,
             "#d8576b"
            ],
            [
             0.6666666666666666,
             "#ed7953"
            ],
            [
             0.7777777777777778,
             "#fb9f3a"
            ],
            [
             0.8888888888888888,
             "#fdca26"
            ],
            [
             1,
             "#f0f921"
            ]
           ],
           "sequentialminus": [
            [
             0,
             "#0d0887"
            ],
            [
             0.1111111111111111,
             "#46039f"
            ],
            [
             0.2222222222222222,
             "#7201a8"
            ],
            [
             0.3333333333333333,
             "#9c179e"
            ],
            [
             0.4444444444444444,
             "#bd3786"
            ],
            [
             0.5555555555555556,
             "#d8576b"
            ],
            [
             0.6666666666666666,
             "#ed7953"
            ],
            [
             0.7777777777777778,
             "#fb9f3a"
            ],
            [
             0.8888888888888888,
             "#fdca26"
            ],
            [
             1,
             "#f0f921"
            ]
           ]
          },
          "colorway": [
           "#636efa",
           "#EF553B",
           "#00cc96",
           "#ab63fa",
           "#FFA15A",
           "#19d3f3",
           "#FF6692",
           "#B6E880",
           "#FF97FF",
           "#FECB52"
          ],
          "font": {
           "color": "#2a3f5f"
          },
          "geo": {
           "bgcolor": "white",
           "lakecolor": "white",
           "landcolor": "#E5ECF6",
           "showlakes": true,
           "showland": true,
           "subunitcolor": "white"
          },
          "hoverlabel": {
           "align": "left"
          },
          "hovermode": "closest",
          "mapbox": {
           "style": "light"
          },
          "paper_bgcolor": "white",
          "plot_bgcolor": "#E5ECF6",
          "polar": {
           "angularaxis": {
            "gridcolor": "white",
            "linecolor": "white",
            "ticks": ""
           },
           "bgcolor": "#E5ECF6",
           "radialaxis": {
            "gridcolor": "white",
            "linecolor": "white",
            "ticks": ""
           }
          },
          "scene": {
           "xaxis": {
            "backgroundcolor": "#E5ECF6",
            "gridcolor": "white",
            "gridwidth": 2,
            "linecolor": "white",
            "showbackground": true,
            "ticks": "",
            "zerolinecolor": "white"
           },
           "yaxis": {
            "backgroundcolor": "#E5ECF6",
            "gridcolor": "white",
            "gridwidth": 2,
            "linecolor": "white",
            "showbackground": true,
            "ticks": "",
            "zerolinecolor": "white"
           },
           "zaxis": {
            "backgroundcolor": "#E5ECF6",
            "gridcolor": "white",
            "gridwidth": 2,
            "linecolor": "white",
            "showbackground": true,
            "ticks": "",
            "zerolinecolor": "white"
           }
          },
          "shapedefaults": {
           "line": {
            "color": "#2a3f5f"
           }
          },
          "ternary": {
           "aaxis": {
            "gridcolor": "white",
            "linecolor": "white",
            "ticks": ""
           },
           "baxis": {
            "gridcolor": "white",
            "linecolor": "white",
            "ticks": ""
           },
           "bgcolor": "#E5ECF6",
           "caxis": {
            "gridcolor": "white",
            "linecolor": "white",
            "ticks": ""
           }
          },
          "title": {
           "x": 0.05
          },
          "xaxis": {
           "automargin": true,
           "gridcolor": "white",
           "linecolor": "white",
           "ticks": "",
           "title": {
            "standoff": 15
           },
           "zerolinecolor": "white",
           "zerolinewidth": 2
          },
          "yaxis": {
           "automargin": true,
           "gridcolor": "white",
           "linecolor": "white",
           "ticks": "",
           "title": {
            "standoff": 15
           },
           "zerolinecolor": "white",
           "zerolinewidth": 2
          }
         }
        },
        "title": {
         "text": "Bar plot of Deaths in Occitanie by age group today"
        },
        "xaxis": {
         "anchor": "y",
         "domain": [
          0,
          1
         ],
         "title": {
          "text": "Age"
         }
        },
        "yaxis": {
         "anchor": "x",
         "domain": [
          0,
          1
         ],
         "title": {
          "text": "Deaths"
         }
        }
       }
      }
     },
     "metadata": {}
    },
    {
     "output_type": "stream",
     "name": "stdout",
     "text": [
      "Time to execute: 0.17595 s.\n"
     ]
    }
   ],
   "source": [
    "#Barplots\n",
    "barplots_cl_age.bar_age(7, 76, save=False)"
   ]
  },
  {
   "cell_type": "code",
   "execution_count": 41,
   "metadata": {},
   "outputs": [
    {
     "output_type": "display_data",
     "data": {
      "application/vnd.plotly.v1+json": {
       "config": {
        "plotlyServerURL": "https://plot.ly"
       },
       "data": [
        {
         "alignmentgroup": "True",
         "hovertemplate": "Region in France=%{x}<br>Deaths=%{marker.color}<extra></extra>",
         "legendgroup": "",
         "marker": {
          "color": [
           225,
           69,
           92,
           154,
           124,
           18423,
           2423,
           4436,
           2935,
           8090,
           9456,
           2450,
           1450,
           3437,
           4025,
           10715,
           7291,
           185
          ],
          "coloraxis": "coloraxis"
         },
         "name": "",
         "offsetgroup": "",
         "orientation": "v",
         "showlegend": false,
         "textposition": "auto",
         "type": "bar",
         "x": [
          1,
          2,
          3,
          4,
          6,
          11,
          24,
          27,
          28,
          32,
          44,
          52,
          53,
          75,
          76,
          84,
          93,
          94
         ],
         "xaxis": "x",
         "y": [
          225,
          69,
          92,
          154,
          124,
          18423,
          2423,
          4436,
          2935,
          8090,
          9456,
          2450,
          1450,
          3437,
          4025,
          10715,
          7291,
          185
         ],
         "yaxis": "y"
        }
       ],
       "layout": {
        "barmode": "relative",
        "coloraxis": {
         "colorbar": {
          "title": {
           "text": "Deaths"
          }
         },
         "colorscale": [
          [
           0,
           "#0d0887"
          ],
          [
           0.1111111111111111,
           "#46039f"
          ],
          [
           0.2222222222222222,
           "#7201a8"
          ],
          [
           0.3333333333333333,
           "#9c179e"
          ],
          [
           0.4444444444444444,
           "#bd3786"
          ],
          [
           0.5555555555555556,
           "#d8576b"
          ],
          [
           0.6666666666666666,
           "#ed7953"
          ],
          [
           0.7777777777777778,
           "#fb9f3a"
          ],
          [
           0.8888888888888888,
           "#fdca26"
          ],
          [
           1,
           "#f0f921"
          ]
         ]
        },
        "height": 400,
        "legend": {
         "tracegroupgap": 0
        },
        "template": {
         "data": {
          "bar": [
           {
            "error_x": {
             "color": "#2a3f5f"
            },
            "error_y": {
             "color": "#2a3f5f"
            },
            "marker": {
             "line": {
              "color": "#E5ECF6",
              "width": 0.5
             }
            },
            "type": "bar"
           }
          ],
          "barpolar": [
           {
            "marker": {
             "line": {
              "color": "#E5ECF6",
              "width": 0.5
             }
            },
            "type": "barpolar"
           }
          ],
          "carpet": [
           {
            "aaxis": {
             "endlinecolor": "#2a3f5f",
             "gridcolor": "white",
             "linecolor": "white",
             "minorgridcolor": "white",
             "startlinecolor": "#2a3f5f"
            },
            "baxis": {
             "endlinecolor": "#2a3f5f",
             "gridcolor": "white",
             "linecolor": "white",
             "minorgridcolor": "white",
             "startlinecolor": "#2a3f5f"
            },
            "type": "carpet"
           }
          ],
          "choropleth": [
           {
            "colorbar": {
             "outlinewidth": 0,
             "ticks": ""
            },
            "type": "choropleth"
           }
          ],
          "contour": [
           {
            "colorbar": {
             "outlinewidth": 0,
             "ticks": ""
            },
            "colorscale": [
             [
              0,
              "#0d0887"
             ],
             [
              0.1111111111111111,
              "#46039f"
             ],
             [
              0.2222222222222222,
              "#7201a8"
             ],
             [
              0.3333333333333333,
              "#9c179e"
             ],
             [
              0.4444444444444444,
              "#bd3786"
             ],
             [
              0.5555555555555556,
              "#d8576b"
             ],
             [
              0.6666666666666666,
              "#ed7953"
             ],
             [
              0.7777777777777778,
              "#fb9f3a"
             ],
             [
              0.8888888888888888,
              "#fdca26"
             ],
             [
              1,
              "#f0f921"
             ]
            ],
            "type": "contour"
           }
          ],
          "contourcarpet": [
           {
            "colorbar": {
             "outlinewidth": 0,
             "ticks": ""
            },
            "type": "contourcarpet"
           }
          ],
          "heatmap": [
           {
            "colorbar": {
             "outlinewidth": 0,
             "ticks": ""
            },
            "colorscale": [
             [
              0,
              "#0d0887"
             ],
             [
              0.1111111111111111,
              "#46039f"
             ],
             [
              0.2222222222222222,
              "#7201a8"
             ],
             [
              0.3333333333333333,
              "#9c179e"
             ],
             [
              0.4444444444444444,
              "#bd3786"
             ],
             [
              0.5555555555555556,
              "#d8576b"
             ],
             [
              0.6666666666666666,
              "#ed7953"
             ],
             [
              0.7777777777777778,
              "#fb9f3a"
             ],
             [
              0.8888888888888888,
              "#fdca26"
             ],
             [
              1,
              "#f0f921"
             ]
            ],
            "type": "heatmap"
           }
          ],
          "heatmapgl": [
           {
            "colorbar": {
             "outlinewidth": 0,
             "ticks": ""
            },
            "colorscale": [
             [
              0,
              "#0d0887"
             ],
             [
              0.1111111111111111,
              "#46039f"
             ],
             [
              0.2222222222222222,
              "#7201a8"
             ],
             [
              0.3333333333333333,
              "#9c179e"
             ],
             [
              0.4444444444444444,
              "#bd3786"
             ],
             [
              0.5555555555555556,
              "#d8576b"
             ],
             [
              0.6666666666666666,
              "#ed7953"
             ],
             [
              0.7777777777777778,
              "#fb9f3a"
             ],
             [
              0.8888888888888888,
              "#fdca26"
             ],
             [
              1,
              "#f0f921"
             ]
            ],
            "type": "heatmapgl"
           }
          ],
          "histogram": [
           {
            "marker": {
             "colorbar": {
              "outlinewidth": 0,
              "ticks": ""
             }
            },
            "type": "histogram"
           }
          ],
          "histogram2d": [
           {
            "colorbar": {
             "outlinewidth": 0,
             "ticks": ""
            },
            "colorscale": [
             [
              0,
              "#0d0887"
             ],
             [
              0.1111111111111111,
              "#46039f"
             ],
             [
              0.2222222222222222,
              "#7201a8"
             ],
             [
              0.3333333333333333,
              "#9c179e"
             ],
             [
              0.4444444444444444,
              "#bd3786"
             ],
             [
              0.5555555555555556,
              "#d8576b"
             ],
             [
              0.6666666666666666,
              "#ed7953"
             ],
             [
              0.7777777777777778,
              "#fb9f3a"
             ],
             [
              0.8888888888888888,
              "#fdca26"
             ],
             [
              1,
              "#f0f921"
             ]
            ],
            "type": "histogram2d"
           }
          ],
          "histogram2dcontour": [
           {
            "colorbar": {
             "outlinewidth": 0,
             "ticks": ""
            },
            "colorscale": [
             [
              0,
              "#0d0887"
             ],
             [
              0.1111111111111111,
              "#46039f"
             ],
             [
              0.2222222222222222,
              "#7201a8"
             ],
             [
              0.3333333333333333,
              "#9c179e"
             ],
             [
              0.4444444444444444,
              "#bd3786"
             ],
             [
              0.5555555555555556,
              "#d8576b"
             ],
             [
              0.6666666666666666,
              "#ed7953"
             ],
             [
              0.7777777777777778,
              "#fb9f3a"
             ],
             [
              0.8888888888888888,
              "#fdca26"
             ],
             [
              1,
              "#f0f921"
             ]
            ],
            "type": "histogram2dcontour"
           }
          ],
          "mesh3d": [
           {
            "colorbar": {
             "outlinewidth": 0,
             "ticks": ""
            },
            "type": "mesh3d"
           }
          ],
          "parcoords": [
           {
            "line": {
             "colorbar": {
              "outlinewidth": 0,
              "ticks": ""
             }
            },
            "type": "parcoords"
           }
          ],
          "pie": [
           {
            "automargin": true,
            "type": "pie"
           }
          ],
          "scatter": [
           {
            "marker": {
             "colorbar": {
              "outlinewidth": 0,
              "ticks": ""
             }
            },
            "type": "scatter"
           }
          ],
          "scatter3d": [
           {
            "line": {
             "colorbar": {
              "outlinewidth": 0,
              "ticks": ""
             }
            },
            "marker": {
             "colorbar": {
              "outlinewidth": 0,
              "ticks": ""
             }
            },
            "type": "scatter3d"
           }
          ],
          "scattercarpet": [
           {
            "marker": {
             "colorbar": {
              "outlinewidth": 0,
              "ticks": ""
             }
            },
            "type": "scattercarpet"
           }
          ],
          "scattergeo": [
           {
            "marker": {
             "colorbar": {
              "outlinewidth": 0,
              "ticks": ""
             }
            },
            "type": "scattergeo"
           }
          ],
          "scattergl": [
           {
            "marker": {
             "colorbar": {
              "outlinewidth": 0,
              "ticks": ""
             }
            },
            "type": "scattergl"
           }
          ],
          "scattermapbox": [
           {
            "marker": {
             "colorbar": {
              "outlinewidth": 0,
              "ticks": ""
             }
            },
            "type": "scattermapbox"
           }
          ],
          "scatterpolar": [
           {
            "marker": {
             "colorbar": {
              "outlinewidth": 0,
              "ticks": ""
             }
            },
            "type": "scatterpolar"
           }
          ],
          "scatterpolargl": [
           {
            "marker": {
             "colorbar": {
              "outlinewidth": 0,
              "ticks": ""
             }
            },
            "type": "scatterpolargl"
           }
          ],
          "scatterternary": [
           {
            "marker": {
             "colorbar": {
              "outlinewidth": 0,
              "ticks": ""
             }
            },
            "type": "scatterternary"
           }
          ],
          "surface": [
           {
            "colorbar": {
             "outlinewidth": 0,
             "ticks": ""
            },
            "colorscale": [
             [
              0,
              "#0d0887"
             ],
             [
              0.1111111111111111,
              "#46039f"
             ],
             [
              0.2222222222222222,
              "#7201a8"
             ],
             [
              0.3333333333333333,
              "#9c179e"
             ],
             [
              0.4444444444444444,
              "#bd3786"
             ],
             [
              0.5555555555555556,
              "#d8576b"
             ],
             [
              0.6666666666666666,
              "#ed7953"
             ],
             [
              0.7777777777777778,
              "#fb9f3a"
             ],
             [
              0.8888888888888888,
              "#fdca26"
             ],
             [
              1,
              "#f0f921"
             ]
            ],
            "type": "surface"
           }
          ],
          "table": [
           {
            "cells": {
             "fill": {
              "color": "#EBF0F8"
             },
             "line": {
              "color": "white"
             }
            },
            "header": {
             "fill": {
              "color": "#C8D4E3"
             },
             "line": {
              "color": "white"
             }
            },
            "type": "table"
           }
          ]
         },
         "layout": {
          "annotationdefaults": {
           "arrowcolor": "#2a3f5f",
           "arrowhead": 0,
           "arrowwidth": 1
          },
          "autotypenumbers": "strict",
          "coloraxis": {
           "colorbar": {
            "outlinewidth": 0,
            "ticks": ""
           }
          },
          "colorscale": {
           "diverging": [
            [
             0,
             "#8e0152"
            ],
            [
             0.1,
             "#c51b7d"
            ],
            [
             0.2,
             "#de77ae"
            ],
            [
             0.3,
             "#f1b6da"
            ],
            [
             0.4,
             "#fde0ef"
            ],
            [
             0.5,
             "#f7f7f7"
            ],
            [
             0.6,
             "#e6f5d0"
            ],
            [
             0.7,
             "#b8e186"
            ],
            [
             0.8,
             "#7fbc41"
            ],
            [
             0.9,
             "#4d9221"
            ],
            [
             1,
             "#276419"
            ]
           ],
           "sequential": [
            [
             0,
             "#0d0887"
            ],
            [
             0.1111111111111111,
             "#46039f"
            ],
            [
             0.2222222222222222,
             "#7201a8"
            ],
            [
             0.3333333333333333,
             "#9c179e"
            ],
            [
             0.4444444444444444,
             "#bd3786"
            ],
            [
             0.5555555555555556,
             "#d8576b"
            ],
            [
             0.6666666666666666,
             "#ed7953"
            ],
            [
             0.7777777777777778,
             "#fb9f3a"
            ],
            [
             0.8888888888888888,
             "#fdca26"
            ],
            [
             1,
             "#f0f921"
            ]
           ],
           "sequentialminus": [
            [
             0,
             "#0d0887"
            ],
            [
             0.1111111111111111,
             "#46039f"
            ],
            [
             0.2222222222222222,
             "#7201a8"
            ],
            [
             0.3333333333333333,
             "#9c179e"
            ],
            [
             0.4444444444444444,
             "#bd3786"
            ],
            [
             0.5555555555555556,
             "#d8576b"
            ],
            [
             0.6666666666666666,
             "#ed7953"
            ],
            [
             0.7777777777777778,
             "#fb9f3a"
            ],
            [
             0.8888888888888888,
             "#fdca26"
            ],
            [
             1,
             "#f0f921"
            ]
           ]
          },
          "colorway": [
           "#636efa",
           "#EF553B",
           "#00cc96",
           "#ab63fa",
           "#FFA15A",
           "#19d3f3",
           "#FF6692",
           "#B6E880",
           "#FF97FF",
           "#FECB52"
          ],
          "font": {
           "color": "#2a3f5f"
          },
          "geo": {
           "bgcolor": "white",
           "lakecolor": "white",
           "landcolor": "#E5ECF6",
           "showlakes": true,
           "showland": true,
           "subunitcolor": "white"
          },
          "hoverlabel": {
           "align": "left"
          },
          "hovermode": "closest",
          "mapbox": {
           "style": "light"
          },
          "paper_bgcolor": "white",
          "plot_bgcolor": "#E5ECF6",
          "polar": {
           "angularaxis": {
            "gridcolor": "white",
            "linecolor": "white",
            "ticks": ""
           },
           "bgcolor": "#E5ECF6",
           "radialaxis": {
            "gridcolor": "white",
            "linecolor": "white",
            "ticks": ""
           }
          },
          "scene": {
           "xaxis": {
            "backgroundcolor": "#E5ECF6",
            "gridcolor": "white",
            "gridwidth": 2,
            "linecolor": "white",
            "showbackground": true,
            "ticks": "",
            "zerolinecolor": "white"
           },
           "yaxis": {
            "backgroundcolor": "#E5ECF6",
            "gridcolor": "white",
            "gridwidth": 2,
            "linecolor": "white",
            "showbackground": true,
            "ticks": "",
            "zerolinecolor": "white"
           },
           "zaxis": {
            "backgroundcolor": "#E5ECF6",
            "gridcolor": "white",
            "gridwidth": 2,
            "linecolor": "white",
            "showbackground": true,
            "ticks": "",
            "zerolinecolor": "white"
           }
          },
          "shapedefaults": {
           "line": {
            "color": "#2a3f5f"
           }
          },
          "ternary": {
           "aaxis": {
            "gridcolor": "white",
            "linecolor": "white",
            "ticks": ""
           },
           "baxis": {
            "gridcolor": "white",
            "linecolor": "white",
            "ticks": ""
           },
           "bgcolor": "#E5ECF6",
           "caxis": {
            "gridcolor": "white",
            "linecolor": "white",
            "ticks": ""
           }
          },
          "title": {
           "x": 0.05
          },
          "xaxis": {
           "automargin": true,
           "gridcolor": "white",
           "linecolor": "white",
           "ticks": "",
           "title": {
            "standoff": 15
           },
           "zerolinecolor": "white",
           "zerolinewidth": 2
          },
          "yaxis": {
           "automargin": true,
           "gridcolor": "white",
           "linecolor": "white",
           "ticks": "",
           "title": {
            "standoff": 15
           },
           "zerolinecolor": "white",
           "zerolinewidth": 2
          }
         }
        },
        "title": {
         "text": "Bar plot of Deaths by region group today"
        },
        "xaxis": {
         "anchor": "y",
         "domain": [
          0,
          1
         ],
         "title": {
          "text": "Region in France"
         },
         "type": "category"
        },
        "yaxis": {
         "anchor": "x",
         "domain": [
          0,
          1
         ],
         "title": {
          "text": "Deaths"
         }
        }
       }
      }
     },
     "metadata": {}
    },
    {
     "output_type": "stream",
     "name": "stdout",
     "text": [
      "Time to execute: 0.05802 s.\n"
     ]
    }
   ],
   "source": [
    "barplots_cl_age.bar_reg(7)"
   ]
  },
  {
   "cell_type": "code",
   "execution_count": 31,
   "metadata": {},
   "outputs": [
    {
     "output_type": "error",
     "ename": "NameError",
     "evalue": "name 'comparativebarplot' is not defined",
     "traceback": [
      "\u001b[1;31m---------------------------------------------------------------------------\u001b[0m",
      "\u001b[1;31mNameError\u001b[0m                                 Traceback (most recent call last)",
      "\u001b[1;32m<ipython-input-31-b2b38e873c2e>\u001b[0m in \u001b[0;36m<module>\u001b[1;34m\u001b[0m\n\u001b[1;32m----> 1\u001b[1;33m \u001b[0mcomparativebarplot\u001b[0m\u001b[1;33m(\u001b[0m\u001b[0mjour\u001b[0m\u001b[1;33m,\u001b[0m\u001b[0mchiffre\u001b[0m\u001b[1;33m,\u001b[0m\u001b[0mdf\u001b[0m\u001b[1;33m,\u001b[0m\u001b[0mcumulative\u001b[0m\u001b[1;33m=\u001b[0m\u001b[1;32mFalse\u001b[0m\u001b[1;33m)\u001b[0m\u001b[1;33m\u001b[0m\u001b[1;33m\u001b[0m\u001b[0m\n\u001b[0m",
      "\u001b[1;31mNameError\u001b[0m: name 'comparativebarplot' is not defined"
     ]
    }
   ],
   "source": [
    "comparativebarplot(jour='2020-11-12', chiffre=, df, cumulative=False)#cannot use it for now...need to change arguments"
   ]
  },
  {
   "cell_type": "code",
   "execution_count": 23,
   "metadata": {},
   "outputs": [
    {
     "output_type": "stream",
     "name": "stdout",
     "text": [
      "Downloading data from https://static.data.gouv.fr/resources/donnees-relatives-aux-stocks-des-doses-de-vaccins-contre-la-covid-19/20210420-184226/stocks-es-national.csv (2 kB)\n",
      "\n",
      "file_sizes: 100%|███████████████████████████| 1.54k/1.54k [00:00<00:00, 256kB/s]\n",
      "Successfully downloaded file to C:\\Users\\quenf\\vizcovidfr\\vizcovidfr\\loads\\..\\data\\./stocks-es-national.csv\n",
      "Time to execute: 0.79296 s.\n"
     ]
    },
    {
     "output_type": "display_data",
     "data": {
      "application/vnd.plotly.v1+json": {
       "config": {
        "plotlyServerURL": "https://plot.ly"
       },
       "data": [
        {
         "legendgroup": "Pfizer",
         "line": {
          "color": "darkblue",
          "dash": "solid"
         },
         "mode": "markers+lines",
         "name": "Pfizer",
         "orientation": "v",
         "showlegend": true,
         "type": "scatter",
         "x": [
          "2021-01-22",
          "2021-01-24",
          "2021-01-31",
          "2021-02-12",
          "2021-02-17",
          "2021-02-26",
          "2021-03-08",
          "2021-03-19",
          "2021-03-26",
          "2021-03-31",
          "2021-04-02",
          "2021-04-07",
          "2021-04-13",
          "2021-04-15",
          "2021-04-20"
         ],
         "xaxis": "x",
         "y": [
          403615,
          459036,
          451674,
          416616,
          416616,
          635316,
          594474,
          664548,
          944430,
          752934,
          935742,
          1216596,
          962874,
          1324674,
          1070508
         ],
         "yaxis": "y"
        },
        {
         "legendgroup": "Moderna",
         "line": {
          "color": "crimson",
          "dash": "solid"
         },
         "mode": "markers+lines",
         "name": "Moderna",
         "orientation": "v",
         "showlegend": true,
         "type": "scatter",
         "x": [
          "2021-01-22",
          "2021-01-24",
          "2021-01-31",
          "2021-02-12",
          "2021-02-17",
          "2021-02-26",
          "2021-03-08",
          "2021-03-19",
          "2021-03-26",
          "2021-03-31",
          "2021-04-02",
          "2021-04-07",
          "2021-04-13",
          "2021-04-15",
          "2021-04-20"
         ],
         "xaxis": "x",
         "y": [
          15630,
          13650,
          41280,
          128000,
          128000,
          62050,
          226960,
          307790,
          168340,
          215170,
          429160,
          390420,
          509850,
          582480,
          432030
         ],
         "yaxis": "y"
        },
        {
         "legendgroup": "AstraZeneca",
         "line": {
          "color": "darkgreen",
          "dash": "solid"
         },
         "mode": "markers+lines",
         "name": "AstraZeneca",
         "orientation": "v",
         "showlegend": true,
         "type": "scatter",
         "x": [
          "2021-02-12",
          "2021-02-17",
          "2021-02-26",
          "2021-03-08",
          "2021-03-19",
          "2021-03-26",
          "2021-03-31",
          "2021-04-02",
          "2021-04-07",
          "2021-04-13",
          "2021-04-15",
          "2021-04-20"
         ],
         "xaxis": "x",
         "y": [
          315060,
          315060,
          227820,
          97790,
          36330,
          29800,
          30140,
          33810,
          29730,
          41590,
          57720,
          141970
         ],
         "yaxis": "y"
        }
       ],
       "layout": {
        "hoverlabel": {
         "bgcolor": "lightslategrey",
         "font": {
          "color": "white",
          "family": "Franklin Gothic Medium",
          "size": 16
         }
        },
        "hovermode": "x unified",
        "legend": {
         "title": {
          "text": "Vaccine type"
         },
         "tracegroupgap": 0
        },
        "template": {
         "data": {
          "bar": [
           {
            "error_x": {
             "color": "#f2f5fa"
            },
            "error_y": {
             "color": "#f2f5fa"
            },
            "marker": {
             "line": {
              "color": "rgb(17,17,17)",
              "width": 0.5
             }
            },
            "type": "bar"
           }
          ],
          "barpolar": [
           {
            "marker": {
             "line": {
              "color": "rgb(17,17,17)",
              "width": 0.5
             }
            },
            "type": "barpolar"
           }
          ],
          "carpet": [
           {
            "aaxis": {
             "endlinecolor": "#A2B1C6",
             "gridcolor": "#506784",
             "linecolor": "#506784",
             "minorgridcolor": "#506784",
             "startlinecolor": "#A2B1C6"
            },
            "baxis": {
             "endlinecolor": "#A2B1C6",
             "gridcolor": "#506784",
             "linecolor": "#506784",
             "minorgridcolor": "#506784",
             "startlinecolor": "#A2B1C6"
            },
            "type": "carpet"
           }
          ],
          "choropleth": [
           {
            "colorbar": {
             "outlinewidth": 0,
             "ticks": ""
            },
            "type": "choropleth"
           }
          ],
          "contour": [
           {
            "colorbar": {
             "outlinewidth": 0,
             "ticks": ""
            },
            "colorscale": [
             [
              0,
              "#0d0887"
             ],
             [
              0.1111111111111111,
              "#46039f"
             ],
             [
              0.2222222222222222,
              "#7201a8"
             ],
             [
              0.3333333333333333,
              "#9c179e"
             ],
             [
              0.4444444444444444,
              "#bd3786"
             ],
             [
              0.5555555555555556,
              "#d8576b"
             ],
             [
              0.6666666666666666,
              "#ed7953"
             ],
             [
              0.7777777777777778,
              "#fb9f3a"
             ],
             [
              0.8888888888888888,
              "#fdca26"
             ],
             [
              1,
              "#f0f921"
             ]
            ],
            "type": "contour"
           }
          ],
          "contourcarpet": [
           {
            "colorbar": {
             "outlinewidth": 0,
             "ticks": ""
            },
            "type": "contourcarpet"
           }
          ],
          "heatmap": [
           {
            "colorbar": {
             "outlinewidth": 0,
             "ticks": ""
            },
            "colorscale": [
             [
              0,
              "#0d0887"
             ],
             [
              0.1111111111111111,
              "#46039f"
             ],
             [
              0.2222222222222222,
              "#7201a8"
             ],
             [
              0.3333333333333333,
              "#9c179e"
             ],
             [
              0.4444444444444444,
              "#bd3786"
             ],
             [
              0.5555555555555556,
              "#d8576b"
             ],
             [
              0.6666666666666666,
              "#ed7953"
             ],
             [
              0.7777777777777778,
              "#fb9f3a"
             ],
             [
              0.8888888888888888,
              "#fdca26"
             ],
             [
              1,
              "#f0f921"
             ]
            ],
            "type": "heatmap"
           }
          ],
          "heatmapgl": [
           {
            "colorbar": {
             "outlinewidth": 0,
             "ticks": ""
            },
            "colorscale": [
             [
              0,
              "#0d0887"
             ],
             [
              0.1111111111111111,
              "#46039f"
             ],
             [
              0.2222222222222222,
              "#7201a8"
             ],
             [
              0.3333333333333333,
              "#9c179e"
             ],
             [
              0.4444444444444444,
              "#bd3786"
             ],
             [
              0.5555555555555556,
              "#d8576b"
             ],
             [
              0.6666666666666666,
              "#ed7953"
             ],
             [
              0.7777777777777778,
              "#fb9f3a"
             ],
             [
              0.8888888888888888,
              "#fdca26"
             ],
             [
              1,
              "#f0f921"
             ]
            ],
            "type": "heatmapgl"
           }
          ],
          "histogram": [
           {
            "marker": {
             "colorbar": {
              "outlinewidth": 0,
              "ticks": ""
             }
            },
            "type": "histogram"
           }
          ],
          "histogram2d": [
           {
            "colorbar": {
             "outlinewidth": 0,
             "ticks": ""
            },
            "colorscale": [
             [
              0,
              "#0d0887"
             ],
             [
              0.1111111111111111,
              "#46039f"
             ],
             [
              0.2222222222222222,
              "#7201a8"
             ],
             [
              0.3333333333333333,
              "#9c179e"
             ],
             [
              0.4444444444444444,
              "#bd3786"
             ],
             [
              0.5555555555555556,
              "#d8576b"
             ],
             [
              0.6666666666666666,
              "#ed7953"
             ],
             [
              0.7777777777777778,
              "#fb9f3a"
             ],
             [
              0.8888888888888888,
              "#fdca26"
             ],
             [
              1,
              "#f0f921"
             ]
            ],
            "type": "histogram2d"
           }
          ],
          "histogram2dcontour": [
           {
            "colorbar": {
             "outlinewidth": 0,
             "ticks": ""
            },
            "colorscale": [
             [
              0,
              "#0d0887"
             ],
             [
              0.1111111111111111,
              "#46039f"
             ],
             [
              0.2222222222222222,
              "#7201a8"
             ],
             [
              0.3333333333333333,
              "#9c179e"
             ],
             [
              0.4444444444444444,
              "#bd3786"
             ],
             [
              0.5555555555555556,
              "#d8576b"
             ],
             [
              0.6666666666666666,
              "#ed7953"
             ],
             [
              0.7777777777777778,
              "#fb9f3a"
             ],
             [
              0.8888888888888888,
              "#fdca26"
             ],
             [
              1,
              "#f0f921"
             ]
            ],
            "type": "histogram2dcontour"
           }
          ],
          "mesh3d": [
           {
            "colorbar": {
             "outlinewidth": 0,
             "ticks": ""
            },
            "type": "mesh3d"
           }
          ],
          "parcoords": [
           {
            "line": {
             "colorbar": {
              "outlinewidth": 0,
              "ticks": ""
             }
            },
            "type": "parcoords"
           }
          ],
          "pie": [
           {
            "automargin": true,
            "type": "pie"
           }
          ],
          "scatter": [
           {
            "marker": {
             "line": {
              "color": "#283442"
             }
            },
            "type": "scatter"
           }
          ],
          "scatter3d": [
           {
            "line": {
             "colorbar": {
              "outlinewidth": 0,
              "ticks": ""
             }
            },
            "marker": {
             "colorbar": {
              "outlinewidth": 0,
              "ticks": ""
             }
            },
            "type": "scatter3d"
           }
          ],
          "scattercarpet": [
           {
            "marker": {
             "colorbar": {
              "outlinewidth": 0,
              "ticks": ""
             }
            },
            "type": "scattercarpet"
           }
          ],
          "scattergeo": [
           {
            "marker": {
             "colorbar": {
              "outlinewidth": 0,
              "ticks": ""
             }
            },
            "type": "scattergeo"
           }
          ],
          "scattergl": [
           {
            "marker": {
             "line": {
              "color": "#283442"
             }
            },
            "type": "scattergl"
           }
          ],
          "scattermapbox": [
           {
            "marker": {
             "colorbar": {
              "outlinewidth": 0,
              "ticks": ""
             }
            },
            "type": "scattermapbox"
           }
          ],
          "scatterpolar": [
           {
            "marker": {
             "colorbar": {
              "outlinewidth": 0,
              "ticks": ""
             }
            },
            "type": "scatterpolar"
           }
          ],
          "scatterpolargl": [
           {
            "marker": {
             "colorbar": {
              "outlinewidth": 0,
              "ticks": ""
             }
            },
            "type": "scatterpolargl"
           }
          ],
          "scatterternary": [
           {
            "marker": {
             "colorbar": {
              "outlinewidth": 0,
              "ticks": ""
             }
            },
            "type": "scatterternary"
           }
          ],
          "surface": [
           {
            "colorbar": {
             "outlinewidth": 0,
             "ticks": ""
            },
            "colorscale": [
             [
              0,
              "#0d0887"
             ],
             [
              0.1111111111111111,
              "#46039f"
             ],
             [
              0.2222222222222222,
              "#7201a8"
             ],
             [
              0.3333333333333333,
              "#9c179e"
             ],
             [
              0.4444444444444444,
              "#bd3786"
             ],
             [
              0.5555555555555556,
              "#d8576b"
             ],
             [
              0.6666666666666666,
              "#ed7953"
             ],
             [
              0.7777777777777778,
              "#fb9f3a"
             ],
             [
              0.8888888888888888,
              "#fdca26"
             ],
             [
              1,
              "#f0f921"
             ]
            ],
            "type": "surface"
           }
          ],
          "table": [
           {
            "cells": {
             "fill": {
              "color": "#506784"
             },
             "line": {
              "color": "rgb(17,17,17)"
             }
            },
            "header": {
             "fill": {
              "color": "#2a3f5f"
             },
             "line": {
              "color": "rgb(17,17,17)"
             }
            },
            "type": "table"
           }
          ]
         },
         "layout": {
          "annotationdefaults": {
           "arrowcolor": "#f2f5fa",
           "arrowhead": 0,
           "arrowwidth": 1
          },
          "autotypenumbers": "strict",
          "coloraxis": {
           "colorbar": {
            "outlinewidth": 0,
            "ticks": ""
           }
          },
          "colorscale": {
           "diverging": [
            [
             0,
             "#8e0152"
            ],
            [
             0.1,
             "#c51b7d"
            ],
            [
             0.2,
             "#de77ae"
            ],
            [
             0.3,
             "#f1b6da"
            ],
            [
             0.4,
             "#fde0ef"
            ],
            [
             0.5,
             "#f7f7f7"
            ],
            [
             0.6,
             "#e6f5d0"
            ],
            [
             0.7,
             "#b8e186"
            ],
            [
             0.8,
             "#7fbc41"
            ],
            [
             0.9,
             "#4d9221"
            ],
            [
             1,
             "#276419"
            ]
           ],
           "sequential": [
            [
             0,
             "#0d0887"
            ],
            [
             0.1111111111111111,
             "#46039f"
            ],
            [
             0.2222222222222222,
             "#7201a8"
            ],
            [
             0.3333333333333333,
             "#9c179e"
            ],
            [
             0.4444444444444444,
             "#bd3786"
            ],
            [
             0.5555555555555556,
             "#d8576b"
            ],
            [
             0.6666666666666666,
             "#ed7953"
            ],
            [
             0.7777777777777778,
             "#fb9f3a"
            ],
            [
             0.8888888888888888,
             "#fdca26"
            ],
            [
             1,
             "#f0f921"
            ]
           ],
           "sequentialminus": [
            [
             0,
             "#0d0887"
            ],
            [
             0.1111111111111111,
             "#46039f"
            ],
            [
             0.2222222222222222,
             "#7201a8"
            ],
            [
             0.3333333333333333,
             "#9c179e"
            ],
            [
             0.4444444444444444,
             "#bd3786"
            ],
            [
             0.5555555555555556,
             "#d8576b"
            ],
            [
             0.6666666666666666,
             "#ed7953"
            ],
            [
             0.7777777777777778,
             "#fb9f3a"
            ],
            [
             0.8888888888888888,
             "#fdca26"
            ],
            [
             1,
             "#f0f921"
            ]
           ]
          },
          "colorway": [
           "#636efa",
           "#EF553B",
           "#00cc96",
           "#ab63fa",
           "#FFA15A",
           "#19d3f3",
           "#FF6692",
           "#B6E880",
           "#FF97FF",
           "#FECB52"
          ],
          "font": {
           "color": "#f2f5fa"
          },
          "geo": {
           "bgcolor": "rgb(17,17,17)",
           "lakecolor": "rgb(17,17,17)",
           "landcolor": "rgb(17,17,17)",
           "showlakes": true,
           "showland": true,
           "subunitcolor": "#506784"
          },
          "hoverlabel": {
           "align": "left"
          },
          "hovermode": "closest",
          "mapbox": {
           "style": "dark"
          },
          "paper_bgcolor": "rgb(17,17,17)",
          "plot_bgcolor": "rgb(17,17,17)",
          "polar": {
           "angularaxis": {
            "gridcolor": "#506784",
            "linecolor": "#506784",
            "ticks": ""
           },
           "bgcolor": "rgb(17,17,17)",
           "radialaxis": {
            "gridcolor": "#506784",
            "linecolor": "#506784",
            "ticks": ""
           }
          },
          "scene": {
           "xaxis": {
            "backgroundcolor": "rgb(17,17,17)",
            "gridcolor": "#506784",
            "gridwidth": 2,
            "linecolor": "#506784",
            "showbackground": true,
            "ticks": "",
            "zerolinecolor": "#C8D4E3"
           },
           "yaxis": {
            "backgroundcolor": "rgb(17,17,17)",
            "gridcolor": "#506784",
            "gridwidth": 2,
            "linecolor": "#506784",
            "showbackground": true,
            "ticks": "",
            "zerolinecolor": "#C8D4E3"
           },
           "zaxis": {
            "backgroundcolor": "rgb(17,17,17)",
            "gridcolor": "#506784",
            "gridwidth": 2,
            "linecolor": "#506784",
            "showbackground": true,
            "ticks": "",
            "zerolinecolor": "#C8D4E3"
           }
          },
          "shapedefaults": {
           "line": {
            "color": "#f2f5fa"
           }
          },
          "sliderdefaults": {
           "bgcolor": "#C8D4E3",
           "bordercolor": "rgb(17,17,17)",
           "borderwidth": 1,
           "tickwidth": 0
          },
          "ternary": {
           "aaxis": {
            "gridcolor": "#506784",
            "linecolor": "#506784",
            "ticks": ""
           },
           "baxis": {
            "gridcolor": "#506784",
            "linecolor": "#506784",
            "ticks": ""
           },
           "bgcolor": "rgb(17,17,17)",
           "caxis": {
            "gridcolor": "#506784",
            "linecolor": "#506784",
            "ticks": ""
           }
          },
          "title": {
           "x": 0.05
          },
          "updatemenudefaults": {
           "bgcolor": "#506784",
           "borderwidth": 0
          },
          "xaxis": {
           "automargin": true,
           "gridcolor": "#283442",
           "linecolor": "#506784",
           "ticks": "",
           "title": {
            "standoff": 15
           },
           "zerolinecolor": "#283442",
           "zerolinewidth": 2
          },
          "yaxis": {
           "automargin": true,
           "gridcolor": "#283442",
           "linecolor": "#506784",
           "ticks": "",
           "title": {
            "standoff": 15
           },
           "zerolinecolor": "#283442",
           "zerolinewidth": 2
          }
         }
        },
        "title": {
         "text": "Vaccine storage in France"
        },
        "xaxis": {
         "anchor": "y",
         "domain": [
          0,
          1
         ],
         "title": {
          "text": "date"
         }
        },
        "yaxis": {
         "anchor": "x",
         "domain": [
          0,
          1
         ],
         "title": {
          "text": "nb_doses"
         }
        }
       }
      }
     },
     "metadata": {}
    }
   ],
   "source": [
    "#Line charts\n",
    "line_charts.vactypedoses()"
   ]
  },
  {
   "cell_type": "code",
   "execution_count": 24,
   "metadata": {},
   "outputs": [
    {
     "output_type": "stream",
     "name": "stdout",
     "text": [
      "Downloading data from https://static.data.gouv.fr/resources/donnees-relatives-aux-stocks-des-doses-de-vaccins-contre-la-covid-19/20210420-184226/stocks-es-national.csv (2 kB)\n",
      "\n",
      "file_sizes: 100%|███████████████████████████| 1.54k/1.54k [00:00<00:00, 512kB/s]\n",
      "Successfully downloaded file to C:\\Users\\quenf\\vizcovidfr\\vizcovidfr\\loads\\..\\data\\./stocks-es-national.csv\n",
      "Time to execute: 0.59213 s.\n",
      "c:\\users\\quenf\\vizcovidfr\\vizcovidfr\\line_charts\\line_charts.py:212: FutureWarning:\n",
      "\n",
      "Indexing with multiple keys (implicitly converted to a tuple of keys) will be deprecated, use a list instead.\n",
      "\n"
     ]
    },
    {
     "output_type": "display_data",
     "data": {
      "application/vnd.plotly.v1+json": {
       "config": {
        "plotlyServerURL": "https://plot.ly"
       },
       "data": [
        {
         "legendgroup": "",
         "line": {
          "color": "#636efa",
          "dash": "solid"
         },
         "mode": "markers+lines",
         "name": "",
         "orientation": "v",
         "showlegend": false,
         "type": "scatter",
         "x": [
          "2021-01-22",
          "2021-01-24",
          "2021-01-31",
          "2021-02-12",
          "2021-02-17",
          "2021-02-26",
          "2021-03-08",
          "2021-03-19",
          "2021-03-26",
          "2021-03-31",
          "2021-04-02",
          "2021-04-07",
          "2021-04-13",
          "2021-04-15",
          "2021-04-20"
         ],
         "xaxis": "x",
         "y": [
          419245,
          472686,
          492954,
          859676,
          859676,
          925186,
          919224,
          1008668,
          1142570,
          998244,
          1398712,
          1636746,
          1514314,
          1964874,
          1644508
         ],
         "yaxis": "y"
        }
       ],
       "layout": {
        "hoverlabel": {
         "bgcolor": "darkslategrey",
         "font": {
          "color": "white",
          "family": "Franklin Gothic Medium",
          "size": 16
         }
        },
        "hovermode": "x unified",
        "legend": {
         "tracegroupgap": 0
        },
        "template": {
         "data": {
          "bar": [
           {
            "error_x": {
             "color": "#f2f5fa"
            },
            "error_y": {
             "color": "#f2f5fa"
            },
            "marker": {
             "line": {
              "color": "rgb(17,17,17)",
              "width": 0.5
             }
            },
            "type": "bar"
           }
          ],
          "barpolar": [
           {
            "marker": {
             "line": {
              "color": "rgb(17,17,17)",
              "width": 0.5
             }
            },
            "type": "barpolar"
           }
          ],
          "carpet": [
           {
            "aaxis": {
             "endlinecolor": "#A2B1C6",
             "gridcolor": "#506784",
             "linecolor": "#506784",
             "minorgridcolor": "#506784",
             "startlinecolor": "#A2B1C6"
            },
            "baxis": {
             "endlinecolor": "#A2B1C6",
             "gridcolor": "#506784",
             "linecolor": "#506784",
             "minorgridcolor": "#506784",
             "startlinecolor": "#A2B1C6"
            },
            "type": "carpet"
           }
          ],
          "choropleth": [
           {
            "colorbar": {
             "outlinewidth": 0,
             "ticks": ""
            },
            "type": "choropleth"
           }
          ],
          "contour": [
           {
            "colorbar": {
             "outlinewidth": 0,
             "ticks": ""
            },
            "colorscale": [
             [
              0,
              "#0d0887"
             ],
             [
              0.1111111111111111,
              "#46039f"
             ],
             [
              0.2222222222222222,
              "#7201a8"
             ],
             [
              0.3333333333333333,
              "#9c179e"
             ],
             [
              0.4444444444444444,
              "#bd3786"
             ],
             [
              0.5555555555555556,
              "#d8576b"
             ],
             [
              0.6666666666666666,
              "#ed7953"
             ],
             [
              0.7777777777777778,
              "#fb9f3a"
             ],
             [
              0.8888888888888888,
              "#fdca26"
             ],
             [
              1,
              "#f0f921"
             ]
            ],
            "type": "contour"
           }
          ],
          "contourcarpet": [
           {
            "colorbar": {
             "outlinewidth": 0,
             "ticks": ""
            },
            "type": "contourcarpet"
           }
          ],
          "heatmap": [
           {
            "colorbar": {
             "outlinewidth": 0,
             "ticks": ""
            },
            "colorscale": [
             [
              0,
              "#0d0887"
             ],
             [
              0.1111111111111111,
              "#46039f"
             ],
             [
              0.2222222222222222,
              "#7201a8"
             ],
             [
              0.3333333333333333,
              "#9c179e"
             ],
             [
              0.4444444444444444,
              "#bd3786"
             ],
             [
              0.5555555555555556,
              "#d8576b"
             ],
             [
              0.6666666666666666,
              "#ed7953"
             ],
             [
              0.7777777777777778,
              "#fb9f3a"
             ],
             [
              0.8888888888888888,
              "#fdca26"
             ],
             [
              1,
              "#f0f921"
             ]
            ],
            "type": "heatmap"
           }
          ],
          "heatmapgl": [
           {
            "colorbar": {
             "outlinewidth": 0,
             "ticks": ""
            },
            "colorscale": [
             [
              0,
              "#0d0887"
             ],
             [
              0.1111111111111111,
              "#46039f"
             ],
             [
              0.2222222222222222,
              "#7201a8"
             ],
             [
              0.3333333333333333,
              "#9c179e"
             ],
             [
              0.4444444444444444,
              "#bd3786"
             ],
             [
              0.5555555555555556,
              "#d8576b"
             ],
             [
              0.6666666666666666,
              "#ed7953"
             ],
             [
              0.7777777777777778,
              "#fb9f3a"
             ],
             [
              0.8888888888888888,
              "#fdca26"
             ],
             [
              1,
              "#f0f921"
             ]
            ],
            "type": "heatmapgl"
           }
          ],
          "histogram": [
           {
            "marker": {
             "colorbar": {
              "outlinewidth": 0,
              "ticks": ""
             }
            },
            "type": "histogram"
           }
          ],
          "histogram2d": [
           {
            "colorbar": {
             "outlinewidth": 0,
             "ticks": ""
            },
            "colorscale": [
             [
              0,
              "#0d0887"
             ],
             [
              0.1111111111111111,
              "#46039f"
             ],
             [
              0.2222222222222222,
              "#7201a8"
             ],
             [
              0.3333333333333333,
              "#9c179e"
             ],
             [
              0.4444444444444444,
              "#bd3786"
             ],
             [
              0.5555555555555556,
              "#d8576b"
             ],
             [
              0.6666666666666666,
              "#ed7953"
             ],
             [
              0.7777777777777778,
              "#fb9f3a"
             ],
             [
              0.8888888888888888,
              "#fdca26"
             ],
             [
              1,
              "#f0f921"
             ]
            ],
            "type": "histogram2d"
           }
          ],
          "histogram2dcontour": [
           {
            "colorbar": {
             "outlinewidth": 0,
             "ticks": ""
            },
            "colorscale": [
             [
              0,
              "#0d0887"
             ],
             [
              0.1111111111111111,
              "#46039f"
             ],
             [
              0.2222222222222222,
              "#7201a8"
             ],
             [
              0.3333333333333333,
              "#9c179e"
             ],
             [
              0.4444444444444444,
              "#bd3786"
             ],
             [
              0.5555555555555556,
              "#d8576b"
             ],
             [
              0.6666666666666666,
              "#ed7953"
             ],
             [
              0.7777777777777778,
              "#fb9f3a"
             ],
             [
              0.8888888888888888,
              "#fdca26"
             ],
             [
              1,
              "#f0f921"
             ]
            ],
            "type": "histogram2dcontour"
           }
          ],
          "mesh3d": [
           {
            "colorbar": {
             "outlinewidth": 0,
             "ticks": ""
            },
            "type": "mesh3d"
           }
          ],
          "parcoords": [
           {
            "line": {
             "colorbar": {
              "outlinewidth": 0,
              "ticks": ""
             }
            },
            "type": "parcoords"
           }
          ],
          "pie": [
           {
            "automargin": true,
            "type": "pie"
           }
          ],
          "scatter": [
           {
            "marker": {
             "line": {
              "color": "#283442"
             }
            },
            "type": "scatter"
           }
          ],
          "scatter3d": [
           {
            "line": {
             "colorbar": {
              "outlinewidth": 0,
              "ticks": ""
             }
            },
            "marker": {
             "colorbar": {
              "outlinewidth": 0,
              "ticks": ""
             }
            },
            "type": "scatter3d"
           }
          ],
          "scattercarpet": [
           {
            "marker": {
             "colorbar": {
              "outlinewidth": 0,
              "ticks": ""
             }
            },
            "type": "scattercarpet"
           }
          ],
          "scattergeo": [
           {
            "marker": {
             "colorbar": {
              "outlinewidth": 0,
              "ticks": ""
             }
            },
            "type": "scattergeo"
           }
          ],
          "scattergl": [
           {
            "marker": {
             "line": {
              "color": "#283442"
             }
            },
            "type": "scattergl"
           }
          ],
          "scattermapbox": [
           {
            "marker": {
             "colorbar": {
              "outlinewidth": 0,
              "ticks": ""
             }
            },
            "type": "scattermapbox"
           }
          ],
          "scatterpolar": [
           {
            "marker": {
             "colorbar": {
              "outlinewidth": 0,
              "ticks": ""
             }
            },
            "type": "scatterpolar"
           }
          ],
          "scatterpolargl": [
           {
            "marker": {
             "colorbar": {
              "outlinewidth": 0,
              "ticks": ""
             }
            },
            "type": "scatterpolargl"
           }
          ],
          "scatterternary": [
           {
            "marker": {
             "colorbar": {
              "outlinewidth": 0,
              "ticks": ""
             }
            },
            "type": "scatterternary"
           }
          ],
          "surface": [
           {
            "colorbar": {
             "outlinewidth": 0,
             "ticks": ""
            },
            "colorscale": [
             [
              0,
              "#0d0887"
             ],
             [
              0.1111111111111111,
              "#46039f"
             ],
             [
              0.2222222222222222,
              "#7201a8"
             ],
             [
              0.3333333333333333,
              "#9c179e"
             ],
             [
              0.4444444444444444,
              "#bd3786"
             ],
             [
              0.5555555555555556,
              "#d8576b"
             ],
             [
              0.6666666666666666,
              "#ed7953"
             ],
             [
              0.7777777777777778,
              "#fb9f3a"
             ],
             [
              0.8888888888888888,
              "#fdca26"
             ],
             [
              1,
              "#f0f921"
             ]
            ],
            "type": "surface"
           }
          ],
          "table": [
           {
            "cells": {
             "fill": {
              "color": "#506784"
             },
             "line": {
              "color": "rgb(17,17,17)"
             }
            },
            "header": {
             "fill": {
              "color": "#2a3f5f"
             },
             "line": {
              "color": "rgb(17,17,17)"
             }
            },
            "type": "table"
           }
          ]
         },
         "layout": {
          "annotationdefaults": {
           "arrowcolor": "#f2f5fa",
           "arrowhead": 0,
           "arrowwidth": 1
          },
          "autotypenumbers": "strict",
          "coloraxis": {
           "colorbar": {
            "outlinewidth": 0,
            "ticks": ""
           }
          },
          "colorscale": {
           "diverging": [
            [
             0,
             "#8e0152"
            ],
            [
             0.1,
             "#c51b7d"
            ],
            [
             0.2,
             "#de77ae"
            ],
            [
             0.3,
             "#f1b6da"
            ],
            [
             0.4,
             "#fde0ef"
            ],
            [
             0.5,
             "#f7f7f7"
            ],
            [
             0.6,
             "#e6f5d0"
            ],
            [
             0.7,
             "#b8e186"
            ],
            [
             0.8,
             "#7fbc41"
            ],
            [
             0.9,
             "#4d9221"
            ],
            [
             1,
             "#276419"
            ]
           ],
           "sequential": [
            [
             0,
             "#0d0887"
            ],
            [
             0.1111111111111111,
             "#46039f"
            ],
            [
             0.2222222222222222,
             "#7201a8"
            ],
            [
             0.3333333333333333,
             "#9c179e"
            ],
            [
             0.4444444444444444,
             "#bd3786"
            ],
            [
             0.5555555555555556,
             "#d8576b"
            ],
            [
             0.6666666666666666,
             "#ed7953"
            ],
            [
             0.7777777777777778,
             "#fb9f3a"
            ],
            [
             0.8888888888888888,
             "#fdca26"
            ],
            [
             1,
             "#f0f921"
            ]
           ],
           "sequentialminus": [
            [
             0,
             "#0d0887"
            ],
            [
             0.1111111111111111,
             "#46039f"
            ],
            [
             0.2222222222222222,
             "#7201a8"
            ],
            [
             0.3333333333333333,
             "#9c179e"
            ],
            [
             0.4444444444444444,
             "#bd3786"
            ],
            [
             0.5555555555555556,
             "#d8576b"
            ],
            [
             0.6666666666666666,
             "#ed7953"
            ],
            [
             0.7777777777777778,
             "#fb9f3a"
            ],
            [
             0.8888888888888888,
             "#fdca26"
            ],
            [
             1,
             "#f0f921"
            ]
           ]
          },
          "colorway": [
           "#636efa",
           "#EF553B",
           "#00cc96",
           "#ab63fa",
           "#FFA15A",
           "#19d3f3",
           "#FF6692",
           "#B6E880",
           "#FF97FF",
           "#FECB52"
          ],
          "font": {
           "color": "#f2f5fa"
          },
          "geo": {
           "bgcolor": "rgb(17,17,17)",
           "lakecolor": "rgb(17,17,17)",
           "landcolor": "rgb(17,17,17)",
           "showlakes": true,
           "showland": true,
           "subunitcolor": "#506784"
          },
          "hoverlabel": {
           "align": "left"
          },
          "hovermode": "closest",
          "mapbox": {
           "style": "dark"
          },
          "paper_bgcolor": "rgb(17,17,17)",
          "plot_bgcolor": "rgb(17,17,17)",
          "polar": {
           "angularaxis": {
            "gridcolor": "#506784",
            "linecolor": "#506784",
            "ticks": ""
           },
           "bgcolor": "rgb(17,17,17)",
           "radialaxis": {
            "gridcolor": "#506784",
            "linecolor": "#506784",
            "ticks": ""
           }
          },
          "scene": {
           "xaxis": {
            "backgroundcolor": "rgb(17,17,17)",
            "gridcolor": "#506784",
            "gridwidth": 2,
            "linecolor": "#506784",
            "showbackground": true,
            "ticks": "",
            "zerolinecolor": "#C8D4E3"
           },
           "yaxis": {
            "backgroundcolor": "rgb(17,17,17)",
            "gridcolor": "#506784",
            "gridwidth": 2,
            "linecolor": "#506784",
            "showbackground": true,
            "ticks": "",
            "zerolinecolor": "#C8D4E3"
           },
           "zaxis": {
            "backgroundcolor": "rgb(17,17,17)",
            "gridcolor": "#506784",
            "gridwidth": 2,
            "linecolor": "#506784",
            "showbackground": true,
            "ticks": "",
            "zerolinecolor": "#C8D4E3"
           }
          },
          "shapedefaults": {
           "line": {
            "color": "#f2f5fa"
           }
          },
          "sliderdefaults": {
           "bgcolor": "#C8D4E3",
           "bordercolor": "rgb(17,17,17)",
           "borderwidth": 1,
           "tickwidth": 0
          },
          "ternary": {
           "aaxis": {
            "gridcolor": "#506784",
            "linecolor": "#506784",
            "ticks": ""
           },
           "baxis": {
            "gridcolor": "#506784",
            "linecolor": "#506784",
            "ticks": ""
           },
           "bgcolor": "rgb(17,17,17)",
           "caxis": {
            "gridcolor": "#506784",
            "linecolor": "#506784",
            "ticks": ""
           }
          },
          "title": {
           "x": 0.05
          },
          "updatemenudefaults": {
           "bgcolor": "#506784",
           "borderwidth": 0
          },
          "xaxis": {
           "automargin": true,
           "gridcolor": "#283442",
           "linecolor": "#506784",
           "ticks": "",
           "title": {
            "standoff": 15
           },
           "zerolinecolor": "#283442",
           "zerolinewidth": 2
          },
          "yaxis": {
           "automargin": true,
           "gridcolor": "#283442",
           "linecolor": "#506784",
           "ticks": "",
           "title": {
            "standoff": 15
           },
           "zerolinecolor": "#283442",
           "zerolinewidth": 2
          }
         }
        },
        "title": {
         "text": "Evolution of vaccine dose number in storage in France"
        },
        "xaxis": {
         "anchor": "y",
         "domain": [
          0,
          1
         ],
         "title": {
          "text": "date"
         }
        },
        "yaxis": {
         "anchor": "x",
         "domain": [
          0,
          1
         ],
         "title": {
          "text": "nb_doses"
         }
        }
       }
      }
     },
     "metadata": {}
    }
   ],
   "source": [
    "line_charts.vacdoses()"
   ]
  },
  {
   "cell_type": "code",
   "execution_count": 25,
   "metadata": {},
   "outputs": [
    {
     "output_type": "stream",
     "name": "stdout",
     "text": [
      "Downloading data from https://raw.githubusercontent.com/opencovid19-fr/data/master/dist/chiffres-cles.csv (6.5 MB)\n",
      "\n",
      "file_sizes: 100%|██████████████████████████| 6.77M/6.77M [00:01<00:00, 3.59MB/s]\n",
      "Successfully downloaded file to C:\\Users\\quenf\\vizcovidfr\\vizcovidfr\\loads\\..\\data\\chiffres-cles.csv\n"
     ]
    },
    {
     "output_type": "execute_result",
     "data": {
      "text/plain": [
       "699       NaN\n",
       "912       0.0\n",
       "1159      0.0\n",
       "1303      0.0\n",
       "1432      0.0\n",
       "         ... \n",
       "51048     4.0\n",
       "51168    11.0\n",
       "51288     7.0\n",
       "51408     7.0\n",
       "51528     4.0\n",
       "Name: deces, Length: 418, dtype: float64"
      ]
     },
     "metadata": {},
     "execution_count": 25
    }
   ],
   "source": [
    "line_charts.keyseries(\"Hérault\", \"deces\")#is there an interest to show this?"
   ]
  },
  {
   "cell_type": "code",
   "execution_count": 26,
   "metadata": {},
   "outputs": [
    {
     "output_type": "stream",
     "name": "stdout",
     "text": [
      "Downloading data from https://raw.githubusercontent.com/opencovid19-fr/data/master/dist/chiffres-cles.csv (6.5 MB)\n",
      "\n",
      "file_sizes: 100%|██████████████████████████| 6.77M/6.77M [00:01<00:00, 3.55MB/s]\n",
      "Successfully downloaded file to C:\\Users\\quenf\\vizcovidfr\\vizcovidfr\\loads\\..\\data\\chiffres-cles.csv\n"
     ]
    },
    {
     "output_type": "display_data",
     "data": {
      "text/plain": "<Figure size 792x288 with 1 Axes>",
      "image/svg+xml": "<?xml version=\"1.0\" encoding=\"utf-8\" standalone=\"no\"?>\r\n<!DOCTYPE svg PUBLIC \"-//W3C//DTD SVG 1.1//EN\"\r\n  \"http://www.w3.org/Graphics/SVG/1.1/DTD/svg11.dtd\">\r\n<!-- Created with matplotlib (https://matplotlib.org/) -->\r\n<svg height=\"265.989219pt\" version=\"1.1\" viewBox=\"0 0 658.791406 265.989219\" width=\"658.791406pt\" xmlns=\"http://www.w3.org/2000/svg\" xmlns:xlink=\"http://www.w3.org/1999/xlink\">\r\n <metadata>\r\n  <rdf:RDF xmlns:cc=\"http://creativecommons.org/ns#\" xmlns:dc=\"http://purl.org/dc/elements/1.1/\" xmlns:rdf=\"http://www.w3.org/1999/02/22-rdf-syntax-ns#\">\r\n   <cc:Work>\r\n    <dc:type rdf:resource=\"http://purl.org/dc/dcmitype/StillImage\"/>\r\n    <dc:date>2021-04-23T01:13:02.604618</dc:date>\r\n    <dc:format>image/svg+xml</dc:format>\r\n    <dc:creator>\r\n     <cc:Agent>\r\n      <dc:title>Matplotlib v3.3.2, https://matplotlib.org/</dc:title>\r\n     </cc:Agent>\r\n    </dc:creator>\r\n   </cc:Work>\r\n  </rdf:RDF>\r\n </metadata>\r\n <defs>\r\n  <style type=\"text/css\">*{stroke-linecap:butt;stroke-linejoin:round;}</style>\r\n </defs>\r\n <g id=\"figure_1\">\r\n  <g id=\"patch_1\">\r\n   <path d=\"M 0 265.989219 \r\nL 658.791406 265.989219 \r\nL 658.791406 0 \r\nL 0 0 \r\nz\r\n\" style=\"fill:#ffffff;\"/>\r\n  </g>\r\n  <g id=\"axes_1\">\r\n   <g id=\"patch_2\">\r\n    <path d=\"M 37.791406 239.229375 \r\nL 651.591406 239.229375 \r\nL 651.591406 21.789375 \r\nL 37.791406 21.789375 \r\nz\r\n\" style=\"fill:#eaeaf2;\"/>\r\n   </g>\r\n   <g id=\"matplotlib.axis_1\">\r\n    <g id=\"xtick_1\">\r\n     <g id=\"line2d_1\">\r\n      <path clip-path=\"url(#p1e26896ea0)\" d=\"M 150.935082 239.229375 \r\nL 150.935082 21.789375 \r\n\" style=\"fill:none;stroke:#ffffff;stroke-linecap:round;\"/>\r\n     </g>\r\n     <g id=\"text_1\">\r\n      <!-- 10000 -->\r\n      <g style=\"fill:#262626;\" transform=\"translate(135.642504 256.602969)scale(0.11 -0.11)\">\r\n       <defs>\r\n        <path d=\"M 37.25 0 \r\nL 28.46875 0 \r\nL 28.46875 56 \r\nQ 25.296875 52.984375 20.140625 49.953125 \r\nQ 14.984375 46.921875 10.890625 45.40625 \r\nL 10.890625 53.90625 \r\nQ 18.265625 57.375 23.78125 62.296875 \r\nQ 29.296875 67.234375 31.59375 71.875 \r\nL 37.25 71.875 \r\nz\r\n\" id=\"ArialMT-49\"/>\r\n        <path d=\"M 4.15625 35.296875 \r\nQ 4.15625 48 6.765625 55.734375 \r\nQ 9.375 63.484375 14.515625 67.671875 \r\nQ 19.671875 71.875 27.484375 71.875 \r\nQ 33.25 71.875 37.59375 69.546875 \r\nQ 41.9375 67.234375 44.765625 62.859375 \r\nQ 47.609375 58.5 49.21875 52.21875 \r\nQ 50.828125 45.953125 50.828125 35.296875 \r\nQ 50.828125 22.703125 48.234375 14.96875 \r\nQ 45.65625 7.234375 40.5 3 \r\nQ 35.359375 -1.21875 27.484375 -1.21875 \r\nQ 17.140625 -1.21875 11.234375 6.203125 \r\nQ 4.15625 15.140625 4.15625 35.296875 \r\nz\r\nM 13.1875 35.296875 \r\nQ 13.1875 17.671875 17.3125 11.828125 \r\nQ 21.4375 6 27.484375 6 \r\nQ 33.546875 6 37.671875 11.859375 \r\nQ 41.796875 17.71875 41.796875 35.296875 \r\nQ 41.796875 52.984375 37.671875 58.78125 \r\nQ 33.546875 64.59375 27.390625 64.59375 \r\nQ 21.34375 64.59375 17.71875 59.46875 \r\nQ 13.1875 52.9375 13.1875 35.296875 \r\nz\r\n\" id=\"ArialMT-48\"/>\r\n       </defs>\r\n       <use xlink:href=\"#ArialMT-49\"/>\r\n       <use x=\"55.615234\" xlink:href=\"#ArialMT-48\"/>\r\n       <use x=\"111.230469\" xlink:href=\"#ArialMT-48\"/>\r\n       <use x=\"166.845703\" xlink:href=\"#ArialMT-48\"/>\r\n       <use x=\"222.460938\" xlink:href=\"#ArialMT-48\"/>\r\n      </g>\r\n     </g>\r\n    </g>\r\n    <g id=\"xtick_2\">\r\n     <g id=\"line2d_2\">\r\n      <path clip-path=\"url(#p1e26896ea0)\" d=\"M 264.77546 239.229375 \r\nL 264.77546 21.789375 \r\n\" style=\"fill:none;stroke:#ffffff;stroke-linecap:round;\"/>\r\n     </g>\r\n     <g id=\"text_2\">\r\n      <!-- 20000 -->\r\n      <g style=\"fill:#262626;\" transform=\"translate(249.482882 256.602969)scale(0.11 -0.11)\">\r\n       <defs>\r\n        <path d=\"M 50.34375 8.453125 \r\nL 50.34375 0 \r\nL 3.03125 0 \r\nQ 2.9375 3.171875 4.046875 6.109375 \r\nQ 5.859375 10.9375 9.828125 15.625 \r\nQ 13.8125 20.3125 21.34375 26.46875 \r\nQ 33.015625 36.03125 37.109375 41.625 \r\nQ 41.21875 47.21875 41.21875 52.203125 \r\nQ 41.21875 57.421875 37.46875 61 \r\nQ 33.734375 64.59375 27.734375 64.59375 \r\nQ 21.390625 64.59375 17.578125 60.78125 \r\nQ 13.765625 56.984375 13.71875 50.25 \r\nL 4.6875 51.171875 \r\nQ 5.609375 61.28125 11.65625 66.578125 \r\nQ 17.71875 71.875 27.9375 71.875 \r\nQ 38.234375 71.875 44.234375 66.15625 \r\nQ 50.25 60.453125 50.25 52 \r\nQ 50.25 47.703125 48.484375 43.546875 \r\nQ 46.734375 39.40625 42.65625 34.8125 \r\nQ 38.578125 30.21875 29.109375 22.21875 \r\nQ 21.1875 15.578125 18.9375 13.203125 \r\nQ 16.703125 10.84375 15.234375 8.453125 \r\nz\r\n\" id=\"ArialMT-50\"/>\r\n       </defs>\r\n       <use xlink:href=\"#ArialMT-50\"/>\r\n       <use x=\"55.615234\" xlink:href=\"#ArialMT-48\"/>\r\n       <use x=\"111.230469\" xlink:href=\"#ArialMT-48\"/>\r\n       <use x=\"166.845703\" xlink:href=\"#ArialMT-48\"/>\r\n       <use x=\"222.460938\" xlink:href=\"#ArialMT-48\"/>\r\n      </g>\r\n     </g>\r\n    </g>\r\n    <g id=\"xtick_3\">\r\n     <g id=\"line2d_3\">\r\n      <path clip-path=\"url(#p1e26896ea0)\" d=\"M 378.615839 239.229375 \r\nL 378.615839 21.789375 \r\n\" style=\"fill:none;stroke:#ffffff;stroke-linecap:round;\"/>\r\n     </g>\r\n     <g id=\"text_3\">\r\n      <!-- 30000 -->\r\n      <g style=\"fill:#262626;\" transform=\"translate(363.323261 256.602969)scale(0.11 -0.11)\">\r\n       <defs>\r\n        <path d=\"M 4.203125 18.890625 \r\nL 12.984375 20.0625 \r\nQ 14.5 12.59375 18.140625 9.296875 \r\nQ 21.78125 6 27 6 \r\nQ 33.203125 6 37.46875 10.296875 \r\nQ 41.75 14.59375 41.75 20.953125 \r\nQ 41.75 27 37.796875 30.921875 \r\nQ 33.84375 34.859375 27.734375 34.859375 \r\nQ 25.25 34.859375 21.53125 33.890625 \r\nL 22.515625 41.609375 \r\nQ 23.390625 41.5 23.921875 41.5 \r\nQ 29.546875 41.5 34.03125 44.421875 \r\nQ 38.53125 47.359375 38.53125 53.46875 \r\nQ 38.53125 58.296875 35.25 61.46875 \r\nQ 31.984375 64.65625 26.8125 64.65625 \r\nQ 21.6875 64.65625 18.265625 61.421875 \r\nQ 14.84375 58.203125 13.875 51.765625 \r\nL 5.078125 53.328125 \r\nQ 6.6875 62.15625 12.390625 67.015625 \r\nQ 18.109375 71.875 26.609375 71.875 \r\nQ 32.46875 71.875 37.390625 69.359375 \r\nQ 42.328125 66.84375 44.9375 62.5 \r\nQ 47.5625 58.15625 47.5625 53.265625 \r\nQ 47.5625 48.640625 45.0625 44.828125 \r\nQ 42.578125 41.015625 37.703125 38.765625 \r\nQ 44.046875 37.3125 47.5625 32.6875 \r\nQ 51.078125 28.078125 51.078125 21.140625 \r\nQ 51.078125 11.765625 44.234375 5.25 \r\nQ 37.40625 -1.265625 26.953125 -1.265625 \r\nQ 17.53125 -1.265625 11.296875 4.34375 \r\nQ 5.078125 9.96875 4.203125 18.890625 \r\nz\r\n\" id=\"ArialMT-51\"/>\r\n       </defs>\r\n       <use xlink:href=\"#ArialMT-51\"/>\r\n       <use x=\"55.615234\" xlink:href=\"#ArialMT-48\"/>\r\n       <use x=\"111.230469\" xlink:href=\"#ArialMT-48\"/>\r\n       <use x=\"166.845703\" xlink:href=\"#ArialMT-48\"/>\r\n       <use x=\"222.460938\" xlink:href=\"#ArialMT-48\"/>\r\n      </g>\r\n     </g>\r\n    </g>\r\n    <g id=\"xtick_4\">\r\n     <g id=\"line2d_4\">\r\n      <path clip-path=\"url(#p1e26896ea0)\" d=\"M 492.456218 239.229375 \r\nL 492.456218 21.789375 \r\n\" style=\"fill:none;stroke:#ffffff;stroke-linecap:round;\"/>\r\n     </g>\r\n     <g id=\"text_4\">\r\n      <!-- 40000 -->\r\n      <g style=\"fill:#262626;\" transform=\"translate(477.16364 256.602969)scale(0.11 -0.11)\">\r\n       <defs>\r\n        <path d=\"M 32.328125 0 \r\nL 32.328125 17.140625 \r\nL 1.265625 17.140625 \r\nL 1.265625 25.203125 \r\nL 33.9375 71.578125 \r\nL 41.109375 71.578125 \r\nL 41.109375 25.203125 \r\nL 50.78125 25.203125 \r\nL 50.78125 17.140625 \r\nL 41.109375 17.140625 \r\nL 41.109375 0 \r\nz\r\nM 32.328125 25.203125 \r\nL 32.328125 57.46875 \r\nL 9.90625 25.203125 \r\nz\r\n\" id=\"ArialMT-52\"/>\r\n       </defs>\r\n       <use xlink:href=\"#ArialMT-52\"/>\r\n       <use x=\"55.615234\" xlink:href=\"#ArialMT-48\"/>\r\n       <use x=\"111.230469\" xlink:href=\"#ArialMT-48\"/>\r\n       <use x=\"166.845703\" xlink:href=\"#ArialMT-48\"/>\r\n       <use x=\"222.460938\" xlink:href=\"#ArialMT-48\"/>\r\n      </g>\r\n     </g>\r\n    </g>\r\n    <g id=\"xtick_5\">\r\n     <g id=\"line2d_5\">\r\n      <path clip-path=\"url(#p1e26896ea0)\" d=\"M 606.296596 239.229375 \r\nL 606.296596 21.789375 \r\n\" style=\"fill:none;stroke:#ffffff;stroke-linecap:round;\"/>\r\n     </g>\r\n     <g id=\"text_5\">\r\n      <!-- 50000 -->\r\n      <g style=\"fill:#262626;\" transform=\"translate(591.004018 256.602969)scale(0.11 -0.11)\">\r\n       <defs>\r\n        <path d=\"M 4.15625 18.75 \r\nL 13.375 19.53125 \r\nQ 14.40625 12.796875 18.140625 9.390625 \r\nQ 21.875 6 27.15625 6 \r\nQ 33.5 6 37.890625 10.78125 \r\nQ 42.28125 15.578125 42.28125 23.484375 \r\nQ 42.28125 31 38.0625 35.34375 \r\nQ 33.84375 39.703125 27 39.703125 \r\nQ 22.75 39.703125 19.328125 37.765625 \r\nQ 15.921875 35.84375 13.96875 32.765625 \r\nL 5.71875 33.84375 \r\nL 12.640625 70.609375 \r\nL 48.25 70.609375 \r\nL 48.25 62.203125 \r\nL 19.671875 62.203125 \r\nL 15.828125 42.96875 \r\nQ 22.265625 47.46875 29.34375 47.46875 \r\nQ 38.71875 47.46875 45.15625 40.96875 \r\nQ 51.609375 34.46875 51.609375 24.265625 \r\nQ 51.609375 14.546875 45.953125 7.46875 \r\nQ 39.0625 -1.21875 27.15625 -1.21875 \r\nQ 17.390625 -1.21875 11.203125 4.25 \r\nQ 5.03125 9.71875 4.15625 18.75 \r\nz\r\n\" id=\"ArialMT-53\"/>\r\n       </defs>\r\n       <use xlink:href=\"#ArialMT-53\"/>\r\n       <use x=\"55.615234\" xlink:href=\"#ArialMT-48\"/>\r\n       <use x=\"111.230469\" xlink:href=\"#ArialMT-48\"/>\r\n       <use x=\"166.845703\" xlink:href=\"#ArialMT-48\"/>\r\n       <use x=\"222.460938\" xlink:href=\"#ArialMT-48\"/>\r\n      </g>\r\n     </g>\r\n    </g>\r\n   </g>\r\n   <g id=\"matplotlib.axis_2\">\r\n    <g id=\"ytick_1\">\r\n     <g id=\"line2d_6\">\r\n      <path clip-path=\"url(#p1e26896ea0)\" d=\"M 37.791406 229.345739 \r\nL 651.591406 229.345739 \r\n\" style=\"fill:none;stroke:#ffffff;stroke-linecap:round;\"/>\r\n     </g>\r\n     <g id=\"text_6\">\r\n      <!-- 0 -->\r\n      <g style=\"fill:#262626;\" transform=\"translate(22.174375 233.282536)scale(0.11 -0.11)\">\r\n       <use xlink:href=\"#ArialMT-48\"/>\r\n      </g>\r\n     </g>\r\n    </g>\r\n    <g id=\"ytick_2\">\r\n     <g id=\"line2d_7\">\r\n      <path clip-path=\"url(#p1e26896ea0)\" d=\"M 37.791406 201.671557 \r\nL 651.591406 201.671557 \r\n\" style=\"fill:none;stroke:#ffffff;stroke-linecap:round;\"/>\r\n     </g>\r\n     <g id=\"text_7\">\r\n      <!-- 1 -->\r\n      <g style=\"fill:#262626;\" transform=\"translate(22.174375 205.608354)scale(0.11 -0.11)\">\r\n       <use xlink:href=\"#ArialMT-49\"/>\r\n      </g>\r\n     </g>\r\n    </g>\r\n    <g id=\"ytick_3\">\r\n     <g id=\"line2d_8\">\r\n      <path clip-path=\"url(#p1e26896ea0)\" d=\"M 37.791406 173.997375 \r\nL 651.591406 173.997375 \r\n\" style=\"fill:none;stroke:#ffffff;stroke-linecap:round;\"/>\r\n     </g>\r\n     <g id=\"text_8\">\r\n      <!-- 2 -->\r\n      <g style=\"fill:#262626;\" transform=\"translate(22.174375 177.934172)scale(0.11 -0.11)\">\r\n       <use xlink:href=\"#ArialMT-50\"/>\r\n      </g>\r\n     </g>\r\n    </g>\r\n    <g id=\"ytick_4\">\r\n     <g id=\"line2d_9\">\r\n      <path clip-path=\"url(#p1e26896ea0)\" d=\"M 37.791406 146.323193 \r\nL 651.591406 146.323193 \r\n\" style=\"fill:none;stroke:#ffffff;stroke-linecap:round;\"/>\r\n     </g>\r\n     <g id=\"text_9\">\r\n      <!-- 3 -->\r\n      <g style=\"fill:#262626;\" transform=\"translate(22.174375 150.25999)scale(0.11 -0.11)\">\r\n       <use xlink:href=\"#ArialMT-51\"/>\r\n      </g>\r\n     </g>\r\n    </g>\r\n    <g id=\"ytick_5\">\r\n     <g id=\"line2d_10\">\r\n      <path clip-path=\"url(#p1e26896ea0)\" d=\"M 37.791406 118.649011 \r\nL 651.591406 118.649011 \r\n\" style=\"fill:none;stroke:#ffffff;stroke-linecap:round;\"/>\r\n     </g>\r\n     <g id=\"text_10\">\r\n      <!-- 4 -->\r\n      <g style=\"fill:#262626;\" transform=\"translate(22.174375 122.585808)scale(0.11 -0.11)\">\r\n       <use xlink:href=\"#ArialMT-52\"/>\r\n      </g>\r\n     </g>\r\n    </g>\r\n    <g id=\"ytick_6\">\r\n     <g id=\"line2d_11\">\r\n      <path clip-path=\"url(#p1e26896ea0)\" d=\"M 37.791406 90.97483 \r\nL 651.591406 90.97483 \r\n\" style=\"fill:none;stroke:#ffffff;stroke-linecap:round;\"/>\r\n     </g>\r\n     <g id=\"text_11\">\r\n      <!-- 5 -->\r\n      <g style=\"fill:#262626;\" transform=\"translate(22.174375 94.911626)scale(0.11 -0.11)\">\r\n       <use xlink:href=\"#ArialMT-53\"/>\r\n      </g>\r\n     </g>\r\n    </g>\r\n    <g id=\"ytick_7\">\r\n     <g id=\"line2d_12\">\r\n      <path clip-path=\"url(#p1e26896ea0)\" d=\"M 37.791406 63.300648 \r\nL 651.591406 63.300648 \r\n\" style=\"fill:none;stroke:#ffffff;stroke-linecap:round;\"/>\r\n     </g>\r\n     <g id=\"text_12\">\r\n      <!-- 6 -->\r\n      <g style=\"fill:#262626;\" transform=\"translate(22.174375 67.237445)scale(0.11 -0.11)\">\r\n       <defs>\r\n        <path d=\"M 49.75 54.046875 \r\nL 41.015625 53.375 \r\nQ 39.84375 58.546875 37.703125 60.890625 \r\nQ 34.125 64.65625 28.90625 64.65625 \r\nQ 24.703125 64.65625 21.53125 62.3125 \r\nQ 17.390625 59.28125 14.984375 53.46875 \r\nQ 12.59375 47.65625 12.5 36.921875 \r\nQ 15.671875 41.75 20.265625 44.09375 \r\nQ 24.859375 46.4375 29.890625 46.4375 \r\nQ 38.671875 46.4375 44.84375 39.96875 \r\nQ 51.03125 33.5 51.03125 23.25 \r\nQ 51.03125 16.5 48.125 10.71875 \r\nQ 45.21875 4.9375 40.140625 1.859375 \r\nQ 35.0625 -1.21875 28.609375 -1.21875 \r\nQ 17.625 -1.21875 10.6875 6.859375 \r\nQ 3.765625 14.9375 3.765625 33.5 \r\nQ 3.765625 54.25 11.421875 63.671875 \r\nQ 18.109375 71.875 29.4375 71.875 \r\nQ 37.890625 71.875 43.28125 67.140625 \r\nQ 48.6875 62.40625 49.75 54.046875 \r\nz\r\nM 13.875 23.1875 \r\nQ 13.875 18.65625 15.796875 14.5 \r\nQ 17.71875 10.359375 21.1875 8.171875 \r\nQ 24.65625 6 28.46875 6 \r\nQ 34.03125 6 38.03125 10.484375 \r\nQ 42.046875 14.984375 42.046875 22.703125 \r\nQ 42.046875 30.125 38.078125 34.390625 \r\nQ 34.125 38.671875 28.125 38.671875 \r\nQ 22.171875 38.671875 18.015625 34.390625 \r\nQ 13.875 30.125 13.875 23.1875 \r\nz\r\n\" id=\"ArialMT-54\"/>\r\n       </defs>\r\n       <use xlink:href=\"#ArialMT-54\"/>\r\n      </g>\r\n     </g>\r\n    </g>\r\n    <g id=\"ytick_8\">\r\n     <g id=\"line2d_13\">\r\n      <path clip-path=\"url(#p1e26896ea0)\" d=\"M 37.791406 35.626466 \r\nL 651.591406 35.626466 \r\n\" style=\"fill:none;stroke:#ffffff;stroke-linecap:round;\"/>\r\n     </g>\r\n     <g id=\"text_13\">\r\n      <!-- 7 -->\r\n      <g style=\"fill:#262626;\" transform=\"translate(22.174375 39.563263)scale(0.11 -0.11)\">\r\n       <defs>\r\n        <path d=\"M 4.734375 62.203125 \r\nL 4.734375 70.65625 \r\nL 51.078125 70.65625 \r\nL 51.078125 63.8125 \r\nQ 44.234375 56.546875 37.515625 44.484375 \r\nQ 30.8125 32.421875 27.15625 19.671875 \r\nQ 24.515625 10.6875 23.78125 0 \r\nL 14.75 0 \r\nQ 14.890625 8.453125 18.0625 20.40625 \r\nQ 21.234375 32.375 27.171875 43.484375 \r\nQ 33.109375 54.59375 39.796875 62.203125 \r\nz\r\n\" id=\"ArialMT-55\"/>\r\n       </defs>\r\n       <use xlink:href=\"#ArialMT-55\"/>\r\n      </g>\r\n     </g>\r\n    </g>\r\n    <g id=\"text_14\">\r\n     <!-- death -->\r\n     <g style=\"fill:#262626;\" transform=\"translate(15.789375 145.5225)rotate(-90)scale(0.12 -0.12)\">\r\n      <defs>\r\n       <path d=\"M 40.234375 0 \r\nL 40.234375 6.546875 \r\nQ 35.296875 -1.171875 25.734375 -1.171875 \r\nQ 19.53125 -1.171875 14.328125 2.25 \r\nQ 9.125 5.671875 6.265625 11.796875 \r\nQ 3.421875 17.921875 3.421875 25.875 \r\nQ 3.421875 33.640625 6 39.96875 \r\nQ 8.59375 46.296875 13.765625 49.65625 \r\nQ 18.953125 53.03125 25.34375 53.03125 \r\nQ 30.03125 53.03125 33.6875 51.046875 \r\nQ 37.359375 49.078125 39.65625 45.90625 \r\nL 39.65625 71.578125 \r\nL 48.390625 71.578125 \r\nL 48.390625 0 \r\nz\r\nM 12.453125 25.875 \r\nQ 12.453125 15.921875 16.640625 10.984375 \r\nQ 20.84375 6.0625 26.5625 6.0625 \r\nQ 32.328125 6.0625 36.34375 10.765625 \r\nQ 40.375 15.484375 40.375 25.140625 \r\nQ 40.375 35.796875 36.265625 40.765625 \r\nQ 32.171875 45.75 26.171875 45.75 \r\nQ 20.3125 45.75 16.375 40.96875 \r\nQ 12.453125 36.1875 12.453125 25.875 \r\nz\r\n\" id=\"ArialMT-100\"/>\r\n       <path d=\"M 42.09375 16.703125 \r\nL 51.171875 15.578125 \r\nQ 49.03125 7.625 43.21875 3.21875 \r\nQ 37.40625 -1.171875 28.375 -1.171875 \r\nQ 17 -1.171875 10.328125 5.828125 \r\nQ 3.65625 12.84375 3.65625 25.484375 \r\nQ 3.65625 38.578125 10.390625 45.796875 \r\nQ 17.140625 53.03125 27.875 53.03125 \r\nQ 38.28125 53.03125 44.875 45.953125 \r\nQ 51.46875 38.875 51.46875 26.03125 \r\nQ 51.46875 25.25 51.421875 23.6875 \r\nL 12.75 23.6875 \r\nQ 13.234375 15.140625 17.578125 10.59375 \r\nQ 21.921875 6.0625 28.421875 6.0625 \r\nQ 33.25 6.0625 36.671875 8.59375 \r\nQ 40.09375 11.140625 42.09375 16.703125 \r\nz\r\nM 13.234375 30.90625 \r\nL 42.1875 30.90625 \r\nQ 41.609375 37.453125 38.875 40.71875 \r\nQ 34.671875 45.796875 27.984375 45.796875 \r\nQ 21.921875 45.796875 17.796875 41.75 \r\nQ 13.671875 37.703125 13.234375 30.90625 \r\nz\r\n\" id=\"ArialMT-101\"/>\r\n       <path d=\"M 40.4375 6.390625 \r\nQ 35.546875 2.25 31.03125 0.53125 \r\nQ 26.515625 -1.171875 21.34375 -1.171875 \r\nQ 12.796875 -1.171875 8.203125 3 \r\nQ 3.609375 7.171875 3.609375 13.671875 \r\nQ 3.609375 17.484375 5.34375 20.625 \r\nQ 7.078125 23.78125 9.890625 25.6875 \r\nQ 12.703125 27.59375 16.21875 28.5625 \r\nQ 18.796875 29.25 24.03125 29.890625 \r\nQ 34.671875 31.15625 39.703125 32.90625 \r\nQ 39.75 34.71875 39.75 35.203125 \r\nQ 39.75 40.578125 37.25 42.78125 \r\nQ 33.890625 45.75 27.25 45.75 \r\nQ 21.046875 45.75 18.09375 43.578125 \r\nQ 15.140625 41.40625 13.71875 35.890625 \r\nL 5.125 37.0625 \r\nQ 6.296875 42.578125 8.984375 45.96875 \r\nQ 11.671875 49.359375 16.75 51.1875 \r\nQ 21.828125 53.03125 28.515625 53.03125 \r\nQ 35.15625 53.03125 39.296875 51.46875 \r\nQ 43.453125 49.90625 45.40625 47.53125 \r\nQ 47.359375 45.171875 48.140625 41.546875 \r\nQ 48.578125 39.3125 48.578125 33.453125 \r\nL 48.578125 21.734375 \r\nQ 48.578125 9.46875 49.140625 6.21875 \r\nQ 49.703125 2.984375 51.375 0 \r\nL 42.1875 0 \r\nQ 40.828125 2.734375 40.4375 6.390625 \r\nz\r\nM 39.703125 26.03125 \r\nQ 34.90625 24.078125 25.34375 22.703125 \r\nQ 19.921875 21.921875 17.671875 20.9375 \r\nQ 15.4375 19.96875 14.203125 18.09375 \r\nQ 12.984375 16.21875 12.984375 13.921875 \r\nQ 12.984375 10.40625 15.640625 8.0625 \r\nQ 18.3125 5.71875 23.4375 5.71875 \r\nQ 28.515625 5.71875 32.46875 7.9375 \r\nQ 36.421875 10.15625 38.28125 14.015625 \r\nQ 39.703125 17 39.703125 22.796875 \r\nz\r\n\" id=\"ArialMT-97\"/>\r\n       <path d=\"M 25.78125 7.859375 \r\nL 27.046875 0.09375 \r\nQ 23.34375 -0.6875 20.40625 -0.6875 \r\nQ 15.625 -0.6875 12.984375 0.828125 \r\nQ 10.359375 2.34375 9.28125 4.8125 \r\nQ 8.203125 7.28125 8.203125 15.1875 \r\nL 8.203125 45.015625 \r\nL 1.765625 45.015625 \r\nL 1.765625 51.859375 \r\nL 8.203125 51.859375 \r\nL 8.203125 64.703125 \r\nL 16.9375 69.96875 \r\nL 16.9375 51.859375 \r\nL 25.78125 51.859375 \r\nL 25.78125 45.015625 \r\nL 16.9375 45.015625 \r\nL 16.9375 14.703125 \r\nQ 16.9375 10.9375 17.40625 9.859375 \r\nQ 17.875 8.796875 18.921875 8.15625 \r\nQ 19.96875 7.515625 21.921875 7.515625 \r\nQ 23.390625 7.515625 25.78125 7.859375 \r\nz\r\n\" id=\"ArialMT-116\"/>\r\n       <path d=\"M 6.59375 0 \r\nL 6.59375 71.578125 \r\nL 15.375 71.578125 \r\nL 15.375 45.90625 \r\nQ 21.53125 53.03125 30.90625 53.03125 \r\nQ 36.671875 53.03125 40.921875 50.75 \r\nQ 45.171875 48.484375 47 44.484375 \r\nQ 48.828125 40.484375 48.828125 32.859375 \r\nL 48.828125 0 \r\nL 40.046875 0 \r\nL 40.046875 32.859375 \r\nQ 40.046875 39.453125 37.1875 42.453125 \r\nQ 34.328125 45.453125 29.109375 45.453125 \r\nQ 25.203125 45.453125 21.75 43.421875 \r\nQ 18.3125 41.40625 16.84375 37.9375 \r\nQ 15.375 34.46875 15.375 28.375 \r\nL 15.375 0 \r\nz\r\n\" id=\"ArialMT-104\"/>\r\n      </defs>\r\n      <use xlink:href=\"#ArialMT-100\"/>\r\n      <use x=\"55.615234\" xlink:href=\"#ArialMT-101\"/>\r\n      <use x=\"111.230469\" xlink:href=\"#ArialMT-97\"/>\r\n      <use x=\"166.845703\" xlink:href=\"#ArialMT-116\"/>\r\n      <use x=\"194.628906\" xlink:href=\"#ArialMT-104\"/>\r\n     </g>\r\n    </g>\r\n   </g>\r\n   <g id=\"line2d_14\">\r\n    <path clip-path=\"url(#p1e26896ea0)\" d=\"M 65.691406 209.578466 \r\nL 65.70279 213.53192 \r\nL 68.230047 209.578466 \r\nL 68.241431 213.53192 \r\nL 70.836991 201.671557 \r\nL 70.848375 221.43883 \r\nL 73.387016 209.578466 \r\nL 73.3984 213.53192 \r\nL 75.891504 205.625011 \r\nL 75.902888 209.578466 \r\nL 78.339072 197.718102 \r\nL 78.350456 205.625011 \r\nL 80.798024 181.904284 \r\nL 80.809409 201.671557 \r\nL 82.960992 193.764648 \r\nL 82.972376 197.718102 \r\nL 85.032887 185.857739 \r\nL 85.044271 193.764648 \r\nL 87.070629 193.764648 \r\nL 87.082013 201.671557 \r\nL 88.971764 197.718102 \r\nL 88.983148 205.625011 \r\nL 90.679369 185.857739 \r\nL 90.690753 197.718102 \r\nL 92.250367 173.997375 \r\nL 95.141912 150.276648 \r\nL 96.553533 122.602466 \r\nL 97.942386 118.649011 \r\nL 99.331238 130.509375 \r\nL 100.788395 118.649011 \r\nL 102.245552 130.509375 \r\nL 103.691325 138.416284 \r\nL 105.068793 122.602466 \r\nL 106.446262 138.416284 \r\nL 107.82373 142.369739 \r\nL 109.201199 142.369739 \r\nL 110.578668 126.55592 \r\nL 111.956136 118.649011 \r\nL 113.333605 122.602466 \r\nL 114.711073 154.230102 \r\nL 116.088542 166.090466 \r\nL 117.46601 166.090466 \r\nL 118.843479 158.183557 \r\nL 121.598416 197.718102 \r\nL 122.975885 197.718102 \r\nL 124.353353 193.764648 \r\nL 125.730822 197.718102 \r\nL 127.108291 197.718102 \r\nL 128.485759 209.578466 \r\nL 129.863228 213.53192 \r\nL 131.240696 201.671557 \r\nL 132.618165 201.671557 \r\nL 133.995633 205.625011 \r\nL 135.373102 193.764648 \r\nL 136.750571 193.764648 \r\nL 138.128039 197.718102 \r\nL 139.505508 177.95083 \r\nL 140.882976 185.857739 \r\nL 142.260445 189.811193 \r\nL 143.637914 189.811193 \r\nL 145.015382 201.671557 \r\nL 146.392851 201.671557 \r\nL 147.770319 197.718102 \r\nL 149.147788 221.43883 \r\nL 150.525256 225.392284 \r\nL 151.902725 221.43883 \r\nL 157.412599 221.43883 \r\nL 158.790068 229.345739 \r\nL 160.167536 225.392284 \r\nL 161.545005 229.345739 \r\nL 162.922474 225.392284 \r\nL 165.677411 225.392284 \r\nL 167.054879 229.345739 \r\nL 168.432348 217.485375 \r\nL 169.809817 221.43883 \r\nL 171.187285 221.43883 \r\nL 172.564754 225.392284 \r\nL 176.697159 225.392284 \r\nL 178.074628 229.345739 \r\nL 180.829565 229.345739 \r\nL 182.207034 225.392284 \r\nL 189.094377 225.392284 \r\nL 190.471845 221.43883 \r\nL 191.849314 225.392284 \r\nL 194.604251 225.392284 \r\nL 195.98172 221.43883 \r\nL 198.736657 221.43883 \r\nL 200.114125 225.392284 \r\nL 204.246531 225.392284 \r\nL 205.624 229.345739 \r\nL 229.040966 229.345739 \r\nL 230.418434 225.392284 \r\nL 238.683246 225.392284 \r\nL 240.060714 229.345739 \r\nL 255.212869 229.345739 \r\nL 256.590337 225.392284 \r\nL 264.855149 225.392284 \r\nL 266.232617 229.345739 \r\nL 300.669332 229.345739 \r\nL 302.0468 225.392284 \r\nL 306.179206 225.392284 \r\nL 307.556675 217.485375 \r\nL 310.311612 217.485375 \r\nL 311.68908 221.43883 \r\nL 314.444018 213.53192 \r\nL 317.198955 213.53192 \r\nL 318.576423 209.578466 \r\nL 319.953892 209.578466 \r\nL 321.331361 205.625011 \r\nL 322.708829 197.718102 \r\nL 325.463766 197.718102 \r\nL 326.841235 205.625011 \r\nL 330.973641 205.625011 \r\nL 332.351109 209.578466 \r\nL 335.106046 201.671557 \r\nL 337.860984 201.671557 \r\nL 340.615921 193.764648 \r\nL 341.993389 193.764648 \r\nL 343.370858 201.671557 \r\nL 344.748326 205.625011 \r\nL 346.125795 197.718102 \r\nL 347.503264 197.718102 \r\nL 350.258201 205.625011 \r\nL 351.635669 213.53192 \r\nL 353.013138 213.53192 \r\nL 354.390607 209.578466 \r\nL 357.145544 217.485375 \r\nL 359.900481 217.485375 \r\nL 361.277949 205.625011 \r\nL 362.655418 185.857739 \r\nL 364.032887 181.904284 \r\nL 365.410355 158.183557 \r\nL 366.787824 142.369739 \r\nL 368.165292 134.46283 \r\nL 369.542761 118.649011 \r\nL 370.920229 110.742102 \r\nL 372.297698 114.695557 \r\nL 373.675167 98.881739 \r\nL 375.052635 118.649011 \r\nL 376.430104 118.649011 \r\nL 377.807572 110.742102 \r\nL 379.185041 90.97483 \r\nL 380.56251 79.114466 \r\nL 381.939978 75.161011 \r\nL 383.317447 67.254102 \r\nL 384.694915 43.533375 \r\nL 386.072384 35.626466 \r\nL 387.449852 39.57992 \r\nL 388.827321 67.254102 \r\nL 392.959727 90.97483 \r\nL 394.337195 106.788648 \r\nL 395.714664 114.695557 \r\nL 397.092133 114.695557 \r\nL 398.469601 87.021375 \r\nL 399.84707 83.06792 \r\nL 401.224538 83.06792 \r\nL 402.602007 90.97483 \r\nL 405.356944 59.347193 \r\nL 406.734413 39.57992 \r\nL 408.111881 63.300648 \r\nL 409.48935 55.393739 \r\nL 410.866818 55.393739 \r\nL 412.244287 51.440284 \r\nL 413.621756 71.207557 \r\nL 414.999224 94.928284 \r\nL 416.376693 98.881739 \r\nL 417.754161 75.161011 \r\nL 419.13163 94.928284 \r\nL 420.509098 94.928284 \r\nL 421.886567 98.881739 \r\nL 423.264036 90.97483 \r\nL 424.641504 90.97483 \r\nL 426.018973 98.881739 \r\nL 427.396441 118.649011 \r\nL 428.785294 110.742102 \r\nL 430.162763 118.649011 \r\nL 431.540231 118.649011 \r\nL 432.9177 130.509375 \r\nL 434.295168 130.509375 \r\nL 435.672637 138.416284 \r\nL 437.050105 142.369739 \r\nL 438.427574 150.276648 \r\nL 439.805043 134.46283 \r\nL 441.182511 142.369739 \r\nL 442.55998 134.46283 \r\nL 443.937448 142.369739 \r\nL 445.314917 146.323193 \r\nL 446.692386 162.137011 \r\nL 448.069854 173.997375 \r\nL 449.447323 173.997375 \r\nL 450.824791 162.137011 \r\nL 452.20226 162.137011 \r\nL 453.579728 158.183557 \r\nL 454.957197 162.137011 \r\nL 457.712134 122.602466 \r\nL 459.089603 134.46283 \r\nL 461.84454 166.090466 \r\nL 463.222009 170.04392 \r\nL 464.599477 162.137011 \r\nL 465.976946 166.090466 \r\nL 467.354414 173.997375 \r\nL 468.731883 170.04392 \r\nL 470.109351 158.183557 \r\nL 475.619226 158.183557 \r\nL 476.996694 170.04392 \r\nL 478.374163 177.95083 \r\nL 479.751631 189.811193 \r\nL 481.1291 162.137011 \r\nL 482.506569 158.183557 \r\nL 483.884037 170.04392 \r\nL 485.261506 177.95083 \r\nL 486.638974 173.997375 \r\nL 488.016443 173.997375 \r\nL 489.393912 150.276648 \r\nL 490.77138 177.95083 \r\nL 492.148849 170.04392 \r\nL 493.526317 170.04392 \r\nL 494.903786 162.137011 \r\nL 496.281254 170.04392 \r\nL 497.658723 170.04392 \r\nL 499.036192 197.718102 \r\nL 503.168597 197.718102 \r\nL 504.546066 213.53192 \r\nL 505.923535 189.811193 \r\nL 507.301003 177.95083 \r\nL 508.678472 173.997375 \r\nL 510.05594 150.276648 \r\nL 511.433409 154.230102 \r\nL 512.810877 138.416284 \r\nL 515.565815 138.416284 \r\nL 516.943283 150.276648 \r\nL 518.320752 142.369739 \r\nL 519.69822 154.230102 \r\nL 521.075689 142.369739 \r\nL 522.453158 150.276648 \r\nL 523.830626 142.369739 \r\nL 525.208095 162.137011 \r\nL 526.585563 146.323193 \r\nL 527.963032 146.323193 \r\nL 529.3405 138.416284 \r\nL 532.095438 146.323193 \r\nL 533.472906 114.695557 \r\nL 534.850375 102.835193 \r\nL 536.227843 83.06792 \r\nL 537.605312 87.021375 \r\nL 540.360249 110.742102 \r\nL 541.726334 110.742102 \r\nL 543.092418 126.55592 \r\nL 544.458503 134.46283 \r\nL 545.824587 154.230102 \r\nL 547.190672 150.276648 \r\nL 548.556756 150.276648 \r\nL 549.922841 142.369739 \r\nL 551.288925 142.369739 \r\nL 552.65501 154.230102 \r\nL 555.387179 146.323193 \r\nL 556.753264 134.46283 \r\nL 558.119348 110.742102 \r\nL 559.485433 118.649011 \r\nL 560.851517 110.742102 \r\nL 562.217602 106.788648 \r\nL 563.583686 110.742102 \r\nL 564.949771 130.509375 \r\nL 566.315855 138.416284 \r\nL 567.68194 162.137011 \r\nL 569.048024 158.183557 \r\nL 570.414109 170.04392 \r\nL 571.780194 185.857739 \r\nL 574.512363 177.95083 \r\nL 575.878447 189.811193 \r\nL 577.244532 193.764648 \r\nL 578.610616 193.764648 \r\nL 581.342785 170.04392 \r\nL 582.70887 173.997375 \r\nL 584.074954 173.997375 \r\nL 585.441039 177.95083 \r\nL 586.807124 173.997375 \r\nL 589.539293 189.811193 \r\nL 590.905377 193.764648 \r\nL 592.271462 181.904284 \r\nL 593.637546 158.183557 \r\nL 595.003631 130.509375 \r\nL 596.369715 106.788648 \r\nL 597.7358 90.97483 \r\nL 599.101884 79.114466 \r\nL 600.467969 79.114466 \r\nL 603.200138 94.928284 \r\nL 604.566223 90.97483 \r\nL 605.932307 106.788648 \r\nL 607.298392 79.114466 \r\nL 608.664476 75.161011 \r\nL 610.030561 75.161011 \r\nL 611.396645 59.347193 \r\nL 612.76273 79.114466 \r\nL 614.128814 106.788648 \r\nL 615.494899 87.021375 \r\nL 616.860984 98.881739 \r\nL 618.227068 102.835193 \r\nL 619.593153 67.254102 \r\nL 620.959237 67.254102 \r\nL 622.325322 43.533375 \r\nL 623.691406 31.673011 \r\nL 623.691406 31.673011 \r\n\" style=\"fill:none;stroke:#4c72b0;stroke-linecap:round;stroke-width:1.5;\"/>\r\n   </g>\r\n   <g id=\"patch_3\">\r\n    <path d=\"M 37.791406 239.229375 \r\nL 37.791406 21.789375 \r\n\" style=\"fill:none;stroke:#ffffff;stroke-linecap:square;stroke-linejoin:miter;stroke-width:1.25;\"/>\r\n   </g>\r\n   <g id=\"patch_4\">\r\n    <path d=\"M 651.591406 239.229375 \r\nL 651.591406 21.789375 \r\n\" style=\"fill:none;stroke:#ffffff;stroke-linecap:square;stroke-linejoin:miter;stroke-width:1.25;\"/>\r\n   </g>\r\n   <g id=\"patch_5\">\r\n    <path d=\"M 37.791406 239.229375 \r\nL 651.591406 239.229375 \r\n\" style=\"fill:none;stroke:#ffffff;stroke-linecap:square;stroke-linejoin:miter;stroke-width:1.25;\"/>\r\n   </g>\r\n   <g id=\"patch_6\">\r\n    <path d=\"M 37.791406 21.789375 \r\nL 651.591406 21.789375 \r\n\" style=\"fill:none;stroke:#ffffff;stroke-linecap:square;stroke-linejoin:miter;stroke-width:1.25;\"/>\r\n   </g>\r\n   <g id=\"text_15\">\r\n    <!-- New deaths of Covid-19              in Hérault -->\r\n    <g style=\"fill:#262626;\" transform=\"translate(231.647656 15.789375)scale(0.12 -0.12)\">\r\n     <defs>\r\n      <path d=\"M 7.625 0 \r\nL 7.625 71.578125 \r\nL 17.328125 71.578125 \r\nL 54.9375 15.375 \r\nL 54.9375 71.578125 \r\nL 64.015625 71.578125 \r\nL 64.015625 0 \r\nL 54.296875 0 \r\nL 16.703125 56.25 \r\nL 16.703125 0 \r\nz\r\n\" id=\"ArialMT-78\"/>\r\n      <path d=\"M 16.15625 0 \r\nL 0.296875 51.859375 \r\nL 9.375 51.859375 \r\nL 17.625 21.921875 \r\nL 20.703125 10.796875 \r\nQ 20.90625 11.625 23.390625 21.484375 \r\nL 31.640625 51.859375 \r\nL 40.671875 51.859375 \r\nL 48.4375 21.78125 \r\nL 51.03125 11.859375 \r\nL 54 21.875 \r\nL 62.890625 51.859375 \r\nL 71.4375 51.859375 \r\nL 55.21875 0 \r\nL 46.09375 0 \r\nL 37.84375 31.0625 \r\nL 35.84375 39.890625 \r\nL 25.34375 0 \r\nz\r\n\" id=\"ArialMT-119\"/>\r\n      <path id=\"ArialMT-32\"/>\r\n      <path d=\"M 3.078125 15.484375 \r\nL 11.765625 16.84375 \r\nQ 12.5 11.625 15.84375 8.84375 \r\nQ 19.1875 6.0625 25.203125 6.0625 \r\nQ 31.25 6.0625 34.171875 8.515625 \r\nQ 37.109375 10.984375 37.109375 14.3125 \r\nQ 37.109375 17.28125 34.515625 19 \r\nQ 32.71875 20.171875 25.53125 21.96875 \r\nQ 15.875 24.421875 12.140625 26.203125 \r\nQ 8.40625 27.984375 6.46875 31.125 \r\nQ 4.546875 34.28125 4.546875 38.09375 \r\nQ 4.546875 41.546875 6.125 44.5 \r\nQ 7.71875 47.46875 10.453125 49.421875 \r\nQ 12.5 50.921875 16.03125 51.96875 \r\nQ 19.578125 53.03125 23.640625 53.03125 \r\nQ 29.734375 53.03125 34.34375 51.265625 \r\nQ 38.96875 49.515625 41.15625 46.5 \r\nQ 43.359375 43.5 44.1875 38.484375 \r\nL 35.59375 37.3125 \r\nQ 35.015625 41.3125 32.203125 43.546875 \r\nQ 29.390625 45.796875 24.265625 45.796875 \r\nQ 18.21875 45.796875 15.625 43.796875 \r\nQ 13.03125 41.796875 13.03125 39.109375 \r\nQ 13.03125 37.40625 14.109375 36.03125 \r\nQ 15.1875 34.625 17.484375 33.6875 \r\nQ 18.796875 33.203125 25.25 31.453125 \r\nQ 34.578125 28.953125 38.25 27.359375 \r\nQ 41.9375 25.78125 44.03125 22.75 \r\nQ 46.140625 19.734375 46.140625 15.234375 \r\nQ 46.140625 10.84375 43.578125 6.953125 \r\nQ 41.015625 3.078125 36.171875 0.953125 \r\nQ 31.34375 -1.171875 25.25 -1.171875 \r\nQ 15.140625 -1.171875 9.84375 3.03125 \r\nQ 4.546875 7.234375 3.078125 15.484375 \r\nz\r\n\" id=\"ArialMT-115\"/>\r\n      <path d=\"M 3.328125 25.921875 \r\nQ 3.328125 40.328125 11.328125 47.265625 \r\nQ 18.015625 53.03125 27.640625 53.03125 \r\nQ 38.328125 53.03125 45.109375 46.015625 \r\nQ 51.90625 39.015625 51.90625 26.65625 \r\nQ 51.90625 16.65625 48.90625 10.90625 \r\nQ 45.90625 5.171875 40.15625 2 \r\nQ 34.421875 -1.171875 27.640625 -1.171875 \r\nQ 16.75 -1.171875 10.03125 5.8125 \r\nQ 3.328125 12.796875 3.328125 25.921875 \r\nz\r\nM 12.359375 25.921875 \r\nQ 12.359375 15.96875 16.703125 11.015625 \r\nQ 21.046875 6.0625 27.640625 6.0625 \r\nQ 34.1875 6.0625 38.53125 11.03125 \r\nQ 42.875 16.015625 42.875 26.21875 \r\nQ 42.875 35.84375 38.5 40.796875 \r\nQ 34.125 45.75 27.640625 45.75 \r\nQ 21.046875 45.75 16.703125 40.8125 \r\nQ 12.359375 35.890625 12.359375 25.921875 \r\nz\r\n\" id=\"ArialMT-111\"/>\r\n      <path d=\"M 8.6875 0 \r\nL 8.6875 45.015625 \r\nL 0.921875 45.015625 \r\nL 0.921875 51.859375 \r\nL 8.6875 51.859375 \r\nL 8.6875 57.375 \r\nQ 8.6875 62.59375 9.625 65.140625 \r\nQ 10.890625 68.5625 14.078125 70.671875 \r\nQ 17.28125 72.796875 23.046875 72.796875 \r\nQ 26.765625 72.796875 31.25 71.921875 \r\nL 29.9375 64.265625 \r\nQ 27.203125 64.75 24.75 64.75 \r\nQ 20.75 64.75 19.09375 63.03125 \r\nQ 17.4375 61.328125 17.4375 56.640625 \r\nL 17.4375 51.859375 \r\nL 27.546875 51.859375 \r\nL 27.546875 45.015625 \r\nL 17.4375 45.015625 \r\nL 17.4375 0 \r\nz\r\n\" id=\"ArialMT-102\"/>\r\n      <path d=\"M 58.796875 25.09375 \r\nL 68.265625 22.703125 \r\nQ 65.28125 11.03125 57.546875 4.90625 \r\nQ 49.8125 -1.21875 38.625 -1.21875 \r\nQ 27.046875 -1.21875 19.796875 3.484375 \r\nQ 12.546875 8.203125 8.765625 17.140625 \r\nQ 4.984375 26.078125 4.984375 36.328125 \r\nQ 4.984375 47.515625 9.25 55.828125 \r\nQ 13.53125 64.15625 21.40625 68.46875 \r\nQ 29.296875 72.796875 38.765625 72.796875 \r\nQ 49.515625 72.796875 56.828125 67.328125 \r\nQ 64.15625 61.859375 67.046875 51.953125 \r\nL 57.71875 49.75 \r\nQ 55.21875 57.5625 50.484375 61.125 \r\nQ 45.75 64.703125 38.578125 64.703125 \r\nQ 30.328125 64.703125 24.78125 60.734375 \r\nQ 19.234375 56.78125 16.984375 50.109375 \r\nQ 14.75 43.453125 14.75 36.375 \r\nQ 14.75 27.25 17.40625 20.4375 \r\nQ 20.0625 13.625 25.671875 10.25 \r\nQ 31.296875 6.890625 37.84375 6.890625 \r\nQ 45.796875 6.890625 51.3125 11.46875 \r\nQ 56.84375 16.0625 58.796875 25.09375 \r\nz\r\n\" id=\"ArialMT-67\"/>\r\n      <path d=\"M 21 0 \r\nL 1.265625 51.859375 \r\nL 10.546875 51.859375 \r\nL 21.6875 20.796875 \r\nQ 23.484375 15.765625 25 10.359375 \r\nQ 26.171875 14.453125 28.265625 20.21875 \r\nL 39.796875 51.859375 \r\nL 48.828125 51.859375 \r\nL 29.203125 0 \r\nz\r\n\" id=\"ArialMT-118\"/>\r\n      <path d=\"M 6.640625 61.46875 \r\nL 6.640625 71.578125 \r\nL 15.4375 71.578125 \r\nL 15.4375 61.46875 \r\nz\r\nM 6.640625 0 \r\nL 6.640625 51.859375 \r\nL 15.4375 51.859375 \r\nL 15.4375 0 \r\nz\r\n\" id=\"ArialMT-105\"/>\r\n      <path d=\"M 3.171875 21.484375 \r\nL 3.171875 30.328125 \r\nL 30.171875 30.328125 \r\nL 30.171875 21.484375 \r\nz\r\n\" id=\"ArialMT-45\"/>\r\n      <path d=\"M 5.46875 16.546875 \r\nL 13.921875 17.328125 \r\nQ 14.984375 11.375 18.015625 8.6875 \r\nQ 21.046875 6 25.78125 6 \r\nQ 29.828125 6 32.875 7.859375 \r\nQ 35.9375 9.71875 37.890625 12.8125 \r\nQ 39.84375 15.921875 41.15625 21.1875 \r\nQ 42.484375 26.46875 42.484375 31.9375 \r\nQ 42.484375 32.515625 42.4375 33.6875 \r\nQ 39.796875 29.5 35.234375 26.875 \r\nQ 30.671875 24.265625 25.34375 24.265625 \r\nQ 16.453125 24.265625 10.296875 30.703125 \r\nQ 4.15625 37.15625 4.15625 47.703125 \r\nQ 4.15625 58.59375 10.578125 65.234375 \r\nQ 17 71.875 26.65625 71.875 \r\nQ 33.640625 71.875 39.421875 68.109375 \r\nQ 45.21875 64.359375 48.21875 57.390625 \r\nQ 51.21875 50.4375 51.21875 37.25 \r\nQ 51.21875 23.53125 48.234375 15.40625 \r\nQ 45.265625 7.28125 39.375 3.03125 \r\nQ 33.5 -1.21875 25.59375 -1.21875 \r\nQ 17.1875 -1.21875 11.859375 3.4375 \r\nQ 6.546875 8.109375 5.46875 16.546875 \r\nz\r\nM 41.453125 48.140625 \r\nQ 41.453125 55.71875 37.421875 60.15625 \r\nQ 33.40625 64.59375 27.734375 64.59375 \r\nQ 21.875 64.59375 17.53125 59.8125 \r\nQ 13.1875 55.03125 13.1875 47.40625 \r\nQ 13.1875 40.578125 17.3125 36.296875 \r\nQ 21.4375 32.03125 27.484375 32.03125 \r\nQ 33.59375 32.03125 37.515625 36.296875 \r\nQ 41.453125 40.578125 41.453125 48.140625 \r\nz\r\n\" id=\"ArialMT-57\"/>\r\n      <path d=\"M 6.59375 0 \r\nL 6.59375 51.859375 \r\nL 14.5 51.859375 \r\nL 14.5 44.484375 \r\nQ 20.21875 53.03125 31 53.03125 \r\nQ 35.6875 53.03125 39.625 51.34375 \r\nQ 43.5625 49.65625 45.515625 46.921875 \r\nQ 47.46875 44.1875 48.25 40.4375 \r\nQ 48.734375 37.984375 48.734375 31.890625 \r\nL 48.734375 0 \r\nL 39.9375 0 \r\nL 39.9375 31.546875 \r\nQ 39.9375 36.921875 38.90625 39.578125 \r\nQ 37.890625 42.234375 35.28125 43.8125 \r\nQ 32.671875 45.40625 29.15625 45.40625 \r\nQ 23.53125 45.40625 19.453125 41.84375 \r\nQ 15.375 38.28125 15.375 28.328125 \r\nL 15.375 0 \r\nz\r\n\" id=\"ArialMT-110\"/>\r\n      <path d=\"M 8.015625 0 \r\nL 8.015625 71.578125 \r\nL 17.484375 71.578125 \r\nL 17.484375 42.1875 \r\nL 54.6875 42.1875 \r\nL 54.6875 71.578125 \r\nL 64.15625 71.578125 \r\nL 64.15625 0 \r\nL 54.6875 0 \r\nL 54.6875 33.734375 \r\nL 17.484375 33.734375 \r\nL 17.484375 0 \r\nz\r\n\" id=\"ArialMT-72\"/>\r\n      <path d=\"M 42.09375 16.703125 \r\nL 51.171875 15.578125 \r\nQ 49.03125 7.625 43.21875 3.21875 \r\nQ 37.40625 -1.171875 28.375 -1.171875 \r\nQ 17 -1.171875 10.328125 5.828125 \r\nQ 3.65625 12.84375 3.65625 25.484375 \r\nQ 3.65625 38.578125 10.390625 45.796875 \r\nQ 17.140625 53.03125 27.875 53.03125 \r\nQ 38.28125 53.03125 44.875 45.953125 \r\nQ 51.46875 38.875 51.46875 26.03125 \r\nQ 51.46875 25.25 51.421875 23.6875 \r\nL 12.75 23.6875 \r\nQ 13.234375 15.140625 17.578125 10.59375 \r\nQ 21.921875 6.0625 28.421875 6.0625 \r\nQ 33.25 6.0625 36.671875 8.59375 \r\nQ 40.09375 11.140625 42.09375 16.703125 \r\nz\r\nM 13.234375 30.90625 \r\nL 42.1875 30.90625 \r\nQ 41.609375 37.453125 38.875 40.71875 \r\nQ 34.671875 45.796875 27.984375 45.796875 \r\nQ 21.921875 45.796875 17.796875 41.75 \r\nQ 13.671875 37.703125 13.234375 30.90625 \r\nz\r\nM 22.703125 58.296875 \r\nL 29.203125 71.96875 \r\nL 40.71875 71.96875 \r\nL 29.984375 58.296875 \r\nz\r\n\" id=\"ArialMT-233\"/>\r\n      <path d=\"M 6.5 0 \r\nL 6.5 51.859375 \r\nL 14.40625 51.859375 \r\nL 14.40625 44 \r\nQ 17.4375 49.515625 20 51.265625 \r\nQ 22.5625 53.03125 25.640625 53.03125 \r\nQ 30.078125 53.03125 34.671875 50.203125 \r\nL 31.640625 42.046875 \r\nQ 28.421875 43.953125 25.203125 43.953125 \r\nQ 22.3125 43.953125 20.015625 42.21875 \r\nQ 17.71875 40.484375 16.75 37.40625 \r\nQ 15.28125 32.71875 15.28125 27.15625 \r\nL 15.28125 0 \r\nz\r\n\" id=\"ArialMT-114\"/>\r\n      <path d=\"M 40.578125 0 \r\nL 40.578125 7.625 \r\nQ 34.515625 -1.171875 24.125 -1.171875 \r\nQ 19.53125 -1.171875 15.546875 0.578125 \r\nQ 11.578125 2.34375 9.640625 5 \r\nQ 7.71875 7.671875 6.9375 11.53125 \r\nQ 6.390625 14.109375 6.390625 19.734375 \r\nL 6.390625 51.859375 \r\nL 15.1875 51.859375 \r\nL 15.1875 23.09375 \r\nQ 15.1875 16.21875 15.71875 13.8125 \r\nQ 16.546875 10.359375 19.234375 8.375 \r\nQ 21.921875 6.390625 25.875 6.390625 \r\nQ 29.828125 6.390625 33.296875 8.421875 \r\nQ 36.765625 10.453125 38.203125 13.9375 \r\nQ 39.65625 17.4375 39.65625 24.078125 \r\nL 39.65625 51.859375 \r\nL 48.4375 51.859375 \r\nL 48.4375 0 \r\nz\r\n\" id=\"ArialMT-117\"/>\r\n      <path d=\"M 6.390625 0 \r\nL 6.390625 71.578125 \r\nL 15.1875 71.578125 \r\nL 15.1875 0 \r\nz\r\n\" id=\"ArialMT-108\"/>\r\n     </defs>\r\n     <use xlink:href=\"#ArialMT-78\"/>\r\n     <use x=\"72.216797\" xlink:href=\"#ArialMT-101\"/>\r\n     <use x=\"127.832031\" xlink:href=\"#ArialMT-119\"/>\r\n     <use x=\"200.048828\" xlink:href=\"#ArialMT-32\"/>\r\n     <use x=\"227.832031\" xlink:href=\"#ArialMT-100\"/>\r\n     <use x=\"283.447266\" xlink:href=\"#ArialMT-101\"/>\r\n     <use x=\"339.0625\" xlink:href=\"#ArialMT-97\"/>\r\n     <use x=\"394.677734\" xlink:href=\"#ArialMT-116\"/>\r\n     <use x=\"422.460938\" xlink:href=\"#ArialMT-104\"/>\r\n     <use x=\"478.076172\" xlink:href=\"#ArialMT-115\"/>\r\n     <use x=\"528.076172\" xlink:href=\"#ArialMT-32\"/>\r\n     <use x=\"555.859375\" xlink:href=\"#ArialMT-111\"/>\r\n     <use x=\"611.474609\" xlink:href=\"#ArialMT-102\"/>\r\n     <use x=\"639.257812\" xlink:href=\"#ArialMT-32\"/>\r\n     <use x=\"667.041016\" xlink:href=\"#ArialMT-67\"/>\r\n     <use x=\"739.257812\" xlink:href=\"#ArialMT-111\"/>\r\n     <use x=\"794.873047\" xlink:href=\"#ArialMT-118\"/>\r\n     <use x=\"844.873047\" xlink:href=\"#ArialMT-105\"/>\r\n     <use x=\"867.089844\" xlink:href=\"#ArialMT-100\"/>\r\n     <use x=\"922.705078\" xlink:href=\"#ArialMT-45\"/>\r\n     <use x=\"956.005859\" xlink:href=\"#ArialMT-49\"/>\r\n     <use x=\"1011.621094\" xlink:href=\"#ArialMT-57\"/>\r\n     <use x=\"1067.236328\" xlink:href=\"#ArialMT-32\"/>\r\n     <use x=\"1095.019531\" xlink:href=\"#ArialMT-32\"/>\r\n     <use x=\"1122.802734\" xlink:href=\"#ArialMT-32\"/>\r\n     <use x=\"1150.585938\" xlink:href=\"#ArialMT-32\"/>\r\n     <use x=\"1178.369141\" xlink:href=\"#ArialMT-32\"/>\r\n     <use x=\"1206.152344\" xlink:href=\"#ArialMT-32\"/>\r\n     <use x=\"1233.935547\" xlink:href=\"#ArialMT-32\"/>\r\n     <use x=\"1261.71875\" xlink:href=\"#ArialMT-32\"/>\r\n     <use x=\"1289.501953\" xlink:href=\"#ArialMT-32\"/>\r\n     <use x=\"1317.285156\" xlink:href=\"#ArialMT-32\"/>\r\n     <use x=\"1345.068359\" xlink:href=\"#ArialMT-32\"/>\r\n     <use x=\"1372.851562\" xlink:href=\"#ArialMT-32\"/>\r\n     <use x=\"1400.634766\" xlink:href=\"#ArialMT-32\"/>\r\n     <use x=\"1428.417969\" xlink:href=\"#ArialMT-32\"/>\r\n     <use x=\"1456.201172\" xlink:href=\"#ArialMT-105\"/>\r\n     <use x=\"1478.417969\" xlink:href=\"#ArialMT-110\"/>\r\n     <use x=\"1534.033203\" xlink:href=\"#ArialMT-32\"/>\r\n     <use x=\"1561.816406\" xlink:href=\"#ArialMT-72\"/>\r\n     <use x=\"1634.033203\" xlink:href=\"#ArialMT-233\"/>\r\n     <use x=\"1689.648438\" xlink:href=\"#ArialMT-114\"/>\r\n     <use x=\"1722.949219\" xlink:href=\"#ArialMT-97\"/>\r\n     <use x=\"1778.564453\" xlink:href=\"#ArialMT-117\"/>\r\n     <use x=\"1834.179688\" xlink:href=\"#ArialMT-108\"/>\r\n     <use x=\"1856.396484\" xlink:href=\"#ArialMT-116\"/>\r\n    </g>\r\n   </g>\r\n  </g>\r\n </g>\r\n <defs>\r\n  <clipPath id=\"p1e26896ea0\">\r\n   <rect height=\"217.44\" width=\"613.8\" x=\"37.791406\" y=\"21.789375\"/>\r\n  </clipPath>\r\n </defs>\r\n</svg>\r\n",
      "image/png": "[encoded data removed]"
     },
     "metadata": {}
    }
   ],
   "source": [
    "line_charts.keyplot(\"Hérault\", \"deces\")"
   ]
  },
  {
   "cell_type": "code",
   "execution_count": 33,
   "metadata": {},
   "outputs": [
    {
     "output_type": "stream",
     "name": "stdout",
     "text": [
      "Downloading data from https://raw.githubusercontent.com/opencovid19-fr/data/master/dist/chiffres-cles.csv (6.5 MB)\n",
      "\n",
      "file_sizes: 100%|██████████████████████████| 6.77M/6.77M [00:01<00:00, 3.50MB/s]\n",
      "Successfully downloaded file to C:\\Users\\quenf\\vizcovidfr\\vizcovidfr\\loads\\..\\data\\chiffres-cles.csv\n",
      "Time to execute: 3.12617 s.\n"
     ]
    },
    {
     "output_type": "display_data",
     "data": {
      "application/vnd.plotly.v1+json": {
       "config": {
        "plotlyServerURL": "https://plot.ly"
       },
       "data": [
        {
         "domain": {
          "x": [
           0,
           1
          ],
          "y": [
           0,
           1
          ]
         },
         "hovertemplate": "Region name=%{label}<br>Number of people in intensive care=%{value}<extra></extra>",
         "labels": [
          "Guadeloupe",
          "Martinique",
          "Guyane",
          "La Réunion",
          "Mayotte",
          "Île-de-France",
          "Centre-Val de Loire",
          "Bourgogne-Franche-Comté",
          "Normandie",
          "Hauts-de-France",
          "Grand Est",
          "Pays de la Loire",
          "Bretagne",
          "Nouvelle-Aquitaine",
          "Occitanie",
          "Auvergne-Rhône-Alpes",
          "Provence-Alpes-Côte d'Azur",
          "Corse"
         ],
         "legendgroup": "",
         "name": "",
         "rotation": 180,
         "showlegend": true,
         "textinfo": "percent+label",
         "textposition": "inside",
         "type": "pie",
         "values": [
          25,
          32,
          13,
          39,
          5,
          1767,
          231,
          220,
          230,
          716,
          507,
          146,
          127,
          268,
          407,
          688,
          546,
          14
         ]
        }
       ],
       "layout": {
        "legend": {
         "tracegroupgap": 0
        },
        "piecolorway": [
         "rgb(3, 35, 51)",
         "rgb(13, 48, 100)",
         "rgb(53, 50, 155)",
         "rgb(93, 62, 153)",
         "rgb(126, 77, 143)",
         "rgb(158, 89, 135)",
         "rgb(193, 100, 121)",
         "rgb(225, 113, 97)",
         "rgb(246, 139, 69)",
         "rgb(251, 173, 60)",
         "rgb(246, 211, 70)",
         "rgb(231, 250, 90)"
        ],
        "template": {
         "data": {
          "bar": [
           {
            "error_x": {
             "color": "#f2f5fa"
            },
            "error_y": {
             "color": "#f2f5fa"
            },
            "marker": {
             "line": {
              "color": "rgb(17,17,17)",
              "width": 0.5
             }
            },
            "type": "bar"
           }
          ],
          "barpolar": [
           {
            "marker": {
             "line": {
              "color": "rgb(17,17,17)",
              "width": 0.5
             }
            },
            "type": "barpolar"
           }
          ],
          "carpet": [
           {
            "aaxis": {
             "endlinecolor": "#A2B1C6",
             "gridcolor": "#506784",
             "linecolor": "#506784",
             "minorgridcolor": "#506784",
             "startlinecolor": "#A2B1C6"
            },
            "baxis": {
             "endlinecolor": "#A2B1C6",
             "gridcolor": "#506784",
             "linecolor": "#506784",
             "minorgridcolor": "#506784",
             "startlinecolor": "#A2B1C6"
            },
            "type": "carpet"
           }
          ],
          "choropleth": [
           {
            "colorbar": {
             "outlinewidth": 0,
             "ticks": ""
            },
            "type": "choropleth"
           }
          ],
          "contour": [
           {
            "colorbar": {
             "outlinewidth": 0,
             "ticks": ""
            },
            "colorscale": [
             [
              0,
              "#0d0887"
             ],
             [
              0.1111111111111111,
              "#46039f"
             ],
             [
              0.2222222222222222,
              "#7201a8"
             ],
             [
              0.3333333333333333,
              "#9c179e"
             ],
             [
              0.4444444444444444,
              "#bd3786"
             ],
             [
              0.5555555555555556,
              "#d8576b"
             ],
             [
              0.6666666666666666,
              "#ed7953"
             ],
             [
              0.7777777777777778,
              "#fb9f3a"
             ],
             [
              0.8888888888888888,
              "#fdca26"
             ],
             [
              1,
              "#f0f921"
             ]
            ],
            "type": "contour"
           }
          ],
          "contourcarpet": [
           {
            "colorbar": {
             "outlinewidth": 0,
             "ticks": ""
            },
            "type": "contourcarpet"
           }
          ],
          "heatmap": [
           {
            "colorbar": {
             "outlinewidth": 0,
             "ticks": ""
            },
            "colorscale": [
             [
              0,
              "#0d0887"
             ],
             [
              0.1111111111111111,
              "#46039f"
             ],
             [
              0.2222222222222222,
              "#7201a8"
             ],
             [
              0.3333333333333333,
              "#9c179e"
             ],
             [
              0.4444444444444444,
              "#bd3786"
             ],
             [
              0.5555555555555556,
              "#d8576b"
             ],
             [
              0.6666666666666666,
              "#ed7953"
             ],
             [
              0.7777777777777778,
              "#fb9f3a"
             ],
             [
              0.8888888888888888,
              "#fdca26"
             ],
             [
              1,
              "#f0f921"
             ]
            ],
            "type": "heatmap"
           }
          ],
          "heatmapgl": [
           {
            "colorbar": {
             "outlinewidth": 0,
             "ticks": ""
            },
            "colorscale": [
             [
              0,
              "#0d0887"
             ],
             [
              0.1111111111111111,
              "#46039f"
             ],
             [
              0.2222222222222222,
              "#7201a8"
             ],
             [
              0.3333333333333333,
              "#9c179e"
             ],
             [
              0.4444444444444444,
              "#bd3786"
             ],
             [
              0.5555555555555556,
              "#d8576b"
             ],
             [
              0.6666666666666666,
              "#ed7953"
             ],
             [
              0.7777777777777778,
              "#fb9f3a"
             ],
             [
              0.8888888888888888,
              "#fdca26"
             ],
             [
              1,
              "#f0f921"
             ]
            ],
            "type": "heatmapgl"
           }
          ],
          "histogram": [
           {
            "marker": {
             "colorbar": {
              "outlinewidth": 0,
              "ticks": ""
             }
            },
            "type": "histogram"
           }
          ],
          "histogram2d": [
           {
            "colorbar": {
             "outlinewidth": 0,
             "ticks": ""
            },
            "colorscale": [
             [
              0,
              "#0d0887"
             ],
             [
              0.1111111111111111,
              "#46039f"
             ],
             [
              0.2222222222222222,
              "#7201a8"
             ],
             [
              0.3333333333333333,
              "#9c179e"
             ],
             [
              0.4444444444444444,
              "#bd3786"
             ],
             [
              0.5555555555555556,
              "#d8576b"
             ],
             [
              0.6666666666666666,
              "#ed7953"
             ],
             [
              0.7777777777777778,
              "#fb9f3a"
             ],
             [
              0.8888888888888888,
              "#fdca26"
             ],
             [
              1,
              "#f0f921"
             ]
            ],
            "type": "histogram2d"
           }
          ],
          "histogram2dcontour": [
           {
            "colorbar": {
             "outlinewidth": 0,
             "ticks": ""
            },
            "colorscale": [
             [
              0,
              "#0d0887"
             ],
             [
              0.1111111111111111,
              "#46039f"
             ],
             [
              0.2222222222222222,
              "#7201a8"
             ],
             [
              0.3333333333333333,
              "#9c179e"
             ],
             [
              0.4444444444444444,
              "#bd3786"
             ],
             [
              0.5555555555555556,
              "#d8576b"
             ],
             [
              0.6666666666666666,
              "#ed7953"
             ],
             [
              0.7777777777777778,
              "#fb9f3a"
             ],
             [
              0.8888888888888888,
              "#fdca26"
             ],
             [
              1,
              "#f0f921"
             ]
            ],
            "type": "histogram2dcontour"
           }
          ],
          "mesh3d": [
           {
            "colorbar": {
             "outlinewidth": 0,
             "ticks": ""
            },
            "type": "mesh3d"
           }
          ],
          "parcoords": [
           {
            "line": {
             "colorbar": {
              "outlinewidth": 0,
              "ticks": ""
             }
            },
            "type": "parcoords"
           }
          ],
          "pie": [
           {
            "automargin": true,
            "type": "pie"
           }
          ],
          "scatter": [
           {
            "marker": {
             "line": {
              "color": "#283442"
             }
            },
            "type": "scatter"
           }
          ],
          "scatter3d": [
           {
            "line": {
             "colorbar": {
              "outlinewidth": 0,
              "ticks": ""
             }
            },
            "marker": {
             "colorbar": {
              "outlinewidth": 0,
              "ticks": ""
             }
            },
            "type": "scatter3d"
           }
          ],
          "scattercarpet": [
           {
            "marker": {
             "colorbar": {
              "outlinewidth": 0,
              "ticks": ""
             }
            },
            "type": "scattercarpet"
           }
          ],
          "scattergeo": [
           {
            "marker": {
             "colorbar": {
              "outlinewidth": 0,
              "ticks": ""
             }
            },
            "type": "scattergeo"
           }
          ],
          "scattergl": [
           {
            "marker": {
             "line": {
              "color": "#283442"
             }
            },
            "type": "scattergl"
           }
          ],
          "scattermapbox": [
           {
            "marker": {
             "colorbar": {
              "outlinewidth": 0,
              "ticks": ""
             }
            },
            "type": "scattermapbox"
           }
          ],
          "scatterpolar": [
           {
            "marker": {
             "colorbar": {
              "outlinewidth": 0,
              "ticks": ""
             }
            },
            "type": "scatterpolar"
           }
          ],
          "scatterpolargl": [
           {
            "marker": {
             "colorbar": {
              "outlinewidth": 0,
              "ticks": ""
             }
            },
            "type": "scatterpolargl"
           }
          ],
          "scatterternary": [
           {
            "marker": {
             "colorbar": {
              "outlinewidth": 0,
              "ticks": ""
             }
            },
            "type": "scatterternary"
           }
          ],
          "surface": [
           {
            "colorbar": {
             "outlinewidth": 0,
             "ticks": ""
            },
            "colorscale": [
             [
              0,
              "#0d0887"
             ],
             [
              0.1111111111111111,
              "#46039f"
             ],
             [
              0.2222222222222222,
              "#7201a8"
             ],
             [
              0.3333333333333333,
              "#9c179e"
             ],
             [
              0.4444444444444444,
              "#bd3786"
             ],
             [
              0.5555555555555556,
              "#d8576b"
             ],
             [
              0.6666666666666666,
              "#ed7953"
             ],
             [
              0.7777777777777778,
              "#fb9f3a"
             ],
             [
              0.8888888888888888,
              "#fdca26"
             ],
             [
              1,
              "#f0f921"
             ]
            ],
            "type": "surface"
           }
          ],
          "table": [
           {
            "cells": {
             "fill": {
              "color": "#506784"
             },
             "line": {
              "color": "rgb(17,17,17)"
             }
            },
            "header": {
             "fill": {
              "color": "#2a3f5f"
             },
             "line": {
              "color": "rgb(17,17,17)"
             }
            },
            "type": "table"
           }
          ]
         },
         "layout": {
          "annotationdefaults": {
           "arrowcolor": "#f2f5fa",
           "arrowhead": 0,
           "arrowwidth": 1
          },
          "autotypenumbers": "strict",
          "coloraxis": {
           "colorbar": {
            "outlinewidth": 0,
            "ticks": ""
           }
          },
          "colorscale": {
           "diverging": [
            [
             0,
             "#8e0152"
            ],
            [
             0.1,
             "#c51b7d"
            ],
            [
             0.2,
             "#de77ae"
            ],
            [
             0.3,
             "#f1b6da"
            ],
            [
             0.4,
             "#fde0ef"
            ],
            [
             0.5,
             "#f7f7f7"
            ],
            [
             0.6,
             "#e6f5d0"
            ],
            [
             0.7,
             "#b8e186"
            ],
            [
             0.8,
             "#7fbc41"
            ],
            [
             0.9,
             "#4d9221"
            ],
            [
             1,
             "#276419"
            ]
           ],
           "sequential": [
            [
             0,
             "#0d0887"
            ],
            [
             0.1111111111111111,
             "#46039f"
            ],
            [
             0.2222222222222222,
             "#7201a8"
            ],
            [
             0.3333333333333333,
             "#9c179e"
            ],
            [
             0.4444444444444444,
             "#bd3786"
            ],
            [
             0.5555555555555556,
             "#d8576b"
            ],
            [
             0.6666666666666666,
             "#ed7953"
            ],
            [
             0.7777777777777778,
             "#fb9f3a"
            ],
            [
             0.8888888888888888,
             "#fdca26"
            ],
            [
             1,
             "#f0f921"
            ]
           ],
           "sequentialminus": [
            [
             0,
             "#0d0887"
            ],
            [
             0.1111111111111111,
             "#46039f"
            ],
            [
             0.2222222222222222,
             "#7201a8"
            ],
            [
             0.3333333333333333,
             "#9c179e"
            ],
            [
             0.4444444444444444,
             "#bd3786"
            ],
            [
             0.5555555555555556,
             "#d8576b"
            ],
            [
             0.6666666666666666,
             "#ed7953"
            ],
            [
             0.7777777777777778,
             "#fb9f3a"
            ],
            [
             0.8888888888888888,
             "#fdca26"
            ],
            [
             1,
             "#f0f921"
            ]
           ]
          },
          "colorway": [
           "#636efa",
           "#EF553B",
           "#00cc96",
           "#ab63fa",
           "#FFA15A",
           "#19d3f3",
           "#FF6692",
           "#B6E880",
           "#FF97FF",
           "#FECB52"
          ],
          "font": {
           "color": "#f2f5fa"
          },
          "geo": {
           "bgcolor": "rgb(17,17,17)",
           "lakecolor": "rgb(17,17,17)",
           "landcolor": "rgb(17,17,17)",
           "showlakes": true,
           "showland": true,
           "subunitcolor": "#506784"
          },
          "hoverlabel": {
           "align": "left"
          },
          "hovermode": "closest",
          "mapbox": {
           "style": "dark"
          },
          "paper_bgcolor": "rgb(17,17,17)",
          "plot_bgcolor": "rgb(17,17,17)",
          "polar": {
           "angularaxis": {
            "gridcolor": "#506784",
            "linecolor": "#506784",
            "ticks": ""
           },
           "bgcolor": "rgb(17,17,17)",
           "radialaxis": {
            "gridcolor": "#506784",
            "linecolor": "#506784",
            "ticks": ""
           }
          },
          "scene": {
           "xaxis": {
            "backgroundcolor": "rgb(17,17,17)",
            "gridcolor": "#506784",
            "gridwidth": 2,
            "linecolor": "#506784",
            "showbackground": true,
            "ticks": "",
            "zerolinecolor": "#C8D4E3"
           },
           "yaxis": {
            "backgroundcolor": "rgb(17,17,17)",
            "gridcolor": "#506784",
            "gridwidth": 2,
            "linecolor": "#506784",
            "showbackground": true,
            "ticks": "",
            "zerolinecolor": "#C8D4E3"
           },
           "zaxis": {
            "backgroundcolor": "rgb(17,17,17)",
            "gridcolor": "#506784",
            "gridwidth": 2,
            "linecolor": "#506784",
            "showbackground": true,
            "ticks": "",
            "zerolinecolor": "#C8D4E3"
           }
          },
          "shapedefaults": {
           "line": {
            "color": "#f2f5fa"
           }
          },
          "sliderdefaults": {
           "bgcolor": "#C8D4E3",
           "bordercolor": "rgb(17,17,17)",
           "borderwidth": 1,
           "tickwidth": 0
          },
          "ternary": {
           "aaxis": {
            "gridcolor": "#506784",
            "linecolor": "#506784",
            "ticks": ""
           },
           "baxis": {
            "gridcolor": "#506784",
            "linecolor": "#506784",
            "ticks": ""
           },
           "bgcolor": "rgb(17,17,17)",
           "caxis": {
            "gridcolor": "#506784",
            "linecolor": "#506784",
            "ticks": ""
           }
          },
          "title": {
           "x": 0.05
          },
          "updatemenudefaults": {
           "bgcolor": "#506784",
           "borderwidth": 0
          },
          "xaxis": {
           "automargin": true,
           "gridcolor": "#283442",
           "linecolor": "#506784",
           "ticks": "",
           "title": {
            "standoff": 15
           },
           "zerolinecolor": "#283442",
           "zerolinewidth": 2
          },
          "yaxis": {
           "automargin": true,
           "gridcolor": "#283442",
           "linecolor": "#506784",
           "ticks": "",
           "title": {
            "standoff": 15
           },
           "zerolinecolor": "#283442",
           "zerolinewidth": 2
          }
         }
        },
        "title": {
         "text": "Intensive care rate per region on the 2021-04-22"
        }
       }
      }
     },
     "metadata": {}
    }
   ],
   "source": [
    "#Pie chart\n",
    "pie_chart.piechart(date='2021-04-22')"
   ]
  },
  {
   "cell_type": "code",
   "execution_count": 35,
   "metadata": {},
   "outputs": [
    {
     "output_type": "stream",
     "name": "stderr",
     "text": [
      "c:\\users\\quenf\\vizcovidfr\\vizcovidfr\\prediction\\prediction.py:140: FutureWarning:\n",
      "\n",
      "Support for multi-dimensional indexing (e.g. `obj[:, None]`) is deprecated and will be removed in a future version.  Convert to a numpy array before indexing instead.\n",
      "\n",
      "Time to execute: 0.46688 s.\n"
     ]
    },
    {
     "output_type": "display_data",
     "data": {
      "text/plain": "<Figure size 792x288 with 1 Axes>",
      "image/svg+xml": "<?xml version=\"1.0\" encoding=\"utf-8\" standalone=\"no\"?>\r\n<!DOCTYPE svg PUBLIC \"-//W3C//DTD SVG 1.1//EN\"\r\n  \"http://www.w3.org/Graphics/SVG/1.1/DTD/svg11.dtd\">\r\n<!-- Created with matplotlib (https://matplotlib.org/) -->\r\n<svg height=\"278.681469pt\" version=\"1.1\" viewBox=\"0 0 659.414687 278.681469\" width=\"659.414687pt\" xmlns=\"http://www.w3.org/2000/svg\" xmlns:xlink=\"http://www.w3.org/1999/xlink\">\r\n <metadata>\r\n  <rdf:RDF xmlns:cc=\"http://creativecommons.org/ns#\" xmlns:dc=\"http://purl.org/dc/elements/1.1/\" xmlns:rdf=\"http://www.w3.org/1999/02/22-rdf-syntax-ns#\">\r\n   <cc:Work>\r\n    <dc:type rdf:resource=\"http://purl.org/dc/dcmitype/StillImage\"/>\r\n    <dc:date>2021-04-23T01:22:54.961924</dc:date>\r\n    <dc:format>image/svg+xml</dc:format>\r\n    <dc:creator>\r\n     <cc:Agent>\r\n      <dc:title>Matplotlib v3.3.2, https://matplotlib.org/</dc:title>\r\n     </cc:Agent>\r\n    </dc:creator>\r\n   </cc:Work>\r\n  </rdf:RDF>\r\n </metadata>\r\n <defs>\r\n  <style type=\"text/css\">*{stroke-linecap:butt;stroke-linejoin:round;}</style>\r\n </defs>\r\n <g id=\"figure_1\">\r\n  <g id=\"patch_1\">\r\n   <path d=\"M 0 278.681469 \r\nL 659.414687 278.681469 \r\nL 659.414687 0 \r\nL 0 0 \r\nz\r\n\" style=\"fill:#ffffff;\"/>\r\n  </g>\r\n  <g id=\"axes_1\">\r\n   <g id=\"patch_2\">\r\n    <path d=\"M 38.414687 251.921625 \r\nL 652.214688 251.921625 \r\nL 652.214688 34.481625 \r\nL 38.414687 34.481625 \r\nz\r\n\" style=\"fill:#eaeaf2;\"/>\r\n   </g>\r\n   <g id=\"matplotlib.axis_1\">\r\n    <g id=\"xtick_1\">\r\n     <g id=\"line2d_1\">\r\n      <path clip-path=\"url(#p9e56c63f23)\" d=\"M 75.335473 251.921625 \r\nL 75.335473 34.481625 \r\n\" style=\"fill:none;stroke:#ffffff;stroke-linecap:round;\"/>\r\n     </g>\r\n     <g id=\"text_1\">\r\n      <!-- 2020-04 -->\r\n      <g style=\"fill:#262626;\" transform=\"translate(55.153051 269.295219)scale(0.11 -0.11)\">\r\n       <defs>\r\n        <path d=\"M 50.34375 8.453125 \r\nL 50.34375 0 \r\nL 3.03125 0 \r\nQ 2.9375 3.171875 4.046875 6.109375 \r\nQ 5.859375 10.9375 9.828125 15.625 \r\nQ 13.8125 20.3125 21.34375 26.46875 \r\nQ 33.015625 36.03125 37.109375 41.625 \r\nQ 41.21875 47.21875 41.21875 52.203125 \r\nQ 41.21875 57.421875 37.46875 61 \r\nQ 33.734375 64.59375 27.734375 64.59375 \r\nQ 21.390625 64.59375 17.578125 60.78125 \r\nQ 13.765625 56.984375 13.71875 50.25 \r\nL 4.6875 51.171875 \r\nQ 5.609375 61.28125 11.65625 66.578125 \r\nQ 17.71875 71.875 27.9375 71.875 \r\nQ 38.234375 71.875 44.234375 66.15625 \r\nQ 50.25 60.453125 50.25 52 \r\nQ 50.25 47.703125 48.484375 43.546875 \r\nQ 46.734375 39.40625 42.65625 34.8125 \r\nQ 38.578125 30.21875 29.109375 22.21875 \r\nQ 21.1875 15.578125 18.9375 13.203125 \r\nQ 16.703125 10.84375 15.234375 8.453125 \r\nz\r\n\" id=\"ArialMT-50\"/>\r\n        <path d=\"M 4.15625 35.296875 \r\nQ 4.15625 48 6.765625 55.734375 \r\nQ 9.375 63.484375 14.515625 67.671875 \r\nQ 19.671875 71.875 27.484375 71.875 \r\nQ 33.25 71.875 37.59375 69.546875 \r\nQ 41.9375 67.234375 44.765625 62.859375 \r\nQ 47.609375 58.5 49.21875 52.21875 \r\nQ 50.828125 45.953125 50.828125 35.296875 \r\nQ 50.828125 22.703125 48.234375 14.96875 \r\nQ 45.65625 7.234375 40.5 3 \r\nQ 35.359375 -1.21875 27.484375 -1.21875 \r\nQ 17.140625 -1.21875 11.234375 6.203125 \r\nQ 4.15625 15.140625 4.15625 35.296875 \r\nz\r\nM 13.1875 35.296875 \r\nQ 13.1875 17.671875 17.3125 11.828125 \r\nQ 21.4375 6 27.484375 6 \r\nQ 33.546875 6 37.671875 11.859375 \r\nQ 41.796875 17.71875 41.796875 35.296875 \r\nQ 41.796875 52.984375 37.671875 58.78125 \r\nQ 33.546875 64.59375 27.390625 64.59375 \r\nQ 21.34375 64.59375 17.71875 59.46875 \r\nQ 13.1875 52.9375 13.1875 35.296875 \r\nz\r\n\" id=\"ArialMT-48\"/>\r\n        <path d=\"M 3.171875 21.484375 \r\nL 3.171875 30.328125 \r\nL 30.171875 30.328125 \r\nL 30.171875 21.484375 \r\nz\r\n\" id=\"ArialMT-45\"/>\r\n        <path d=\"M 32.328125 0 \r\nL 32.328125 17.140625 \r\nL 1.265625 17.140625 \r\nL 1.265625 25.203125 \r\nL 33.9375 71.578125 \r\nL 41.109375 71.578125 \r\nL 41.109375 25.203125 \r\nL 50.78125 25.203125 \r\nL 50.78125 17.140625 \r\nL 41.109375 17.140625 \r\nL 41.109375 0 \r\nz\r\nM 32.328125 25.203125 \r\nL 32.328125 57.46875 \r\nL 9.90625 25.203125 \r\nz\r\n\" id=\"ArialMT-52\"/>\r\n       </defs>\r\n       <use xlink:href=\"#ArialMT-50\"/>\r\n       <use x=\"55.615234\" xlink:href=\"#ArialMT-48\"/>\r\n       <use x=\"111.230469\" xlink:href=\"#ArialMT-50\"/>\r\n       <use x=\"166.845703\" xlink:href=\"#ArialMT-48\"/>\r\n       <use x=\"222.460938\" xlink:href=\"#ArialMT-45\"/>\r\n       <use x=\"255.761719\" xlink:href=\"#ArialMT-48\"/>\r\n       <use x=\"311.376953\" xlink:href=\"#ArialMT-52\"/>\r\n      </g>\r\n     </g>\r\n    </g>\r\n    <g id=\"xtick_2\">\r\n     <g id=\"line2d_2\">\r\n      <path clip-path=\"url(#p9e56c63f23)\" d=\"M 133.970577 251.921625 \r\nL 133.970577 34.481625 \r\n\" style=\"fill:none;stroke:#ffffff;stroke-linecap:round;\"/>\r\n     </g>\r\n     <g id=\"text_2\">\r\n      <!-- 2020-07 -->\r\n      <g style=\"fill:#262626;\" transform=\"translate(113.788155 269.295219)scale(0.11 -0.11)\">\r\n       <defs>\r\n        <path d=\"M 4.734375 62.203125 \r\nL 4.734375 70.65625 \r\nL 51.078125 70.65625 \r\nL 51.078125 63.8125 \r\nQ 44.234375 56.546875 37.515625 44.484375 \r\nQ 30.8125 32.421875 27.15625 19.671875 \r\nQ 24.515625 10.6875 23.78125 0 \r\nL 14.75 0 \r\nQ 14.890625 8.453125 18.0625 20.40625 \r\nQ 21.234375 32.375 27.171875 43.484375 \r\nQ 33.109375 54.59375 39.796875 62.203125 \r\nz\r\n\" id=\"ArialMT-55\"/>\r\n       </defs>\r\n       <use xlink:href=\"#ArialMT-50\"/>\r\n       <use x=\"55.615234\" xlink:href=\"#ArialMT-48\"/>\r\n       <use x=\"111.230469\" xlink:href=\"#ArialMT-50\"/>\r\n       <use x=\"166.845703\" xlink:href=\"#ArialMT-48\"/>\r\n       <use x=\"222.460938\" xlink:href=\"#ArialMT-45\"/>\r\n       <use x=\"255.761719\" xlink:href=\"#ArialMT-48\"/>\r\n       <use x=\"311.376953\" xlink:href=\"#ArialMT-55\"/>\r\n      </g>\r\n     </g>\r\n    </g>\r\n    <g id=\"xtick_3\">\r\n     <g id=\"line2d_3\">\r\n      <path clip-path=\"url(#p9e56c63f23)\" d=\"M 193.250022 251.921625 \r\nL 193.250022 34.481625 \r\n\" style=\"fill:none;stroke:#ffffff;stroke-linecap:round;\"/>\r\n     </g>\r\n     <g id=\"text_3\">\r\n      <!-- 2020-10 -->\r\n      <g style=\"fill:#262626;\" transform=\"translate(173.0676 269.295219)scale(0.11 -0.11)\">\r\n       <defs>\r\n        <path d=\"M 37.25 0 \r\nL 28.46875 0 \r\nL 28.46875 56 \r\nQ 25.296875 52.984375 20.140625 49.953125 \r\nQ 14.984375 46.921875 10.890625 45.40625 \r\nL 10.890625 53.90625 \r\nQ 18.265625 57.375 23.78125 62.296875 \r\nQ 29.296875 67.234375 31.59375 71.875 \r\nL 37.25 71.875 \r\nz\r\n\" id=\"ArialMT-49\"/>\r\n       </defs>\r\n       <use xlink:href=\"#ArialMT-50\"/>\r\n       <use x=\"55.615234\" xlink:href=\"#ArialMT-48\"/>\r\n       <use x=\"111.230469\" xlink:href=\"#ArialMT-50\"/>\r\n       <use x=\"166.845703\" xlink:href=\"#ArialMT-48\"/>\r\n       <use x=\"222.460938\" xlink:href=\"#ArialMT-45\"/>\r\n       <use x=\"255.761719\" xlink:href=\"#ArialMT-49\"/>\r\n       <use x=\"311.376953\" xlink:href=\"#ArialMT-48\"/>\r\n      </g>\r\n     </g>\r\n    </g>\r\n    <g id=\"xtick_4\">\r\n     <g id=\"line2d_4\">\r\n      <path clip-path=\"url(#p9e56c63f23)\" d=\"M 252.529468 251.921625 \r\nL 252.529468 34.481625 \r\n\" style=\"fill:none;stroke:#ffffff;stroke-linecap:round;\"/>\r\n     </g>\r\n     <g id=\"text_4\">\r\n      <!-- 2021-01 -->\r\n      <g style=\"fill:#262626;\" transform=\"translate(232.347046 269.295219)scale(0.11 -0.11)\">\r\n       <use xlink:href=\"#ArialMT-50\"/>\r\n       <use x=\"55.615234\" xlink:href=\"#ArialMT-48\"/>\r\n       <use x=\"111.230469\" xlink:href=\"#ArialMT-50\"/>\r\n       <use x=\"166.845703\" xlink:href=\"#ArialMT-49\"/>\r\n       <use x=\"222.460938\" xlink:href=\"#ArialMT-45\"/>\r\n       <use x=\"255.761719\" xlink:href=\"#ArialMT-48\"/>\r\n       <use x=\"311.376953\" xlink:href=\"#ArialMT-49\"/>\r\n      </g>\r\n     </g>\r\n    </g>\r\n    <g id=\"xtick_5\">\r\n     <g id=\"line2d_5\">\r\n      <path clip-path=\"url(#p9e56c63f23)\" d=\"M 310.52023 251.921625 \r\nL 310.52023 34.481625 \r\n\" style=\"fill:none;stroke:#ffffff;stroke-linecap:round;\"/>\r\n     </g>\r\n     <g id=\"text_5\">\r\n      <!-- 2021-04 -->\r\n      <g style=\"fill:#262626;\" transform=\"translate(290.337808 269.295219)scale(0.11 -0.11)\">\r\n       <use xlink:href=\"#ArialMT-50\"/>\r\n       <use x=\"55.615234\" xlink:href=\"#ArialMT-48\"/>\r\n       <use x=\"111.230469\" xlink:href=\"#ArialMT-50\"/>\r\n       <use x=\"166.845703\" xlink:href=\"#ArialMT-49\"/>\r\n       <use x=\"222.460938\" xlink:href=\"#ArialMT-45\"/>\r\n       <use x=\"255.761719\" xlink:href=\"#ArialMT-48\"/>\r\n       <use x=\"311.376953\" xlink:href=\"#ArialMT-52\"/>\r\n      </g>\r\n     </g>\r\n    </g>\r\n    <g id=\"xtick_6\">\r\n     <g id=\"line2d_6\">\r\n      <path clip-path=\"url(#p9e56c63f23)\" d=\"M 369.155334 251.921625 \r\nL 369.155334 34.481625 \r\n\" style=\"fill:none;stroke:#ffffff;stroke-linecap:round;\"/>\r\n     </g>\r\n     <g id=\"text_6\">\r\n      <!-- 2021-07 -->\r\n      <g style=\"fill:#262626;\" transform=\"translate(348.972912 269.295219)scale(0.11 -0.11)\">\r\n       <use xlink:href=\"#ArialMT-50\"/>\r\n       <use x=\"55.615234\" xlink:href=\"#ArialMT-48\"/>\r\n       <use x=\"111.230469\" xlink:href=\"#ArialMT-50\"/>\r\n       <use x=\"166.845703\" xlink:href=\"#ArialMT-49\"/>\r\n       <use x=\"222.460938\" xlink:href=\"#ArialMT-45\"/>\r\n       <use x=\"255.761719\" xlink:href=\"#ArialMT-48\"/>\r\n       <use x=\"311.376953\" xlink:href=\"#ArialMT-55\"/>\r\n      </g>\r\n     </g>\r\n    </g>\r\n    <g id=\"xtick_7\">\r\n     <g id=\"line2d_7\">\r\n      <path clip-path=\"url(#p9e56c63f23)\" d=\"M 428.43478 251.921625 \r\nL 428.43478 34.481625 \r\n\" style=\"fill:none;stroke:#ffffff;stroke-linecap:round;\"/>\r\n     </g>\r\n     <g id=\"text_7\">\r\n      <!-- 2021-10 -->\r\n      <g style=\"fill:#262626;\" transform=\"translate(408.252358 269.295219)scale(0.11 -0.11)\">\r\n       <use xlink:href=\"#ArialMT-50\"/>\r\n       <use x=\"55.615234\" xlink:href=\"#ArialMT-48\"/>\r\n       <use x=\"111.230469\" xlink:href=\"#ArialMT-50\"/>\r\n       <use x=\"166.845703\" xlink:href=\"#ArialMT-49\"/>\r\n       <use x=\"222.460938\" xlink:href=\"#ArialMT-45\"/>\r\n       <use x=\"255.761719\" xlink:href=\"#ArialMT-49\"/>\r\n       <use x=\"311.376953\" xlink:href=\"#ArialMT-48\"/>\r\n      </g>\r\n     </g>\r\n    </g>\r\n    <g id=\"xtick_8\">\r\n     <g id=\"line2d_8\">\r\n      <path clip-path=\"url(#p9e56c63f23)\" d=\"M 487.714226 251.921625 \r\nL 487.714226 34.481625 \r\n\" style=\"fill:none;stroke:#ffffff;stroke-linecap:round;\"/>\r\n     </g>\r\n     <g id=\"text_8\">\r\n      <!-- 2022-01 -->\r\n      <g style=\"fill:#262626;\" transform=\"translate(467.531804 269.295219)scale(0.11 -0.11)\">\r\n       <use xlink:href=\"#ArialMT-50\"/>\r\n       <use x=\"55.615234\" xlink:href=\"#ArialMT-48\"/>\r\n       <use x=\"111.230469\" xlink:href=\"#ArialMT-50\"/>\r\n       <use x=\"166.845703\" xlink:href=\"#ArialMT-50\"/>\r\n       <use x=\"222.460938\" xlink:href=\"#ArialMT-45\"/>\r\n       <use x=\"255.761719\" xlink:href=\"#ArialMT-48\"/>\r\n       <use x=\"311.376953\" xlink:href=\"#ArialMT-49\"/>\r\n      </g>\r\n     </g>\r\n    </g>\r\n    <g id=\"xtick_9\">\r\n     <g id=\"line2d_9\">\r\n      <path clip-path=\"url(#p9e56c63f23)\" d=\"M 545.704988 251.921625 \r\nL 545.704988 34.481625 \r\n\" style=\"fill:none;stroke:#ffffff;stroke-linecap:round;\"/>\r\n     </g>\r\n     <g id=\"text_9\">\r\n      <!-- 2022-04 -->\r\n      <g style=\"fill:#262626;\" transform=\"translate(525.522566 269.295219)scale(0.11 -0.11)\">\r\n       <use xlink:href=\"#ArialMT-50\"/>\r\n       <use x=\"55.615234\" xlink:href=\"#ArialMT-48\"/>\r\n       <use x=\"111.230469\" xlink:href=\"#ArialMT-50\"/>\r\n       <use x=\"166.845703\" xlink:href=\"#ArialMT-50\"/>\r\n       <use x=\"222.460938\" xlink:href=\"#ArialMT-45\"/>\r\n       <use x=\"255.761719\" xlink:href=\"#ArialMT-48\"/>\r\n       <use x=\"311.376953\" xlink:href=\"#ArialMT-52\"/>\r\n      </g>\r\n     </g>\r\n    </g>\r\n    <g id=\"xtick_10\">\r\n     <g id=\"line2d_10\">\r\n      <path clip-path=\"url(#p9e56c63f23)\" d=\"M 604.340092 251.921625 \r\nL 604.340092 34.481625 \r\n\" style=\"fill:none;stroke:#ffffff;stroke-linecap:round;\"/>\r\n     </g>\r\n     <g id=\"text_10\">\r\n      <!-- 2022-07 -->\r\n      <g style=\"fill:#262626;\" transform=\"translate(584.15767 269.295219)scale(0.11 -0.11)\">\r\n       <use xlink:href=\"#ArialMT-50\"/>\r\n       <use x=\"55.615234\" xlink:href=\"#ArialMT-48\"/>\r\n       <use x=\"111.230469\" xlink:href=\"#ArialMT-50\"/>\r\n       <use x=\"166.845703\" xlink:href=\"#ArialMT-50\"/>\r\n       <use x=\"222.460938\" xlink:href=\"#ArialMT-45\"/>\r\n       <use x=\"255.761719\" xlink:href=\"#ArialMT-48\"/>\r\n       <use x=\"311.376953\" xlink:href=\"#ArialMT-55\"/>\r\n      </g>\r\n     </g>\r\n    </g>\r\n   </g>\r\n   <g id=\"matplotlib.axis_2\">\r\n    <g id=\"ytick_1\">\r\n     <g id=\"line2d_11\">\r\n      <path clip-path=\"url(#p9e56c63f23)\" d=\"M 38.414687 245.536883 \r\nL 652.214688 245.536883 \r\n\" style=\"fill:none;stroke:#ffffff;stroke-linecap:round;\"/>\r\n     </g>\r\n     <g id=\"text_11\">\r\n      <!-- −1.2 -->\r\n      <g style=\"fill:#262626;\" transform=\"translate(7.2 249.47368)scale(0.11 -0.11)\">\r\n       <defs>\r\n        <path d=\"M 52.828125 31.203125 \r\nL 5.5625 31.203125 \r\nL 5.5625 39.40625 \r\nL 52.828125 39.40625 \r\nz\r\n\" id=\"ArialMT-8722\"/>\r\n        <path d=\"M 9.078125 0 \r\nL 9.078125 10.015625 \r\nL 19.09375 10.015625 \r\nL 19.09375 0 \r\nz\r\n\" id=\"ArialMT-46\"/>\r\n       </defs>\r\n       <use xlink:href=\"#ArialMT-8722\"/>\r\n       <use x=\"58.398438\" xlink:href=\"#ArialMT-49\"/>\r\n       <use x=\"114.013672\" xlink:href=\"#ArialMT-46\"/>\r\n       <use x=\"141.796875\" xlink:href=\"#ArialMT-50\"/>\r\n      </g>\r\n     </g>\r\n    </g>\r\n    <g id=\"ytick_2\">\r\n     <g id=\"line2d_12\">\r\n      <path clip-path=\"url(#p9e56c63f23)\" d=\"M 38.414687 213.866222 \r\nL 652.214688 213.866222 \r\n\" style=\"fill:none;stroke:#ffffff;stroke-linecap:round;\"/>\r\n     </g>\r\n     <g id=\"text_12\">\r\n      <!-- −1.0 -->\r\n      <g style=\"fill:#262626;\" transform=\"translate(7.2 217.803019)scale(0.11 -0.11)\">\r\n       <use xlink:href=\"#ArialMT-8722\"/>\r\n       <use x=\"58.398438\" xlink:href=\"#ArialMT-49\"/>\r\n       <use x=\"114.013672\" xlink:href=\"#ArialMT-46\"/>\r\n       <use x=\"141.796875\" xlink:href=\"#ArialMT-48\"/>\r\n      </g>\r\n     </g>\r\n    </g>\r\n    <g id=\"ytick_3\">\r\n     <g id=\"line2d_13\">\r\n      <path clip-path=\"url(#p9e56c63f23)\" d=\"M 38.414687 182.195561 \r\nL 652.214688 182.195561 \r\n\" style=\"fill:none;stroke:#ffffff;stroke-linecap:round;\"/>\r\n     </g>\r\n     <g id=\"text_13\">\r\n      <!-- −0.8 -->\r\n      <g style=\"fill:#262626;\" transform=\"translate(7.2 186.132358)scale(0.11 -0.11)\">\r\n       <defs>\r\n        <path d=\"M 17.671875 38.8125 \r\nQ 12.203125 40.828125 9.5625 44.53125 \r\nQ 6.9375 48.25 6.9375 53.421875 \r\nQ 6.9375 61.234375 12.546875 66.546875 \r\nQ 18.171875 71.875 27.484375 71.875 \r\nQ 36.859375 71.875 42.578125 66.421875 \r\nQ 48.296875 60.984375 48.296875 53.171875 \r\nQ 48.296875 48.1875 45.671875 44.5 \r\nQ 43.0625 40.828125 37.75 38.8125 \r\nQ 44.34375 36.671875 47.78125 31.875 \r\nQ 51.21875 27.09375 51.21875 20.453125 \r\nQ 51.21875 11.28125 44.71875 5.03125 \r\nQ 38.234375 -1.21875 27.640625 -1.21875 \r\nQ 17.046875 -1.21875 10.546875 5.046875 \r\nQ 4.046875 11.328125 4.046875 20.703125 \r\nQ 4.046875 27.6875 7.59375 32.390625 \r\nQ 11.140625 37.109375 17.671875 38.8125 \r\nz\r\nM 15.921875 53.71875 \r\nQ 15.921875 48.640625 19.1875 45.40625 \r\nQ 22.46875 42.1875 27.6875 42.1875 \r\nQ 32.765625 42.1875 36.015625 45.375 \r\nQ 39.265625 48.578125 39.265625 53.21875 \r\nQ 39.265625 58.0625 35.90625 61.359375 \r\nQ 32.5625 64.65625 27.59375 64.65625 \r\nQ 22.5625 64.65625 19.234375 61.421875 \r\nQ 15.921875 58.203125 15.921875 53.71875 \r\nz\r\nM 13.09375 20.65625 \r\nQ 13.09375 16.890625 14.875 13.375 \r\nQ 16.65625 9.859375 20.171875 7.921875 \r\nQ 23.6875 6 27.734375 6 \r\nQ 34.03125 6 38.125 10.046875 \r\nQ 42.234375 14.109375 42.234375 20.359375 \r\nQ 42.234375 26.703125 38.015625 30.859375 \r\nQ 33.796875 35.015625 27.4375 35.015625 \r\nQ 21.234375 35.015625 17.15625 30.90625 \r\nQ 13.09375 26.8125 13.09375 20.65625 \r\nz\r\n\" id=\"ArialMT-56\"/>\r\n       </defs>\r\n       <use xlink:href=\"#ArialMT-8722\"/>\r\n       <use x=\"58.398438\" xlink:href=\"#ArialMT-48\"/>\r\n       <use x=\"114.013672\" xlink:href=\"#ArialMT-46\"/>\r\n       <use x=\"141.796875\" xlink:href=\"#ArialMT-56\"/>\r\n      </g>\r\n     </g>\r\n    </g>\r\n    <g id=\"ytick_4\">\r\n     <g id=\"line2d_14\">\r\n      <path clip-path=\"url(#p9e56c63f23)\" d=\"M 38.414687 150.5249 \r\nL 652.214688 150.5249 \r\n\" style=\"fill:none;stroke:#ffffff;stroke-linecap:round;\"/>\r\n     </g>\r\n     <g id=\"text_14\">\r\n      <!-- −0.6 -->\r\n      <g style=\"fill:#262626;\" transform=\"translate(7.2 154.461697)scale(0.11 -0.11)\">\r\n       <defs>\r\n        <path d=\"M 49.75 54.046875 \r\nL 41.015625 53.375 \r\nQ 39.84375 58.546875 37.703125 60.890625 \r\nQ 34.125 64.65625 28.90625 64.65625 \r\nQ 24.703125 64.65625 21.53125 62.3125 \r\nQ 17.390625 59.28125 14.984375 53.46875 \r\nQ 12.59375 47.65625 12.5 36.921875 \r\nQ 15.671875 41.75 20.265625 44.09375 \r\nQ 24.859375 46.4375 29.890625 46.4375 \r\nQ 38.671875 46.4375 44.84375 39.96875 \r\nQ 51.03125 33.5 51.03125 23.25 \r\nQ 51.03125 16.5 48.125 10.71875 \r\nQ 45.21875 4.9375 40.140625 1.859375 \r\nQ 35.0625 -1.21875 28.609375 -1.21875 \r\nQ 17.625 -1.21875 10.6875 6.859375 \r\nQ 3.765625 14.9375 3.765625 33.5 \r\nQ 3.765625 54.25 11.421875 63.671875 \r\nQ 18.109375 71.875 29.4375 71.875 \r\nQ 37.890625 71.875 43.28125 67.140625 \r\nQ 48.6875 62.40625 49.75 54.046875 \r\nz\r\nM 13.875 23.1875 \r\nQ 13.875 18.65625 15.796875 14.5 \r\nQ 17.71875 10.359375 21.1875 8.171875 \r\nQ 24.65625 6 28.46875 6 \r\nQ 34.03125 6 38.03125 10.484375 \r\nQ 42.046875 14.984375 42.046875 22.703125 \r\nQ 42.046875 30.125 38.078125 34.390625 \r\nQ 34.125 38.671875 28.125 38.671875 \r\nQ 22.171875 38.671875 18.015625 34.390625 \r\nQ 13.875 30.125 13.875 23.1875 \r\nz\r\n\" id=\"ArialMT-54\"/>\r\n       </defs>\r\n       <use xlink:href=\"#ArialMT-8722\"/>\r\n       <use x=\"58.398438\" xlink:href=\"#ArialMT-48\"/>\r\n       <use x=\"114.013672\" xlink:href=\"#ArialMT-46\"/>\r\n       <use x=\"141.796875\" xlink:href=\"#ArialMT-54\"/>\r\n      </g>\r\n     </g>\r\n    </g>\r\n    <g id=\"ytick_5\">\r\n     <g id=\"line2d_15\">\r\n      <path clip-path=\"url(#p9e56c63f23)\" d=\"M 38.414687 118.854239 \r\nL 652.214688 118.854239 \r\n\" style=\"fill:none;stroke:#ffffff;stroke-linecap:round;\"/>\r\n     </g>\r\n     <g id=\"text_15\">\r\n      <!-- −0.4 -->\r\n      <g style=\"fill:#262626;\" transform=\"translate(7.2 122.791036)scale(0.11 -0.11)\">\r\n       <use xlink:href=\"#ArialMT-8722\"/>\r\n       <use x=\"58.398438\" xlink:href=\"#ArialMT-48\"/>\r\n       <use x=\"114.013672\" xlink:href=\"#ArialMT-46\"/>\r\n       <use x=\"141.796875\" xlink:href=\"#ArialMT-52\"/>\r\n      </g>\r\n     </g>\r\n    </g>\r\n    <g id=\"ytick_6\">\r\n     <g id=\"line2d_16\">\r\n      <path clip-path=\"url(#p9e56c63f23)\" d=\"M 38.414687 87.183578 \r\nL 652.214688 87.183578 \r\n\" style=\"fill:none;stroke:#ffffff;stroke-linecap:round;\"/>\r\n     </g>\r\n     <g id=\"text_16\">\r\n      <!-- −0.2 -->\r\n      <g style=\"fill:#262626;\" transform=\"translate(7.2 91.120375)scale(0.11 -0.11)\">\r\n       <use xlink:href=\"#ArialMT-8722\"/>\r\n       <use x=\"58.398438\" xlink:href=\"#ArialMT-48\"/>\r\n       <use x=\"114.013672\" xlink:href=\"#ArialMT-46\"/>\r\n       <use x=\"141.796875\" xlink:href=\"#ArialMT-50\"/>\r\n      </g>\r\n     </g>\r\n    </g>\r\n    <g id=\"ytick_7\">\r\n     <g id=\"line2d_17\">\r\n      <path clip-path=\"url(#p9e56c63f23)\" d=\"M 38.414687 55.512917 \r\nL 652.214688 55.512917 \r\n\" style=\"fill:none;stroke:#ffffff;stroke-linecap:round;\"/>\r\n     </g>\r\n     <g id=\"text_17\">\r\n      <!-- 0.0 -->\r\n      <g style=\"fill:#262626;\" transform=\"translate(13.624687 59.449713)scale(0.11 -0.11)\">\r\n       <use xlink:href=\"#ArialMT-48\"/>\r\n       <use x=\"55.615234\" xlink:href=\"#ArialMT-46\"/>\r\n       <use x=\"83.398438\" xlink:href=\"#ArialMT-48\"/>\r\n      </g>\r\n     </g>\r\n    </g>\r\n    <g id=\"text_18\">\r\n     <!-- 1e6 -->\r\n     <g style=\"fill:#262626;\" transform=\"translate(38.414687 31.481625)scale(0.11 -0.11)\">\r\n      <defs>\r\n       <path d=\"M 42.09375 16.703125 \r\nL 51.171875 15.578125 \r\nQ 49.03125 7.625 43.21875 3.21875 \r\nQ 37.40625 -1.171875 28.375 -1.171875 \r\nQ 17 -1.171875 10.328125 5.828125 \r\nQ 3.65625 12.84375 3.65625 25.484375 \r\nQ 3.65625 38.578125 10.390625 45.796875 \r\nQ 17.140625 53.03125 27.875 53.03125 \r\nQ 38.28125 53.03125 44.875 45.953125 \r\nQ 51.46875 38.875 51.46875 26.03125 \r\nQ 51.46875 25.25 51.421875 23.6875 \r\nL 12.75 23.6875 \r\nQ 13.234375 15.140625 17.578125 10.59375 \r\nQ 21.921875 6.0625 28.421875 6.0625 \r\nQ 33.25 6.0625 36.671875 8.59375 \r\nQ 40.09375 11.140625 42.09375 16.703125 \r\nz\r\nM 13.234375 30.90625 \r\nL 42.1875 30.90625 \r\nQ 41.609375 37.453125 38.875 40.71875 \r\nQ 34.671875 45.796875 27.984375 45.796875 \r\nQ 21.921875 45.796875 17.796875 41.75 \r\nQ 13.671875 37.703125 13.234375 30.90625 \r\nz\r\n\" id=\"ArialMT-101\"/>\r\n      </defs>\r\n      <use xlink:href=\"#ArialMT-49\"/>\r\n      <use x=\"55.615234\" xlink:href=\"#ArialMT-101\"/>\r\n      <use x=\"111.230469\" xlink:href=\"#ArialMT-54\"/>\r\n     </g>\r\n    </g>\r\n   </g>\r\n   <g id=\"PathCollection_1\">\r\n    <defs>\r\n     <path d=\"M 0 3 \r\nC 0.795609 3 1.55874 2.683901 2.12132 2.12132 \r\nC 2.683901 1.55874 3 0.795609 3 0 \r\nC 3 -0.795609 2.683901 -1.55874 2.12132 -2.12132 \r\nC 1.55874 -2.683901 0.795609 -3 0 -3 \r\nC -0.795609 -3 -1.55874 -2.683901 -2.12132 -2.12132 \r\nC -2.683901 -1.55874 -3 -0.795609 -3 0 \r\nC -3 0.795609 -2.683901 1.55874 -2.12132 2.12132 \r\nC -1.55874 2.683901 -0.795609 3 0 3 \r\nz\r\n\" id=\"md9c97c5fed\" style=\"stroke:#4c72b0;\"/>\r\n    </defs>\r\n    <g clip-path=\"url(#p9e56c63f23)\">\r\n     <use style=\"fill:#4c72b0;stroke:#4c72b0;\" x=\"66.314688\" xlink:href=\"#md9c97c5fed\" y=\"55.482988\"/>\r\n     <use style=\"fill:#4c72b0;stroke:#4c72b0;\" x=\"66.959029\" xlink:href=\"#md9c97c5fed\" y=\"55.467311\"/>\r\n     <use style=\"fill:#4c72b0;stroke:#4c72b0;\" x=\"67.603371\" xlink:href=\"#md9c97c5fed\" y=\"55.455118\"/>\r\n     <use style=\"fill:#4c72b0;stroke:#4c72b0;\" x=\"68.247713\" xlink:href=\"#md9c97c5fed\" y=\"55.448467\"/>\r\n     <use style=\"fill:#4c72b0;stroke:#4c72b0;\" x=\"68.892055\" xlink:href=\"#md9c97c5fed\" y=\"55.430731\"/>\r\n     <use style=\"fill:#4c72b0;stroke:#4c72b0;\" x=\"69.536397\" xlink:href=\"#md9c97c5fed\" y=\"55.408245\"/>\r\n     <use style=\"fill:#4c72b0;stroke:#4c72b0;\" x=\"70.180738\" xlink:href=\"#md9c97c5fed\" y=\"55.391935\"/>\r\n     <use style=\"fill:#4c72b0;stroke:#4c72b0;\" x=\"70.82508\" xlink:href=\"#md9c97c5fed\" y=\"55.364698\"/>\r\n     <use style=\"fill:#4c72b0;stroke:#4c72b0;\" x=\"71.469422\" xlink:href=\"#md9c97c5fed\" y=\"55.338411\"/>\r\n     <use style=\"fill:#4c72b0;stroke:#4c72b0;\" x=\"72.113764\" xlink:href=\"#md9c97c5fed\" y=\"55.31735\"/>\r\n     <use style=\"fill:#4c72b0;stroke:#4c72b0;\" x=\"72.758106\" xlink:href=\"#md9c97c5fed\" y=\"55.289638\"/>\r\n     <use style=\"fill:#4c72b0;stroke:#4c72b0;\" x=\"73.402447\" xlink:href=\"#md9c97c5fed\" y=\"55.260818\"/>\r\n     <use style=\"fill:#4c72b0;stroke:#4c72b0;\" x=\"74.046789\" xlink:href=\"#md9c97c5fed\" y=\"55.242449\"/>\r\n     <use style=\"fill:#4c72b0;stroke:#4c72b0;\" x=\"74.691131\" xlink:href=\"#md9c97c5fed\" y=\"55.236115\"/>\r\n     <use style=\"fill:#4c72b0;stroke:#4c72b0;\" x=\"75.335473\" xlink:href=\"#md9c97c5fed\" y=\"55.219646\"/>\r\n     <use style=\"fill:#4c72b0;stroke:#4c72b0;\" x=\"75.979815\" xlink:href=\"#md9c97c5fed\" y=\"55.203811\"/>\r\n     <use style=\"fill:#4c72b0;stroke:#4c72b0;\" x=\"76.624156\" xlink:href=\"#md9c97c5fed\" y=\"55.193993\"/>\r\n     <use style=\"fill:#4c72b0;stroke:#4c72b0;\" x=\"77.268498\" xlink:href=\"#md9c97c5fed\" y=\"55.19716\"/>\r\n     <use style=\"fill:#4c72b0;stroke:#4c72b0;\" x=\"77.91284\" xlink:href=\"#md9c97c5fed\" y=\"55.188609\"/>\r\n     <use style=\"fill:#4c72b0;stroke:#4c72b0;\" x=\"78.557182\" xlink:href=\"#md9c97c5fed\" y=\"55.181483\"/>\r\n     <use style=\"fill:#4c72b0;stroke:#4c72b0;\" x=\"79.201524\" xlink:href=\"#md9c97c5fed\" y=\"55.186392\"/>\r\n     <use style=\"fill:#4c72b0;stroke:#4c72b0;\" x=\"79.845865\" xlink:href=\"#md9c97c5fed\" y=\"55.19621\"/>\r\n     <use style=\"fill:#4c72b0;stroke:#4c72b0;\" x=\"80.490207\" xlink:href=\"#md9c97c5fed\" y=\"55.198902\"/>\r\n     <use style=\"fill:#4c72b0;stroke:#4c72b0;\" x=\"81.134549\" xlink:href=\"#md9c97c5fed\" y=\"55.209828\"/>\r\n     <use style=\"fill:#4c72b0;stroke:#4c72b0;\" x=\"81.778891\" xlink:href=\"#md9c97c5fed\" y=\"55.22218\"/>\r\n     <use style=\"fill:#4c72b0;stroke:#4c72b0;\" x=\"82.423233\" xlink:href=\"#md9c97c5fed\" y=\"55.210779\"/>\r\n     <use style=\"fill:#4c72b0;stroke:#4c72b0;\" x=\"83.067574\" xlink:href=\"#md9c97c5fed\" y=\"55.204444\"/>\r\n     <use style=\"fill:#4c72b0;stroke:#4c72b0;\" x=\"83.711916\" xlink:href=\"#md9c97c5fed\" y=\"55.208245\"/>\r\n     <use style=\"fill:#4c72b0;stroke:#4c72b0;\" x=\"84.356258\" xlink:href=\"#md9c97c5fed\" y=\"55.223763\"/>\r\n     <use style=\"fill:#4c72b0;stroke:#4c72b0;\" x=\"85.0006\" xlink:href=\"#md9c97c5fed\" y=\"55.237382\"/>\r\n     <use style=\"fill:#4c72b0;stroke:#4c72b0;\" x=\"85.644942\" xlink:href=\"#md9c97c5fed\" y=\"55.238807\"/>\r\n     <use style=\"fill:#4c72b0;stroke:#4c72b0;\" x=\"86.289283\" xlink:href=\"#md9c97c5fed\" y=\"55.240549\"/>\r\n     <use style=\"fill:#4c72b0;stroke:#4c72b0;\" x=\"86.933625\" xlink:href=\"#md9c97c5fed\" y=\"55.235165\"/>\r\n     <use style=\"fill:#4c72b0;stroke:#4c72b0;\" x=\"87.577967\" xlink:href=\"#md9c97c5fed\" y=\"55.230098\"/>\r\n     <use style=\"fill:#4c72b0;stroke:#4c72b0;\" x=\"88.222309\" xlink:href=\"#md9c97c5fed\" y=\"55.235165\"/>\r\n     <use style=\"fill:#4c72b0;stroke:#4c72b0;\" x=\"88.866651\" xlink:href=\"#md9c97c5fed\" y=\"55.241499\"/>\r\n     <use style=\"fill:#4c72b0;stroke:#4c72b0;\" x=\"89.510992\" xlink:href=\"#md9c97c5fed\" y=\"55.258285\"/>\r\n     <use style=\"fill:#4c72b0;stroke:#4c72b0;\" x=\"90.155334\" xlink:href=\"#md9c97c5fed\" y=\"55.27792\"/>\r\n     <use style=\"fill:#4c72b0;stroke:#4c72b0;\" x=\"90.799676\" xlink:href=\"#md9c97c5fed\" y=\"55.283621\"/>\r\n     <use style=\"fill:#4c72b0;stroke:#4c72b0;\" x=\"91.444018\" xlink:href=\"#md9c97c5fed\" y=\"55.282354\"/>\r\n     <use style=\"fill:#4c72b0;stroke:#4c72b0;\" x=\"92.08836\" xlink:href=\"#md9c97c5fed\" y=\"55.281721\"/>\r\n     <use style=\"fill:#4c72b0;stroke:#4c72b0;\" x=\"92.732701\" xlink:href=\"#md9c97c5fed\" y=\"55.293914\"/>\r\n     <use style=\"fill:#4c72b0;stroke:#4c72b0;\" x=\"93.377043\" xlink:href=\"#md9c97c5fed\" y=\"55.302623\"/>\r\n     <use style=\"fill:#4c72b0;stroke:#4c72b0;\" x=\"94.021385\" xlink:href=\"#md9c97c5fed\" y=\"55.311808\"/>\r\n     <use style=\"fill:#4c72b0;stroke:#4c72b0;\" x=\"94.665727\" xlink:href=\"#md9c97c5fed\" y=\"55.319884\"/>\r\n     <use style=\"fill:#4c72b0;stroke:#4c72b0;\" x=\"95.310069\" xlink:href=\"#md9c97c5fed\" y=\"55.321943\"/>\r\n     <use style=\"fill:#4c72b0;stroke:#4c72b0;\" x=\"95.95441\" xlink:href=\"#md9c97c5fed\" y=\"55.319726\"/>\r\n     <use style=\"fill:#4c72b0;stroke:#4c72b0;\" x=\"96.598752\" xlink:href=\"#md9c97c5fed\" y=\"55.33176\"/>\r\n     <use style=\"fill:#4c72b0;stroke:#4c72b0;\" x=\"97.243094\" xlink:href=\"#md9c97c5fed\" y=\"55.343162\"/>\r\n     <use style=\"fill:#4c72b0;stroke:#4c72b0;\" x=\"97.887436\" xlink:href=\"#md9c97c5fed\" y=\"55.35488\"/>\r\n     <use style=\"fill:#4c72b0;stroke:#4c72b0;\" x=\"98.531778\" xlink:href=\"#md9c97c5fed\" y=\"55.365331\"/>\r\n     <use style=\"fill:#4c72b0;stroke:#4c72b0;\" x=\"99.176119\" xlink:href=\"#md9c97c5fed\" y=\"55.373566\"/>\r\n     <use style=\"fill:#4c72b0;stroke:#4c72b0;\" x=\"99.820461\" xlink:href=\"#md9c97c5fed\" y=\"55.374199\"/>\r\n     <use style=\"fill:#4c72b0;stroke:#4c72b0;\" x=\"100.464803\" xlink:href=\"#md9c97c5fed\" y=\"55.373566\"/>\r\n     <use style=\"fill:#4c72b0;stroke:#4c72b0;\" x=\"101.109145\" xlink:href=\"#md9c97c5fed\" y=\"55.375466\"/>\r\n     <use style=\"fill:#4c72b0;stroke:#4c72b0;\" x=\"101.753487\" xlink:href=\"#md9c97c5fed\" y=\"55.384017\"/>\r\n     <use style=\"fill:#4c72b0;stroke:#4c72b0;\" x=\"102.397828\" xlink:href=\"#md9c97c5fed\" y=\"55.384334\"/>\r\n     <use style=\"fill:#4c72b0;stroke:#4c72b0;\" x=\"103.04217\" xlink:href=\"#md9c97c5fed\" y=\"55.393835\"/>\r\n     <use style=\"fill:#4c72b0;stroke:#4c72b0;\" x=\"103.686512\" xlink:href=\"#md9c97c5fed\" y=\"55.400802\"/>\r\n     <use style=\"fill:#4c72b0;stroke:#4c72b0;\" x=\"104.330854\" xlink:href=\"#md9c97c5fed\" y=\"55.402386\"/>\r\n     <use style=\"fill:#4c72b0;stroke:#4c72b0;\" x=\"104.975196\" xlink:href=\"#md9c97c5fed\" y=\"55.402703\"/>\r\n     <use style=\"fill:#4c72b0;stroke:#4c72b0;\" x=\"105.619537\" xlink:href=\"#md9c97c5fed\" y=\"55.409354\"/>\r\n     <use style=\"fill:#4c72b0;stroke:#4c72b0;\" x=\"106.263879\" xlink:href=\"#md9c97c5fed\" y=\"55.413471\"/>\r\n     <use style=\"fill:#4c72b0;stroke:#4c72b0;\" x=\"106.908221\" xlink:href=\"#md9c97c5fed\" y=\"55.418538\"/>\r\n     <use style=\"fill:#4c72b0;stroke:#4c72b0;\" x=\"107.552563\" xlink:href=\"#md9c97c5fed\" y=\"55.420438\"/>\r\n     <use style=\"fill:#4c72b0;stroke:#4c72b0;\" x=\"108.196905\" xlink:href=\"#md9c97c5fed\" y=\"55.418855\"/>\r\n     <use style=\"fill:#4c72b0;stroke:#4c72b0;\" x=\"108.841246\" xlink:href=\"#md9c97c5fed\" y=\"55.420755\"/>\r\n     <use style=\"fill:#4c72b0;stroke:#4c72b0;\" x=\"109.485588\" xlink:href=\"#md9c97c5fed\" y=\"55.42028\"/>\r\n     <use style=\"fill:#4c72b0;stroke:#4c72b0;\" x=\"110.12993\" xlink:href=\"#md9c97c5fed\" y=\"55.423447\"/>\r\n     <use style=\"fill:#4c72b0;stroke:#4c72b0;\" x=\"110.774272\" xlink:href=\"#md9c97c5fed\" y=\"55.426139\"/>\r\n     <use style=\"fill:#4c72b0;stroke:#4c72b0;\" x=\"111.418614\" xlink:href=\"#md9c97c5fed\" y=\"55.427406\"/>\r\n     <use style=\"fill:#4c72b0;stroke:#4c72b0;\" x=\"112.062955\" xlink:href=\"#md9c97c5fed\" y=\"55.43279\"/>\r\n     <use style=\"fill:#4c72b0;stroke:#4c72b0;\" x=\"112.707297\" xlink:href=\"#md9c97c5fed\" y=\"55.43374\"/>\r\n     <use style=\"fill:#4c72b0;stroke:#4c72b0;\" x=\"113.351639\" xlink:href=\"#md9c97c5fed\" y=\"55.435957\"/>\r\n     <use style=\"fill:#4c72b0;stroke:#4c72b0;\" x=\"113.995981\" xlink:href=\"#md9c97c5fed\" y=\"55.437857\"/>\r\n     <use style=\"fill:#4c72b0;stroke:#4c72b0;\" x=\"114.640323\" xlink:href=\"#md9c97c5fed\" y=\"55.43754\"/>\r\n     <use style=\"fill:#4c72b0;stroke:#4c72b0;\" x=\"115.284664\" xlink:href=\"#md9c97c5fed\" y=\"55.436907\"/>\r\n     <use style=\"fill:#4c72b0;stroke:#4c72b0;\" x=\"115.929006\" xlink:href=\"#md9c97c5fed\" y=\"55.442608\"/>\r\n     <use style=\"fill:#4c72b0;stroke:#4c72b0;\" x=\"116.573348\" xlink:href=\"#md9c97c5fed\" y=\"55.447358\"/>\r\n     <use style=\"fill:#4c72b0;stroke:#4c72b0;\" x=\"117.21769\" xlink:href=\"#md9c97c5fed\" y=\"55.454168\"/>\r\n     <use style=\"fill:#4c72b0;stroke:#4c72b0;\" x=\"117.862032\" xlink:href=\"#md9c97c5fed\" y=\"55.457493\"/>\r\n     <use style=\"fill:#4c72b0;stroke:#4c72b0;\" x=\"118.506373\" xlink:href=\"#md9c97c5fed\" y=\"55.457493\"/>\r\n     <use style=\"fill:#4c72b0;stroke:#4c72b0;\" x=\"119.150715\" xlink:href=\"#md9c97c5fed\" y=\"55.458443\"/>\r\n     <use style=\"fill:#4c72b0;stroke:#4c72b0;\" x=\"119.795057\" xlink:href=\"#md9c97c5fed\" y=\"55.45971\"/>\r\n     <use style=\"fill:#4c72b0;stroke:#4c72b0;\" x=\"120.439399\" xlink:href=\"#md9c97c5fed\" y=\"55.464144\"/>\r\n     <use style=\"fill:#4c72b0;stroke:#4c72b0;\" x=\"121.083741\" xlink:href=\"#md9c97c5fed\" y=\"55.465411\"/>\r\n     <use style=\"fill:#4c72b0;stroke:#4c72b0;\" x=\"121.728082\" xlink:href=\"#md9c97c5fed\" y=\"55.469211\"/>\r\n     <use style=\"fill:#4c72b0;stroke:#4c72b0;\" x=\"122.372424\" xlink:href=\"#md9c97c5fed\" y=\"55.468894\"/>\r\n     <use style=\"fill:#4c72b0;stroke:#4c72b0;\" x=\"123.016766\" xlink:href=\"#md9c97c5fed\" y=\"55.469211\"/>\r\n     <use style=\"fill:#4c72b0;stroke:#4c72b0;\" x=\"123.661108\" xlink:href=\"#md9c97c5fed\" y=\"55.471428\"/>\r\n     <use style=\"fill:#4c72b0;stroke:#4c72b0;\" x=\"124.30545\" xlink:href=\"#md9c97c5fed\" y=\"55.477129\"/>\r\n     <use style=\"fill:#4c72b0;stroke:#4c72b0;\" x=\"124.949791\" xlink:href=\"#md9c97c5fed\" y=\"55.478079\"/>\r\n     <use style=\"fill:#4c72b0;stroke:#4c72b0;\" x=\"125.594133\" xlink:href=\"#md9c97c5fed\" y=\"55.479979\"/>\r\n     <use style=\"fill:#4c72b0;stroke:#4c72b0;\" x=\"126.238475\" xlink:href=\"#md9c97c5fed\" y=\"55.480296\"/>\r\n     <use style=\"fill:#4c72b0;stroke:#4c72b0;\" x=\"126.882817\" xlink:href=\"#md9c97c5fed\" y=\"55.481563\"/>\r\n     <use style=\"fill:#4c72b0;stroke:#4c72b0;\" x=\"127.527159\" xlink:href=\"#md9c97c5fed\" y=\"55.481246\"/>\r\n     <use style=\"fill:#4c72b0;stroke:#4c72b0;\" x=\"128.1715\" xlink:href=\"#md9c97c5fed\" y=\"55.481246\"/>\r\n     <use style=\"fill:#4c72b0;stroke:#4c72b0;\" x=\"128.815842\" xlink:href=\"#md9c97c5fed\" y=\"55.482196\"/>\r\n     <use style=\"fill:#4c72b0;stroke:#4c72b0;\" x=\"129.460184\" xlink:href=\"#md9c97c5fed\" y=\"55.48378\"/>\r\n     <use style=\"fill:#4c72b0;stroke:#4c72b0;\" x=\"130.104526\" xlink:href=\"#md9c97c5fed\" y=\"55.484413\"/>\r\n     <use style=\"fill:#4c72b0;stroke:#4c72b0;\" x=\"130.748868\" xlink:href=\"#md9c97c5fed\" y=\"55.485997\"/>\r\n     <use style=\"fill:#4c72b0;stroke:#4c72b0;\" x=\"131.393209\" xlink:href=\"#md9c97c5fed\" y=\"55.48853\"/>\r\n     <use style=\"fill:#4c72b0;stroke:#4c72b0;\" x=\"132.037551\" xlink:href=\"#md9c97c5fed\" y=\"55.48758\"/>\r\n     <use style=\"fill:#4c72b0;stroke:#4c72b0;\" x=\"132.681893\" xlink:href=\"#md9c97c5fed\" y=\"55.48853\"/>\r\n     <use style=\"fill:#4c72b0;stroke:#4c72b0;\" x=\"133.326235\" xlink:href=\"#md9c97c5fed\" y=\"55.489797\"/>\r\n     <use style=\"fill:#4c72b0;stroke:#4c72b0;\" x=\"133.970577\" xlink:href=\"#md9c97c5fed\" y=\"55.491064\"/>\r\n     <use style=\"fill:#4c72b0;stroke:#4c72b0;\" x=\"134.614918\" xlink:href=\"#md9c97c5fed\" y=\"55.492014\"/>\r\n     <use style=\"fill:#4c72b0;stroke:#4c72b0;\" x=\"135.25926\" xlink:href=\"#md9c97c5fed\" y=\"55.494231\"/>\r\n     <use style=\"fill:#4c72b0;stroke:#4c72b0;\" x=\"135.903602\" xlink:href=\"#md9c97c5fed\" y=\"55.494231\"/>\r\n     <use style=\"fill:#4c72b0;stroke:#4c72b0;\" x=\"136.547944\" xlink:href=\"#md9c97c5fed\" y=\"55.494231\"/>\r\n     <use style=\"fill:#4c72b0;stroke:#4c72b0;\" x=\"137.192286\" xlink:href=\"#md9c97c5fed\" y=\"55.494231\"/>\r\n     <use style=\"fill:#4c72b0;stroke:#4c72b0;\" x=\"137.836627\" xlink:href=\"#md9c97c5fed\" y=\"55.494548\"/>\r\n     <use style=\"fill:#4c72b0;stroke:#4c72b0;\" x=\"138.480969\" xlink:href=\"#md9c97c5fed\" y=\"55.494864\"/>\r\n     <use style=\"fill:#4c72b0;stroke:#4c72b0;\" x=\"139.125311\" xlink:href=\"#md9c97c5fed\" y=\"55.496131\"/>\r\n     <use style=\"fill:#4c72b0;stroke:#4c72b0;\" x=\"139.769653\" xlink:href=\"#md9c97c5fed\" y=\"55.498031\"/>\r\n     <use style=\"fill:#4c72b0;stroke:#4c72b0;\" x=\"140.413995\" xlink:href=\"#md9c97c5fed\" y=\"55.497715\"/>\r\n     <use style=\"fill:#4c72b0;stroke:#4c72b0;\" x=\"141.058336\" xlink:href=\"#md9c97c5fed\" y=\"55.498031\"/>\r\n     <use style=\"fill:#4c72b0;stroke:#4c72b0;\" x=\"141.702678\" xlink:href=\"#md9c97c5fed\" y=\"55.497398\"/>\r\n     <use style=\"fill:#4c72b0;stroke:#4c72b0;\" x=\"142.34702\" xlink:href=\"#md9c97c5fed\" y=\"55.497398\"/>\r\n     <use style=\"fill:#4c72b0;stroke:#4c72b0;\" x=\"142.991362\" xlink:href=\"#md9c97c5fed\" y=\"55.498031\"/>\r\n     <use style=\"fill:#4c72b0;stroke:#4c72b0;\" x=\"143.635704\" xlink:href=\"#md9c97c5fed\" y=\"55.498665\"/>\r\n     <use style=\"fill:#4c72b0;stroke:#4c72b0;\" x=\"144.280045\" xlink:href=\"#md9c97c5fed\" y=\"55.499615\"/>\r\n     <use style=\"fill:#4c72b0;stroke:#4c72b0;\" x=\"144.924387\" xlink:href=\"#md9c97c5fed\" y=\"55.498982\"/>\r\n     <use style=\"fill:#4c72b0;stroke:#4c72b0;\" x=\"145.568729\" xlink:href=\"#md9c97c5fed\" y=\"55.498982\"/>\r\n     <use style=\"fill:#4c72b0;stroke:#4c72b0;\" x=\"146.213071\" xlink:href=\"#md9c97c5fed\" y=\"55.499298\"/>\r\n     <use style=\"fill:#4c72b0;stroke:#4c72b0;\" x=\"146.857413\" xlink:href=\"#md9c97c5fed\" y=\"55.499615\"/>\r\n     <use style=\"fill:#4c72b0;stroke:#4c72b0;\" x=\"147.501754\" xlink:href=\"#md9c97c5fed\" y=\"55.498665\"/>\r\n     <use style=\"fill:#4c72b0;stroke:#4c72b0;\" x=\"148.146096\" xlink:href=\"#md9c97c5fed\" y=\"55.499615\"/>\r\n     <use style=\"fill:#4c72b0;stroke:#4c72b0;\" x=\"148.790438\" xlink:href=\"#md9c97c5fed\" y=\"55.499932\"/>\r\n     <use style=\"fill:#4c72b0;stroke:#4c72b0;\" x=\"149.43478\" xlink:href=\"#md9c97c5fed\" y=\"55.499615\"/>\r\n     <use style=\"fill:#4c72b0;stroke:#4c72b0;\" x=\"150.079122\" xlink:href=\"#md9c97c5fed\" y=\"55.499298\"/>\r\n     <use style=\"fill:#4c72b0;stroke:#4c72b0;\" x=\"150.723463\" xlink:href=\"#md9c97c5fed\" y=\"55.498031\"/>\r\n     <use style=\"fill:#4c72b0;stroke:#4c72b0;\" x=\"151.367805\" xlink:href=\"#md9c97c5fed\" y=\"55.498665\"/>\r\n     <use style=\"fill:#4c72b0;stroke:#4c72b0;\" x=\"152.012147\" xlink:href=\"#md9c97c5fed\" y=\"55.497715\"/>\r\n     <use style=\"fill:#4c72b0;stroke:#4c72b0;\" x=\"152.656489\" xlink:href=\"#md9c97c5fed\" y=\"55.497081\"/>\r\n     <use style=\"fill:#4c72b0;stroke:#4c72b0;\" x=\"153.300831\" xlink:href=\"#md9c97c5fed\" y=\"55.496448\"/>\r\n     <use style=\"fill:#4c72b0;stroke:#4c72b0;\" x=\"153.945172\" xlink:href=\"#md9c97c5fed\" y=\"55.496448\"/>\r\n     <use style=\"fill:#4c72b0;stroke:#4c72b0;\" x=\"154.589514\" xlink:href=\"#md9c97c5fed\" y=\"55.496448\"/>\r\n     <use style=\"fill:#4c72b0;stroke:#4c72b0;\" x=\"155.233856\" xlink:href=\"#md9c97c5fed\" y=\"55.496131\"/>\r\n     <use style=\"fill:#4c72b0;stroke:#4c72b0;\" x=\"155.878198\" xlink:href=\"#md9c97c5fed\" y=\"55.495498\"/>\r\n     <use style=\"fill:#4c72b0;stroke:#4c72b0;\" x=\"156.52254\" xlink:href=\"#md9c97c5fed\" y=\"55.497398\"/>\r\n     <use style=\"fill:#4c72b0;stroke:#4c72b0;\" x=\"157.166881\" xlink:href=\"#md9c97c5fed\" y=\"55.497398\"/>\r\n     <use style=\"fill:#4c72b0;stroke:#4c72b0;\" x=\"157.811223\" xlink:href=\"#md9c97c5fed\" y=\"55.497715\"/>\r\n     <use style=\"fill:#4c72b0;stroke:#4c72b0;\" x=\"158.455565\" xlink:href=\"#md9c97c5fed\" y=\"55.497715\"/>\r\n     <use style=\"fill:#4c72b0;stroke:#4c72b0;\" x=\"159.099907\" xlink:href=\"#md9c97c5fed\" y=\"55.497715\"/>\r\n     <use style=\"fill:#4c72b0;stroke:#4c72b0;\" x=\"159.744249\" xlink:href=\"#md9c97c5fed\" y=\"55.496131\"/>\r\n     <use style=\"fill:#4c72b0;stroke:#4c72b0;\" x=\"160.388591\" xlink:href=\"#md9c97c5fed\" y=\"55.495498\"/>\r\n     <use style=\"fill:#4c72b0;stroke:#4c72b0;\" x=\"161.032932\" xlink:href=\"#md9c97c5fed\" y=\"55.495814\"/>\r\n     <use style=\"fill:#4c72b0;stroke:#4c72b0;\" x=\"161.677274\" xlink:href=\"#md9c97c5fed\" y=\"55.494864\"/>\r\n     <use style=\"fill:#4c72b0;stroke:#4c72b0;\" x=\"162.321616\" xlink:href=\"#md9c97c5fed\" y=\"55.494548\"/>\r\n     <use style=\"fill:#4c72b0;stroke:#4c72b0;\" x=\"162.965958\" xlink:href=\"#md9c97c5fed\" y=\"55.491381\"/>\r\n     <use style=\"fill:#4c72b0;stroke:#4c72b0;\" x=\"163.6103\" xlink:href=\"#md9c97c5fed\" y=\"55.491381\"/>\r\n     <use style=\"fill:#4c72b0;stroke:#4c72b0;\" x=\"164.254641\" xlink:href=\"#md9c97c5fed\" y=\"55.492331\"/>\r\n     <use style=\"fill:#4c72b0;stroke:#4c72b0;\" x=\"164.898983\" xlink:href=\"#md9c97c5fed\" y=\"55.489797\"/>\r\n     <use style=\"fill:#4c72b0;stroke:#4c72b0;\" x=\"165.543325\" xlink:href=\"#md9c97c5fed\" y=\"55.48568\"/>\r\n     <use style=\"fill:#4c72b0;stroke:#4c72b0;\" x=\"166.187667\" xlink:href=\"#md9c97c5fed\" y=\"55.484255\"/>\r\n     <use style=\"fill:#4c72b0;stroke:#4c72b0;\" x=\"166.832009\" xlink:href=\"#md9c97c5fed\" y=\"55.482196\"/>\r\n     <use style=\"fill:#4c72b0;stroke:#4c72b0;\" x=\"167.47635\" xlink:href=\"#md9c97c5fed\" y=\"55.481246\"/>\r\n     <use style=\"fill:#4c72b0;stroke:#4c72b0;\" x=\"168.120692\" xlink:href=\"#md9c97c5fed\" y=\"55.480929\"/>\r\n     <use style=\"fill:#4c72b0;stroke:#4c72b0;\" x=\"168.765034\" xlink:href=\"#md9c97c5fed\" y=\"55.479346\"/>\r\n     <use style=\"fill:#4c72b0;stroke:#4c72b0;\" x=\"169.409376\" xlink:href=\"#md9c97c5fed\" y=\"55.478712\"/>\r\n     <use style=\"fill:#4c72b0;stroke:#4c72b0;\" x=\"170.053718\" xlink:href=\"#md9c97c5fed\" y=\"55.476495\"/>\r\n     <use style=\"fill:#4c72b0;stroke:#4c72b0;\" x=\"170.698059\" xlink:href=\"#md9c97c5fed\" y=\"55.473328\"/>\r\n     <use style=\"fill:#4c72b0;stroke:#4c72b0;\" x=\"171.342401\" xlink:href=\"#md9c97c5fed\" y=\"55.469211\"/>\r\n     <use style=\"fill:#4c72b0;stroke:#4c72b0;\" x=\"171.986743\" xlink:href=\"#md9c97c5fed\" y=\"55.468578\"/>\r\n     <use style=\"fill:#4c72b0;stroke:#4c72b0;\" x=\"172.631085\" xlink:href=\"#md9c97c5fed\" y=\"55.468261\"/>\r\n     <use style=\"fill:#4c72b0;stroke:#4c72b0;\" x=\"173.275427\" xlink:href=\"#md9c97c5fed\" y=\"55.465411\"/>\r\n     <use style=\"fill:#4c72b0;stroke:#4c72b0;\" x=\"173.919768\" xlink:href=\"#md9c97c5fed\" y=\"55.46256\"/>\r\n     <use style=\"fill:#4c72b0;stroke:#4c72b0;\" x=\"174.56411\" xlink:href=\"#md9c97c5fed\" y=\"55.461927\"/>\r\n     <use style=\"fill:#4c72b0;stroke:#4c72b0;\" x=\"175.208452\" xlink:href=\"#md9c97c5fed\" y=\"55.458126\"/>\r\n     <use style=\"fill:#4c72b0;stroke:#4c72b0;\" x=\"175.852794\" xlink:href=\"#md9c97c5fed\" y=\"55.458126\"/>\r\n     <use style=\"fill:#4c72b0;stroke:#4c72b0;\" x=\"176.497136\" xlink:href=\"#md9c97c5fed\" y=\"55.45781\"/>\r\n     <use style=\"fill:#4c72b0;stroke:#4c72b0;\" x=\"177.141477\" xlink:href=\"#md9c97c5fed\" y=\"55.45876\"/>\r\n     <use style=\"fill:#4c72b0;stroke:#4c72b0;\" x=\"177.785819\" xlink:href=\"#md9c97c5fed\" y=\"55.454009\"/>\r\n     <use style=\"fill:#4c72b0;stroke:#4c72b0;\" x=\"178.430161\" xlink:href=\"#md9c97c5fed\" y=\"55.450842\"/>\r\n     <use style=\"fill:#4c72b0;stroke:#4c72b0;\" x=\"179.074503\" xlink:href=\"#md9c97c5fed\" y=\"55.449417\"/>\r\n     <use style=\"fill:#4c72b0;stroke:#4c72b0;\" x=\"179.718845\" xlink:href=\"#md9c97c5fed\" y=\"55.445458\"/>\r\n     <use style=\"fill:#4c72b0;stroke:#4c72b0;\" x=\"180.363186\" xlink:href=\"#md9c97c5fed\" y=\"55.444825\"/>\r\n     <use style=\"fill:#4c72b0;stroke:#4c72b0;\" x=\"181.007528\" xlink:href=\"#md9c97c5fed\" y=\"55.442608\"/>\r\n     <use style=\"fill:#4c72b0;stroke:#4c72b0;\" x=\"181.65187\" xlink:href=\"#md9c97c5fed\" y=\"55.439757\"/>\r\n     <use style=\"fill:#4c72b0;stroke:#4c72b0;\" x=\"182.296212\" xlink:href=\"#md9c97c5fed\" y=\"55.426772\"/>\r\n     <use style=\"fill:#4c72b0;stroke:#4c72b0;\" x=\"182.940554\" xlink:href=\"#md9c97c5fed\" y=\"55.426772\"/>\r\n     <use style=\"fill:#4c72b0;stroke:#4c72b0;\" x=\"183.584895\" xlink:href=\"#md9c97c5fed\" y=\"55.423605\"/>\r\n     <use style=\"fill:#4c72b0;stroke:#4c72b0;\" x=\"184.229237\" xlink:href=\"#md9c97c5fed\" y=\"55.420122\"/>\r\n     <use style=\"fill:#4c72b0;stroke:#4c72b0;\" x=\"184.873579\" xlink:href=\"#md9c97c5fed\" y=\"55.417905\"/>\r\n     <use style=\"fill:#4c72b0;stroke:#4c72b0;\" x=\"185.517921\" xlink:href=\"#md9c97c5fed\" y=\"55.418221\"/>\r\n     <use style=\"fill:#4c72b0;stroke:#4c72b0;\" x=\"186.162263\" xlink:href=\"#md9c97c5fed\" y=\"55.417588\"/>\r\n     <use style=\"fill:#4c72b0;stroke:#4c72b0;\" x=\"186.806604\" xlink:href=\"#md9c97c5fed\" y=\"55.412521\"/>\r\n     <use style=\"fill:#4c72b0;stroke:#4c72b0;\" x=\"187.450946\" xlink:href=\"#md9c97c5fed\" y=\"55.413312\"/>\r\n     <use style=\"fill:#4c72b0;stroke:#4c72b0;\" x=\"188.095288\" xlink:href=\"#md9c97c5fed\" y=\"55.412521\"/>\r\n     <use style=\"fill:#4c72b0;stroke:#4c72b0;\" x=\"188.73963\" xlink:href=\"#md9c97c5fed\" y=\"55.405236\"/>\r\n     <use style=\"fill:#4c72b0;stroke:#4c72b0;\" x=\"189.383972\" xlink:href=\"#md9c97c5fed\" y=\"55.402386\"/>\r\n     <use style=\"fill:#4c72b0;stroke:#4c72b0;\" x=\"190.028313\" xlink:href=\"#md9c97c5fed\" y=\"55.401119\"/>\r\n     <use style=\"fill:#4c72b0;stroke:#4c72b0;\" x=\"190.672655\" xlink:href=\"#md9c97c5fed\" y=\"55.398427\"/>\r\n     <use style=\"fill:#4c72b0;stroke:#4c72b0;\" x=\"191.316997\" xlink:href=\"#md9c97c5fed\" y=\"55.390985\"/>\r\n     <use style=\"fill:#4c72b0;stroke:#4c72b0;\" x=\"191.961339\" xlink:href=\"#md9c97c5fed\" y=\"55.388609\"/>\r\n     <use style=\"fill:#4c72b0;stroke:#4c72b0;\" x=\"192.605681\" xlink:href=\"#md9c97c5fed\" y=\"55.380375\"/>\r\n     <use style=\"fill:#4c72b0;stroke:#4c72b0;\" x=\"193.250022\" xlink:href=\"#md9c97c5fed\" y=\"55.378158\"/>\r\n     <use style=\"fill:#4c72b0;stroke:#4c72b0;\" x=\"193.894364\" xlink:href=\"#md9c97c5fed\" y=\"55.372616\"/>\r\n     <use style=\"fill:#4c72b0;stroke:#4c72b0;\" x=\"194.538706\" xlink:href=\"#md9c97c5fed\" y=\"55.373566\"/>\r\n     <use style=\"fill:#4c72b0;stroke:#4c72b0;\" x=\"195.183048\" xlink:href=\"#md9c97c5fed\" y=\"55.368182\"/>\r\n     <use style=\"fill:#4c72b0;stroke:#4c72b0;\" x=\"195.82739\" xlink:href=\"#md9c97c5fed\" y=\"55.362481\"/>\r\n     <use style=\"fill:#4c72b0;stroke:#4c72b0;\" x=\"196.471731\" xlink:href=\"#md9c97c5fed\" y=\"55.358047\"/>\r\n     <use style=\"fill:#4c72b0;stroke:#4c72b0;\" x=\"197.116073\" xlink:href=\"#md9c97c5fed\" y=\"55.35678\"/>\r\n     <use style=\"fill:#4c72b0;stroke:#4c72b0;\" x=\"197.760415\" xlink:href=\"#md9c97c5fed\" y=\"55.347596\"/>\r\n     <use style=\"fill:#4c72b0;stroke:#4c72b0;\" x=\"198.404757\" xlink:href=\"#md9c97c5fed\" y=\"55.336828\"/>\r\n     <use style=\"fill:#4c72b0;stroke:#4c72b0;\" x=\"199.049099\" xlink:href=\"#md9c97c5fed\" y=\"55.33176\"/>\r\n     <use style=\"fill:#4c72b0;stroke:#4c72b0;\" x=\"199.69344\" xlink:href=\"#md9c97c5fed\" y=\"55.32796\"/>\r\n     <use style=\"fill:#4c72b0;stroke:#4c72b0;\" x=\"200.337782\" xlink:href=\"#md9c97c5fed\" y=\"55.315925\"/>\r\n     <use style=\"fill:#4c72b0;stroke:#4c72b0;\" x=\"200.982124\" xlink:href=\"#md9c97c5fed\" y=\"55.313075\"/>\r\n     <use style=\"fill:#4c72b0;stroke:#4c72b0;\" x=\"201.626466\" xlink:href=\"#md9c97c5fed\" y=\"55.304049\"/>\r\n     <use style=\"fill:#4c72b0;stroke:#4c72b0;\" x=\"202.270808\" xlink:href=\"#md9c97c5fed\" y=\"55.30294\"/>\r\n     <use style=\"fill:#4c72b0;stroke:#4c72b0;\" x=\"202.915149\" xlink:href=\"#md9c97c5fed\" y=\"55.287738\"/>\r\n     <use style=\"fill:#4c72b0;stroke:#4c72b0;\" x=\"203.559491\" xlink:href=\"#md9c97c5fed\" y=\"55.283304\"/>\r\n     <use style=\"fill:#4c72b0;stroke:#4c72b0;\" x=\"204.203833\" xlink:href=\"#md9c97c5fed\" y=\"55.262085\"/>\r\n     <use style=\"fill:#4c72b0;stroke:#4c72b0;\" x=\"204.848175\" xlink:href=\"#md9c97c5fed\" y=\"55.244349\"/>\r\n     <use style=\"fill:#4c72b0;stroke:#4c72b0;\" x=\"205.492517\" xlink:href=\"#md9c97c5fed\" y=\"55.239124\"/>\r\n     <use style=\"fill:#4c72b0;stroke:#4c72b0;\" x=\"206.136858\" xlink:href=\"#md9c97c5fed\" y=\"55.214104\"/>\r\n     <use style=\"fill:#4c72b0;stroke:#4c72b0;\" x=\"206.7812\" xlink:href=\"#md9c97c5fed\" y=\"55.210145\"/>\r\n     <use style=\"fill:#4c72b0;stroke:#4c72b0;\" x=\"207.425542\" xlink:href=\"#md9c97c5fed\" y=\"55.187817\"/>\r\n     <use style=\"fill:#4c72b0;stroke:#4c72b0;\" x=\"208.069884\" xlink:href=\"#md9c97c5fed\" y=\"55.183383\"/>\r\n     <use style=\"fill:#4c72b0;stroke:#4c72b0;\" x=\"208.714226\" xlink:href=\"#md9c97c5fed\" y=\"55.156305\"/>\r\n     <use style=\"fill:#4c72b0;stroke:#4c72b0;\" x=\"209.358567\" xlink:href=\"#md9c97c5fed\" y=\"55.135086\"/>\r\n     <use style=\"fill:#4c72b0;stroke:#4c72b0;\" x=\"210.002909\" xlink:href=\"#md9c97c5fed\" y=\"55.100406\"/>\r\n     <use style=\"fill:#4c72b0;stroke:#4c72b0;\" x=\"210.647251\" xlink:href=\"#md9c97c5fed\" y=\"55.078712\"/>\r\n     <use style=\"fill:#4c72b0;stroke:#4c72b0;\" x=\"211.291593\" xlink:href=\"#md9c97c5fed\" y=\"55.048625\"/>\r\n     <use style=\"fill:#4c72b0;stroke:#4c72b0;\" x=\"211.935935\" xlink:href=\"#md9c97c5fed\" y=\"55.043874\"/>\r\n     <use style=\"fill:#4c72b0;stroke:#4c72b0;\" x=\"212.580276\" xlink:href=\"#md9c97c5fed\" y=\"55.027089\"/>\r\n     <use style=\"fill:#4c72b0;stroke:#4c72b0;\" x=\"213.224618\" xlink:href=\"#md9c97c5fed\" y=\"55.005236\"/>\r\n     <use style=\"fill:#4c72b0;stroke:#4c72b0;\" x=\"213.86896\" xlink:href=\"#md9c97c5fed\" y=\"54.984492\"/>\r\n     <use style=\"fill:#4c72b0;stroke:#4c72b0;\" x=\"214.513302\" xlink:href=\"#md9c97c5fed\" y=\"54.964222\"/>\r\n     <use style=\"fill:#4c72b0;stroke:#4c72b0;\" x=\"215.157644\" xlink:href=\"#md9c97c5fed\" y=\"54.91735\"/>\r\n     <use style=\"fill:#4c72b0;stroke:#4c72b0;\" x=\"215.801985\" xlink:href=\"#md9c97c5fed\" y=\"54.90199\"/>\r\n     <use style=\"fill:#4c72b0;stroke:#4c72b0;\" x=\"216.446327\" xlink:href=\"#md9c97c5fed\" y=\"54.891538\"/>\r\n     <use style=\"fill:#4c72b0;stroke:#4c72b0;\" x=\"217.090669\" xlink:href=\"#md9c97c5fed\" y=\"54.887579\"/>\r\n     <use style=\"fill:#4c72b0;stroke:#4c72b0;\" x=\"217.735011\" xlink:href=\"#md9c97c5fed\" y=\"54.874911\"/>\r\n     <use style=\"fill:#4c72b0;stroke:#4c72b0;\" x=\"218.379353\" xlink:href=\"#md9c97c5fed\" y=\"54.854009\"/>\r\n     <use style=\"fill:#4c72b0;stroke:#4c72b0;\" x=\"219.023694\" xlink:href=\"#md9c97c5fed\" y=\"54.845932\"/>\r\n     <use style=\"fill:#4c72b0;stroke:#4c72b0;\" x=\"219.668036\" xlink:href=\"#md9c97c5fed\" y=\"54.83659\"/>\r\n     <use style=\"fill:#4c72b0;stroke:#4c72b0;\" x=\"220.312378\" xlink:href=\"#md9c97c5fed\" y=\"54.818854\"/>\r\n     <use style=\"fill:#4c72b0;stroke:#4c72b0;\" x=\"220.95672\" xlink:href=\"#md9c97c5fed\" y=\"54.814895\"/>\r\n     <use style=\"fill:#4c72b0;stroke:#4c72b0;\" x=\"221.601062\" xlink:href=\"#md9c97c5fed\" y=\"54.826613\"/>\r\n     <use style=\"fill:#4c72b0;stroke:#4c72b0;\" x=\"222.245403\" xlink:href=\"#md9c97c5fed\" y=\"54.818696\"/>\r\n     <use style=\"fill:#4c72b0;stroke:#4c72b0;\" x=\"222.889745\" xlink:href=\"#md9c97c5fed\" y=\"54.812362\"/>\r\n     <use style=\"fill:#4c72b0;stroke:#4c72b0;\" x=\"223.534087\" xlink:href=\"#md9c97c5fed\" y=\"54.820279\"/>\r\n     <use style=\"fill:#4c72b0;stroke:#4c72b0;\" x=\"224.178429\" xlink:href=\"#md9c97c5fed\" y=\"54.835164\"/>\r\n     <use style=\"fill:#4c72b0;stroke:#4c72b0;\" x=\"224.822771\" xlink:href=\"#md9c97c5fed\" y=\"54.85195\"/>\r\n     <use style=\"fill:#4c72b0;stroke:#4c72b0;\" x=\"225.467112\" xlink:href=\"#md9c97c5fed\" y=\"54.871744\"/>\r\n     <use style=\"fill:#4c72b0;stroke:#4c72b0;\" x=\"226.111454\" xlink:href=\"#md9c97c5fed\" y=\"54.883621\"/>\r\n     <use style=\"fill:#4c72b0;stroke:#4c72b0;\" x=\"226.755796\" xlink:href=\"#md9c97c5fed\" y=\"54.881562\"/>\r\n     <use style=\"fill:#4c72b0;stroke:#4c72b0;\" x=\"227.400138\" xlink:href=\"#md9c97c5fed\" y=\"54.891222\"/>\r\n     <use style=\"fill:#4c72b0;stroke:#4c72b0;\" x=\"228.04448\" xlink:href=\"#md9c97c5fed\" y=\"54.917983\"/>\r\n     <use style=\"fill:#4c72b0;stroke:#4c72b0;\" x=\"228.688821\" xlink:href=\"#md9c97c5fed\" y=\"54.935719\"/>\r\n     <use style=\"fill:#4c72b0;stroke:#4c72b0;\" x=\"229.333163\" xlink:href=\"#md9c97c5fed\" y=\"54.952663\"/>\r\n     <use style=\"fill:#4c72b0;stroke:#4c72b0;\" x=\"229.977505\" xlink:href=\"#md9c97c5fed\" y=\"54.967548\"/>\r\n     <use style=\"fill:#4c72b0;stroke:#4c72b0;\" x=\"230.621847\" xlink:href=\"#md9c97c5fed\" y=\"54.983383\"/>\r\n     <use style=\"fill:#4c72b0;stroke:#4c72b0;\" x=\"231.266189\" xlink:href=\"#md9c97c5fed\" y=\"54.9818\"/>\r\n     <use style=\"fill:#4c72b0;stroke:#4c72b0;\" x=\"231.91053\" xlink:href=\"#md9c97c5fed\" y=\"54.977999\"/>\r\n     <use style=\"fill:#4c72b0;stroke:#4c72b0;\" x=\"232.554872\" xlink:href=\"#md9c97c5fed\" y=\"54.985283\"/>\r\n     <use style=\"fill:#4c72b0;stroke:#4c72b0;\" x=\"233.199214\" xlink:href=\"#md9c97c5fed\" y=\"55.002702\"/>\r\n     <use style=\"fill:#4c72b0;stroke:#4c72b0;\" x=\"233.843556\" xlink:href=\"#md9c97c5fed\" y=\"55.016321\"/>\r\n     <use style=\"fill:#4c72b0;stroke:#4c72b0;\" x=\"234.487898\" xlink:href=\"#md9c97c5fed\" y=\"55.025505\"/>\r\n     <use style=\"fill:#4c72b0;stroke:#4c72b0;\" x=\"235.132239\" xlink:href=\"#md9c97c5fed\" y=\"55.03659\"/>\r\n     <use style=\"fill:#4c72b0;stroke:#4c72b0;\" x=\"235.776581\" xlink:href=\"#md9c97c5fed\" y=\"55.035481\"/>\r\n     <use style=\"fill:#4c72b0;stroke:#4c72b0;\" x=\"236.420923\" xlink:href=\"#md9c97c5fed\" y=\"55.040074\"/>\r\n     <use style=\"fill:#4c72b0;stroke:#4c72b0;\" x=\"237.065265\" xlink:href=\"#md9c97c5fed\" y=\"55.049892\"/>\r\n     <use style=\"fill:#4c72b0;stroke:#4c72b0;\" x=\"237.709607\" xlink:href=\"#md9c97c5fed\" y=\"55.049892\"/>\r\n     <use style=\"fill:#4c72b0;stroke:#4c72b0;\" x=\"238.353948\" xlink:href=\"#md9c97c5fed\" y=\"55.057176\"/>\r\n     <use style=\"fill:#4c72b0;stroke:#4c72b0;\" x=\"238.99829\" xlink:href=\"#md9c97c5fed\" y=\"55.070319\"/>\r\n     <use style=\"fill:#4c72b0;stroke:#4c72b0;\" x=\"239.642632\" xlink:href=\"#md9c97c5fed\" y=\"55.069686\"/>\r\n     <use style=\"fill:#4c72b0;stroke:#4c72b0;\" x=\"240.286974\" xlink:href=\"#md9c97c5fed\" y=\"55.067944\"/>\r\n     <use style=\"fill:#4c72b0;stroke:#4c72b0;\" x=\"240.931316\" xlink:href=\"#md9c97c5fed\" y=\"55.061768\"/>\r\n     <use style=\"fill:#4c72b0;stroke:#4c72b0;\" x=\"241.575657\" xlink:href=\"#md9c97c5fed\" y=\"55.074753\"/>\r\n     <use style=\"fill:#4c72b0;stroke:#4c72b0;\" x=\"242.219999\" xlink:href=\"#md9c97c5fed\" y=\"55.08077\"/>\r\n     <use style=\"fill:#4c72b0;stroke:#4c72b0;\" x=\"242.864341\" xlink:href=\"#md9c97c5fed\" y=\"55.089638\"/>\r\n     <use style=\"fill:#4c72b0;stroke:#4c72b0;\" x=\"243.508683\" xlink:href=\"#md9c97c5fed\" y=\"55.097873\"/>\r\n     <use style=\"fill:#4c72b0;stroke:#4c72b0;\" x=\"244.153025\" xlink:href=\"#md9c97c5fed\" y=\"55.102306\"/>\r\n     <use style=\"fill:#4c72b0;stroke:#4c72b0;\" x=\"244.797366\" xlink:href=\"#md9c97c5fed\" y=\"55.10199\"/>\r\n     <use style=\"fill:#4c72b0;stroke:#4c72b0;\" x=\"245.441708\" xlink:href=\"#md9c97c5fed\" y=\"55.096922\"/>\r\n     <use style=\"fill:#4c72b0;stroke:#4c72b0;\" x=\"246.08605\" xlink:href=\"#md9c97c5fed\" y=\"55.105315\"/>\r\n     <use style=\"fill:#4c72b0;stroke:#4c72b0;\" x=\"246.730392\" xlink:href=\"#md9c97c5fed\" y=\"55.109116\"/>\r\n     <use style=\"fill:#4c72b0;stroke:#4c72b0;\" x=\"247.374734\" xlink:href=\"#md9c97c5fed\" y=\"55.124001\"/>\r\n     <use style=\"fill:#4c72b0;stroke:#4c72b0;\" x=\"248.019075\" xlink:href=\"#md9c97c5fed\" y=\"55.132552\"/>\r\n     <use style=\"fill:#4c72b0;stroke:#4c72b0;\" x=\"248.663417\" xlink:href=\"#md9c97c5fed\" y=\"55.136986\"/>\r\n     <use style=\"fill:#4c72b0;stroke:#4c72b0;\" x=\"249.307759\" xlink:href=\"#md9c97c5fed\" y=\"55.134294\"/>\r\n     <use style=\"fill:#4c72b0;stroke:#4c72b0;\" x=\"249.952101\" xlink:href=\"#md9c97c5fed\" y=\"55.130968\"/>\r\n     <use style=\"fill:#4c72b0;stroke:#4c72b0;\" x=\"250.596443\" xlink:href=\"#md9c97c5fed\" y=\"55.131602\"/>\r\n     <use style=\"fill:#4c72b0;stroke:#4c72b0;\" x=\"251.240784\" xlink:href=\"#md9c97c5fed\" y=\"55.141103\"/>\r\n     <use style=\"fill:#4c72b0;stroke:#4c72b0;\" x=\"251.885126\" xlink:href=\"#md9c97c5fed\" y=\"55.134136\"/>\r\n     <use style=\"fill:#4c72b0;stroke:#4c72b0;\" x=\"252.529468\" xlink:href=\"#md9c97c5fed\" y=\"55.139836\"/>\r\n     <use style=\"fill:#4c72b0;stroke:#4c72b0;\" x=\"253.17381\" xlink:href=\"#md9c97c5fed\" y=\"55.129702\"/>\r\n     <use style=\"fill:#4c72b0;stroke:#4c72b0;\" x=\"253.818152\" xlink:href=\"#md9c97c5fed\" y=\"55.122576\"/>\r\n     <use style=\"fill:#4c72b0;stroke:#4c72b0;\" x=\"254.462494\" xlink:href=\"#md9c97c5fed\" y=\"55.118934\"/>\r\n     <use style=\"fill:#4c72b0;stroke:#4c72b0;\" x=\"255.106835\" xlink:href=\"#md9c97c5fed\" y=\"55.114975\"/>\r\n     <use style=\"fill:#4c72b0;stroke:#4c72b0;\" x=\"255.751177\" xlink:href=\"#md9c97c5fed\" y=\"55.124634\"/>\r\n     <use style=\"fill:#4c72b0;stroke:#4c72b0;\" x=\"256.395519\" xlink:href=\"#md9c97c5fed\" y=\"55.122259\"/>\r\n     <use style=\"fill:#4c72b0;stroke:#4c72b0;\" x=\"257.039861\" xlink:href=\"#md9c97c5fed\" y=\"55.1202\"/>\r\n     <use style=\"fill:#4c72b0;stroke:#4c72b0;\" x=\"257.684203\" xlink:href=\"#md9c97c5fed\" y=\"55.126535\"/>\r\n     <use style=\"fill:#4c72b0;stroke:#4c72b0;\" x=\"258.328544\" xlink:href=\"#md9c97c5fed\" y=\"55.118934\"/>\r\n     <use style=\"fill:#4c72b0;stroke:#4c72b0;\" x=\"258.972886\" xlink:href=\"#md9c97c5fed\" y=\"55.100565\"/>\r\n     <use style=\"fill:#4c72b0;stroke:#4c72b0;\" x=\"259.617228\" xlink:href=\"#md9c97c5fed\" y=\"55.092964\"/>\r\n     <use style=\"fill:#4c72b0;stroke:#4c72b0;\" x=\"260.26157\" xlink:href=\"#md9c97c5fed\" y=\"55.087738\"/>\r\n     <use style=\"fill:#4c72b0;stroke:#4c72b0;\" x=\"260.905912\" xlink:href=\"#md9c97c5fed\" y=\"55.07792\"/>\r\n     <use style=\"fill:#4c72b0;stroke:#4c72b0;\" x=\"261.550253\" xlink:href=\"#md9c97c5fed\" y=\"55.073169\"/>\r\n     <use style=\"fill:#4c72b0;stroke:#4c72b0;\" x=\"262.194595\" xlink:href=\"#md9c97c5fed\" y=\"55.075545\"/>\r\n     <use style=\"fill:#4c72b0;stroke:#4c72b0;\" x=\"262.838937\" xlink:href=\"#md9c97c5fed\" y=\"55.067627\"/>\r\n     <use style=\"fill:#4c72b0;stroke:#4c72b0;\" x=\"263.483279\" xlink:href=\"#md9c97c5fed\" y=\"55.042766\"/>\r\n     <use style=\"fill:#4c72b0;stroke:#4c72b0;\" x=\"264.127621\" xlink:href=\"#md9c97c5fed\" y=\"55.034531\"/>\r\n     <use style=\"fill:#4c72b0;stroke:#4c72b0;\" x=\"264.771962\" xlink:href=\"#md9c97c5fed\" y=\"55.020913\"/>\r\n     <use style=\"fill:#4c72b0;stroke:#4c72b0;\" x=\"265.416304\" xlink:href=\"#md9c97c5fed\" y=\"55.019804\"/>\r\n     <use style=\"fill:#4c72b0;stroke:#4c72b0;\" x=\"266.060646\" xlink:href=\"#md9c97c5fed\" y=\"55.002544\"/>\r\n     <use style=\"fill:#4c72b0;stroke:#4c72b0;\" x=\"266.704988\" xlink:href=\"#md9c97c5fed\" y=\"55.006978\"/>\r\n     <use style=\"fill:#4c72b0;stroke:#4c72b0;\" x=\"267.34933\" xlink:href=\"#md9c97c5fed\" y=\"54.999694\"/>\r\n     <use style=\"fill:#4c72b0;stroke:#4c72b0;\" x=\"267.993671\" xlink:href=\"#md9c97c5fed\" y=\"54.984017\"/>\r\n     <use style=\"fill:#4c72b0;stroke:#4c72b0;\" x=\"268.638013\" xlink:href=\"#md9c97c5fed\" y=\"54.973407\"/>\r\n     <use style=\"fill:#4c72b0;stroke:#4c72b0;\" x=\"269.282355\" xlink:href=\"#md9c97c5fed\" y=\"54.971665\"/>\r\n     <use style=\"fill:#4c72b0;stroke:#4c72b0;\" x=\"269.926697\" xlink:href=\"#md9c97c5fed\" y=\"54.962005\"/>\r\n     <use style=\"fill:#4c72b0;stroke:#4c72b0;\" x=\"270.571039\" xlink:href=\"#md9c97c5fed\" y=\"54.946487\"/>\r\n     <use style=\"fill:#4c72b0;stroke:#4c72b0;\" x=\"271.21538\" xlink:href=\"#md9c97c5fed\" y=\"54.943636\"/>\r\n     <use style=\"fill:#4c72b0;stroke:#4c72b0;\" x=\"271.859722\" xlink:href=\"#md9c97c5fed\" y=\"54.936194\"/>\r\n     <use style=\"fill:#4c72b0;stroke:#4c72b0;\" x=\"272.504064\" xlink:href=\"#md9c97c5fed\" y=\"54.924634\"/>\r\n     <use style=\"fill:#4c72b0;stroke:#4c72b0;\" x=\"273.148406\" xlink:href=\"#md9c97c5fed\" y=\"54.931285\"/>\r\n     <use style=\"fill:#4c72b0;stroke:#4c72b0;\" x=\"273.792748\" xlink:href=\"#md9c97c5fed\" y=\"54.921942\"/>\r\n     <use style=\"fill:#4c72b0;stroke:#4c72b0;\" x=\"274.437089\" xlink:href=\"#md9c97c5fed\" y=\"54.926693\"/>\r\n     <use style=\"fill:#4c72b0;stroke:#4c72b0;\" x=\"275.081431\" xlink:href=\"#md9c97c5fed\" y=\"54.926218\"/>\r\n     <use style=\"fill:#4c72b0;stroke:#4c72b0;\" x=\"275.725773\" xlink:href=\"#md9c97c5fed\" y=\"54.929543\"/>\r\n     <use style=\"fill:#4c72b0;stroke:#4c72b0;\" x=\"276.370115\" xlink:href=\"#md9c97c5fed\" y=\"54.922892\"/>\r\n     <use style=\"fill:#4c72b0;stroke:#4c72b0;\" x=\"277.014457\" xlink:href=\"#md9c97c5fed\" y=\"54.910224\"/>\r\n     <use style=\"fill:#4c72b0;stroke:#4c72b0;\" x=\"277.658798\" xlink:href=\"#md9c97c5fed\" y=\"54.922417\"/>\r\n     <use style=\"fill:#4c72b0;stroke:#4c72b0;\" x=\"278.30314\" xlink:href=\"#md9c97c5fed\" y=\"54.916083\"/>\r\n     <use style=\"fill:#4c72b0;stroke:#4c72b0;\" x=\"278.947482\" xlink:href=\"#md9c97c5fed\" y=\"54.929543\"/>\r\n     <use style=\"fill:#4c72b0;stroke:#4c72b0;\" x=\"279.591824\" xlink:href=\"#md9c97c5fed\" y=\"54.942528\"/>\r\n     <use style=\"fill:#4c72b0;stroke:#4c72b0;\" x=\"280.236166\" xlink:href=\"#md9c97c5fed\" y=\"54.949812\"/>\r\n     <use style=\"fill:#4c72b0;stroke:#4c72b0;\" x=\"280.880507\" xlink:href=\"#md9c97c5fed\" y=\"54.947912\"/>\r\n     <use style=\"fill:#4c72b0;stroke:#4c72b0;\" x=\"281.524849\" xlink:href=\"#md9c97c5fed\" y=\"54.956146\"/>\r\n     <use style=\"fill:#4c72b0;stroke:#4c72b0;\" x=\"282.169191\" xlink:href=\"#md9c97c5fed\" y=\"54.97309\"/>\r\n     <use style=\"fill:#4c72b0;stroke:#4c72b0;\" x=\"282.813533\" xlink:href=\"#md9c97c5fed\" y=\"54.983383\"/>\r\n     <use style=\"fill:#4c72b0;stroke:#4c72b0;\" x=\"283.457875\" xlink:href=\"#md9c97c5fed\" y=\"54.987975\"/>\r\n     <use style=\"fill:#4c72b0;stroke:#4c72b0;\" x=\"284.102216\" xlink:href=\"#md9c97c5fed\" y=\"54.991459\"/>\r\n     <use style=\"fill:#4c72b0;stroke:#4c72b0;\" x=\"284.746558\" xlink:href=\"#md9c97c5fed\" y=\"55.002069\"/>\r\n     <use style=\"fill:#4c72b0;stroke:#4c72b0;\" x=\"285.3909\" xlink:href=\"#md9c97c5fed\" y=\"54.998743\"/>\r\n     <use style=\"fill:#4c72b0;stroke:#4c72b0;\" x=\"286.035242\" xlink:href=\"#md9c97c5fed\" y=\"54.986392\"/>\r\n     <use style=\"fill:#4c72b0;stroke:#4c72b0;\" x=\"286.679584\" xlink:href=\"#md9c97c5fed\" y=\"54.987975\"/>\r\n     <use style=\"fill:#4c72b0;stroke:#4c72b0;\" x=\"287.323925\" xlink:href=\"#md9c97c5fed\" y=\"55.001119\"/>\r\n     <use style=\"fill:#4c72b0;stroke:#4c72b0;\" x=\"287.968267\" xlink:href=\"#md9c97c5fed\" y=\"55.01157\"/>\r\n     <use style=\"fill:#4c72b0;stroke:#4c72b0;\" x=\"288.612609\" xlink:href=\"#md9c97c5fed\" y=\"55.018854\"/>\r\n     <use style=\"fill:#4c72b0;stroke:#4c72b0;\" x=\"289.256951\" xlink:href=\"#md9c97c5fed\" y=\"55.02503\"/>\r\n     <use style=\"fill:#4c72b0;stroke:#4c72b0;\" x=\"289.901293\" xlink:href=\"#md9c97c5fed\" y=\"55.017271\"/>\r\n     <use style=\"fill:#4c72b0;stroke:#4c72b0;\" x=\"290.545634\" xlink:href=\"#md9c97c5fed\" y=\"55.016479\"/>\r\n     <use style=\"fill:#4c72b0;stroke:#4c72b0;\" x=\"291.189976\" xlink:href=\"#md9c97c5fed\" y=\"55.027564\"/>\r\n     <use style=\"fill:#4c72b0;stroke:#4c72b0;\" x=\"291.834318\" xlink:href=\"#md9c97c5fed\" y=\"55.0529\"/>\r\n     <use style=\"fill:#4c72b0;stroke:#4c72b0;\" x=\"292.47866\" xlink:href=\"#md9c97c5fed\" y=\"55.066994\"/>\r\n     <use style=\"fill:#4c72b0;stroke:#4c72b0;\" x=\"293.123002\" xlink:href=\"#md9c97c5fed\" y=\"55.079662\"/>\r\n     <use style=\"fill:#4c72b0;stroke:#4c72b0;\" x=\"293.767343\" xlink:href=\"#md9c97c5fed\" y=\"55.093122\"/>\r\n     <use style=\"fill:#4c72b0;stroke:#4c72b0;\" x=\"294.411685\" xlink:href=\"#md9c97c5fed\" y=\"55.090747\"/>\r\n     <use style=\"fill:#4c72b0;stroke:#4c72b0;\" x=\"295.056027\" xlink:href=\"#md9c97c5fed\" y=\"55.08758\"/>\r\n     <use style=\"fill:#4c72b0;stroke:#4c72b0;\" x=\"295.700369\" xlink:href=\"#md9c97c5fed\" y=\"55.088846\"/>\r\n     <use style=\"fill:#4c72b0;stroke:#4c72b0;\" x=\"296.344711\" xlink:href=\"#md9c97c5fed\" y=\"55.097398\"/>\r\n     <use style=\"fill:#4c72b0;stroke:#4c72b0;\" x=\"296.989052\" xlink:href=\"#md9c97c5fed\" y=\"55.099614\"/>\r\n     <use style=\"fill:#4c72b0;stroke:#4c72b0;\" x=\"297.633394\" xlink:href=\"#md9c97c5fed\" y=\"55.098981\"/>\r\n     <use style=\"fill:#4c72b0;stroke:#4c72b0;\" x=\"298.277736\" xlink:href=\"#md9c97c5fed\" y=\"55.107057\"/>\r\n     <use style=\"fill:#4c72b0;stroke:#4c72b0;\" x=\"298.922078\" xlink:href=\"#md9c97c5fed\" y=\"55.098664\"/>\r\n     <use style=\"fill:#4c72b0;stroke:#4c72b0;\" x=\"299.56642\" xlink:href=\"#md9c97c5fed\" y=\"55.081879\"/>\r\n     <use style=\"fill:#4c72b0;stroke:#4c72b0;\" x=\"300.210761\" xlink:href=\"#md9c97c5fed\" y=\"55.082512\"/>\r\n     <use style=\"fill:#4c72b0;stroke:#4c72b0;\" x=\"300.855103\" xlink:href=\"#md9c97c5fed\" y=\"55.089797\"/>\r\n     <use style=\"fill:#4c72b0;stroke:#4c72b0;\" x=\"301.499445\" xlink:href=\"#md9c97c5fed\" y=\"55.085996\"/>\r\n     <use style=\"fill:#4c72b0;stroke:#4c72b0;\" x=\"302.143787\" xlink:href=\"#md9c97c5fed\" y=\"55.089163\"/>\r\n     <use style=\"fill:#4c72b0;stroke:#4c72b0;\" x=\"302.788129\" xlink:href=\"#md9c97c5fed\" y=\"55.086788\"/>\r\n     <use style=\"fill:#4c72b0;stroke:#4c72b0;\" x=\"303.43247\" xlink:href=\"#md9c97c5fed\" y=\"55.07792\"/>\r\n     <use style=\"fill:#4c72b0;stroke:#4c72b0;\" x=\"304.076812\" xlink:href=\"#md9c97c5fed\" y=\"55.061451\"/>\r\n     <use style=\"fill:#4c72b0;stroke:#4c72b0;\" x=\"304.721154\" xlink:href=\"#md9c97c5fed\" y=\"55.05195\"/>\r\n     <use style=\"fill:#4c72b0;stroke:#4c72b0;\" x=\"305.365496\" xlink:href=\"#md9c97c5fed\" y=\"55.044032\"/>\r\n     <use style=\"fill:#4c72b0;stroke:#4c72b0;\" x=\"306.009838\" xlink:href=\"#md9c97c5fed\" y=\"55.040707\"/>\r\n     <use style=\"fill:#4c72b0;stroke:#4c72b0;\" x=\"306.654179\" xlink:href=\"#md9c97c5fed\" y=\"55.023922\"/>\r\n     <use style=\"fill:#4c72b0;stroke:#4c72b0;\" x=\"307.298521\" xlink:href=\"#md9c97c5fed\" y=\"55.028039\"/>\r\n     <use style=\"fill:#4c72b0;stroke:#4c72b0;\" x=\"307.942863\" xlink:href=\"#md9c97c5fed\" y=\"55.020913\"/>\r\n     <use style=\"fill:#4c72b0;stroke:#4c72b0;\" x=\"308.587205\" xlink:href=\"#md9c97c5fed\" y=\"54.998427\"/>\r\n     <use style=\"fill:#4c72b0;stroke:#4c72b0;\" x=\"309.231547\" xlink:href=\"#md9c97c5fed\" y=\"54.992409\"/>\r\n     <use style=\"fill:#4c72b0;stroke:#4c72b0;\" x=\"309.875888\" xlink:href=\"#md9c97c5fed\" y=\"54.997952\"/>\r\n     <use style=\"fill:#4c72b0;stroke:#4c72b0;\" x=\"310.52023\" xlink:href=\"#md9c97c5fed\" y=\"54.996685\"/>\r\n     <use style=\"fill:#4c72b0;stroke:#4c72b0;\" x=\"311.164572\" xlink:href=\"#md9c97c5fed\" y=\"54.991934\"/>\r\n     <use style=\"fill:#4c72b0;stroke:#4c72b0;\" x=\"311.808914\" xlink:href=\"#md9c97c5fed\" y=\"54.985917\"/>\r\n     <use style=\"fill:#4c72b0;stroke:#4c72b0;\" x=\"312.453256\" xlink:href=\"#md9c97c5fed\" y=\"54.972298\"/>\r\n     <use style=\"fill:#4c72b0;stroke:#4c72b0;\" x=\"313.097597\" xlink:href=\"#md9c97c5fed\" y=\"54.958838\"/>\r\n     <use style=\"fill:#4c72b0;stroke:#4c72b0;\" x=\"313.741939\" xlink:href=\"#md9c97c5fed\" y=\"54.930493\"/>\r\n     <use style=\"fill:#4c72b0;stroke:#4c72b0;\" x=\"314.386281\" xlink:href=\"#md9c97c5fed\" y=\"54.929068\"/>\r\n     <use style=\"fill:#4c72b0;stroke:#4c72b0;\" x=\"315.030623\" xlink:href=\"#md9c97c5fed\" y=\"54.935402\"/>\r\n     <use style=\"fill:#4c72b0;stroke:#4c72b0;\" x=\"315.674965\" xlink:href=\"#md9c97c5fed\" y=\"54.938569\"/>\r\n     <use style=\"fill:#4c72b0;stroke:#4c72b0;\" x=\"316.319306\" xlink:href=\"#md9c97c5fed\" y=\"54.954721\"/>\r\n     <use style=\"fill:#4c72b0;stroke:#4c72b0;\" x=\"316.963648\" xlink:href=\"#md9c97c5fed\" y=\"54.94237\"/>\r\n     <use style=\"fill:#4c72b0;stroke:#4c72b0;\" x=\"317.60799\" xlink:href=\"#md9c97c5fed\" y=\"54.920042\"/>\r\n     <use style=\"fill:#4c72b0;stroke:#4c72b0;\" x=\"318.252332\" xlink:href=\"#md9c97c5fed\" y=\"54.929226\"/>\r\n     <use style=\"fill:#4c72b0;stroke:#4c72b0;\" x=\"318.896674\" xlink:href=\"#md9c97c5fed\" y=\"54.926534\"/>\r\n     <use style=\"fill:#4c72b0;stroke:#4c72b0;\" x=\"319.541015\" xlink:href=\"#md9c97c5fed\" y=\"54.920834\"/>\r\n     <use style=\"fill:#4c72b0;stroke:#4c72b0;\" x=\"320.185357\" xlink:href=\"#md9c97c5fed\" y=\"54.925743\"/>\r\n     <use style=\"fill:#4c72b0;stroke:#4c72b0;\" x=\"320.829699\" xlink:href=\"#md9c97c5fed\" y=\"54.927643\"/>\r\n     <use style=\"fill:#4c72b0;stroke:#4c72b0;\" x=\"321.474041\" xlink:href=\"#md9c97c5fed\" y=\"54.9221\"/>\r\n     <use style=\"fill:#4c72b0;stroke:#4c72b0;\" x=\"322.118383\" xlink:href=\"#md9c97c5fed\" y=\"54.916875\"/>\r\n     <use style=\"fill:#4c72b0;stroke:#4c72b0;\" x=\"322.762724\" xlink:href=\"#md9c97c5fed\" y=\"54.927326\"/>\r\n     <use style=\"fill:#4c72b0;stroke:#4c72b0;\" x=\"323.407066\" xlink:href=\"#md9c97c5fed\" y=\"54.9202\"/>\r\n     <use style=\"fill:#4c72b0;stroke:#4c72b0;\" x=\"324.051408\" xlink:href=\"#md9c97c5fed\" y=\"54.920359\"/>\r\n    </g>\r\n   </g>\r\n   <g id=\"line2d_18\">\r\n    <path clip-path=\"url(#p9e56c63f23)\" d=\"M 66.314688 55.425988 \r\nL 78.557182 55.266067 \r\nL 95.95441 55.291128 \r\nL 153.300831 55.534258 \r\nL 186.162263 55.33656 \r\nL 240.931316 55.000549 \r\nL 282.169191 55.034274 \r\nL 313.741939 54.981439 \r\nL 332.427851 54.737745 \r\nL 348.536397 54.308219 \r\nL 362.711916 53.715486 \r\nL 376.243094 52.936708 \r\nL 389.774272 51.942038 \r\nL 404.594133 50.621201 \r\nL 422.635704 48.769534 \r\nL 450.342401 45.903307 \r\nL 460.65187 45.065656 \r\nL 469.028313 44.588611 \r\nL 476.116073 44.384118 \r\nL 482.559491 44.400924 \r\nL 488.358567 44.616931 \r\nL 494.157644 45.058343 \r\nL 499.312378 45.669898 \r\nL 504.467112 46.517207 \r\nL 508.977505 47.475972 \r\nL 513.487898 48.660543 \r\nL 517.99829 50.09427 \r\nL 521.864341 51.540259 \r\nL 525.730392 53.204028 \r\nL 529.596443 55.102944 \r\nL 533.462494 57.255243 \r\nL 537.328544 59.680066 \r\nL 541.194595 62.397477 \r\nL 545.060646 65.428494 \r\nL 548.926697 68.795118 \r\nL 552.148406 71.873573 \r\nL 555.370115 75.214912 \r\nL 558.591824 78.833512 \r\nL 561.813533 82.74427 \r\nL 565.035242 86.962621 \r\nL 568.256951 91.504545 \r\nL 571.47866 96.38658 \r\nL 574.700369 101.625838 \r\nL 577.922078 107.24001 \r\nL 581.143787 113.247384 \r\nL 584.365496 119.666856 \r\nL 587.587205 126.517941 \r\nL 590.808914 133.820788 \r\nL 594.030623 141.596192 \r\nL 597.252332 149.865605 \r\nL 600.474041 158.651152 \r\nL 604.340092 169.90727 \r\nL 608.206142 181.980248 \r\nL 612.072193 194.912312 \r\nL 615.938244 208.747202 \r\nL 619.804295 223.530209 \r\nL 623.670346 239.308206 \r\nL 624.314688 242.037989 \r\nL 624.314688 242.037989 \r\n\" style=\"fill:none;stroke:#000000;stroke-linecap:round;stroke-width:1.5;\"/>\r\n   </g>\r\n   <g id=\"patch_3\">\r\n    <path d=\"M 38.414687 251.921625 \r\nL 38.414687 34.481625 \r\n\" style=\"fill:none;stroke:#ffffff;stroke-linecap:square;stroke-linejoin:miter;stroke-width:1.25;\"/>\r\n   </g>\r\n   <g id=\"patch_4\">\r\n    <path d=\"M 652.214688 251.921625 \r\nL 652.214688 34.481625 \r\n\" style=\"fill:none;stroke:#ffffff;stroke-linecap:square;stroke-linejoin:miter;stroke-width:1.25;\"/>\r\n   </g>\r\n   <g id=\"patch_5\">\r\n    <path d=\"M 38.414688 251.921625 \r\nL 652.214687 251.921625 \r\n\" style=\"fill:none;stroke:#ffffff;stroke-linecap:square;stroke-linejoin:miter;stroke-width:1.25;\"/>\r\n   </g>\r\n   <g id=\"patch_6\">\r\n    <path d=\"M 38.414688 34.481625 \r\nL 652.214687 34.481625 \r\n\" style=\"fill:none;stroke:#ffffff;stroke-linecap:square;stroke-linejoin:miter;stroke-width:1.25;\"/>\r\n   </g>\r\n   <g id=\"text_19\">\r\n    <!-- Prediction curve of Deaths in Occitanie -->\r\n    <g style=\"fill:#262626;\" transform=\"translate(241.9375 15.789375)scale(0.12 -0.12)\">\r\n     <defs>\r\n      <path d=\"M 7.71875 0 \r\nL 7.71875 71.578125 \r\nL 34.71875 71.578125 \r\nQ 41.84375 71.578125 45.609375 70.90625 \r\nQ 50.875 70.015625 54.4375 67.546875 \r\nQ 58.015625 65.09375 60.1875 60.640625 \r\nQ 62.359375 56.203125 62.359375 50.875 \r\nQ 62.359375 41.75 56.546875 35.421875 \r\nQ 50.734375 29.109375 35.546875 29.109375 \r\nL 17.1875 29.109375 \r\nL 17.1875 0 \r\nz\r\nM 17.1875 37.546875 \r\nL 35.6875 37.546875 \r\nQ 44.875 37.546875 48.734375 40.96875 \r\nQ 52.59375 44.390625 52.59375 50.59375 \r\nQ 52.59375 55.078125 50.3125 58.265625 \r\nQ 48.046875 61.46875 44.34375 62.5 \r\nQ 41.9375 63.140625 35.5 63.140625 \r\nL 17.1875 63.140625 \r\nz\r\n\" id=\"ArialMT-80\"/>\r\n      <path d=\"M 6.5 0 \r\nL 6.5 51.859375 \r\nL 14.40625 51.859375 \r\nL 14.40625 44 \r\nQ 17.4375 49.515625 20 51.265625 \r\nQ 22.5625 53.03125 25.640625 53.03125 \r\nQ 30.078125 53.03125 34.671875 50.203125 \r\nL 31.640625 42.046875 \r\nQ 28.421875 43.953125 25.203125 43.953125 \r\nQ 22.3125 43.953125 20.015625 42.21875 \r\nQ 17.71875 40.484375 16.75 37.40625 \r\nQ 15.28125 32.71875 15.28125 27.15625 \r\nL 15.28125 0 \r\nz\r\n\" id=\"ArialMT-114\"/>\r\n      <path d=\"M 40.234375 0 \r\nL 40.234375 6.546875 \r\nQ 35.296875 -1.171875 25.734375 -1.171875 \r\nQ 19.53125 -1.171875 14.328125 2.25 \r\nQ 9.125 5.671875 6.265625 11.796875 \r\nQ 3.421875 17.921875 3.421875 25.875 \r\nQ 3.421875 33.640625 6 39.96875 \r\nQ 8.59375 46.296875 13.765625 49.65625 \r\nQ 18.953125 53.03125 25.34375 53.03125 \r\nQ 30.03125 53.03125 33.6875 51.046875 \r\nQ 37.359375 49.078125 39.65625 45.90625 \r\nL 39.65625 71.578125 \r\nL 48.390625 71.578125 \r\nL 48.390625 0 \r\nz\r\nM 12.453125 25.875 \r\nQ 12.453125 15.921875 16.640625 10.984375 \r\nQ 20.84375 6.0625 26.5625 6.0625 \r\nQ 32.328125 6.0625 36.34375 10.765625 \r\nQ 40.375 15.484375 40.375 25.140625 \r\nQ 40.375 35.796875 36.265625 40.765625 \r\nQ 32.171875 45.75 26.171875 45.75 \r\nQ 20.3125 45.75 16.375 40.96875 \r\nQ 12.453125 36.1875 12.453125 25.875 \r\nz\r\n\" id=\"ArialMT-100\"/>\r\n      <path d=\"M 6.640625 61.46875 \r\nL 6.640625 71.578125 \r\nL 15.4375 71.578125 \r\nL 15.4375 61.46875 \r\nz\r\nM 6.640625 0 \r\nL 6.640625 51.859375 \r\nL 15.4375 51.859375 \r\nL 15.4375 0 \r\nz\r\n\" id=\"ArialMT-105\"/>\r\n      <path d=\"M 40.4375 19 \r\nL 49.078125 17.875 \r\nQ 47.65625 8.9375 41.8125 3.875 \r\nQ 35.984375 -1.171875 27.484375 -1.171875 \r\nQ 16.84375 -1.171875 10.375 5.78125 \r\nQ 3.90625 12.75 3.90625 25.734375 \r\nQ 3.90625 34.125 6.6875 40.421875 \r\nQ 9.46875 46.734375 15.15625 49.875 \r\nQ 20.84375 53.03125 27.546875 53.03125 \r\nQ 35.984375 53.03125 41.359375 48.75 \r\nQ 46.734375 44.484375 48.25 36.625 \r\nL 39.703125 35.296875 \r\nQ 38.484375 40.53125 35.375 43.15625 \r\nQ 32.28125 45.796875 27.875 45.796875 \r\nQ 21.234375 45.796875 17.078125 41.03125 \r\nQ 12.9375 36.28125 12.9375 25.984375 \r\nQ 12.9375 15.53125 16.9375 10.796875 \r\nQ 20.953125 6.0625 27.390625 6.0625 \r\nQ 32.5625 6.0625 36.03125 9.234375 \r\nQ 39.5 12.40625 40.4375 19 \r\nz\r\n\" id=\"ArialMT-99\"/>\r\n      <path d=\"M 25.78125 7.859375 \r\nL 27.046875 0.09375 \r\nQ 23.34375 -0.6875 20.40625 -0.6875 \r\nQ 15.625 -0.6875 12.984375 0.828125 \r\nQ 10.359375 2.34375 9.28125 4.8125 \r\nQ 8.203125 7.28125 8.203125 15.1875 \r\nL 8.203125 45.015625 \r\nL 1.765625 45.015625 \r\nL 1.765625 51.859375 \r\nL 8.203125 51.859375 \r\nL 8.203125 64.703125 \r\nL 16.9375 69.96875 \r\nL 16.9375 51.859375 \r\nL 25.78125 51.859375 \r\nL 25.78125 45.015625 \r\nL 16.9375 45.015625 \r\nL 16.9375 14.703125 \r\nQ 16.9375 10.9375 17.40625 9.859375 \r\nQ 17.875 8.796875 18.921875 8.15625 \r\nQ 19.96875 7.515625 21.921875 7.515625 \r\nQ 23.390625 7.515625 25.78125 7.859375 \r\nz\r\n\" id=\"ArialMT-116\"/>\r\n      <path d=\"M 3.328125 25.921875 \r\nQ 3.328125 40.328125 11.328125 47.265625 \r\nQ 18.015625 53.03125 27.640625 53.03125 \r\nQ 38.328125 53.03125 45.109375 46.015625 \r\nQ 51.90625 39.015625 51.90625 26.65625 \r\nQ 51.90625 16.65625 48.90625 10.90625 \r\nQ 45.90625 5.171875 40.15625 2 \r\nQ 34.421875 -1.171875 27.640625 -1.171875 \r\nQ 16.75 -1.171875 10.03125 5.8125 \r\nQ 3.328125 12.796875 3.328125 25.921875 \r\nz\r\nM 12.359375 25.921875 \r\nQ 12.359375 15.96875 16.703125 11.015625 \r\nQ 21.046875 6.0625 27.640625 6.0625 \r\nQ 34.1875 6.0625 38.53125 11.03125 \r\nQ 42.875 16.015625 42.875 26.21875 \r\nQ 42.875 35.84375 38.5 40.796875 \r\nQ 34.125 45.75 27.640625 45.75 \r\nQ 21.046875 45.75 16.703125 40.8125 \r\nQ 12.359375 35.890625 12.359375 25.921875 \r\nz\r\n\" id=\"ArialMT-111\"/>\r\n      <path d=\"M 6.59375 0 \r\nL 6.59375 51.859375 \r\nL 14.5 51.859375 \r\nL 14.5 44.484375 \r\nQ 20.21875 53.03125 31 53.03125 \r\nQ 35.6875 53.03125 39.625 51.34375 \r\nQ 43.5625 49.65625 45.515625 46.921875 \r\nQ 47.46875 44.1875 48.25 40.4375 \r\nQ 48.734375 37.984375 48.734375 31.890625 \r\nL 48.734375 0 \r\nL 39.9375 0 \r\nL 39.9375 31.546875 \r\nQ 39.9375 36.921875 38.90625 39.578125 \r\nQ 37.890625 42.234375 35.28125 43.8125 \r\nQ 32.671875 45.40625 29.15625 45.40625 \r\nQ 23.53125 45.40625 19.453125 41.84375 \r\nQ 15.375 38.28125 15.375 28.328125 \r\nL 15.375 0 \r\nz\r\n\" id=\"ArialMT-110\"/>\r\n      <path id=\"ArialMT-32\"/>\r\n      <path d=\"M 40.578125 0 \r\nL 40.578125 7.625 \r\nQ 34.515625 -1.171875 24.125 -1.171875 \r\nQ 19.53125 -1.171875 15.546875 0.578125 \r\nQ 11.578125 2.34375 9.640625 5 \r\nQ 7.71875 7.671875 6.9375 11.53125 \r\nQ 6.390625 14.109375 6.390625 19.734375 \r\nL 6.390625 51.859375 \r\nL 15.1875 51.859375 \r\nL 15.1875 23.09375 \r\nQ 15.1875 16.21875 15.71875 13.8125 \r\nQ 16.546875 10.359375 19.234375 8.375 \r\nQ 21.921875 6.390625 25.875 6.390625 \r\nQ 29.828125 6.390625 33.296875 8.421875 \r\nQ 36.765625 10.453125 38.203125 13.9375 \r\nQ 39.65625 17.4375 39.65625 24.078125 \r\nL 39.65625 51.859375 \r\nL 48.4375 51.859375 \r\nL 48.4375 0 \r\nz\r\n\" id=\"ArialMT-117\"/>\r\n      <path d=\"M 21 0 \r\nL 1.265625 51.859375 \r\nL 10.546875 51.859375 \r\nL 21.6875 20.796875 \r\nQ 23.484375 15.765625 25 10.359375 \r\nQ 26.171875 14.453125 28.265625 20.21875 \r\nL 39.796875 51.859375 \r\nL 48.828125 51.859375 \r\nL 29.203125 0 \r\nz\r\n\" id=\"ArialMT-118\"/>\r\n      <path d=\"M 8.6875 0 \r\nL 8.6875 45.015625 \r\nL 0.921875 45.015625 \r\nL 0.921875 51.859375 \r\nL 8.6875 51.859375 \r\nL 8.6875 57.375 \r\nQ 8.6875 62.59375 9.625 65.140625 \r\nQ 10.890625 68.5625 14.078125 70.671875 \r\nQ 17.28125 72.796875 23.046875 72.796875 \r\nQ 26.765625 72.796875 31.25 71.921875 \r\nL 29.9375 64.265625 \r\nQ 27.203125 64.75 24.75 64.75 \r\nQ 20.75 64.75 19.09375 63.03125 \r\nQ 17.4375 61.328125 17.4375 56.640625 \r\nL 17.4375 51.859375 \r\nL 27.546875 51.859375 \r\nL 27.546875 45.015625 \r\nL 17.4375 45.015625 \r\nL 17.4375 0 \r\nz\r\n\" id=\"ArialMT-102\"/>\r\n      <path d=\"M 7.71875 0 \r\nL 7.71875 71.578125 \r\nL 32.375 71.578125 \r\nQ 40.71875 71.578125 45.125 70.5625 \r\nQ 51.265625 69.140625 55.609375 65.4375 \r\nQ 61.28125 60.640625 64.078125 53.1875 \r\nQ 66.890625 45.75 66.890625 36.1875 \r\nQ 66.890625 28.03125 64.984375 21.734375 \r\nQ 63.09375 15.4375 60.109375 11.296875 \r\nQ 57.125 7.171875 53.578125 4.796875 \r\nQ 50.046875 2.4375 45.046875 1.21875 \r\nQ 40.046875 0 33.546875 0 \r\nz\r\nM 17.1875 8.453125 \r\nL 32.46875 8.453125 \r\nQ 39.546875 8.453125 43.578125 9.765625 \r\nQ 47.609375 11.078125 50 13.484375 \r\nQ 53.375 16.84375 55.25 22.53125 \r\nQ 57.125 28.21875 57.125 36.328125 \r\nQ 57.125 47.5625 53.4375 53.59375 \r\nQ 49.75 59.625 44.484375 61.671875 \r\nQ 40.671875 63.140625 32.234375 63.140625 \r\nL 17.1875 63.140625 \r\nz\r\n\" id=\"ArialMT-68\"/>\r\n      <path d=\"M 40.4375 6.390625 \r\nQ 35.546875 2.25 31.03125 0.53125 \r\nQ 26.515625 -1.171875 21.34375 -1.171875 \r\nQ 12.796875 -1.171875 8.203125 3 \r\nQ 3.609375 7.171875 3.609375 13.671875 \r\nQ 3.609375 17.484375 5.34375 20.625 \r\nQ 7.078125 23.78125 9.890625 25.6875 \r\nQ 12.703125 27.59375 16.21875 28.5625 \r\nQ 18.796875 29.25 24.03125 29.890625 \r\nQ 34.671875 31.15625 39.703125 32.90625 \r\nQ 39.75 34.71875 39.75 35.203125 \r\nQ 39.75 40.578125 37.25 42.78125 \r\nQ 33.890625 45.75 27.25 45.75 \r\nQ 21.046875 45.75 18.09375 43.578125 \r\nQ 15.140625 41.40625 13.71875 35.890625 \r\nL 5.125 37.0625 \r\nQ 6.296875 42.578125 8.984375 45.96875 \r\nQ 11.671875 49.359375 16.75 51.1875 \r\nQ 21.828125 53.03125 28.515625 53.03125 \r\nQ 35.15625 53.03125 39.296875 51.46875 \r\nQ 43.453125 49.90625 45.40625 47.53125 \r\nQ 47.359375 45.171875 48.140625 41.546875 \r\nQ 48.578125 39.3125 48.578125 33.453125 \r\nL 48.578125 21.734375 \r\nQ 48.578125 9.46875 49.140625 6.21875 \r\nQ 49.703125 2.984375 51.375 0 \r\nL 42.1875 0 \r\nQ 40.828125 2.734375 40.4375 6.390625 \r\nz\r\nM 39.703125 26.03125 \r\nQ 34.90625 24.078125 25.34375 22.703125 \r\nQ 19.921875 21.921875 17.671875 20.9375 \r\nQ 15.4375 19.96875 14.203125 18.09375 \r\nQ 12.984375 16.21875 12.984375 13.921875 \r\nQ 12.984375 10.40625 15.640625 8.0625 \r\nQ 18.3125 5.71875 23.4375 5.71875 \r\nQ 28.515625 5.71875 32.46875 7.9375 \r\nQ 36.421875 10.15625 38.28125 14.015625 \r\nQ 39.703125 17 39.703125 22.796875 \r\nz\r\n\" id=\"ArialMT-97\"/>\r\n      <path d=\"M 6.59375 0 \r\nL 6.59375 71.578125 \r\nL 15.375 71.578125 \r\nL 15.375 45.90625 \r\nQ 21.53125 53.03125 30.90625 53.03125 \r\nQ 36.671875 53.03125 40.921875 50.75 \r\nQ 45.171875 48.484375 47 44.484375 \r\nQ 48.828125 40.484375 48.828125 32.859375 \r\nL 48.828125 0 \r\nL 40.046875 0 \r\nL 40.046875 32.859375 \r\nQ 40.046875 39.453125 37.1875 42.453125 \r\nQ 34.328125 45.453125 29.109375 45.453125 \r\nQ 25.203125 45.453125 21.75 43.421875 \r\nQ 18.3125 41.40625 16.84375 37.9375 \r\nQ 15.375 34.46875 15.375 28.375 \r\nL 15.375 0 \r\nz\r\n\" id=\"ArialMT-104\"/>\r\n      <path d=\"M 3.078125 15.484375 \r\nL 11.765625 16.84375 \r\nQ 12.5 11.625 15.84375 8.84375 \r\nQ 19.1875 6.0625 25.203125 6.0625 \r\nQ 31.25 6.0625 34.171875 8.515625 \r\nQ 37.109375 10.984375 37.109375 14.3125 \r\nQ 37.109375 17.28125 34.515625 19 \r\nQ 32.71875 20.171875 25.53125 21.96875 \r\nQ 15.875 24.421875 12.140625 26.203125 \r\nQ 8.40625 27.984375 6.46875 31.125 \r\nQ 4.546875 34.28125 4.546875 38.09375 \r\nQ 4.546875 41.546875 6.125 44.5 \r\nQ 7.71875 47.46875 10.453125 49.421875 \r\nQ 12.5 50.921875 16.03125 51.96875 \r\nQ 19.578125 53.03125 23.640625 53.03125 \r\nQ 29.734375 53.03125 34.34375 51.265625 \r\nQ 38.96875 49.515625 41.15625 46.5 \r\nQ 43.359375 43.5 44.1875 38.484375 \r\nL 35.59375 37.3125 \r\nQ 35.015625 41.3125 32.203125 43.546875 \r\nQ 29.390625 45.796875 24.265625 45.796875 \r\nQ 18.21875 45.796875 15.625 43.796875 \r\nQ 13.03125 41.796875 13.03125 39.109375 \r\nQ 13.03125 37.40625 14.109375 36.03125 \r\nQ 15.1875 34.625 17.484375 33.6875 \r\nQ 18.796875 33.203125 25.25 31.453125 \r\nQ 34.578125 28.953125 38.25 27.359375 \r\nQ 41.9375 25.78125 44.03125 22.75 \r\nQ 46.140625 19.734375 46.140625 15.234375 \r\nQ 46.140625 10.84375 43.578125 6.953125 \r\nQ 41.015625 3.078125 36.171875 0.953125 \r\nQ 31.34375 -1.171875 25.25 -1.171875 \r\nQ 15.140625 -1.171875 9.84375 3.03125 \r\nQ 4.546875 7.234375 3.078125 15.484375 \r\nz\r\n\" id=\"ArialMT-115\"/>\r\n      <path d=\"M 4.828125 34.859375 \r\nQ 4.828125 52.6875 14.390625 62.765625 \r\nQ 23.96875 72.859375 39.109375 72.859375 \r\nQ 49.03125 72.859375 56.984375 68.109375 \r\nQ 64.9375 63.375 69.109375 54.90625 \r\nQ 73.296875 46.4375 73.296875 35.6875 \r\nQ 73.296875 24.8125 68.890625 16.21875 \r\nQ 64.5 7.625 56.4375 3.203125 \r\nQ 48.390625 -1.21875 39.0625 -1.21875 \r\nQ 28.953125 -1.21875 20.984375 3.65625 \r\nQ 13.03125 8.546875 8.921875 16.984375 \r\nQ 4.828125 25.4375 4.828125 34.859375 \r\nz\r\nM 14.59375 34.71875 \r\nQ 14.59375 21.78125 21.546875 14.328125 \r\nQ 28.515625 6.890625 39.015625 6.890625 \r\nQ 49.703125 6.890625 56.609375 14.40625 \r\nQ 63.53125 21.921875 63.53125 35.75 \r\nQ 63.53125 44.484375 60.578125 51 \r\nQ 57.625 57.515625 51.921875 61.109375 \r\nQ 46.234375 64.703125 39.15625 64.703125 \r\nQ 29.109375 64.703125 21.84375 57.78125 \r\nQ 14.59375 50.875 14.59375 34.71875 \r\nz\r\n\" id=\"ArialMT-79\"/>\r\n     </defs>\r\n     <use xlink:href=\"#ArialMT-80\"/>\r\n     <use x=\"66.699219\" xlink:href=\"#ArialMT-114\"/>\r\n     <use x=\"100\" xlink:href=\"#ArialMT-101\"/>\r\n     <use x=\"155.615234\" xlink:href=\"#ArialMT-100\"/>\r\n     <use x=\"211.230469\" xlink:href=\"#ArialMT-105\"/>\r\n     <use x=\"233.447266\" xlink:href=\"#ArialMT-99\"/>\r\n     <use x=\"283.447266\" xlink:href=\"#ArialMT-116\"/>\r\n     <use x=\"311.230469\" xlink:href=\"#ArialMT-105\"/>\r\n     <use x=\"333.447266\" xlink:href=\"#ArialMT-111\"/>\r\n     <use x=\"389.0625\" xlink:href=\"#ArialMT-110\"/>\r\n     <use x=\"444.677734\" xlink:href=\"#ArialMT-32\"/>\r\n     <use x=\"472.460938\" xlink:href=\"#ArialMT-99\"/>\r\n     <use x=\"522.460938\" xlink:href=\"#ArialMT-117\"/>\r\n     <use x=\"578.076172\" xlink:href=\"#ArialMT-114\"/>\r\n     <use x=\"611.376953\" xlink:href=\"#ArialMT-118\"/>\r\n     <use x=\"661.376953\" xlink:href=\"#ArialMT-101\"/>\r\n     <use x=\"716.992188\" xlink:href=\"#ArialMT-32\"/>\r\n     <use x=\"744.775391\" xlink:href=\"#ArialMT-111\"/>\r\n     <use x=\"800.390625\" xlink:href=\"#ArialMT-102\"/>\r\n     <use x=\"828.173828\" xlink:href=\"#ArialMT-32\"/>\r\n     <use x=\"855.957031\" xlink:href=\"#ArialMT-68\"/>\r\n     <use x=\"928.173828\" xlink:href=\"#ArialMT-101\"/>\r\n     <use x=\"983.789062\" xlink:href=\"#ArialMT-97\"/>\r\n     <use x=\"1039.404297\" xlink:href=\"#ArialMT-116\"/>\r\n     <use x=\"1067.1875\" xlink:href=\"#ArialMT-104\"/>\r\n     <use x=\"1122.802734\" xlink:href=\"#ArialMT-115\"/>\r\n     <use x=\"1172.802734\" xlink:href=\"#ArialMT-32\"/>\r\n     <use x=\"1200.585938\" xlink:href=\"#ArialMT-105\"/>\r\n     <use x=\"1222.802734\" xlink:href=\"#ArialMT-110\"/>\r\n     <use x=\"1278.417969\" xlink:href=\"#ArialMT-32\"/>\r\n     <use x=\"1306.201172\" xlink:href=\"#ArialMT-79\"/>\r\n     <use x=\"1383.984375\" xlink:href=\"#ArialMT-99\"/>\r\n     <use x=\"1433.984375\" xlink:href=\"#ArialMT-99\"/>\r\n     <use x=\"1483.984375\" xlink:href=\"#ArialMT-105\"/>\r\n     <use x=\"1506.201172\" xlink:href=\"#ArialMT-116\"/>\r\n     <use x=\"1533.984375\" xlink:href=\"#ArialMT-97\"/>\r\n     <use x=\"1589.599609\" xlink:href=\"#ArialMT-110\"/>\r\n     <use x=\"1645.214844\" xlink:href=\"#ArialMT-105\"/>\r\n     <use x=\"1667.431641\" xlink:href=\"#ArialMT-101\"/>\r\n    </g>\r\n    <!--  until 2022-08-01 -->\r\n    <g style=\"fill:#262626;\" transform=\"translate(300.286563 28.481625)scale(0.12 -0.12)\">\r\n     <defs>\r\n      <path d=\"M 6.390625 0 \r\nL 6.390625 71.578125 \r\nL 15.1875 71.578125 \r\nL 15.1875 0 \r\nz\r\n\" id=\"ArialMT-108\"/>\r\n     </defs>\r\n     <use xlink:href=\"#ArialMT-32\"/>\r\n     <use x=\"27.783203\" xlink:href=\"#ArialMT-117\"/>\r\n     <use x=\"83.398438\" xlink:href=\"#ArialMT-110\"/>\r\n     <use x=\"139.013672\" xlink:href=\"#ArialMT-116\"/>\r\n     <use x=\"166.796875\" xlink:href=\"#ArialMT-105\"/>\r\n     <use x=\"189.013672\" xlink:href=\"#ArialMT-108\"/>\r\n     <use x=\"211.230469\" xlink:href=\"#ArialMT-32\"/>\r\n     <use x=\"239.013672\" xlink:href=\"#ArialMT-50\"/>\r\n     <use x=\"294.628906\" xlink:href=\"#ArialMT-48\"/>\r\n     <use x=\"350.244141\" xlink:href=\"#ArialMT-50\"/>\r\n     <use x=\"405.859375\" xlink:href=\"#ArialMT-50\"/>\r\n     <use x=\"461.474609\" xlink:href=\"#ArialMT-45\"/>\r\n     <use x=\"494.775391\" xlink:href=\"#ArialMT-48\"/>\r\n     <use x=\"550.390625\" xlink:href=\"#ArialMT-56\"/>\r\n     <use x=\"606.005859\" xlink:href=\"#ArialMT-45\"/>\r\n     <use x=\"639.306641\" xlink:href=\"#ArialMT-48\"/>\r\n     <use x=\"694.921875\" xlink:href=\"#ArialMT-49\"/>\r\n    </g>\r\n   </g>\r\n  </g>\r\n </g>\r\n <defs>\r\n  <clipPath id=\"p9e56c63f23\">\r\n   <rect height=\"217.44\" width=\"613.8\" x=\"38.414687\" y=\"34.481625\"/>\r\n  </clipPath>\r\n </defs>\r\n</svg>\r\n",
      "image/png": "[encoded data removed]"
     },
     "metadata": {}
    }
   ],
   "source": [
    "#Prediction\n",
    "prediction.predict_curve(7, 76, '2022-08-01')"
   ]
  },
  {
   "cell_type": "code",
   "execution_count": 37,
   "metadata": {},
   "outputs": [
    {
     "output_type": "stream",
     "name": "stderr",
     "text": [
      "c:\\users\\quenf\\vizcovidfr\\vizcovidfr\\prediction\\prediction.py:289: FutureWarning:\n\nSupport for multi-dimensional indexing (e.g. `obj[:, None]`) is deprecated and will be removed in a future version.  Convert to a numpy array before indexing instead.\n\n"
     ]
    },
    {
     "output_type": "execute_result",
     "data": {
      "text/plain": [
       "'The cumulative number of Deaths in Occitanie on 2022-08-01 will be -1195328.'"
      ]
     },
     "metadata": {},
     "execution_count": 37
    }
   ],
   "source": [
    "prediction.predict_value(7, 76, '2022-08-01')"
   ]
  },
  {
   "cell_type": "code",
   "execution_count": null,
   "metadata": {},
   "outputs": [],
   "source": []
  }
 ]
}